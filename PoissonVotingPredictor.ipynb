{
 "cells": [
  {
   "cell_type": "code",
   "execution_count": 208,
   "metadata": {},
   "outputs": [],
   "source": [
    "import pandas as pd\n",
    "import plotly.express as px\n",
    "import numpy as np\n",
    "from sklearn.model_selection import train_test_split\n",
    "from sklearn.linear_model import LinearRegression\n",
    "from scipy.stats import poisson \n",
    "import math\n",
    "import plotly.express as px\n",
    "from plotly.subplots import make_subplots\n",
    "import plotly.graph_objects as go\n",
    "from sklearn import preprocessing\n",
    "from pretty_html_table import build_table\n",
    "\n",
    "def sum_of_lower_upper(mat):\n",
    "    r = len(mat)\n",
    "    c = len(mat[0])\n",
    "    diag = np.trace(mat)\n",
    "    lower_sum = 0\n",
    "    upper_sum = 0\n",
    "    over_sum = 0\n",
    "    under_sum = 0\n",
    "    gg_sum = 0\n",
    "    ng_sum = 0 \n",
    "\n",
    "    for i in range(r):\n",
    "        for j in range(c):\n",
    "            if (i<j):\n",
    "                upper_sum += mat[i][j]\n",
    "\n",
    "    for i in range(r):\n",
    "        for j in range(c):\n",
    "            if (j<i):\n",
    "                lower_sum += mat[i][j]\n",
    "    \n",
    "    for i in range(r):\n",
    "        for j in range(c):\n",
    "            if (i+j>=3):\n",
    "                over_sum += mat[i][j]\n",
    "            else:\n",
    "                under_sum += mat[i][j]\n",
    "    \n",
    "    for i in range(r):\n",
    "        for j in range(c):\n",
    "            if (i==0) or (j==0):\n",
    "                ng_sum += mat[i][j]\n",
    "            else:\n",
    "                gg_sum += mat[i][j]\n",
    "\n",
    "    return (upper_sum, lower_sum, diag, over_sum, under_sum, ng_sum, gg_sum)\n"
   ]
  },
  {
   "attachments": {},
   "cell_type": "markdown",
   "metadata": {},
   "source": [
    "## Gathering Lamda from season long performance"
   ]
  },
  {
   "cell_type": "code",
   "execution_count": 209,
   "metadata": {},
   "outputs": [
    {
     "name": "stdout",
     "output_type": "stream",
     "text": [
      "2051\n"
     ]
    }
   ],
   "source": [
    "df1 = pd.read_csv('GatheredData/Full20xxFiles/Full2017.csv')\n",
    "df2 = pd.read_csv('GatheredData/Full20xxFiles/Full2018.csv')\n",
    "df3 = pd.read_csv('GatheredData/Full20xxFiles/Full2019.csv')\n",
    "df4 = pd.read_csv('GatheredData/Full20xxFiles/Full2020.csv')\n",
    "df5 = pd.read_csv('GatheredData/Full20xxFiles/Full2021.csv')\n",
    "df6 = pd.read_csv('GatheredData/Full20xxFiles/Full2022.csv')\n",
    "PRED = pd.read_csv('UpcomingFixtures/Prediction.csv')\n",
    "pred = PRED.copy()\n",
    "#Keeping bookmakers odds\n",
    "Odds = PRED.copy()\n",
    "Odds = PRED[['HTeam', 'ATeam','B365H', 'B365D', 'B365A', 'BbAv>2.5', 'BbAv<2.5', 'GG', 'NG']]\n",
    "\n",
    "df1 = df1[['Date_x', 'HxG', 'HM', 'HTeam', 'ATeam', 'HG', 'HGA', 'HxGA', 'HDC', 'HODC', 'HPPDA', 'HOPPDA', 'HPTS/M', 'AM', 'AG', 'AGA', 'AxG', 'AxGA', 'ADC', 'AODC', 'APPDA', 'AOPPDA', 'APTS/M', 'Result', 'B365H', 'B365D', 'B365A', 'BbAv>2.5', 'BbAv<2.5']]\n",
    "df2 = df2[['Date_x', 'HxG', 'HM', 'HTeam', 'ATeam', 'HG', 'HGA', 'HxGA', 'HDC', 'HODC', 'HPPDA', 'HOPPDA', 'HPTS/M', 'AM', 'AG', 'AGA', 'AxG', 'AxGA', 'ADC', 'AODC', 'APPDA', 'AOPPDA', 'APTS/M', 'Result', 'B365H', 'B365D', 'B365A', 'BbAv>2.5', 'BbAv<2.5']]\n",
    "df3 = df3[['Date_x', 'HxG', 'HM', 'HTeam', 'ATeam', 'HG', 'HGA', 'HxGA', 'HDC', 'HODC', 'HPPDA', 'HOPPDA', 'HPTS/M', 'AM', 'AG', 'AGA', 'AxG', 'AxGA', 'ADC', 'AODC', 'APPDA', 'AOPPDA', 'APTS/M', 'Result', 'B365H', 'B365D', 'B365A', 'AvgC>2.5', 'AvgC<2.5']]\n",
    "df3.rename(columns = {'AvgC<2.5':'BbAv<2.5'}, inplace = True)\n",
    "df3.rename(columns = {'AvgC>2.5':'BbAv>2.5'}, inplace = True)\n",
    "df4 = df4[['Date_x', 'HxG', 'HM', 'HTeam', 'ATeam', 'HG', 'HGA', 'HxGA', 'HDC', 'HODC', 'HPPDA', 'HOPPDA', 'HPTS/M', 'AM', 'AG', 'AGA', 'AxG', 'AxGA', 'ADC', 'AODC', 'APPDA', 'AOPPDA', 'APTS/M', 'Result', 'B365H', 'B365D', 'B365A', 'AvgC>2.5', 'AvgC<2.5']]\n",
    "df4.rename(columns = {'AvgC<2.5':'BbAv<2.5'}, inplace = True)\n",
    "df4.rename(columns = {'AvgC>2.5':'BbAv>2.5'}, inplace = True)\n",
    "df5 = df5[['Date_x', 'HxG', 'HM', 'HTeam', 'ATeam', 'HG', 'HGA', 'HxGA', 'HDC', 'HODC', 'HPPDA', 'HOPPDA', 'HPTS/M', 'AM', 'AG', 'AGA', 'AxG', 'AxGA', 'ADC', 'AODC', 'APPDA', 'AOPPDA', 'APTS/M', 'Result', 'B365H', 'B365D', 'B365A', 'AvgC>2.5', 'AvgC<2.5']]\n",
    "df5.rename(columns = {'AvgC<2.5':'BbAv<2.5'}, inplace = True)\n",
    "df5.rename(columns = {'AvgC>2.5':'BbAv>2.5'}, inplace = True)\n",
    "df6 = df6[['Date', 'HxG', 'HM', 'HTeam', 'ATeam', 'HG', 'HGA', 'HxGA', 'HDC', 'HODC', 'HPPDA', 'HOPPDA', 'HPTS/M', 'AM', 'AG', 'AGA', 'AxG', 'AxGA', 'ADC', 'AODC', 'APPDA', 'AOPPDA', 'APTS/M', 'Result', 'B365H', 'B365D', 'B365A', 'BbAv>2.5', 'BbAv<2.5']]\n",
    "\n",
    "df1.rename(columns = {'Date_x':'Date'}, inplace = True)\n",
    "df2.rename(columns = {'Date_x':'Date'}, inplace = True)\n",
    "df3.rename(columns = {'Date_x':'Date'}, inplace = True)\n",
    "df4.rename(columns = {'Date_x':'Date'}, inplace = True)\n",
    "df5.rename(columns = {'Date_x':'Date'}, inplace = True)\n",
    "\n",
    "\n",
    "Season = pd.read_csv('GatheredData/Full20xxFiles/Full2023.csv')\n",
    "Season = Season[['Date', 'HxG', 'HM', 'HTeam', 'ATeam', 'HG', 'HGA', 'HxGA', 'HDC', 'HODC', 'HPPDA', 'HOPPDA', 'HPTS/M', 'AM', 'AG', 'AGA', 'AxG', 'AxGA', 'ADC', 'AODC', 'APPDA', 'AOPPDA', 'APTS/M', 'Result', 'B365H', 'B365D', 'B365A', 'BbAv>2.5', 'BbAv<2.5']]\n",
    "Season = Season.iloc[38:]\n",
    "\n",
    "\n",
    "DF = pd.concat([df1, df2, df3, df4, df5, df6, Season], ignore_index=True)\n",
    "\n",
    "\n",
    "DF = DF[ DF['HM'] != 0] \n",
    "DF = DF[ DF['HM'] != 1] \n",
    "DF = DF[ DF['HM'] != 2] \n",
    "DF = DF[ DF['HM'] != 3]\n",
    "subset = DF[['Date', 'HTeam', 'ATeam']].copy()\n",
    "\n",
    "extra_stats = DF.copy()\n",
    "extra_pred = pred.copy()\n",
    "\n",
    "DF['PTSDIF/M']=DF['HPTS/M']-DF['APTS/M']\n",
    "pred['PTSDIF/M']=pred['HPTS/M']-pred['APTS/M']\n",
    "DF = DF[[ 'HxG', 'HM', 'HG', 'HGA', 'HxGA', 'HDC', 'HODC', 'HPPDA', 'HOPPDA', 'HPTS/M', 'AM', 'AG', 'AGA', 'AxG', 'AxGA', 'ADC', 'AODC', 'APPDA', 'AOPPDA', 'APTS/M', 'PTSDIF/M', 'Result']]\n",
    "pred = pred[[ 'HxG', 'HM', 'HG', 'HGA', 'HxGA', 'HDC', 'HODC', 'HPPDA', 'HOPPDA', 'HPTS/M', 'AM', 'AG', 'AGA', 'AxG', 'AxGA', 'ADC', 'AODC', 'APPDA', 'AOPPDA', 'APTS/M', 'PTSDIF/M', 'Result']]\n",
    "cut = DF.shape[0]\n",
    "print(cut)\n",
    "DF = pd.concat([DF, pred], ignore_index=True)\n",
    "try:\n",
    "    DF['HxG'] = DF['HxG'].div(DF['HM'])\n",
    "    DF['HG'] = DF['HG'].div(DF['HM'])\n",
    "    DF['HGA'] = DF['HGA'].div(DF['HM'])\n",
    "    DF['HxGA'] = DF['HxGA'].div(DF['HM'])\n",
    "    DF['AxG'] = DF['AxG'].div(DF['AM'])\n",
    "    DF['AG'] = DF['AG'].div(DF['AM'])\n",
    "    DF['AxGA'] = DF['AxG'].div(DF['AM'])\n",
    "    DF['AGA'] = DF['AGA'].div(DF['AM'])\n",
    "    pred['HxG'] = pred['HxG'].div(pred['HM'])\n",
    "    pred['HG'] = pred['HG'].div(pred['HM'])\n",
    "    pred['HGA'] = pred['HGA'].div(pred['HM'])\n",
    "    pred['HxGA'] = pred['HxGA'].div(pred['HM'])\n",
    "    pred['AxG'] = pred['AxG'].div(pred['AM'])\n",
    "    pred['AG'] = pred['AG'].div(pred['AM'])\n",
    "    pred['AxGA'] = pred['AxG'].div(pred['AM'])\n",
    "    pred['AGA'] = pred['AGA'].div(pred['AM'])\n",
    "\n",
    "except ZeroDivisionError:\n",
    "    DF['HxG'] = 0\n",
    "    DF['HG'] = 0\n",
    "    DF['HGA'] = 0\n",
    "    DF['HxGA'] = 0\n",
    "    DF['AxG'] = 0\n",
    "    DF['AG'] = 0\n",
    "    DF['AxGA'] = 0\n",
    "    DF['AGA'] = 0\n",
    "\n",
    "HGoals = []\n",
    "AGoals = []\n",
    "    \n",
    "for i, x in DF.iloc[:cut].iterrows():\n",
    "    a=x['Result'].split('\\'')\n",
    "    HGoals.append(a[1])\n",
    "    AGoals.append(a[3])\n",
    "    \n",
    "DF=np.array(DF)\n",
    "DFnorm = preprocessing.normalize(DF[:, 0:21], axis=0)\n",
    "pred = DFnorm[cut:]\n",
    "DF = DFnorm[:cut]\n",
    "\n",
    "x=DF\n",
    "\n",
    "\n",
    "y1=np.array(HGoals)\n",
    "y2=np.array(AGoals)\n",
    "\n",
    "reg1 = LinearRegression().fit(x, y1)\n",
    "reg2 = LinearRegression().fit(x, y2)\n",
    "\n",
    "LamdaHome= reg1.predict(pred)\n",
    "LamdaAway= reg2.predict(pred)"
   ]
  },
  {
   "attachments": {},
   "cell_type": "markdown",
   "metadata": {},
   "source": [
    "## Gathering Lamda from 2 month form performance"
   ]
  },
  {
   "cell_type": "code",
   "execution_count": 210,
   "metadata": {},
   "outputs": [
    {
     "name": "stdout",
     "output_type": "stream",
     "text": [
      "Date           17/09/2021\n",
      "HTeam    Newcastle United\n",
      "ATeam               Leeds\n",
      "Name: 1560, dtype: object\n",
      "Date                     07/02/2021\n",
      "HxG                           12.05\n",
      "HM                               12\n",
      "HTeam       Wolverhampton Wanderers\n",
      "ATeam                     Leicester\n",
      "HG                               12\n",
      "HGA                              20\n",
      "HxGA                          15.48\n",
      "HDC                            3.17\n",
      "HODC                           7.08\n",
      "HPPDA                         15.93\n",
      "HOPPDA                        11.56\n",
      "HPTS/M                         0.75\n",
      "AM                               12\n",
      "AG                               20\n",
      "AGA                              11\n",
      "AxG                           16.59\n",
      "AxGA                          10.23\n",
      "ADC                            7.00\n",
      "AODC                           4.33\n",
      "APPDA                          9.70\n",
      "AOPPDA                        12.24\n",
      "APTS/M                         2.00\n",
      "Result                 ['0 ', ' 0']\n",
      "B365H                          3.50\n",
      "B365D                          3.40\n",
      "B365A                          2.10\n",
      "BbAv>2.5                       2.20\n",
      "BbAv<2.5                       1.66\n",
      "Name: 1361, dtype: object\n",
      "            Date             HTeam            ATeam  HxG  HM  HG  HGA  HxGA  \\\n",
      "1489  19/12/2021  Newcastle United  Manchester City 7.06   9   8   18 17.04   \n",
      "\n",
      "      HDC  HODC  ...  AODC  APPDA  AOPPDA  APTS/M        Result  B365H  B365D  \\\n",
      "1489 3.56  9.33  ...  3.22   9.16   23.01    2.67  ['0 ', ' 4']  13.00   7.50   \n",
      "\n",
      "      B365A  BbAv>2.5  BbAv<2.5  \n",
      "1489   1.18       NaN       NaN  \n",
      "\n",
      "[1 rows x 29 columns]\n",
      "      HxG  HM   HG  HGA  HxGA  HDC  HODC  HPPDA  HOPPDA  HPTS/M  ...  AGA  \\\n",
      "0    0.54   4 0.25 2.00  1.90 5.00  9.25  13.80    8.77    0.00  ... 1.25   \n",
      "1    1.07   4 0.00 1.75  1.50 5.75  4.75  11.61    8.37    0.00  ... 1.00   \n",
      "2    0.96   4 1.00 0.50  1.18 3.25  3.25   8.69   10.06    1.75  ... 2.00   \n",
      "3    2.40   4 2.00 2.00  1.63 7.00  6.00  15.95   12.48    1.75  ... 1.00   \n",
      "4    1.35   4 1.00 0.75  1.17 4.00  4.00  14.00    7.26    1.50  ... 1.00   \n",
      "...   ...  ..  ...  ...   ...  ...   ...    ...     ...     ...  ...  ...   \n",
      "2046 1.84   4 2.25 1.00  1.63 6.00 12.25  14.26    7.85    2.50  ... 0.50   \n",
      "2047 1.77   4 1.75 1.75  1.22 6.50  7.25  13.27   12.66    0.75  ... 1.25   \n",
      "2048 1.37   4 1.00 2.00  2.52 7.00 13.50   9.95    7.73    0.50  ... 1.25   \n",
      "2049 1.99   4 0.50 2.00  1.95 4.75  7.00  13.17   13.57    0.25  ... 1.00   \n",
      "2050 1.11   4 1.50 1.50  1.68 4.25 11.00  22.93    7.43    1.50  ... 3.67   \n",
      "\n",
      "      AxG  AxGA   ADC  AODC  APPDA  AOPPDA  APTS/M  PTSDIF/M        Result  \n",
      "0    0.44  0.11  3.50  8.25  17.65   18.94    1.00     -1.00  ['2 ', ' 1']  \n",
      "1    1.37  0.34  9.50  2.50   8.15   13.68    1.25     -1.25  ['0 ', ' 1']  \n",
      "2    1.34  0.34  2.75 10.00  15.38   10.43    0.75      1.00  ['1 ', ' 1']  \n",
      "3    0.76  0.19  3.50  6.75  12.51    8.62    1.75      0.00  ['1 ', ' 1']  \n",
      "4    0.86  0.22  5.50  7.25  15.26    8.52    1.25      0.25  ['2 ', ' 1']  \n",
      "...   ...   ...   ...   ...    ...     ...     ...       ...           ...  \n",
      "2046 2.37  0.59 12.00  4.00  10.74   24.69    3.00     -0.50  ['1 ', ' 3']  \n",
      "2047 2.35  0.59 11.00  6.25   9.34   10.35    1.50     -0.75  ['1 ', ' 0']  \n",
      "2048 2.31  0.58 13.75  4.50   6.83   20.79    1.00     -0.50  ['0 ', ' 0']  \n",
      "2049 2.05  0.51 12.25  5.00   9.32   27.82    2.50     -2.25  ['0 ', ' 1']  \n",
      "2050 0.87  0.29  6.33 11.33  12.47   16.79    0.00      1.50  ['1 ', ' 1']  \n",
      "\n",
      "[2051 rows x 22 columns]\n"
     ]
    },
    {
     "name": "stderr",
     "output_type": "stream",
     "text": [
      "/tmp/ipykernel_21837/2412402004.py:48: SettingWithCopyWarning:\n",
      "\n",
      "\n",
      "A value is trying to be set on a copy of a slice from a DataFrame.\n",
      "Try using .loc[row_indexer,col_indexer] = value instead\n",
      "\n",
      "See the caveats in the documentation: https://pandas.pydata.org/pandas-docs/stable/user_guide/indexing.html#returning-a-view-versus-a-copy\n",
      "\n"
     ]
    }
   ],
   "source": [
    "df1 = pd.read_csv('GatheredData/Epl20xxMonthlyFiles/Epl2017Monthly.csv')\n",
    "df2 = pd.read_csv('GatheredData/Epl20xxMonthlyFiles/Epl2018Monthly.csv')\n",
    "df3 = pd.read_csv('GatheredData/Epl20xxMonthlyFiles/Epl2019Monthly.csv')\n",
    "df4 = pd.read_csv('GatheredData/Epl20xxMonthlyFiles/Epl2020Monthly.csv')\n",
    "df5 = pd.read_csv('GatheredData/Epl20xxMonthlyFiles/Epl2021Monthly.csv')\n",
    "df6 = pd.read_csv('GatheredData/Epl20xxMonthlyFiles/Epl2022Monthly.csv')\n",
    "pred = PRED.copy()\n",
    "#Keeping bookmakers odds\n",
    "Odds = PRED.copy()\n",
    "Odds = PRED[['HTeam', 'ATeam','B365H', 'B365D', 'B365A', 'BbAv>2.5', 'BbAv<2.5', 'GG', 'NG']]\n",
    "\n",
    "df1 = df1[['Date', 'HxG', 'HM', 'HTeam', 'ATeam', 'HG', 'HGA', 'HxGA', 'HDC', 'HODC', 'HPPDA', 'HOPPDA', 'HPTS/M', 'AM', 'AG', 'AGA', 'AxG', 'AxGA', 'ADC', 'AODC', 'APPDA', 'AOPPDA', 'APTS/M', 'Result', 'B365H', 'B365D', 'B365A', 'BbAv>2.5', 'BbAv<2.5']]\n",
    "df2 = df2[['Date', 'HxG', 'HM', 'HTeam', 'ATeam', 'HG', 'HGA', 'HxGA', 'HDC', 'HODC', 'HPPDA', 'HOPPDA', 'HPTS/M', 'AM', 'AG', 'AGA', 'AxG', 'AxGA', 'ADC', 'AODC', 'APPDA', 'AOPPDA', 'APTS/M', 'Result', 'B365H', 'B365D', 'B365A', 'BbAv>2.5', 'BbAv<2.5']]\n",
    "df3 = df3[['Date', 'HxG', 'HM', 'HTeam', 'ATeam', 'HG', 'HGA', 'HxGA', 'HDC', 'HODC', 'HPPDA', 'HOPPDA', 'HPTS/M', 'AM', 'AG', 'AGA', 'AxG', 'AxGA', 'ADC', 'AODC', 'APPDA', 'AOPPDA', 'APTS/M', 'Result', 'B365H', 'B365D', 'B365A', 'B365>2.5', 'B365<2.5']]\n",
    "df3.rename(columns = {'B365<2.5':'BbAv<2.5'}, inplace = True)\n",
    "df3.rename(columns = {'B365>2.5':'BbAv>2.5'}, inplace = True)\n",
    "df4 = df4[['Date', 'HxG', 'HM', 'HTeam', 'ATeam', 'HG', 'HGA', 'HxGA', 'HDC', 'HODC', 'HPPDA', 'HOPPDA', 'HPTS/M', 'AM', 'AG', 'AGA', 'AxG', 'AxGA', 'ADC', 'AODC', 'APPDA', 'AOPPDA', 'APTS/M', 'Result', 'B365H', 'B365D', 'B365A', 'B365>2.5', 'B365<2.5']]\n",
    "df4.rename(columns = {'B365<2.5':'BbAv<2.5'}, inplace = True)\n",
    "df4.rename(columns = {'B365>2.5':'BbAv>2.5'}, inplace = True)\n",
    "df5 = df5[['Date', 'HxG', 'HM', 'HTeam', 'ATeam', 'HG', 'HGA', 'HxGA', 'HDC', 'HODC', 'HPPDA', 'HOPPDA', 'HPTS/M', 'AM', 'AG', 'AGA', 'AxG', 'AxGA', 'ADC', 'AODC', 'APPDA', 'AOPPDA', 'APTS/M', 'Result', 'B365H', 'B365D', 'B365A', 'B365>2.5', 'B365<2.5']]\n",
    "df5.rename(columns = {'B365<2.5':'BbAv<2.5'}, inplace = True)\n",
    "df5.rename(columns = {'B365>2.5':'BbAv>2.5'}, inplace = True)\n",
    "df6 = df6[['Date', 'HxG', 'HM', 'HTeam', 'ATeam', 'HG', 'HGA', 'HxGA', 'HDC', 'HODC', 'HPPDA', 'HOPPDA', 'HPTS/M', 'AM', 'AG', 'AGA', 'AxG', 'AxGA', 'ADC', 'AODC', 'APPDA', 'AOPPDA', 'APTS/M', 'Result', 'B365H', 'B365D', 'B365A', 'BbAv>2.5', 'BbAv<2.5']]\n",
    "df6.rename(columns = {'B365<2.5':'BbAv<2.5'}, inplace = True)\n",
    "df6.rename(columns = {'B365>2.5':'BbAv>2.5'}, inplace = True)\n",
    "\n",
    "SeasonForm = pd.read_csv('GatheredData/Epl20xxMonthlyFiles/Epl2023Monthly.csv')\n",
    "\n",
    "\n",
    "try:\n",
    "    SeasonForm = SeasonForm[['Date', 'HxG', 'HM', 'HTeam', 'ATeam', 'HG', 'HGA', 'HxGA', 'HDC', 'HODC', 'HPPDA', 'HOPPDA', 'HPTS/M', 'AM', 'AG', 'AGA', 'AxG', 'AxGA', 'ADC', 'AODC', 'APPDA', 'AOPPDA', 'APTS/M', 'Result', 'B365H', 'B365D', 'B365A', 'BbAv>2.5', 'BbAv<2.5']]\n",
    "except KeyError:\n",
    "    SeasonForm = SeasonForm[['Date', 'HxG', 'HM', 'HTeam', 'ATeam', 'HG', 'HGA', 'HxGA', 'HDC', 'HODC', 'HPPDA', 'HOPPDA', 'HPTS/M', 'AM', 'AG', 'AGA', 'AxG', 'AxGA', 'ADC', 'AODC', 'APPDA', 'AOPPDA', 'APTS/M', 'Result', 'B365H', 'B365D', 'B365A', 'B365>2.5', 'B365<2.5']]\n",
    "    SeasonForm.rename(columns = {'B365<2.5':'BbAv<2.5'}, inplace = True)\n",
    "    SeasonForm.rename(columns = {'B365>2.5':'BbAv>2.5'}, inplace = True)\n",
    "    \n",
    "SeasonForm = SeasonForm.iloc[38:]\n",
    "\n",
    "DF = pd.concat([df1, df2, df3, df4, df5, df6, SeasonForm], ignore_index=True)\n",
    "merged = pd.merge(subset, DF, on=['Date', 'HTeam', 'ATeam'], how='left')\n",
    "print(subset.iloc[1361])\n",
    "print(DF.iloc[1361])\n",
    "print(merged[merged.isna().any(axis=1)])\n",
    "\n",
    "# resulting dataframe will have columns of B where the triplet of A['a', 'b', 'c'] exists in B\n",
    "DF = merged[DF.columns]\n",
    "\n",
    "DF['PTSDIF/M']=DF['HPTS/M']-DF['APTS/M']\n",
    "pred['PTSDIF/M']=pred['HPTS/M']-pred['APTS/M']\n",
    "DF = DF[['HxG', 'HM', 'HG', 'HGA', 'HxGA', 'HDC', 'HODC', 'HPPDA', 'HOPPDA', 'HPTS/M', 'AM', 'AG', 'AGA', 'AxG', 'AxGA', 'ADC', 'AODC', 'APPDA', 'AOPPDA', 'APTS/M', 'PTSDIF/M', 'Result']]\n",
    "pred = pred[['HxG', 'HM', 'HG', 'HGA', 'HxGA', 'HDC', 'HODC', 'HPPDA', 'HOPPDA', 'HPTS/M', 'AM', 'AG', 'AGA', 'AxG', 'AxGA', 'ADC', 'AODC', 'APPDA', 'AOPPDA', 'APTS/M', 'PTSDIF/M', 'Result']]\n",
    "cut = DF.shape[0]\n",
    "DF = pd.concat([DF, pred], ignore_index=True)\n",
    "\n",
    "\n",
    "\n",
    "try:\n",
    "    DF['HxG'] = DF['HxG'].div(DF['HM']).fillna(0)\n",
    "    DF['HG'] = DF['HG'].div(DF['HM']).fillna(0)\n",
    "    DF['HGA'] = DF['HGA'].div(DF['HM']).fillna(0)\n",
    "    DF['HxGA'] = DF['HxGA'].div(DF['HM']).fillna(0)\n",
    "    DF['AxG'] = DF['AxG'].div(DF['AM']).fillna(0)\n",
    "    DF['AG'] = DF['AG'].div(DF['AM']).fillna(0)\n",
    "    DF['AxGA'] = DF['AxG'].div(DF['AM']).fillna(0)\n",
    "    DF['AGA'] = DF['AGA'].div(DF['AM']).fillna(0)\n",
    "    pred['HxG'] = pred['HxG'].div(pred['HM']).fillna(0)\n",
    "    pred['HG'] = pred['HG'].div(pred['HM']).fillna(0)\n",
    "    pred['HGA'] = pred['HGA'].div(pred['HM']).fillna(0)\n",
    "    pred['HxGA'] = pred['HxGA'].div(pred['HM']).fillna(0)\n",
    "    pred['AxG'] = pred['AxG'].div(pred['AM']).fillna(0)\n",
    "    pred['AG'] = pred['AG'].div(pred['AM']).fillna(0)\n",
    "    pred['AxGA'] = pred['AxG'].div(pred['AM']).fillna(0)\n",
    "    pred['AGA'] = pred['AGA'].div(pred['AM']).fillna(0)\n",
    "\n",
    "except ZeroDivisionError:\n",
    "    DF['HxG'] = 0\n",
    "    DF['HG'] = 0\n",
    "    DF['HGA'] = 0\n",
    "    DF['HxGA'] = 0\n",
    "    DF['AxG'] = 0\n",
    "    DF['AG'] = 0\n",
    "    DF['AxGA'] = 0\n",
    "    DF['AGA'] = 0\n",
    "\n",
    "\n",
    "print(DF.iloc[:cut])\n",
    "        \n",
    "HGoals = []\n",
    "AGoals = []\n",
    "for i, x in DF.iloc[:cut].iterrows():\n",
    "    a=str(x['Result']).split('\\'')\n",
    "    try:\n",
    "        HGoals.append(a[1])\n",
    "        AGoals.append(a[3])\n",
    "    except IndexError:\n",
    "        print(x)\n",
    "        print(DF.iloc[:cut].iloc[i-1])\n",
    "\n",
    "DF=np.array(DF)\n",
    "\n",
    "DFnorm = preprocessing.normalize(DF[:, 0:21].astype('float64'), axis=0)\n",
    "pred = DFnorm[cut:]\n",
    "DF = DFnorm[:cut]\n",
    "\n",
    "x=DF\n",
    "\n",
    "y1=np.array(HGoals)\n",
    "y2=np.array(AGoals)\n",
    "\n",
    "reg1 = LinearRegression().fit(x, y1)\n",
    "reg2 = LinearRegression().fit(x, y2)\n",
    "\n",
    "LamdaHomeForm= reg1.predict(pred)\n",
    "LamdaAwayForm= reg2.predict(pred)"
   ]
  },
  {
   "cell_type": "code",
   "execution_count": 211,
   "metadata": {},
   "outputs": [
    {
     "name": "stdout",
     "output_type": "stream",
     "text": [
      "[2.8464208439330756, 1.4491180932562693, 1.7848903586234208, 2.035943572549315, 1.278627994933665, 2.311343352247912, 2.3730282501301687, 2.888262745669631, 2.3463199736459344, 0.7790526245019995, 1.4331903285983036, 0.9855781208947677, 1.6557492515904022, 2.085957786137154, 2.1047525005327214, 1.7995610662889698, 0.7340176127078888, 2.1307900901571335, 1.2409935084192, 1.2451465480942185]\n",
      "[0.30313215728909365, 1.5733759390686537, 1.2891494647140531, 1.0911923659256118, 1.6131354364371016, 1.4257269715592256, 1.0509658345024877, 0.9259953683675954, 1.3749310726475272, 1.9409923266877045, 1.9401452411179148, 2.665162101409403, 0.9622875395489352, 1.3047261731542212, 1.036199155374601, 1.1684414070682014, 2.7656920156556817, 1.8728346767921369, 1.5352938507477503, 2.0064064075748793]\n"
     ]
    }
   ],
   "source": [
    "LamdaAwayFinal = [(LamdaAway[i] * 0.4 + LamdaAwayForm[i] * 0.6) for i in range(len(LamdaAway))]\n",
    "LamdaHomeFinal = [(LamdaHome[i] * 0.4 + LamdaHomeForm[i] * 0.6) for i in range(len(LamdaHome))]\n",
    "\n",
    "print(LamdaHomeFinal)\n",
    "print(LamdaAwayFinal)"
   ]
  },
  {
   "cell_type": "code",
   "execution_count": 212,
   "metadata": {},
   "outputs": [
    {
     "data": {
      "text/html": [
       "<div>\n",
       "<style scoped>\n",
       "    .dataframe tbody tr th:only-of-type {\n",
       "        vertical-align: middle;\n",
       "    }\n",
       "\n",
       "    .dataframe tbody tr th {\n",
       "        vertical-align: top;\n",
       "    }\n",
       "\n",
       "    .dataframe thead th {\n",
       "        text-align: right;\n",
       "    }\n",
       "</style>\n",
       "<table border=\"1\" class=\"dataframe\">\n",
       "  <thead>\n",
       "    <tr style=\"text-align: right;\">\n",
       "      <th></th>\n",
       "      <th>Date</th>\n",
       "      <th>HTeam</th>\n",
       "      <th>ATeam</th>\n",
       "      <th>P(Hwin)</th>\n",
       "      <th>P(Draw)</th>\n",
       "      <th>P(Awin)</th>\n",
       "      <th>P(Under)</th>\n",
       "      <th>P(Over)</th>\n",
       "      <th>P(GG)</th>\n",
       "      <th>P(NG)</th>\n",
       "    </tr>\n",
       "  </thead>\n",
       "  <tbody>\n",
       "    <tr>\n",
       "      <th>0</th>\n",
       "      <td>23/09/2023</td>\n",
       "      <td>Manchester City</td>\n",
       "      <td>Nottingham Forest</td>\n",
       "      <td>0.906</td>\n",
       "      <td>0.078</td>\n",
       "      <td>0.016</td>\n",
       "      <td>0.384</td>\n",
       "      <td>0.616</td>\n",
       "      <td>0.208</td>\n",
       "      <td>0.792</td>\n",
       "    </tr>\n",
       "    <tr>\n",
       "      <th>1</th>\n",
       "      <td>23/09/2023</td>\n",
       "      <td>Luton</td>\n",
       "      <td>Wolverhampton Wanderers</td>\n",
       "      <td>0.405</td>\n",
       "      <td>0.239</td>\n",
       "      <td>0.356</td>\n",
       "      <td>0.405</td>\n",
       "      <td>0.595</td>\n",
       "      <td>0.617</td>\n",
       "      <td>0.383</td>\n",
       "    </tr>\n",
       "    <tr>\n",
       "      <th>2</th>\n",
       "      <td>23/09/2023</td>\n",
       "      <td>Crystal Palace</td>\n",
       "      <td>Fulham</td>\n",
       "      <td>0.540</td>\n",
       "      <td>0.219</td>\n",
       "      <td>0.240</td>\n",
       "      <td>0.381</td>\n",
       "      <td>0.619</td>\n",
       "      <td>0.610</td>\n",
       "      <td>0.390</td>\n",
       "    </tr>\n",
       "    <tr>\n",
       "      <th>3</th>\n",
       "      <td>23/09/2023</td>\n",
       "      <td>Brentford</td>\n",
       "      <td>Everton</td>\n",
       "      <td>0.621</td>\n",
       "      <td>0.203</td>\n",
       "      <td>0.176</td>\n",
       "      <td>0.393</td>\n",
       "      <td>0.607</td>\n",
       "      <td>0.565</td>\n",
       "      <td>0.435</td>\n",
       "    </tr>\n",
       "    <tr>\n",
       "      <th>4</th>\n",
       "      <td>23/09/2023</td>\n",
       "      <td>Burnley</td>\n",
       "      <td>Manchester United</td>\n",
       "      <td>0.297</td>\n",
       "      <td>0.245</td>\n",
       "      <td>0.458</td>\n",
       "      <td>0.456</td>\n",
       "      <td>0.544</td>\n",
       "      <td>0.570</td>\n",
       "      <td>0.430</td>\n",
       "    </tr>\n",
       "    <tr>\n",
       "      <th>5</th>\n",
       "      <td>24/09/2023</td>\n",
       "      <td>Chelsea</td>\n",
       "      <td>Aston Villa</td>\n",
       "      <td>0.554</td>\n",
       "      <td>0.200</td>\n",
       "      <td>0.246</td>\n",
       "      <td>0.282</td>\n",
       "      <td>0.718</td>\n",
       "      <td>0.689</td>\n",
       "      <td>0.311</td>\n",
       "    </tr>\n",
       "    <tr>\n",
       "      <th>6</th>\n",
       "      <td>24/09/2023</td>\n",
       "      <td>Liverpool</td>\n",
       "      <td>West Ham</td>\n",
       "      <td>0.705</td>\n",
       "      <td>0.166</td>\n",
       "      <td>0.129</td>\n",
       "      <td>0.317</td>\n",
       "      <td>0.683</td>\n",
       "      <td>0.580</td>\n",
       "      <td>0.420</td>\n",
       "    </tr>\n",
       "    <tr>\n",
       "      <th>7</th>\n",
       "      <td>24/09/2023</td>\n",
       "      <td>Brighton</td>\n",
       "      <td>Bournemouth</td>\n",
       "      <td>0.823</td>\n",
       "      <td>0.113</td>\n",
       "      <td>0.064</td>\n",
       "      <td>0.259</td>\n",
       "      <td>0.741</td>\n",
       "      <td>0.520</td>\n",
       "      <td>0.480</td>\n",
       "    </tr>\n",
       "    <tr>\n",
       "      <th>8</th>\n",
       "      <td>24/09/2023</td>\n",
       "      <td>Arsenal</td>\n",
       "      <td>Tottenham</td>\n",
       "      <td>0.614</td>\n",
       "      <td>0.186</td>\n",
       "      <td>0.200</td>\n",
       "      <td>0.271</td>\n",
       "      <td>0.729</td>\n",
       "      <td>0.676</td>\n",
       "      <td>0.324</td>\n",
       "    </tr>\n",
       "    <tr>\n",
       "      <th>9</th>\n",
       "      <td>24/09/2023</td>\n",
       "      <td>Sheffield United</td>\n",
       "      <td>Newcastle United</td>\n",
       "      <td>0.087</td>\n",
       "      <td>0.190</td>\n",
       "      <td>0.723</td>\n",
       "      <td>0.540</td>\n",
       "      <td>0.460</td>\n",
       "      <td>0.353</td>\n",
       "      <td>0.647</td>\n",
       "    </tr>\n",
       "    <tr>\n",
       "      <th>10</th>\n",
       "      <td>30/09/2023</td>\n",
       "      <td>Aston Villa</td>\n",
       "      <td>Brighton</td>\n",
       "      <td>0.303</td>\n",
       "      <td>0.223</td>\n",
       "      <td>0.474</td>\n",
       "      <td>0.347</td>\n",
       "      <td>0.653</td>\n",
       "      <td>0.654</td>\n",
       "      <td>0.346</td>\n",
       "    </tr>\n",
       "    <tr>\n",
       "      <th>11</th>\n",
       "      <td>30/09/2023</td>\n",
       "      <td>Bournemouth</td>\n",
       "      <td>Arsenal</td>\n",
       "      <td>0.113</td>\n",
       "      <td>0.152</td>\n",
       "      <td>0.735</td>\n",
       "      <td>0.291</td>\n",
       "      <td>0.709</td>\n",
       "      <td>0.582</td>\n",
       "      <td>0.418</td>\n",
       "    </tr>\n",
       "    <tr>\n",
       "      <th>12</th>\n",
       "      <td>30/09/2023</td>\n",
       "      <td>Everton</td>\n",
       "      <td>Luton</td>\n",
       "      <td>0.550</td>\n",
       "      <td>0.244</td>\n",
       "      <td>0.206</td>\n",
       "      <td>0.526</td>\n",
       "      <td>0.474</td>\n",
       "      <td>0.484</td>\n",
       "      <td>0.516</td>\n",
       "    </tr>\n",
       "    <tr>\n",
       "      <th>13</th>\n",
       "      <td>30/09/2023</td>\n",
       "      <td>Manchester United</td>\n",
       "      <td>Crystal Palace</td>\n",
       "      <td>0.571</td>\n",
       "      <td>0.204</td>\n",
       "      <td>0.225</td>\n",
       "      <td>0.327</td>\n",
       "      <td>0.673</td>\n",
       "      <td>0.645</td>\n",
       "      <td>0.355</td>\n",
       "    </tr>\n",
       "    <tr>\n",
       "      <th>14</th>\n",
       "      <td>30/09/2023</td>\n",
       "      <td>Newcastle United</td>\n",
       "      <td>Burnley</td>\n",
       "      <td>0.679</td>\n",
       "      <td>0.186</td>\n",
       "      <td>0.135</td>\n",
       "      <td>0.400</td>\n",
       "      <td>0.600</td>\n",
       "      <td>0.522</td>\n",
       "      <td>0.478</td>\n",
       "    </tr>\n",
       "    <tr>\n",
       "      <th>15</th>\n",
       "      <td>30/09/2023</td>\n",
       "      <td>West Ham</td>\n",
       "      <td>Sheffield United</td>\n",
       "      <td>0.584</td>\n",
       "      <td>0.220</td>\n",
       "      <td>0.196</td>\n",
       "      <td>0.439</td>\n",
       "      <td>0.561</td>\n",
       "      <td>0.543</td>\n",
       "      <td>0.457</td>\n",
       "    </tr>\n",
       "    <tr>\n",
       "      <th>16</th>\n",
       "      <td>30/09/2023</td>\n",
       "      <td>Wolverhampton Wanderers</td>\n",
       "      <td>Manchester City</td>\n",
       "      <td>0.057</td>\n",
       "      <td>0.120</td>\n",
       "      <td>0.822</td>\n",
       "      <td>0.338</td>\n",
       "      <td>0.662</td>\n",
       "      <td>0.433</td>\n",
       "      <td>0.567</td>\n",
       "    </tr>\n",
       "    <tr>\n",
       "      <th>17</th>\n",
       "      <td>30/09/2023</td>\n",
       "      <td>Tottenham</td>\n",
       "      <td>Liverpool</td>\n",
       "      <td>0.476</td>\n",
       "      <td>0.202</td>\n",
       "      <td>0.323</td>\n",
       "      <td>0.228</td>\n",
       "      <td>0.772</td>\n",
       "      <td>0.751</td>\n",
       "      <td>0.249</td>\n",
       "    </tr>\n",
       "    <tr>\n",
       "      <th>18</th>\n",
       "      <td>01/10/2023</td>\n",
       "      <td>Nottingham Forest</td>\n",
       "      <td>Brentford</td>\n",
       "      <td>0.318</td>\n",
       "      <td>0.253</td>\n",
       "      <td>0.429</td>\n",
       "      <td>0.482</td>\n",
       "      <td>0.518</td>\n",
       "      <td>0.554</td>\n",
       "      <td>0.446</td>\n",
       "    </tr>\n",
       "    <tr>\n",
       "      <th>19</th>\n",
       "      <td>02/10/2023</td>\n",
       "      <td>Fulham</td>\n",
       "      <td>Chelsea</td>\n",
       "      <td>0.266</td>\n",
       "      <td>0.225</td>\n",
       "      <td>0.509</td>\n",
       "      <td>0.382</td>\n",
       "      <td>0.618</td>\n",
       "      <td>0.619</td>\n",
       "      <td>0.381</td>\n",
       "    </tr>\n",
       "  </tbody>\n",
       "</table>\n",
       "</div>"
      ],
      "text/plain": [
       "          Date                    HTeam                    ATeam  P(Hwin)  \\\n",
       "0   23/09/2023          Manchester City        Nottingham Forest    0.906   \n",
       "1   23/09/2023                    Luton  Wolverhampton Wanderers    0.405   \n",
       "2   23/09/2023           Crystal Palace                   Fulham    0.540   \n",
       "3   23/09/2023                Brentford                  Everton    0.621   \n",
       "4   23/09/2023                  Burnley        Manchester United    0.297   \n",
       "5   24/09/2023                  Chelsea              Aston Villa    0.554   \n",
       "6   24/09/2023                Liverpool                 West Ham    0.705   \n",
       "7   24/09/2023                 Brighton              Bournemouth    0.823   \n",
       "8   24/09/2023                  Arsenal                Tottenham    0.614   \n",
       "9   24/09/2023         Sheffield United         Newcastle United    0.087   \n",
       "10  30/09/2023              Aston Villa                 Brighton    0.303   \n",
       "11  30/09/2023              Bournemouth                  Arsenal    0.113   \n",
       "12  30/09/2023                  Everton                    Luton    0.550   \n",
       "13  30/09/2023        Manchester United           Crystal Palace    0.571   \n",
       "14  30/09/2023         Newcastle United                  Burnley    0.679   \n",
       "15  30/09/2023                 West Ham         Sheffield United    0.584   \n",
       "16  30/09/2023  Wolverhampton Wanderers          Manchester City    0.057   \n",
       "17  30/09/2023                Tottenham                Liverpool    0.476   \n",
       "18  01/10/2023        Nottingham Forest                Brentford    0.318   \n",
       "19  02/10/2023                   Fulham                  Chelsea    0.266   \n",
       "\n",
       "    P(Draw)  P(Awin)  P(Under)  P(Over)  P(GG)  P(NG)  \n",
       "0     0.078    0.016     0.384    0.616  0.208  0.792  \n",
       "1     0.239    0.356     0.405    0.595  0.617  0.383  \n",
       "2     0.219    0.240     0.381    0.619  0.610  0.390  \n",
       "3     0.203    0.176     0.393    0.607  0.565  0.435  \n",
       "4     0.245    0.458     0.456    0.544  0.570  0.430  \n",
       "5     0.200    0.246     0.282    0.718  0.689  0.311  \n",
       "6     0.166    0.129     0.317    0.683  0.580  0.420  \n",
       "7     0.113    0.064     0.259    0.741  0.520  0.480  \n",
       "8     0.186    0.200     0.271    0.729  0.676  0.324  \n",
       "9     0.190    0.723     0.540    0.460  0.353  0.647  \n",
       "10    0.223    0.474     0.347    0.653  0.654  0.346  \n",
       "11    0.152    0.735     0.291    0.709  0.582  0.418  \n",
       "12    0.244    0.206     0.526    0.474  0.484  0.516  \n",
       "13    0.204    0.225     0.327    0.673  0.645  0.355  \n",
       "14    0.186    0.135     0.400    0.600  0.522  0.478  \n",
       "15    0.220    0.196     0.439    0.561  0.543  0.457  \n",
       "16    0.120    0.822     0.338    0.662  0.433  0.567  \n",
       "17    0.202    0.323     0.228    0.772  0.751  0.249  \n",
       "18    0.253    0.429     0.482    0.518  0.554  0.446  \n",
       "19    0.225    0.509     0.382    0.618  0.619  0.381  "
      ]
     },
     "metadata": {},
     "output_type": "display_data"
    },
    {
     "name": "stderr",
     "output_type": "stream",
     "text": [
      "/tmp/ipykernel_21837/2686805503.py:83: SettingWithCopyWarning:\n",
      "\n",
      "\n",
      "A value is trying to be set on a copy of a slice from a DataFrame\n",
      "\n",
      "See the caveats in the documentation: https://pandas.pydata.org/pandas-docs/stable/user_guide/indexing.html#returning-a-view-versus-a-copy\n",
      "\n",
      "/tmp/ipykernel_21837/2686805503.py:87: SettingWithCopyWarning:\n",
      "\n",
      "\n",
      "A value is trying to be set on a copy of a slice from a DataFrame\n",
      "\n",
      "See the caveats in the documentation: https://pandas.pydata.org/pandas-docs/stable/user_guide/indexing.html#returning-a-view-versus-a-copy\n",
      "\n",
      "/tmp/ipykernel_21837/2686805503.py:88: SettingWithCopyWarning:\n",
      "\n",
      "\n",
      "A value is trying to be set on a copy of a slice from a DataFrame\n",
      "\n",
      "See the caveats in the documentation: https://pandas.pydata.org/pandas-docs/stable/user_guide/indexing.html#returning-a-view-versus-a-copy\n",
      "\n",
      "/tmp/ipykernel_21837/2686805503.py:89: SettingWithCopyWarning:\n",
      "\n",
      "\n",
      "A value is trying to be set on a copy of a slice from a DataFrame\n",
      "\n",
      "See the caveats in the documentation: https://pandas.pydata.org/pandas-docs/stable/user_guide/indexing.html#returning-a-view-versus-a-copy\n",
      "\n",
      "/tmp/ipykernel_21837/2686805503.py:90: SettingWithCopyWarning:\n",
      "\n",
      "\n",
      "A value is trying to be set on a copy of a slice from a DataFrame\n",
      "\n",
      "See the caveats in the documentation: https://pandas.pydata.org/pandas-docs/stable/user_guide/indexing.html#returning-a-view-versus-a-copy\n",
      "\n",
      "/tmp/ipykernel_21837/2686805503.py:91: SettingWithCopyWarning:\n",
      "\n",
      "\n",
      "A value is trying to be set on a copy of a slice from a DataFrame\n",
      "\n",
      "See the caveats in the documentation: https://pandas.pydata.org/pandas-docs/stable/user_guide/indexing.html#returning-a-view-versus-a-copy\n",
      "\n",
      "/tmp/ipykernel_21837/2686805503.py:92: SettingWithCopyWarning:\n",
      "\n",
      "\n",
      "A value is trying to be set on a copy of a slice from a DataFrame\n",
      "\n",
      "See the caveats in the documentation: https://pandas.pydata.org/pandas-docs/stable/user_guide/indexing.html#returning-a-view-versus-a-copy\n",
      "\n",
      "/tmp/ipykernel_21837/2686805503.py:93: SettingWithCopyWarning:\n",
      "\n",
      "\n",
      "A value is trying to be set on a copy of a slice from a DataFrame\n",
      "\n",
      "See the caveats in the documentation: https://pandas.pydata.org/pandas-docs/stable/user_guide/indexing.html#returning-a-view-versus-a-copy\n",
      "\n"
     ]
    },
    {
     "data": {
      "text/html": [
       "<div>\n",
       "<style scoped>\n",
       "    .dataframe tbody tr th:only-of-type {\n",
       "        vertical-align: middle;\n",
       "    }\n",
       "\n",
       "    .dataframe tbody tr th {\n",
       "        vertical-align: top;\n",
       "    }\n",
       "\n",
       "    .dataframe thead th {\n",
       "        text-align: right;\n",
       "    }\n",
       "</style>\n",
       "<table border=\"1\" class=\"dataframe\">\n",
       "  <thead>\n",
       "    <tr style=\"text-align: right;\">\n",
       "      <th></th>\n",
       "      <th>P(Hwin)</th>\n",
       "      <th>P(Draw)</th>\n",
       "      <th>P(Awin)</th>\n",
       "      <th>P(Under)</th>\n",
       "      <th>P(Over)</th>\n",
       "      <th>P(GG)</th>\n",
       "      <th>P(NG)</th>\n",
       "      <th>Type</th>\n",
       "      <th>Match</th>\n",
       "      <th>Date</th>\n",
       "    </tr>\n",
       "  </thead>\n",
       "  <tbody>\n",
       "    <tr>\n",
       "      <th>0</th>\n",
       "      <td>0.91</td>\n",
       "      <td>0.08</td>\n",
       "      <td>0.02</td>\n",
       "      <td>0.38</td>\n",
       "      <td>0.62</td>\n",
       "      <td>0.21</td>\n",
       "      <td>0.79</td>\n",
       "      <td>Predicted</td>\n",
       "      <td>Manchester City-Nottingham Forest</td>\n",
       "      <td>23/09/2023</td>\n",
       "    </tr>\n",
       "    <tr>\n",
       "      <th>1</th>\n",
       "      <td>0.40</td>\n",
       "      <td>0.24</td>\n",
       "      <td>0.36</td>\n",
       "      <td>0.41</td>\n",
       "      <td>0.59</td>\n",
       "      <td>0.62</td>\n",
       "      <td>0.38</td>\n",
       "      <td>Predicted</td>\n",
       "      <td>Luton-Wolverhampton Wanderers</td>\n",
       "      <td>23/09/2023</td>\n",
       "    </tr>\n",
       "    <tr>\n",
       "      <th>2</th>\n",
       "      <td>0.54</td>\n",
       "      <td>0.22</td>\n",
       "      <td>0.24</td>\n",
       "      <td>0.38</td>\n",
       "      <td>0.62</td>\n",
       "      <td>0.61</td>\n",
       "      <td>0.39</td>\n",
       "      <td>Predicted</td>\n",
       "      <td>Crystal Palace-Fulham</td>\n",
       "      <td>23/09/2023</td>\n",
       "    </tr>\n",
       "    <tr>\n",
       "      <th>3</th>\n",
       "      <td>0.62</td>\n",
       "      <td>0.20</td>\n",
       "      <td>0.18</td>\n",
       "      <td>0.39</td>\n",
       "      <td>0.61</td>\n",
       "      <td>0.56</td>\n",
       "      <td>0.44</td>\n",
       "      <td>Predicted</td>\n",
       "      <td>Brentford-Everton</td>\n",
       "      <td>23/09/2023</td>\n",
       "    </tr>\n",
       "    <tr>\n",
       "      <th>4</th>\n",
       "      <td>0.30</td>\n",
       "      <td>0.25</td>\n",
       "      <td>0.46</td>\n",
       "      <td>0.46</td>\n",
       "      <td>0.54</td>\n",
       "      <td>0.57</td>\n",
       "      <td>0.43</td>\n",
       "      <td>Predicted</td>\n",
       "      <td>Burnley-Manchester United</td>\n",
       "      <td>23/09/2023</td>\n",
       "    </tr>\n",
       "    <tr>\n",
       "      <th>5</th>\n",
       "      <td>0.55</td>\n",
       "      <td>0.20</td>\n",
       "      <td>0.25</td>\n",
       "      <td>0.28</td>\n",
       "      <td>0.72</td>\n",
       "      <td>0.69</td>\n",
       "      <td>0.31</td>\n",
       "      <td>Predicted</td>\n",
       "      <td>Chelsea-Aston Villa</td>\n",
       "      <td>24/09/2023</td>\n",
       "    </tr>\n",
       "    <tr>\n",
       "      <th>6</th>\n",
       "      <td>0.71</td>\n",
       "      <td>0.17</td>\n",
       "      <td>0.13</td>\n",
       "      <td>0.32</td>\n",
       "      <td>0.68</td>\n",
       "      <td>0.58</td>\n",
       "      <td>0.42</td>\n",
       "      <td>Predicted</td>\n",
       "      <td>Liverpool-West Ham</td>\n",
       "      <td>24/09/2023</td>\n",
       "    </tr>\n",
       "    <tr>\n",
       "      <th>7</th>\n",
       "      <td>0.82</td>\n",
       "      <td>0.11</td>\n",
       "      <td>0.06</td>\n",
       "      <td>0.26</td>\n",
       "      <td>0.74</td>\n",
       "      <td>0.52</td>\n",
       "      <td>0.48</td>\n",
       "      <td>Predicted</td>\n",
       "      <td>Brighton-Bournemouth</td>\n",
       "      <td>24/09/2023</td>\n",
       "    </tr>\n",
       "    <tr>\n",
       "      <th>8</th>\n",
       "      <td>0.61</td>\n",
       "      <td>0.19</td>\n",
       "      <td>0.20</td>\n",
       "      <td>0.27</td>\n",
       "      <td>0.73</td>\n",
       "      <td>0.68</td>\n",
       "      <td>0.32</td>\n",
       "      <td>Predicted</td>\n",
       "      <td>Arsenal-Tottenham</td>\n",
       "      <td>24/09/2023</td>\n",
       "    </tr>\n",
       "    <tr>\n",
       "      <th>9</th>\n",
       "      <td>0.09</td>\n",
       "      <td>0.19</td>\n",
       "      <td>0.72</td>\n",
       "      <td>0.54</td>\n",
       "      <td>0.46</td>\n",
       "      <td>0.35</td>\n",
       "      <td>0.65</td>\n",
       "      <td>Predicted</td>\n",
       "      <td>Sheffield United-Newcastle United</td>\n",
       "      <td>24/09/2023</td>\n",
       "    </tr>\n",
       "    <tr>\n",
       "      <th>10</th>\n",
       "      <td>0.30</td>\n",
       "      <td>0.22</td>\n",
       "      <td>0.47</td>\n",
       "      <td>0.35</td>\n",
       "      <td>0.65</td>\n",
       "      <td>0.65</td>\n",
       "      <td>0.35</td>\n",
       "      <td>Predicted</td>\n",
       "      <td>Aston Villa-Brighton</td>\n",
       "      <td>30/09/2023</td>\n",
       "    </tr>\n",
       "    <tr>\n",
       "      <th>11</th>\n",
       "      <td>0.11</td>\n",
       "      <td>0.15</td>\n",
       "      <td>0.73</td>\n",
       "      <td>0.29</td>\n",
       "      <td>0.71</td>\n",
       "      <td>0.58</td>\n",
       "      <td>0.42</td>\n",
       "      <td>Predicted</td>\n",
       "      <td>Bournemouth-Arsenal</td>\n",
       "      <td>30/09/2023</td>\n",
       "    </tr>\n",
       "    <tr>\n",
       "      <th>12</th>\n",
       "      <td>0.55</td>\n",
       "      <td>0.24</td>\n",
       "      <td>0.21</td>\n",
       "      <td>0.53</td>\n",
       "      <td>0.47</td>\n",
       "      <td>0.48</td>\n",
       "      <td>0.52</td>\n",
       "      <td>Predicted</td>\n",
       "      <td>Everton-Luton</td>\n",
       "      <td>30/09/2023</td>\n",
       "    </tr>\n",
       "    <tr>\n",
       "      <th>13</th>\n",
       "      <td>0.57</td>\n",
       "      <td>0.20</td>\n",
       "      <td>0.22</td>\n",
       "      <td>0.33</td>\n",
       "      <td>0.67</td>\n",
       "      <td>0.64</td>\n",
       "      <td>0.36</td>\n",
       "      <td>Predicted</td>\n",
       "      <td>Manchester United-Crystal Palace</td>\n",
       "      <td>30/09/2023</td>\n",
       "    </tr>\n",
       "    <tr>\n",
       "      <th>14</th>\n",
       "      <td>0.68</td>\n",
       "      <td>0.19</td>\n",
       "      <td>0.14</td>\n",
       "      <td>0.40</td>\n",
       "      <td>0.60</td>\n",
       "      <td>0.52</td>\n",
       "      <td>0.48</td>\n",
       "      <td>Predicted</td>\n",
       "      <td>Newcastle United-Burnley</td>\n",
       "      <td>30/09/2023</td>\n",
       "    </tr>\n",
       "    <tr>\n",
       "      <th>15</th>\n",
       "      <td>0.58</td>\n",
       "      <td>0.22</td>\n",
       "      <td>0.20</td>\n",
       "      <td>0.44</td>\n",
       "      <td>0.56</td>\n",
       "      <td>0.54</td>\n",
       "      <td>0.46</td>\n",
       "      <td>Predicted</td>\n",
       "      <td>West Ham-Sheffield United</td>\n",
       "      <td>30/09/2023</td>\n",
       "    </tr>\n",
       "    <tr>\n",
       "      <th>16</th>\n",
       "      <td>0.06</td>\n",
       "      <td>0.12</td>\n",
       "      <td>0.82</td>\n",
       "      <td>0.34</td>\n",
       "      <td>0.66</td>\n",
       "      <td>0.43</td>\n",
       "      <td>0.57</td>\n",
       "      <td>Predicted</td>\n",
       "      <td>Wolverhampton Wanderers-Manchester City</td>\n",
       "      <td>30/09/2023</td>\n",
       "    </tr>\n",
       "    <tr>\n",
       "      <th>17</th>\n",
       "      <td>0.48</td>\n",
       "      <td>0.20</td>\n",
       "      <td>0.32</td>\n",
       "      <td>0.23</td>\n",
       "      <td>0.77</td>\n",
       "      <td>0.75</td>\n",
       "      <td>0.25</td>\n",
       "      <td>Predicted</td>\n",
       "      <td>Tottenham-Liverpool</td>\n",
       "      <td>30/09/2023</td>\n",
       "    </tr>\n",
       "    <tr>\n",
       "      <th>18</th>\n",
       "      <td>0.32</td>\n",
       "      <td>0.25</td>\n",
       "      <td>0.43</td>\n",
       "      <td>0.48</td>\n",
       "      <td>0.52</td>\n",
       "      <td>0.55</td>\n",
       "      <td>0.45</td>\n",
       "      <td>Predicted</td>\n",
       "      <td>Nottingham Forest-Brentford</td>\n",
       "      <td>01/10/2023</td>\n",
       "    </tr>\n",
       "    <tr>\n",
       "      <th>19</th>\n",
       "      <td>0.27</td>\n",
       "      <td>0.22</td>\n",
       "      <td>0.51</td>\n",
       "      <td>0.38</td>\n",
       "      <td>0.62</td>\n",
       "      <td>0.62</td>\n",
       "      <td>0.38</td>\n",
       "      <td>Predicted</td>\n",
       "      <td>Fulham-Chelsea</td>\n",
       "      <td>02/10/2023</td>\n",
       "    </tr>\n",
       "    <tr>\n",
       "      <th>20</th>\n",
       "      <td>0.86</td>\n",
       "      <td>0.14</td>\n",
       "      <td>0.05</td>\n",
       "      <td>0.55</td>\n",
       "      <td>0.50</td>\n",
       "      <td>0.48</td>\n",
       "      <td>0.59</td>\n",
       "      <td>Bookmaker</td>\n",
       "      <td>Manchester City-Nottingham Forest</td>\n",
       "      <td>NaN</td>\n",
       "    </tr>\n",
       "    <tr>\n",
       "      <th>21</th>\n",
       "      <td>0.30</td>\n",
       "      <td>0.29</td>\n",
       "      <td>0.47</td>\n",
       "      <td>0.53</td>\n",
       "      <td>0.52</td>\n",
       "      <td>0.58</td>\n",
       "      <td>0.49</td>\n",
       "      <td>Bookmaker</td>\n",
       "      <td>Luton-Wolverhampton Wanderers</td>\n",
       "      <td>NaN</td>\n",
       "    </tr>\n",
       "    <tr>\n",
       "      <th>22</th>\n",
       "      <td>0.52</td>\n",
       "      <td>0.28</td>\n",
       "      <td>0.25</td>\n",
       "      <td>0.56</td>\n",
       "      <td>0.49</td>\n",
       "      <td>0.53</td>\n",
       "      <td>0.54</td>\n",
       "      <td>Bookmaker</td>\n",
       "      <td>Crystal Palace-Fulham</td>\n",
       "      <td>NaN</td>\n",
       "    </tr>\n",
       "    <tr>\n",
       "      <th>23</th>\n",
       "      <td>0.56</td>\n",
       "      <td>0.27</td>\n",
       "      <td>0.22</td>\n",
       "      <td>0.53</td>\n",
       "      <td>0.52</td>\n",
       "      <td>0.55</td>\n",
       "      <td>0.52</td>\n",
       "      <td>Bookmaker</td>\n",
       "      <td>Brentford-Everton</td>\n",
       "      <td>NaN</td>\n",
       "    </tr>\n",
       "    <tr>\n",
       "      <th>24</th>\n",
       "      <td>0.23</td>\n",
       "      <td>0.25</td>\n",
       "      <td>0.57</td>\n",
       "      <td>0.44</td>\n",
       "      <td>0.61</td>\n",
       "      <td>0.62</td>\n",
       "      <td>0.45</td>\n",
       "      <td>Bookmaker</td>\n",
       "      <td>Burnley-Manchester United</td>\n",
       "      <td>NaN</td>\n",
       "    </tr>\n",
       "    <tr>\n",
       "      <th>25</th>\n",
       "      <td>0.54</td>\n",
       "      <td>0.28</td>\n",
       "      <td>0.22</td>\n",
       "      <td>0.46</td>\n",
       "      <td>0.59</td>\n",
       "      <td>0.62</td>\n",
       "      <td>0.44</td>\n",
       "      <td>Bookmaker</td>\n",
       "      <td>Chelsea-Aston Villa</td>\n",
       "      <td>NaN</td>\n",
       "    </tr>\n",
       "    <tr>\n",
       "      <th>26</th>\n",
       "      <td>0.69</td>\n",
       "      <td>0.20</td>\n",
       "      <td>0.16</td>\n",
       "      <td>0.56</td>\n",
       "      <td>0.49</td>\n",
       "      <td>0.64</td>\n",
       "      <td>0.43</td>\n",
       "      <td>Bookmaker</td>\n",
       "      <td>Liverpool-West Ham</td>\n",
       "      <td>NaN</td>\n",
       "    </tr>\n",
       "    <tr>\n",
       "      <th>27</th>\n",
       "      <td>0.73</td>\n",
       "      <td>0.19</td>\n",
       "      <td>0.13</td>\n",
       "      <td>0.53</td>\n",
       "      <td>0.52</td>\n",
       "      <td>0.65</td>\n",
       "      <td>0.43</td>\n",
       "      <td>Bookmaker</td>\n",
       "      <td>Brighton-Bournemouth</td>\n",
       "      <td>NaN</td>\n",
       "    </tr>\n",
       "    <tr>\n",
       "      <th>28</th>\n",
       "      <td>0.58</td>\n",
       "      <td>0.24</td>\n",
       "      <td>0.23</td>\n",
       "      <td>0.61</td>\n",
       "      <td>0.44</td>\n",
       "      <td>0.65</td>\n",
       "      <td>0.42</td>\n",
       "      <td>Bookmaker</td>\n",
       "      <td>Arsenal-Tottenham</td>\n",
       "      <td>NaN</td>\n",
       "    </tr>\n",
       "    <tr>\n",
       "      <th>29</th>\n",
       "      <td>0.14</td>\n",
       "      <td>0.22</td>\n",
       "      <td>0.69</td>\n",
       "      <td>0.44</td>\n",
       "      <td>0.61</td>\n",
       "      <td>0.56</td>\n",
       "      <td>0.51</td>\n",
       "      <td>Bookmaker</td>\n",
       "      <td>Sheffield United-Newcastle United</td>\n",
       "      <td>NaN</td>\n",
       "    </tr>\n",
       "    <tr>\n",
       "      <th>30</th>\n",
       "      <td>0.38</td>\n",
       "      <td>0.27</td>\n",
       "      <td>0.40</td>\n",
       "      <td>0.59</td>\n",
       "      <td>0.46</td>\n",
       "      <td>0.70</td>\n",
       "      <td>0.36</td>\n",
       "      <td>Bookmaker</td>\n",
       "      <td>Aston Villa-Brighton</td>\n",
       "      <td>NaN</td>\n",
       "    </tr>\n",
       "    <tr>\n",
       "      <th>31</th>\n",
       "      <td>0.20</td>\n",
       "      <td>0.22</td>\n",
       "      <td>0.64</td>\n",
       "      <td>0.59</td>\n",
       "      <td>0.46</td>\n",
       "      <td>0.64</td>\n",
       "      <td>0.43</td>\n",
       "      <td>Bookmaker</td>\n",
       "      <td>Bournemouth-Arsenal</td>\n",
       "      <td>NaN</td>\n",
       "    </tr>\n",
       "    <tr>\n",
       "      <th>32</th>\n",
       "      <td>0.61</td>\n",
       "      <td>0.27</td>\n",
       "      <td>0.18</td>\n",
       "      <td>0.57</td>\n",
       "      <td>0.48</td>\n",
       "      <td>0.50</td>\n",
       "      <td>0.57</td>\n",
       "      <td>Bookmaker</td>\n",
       "      <td>Everton-Luton</td>\n",
       "      <td>NaN</td>\n",
       "    </tr>\n",
       "    <tr>\n",
       "      <th>33</th>\n",
       "      <td>0.65</td>\n",
       "      <td>0.23</td>\n",
       "      <td>0.18</td>\n",
       "      <td>0.44</td>\n",
       "      <td>0.61</td>\n",
       "      <td>0.58</td>\n",
       "      <td>0.49</td>\n",
       "      <td>Bookmaker</td>\n",
       "      <td>Manchester United-Crystal Palace</td>\n",
       "      <td>NaN</td>\n",
       "    </tr>\n",
       "    <tr>\n",
       "      <th>34</th>\n",
       "      <td>0.75</td>\n",
       "      <td>0.20</td>\n",
       "      <td>0.10</td>\n",
       "      <td>0.43</td>\n",
       "      <td>0.62</td>\n",
       "      <td>0.53</td>\n",
       "      <td>0.54</td>\n",
       "      <td>Bookmaker</td>\n",
       "      <td>Newcastle United-Burnley</td>\n",
       "      <td>NaN</td>\n",
       "    </tr>\n",
       "    <tr>\n",
       "      <th>35</th>\n",
       "      <td>0.66</td>\n",
       "      <td>0.23</td>\n",
       "      <td>0.16</td>\n",
       "      <td>0.44</td>\n",
       "      <td>0.61</td>\n",
       "      <td>0.57</td>\n",
       "      <td>0.50</td>\n",
       "      <td>Bookmaker</td>\n",
       "      <td>West Ham-Sheffield United</td>\n",
       "      <td>NaN</td>\n",
       "    </tr>\n",
       "    <tr>\n",
       "      <th>36</th>\n",
       "      <td>0.13</td>\n",
       "      <td>0.20</td>\n",
       "      <td>0.71</td>\n",
       "      <td>0.62</td>\n",
       "      <td>0.43</td>\n",
       "      <td>0.57</td>\n",
       "      <td>0.50</td>\n",
       "      <td>Bookmaker</td>\n",
       "      <td>Wolverhampton Wanderers-Manchester City</td>\n",
       "      <td>NaN</td>\n",
       "    </tr>\n",
       "    <tr>\n",
       "      <th>37</th>\n",
       "      <td>0.33</td>\n",
       "      <td>0.27</td>\n",
       "      <td>0.45</td>\n",
       "      <td>0.53</td>\n",
       "      <td>0.52</td>\n",
       "      <td>0.75</td>\n",
       "      <td>0.32</td>\n",
       "      <td>Bookmaker</td>\n",
       "      <td>Tottenham-Liverpool</td>\n",
       "      <td>NaN</td>\n",
       "    </tr>\n",
       "    <tr>\n",
       "      <th>38</th>\n",
       "      <td>0.32</td>\n",
       "      <td>0.31</td>\n",
       "      <td>0.42</td>\n",
       "      <td>0.54</td>\n",
       "      <td>0.51</td>\n",
       "      <td>0.59</td>\n",
       "      <td>0.48</td>\n",
       "      <td>Bookmaker</td>\n",
       "      <td>Nottingham Forest-Brentford</td>\n",
       "      <td>NaN</td>\n",
       "    </tr>\n",
       "    <tr>\n",
       "      <th>39</th>\n",
       "      <td>0.26</td>\n",
       "      <td>0.28</td>\n",
       "      <td>0.51</td>\n",
       "      <td>0.50</td>\n",
       "      <td>0.55</td>\n",
       "      <td>0.59</td>\n",
       "      <td>0.48</td>\n",
       "      <td>Bookmaker</td>\n",
       "      <td>Fulham-Chelsea</td>\n",
       "      <td>NaN</td>\n",
       "    </tr>\n",
       "  </tbody>\n",
       "</table>\n",
       "</div>"
      ],
      "text/plain": [
       "    P(Hwin)  P(Draw)  P(Awin)  P(Under)  P(Over)  P(GG)  P(NG)       Type  \\\n",
       "0      0.91     0.08     0.02      0.38     0.62   0.21   0.79  Predicted   \n",
       "1      0.40     0.24     0.36      0.41     0.59   0.62   0.38  Predicted   \n",
       "2      0.54     0.22     0.24      0.38     0.62   0.61   0.39  Predicted   \n",
       "3      0.62     0.20     0.18      0.39     0.61   0.56   0.44  Predicted   \n",
       "4      0.30     0.25     0.46      0.46     0.54   0.57   0.43  Predicted   \n",
       "5      0.55     0.20     0.25      0.28     0.72   0.69   0.31  Predicted   \n",
       "6      0.71     0.17     0.13      0.32     0.68   0.58   0.42  Predicted   \n",
       "7      0.82     0.11     0.06      0.26     0.74   0.52   0.48  Predicted   \n",
       "8      0.61     0.19     0.20      0.27     0.73   0.68   0.32  Predicted   \n",
       "9      0.09     0.19     0.72      0.54     0.46   0.35   0.65  Predicted   \n",
       "10     0.30     0.22     0.47      0.35     0.65   0.65   0.35  Predicted   \n",
       "11     0.11     0.15     0.73      0.29     0.71   0.58   0.42  Predicted   \n",
       "12     0.55     0.24     0.21      0.53     0.47   0.48   0.52  Predicted   \n",
       "13     0.57     0.20     0.22      0.33     0.67   0.64   0.36  Predicted   \n",
       "14     0.68     0.19     0.14      0.40     0.60   0.52   0.48  Predicted   \n",
       "15     0.58     0.22     0.20      0.44     0.56   0.54   0.46  Predicted   \n",
       "16     0.06     0.12     0.82      0.34     0.66   0.43   0.57  Predicted   \n",
       "17     0.48     0.20     0.32      0.23     0.77   0.75   0.25  Predicted   \n",
       "18     0.32     0.25     0.43      0.48     0.52   0.55   0.45  Predicted   \n",
       "19     0.27     0.22     0.51      0.38     0.62   0.62   0.38  Predicted   \n",
       "20     0.86     0.14     0.05      0.55     0.50   0.48   0.59  Bookmaker   \n",
       "21     0.30     0.29     0.47      0.53     0.52   0.58   0.49  Bookmaker   \n",
       "22     0.52     0.28     0.25      0.56     0.49   0.53   0.54  Bookmaker   \n",
       "23     0.56     0.27     0.22      0.53     0.52   0.55   0.52  Bookmaker   \n",
       "24     0.23     0.25     0.57      0.44     0.61   0.62   0.45  Bookmaker   \n",
       "25     0.54     0.28     0.22      0.46     0.59   0.62   0.44  Bookmaker   \n",
       "26     0.69     0.20     0.16      0.56     0.49   0.64   0.43  Bookmaker   \n",
       "27     0.73     0.19     0.13      0.53     0.52   0.65   0.43  Bookmaker   \n",
       "28     0.58     0.24     0.23      0.61     0.44   0.65   0.42  Bookmaker   \n",
       "29     0.14     0.22     0.69      0.44     0.61   0.56   0.51  Bookmaker   \n",
       "30     0.38     0.27     0.40      0.59     0.46   0.70   0.36  Bookmaker   \n",
       "31     0.20     0.22     0.64      0.59     0.46   0.64   0.43  Bookmaker   \n",
       "32     0.61     0.27     0.18      0.57     0.48   0.50   0.57  Bookmaker   \n",
       "33     0.65     0.23     0.18      0.44     0.61   0.58   0.49  Bookmaker   \n",
       "34     0.75     0.20     0.10      0.43     0.62   0.53   0.54  Bookmaker   \n",
       "35     0.66     0.23     0.16      0.44     0.61   0.57   0.50  Bookmaker   \n",
       "36     0.13     0.20     0.71      0.62     0.43   0.57   0.50  Bookmaker   \n",
       "37     0.33     0.27     0.45      0.53     0.52   0.75   0.32  Bookmaker   \n",
       "38     0.32     0.31     0.42      0.54     0.51   0.59   0.48  Bookmaker   \n",
       "39     0.26     0.28     0.51      0.50     0.55   0.59   0.48  Bookmaker   \n",
       "\n",
       "                                      Match        Date  \n",
       "0         Manchester City-Nottingham Forest  23/09/2023  \n",
       "1             Luton-Wolverhampton Wanderers  23/09/2023  \n",
       "2                     Crystal Palace-Fulham  23/09/2023  \n",
       "3                         Brentford-Everton  23/09/2023  \n",
       "4                 Burnley-Manchester United  23/09/2023  \n",
       "5                       Chelsea-Aston Villa  24/09/2023  \n",
       "6                        Liverpool-West Ham  24/09/2023  \n",
       "7                      Brighton-Bournemouth  24/09/2023  \n",
       "8                         Arsenal-Tottenham  24/09/2023  \n",
       "9         Sheffield United-Newcastle United  24/09/2023  \n",
       "10                     Aston Villa-Brighton  30/09/2023  \n",
       "11                      Bournemouth-Arsenal  30/09/2023  \n",
       "12                            Everton-Luton  30/09/2023  \n",
       "13         Manchester United-Crystal Palace  30/09/2023  \n",
       "14                 Newcastle United-Burnley  30/09/2023  \n",
       "15                West Ham-Sheffield United  30/09/2023  \n",
       "16  Wolverhampton Wanderers-Manchester City  30/09/2023  \n",
       "17                      Tottenham-Liverpool  30/09/2023  \n",
       "18              Nottingham Forest-Brentford  01/10/2023  \n",
       "19                           Fulham-Chelsea  02/10/2023  \n",
       "20        Manchester City-Nottingham Forest         NaN  \n",
       "21            Luton-Wolverhampton Wanderers         NaN  \n",
       "22                    Crystal Palace-Fulham         NaN  \n",
       "23                        Brentford-Everton         NaN  \n",
       "24                Burnley-Manchester United         NaN  \n",
       "25                      Chelsea-Aston Villa         NaN  \n",
       "26                       Liverpool-West Ham         NaN  \n",
       "27                     Brighton-Bournemouth         NaN  \n",
       "28                        Arsenal-Tottenham         NaN  \n",
       "29        Sheffield United-Newcastle United         NaN  \n",
       "30                     Aston Villa-Brighton         NaN  \n",
       "31                      Bournemouth-Arsenal         NaN  \n",
       "32                            Everton-Luton         NaN  \n",
       "33         Manchester United-Crystal Palace         NaN  \n",
       "34                 Newcastle United-Burnley         NaN  \n",
       "35                West Ham-Sheffield United         NaN  \n",
       "36  Wolverhampton Wanderers-Manchester City         NaN  \n",
       "37                      Tottenham-Liverpool         NaN  \n",
       "38              Nottingham Forest-Brentford         NaN  \n",
       "39                           Fulham-Chelsea         NaN  "
      ]
     },
     "metadata": {},
     "output_type": "display_data"
    }
   ],
   "source": [
    "k = range(12)\n",
    "PH = np.zeros((len(k), 1))\n",
    "PA = np.zeros((1, len(k)))\n",
    "PRED['P(Hwin)']= np.nan\n",
    "PRED['P(Awin)']= np.nan\n",
    "PRED['P(Draw)']= np.nan\n",
    "PRED['P(Over)']= np.nan\n",
    "PRED['P(Under)']= np.nan\n",
    "PRED['P(GG)']=np.nan\n",
    "PRED['P(NG)']=np.nan\n",
    "\n",
    "Pie_list = []\n",
    "for j, l in enumerate(LamdaHome):\n",
    "    for i in k:\n",
    "        PH[i, 0] = (math.exp(-l)*l**k[i]) /math.factorial(k[i])\n",
    "        PA[0, i] = (math.exp(-LamdaAway[j])*LamdaAway[j]**k[i]) /math.factorial(k[i])\n",
    "    Pscore = np.matmul(PH, PA) \n",
    "    df = pd.DataFrame(Pscore, columns = ['0','1','2', '3', '4', '5', '6', '7', '8', '9', '10', '11'])\n",
    "    PRED.loc[j,'P(Awin)'], PRED.loc[j,'P(Hwin)'], PRED.loc[j,'P(Draw)'], PRED.loc[j,'P(Over)'], PRED.loc[j,'P(Under)'], PRED.loc[j,'P(NG)'], PRED.loc[j,'P(GG)']  = sum_of_lower_upper(Pscore)\n",
    "    PRED['P(Over)'] = 1 - PRED['P(Under)']\n",
    "    df = df.iloc[0:5, 0:5]\n",
    "    pd.set_option('display.float_format', lambda x: '%.3f' % x)\n",
    "    \n",
    "    G = []\n",
    "    for i in range(0, 5):\n",
    "        for j in range(0, 5):\n",
    "            G.append(df.loc[i][j])\n",
    "\n",
    "            \n",
    "    Pie_Df = pd.DataFrame(G, columns = ['P(score)'])\n",
    "    Pie_Df['score']= ['0 - 0',\n",
    "                      '0 - 1',\n",
    "                      '0 - 2',\n",
    "                      '0 - 3',\n",
    "                      '0 - 4',\n",
    "                      '1 - 0',\n",
    "                      '1 - 1',\n",
    "                      '1 - 2',\n",
    "                      '1 - 3',\n",
    "                      '1 - 4',\n",
    "                      '2 - 0',\n",
    "                      '2 - 1',\n",
    "                      '2 - 2',\n",
    "                      '2 - 3',\n",
    "                      '2 - 4',\n",
    "                      '3 - 0',\n",
    "                      '3 - 1',\n",
    "                      '3 - 2',\n",
    "                      '3 - 3',\n",
    "                      '3 - 4',\n",
    "                      '4 - 0',\n",
    "                      '4 - 1',\n",
    "                      '4 - 2',\n",
    "                      '4 - 3',\n",
    "                      '4 - 4']\n",
    "    Pie_Df.loc[Pie_Df[\"P(score)\"] < 0.02, \"score\"] = 'Other'\n",
    "    Pie_Df = Pie_Df.sort_values(by=['P(score)'], ascending=False)\n",
    "    Pie_list.append(Pie_Df)\n",
    "    \n",
    "\n",
    "PRED = PRED[['Date', 'HTeam', 'ATeam', 'P(Hwin)', 'P(Draw)', 'P(Awin)', 'P(Under)', 'P(Over)', 'P(GG)', 'P(NG)']]\n",
    "with pd.option_context('display.max_rows', None, 'display.max_columns', None):  # more options can be specified also\n",
    "    display(PRED)\n",
    "\n",
    "pd.options.display.float_format = '{:.2f}'.format\n",
    "disp_pred = PRED.copy()\n",
    "disp_pred.rename(columns = {'ATeam':'Away Team'}, inplace = True)\n",
    "disp_pred.rename(columns = {'HTeam':'Home Team'}, inplace = True)\n",
    "html_table_blue_light = build_table(disp_pred, 'blue_light')\n",
    "\n",
    "# Save to html file\n",
    "with open('UpcomingMatchesPrediction.html', 'w') as f:\n",
    "    f.write(html_table_blue_light)\n",
    "\n",
    "Final_Odds = pd.concat([PRED, Odds], axis=0)\n",
    "Final_Odds['Type'] = np.nan\n",
    "Final_Odds['Match'] = np.nan\n",
    "Final_Odds = Final_Odds.reset_index(drop = 'True')\n",
    "Final_Odds.loc[Final_Odds['B365H'].isnull(), 'Type'] = 'Predicted'\n",
    "Final_Odds.loc[Final_Odds['P(Hwin)'].isnull(), 'Type'] = 'Bookmaker'\n",
    "\n",
    "for i, x in enumerate(Final_Odds['Match']):\n",
    "    Final_Odds['Match'][i] = str(Final_Odds['HTeam'][i] + '-' + Final_Odds['ATeam'][i])\n",
    "\n",
    "li  = Final_Odds.index[Final_Odds['Type'] == 'Bookmaker'].tolist()\n",
    "for i in li:\n",
    "    Final_Odds['P(Hwin)'][i] = 1/Final_Odds.iloc[i]['B365H']\n",
    "    Final_Odds['P(Awin)'][i] = 1/Final_Odds.iloc[i]['B365A']\n",
    "    Final_Odds['P(Draw)'][i] = 1/Final_Odds.iloc[i]['B365D']\n",
    "    Final_Odds['P(Over)'][i] = 1/Final_Odds.iloc[i]['BbAv>2.5']\n",
    "    Final_Odds['P(Under)'][i] = 1/Final_Odds.iloc[i]['BbAv<2.5']\n",
    "    Final_Odds['P(GG)'][i] = 1/Final_Odds.iloc[i]['GG']\n",
    "    Final_Odds['P(NG)'][i] = 1/Final_Odds.iloc[i]['NG']\n",
    "\n",
    "Final_Odds = Final_Odds[['P(Hwin)', 'P(Draw)', 'P(Awin)', 'P(Under)', 'P(Over)', 'P(GG)', 'P(NG)', 'Type', 'Match', 'Date']].copy()\n",
    "\n",
    "with pd.option_context('display.max_rows', None, 'display.max_columns', None):  # more options can be specified also\n",
    "    display(Final_Odds)\n",
    "\n",
    "    "
   ]
  },
  {
   "cell_type": "code",
   "execution_count": 213,
   "metadata": {},
   "outputs": [
    {
     "data": {
      "application/vnd.plotly.v1+json": {
       "config": {
        "plotlyServerURL": "https://plot.ly"
       },
       "data": [
        {
         "marker": {
          "color": "rgb(141,211,199)"
         },
         "name": "Predicted Home Win",
         "type": "bar",
         "x": [
          "Manchester City-Nottingham Forest",
          "Luton-Wolverhampton Wanderers",
          "Crystal Palace-Fulham",
          "Brentford-Everton",
          "Burnley-Manchester United",
          "Chelsea-Aston Villa",
          "Liverpool-West Ham",
          "Brighton-Bournemouth",
          "Arsenal-Tottenham",
          "Sheffield United-Newcastle United",
          "Aston Villa-Brighton",
          "Bournemouth-Arsenal",
          "Everton-Luton",
          "Manchester United-Crystal Palace",
          "Newcastle United-Burnley",
          "West Ham-Sheffield United",
          "Wolverhampton Wanderers-Manchester City",
          "Tottenham-Liverpool",
          "Nottingham Forest-Brentford",
          "Fulham-Chelsea"
         ],
         "xaxis": "x",
         "y": [
          0.9057387897641799,
          0.40458609464269946,
          0.5401202620600705,
          0.6209269270317953,
          0.29680167981609773,
          0.5537706519388551,
          0.7054240112778054,
          0.8233632251719832,
          0.6140974384478652,
          0.08730090247732561,
          0.30278764445470757,
          0.11267243398419466,
          0.5503491844499642,
          0.5708928361471746,
          0.6786031236471975,
          0.5841937137343279,
          0.05732881552675222,
          0.47571822802589736,
          0.3179602051086879,
          0.26621222707299125
         ],
         "yaxis": "y"
        },
        {
         "marker": {
          "color": "rgb(82, 106, 131)"
         },
         "name": "Bookmaker Home Win",
         "type": "bar",
         "x": [
          "Manchester City-Nottingham Forest",
          "Luton-Wolverhampton Wanderers",
          "Crystal Palace-Fulham",
          "Brentford-Everton",
          "Burnley-Manchester United",
          "Chelsea-Aston Villa",
          "Liverpool-West Ham",
          "Brighton-Bournemouth",
          "Arsenal-Tottenham",
          "Sheffield United-Newcastle United",
          "Aston Villa-Brighton",
          "Bournemouth-Arsenal",
          "Everton-Luton",
          "Manchester United-Crystal Palace",
          "Newcastle United-Burnley",
          "West Ham-Sheffield United",
          "Wolverhampton Wanderers-Manchester City",
          "Tottenham-Liverpool",
          "Nottingham Forest-Brentford",
          "Fulham-Chelsea"
         ],
         "xaxis": "x",
         "y": [
          0.8620689655172414,
          0.29850746268656714,
          0.5235602094240838,
          0.5617977528089888,
          0.22727272727272727,
          0.5405405405405405,
          0.6896551724137931,
          0.7299270072992701,
          0.5813953488372093,
          0.14492753623188406,
          0.37735849056603776,
          0.19607843137254904,
          0.6060606060606061,
          0.6451612903225806,
          0.7462686567164178,
          0.6578947368421053,
          0.12987012987012986,
          0.3278688524590164,
          0.3225806451612903,
          0.2597402597402597
         ],
         "yaxis": "y"
        },
        {
         "marker": {
          "color": "rgb(141,211,199)"
         },
         "name": "Predicted Draw",
         "type": "bar",
         "x": [
          "Manchester City-Nottingham Forest",
          "Luton-Wolverhampton Wanderers",
          "Crystal Palace-Fulham",
          "Brentford-Everton",
          "Burnley-Manchester United",
          "Chelsea-Aston Villa",
          "Liverpool-West Ham",
          "Brighton-Bournemouth",
          "Arsenal-Tottenham",
          "Sheffield United-Newcastle United",
          "Aston Villa-Brighton",
          "Bournemouth-Arsenal",
          "Everton-Luton",
          "Manchester United-Crystal Palace",
          "Newcastle United-Burnley",
          "West Ham-Sheffield United",
          "Wolverhampton Wanderers-Manchester City",
          "Tottenham-Liverpool",
          "Nottingham Forest-Brentford",
          "Fulham-Chelsea"
         ],
         "xaxis": "x",
         "y": [
          0.077858936278839,
          0.2389771729827586,
          0.21938782264460627,
          0.20285369247491525,
          0.24544509162293174,
          0.20039161288830912,
          0.16602992538651268,
          0.11257526612938228,
          0.18607943009401626,
          0.19008610303679016,
          0.22309429976000492,
          0.15246291121266675,
          0.2438652997713162,
          0.20444465605154014,
          0.18624076763270056,
          0.21983519686460357,
          0.1203289781720832,
          0.20153223103603132,
          0.2533752776248951,
          0.22476363260897467
         ],
         "yaxis": "y"
        },
        {
         "marker": {
          "color": "rgb(82, 106, 131)"
         },
         "name": "Bookmaker Draw",
         "type": "bar",
         "x": [
          "Manchester City-Nottingham Forest",
          "Luton-Wolverhampton Wanderers",
          "Crystal Palace-Fulham",
          "Brentford-Everton",
          "Burnley-Manchester United",
          "Chelsea-Aston Villa",
          "Liverpool-West Ham",
          "Brighton-Bournemouth",
          "Arsenal-Tottenham",
          "Sheffield United-Newcastle United",
          "Aston Villa-Brighton",
          "Bournemouth-Arsenal",
          "Everton-Luton",
          "Manchester United-Crystal Palace",
          "Newcastle United-Burnley",
          "West Ham-Sheffield United",
          "Wolverhampton Wanderers-Manchester City",
          "Tottenham-Liverpool",
          "Nottingham Forest-Brentford",
          "Fulham-Chelsea"
         ],
         "xaxis": "x",
         "y": [
          0.136986301369863,
          0.2857142857142857,
          0.28169014084507044,
          0.27027027027027023,
          0.25,
          0.28169014084507044,
          0.2040816326530612,
          0.18867924528301888,
          0.23529411764705882,
          0.2173913043478261,
          0.27027027027027023,
          0.2150537634408602,
          0.27027027027027023,
          0.2298850574712644,
          0.2,
          0.22727272727272727,
          0.2040816326530612,
          0.26666666666666666,
          0.3076923076923077,
          0.2777777777777778
         ],
         "yaxis": "y"
        },
        {
         "marker": {
          "color": "rgb(141,211,199)"
         },
         "name": "Predicted Away Win",
         "type": "bar",
         "x": [
          "Manchester City-Nottingham Forest",
          "Luton-Wolverhampton Wanderers",
          "Crystal Palace-Fulham",
          "Brentford-Everton",
          "Burnley-Manchester United",
          "Chelsea-Aston Villa",
          "Liverpool-West Ham",
          "Brighton-Bournemouth",
          "Arsenal-Tottenham",
          "Sheffield United-Newcastle United",
          "Aston Villa-Brighton",
          "Bournemouth-Arsenal",
          "Everton-Luton",
          "Manchester United-Crystal Palace",
          "Newcastle United-Burnley",
          "West Ham-Sheffield United",
          "Wolverhampton Wanderers-Manchester City",
          "Tottenham-Liverpool",
          "Nottingham Forest-Brentford",
          "Fulham-Chelsea"
         ],
         "xaxis": "x",
         "y": [
          0.016344685257578217,
          0.35643653979793294,
          0.24049082407099787,
          0.17621706133403134,
          0.45775307680088956,
          0.24583309822307534,
          0.1285321651035362,
          0.06397253678029066,
          0.19981319171787598,
          0.7226116930418364,
          0.47411724530084814,
          0.7348394763062973,
          0.20578531637069217,
          0.22465945264863066,
          0.13515212009749755,
          0.19597020807139254,
          0.8223063599098084,
          0.3227447752625756,
          0.4286644412571032,
          0.5090233868160124
         ],
         "yaxis": "y"
        },
        {
         "marker": {
          "color": "rgb(82, 106, 131)"
         },
         "name": "Bookmaker Away Win",
         "type": "bar",
         "x": [
          "Manchester City-Nottingham Forest",
          "Luton-Wolverhampton Wanderers",
          "Crystal Palace-Fulham",
          "Brentford-Everton",
          "Burnley-Manchester United",
          "Chelsea-Aston Villa",
          "Liverpool-West Ham",
          "Brighton-Bournemouth",
          "Arsenal-Tottenham",
          "Sheffield United-Newcastle United",
          "Aston Villa-Brighton",
          "Bournemouth-Arsenal",
          "Everton-Luton",
          "Manchester United-Crystal Palace",
          "Newcastle United-Burnley",
          "West Ham-Sheffield United",
          "Wolverhampton Wanderers-Manchester City",
          "Tottenham-Liverpool",
          "Nottingham Forest-Brentford",
          "Fulham-Chelsea"
         ],
         "xaxis": "x",
         "y": [
          0.05405405405405406,
          0.46511627906976744,
          0.2469135802469136,
          0.2222222222222222,
          0.5714285714285714,
          0.2247191011235955,
          0.15873015873015872,
          0.13157894736842105,
          0.23255813953488372,
          0.6896551724137931,
          0.4048582995951417,
          0.6369426751592356,
          0.17857142857142858,
          0.17543859649122806,
          0.1,
          0.1639344262295082,
          0.7142857142857143,
          0.45454545454545453,
          0.42194092827004215,
          0.5128205128205129
         ],
         "yaxis": "y"
        },
        {
         "marker": {
          "color": "rgb(141,211,199)"
         },
         "name": "Predicted Over",
         "type": "bar",
         "x": [
          "Manchester City-Nottingham Forest",
          "Luton-Wolverhampton Wanderers",
          "Crystal Palace-Fulham",
          "Brentford-Everton",
          "Burnley-Manchester United",
          "Chelsea-Aston Villa",
          "Liverpool-West Ham",
          "Brighton-Bournemouth",
          "Arsenal-Tottenham",
          "Sheffield United-Newcastle United",
          "Aston Villa-Brighton",
          "Bournemouth-Arsenal",
          "Everton-Luton",
          "Manchester United-Crystal Palace",
          "Newcastle United-Burnley",
          "West Ham-Sheffield United",
          "Wolverhampton Wanderers-Manchester City",
          "Tottenham-Liverpool",
          "Nottingham Forest-Brentford",
          "Fulham-Chelsea"
         ],
         "xaxis": "x2",
         "y": [
          0.6159371853653154,
          0.5946091689070205,
          0.6192128721831036,
          0.6068309791552006,
          0.5437702209973727,
          0.718457838212766,
          0.6831921825942253,
          0.7406309426036954,
          0.7294065172266442,
          0.4603057650684865,
          0.6528307856709209,
          0.708513598806624,
          0.4742080463172167,
          0.6730537971965586,
          0.600118436734498,
          0.5609788943773545,
          0.6615522998477175,
          0.7720839977300908,
          0.518181832681597,
          0.618395738893197
         ],
         "yaxis": "y2"
        },
        {
         "marker": {
          "color": "rgb(82, 106, 131)"
         },
         "name": "Bookmaker Over",
         "type": "bar",
         "x": [
          "Manchester City-Nottingham Forest",
          "Luton-Wolverhampton Wanderers",
          "Crystal Palace-Fulham",
          "Brentford-Everton",
          "Burnley-Manchester United",
          "Chelsea-Aston Villa",
          "Liverpool-West Ham",
          "Brighton-Bournemouth",
          "Arsenal-Tottenham",
          "Sheffield United-Newcastle United",
          "Aston Villa-Brighton",
          "Bournemouth-Arsenal",
          "Everton-Luton",
          "Manchester United-Crystal Palace",
          "Newcastle United-Burnley",
          "West Ham-Sheffield United",
          "Wolverhampton Wanderers-Manchester City",
          "Tottenham-Liverpool",
          "Nottingham Forest-Brentford",
          "Fulham-Chelsea"
         ],
         "xaxis": "x2",
         "y": [
          0.5,
          0.5181347150259068,
          0.48780487804878053,
          0.5235602094240838,
          0.6060606060606061,
          0.5882352941176471,
          0.48780487804878053,
          0.5235602094240838,
          0.4444444444444444,
          0.6060606060606061,
          0.4587155963302752,
          0.4587155963302752,
          0.47619047619047616,
          0.6060606060606061,
          0.625,
          0.6060606060606061,
          0.4310344827586207,
          0.5181347150259068,
          0.5128205128205129,
          0.5494505494505494
         ],
         "yaxis": "y2"
        },
        {
         "marker": {
          "color": "rgb(141,211,199)"
         },
         "name": "Predicted Under",
         "type": "bar",
         "x": [
          "Manchester City-Nottingham Forest",
          "Luton-Wolverhampton Wanderers",
          "Crystal Palace-Fulham",
          "Brentford-Everton",
          "Burnley-Manchester United",
          "Chelsea-Aston Villa",
          "Liverpool-West Ham",
          "Brighton-Bournemouth",
          "Arsenal-Tottenham",
          "Sheffield United-Newcastle United",
          "Aston Villa-Brighton",
          "Bournemouth-Arsenal",
          "Everton-Luton",
          "Manchester United-Crystal Palace",
          "Newcastle United-Burnley",
          "West Ham-Sheffield United",
          "Wolverhampton Wanderers-Manchester City",
          "Tottenham-Liverpool",
          "Nottingham Forest-Brentford",
          "Fulham-Chelsea"
         ],
         "xaxis": "x2",
         "y": [
          0.3840628146346846,
          0.4053908310929795,
          0.3807871278168964,
          0.39316902084479943,
          0.4562297790026273,
          0.28154216178723396,
          0.31680781740577474,
          0.2593690573963046,
          0.2705934827733558,
          0.5396942349315135,
          0.3471692143290791,
          0.29148640119337593,
          0.5257919536827833,
          0.32694620280344144,
          0.3998815632655019,
          0.4390211056226455,
          0.3384477001522826,
          0.2279160022699091,
          0.48181816731840305,
          0.381604261106803
         ],
         "yaxis": "y2"
        },
        {
         "marker": {
          "color": "rgb(82, 106, 131)"
         },
         "name": "Bookmaker Under",
         "type": "bar",
         "x": [
          "Manchester City-Nottingham Forest",
          "Luton-Wolverhampton Wanderers",
          "Crystal Palace-Fulham",
          "Brentford-Everton",
          "Burnley-Manchester United",
          "Chelsea-Aston Villa",
          "Liverpool-West Ham",
          "Brighton-Bournemouth",
          "Arsenal-Tottenham",
          "Sheffield United-Newcastle United",
          "Aston Villa-Brighton",
          "Bournemouth-Arsenal",
          "Everton-Luton",
          "Manchester United-Crystal Palace",
          "Newcastle United-Burnley",
          "West Ham-Sheffield United",
          "Wolverhampton Wanderers-Manchester City",
          "Tottenham-Liverpool",
          "Nottingham Forest-Brentford",
          "Fulham-Chelsea"
         ],
         "xaxis": "x2",
         "y": [
          0.5494505494505494,
          0.5319148936170213,
          0.5617977528089888,
          0.5263157894736842,
          0.44052863436123346,
          0.4587155963302752,
          0.5617977528089888,
          0.5263157894736842,
          0.6060606060606061,
          0.44052863436123346,
          0.5882352941176471,
          0.5882352941176471,
          0.5714285714285714,
          0.44052863436123346,
          0.425531914893617,
          0.4444444444444444,
          0.6172839506172839,
          0.53475935828877,
          0.5405405405405405,
          0.5
         ],
         "yaxis": "y2"
        }
       ],
       "layout": {
        "height": 1000,
        "template": {
         "data": {
          "bar": [
           {
            "error_x": {
             "color": "#2a3f5f"
            },
            "error_y": {
             "color": "#2a3f5f"
            },
            "marker": {
             "line": {
              "color": "#E5ECF6",
              "width": 0.5
             },
             "pattern": {
              "fillmode": "overlay",
              "size": 10,
              "solidity": 0.2
             }
            },
            "type": "bar"
           }
          ],
          "barpolar": [
           {
            "marker": {
             "line": {
              "color": "#E5ECF6",
              "width": 0.5
             },
             "pattern": {
              "fillmode": "overlay",
              "size": 10,
              "solidity": 0.2
             }
            },
            "type": "barpolar"
           }
          ],
          "carpet": [
           {
            "aaxis": {
             "endlinecolor": "#2a3f5f",
             "gridcolor": "white",
             "linecolor": "white",
             "minorgridcolor": "white",
             "startlinecolor": "#2a3f5f"
            },
            "baxis": {
             "endlinecolor": "#2a3f5f",
             "gridcolor": "white",
             "linecolor": "white",
             "minorgridcolor": "white",
             "startlinecolor": "#2a3f5f"
            },
            "type": "carpet"
           }
          ],
          "choropleth": [
           {
            "colorbar": {
             "outlinewidth": 0,
             "ticks": ""
            },
            "type": "choropleth"
           }
          ],
          "contour": [
           {
            "colorbar": {
             "outlinewidth": 0,
             "ticks": ""
            },
            "colorscale": [
             [
              0,
              "#0d0887"
             ],
             [
              0.1111111111111111,
              "#46039f"
             ],
             [
              0.2222222222222222,
              "#7201a8"
             ],
             [
              0.3333333333333333,
              "#9c179e"
             ],
             [
              0.4444444444444444,
              "#bd3786"
             ],
             [
              0.5555555555555556,
              "#d8576b"
             ],
             [
              0.6666666666666666,
              "#ed7953"
             ],
             [
              0.7777777777777778,
              "#fb9f3a"
             ],
             [
              0.8888888888888888,
              "#fdca26"
             ],
             [
              1,
              "#f0f921"
             ]
            ],
            "type": "contour"
           }
          ],
          "contourcarpet": [
           {
            "colorbar": {
             "outlinewidth": 0,
             "ticks": ""
            },
            "type": "contourcarpet"
           }
          ],
          "heatmap": [
           {
            "colorbar": {
             "outlinewidth": 0,
             "ticks": ""
            },
            "colorscale": [
             [
              0,
              "#0d0887"
             ],
             [
              0.1111111111111111,
              "#46039f"
             ],
             [
              0.2222222222222222,
              "#7201a8"
             ],
             [
              0.3333333333333333,
              "#9c179e"
             ],
             [
              0.4444444444444444,
              "#bd3786"
             ],
             [
              0.5555555555555556,
              "#d8576b"
             ],
             [
              0.6666666666666666,
              "#ed7953"
             ],
             [
              0.7777777777777778,
              "#fb9f3a"
             ],
             [
              0.8888888888888888,
              "#fdca26"
             ],
             [
              1,
              "#f0f921"
             ]
            ],
            "type": "heatmap"
           }
          ],
          "heatmapgl": [
           {
            "colorbar": {
             "outlinewidth": 0,
             "ticks": ""
            },
            "colorscale": [
             [
              0,
              "#0d0887"
             ],
             [
              0.1111111111111111,
              "#46039f"
             ],
             [
              0.2222222222222222,
              "#7201a8"
             ],
             [
              0.3333333333333333,
              "#9c179e"
             ],
             [
              0.4444444444444444,
              "#bd3786"
             ],
             [
              0.5555555555555556,
              "#d8576b"
             ],
             [
              0.6666666666666666,
              "#ed7953"
             ],
             [
              0.7777777777777778,
              "#fb9f3a"
             ],
             [
              0.8888888888888888,
              "#fdca26"
             ],
             [
              1,
              "#f0f921"
             ]
            ],
            "type": "heatmapgl"
           }
          ],
          "histogram": [
           {
            "marker": {
             "pattern": {
              "fillmode": "overlay",
              "size": 10,
              "solidity": 0.2
             }
            },
            "type": "histogram"
           }
          ],
          "histogram2d": [
           {
            "colorbar": {
             "outlinewidth": 0,
             "ticks": ""
            },
            "colorscale": [
             [
              0,
              "#0d0887"
             ],
             [
              0.1111111111111111,
              "#46039f"
             ],
             [
              0.2222222222222222,
              "#7201a8"
             ],
             [
              0.3333333333333333,
              "#9c179e"
             ],
             [
              0.4444444444444444,
              "#bd3786"
             ],
             [
              0.5555555555555556,
              "#d8576b"
             ],
             [
              0.6666666666666666,
              "#ed7953"
             ],
             [
              0.7777777777777778,
              "#fb9f3a"
             ],
             [
              0.8888888888888888,
              "#fdca26"
             ],
             [
              1,
              "#f0f921"
             ]
            ],
            "type": "histogram2d"
           }
          ],
          "histogram2dcontour": [
           {
            "colorbar": {
             "outlinewidth": 0,
             "ticks": ""
            },
            "colorscale": [
             [
              0,
              "#0d0887"
             ],
             [
              0.1111111111111111,
              "#46039f"
             ],
             [
              0.2222222222222222,
              "#7201a8"
             ],
             [
              0.3333333333333333,
              "#9c179e"
             ],
             [
              0.4444444444444444,
              "#bd3786"
             ],
             [
              0.5555555555555556,
              "#d8576b"
             ],
             [
              0.6666666666666666,
              "#ed7953"
             ],
             [
              0.7777777777777778,
              "#fb9f3a"
             ],
             [
              0.8888888888888888,
              "#fdca26"
             ],
             [
              1,
              "#f0f921"
             ]
            ],
            "type": "histogram2dcontour"
           }
          ],
          "mesh3d": [
           {
            "colorbar": {
             "outlinewidth": 0,
             "ticks": ""
            },
            "type": "mesh3d"
           }
          ],
          "parcoords": [
           {
            "line": {
             "colorbar": {
              "outlinewidth": 0,
              "ticks": ""
             }
            },
            "type": "parcoords"
           }
          ],
          "pie": [
           {
            "automargin": true,
            "type": "pie"
           }
          ],
          "scatter": [
           {
            "fillpattern": {
             "fillmode": "overlay",
             "size": 10,
             "solidity": 0.2
            },
            "type": "scatter"
           }
          ],
          "scatter3d": [
           {
            "line": {
             "colorbar": {
              "outlinewidth": 0,
              "ticks": ""
             }
            },
            "marker": {
             "colorbar": {
              "outlinewidth": 0,
              "ticks": ""
             }
            },
            "type": "scatter3d"
           }
          ],
          "scattercarpet": [
           {
            "marker": {
             "colorbar": {
              "outlinewidth": 0,
              "ticks": ""
             }
            },
            "type": "scattercarpet"
           }
          ],
          "scattergeo": [
           {
            "marker": {
             "colorbar": {
              "outlinewidth": 0,
              "ticks": ""
             }
            },
            "type": "scattergeo"
           }
          ],
          "scattergl": [
           {
            "marker": {
             "colorbar": {
              "outlinewidth": 0,
              "ticks": ""
             }
            },
            "type": "scattergl"
           }
          ],
          "scattermapbox": [
           {
            "marker": {
             "colorbar": {
              "outlinewidth": 0,
              "ticks": ""
             }
            },
            "type": "scattermapbox"
           }
          ],
          "scatterpolar": [
           {
            "marker": {
             "colorbar": {
              "outlinewidth": 0,
              "ticks": ""
             }
            },
            "type": "scatterpolar"
           }
          ],
          "scatterpolargl": [
           {
            "marker": {
             "colorbar": {
              "outlinewidth": 0,
              "ticks": ""
             }
            },
            "type": "scatterpolargl"
           }
          ],
          "scatterternary": [
           {
            "marker": {
             "colorbar": {
              "outlinewidth": 0,
              "ticks": ""
             }
            },
            "type": "scatterternary"
           }
          ],
          "surface": [
           {
            "colorbar": {
             "outlinewidth": 0,
             "ticks": ""
            },
            "colorscale": [
             [
              0,
              "#0d0887"
             ],
             [
              0.1111111111111111,
              "#46039f"
             ],
             [
              0.2222222222222222,
              "#7201a8"
             ],
             [
              0.3333333333333333,
              "#9c179e"
             ],
             [
              0.4444444444444444,
              "#bd3786"
             ],
             [
              0.5555555555555556,
              "#d8576b"
             ],
             [
              0.6666666666666666,
              "#ed7953"
             ],
             [
              0.7777777777777778,
              "#fb9f3a"
             ],
             [
              0.8888888888888888,
              "#fdca26"
             ],
             [
              1,
              "#f0f921"
             ]
            ],
            "type": "surface"
           }
          ],
          "table": [
           {
            "cells": {
             "fill": {
              "color": "#EBF0F8"
             },
             "line": {
              "color": "white"
             }
            },
            "header": {
             "fill": {
              "color": "#C8D4E3"
             },
             "line": {
              "color": "white"
             }
            },
            "type": "table"
           }
          ]
         },
         "layout": {
          "annotationdefaults": {
           "arrowcolor": "#2a3f5f",
           "arrowhead": 0,
           "arrowwidth": 1
          },
          "autotypenumbers": "strict",
          "coloraxis": {
           "colorbar": {
            "outlinewidth": 0,
            "ticks": ""
           }
          },
          "colorscale": {
           "diverging": [
            [
             0,
             "#8e0152"
            ],
            [
             0.1,
             "#c51b7d"
            ],
            [
             0.2,
             "#de77ae"
            ],
            [
             0.3,
             "#f1b6da"
            ],
            [
             0.4,
             "#fde0ef"
            ],
            [
             0.5,
             "#f7f7f7"
            ],
            [
             0.6,
             "#e6f5d0"
            ],
            [
             0.7,
             "#b8e186"
            ],
            [
             0.8,
             "#7fbc41"
            ],
            [
             0.9,
             "#4d9221"
            ],
            [
             1,
             "#276419"
            ]
           ],
           "sequential": [
            [
             0,
             "#0d0887"
            ],
            [
             0.1111111111111111,
             "#46039f"
            ],
            [
             0.2222222222222222,
             "#7201a8"
            ],
            [
             0.3333333333333333,
             "#9c179e"
            ],
            [
             0.4444444444444444,
             "#bd3786"
            ],
            [
             0.5555555555555556,
             "#d8576b"
            ],
            [
             0.6666666666666666,
             "#ed7953"
            ],
            [
             0.7777777777777778,
             "#fb9f3a"
            ],
            [
             0.8888888888888888,
             "#fdca26"
            ],
            [
             1,
             "#f0f921"
            ]
           ],
           "sequentialminus": [
            [
             0,
             "#0d0887"
            ],
            [
             0.1111111111111111,
             "#46039f"
            ],
            [
             0.2222222222222222,
             "#7201a8"
            ],
            [
             0.3333333333333333,
             "#9c179e"
            ],
            [
             0.4444444444444444,
             "#bd3786"
            ],
            [
             0.5555555555555556,
             "#d8576b"
            ],
            [
             0.6666666666666666,
             "#ed7953"
            ],
            [
             0.7777777777777778,
             "#fb9f3a"
            ],
            [
             0.8888888888888888,
             "#fdca26"
            ],
            [
             1,
             "#f0f921"
            ]
           ]
          },
          "colorway": [
           "#636efa",
           "#EF553B",
           "#00cc96",
           "#ab63fa",
           "#FFA15A",
           "#19d3f3",
           "#FF6692",
           "#B6E880",
           "#FF97FF",
           "#FECB52"
          ],
          "font": {
           "color": "#2a3f5f"
          },
          "geo": {
           "bgcolor": "white",
           "lakecolor": "white",
           "landcolor": "#E5ECF6",
           "showlakes": true,
           "showland": true,
           "subunitcolor": "white"
          },
          "hoverlabel": {
           "align": "left"
          },
          "hovermode": "closest",
          "mapbox": {
           "style": "light"
          },
          "paper_bgcolor": "white",
          "plot_bgcolor": "#E5ECF6",
          "polar": {
           "angularaxis": {
            "gridcolor": "white",
            "linecolor": "white",
            "ticks": ""
           },
           "bgcolor": "#E5ECF6",
           "radialaxis": {
            "gridcolor": "white",
            "linecolor": "white",
            "ticks": ""
           }
          },
          "scene": {
           "xaxis": {
            "backgroundcolor": "#E5ECF6",
            "gridcolor": "white",
            "gridwidth": 2,
            "linecolor": "white",
            "showbackground": true,
            "ticks": "",
            "zerolinecolor": "white"
           },
           "yaxis": {
            "backgroundcolor": "#E5ECF6",
            "gridcolor": "white",
            "gridwidth": 2,
            "linecolor": "white",
            "showbackground": true,
            "ticks": "",
            "zerolinecolor": "white"
           },
           "zaxis": {
            "backgroundcolor": "#E5ECF6",
            "gridcolor": "white",
            "gridwidth": 2,
            "linecolor": "white",
            "showbackground": true,
            "ticks": "",
            "zerolinecolor": "white"
           }
          },
          "shapedefaults": {
           "line": {
            "color": "#2a3f5f"
           }
          },
          "ternary": {
           "aaxis": {
            "gridcolor": "white",
            "linecolor": "white",
            "ticks": ""
           },
           "baxis": {
            "gridcolor": "white",
            "linecolor": "white",
            "ticks": ""
           },
           "bgcolor": "#E5ECF6",
           "caxis": {
            "gridcolor": "white",
            "linecolor": "white",
            "ticks": ""
           }
          },
          "title": {
           "x": 0.05
          },
          "xaxis": {
           "automargin": true,
           "gridcolor": "white",
           "linecolor": "white",
           "ticks": "",
           "title": {
            "standoff": 15
           },
           "zerolinecolor": "white",
           "zerolinewidth": 2
          },
          "yaxis": {
           "automargin": true,
           "gridcolor": "white",
           "linecolor": "white",
           "ticks": "",
           "title": {
            "standoff": 15
           },
           "zerolinecolor": "white",
           "zerolinewidth": 2
          }
         }
        },
        "width": 1500,
        "xaxis": {
         "anchor": "y",
         "domain": [
          0,
          1
         ]
        },
        "xaxis2": {
         "anchor": "y2",
         "domain": [
          0,
          1
         ]
        },
        "yaxis": {
         "anchor": "x",
         "domain": [
          0.575,
          1
         ]
        },
        "yaxis2": {
         "anchor": "x2",
         "domain": [
          0,
          0.425
         ]
        }
       }
      }
     },
     "metadata": {},
     "output_type": "display_data"
    }
   ],
   "source": [
    "fig = make_subplots(rows=2, cols=1)\n",
    "fig.update_layout(width=1500, height=1000)\n",
    "fig.add_trace(\n",
    "    go.Bar(name='Predicted Home Win',\n",
    "           x=Final_Odds[Final_Odds['Type']=='Predicted']['Match'],\n",
    "           y=Final_Odds[Final_Odds['Type']=='Predicted']['P(Hwin)'],\n",
    "           marker_color='rgb(141,211,199)'),\n",
    "    row=1, col=1)\n",
    "\n",
    "fig.add_trace(\n",
    "    go.Bar(name='Bookmaker Home Win',\n",
    "           x=Final_Odds[Final_Odds['Type']=='Bookmaker']['Match'],\n",
    "           y=Final_Odds[Final_Odds['Type']=='Bookmaker']['P(Hwin)'],\n",
    "           marker_color='rgb(82, 106, 131)'),\n",
    "    row=1, col=1)\n",
    "\n",
    "fig.add_trace(\n",
    "    go.Bar(name='Predicted Draw',\n",
    "           x=Final_Odds[Final_Odds['Type']=='Predicted']['Match'],\n",
    "           y=Final_Odds[Final_Odds['Type']=='Predicted']['P(Draw)'],\n",
    "           marker_color='rgb(141,211,199)'),\n",
    "    row=1, col=1)\n",
    "\n",
    "fig.add_trace(\n",
    "    go.Bar(name='Bookmaker Draw',\n",
    "           x=Final_Odds[Final_Odds['Type']=='Bookmaker']['Match'],\n",
    "           y=Final_Odds[Final_Odds['Type']=='Bookmaker']['P(Draw)'],\n",
    "           marker_color='rgb(82, 106, 131)'),\n",
    "    row=1, col=1)\n",
    "\n",
    "fig.add_trace(\n",
    "    go.Bar(name='Predicted Away Win',\n",
    "           x=Final_Odds[Final_Odds['Type']=='Predicted']['Match'],\n",
    "           y=Final_Odds[Final_Odds['Type']=='Predicted']['P(Awin)'],\n",
    "           marker_color='rgb(141,211,199)'),\n",
    "    row=1, col=1)\n",
    "\n",
    "fig.add_trace(\n",
    "    go.Bar(name='Bookmaker Away Win',\n",
    "           x=Final_Odds[Final_Odds['Type']=='Bookmaker']['Match'],\n",
    "           y=Final_Odds[Final_Odds['Type']=='Bookmaker']['P(Awin)'],\n",
    "           marker_color='rgb(82, 106, 131)'),\n",
    "    row=1, col=1)\n",
    "\n",
    "\n",
    "fig.add_trace(\n",
    "    go.Bar(name='Predicted Over',\n",
    "           x=Final_Odds[Final_Odds['Type']=='Predicted']['Match'],\n",
    "           y=Final_Odds[Final_Odds['Type']=='Predicted']['P(Over)'],\n",
    "           marker_color='rgb(141,211,199)'),\n",
    "    row=2, col=1)\n",
    "\n",
    "fig.add_trace(\n",
    "    go.Bar(name='Bookmaker Over',\n",
    "           x=Final_Odds[Final_Odds['Type']=='Bookmaker']['Match'],\n",
    "           y=Final_Odds[Final_Odds['Type']=='Bookmaker']['P(Over)'],\n",
    "           marker_color='rgb(82, 106, 131)'),\n",
    "    row=2, col=1)\n",
    "\n",
    "fig.add_trace(\n",
    "    go.Bar(name='Predicted Under',\n",
    "           x=Final_Odds[Final_Odds['Type']=='Predicted']['Match'],\n",
    "           y=Final_Odds[Final_Odds['Type']=='Predicted']['P(Under)'],\n",
    "           marker_color='rgb(141,211,199)'),\n",
    "    row=2, col=1)\n",
    "\n",
    "fig.add_trace(\n",
    "    go.Bar(name='Bookmaker Under',\n",
    "           x=Final_Odds[Final_Odds['Type']=='Bookmaker']['Match'],\n",
    "           y=Final_Odds[Final_Odds['Type']=='Bookmaker']['P(Under)'],\n",
    "           marker_color='rgb(82, 106, 131)'),\n",
    "    row=2, col=1)\n",
    "\n",
    "\n",
    "fig.show()\n"
   ]
  },
  {
   "cell_type": "code",
   "execution_count": 214,
   "metadata": {},
   "outputs": [
    {
     "data": {
      "application/vnd.plotly.v1+json": {
       "config": {
        "plotlyServerURL": "https://plot.ly"
       },
       "data": [
        {
         "fill": "toself",
         "hovertemplate": "%{theta}<br>Prob: %{r:.2f}<br>Bookmaker Odds",
         "marker": {
          "color": "rgb(82, 106, 131)"
         },
         "name": "Bookmaker Odds",
         "r": [
          0.8620689655172414,
          0.136986301369863,
          0.05405405405405406,
          0.5,
          0.5494505494505494,
          0.48309178743961356,
          0.5882352941176471
         ],
         "subplot": "polar",
         "theta": [
          "Home",
          "Draw",
          "Away",
          "Over",
          "Under",
          "GG",
          "NG"
         ],
         "type": "scatterpolar",
         "visible": true
        },
        {
         "fill": "toself",
         "hovertemplate": "%{theta}<br>Prob: %{r:.2f}<br>Predicted Odds",
         "marker": {
          "color": "rgb(141,211,199)"
         },
         "name": "Predicted Odds",
         "r": [
          0.9057387897641799,
          0.077858936278839,
          0.016344685257578217,
          0.6159371853653154,
          0.3840628146346846,
          0.20830441981797188,
          0.7916379914826254
         ],
         "subplot": "polar",
         "theta": [
          "Home",
          "Draw",
          "Away",
          "Over",
          "Under",
          "GG",
          "NG"
         ],
         "type": "scatterpolar",
         "visible": true
        },
        {
         "hovertemplate": "Score %{x}<br>Prob: %{y:.3f}",
         "marker": {
          "color": [
           0.17867611058104896,
           0.17460365098501957,
           0.12796800942564854,
           0.12189570421262387,
           0.044405093409041925,
           0.0433929942079895,
           0.04157960081281129,
           0.031802972391977845,
           0.030293865890186934,
           0.010333480239743875,
           0.0055178398339136335,
           0.005392074952934865,
           0.003951882417740355,
           0.00376435870525776,
           0.0012840528982697252,
           0.00045710306476575487,
           0.0004466845832103522,
           0.0003273776729872533,
           0.00031184303148403127,
           0.0001063721551888794,
           0.00002840013729657984,
           0.000027752829655474985,
           0.00002034020678780048,
           0.00001937502850405666,
           0.000006608977372412484
          ],
          "colorscale": [
           [
            0,
            "rgb(210, 251, 212)"
           ],
           [
            0.16666666666666666,
            "rgb(165, 219, 194)"
           ],
           [
            0.3333333333333333,
            "rgb(123, 188, 176)"
           ],
           [
            0.5,
            "rgb(85, 156, 158)"
           ],
           [
            0.6666666666666666,
            "rgb(58, 124, 137)"
           ],
           [
            0.8333333333333334,
            "rgb(35, 93, 114)"
           ],
           [
            1,
            "rgb(18, 63, 90)"
           ]
          ]
         },
         "name": "Propable Scoreline",
         "type": "bar",
         "visible": true,
         "x": [
          "2 - 0",
          "3 - 0",
          "4 - 0",
          "1 - 0",
          "2 - 1",
          "3 - 1",
          "0 - 0",
          "4 - 1",
          "1 - 1",
          "Other",
          "Other",
          "Other",
          "Other",
          "Other",
          "Other",
          "Other",
          "Other",
          "Other",
          "Other",
          "Other",
          "Other",
          "Other",
          "Other",
          "Other",
          "Other"
         ],
         "xaxis": "x",
         "y": [
          0.17867611058104896,
          0.17460365098501957,
          0.12796800942564854,
          0.12189570421262387,
          0.044405093409041925,
          0.0433929942079895,
          0.04157960081281129,
          0.031802972391977845,
          0.030293865890186934,
          0.010333480239743875,
          0.0055178398339136335,
          0.005392074952934865,
          0.003951882417740355,
          0.00376435870525776,
          0.0012840528982697252,
          0.00045710306476575487,
          0.0004466845832103522,
          0.0003273776729872533,
          0.00031184303148403127,
          0.0001063721551888794,
          0.00002840013729657984,
          0.000027752829655474985,
          0.00002034020678780048,
          0.00001937502850405666,
          0.000006608977372412484
         ],
         "yaxis": "y"
        },
        {
         "fill": "toself",
         "hovertemplate": "%{theta}<br>Prob: %{r:.2f}<br>Bookmaker Odds",
         "marker": {
          "color": "rgb(82, 106, 131)"
         },
         "name": "Bookmaker Odds",
         "r": [
          0.29850746268656714,
          0.2857142857142857,
          0.46511627906976744,
          0.5181347150259068,
          0.5319148936170213,
          0.5813953488372093,
          0.48780487804878053
         ],
         "subplot": "polar",
         "theta": [
          "Home",
          "Draw",
          "Away",
          "Over",
          "Under",
          "GG",
          "NG"
         ],
         "type": "scatterpolar",
         "visible": false
        },
        {
         "fill": "toself",
         "hovertemplate": "%{theta}<br>Prob: %{r:.2f}<br>Predicted Odds",
         "marker": {
          "color": "rgb(141,211,199)"
         },
         "name": "Predicted Odds",
         "r": [
          0.40458609464269946,
          0.2389771729827586,
          0.35643653979793294,
          0.5946091689070205,
          0.4053908310929795,
          0.6166288367446565,
          0.3833709706787344
         ],
         "subplot": "polar",
         "theta": [
          "Home",
          "Draw",
          "Away",
          "Over",
          "Under",
          "GG",
          "NG"
         ],
         "type": "scatterpolar",
         "visible": false
        },
        {
         "hovertemplate": "Score %{x}<br>Prob: %{y:.3f}",
         "marker": {
          "color": [
           0.10883540943343632,
           0.08683352945402723,
           0.08080218104717989,
           0.07329719441377092,
           0.06820606291729144,
           0.06446742475114337,
           0.05847962646677372,
           0.05063791897368632,
           0.04618632775671482,
           0.045934618888020806,
           0.0399930653449961,
           0.03428990653620799,
           0.03190817249339682,
           0.031105026043132915,
           0.02506325418699742,
           0.018424710636518,
           0.016971800203953002,
           0.014845935359918277,
           0.013678974630994071,
           0.012408457914317723,
           0.01184472013344587,
           0.009303799255185628,
           0.006770412867326719,
           0.006300148453133248,
           0.002513263510091695
          ],
          "colorscale": [
           [
            0,
            "rgb(210, 251, 212)"
           ],
           [
            0.16666666666666666,
            "rgb(165, 219, 194)"
           ],
           [
            0.3333333333333333,
            "rgb(123, 188, 176)"
           ],
           [
            0.5,
            "rgb(85, 156, 158)"
           ],
           [
            0.6666666666666666,
            "rgb(58, 124, 137)"
           ],
           [
            0.8333333333333334,
            "rgb(35, 93, 114)"
           ],
           [
            1,
            "rgb(18, 63, 90)"
           ]
          ]
         },
         "name": "Propable Scoreline",
         "type": "bar",
         "visible": false,
         "x": [
          "1 - 1",
          "2 - 1",
          "1 - 2",
          "1 - 0",
          "0 - 1",
          "2 - 2",
          "2 - 0",
          "0 - 2",
          "3 - 1",
          "0 - 0",
          "1 - 3",
          "3 - 2",
          "2 - 3",
          "3 - 0",
          "0 - 3",
          "Other",
          "Other",
          "Other",
          "Other",
          "Other",
          "Other",
          "Other",
          "Other",
          "Other",
          "Other"
         ],
         "xaxis": "x",
         "y": [
          0.10883540943343632,
          0.08683352945402723,
          0.08080218104717989,
          0.07329719441377092,
          0.06820606291729144,
          0.06446742475114337,
          0.05847962646677372,
          0.05063791897368632,
          0.04618632775671482,
          0.045934618888020806,
          0.0399930653449961,
          0.03428990653620799,
          0.03190817249339682,
          0.031105026043132915,
          0.02506325418699742,
          0.018424710636518,
          0.016971800203953002,
          0.014845935359918277,
          0.013678974630994071,
          0.012408457914317723,
          0.01184472013344587,
          0.009303799255185628,
          0.006770412867326719,
          0.006300148453133248,
          0.002513263510091695
         ],
         "yaxis": "y"
        },
        {
         "fill": "toself",
         "hovertemplate": "%{theta}<br>Prob: %{r:.2f}<br>Bookmaker Odds",
         "marker": {
          "color": "rgb(82, 106, 131)"
         },
         "name": "Bookmaker Odds",
         "r": [
          0.5235602094240838,
          0.28169014084507044,
          0.2469135802469136,
          0.48780487804878053,
          0.5617977528089888,
          0.5319148936170213,
          0.5405405405405405
         ],
         "subplot": "polar",
         "theta": [
          "Home",
          "Draw",
          "Away",
          "Over",
          "Under",
          "GG",
          "NG"
         ],
         "type": "scatterpolar",
         "visible": false
        },
        {
         "fill": "toself",
         "hovertemplate": "%{theta}<br>Prob: %{r:.2f}<br>Predicted Odds",
         "marker": {
          "color": "rgb(141,211,199)"
         },
         "name": "Predicted Odds",
         "r": [
          0.5401202620600705,
          0.21938782264460627,
          0.24049082407099787,
          0.6192128721831036,
          0.3807871278168964,
          0.6101995145861313,
          0.38979939418954346
         ],
         "subplot": "polar",
         "theta": [
          "Home",
          "Draw",
          "Away",
          "Over",
          "Under",
          "GG",
          "NG"
         ],
         "type": "scatterpolar",
         "visible": false
        },
        {
         "hovertemplate": "Score %{x}<br>Prob: %{y:.3f}",
         "marker": {
          "color": [
           0.09929445867778611,
           0.09706332524055696,
           0.08003033096374969,
           0.07823205994456658,
           0.06325488338563144,
           0.0615978305061643,
           0.060213735349867084,
           0.05098279722590403,
           0.0507884388860548,
           0.040934968852319904,
           0.03924049375322288,
           0.031506870492419306,
           0.0309167772344511,
           0.02547502162484719,
           0.024918610236194204,
           0.024902601236859837,
           0.019179382507783452,
           0.016228695373175447,
           0.013030299939627241,
           0.007932019360456276,
           0.007901780648607665,
           0.007724228675884106,
           0.005033777515102531,
           0.004041706948271051,
           0.002460334597938176
          ],
          "colorscale": [
           [
            0,
            "rgb(210, 251, 212)"
           ],
           [
            0.16666666666666666,
            "rgb(165, 219, 194)"
           ],
           [
            0.3333333333333333,
            "rgb(123, 188, 176)"
           ],
           [
            0.5,
            "rgb(85, 156, 158)"
           ],
           [
            0.6666666666666666,
            "rgb(58, 124, 137)"
           ],
           [
            0.8333333333333334,
            "rgb(35, 93, 114)"
           ],
           [
            1,
            "rgb(18, 63, 90)"
           ]
          ]
         },
         "name": "Propable Scoreline",
         "type": "bar",
         "visible": false,
         "x": [
          "1 - 1",
          "2 - 1",
          "1 - 0",
          "2 - 0",
          "3 - 1",
          "1 - 2",
          "2 - 2",
          "3 - 0",
          "0 - 1",
          "0 - 0",
          "3 - 2",
          "0 - 2",
          "4 - 1",
          "1 - 3",
          "4 - 0",
          "2 - 3",
          "Other",
          "Other",
          "Other",
          "Other",
          "Other",
          "Other",
          "Other",
          "Other",
          "Other"
         ],
         "xaxis": "x",
         "y": [
          0.09929445867778611,
          0.09706332524055696,
          0.08003033096374969,
          0.07823205994456658,
          0.06325488338563144,
          0.0615978305061643,
          0.060213735349867084,
          0.05098279722590403,
          0.0507884388860548,
          0.040934968852319904,
          0.03924049375322288,
          0.031506870492419306,
          0.0309167772344511,
          0.02547502162484719,
          0.024918610236194204,
          0.024902601236859837,
          0.019179382507783452,
          0.016228695373175447,
          0.013030299939627241,
          0.007932019360456276,
          0.007901780648607665,
          0.007724228675884106,
          0.005033777515102531,
          0.004041706948271051,
          0.002460334597938176
         ],
         "yaxis": "y"
        },
        {
         "fill": "toself",
         "hovertemplate": "%{theta}<br>Prob: %{r:.2f}<br>Bookmaker Odds",
         "marker": {
          "color": "rgb(82, 106, 131)"
         },
         "name": "Bookmaker Odds",
         "r": [
          0.5617977528089888,
          0.27027027027027023,
          0.2222222222222222,
          0.5235602094240838,
          0.5263157894736842,
          0.5494505494505494,
          0.5181347150259068
         ],
         "subplot": "polar",
         "theta": [
          "Home",
          "Draw",
          "Away",
          "Over",
          "Under",
          "GG",
          "NG"
         ],
         "type": "scatterpolar",
         "visible": false
        },
        {
         "fill": "toself",
         "hovertemplate": "%{theta}<br>Prob: %{r:.2f}<br>Predicted Odds",
         "marker": {
          "color": "rgb(141,211,199)"
         },
         "name": "Predicted Odds",
         "r": [
          0.6209269270317953,
          0.20285369247491525,
          0.17621706133403134,
          0.6068309791552006,
          0.39316902084479943,
          0.5647624961648015,
          0.43523518467594086
         ],
         "subplot": "polar",
         "theta": [
          "Home",
          "Draw",
          "Away",
          "Over",
          "Under",
          "GG",
          "NG"
         ],
         "type": "scatterpolar",
         "visible": false
        },
        {
         "hovertemplate": "Score %{x}<br>Prob: %{y:.3f}",
         "marker": {
          "color": [
           0.09925409802841167,
           0.09638445949448014,
           0.09419560504174052,
           0.09147221786353657,
           0.06972282815861845,
           0.06770699890468292,
           0.05110458691734291,
           0.048500037587459265,
           0.04469745927588659,
           0.04340516450867,
           0.036733541962000585,
           0.035899337181373815,
           0.03567150029726475,
           0.023014114660485578,
           0.018913601808577766,
           0.01754203843717471,
           0.01664800705540785,
           0.012322720731963156,
           0.007899770026998867,
           0.006492237779910396,
           0.004516078659862216,
           0.004285916352391254,
           0.00317240076336439,
           0.0020337421425975773,
           0.0016713825247624263
          ],
          "colorscale": [
           [
            0,
            "rgb(210, 251, 212)"
           ],
           [
            0.16666666666666666,
            "rgb(165, 219, 194)"
           ],
           [
            0.3333333333333333,
            "rgb(123, 188, 176)"
           ],
           [
            0.5,
            "rgb(85, 156, 158)"
           ],
           [
            0.6666666666666666,
            "rgb(58, 124, 137)"
           ],
           [
            0.8333333333333334,
            "rgb(35, 93, 114)"
           ],
           [
            1,
            "rgb(18, 63, 90)"
           ]
          ]
         },
         "name": "Propable Scoreline",
         "type": "bar",
         "visible": false,
         "x": [
          "2 - 1",
          "2 - 0",
          "1 - 1",
          "1 - 0",
          "3 - 1",
          "3 - 0",
          "2 - 2",
          "1 - 2",
          "0 - 1",
          "0 - 0",
          "4 - 1",
          "3 - 2",
          "4 - 0",
          "0 - 2",
          "Other",
          "Other",
          "Other",
          "Other",
          "Other",
          "Other",
          "Other",
          "Other",
          "Other",
          "Other",
          "Other"
         ],
         "xaxis": "x",
         "y": [
          0.09925409802841167,
          0.09638445949448014,
          0.09419560504174052,
          0.09147221786353657,
          0.06972282815861845,
          0.06770699890468292,
          0.05110458691734291,
          0.048500037587459265,
          0.04469745927588659,
          0.04340516450867,
          0.036733541962000585,
          0.035899337181373815,
          0.03567150029726475,
          0.023014114660485578,
          0.018913601808577766,
          0.01754203843717471,
          0.01664800705540785,
          0.012322720731963156,
          0.007899770026998867,
          0.006492237779910396,
          0.004516078659862216,
          0.004285916352391254,
          0.00317240076336439,
          0.0020337421425975773,
          0.0016713825247624263
         ],
         "yaxis": "y"
        },
        {
         "fill": "toself",
         "hovertemplate": "%{theta}<br>Prob: %{r:.2f}<br>Bookmaker Odds",
         "marker": {
          "color": "rgb(82, 106, 131)"
         },
         "name": "Bookmaker Odds",
         "r": [
          0.22727272727272727,
          0.25,
          0.5714285714285714,
          0.6060606060606061,
          0.44052863436123346,
          0.6172839506172839,
          0.4504504504504504
         ],
         "subplot": "polar",
         "theta": [
          "Home",
          "Draw",
          "Away",
          "Over",
          "Under",
          "GG",
          "NG"
         ],
         "type": "scatterpolar",
         "visible": false
        },
        {
         "fill": "toself",
         "hovertemplate": "%{theta}<br>Prob: %{r:.2f}<br>Predicted Odds",
         "marker": {
          "color": "rgb(141,211,199)"
         },
         "name": "Predicted Odds",
         "r": [
          0.29680167981609773,
          0.24544509162293174,
          0.45775307680088956,
          0.5437702209973727,
          0.4562297790026273,
          0.5701240874200275,
          0.4298757608198916
         ],
         "subplot": "polar",
         "theta": [
          "Home",
          "Draw",
          "Away",
          "Over",
          "Under",
          "GG",
          "NG"
         ],
         "type": "scatterpolar",
         "visible": false
        },
        {
         "hovertemplate": "Score %{x}<br>Prob: %{y:.3f}",
         "marker": {
          "color": [
           0.1153904484832579,
           0.09276802610296325,
           0.09245814584126416,
           0.07433162622709145,
           0.07200531375584278,
           0.07176478879904766,
           0.05788859402018234,
           0.0575025003912051,
           0.04972050275194548,
           0.04478226926076093,
           0.039839220274868276,
           0.03102631498370096,
           0.029954906881971395,
           0.0240822149498946,
           0.019986372172798004,
           0.01862985709940905,
           0.016014348999245424,
           0.012907247087053517,
           0.012471786166531534,
           0.009346148216402648,
           0.007513825737727344,
           0.005812650541279835,
           0.005188383659254544,
           0.004027154710133232,
           0.001618813334123213
          ],
          "colorscale": [
           [
            0,
            "rgb(210, 251, 212)"
           ],
           [
            0.16666666666666666,
            "rgb(165, 219, 194)"
           ],
           [
            0.3333333333333333,
            "rgb(123, 188, 176)"
           ],
           [
            0.5,
            "rgb(85, 156, 158)"
           ],
           [
            0.6666666666666666,
            "rgb(58, 124, 137)"
           ],
           [
            0.8333333333333334,
            "rgb(35, 93, 114)"
           ],
           [
            1,
            "rgb(18, 63, 90)"
           ]
          ]
         },
         "name": "Propable Scoreline",
         "type": "bar",
         "visible": false,
         "x": [
          "1 - 1",
          "1 - 2",
          "0 - 1",
          "0 - 2",
          "2 - 1",
          "1 - 0",
          "2 - 2",
          "0 - 0",
          "1 - 3",
          "2 - 0",
          "0 - 3",
          "2 - 3",
          "3 - 1",
          "3 - 2",
          "Other",
          "Other",
          "Other",
          "Other",
          "Other",
          "Other",
          "Other",
          "Other",
          "Other",
          "Other",
          "Other"
         ],
         "xaxis": "x",
         "y": [
          0.1153904484832579,
          0.09276802610296325,
          0.09245814584126416,
          0.07433162622709145,
          0.07200531375584278,
          0.07176478879904766,
          0.05788859402018234,
          0.0575025003912051,
          0.04972050275194548,
          0.04478226926076093,
          0.039839220274868276,
          0.03102631498370096,
          0.029954906881971395,
          0.0240822149498946,
          0.019986372172798004,
          0.01862985709940905,
          0.016014348999245424,
          0.012907247087053517,
          0.012471786166531534,
          0.009346148216402648,
          0.007513825737727344,
          0.005812650541279835,
          0.005188383659254544,
          0.004027154710133232,
          0.001618813334123213
         ],
         "yaxis": "y"
        },
        {
         "fill": "toself",
         "hovertemplate": "%{theta}<br>Prob: %{r:.2f}<br>Bookmaker Odds",
         "marker": {
          "color": "rgb(82, 106, 131)"
         },
         "name": "Bookmaker Odds",
         "r": [
          0.5405405405405405,
          0.28169014084507044,
          0.2247191011235955,
          0.5882352941176471,
          0.4587155963302752,
          0.625,
          0.44052863436123346
         ],
         "subplot": "polar",
         "theta": [
          "Home",
          "Draw",
          "Away",
          "Over",
          "Under",
          "GG",
          "NG"
         ],
         "type": "scatterpolar",
         "visible": false
        },
        {
         "fill": "toself",
         "hovertemplate": "%{theta}<br>Prob: %{r:.2f}<br>Predicted Odds",
         "marker": {
          "color": "rgb(141,211,199)"
         },
         "name": "Predicted Odds",
         "r": [
          0.5537706519388551,
          0.20039161288830912,
          0.24583309822307534,
          0.718457838212766,
          0.28154216178723396,
          0.6888163232574183,
          0.31117903979282135
         ],
         "subplot": "polar",
         "theta": [
          "Home",
          "Draw",
          "Away",
          "Over",
          "Under",
          "GG",
          "NG"
         ],
         "type": "scatterpolar",
         "visible": false
        },
        {
         "hovertemplate": "Score %{x}<br>Prob: %{y:.3f}",
         "marker": {
          "color": [
           0.09019241871639154,
           0.07996343555435079,
           0.06781993409461748,
           0.06616844291758685,
           0.061469425871519094,
           0.0586640883599078,
           0.05449800043278864,
           0.04975517345781786,
           0.046221760883797584,
           0.03824775568217191,
           0.03544727548421286,
           0.032362386258541445,
           0.028692074398261807,
           0.028059946441170835,
           0.02606724174955469,
           0.02600541218255239,
           0.024334804792189815,
           0.024158612261810222,
           0.013723865714267796,
           0.012719011612719277,
           0.011871112551924641,
           0.010524775330498521,
           0.00892644949940784,
           0.005034163835757742,
           0.004665565054368523
          ],
          "colorscale": [
           [
            0,
            "rgb(210, 251, 212)"
           ],
           [
            0.16666666666666666,
            "rgb(165, 219, 194)"
           ],
           [
            0.3333333333333333,
            "rgb(123, 188, 176)"
           ],
           [
            0.5,
            "rgb(85, 156, 158)"
           ],
           [
            0.6666666666666666,
            "rgb(58, 124, 137)"
           ],
           [
            0.8333333333333334,
            "rgb(35, 93, 114)"
           ],
           [
            1,
            "rgb(18, 63, 90)"
           ]
          ]
         },
         "name": "Propable Scoreline",
         "type": "bar",
         "visible": false,
         "x": [
          "2 - 1",
          "1 - 1",
          "3 - 1",
          "2 - 2",
          "2 - 0",
          "1 - 2",
          "1 - 0",
          "3 - 2",
          "3 - 0",
          "4 - 1",
          "0 - 1",
          "2 - 3",
          "1 - 3",
          "4 - 2",
          "4 - 0",
          "0 - 2",
          "3 - 3",
          "0 - 0",
          "Other",
          "Other",
          "Other",
          "Other",
          "Other",
          "Other",
          "Other"
         ],
         "xaxis": "x",
         "y": [
          0.09019241871639154,
          0.07996343555435079,
          0.06781993409461748,
          0.06616844291758685,
          0.061469425871519094,
          0.0586640883599078,
          0.05449800043278864,
          0.04975517345781786,
          0.046221760883797584,
          0.03824775568217191,
          0.03544727548421286,
          0.032362386258541445,
          0.028692074398261807,
          0.028059946441170835,
          0.02606724174955469,
          0.02600541218255239,
          0.024334804792189815,
          0.024158612261810222,
          0.013723865714267796,
          0.012719011612719277,
          0.011871112551924641,
          0.010524775330498521,
          0.00892644949940784,
          0.005034163835757742,
          0.004665565054368523
         ],
         "yaxis": "y"
        },
        {
         "fill": "toself",
         "hovertemplate": "%{theta}<br>Prob: %{r:.2f}<br>Bookmaker Odds",
         "marker": {
          "color": "rgb(82, 106, 131)"
         },
         "name": "Bookmaker Odds",
         "r": [
          0.6896551724137931,
          0.2040816326530612,
          0.15873015873015872,
          0.48780487804878053,
          0.5617977528089888,
          0.6369426751592356,
          0.4310344827586207
         ],
         "subplot": "polar",
         "theta": [
          "Home",
          "Draw",
          "Away",
          "Over",
          "Under",
          "GG",
          "NG"
         ],
         "type": "scatterpolar",
         "visible": false
        },
        {
         "fill": "toself",
         "hovertemplate": "%{theta}<br>Prob: %{r:.2f}<br>Predicted Odds",
         "marker": {
          "color": "rgb(141,211,199)"
         },
         "name": "Predicted Odds",
         "r": [
          0.7054240112778054,
          0.16602992538651268,
          0.1285321651035362,
          0.6831921825942253,
          0.31680781740577474,
          0.5803612097902185,
          0.41962489197763586
         ],
         "subplot": "polar",
         "theta": [
          "Home",
          "Draw",
          "Away",
          "Over",
          "Under",
          "GG",
          "NG"
         ],
         "type": "scatterpolar",
         "visible": false
        },
        {
         "hovertemplate": "Score %{x}<br>Prob: %{y:.3f}",
         "marker": {
          "color": [
           0.09420214836263359,
           0.09387900760166672,
           0.07929851322532507,
           0.07902649626655539,
           0.0746045492758922,
           0.07434863397837904,
           0.05006457635822904,
           0.04989284030355219,
           0.046778487653736385,
           0.039377706202525675,
           0.037046798272375676,
           0.029541994898211816,
           0.02944065726549521,
           0.02486084667674013,
           0.015539341279614734,
           0.014669833625162882,
           0.013080876406669661,
           0.012306572327280125,
           0.00825852224786886,
           0.004873170610045701,
           0.003871509205124728,
           0.003259001299234999,
           0.00306608930142369,
           0.0020575482787867794,
           0.0012141135544584019
          ],
          "colorscale": [
           [
            0,
            "rgb(210, 251, 212)"
           ],
           [
            0.16666666666666666,
            "rgb(165, 219, 194)"
           ],
           [
            0.3333333333333333,
            "rgb(123, 188, 176)"
           ],
           [
            0.5,
            "rgb(85, 156, 158)"
           ],
           [
            0.6666666666666666,
            "rgb(58, 124, 137)"
           ],
           [
            0.8333333333333334,
            "rgb(35, 93, 114)"
           ],
           [
            1,
            "rgb(18, 63, 90)"
           ]
          ]
         },
         "name": "Propable Scoreline",
         "type": "bar",
         "visible": false,
         "x": [
          "2 - 0",
          "2 - 1",
          "3 - 0",
          "3 - 1",
          "1 - 0",
          "1 - 1",
          "4 - 0",
          "4 - 1",
          "2 - 2",
          "3 - 2",
          "1 - 2",
          "0 - 0",
          "0 - 1",
          "4 - 2",
          "Other",
          "Other",
          "Other",
          "Other",
          "Other",
          "Other",
          "Other",
          "Other",
          "Other",
          "Other",
          "Other"
         ],
         "xaxis": "x",
         "y": [
          0.09420214836263359,
          0.09387900760166672,
          0.07929851322532507,
          0.07902649626655539,
          0.0746045492758922,
          0.07434863397837904,
          0.05006457635822904,
          0.04989284030355219,
          0.046778487653736385,
          0.039377706202525675,
          0.037046798272375676,
          0.029541994898211816,
          0.02944065726549521,
          0.02486084667674013,
          0.015539341279614734,
          0.014669833625162882,
          0.013080876406669661,
          0.012306572327280125,
          0.00825852224786886,
          0.004873170610045701,
          0.003871509205124728,
          0.003259001299234999,
          0.00306608930142369,
          0.0020575482787867794,
          0.0012141135544584019
         ],
         "yaxis": "y"
        },
        {
         "fill": "toself",
         "hovertemplate": "%{theta}<br>Prob: %{r:.2f}<br>Bookmaker Odds",
         "marker": {
          "color": "rgb(82, 106, 131)"
         },
         "name": "Bookmaker Odds",
         "r": [
          0.7299270072992701,
          0.18867924528301888,
          0.13157894736842105,
          0.5235602094240838,
          0.5263157894736842,
          0.6451612903225806,
          0.425531914893617
         ],
         "subplot": "polar",
         "theta": [
          "Home",
          "Draw",
          "Away",
          "Over",
          "Under",
          "GG",
          "NG"
         ],
         "type": "scatterpolar",
         "visible": false
        },
        {
         "fill": "toself",
         "hovertemplate": "%{theta}<br>Prob: %{r:.2f}<br>Predicted Odds",
         "marker": {
          "color": "rgb(141,211,199)"
         },
         "name": "Predicted Odds",
         "r": [
          0.8233632251719832,
          0.11257526612938228,
          0.06397253678029066,
          0.7406309426036954,
          0.2593690573963046,
          0.5197640900150341,
          0.48014693806662195
         ],
         "subplot": "polar",
         "theta": [
          "Home",
          "Draw",
          "Away",
          "Over",
          "Under",
          "GG",
          "NG"
         ],
         "type": "scatterpolar",
         "visible": false
        },
        {
         "hovertemplate": "Score %{x}<br>Prob: %{y:.3f}",
         "marker": {
          "color": [
           0.10183879324825278,
           0.09944392618334004,
           0.08020674001700574,
           0.07832057783927351,
           0.07821850118180873,
           0.06473691828254421,
           0.06160374439547696,
           0.05098584742194255,
           0.03158482607150258,
           0.03084206923693122,
           0.02425910280946336,
           0.02107151612756269,
           0.020077852841155056,
           0.016595617071852534,
           0.00829191526593695,
           0.00809692046933688,
           0.0065352323090626125,
           0.006368704531357697,
           0.0052710074801082816,
           0.0017156843741132153,
           0.001632647714012107,
           0.001594253953499241,
           0.0012539745717197435,
           0.0010378420469745473,
           0.00033781196280057747
          ],
          "colorscale": [
           [
            0,
            "rgb(210, 251, 212)"
           ],
           [
            0.16666666666666666,
            "rgb(165, 219, 194)"
           ],
           [
            0.3333333333333333,
            "rgb(123, 188, 176)"
           ],
           [
            0.5,
            "rgb(85, 156, 158)"
           ],
           [
            0.6666666666666666,
            "rgb(58, 124, 137)"
           ],
           [
            0.8333333333333334,
            "rgb(35, 93, 114)"
           ],
           [
            1,
            "rgb(18, 63, 90)"
           ]
          ]
         },
         "name": "Propable Scoreline",
         "type": "bar",
         "visible": false,
         "x": [
          "3 - 0",
          "2 - 0",
          "3 - 1",
          "2 - 1",
          "4 - 0",
          "1 - 0",
          "4 - 1",
          "1 - 1",
          "3 - 2",
          "2 - 2",
          "4 - 2",
          "0 - 0",
          "1 - 2",
          "Other",
          "Other",
          "Other",
          "Other",
          "Other",
          "Other",
          "Other",
          "Other",
          "Other",
          "Other",
          "Other",
          "Other"
         ],
         "xaxis": "x",
         "y": [
          0.10183879324825278,
          0.09944392618334004,
          0.08020674001700574,
          0.07832057783927351,
          0.07821850118180873,
          0.06473691828254421,
          0.06160374439547696,
          0.05098584742194255,
          0.03158482607150258,
          0.03084206923693122,
          0.02425910280946336,
          0.02107151612756269,
          0.020077852841155056,
          0.016595617071852534,
          0.00829191526593695,
          0.00809692046933688,
          0.0065352323090626125,
          0.006368704531357697,
          0.0052710074801082816,
          0.0017156843741132153,
          0.001632647714012107,
          0.001594253953499241,
          0.0012539745717197435,
          0.0010378420469745473,
          0.00033781196280057747
         ],
         "yaxis": "y"
        },
        {
         "fill": "toself",
         "hovertemplate": "%{theta}<br>Prob: %{r:.2f}<br>Bookmaker Odds",
         "marker": {
          "color": "rgb(82, 106, 131)"
         },
         "name": "Bookmaker Odds",
         "r": [
          0.5813953488372093,
          0.23529411764705882,
          0.23255813953488372,
          0.4444444444444444,
          0.6060606060606061,
          0.6535947712418301,
          0.4166666666666667
         ],
         "subplot": "polar",
         "theta": [
          "Home",
          "Draw",
          "Away",
          "Over",
          "Under",
          "GG",
          "NG"
         ],
         "type": "scatterpolar",
         "visible": false
        },
        {
         "fill": "toself",
         "hovertemplate": "%{theta}<br>Prob: %{r:.2f}<br>Predicted Odds",
         "marker": {
          "color": "rgb(141,211,199)"
         },
         "name": "Predicted Odds",
         "r": [
          0.6140974384478652,
          0.18607943009401626,
          0.19981319171787598,
          0.7294065172266442,
          0.2705934827733558,
          0.6761708420015452,
          0.3238192182582127
         ],
         "subplot": "polar",
         "theta": [
          "Home",
          "Draw",
          "Away",
          "Over",
          "Under",
          "GG",
          "NG"
         ],
         "type": "scatterpolar",
         "visible": false
        },
        {
         "hovertemplate": "Score %{x}<br>Prob: %{y:.3f}",
         "marker": {
          "color": [
           0.09081172689279522,
           0.07445307385372847,
           0.07384310962054967,
           0.06726369407252934,
           0.06130179032658591,
           0.055146939209389116,
           0.054695142409795616,
           0.050259001548765656,
           0.049847249665958875,
           0.04503387138152578,
           0.03335631477512305,
           0.03052061884481427,
           0.030399784647678084,
           0.027587549360454867,
           0.0226179803011794,
           0.02260643684604059,
           0.02243268024174107,
           0.020602719946854014,
           0.013680767805427398,
           0.009311386449656407,
           0.009271810015097776,
           0.007634050873575852,
           0.0075715081504063985,
           0.004617550993744808,
           0.0031294336807648404
          ],
          "colorscale": [
           [
            0,
            "rgb(210, 251, 212)"
           ],
           [
            0.16666666666666666,
            "rgb(165, 219, 194)"
           ],
           [
            0.3333333333333333,
            "rgb(123, 188, 176)"
           ],
           [
            0.5,
            "rgb(85, 156, 158)"
           ],
           [
            0.6666666666666666,
            "rgb(58, 124, 137)"
           ],
           [
            0.8333333333333334,
            "rgb(35, 93, 114)"
           ],
           [
            1,
            "rgb(18, 63, 90)"
           ]
          ]
         },
         "name": "Propable Scoreline",
         "type": "bar",
         "visible": false,
         "x": [
          "2 - 1",
          "1 - 1",
          "3 - 1",
          "2 - 0",
          "2 - 2",
          "1 - 0",
          "3 - 0",
          "1 - 2",
          "3 - 2",
          "4 - 1",
          "4 - 0",
          "0 - 1",
          "4 - 2",
          "2 - 3",
          "1 - 3",
          "0 - 0",
          "3 - 3",
          "0 - 2",
          "Other",
          "Other",
          "Other",
          "Other",
          "Other",
          "Other",
          "Other"
         ],
         "xaxis": "x",
         "y": [
          0.09081172689279522,
          0.07445307385372847,
          0.07384310962054967,
          0.06726369407252934,
          0.06130179032658591,
          0.055146939209389116,
          0.054695142409795616,
          0.050259001548765656,
          0.049847249665958875,
          0.04503387138152578,
          0.03335631477512305,
          0.03052061884481427,
          0.030399784647678084,
          0.027587549360454867,
          0.0226179803011794,
          0.02260643684604059,
          0.02243268024174107,
          0.020602719946854014,
          0.013680767805427398,
          0.009311386449656407,
          0.009271810015097776,
          0.007634050873575852,
          0.0075715081504063985,
          0.004617550993744808,
          0.0031294336807648404
         ],
         "yaxis": "y"
        },
        {
         "fill": "toself",
         "hovertemplate": "%{theta}<br>Prob: %{r:.2f}<br>Bookmaker Odds",
         "marker": {
          "color": "rgb(82, 106, 131)"
         },
         "name": "Bookmaker Odds",
         "r": [
          0.14492753623188406,
          0.2173913043478261,
          0.6896551724137931,
          0.6060606060606061,
          0.44052863436123346,
          0.5617977528089888,
          0.5128205128205129
         ],
         "subplot": "polar",
         "theta": [
          "Home",
          "Draw",
          "Away",
          "Over",
          "Under",
          "GG",
          "NG"
         ],
         "type": "scatterpolar",
         "visible": false
        },
        {
         "fill": "toself",
         "hovertemplate": "%{theta}<br>Prob: %{r:.2f}<br>Predicted Odds",
         "marker": {
          "color": "rgb(141,211,199)"
         },
         "name": "Predicted Odds",
         "r": [
          0.08730090247732561,
          0.19008610303679016,
          0.7226116930418364,
          0.4603057650684865,
          0.5396942349315135,
          0.35284158929354364,
          0.6471571092624081
         ],
         "subplot": "polar",
         "theta": [
          "Home",
          "Draw",
          "Away",
          "Over",
          "Under",
          "GG",
          "NG"
         ],
         "type": "scatterpolar",
         "visible": false
        },
        {
         "hovertemplate": "Score %{x}<br>Prob: %{y:.3f}",
         "marker": {
          "color": [
           0.1608003782166948,
           0.1600534873312445,
           0.10620671041942945,
           0.08448013896936662,
           0.08408774284133785,
           0.08077537723723348,
           0.05579811288516696,
           0.05285669899887227,
           0.04243718310854084,
           0.027769469987621618,
           0.02219178200770713,
           0.0220887048887521,
           0.014657404363859594,
           0.011147670068433245,
           0.0072946615849948425,
           0.0038863192752414894,
           0.003868267971651171,
           0.0025668670088996497,
           0.0019522274076925715,
           0.0012774721702963488,
           0.000510441573727658,
           0.0005080706579176322,
           0.0003371405030768934,
           0.00025641177671768654,
           0.00016778727088984116
          ],
          "colorscale": [
           [
            0,
            "rgb(210, 251, 212)"
           ],
           [
            0.16666666666666666,
            "rgb(165, 219, 194)"
           ],
           [
            0.3333333333333333,
            "rgb(123, 188, 176)"
           ],
           [
            0.5,
            "rgb(85, 156, 158)"
           ],
           [
            0.6666666666666666,
            "rgb(58, 124, 137)"
           ],
           [
            0.8333333333333334,
            "rgb(35, 93, 114)"
           ],
           [
            1,
            "rgb(18, 63, 90)"
           ]
          ]
         },
         "name": "Propable Scoreline",
         "type": "bar",
         "visible": false,
         "x": [
          "0 - 1",
          "0 - 2",
          "0 - 3",
          "1 - 1",
          "1 - 2",
          "0 - 0",
          "1 - 3",
          "0 - 4",
          "1 - 0",
          "1 - 4",
          "2 - 1",
          "2 - 2",
          "Other",
          "Other",
          "Other",
          "Other",
          "Other",
          "Other",
          "Other",
          "Other",
          "Other",
          "Other",
          "Other",
          "Other",
          "Other"
         ],
         "xaxis": "x",
         "y": [
          0.1608003782166948,
          0.1600534873312445,
          0.10620671041942945,
          0.08448013896936662,
          0.08408774284133785,
          0.08077537723723348,
          0.05579811288516696,
          0.05285669899887227,
          0.04243718310854084,
          0.027769469987621618,
          0.02219178200770713,
          0.0220887048887521,
          0.014657404363859594,
          0.011147670068433245,
          0.0072946615849948425,
          0.0038863192752414894,
          0.003868267971651171,
          0.0025668670088996497,
          0.0019522274076925715,
          0.0012774721702963488,
          0.000510441573727658,
          0.0005080706579176322,
          0.0003371405030768934,
          0.00025641177671768654,
          0.00016778727088984116
         ],
         "yaxis": "y"
        },
        {
         "fill": "toself",
         "hovertemplate": "%{theta}<br>Prob: %{r:.2f}<br>Bookmaker Odds",
         "marker": {
          "color": "rgb(82, 106, 131)"
         },
         "name": "Bookmaker Odds",
         "r": [
          0.37735849056603776,
          0.27027027027027023,
          0.4048582995951417,
          0.4587155963302752,
          0.5882352941176471,
          0.7042253521126761,
          0.36363636363636365
         ],
         "subplot": "polar",
         "theta": [
          "Home",
          "Draw",
          "Away",
          "Over",
          "Under",
          "GG",
          "NG"
         ],
         "type": "scatterpolar",
         "visible": false
        },
        {
         "fill": "toself",
         "hovertemplate": "%{theta}<br>Prob: %{r:.2f}<br>Predicted Odds",
         "marker": {
          "color": "rgb(141,211,199)"
         },
         "name": "Predicted Odds",
         "r": [
          0.30278764445470757,
          0.22309429976000492,
          0.47411724530084814,
          0.6528307856709209,
          0.3471692143290791,
          0.6543042365549276,
          0.3456949529606329
         ],
         "subplot": "polar",
         "theta": [
          "Home",
          "Draw",
          "Away",
          "Over",
          "Under",
          "GG",
          "NG"
         ],
         "type": "scatterpolar",
         "visible": false
        },
        {
         "hovertemplate": "Score %{x}<br>Prob: %{y:.3f}",
         "marker": {
          "color": [
           0.09649020624553646,
           0.09104790335907055,
           0.07114181960090803,
           0.06712923277756533,
           0.06543521063655314,
           0.061744491655005805,
           0.05727504050160963,
           0.05112890883707883,
           0.04222864431061056,
           0.03884129265827233,
           0.03769712751595447,
           0.03496837446382296,
           0.03467326943895036,
           0.032996065639078496,
           0.02702228835125241,
           0.020756666833050323,
           0.019923418530131354,
           0.018529288097820243,
           0.01832527050099111,
           0.012891017050538077,
           0.012163929587121342,
           0.009792967957094677,
           0.007651901186714099,
           0.006830782742001648,
           0.00361015685876063
          ],
          "colorscale": [
           [
            0,
            "rgb(210, 251, 212)"
           ],
           [
            0.16666666666666666,
            "rgb(165, 219, 194)"
           ],
           [
            0.3333333333333333,
            "rgb(123, 188, 176)"
           ],
           [
            0.5,
            "rgb(85, 156, 158)"
           ],
           [
            0.6666666666666666,
            "rgb(58, 124, 137)"
           ],
           [
            0.8333333333333334,
            "rgb(35, 93, 114)"
           ],
           [
            1,
            "rgb(18, 63, 90)"
           ]
          ]
         },
         "name": "Propable Scoreline",
         "type": "bar",
         "visible": false,
         "x": [
          "1 - 1",
          "1 - 2",
          "2 - 1",
          "2 - 2",
          "0 - 1",
          "0 - 2",
          "1 - 3",
          "1 - 0",
          "2 - 3",
          "0 - 3",
          "2 - 0",
          "3 - 1",
          "0 - 0",
          "3 - 2",
          "1 - 4",
          "3 - 3",
          "Other",
          "Other",
          "Other",
          "Other",
          "Other",
          "Other",
          "Other",
          "Other",
          "Other"
         ],
         "xaxis": "x",
         "y": [
          0.09649020624553646,
          0.09104790335907055,
          0.07114181960090803,
          0.06712923277756533,
          0.06543521063655314,
          0.061744491655005805,
          0.05727504050160963,
          0.05112890883707883,
          0.04222864431061056,
          0.03884129265827233,
          0.03769712751595447,
          0.03496837446382296,
          0.03467326943895036,
          0.032996065639078496,
          0.02702228835125241,
          0.020756666833050323,
          0.019923418530131354,
          0.018529288097820243,
          0.01832527050099111,
          0.012891017050538077,
          0.012163929587121342,
          0.009792967957094677,
          0.007651901186714099,
          0.006830782742001648,
          0.00361015685876063
         ],
         "yaxis": "y"
        },
        {
         "fill": "toself",
         "hovertemplate": "%{theta}<br>Prob: %{r:.2f}<br>Bookmaker Odds",
         "marker": {
          "color": "rgb(82, 106, 131)"
         },
         "name": "Bookmaker Odds",
         "r": [
          0.19607843137254904,
          0.2150537634408602,
          0.6369426751592356,
          0.4587155963302752,
          0.5882352941176471,
          0.6369426751592356,
          0.4347826086956522
         ],
         "subplot": "polar",
         "theta": [
          "Home",
          "Draw",
          "Away",
          "Over",
          "Under",
          "GG",
          "NG"
         ],
         "type": "scatterpolar",
         "visible": false
        },
        {
         "fill": "toself",
         "hovertemplate": "%{theta}<br>Prob: %{r:.2f}<br>Predicted Odds",
         "marker": {
          "color": "rgb(141,211,199)"
         },
         "name": "Predicted Odds",
         "r": [
          0.11267243398419466,
          0.15246291121266675,
          0.7348394763062973,
          0.708513598806624,
          0.29148640119337593,
          0.5815739546924612,
          0.41840086681069727
         ],
         "subplot": "polar",
         "theta": [
          "Home",
          "Draw",
          "Away",
          "Over",
          "Under",
          "GG",
          "NG"
         ],
         "type": "scatterpolar",
         "visible": false
        },
        {
         "hovertemplate": "Score %{x}<br>Prob: %{y:.3f}",
         "marker": {
          "color": [
           0.09240773616662365,
           0.09042076310811843,
           0.08273642980071526,
           0.08095741146534015,
           0.06880636678835358,
           0.06732687597152881,
           0.055557984916644196,
           0.05436336394881571,
           0.04423825720777421,
           0.039608323002062434,
           0.03293959875856198,
           0.0265972150021771,
           0.025616448941443794,
           0.025065637981099037,
           0.01442901190324412,
           0.012918885149116197,
           0.012263335344327062,
           0.01074377456469627,
           0.008675105125798546,
           0.003999882066458839,
           0.0035296889668277854,
           0.0031602750541981643,
           0.0026281898440022257,
           0.0021221427394981776,
           0.0009784689134131087
          ],
          "colorscale": [
           [
            0,
            "rgb(210, 251, 212)"
           ],
           [
            0.16666666666666666,
            "rgb(165, 219, 194)"
           ],
           [
            0.3333333333333333,
            "rgb(123, 188, 176)"
           ],
           [
            0.5,
            "rgb(85, 156, 158)"
           ],
           [
            0.6666666666666666,
            "rgb(58, 124, 137)"
           ],
           [
            0.8333333333333334,
            "rgb(35, 93, 114)"
           ],
           [
            1,
            "rgb(18, 63, 90)"
           ]
          ]
         },
         "name": "Propable Scoreline",
         "type": "bar",
         "visible": false,
         "x": [
          "0 - 2",
          "1 - 2",
          "0 - 3",
          "1 - 3",
          "0 - 1",
          "1 - 1",
          "0 - 4",
          "1 - 4",
          "2 - 2",
          "2 - 3",
          "2 - 1",
          "2 - 4",
          "0 - 0",
          "1 - 0",
          "Other",
          "Other",
          "Other",
          "Other",
          "Other",
          "Other",
          "Other",
          "Other",
          "Other",
          "Other",
          "Other"
         ],
         "xaxis": "x",
         "y": [
          0.09240773616662365,
          0.09042076310811843,
          0.08273642980071526,
          0.08095741146534015,
          0.06880636678835358,
          0.06732687597152881,
          0.055557984916644196,
          0.05436336394881571,
          0.04423825720777421,
          0.039608323002062434,
          0.03293959875856198,
          0.0265972150021771,
          0.025616448941443794,
          0.025065637981099037,
          0.01442901190324412,
          0.012918885149116197,
          0.012263335344327062,
          0.01074377456469627,
          0.008675105125798546,
          0.003999882066458839,
          0.0035296889668277854,
          0.0031602750541981643,
          0.0026281898440022257,
          0.0021221427394981776,
          0.0009784689134131087
         ],
         "yaxis": "y"
        },
        {
         "fill": "toself",
         "hovertemplate": "%{theta}<br>Prob: %{r:.2f}<br>Bookmaker Odds",
         "marker": {
          "color": "rgb(82, 106, 131)"
         },
         "name": "Bookmaker Odds",
         "r": [
          0.6060606060606061,
          0.27027027027027023,
          0.17857142857142858,
          0.47619047619047616,
          0.5714285714285714,
          0.49504950495049505,
          0.5714285714285714
         ],
         "subplot": "polar",
         "theta": [
          "Home",
          "Draw",
          "Away",
          "Over",
          "Under",
          "GG",
          "NG"
         ],
         "type": "scatterpolar",
         "visible": false
        },
        {
         "fill": "toself",
         "hovertemplate": "%{theta}<br>Prob: %{r:.2f}<br>Predicted Odds",
         "marker": {
          "color": "rgb(141,211,199)"
         },
         "name": "Predicted Odds",
         "r": [
          0.5503491844499642,
          0.2438652997713162,
          0.20578531637069217,
          0.4742080463172167,
          0.5257919536827833,
          0.4840939768889941,
          0.5159058237029783
         ],
         "subplot": "polar",
         "theta": [
          "Home",
          "Draw",
          "Away",
          "Over",
          "Under",
          "GG",
          "NG"
         ],
         "type": "scatterpolar",
         "visible": false
        },
        {
         "hovertemplate": "Score %{x}<br>Prob: %{y:.3f}",
         "marker": {
          "color": [
           0.12696172295617947,
           0.11561543426198712,
           0.10538701503290844,
           0.09596881032253854,
           0.0764765900759606,
           0.06964204617449866,
           0.05831900974532207,
           0.05310716868391629,
           0.05264156916097234,
           0.0436961448801232,
           0.03170914518124902,
           0.02420440670475105,
           0.024180549172031923,
           0.02204131235041137,
           0.015979036140624514,
           0.013263705648863993,
           0.010035764479883654,
           0.009625122976294817,
           0.007339862304228269,
           0.003637756245486529,
           0.0030462967931766463,
           0.0030195893943678236,
           0.0021912367499798335,
           0.0016709787563678406,
           0.0006935139946777053
          ],
          "colorscale": [
           [
            0,
            "rgb(210, 251, 212)"
           ],
           [
            0.16666666666666666,
            "rgb(165, 219, 194)"
           ],
           [
            0.3333333333333333,
            "rgb(123, 188, 176)"
           ],
           [
            0.5,
            "rgb(85, 156, 158)"
           ],
           [
            0.6666666666666666,
            "rgb(58, 124, 137)"
           ],
           [
            0.8333333333333334,
            "rgb(35, 93, 114)"
           ],
           [
            1,
            "rgb(18, 63, 90)"
           ]
          ]
         },
         "name": "Propable Scoreline",
         "type": "bar",
         "visible": false,
         "x": [
          "1 - 0",
          "1 - 1",
          "2 - 0",
          "2 - 1",
          "0 - 0",
          "0 - 1",
          "3 - 0",
          "3 - 1",
          "1 - 2",
          "2 - 2",
          "0 - 2",
          "4 - 0",
          "3 - 2",
          "4 - 1",
          "Other",
          "Other",
          "Other",
          "Other",
          "Other",
          "Other",
          "Other",
          "Other",
          "Other",
          "Other",
          "Other"
         ],
         "xaxis": "x",
         "y": [
          0.12696172295617947,
          0.11561543426198712,
          0.10538701503290844,
          0.09596881032253854,
          0.0764765900759606,
          0.06964204617449866,
          0.05831900974532207,
          0.05310716868391629,
          0.05264156916097234,
          0.0436961448801232,
          0.03170914518124902,
          0.02420440670475105,
          0.024180549172031923,
          0.02204131235041137,
          0.015979036140624514,
          0.013263705648863993,
          0.010035764479883654,
          0.009625122976294817,
          0.007339862304228269,
          0.003637756245486529,
          0.0030462967931766463,
          0.0030195893943678236,
          0.0021912367499798335,
          0.0016709787563678406,
          0.0006935139946777053
         ],
         "yaxis": "y"
        },
        {
         "fill": "toself",
         "hovertemplate": "%{theta}<br>Prob: %{r:.2f}<br>Bookmaker Odds",
         "marker": {
          "color": "rgb(82, 106, 131)"
         },
         "name": "Bookmaker Odds",
         "r": [
          0.6451612903225806,
          0.2298850574712644,
          0.17543859649122806,
          0.6060606060606061,
          0.44052863436123346,
          0.5813953488372093,
          0.48780487804878053
         ],
         "subplot": "polar",
         "theta": [
          "Home",
          "Draw",
          "Away",
          "Over",
          "Under",
          "GG",
          "NG"
         ],
         "type": "scatterpolar",
         "visible": false
        },
        {
         "fill": "toself",
         "hovertemplate": "%{theta}<br>Prob: %{r:.2f}<br>Predicted Odds",
         "marker": {
          "color": "rgb(141,211,199)"
         },
         "name": "Predicted Odds",
         "r": [
          0.5708928361471746,
          0.20444465605154014,
          0.22465945264863066,
          0.6730537971965586,
          0.32694620280344144,
          0.6445291378504016,
          0.3554678069969439
         ],
         "subplot": "polar",
         "theta": [
          "Home",
          "Draw",
          "Away",
          "Over",
          "Under",
          "GG",
          "NG"
         ],
         "type": "scatterpolar",
         "visible": false
        },
        {
         "hovertemplate": "Score %{x}<br>Prob: %{y:.3f}",
         "marker": {
          "color": [
           0.09522995156798786,
           0.0879713801906862,
           0.07312815382002705,
           0.06872495468400414,
           0.0675542149966517,
           0.062005829505555804,
           0.05727965111457394,
           0.05277466778735266,
           0.04474797847472484,
           0.0406330340676964,
           0.03719774597081278,
           0.031202565123174573,
           0.028564568650125213,
           0.026915361741886277,
           0.02645685460520558,
           0.024863832037916023,
           0.024220080517530468,
           0.01942410959533156,
           0.011484336520129824,
           0.010513402267903444,
           0.00876252325958745,
           0.008094630443538154,
           0.0063236828751587265,
           0.0037388227155781386,
           0.0034227268722358687
          ],
          "colorscale": [
           [
            0,
            "rgb(210, 251, 212)"
           ],
           [
            0.16666666666666666,
            "rgb(165, 219, 194)"
           ],
           [
            0.3333333333333333,
            "rgb(123, 188, 176)"
           ],
           [
            0.5,
            "rgb(85, 156, 158)"
           ],
           [
            0.6666666666666666,
            "rgb(58, 124, 137)"
           ],
           [
            0.8333333333333334,
            "rgb(35, 93, 114)"
           ],
           [
            1,
            "rgb(18, 63, 90)"
           ]
          ]
         },
         "name": "Propable Scoreline",
         "type": "bar",
         "visible": false,
         "x": [
          "2 - 1",
          "1 - 1",
          "2 - 0",
          "3 - 1",
          "1 - 0",
          "2 - 2",
          "1 - 2",
          "3 - 0",
          "3 - 2",
          "0 - 1",
          "4 - 1",
          "0 - 0",
          "4 - 0",
          "2 - 3",
          "0 - 2",
          "1 - 3",
          "4 - 2",
          "Other",
          "Other",
          "Other",
          "Other",
          "Other",
          "Other",
          "Other",
          "Other"
         ],
         "xaxis": "x",
         "y": [
          0.09522995156798786,
          0.0879713801906862,
          0.07312815382002705,
          0.06872495468400414,
          0.0675542149966517,
          0.062005829505555804,
          0.05727965111457394,
          0.05277466778735266,
          0.04474797847472484,
          0.0406330340676964,
          0.03719774597081278,
          0.031202565123174573,
          0.028564568650125213,
          0.026915361741886277,
          0.02645685460520558,
          0.024863832037916023,
          0.024220080517530468,
          0.01942410959533156,
          0.011484336520129824,
          0.010513402267903444,
          0.00876252325958745,
          0.008094630443538154,
          0.0063236828751587265,
          0.0037388227155781386,
          0.0034227268722358687
         ],
         "yaxis": "y"
        },
        {
         "fill": "toself",
         "hovertemplate": "%{theta}<br>Prob: %{r:.2f}<br>Bookmaker Odds",
         "marker": {
          "color": "rgb(82, 106, 131)"
         },
         "name": "Bookmaker Odds",
         "r": [
          0.7462686567164178,
          0.2,
          0.1,
          0.625,
          0.425531914893617,
          0.5319148936170213,
          0.5405405405405405
         ],
         "subplot": "polar",
         "theta": [
          "Home",
          "Draw",
          "Away",
          "Over",
          "Under",
          "GG",
          "NG"
         ],
         "type": "scatterpolar",
         "visible": false
        },
        {
         "fill": "toself",
         "hovertemplate": "%{theta}<br>Prob: %{r:.2f}<br>Predicted Odds",
         "marker": {
          "color": "rgb(141,211,199)"
         },
         "name": "Predicted Odds",
         "r": [
          0.6786031236471975,
          0.18624076763270056,
          0.13515212009749755,
          0.600118436734498,
          0.3998815632655019,
          0.5224396765434358,
          0.47755633483395993
         ],
         "subplot": "polar",
         "theta": [
          "Home",
          "Draw",
          "Away",
          "Over",
          "Under",
          "GG",
          "NG"
         ],
         "type": "scatterpolar",
         "visible": false
        },
        {
         "hovertemplate": "Score %{x}<br>Prob: %{y:.3f}",
         "marker": {
          "color": [
           0.11081120190399545,
           0.0996238646640764,
           0.0976618276653985,
           0.0878020320600205,
           0.08216988642772995,
           0.07241922431761821,
           0.04569860798953162,
           0.044782992333234295,
           0.04303640976301917,
           0.040275797945851184,
           0.03946883351539114,
           0.038691516635414896,
           0.03191281063396739,
           0.017748241921795745,
           0.017392638788784092,
           0.012643169527375814,
           0.011366733581786444,
           0.009375295875331069,
           0.005214050908655532,
           0.005109582373294675,
           0.002785718010253063,
           0.002504475985073896,
           0.002065694880924513,
           0.0011488318250552488,
           0.0011258138721733104
          ],
          "colorscale": [
           [
            0,
            "rgb(210, 251, 212)"
           ],
           [
            0.16666666666666666,
            "rgb(165, 219, 194)"
           ],
           [
            0.3333333333333333,
            "rgb(123, 188, 176)"
           ],
           [
            0.5,
            "rgb(85, 156, 158)"
           ],
           [
            0.6666666666666666,
            "rgb(58, 124, 137)"
           ],
           [
            0.8333333333333334,
            "rgb(35, 93, 114)"
           ],
           [
            1,
            "rgb(18, 63, 90)"
           ]
          ]
         },
         "name": "Propable Scoreline",
         "type": "bar",
         "visible": false,
         "x": [
          "2 - 0",
          "1 - 0",
          "2 - 1",
          "1 - 1",
          "3 - 0",
          "3 - 1",
          "4 - 0",
          "0 - 0",
          "2 - 2",
          "4 - 1",
          "0 - 1",
          "1 - 2",
          "3 - 2",
          "Other",
          "Other",
          "Other",
          "Other",
          "Other",
          "Other",
          "Other",
          "Other",
          "Other",
          "Other",
          "Other",
          "Other"
         ],
         "xaxis": "x",
         "y": [
          0.11081120190399545,
          0.0996238646640764,
          0.0976618276653985,
          0.0878020320600205,
          0.08216988642772995,
          0.07241922431761821,
          0.04569860798953162,
          0.044782992333234295,
          0.04303640976301917,
          0.040275797945851184,
          0.03946883351539114,
          0.038691516635414896,
          0.03191281063396739,
          0.017748241921795745,
          0.017392638788784092,
          0.012643169527375814,
          0.011366733581786444,
          0.009375295875331069,
          0.005214050908655532,
          0.005109582373294675,
          0.002785718010253063,
          0.002504475985073896,
          0.002065694880924513,
          0.0011488318250552488,
          0.0011258138721733104
         ],
         "yaxis": "y"
        },
        {
         "fill": "toself",
         "hovertemplate": "%{theta}<br>Prob: %{r:.2f}<br>Bookmaker Odds",
         "marker": {
          "color": "rgb(82, 106, 131)"
         },
         "name": "Bookmaker Odds",
         "r": [
          0.6578947368421053,
          0.22727272727272727,
          0.1639344262295082,
          0.6060606060606061,
          0.4444444444444444,
          0.5714285714285714,
          0.5
         ],
         "subplot": "polar",
         "theta": [
          "Home",
          "Draw",
          "Away",
          "Over",
          "Under",
          "GG",
          "NG"
         ],
         "type": "scatterpolar",
         "visible": false
        },
        {
         "fill": "toself",
         "hovertemplate": "%{theta}<br>Prob: %{r:.2f}<br>Predicted Odds",
         "marker": {
          "color": "rgb(141,211,199)"
         },
         "name": "Predicted Odds",
         "r": [
          0.5841937137343279,
          0.21983519686460357,
          0.19597020807139254,
          0.5609788943773545,
          0.4390211056226455,
          0.5434824202854831,
          0.45651669838484055
         ],
         "subplot": "polar",
         "theta": [
          "Home",
          "Draw",
          "Away",
          "Over",
          "Under",
          "GG",
          "NG"
         ],
         "type": "scatterpolar",
         "visible": false
        },
        {
         "hovertemplate": "Score %{x}<br>Prob: %{y:.3f}",
         "marker": {
          "color": [
           0.10374094534393416,
           0.10229371088062726,
           0.09938370959692444,
           0.09799726059992421,
           0.06347298841680443,
           0.06258751069128986,
           0.05414460671925946,
           0.053389264259379975,
           0.05260432752025285,
           0.0503948869222445,
           0.03218549686719264,
           0.03040352595183618,
           0.02997938261655361,
           0.027455317819520403,
           0.01778285494175794,
           0.017035955142655167,
           0.015416834998355965,
           0.010880283980388011,
           0.00928125036816451,
           0.005211649941370896,
           0.004508610956358893,
           0.004319244252949001,
           0.002758554108602776,
           0.002353139989932339,
           0.0013213458751887652
          ],
          "colorscale": [
           [
            0,
            "rgb(210, 251, 212)"
           ],
           [
            0.16666666666666666,
            "rgb(165, 219, 194)"
           ],
           [
            0.3333333333333333,
            "rgb(123, 188, 176)"
           ],
           [
            0.5,
            "rgb(85, 156, 158)"
           ],
           [
            0.6666666666666666,
            "rgb(58, 124, 137)"
           ],
           [
            0.8333333333333334,
            "rgb(35, 93, 114)"
           ],
           [
            1,
            "rgb(18, 63, 90)"
           ]
          ]
         },
         "name": "Propable Scoreline",
         "type": "bar",
         "visible": false,
         "x": [
          "1 - 1",
          "1 - 0",
          "2 - 1",
          "2 - 0",
          "3 - 1",
          "3 - 0",
          "0 - 1",
          "0 - 0",
          "1 - 2",
          "2 - 2",
          "3 - 2",
          "4 - 1",
          "4 - 0",
          "0 - 2",
          "Other",
          "Other",
          "Other",
          "Other",
          "Other",
          "Other",
          "Other",
          "Other",
          "Other",
          "Other",
          "Other"
         ],
         "xaxis": "x",
         "y": [
          0.10374094534393416,
          0.10229371088062726,
          0.09938370959692444,
          0.09799726059992421,
          0.06347298841680443,
          0.06258751069128986,
          0.05414460671925946,
          0.053389264259379975,
          0.05260432752025285,
          0.0503948869222445,
          0.03218549686719264,
          0.03040352595183618,
          0.02997938261655361,
          0.027455317819520403,
          0.01778285494175794,
          0.017035955142655167,
          0.015416834998355965,
          0.010880283980388011,
          0.00928125036816451,
          0.005211649941370896,
          0.004508610956358893,
          0.004319244252949001,
          0.002758554108602776,
          0.002353139989932339,
          0.0013213458751887652
         ],
         "yaxis": "y"
        },
        {
         "fill": "toself",
         "hovertemplate": "%{theta}<br>Prob: %{r:.2f}<br>Bookmaker Odds",
         "marker": {
          "color": "rgb(82, 106, 131)"
         },
         "name": "Bookmaker Odds",
         "r": [
          0.12987012987012986,
          0.2040816326530612,
          0.7142857142857143,
          0.4310344827586207,
          0.6172839506172839,
          0.5714285714285714,
          0.5
         ],
         "subplot": "polar",
         "theta": [
          "Home",
          "Draw",
          "Away",
          "Over",
          "Under",
          "GG",
          "NG"
         ],
         "type": "scatterpolar",
         "visible": false
        },
        {
         "fill": "toself",
         "hovertemplate": "%{theta}<br>Prob: %{r:.2f}<br>Predicted Odds",
         "marker": {
          "color": "rgb(141,211,199)"
         },
         "name": "Predicted Odds",
         "r": [
          0.05732881552675222,
          0.1203289781720832,
          0.8223063599098084,
          0.6615522998477175,
          0.3384477001522826,
          0.4331473476054013,
          0.5668168060032427
         ],
         "subplot": "polar",
         "theta": [
          "Home",
          "Draw",
          "Away",
          "Over",
          "Under",
          "GG",
          "NG"
         ],
         "type": "scatterpolar",
         "visible": false
        },
        {
         "hovertemplate": "Score %{x}<br>Prob: %{y:.3f}",
         "marker": {
          "color": [
           0.12879880044916422,
           0.11967921573241423,
           0.09240886646090424,
           0.08340400664666296,
           0.07974226918452013,
           0.07409612669873557,
           0.05721243271415589,
           0.05163731902697903,
           0.03315014802470797,
           0.02468512700631184,
           0.02293729933871919,
           0.020524011233600772,
           0.017710759705383064,
           0.015984919810808004,
           0.006353441269749525,
           0.005094374677731868,
           0.004733668046222683,
           0.0036550448269286736,
           0.0032988759056792696,
           0.001311186704155607,
           0.0007885108313544343,
           0.0007326804097857961,
           0.0005657303628877183,
           0.0005106022912473306,
           0.00020294638371886058
          ],
          "colorscale": [
           [
            0,
            "rgb(210, 251, 212)"
           ],
           [
            0.16666666666666666,
            "rgb(165, 219, 194)"
           ],
           [
            0.3333333333333333,
            "rgb(123, 188, 176)"
           ],
           [
            0.5,
            "rgb(85, 156, 158)"
           ],
           [
            0.6666666666666666,
            "rgb(58, 124, 137)"
           ],
           [
            0.8333333333333334,
            "rgb(35, 93, 114)"
           ],
           [
            1,
            "rgb(18, 63, 90)"
           ]
          ]
         },
         "name": "Propable Scoreline",
         "type": "bar",
         "visible": false,
         "x": [
          "0 - 2",
          "0 - 3",
          "0 - 1",
          "0 - 4",
          "1 - 2",
          "1 - 3",
          "1 - 1",
          "1 - 4",
          "0 - 0",
          "2 - 2",
          "2 - 3",
          "1 - 0",
          "Other",
          "Other",
          "Other",
          "Other",
          "Other",
          "Other",
          "Other",
          "Other",
          "Other",
          "Other",
          "Other",
          "Other",
          "Other"
         ],
         "xaxis": "x",
         "y": [
          0.12879880044916422,
          0.11967921573241423,
          0.09240886646090424,
          0.08340400664666296,
          0.07974226918452013,
          0.07409612669873557,
          0.05721243271415589,
          0.05163731902697903,
          0.03315014802470797,
          0.02468512700631184,
          0.02293729933871919,
          0.020524011233600772,
          0.017710759705383064,
          0.015984919810808004,
          0.006353441269749525,
          0.005094374677731868,
          0.004733668046222683,
          0.0036550448269286736,
          0.0032988759056792696,
          0.001311186704155607,
          0.0007885108313544343,
          0.0007326804097857961,
          0.0005657303628877183,
          0.0005106022912473306,
          0.00020294638371886058
         ],
         "yaxis": "y"
        },
        {
         "fill": "toself",
         "hovertemplate": "%{theta}<br>Prob: %{r:.2f}<br>Bookmaker Odds",
         "marker": {
          "color": "rgb(82, 106, 131)"
         },
         "name": "Bookmaker Odds",
         "r": [
          0.3278688524590164,
          0.26666666666666666,
          0.45454545454545453,
          0.5181347150259068,
          0.53475935828877,
          0.7462686567164178,
          0.3225806451612903
         ],
         "subplot": "polar",
         "theta": [
          "Home",
          "Draw",
          "Away",
          "Over",
          "Under",
          "GG",
          "NG"
         ],
         "type": "scatterpolar",
         "visible": false
        },
        {
         "fill": "toself",
         "hovertemplate": "%{theta}<br>Prob: %{r:.2f}<br>Predicted Odds",
         "marker": {
          "color": "rgb(141,211,199)"
         },
         "name": "Predicted Odds",
         "r": [
          0.47571822802589736,
          0.20153223103603132,
          0.3227447752625756,
          0.7720839977300908,
          0.2279160022699091,
          0.7505085026492337,
          0.24948673167527027
         ],
         "subplot": "polar",
         "theta": [
          "Home",
          "Draw",
          "Away",
          "Over",
          "Under",
          "GG",
          "NG"
         ],
         "type": "scatterpolar",
         "visible": false
        },
        {
         "hovertemplate": "Score %{x}<br>Prob: %{y:.3f}",
         "marker": {
          "color": [
           0.07827611025260085,
           0.07179720968772119,
           0.07000469617592883,
           0.06421041917193854,
           0.05834988956435324,
           0.05352027895596723,
           0.043903044426604636,
           0.042669829809034984,
           0.0392638223381909,
           0.0381609211548786,
           0.032726942940373774,
           0.03262211421708093,
           0.031807659438522144,
           0.0313036600239169,
           0.029921987274817704,
           0.028712661314894854,
           0.02013459838802822,
           0.01829689959223143,
           0.01800698116231994,
           0.017782948809818934,
           0.01755741275735769,
           0.017064233791254907,
           0.015009069671100769,
           0.00839123413528952,
           0.008052094318726043
          ],
          "colorscale": [
           [
            0,
            "rgb(210, 251, 212)"
           ],
           [
            0.16666666666666666,
            "rgb(165, 219, 194)"
           ],
           [
            0.3333333333333333,
            "rgb(123, 188, 176)"
           ],
           [
            0.5,
            "rgb(85, 156, 158)"
           ],
           [
            0.6666666666666666,
            "rgb(58, 124, 137)"
           ],
           [
            0.8333333333333334,
            "rgb(35, 93, 114)"
           ],
           [
            1,
            "rgb(18, 63, 90)"
           ]
          ]
         },
         "name": "Propable Scoreline",
         "type": "bar",
         "visible": false,
         "x": [
          "2 - 1",
          "2 - 2",
          "1 - 1",
          "1 - 2",
          "3 - 1",
          "3 - 2",
          "2 - 3",
          "2 - 0",
          "1 - 3",
          "1 - 0",
          "3 - 3",
          "4 - 1",
          "3 - 0",
          "0 - 1",
          "4 - 2",
          "0 - 2",
          "2 - 4",
          "Other",
          "Other",
          "Other",
          "Other",
          "Other",
          "Other",
          "Other",
          "Other"
         ],
         "xaxis": "x",
         "y": [
          0.07827611025260085,
          0.07179720968772119,
          0.07000469617592883,
          0.06421041917193854,
          0.05834988956435324,
          0.05352027895596723,
          0.043903044426604636,
          0.042669829809034984,
          0.0392638223381909,
          0.0381609211548786,
          0.032726942940373774,
          0.03262211421708093,
          0.031807659438522144,
          0.0313036600239169,
          0.029921987274817704,
          0.028712661314894854,
          0.02013459838802822,
          0.01829689959223143,
          0.01800698116231994,
          0.017782948809818934,
          0.01755741275735769,
          0.017064233791254907,
          0.015009069671100769,
          0.00839123413528952,
          0.008052094318726043
         ],
         "yaxis": "y"
        },
        {
         "fill": "toself",
         "hovertemplate": "%{theta}<br>Prob: %{r:.2f}<br>Bookmaker Odds",
         "marker": {
          "color": "rgb(82, 106, 131)"
         },
         "name": "Bookmaker Odds",
         "r": [
          0.3225806451612903,
          0.3076923076923077,
          0.42194092827004215,
          0.5128205128205129,
          0.5405405405405405,
          0.5882352941176471,
          0.48309178743961356
         ],
         "subplot": "polar",
         "theta": [
          "Home",
          "Draw",
          "Away",
          "Over",
          "Under",
          "GG",
          "NG"
         ],
         "type": "scatterpolar",
         "visible": false
        },
        {
         "fill": "toself",
         "hovertemplate": "%{theta}<br>Prob: %{r:.2f}<br>Predicted Odds",
         "marker": {
          "color": "rgb(141,211,199)"
         },
         "name": "Predicted Odds",
         "r": [
          0.3179602051086879,
          0.2533752776248951,
          0.4286644412571032,
          0.518181832681597,
          0.48181816731840305,
          0.5542360615218612,
          0.44576386246882516
         ],
         "subplot": "polar",
         "theta": [
          "Home",
          "Draw",
          "Away",
          "Over",
          "Under",
          "GG",
          "NG"
         ],
         "type": "scatterpolar",
         "visible": false
        },
        {
         "hovertemplate": "Score %{x}<br>Prob: %{y:.3f}",
         "marker": {
          "color": [
           0.11997021352407948,
           0.09575311773560469,
           0.0897133145785854,
           0.08021580854871681,
           0.07515604960642136,
           0.07160385333123079,
           0.06402350662383668,
           0.05620143636296311,
           0.050251667554934584,
           0.04472487281776154,
           0.03569674410698208,
           0.031387967765899714,
           0.028018161020092792,
           0.023471814740076882,
           0.020986969507538224,
           0.01672255331854404,
           0.01334695146165666,
           0.011701428422114956,
           0.010475942401338369,
           0.009831588996818926,
           0.007352028562505993,
           0.006573705568509355,
           0.004375144038737986,
           0.003665214510858345,
           0.0013704174259247814
          ],
          "colorscale": [
           [
            0,
            "rgb(210, 251, 212)"
           ],
           [
            0.16666666666666666,
            "rgb(165, 219, 194)"
           ],
           [
            0.3333333333333333,
            "rgb(123, 188, 176)"
           ],
           [
            0.5,
            "rgb(85, 156, 158)"
           ],
           [
            0.6666666666666666,
            "rgb(58, 124, 137)"
           ],
           [
            0.8333333333333334,
            "rgb(35, 93, 114)"
           ],
           [
            1,
            "rgb(18, 63, 90)"
           ]
          ]
         },
         "name": "Propable Scoreline",
         "type": "bar",
         "visible": false,
         "x": [
          "1 - 1",
          "0 - 1",
          "1 - 2",
          "1 - 0",
          "2 - 1",
          "0 - 2",
          "0 - 0",
          "2 - 2",
          "2 - 0",
          "1 - 3",
          "0 - 3",
          "3 - 1",
          "2 - 3",
          "3 - 2",
          "3 - 0",
          "Other",
          "Other",
          "Other",
          "Other",
          "Other",
          "Other",
          "Other",
          "Other",
          "Other",
          "Other"
         ],
         "xaxis": "x",
         "y": [
          0.11997021352407948,
          0.09575311773560469,
          0.0897133145785854,
          0.08021580854871681,
          0.07515604960642136,
          0.07160385333123079,
          0.06402350662383668,
          0.05620143636296311,
          0.050251667554934584,
          0.04472487281776154,
          0.03569674410698208,
          0.031387967765899714,
          0.028018161020092792,
          0.023471814740076882,
          0.020986969507538224,
          0.01672255331854404,
          0.01334695146165666,
          0.011701428422114956,
          0.010475942401338369,
          0.009831588996818926,
          0.007352028562505993,
          0.006573705568509355,
          0.004375144038737986,
          0.003665214510858345,
          0.0013704174259247814
         ],
         "yaxis": "y"
        },
        {
         "fill": "toself",
         "hovertemplate": "%{theta}<br>Prob: %{r:.2f}<br>Bookmaker Odds",
         "marker": {
          "color": "rgb(82, 106, 131)"
         },
         "name": "Bookmaker Odds",
         "r": [
          0.2597402597402597,
          0.2777777777777778,
          0.5128205128205129,
          0.5494505494505494,
          0.5,
          0.5882352941176471,
          0.48309178743961356
         ],
         "subplot": "polar",
         "theta": [
          "Home",
          "Draw",
          "Away",
          "Over",
          "Under",
          "GG",
          "NG"
         ],
         "type": "scatterpolar",
         "visible": false
        },
        {
         "fill": "toself",
         "hovertemplate": "%{theta}<br>Prob: %{r:.2f}<br>Predicted Odds",
         "marker": {
          "color": "rgb(141,211,199)"
         },
         "name": "Predicted Odds",
         "r": [
          0.26621222707299125,
          0.22476363260897467,
          0.5090233868160124,
          0.618395738893197,
          0.381604261106803,
          0.6188009043085504,
          0.38119834218942755
         ],
         "subplot": "polar",
         "theta": [
          "Home",
          "Draw",
          "Away",
          "Over",
          "Under",
          "GG",
          "NG"
         ],
         "type": "scatterpolar",
         "visible": false
        },
        {
         "hovertemplate": "Score %{x}<br>Prob: %{y:.3f}",
         "marker": {
          "color": [
           0.10127603396629668,
           0.09536599298215911,
           0.07739408536213709,
           0.0728776938872074,
           0.06626368803216293,
           0.06239681946816964,
           0.05986722466179123,
           0.05377616661455676,
           0.04574990661078644,
           0.04109518379047659,
           0.03917040333214981,
           0.03518509748612844,
           0.028903688132739202,
           0.0281868133227734,
           0.027216991144643612,
           0.021540067782623865,
           0.018442292134609427,
           0.017085815105801788,
           0.015347456727211795,
           0.009455667340034935,
           0.00890387458785652,
           0.008044379601281612,
           0.0055895214178846965,
           0.0050208279532229705,
           0.002631670294716577
          ],
          "colorscale": [
           [
            0,
            "rgb(210, 251, 212)"
           ],
           [
            0.16666666666666666,
            "rgb(165, 219, 194)"
           ],
           [
            0.3333333333333333,
            "rgb(123, 188, 176)"
           ],
           [
            0.5,
            "rgb(85, 156, 158)"
           ],
           [
            0.6666666666666666,
            "rgb(58, 124, 137)"
           ],
           [
            0.8333333333333334,
            "rgb(35, 93, 114)"
           ],
           [
            1,
            "rgb(18, 63, 90)"
           ]
          ]
         },
         "name": "Propable Scoreline",
         "type": "bar",
         "visible": false,
         "x": [
          "1 - 1",
          "1 - 2",
          "0 - 1",
          "0 - 2",
          "2 - 1",
          "2 - 2",
          "1 - 3",
          "1 - 0",
          "0 - 3",
          "0 - 0",
          "2 - 3",
          "2 - 0",
          "3 - 1",
          "1 - 4",
          "3 - 2",
          "0 - 4",
          "Other",
          "Other",
          "Other",
          "Other",
          "Other",
          "Other",
          "Other",
          "Other",
          "Other"
         ],
         "xaxis": "x",
         "y": [
          0.10127603396629668,
          0.09536599298215911,
          0.07739408536213709,
          0.0728776938872074,
          0.06626368803216293,
          0.06239681946816964,
          0.05986722466179123,
          0.05377616661455676,
          0.04574990661078644,
          0.04109518379047659,
          0.03917040333214981,
          0.03518509748612844,
          0.028903688132739202,
          0.0281868133227734,
          0.027216991144643612,
          0.021540067782623865,
          0.018442292134609427,
          0.017085815105801788,
          0.015347456727211795,
          0.009455667340034935,
          0.00890387458785652,
          0.008044379601281612,
          0.0055895214178846965,
          0.0050208279532229705,
          0.002631670294716577
         ],
         "yaxis": "y"
        }
       ],
       "layout": {
        "height": 650,
        "polar": {
         "domain": {
          "x": [
           0,
           0.29700000000000004
          ],
          "y": [
           0,
           1
          ]
         }
        },
        "template": {
         "data": {
          "bar": [
           {
            "error_x": {
             "color": "#2a3f5f"
            },
            "error_y": {
             "color": "#2a3f5f"
            },
            "marker": {
             "line": {
              "color": "#E5ECF6",
              "width": 0.5
             },
             "pattern": {
              "fillmode": "overlay",
              "size": 10,
              "solidity": 0.2
             }
            },
            "type": "bar"
           }
          ],
          "barpolar": [
           {
            "marker": {
             "line": {
              "color": "#E5ECF6",
              "width": 0.5
             },
             "pattern": {
              "fillmode": "overlay",
              "size": 10,
              "solidity": 0.2
             }
            },
            "type": "barpolar"
           }
          ],
          "carpet": [
           {
            "aaxis": {
             "endlinecolor": "#2a3f5f",
             "gridcolor": "white",
             "linecolor": "white",
             "minorgridcolor": "white",
             "startlinecolor": "#2a3f5f"
            },
            "baxis": {
             "endlinecolor": "#2a3f5f",
             "gridcolor": "white",
             "linecolor": "white",
             "minorgridcolor": "white",
             "startlinecolor": "#2a3f5f"
            },
            "type": "carpet"
           }
          ],
          "choropleth": [
           {
            "colorbar": {
             "outlinewidth": 0,
             "ticks": ""
            },
            "type": "choropleth"
           }
          ],
          "contour": [
           {
            "colorbar": {
             "outlinewidth": 0,
             "ticks": ""
            },
            "colorscale": [
             [
              0,
              "#0d0887"
             ],
             [
              0.1111111111111111,
              "#46039f"
             ],
             [
              0.2222222222222222,
              "#7201a8"
             ],
             [
              0.3333333333333333,
              "#9c179e"
             ],
             [
              0.4444444444444444,
              "#bd3786"
             ],
             [
              0.5555555555555556,
              "#d8576b"
             ],
             [
              0.6666666666666666,
              "#ed7953"
             ],
             [
              0.7777777777777778,
              "#fb9f3a"
             ],
             [
              0.8888888888888888,
              "#fdca26"
             ],
             [
              1,
              "#f0f921"
             ]
            ],
            "type": "contour"
           }
          ],
          "contourcarpet": [
           {
            "colorbar": {
             "outlinewidth": 0,
             "ticks": ""
            },
            "type": "contourcarpet"
           }
          ],
          "heatmap": [
           {
            "colorbar": {
             "outlinewidth": 0,
             "ticks": ""
            },
            "colorscale": [
             [
              0,
              "#0d0887"
             ],
             [
              0.1111111111111111,
              "#46039f"
             ],
             [
              0.2222222222222222,
              "#7201a8"
             ],
             [
              0.3333333333333333,
              "#9c179e"
             ],
             [
              0.4444444444444444,
              "#bd3786"
             ],
             [
              0.5555555555555556,
              "#d8576b"
             ],
             [
              0.6666666666666666,
              "#ed7953"
             ],
             [
              0.7777777777777778,
              "#fb9f3a"
             ],
             [
              0.8888888888888888,
              "#fdca26"
             ],
             [
              1,
              "#f0f921"
             ]
            ],
            "type": "heatmap"
           }
          ],
          "heatmapgl": [
           {
            "colorbar": {
             "outlinewidth": 0,
             "ticks": ""
            },
            "colorscale": [
             [
              0,
              "#0d0887"
             ],
             [
              0.1111111111111111,
              "#46039f"
             ],
             [
              0.2222222222222222,
              "#7201a8"
             ],
             [
              0.3333333333333333,
              "#9c179e"
             ],
             [
              0.4444444444444444,
              "#bd3786"
             ],
             [
              0.5555555555555556,
              "#d8576b"
             ],
             [
              0.6666666666666666,
              "#ed7953"
             ],
             [
              0.7777777777777778,
              "#fb9f3a"
             ],
             [
              0.8888888888888888,
              "#fdca26"
             ],
             [
              1,
              "#f0f921"
             ]
            ],
            "type": "heatmapgl"
           }
          ],
          "histogram": [
           {
            "marker": {
             "pattern": {
              "fillmode": "overlay",
              "size": 10,
              "solidity": 0.2
             }
            },
            "type": "histogram"
           }
          ],
          "histogram2d": [
           {
            "colorbar": {
             "outlinewidth": 0,
             "ticks": ""
            },
            "colorscale": [
             [
              0,
              "#0d0887"
             ],
             [
              0.1111111111111111,
              "#46039f"
             ],
             [
              0.2222222222222222,
              "#7201a8"
             ],
             [
              0.3333333333333333,
              "#9c179e"
             ],
             [
              0.4444444444444444,
              "#bd3786"
             ],
             [
              0.5555555555555556,
              "#d8576b"
             ],
             [
              0.6666666666666666,
              "#ed7953"
             ],
             [
              0.7777777777777778,
              "#fb9f3a"
             ],
             [
              0.8888888888888888,
              "#fdca26"
             ],
             [
              1,
              "#f0f921"
             ]
            ],
            "type": "histogram2d"
           }
          ],
          "histogram2dcontour": [
           {
            "colorbar": {
             "outlinewidth": 0,
             "ticks": ""
            },
            "colorscale": [
             [
              0,
              "#0d0887"
             ],
             [
              0.1111111111111111,
              "#46039f"
             ],
             [
              0.2222222222222222,
              "#7201a8"
             ],
             [
              0.3333333333333333,
              "#9c179e"
             ],
             [
              0.4444444444444444,
              "#bd3786"
             ],
             [
              0.5555555555555556,
              "#d8576b"
             ],
             [
              0.6666666666666666,
              "#ed7953"
             ],
             [
              0.7777777777777778,
              "#fb9f3a"
             ],
             [
              0.8888888888888888,
              "#fdca26"
             ],
             [
              1,
              "#f0f921"
             ]
            ],
            "type": "histogram2dcontour"
           }
          ],
          "mesh3d": [
           {
            "colorbar": {
             "outlinewidth": 0,
             "ticks": ""
            },
            "type": "mesh3d"
           }
          ],
          "parcoords": [
           {
            "line": {
             "colorbar": {
              "outlinewidth": 0,
              "ticks": ""
             }
            },
            "type": "parcoords"
           }
          ],
          "pie": [
           {
            "automargin": true,
            "type": "pie"
           }
          ],
          "scatter": [
           {
            "fillpattern": {
             "fillmode": "overlay",
             "size": 10,
             "solidity": 0.2
            },
            "type": "scatter"
           }
          ],
          "scatter3d": [
           {
            "line": {
             "colorbar": {
              "outlinewidth": 0,
              "ticks": ""
             }
            },
            "marker": {
             "colorbar": {
              "outlinewidth": 0,
              "ticks": ""
             }
            },
            "type": "scatter3d"
           }
          ],
          "scattercarpet": [
           {
            "marker": {
             "colorbar": {
              "outlinewidth": 0,
              "ticks": ""
             }
            },
            "type": "scattercarpet"
           }
          ],
          "scattergeo": [
           {
            "marker": {
             "colorbar": {
              "outlinewidth": 0,
              "ticks": ""
             }
            },
            "type": "scattergeo"
           }
          ],
          "scattergl": [
           {
            "marker": {
             "colorbar": {
              "outlinewidth": 0,
              "ticks": ""
             }
            },
            "type": "scattergl"
           }
          ],
          "scattermapbox": [
           {
            "marker": {
             "colorbar": {
              "outlinewidth": 0,
              "ticks": ""
             }
            },
            "type": "scattermapbox"
           }
          ],
          "scatterpolar": [
           {
            "marker": {
             "colorbar": {
              "outlinewidth": 0,
              "ticks": ""
             }
            },
            "type": "scatterpolar"
           }
          ],
          "scatterpolargl": [
           {
            "marker": {
             "colorbar": {
              "outlinewidth": 0,
              "ticks": ""
             }
            },
            "type": "scatterpolargl"
           }
          ],
          "scatterternary": [
           {
            "marker": {
             "colorbar": {
              "outlinewidth": 0,
              "ticks": ""
             }
            },
            "type": "scatterternary"
           }
          ],
          "surface": [
           {
            "colorbar": {
             "outlinewidth": 0,
             "ticks": ""
            },
            "colorscale": [
             [
              0,
              "#0d0887"
             ],
             [
              0.1111111111111111,
              "#46039f"
             ],
             [
              0.2222222222222222,
              "#7201a8"
             ],
             [
              0.3333333333333333,
              "#9c179e"
             ],
             [
              0.4444444444444444,
              "#bd3786"
             ],
             [
              0.5555555555555556,
              "#d8576b"
             ],
             [
              0.6666666666666666,
              "#ed7953"
             ],
             [
              0.7777777777777778,
              "#fb9f3a"
             ],
             [
              0.8888888888888888,
              "#fdca26"
             ],
             [
              1,
              "#f0f921"
             ]
            ],
            "type": "surface"
           }
          ],
          "table": [
           {
            "cells": {
             "fill": {
              "color": "#EBF0F8"
             },
             "line": {
              "color": "white"
             }
            },
            "header": {
             "fill": {
              "color": "#C8D4E3"
             },
             "line": {
              "color": "white"
             }
            },
            "type": "table"
           }
          ]
         },
         "layout": {
          "annotationdefaults": {
           "arrowcolor": "#2a3f5f",
           "arrowhead": 0,
           "arrowwidth": 1
          },
          "autotypenumbers": "strict",
          "coloraxis": {
           "colorbar": {
            "outlinewidth": 0,
            "ticks": ""
           }
          },
          "colorscale": {
           "diverging": [
            [
             0,
             "#8e0152"
            ],
            [
             0.1,
             "#c51b7d"
            ],
            [
             0.2,
             "#de77ae"
            ],
            [
             0.3,
             "#f1b6da"
            ],
            [
             0.4,
             "#fde0ef"
            ],
            [
             0.5,
             "#f7f7f7"
            ],
            [
             0.6,
             "#e6f5d0"
            ],
            [
             0.7,
             "#b8e186"
            ],
            [
             0.8,
             "#7fbc41"
            ],
            [
             0.9,
             "#4d9221"
            ],
            [
             1,
             "#276419"
            ]
           ],
           "sequential": [
            [
             0,
             "#0d0887"
            ],
            [
             0.1111111111111111,
             "#46039f"
            ],
            [
             0.2222222222222222,
             "#7201a8"
            ],
            [
             0.3333333333333333,
             "#9c179e"
            ],
            [
             0.4444444444444444,
             "#bd3786"
            ],
            [
             0.5555555555555556,
             "#d8576b"
            ],
            [
             0.6666666666666666,
             "#ed7953"
            ],
            [
             0.7777777777777778,
             "#fb9f3a"
            ],
            [
             0.8888888888888888,
             "#fdca26"
            ],
            [
             1,
             "#f0f921"
            ]
           ],
           "sequentialminus": [
            [
             0,
             "#0d0887"
            ],
            [
             0.1111111111111111,
             "#46039f"
            ],
            [
             0.2222222222222222,
             "#7201a8"
            ],
            [
             0.3333333333333333,
             "#9c179e"
            ],
            [
             0.4444444444444444,
             "#bd3786"
            ],
            [
             0.5555555555555556,
             "#d8576b"
            ],
            [
             0.6666666666666666,
             "#ed7953"
            ],
            [
             0.7777777777777778,
             "#fb9f3a"
            ],
            [
             0.8888888888888888,
             "#fdca26"
            ],
            [
             1,
             "#f0f921"
            ]
           ]
          },
          "colorway": [
           "#636efa",
           "#EF553B",
           "#00cc96",
           "#ab63fa",
           "#FFA15A",
           "#19d3f3",
           "#FF6692",
           "#B6E880",
           "#FF97FF",
           "#FECB52"
          ],
          "font": {
           "color": "#2a3f5f"
          },
          "geo": {
           "bgcolor": "white",
           "lakecolor": "white",
           "landcolor": "#E5ECF6",
           "showlakes": true,
           "showland": true,
           "subunitcolor": "white"
          },
          "hoverlabel": {
           "align": "left"
          },
          "hovermode": "closest",
          "mapbox": {
           "style": "light"
          },
          "paper_bgcolor": "white",
          "plot_bgcolor": "#E5ECF6",
          "polar": {
           "angularaxis": {
            "gridcolor": "white",
            "linecolor": "white",
            "ticks": ""
           },
           "bgcolor": "#E5ECF6",
           "radialaxis": {
            "gridcolor": "white",
            "linecolor": "white",
            "ticks": ""
           }
          },
          "scene": {
           "xaxis": {
            "backgroundcolor": "#E5ECF6",
            "gridcolor": "white",
            "gridwidth": 2,
            "linecolor": "white",
            "showbackground": true,
            "ticks": "",
            "zerolinecolor": "white"
           },
           "yaxis": {
            "backgroundcolor": "#E5ECF6",
            "gridcolor": "white",
            "gridwidth": 2,
            "linecolor": "white",
            "showbackground": true,
            "ticks": "",
            "zerolinecolor": "white"
           },
           "zaxis": {
            "backgroundcolor": "#E5ECF6",
            "gridcolor": "white",
            "gridwidth": 2,
            "linecolor": "white",
            "showbackground": true,
            "ticks": "",
            "zerolinecolor": "white"
           }
          },
          "shapedefaults": {
           "line": {
            "color": "#2a3f5f"
           }
          },
          "ternary": {
           "aaxis": {
            "gridcolor": "white",
            "linecolor": "white",
            "ticks": ""
           },
           "baxis": {
            "gridcolor": "white",
            "linecolor": "white",
            "ticks": ""
           },
           "bgcolor": "#E5ECF6",
           "caxis": {
            "gridcolor": "white",
            "linecolor": "white",
            "ticks": ""
           }
          },
          "title": {
           "x": 0.05
          },
          "xaxis": {
           "automargin": true,
           "gridcolor": "white",
           "linecolor": "white",
           "ticks": "",
           "title": {
            "standoff": 15
           },
           "zerolinecolor": "white",
           "zerolinewidth": 2
          },
          "yaxis": {
           "automargin": true,
           "gridcolor": "white",
           "linecolor": "white",
           "ticks": "",
           "title": {
            "standoff": 15
           },
           "zerolinecolor": "white",
           "zerolinewidth": 2
          }
         }
        },
        "updatemenus": [
         {
          "active": 0,
          "buttons": [
           {
            "args": [
             {
              "visible": [
               true,
               true,
               true,
               false,
               false,
               false,
               false,
               false,
               false,
               false,
               false,
               false,
               false,
               false,
               false,
               false,
               false,
               false,
               false,
               false,
               false,
               false,
               false,
               false,
               false,
               false,
               false,
               false,
               false,
               false,
               false,
               false,
               false,
               false,
               false,
               false,
               false,
               false,
               false,
               false,
               false,
               false,
               false,
               false,
               false,
               false,
               false,
               false,
               false,
               false,
               false,
               false,
               false,
               false,
               false,
               false,
               false,
               false,
               false,
               false
              ]
             }
            ],
            "label": "<b> YEs Manchester City-Nottingham Forest | '23/09/2023'</b>",
            "method": "restyle"
           },
           {
            "args": [
             {
              "visible": [
               false,
               false,
               false,
               true,
               true,
               true,
               false,
               false,
               false,
               false,
               false,
               false,
               false,
               false,
               false,
               false,
               false,
               false,
               false,
               false,
               false,
               false,
               false,
               false,
               false,
               false,
               false,
               false,
               false,
               false,
               false,
               false,
               false,
               false,
               false,
               false,
               false,
               false,
               false,
               false,
               false,
               false,
               false,
               false,
               false,
               false,
               false,
               false,
               false,
               false,
               false,
               false,
               false,
               false,
               false,
               false,
               false,
               false,
               false,
               false
              ]
             }
            ],
            "label": "<b> YEs Luton-Wolverhampton Wanderers | '23/09/2023'</b>",
            "method": "restyle"
           },
           {
            "args": [
             {
              "visible": [
               false,
               false,
               false,
               false,
               false,
               false,
               true,
               true,
               true,
               false,
               false,
               false,
               false,
               false,
               false,
               false,
               false,
               false,
               false,
               false,
               false,
               false,
               false,
               false,
               false,
               false,
               false,
               false,
               false,
               false,
               false,
               false,
               false,
               false,
               false,
               false,
               false,
               false,
               false,
               false,
               false,
               false,
               false,
               false,
               false,
               false,
               false,
               false,
               false,
               false,
               false,
               false,
               false,
               false,
               false,
               false,
               false,
               false,
               false,
               false
              ]
             }
            ],
            "label": "<b> YEs Crystal Palace-Fulham | '23/09/2023'</b>",
            "method": "restyle"
           },
           {
            "args": [
             {
              "visible": [
               false,
               false,
               false,
               false,
               false,
               false,
               false,
               false,
               false,
               true,
               true,
               true,
               false,
               false,
               false,
               false,
               false,
               false,
               false,
               false,
               false,
               false,
               false,
               false,
               false,
               false,
               false,
               false,
               false,
               false,
               false,
               false,
               false,
               false,
               false,
               false,
               false,
               false,
               false,
               false,
               false,
               false,
               false,
               false,
               false,
               false,
               false,
               false,
               false,
               false,
               false,
               false,
               false,
               false,
               false,
               false,
               false,
               false,
               false,
               false
              ]
             }
            ],
            "label": "<b> YEs Brentford-Everton | '23/09/2023'</b>",
            "method": "restyle"
           },
           {
            "args": [
             {
              "visible": [
               false,
               false,
               false,
               false,
               false,
               false,
               false,
               false,
               false,
               false,
               false,
               false,
               true,
               true,
               true,
               false,
               false,
               false,
               false,
               false,
               false,
               false,
               false,
               false,
               false,
               false,
               false,
               false,
               false,
               false,
               false,
               false,
               false,
               false,
               false,
               false,
               false,
               false,
               false,
               false,
               false,
               false,
               false,
               false,
               false,
               false,
               false,
               false,
               false,
               false,
               false,
               false,
               false,
               false,
               false,
               false,
               false,
               false,
               false,
               false
              ]
             }
            ],
            "label": "<b> YEs Burnley-Manchester United | '23/09/2023'</b>",
            "method": "restyle"
           },
           {
            "args": [
             {
              "visible": [
               false,
               false,
               false,
               false,
               false,
               false,
               false,
               false,
               false,
               false,
               false,
               false,
               false,
               false,
               false,
               true,
               true,
               true,
               false,
               false,
               false,
               false,
               false,
               false,
               false,
               false,
               false,
               false,
               false,
               false,
               false,
               false,
               false,
               false,
               false,
               false,
               false,
               false,
               false,
               false,
               false,
               false,
               false,
               false,
               false,
               false,
               false,
               false,
               false,
               false,
               false,
               false,
               false,
               false,
               false,
               false,
               false,
               false,
               false,
               false
              ]
             }
            ],
            "label": "<b> YEs Chelsea-Aston Villa | '24/09/2023'</b>",
            "method": "restyle"
           },
           {
            "args": [
             {
              "visible": [
               false,
               false,
               false,
               false,
               false,
               false,
               false,
               false,
               false,
               false,
               false,
               false,
               false,
               false,
               false,
               false,
               false,
               false,
               true,
               true,
               true,
               false,
               false,
               false,
               false,
               false,
               false,
               false,
               false,
               false,
               false,
               false,
               false,
               false,
               false,
               false,
               false,
               false,
               false,
               false,
               false,
               false,
               false,
               false,
               false,
               false,
               false,
               false,
               false,
               false,
               false,
               false,
               false,
               false,
               false,
               false,
               false,
               false,
               false,
               false
              ]
             }
            ],
            "label": "<b> YEs Liverpool-West Ham | '24/09/2023'</b>",
            "method": "restyle"
           },
           {
            "args": [
             {
              "visible": [
               false,
               false,
               false,
               false,
               false,
               false,
               false,
               false,
               false,
               false,
               false,
               false,
               false,
               false,
               false,
               false,
               false,
               false,
               false,
               false,
               false,
               true,
               true,
               true,
               false,
               false,
               false,
               false,
               false,
               false,
               false,
               false,
               false,
               false,
               false,
               false,
               false,
               false,
               false,
               false,
               false,
               false,
               false,
               false,
               false,
               false,
               false,
               false,
               false,
               false,
               false,
               false,
               false,
               false,
               false,
               false,
               false,
               false,
               false,
               false
              ]
             }
            ],
            "label": "<b> YEs Brighton-Bournemouth | '24/09/2023'</b>",
            "method": "restyle"
           },
           {
            "args": [
             {
              "visible": [
               false,
               false,
               false,
               false,
               false,
               false,
               false,
               false,
               false,
               false,
               false,
               false,
               false,
               false,
               false,
               false,
               false,
               false,
               false,
               false,
               false,
               false,
               false,
               false,
               true,
               true,
               true,
               false,
               false,
               false,
               false,
               false,
               false,
               false,
               false,
               false,
               false,
               false,
               false,
               false,
               false,
               false,
               false,
               false,
               false,
               false,
               false,
               false,
               false,
               false,
               false,
               false,
               false,
               false,
               false,
               false,
               false,
               false,
               false,
               false
              ]
             }
            ],
            "label": "<b> YEs Arsenal-Tottenham | '24/09/2023'</b>",
            "method": "restyle"
           },
           {
            "args": [
             {
              "visible": [
               false,
               false,
               false,
               false,
               false,
               false,
               false,
               false,
               false,
               false,
               false,
               false,
               false,
               false,
               false,
               false,
               false,
               false,
               false,
               false,
               false,
               false,
               false,
               false,
               false,
               false,
               false,
               true,
               true,
               true,
               false,
               false,
               false,
               false,
               false,
               false,
               false,
               false,
               false,
               false,
               false,
               false,
               false,
               false,
               false,
               false,
               false,
               false,
               false,
               false,
               false,
               false,
               false,
               false,
               false,
               false,
               false,
               false,
               false,
               false
              ]
             }
            ],
            "label": "<b> YEs Sheffield United-Newcastle United | '24/09/2023'</b>",
            "method": "restyle"
           },
           {
            "args": [
             {
              "visible": [
               false,
               false,
               false,
               false,
               false,
               false,
               false,
               false,
               false,
               false,
               false,
               false,
               false,
               false,
               false,
               false,
               false,
               false,
               false,
               false,
               false,
               false,
               false,
               false,
               false,
               false,
               false,
               false,
               false,
               false,
               true,
               true,
               true,
               false,
               false,
               false,
               false,
               false,
               false,
               false,
               false,
               false,
               false,
               false,
               false,
               false,
               false,
               false,
               false,
               false,
               false,
               false,
               false,
               false,
               false,
               false,
               false,
               false,
               false,
               false
              ]
             }
            ],
            "label": "<b> YEs Aston Villa-Brighton | '30/09/2023'</b>",
            "method": "restyle"
           },
           {
            "args": [
             {
              "visible": [
               false,
               false,
               false,
               false,
               false,
               false,
               false,
               false,
               false,
               false,
               false,
               false,
               false,
               false,
               false,
               false,
               false,
               false,
               false,
               false,
               false,
               false,
               false,
               false,
               false,
               false,
               false,
               false,
               false,
               false,
               false,
               false,
               false,
               true,
               true,
               true,
               false,
               false,
               false,
               false,
               false,
               false,
               false,
               false,
               false,
               false,
               false,
               false,
               false,
               false,
               false,
               false,
               false,
               false,
               false,
               false,
               false,
               false,
               false,
               false
              ]
             }
            ],
            "label": "<b> YEs Bournemouth-Arsenal | '30/09/2023'</b>",
            "method": "restyle"
           },
           {
            "args": [
             {
              "visible": [
               false,
               false,
               false,
               false,
               false,
               false,
               false,
               false,
               false,
               false,
               false,
               false,
               false,
               false,
               false,
               false,
               false,
               false,
               false,
               false,
               false,
               false,
               false,
               false,
               false,
               false,
               false,
               false,
               false,
               false,
               false,
               false,
               false,
               false,
               false,
               false,
               true,
               true,
               true,
               false,
               false,
               false,
               false,
               false,
               false,
               false,
               false,
               false,
               false,
               false,
               false,
               false,
               false,
               false,
               false,
               false,
               false,
               false,
               false,
               false
              ]
             }
            ],
            "label": "<b> YEs Everton-Luton | '30/09/2023'</b>",
            "method": "restyle"
           },
           {
            "args": [
             {
              "visible": [
               false,
               false,
               false,
               false,
               false,
               false,
               false,
               false,
               false,
               false,
               false,
               false,
               false,
               false,
               false,
               false,
               false,
               false,
               false,
               false,
               false,
               false,
               false,
               false,
               false,
               false,
               false,
               false,
               false,
               false,
               false,
               false,
               false,
               false,
               false,
               false,
               false,
               false,
               false,
               true,
               true,
               true,
               false,
               false,
               false,
               false,
               false,
               false,
               false,
               false,
               false,
               false,
               false,
               false,
               false,
               false,
               false,
               false,
               false,
               false
              ]
             }
            ],
            "label": "<b> YEs Manchester United-Crystal Palace | '30/09/2023'</b>",
            "method": "restyle"
           },
           {
            "args": [
             {
              "visible": [
               false,
               false,
               false,
               false,
               false,
               false,
               false,
               false,
               false,
               false,
               false,
               false,
               false,
               false,
               false,
               false,
               false,
               false,
               false,
               false,
               false,
               false,
               false,
               false,
               false,
               false,
               false,
               false,
               false,
               false,
               false,
               false,
               false,
               false,
               false,
               false,
               false,
               false,
               false,
               false,
               false,
               false,
               true,
               true,
               true,
               false,
               false,
               false,
               false,
               false,
               false,
               false,
               false,
               false,
               false,
               false,
               false,
               false,
               false,
               false
              ]
             }
            ],
            "label": "<b> YEs Newcastle United-Burnley | '30/09/2023'</b>",
            "method": "restyle"
           },
           {
            "args": [
             {
              "visible": [
               false,
               false,
               false,
               false,
               false,
               false,
               false,
               false,
               false,
               false,
               false,
               false,
               false,
               false,
               false,
               false,
               false,
               false,
               false,
               false,
               false,
               false,
               false,
               false,
               false,
               false,
               false,
               false,
               false,
               false,
               false,
               false,
               false,
               false,
               false,
               false,
               false,
               false,
               false,
               false,
               false,
               false,
               false,
               false,
               false,
               true,
               true,
               true,
               false,
               false,
               false,
               false,
               false,
               false,
               false,
               false,
               false,
               false,
               false,
               false
              ]
             }
            ],
            "label": "<b> YEs West Ham-Sheffield United | '30/09/2023'</b>",
            "method": "restyle"
           },
           {
            "args": [
             {
              "visible": [
               false,
               false,
               false,
               false,
               false,
               false,
               false,
               false,
               false,
               false,
               false,
               false,
               false,
               false,
               false,
               false,
               false,
               false,
               false,
               false,
               false,
               false,
               false,
               false,
               false,
               false,
               false,
               false,
               false,
               false,
               false,
               false,
               false,
               false,
               false,
               false,
               false,
               false,
               false,
               false,
               false,
               false,
               false,
               false,
               false,
               false,
               false,
               false,
               true,
               true,
               true,
               false,
               false,
               false,
               false,
               false,
               false,
               false,
               false,
               false
              ]
             }
            ],
            "label": "<b> YEs Wolverhampton Wanderers-Manchester City | '30/09/2023'</b>",
            "method": "restyle"
           },
           {
            "args": [
             {
              "visible": [
               false,
               false,
               false,
               false,
               false,
               false,
               false,
               false,
               false,
               false,
               false,
               false,
               false,
               false,
               false,
               false,
               false,
               false,
               false,
               false,
               false,
               false,
               false,
               false,
               false,
               false,
               false,
               false,
               false,
               false,
               false,
               false,
               false,
               false,
               false,
               false,
               false,
               false,
               false,
               false,
               false,
               false,
               false,
               false,
               false,
               false,
               false,
               false,
               false,
               false,
               false,
               true,
               true,
               true,
               false,
               false,
               false,
               false,
               false,
               false
              ]
             }
            ],
            "label": "<b> YEs Tottenham-Liverpool | '30/09/2023'</b>",
            "method": "restyle"
           },
           {
            "args": [
             {
              "visible": [
               false,
               false,
               false,
               false,
               false,
               false,
               false,
               false,
               false,
               false,
               false,
               false,
               false,
               false,
               false,
               false,
               false,
               false,
               false,
               false,
               false,
               false,
               false,
               false,
               false,
               false,
               false,
               false,
               false,
               false,
               false,
               false,
               false,
               false,
               false,
               false,
               false,
               false,
               false,
               false,
               false,
               false,
               false,
               false,
               false,
               false,
               false,
               false,
               false,
               false,
               false,
               false,
               false,
               false,
               true,
               true,
               true,
               false,
               false,
               false
              ]
             }
            ],
            "label": "<b> YEs Nottingham Forest-Brentford | '01/10/2023'</b>",
            "method": "restyle"
           },
           {
            "args": [
             {
              "visible": [
               false,
               false,
               false,
               false,
               false,
               false,
               false,
               false,
               false,
               false,
               false,
               false,
               false,
               false,
               false,
               false,
               false,
               false,
               false,
               false,
               false,
               false,
               false,
               false,
               false,
               false,
               false,
               false,
               false,
               false,
               false,
               false,
               false,
               false,
               false,
               false,
               false,
               false,
               false,
               false,
               false,
               false,
               false,
               false,
               false,
               false,
               false,
               false,
               false,
               false,
               false,
               false,
               false,
               false,
               false,
               false,
               false,
               true,
               true,
               true
              ]
             }
            ],
            "label": "<b> YEs Fulham-Chelsea | '02/10/2023'</b>",
            "method": "restyle"
           }
          ],
          "direction": "down",
          "x": 0.1,
          "y": 1.2
         }
        ],
        "width": 1500,
        "xaxis": {
         "anchor": "y",
         "domain": [
          0.397,
          1
         ]
        },
        "yaxis": {
         "anchor": "x",
         "domain": [
          0,
          1
         ]
        }
       }
      }
     },
     "metadata": {},
     "output_type": "display_data"
    }
   ],
   "source": [
    "# Create subplots\n",
    "fig = make_subplots(rows=1, cols=2, specs=[[{'type': 'polar'}, {'type': 'xy'}]], column_widths=[0.33, 0.67])\n",
    "fig.update_layout(width=1500, height=650)\n",
    "# create a list to store the buttons\n",
    "buttons = []\n",
    "categories = ['Home', 'Draw', 'Away', 'Over', 'Under', 'GG', 'NG']\n",
    "\n",
    "# loop through each match and create two traces for Bookmaker odds and predicted values\n",
    "for match_index, match in enumerate(Final_Odds['Match'].unique().tolist()):\n",
    "\n",
    "    # create the trace for Bookmaker odds\n",
    "    trace_bookmaker = go.Scatterpolar(\n",
    "      r=Final_Odds[(Final_Odds['Type']=='Bookmaker')  & (Final_Odds['Match']==match)][['P(Hwin)', 'P(Draw)', 'P(Awin)', 'P(Over)', 'P(Under)', 'P(GG)', 'P(NG)']].values.tolist()[0],\n",
    "      theta=categories,\n",
    "      fill='toself',\n",
    "      name='Bookmaker Odds',\n",
    "      marker = dict(color = 'rgb(82, 106, 131)' ),\n",
    "      visible=False if match_index!=0 else True,\n",
    "      hovertemplate='%{theta}<br>Prob: %{r:.2f}<br>Bookmaker Odds'\n",
    ")\n",
    "    fig.add_trace(trace_bookmaker, row=1, col=1)\n",
    "    # create the trace for predicted values\n",
    "    trace_predicted = go.Scatterpolar(\n",
    "        r= Final_Odds[(Final_Odds['Type']=='Predicted')  & (Final_Odds['Match']==match)][['P(Hwin)', 'P(Draw)', 'P(Awin)', 'P(Over)', 'P(Under)', 'P(GG)', 'P(NG)']].values.tolist()[0],\n",
    "        theta=categories,\n",
    "        fill='toself',\n",
    "        name='Predicted Odds',\n",
    "        marker = dict(color ='rgb(141,211,199)'), #'rgb(217, 175, 107)'\n",
    "        visible=False if match_index!=0 else True,\n",
    "        hovertemplate='%{theta}<br>Prob: %{r:.2f}<br>Predicted Odds'\n",
    "  )\n",
    "    fig.add_trace(trace_predicted, row=1, col=1)\n",
    "    \n",
    "    trace_goals = go.Bar(\n",
    "        x=Pie_list[match_index]['score'],\n",
    "        y=Pie_list[match_index]['P(score)'],\n",
    "        visible=False if match_index!=0 else True,\n",
    "        marker=dict(color=Pie_list[match_index]['P(score)'], colorscale='darkmint'),\n",
    "        name='Propable Scoreline',\n",
    "        hovertemplate='Score %{x}<br>Prob: %{y:.3f}'\n",
    "    )\n",
    "    fig.add_trace(trace_goals, row=1, col=2)\n",
    "    \n",
    "    # create the dictionary for the button\n",
    "    button_dict = dict(\n",
    "        method=\"restyle\",\n",
    "        args=[{\"visible\": [False] * (len(Final_Odds['Match'].unique().tolist()) * 3)}], # set all traces to false initially\n",
    "        label= f\"<b>{match} | {str(Final_Odds[(Final_Odds['Type']=='Predicted')  & (Final_Odds['Match']==match)]['Date'].values).strip('[]')}</b>\" \n",
    "    )\n",
    "    \n",
    "    # set visibility to true for the corresponding traces\n",
    "    button_dict[\"args\"][0][\"visible\"][3*match_index] = True # Bookmaker odds trace\n",
    "    button_dict[\"args\"][0][\"visible\"][3*match_index+1] = True # Predicted trace\n",
    "    button_dict[\"args\"][0][\"visible\"][3*match_index+2] = True # Goal trace\n",
    "    \n",
    "    # set visibility to true for the corresponding traces for the first match\n",
    "    if match_index == 0:\n",
    "        button_dict[\"args\"][0][\"visible\"][0] = True # Bookmaker odds trace\n",
    "        button_dict[\"args\"][0][\"visible\"][1] = True # Predicted trace\n",
    "        button_dict[\"args\"][0][\"visible\"][2] = True\n",
    "        \n",
    "    # append the button to the list\n",
    "    buttons.append(button_dict)\n",
    "\n",
    "\n",
    "# update the layout with the buttons\n",
    "fig.update_layout(\n",
    "    updatemenus=[go.layout.Updatemenu(\n",
    "        buttons=buttons,\n",
    "        active=0, # set the initial active button\n",
    "        x=0.1,\n",
    "        y=1.2,\n",
    "        direction=\"down\",\n",
    "    )],\n",
    "    \n",
    ")\n",
    "\n",
    "# show the plot\n",
    "fig.show()\n",
    "# Save the interactive figure as an HTML file\n",
    "fig.write_html('UpcomingMatchesPredictionFigure.html')\n"
   ]
  },
  {
   "cell_type": "code",
   "execution_count": 215,
   "metadata": {},
   "outputs": [
    {
     "name": "stderr",
     "output_type": "stream",
     "text": [
      "/tmp/ipykernel_21837/1283783480.py:18: SettingWithCopyWarning:\n",
      "\n",
      "\n",
      "A value is trying to be set on a copy of a slice from a DataFrame\n",
      "\n",
      "See the caveats in the documentation: https://pandas.pydata.org/pandas-docs/stable/user_guide/indexing.html#returning-a-view-versus-a-copy\n",
      "\n",
      "/tmp/ipykernel_21837/1283783480.py:19: SettingWithCopyWarning:\n",
      "\n",
      "\n",
      "A value is trying to be set on a copy of a slice from a DataFrame\n",
      "\n",
      "See the caveats in the documentation: https://pandas.pydata.org/pandas-docs/stable/user_guide/indexing.html#returning-a-view-versus-a-copy\n",
      "\n",
      "/tmp/ipykernel_21837/1283783480.py:15: SettingWithCopyWarning:\n",
      "\n",
      "\n",
      "A value is trying to be set on a copy of a slice from a DataFrame\n",
      "\n",
      "See the caveats in the documentation: https://pandas.pydata.org/pandas-docs/stable/user_guide/indexing.html#returning-a-view-versus-a-copy\n",
      "\n",
      "/tmp/ipykernel_21837/1283783480.py:16: SettingWithCopyWarning:\n",
      "\n",
      "\n",
      "A value is trying to be set on a copy of a slice from a DataFrame\n",
      "\n",
      "See the caveats in the documentation: https://pandas.pydata.org/pandas-docs/stable/user_guide/indexing.html#returning-a-view-versus-a-copy\n",
      "\n"
     ]
    },
    {
     "data": {
      "text/html": [
       "<div>\n",
       "<style scoped>\n",
       "    .dataframe tbody tr th:only-of-type {\n",
       "        vertical-align: middle;\n",
       "    }\n",
       "\n",
       "    .dataframe tbody tr th {\n",
       "        vertical-align: top;\n",
       "    }\n",
       "\n",
       "    .dataframe thead th {\n",
       "        text-align: right;\n",
       "    }\n",
       "</style>\n",
       "<table border=\"1\" class=\"dataframe\">\n",
       "  <thead>\n",
       "    <tr style=\"text-align: right;\">\n",
       "      <th></th>\n",
       "      <th>Match</th>\n",
       "      <th>UnderBet</th>\n",
       "      <th>UnderBet_Kelly</th>\n",
       "    </tr>\n",
       "  </thead>\n",
       "  <tbody>\n",
       "    <tr>\n",
       "      <th>0</th>\n",
       "      <td>Manchester City-Nottingham Forest</td>\n",
       "      <td>0.00</td>\n",
       "      <td>0.00</td>\n",
       "    </tr>\n",
       "    <tr>\n",
       "      <th>1</th>\n",
       "      <td>Luton-Wolverhampton Wanderers</td>\n",
       "      <td>0.00</td>\n",
       "      <td>0.00</td>\n",
       "    </tr>\n",
       "    <tr>\n",
       "      <th>2</th>\n",
       "      <td>Crystal Palace-Fulham</td>\n",
       "      <td>0.00</td>\n",
       "      <td>0.00</td>\n",
       "    </tr>\n",
       "    <tr>\n",
       "      <th>3</th>\n",
       "      <td>Brentford-Everton</td>\n",
       "      <td>0.00</td>\n",
       "      <td>0.00</td>\n",
       "    </tr>\n",
       "    <tr>\n",
       "      <th>4</th>\n",
       "      <td>Burnley-Manchester United</td>\n",
       "      <td>0.00</td>\n",
       "      <td>0.00</td>\n",
       "    </tr>\n",
       "    <tr>\n",
       "      <th>5</th>\n",
       "      <td>Chelsea-Aston Villa</td>\n",
       "      <td>0.00</td>\n",
       "      <td>0.00</td>\n",
       "    </tr>\n",
       "    <tr>\n",
       "      <th>6</th>\n",
       "      <td>Liverpool-West Ham</td>\n",
       "      <td>0.00</td>\n",
       "      <td>0.00</td>\n",
       "    </tr>\n",
       "    <tr>\n",
       "      <th>7</th>\n",
       "      <td>Brighton-Bournemouth</td>\n",
       "      <td>0.00</td>\n",
       "      <td>0.00</td>\n",
       "    </tr>\n",
       "    <tr>\n",
       "      <th>8</th>\n",
       "      <td>Arsenal-Tottenham</td>\n",
       "      <td>0.00</td>\n",
       "      <td>0.00</td>\n",
       "    </tr>\n",
       "    <tr>\n",
       "      <th>9</th>\n",
       "      <td>Sheffield United-Newcastle United</td>\n",
       "      <td>4.96</td>\n",
       "      <td>10.63</td>\n",
       "    </tr>\n",
       "    <tr>\n",
       "      <th>10</th>\n",
       "      <td>Aston Villa-Brighton</td>\n",
       "      <td>0.00</td>\n",
       "      <td>0.00</td>\n",
       "    </tr>\n",
       "    <tr>\n",
       "      <th>11</th>\n",
       "      <td>Bournemouth-Arsenal</td>\n",
       "      <td>0.00</td>\n",
       "      <td>0.00</td>\n",
       "    </tr>\n",
       "    <tr>\n",
       "      <th>12</th>\n",
       "      <td>Everton-Luton</td>\n",
       "      <td>0.00</td>\n",
       "      <td>0.00</td>\n",
       "    </tr>\n",
       "    <tr>\n",
       "      <th>13</th>\n",
       "      <td>Manchester United-Crystal Palace</td>\n",
       "      <td>0.00</td>\n",
       "      <td>0.00</td>\n",
       "    </tr>\n",
       "    <tr>\n",
       "      <th>14</th>\n",
       "      <td>Newcastle United-Burnley</td>\n",
       "      <td>0.00</td>\n",
       "      <td>0.00</td>\n",
       "    </tr>\n",
       "    <tr>\n",
       "      <th>15</th>\n",
       "      <td>West Ham-Sheffield United</td>\n",
       "      <td>0.00</td>\n",
       "      <td>0.00</td>\n",
       "    </tr>\n",
       "    <tr>\n",
       "      <th>16</th>\n",
       "      <td>Wolverhampton Wanderers-Manchester City</td>\n",
       "      <td>0.00</td>\n",
       "      <td>0.00</td>\n",
       "    </tr>\n",
       "    <tr>\n",
       "      <th>17</th>\n",
       "      <td>Tottenham-Liverpool</td>\n",
       "      <td>0.00</td>\n",
       "      <td>0.00</td>\n",
       "    </tr>\n",
       "    <tr>\n",
       "      <th>18</th>\n",
       "      <td>Nottingham Forest-Brentford</td>\n",
       "      <td>0.00</td>\n",
       "      <td>0.00</td>\n",
       "    </tr>\n",
       "    <tr>\n",
       "      <th>19</th>\n",
       "      <td>Fulham-Chelsea</td>\n",
       "      <td>0.00</td>\n",
       "      <td>0.00</td>\n",
       "    </tr>\n",
       "  </tbody>\n",
       "</table>\n",
       "</div>"
      ],
      "text/plain": [
       "                                      Match  UnderBet  UnderBet_Kelly\n",
       "0         Manchester City-Nottingham Forest      0.00            0.00\n",
       "1             Luton-Wolverhampton Wanderers      0.00            0.00\n",
       "2                     Crystal Palace-Fulham      0.00            0.00\n",
       "3                         Brentford-Everton      0.00            0.00\n",
       "4                 Burnley-Manchester United      0.00            0.00\n",
       "5                       Chelsea-Aston Villa      0.00            0.00\n",
       "6                        Liverpool-West Ham      0.00            0.00\n",
       "7                      Brighton-Bournemouth      0.00            0.00\n",
       "8                         Arsenal-Tottenham      0.00            0.00\n",
       "9         Sheffield United-Newcastle United      4.96           10.63\n",
       "10                     Aston Villa-Brighton      0.00            0.00\n",
       "11                      Bournemouth-Arsenal      0.00            0.00\n",
       "12                            Everton-Luton      0.00            0.00\n",
       "13         Manchester United-Crystal Palace      0.00            0.00\n",
       "14                 Newcastle United-Burnley      0.00            0.00\n",
       "15                West Ham-Sheffield United      0.00            0.00\n",
       "16  Wolverhampton Wanderers-Manchester City      0.00            0.00\n",
       "17                      Tottenham-Liverpool      0.00            0.00\n",
       "18              Nottingham Forest-Brentford      0.00            0.00\n",
       "19                           Fulham-Chelsea      0.00            0.00"
      ]
     },
     "metadata": {},
     "output_type": "display_data"
    }
   ],
   "source": [
    "Pont = 5\n",
    "bank = 60\n",
    "Final = Final_Odds[Final_Odds['Type']=='Predicted'][['Match']]\n",
    "listPred = Final_Odds[Final_Odds['Type']=='Predicted']['P(Under)'].tolist()\n",
    "listBook = Final_Odds[Final_Odds['Type']=='Bookmaker']['P(Under)'].tolist()\n",
    "\n",
    "diff = []\n",
    "for i, p in enumerate(listPred):\n",
    "    diff.append(listPred[i]-listBook[i])\n",
    "\n",
    "Final['UnderBet'] = np.nan\n",
    "Final['UnderBet_Kelly'] = np.nan\n",
    "for i, d in enumerate(diff):\n",
    "    if (0.7>=listPred[i]>=0.5) and (d>=0.005):\n",
    "        Final['UnderBet'][i] = max(Pont*10*(d),0)\n",
    "        Final['UnderBet_Kelly'][i] = max(0, bank*(listPred[i]- (1-listPred[i])/(1/listBook[i] -1)))\n",
    "    else:\n",
    "        Final['UnderBet'][i] = 0\n",
    "        Final['UnderBet_Kelly'][i] = 0\n",
    "        \n",
    "############\n",
    "\n",
    "    \n",
    "display(Final)"
   ]
  }
 ],
 "metadata": {
  "kernelspec": {
   "display_name": "Python 3",
   "language": "python",
   "name": "python3"
  },
  "language_info": {
   "codemirror_mode": {
    "name": "ipython",
    "version": 3
   },
   "file_extension": ".py",
   "mimetype": "text/x-python",
   "name": "python",
   "nbconvert_exporter": "python",
   "pygments_lexer": "ipython3",
   "version": "3.11.5"
  },
  "orig_nbformat": 4
 },
 "nbformat": 4,
 "nbformat_minor": 2
}
