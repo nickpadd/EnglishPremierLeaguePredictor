{
 "cells": [
  {
   "cell_type": "code",
   "execution_count": 25,
   "metadata": {},
   "outputs": [],
   "source": [
    "import pandas as pd\n",
    "import plotly.express as px\n",
    "import numpy as np\n",
    "from sklearn.model_selection import train_test_split\n",
    "from sklearn.linear_model import LinearRegression\n",
    "from scipy.stats import poisson \n",
    "import math\n",
    "import plotly.express as px\n",
    "from plotly.subplots import make_subplots\n",
    "import plotly.graph_objects as go\n",
    "from sklearn import preprocessing\n",
    "from pretty_html_table import build_table\n",
    "\n",
    "def sum_of_lower_upper(mat):\n",
    "    r = len(mat)\n",
    "    c = len(mat[0])\n",
    "    diag = np.trace(mat)\n",
    "    lower_sum = 0\n",
    "    upper_sum = 0\n",
    "    over_sum = 0\n",
    "    under_sum = 0\n",
    "    gg_sum = 0\n",
    "    ng_sum = 0 \n",
    "\n",
    "    for i in range(r):\n",
    "        for j in range(c):\n",
    "            if (i<j):\n",
    "                upper_sum += mat[i][j]\n",
    "\n",
    "    for i in range(r):\n",
    "        for j in range(c):\n",
    "            if (j<i):\n",
    "                lower_sum += mat[i][j]\n",
    "    \n",
    "    for i in range(r):\n",
    "        for j in range(c):\n",
    "            if (i+j>=3):\n",
    "                over_sum += mat[i][j]\n",
    "            else:\n",
    "                under_sum += mat[i][j]\n",
    "    \n",
    "    for i in range(r):\n",
    "        for j in range(c):\n",
    "            if (i==0) or (j==0):\n",
    "                ng_sum += mat[i][j]\n",
    "            else:\n",
    "                gg_sum += mat[i][j]\n",
    "\n",
    "    return (upper_sum, lower_sum, diag, over_sum, under_sum, ng_sum, gg_sum)\n"
   ]
  },
  {
   "attachments": {},
   "cell_type": "markdown",
   "metadata": {},
   "source": [
    "## Gathering Lamda from season long performance"
   ]
  },
  {
   "cell_type": "code",
   "execution_count": 26,
   "metadata": {},
   "outputs": [
    {
     "name": "stdout",
     "output_type": "stream",
     "text": [
      "2051\n"
     ]
    }
   ],
   "source": [
    "df1 = pd.read_csv('GatheredData/Full20xxFiles/Full2017.csv')\n",
    "df2 = pd.read_csv('GatheredData/Full20xxFiles/Full2018.csv')\n",
    "df3 = pd.read_csv('GatheredData/Full20xxFiles/Full2019.csv')\n",
    "df4 = pd.read_csv('GatheredData/Full20xxFiles/Full2020.csv')\n",
    "df5 = pd.read_csv('GatheredData/Full20xxFiles/Full2021.csv')\n",
    "df6 = pd.read_csv('GatheredData/Full20xxFiles/Full2022.csv')\n",
    "PRED = pd.read_csv('UpcomingFixtures/Prediction.csv')\n",
    "pred = PRED.copy()\n",
    "#Keeping bookmakers odds\n",
    "Odds = PRED.copy()\n",
    "Odds = PRED[['HTeam', 'ATeam','B365H', 'B365D', 'B365A', 'BbAv>2.5', 'BbAv<2.5', 'GG', 'NG']]\n",
    "\n",
    "df1 = df1[['Date_x', 'HxG', 'HM', 'HTeam', 'ATeam', 'HG', 'HGA', 'HxGA', 'HDC', 'HODC', 'HPPDA', 'HOPPDA', 'HPTS/M', 'AM', 'AG', 'AGA', 'AxG', 'AxGA', 'ADC', 'AODC', 'APPDA', 'AOPPDA', 'APTS/M', 'Result', 'B365H', 'B365D', 'B365A', 'BbAv>2.5', 'BbAv<2.5']]\n",
    "df2 = df2[['Date_x', 'HxG', 'HM', 'HTeam', 'ATeam', 'HG', 'HGA', 'HxGA', 'HDC', 'HODC', 'HPPDA', 'HOPPDA', 'HPTS/M', 'AM', 'AG', 'AGA', 'AxG', 'AxGA', 'ADC', 'AODC', 'APPDA', 'AOPPDA', 'APTS/M', 'Result', 'B365H', 'B365D', 'B365A', 'BbAv>2.5', 'BbAv<2.5']]\n",
    "df3 = df3[['Date_x', 'HxG', 'HM', 'HTeam', 'ATeam', 'HG', 'HGA', 'HxGA', 'HDC', 'HODC', 'HPPDA', 'HOPPDA', 'HPTS/M', 'AM', 'AG', 'AGA', 'AxG', 'AxGA', 'ADC', 'AODC', 'APPDA', 'AOPPDA', 'APTS/M', 'Result', 'B365H', 'B365D', 'B365A', 'AvgC>2.5', 'AvgC<2.5']]\n",
    "df3.rename(columns = {'AvgC<2.5':'BbAv<2.5'}, inplace = True)\n",
    "df3.rename(columns = {'AvgC>2.5':'BbAv>2.5'}, inplace = True)\n",
    "df4 = df4[['Date_x', 'HxG', 'HM', 'HTeam', 'ATeam', 'HG', 'HGA', 'HxGA', 'HDC', 'HODC', 'HPPDA', 'HOPPDA', 'HPTS/M', 'AM', 'AG', 'AGA', 'AxG', 'AxGA', 'ADC', 'AODC', 'APPDA', 'AOPPDA', 'APTS/M', 'Result', 'B365H', 'B365D', 'B365A', 'AvgC>2.5', 'AvgC<2.5']]\n",
    "df4.rename(columns = {'AvgC<2.5':'BbAv<2.5'}, inplace = True)\n",
    "df4.rename(columns = {'AvgC>2.5':'BbAv>2.5'}, inplace = True)\n",
    "df5 = df5[['Date_x', 'HxG', 'HM', 'HTeam', 'ATeam', 'HG', 'HGA', 'HxGA', 'HDC', 'HODC', 'HPPDA', 'HOPPDA', 'HPTS/M', 'AM', 'AG', 'AGA', 'AxG', 'AxGA', 'ADC', 'AODC', 'APPDA', 'AOPPDA', 'APTS/M', 'Result', 'B365H', 'B365D', 'B365A', 'AvgC>2.5', 'AvgC<2.5']]\n",
    "df5.rename(columns = {'AvgC<2.5':'BbAv<2.5'}, inplace = True)\n",
    "df5.rename(columns = {'AvgC>2.5':'BbAv>2.5'}, inplace = True)\n",
    "df6 = df6[['Date', 'HxG', 'HM', 'HTeam', 'ATeam', 'HG', 'HGA', 'HxGA', 'HDC', 'HODC', 'HPPDA', 'HOPPDA', 'HPTS/M', 'AM', 'AG', 'AGA', 'AxG', 'AxGA', 'ADC', 'AODC', 'APPDA', 'AOPPDA', 'APTS/M', 'Result', 'B365H', 'B365D', 'B365A', 'BbAv>2.5', 'BbAv<2.5']]\n",
    "\n",
    "df1.rename(columns = {'Date_x':'Date'}, inplace = True)\n",
    "df2.rename(columns = {'Date_x':'Date'}, inplace = True)\n",
    "df3.rename(columns = {'Date_x':'Date'}, inplace = True)\n",
    "df4.rename(columns = {'Date_x':'Date'}, inplace = True)\n",
    "df5.rename(columns = {'Date_x':'Date'}, inplace = True)\n",
    "\n",
    "\n",
    "Season = pd.read_csv('GatheredData/Full20xxFiles/Full2023.csv')\n",
    "Season = Season[['Date', 'HxG', 'HM', 'HTeam', 'ATeam', 'HG', 'HGA', 'HxGA', 'HDC', 'HODC', 'HPPDA', 'HOPPDA', 'HPTS/M', 'AM', 'AG', 'AGA', 'AxG', 'AxGA', 'ADC', 'AODC', 'APPDA', 'AOPPDA', 'APTS/M', 'Result', 'B365H', 'B365D', 'B365A', 'BbAv>2.5', 'BbAv<2.5']]\n",
    "Season = Season.iloc[38:]\n",
    "\n",
    "\n",
    "DF = pd.concat([df1, df2, df3, df4, df5, df6, Season], ignore_index=True)\n",
    "\n",
    "\n",
    "DF = DF[ DF['HM'] != 0] \n",
    "DF = DF[ DF['HM'] != 1] \n",
    "DF = DF[ DF['HM'] != 2] \n",
    "DF = DF[ DF['HM'] != 3]\n",
    "subset = DF[['Date', 'HTeam', 'ATeam']].copy()\n",
    "\n",
    "extra_stats = DF.copy()\n",
    "extra_pred = pred.copy()\n",
    "\n",
    "DF['PTSDIF/M']=DF['HPTS/M']-DF['APTS/M']\n",
    "pred['PTSDIF/M']=pred['HPTS/M']-pred['APTS/M']\n",
    "DF = DF[[ 'HxG', 'HM', 'HG', 'HGA', 'HxGA', 'HDC', 'HODC', 'HPPDA', 'HOPPDA', 'HPTS/M', 'AM', 'AG', 'AGA', 'AxG', 'AxGA', 'ADC', 'AODC', 'APPDA', 'AOPPDA', 'APTS/M', 'PTSDIF/M', 'Result']]\n",
    "pred = pred[[ 'HxG', 'HM', 'HG', 'HGA', 'HxGA', 'HDC', 'HODC', 'HPPDA', 'HOPPDA', 'HPTS/M', 'AM', 'AG', 'AGA', 'AxG', 'AxGA', 'ADC', 'AODC', 'APPDA', 'AOPPDA', 'APTS/M', 'PTSDIF/M', 'Result']]\n",
    "cut = DF.shape[0]\n",
    "print(cut)\n",
    "DF = pd.concat([DF, pred], ignore_index=True)\n",
    "try:\n",
    "    DF['HxG'] = DF['HxG'].div(DF['HM'])\n",
    "    DF['HG'] = DF['HG'].div(DF['HM'])\n",
    "    DF['HGA'] = DF['HGA'].div(DF['HM'])\n",
    "    DF['HxGA'] = DF['HxGA'].div(DF['HM'])\n",
    "    DF['AxG'] = DF['AxG'].div(DF['AM'])\n",
    "    DF['AG'] = DF['AG'].div(DF['AM'])\n",
    "    DF['AxGA'] = DF['AxG'].div(DF['AM'])\n",
    "    DF['AGA'] = DF['AGA'].div(DF['AM'])\n",
    "    pred['HxG'] = pred['HxG'].div(pred['HM'])\n",
    "    pred['HG'] = pred['HG'].div(pred['HM'])\n",
    "    pred['HGA'] = pred['HGA'].div(pred['HM'])\n",
    "    pred['HxGA'] = pred['HxGA'].div(pred['HM'])\n",
    "    pred['AxG'] = pred['AxG'].div(pred['AM'])\n",
    "    pred['AG'] = pred['AG'].div(pred['AM'])\n",
    "    pred['AxGA'] = pred['AxG'].div(pred['AM'])\n",
    "    pred['AGA'] = pred['AGA'].div(pred['AM'])\n",
    "\n",
    "except ZeroDivisionError:\n",
    "    DF['HxG'] = 0\n",
    "    DF['HG'] = 0\n",
    "    DF['HGA'] = 0\n",
    "    DF['HxGA'] = 0\n",
    "    DF['AxG'] = 0\n",
    "    DF['AG'] = 0\n",
    "    DF['AxGA'] = 0\n",
    "    DF['AGA'] = 0\n",
    "\n",
    "HGoals = []\n",
    "AGoals = []\n",
    "    \n",
    "for i, x in DF.iloc[:cut].iterrows():\n",
    "    a=x['Result'].split('\\'')\n",
    "    HGoals.append(a[1])\n",
    "    AGoals.append(a[3])\n",
    "    \n",
    "DF=np.array(DF)\n",
    "DFnorm = preprocessing.normalize(DF[:, 0:21], axis=0)\n",
    "pred = DFnorm[cut:]\n",
    "DF = DFnorm[:cut]\n",
    "\n",
    "x=DF\n",
    "\n",
    "\n",
    "y1=np.array(HGoals)\n",
    "y2=np.array(AGoals)\n",
    "\n",
    "reg1 = LinearRegression().fit(x, y1)\n",
    "reg2 = LinearRegression().fit(x, y2)\n",
    "\n",
    "LamdaHome= reg1.predict(pred)\n",
    "LamdaAway= reg2.predict(pred)"
   ]
  },
  {
   "attachments": {},
   "cell_type": "markdown",
   "metadata": {},
   "source": [
    "## Gathering Lamda from 2 month form performance"
   ]
  },
  {
   "cell_type": "code",
   "execution_count": 27,
   "metadata": {},
   "outputs": [
    {
     "name": "stdout",
     "output_type": "stream",
     "text": [
      "Date           17/09/2021\n",
      "HTeam    Newcastle United\n",
      "ATeam               Leeds\n",
      "Name: 1560, dtype: object\n",
      "Date                     07/02/2021\n",
      "HxG                           12.05\n",
      "HM                               12\n",
      "HTeam       Wolverhampton Wanderers\n",
      "ATeam                     Leicester\n",
      "HG                               12\n",
      "HGA                              20\n",
      "HxGA                          15.48\n",
      "HDC                            3.17\n",
      "HODC                           7.08\n",
      "HPPDA                         15.93\n",
      "HOPPDA                        11.56\n",
      "HPTS/M                         0.75\n",
      "AM                               12\n",
      "AG                               20\n",
      "AGA                              11\n",
      "AxG                           16.59\n",
      "AxGA                          10.23\n",
      "ADC                            7.00\n",
      "AODC                           4.33\n",
      "APPDA                          9.70\n",
      "AOPPDA                        12.24\n",
      "APTS/M                         2.00\n",
      "Result                 ['0 ', ' 0']\n",
      "B365H                          3.50\n",
      "B365D                          3.40\n",
      "B365A                          2.10\n",
      "BbAv>2.5                       2.20\n",
      "BbAv<2.5                       1.66\n",
      "Name: 1361, dtype: object\n",
      "            Date             HTeam            ATeam  HxG  HM  HG  HGA  HxGA  \\\n",
      "1489  19/12/2021  Newcastle United  Manchester City 7.06   9   8   18 17.04   \n",
      "\n",
      "      HDC  HODC  ...  AODC  APPDA  AOPPDA  APTS/M        Result  B365H  B365D  \\\n",
      "1489 3.56  9.33  ...  3.22   9.16   23.01    2.67  ['0 ', ' 4']  13.00   7.50   \n",
      "\n",
      "      B365A  BbAv>2.5  BbAv<2.5  \n",
      "1489   1.18       NaN       NaN  \n",
      "\n",
      "[1 rows x 29 columns]\n",
      "      HxG  HM   HG  HGA  HxGA  HDC  HODC  HPPDA  HOPPDA  HPTS/M  ...  AGA  \\\n",
      "0    0.54   4 0.25 2.00  1.90 5.00  9.25  13.80    8.77    0.00  ... 1.25   \n",
      "1    1.07   4 0.00 1.75  1.50 5.75  4.75  11.61    8.37    0.00  ... 1.00   \n",
      "2    0.96   4 1.00 0.50  1.18 3.25  3.25   8.69   10.06    1.75  ... 2.00   \n",
      "3    2.40   4 2.00 2.00  1.63 7.00  6.00  15.95   12.48    1.75  ... 1.00   \n",
      "4    1.35   4 1.00 0.75  1.17 4.00  4.00  14.00    7.26    1.50  ... 1.00   \n",
      "...   ...  ..  ...  ...   ...  ...   ...    ...     ...     ...  ...  ...   \n",
      "2046 1.84   4 2.25 1.00  1.63 6.00 12.25  14.26    7.85    2.50  ... 0.50   \n",
      "2047 1.77   4 1.75 1.75  1.22 6.50  7.25  13.27   12.66    0.75  ... 1.25   \n",
      "2048 1.37   4 1.00 2.00  2.52 7.00 13.50   9.95    7.73    0.50  ... 1.25   \n",
      "2049 1.99   4 0.50 2.00  1.95 4.75  7.00  13.17   13.57    0.25  ... 1.00   \n",
      "2050 1.11   4 1.50 1.50  1.68 4.25 11.00  22.93    7.43    1.50  ... 3.67   \n",
      "\n",
      "      AxG  AxGA   ADC  AODC  APPDA  AOPPDA  APTS/M  PTSDIF/M        Result  \n",
      "0    0.44  0.11  3.50  8.25  17.65   18.94    1.00     -1.00  ['2 ', ' 1']  \n",
      "1    1.37  0.34  9.50  2.50   8.15   13.68    1.25     -1.25  ['0 ', ' 1']  \n",
      "2    1.34  0.34  2.75 10.00  15.38   10.43    0.75      1.00  ['1 ', ' 1']  \n",
      "3    0.76  0.19  3.50  6.75  12.51    8.62    1.75      0.00  ['1 ', ' 1']  \n",
      "4    0.86  0.22  5.50  7.25  15.26    8.52    1.25      0.25  ['2 ', ' 1']  \n",
      "...   ...   ...   ...   ...    ...     ...     ...       ...           ...  \n",
      "2046 2.37  0.59 12.00  4.00  10.74   24.69    3.00     -0.50  ['1 ', ' 3']  \n",
      "2047 2.35  0.59 11.00  6.25   9.34   10.35    1.50     -0.75  ['1 ', ' 0']  \n",
      "2048 2.31  0.58 13.75  4.50   6.83   20.79    1.00     -0.50  ['0 ', ' 0']  \n",
      "2049 2.05  0.51 12.25  5.00   9.32   27.82    2.50     -2.25  ['0 ', ' 1']  \n",
      "2050 0.87  0.29  6.33 11.33  12.47   16.79    0.00      1.50  ['1 ', ' 1']  \n",
      "\n",
      "[2051 rows x 22 columns]\n"
     ]
    },
    {
     "name": "stderr",
     "output_type": "stream",
     "text": [
      "/tmp/ipykernel_163551/2412402004.py:48: SettingWithCopyWarning:\n",
      "\n",
      "\n",
      "A value is trying to be set on a copy of a slice from a DataFrame.\n",
      "Try using .loc[row_indexer,col_indexer] = value instead\n",
      "\n",
      "See the caveats in the documentation: https://pandas.pydata.org/pandas-docs/stable/user_guide/indexing.html#returning-a-view-versus-a-copy\n",
      "\n"
     ]
    }
   ],
   "source": [
    "df1 = pd.read_csv('GatheredData/Epl20xxMonthlyFiles/Epl2017Monthly.csv')\n",
    "df2 = pd.read_csv('GatheredData/Epl20xxMonthlyFiles/Epl2018Monthly.csv')\n",
    "df3 = pd.read_csv('GatheredData/Epl20xxMonthlyFiles/Epl2019Monthly.csv')\n",
    "df4 = pd.read_csv('GatheredData/Epl20xxMonthlyFiles/Epl2020Monthly.csv')\n",
    "df5 = pd.read_csv('GatheredData/Epl20xxMonthlyFiles/Epl2021Monthly.csv')\n",
    "df6 = pd.read_csv('GatheredData/Epl20xxMonthlyFiles/Epl2022Monthly.csv')\n",
    "pred = PRED.copy()\n",
    "#Keeping bookmakers odds\n",
    "Odds = PRED.copy()\n",
    "Odds = PRED[['HTeam', 'ATeam','B365H', 'B365D', 'B365A', 'BbAv>2.5', 'BbAv<2.5', 'GG', 'NG']]\n",
    "\n",
    "df1 = df1[['Date', 'HxG', 'HM', 'HTeam', 'ATeam', 'HG', 'HGA', 'HxGA', 'HDC', 'HODC', 'HPPDA', 'HOPPDA', 'HPTS/M', 'AM', 'AG', 'AGA', 'AxG', 'AxGA', 'ADC', 'AODC', 'APPDA', 'AOPPDA', 'APTS/M', 'Result', 'B365H', 'B365D', 'B365A', 'BbAv>2.5', 'BbAv<2.5']]\n",
    "df2 = df2[['Date', 'HxG', 'HM', 'HTeam', 'ATeam', 'HG', 'HGA', 'HxGA', 'HDC', 'HODC', 'HPPDA', 'HOPPDA', 'HPTS/M', 'AM', 'AG', 'AGA', 'AxG', 'AxGA', 'ADC', 'AODC', 'APPDA', 'AOPPDA', 'APTS/M', 'Result', 'B365H', 'B365D', 'B365A', 'BbAv>2.5', 'BbAv<2.5']]\n",
    "df3 = df3[['Date', 'HxG', 'HM', 'HTeam', 'ATeam', 'HG', 'HGA', 'HxGA', 'HDC', 'HODC', 'HPPDA', 'HOPPDA', 'HPTS/M', 'AM', 'AG', 'AGA', 'AxG', 'AxGA', 'ADC', 'AODC', 'APPDA', 'AOPPDA', 'APTS/M', 'Result', 'B365H', 'B365D', 'B365A', 'B365>2.5', 'B365<2.5']]\n",
    "df3.rename(columns = {'B365<2.5':'BbAv<2.5'}, inplace = True)\n",
    "df3.rename(columns = {'B365>2.5':'BbAv>2.5'}, inplace = True)\n",
    "df4 = df4[['Date', 'HxG', 'HM', 'HTeam', 'ATeam', 'HG', 'HGA', 'HxGA', 'HDC', 'HODC', 'HPPDA', 'HOPPDA', 'HPTS/M', 'AM', 'AG', 'AGA', 'AxG', 'AxGA', 'ADC', 'AODC', 'APPDA', 'AOPPDA', 'APTS/M', 'Result', 'B365H', 'B365D', 'B365A', 'B365>2.5', 'B365<2.5']]\n",
    "df4.rename(columns = {'B365<2.5':'BbAv<2.5'}, inplace = True)\n",
    "df4.rename(columns = {'B365>2.5':'BbAv>2.5'}, inplace = True)\n",
    "df5 = df5[['Date', 'HxG', 'HM', 'HTeam', 'ATeam', 'HG', 'HGA', 'HxGA', 'HDC', 'HODC', 'HPPDA', 'HOPPDA', 'HPTS/M', 'AM', 'AG', 'AGA', 'AxG', 'AxGA', 'ADC', 'AODC', 'APPDA', 'AOPPDA', 'APTS/M', 'Result', 'B365H', 'B365D', 'B365A', 'B365>2.5', 'B365<2.5']]\n",
    "df5.rename(columns = {'B365<2.5':'BbAv<2.5'}, inplace = True)\n",
    "df5.rename(columns = {'B365>2.5':'BbAv>2.5'}, inplace = True)\n",
    "df6 = df6[['Date', 'HxG', 'HM', 'HTeam', 'ATeam', 'HG', 'HGA', 'HxGA', 'HDC', 'HODC', 'HPPDA', 'HOPPDA', 'HPTS/M', 'AM', 'AG', 'AGA', 'AxG', 'AxGA', 'ADC', 'AODC', 'APPDA', 'AOPPDA', 'APTS/M', 'Result', 'B365H', 'B365D', 'B365A', 'BbAv>2.5', 'BbAv<2.5']]\n",
    "df6.rename(columns = {'B365<2.5':'BbAv<2.5'}, inplace = True)\n",
    "df6.rename(columns = {'B365>2.5':'BbAv>2.5'}, inplace = True)\n",
    "\n",
    "SeasonForm = pd.read_csv('GatheredData/Epl20xxMonthlyFiles/Epl2023Monthly.csv')\n",
    "\n",
    "\n",
    "try:\n",
    "    SeasonForm = SeasonForm[['Date', 'HxG', 'HM', 'HTeam', 'ATeam', 'HG', 'HGA', 'HxGA', 'HDC', 'HODC', 'HPPDA', 'HOPPDA', 'HPTS/M', 'AM', 'AG', 'AGA', 'AxG', 'AxGA', 'ADC', 'AODC', 'APPDA', 'AOPPDA', 'APTS/M', 'Result', 'B365H', 'B365D', 'B365A', 'BbAv>2.5', 'BbAv<2.5']]\n",
    "except KeyError:\n",
    "    SeasonForm = SeasonForm[['Date', 'HxG', 'HM', 'HTeam', 'ATeam', 'HG', 'HGA', 'HxGA', 'HDC', 'HODC', 'HPPDA', 'HOPPDA', 'HPTS/M', 'AM', 'AG', 'AGA', 'AxG', 'AxGA', 'ADC', 'AODC', 'APPDA', 'AOPPDA', 'APTS/M', 'Result', 'B365H', 'B365D', 'B365A', 'B365>2.5', 'B365<2.5']]\n",
    "    SeasonForm.rename(columns = {'B365<2.5':'BbAv<2.5'}, inplace = True)\n",
    "    SeasonForm.rename(columns = {'B365>2.5':'BbAv>2.5'}, inplace = True)\n",
    "    \n",
    "SeasonForm = SeasonForm.iloc[38:]\n",
    "\n",
    "DF = pd.concat([df1, df2, df3, df4, df5, df6, SeasonForm], ignore_index=True)\n",
    "merged = pd.merge(subset, DF, on=['Date', 'HTeam', 'ATeam'], how='left')\n",
    "print(subset.iloc[1361])\n",
    "print(DF.iloc[1361])\n",
    "print(merged[merged.isna().any(axis=1)])\n",
    "\n",
    "# resulting dataframe will have columns of B where the triplet of A['a', 'b', 'c'] exists in B\n",
    "DF = merged[DF.columns]\n",
    "\n",
    "DF['PTSDIF/M']=DF['HPTS/M']-DF['APTS/M']\n",
    "pred['PTSDIF/M']=pred['HPTS/M']-pred['APTS/M']\n",
    "DF = DF[['HxG', 'HM', 'HG', 'HGA', 'HxGA', 'HDC', 'HODC', 'HPPDA', 'HOPPDA', 'HPTS/M', 'AM', 'AG', 'AGA', 'AxG', 'AxGA', 'ADC', 'AODC', 'APPDA', 'AOPPDA', 'APTS/M', 'PTSDIF/M', 'Result']]\n",
    "pred = pred[['HxG', 'HM', 'HG', 'HGA', 'HxGA', 'HDC', 'HODC', 'HPPDA', 'HOPPDA', 'HPTS/M', 'AM', 'AG', 'AGA', 'AxG', 'AxGA', 'ADC', 'AODC', 'APPDA', 'AOPPDA', 'APTS/M', 'PTSDIF/M', 'Result']]\n",
    "cut = DF.shape[0]\n",
    "DF = pd.concat([DF, pred], ignore_index=True)\n",
    "\n",
    "\n",
    "\n",
    "try:\n",
    "    DF['HxG'] = DF['HxG'].div(DF['HM']).fillna(0)\n",
    "    DF['HG'] = DF['HG'].div(DF['HM']).fillna(0)\n",
    "    DF['HGA'] = DF['HGA'].div(DF['HM']).fillna(0)\n",
    "    DF['HxGA'] = DF['HxGA'].div(DF['HM']).fillna(0)\n",
    "    DF['AxG'] = DF['AxG'].div(DF['AM']).fillna(0)\n",
    "    DF['AG'] = DF['AG'].div(DF['AM']).fillna(0)\n",
    "    DF['AxGA'] = DF['AxG'].div(DF['AM']).fillna(0)\n",
    "    DF['AGA'] = DF['AGA'].div(DF['AM']).fillna(0)\n",
    "    pred['HxG'] = pred['HxG'].div(pred['HM']).fillna(0)\n",
    "    pred['HG'] = pred['HG'].div(pred['HM']).fillna(0)\n",
    "    pred['HGA'] = pred['HGA'].div(pred['HM']).fillna(0)\n",
    "    pred['HxGA'] = pred['HxGA'].div(pred['HM']).fillna(0)\n",
    "    pred['AxG'] = pred['AxG'].div(pred['AM']).fillna(0)\n",
    "    pred['AG'] = pred['AG'].div(pred['AM']).fillna(0)\n",
    "    pred['AxGA'] = pred['AxG'].div(pred['AM']).fillna(0)\n",
    "    pred['AGA'] = pred['AGA'].div(pred['AM']).fillna(0)\n",
    "\n",
    "except ZeroDivisionError:\n",
    "    DF['HxG'] = 0\n",
    "    DF['HG'] = 0\n",
    "    DF['HGA'] = 0\n",
    "    DF['HxGA'] = 0\n",
    "    DF['AxG'] = 0\n",
    "    DF['AG'] = 0\n",
    "    DF['AxGA'] = 0\n",
    "    DF['AGA'] = 0\n",
    "\n",
    "\n",
    "print(DF.iloc[:cut])\n",
    "        \n",
    "HGoals = []\n",
    "AGoals = []\n",
    "for i, x in DF.iloc[:cut].iterrows():\n",
    "    a=str(x['Result']).split('\\'')\n",
    "    try:\n",
    "        HGoals.append(a[1])\n",
    "        AGoals.append(a[3])\n",
    "    except IndexError:\n",
    "        print(x)\n",
    "        print(DF.iloc[:cut].iloc[i-1])\n",
    "\n",
    "DF=np.array(DF)\n",
    "\n",
    "DFnorm = preprocessing.normalize(DF[:, 0:21].astype('float64'), axis=0)\n",
    "pred = DFnorm[cut:]\n",
    "DF = DFnorm[:cut]\n",
    "\n",
    "x=DF\n",
    "\n",
    "y1=np.array(HGoals)\n",
    "y2=np.array(AGoals)\n",
    "\n",
    "reg1 = LinearRegression().fit(x, y1)\n",
    "reg2 = LinearRegression().fit(x, y2)\n",
    "\n",
    "LamdaHomeForm= reg1.predict(pred)\n",
    "LamdaAwayForm= reg2.predict(pred)"
   ]
  },
  {
   "cell_type": "code",
   "execution_count": 28,
   "metadata": {},
   "outputs": [
    {
     "name": "stdout",
     "output_type": "stream",
     "text": [
      "[1.4177850664955032, 1.0422991292578785, 1.7095209804048603, 2.0847180759878836, 2.225345968262861, 1.8392955671663453, 0.6757012064044389, 1.909728275551557, 1.3087171200873968, 1.2837557276817069, 1.679933353564087, 1.084865733999247, 1.1707163079667724, 1.8558073108624757, 1.9277322253442986, 1.9890191696248882, 1.522593287308961, 1.2212670255114373, 1.8838666809722513, 1.019186546564437, 1.5665997328091679]\n",
      "[1.8937026177128047, 2.4098484953630197, 1.0610485171420576, 1.1617422001973412, 0.9487832078870639, 1.25459132086241, 2.6909522511437887, 1.982918833976007, 1.4871686150512753, 1.8583220161859615, 1.402471002495697, 2.098253576078784, 1.779800723382277, 1.0413610090578982, 1.0122767493332563, 1.3935261721448104, 1.1035305506399689, 2.058613270889043, 1.7686236247037979, 2.028059252079013, 1.7569843304415969]\n"
     ]
    }
   ],
   "source": [
    "LamdaAwayFinal = [(LamdaAway[i] * 0.4 + LamdaAwayForm[i] * 0.6) for i in range(len(LamdaAway))]\n",
    "LamdaHomeFinal = [(LamdaHome[i] * 0.4 + LamdaHomeForm[i] * 0.6) for i in range(len(LamdaHome))]\n",
    "\n",
    "print(LamdaHomeFinal)\n",
    "print(LamdaAwayFinal)"
   ]
  },
  {
   "cell_type": "code",
   "execution_count": 29,
   "metadata": {},
   "outputs": [
    {
     "data": {
      "text/html": [
       "<div>\n",
       "<style scoped>\n",
       "    .dataframe tbody tr th:only-of-type {\n",
       "        vertical-align: middle;\n",
       "    }\n",
       "\n",
       "    .dataframe tbody tr th {\n",
       "        vertical-align: top;\n",
       "    }\n",
       "\n",
       "    .dataframe thead th {\n",
       "        text-align: right;\n",
       "    }\n",
       "</style>\n",
       "<table border=\"1\" class=\"dataframe\">\n",
       "  <thead>\n",
       "    <tr style=\"text-align: right;\">\n",
       "      <th></th>\n",
       "      <th>Date</th>\n",
       "      <th>HTeam</th>\n",
       "      <th>ATeam</th>\n",
       "      <th>P(Hwin)</th>\n",
       "      <th>P(Draw)</th>\n",
       "      <th>P(Awin)</th>\n",
       "      <th>P(Under)</th>\n",
       "      <th>P(Over)</th>\n",
       "      <th>P(GG)</th>\n",
       "      <th>P(NG)</th>\n",
       "    </tr>\n",
       "  </thead>\n",
       "  <tbody>\n",
       "    <tr>\n",
       "      <th>0</th>\n",
       "      <td>30/09/2023</td>\n",
       "      <td>Aston Villa</td>\n",
       "      <td>Brighton</td>\n",
       "      <td>0.308</td>\n",
       "      <td>0.224</td>\n",
       "      <td>0.468</td>\n",
       "      <td>0.349</td>\n",
       "      <td>0.651</td>\n",
       "      <td>0.654</td>\n",
       "      <td>0.346</td>\n",
       "    </tr>\n",
       "    <tr>\n",
       "      <th>1</th>\n",
       "      <td>30/09/2023</td>\n",
       "      <td>Bournemouth</td>\n",
       "      <td>Arsenal</td>\n",
       "      <td>0.138</td>\n",
       "      <td>0.173</td>\n",
       "      <td>0.689</td>\n",
       "      <td>0.329</td>\n",
       "      <td>0.671</td>\n",
       "      <td>0.581</td>\n",
       "      <td>0.419</td>\n",
       "    </tr>\n",
       "    <tr>\n",
       "      <th>2</th>\n",
       "      <td>30/09/2023</td>\n",
       "      <td>Everton</td>\n",
       "      <td>Luton</td>\n",
       "      <td>0.546</td>\n",
       "      <td>0.239</td>\n",
       "      <td>0.215</td>\n",
       "      <td>0.496</td>\n",
       "      <td>0.504</td>\n",
       "      <td>0.511</td>\n",
       "      <td>0.489</td>\n",
       "    </tr>\n",
       "    <tr>\n",
       "      <th>3</th>\n",
       "      <td>30/09/2023</td>\n",
       "      <td>Manchester United</td>\n",
       "      <td>Crystal Palace</td>\n",
       "      <td>0.616</td>\n",
       "      <td>0.199</td>\n",
       "      <td>0.185</td>\n",
       "      <td>0.360</td>\n",
       "      <td>0.640</td>\n",
       "      <td>0.596</td>\n",
       "      <td>0.404</td>\n",
       "    </tr>\n",
       "    <tr>\n",
       "      <th>4</th>\n",
       "      <td>30/09/2023</td>\n",
       "      <td>Newcastle United</td>\n",
       "      <td>Burnley</td>\n",
       "      <td>0.717</td>\n",
       "      <td>0.172</td>\n",
       "      <td>0.111</td>\n",
       "      <td>0.397</td>\n",
       "      <td>0.603</td>\n",
       "      <td>0.494</td>\n",
       "      <td>0.506</td>\n",
       "    </tr>\n",
       "    <tr>\n",
       "      <th>5</th>\n",
       "      <td>30/09/2023</td>\n",
       "      <td>West Ham</td>\n",
       "      <td>Sheffield United</td>\n",
       "      <td>0.554</td>\n",
       "      <td>0.220</td>\n",
       "      <td>0.226</td>\n",
       "      <td>0.399</td>\n",
       "      <td>0.601</td>\n",
       "      <td>0.590</td>\n",
       "      <td>0.410</td>\n",
       "    </tr>\n",
       "    <tr>\n",
       "      <th>6</th>\n",
       "      <td>30/09/2023</td>\n",
       "      <td>Wolverhampton Wanderers</td>\n",
       "      <td>Manchester City</td>\n",
       "      <td>0.054</td>\n",
       "      <td>0.120</td>\n",
       "      <td>0.826</td>\n",
       "      <td>0.357</td>\n",
       "      <td>0.643</td>\n",
       "      <td>0.408</td>\n",
       "      <td>0.592</td>\n",
       "    </tr>\n",
       "    <tr>\n",
       "      <th>7</th>\n",
       "      <td>30/09/2023</td>\n",
       "      <td>Tottenham</td>\n",
       "      <td>Liverpool</td>\n",
       "      <td>0.395</td>\n",
       "      <td>0.208</td>\n",
       "      <td>0.397</td>\n",
       "      <td>0.245</td>\n",
       "      <td>0.755</td>\n",
       "      <td>0.742</td>\n",
       "      <td>0.258</td>\n",
       "    </tr>\n",
       "    <tr>\n",
       "      <th>8</th>\n",
       "      <td>01/10/2023</td>\n",
       "      <td>Nottingham Forest</td>\n",
       "      <td>Brentford</td>\n",
       "      <td>0.352</td>\n",
       "      <td>0.253</td>\n",
       "      <td>0.395</td>\n",
       "      <td>0.473</td>\n",
       "      <td>0.527</td>\n",
       "      <td>0.564</td>\n",
       "      <td>0.436</td>\n",
       "    </tr>\n",
       "    <tr>\n",
       "      <th>9</th>\n",
       "      <td>02/10/2023</td>\n",
       "      <td>Fulham</td>\n",
       "      <td>Chelsea</td>\n",
       "      <td>0.304</td>\n",
       "      <td>0.236</td>\n",
       "      <td>0.461</td>\n",
       "      <td>0.407</td>\n",
       "      <td>0.593</td>\n",
       "      <td>0.609</td>\n",
       "      <td>0.391</td>\n",
       "    </tr>\n",
       "    <tr>\n",
       "      <th>10</th>\n",
       "      <td>03/10/2023</td>\n",
       "      <td>Luton</td>\n",
       "      <td>Burnley</td>\n",
       "      <td>0.508</td>\n",
       "      <td>0.233</td>\n",
       "      <td>0.259</td>\n",
       "      <td>0.424</td>\n",
       "      <td>0.576</td>\n",
       "      <td>0.584</td>\n",
       "      <td>0.416</td>\n",
       "    </tr>\n",
       "    <tr>\n",
       "      <th>11</th>\n",
       "      <td>07/10/2023</td>\n",
       "      <td>Luton</td>\n",
       "      <td>Tottenham</td>\n",
       "      <td>0.186</td>\n",
       "      <td>0.202</td>\n",
       "      <td>0.611</td>\n",
       "      <td>0.373</td>\n",
       "      <td>0.627</td>\n",
       "      <td>0.587</td>\n",
       "      <td>0.413</td>\n",
       "    </tr>\n",
       "    <tr>\n",
       "      <th>12</th>\n",
       "      <td>07/10/2023</td>\n",
       "      <td>Burnley</td>\n",
       "      <td>Chelsea</td>\n",
       "      <td>0.266</td>\n",
       "      <td>0.239</td>\n",
       "      <td>0.495</td>\n",
       "      <td>0.448</td>\n",
       "      <td>0.552</td>\n",
       "      <td>0.568</td>\n",
       "      <td>0.432</td>\n",
       "    </tr>\n",
       "    <tr>\n",
       "      <th>13</th>\n",
       "      <td>07/10/2023</td>\n",
       "      <td>Everton</td>\n",
       "      <td>Bournemouth</td>\n",
       "      <td>0.619</td>\n",
       "      <td>0.212</td>\n",
       "      <td>0.169</td>\n",
       "      <td>0.447</td>\n",
       "      <td>0.553</td>\n",
       "      <td>0.519</td>\n",
       "      <td>0.481</td>\n",
       "    </tr>\n",
       "    <tr>\n",
       "      <th>14</th>\n",
       "      <td>07/10/2023</td>\n",
       "      <td>Fulham</td>\n",
       "      <td>Sheffield United</td>\n",
       "      <td>0.625</td>\n",
       "      <td>0.211</td>\n",
       "      <td>0.164</td>\n",
       "      <td>0.451</td>\n",
       "      <td>0.549</td>\n",
       "      <td>0.511</td>\n",
       "      <td>0.489</td>\n",
       "    </tr>\n",
       "    <tr>\n",
       "      <th>15</th>\n",
       "      <td>07/10/2023</td>\n",
       "      <td>Manchester United</td>\n",
       "      <td>Brentford</td>\n",
       "      <td>0.555</td>\n",
       "      <td>0.210</td>\n",
       "      <td>0.234</td>\n",
       "      <td>0.344</td>\n",
       "      <td>0.656</td>\n",
       "      <td>0.636</td>\n",
       "      <td>0.364</td>\n",
       "    </tr>\n",
       "    <tr>\n",
       "      <th>16</th>\n",
       "      <td>07/10/2023</td>\n",
       "      <td>Crystal Palace</td>\n",
       "      <td>Nottingham Forest</td>\n",
       "      <td>0.486</td>\n",
       "      <td>0.253</td>\n",
       "      <td>0.261</td>\n",
       "      <td>0.512</td>\n",
       "      <td>0.488</td>\n",
       "      <td>0.518</td>\n",
       "      <td>0.482</td>\n",
       "    </tr>\n",
       "    <tr>\n",
       "      <th>17</th>\n",
       "      <td>08/10/2023</td>\n",
       "      <td>Wolverhampton Wanderers</td>\n",
       "      <td>Aston Villa</td>\n",
       "      <td>0.190</td>\n",
       "      <td>0.202</td>\n",
       "      <td>0.608</td>\n",
       "      <td>0.364</td>\n",
       "      <td>0.636</td>\n",
       "      <td>0.597</td>\n",
       "      <td>0.403</td>\n",
       "    </tr>\n",
       "    <tr>\n",
       "      <th>18</th>\n",
       "      <td>08/10/2023</td>\n",
       "      <td>Brighton</td>\n",
       "      <td>Liverpool</td>\n",
       "      <td>0.410</td>\n",
       "      <td>0.217</td>\n",
       "      <td>0.373</td>\n",
       "      <td>0.292</td>\n",
       "      <td>0.708</td>\n",
       "      <td>0.705</td>\n",
       "      <td>0.295</td>\n",
       "    </tr>\n",
       "    <tr>\n",
       "      <th>19</th>\n",
       "      <td>08/10/2023</td>\n",
       "      <td>West Ham</td>\n",
       "      <td>Newcastle United</td>\n",
       "      <td>0.169</td>\n",
       "      <td>0.210</td>\n",
       "      <td>0.621</td>\n",
       "      <td>0.436</td>\n",
       "      <td>0.564</td>\n",
       "      <td>0.527</td>\n",
       "      <td>0.473</td>\n",
       "    </tr>\n",
       "    <tr>\n",
       "      <th>20</th>\n",
       "      <td>08/10/2023</td>\n",
       "      <td>Arsenal</td>\n",
       "      <td>Manchester City</td>\n",
       "      <td>0.360</td>\n",
       "      <td>0.229</td>\n",
       "      <td>0.411</td>\n",
       "      <td>0.356</td>\n",
       "      <td>0.644</td>\n",
       "      <td>0.655</td>\n",
       "      <td>0.345</td>\n",
       "    </tr>\n",
       "  </tbody>\n",
       "</table>\n",
       "</div>"
      ],
      "text/plain": [
       "          Date                    HTeam              ATeam  P(Hwin)  P(Draw)  \\\n",
       "0   30/09/2023              Aston Villa           Brighton    0.308    0.224   \n",
       "1   30/09/2023              Bournemouth            Arsenal    0.138    0.173   \n",
       "2   30/09/2023                  Everton              Luton    0.546    0.239   \n",
       "3   30/09/2023        Manchester United     Crystal Palace    0.616    0.199   \n",
       "4   30/09/2023         Newcastle United            Burnley    0.717    0.172   \n",
       "5   30/09/2023                 West Ham   Sheffield United    0.554    0.220   \n",
       "6   30/09/2023  Wolverhampton Wanderers    Manchester City    0.054    0.120   \n",
       "7   30/09/2023                Tottenham          Liverpool    0.395    0.208   \n",
       "8   01/10/2023        Nottingham Forest          Brentford    0.352    0.253   \n",
       "9   02/10/2023                   Fulham            Chelsea    0.304    0.236   \n",
       "10  03/10/2023                    Luton            Burnley    0.508    0.233   \n",
       "11  07/10/2023                    Luton          Tottenham    0.186    0.202   \n",
       "12  07/10/2023                  Burnley            Chelsea    0.266    0.239   \n",
       "13  07/10/2023                  Everton        Bournemouth    0.619    0.212   \n",
       "14  07/10/2023                   Fulham   Sheffield United    0.625    0.211   \n",
       "15  07/10/2023        Manchester United          Brentford    0.555    0.210   \n",
       "16  07/10/2023           Crystal Palace  Nottingham Forest    0.486    0.253   \n",
       "17  08/10/2023  Wolverhampton Wanderers        Aston Villa    0.190    0.202   \n",
       "18  08/10/2023                 Brighton          Liverpool    0.410    0.217   \n",
       "19  08/10/2023                 West Ham   Newcastle United    0.169    0.210   \n",
       "20  08/10/2023                  Arsenal    Manchester City    0.360    0.229   \n",
       "\n",
       "    P(Awin)  P(Under)  P(Over)  P(GG)  P(NG)  \n",
       "0     0.468     0.349    0.651  0.654  0.346  \n",
       "1     0.689     0.329    0.671  0.581  0.419  \n",
       "2     0.215     0.496    0.504  0.511  0.489  \n",
       "3     0.185     0.360    0.640  0.596  0.404  \n",
       "4     0.111     0.397    0.603  0.494  0.506  \n",
       "5     0.226     0.399    0.601  0.590  0.410  \n",
       "6     0.826     0.357    0.643  0.408  0.592  \n",
       "7     0.397     0.245    0.755  0.742  0.258  \n",
       "8     0.395     0.473    0.527  0.564  0.436  \n",
       "9     0.461     0.407    0.593  0.609  0.391  \n",
       "10    0.259     0.424    0.576  0.584  0.416  \n",
       "11    0.611     0.373    0.627  0.587  0.413  \n",
       "12    0.495     0.448    0.552  0.568  0.432  \n",
       "13    0.169     0.447    0.553  0.519  0.481  \n",
       "14    0.164     0.451    0.549  0.511  0.489  \n",
       "15    0.234     0.344    0.656  0.636  0.364  \n",
       "16    0.261     0.512    0.488  0.518  0.482  \n",
       "17    0.608     0.364    0.636  0.597  0.403  \n",
       "18    0.373     0.292    0.708  0.705  0.295  \n",
       "19    0.621     0.436    0.564  0.527  0.473  \n",
       "20    0.411     0.356    0.644  0.655  0.345  "
      ]
     },
     "metadata": {},
     "output_type": "display_data"
    },
    {
     "name": "stderr",
     "output_type": "stream",
     "text": [
      "/tmp/ipykernel_163551/2686805503.py:83: SettingWithCopyWarning:\n",
      "\n",
      "\n",
      "A value is trying to be set on a copy of a slice from a DataFrame\n",
      "\n",
      "See the caveats in the documentation: https://pandas.pydata.org/pandas-docs/stable/user_guide/indexing.html#returning-a-view-versus-a-copy\n",
      "\n",
      "/tmp/ipykernel_163551/2686805503.py:87: SettingWithCopyWarning:\n",
      "\n",
      "\n",
      "A value is trying to be set on a copy of a slice from a DataFrame\n",
      "\n",
      "See the caveats in the documentation: https://pandas.pydata.org/pandas-docs/stable/user_guide/indexing.html#returning-a-view-versus-a-copy\n",
      "\n",
      "/tmp/ipykernel_163551/2686805503.py:88: SettingWithCopyWarning:\n",
      "\n",
      "\n",
      "A value is trying to be set on a copy of a slice from a DataFrame\n",
      "\n",
      "See the caveats in the documentation: https://pandas.pydata.org/pandas-docs/stable/user_guide/indexing.html#returning-a-view-versus-a-copy\n",
      "\n",
      "/tmp/ipykernel_163551/2686805503.py:89: SettingWithCopyWarning:\n",
      "\n",
      "\n",
      "A value is trying to be set on a copy of a slice from a DataFrame\n",
      "\n",
      "See the caveats in the documentation: https://pandas.pydata.org/pandas-docs/stable/user_guide/indexing.html#returning-a-view-versus-a-copy\n",
      "\n",
      "/tmp/ipykernel_163551/2686805503.py:90: SettingWithCopyWarning:\n",
      "\n",
      "\n",
      "A value is trying to be set on a copy of a slice from a DataFrame\n",
      "\n",
      "See the caveats in the documentation: https://pandas.pydata.org/pandas-docs/stable/user_guide/indexing.html#returning-a-view-versus-a-copy\n",
      "\n",
      "/tmp/ipykernel_163551/2686805503.py:91: SettingWithCopyWarning:\n",
      "\n",
      "\n",
      "A value is trying to be set on a copy of a slice from a DataFrame\n",
      "\n",
      "See the caveats in the documentation: https://pandas.pydata.org/pandas-docs/stable/user_guide/indexing.html#returning-a-view-versus-a-copy\n",
      "\n",
      "/tmp/ipykernel_163551/2686805503.py:92: SettingWithCopyWarning:\n",
      "\n",
      "\n",
      "A value is trying to be set on a copy of a slice from a DataFrame\n",
      "\n",
      "See the caveats in the documentation: https://pandas.pydata.org/pandas-docs/stable/user_guide/indexing.html#returning-a-view-versus-a-copy\n",
      "\n",
      "/tmp/ipykernel_163551/2686805503.py:93: SettingWithCopyWarning:\n",
      "\n",
      "\n",
      "A value is trying to be set on a copy of a slice from a DataFrame\n",
      "\n",
      "See the caveats in the documentation: https://pandas.pydata.org/pandas-docs/stable/user_guide/indexing.html#returning-a-view-versus-a-copy\n",
      "\n"
     ]
    },
    {
     "data": {
      "text/html": [
       "<div>\n",
       "<style scoped>\n",
       "    .dataframe tbody tr th:only-of-type {\n",
       "        vertical-align: middle;\n",
       "    }\n",
       "\n",
       "    .dataframe tbody tr th {\n",
       "        vertical-align: top;\n",
       "    }\n",
       "\n",
       "    .dataframe thead th {\n",
       "        text-align: right;\n",
       "    }\n",
       "</style>\n",
       "<table border=\"1\" class=\"dataframe\">\n",
       "  <thead>\n",
       "    <tr style=\"text-align: right;\">\n",
       "      <th></th>\n",
       "      <th>P(Hwin)</th>\n",
       "      <th>P(Draw)</th>\n",
       "      <th>P(Awin)</th>\n",
       "      <th>P(Under)</th>\n",
       "      <th>P(Over)</th>\n",
       "      <th>P(GG)</th>\n",
       "      <th>P(NG)</th>\n",
       "      <th>Type</th>\n",
       "      <th>Match</th>\n",
       "      <th>Date</th>\n",
       "    </tr>\n",
       "  </thead>\n",
       "  <tbody>\n",
       "    <tr>\n",
       "      <th>0</th>\n",
       "      <td>0.31</td>\n",
       "      <td>0.22</td>\n",
       "      <td>0.47</td>\n",
       "      <td>0.35</td>\n",
       "      <td>0.65</td>\n",
       "      <td>0.65</td>\n",
       "      <td>0.35</td>\n",
       "      <td>Predicted</td>\n",
       "      <td>Aston Villa-Brighton</td>\n",
       "      <td>30/09/2023</td>\n",
       "    </tr>\n",
       "    <tr>\n",
       "      <th>1</th>\n",
       "      <td>0.14</td>\n",
       "      <td>0.17</td>\n",
       "      <td>0.69</td>\n",
       "      <td>0.33</td>\n",
       "      <td>0.67</td>\n",
       "      <td>0.58</td>\n",
       "      <td>0.42</td>\n",
       "      <td>Predicted</td>\n",
       "      <td>Bournemouth-Arsenal</td>\n",
       "      <td>30/09/2023</td>\n",
       "    </tr>\n",
       "    <tr>\n",
       "      <th>2</th>\n",
       "      <td>0.55</td>\n",
       "      <td>0.24</td>\n",
       "      <td>0.21</td>\n",
       "      <td>0.50</td>\n",
       "      <td>0.50</td>\n",
       "      <td>0.51</td>\n",
       "      <td>0.49</td>\n",
       "      <td>Predicted</td>\n",
       "      <td>Everton-Luton</td>\n",
       "      <td>30/09/2023</td>\n",
       "    </tr>\n",
       "    <tr>\n",
       "      <th>3</th>\n",
       "      <td>0.62</td>\n",
       "      <td>0.20</td>\n",
       "      <td>0.18</td>\n",
       "      <td>0.36</td>\n",
       "      <td>0.64</td>\n",
       "      <td>0.60</td>\n",
       "      <td>0.40</td>\n",
       "      <td>Predicted</td>\n",
       "      <td>Manchester United-Crystal Palace</td>\n",
       "      <td>30/09/2023</td>\n",
       "    </tr>\n",
       "    <tr>\n",
       "      <th>4</th>\n",
       "      <td>0.72</td>\n",
       "      <td>0.17</td>\n",
       "      <td>0.11</td>\n",
       "      <td>0.40</td>\n",
       "      <td>0.60</td>\n",
       "      <td>0.49</td>\n",
       "      <td>0.51</td>\n",
       "      <td>Predicted</td>\n",
       "      <td>Newcastle United-Burnley</td>\n",
       "      <td>30/09/2023</td>\n",
       "    </tr>\n",
       "    <tr>\n",
       "      <th>5</th>\n",
       "      <td>0.55</td>\n",
       "      <td>0.22</td>\n",
       "      <td>0.23</td>\n",
       "      <td>0.40</td>\n",
       "      <td>0.60</td>\n",
       "      <td>0.59</td>\n",
       "      <td>0.41</td>\n",
       "      <td>Predicted</td>\n",
       "      <td>West Ham-Sheffield United</td>\n",
       "      <td>30/09/2023</td>\n",
       "    </tr>\n",
       "    <tr>\n",
       "      <th>6</th>\n",
       "      <td>0.05</td>\n",
       "      <td>0.12</td>\n",
       "      <td>0.83</td>\n",
       "      <td>0.36</td>\n",
       "      <td>0.64</td>\n",
       "      <td>0.41</td>\n",
       "      <td>0.59</td>\n",
       "      <td>Predicted</td>\n",
       "      <td>Wolverhampton Wanderers-Manchester City</td>\n",
       "      <td>30/09/2023</td>\n",
       "    </tr>\n",
       "    <tr>\n",
       "      <th>7</th>\n",
       "      <td>0.40</td>\n",
       "      <td>0.21</td>\n",
       "      <td>0.40</td>\n",
       "      <td>0.25</td>\n",
       "      <td>0.75</td>\n",
       "      <td>0.74</td>\n",
       "      <td>0.26</td>\n",
       "      <td>Predicted</td>\n",
       "      <td>Tottenham-Liverpool</td>\n",
       "      <td>30/09/2023</td>\n",
       "    </tr>\n",
       "    <tr>\n",
       "      <th>8</th>\n",
       "      <td>0.35</td>\n",
       "      <td>0.25</td>\n",
       "      <td>0.40</td>\n",
       "      <td>0.47</td>\n",
       "      <td>0.53</td>\n",
       "      <td>0.56</td>\n",
       "      <td>0.44</td>\n",
       "      <td>Predicted</td>\n",
       "      <td>Nottingham Forest-Brentford</td>\n",
       "      <td>01/10/2023</td>\n",
       "    </tr>\n",
       "    <tr>\n",
       "      <th>9</th>\n",
       "      <td>0.30</td>\n",
       "      <td>0.24</td>\n",
       "      <td>0.46</td>\n",
       "      <td>0.41</td>\n",
       "      <td>0.59</td>\n",
       "      <td>0.61</td>\n",
       "      <td>0.39</td>\n",
       "      <td>Predicted</td>\n",
       "      <td>Fulham-Chelsea</td>\n",
       "      <td>02/10/2023</td>\n",
       "    </tr>\n",
       "    <tr>\n",
       "      <th>10</th>\n",
       "      <td>0.51</td>\n",
       "      <td>0.23</td>\n",
       "      <td>0.26</td>\n",
       "      <td>0.42</td>\n",
       "      <td>0.58</td>\n",
       "      <td>0.58</td>\n",
       "      <td>0.42</td>\n",
       "      <td>Predicted</td>\n",
       "      <td>Luton-Burnley</td>\n",
       "      <td>03/10/2023</td>\n",
       "    </tr>\n",
       "    <tr>\n",
       "      <th>11</th>\n",
       "      <td>0.19</td>\n",
       "      <td>0.20</td>\n",
       "      <td>0.61</td>\n",
       "      <td>0.37</td>\n",
       "      <td>0.63</td>\n",
       "      <td>0.59</td>\n",
       "      <td>0.41</td>\n",
       "      <td>Predicted</td>\n",
       "      <td>Luton-Tottenham</td>\n",
       "      <td>07/10/2023</td>\n",
       "    </tr>\n",
       "    <tr>\n",
       "      <th>12</th>\n",
       "      <td>0.27</td>\n",
       "      <td>0.24</td>\n",
       "      <td>0.49</td>\n",
       "      <td>0.45</td>\n",
       "      <td>0.55</td>\n",
       "      <td>0.57</td>\n",
       "      <td>0.43</td>\n",
       "      <td>Predicted</td>\n",
       "      <td>Burnley-Chelsea</td>\n",
       "      <td>07/10/2023</td>\n",
       "    </tr>\n",
       "    <tr>\n",
       "      <th>13</th>\n",
       "      <td>0.62</td>\n",
       "      <td>0.21</td>\n",
       "      <td>0.17</td>\n",
       "      <td>0.45</td>\n",
       "      <td>0.55</td>\n",
       "      <td>0.52</td>\n",
       "      <td>0.48</td>\n",
       "      <td>Predicted</td>\n",
       "      <td>Everton-Bournemouth</td>\n",
       "      <td>07/10/2023</td>\n",
       "    </tr>\n",
       "    <tr>\n",
       "      <th>14</th>\n",
       "      <td>0.62</td>\n",
       "      <td>0.21</td>\n",
       "      <td>0.16</td>\n",
       "      <td>0.45</td>\n",
       "      <td>0.55</td>\n",
       "      <td>0.51</td>\n",
       "      <td>0.49</td>\n",
       "      <td>Predicted</td>\n",
       "      <td>Fulham-Sheffield United</td>\n",
       "      <td>07/10/2023</td>\n",
       "    </tr>\n",
       "    <tr>\n",
       "      <th>15</th>\n",
       "      <td>0.56</td>\n",
       "      <td>0.21</td>\n",
       "      <td>0.23</td>\n",
       "      <td>0.34</td>\n",
       "      <td>0.66</td>\n",
       "      <td>0.64</td>\n",
       "      <td>0.36</td>\n",
       "      <td>Predicted</td>\n",
       "      <td>Manchester United-Brentford</td>\n",
       "      <td>07/10/2023</td>\n",
       "    </tr>\n",
       "    <tr>\n",
       "      <th>16</th>\n",
       "      <td>0.49</td>\n",
       "      <td>0.25</td>\n",
       "      <td>0.26</td>\n",
       "      <td>0.51</td>\n",
       "      <td>0.49</td>\n",
       "      <td>0.52</td>\n",
       "      <td>0.48</td>\n",
       "      <td>Predicted</td>\n",
       "      <td>Crystal Palace-Nottingham Forest</td>\n",
       "      <td>07/10/2023</td>\n",
       "    </tr>\n",
       "    <tr>\n",
       "      <th>17</th>\n",
       "      <td>0.19</td>\n",
       "      <td>0.20</td>\n",
       "      <td>0.61</td>\n",
       "      <td>0.36</td>\n",
       "      <td>0.64</td>\n",
       "      <td>0.60</td>\n",
       "      <td>0.40</td>\n",
       "      <td>Predicted</td>\n",
       "      <td>Wolverhampton Wanderers-Aston Villa</td>\n",
       "      <td>08/10/2023</td>\n",
       "    </tr>\n",
       "    <tr>\n",
       "      <th>18</th>\n",
       "      <td>0.41</td>\n",
       "      <td>0.22</td>\n",
       "      <td>0.37</td>\n",
       "      <td>0.29</td>\n",
       "      <td>0.71</td>\n",
       "      <td>0.70</td>\n",
       "      <td>0.30</td>\n",
       "      <td>Predicted</td>\n",
       "      <td>Brighton-Liverpool</td>\n",
       "      <td>08/10/2023</td>\n",
       "    </tr>\n",
       "    <tr>\n",
       "      <th>19</th>\n",
       "      <td>0.17</td>\n",
       "      <td>0.21</td>\n",
       "      <td>0.62</td>\n",
       "      <td>0.44</td>\n",
       "      <td>0.56</td>\n",
       "      <td>0.53</td>\n",
       "      <td>0.47</td>\n",
       "      <td>Predicted</td>\n",
       "      <td>West Ham-Newcastle United</td>\n",
       "      <td>08/10/2023</td>\n",
       "    </tr>\n",
       "    <tr>\n",
       "      <th>20</th>\n",
       "      <td>0.36</td>\n",
       "      <td>0.23</td>\n",
       "      <td>0.41</td>\n",
       "      <td>0.36</td>\n",
       "      <td>0.64</td>\n",
       "      <td>0.65</td>\n",
       "      <td>0.35</td>\n",
       "      <td>Predicted</td>\n",
       "      <td>Arsenal-Manchester City</td>\n",
       "      <td>08/10/2023</td>\n",
       "    </tr>\n",
       "    <tr>\n",
       "      <th>21</th>\n",
       "      <td>0.38</td>\n",
       "      <td>0.26</td>\n",
       "      <td>0.40</td>\n",
       "      <td>0.57</td>\n",
       "      <td>0.48</td>\n",
       "      <td>0.72</td>\n",
       "      <td>0.35</td>\n",
       "      <td>Bookmaker</td>\n",
       "      <td>Aston Villa-Brighton</td>\n",
       "      <td>NaN</td>\n",
       "    </tr>\n",
       "    <tr>\n",
       "      <th>22</th>\n",
       "      <td>0.20</td>\n",
       "      <td>0.22</td>\n",
       "      <td>0.64</td>\n",
       "      <td>0.61</td>\n",
       "      <td>0.44</td>\n",
       "      <td>0.62</td>\n",
       "      <td>0.44</td>\n",
       "      <td>Bookmaker</td>\n",
       "      <td>Bournemouth-Arsenal</td>\n",
       "      <td>NaN</td>\n",
       "    </tr>\n",
       "    <tr>\n",
       "      <th>23</th>\n",
       "      <td>0.64</td>\n",
       "      <td>0.25</td>\n",
       "      <td>0.16</td>\n",
       "      <td>0.55</td>\n",
       "      <td>0.51</td>\n",
       "      <td>0.50</td>\n",
       "      <td>0.57</td>\n",
       "      <td>Bookmaker</td>\n",
       "      <td>Everton-Luton</td>\n",
       "      <td>NaN</td>\n",
       "    </tr>\n",
       "    <tr>\n",
       "      <th>24</th>\n",
       "      <td>0.64</td>\n",
       "      <td>0.23</td>\n",
       "      <td>0.19</td>\n",
       "      <td>0.47</td>\n",
       "      <td>0.58</td>\n",
       "      <td>0.56</td>\n",
       "      <td>0.51</td>\n",
       "      <td>Bookmaker</td>\n",
       "      <td>Manchester United-Crystal Palace</td>\n",
       "      <td>NaN</td>\n",
       "    </tr>\n",
       "    <tr>\n",
       "      <th>25</th>\n",
       "      <td>0.78</td>\n",
       "      <td>0.19</td>\n",
       "      <td>0.09</td>\n",
       "      <td>0.61</td>\n",
       "      <td>0.44</td>\n",
       "      <td>0.54</td>\n",
       "      <td>0.53</td>\n",
       "      <td>Bookmaker</td>\n",
       "      <td>Newcastle United-Burnley</td>\n",
       "      <td>NaN</td>\n",
       "    </tr>\n",
       "    <tr>\n",
       "      <th>26</th>\n",
       "      <td>0.69</td>\n",
       "      <td>0.22</td>\n",
       "      <td>0.14</td>\n",
       "      <td>0.44</td>\n",
       "      <td>0.61</td>\n",
       "      <td>0.55</td>\n",
       "      <td>0.52</td>\n",
       "      <td>Bookmaker</td>\n",
       "      <td>West Ham-Sheffield United</td>\n",
       "      <td>NaN</td>\n",
       "    </tr>\n",
       "    <tr>\n",
       "      <th>27</th>\n",
       "      <td>0.12</td>\n",
       "      <td>0.20</td>\n",
       "      <td>0.73</td>\n",
       "      <td>0.62</td>\n",
       "      <td>0.43</td>\n",
       "      <td>0.56</td>\n",
       "      <td>0.51</td>\n",
       "      <td>Bookmaker</td>\n",
       "      <td>Wolverhampton Wanderers-Manchester City</td>\n",
       "      <td>NaN</td>\n",
       "    </tr>\n",
       "    <tr>\n",
       "      <th>28</th>\n",
       "      <td>0.33</td>\n",
       "      <td>0.27</td>\n",
       "      <td>0.45</td>\n",
       "      <td>0.53</td>\n",
       "      <td>0.52</td>\n",
       "      <td>0.75</td>\n",
       "      <td>0.32</td>\n",
       "      <td>Bookmaker</td>\n",
       "      <td>Tottenham-Liverpool</td>\n",
       "      <td>NaN</td>\n",
       "    </tr>\n",
       "    <tr>\n",
       "      <th>29</th>\n",
       "      <td>0.34</td>\n",
       "      <td>0.31</td>\n",
       "      <td>0.40</td>\n",
       "      <td>0.56</td>\n",
       "      <td>0.49</td>\n",
       "      <td>0.56</td>\n",
       "      <td>0.51</td>\n",
       "      <td>Bookmaker</td>\n",
       "      <td>Nottingham Forest-Brentford</td>\n",
       "      <td>NaN</td>\n",
       "    </tr>\n",
       "    <tr>\n",
       "      <th>30</th>\n",
       "      <td>0.26</td>\n",
       "      <td>0.29</td>\n",
       "      <td>0.50</td>\n",
       "      <td>0.52</td>\n",
       "      <td>0.53</td>\n",
       "      <td>0.58</td>\n",
       "      <td>0.49</td>\n",
       "      <td>Bookmaker</td>\n",
       "      <td>Fulham-Chelsea</td>\n",
       "      <td>NaN</td>\n",
       "    </tr>\n",
       "    <tr>\n",
       "      <th>31</th>\n",
       "      <td>0.34</td>\n",
       "      <td>0.30</td>\n",
       "      <td>0.40</td>\n",
       "      <td>0.57</td>\n",
       "      <td>0.48</td>\n",
       "      <td>0.55</td>\n",
       "      <td>0.52</td>\n",
       "      <td>Bookmaker</td>\n",
       "      <td>Luton-Burnley</td>\n",
       "      <td>NaN</td>\n",
       "    </tr>\n",
       "    <tr>\n",
       "      <th>32</th>\n",
       "      <td>0.16</td>\n",
       "      <td>0.23</td>\n",
       "      <td>0.66</td>\n",
       "      <td>0.44</td>\n",
       "      <td>0.61</td>\n",
       "      <td>0.57</td>\n",
       "      <td>0.50</td>\n",
       "      <td>Bookmaker</td>\n",
       "      <td>Luton-Tottenham</td>\n",
       "      <td>NaN</td>\n",
       "    </tr>\n",
       "    <tr>\n",
       "      <th>33</th>\n",
       "      <td>0.24</td>\n",
       "      <td>0.26</td>\n",
       "      <td>0.55</td>\n",
       "      <td>0.49</td>\n",
       "      <td>0.56</td>\n",
       "      <td>0.59</td>\n",
       "      <td>0.48</td>\n",
       "      <td>Bookmaker</td>\n",
       "      <td>Burnley-Chelsea</td>\n",
       "      <td>NaN</td>\n",
       "    </tr>\n",
       "    <tr>\n",
       "      <th>34</th>\n",
       "      <td>0.51</td>\n",
       "      <td>0.27</td>\n",
       "      <td>0.27</td>\n",
       "      <td>0.51</td>\n",
       "      <td>0.55</td>\n",
       "      <td>0.59</td>\n",
       "      <td>0.48</td>\n",
       "      <td>Bookmaker</td>\n",
       "      <td>Everton-Bournemouth</td>\n",
       "      <td>NaN</td>\n",
       "    </tr>\n",
       "    <tr>\n",
       "      <th>35</th>\n",
       "      <td>0.56</td>\n",
       "      <td>0.27</td>\n",
       "      <td>0.22</td>\n",
       "      <td>0.55</td>\n",
       "      <td>0.51</td>\n",
       "      <td>0.54</td>\n",
       "      <td>0.53</td>\n",
       "      <td>Bookmaker</td>\n",
       "      <td>Fulham-Sheffield United</td>\n",
       "      <td>NaN</td>\n",
       "    </tr>\n",
       "    <tr>\n",
       "      <th>36</th>\n",
       "      <td>0.61</td>\n",
       "      <td>0.24</td>\n",
       "      <td>0.20</td>\n",
       "      <td>0.44</td>\n",
       "      <td>0.61</td>\n",
       "      <td>0.61</td>\n",
       "      <td>0.47</td>\n",
       "      <td>Bookmaker</td>\n",
       "      <td>Manchester United-Brentford</td>\n",
       "      <td>NaN</td>\n",
       "    </tr>\n",
       "    <tr>\n",
       "      <th>37</th>\n",
       "      <td>0.52</td>\n",
       "      <td>0.28</td>\n",
       "      <td>0.25</td>\n",
       "      <td>0.55</td>\n",
       "      <td>0.50</td>\n",
       "      <td>0.55</td>\n",
       "      <td>0.52</td>\n",
       "      <td>Bookmaker</td>\n",
       "      <td>Crystal Palace-Nottingham Forest</td>\n",
       "      <td>NaN</td>\n",
       "    </tr>\n",
       "    <tr>\n",
       "      <th>38</th>\n",
       "      <td>0.30</td>\n",
       "      <td>0.30</td>\n",
       "      <td>0.45</td>\n",
       "      <td>0.51</td>\n",
       "      <td>0.53</td>\n",
       "      <td>0.61</td>\n",
       "      <td>0.47</td>\n",
       "      <td>Bookmaker</td>\n",
       "      <td>Wolverhampton Wanderers-Aston Villa</td>\n",
       "      <td>NaN</td>\n",
       "    </tr>\n",
       "    <tr>\n",
       "      <th>39</th>\n",
       "      <td>0.38</td>\n",
       "      <td>0.25</td>\n",
       "      <td>0.43</td>\n",
       "      <td>0.53</td>\n",
       "      <td>0.52</td>\n",
       "      <td>0.74</td>\n",
       "      <td>0.33</td>\n",
       "      <td>Bookmaker</td>\n",
       "      <td>Brighton-Liverpool</td>\n",
       "      <td>NaN</td>\n",
       "    </tr>\n",
       "    <tr>\n",
       "      <th>40</th>\n",
       "      <td>0.32</td>\n",
       "      <td>0.26</td>\n",
       "      <td>0.47</td>\n",
       "      <td>0.44</td>\n",
       "      <td>0.61</td>\n",
       "      <td>0.65</td>\n",
       "      <td>0.43</td>\n",
       "      <td>Bookmaker</td>\n",
       "      <td>West Ham-Newcastle United</td>\n",
       "      <td>NaN</td>\n",
       "    </tr>\n",
       "    <tr>\n",
       "      <th>41</th>\n",
       "      <td>0.34</td>\n",
       "      <td>0.29</td>\n",
       "      <td>0.42</td>\n",
       "      <td>0.49</td>\n",
       "      <td>0.56</td>\n",
       "      <td>0.62</td>\n",
       "      <td>0.44</td>\n",
       "      <td>Bookmaker</td>\n",
       "      <td>Arsenal-Manchester City</td>\n",
       "      <td>NaN</td>\n",
       "    </tr>\n",
       "  </tbody>\n",
       "</table>\n",
       "</div>"
      ],
      "text/plain": [
       "    P(Hwin)  P(Draw)  P(Awin)  P(Under)  P(Over)  P(GG)  P(NG)       Type  \\\n",
       "0      0.31     0.22     0.47      0.35     0.65   0.65   0.35  Predicted   \n",
       "1      0.14     0.17     0.69      0.33     0.67   0.58   0.42  Predicted   \n",
       "2      0.55     0.24     0.21      0.50     0.50   0.51   0.49  Predicted   \n",
       "3      0.62     0.20     0.18      0.36     0.64   0.60   0.40  Predicted   \n",
       "4      0.72     0.17     0.11      0.40     0.60   0.49   0.51  Predicted   \n",
       "5      0.55     0.22     0.23      0.40     0.60   0.59   0.41  Predicted   \n",
       "6      0.05     0.12     0.83      0.36     0.64   0.41   0.59  Predicted   \n",
       "7      0.40     0.21     0.40      0.25     0.75   0.74   0.26  Predicted   \n",
       "8      0.35     0.25     0.40      0.47     0.53   0.56   0.44  Predicted   \n",
       "9      0.30     0.24     0.46      0.41     0.59   0.61   0.39  Predicted   \n",
       "10     0.51     0.23     0.26      0.42     0.58   0.58   0.42  Predicted   \n",
       "11     0.19     0.20     0.61      0.37     0.63   0.59   0.41  Predicted   \n",
       "12     0.27     0.24     0.49      0.45     0.55   0.57   0.43  Predicted   \n",
       "13     0.62     0.21     0.17      0.45     0.55   0.52   0.48  Predicted   \n",
       "14     0.62     0.21     0.16      0.45     0.55   0.51   0.49  Predicted   \n",
       "15     0.56     0.21     0.23      0.34     0.66   0.64   0.36  Predicted   \n",
       "16     0.49     0.25     0.26      0.51     0.49   0.52   0.48  Predicted   \n",
       "17     0.19     0.20     0.61      0.36     0.64   0.60   0.40  Predicted   \n",
       "18     0.41     0.22     0.37      0.29     0.71   0.70   0.30  Predicted   \n",
       "19     0.17     0.21     0.62      0.44     0.56   0.53   0.47  Predicted   \n",
       "20     0.36     0.23     0.41      0.36     0.64   0.65   0.35  Predicted   \n",
       "21     0.38     0.26     0.40      0.57     0.48   0.72   0.35  Bookmaker   \n",
       "22     0.20     0.22     0.64      0.61     0.44   0.62   0.44  Bookmaker   \n",
       "23     0.64     0.25     0.16      0.55     0.51   0.50   0.57  Bookmaker   \n",
       "24     0.64     0.23     0.19      0.47     0.58   0.56   0.51  Bookmaker   \n",
       "25     0.78     0.19     0.09      0.61     0.44   0.54   0.53  Bookmaker   \n",
       "26     0.69     0.22     0.14      0.44     0.61   0.55   0.52  Bookmaker   \n",
       "27     0.12     0.20     0.73      0.62     0.43   0.56   0.51  Bookmaker   \n",
       "28     0.33     0.27     0.45      0.53     0.52   0.75   0.32  Bookmaker   \n",
       "29     0.34     0.31     0.40      0.56     0.49   0.56   0.51  Bookmaker   \n",
       "30     0.26     0.29     0.50      0.52     0.53   0.58   0.49  Bookmaker   \n",
       "31     0.34     0.30     0.40      0.57     0.48   0.55   0.52  Bookmaker   \n",
       "32     0.16     0.23     0.66      0.44     0.61   0.57   0.50  Bookmaker   \n",
       "33     0.24     0.26     0.55      0.49     0.56   0.59   0.48  Bookmaker   \n",
       "34     0.51     0.27     0.27      0.51     0.55   0.59   0.48  Bookmaker   \n",
       "35     0.56     0.27     0.22      0.55     0.51   0.54   0.53  Bookmaker   \n",
       "36     0.61     0.24     0.20      0.44     0.61   0.61   0.47  Bookmaker   \n",
       "37     0.52     0.28     0.25      0.55     0.50   0.55   0.52  Bookmaker   \n",
       "38     0.30     0.30     0.45      0.51     0.53   0.61   0.47  Bookmaker   \n",
       "39     0.38     0.25     0.43      0.53     0.52   0.74   0.33  Bookmaker   \n",
       "40     0.32     0.26     0.47      0.44     0.61   0.65   0.43  Bookmaker   \n",
       "41     0.34     0.29     0.42      0.49     0.56   0.62   0.44  Bookmaker   \n",
       "\n",
       "                                      Match        Date  \n",
       "0                      Aston Villa-Brighton  30/09/2023  \n",
       "1                       Bournemouth-Arsenal  30/09/2023  \n",
       "2                             Everton-Luton  30/09/2023  \n",
       "3          Manchester United-Crystal Palace  30/09/2023  \n",
       "4                  Newcastle United-Burnley  30/09/2023  \n",
       "5                 West Ham-Sheffield United  30/09/2023  \n",
       "6   Wolverhampton Wanderers-Manchester City  30/09/2023  \n",
       "7                       Tottenham-Liverpool  30/09/2023  \n",
       "8               Nottingham Forest-Brentford  01/10/2023  \n",
       "9                            Fulham-Chelsea  02/10/2023  \n",
       "10                            Luton-Burnley  03/10/2023  \n",
       "11                          Luton-Tottenham  07/10/2023  \n",
       "12                          Burnley-Chelsea  07/10/2023  \n",
       "13                      Everton-Bournemouth  07/10/2023  \n",
       "14                  Fulham-Sheffield United  07/10/2023  \n",
       "15              Manchester United-Brentford  07/10/2023  \n",
       "16         Crystal Palace-Nottingham Forest  07/10/2023  \n",
       "17      Wolverhampton Wanderers-Aston Villa  08/10/2023  \n",
       "18                       Brighton-Liverpool  08/10/2023  \n",
       "19                West Ham-Newcastle United  08/10/2023  \n",
       "20                  Arsenal-Manchester City  08/10/2023  \n",
       "21                     Aston Villa-Brighton         NaN  \n",
       "22                      Bournemouth-Arsenal         NaN  \n",
       "23                            Everton-Luton         NaN  \n",
       "24         Manchester United-Crystal Palace         NaN  \n",
       "25                 Newcastle United-Burnley         NaN  \n",
       "26                West Ham-Sheffield United         NaN  \n",
       "27  Wolverhampton Wanderers-Manchester City         NaN  \n",
       "28                      Tottenham-Liverpool         NaN  \n",
       "29              Nottingham Forest-Brentford         NaN  \n",
       "30                           Fulham-Chelsea         NaN  \n",
       "31                            Luton-Burnley         NaN  \n",
       "32                          Luton-Tottenham         NaN  \n",
       "33                          Burnley-Chelsea         NaN  \n",
       "34                      Everton-Bournemouth         NaN  \n",
       "35                  Fulham-Sheffield United         NaN  \n",
       "36              Manchester United-Brentford         NaN  \n",
       "37         Crystal Palace-Nottingham Forest         NaN  \n",
       "38      Wolverhampton Wanderers-Aston Villa         NaN  \n",
       "39                       Brighton-Liverpool         NaN  \n",
       "40                West Ham-Newcastle United         NaN  \n",
       "41                  Arsenal-Manchester City         NaN  "
      ]
     },
     "metadata": {},
     "output_type": "display_data"
    }
   ],
   "source": [
    "k = range(12)\n",
    "PH = np.zeros((len(k), 1))\n",
    "PA = np.zeros((1, len(k)))\n",
    "PRED['P(Hwin)']= np.nan\n",
    "PRED['P(Awin)']= np.nan\n",
    "PRED['P(Draw)']= np.nan\n",
    "PRED['P(Over)']= np.nan\n",
    "PRED['P(Under)']= np.nan\n",
    "PRED['P(GG)']=np.nan\n",
    "PRED['P(NG)']=np.nan\n",
    "\n",
    "Pie_list = []\n",
    "for j, l in enumerate(LamdaHome):\n",
    "    for i in k:\n",
    "        PH[i, 0] = (math.exp(-l)*l**k[i]) /math.factorial(k[i])\n",
    "        PA[0, i] = (math.exp(-LamdaAway[j])*LamdaAway[j]**k[i]) /math.factorial(k[i])\n",
    "    Pscore = np.matmul(PH, PA) \n",
    "    df = pd.DataFrame(Pscore, columns = ['0','1','2', '3', '4', '5', '6', '7', '8', '9', '10', '11'])\n",
    "    PRED.loc[j,'P(Awin)'], PRED.loc[j,'P(Hwin)'], PRED.loc[j,'P(Draw)'], PRED.loc[j,'P(Over)'], PRED.loc[j,'P(Under)'], PRED.loc[j,'P(NG)'], PRED.loc[j,'P(GG)']  = sum_of_lower_upper(Pscore)\n",
    "    PRED['P(Over)'] = 1 - PRED['P(Under)']\n",
    "    df = df.iloc[0:5, 0:5]\n",
    "    pd.set_option('display.float_format', lambda x: '%.3f' % x)\n",
    "    \n",
    "    G = []\n",
    "    for i in range(0, 5):\n",
    "        for j in range(0, 5):\n",
    "            G.append(df.loc[i][j])\n",
    "\n",
    "            \n",
    "    Pie_Df = pd.DataFrame(G, columns = ['P(score)'])\n",
    "    Pie_Df['score']= ['0 - 0',\n",
    "                      '0 - 1',\n",
    "                      '0 - 2',\n",
    "                      '0 - 3',\n",
    "                      '0 - 4',\n",
    "                      '1 - 0',\n",
    "                      '1 - 1',\n",
    "                      '1 - 2',\n",
    "                      '1 - 3',\n",
    "                      '1 - 4',\n",
    "                      '2 - 0',\n",
    "                      '2 - 1',\n",
    "                      '2 - 2',\n",
    "                      '2 - 3',\n",
    "                      '2 - 4',\n",
    "                      '3 - 0',\n",
    "                      '3 - 1',\n",
    "                      '3 - 2',\n",
    "                      '3 - 3',\n",
    "                      '3 - 4',\n",
    "                      '4 - 0',\n",
    "                      '4 - 1',\n",
    "                      '4 - 2',\n",
    "                      '4 - 3',\n",
    "                      '4 - 4']\n",
    "    Pie_Df.loc[Pie_Df[\"P(score)\"] < 0.02, \"score\"] = 'Other'\n",
    "    Pie_Df = Pie_Df.sort_values(by=['P(score)'], ascending=False)\n",
    "    Pie_list.append(Pie_Df)\n",
    "    \n",
    "\n",
    "PRED = PRED[['Date', 'HTeam', 'ATeam', 'P(Hwin)', 'P(Draw)', 'P(Awin)', 'P(Under)', 'P(Over)', 'P(GG)', 'P(NG)']]\n",
    "with pd.option_context('display.max_rows', None, 'display.max_columns', None):  # more options can be specified also\n",
    "    display(PRED)\n",
    "\n",
    "pd.options.display.float_format = '{:.2f}'.format\n",
    "disp_pred = PRED.copy()\n",
    "disp_pred.rename(columns = {'ATeam':'Away Team'}, inplace = True)\n",
    "disp_pred.rename(columns = {'HTeam':'Home Team'}, inplace = True)\n",
    "html_table_blue_light = build_table(disp_pred, 'blue_light')\n",
    "\n",
    "# Save to html file\n",
    "with open('UpcomingMatchesPrediction.html', 'w') as f:\n",
    "    f.write(html_table_blue_light)\n",
    "\n",
    "Final_Odds = pd.concat([PRED, Odds], axis=0)\n",
    "Final_Odds['Type'] = np.nan\n",
    "Final_Odds['Match'] = np.nan\n",
    "Final_Odds = Final_Odds.reset_index(drop = 'True')\n",
    "Final_Odds.loc[Final_Odds['B365H'].isnull(), 'Type'] = 'Predicted'\n",
    "Final_Odds.loc[Final_Odds['P(Hwin)'].isnull(), 'Type'] = 'Bookmaker'\n",
    "\n",
    "for i, x in enumerate(Final_Odds['Match']):\n",
    "    Final_Odds['Match'][i] = str(Final_Odds['HTeam'][i] + '-' + Final_Odds['ATeam'][i])\n",
    "\n",
    "li  = Final_Odds.index[Final_Odds['Type'] == 'Bookmaker'].tolist()\n",
    "for i in li:\n",
    "    Final_Odds['P(Hwin)'][i] = 1/Final_Odds.iloc[i]['B365H']\n",
    "    Final_Odds['P(Awin)'][i] = 1/Final_Odds.iloc[i]['B365A']\n",
    "    Final_Odds['P(Draw)'][i] = 1/Final_Odds.iloc[i]['B365D']\n",
    "    Final_Odds['P(Over)'][i] = 1/Final_Odds.iloc[i]['BbAv>2.5']\n",
    "    Final_Odds['P(Under)'][i] = 1/Final_Odds.iloc[i]['BbAv<2.5']\n",
    "    Final_Odds['P(GG)'][i] = 1/Final_Odds.iloc[i]['GG']\n",
    "    Final_Odds['P(NG)'][i] = 1/Final_Odds.iloc[i]['NG']\n",
    "\n",
    "Final_Odds = Final_Odds[['P(Hwin)', 'P(Draw)', 'P(Awin)', 'P(Under)', 'P(Over)', 'P(GG)', 'P(NG)', 'Type', 'Match', 'Date']].copy()\n",
    "\n",
    "with pd.option_context('display.max_rows', None, 'display.max_columns', None):  # more options can be specified also\n",
    "    display(Final_Odds)\n",
    "\n",
    "    "
   ]
  },
  {
   "cell_type": "code",
   "execution_count": 30,
   "metadata": {},
   "outputs": [
    {
     "data": {
      "application/vnd.plotly.v1+json": {
       "config": {
        "plotlyServerURL": "https://plot.ly"
       },
       "data": [
        {
         "marker": {
          "color": "rgb(141,211,199)"
         },
         "name": "Predicted Home Win",
         "type": "bar",
         "x": [
          "Aston Villa-Brighton",
          "Bournemouth-Arsenal",
          "Everton-Luton",
          "Manchester United-Crystal Palace",
          "Newcastle United-Burnley",
          "West Ham-Sheffield United",
          "Wolverhampton Wanderers-Manchester City",
          "Tottenham-Liverpool",
          "Nottingham Forest-Brentford",
          "Fulham-Chelsea",
          "Luton-Burnley",
          "Luton-Tottenham",
          "Burnley-Chelsea",
          "Everton-Bournemouth",
          "Fulham-Sheffield United",
          "Manchester United-Brentford",
          "Crystal Palace-Nottingham Forest",
          "Wolverhampton Wanderers-Aston Villa",
          "Brighton-Liverpool",
          "West Ham-Newcastle United",
          "Arsenal-Manchester City"
         ],
         "xaxis": "x",
         "y": [
          0.3079125198816572,
          0.1378068648089552,
          0.5463443217243273,
          0.6164520016389226,
          0.7172578572326175,
          0.5536689709914111,
          0.05378116129838745,
          0.39501000662270674,
          0.3515922467933419,
          0.30372270641875493,
          0.5078548630708999,
          0.1863285728234965,
          0.26584668046286586,
          0.618629225842006,
          0.624993737308695,
          0.555106326836835,
          0.48591814923210197,
          0.1903579081407449,
          0.40999530160705744,
          0.16945949049750103,
          0.3597174448140578
         ],
         "yaxis": "y"
        },
        {
         "marker": {
          "color": "rgb(82, 106, 131)"
         },
         "name": "Bookmaker Home Win",
         "type": "bar",
         "x": [
          "Aston Villa-Brighton",
          "Bournemouth-Arsenal",
          "Everton-Luton",
          "Manchester United-Crystal Palace",
          "Newcastle United-Burnley",
          "West Ham-Sheffield United",
          "Wolverhampton Wanderers-Manchester City",
          "Tottenham-Liverpool",
          "Nottingham Forest-Brentford",
          "Fulham-Chelsea",
          "Luton-Burnley",
          "Luton-Tottenham",
          "Burnley-Chelsea",
          "Everton-Bournemouth",
          "Fulham-Sheffield United",
          "Manchester United-Brentford",
          "Crystal Palace-Nottingham Forest",
          "Wolverhampton Wanderers-Aston Villa",
          "Brighton-Liverpool",
          "West Ham-Newcastle United",
          "Arsenal-Manchester City"
         ],
         "xaxis": "x",
         "y": [
          0.3846153846153846,
          0.19607843137254904,
          0.6369426751592356,
          0.6369426751592356,
          0.7751937984496123,
          0.6944444444444444,
          0.125,
          0.3333333333333333,
          0.3424657534246575,
          0.2631578947368421,
          0.3448275862068966,
          0.1639344262295082,
          0.23809523809523808,
          0.5050505050505051,
          0.5555555555555556,
          0.6060606060606061,
          0.5181347150259068,
          0.29850746268656714,
          0.37735849056603776,
          0.3225806451612903,
          0.3448275862068966
         ],
         "yaxis": "y"
        },
        {
         "marker": {
          "color": "rgb(141,211,199)"
         },
         "name": "Predicted Draw",
         "type": "bar",
         "x": [
          "Aston Villa-Brighton",
          "Bournemouth-Arsenal",
          "Everton-Luton",
          "Manchester United-Crystal Palace",
          "Newcastle United-Burnley",
          "West Ham-Sheffield United",
          "Wolverhampton Wanderers-Manchester City",
          "Tottenham-Liverpool",
          "Nottingham Forest-Brentford",
          "Fulham-Chelsea",
          "Luton-Burnley",
          "Luton-Tottenham",
          "Burnley-Chelsea",
          "Everton-Bournemouth",
          "Fulham-Sheffield United",
          "Manchester United-Brentford",
          "Crystal Palace-Nottingham Forest",
          "Wolverhampton Wanderers-Aston Villa",
          "Brighton-Liverpool",
          "West Ham-Newcastle United",
          "Arsenal-Manchester City"
         ],
         "xaxis": "x",
         "y": [
          0.22400587824911722,
          0.17313286428916957,
          0.23894288762201166,
          0.19891923454178248,
          0.17206778069477785,
          0.21984090899684702,
          0.12024765025619065,
          0.20835734535152914,
          0.2531975970432995,
          0.23555366513226705,
          0.23268838023719293,
          0.20232617954664422,
          0.23916992609805285,
          0.2119715070825417,
          0.2109316152140859,
          0.21042760276892386,
          0.25332692199457807,
          0.20188759474527831,
          0.21709875388313302,
          0.2096714815578149,
          0.2291770907551569
         ],
         "yaxis": "y"
        },
        {
         "marker": {
          "color": "rgb(82, 106, 131)"
         },
         "name": "Bookmaker Draw",
         "type": "bar",
         "x": [
          "Aston Villa-Brighton",
          "Bournemouth-Arsenal",
          "Everton-Luton",
          "Manchester United-Crystal Palace",
          "Newcastle United-Burnley",
          "West Ham-Sheffield United",
          "Wolverhampton Wanderers-Manchester City",
          "Tottenham-Liverpool",
          "Nottingham Forest-Brentford",
          "Fulham-Chelsea",
          "Luton-Burnley",
          "Luton-Tottenham",
          "Burnley-Chelsea",
          "Everton-Bournemouth",
          "Fulham-Sheffield United",
          "Manchester United-Brentford",
          "Crystal Palace-Nottingham Forest",
          "Wolverhampton Wanderers-Aston Villa",
          "Brighton-Liverpool",
          "West Ham-Newcastle United",
          "Arsenal-Manchester City"
         ],
         "xaxis": "x",
         "y": [
          0.2597402597402597,
          0.2150537634408602,
          0.2531645569620253,
          0.23255813953488372,
          0.18518518518518517,
          0.2150537634408602,
          0.19607843137254904,
          0.26666666666666666,
          0.3076923076923077,
          0.2857142857142857,
          0.30303030303030304,
          0.22727272727272727,
          0.2631578947368421,
          0.273972602739726,
          0.273972602739726,
          0.24390243902439027,
          0.28169014084507044,
          0.30303030303030304,
          0.25,
          0.2631578947368421,
          0.2857142857142857
         ],
         "yaxis": "y"
        },
        {
         "marker": {
          "color": "rgb(141,211,199)"
         },
         "name": "Predicted Away Win",
         "type": "bar",
         "x": [
          "Aston Villa-Brighton",
          "Bournemouth-Arsenal",
          "Everton-Luton",
          "Manchester United-Crystal Palace",
          "Newcastle United-Burnley",
          "West Ham-Sheffield United",
          "Wolverhampton Wanderers-Manchester City",
          "Tottenham-Liverpool",
          "Nottingham Forest-Brentford",
          "Fulham-Chelsea",
          "Luton-Burnley",
          "Luton-Tottenham",
          "Burnley-Chelsea",
          "Everton-Bournemouth",
          "Fulham-Sheffield United",
          "Manchester United-Brentford",
          "Crystal Palace-Nottingham Forest",
          "Wolverhampton Wanderers-Aston Villa",
          "Brighton-Liverpool",
          "West Ham-Newcastle United",
          "Arsenal-Manchester City"
         ],
         "xaxis": "x",
         "y": [
          0.4680808576646977,
          0.6890500925343876,
          0.2147125152126367,
          0.18462545272833591,
          0.11066817499406587,
          0.22648910425949337,
          0.8259406571530158,
          0.39663023149139154,
          0.39521009038149724,
          0.46072332104464275,
          0.2594563308754524,
          0.6113425902436056,
          0.49498312721458404,
          0.16939807271593982,
          0.16407343627368007,
          0.23446401214081894,
          0.2607548263237389,
          0.6077516523838254,
          0.3729048102250059,
          0.6208676437471283,
          0.4111050446301393
         ],
         "yaxis": "y"
        },
        {
         "marker": {
          "color": "rgb(82, 106, 131)"
         },
         "name": "Bookmaker Away Win",
         "type": "bar",
         "x": [
          "Aston Villa-Brighton",
          "Bournemouth-Arsenal",
          "Everton-Luton",
          "Manchester United-Crystal Palace",
          "Newcastle United-Burnley",
          "West Ham-Sheffield United",
          "Wolverhampton Wanderers-Manchester City",
          "Tottenham-Liverpool",
          "Nottingham Forest-Brentford",
          "Fulham-Chelsea",
          "Luton-Burnley",
          "Luton-Tottenham",
          "Burnley-Chelsea",
          "Everton-Bournemouth",
          "Fulham-Sheffield United",
          "Manchester United-Brentford",
          "Crystal Palace-Nottingham Forest",
          "Wolverhampton Wanderers-Aston Villa",
          "Brighton-Liverpool",
          "West Ham-Newcastle United",
          "Arsenal-Manchester City"
         ],
         "xaxis": "x",
         "y": [
          0.4048582995951417,
          0.6369426751592356,
          0.15625,
          0.18518518518518517,
          0.09302325581395349,
          0.14285714285714285,
          0.7299270072992701,
          0.4504504504504504,
          0.4,
          0.5,
          0.4048582995951417,
          0.6578947368421053,
          0.5464480874316939,
          0.26666666666666666,
          0.2222222222222222,
          0.2040816326530612,
          0.25,
          0.4504504504504504,
          0.425531914893617,
          0.46511627906976744,
          0.42194092827004215
         ],
         "yaxis": "y"
        },
        {
         "marker": {
          "color": "rgb(141,211,199)"
         },
         "name": "Predicted Over",
         "type": "bar",
         "x": [
          "Aston Villa-Brighton",
          "Bournemouth-Arsenal",
          "Everton-Luton",
          "Manchester United-Crystal Palace",
          "Newcastle United-Burnley",
          "West Ham-Sheffield United",
          "Wolverhampton Wanderers-Manchester City",
          "Tottenham-Liverpool",
          "Nottingham Forest-Brentford",
          "Fulham-Chelsea",
          "Luton-Burnley",
          "Luton-Tottenham",
          "Burnley-Chelsea",
          "Everton-Bournemouth",
          "Fulham-Sheffield United",
          "Manchester United-Brentford",
          "Crystal Palace-Nottingham Forest",
          "Wolverhampton Wanderers-Aston Villa",
          "Brighton-Liverpool",
          "West Ham-Newcastle United",
          "Arsenal-Manchester City"
         ],
         "xaxis": "x2",
         "y": [
          0.6512206733817633,
          0.6708809688257787,
          0.5037991226139066,
          0.6402965414352622,
          0.6027510651093501,
          0.6011563686505906,
          0.6433254507786645,
          0.7548516191228642,
          0.5272379825876718,
          0.5929131960487115,
          0.5755285716113014,
          0.6267568964436783,
          0.5515422360255984,
          0.5534307934428586,
          0.5485517495544546,
          0.6556840274315294,
          0.4877736622709531,
          0.6355365682792998,
          0.7079260179749867,
          0.5636837310595909,
          0.6438640547335007
         ],
         "yaxis": "y2"
        },
        {
         "marker": {
          "color": "rgb(82, 106, 131)"
         },
         "name": "Bookmaker Over",
         "type": "bar",
         "x": [
          "Aston Villa-Brighton",
          "Bournemouth-Arsenal",
          "Everton-Luton",
          "Manchester United-Crystal Palace",
          "Newcastle United-Burnley",
          "West Ham-Sheffield United",
          "Wolverhampton Wanderers-Manchester City",
          "Tottenham-Liverpool",
          "Nottingham Forest-Brentford",
          "Fulham-Chelsea",
          "Luton-Burnley",
          "Luton-Tottenham",
          "Burnley-Chelsea",
          "Everton-Bournemouth",
          "Fulham-Sheffield United",
          "Manchester United-Brentford",
          "Crystal Palace-Nottingham Forest",
          "Wolverhampton Wanderers-Aston Villa",
          "Brighton-Liverpool",
          "West Ham-Newcastle United",
          "Arsenal-Manchester City"
         ],
         "xaxis": "x2",
         "y": [
          0.48309178743961356,
          0.4444444444444444,
          0.5050505050505051,
          0.5813953488372093,
          0.4444444444444444,
          0.6060606060606061,
          0.4347826086956522,
          0.5181347150259068,
          0.48780487804878053,
          0.5263157894736842,
          0.47619047619047616,
          0.6060606060606061,
          0.5617977528089888,
          0.5464480874316939,
          0.5050505050505051,
          0.6060606060606061,
          0.5,
          0.53475935828877,
          0.5181347150259068,
          0.6060606060606061,
          0.5617977528089888
         ],
         "yaxis": "y2"
        },
        {
         "marker": {
          "color": "rgb(141,211,199)"
         },
         "name": "Predicted Under",
         "type": "bar",
         "x": [
          "Aston Villa-Brighton",
          "Bournemouth-Arsenal",
          "Everton-Luton",
          "Manchester United-Crystal Palace",
          "Newcastle United-Burnley",
          "West Ham-Sheffield United",
          "Wolverhampton Wanderers-Manchester City",
          "Tottenham-Liverpool",
          "Nottingham Forest-Brentford",
          "Fulham-Chelsea",
          "Luton-Burnley",
          "Luton-Tottenham",
          "Burnley-Chelsea",
          "Everton-Bournemouth",
          "Fulham-Sheffield United",
          "Manchester United-Brentford",
          "Crystal Palace-Nottingham Forest",
          "Wolverhampton Wanderers-Aston Villa",
          "Brighton-Liverpool",
          "West Ham-Newcastle United",
          "Arsenal-Manchester City"
         ],
         "xaxis": "x2",
         "y": [
          0.34877932661823674,
          0.32911903117422125,
          0.4962008773860934,
          0.3597034585647378,
          0.39724893489064994,
          0.39884363134940937,
          0.3566745492213354,
          0.2451483808771358,
          0.4727620174123281,
          0.40708680395128843,
          0.4244714283886986,
          0.37324310355632173,
          0.4484577639744016,
          0.44656920655714133,
          0.4514482504455454,
          0.3443159725684706,
          0.5122263377290469,
          0.36446343172070017,
          0.2920739820250134,
          0.4363162689404091,
          0.3561359452664993
         ],
         "yaxis": "y2"
        },
        {
         "marker": {
          "color": "rgb(82, 106, 131)"
         },
         "name": "Bookmaker Under",
         "type": "bar",
         "x": [
          "Aston Villa-Brighton",
          "Bournemouth-Arsenal",
          "Everton-Luton",
          "Manchester United-Crystal Palace",
          "Newcastle United-Burnley",
          "West Ham-Sheffield United",
          "Wolverhampton Wanderers-Manchester City",
          "Tottenham-Liverpool",
          "Nottingham Forest-Brentford",
          "Fulham-Chelsea",
          "Luton-Burnley",
          "Luton-Tottenham",
          "Burnley-Chelsea",
          "Everton-Bournemouth",
          "Fulham-Sheffield United",
          "Manchester United-Brentford",
          "Crystal Palace-Nottingham Forest",
          "Wolverhampton Wanderers-Aston Villa",
          "Brighton-Liverpool",
          "West Ham-Newcastle United",
          "Arsenal-Manchester City"
         ],
         "xaxis": "x2",
         "y": [
          0.5714285714285714,
          0.6060606060606061,
          0.5464480874316939,
          0.46511627906976744,
          0.6060606060606061,
          0.4444444444444444,
          0.6172839506172839,
          0.5319148936170213,
          0.5617977528089888,
          0.5235602094240838,
          0.5714285714285714,
          0.44052863436123346,
          0.48780487804878053,
          0.5050505050505051,
          0.5464480874316939,
          0.44052863436123346,
          0.5494505494505494,
          0.5128205128205129,
          0.53475935828877,
          0.4444444444444444,
          0.48780487804878053
         ],
         "yaxis": "y2"
        }
       ],
       "layout": {
        "height": 1000,
        "template": {
         "data": {
          "bar": [
           {
            "error_x": {
             "color": "#2a3f5f"
            },
            "error_y": {
             "color": "#2a3f5f"
            },
            "marker": {
             "line": {
              "color": "#E5ECF6",
              "width": 0.5
             },
             "pattern": {
              "fillmode": "overlay",
              "size": 10,
              "solidity": 0.2
             }
            },
            "type": "bar"
           }
          ],
          "barpolar": [
           {
            "marker": {
             "line": {
              "color": "#E5ECF6",
              "width": 0.5
             },
             "pattern": {
              "fillmode": "overlay",
              "size": 10,
              "solidity": 0.2
             }
            },
            "type": "barpolar"
           }
          ],
          "carpet": [
           {
            "aaxis": {
             "endlinecolor": "#2a3f5f",
             "gridcolor": "white",
             "linecolor": "white",
             "minorgridcolor": "white",
             "startlinecolor": "#2a3f5f"
            },
            "baxis": {
             "endlinecolor": "#2a3f5f",
             "gridcolor": "white",
             "linecolor": "white",
             "minorgridcolor": "white",
             "startlinecolor": "#2a3f5f"
            },
            "type": "carpet"
           }
          ],
          "choropleth": [
           {
            "colorbar": {
             "outlinewidth": 0,
             "ticks": ""
            },
            "type": "choropleth"
           }
          ],
          "contour": [
           {
            "colorbar": {
             "outlinewidth": 0,
             "ticks": ""
            },
            "colorscale": [
             [
              0,
              "#0d0887"
             ],
             [
              0.1111111111111111,
              "#46039f"
             ],
             [
              0.2222222222222222,
              "#7201a8"
             ],
             [
              0.3333333333333333,
              "#9c179e"
             ],
             [
              0.4444444444444444,
              "#bd3786"
             ],
             [
              0.5555555555555556,
              "#d8576b"
             ],
             [
              0.6666666666666666,
              "#ed7953"
             ],
             [
              0.7777777777777778,
              "#fb9f3a"
             ],
             [
              0.8888888888888888,
              "#fdca26"
             ],
             [
              1,
              "#f0f921"
             ]
            ],
            "type": "contour"
           }
          ],
          "contourcarpet": [
           {
            "colorbar": {
             "outlinewidth": 0,
             "ticks": ""
            },
            "type": "contourcarpet"
           }
          ],
          "heatmap": [
           {
            "colorbar": {
             "outlinewidth": 0,
             "ticks": ""
            },
            "colorscale": [
             [
              0,
              "#0d0887"
             ],
             [
              0.1111111111111111,
              "#46039f"
             ],
             [
              0.2222222222222222,
              "#7201a8"
             ],
             [
              0.3333333333333333,
              "#9c179e"
             ],
             [
              0.4444444444444444,
              "#bd3786"
             ],
             [
              0.5555555555555556,
              "#d8576b"
             ],
             [
              0.6666666666666666,
              "#ed7953"
             ],
             [
              0.7777777777777778,
              "#fb9f3a"
             ],
             [
              0.8888888888888888,
              "#fdca26"
             ],
             [
              1,
              "#f0f921"
             ]
            ],
            "type": "heatmap"
           }
          ],
          "heatmapgl": [
           {
            "colorbar": {
             "outlinewidth": 0,
             "ticks": ""
            },
            "colorscale": [
             [
              0,
              "#0d0887"
             ],
             [
              0.1111111111111111,
              "#46039f"
             ],
             [
              0.2222222222222222,
              "#7201a8"
             ],
             [
              0.3333333333333333,
              "#9c179e"
             ],
             [
              0.4444444444444444,
              "#bd3786"
             ],
             [
              0.5555555555555556,
              "#d8576b"
             ],
             [
              0.6666666666666666,
              "#ed7953"
             ],
             [
              0.7777777777777778,
              "#fb9f3a"
             ],
             [
              0.8888888888888888,
              "#fdca26"
             ],
             [
              1,
              "#f0f921"
             ]
            ],
            "type": "heatmapgl"
           }
          ],
          "histogram": [
           {
            "marker": {
             "pattern": {
              "fillmode": "overlay",
              "size": 10,
              "solidity": 0.2
             }
            },
            "type": "histogram"
           }
          ],
          "histogram2d": [
           {
            "colorbar": {
             "outlinewidth": 0,
             "ticks": ""
            },
            "colorscale": [
             [
              0,
              "#0d0887"
             ],
             [
              0.1111111111111111,
              "#46039f"
             ],
             [
              0.2222222222222222,
              "#7201a8"
             ],
             [
              0.3333333333333333,
              "#9c179e"
             ],
             [
              0.4444444444444444,
              "#bd3786"
             ],
             [
              0.5555555555555556,
              "#d8576b"
             ],
             [
              0.6666666666666666,
              "#ed7953"
             ],
             [
              0.7777777777777778,
              "#fb9f3a"
             ],
             [
              0.8888888888888888,
              "#fdca26"
             ],
             [
              1,
              "#f0f921"
             ]
            ],
            "type": "histogram2d"
           }
          ],
          "histogram2dcontour": [
           {
            "colorbar": {
             "outlinewidth": 0,
             "ticks": ""
            },
            "colorscale": [
             [
              0,
              "#0d0887"
             ],
             [
              0.1111111111111111,
              "#46039f"
             ],
             [
              0.2222222222222222,
              "#7201a8"
             ],
             [
              0.3333333333333333,
              "#9c179e"
             ],
             [
              0.4444444444444444,
              "#bd3786"
             ],
             [
              0.5555555555555556,
              "#d8576b"
             ],
             [
              0.6666666666666666,
              "#ed7953"
             ],
             [
              0.7777777777777778,
              "#fb9f3a"
             ],
             [
              0.8888888888888888,
              "#fdca26"
             ],
             [
              1,
              "#f0f921"
             ]
            ],
            "type": "histogram2dcontour"
           }
          ],
          "mesh3d": [
           {
            "colorbar": {
             "outlinewidth": 0,
             "ticks": ""
            },
            "type": "mesh3d"
           }
          ],
          "parcoords": [
           {
            "line": {
             "colorbar": {
              "outlinewidth": 0,
              "ticks": ""
             }
            },
            "type": "parcoords"
           }
          ],
          "pie": [
           {
            "automargin": true,
            "type": "pie"
           }
          ],
          "scatter": [
           {
            "fillpattern": {
             "fillmode": "overlay",
             "size": 10,
             "solidity": 0.2
            },
            "type": "scatter"
           }
          ],
          "scatter3d": [
           {
            "line": {
             "colorbar": {
              "outlinewidth": 0,
              "ticks": ""
             }
            },
            "marker": {
             "colorbar": {
              "outlinewidth": 0,
              "ticks": ""
             }
            },
            "type": "scatter3d"
           }
          ],
          "scattercarpet": [
           {
            "marker": {
             "colorbar": {
              "outlinewidth": 0,
              "ticks": ""
             }
            },
            "type": "scattercarpet"
           }
          ],
          "scattergeo": [
           {
            "marker": {
             "colorbar": {
              "outlinewidth": 0,
              "ticks": ""
             }
            },
            "type": "scattergeo"
           }
          ],
          "scattergl": [
           {
            "marker": {
             "colorbar": {
              "outlinewidth": 0,
              "ticks": ""
             }
            },
            "type": "scattergl"
           }
          ],
          "scattermapbox": [
           {
            "marker": {
             "colorbar": {
              "outlinewidth": 0,
              "ticks": ""
             }
            },
            "type": "scattermapbox"
           }
          ],
          "scatterpolar": [
           {
            "marker": {
             "colorbar": {
              "outlinewidth": 0,
              "ticks": ""
             }
            },
            "type": "scatterpolar"
           }
          ],
          "scatterpolargl": [
           {
            "marker": {
             "colorbar": {
              "outlinewidth": 0,
              "ticks": ""
             }
            },
            "type": "scatterpolargl"
           }
          ],
          "scatterternary": [
           {
            "marker": {
             "colorbar": {
              "outlinewidth": 0,
              "ticks": ""
             }
            },
            "type": "scatterternary"
           }
          ],
          "surface": [
           {
            "colorbar": {
             "outlinewidth": 0,
             "ticks": ""
            },
            "colorscale": [
             [
              0,
              "#0d0887"
             ],
             [
              0.1111111111111111,
              "#46039f"
             ],
             [
              0.2222222222222222,
              "#7201a8"
             ],
             [
              0.3333333333333333,
              "#9c179e"
             ],
             [
              0.4444444444444444,
              "#bd3786"
             ],
             [
              0.5555555555555556,
              "#d8576b"
             ],
             [
              0.6666666666666666,
              "#ed7953"
             ],
             [
              0.7777777777777778,
              "#fb9f3a"
             ],
             [
              0.8888888888888888,
              "#fdca26"
             ],
             [
              1,
              "#f0f921"
             ]
            ],
            "type": "surface"
           }
          ],
          "table": [
           {
            "cells": {
             "fill": {
              "color": "#EBF0F8"
             },
             "line": {
              "color": "white"
             }
            },
            "header": {
             "fill": {
              "color": "#C8D4E3"
             },
             "line": {
              "color": "white"
             }
            },
            "type": "table"
           }
          ]
         },
         "layout": {
          "annotationdefaults": {
           "arrowcolor": "#2a3f5f",
           "arrowhead": 0,
           "arrowwidth": 1
          },
          "autotypenumbers": "strict",
          "coloraxis": {
           "colorbar": {
            "outlinewidth": 0,
            "ticks": ""
           }
          },
          "colorscale": {
           "diverging": [
            [
             0,
             "#8e0152"
            ],
            [
             0.1,
             "#c51b7d"
            ],
            [
             0.2,
             "#de77ae"
            ],
            [
             0.3,
             "#f1b6da"
            ],
            [
             0.4,
             "#fde0ef"
            ],
            [
             0.5,
             "#f7f7f7"
            ],
            [
             0.6,
             "#e6f5d0"
            ],
            [
             0.7,
             "#b8e186"
            ],
            [
             0.8,
             "#7fbc41"
            ],
            [
             0.9,
             "#4d9221"
            ],
            [
             1,
             "#276419"
            ]
           ],
           "sequential": [
            [
             0,
             "#0d0887"
            ],
            [
             0.1111111111111111,
             "#46039f"
            ],
            [
             0.2222222222222222,
             "#7201a8"
            ],
            [
             0.3333333333333333,
             "#9c179e"
            ],
            [
             0.4444444444444444,
             "#bd3786"
            ],
            [
             0.5555555555555556,
             "#d8576b"
            ],
            [
             0.6666666666666666,
             "#ed7953"
            ],
            [
             0.7777777777777778,
             "#fb9f3a"
            ],
            [
             0.8888888888888888,
             "#fdca26"
            ],
            [
             1,
             "#f0f921"
            ]
           ],
           "sequentialminus": [
            [
             0,
             "#0d0887"
            ],
            [
             0.1111111111111111,
             "#46039f"
            ],
            [
             0.2222222222222222,
             "#7201a8"
            ],
            [
             0.3333333333333333,
             "#9c179e"
            ],
            [
             0.4444444444444444,
             "#bd3786"
            ],
            [
             0.5555555555555556,
             "#d8576b"
            ],
            [
             0.6666666666666666,
             "#ed7953"
            ],
            [
             0.7777777777777778,
             "#fb9f3a"
            ],
            [
             0.8888888888888888,
             "#fdca26"
            ],
            [
             1,
             "#f0f921"
            ]
           ]
          },
          "colorway": [
           "#636efa",
           "#EF553B",
           "#00cc96",
           "#ab63fa",
           "#FFA15A",
           "#19d3f3",
           "#FF6692",
           "#B6E880",
           "#FF97FF",
           "#FECB52"
          ],
          "font": {
           "color": "#2a3f5f"
          },
          "geo": {
           "bgcolor": "white",
           "lakecolor": "white",
           "landcolor": "#E5ECF6",
           "showlakes": true,
           "showland": true,
           "subunitcolor": "white"
          },
          "hoverlabel": {
           "align": "left"
          },
          "hovermode": "closest",
          "mapbox": {
           "style": "light"
          },
          "paper_bgcolor": "white",
          "plot_bgcolor": "#E5ECF6",
          "polar": {
           "angularaxis": {
            "gridcolor": "white",
            "linecolor": "white",
            "ticks": ""
           },
           "bgcolor": "#E5ECF6",
           "radialaxis": {
            "gridcolor": "white",
            "linecolor": "white",
            "ticks": ""
           }
          },
          "scene": {
           "xaxis": {
            "backgroundcolor": "#E5ECF6",
            "gridcolor": "white",
            "gridwidth": 2,
            "linecolor": "white",
            "showbackground": true,
            "ticks": "",
            "zerolinecolor": "white"
           },
           "yaxis": {
            "backgroundcolor": "#E5ECF6",
            "gridcolor": "white",
            "gridwidth": 2,
            "linecolor": "white",
            "showbackground": true,
            "ticks": "",
            "zerolinecolor": "white"
           },
           "zaxis": {
            "backgroundcolor": "#E5ECF6",
            "gridcolor": "white",
            "gridwidth": 2,
            "linecolor": "white",
            "showbackground": true,
            "ticks": "",
            "zerolinecolor": "white"
           }
          },
          "shapedefaults": {
           "line": {
            "color": "#2a3f5f"
           }
          },
          "ternary": {
           "aaxis": {
            "gridcolor": "white",
            "linecolor": "white",
            "ticks": ""
           },
           "baxis": {
            "gridcolor": "white",
            "linecolor": "white",
            "ticks": ""
           },
           "bgcolor": "#E5ECF6",
           "caxis": {
            "gridcolor": "white",
            "linecolor": "white",
            "ticks": ""
           }
          },
          "title": {
           "x": 0.05
          },
          "xaxis": {
           "automargin": true,
           "gridcolor": "white",
           "linecolor": "white",
           "ticks": "",
           "title": {
            "standoff": 15
           },
           "zerolinecolor": "white",
           "zerolinewidth": 2
          },
          "yaxis": {
           "automargin": true,
           "gridcolor": "white",
           "linecolor": "white",
           "ticks": "",
           "title": {
            "standoff": 15
           },
           "zerolinecolor": "white",
           "zerolinewidth": 2
          }
         }
        },
        "width": 1500,
        "xaxis": {
         "anchor": "y",
         "domain": [
          0,
          1
         ]
        },
        "xaxis2": {
         "anchor": "y2",
         "domain": [
          0,
          1
         ]
        },
        "yaxis": {
         "anchor": "x",
         "domain": [
          0.575,
          1
         ]
        },
        "yaxis2": {
         "anchor": "x2",
         "domain": [
          0,
          0.425
         ]
        }
       }
      }
     },
     "metadata": {},
     "output_type": "display_data"
    }
   ],
   "source": [
    "fig = make_subplots(rows=2, cols=1)\n",
    "fig.update_layout(width=1500, height=1000)\n",
    "fig.add_trace(\n",
    "    go.Bar(name='Predicted Home Win',\n",
    "           x=Final_Odds[Final_Odds['Type']=='Predicted']['Match'],\n",
    "           y=Final_Odds[Final_Odds['Type']=='Predicted']['P(Hwin)'],\n",
    "           marker_color='rgb(141,211,199)'),\n",
    "    row=1, col=1)\n",
    "\n",
    "fig.add_trace(\n",
    "    go.Bar(name='Bookmaker Home Win',\n",
    "           x=Final_Odds[Final_Odds['Type']=='Bookmaker']['Match'],\n",
    "           y=Final_Odds[Final_Odds['Type']=='Bookmaker']['P(Hwin)'],\n",
    "           marker_color='rgb(82, 106, 131)'),\n",
    "    row=1, col=1)\n",
    "\n",
    "fig.add_trace(\n",
    "    go.Bar(name='Predicted Draw',\n",
    "           x=Final_Odds[Final_Odds['Type']=='Predicted']['Match'],\n",
    "           y=Final_Odds[Final_Odds['Type']=='Predicted']['P(Draw)'],\n",
    "           marker_color='rgb(141,211,199)'),\n",
    "    row=1, col=1)\n",
    "\n",
    "fig.add_trace(\n",
    "    go.Bar(name='Bookmaker Draw',\n",
    "           x=Final_Odds[Final_Odds['Type']=='Bookmaker']['Match'],\n",
    "           y=Final_Odds[Final_Odds['Type']=='Bookmaker']['P(Draw)'],\n",
    "           marker_color='rgb(82, 106, 131)'),\n",
    "    row=1, col=1)\n",
    "\n",
    "fig.add_trace(\n",
    "    go.Bar(name='Predicted Away Win',\n",
    "           x=Final_Odds[Final_Odds['Type']=='Predicted']['Match'],\n",
    "           y=Final_Odds[Final_Odds['Type']=='Predicted']['P(Awin)'],\n",
    "           marker_color='rgb(141,211,199)'),\n",
    "    row=1, col=1)\n",
    "\n",
    "fig.add_trace(\n",
    "    go.Bar(name='Bookmaker Away Win',\n",
    "           x=Final_Odds[Final_Odds['Type']=='Bookmaker']['Match'],\n",
    "           y=Final_Odds[Final_Odds['Type']=='Bookmaker']['P(Awin)'],\n",
    "           marker_color='rgb(82, 106, 131)'),\n",
    "    row=1, col=1)\n",
    "\n",
    "\n",
    "fig.add_trace(\n",
    "    go.Bar(name='Predicted Over',\n",
    "           x=Final_Odds[Final_Odds['Type']=='Predicted']['Match'],\n",
    "           y=Final_Odds[Final_Odds['Type']=='Predicted']['P(Over)'],\n",
    "           marker_color='rgb(141,211,199)'),\n",
    "    row=2, col=1)\n",
    "\n",
    "fig.add_trace(\n",
    "    go.Bar(name='Bookmaker Over',\n",
    "           x=Final_Odds[Final_Odds['Type']=='Bookmaker']['Match'],\n",
    "           y=Final_Odds[Final_Odds['Type']=='Bookmaker']['P(Over)'],\n",
    "           marker_color='rgb(82, 106, 131)'),\n",
    "    row=2, col=1)\n",
    "\n",
    "fig.add_trace(\n",
    "    go.Bar(name='Predicted Under',\n",
    "           x=Final_Odds[Final_Odds['Type']=='Predicted']['Match'],\n",
    "           y=Final_Odds[Final_Odds['Type']=='Predicted']['P(Under)'],\n",
    "           marker_color='rgb(141,211,199)'),\n",
    "    row=2, col=1)\n",
    "\n",
    "fig.add_trace(\n",
    "    go.Bar(name='Bookmaker Under',\n",
    "           x=Final_Odds[Final_Odds['Type']=='Bookmaker']['Match'],\n",
    "           y=Final_Odds[Final_Odds['Type']=='Bookmaker']['P(Under)'],\n",
    "           marker_color='rgb(82, 106, 131)'),\n",
    "    row=2, col=1)\n",
    "\n",
    "\n",
    "fig.show()\n"
   ]
  },
  {
   "cell_type": "code",
   "execution_count": 31,
   "metadata": {},
   "outputs": [
    {
     "data": {
      "application/vnd.plotly.v1+json": {
       "config": {
        "plotlyServerURL": "https://plot.ly"
       },
       "data": [
        {
         "fill": "toself",
         "hovertemplate": "%{theta}<br>Prob: %{r:.2f}<br>Bookmaker Odds",
         "marker": {
          "color": "rgb(82, 106, 131)"
         },
         "name": "Bookmaker Odds",
         "r": [
          0.3846153846153846,
          0.2597402597402597,
          0.4048582995951417,
          0.48309178743961356,
          0.5714285714285714,
          0.7194244604316548,
          0.3508771929824561
         ],
         "subplot": "polar",
         "theta": [
          "Home",
          "Draw",
          "Away",
          "Over",
          "Under",
          "GG",
          "NG"
         ],
         "type": "scatterpolar",
         "visible": true
        },
        {
         "fill": "toself",
         "hovertemplate": "%{theta}<br>Prob: %{r:.2f}<br>Predicted Odds",
         "marker": {
          "color": "rgb(141,211,199)"
         },
         "name": "Predicted Odds",
         "r": [
          0.3079125198816572,
          0.22400587824911722,
          0.4680808576646977,
          0.6512206733817633,
          0.34877932661823674,
          0.6540626309757664,
          0.34593662481970544
         ],
         "subplot": "polar",
         "theta": [
          "Home",
          "Draw",
          "Away",
          "Over",
          "Under",
          "GG",
          "NG"
         ],
         "type": "scatterpolar",
         "visible": true
        },
        {
         "hovertemplate": "Score %{x}<br>Prob: %{y:.3f}",
         "marker": {
          "color": [
           0.0969960374125685,
           0.09065674913123944,
           0.07198534004070592,
           0.06728065483169549,
           0.06534824499280179,
           0.06107733481194311,
           0.05648784824811503,
           0.05188930423768306,
           0.04192229984625593,
           0.03850950316802582,
           0.03805703660586561,
           0.03561581358720951,
           0.03495890199521449,
           0.03328810087103889,
           0.026398009775445326,
           0.02074167900890715,
           0.01959120971097608,
           0.019053147285167868,
           0.017784887467007474,
           0.013216088617087455,
           0.01235233585016821,
           0.009693041286176998,
           0.007696689763317493,
           0.00707012019642949,
           0.0035968318481206284
          ],
          "colorscale": [
           [
            0,
            "rgb(210, 251, 212)"
           ],
           [
            0.16666666666666666,
            "rgb(165, 219, 194)"
           ],
           [
            0.3333333333333333,
            "rgb(123, 188, 176)"
           ],
           [
            0.5,
            "rgb(85, 156, 158)"
           ],
           [
            0.6666666666666666,
            "rgb(58, 124, 137)"
           ],
           [
            0.8333333333333334,
            "rgb(35, 93, 114)"
           ],
           [
            1,
            "rgb(18, 63, 90)"
           ]
          ]
         },
         "name": "Propable Scoreline",
         "type": "bar",
         "visible": true,
         "x": [
          "1 - 1",
          "1 - 2",
          "2 - 1",
          "2 - 2",
          "0 - 1",
          "0 - 2",
          "1 - 3",
          "1 - 0",
          "2 - 3",
          "2 - 0",
          "0 - 3",
          "3 - 1",
          "0 - 0",
          "3 - 2",
          "1 - 4",
          "3 - 3",
          "Other",
          "Other",
          "Other",
          "Other",
          "Other",
          "Other",
          "Other",
          "Other",
          "Other"
         ],
         "xaxis": "x",
         "y": [
          0.0969960374125685,
          0.09065674913123944,
          0.07198534004070592,
          0.06728065483169549,
          0.06534824499280179,
          0.06107733481194311,
          0.05648784824811503,
          0.05188930423768306,
          0.04192229984625593,
          0.03850950316802582,
          0.03805703660586561,
          0.03561581358720951,
          0.03495890199521449,
          0.03328810087103889,
          0.026398009775445326,
          0.02074167900890715,
          0.01959120971097608,
          0.019053147285167868,
          0.017784887467007474,
          0.013216088617087455,
          0.01235233585016821,
          0.009693041286176998,
          0.007696689763317493,
          0.00707012019642949,
          0.0035968318481206284
         ],
         "yaxis": "y"
        },
        {
         "fill": "toself",
         "hovertemplate": "%{theta}<br>Prob: %{r:.2f}<br>Bookmaker Odds",
         "marker": {
          "color": "rgb(82, 106, 131)"
         },
         "name": "Bookmaker Odds",
         "r": [
          0.19607843137254904,
          0.2150537634408602,
          0.6369426751592356,
          0.4444444444444444,
          0.6060606060606061,
          0.625,
          0.4444444444444444
         ],
         "subplot": "polar",
         "theta": [
          "Home",
          "Draw",
          "Away",
          "Over",
          "Under",
          "GG",
          "NG"
         ],
         "type": "scatterpolar",
         "visible": false
        },
        {
         "fill": "toself",
         "hovertemplate": "%{theta}<br>Prob: %{r:.2f}<br>Predicted Odds",
         "marker": {
          "color": "rgb(141,211,199)"
         },
         "name": "Predicted Odds",
         "r": [
          0.1378068648089552,
          0.17313286428916957,
          0.6890500925343876,
          0.6708809688257787,
          0.32911903117422125,
          0.5806198211372495,
          0.4193700004952633
         ],
         "subplot": "polar",
         "theta": [
          "Home",
          "Draw",
          "Away",
          "Over",
          "Under",
          "GG",
          "NG"
         ],
         "type": "scatterpolar",
         "visible": false
        },
        {
         "hovertemplate": "Score %{x}<br>Prob: %{y:.3f}",
         "marker": {
          "color": [
           0.09534364779749463,
           0.09441796687137405,
           0.07796220037484992,
           0.07773349248417916,
           0.07720527399839461,
           0.07697878660732646,
           0.048139202084898754,
           0.04753197507154785,
           0.047070492385275726,
           0.03936327385752583,
           0.03924779877741566,
           0.03187472279326808,
           0.0315652546367971,
           0.023998991084582127,
           0.016203720827441183,
           0.016093612499537502,
           0.013249731462448767,
           0.013210862393590258,
           0.008078093005966295,
           0.00541713183337804,
           0.004090645834614118,
           0.0033449082092819964,
           0.0033350956732407606,
           0.0020393228110003,
           0.0013675604514387797
          ],
          "colorscale": [
           [
            0,
            "rgb(210, 251, 212)"
           ],
           [
            0.16666666666666666,
            "rgb(165, 219, 194)"
           ],
           [
            0.3333333333333333,
            "rgb(123, 188, 176)"
           ],
           [
            0.5,
            "rgb(85, 156, 158)"
           ],
           [
            0.6666666666666666,
            "rgb(58, 124, 137)"
           ],
           [
            0.8333333333333334,
            "rgb(35, 93, 114)"
           ],
           [
            1,
            "rgb(18, 63, 90)"
           ]
          ]
         },
         "name": "Propable Scoreline",
         "type": "bar",
         "visible": false,
         "x": [
          "1 - 2",
          "0 - 2",
          "1 - 1",
          "1 - 3",
          "0 - 1",
          "0 - 3",
          "2 - 2",
          "1 - 4",
          "0 - 4",
          "2 - 1",
          "2 - 3",
          "1 - 0",
          "0 - 0",
          "2 - 4",
          "Other",
          "Other",
          "Other",
          "Other",
          "Other",
          "Other",
          "Other",
          "Other",
          "Other",
          "Other",
          "Other"
         ],
         "xaxis": "x",
         "y": [
          0.09534364779749463,
          0.09441796687137405,
          0.07796220037484992,
          0.07773349248417916,
          0.07720527399839461,
          0.07697878660732646,
          0.048139202084898754,
          0.04753197507154785,
          0.047070492385275726,
          0.03936327385752583,
          0.03924779877741566,
          0.03187472279326808,
          0.0315652546367971,
          0.023998991084582127,
          0.016203720827441183,
          0.016093612499537502,
          0.013249731462448767,
          0.013210862393590258,
          0.008078093005966295,
          0.00541713183337804,
          0.004090645834614118,
          0.0033449082092819964,
          0.0033350956732407606,
          0.0020393228110003,
          0.0013675604514387797
         ],
         "yaxis": "y"
        },
        {
         "fill": "toself",
         "hovertemplate": "%{theta}<br>Prob: %{r:.2f}<br>Bookmaker Odds",
         "marker": {
          "color": "rgb(82, 106, 131)"
         },
         "name": "Bookmaker Odds",
         "r": [
          0.6369426751592356,
          0.2531645569620253,
          0.15625,
          0.5050505050505051,
          0.5464480874316939,
          0.5,
          0.5714285714285714
         ],
         "subplot": "polar",
         "theta": [
          "Home",
          "Draw",
          "Away",
          "Over",
          "Under",
          "GG",
          "NG"
         ],
         "type": "scatterpolar",
         "visible": false
        },
        {
         "fill": "toself",
         "hovertemplate": "%{theta}<br>Prob: %{r:.2f}<br>Predicted Odds",
         "marker": {
          "color": "rgb(141,211,199)"
         },
         "name": "Predicted Odds",
         "r": [
          0.5463443217243273,
          0.23894288762201166,
          0.2147125152126367,
          0.5037991226139066,
          0.4962008773860934,
          0.5111461137437706,
          0.48885361081520523
         ],
         "subplot": "polar",
         "theta": [
          "Home",
          "Draw",
          "Away",
          "Over",
          "Under",
          "GG",
          "NG"
         ],
         "type": "scatterpolar",
         "visible": false
        },
        {
         "hovertemplate": "Score %{x}<br>Prob: %{y:.3f}",
         "marker": {
          "color": [
           0.11627504649597684,
           0.11365097276884087,
           0.09953519961489042,
           0.09728890765366807,
           0.06791510184312227,
           0.0663824063956217,
           0.056803566261994586,
           0.05554305932593511,
           0.055521633892774806,
           0.04754665479682212,
           0.03244215026764134,
           0.02713431596799075,
           0.024312844746619457,
           0.023764156966617173,
           0.01809652461464401,
           0.015491210230706662,
           0.011613925935436706,
           0.01057000060845077,
           0.008840651249236992,
           0.004422031399189178,
           0.0037854018663999183,
           0.0037839416682103042,
           0.0025828646977991854,
           0.002160284267055995,
           0.0009246365932597829
          ],
          "colorscale": [
           [
            0,
            "rgb(210, 251, 212)"
           ],
           [
            0.16666666666666666,
            "rgb(165, 219, 194)"
           ],
           [
            0.3333333333333333,
            "rgb(123, 188, 176)"
           ],
           [
            0.5,
            "rgb(85, 156, 158)"
           ],
           [
            0.6666666666666666,
            "rgb(58, 124, 137)"
           ],
           [
            0.8333333333333334,
            "rgb(35, 93, 114)"
           ],
           [
            1,
            "rgb(18, 63, 90)"
           ]
          ]
         },
         "name": "Propable Scoreline",
         "type": "bar",
         "visible": false,
         "x": [
          "1 - 0",
          "1 - 1",
          "2 - 0",
          "2 - 1",
          "0 - 0",
          "0 - 1",
          "3 - 0",
          "1 - 2",
          "3 - 1",
          "2 - 2",
          "0 - 2",
          "3 - 2",
          "4 - 0",
          "4 - 1",
          "Other",
          "Other",
          "Other",
          "Other",
          "Other",
          "Other",
          "Other",
          "Other",
          "Other",
          "Other",
          "Other"
         ],
         "xaxis": "x",
         "y": [
          0.11627504649597684,
          0.11365097276884087,
          0.09953519961489042,
          0.09728890765366807,
          0.06791510184312227,
          0.0663824063956217,
          0.056803566261994586,
          0.05554305932593511,
          0.055521633892774806,
          0.04754665479682212,
          0.03244215026764134,
          0.02713431596799075,
          0.024312844746619457,
          0.023764156966617173,
          0.01809652461464401,
          0.015491210230706662,
          0.011613925935436706,
          0.01057000060845077,
          0.008840651249236992,
          0.004422031399189178,
          0.0037854018663999183,
          0.0037839416682103042,
          0.0025828646977991854,
          0.002160284267055995,
          0.0009246365932597829
         ],
         "yaxis": "y"
        },
        {
         "fill": "toself",
         "hovertemplate": "%{theta}<br>Prob: %{r:.2f}<br>Bookmaker Odds",
         "marker": {
          "color": "rgb(82, 106, 131)"
         },
         "name": "Bookmaker Odds",
         "r": [
          0.6369426751592356,
          0.23255813953488372,
          0.18518518518518517,
          0.5813953488372093,
          0.46511627906976744,
          0.5617977528089888,
          0.5050505050505051
         ],
         "subplot": "polar",
         "theta": [
          "Home",
          "Draw",
          "Away",
          "Over",
          "Under",
          "GG",
          "NG"
         ],
         "type": "scatterpolar",
         "visible": false
        },
        {
         "fill": "toself",
         "hovertemplate": "%{theta}<br>Prob: %{r:.2f}<br>Predicted Odds",
         "marker": {
          "color": "rgb(141,211,199)"
         },
         "name": "Predicted Odds",
         "r": [
          0.6164520016389226,
          0.19891923454178248,
          0.18462545272833591,
          0.6402965414352622,
          0.3597034585647378,
          0.5964393216537482,
          0.4035573672552926
         ],
         "subplot": "polar",
         "theta": [
          "Home",
          "Draw",
          "Away",
          "Over",
          "Under",
          "GG",
          "NG"
         ],
         "type": "scatterpolar",
         "visible": false
        },
        {
         "hovertemplate": "Score %{x}<br>Prob: %{y:.3f}",
         "marker": {
          "color": [
           0.0981802954338676,
           0.08993495405283561,
           0.08803364343967757,
           0.0806404344462791,
           0.07145438621353328,
           0.06406978029884101,
           0.054748219174221804,
           0.050150374412193284,
           0.0411910349461811,
           0.039845066467670824,
           0.039002703800620785,
           0.03693405960268212,
           0.03497188620582205,
           0.022969332077082304,
           0.021749054294728187,
           0.020352811050343592,
           0.018643548774933544,
           0.014812520321879723,
           0.008538916566944155,
           0.008085274722372896,
           0.005674662900898951,
           0.005198095452884846,
           0.004129948405233372,
           0.0023807754583115154,
           0.0022542934436494454
          ],
          "colorscale": [
           [
            0,
            "rgb(210, 251, 212)"
           ],
           [
            0.16666666666666666,
            "rgb(165, 219, 194)"
           ],
           [
            0.3333333333333333,
            "rgb(123, 188, 176)"
           ],
           [
            0.5,
            "rgb(85, 156, 158)"
           ],
           [
            0.6666666666666666,
            "rgb(58, 124, 137)"
           ],
           [
            0.8333333333333334,
            "rgb(35, 93, 114)"
           ],
           [
            1,
            "rgb(18, 63, 90)"
           ]
          ]
         },
         "name": "Propable Scoreline",
         "type": "bar",
         "visible": false,
         "x": [
          "2 - 1",
          "1 - 1",
          "2 - 0",
          "1 - 0",
          "3 - 1",
          "3 - 0",
          "2 - 2",
          "1 - 2",
          "0 - 1",
          "3 - 2",
          "4 - 1",
          "0 - 0",
          "4 - 0",
          "0 - 2",
          "4 - 2",
          "2 - 3",
          "Other",
          "Other",
          "Other",
          "Other",
          "Other",
          "Other",
          "Other",
          "Other",
          "Other"
         ],
         "xaxis": "x",
         "y": [
          0.0981802954338676,
          0.08993495405283561,
          0.08803364343967757,
          0.0806404344462791,
          0.07145438621353328,
          0.06406978029884101,
          0.054748219174221804,
          0.050150374412193284,
          0.0411910349461811,
          0.039845066467670824,
          0.039002703800620785,
          0.03693405960268212,
          0.03497188620582205,
          0.022969332077082304,
          0.021749054294728187,
          0.020352811050343592,
          0.018643548774933544,
          0.014812520321879723,
          0.008538916566944155,
          0.008085274722372896,
          0.005674662900898951,
          0.005198095452884846,
          0.004129948405233372,
          0.0023807754583115154,
          0.0022542934436494454
         ],
         "yaxis": "y"
        },
        {
         "fill": "toself",
         "hovertemplate": "%{theta}<br>Prob: %{r:.2f}<br>Bookmaker Odds",
         "marker": {
          "color": "rgb(82, 106, 131)"
         },
         "name": "Bookmaker Odds",
         "r": [
          0.7751937984496123,
          0.18518518518518517,
          0.09302325581395349,
          0.4444444444444444,
          0.6060606060606061,
          0.5405405405405405,
          0.5263157894736842
         ],
         "subplot": "polar",
         "theta": [
          "Home",
          "Draw",
          "Away",
          "Over",
          "Under",
          "GG",
          "NG"
         ],
         "type": "scatterpolar",
         "visible": false
        },
        {
         "fill": "toself",
         "hovertemplate": "%{theta}<br>Prob: %{r:.2f}<br>Predicted Odds",
         "marker": {
          "color": "rgb(141,211,199)"
         },
         "name": "Predicted Odds",
         "r": [
          0.7172578572326175,
          0.17206778069477785,
          0.11066817499406587,
          0.6027510651093501,
          0.39724893489064994,
          0.49397622344924574,
          0.506017589472215
         ],
         "subplot": "polar",
         "theta": [
          "Home",
          "Draw",
          "Away",
          "Over",
          "Under",
          "GG",
          "NG"
         ],
         "type": "scatterpolar",
         "visible": false
        },
        {
         "hovertemplate": "Score %{x}<br>Prob: %{y:.3f}",
         "marker": {
          "color": [
           0.11958650631280701,
           0.10286327075588468,
           0.09483049013820505,
           0.09268570719826086,
           0.08156918939904492,
           0.07349851846517186,
           0.05387715084073247,
           0.044239324305209216,
           0.04272385555032726,
           0.037599651236274664,
           0.035081188811322536,
           0.032341634726973836,
           0.029141668008314938,
           0.01693972124176652,
           0.013909455306381645,
           0.00993867247428634,
           0.008548827030722354,
           0.007702983516230261,
           0.004477656991275574,
           0.0036766702892308037,
           0.0019703083799320043,
           0.0016947761968009697,
           0.001527090565845053,
           0.0008876804336994605,
           0.0007288875148930447
          ],
          "colorscale": [
           [
            0,
            "rgb(210, 251, 212)"
           ],
           [
            0.16666666666666666,
            "rgb(165, 219, 194)"
           ],
           [
            0.3333333333333333,
            "rgb(123, 188, 176)"
           ],
           [
            0.5,
            "rgb(85, 156, 158)"
           ],
           [
            0.6666666666666666,
            "rgb(58, 124, 137)"
           ],
           [
            0.8333333333333334,
            "rgb(35, 93, 114)"
           ],
           [
            1,
            "rgb(18, 63, 90)"
           ]
          ]
         },
         "name": "Propable Scoreline",
         "type": "bar",
         "visible": false,
         "x": [
          "2 - 0",
          "1 - 0",
          "2 - 1",
          "3 - 0",
          "1 - 1",
          "3 - 1",
          "4 - 0",
          "0 - 0",
          "4 - 1",
          "2 - 2",
          "0 - 1",
          "1 - 2",
          "3 - 2",
          "Other",
          "Other",
          "Other",
          "Other",
          "Other",
          "Other",
          "Other",
          "Other",
          "Other",
          "Other",
          "Other",
          "Other"
         ],
         "xaxis": "x",
         "y": [
          0.11958650631280701,
          0.10286327075588468,
          0.09483049013820505,
          0.09268570719826086,
          0.08156918939904492,
          0.07349851846517186,
          0.05387715084073247,
          0.044239324305209216,
          0.04272385555032726,
          0.037599651236274664,
          0.035081188811322536,
          0.032341634726973836,
          0.029141668008314938,
          0.01693972124176652,
          0.013909455306381645,
          0.00993867247428634,
          0.008548827030722354,
          0.007702983516230261,
          0.004477656991275574,
          0.0036766702892308037,
          0.0019703083799320043,
          0.0016947761968009697,
          0.001527090565845053,
          0.0008876804336994605,
          0.0007288875148930447
         ],
         "yaxis": "y"
        },
        {
         "fill": "toself",
         "hovertemplate": "%{theta}<br>Prob: %{r:.2f}<br>Bookmaker Odds",
         "marker": {
          "color": "rgb(82, 106, 131)"
         },
         "name": "Bookmaker Odds",
         "r": [
          0.6944444444444444,
          0.2150537634408602,
          0.14285714285714285,
          0.6060606060606061,
          0.4444444444444444,
          0.5464480874316939,
          0.5235602094240838
         ],
         "subplot": "polar",
         "theta": [
          "Home",
          "Draw",
          "Away",
          "Over",
          "Under",
          "GG",
          "NG"
         ],
         "type": "scatterpolar",
         "visible": false
        },
        {
         "fill": "toself",
         "hovertemplate": "%{theta}<br>Prob: %{r:.2f}<br>Predicted Odds",
         "marker": {
          "color": "rgb(141,211,199)"
         },
         "name": "Predicted Odds",
         "r": [
          0.5536689709914111,
          0.21984090899684702,
          0.22648910425949337,
          0.6011563686505906,
          0.39884363134940937,
          0.5903767432435603,
          0.40962224100419115
         ],
         "subplot": "polar",
         "theta": [
          "Home",
          "Draw",
          "Away",
          "Over",
          "Under",
          "GG",
          "NG"
         ],
         "type": "scatterpolar",
         "visible": false
        },
        {
         "hovertemplate": "Score %{x}<br>Prob: %{y:.3f}",
         "marker": {
          "color": [
           0.10115268963022682,
           0.09822361176682919,
           0.08655515683119733,
           0.084048779642771,
           0.06358623412973997,
           0.05910604864007995,
           0.05739451512280581,
           0.05440998640297386,
           0.052084557039697305,
           0.04456813772856209,
           0.03715502831462866,
           0.030872483953248882,
           0.03043431047695478,
           0.02641721836671332,
           0.023024762522310952,
           0.02235803460374916,
           0.018039565184587415,
           0.014473742081177755,
           0.011855686302585768,
           0.00702731300666273,
           0.00672697255280561,
           0.006532179646515767,
           0.004228684904876839,
           0.0034637871411219764,
           0.002053117449962276
          ],
          "colorscale": [
           [
            0,
            "rgb(210, 251, 212)"
           ],
           [
            0.16666666666666666,
            "rgb(165, 219, 194)"
           ],
           [
            0.3333333333333333,
            "rgb(123, 188, 176)"
           ],
           [
            0.5,
            "rgb(85, 156, 158)"
           ],
           [
            0.6666666666666666,
            "rgb(58, 124, 137)"
           ],
           [
            0.8333333333333334,
            "rgb(35, 93, 114)"
           ],
           [
            1,
            "rgb(18, 63, 90)"
           ]
          ]
         },
         "name": "Propable Scoreline",
         "type": "bar",
         "visible": false,
         "x": [
          "1 - 1",
          "2 - 1",
          "1 - 0",
          "2 - 0",
          "3 - 1",
          "1 - 2",
          "2 - 2",
          "3 - 0",
          "0 - 1",
          "0 - 0",
          "3 - 2",
          "4 - 1",
          "0 - 2",
          "4 - 0",
          "1 - 3",
          "2 - 3",
          "Other",
          "Other",
          "Other",
          "Other",
          "Other",
          "Other",
          "Other",
          "Other",
          "Other"
         ],
         "xaxis": "x",
         "y": [
          0.10115268963022682,
          0.09822361176682919,
          0.08655515683119733,
          0.084048779642771,
          0.06358623412973997,
          0.05910604864007995,
          0.05739451512280581,
          0.05440998640297386,
          0.052084557039697305,
          0.04456813772856209,
          0.03715502831462866,
          0.030872483953248882,
          0.03043431047695478,
          0.02641721836671332,
          0.023024762522310952,
          0.02235803460374916,
          0.018039565184587415,
          0.014473742081177755,
          0.011855686302585768,
          0.00702731300666273,
          0.00672697255280561,
          0.006532179646515767,
          0.004228684904876839,
          0.0034637871411219764,
          0.002053117449962276
         ],
         "yaxis": "y"
        },
        {
         "fill": "toself",
         "hovertemplate": "%{theta}<br>Prob: %{r:.2f}<br>Bookmaker Odds",
         "marker": {
          "color": "rgb(82, 106, 131)"
         },
         "name": "Bookmaker Odds",
         "r": [
          0.125,
          0.19607843137254904,
          0.7299270072992701,
          0.4347826086956522,
          0.6172839506172839,
          0.5617977528089888,
          0.5050505050505051
         ],
         "subplot": "polar",
         "theta": [
          "Home",
          "Draw",
          "Away",
          "Over",
          "Under",
          "GG",
          "NG"
         ],
         "type": "scatterpolar",
         "visible": false
        },
        {
         "fill": "toself",
         "hovertemplate": "%{theta}<br>Prob: %{r:.2f}<br>Predicted Odds",
         "marker": {
          "color": "rgb(141,211,199)"
         },
         "name": "Predicted Odds",
         "r": [
          0.05378116129838745,
          0.12024765025619065,
          0.8259406571530158,
          0.6433254507786645,
          0.3566745492213354,
          0.40795286944458203,
          0.592016599263012
         ],
         "subplot": "polar",
         "theta": [
          "Home",
          "Draw",
          "Away",
          "Over",
          "Under",
          "GG",
          "NG"
         ],
         "type": "scatterpolar",
         "visible": false
        },
        {
         "hovertemplate": "Score %{x}<br>Prob: %{y:.3f}",
         "marker": {
          "color": [
           0.13664840445727955,
           0.12484469364990027,
           0.09971208170627324,
           0.08554544193787221,
           0.07828320218886743,
           0.07152108679218257,
           0.057123104246163244,
           0.04900731299538945,
           0.036379858505068884,
           0.022423458836868377,
           0.020841310443877492,
           0.020486516913083862,
           0.016362355408094657,
           0.014037666254458804,
           0.005969789862673005,
           0.004281987213516029,
           0.0039121084802078735,
           0.0031245579529090664,
           0.0026806349478238115,
           0.001139992007714428,
           0.0006132667119992177,
           0.000560292636341465,
           0.00044749955725769866,
           0.0003839208522933039,
           0.0001632697893327787
          ],
          "colorscale": [
           [
            0,
            "rgb(210, 251, 212)"
           ],
           [
            0.16666666666666666,
            "rgb(165, 219, 194)"
           ],
           [
            0.3333333333333333,
            "rgb(123, 188, 176)"
           ],
           [
            0.5,
            "rgb(85, 156, 158)"
           ],
           [
            0.6666666666666666,
            "rgb(58, 124, 137)"
           ],
           [
            0.8333333333333334,
            "rgb(35, 93, 114)"
           ],
           [
            1,
            "rgb(18, 63, 90)"
           ]
          ]
         },
         "name": "Propable Scoreline",
         "type": "bar",
         "visible": false,
         "x": [
          "0 - 2",
          "0 - 3",
          "0 - 1",
          "0 - 4",
          "1 - 2",
          "1 - 3",
          "1 - 1",
          "1 - 4",
          "0 - 0",
          "2 - 2",
          "1 - 0",
          "2 - 3",
          "Other",
          "Other",
          "Other",
          "Other",
          "Other",
          "Other",
          "Other",
          "Other",
          "Other",
          "Other",
          "Other",
          "Other",
          "Other"
         ],
         "xaxis": "x",
         "y": [
          0.13664840445727955,
          0.12484469364990027,
          0.09971208170627324,
          0.08554544193787221,
          0.07828320218886743,
          0.07152108679218257,
          0.057123104246163244,
          0.04900731299538945,
          0.036379858505068884,
          0.022423458836868377,
          0.020841310443877492,
          0.020486516913083862,
          0.016362355408094657,
          0.014037666254458804,
          0.005969789862673005,
          0.004281987213516029,
          0.0039121084802078735,
          0.0031245579529090664,
          0.0026806349478238115,
          0.001139992007714428,
          0.0006132667119992177,
          0.000560292636341465,
          0.00044749955725769866,
          0.0003839208522933039,
          0.0001632697893327787
         ],
         "yaxis": "y"
        },
        {
         "fill": "toself",
         "hovertemplate": "%{theta}<br>Prob: %{r:.2f}<br>Bookmaker Odds",
         "marker": {
          "color": "rgb(82, 106, 131)"
         },
         "name": "Bookmaker Odds",
         "r": [
          0.3333333333333333,
          0.26666666666666666,
          0.4504504504504504,
          0.5181347150259068,
          0.5319148936170213,
          0.7518796992481203,
          0.31746031746031744
         ],
         "subplot": "polar",
         "theta": [
          "Home",
          "Draw",
          "Away",
          "Over",
          "Under",
          "GG",
          "NG"
         ],
         "type": "scatterpolar",
         "visible": false
        },
        {
         "fill": "toself",
         "hovertemplate": "%{theta}<br>Prob: %{r:.2f}<br>Predicted Odds",
         "marker": {
          "color": "rgb(141,211,199)"
         },
         "name": "Predicted Odds",
         "r": [
          0.39501000662270674,
          0.20835734535152914,
          0.39663023149139154,
          0.7548516191228642,
          0.2451483808771358,
          0.742026282249708,
          0.25797130121591966
         ],
         "subplot": "polar",
         "theta": [
          "Home",
          "Draw",
          "Away",
          "Over",
          "Under",
          "GG",
          "NG"
         ],
         "type": "scatterpolar",
         "visible": false
        },
        {
         "hovertemplate": "Score %{x}<br>Prob: %{y:.3f}",
         "marker": {
          "color": [
           0.07501315465335491,
           0.07420043692901084,
           0.07404376994557064,
           0.07324155486089509,
           0.04893101630772771,
           0.04872460830892759,
           0.048298687496011315,
           0.04819670952947508,
           0.0379976152969015,
           0.037917387039321536,
           0.037585936364355525,
           0.03742738584786502,
           0.03178302012186007,
           0.0247858117998014,
           0.024629144583060418,
           0.02420044061732824,
           0.024047473439733014,
           0.023887701642884507,
           0.023786935031763386,
           0.019206901675337305,
           0.01571933610087205,
           0.01568614625630332,
           0.012258636992966691,
           0.01215543276303713,
           0.007758098638356747
          ],
          "colorscale": [
           [
            0,
            "rgb(210, 251, 212)"
           ],
           [
            0.16666666666666666,
            "rgb(165, 219, 194)"
           ],
           [
            0.3333333333333333,
            "rgb(123, 188, 176)"
           ],
           [
            0.5,
            "rgb(85, 156, 158)"
           ],
           [
            0.6666666666666666,
            "rgb(58, 124, 137)"
           ],
           [
            0.8333333333333334,
            "rgb(35, 93, 114)"
           ],
           [
            1,
            "rgb(18, 63, 90)"
           ]
          ]
         },
         "name": "Propable Scoreline",
         "type": "bar",
         "visible": false,
         "x": [
          "1 - 1",
          "1 - 2",
          "2 - 1",
          "2 - 2",
          "1 - 3",
          "3 - 1",
          "2 - 3",
          "3 - 2",
          "0 - 1",
          "1 - 0",
          "0 - 2",
          "2 - 0",
          "3 - 3",
          "0 - 3",
          "3 - 0",
          "1 - 4",
          "4 - 1",
          "2 - 4",
          "4 - 2",
          "Other",
          "Other",
          "Other",
          "Other",
          "Other",
          "Other"
         ],
         "xaxis": "x",
         "y": [
          0.07501315465335491,
          0.07420043692901084,
          0.07404376994557064,
          0.07324155486089509,
          0.04893101630772771,
          0.04872460830892759,
          0.048298687496011315,
          0.04819670952947508,
          0.0379976152969015,
          0.037917387039321536,
          0.037585936364355525,
          0.03742738584786502,
          0.03178302012186007,
          0.0247858117998014,
          0.024629144583060418,
          0.02420044061732824,
          0.024047473439733014,
          0.023887701642884507,
          0.023786935031763386,
          0.019206901675337305,
          0.01571933610087205,
          0.01568614625630332,
          0.012258636992966691,
          0.01215543276303713,
          0.007758098638356747
         ],
         "yaxis": "y"
        },
        {
         "fill": "toself",
         "hovertemplate": "%{theta}<br>Prob: %{r:.2f}<br>Bookmaker Odds",
         "marker": {
          "color": "rgb(82, 106, 131)"
         },
         "name": "Bookmaker Odds",
         "r": [
          0.3424657534246575,
          0.3076923076923077,
          0.4,
          0.48780487804878053,
          0.5617977528089888,
          0.5617977528089888,
          0.5050505050505051
         ],
         "subplot": "polar",
         "theta": [
          "Home",
          "Draw",
          "Away",
          "Over",
          "Under",
          "GG",
          "NG"
         ],
         "type": "scatterpolar",
         "visible": false
        },
        {
         "fill": "toself",
         "hovertemplate": "%{theta}<br>Prob: %{r:.2f}<br>Predicted Odds",
         "marker": {
          "color": "rgb(141,211,199)"
         },
         "name": "Predicted Odds",
         "r": [
          0.3515922467933419,
          0.2531975970432995,
          0.39521009038149724,
          0.5272379825876718,
          0.4727620174123281,
          0.5644645144501971,
          0.43553541976794163
         ],
         "subplot": "polar",
         "theta": [
          "Home",
          "Draw",
          "Away",
          "Over",
          "Under",
          "GG",
          "NG"
         ],
         "type": "scatterpolar",
         "visible": false
        },
        {
         "hovertemplate": "Score %{x}<br>Prob: %{y:.3f}",
         "marker": {
          "color": [
           0.11951535682711377,
           0.08885398376134926,
           0.08611515955007239,
           0.0829349942109021,
           0.08037861620181917,
           0.06402252556829786,
           0.06165822388434106,
           0.05791571512141759,
           0.055776933160323984,
           0.0413660687697892,
           0.03603844791184547,
           0.03075370479844359,
           0.02782025217256961,
           0.025967011890822404,
           0.025008070496432958,
           0.014902878201763933,
           0.012473450728464574,
           0.012118612411481818,
           0.011079581175935454,
           0.010022751544931888,
           0.008731900812126343,
           0.008409438559801877,
           0.004493787359793108,
           0.00419443465439289,
           0.0015111213281482339
          ],
          "colorscale": [
           [
            0,
            "rgb(210, 251, 212)"
           ],
           [
            0.16666666666666666,
            "rgb(165, 219, 194)"
           ],
           [
            0.3333333333333333,
            "rgb(123, 188, 176)"
           ],
           [
            0.5,
            "rgb(85, 156, 158)"
           ],
           [
            0.6666666666666666,
            "rgb(58, 124, 137)"
           ],
           [
            0.8333333333333334,
            "rgb(35, 93, 114)"
           ],
           [
            1,
            "rgb(18, 63, 90)"
           ]
          ]
         },
         "name": "Propable Scoreline",
         "type": "bar",
         "visible": false,
         "x": [
          "1 - 1",
          "0 - 1",
          "1 - 2",
          "1 - 0",
          "2 - 1",
          "0 - 2",
          "0 - 0",
          "2 - 2",
          "2 - 0",
          "1 - 3",
          "3 - 1",
          "0 - 3",
          "2 - 3",
          "3 - 2",
          "3 - 0",
          "Other",
          "Other",
          "Other",
          "Other",
          "Other",
          "Other",
          "Other",
          "Other",
          "Other",
          "Other"
         ],
         "xaxis": "x",
         "y": [
          0.11951535682711377,
          0.08885398376134926,
          0.08611515955007239,
          0.0829349942109021,
          0.08037861620181917,
          0.06402252556829786,
          0.06165822388434106,
          0.05791571512141759,
          0.055776933160323984,
          0.0413660687697892,
          0.03603844791184547,
          0.03075370479844359,
          0.02782025217256961,
          0.025967011890822404,
          0.025008070496432958,
          0.014902878201763933,
          0.012473450728464574,
          0.012118612411481818,
          0.011079581175935454,
          0.010022751544931888,
          0.008731900812126343,
          0.008409438559801877,
          0.004493787359793108,
          0.00419443465439289,
          0.0015111213281482339
         ],
         "yaxis": "y"
        },
        {
         "fill": "toself",
         "hovertemplate": "%{theta}<br>Prob: %{r:.2f}<br>Bookmaker Odds",
         "marker": {
          "color": "rgb(82, 106, 131)"
         },
         "name": "Bookmaker Odds",
         "r": [
          0.2631578947368421,
          0.2857142857142857,
          0.5,
          0.5263157894736842,
          0.5235602094240838,
          0.5813953488372093,
          0.48780487804878053
         ],
         "subplot": "polar",
         "theta": [
          "Home",
          "Draw",
          "Away",
          "Over",
          "Under",
          "GG",
          "NG"
         ],
         "type": "scatterpolar",
         "visible": false
        },
        {
         "fill": "toself",
         "hovertemplate": "%{theta}<br>Prob: %{r:.2f}<br>Predicted Odds",
         "marker": {
          "color": "rgb(141,211,199)"
         },
         "name": "Predicted Odds",
         "r": [
          0.30372270641875493,
          0.23555366513226705,
          0.46072332104464275,
          0.5929131960487115,
          0.40708680395128843,
          0.6088835928357367,
          0.3911160997599281
         ],
         "subplot": "polar",
         "theta": [
          "Home",
          "Draw",
          "Away",
          "Over",
          "Under",
          "GG",
          "NG"
         ],
         "type": "scatterpolar",
         "visible": false
        },
        {
         "hovertemplate": "Score %{x}<br>Prob: %{y:.3f}",
         "marker": {
          "color": [
           0.10775124573460038,
           0.09254232519673508,
           0.07951755735656807,
           0.07300482650200042,
           0.06829377796584087,
           0.06272984244061253,
           0.0627003089293277,
           0.05298674673894885,
           0.04629295754525212,
           0.04250142290841446,
           0.039102811705121095,
           0.03590017197676108,
           0.03297536318490867,
           0.02832094202283871,
           0.022753874975657295,
           0.019197358906701344,
           0.016791755363251514,
           0.01621565677307567,
           0.015416459304216234,
           0.01117091803320875,
           0.009594160348935203,
           0.006963421035840212,
           0.006503404423427114,
           0.005493306370908324,
           0.002358967365602588
          ],
          "colorscale": [
           [
            0,
            "rgb(210, 251, 212)"
           ],
           [
            0.16666666666666666,
            "rgb(165, 219, 194)"
           ],
           [
            0.3333333333333333,
            "rgb(123, 188, 176)"
           ],
           [
            0.5,
            "rgb(85, 156, 158)"
           ],
           [
            0.6666666666666666,
            "rgb(58, 124, 137)"
           ],
           [
            0.8333333333333334,
            "rgb(35, 93, 114)"
           ],
           [
            1,
            "rgb(18, 63, 90)"
           ]
          ]
         },
         "name": "Propable Scoreline",
         "type": "bar",
         "visible": false,
         "x": [
          "1 - 1",
          "1 - 2",
          "0 - 1",
          "2 - 1",
          "0 - 2",
          "1 - 0",
          "2 - 2",
          "1 - 3",
          "0 - 0",
          "2 - 0",
          "0 - 3",
          "2 - 3",
          "3 - 1",
          "3 - 2",
          "1 - 4",
          "Other",
          "Other",
          "Other",
          "Other",
          "Other",
          "Other",
          "Other",
          "Other",
          "Other",
          "Other"
         ],
         "xaxis": "x",
         "y": [
          0.10775124573460038,
          0.09254232519673508,
          0.07951755735656807,
          0.07300482650200042,
          0.06829377796584087,
          0.06272984244061253,
          0.0627003089293277,
          0.05298674673894885,
          0.04629295754525212,
          0.04250142290841446,
          0.039102811705121095,
          0.03590017197676108,
          0.03297536318490867,
          0.02832094202283871,
          0.022753874975657295,
          0.019197358906701344,
          0.016791755363251514,
          0.01621565677307567,
          0.015416459304216234,
          0.01117091803320875,
          0.009594160348935203,
          0.006963421035840212,
          0.006503404423427114,
          0.005493306370908324,
          0.002358967365602588
         ],
         "yaxis": "y"
        },
        {
         "fill": "toself",
         "hovertemplate": "%{theta}<br>Prob: %{r:.2f}<br>Bookmaker Odds",
         "marker": {
          "color": "rgb(82, 106, 131)"
         },
         "name": "Bookmaker Odds",
         "r": [
          0.3448275862068966,
          0.30303030303030304,
          0.4048582995951417,
          0.47619047619047616,
          0.5714285714285714,
          0.5494505494505494,
          0.5181347150259068
         ],
         "subplot": "polar",
         "theta": [
          "Home",
          "Draw",
          "Away",
          "Over",
          "Under",
          "GG",
          "NG"
         ],
         "type": "scatterpolar",
         "visible": false
        },
        {
         "fill": "toself",
         "hovertemplate": "%{theta}<br>Prob: %{r:.2f}<br>Predicted Odds",
         "marker": {
          "color": "rgb(141,211,199)"
         },
         "name": "Predicted Odds",
         "r": [
          0.5078548630708999,
          0.23268838023719293,
          0.2594563308754524,
          0.5755285716113014,
          0.4244714283886986,
          0.5841384514778309,
          0.4158611227057148
         ],
         "subplot": "polar",
         "theta": [
          "Home",
          "Draw",
          "Away",
          "Over",
          "Under",
          "GG",
          "NG"
         ],
         "type": "scatterpolar",
         "visible": false
        },
        {
         "hovertemplate": "Score %{x}<br>Prob: %{y:.3f}",
         "marker": {
          "color": [
           0.10814538491991814,
           0.096406034877352,
           0.08927384699449767,
           0.07958303179890741,
           0.06550308221957823,
           0.06065711702776805,
           0.058392620579333136,
           0.05729400638258412,
           0.050072355733665294,
           0.047296113128527384,
           0.03673969191394207,
           0.03470267375299004,
           0.026449911437534234,
           0.025537326357813542,
           0.02357873233738107,
           0.021081023176386177,
           0.015467822222120297,
           0.014835356817386684,
           0.014012816134900657,
           0.008010285066146487,
           0.007140756140784881,
           0.006245851554513919,
           0.004492848206539981,
           0.004243743956766736,
           0.001891539468880534
          ],
          "colorscale": [
           [
            0,
            "rgb(210, 251, 212)"
           ],
           [
            0.16666666666666666,
            "rgb(165, 219, 194)"
           ],
           [
            0.3333333333333333,
            "rgb(123, 188, 176)"
           ],
           [
            0.5,
            "rgb(85, 156, 158)"
           ],
           [
            0.6666666666666666,
            "rgb(58, 124, 137)"
           ],
           [
            0.8333333333333334,
            "rgb(35, 93, 114)"
           ],
           [
            1,
            "rgb(18, 63, 90)"
           ]
          ]
         },
         "name": "Propable Scoreline",
         "type": "bar",
         "visible": false,
         "x": [
          "1 - 1",
          "2 - 1",
          "1 - 0",
          "2 - 0",
          "1 - 2",
          "0 - 1",
          "2 - 2",
          "3 - 1",
          "0 - 0",
          "3 - 0",
          "0 - 2",
          "3 - 2",
          "1 - 3",
          "4 - 1",
          "2 - 3",
          "4 - 0",
          "Other",
          "Other",
          "Other",
          "Other",
          "Other",
          "Other",
          "Other",
          "Other",
          "Other"
         ],
         "xaxis": "x",
         "y": [
          0.10814538491991814,
          0.096406034877352,
          0.08927384699449767,
          0.07958303179890741,
          0.06550308221957823,
          0.06065711702776805,
          0.058392620579333136,
          0.05729400638258412,
          0.050072355733665294,
          0.047296113128527384,
          0.03673969191394207,
          0.03470267375299004,
          0.026449911437534234,
          0.025537326357813542,
          0.02357873233738107,
          0.021081023176386177,
          0.015467822222120297,
          0.014835356817386684,
          0.014012816134900657,
          0.008010285066146487,
          0.007140756140784881,
          0.006245851554513919,
          0.004492848206539981,
          0.004243743956766736,
          0.001891539468880534
         ],
         "yaxis": "y"
        },
        {
         "fill": "toself",
         "hovertemplate": "%{theta}<br>Prob: %{r:.2f}<br>Bookmaker Odds",
         "marker": {
          "color": "rgb(82, 106, 131)"
         },
         "name": "Bookmaker Odds",
         "r": [
          0.1639344262295082,
          0.22727272727272727,
          0.6578947368421053,
          0.6060606060606061,
          0.44052863436123346,
          0.5714285714285714,
          0.49504950495049505
         ],
         "subplot": "polar",
         "theta": [
          "Home",
          "Draw",
          "Away",
          "Over",
          "Under",
          "GG",
          "NG"
         ],
         "type": "scatterpolar",
         "visible": false
        },
        {
         "fill": "toself",
         "hovertemplate": "%{theta}<br>Prob: %{r:.2f}<br>Predicted Odds",
         "marker": {
          "color": "rgb(141,211,199)"
         },
         "name": "Predicted Odds",
         "r": [
          0.1863285728234965,
          0.20232617954664422,
          0.6113425902436056,
          0.6267568964436783,
          0.37324310355632173,
          0.5871730735352723,
          0.4128242690784739
         ],
         "subplot": "polar",
         "theta": [
          "Home",
          "Draw",
          "Away",
          "Over",
          "Under",
          "GG",
          "NG"
         ],
         "type": "scatterpolar",
         "visible": false
        },
        {
         "hovertemplate": "Score %{x}<br>Prob: %{y:.3f}",
         "marker": {
          "color": [
           0.09870504722177818,
           0.09241968760815777,
           0.09005192738040707,
           0.08431758285176574,
           0.07027857807642769,
           0.06411750551232574,
           0.054094824122405245,
           0.05065016316113835,
           0.04326728418658265,
           0.03947419552683117,
           0.038515835082628645,
           0.03752907279412244,
           0.034239032684082044,
           0.023712426002577308,
           0.020567626979738393,
           0.019764271292422902,
           0.018505718097114536,
           0.014072278188848006,
           0.008663653651150884,
           0.007514659046659855,
           0.00541585668394891,
           0.005070984685681552,
           0.0038561220274627144,
           0.002374036757529846,
           0.002059186287381745
          ],
          "colorscale": [
           [
            0,
            "rgb(210, 251, 212)"
           ],
           [
            0.16666666666666666,
            "rgb(165, 219, 194)"
           ],
           [
            0.3333333333333333,
            "rgb(123, 188, 176)"
           ],
           [
            0.5,
            "rgb(85, 156, 158)"
           ],
           [
            0.6666666666666666,
            "rgb(58, 124, 137)"
           ],
           [
            0.8333333333333334,
            "rgb(35, 93, 114)"
           ],
           [
            1,
            "rgb(18, 63, 90)"
           ]
          ]
         },
         "name": "Propable Scoreline",
         "type": "bar",
         "visible": false,
         "x": [
          "1 - 2",
          "1 - 1",
          "0 - 2",
          "0 - 1",
          "1 - 3",
          "0 - 3",
          "2 - 2",
          "2 - 1",
          "1 - 0",
          "0 - 0",
          "2 - 3",
          "1 - 4",
          "0 - 4",
          "2 - 0",
          "2 - 4",
          "Other",
          "Other",
          "Other",
          "Other",
          "Other",
          "Other",
          "Other",
          "Other",
          "Other",
          "Other"
         ],
         "xaxis": "x",
         "y": [
          0.09870504722177818,
          0.09241968760815777,
          0.09005192738040707,
          0.08431758285176574,
          0.07027857807642769,
          0.06411750551232574,
          0.054094824122405245,
          0.05065016316113835,
          0.04326728418658265,
          0.03947419552683117,
          0.038515835082628645,
          0.03752907279412244,
          0.034239032684082044,
          0.023712426002577308,
          0.020567626979738393,
          0.019764271292422902,
          0.018505718097114536,
          0.014072278188848006,
          0.008663653651150884,
          0.007514659046659855,
          0.00541585668394891,
          0.005070984685681552,
          0.0038561220274627144,
          0.002374036757529846,
          0.002059186287381745
         ],
         "yaxis": "y"
        },
        {
         "fill": "toself",
         "hovertemplate": "%{theta}<br>Prob: %{r:.2f}<br>Bookmaker Odds",
         "marker": {
          "color": "rgb(82, 106, 131)"
         },
         "name": "Bookmaker Odds",
         "r": [
          0.23809523809523808,
          0.2631578947368421,
          0.5464480874316939,
          0.5617977528089888,
          0.48780487804878053,
          0.5882352941176471,
          0.48309178743961356
         ],
         "subplot": "polar",
         "theta": [
          "Home",
          "Draw",
          "Away",
          "Over",
          "Under",
          "GG",
          "NG"
         ],
         "type": "scatterpolar",
         "visible": false
        },
        {
         "fill": "toself",
         "hovertemplate": "%{theta}<br>Prob: %{r:.2f}<br>Predicted Odds",
         "marker": {
          "color": "rgb(141,211,199)"
         },
         "name": "Predicted Odds",
         "r": [
          0.26584668046286586,
          0.23916992609805285,
          0.49498312721458404,
          0.5515422360255984,
          0.4484577639744016,
          0.5680497995511886,
          0.4319499342243141
         ],
         "subplot": "polar",
         "theta": [
          "Home",
          "Draw",
          "Away",
          "Over",
          "Under",
          "GG",
          "NG"
         ],
         "type": "scatterpolar",
         "visible": false
        },
        {
         "hovertemplate": "Score %{x}<br>Prob: %{y:.3f}",
         "marker": {
          "color": [
           0.11234371588719225,
           0.0956898110522606,
           0.0947474437804544,
           0.08070202166127546,
           0.06660396310314917,
           0.06594803752120068,
           0.05673054869461258,
           0.055618669260908866,
           0.05433646120097894,
           0.045825801311736025,
           0.03909787586336997,
           0.03221385040013871,
           0.026324498087637094,
           0.02314079458966395,
           0.02242213752819944,
           0.019516277498074,
           0.015453013761388188,
           0.013719224229463502,
           0.012732176941791969,
           0.0078033554680462065,
           0.006646581025152773,
           0.005422375413803274,
           0.004580727770431942,
           0.0037741917140492096,
           0.0016073515511763022
          ],
          "colorscale": [
           [
            0,
            "rgb(210, 251, 212)"
           ],
           [
            0.16666666666666666,
            "rgb(165, 219, 194)"
           ],
           [
            0.3333333333333333,
            "rgb(123, 188, 176)"
           ],
           [
            0.5,
            "rgb(85, 156, 158)"
           ],
           [
            0.6666666666666666,
            "rgb(58, 124, 137)"
           ],
           [
            0.8333333333333334,
            "rgb(35, 93, 114)"
           ],
           [
            1,
            "rgb(18, 63, 90)"
           ]
          ]
         },
         "name": "Propable Scoreline",
         "type": "bar",
         "visible": false,
         "x": [
          "1 - 1",
          "1 - 2",
          "0 - 1",
          "0 - 2",
          "2 - 1",
          "1 - 0",
          "2 - 2",
          "0 - 0",
          "1 - 3",
          "0 - 3",
          "2 - 0",
          "2 - 3",
          "3 - 1",
          "1 - 4",
          "3 - 2",
          "Other",
          "Other",
          "Other",
          "Other",
          "Other",
          "Other",
          "Other",
          "Other",
          "Other",
          "Other"
         ],
         "xaxis": "x",
         "y": [
          0.11234371588719225,
          0.0956898110522606,
          0.0947474437804544,
          0.08070202166127546,
          0.06660396310314917,
          0.06594803752120068,
          0.05673054869461258,
          0.055618669260908866,
          0.05433646120097894,
          0.045825801311736025,
          0.03909787586336997,
          0.03221385040013871,
          0.026324498087637094,
          0.02314079458966395,
          0.02242213752819944,
          0.019516277498074,
          0.015453013761388188,
          0.013719224229463502,
          0.012732176941791969,
          0.0078033554680462065,
          0.006646581025152773,
          0.005422375413803274,
          0.004580727770431942,
          0.0037741917140492096,
          0.0016073515511763022
         ],
         "yaxis": "y"
        },
        {
         "fill": "toself",
         "hovertemplate": "%{theta}<br>Prob: %{r:.2f}<br>Bookmaker Odds",
         "marker": {
          "color": "rgb(82, 106, 131)"
         },
         "name": "Bookmaker Odds",
         "r": [
          0.5050505050505051,
          0.273972602739726,
          0.26666666666666666,
          0.5464480874316939,
          0.5050505050505051,
          0.5882352941176471,
          0.48309178743961356
         ],
         "subplot": "polar",
         "theta": [
          "Home",
          "Draw",
          "Away",
          "Over",
          "Under",
          "GG",
          "NG"
         ],
         "type": "scatterpolar",
         "visible": false
        },
        {
         "fill": "toself",
         "hovertemplate": "%{theta}<br>Prob: %{r:.2f}<br>Predicted Odds",
         "marker": {
          "color": "rgb(141,211,199)"
         },
         "name": "Predicted Odds",
         "r": [
          0.618629225842006,
          0.2119715070825417,
          0.16939807271593982,
          0.5534307934428586,
          0.44656920655714133,
          0.519104641722741,
          0.480894163917747
         ],
         "subplot": "polar",
         "theta": [
          "Home",
          "Draw",
          "Away",
          "Over",
          "Under",
          "GG",
          "NG"
         ],
         "type": "scatterpolar",
         "visible": false
        },
        {
         "hovertemplate": "Score %{x}<br>Prob: %{y:.3f}",
         "marker": {
          "color": [
           0.10889809781482042,
           0.10747997408486219,
           0.10055942689298637,
           0.0992498933711939,
           0.07072021189893547,
           0.06530494215243914,
           0.055167466352024463,
           0.05094311940077516,
           0.046429637156020435,
           0.04582500795178707,
           0.03489962953760196,
           0.03222725479600774,
           0.03015216834777058,
           0.023521122011672724,
           0.014879756109843344,
           0.014291457784684106,
           0.014105347505194923,
           0.009281107229221052,
           0.007240011830129861,
           0.004580122079688646,
           0.003299278943184523,
           0.003256314136131257,
           0.0021426058917252367,
           0.0016714053205372343,
           0.0010573519204545771
          ],
          "colorscale": [
           [
            0,
            "rgb(210, 251, 212)"
           ],
           [
            0.16666666666666666,
            "rgb(165, 219, 194)"
           ],
           [
            0.3333333333333333,
            "rgb(123, 188, 176)"
           ],
           [
            0.5,
            "rgb(85, 156, 158)"
           ],
           [
            0.6666666666666666,
            "rgb(58, 124, 137)"
           ],
           [
            0.8333333333333334,
            "rgb(35, 93, 114)"
           ],
           [
            1,
            "rgb(18, 63, 90)"
           ]
          ]
         },
         "name": "Propable Scoreline",
         "type": "bar",
         "visible": false,
         "x": [
          "1 - 0",
          "2 - 0",
          "1 - 1",
          "2 - 1",
          "3 - 0",
          "3 - 1",
          "0 - 0",
          "0 - 1",
          "1 - 2",
          "2 - 2",
          "4 - 0",
          "4 - 1",
          "3 - 2",
          "0 - 2",
          "Other",
          "Other",
          "Other",
          "Other",
          "Other",
          "Other",
          "Other",
          "Other",
          "Other",
          "Other",
          "Other"
         ],
         "xaxis": "x",
         "y": [
          0.10889809781482042,
          0.10747997408486219,
          0.10055942689298637,
          0.0992498933711939,
          0.07072021189893547,
          0.06530494215243914,
          0.055167466352024463,
          0.05094311940077516,
          0.046429637156020435,
          0.04582500795178707,
          0.03489962953760196,
          0.03222725479600774,
          0.03015216834777058,
          0.023521122011672724,
          0.014879756109843344,
          0.014291457784684106,
          0.014105347505194923,
          0.009281107229221052,
          0.007240011830129861,
          0.004580122079688646,
          0.003299278943184523,
          0.003256314136131257,
          0.0021426058917252367,
          0.0016714053205372343,
          0.0010573519204545771
         ],
         "yaxis": "y"
        },
        {
         "fill": "toself",
         "hovertemplate": "%{theta}<br>Prob: %{r:.2f}<br>Bookmaker Odds",
         "marker": {
          "color": "rgb(82, 106, 131)"
         },
         "name": "Bookmaker Odds",
         "r": [
          0.5555555555555556,
          0.273972602739726,
          0.2222222222222222,
          0.5050505050505051,
          0.5464480874316939,
          0.5405405405405405,
          0.5319148936170213
         ],
         "subplot": "polar",
         "theta": [
          "Home",
          "Draw",
          "Away",
          "Over",
          "Under",
          "GG",
          "NG"
         ],
         "type": "scatterpolar",
         "visible": false
        },
        {
         "fill": "toself",
         "hovertemplate": "%{theta}<br>Prob: %{r:.2f}<br>Predicted Odds",
         "marker": {
          "color": "rgb(141,211,199)"
         },
         "name": "Predicted Odds",
         "r": [
          0.624993737308695,
          0.2109316152140859,
          0.16407343627368007,
          0.5485517495544546,
          0.4514482504455454,
          0.5111169279383798,
          0.48888186085808083
         ],
         "subplot": "polar",
         "theta": [
          "Home",
          "Draw",
          "Away",
          "Over",
          "Under",
          "GG",
          "NG"
         ],
         "type": "scatterpolar",
         "visible": false
        },
        {
         "hovertemplate": "Score %{x}<br>Prob: %{y:.3f}",
         "marker": {
          "color": [
           0.11136301707701947,
           0.11006463744112552,
           0.10019304536686684,
           0.09902489625258262,
           0.07252093039510071,
           0.06524691104676551,
           0.056338356536768275,
           0.05068748728744678,
           0.04507172400395833,
           0.04454623349429569,
           0.03583770501345818,
           0.03224309917694185,
           0.029351246446723284,
           0.02280170673631845,
           0.014504520366799424,
           0.01351697480432631,
           0.01335938061115991,
           0.008802415870781599,
           0.006838214030228488,
           0.0043498943224281215,
           0.003040297635021898,
           0.0030048508534962245,
           0.00197987823028648,
           0.001538081282597569,
           0.000978397430824577
          ],
          "colorscale": [
           [
            0,
            "rgb(210, 251, 212)"
           ],
           [
            0.16666666666666666,
            "rgb(165, 219, 194)"
           ],
           [
            0.3333333333333333,
            "rgb(123, 188, 176)"
           ],
           [
            0.5,
            "rgb(85, 156, 158)"
           ],
           [
            0.6666666666666666,
            "rgb(58, 124, 137)"
           ],
           [
            0.8333333333333334,
            "rgb(35, 93, 114)"
           ],
           [
            1,
            "rgb(18, 63, 90)"
           ]
          ]
         },
         "name": "Propable Scoreline",
         "type": "bar",
         "visible": false,
         "x": [
          "1 - 0",
          "2 - 0",
          "1 - 1",
          "2 - 1",
          "3 - 0",
          "3 - 1",
          "0 - 0",
          "0 - 1",
          "1 - 2",
          "2 - 2",
          "4 - 0",
          "4 - 1",
          "3 - 2",
          "0 - 2",
          "Other",
          "Other",
          "Other",
          "Other",
          "Other",
          "Other",
          "Other",
          "Other",
          "Other",
          "Other",
          "Other"
         ],
         "xaxis": "x",
         "y": [
          0.11136301707701947,
          0.11006463744112552,
          0.10019304536686684,
          0.09902489625258262,
          0.07252093039510071,
          0.06524691104676551,
          0.056338356536768275,
          0.05068748728744678,
          0.04507172400395833,
          0.04454623349429569,
          0.03583770501345818,
          0.03224309917694185,
          0.029351246446723284,
          0.02280170673631845,
          0.014504520366799424,
          0.01351697480432631,
          0.01335938061115991,
          0.008802415870781599,
          0.006838214030228488,
          0.0043498943224281215,
          0.003040297635021898,
          0.0030048508534962245,
          0.00197987823028648,
          0.001538081282597569,
          0.000978397430824577
         ],
         "yaxis": "y"
        },
        {
         "fill": "toself",
         "hovertemplate": "%{theta}<br>Prob: %{r:.2f}<br>Bookmaker Odds",
         "marker": {
          "color": "rgb(82, 106, 131)"
         },
         "name": "Bookmaker Odds",
         "r": [
          0.6060606060606061,
          0.24390243902439027,
          0.2040816326530612,
          0.6060606060606061,
          0.44052863436123346,
          0.6060606060606061,
          0.46511627906976744
         ],
         "subplot": "polar",
         "theta": [
          "Home",
          "Draw",
          "Away",
          "Over",
          "Under",
          "GG",
          "NG"
         ],
         "type": "scatterpolar",
         "visible": false
        },
        {
         "fill": "toself",
         "hovertemplate": "%{theta}<br>Prob: %{r:.2f}<br>Predicted Odds",
         "marker": {
          "color": "rgb(141,211,199)"
         },
         "name": "Predicted Odds",
         "r": [
          0.555106326836835,
          0.21042760276892386,
          0.23446401214081894,
          0.6556840274315294,
          0.3443159725684706,
          0.6355268590783947,
          0.3644710826681833
         ],
         "subplot": "polar",
         "theta": [
          "Home",
          "Draw",
          "Away",
          "Over",
          "Under",
          "GG",
          "NG"
         ],
         "type": "scatterpolar",
         "visible": false
        },
        {
         "hovertemplate": "Score %{x}<br>Prob: %{y:.3f}",
         "marker": {
          "color": [
           0.09585007300501994,
           0.09210550421880444,
           0.0740108464339682,
           0.07111946934150097,
           0.06649791868567442,
           0.062066824916429106,
           0.05964206416294079,
           0.051346515383104585,
           0.04425361213316918,
           0.04306010988801787,
           0.03460070282858556,
           0.03417052474821634,
           0.02865601569281145,
           0.026793864170243663,
           0.026717009421784135,
           0.02574710996037741,
           0.02240536388881769,
           0.018588782929508607,
           0.012370624615765106,
           0.009672256918735293,
           0.008675058996574787,
           0.008336151011231358,
           0.006018496905239144,
           0.004005241561440172,
           0.003131590085958635
          ],
          "colorscale": [
           [
            0,
            "rgb(210, 251, 212)"
           ],
           [
            0.16666666666666666,
            "rgb(165, 219, 194)"
           ],
           [
            0.3333333333333333,
            "rgb(123, 188, 176)"
           ],
           [
            0.5,
            "rgb(85, 156, 158)"
           ],
           [
            0.6666666666666666,
            "rgb(58, 124, 137)"
           ],
           [
            0.8333333333333334,
            "rgb(35, 93, 114)"
           ],
           [
            1,
            "rgb(18, 63, 90)"
           ]
          ]
         },
         "name": "Propable Scoreline",
         "type": "bar",
         "visible": false,
         "x": [
          "2 - 1",
          "1 - 1",
          "2 - 0",
          "1 - 0",
          "3 - 1",
          "2 - 2",
          "1 - 2",
          "3 - 0",
          "0 - 1",
          "3 - 2",
          "4 - 1",
          "0 - 0",
          "0 - 2",
          "2 - 3",
          "4 - 0",
          "1 - 3",
          "4 - 2",
          "Other",
          "Other",
          "Other",
          "Other",
          "Other",
          "Other",
          "Other",
          "Other"
         ],
         "xaxis": "x",
         "y": [
          0.09585007300501994,
          0.09210550421880444,
          0.0740108464339682,
          0.07111946934150097,
          0.06649791868567442,
          0.062066824916429106,
          0.05964206416294079,
          0.051346515383104585,
          0.04425361213316918,
          0.04306010988801787,
          0.03460070282858556,
          0.03417052474821634,
          0.02865601569281145,
          0.026793864170243663,
          0.026717009421784135,
          0.02574710996037741,
          0.02240536388881769,
          0.018588782929508607,
          0.012370624615765106,
          0.009672256918735293,
          0.008675058996574787,
          0.008336151011231358,
          0.006018496905239144,
          0.004005241561440172,
          0.003131590085958635
         ],
         "yaxis": "y"
        },
        {
         "fill": "toself",
         "hovertemplate": "%{theta}<br>Prob: %{r:.2f}<br>Bookmaker Odds",
         "marker": {
          "color": "rgb(82, 106, 131)"
         },
         "name": "Bookmaker Odds",
         "r": [
          0.5181347150259068,
          0.28169014084507044,
          0.25,
          0.5,
          0.5494505494505494,
          0.5464480874316939,
          0.5235602094240838
         ],
         "subplot": "polar",
         "theta": [
          "Home",
          "Draw",
          "Away",
          "Over",
          "Under",
          "GG",
          "NG"
         ],
         "type": "scatterpolar",
         "visible": false
        },
        {
         "fill": "toself",
         "hovertemplate": "%{theta}<br>Prob: %{r:.2f}<br>Predicted Odds",
         "marker": {
          "color": "rgb(141,211,199)"
         },
         "name": "Predicted Odds",
         "r": [
          0.48591814923210197,
          0.25332692199457807,
          0.2607548263237389,
          0.4877736622709531,
          0.5122263377290469,
          0.518038178935685,
          0.4819617186147345
         ],
         "subplot": "polar",
         "theta": [
          "Home",
          "Draw",
          "Away",
          "Over",
          "Under",
          "GG",
          "NG"
         ],
         "type": "scatterpolar",
         "visible": false
        },
        {
         "hovertemplate": "Score %{x}<br>Prob: %{y:.3f}",
         "marker": {
          "color": [
           0.1204921258372981,
           0.11274761601220785,
           0.09374843236798616,
           0.08772284645923514,
           0.0774325075207823,
           0.07245561122063882,
           0.06438429876521422,
           0.05009395457510046,
           0.048627070083801995,
           0.04550161421345015,
           0.04137563067888469,
           0.02598360504137922,
           0.022935595161274205,
           0.018917051879225346,
           0.017844951085846328,
           0.017701177454881405,
           0.014739225758346094,
           0.010108221690716361,
           0.009256130104526337,
           0.006127753996205008,
           0.004767675290720589,
           0.003937911744020135,
           0.0036008481096316517,
           0.002472980877041852,
           0.0009620466021644218
          ],
          "colorscale": [
           [
            0,
            "rgb(210, 251, 212)"
           ],
           [
            0.16666666666666666,
            "rgb(165, 219, 194)"
           ],
           [
            0.3333333333333333,
            "rgb(123, 188, 176)"
           ],
           [
            0.5,
            "rgb(85, 156, 158)"
           ],
           [
            0.6666666666666666,
            "rgb(58, 124, 137)"
           ],
           [
            0.8333333333333334,
            "rgb(35, 93, 114)"
           ],
           [
            1,
            "rgb(18, 63, 90)"
           ]
          ]
         },
         "name": "Propable Scoreline",
         "type": "bar",
         "visible": false,
         "x": [
          "1 - 1",
          "1 - 0",
          "2 - 1",
          "2 - 0",
          "0 - 1",
          "0 - 0",
          "1 - 2",
          "2 - 2",
          "3 - 1",
          "3 - 0",
          "0 - 2",
          "3 - 2",
          "1 - 3",
          "Other",
          "Other",
          "Other",
          "Other",
          "Other",
          "Other",
          "Other",
          "Other",
          "Other",
          "Other",
          "Other",
          "Other"
         ],
         "xaxis": "x",
         "y": [
          0.1204921258372981,
          0.11274761601220785,
          0.09374843236798616,
          0.08772284645923514,
          0.0774325075207823,
          0.07245561122063882,
          0.06438429876521422,
          0.05009395457510046,
          0.048627070083801995,
          0.04550161421345015,
          0.04137563067888469,
          0.02598360504137922,
          0.022935595161274205,
          0.018917051879225346,
          0.017844951085846328,
          0.017701177454881405,
          0.014739225758346094,
          0.010108221690716361,
          0.009256130104526337,
          0.006127753996205008,
          0.004767675290720589,
          0.003937911744020135,
          0.0036008481096316517,
          0.002472980877041852,
          0.0009620466021644218
         ],
         "yaxis": "y"
        },
        {
         "fill": "toself",
         "hovertemplate": "%{theta}<br>Prob: %{r:.2f}<br>Bookmaker Odds",
         "marker": {
          "color": "rgb(82, 106, 131)"
         },
         "name": "Bookmaker Odds",
         "r": [
          0.29850746268656714,
          0.30303030303030304,
          0.4504504504504504,
          0.53475935828877,
          0.5128205128205129,
          0.6060606060606061,
          0.46511627906976744
         ],
         "subplot": "polar",
         "theta": [
          "Home",
          "Draw",
          "Away",
          "Over",
          "Under",
          "GG",
          "NG"
         ],
         "type": "scatterpolar",
         "visible": false
        },
        {
         "fill": "toself",
         "hovertemplate": "%{theta}<br>Prob: %{r:.2f}<br>Predicted Odds",
         "marker": {
          "color": "rgb(141,211,199)"
         },
         "name": "Predicted Odds",
         "r": [
          0.1903579081407449,
          0.20188759474527831,
          0.6077516523838254,
          0.6355365682792998,
          0.36446343172070017,
          0.5965850790206294,
          0.40341207624921877
         ],
         "subplot": "polar",
         "theta": [
          "Home",
          "Draw",
          "Away",
          "Over",
          "Under",
          "GG",
          "NG"
         ],
         "type": "scatterpolar",
         "visible": false
        },
        {
         "hovertemplate": "Score %{x}<br>Prob: %{y:.3f}",
         "marker": {
          "color": [
           0.09833135292901056,
           0.0914495379975051,
           0.08744166960749315,
           0.08132197970578858,
           0.07048736152254388,
           0.0626812546981624,
           0.05528859988751325,
           0.05141917369826303,
           0.04252467677320953,
           0.039632806955884524,
           0.03789585915183691,
           0.03781529111323132,
           0.033699090846835984,
           0.023910276523472496,
           0.021307639238443973,
           0.02072468367729657,
           0.019274246626113996,
           0.01485617991910067,
           0.008962659908079392,
           0.007987072995611095,
           0.005826416038720401,
           0.005418648671567667,
           0.004176579305265189,
           0.0025197096491868846,
           0.002245438865493433
          ],
          "colorscale": [
           [
            0,
            "rgb(210, 251, 212)"
           ],
           [
            0.16666666666666666,
            "rgb(165, 219, 194)"
           ],
           [
            0.3333333333333333,
            "rgb(123, 188, 176)"
           ],
           [
            0.5,
            "rgb(85, 156, 158)"
           ],
           [
            0.6666666666666666,
            "rgb(58, 124, 137)"
           ],
           [
            0.8333333333333334,
            "rgb(35, 93, 114)"
           ],
           [
            1,
            "rgb(18, 63, 90)"
           ]
          ]
         },
         "name": "Propable Scoreline",
         "type": "bar",
         "visible": false,
         "x": [
          "1 - 2",
          "1 - 1",
          "0 - 2",
          "0 - 1",
          "1 - 3",
          "0 - 3",
          "2 - 2",
          "2 - 1",
          "1 - 0",
          "2 - 3",
          "1 - 4",
          "0 - 0",
          "0 - 4",
          "2 - 0",
          "2 - 4",
          "3 - 2",
          "Other",
          "Other",
          "Other",
          "Other",
          "Other",
          "Other",
          "Other",
          "Other",
          "Other"
         ],
         "xaxis": "x",
         "y": [
          0.09833135292901056,
          0.0914495379975051,
          0.08744166960749315,
          0.08132197970578858,
          0.07048736152254388,
          0.0626812546981624,
          0.05528859988751325,
          0.05141917369826303,
          0.04252467677320953,
          0.039632806955884524,
          0.03789585915183691,
          0.03781529111323132,
          0.033699090846835984,
          0.023910276523472496,
          0.021307639238443973,
          0.02072468367729657,
          0.019274246626113996,
          0.01485617991910067,
          0.008962659908079392,
          0.007987072995611095,
          0.005826416038720401,
          0.005418648671567667,
          0.004176579305265189,
          0.0025197096491868846,
          0.002245438865493433
         ],
         "yaxis": "y"
        },
        {
         "fill": "toself",
         "hovertemplate": "%{theta}<br>Prob: %{r:.2f}<br>Bookmaker Odds",
         "marker": {
          "color": "rgb(82, 106, 131)"
         },
         "name": "Bookmaker Odds",
         "r": [
          0.37735849056603776,
          0.25,
          0.425531914893617,
          0.5181347150259068,
          0.53475935828877,
          0.7407407407407407,
          0.3333333333333333
         ],
         "subplot": "polar",
         "theta": [
          "Home",
          "Draw",
          "Away",
          "Over",
          "Under",
          "GG",
          "NG"
         ],
         "type": "scatterpolar",
         "visible": false
        },
        {
         "fill": "toself",
         "hovertemplate": "%{theta}<br>Prob: %{r:.2f}<br>Predicted Odds",
         "marker": {
          "color": "rgb(141,211,199)"
         },
         "name": "Predicted Odds",
         "r": [
          0.40999530160705744,
          0.21709875388313302,
          0.3729048102250059,
          0.7079260179749867,
          0.2920739820250134,
          0.7047117393375347,
          0.29528712637766175
         ],
         "subplot": "polar",
         "theta": [
          "Home",
          "Draw",
          "Away",
          "Over",
          "Under",
          "GG",
          "NG"
         ],
         "type": "scatterpolar",
         "visible": false
        },
        {
         "hovertemplate": "Score %{x}<br>Prob: %{y:.3f}",
         "marker": {
          "color": [
           0.08607756480306707,
           0.08077169446714998,
           0.07679789458070305,
           0.07206402842581246,
           0.05052858734267356,
           0.04823925970158011,
           0.045865988149100964,
           0.0456790851020809,
           0.045265764137866225,
           0.0450813069925071,
           0.04286340016525137,
           0.04092136354894792,
           0.028317037694476615,
           0.02681418377244418,
           0.025704041684451107,
           0.024339865802978256,
           0.023706988156765963,
           0.021151234720158067,
           0.020377304877516555,
           0.019121236147843324,
           0.013285779645984699,
           0.012580671072706167,
           0.011961728142141817,
           0.010857942207834039,
           0.005612200188322257
          ],
          "colorscale": [
           [
            0,
            "rgb(210, 251, 212)"
           ],
           [
            0.16666666666666666,
            "rgb(165, 219, 194)"
           ],
           [
            0.3333333333333333,
            "rgb(123, 188, 176)"
           ],
           [
            0.5,
            "rgb(85, 156, 158)"
           ],
           [
            0.6666666666666666,
            "rgb(58, 124, 137)"
           ],
           [
            0.8333333333333334,
            "rgb(35, 93, 114)"
           ],
           [
            1,
            "rgb(18, 63, 90)"
           ]
          ]
         },
         "name": "Propable Scoreline",
         "type": "bar",
         "visible": false,
         "x": [
          "1 - 1",
          "2 - 1",
          "1 - 2",
          "2 - 2",
          "3 - 1",
          "1 - 0",
          "0 - 1",
          "1 - 3",
          "2 - 0",
          "3 - 2",
          "2 - 3",
          "0 - 2",
          "3 - 0",
          "3 - 3",
          "0 - 0",
          "0 - 3",
          "4 - 1",
          "4 - 2",
          "1 - 4",
          "Other",
          "Other",
          "Other",
          "Other",
          "Other",
          "Other"
         ],
         "xaxis": "x",
         "y": [
          0.08607756480306707,
          0.08077169446714998,
          0.07679789458070305,
          0.07206402842581246,
          0.05052858734267356,
          0.04823925970158011,
          0.045865988149100964,
          0.0456790851020809,
          0.045265764137866225,
          0.0450813069925071,
          0.04286340016525137,
          0.04092136354894792,
          0.028317037694476615,
          0.02681418377244418,
          0.025704041684451107,
          0.024339865802978256,
          0.023706988156765963,
          0.021151234720158067,
          0.020377304877516555,
          0.019121236147843324,
          0.013285779645984699,
          0.012580671072706167,
          0.011961728142141817,
          0.010857942207834039,
          0.005612200188322257
         ],
         "yaxis": "y"
        },
        {
         "fill": "toself",
         "hovertemplate": "%{theta}<br>Prob: %{r:.2f}<br>Bookmaker Odds",
         "marker": {
          "color": "rgb(82, 106, 131)"
         },
         "name": "Bookmaker Odds",
         "r": [
          0.3225806451612903,
          0.2631578947368421,
          0.46511627906976744,
          0.6060606060606061,
          0.4444444444444444,
          0.6451612903225806,
          0.425531914893617
         ],
         "subplot": "polar",
         "theta": [
          "Home",
          "Draw",
          "Away",
          "Over",
          "Under",
          "GG",
          "NG"
         ],
         "type": "scatterpolar",
         "visible": false
        },
        {
         "fill": "toself",
         "hovertemplate": "%{theta}<br>Prob: %{r:.2f}<br>Predicted Odds",
         "marker": {
          "color": "rgb(141,211,199)"
         },
         "name": "Predicted Odds",
         "r": [
          0.16945949049750103,
          0.2096714815578149,
          0.6208676437471283,
          0.5636837310595909,
          0.4363162689404091,
          0.5268660163757622,
          0.47313259942668173
         ],
         "subplot": "polar",
         "theta": [
          "Home",
          "Draw",
          "Away",
          "Over",
          "Under",
          "GG",
          "NG"
         ],
         "type": "scatterpolar",
         "visible": false
        },
        {
         "hovertemplate": "Score %{x}<br>Prob: %{y:.3f}",
         "marker": {
          "color": [
           0.10581314425499905,
           0.10566819221580802,
           0.09938243834329594,
           0.09924629564383206,
           0.07063886342298473,
           0.06634584519912909,
           0.052761719372257626,
           0.04955516972223371,
           0.046671276619739965,
           0.0466073422497209,
           0.03536788170900148,
           0.033218428088736845,
           0.03115686579517173,
           0.023271747731278596,
           0.015599802863027252,
           0.014611622855620432,
           0.014591606585016957,
           0.00975444438924298,
           0.007285808867220092,
           0.004883912602471511,
           0.0034309034046958353,
           0.003426203455098084,
           0.002290406534349938,
           0.0017107549719498367,
           0.0011467742181431298
          ],
          "colorscale": [
           [
            0,
            "rgb(210, 251, 212)"
           ],
           [
            0.16666666666666666,
            "rgb(165, 219, 194)"
           ],
           [
            0.3333333333333333,
            "rgb(123, 188, 176)"
           ],
           [
            0.5,
            "rgb(85, 156, 158)"
           ],
           [
            0.6666666666666666,
            "rgb(58, 124, 137)"
           ],
           [
            0.8333333333333334,
            "rgb(35, 93, 114)"
           ],
           [
            1,
            "rgb(18, 63, 90)"
           ]
          ]
         },
         "name": "Propable Scoreline",
         "type": "bar",
         "visible": false,
         "x": [
          "0 - 2",
          "0 - 1",
          "1 - 2",
          "1 - 1",
          "0 - 3",
          "1 - 3",
          "0 - 0",
          "1 - 0",
          "2 - 2",
          "2 - 1",
          "0 - 4",
          "1 - 4",
          "2 - 3",
          "2 - 0",
          "Other",
          "Other",
          "Other",
          "Other",
          "Other",
          "Other",
          "Other",
          "Other",
          "Other",
          "Other",
          "Other"
         ],
         "xaxis": "x",
         "y": [
          0.10581314425499905,
          0.10566819221580802,
          0.09938243834329594,
          0.09924629564383206,
          0.07063886342298473,
          0.06634584519912909,
          0.052761719372257626,
          0.04955516972223371,
          0.046671276619739965,
          0.0466073422497209,
          0.03536788170900148,
          0.033218428088736845,
          0.03115686579517173,
          0.023271747731278596,
          0.015599802863027252,
          0.014611622855620432,
          0.014591606585016957,
          0.00975444438924298,
          0.007285808867220092,
          0.004883912602471511,
          0.0034309034046958353,
          0.003426203455098084,
          0.002290406534349938,
          0.0017107549719498367,
          0.0011467742181431298
         ],
         "yaxis": "y"
        },
        {
         "fill": "toself",
         "hovertemplate": "%{theta}<br>Prob: %{r:.2f}<br>Bookmaker Odds",
         "marker": {
          "color": "rgb(82, 106, 131)"
         },
         "name": "Bookmaker Odds",
         "r": [
          0.3448275862068966,
          0.2857142857142857,
          0.42194092827004215,
          0.5617977528089888,
          0.48780487804878053,
          0.625,
          0.4444444444444444
         ],
         "subplot": "polar",
         "theta": [
          "Home",
          "Draw",
          "Away",
          "Over",
          "Under",
          "GG",
          "NG"
         ],
         "type": "scatterpolar",
         "visible": false
        },
        {
         "fill": "toself",
         "hovertemplate": "%{theta}<br>Prob: %{r:.2f}<br>Predicted Odds",
         "marker": {
          "color": "rgb(141,211,199)"
         },
         "name": "Predicted Odds",
         "r": [
          0.3597174448140578,
          0.2291770907551569,
          0.4111050446301393,
          0.6438640547335007,
          0.3561359452664993,
          0.6546131117302406,
          0.3453864684691139
         ],
         "subplot": "polar",
         "theta": [
          "Home",
          "Draw",
          "Away",
          "Over",
          "Under",
          "GG",
          "NG"
         ],
         "type": "scatterpolar",
         "visible": false
        },
        {
         "hovertemplate": "Score %{x}<br>Prob: %{y:.3f}",
         "marker": {
          "color": [
           0.09962813670383708,
           0.08564889331790863,
           0.07955637320621668,
           0.06839348347700802,
           0.06238196402788525,
           0.057944505985829446,
           0.05362888797036169,
           0.04908742429118732,
           0.04627061085325869,
           0.04235226932957431,
           0.03919793720774465,
           0.036409644078391534,
           0.03628183972532709,
           0.030735995248583746,
           0.02463241213650504,
           0.02109988054310814,
           0.02086723573337074,
           0.01690984623615896,
           0.016848954789590583,
           0.014537154504940544,
           0.013211649164388656,
           0.009834899245012489,
           0.008969633008795832,
           0.00833159009447883,
           0.0035812748023775817
          ],
          "colorscale": [
           [
            0,
            "rgb(210, 251, 212)"
           ],
           [
            0.16666666666666666,
            "rgb(165, 219, 194)"
           ],
           [
            0.3333333333333333,
            "rgb(123, 188, 176)"
           ],
           [
            0.5,
            "rgb(85, 156, 158)"
           ],
           [
            0.6666666666666666,
            "rgb(58, 124, 137)"
           ],
           [
            0.8333333333333334,
            "rgb(35, 93, 114)"
           ],
           [
            1,
            "rgb(18, 63, 90)"
           ]
          ]
         },
         "name": "Propable Scoreline",
         "type": "bar",
         "visible": false,
         "x": [
          "1 - 1",
          "1 - 2",
          "2 - 1",
          "2 - 2",
          "0 - 1",
          "1 - 0",
          "0 - 2",
          "1 - 3",
          "2 - 0",
          "3 - 1",
          "2 - 3",
          "3 - 2",
          "0 - 0",
          "0 - 3",
          "3 - 0",
          "1 - 4",
          "3 - 3",
          "Other",
          "Other",
          "Other",
          "Other",
          "Other",
          "Other",
          "Other",
          "Other"
         ],
         "xaxis": "x",
         "y": [
          0.09962813670383708,
          0.08564889331790863,
          0.07955637320621668,
          0.06839348347700802,
          0.06238196402788525,
          0.057944505985829446,
          0.05362888797036169,
          0.04908742429118732,
          0.04627061085325869,
          0.04235226932957431,
          0.03919793720774465,
          0.036409644078391534,
          0.03628183972532709,
          0.030735995248583746,
          0.02463241213650504,
          0.02109988054310814,
          0.02086723573337074,
          0.01690984623615896,
          0.016848954789590583,
          0.014537154504940544,
          0.013211649164388656,
          0.009834899245012489,
          0.008969633008795832,
          0.00833159009447883,
          0.0035812748023775817
         ],
         "yaxis": "y"
        }
       ],
       "layout": {
        "height": 650,
        "polar": {
         "domain": {
          "x": [
           0,
           0.29700000000000004
          ],
          "y": [
           0,
           1
          ]
         }
        },
        "template": {
         "data": {
          "bar": [
           {
            "error_x": {
             "color": "#2a3f5f"
            },
            "error_y": {
             "color": "#2a3f5f"
            },
            "marker": {
             "line": {
              "color": "#E5ECF6",
              "width": 0.5
             },
             "pattern": {
              "fillmode": "overlay",
              "size": 10,
              "solidity": 0.2
             }
            },
            "type": "bar"
           }
          ],
          "barpolar": [
           {
            "marker": {
             "line": {
              "color": "#E5ECF6",
              "width": 0.5
             },
             "pattern": {
              "fillmode": "overlay",
              "size": 10,
              "solidity": 0.2
             }
            },
            "type": "barpolar"
           }
          ],
          "carpet": [
           {
            "aaxis": {
             "endlinecolor": "#2a3f5f",
             "gridcolor": "white",
             "linecolor": "white",
             "minorgridcolor": "white",
             "startlinecolor": "#2a3f5f"
            },
            "baxis": {
             "endlinecolor": "#2a3f5f",
             "gridcolor": "white",
             "linecolor": "white",
             "minorgridcolor": "white",
             "startlinecolor": "#2a3f5f"
            },
            "type": "carpet"
           }
          ],
          "choropleth": [
           {
            "colorbar": {
             "outlinewidth": 0,
             "ticks": ""
            },
            "type": "choropleth"
           }
          ],
          "contour": [
           {
            "colorbar": {
             "outlinewidth": 0,
             "ticks": ""
            },
            "colorscale": [
             [
              0,
              "#0d0887"
             ],
             [
              0.1111111111111111,
              "#46039f"
             ],
             [
              0.2222222222222222,
              "#7201a8"
             ],
             [
              0.3333333333333333,
              "#9c179e"
             ],
             [
              0.4444444444444444,
              "#bd3786"
             ],
             [
              0.5555555555555556,
              "#d8576b"
             ],
             [
              0.6666666666666666,
              "#ed7953"
             ],
             [
              0.7777777777777778,
              "#fb9f3a"
             ],
             [
              0.8888888888888888,
              "#fdca26"
             ],
             [
              1,
              "#f0f921"
             ]
            ],
            "type": "contour"
           }
          ],
          "contourcarpet": [
           {
            "colorbar": {
             "outlinewidth": 0,
             "ticks": ""
            },
            "type": "contourcarpet"
           }
          ],
          "heatmap": [
           {
            "colorbar": {
             "outlinewidth": 0,
             "ticks": ""
            },
            "colorscale": [
             [
              0,
              "#0d0887"
             ],
             [
              0.1111111111111111,
              "#46039f"
             ],
             [
              0.2222222222222222,
              "#7201a8"
             ],
             [
              0.3333333333333333,
              "#9c179e"
             ],
             [
              0.4444444444444444,
              "#bd3786"
             ],
             [
              0.5555555555555556,
              "#d8576b"
             ],
             [
              0.6666666666666666,
              "#ed7953"
             ],
             [
              0.7777777777777778,
              "#fb9f3a"
             ],
             [
              0.8888888888888888,
              "#fdca26"
             ],
             [
              1,
              "#f0f921"
             ]
            ],
            "type": "heatmap"
           }
          ],
          "heatmapgl": [
           {
            "colorbar": {
             "outlinewidth": 0,
             "ticks": ""
            },
            "colorscale": [
             [
              0,
              "#0d0887"
             ],
             [
              0.1111111111111111,
              "#46039f"
             ],
             [
              0.2222222222222222,
              "#7201a8"
             ],
             [
              0.3333333333333333,
              "#9c179e"
             ],
             [
              0.4444444444444444,
              "#bd3786"
             ],
             [
              0.5555555555555556,
              "#d8576b"
             ],
             [
              0.6666666666666666,
              "#ed7953"
             ],
             [
              0.7777777777777778,
              "#fb9f3a"
             ],
             [
              0.8888888888888888,
              "#fdca26"
             ],
             [
              1,
              "#f0f921"
             ]
            ],
            "type": "heatmapgl"
           }
          ],
          "histogram": [
           {
            "marker": {
             "pattern": {
              "fillmode": "overlay",
              "size": 10,
              "solidity": 0.2
             }
            },
            "type": "histogram"
           }
          ],
          "histogram2d": [
           {
            "colorbar": {
             "outlinewidth": 0,
             "ticks": ""
            },
            "colorscale": [
             [
              0,
              "#0d0887"
             ],
             [
              0.1111111111111111,
              "#46039f"
             ],
             [
              0.2222222222222222,
              "#7201a8"
             ],
             [
              0.3333333333333333,
              "#9c179e"
             ],
             [
              0.4444444444444444,
              "#bd3786"
             ],
             [
              0.5555555555555556,
              "#d8576b"
             ],
             [
              0.6666666666666666,
              "#ed7953"
             ],
             [
              0.7777777777777778,
              "#fb9f3a"
             ],
             [
              0.8888888888888888,
              "#fdca26"
             ],
             [
              1,
              "#f0f921"
             ]
            ],
            "type": "histogram2d"
           }
          ],
          "histogram2dcontour": [
           {
            "colorbar": {
             "outlinewidth": 0,
             "ticks": ""
            },
            "colorscale": [
             [
              0,
              "#0d0887"
             ],
             [
              0.1111111111111111,
              "#46039f"
             ],
             [
              0.2222222222222222,
              "#7201a8"
             ],
             [
              0.3333333333333333,
              "#9c179e"
             ],
             [
              0.4444444444444444,
              "#bd3786"
             ],
             [
              0.5555555555555556,
              "#d8576b"
             ],
             [
              0.6666666666666666,
              "#ed7953"
             ],
             [
              0.7777777777777778,
              "#fb9f3a"
             ],
             [
              0.8888888888888888,
              "#fdca26"
             ],
             [
              1,
              "#f0f921"
             ]
            ],
            "type": "histogram2dcontour"
           }
          ],
          "mesh3d": [
           {
            "colorbar": {
             "outlinewidth": 0,
             "ticks": ""
            },
            "type": "mesh3d"
           }
          ],
          "parcoords": [
           {
            "line": {
             "colorbar": {
              "outlinewidth": 0,
              "ticks": ""
             }
            },
            "type": "parcoords"
           }
          ],
          "pie": [
           {
            "automargin": true,
            "type": "pie"
           }
          ],
          "scatter": [
           {
            "fillpattern": {
             "fillmode": "overlay",
             "size": 10,
             "solidity": 0.2
            },
            "type": "scatter"
           }
          ],
          "scatter3d": [
           {
            "line": {
             "colorbar": {
              "outlinewidth": 0,
              "ticks": ""
             }
            },
            "marker": {
             "colorbar": {
              "outlinewidth": 0,
              "ticks": ""
             }
            },
            "type": "scatter3d"
           }
          ],
          "scattercarpet": [
           {
            "marker": {
             "colorbar": {
              "outlinewidth": 0,
              "ticks": ""
             }
            },
            "type": "scattercarpet"
           }
          ],
          "scattergeo": [
           {
            "marker": {
             "colorbar": {
              "outlinewidth": 0,
              "ticks": ""
             }
            },
            "type": "scattergeo"
           }
          ],
          "scattergl": [
           {
            "marker": {
             "colorbar": {
              "outlinewidth": 0,
              "ticks": ""
             }
            },
            "type": "scattergl"
           }
          ],
          "scattermapbox": [
           {
            "marker": {
             "colorbar": {
              "outlinewidth": 0,
              "ticks": ""
             }
            },
            "type": "scattermapbox"
           }
          ],
          "scatterpolar": [
           {
            "marker": {
             "colorbar": {
              "outlinewidth": 0,
              "ticks": ""
             }
            },
            "type": "scatterpolar"
           }
          ],
          "scatterpolargl": [
           {
            "marker": {
             "colorbar": {
              "outlinewidth": 0,
              "ticks": ""
             }
            },
            "type": "scatterpolargl"
           }
          ],
          "scatterternary": [
           {
            "marker": {
             "colorbar": {
              "outlinewidth": 0,
              "ticks": ""
             }
            },
            "type": "scatterternary"
           }
          ],
          "surface": [
           {
            "colorbar": {
             "outlinewidth": 0,
             "ticks": ""
            },
            "colorscale": [
             [
              0,
              "#0d0887"
             ],
             [
              0.1111111111111111,
              "#46039f"
             ],
             [
              0.2222222222222222,
              "#7201a8"
             ],
             [
              0.3333333333333333,
              "#9c179e"
             ],
             [
              0.4444444444444444,
              "#bd3786"
             ],
             [
              0.5555555555555556,
              "#d8576b"
             ],
             [
              0.6666666666666666,
              "#ed7953"
             ],
             [
              0.7777777777777778,
              "#fb9f3a"
             ],
             [
              0.8888888888888888,
              "#fdca26"
             ],
             [
              1,
              "#f0f921"
             ]
            ],
            "type": "surface"
           }
          ],
          "table": [
           {
            "cells": {
             "fill": {
              "color": "#EBF0F8"
             },
             "line": {
              "color": "white"
             }
            },
            "header": {
             "fill": {
              "color": "#C8D4E3"
             },
             "line": {
              "color": "white"
             }
            },
            "type": "table"
           }
          ]
         },
         "layout": {
          "annotationdefaults": {
           "arrowcolor": "#2a3f5f",
           "arrowhead": 0,
           "arrowwidth": 1
          },
          "autotypenumbers": "strict",
          "coloraxis": {
           "colorbar": {
            "outlinewidth": 0,
            "ticks": ""
           }
          },
          "colorscale": {
           "diverging": [
            [
             0,
             "#8e0152"
            ],
            [
             0.1,
             "#c51b7d"
            ],
            [
             0.2,
             "#de77ae"
            ],
            [
             0.3,
             "#f1b6da"
            ],
            [
             0.4,
             "#fde0ef"
            ],
            [
             0.5,
             "#f7f7f7"
            ],
            [
             0.6,
             "#e6f5d0"
            ],
            [
             0.7,
             "#b8e186"
            ],
            [
             0.8,
             "#7fbc41"
            ],
            [
             0.9,
             "#4d9221"
            ],
            [
             1,
             "#276419"
            ]
           ],
           "sequential": [
            [
             0,
             "#0d0887"
            ],
            [
             0.1111111111111111,
             "#46039f"
            ],
            [
             0.2222222222222222,
             "#7201a8"
            ],
            [
             0.3333333333333333,
             "#9c179e"
            ],
            [
             0.4444444444444444,
             "#bd3786"
            ],
            [
             0.5555555555555556,
             "#d8576b"
            ],
            [
             0.6666666666666666,
             "#ed7953"
            ],
            [
             0.7777777777777778,
             "#fb9f3a"
            ],
            [
             0.8888888888888888,
             "#fdca26"
            ],
            [
             1,
             "#f0f921"
            ]
           ],
           "sequentialminus": [
            [
             0,
             "#0d0887"
            ],
            [
             0.1111111111111111,
             "#46039f"
            ],
            [
             0.2222222222222222,
             "#7201a8"
            ],
            [
             0.3333333333333333,
             "#9c179e"
            ],
            [
             0.4444444444444444,
             "#bd3786"
            ],
            [
             0.5555555555555556,
             "#d8576b"
            ],
            [
             0.6666666666666666,
             "#ed7953"
            ],
            [
             0.7777777777777778,
             "#fb9f3a"
            ],
            [
             0.8888888888888888,
             "#fdca26"
            ],
            [
             1,
             "#f0f921"
            ]
           ]
          },
          "colorway": [
           "#636efa",
           "#EF553B",
           "#00cc96",
           "#ab63fa",
           "#FFA15A",
           "#19d3f3",
           "#FF6692",
           "#B6E880",
           "#FF97FF",
           "#FECB52"
          ],
          "font": {
           "color": "#2a3f5f"
          },
          "geo": {
           "bgcolor": "white",
           "lakecolor": "white",
           "landcolor": "#E5ECF6",
           "showlakes": true,
           "showland": true,
           "subunitcolor": "white"
          },
          "hoverlabel": {
           "align": "left"
          },
          "hovermode": "closest",
          "mapbox": {
           "style": "light"
          },
          "paper_bgcolor": "white",
          "plot_bgcolor": "#E5ECF6",
          "polar": {
           "angularaxis": {
            "gridcolor": "white",
            "linecolor": "white",
            "ticks": ""
           },
           "bgcolor": "#E5ECF6",
           "radialaxis": {
            "gridcolor": "white",
            "linecolor": "white",
            "ticks": ""
           }
          },
          "scene": {
           "xaxis": {
            "backgroundcolor": "#E5ECF6",
            "gridcolor": "white",
            "gridwidth": 2,
            "linecolor": "white",
            "showbackground": true,
            "ticks": "",
            "zerolinecolor": "white"
           },
           "yaxis": {
            "backgroundcolor": "#E5ECF6",
            "gridcolor": "white",
            "gridwidth": 2,
            "linecolor": "white",
            "showbackground": true,
            "ticks": "",
            "zerolinecolor": "white"
           },
           "zaxis": {
            "backgroundcolor": "#E5ECF6",
            "gridcolor": "white",
            "gridwidth": 2,
            "linecolor": "white",
            "showbackground": true,
            "ticks": "",
            "zerolinecolor": "white"
           }
          },
          "shapedefaults": {
           "line": {
            "color": "#2a3f5f"
           }
          },
          "ternary": {
           "aaxis": {
            "gridcolor": "white",
            "linecolor": "white",
            "ticks": ""
           },
           "baxis": {
            "gridcolor": "white",
            "linecolor": "white",
            "ticks": ""
           },
           "bgcolor": "#E5ECF6",
           "caxis": {
            "gridcolor": "white",
            "linecolor": "white",
            "ticks": ""
           }
          },
          "title": {
           "x": 0.05
          },
          "xaxis": {
           "automargin": true,
           "gridcolor": "white",
           "linecolor": "white",
           "ticks": "",
           "title": {
            "standoff": 15
           },
           "zerolinecolor": "white",
           "zerolinewidth": 2
          },
          "yaxis": {
           "automargin": true,
           "gridcolor": "white",
           "linecolor": "white",
           "ticks": "",
           "title": {
            "standoff": 15
           },
           "zerolinecolor": "white",
           "zerolinewidth": 2
          }
         }
        },
        "updatemenus": [
         {
          "active": 0,
          "buttons": [
           {
            "args": [
             {
              "visible": [
               true,
               true,
               true,
               false,
               false,
               false,
               false,
               false,
               false,
               false,
               false,
               false,
               false,
               false,
               false,
               false,
               false,
               false,
               false,
               false,
               false,
               false,
               false,
               false,
               false,
               false,
               false,
               false,
               false,
               false,
               false,
               false,
               false,
               false,
               false,
               false,
               false,
               false,
               false,
               false,
               false,
               false,
               false,
               false,
               false,
               false,
               false,
               false,
               false,
               false,
               false,
               false,
               false,
               false,
               false,
               false,
               false,
               false,
               false,
               false,
               false,
               false,
               false
              ]
             }
            ],
            "label": "<b>Aston Villa-Brighton | '30/09/2023'</b>",
            "method": "restyle"
           },
           {
            "args": [
             {
              "visible": [
               false,
               false,
               false,
               true,
               true,
               true,
               false,
               false,
               false,
               false,
               false,
               false,
               false,
               false,
               false,
               false,
               false,
               false,
               false,
               false,
               false,
               false,
               false,
               false,
               false,
               false,
               false,
               false,
               false,
               false,
               false,
               false,
               false,
               false,
               false,
               false,
               false,
               false,
               false,
               false,
               false,
               false,
               false,
               false,
               false,
               false,
               false,
               false,
               false,
               false,
               false,
               false,
               false,
               false,
               false,
               false,
               false,
               false,
               false,
               false,
               false,
               false,
               false
              ]
             }
            ],
            "label": "<b>Bournemouth-Arsenal | '30/09/2023'</b>",
            "method": "restyle"
           },
           {
            "args": [
             {
              "visible": [
               false,
               false,
               false,
               false,
               false,
               false,
               true,
               true,
               true,
               false,
               false,
               false,
               false,
               false,
               false,
               false,
               false,
               false,
               false,
               false,
               false,
               false,
               false,
               false,
               false,
               false,
               false,
               false,
               false,
               false,
               false,
               false,
               false,
               false,
               false,
               false,
               false,
               false,
               false,
               false,
               false,
               false,
               false,
               false,
               false,
               false,
               false,
               false,
               false,
               false,
               false,
               false,
               false,
               false,
               false,
               false,
               false,
               false,
               false,
               false,
               false,
               false,
               false
              ]
             }
            ],
            "label": "<b>Everton-Luton | '30/09/2023'</b>",
            "method": "restyle"
           },
           {
            "args": [
             {
              "visible": [
               false,
               false,
               false,
               false,
               false,
               false,
               false,
               false,
               false,
               true,
               true,
               true,
               false,
               false,
               false,
               false,
               false,
               false,
               false,
               false,
               false,
               false,
               false,
               false,
               false,
               false,
               false,
               false,
               false,
               false,
               false,
               false,
               false,
               false,
               false,
               false,
               false,
               false,
               false,
               false,
               false,
               false,
               false,
               false,
               false,
               false,
               false,
               false,
               false,
               false,
               false,
               false,
               false,
               false,
               false,
               false,
               false,
               false,
               false,
               false,
               false,
               false,
               false
              ]
             }
            ],
            "label": "<b>Manchester United-Crystal Palace | '30/09/2023'</b>",
            "method": "restyle"
           },
           {
            "args": [
             {
              "visible": [
               false,
               false,
               false,
               false,
               false,
               false,
               false,
               false,
               false,
               false,
               false,
               false,
               true,
               true,
               true,
               false,
               false,
               false,
               false,
               false,
               false,
               false,
               false,
               false,
               false,
               false,
               false,
               false,
               false,
               false,
               false,
               false,
               false,
               false,
               false,
               false,
               false,
               false,
               false,
               false,
               false,
               false,
               false,
               false,
               false,
               false,
               false,
               false,
               false,
               false,
               false,
               false,
               false,
               false,
               false,
               false,
               false,
               false,
               false,
               false,
               false,
               false,
               false
              ]
             }
            ],
            "label": "<b>Newcastle United-Burnley | '30/09/2023'</b>",
            "method": "restyle"
           },
           {
            "args": [
             {
              "visible": [
               false,
               false,
               false,
               false,
               false,
               false,
               false,
               false,
               false,
               false,
               false,
               false,
               false,
               false,
               false,
               true,
               true,
               true,
               false,
               false,
               false,
               false,
               false,
               false,
               false,
               false,
               false,
               false,
               false,
               false,
               false,
               false,
               false,
               false,
               false,
               false,
               false,
               false,
               false,
               false,
               false,
               false,
               false,
               false,
               false,
               false,
               false,
               false,
               false,
               false,
               false,
               false,
               false,
               false,
               false,
               false,
               false,
               false,
               false,
               false,
               false,
               false,
               false
              ]
             }
            ],
            "label": "<b>West Ham-Sheffield United | '30/09/2023'</b>",
            "method": "restyle"
           },
           {
            "args": [
             {
              "visible": [
               false,
               false,
               false,
               false,
               false,
               false,
               false,
               false,
               false,
               false,
               false,
               false,
               false,
               false,
               false,
               false,
               false,
               false,
               true,
               true,
               true,
               false,
               false,
               false,
               false,
               false,
               false,
               false,
               false,
               false,
               false,
               false,
               false,
               false,
               false,
               false,
               false,
               false,
               false,
               false,
               false,
               false,
               false,
               false,
               false,
               false,
               false,
               false,
               false,
               false,
               false,
               false,
               false,
               false,
               false,
               false,
               false,
               false,
               false,
               false,
               false,
               false,
               false
              ]
             }
            ],
            "label": "<b>Wolverhampton Wanderers-Manchester City | '30/09/2023'</b>",
            "method": "restyle"
           },
           {
            "args": [
             {
              "visible": [
               false,
               false,
               false,
               false,
               false,
               false,
               false,
               false,
               false,
               false,
               false,
               false,
               false,
               false,
               false,
               false,
               false,
               false,
               false,
               false,
               false,
               true,
               true,
               true,
               false,
               false,
               false,
               false,
               false,
               false,
               false,
               false,
               false,
               false,
               false,
               false,
               false,
               false,
               false,
               false,
               false,
               false,
               false,
               false,
               false,
               false,
               false,
               false,
               false,
               false,
               false,
               false,
               false,
               false,
               false,
               false,
               false,
               false,
               false,
               false,
               false,
               false,
               false
              ]
             }
            ],
            "label": "<b>Tottenham-Liverpool | '30/09/2023'</b>",
            "method": "restyle"
           },
           {
            "args": [
             {
              "visible": [
               false,
               false,
               false,
               false,
               false,
               false,
               false,
               false,
               false,
               false,
               false,
               false,
               false,
               false,
               false,
               false,
               false,
               false,
               false,
               false,
               false,
               false,
               false,
               false,
               true,
               true,
               true,
               false,
               false,
               false,
               false,
               false,
               false,
               false,
               false,
               false,
               false,
               false,
               false,
               false,
               false,
               false,
               false,
               false,
               false,
               false,
               false,
               false,
               false,
               false,
               false,
               false,
               false,
               false,
               false,
               false,
               false,
               false,
               false,
               false,
               false,
               false,
               false
              ]
             }
            ],
            "label": "<b>Nottingham Forest-Brentford | '01/10/2023'</b>",
            "method": "restyle"
           },
           {
            "args": [
             {
              "visible": [
               false,
               false,
               false,
               false,
               false,
               false,
               false,
               false,
               false,
               false,
               false,
               false,
               false,
               false,
               false,
               false,
               false,
               false,
               false,
               false,
               false,
               false,
               false,
               false,
               false,
               false,
               false,
               true,
               true,
               true,
               false,
               false,
               false,
               false,
               false,
               false,
               false,
               false,
               false,
               false,
               false,
               false,
               false,
               false,
               false,
               false,
               false,
               false,
               false,
               false,
               false,
               false,
               false,
               false,
               false,
               false,
               false,
               false,
               false,
               false,
               false,
               false,
               false
              ]
             }
            ],
            "label": "<b>Fulham-Chelsea | '02/10/2023'</b>",
            "method": "restyle"
           },
           {
            "args": [
             {
              "visible": [
               false,
               false,
               false,
               false,
               false,
               false,
               false,
               false,
               false,
               false,
               false,
               false,
               false,
               false,
               false,
               false,
               false,
               false,
               false,
               false,
               false,
               false,
               false,
               false,
               false,
               false,
               false,
               false,
               false,
               false,
               true,
               true,
               true,
               false,
               false,
               false,
               false,
               false,
               false,
               false,
               false,
               false,
               false,
               false,
               false,
               false,
               false,
               false,
               false,
               false,
               false,
               false,
               false,
               false,
               false,
               false,
               false,
               false,
               false,
               false,
               false,
               false,
               false
              ]
             }
            ],
            "label": "<b>Luton-Burnley | '03/10/2023'</b>",
            "method": "restyle"
           },
           {
            "args": [
             {
              "visible": [
               false,
               false,
               false,
               false,
               false,
               false,
               false,
               false,
               false,
               false,
               false,
               false,
               false,
               false,
               false,
               false,
               false,
               false,
               false,
               false,
               false,
               false,
               false,
               false,
               false,
               false,
               false,
               false,
               false,
               false,
               false,
               false,
               false,
               true,
               true,
               true,
               false,
               false,
               false,
               false,
               false,
               false,
               false,
               false,
               false,
               false,
               false,
               false,
               false,
               false,
               false,
               false,
               false,
               false,
               false,
               false,
               false,
               false,
               false,
               false,
               false,
               false,
               false
              ]
             }
            ],
            "label": "<b>Luton-Tottenham | '07/10/2023'</b>",
            "method": "restyle"
           },
           {
            "args": [
             {
              "visible": [
               false,
               false,
               false,
               false,
               false,
               false,
               false,
               false,
               false,
               false,
               false,
               false,
               false,
               false,
               false,
               false,
               false,
               false,
               false,
               false,
               false,
               false,
               false,
               false,
               false,
               false,
               false,
               false,
               false,
               false,
               false,
               false,
               false,
               false,
               false,
               false,
               true,
               true,
               true,
               false,
               false,
               false,
               false,
               false,
               false,
               false,
               false,
               false,
               false,
               false,
               false,
               false,
               false,
               false,
               false,
               false,
               false,
               false,
               false,
               false,
               false,
               false,
               false
              ]
             }
            ],
            "label": "<b>Burnley-Chelsea | '07/10/2023'</b>",
            "method": "restyle"
           },
           {
            "args": [
             {
              "visible": [
               false,
               false,
               false,
               false,
               false,
               false,
               false,
               false,
               false,
               false,
               false,
               false,
               false,
               false,
               false,
               false,
               false,
               false,
               false,
               false,
               false,
               false,
               false,
               false,
               false,
               false,
               false,
               false,
               false,
               false,
               false,
               false,
               false,
               false,
               false,
               false,
               false,
               false,
               false,
               true,
               true,
               true,
               false,
               false,
               false,
               false,
               false,
               false,
               false,
               false,
               false,
               false,
               false,
               false,
               false,
               false,
               false,
               false,
               false,
               false,
               false,
               false,
               false
              ]
             }
            ],
            "label": "<b>Everton-Bournemouth | '07/10/2023'</b>",
            "method": "restyle"
           },
           {
            "args": [
             {
              "visible": [
               false,
               false,
               false,
               false,
               false,
               false,
               false,
               false,
               false,
               false,
               false,
               false,
               false,
               false,
               false,
               false,
               false,
               false,
               false,
               false,
               false,
               false,
               false,
               false,
               false,
               false,
               false,
               false,
               false,
               false,
               false,
               false,
               false,
               false,
               false,
               false,
               false,
               false,
               false,
               false,
               false,
               false,
               true,
               true,
               true,
               false,
               false,
               false,
               false,
               false,
               false,
               false,
               false,
               false,
               false,
               false,
               false,
               false,
               false,
               false,
               false,
               false,
               false
              ]
             }
            ],
            "label": "<b>Fulham-Sheffield United | '07/10/2023'</b>",
            "method": "restyle"
           },
           {
            "args": [
             {
              "visible": [
               false,
               false,
               false,
               false,
               false,
               false,
               false,
               false,
               false,
               false,
               false,
               false,
               false,
               false,
               false,
               false,
               false,
               false,
               false,
               false,
               false,
               false,
               false,
               false,
               false,
               false,
               false,
               false,
               false,
               false,
               false,
               false,
               false,
               false,
               false,
               false,
               false,
               false,
               false,
               false,
               false,
               false,
               false,
               false,
               false,
               true,
               true,
               true,
               false,
               false,
               false,
               false,
               false,
               false,
               false,
               false,
               false,
               false,
               false,
               false,
               false,
               false,
               false
              ]
             }
            ],
            "label": "<b>Manchester United-Brentford | '07/10/2023'</b>",
            "method": "restyle"
           },
           {
            "args": [
             {
              "visible": [
               false,
               false,
               false,
               false,
               false,
               false,
               false,
               false,
               false,
               false,
               false,
               false,
               false,
               false,
               false,
               false,
               false,
               false,
               false,
               false,
               false,
               false,
               false,
               false,
               false,
               false,
               false,
               false,
               false,
               false,
               false,
               false,
               false,
               false,
               false,
               false,
               false,
               false,
               false,
               false,
               false,
               false,
               false,
               false,
               false,
               false,
               false,
               false,
               true,
               true,
               true,
               false,
               false,
               false,
               false,
               false,
               false,
               false,
               false,
               false,
               false,
               false,
               false
              ]
             }
            ],
            "label": "<b>Crystal Palace-Nottingham Forest | '07/10/2023'</b>",
            "method": "restyle"
           },
           {
            "args": [
             {
              "visible": [
               false,
               false,
               false,
               false,
               false,
               false,
               false,
               false,
               false,
               false,
               false,
               false,
               false,
               false,
               false,
               false,
               false,
               false,
               false,
               false,
               false,
               false,
               false,
               false,
               false,
               false,
               false,
               false,
               false,
               false,
               false,
               false,
               false,
               false,
               false,
               false,
               false,
               false,
               false,
               false,
               false,
               false,
               false,
               false,
               false,
               false,
               false,
               false,
               false,
               false,
               false,
               true,
               true,
               true,
               false,
               false,
               false,
               false,
               false,
               false,
               false,
               false,
               false
              ]
             }
            ],
            "label": "<b>Wolverhampton Wanderers-Aston Villa | '08/10/2023'</b>",
            "method": "restyle"
           },
           {
            "args": [
             {
              "visible": [
               false,
               false,
               false,
               false,
               false,
               false,
               false,
               false,
               false,
               false,
               false,
               false,
               false,
               false,
               false,
               false,
               false,
               false,
               false,
               false,
               false,
               false,
               false,
               false,
               false,
               false,
               false,
               false,
               false,
               false,
               false,
               false,
               false,
               false,
               false,
               false,
               false,
               false,
               false,
               false,
               false,
               false,
               false,
               false,
               false,
               false,
               false,
               false,
               false,
               false,
               false,
               false,
               false,
               false,
               true,
               true,
               true,
               false,
               false,
               false,
               false,
               false,
               false
              ]
             }
            ],
            "label": "<b>Brighton-Liverpool | '08/10/2023'</b>",
            "method": "restyle"
           },
           {
            "args": [
             {
              "visible": [
               false,
               false,
               false,
               false,
               false,
               false,
               false,
               false,
               false,
               false,
               false,
               false,
               false,
               false,
               false,
               false,
               false,
               false,
               false,
               false,
               false,
               false,
               false,
               false,
               false,
               false,
               false,
               false,
               false,
               false,
               false,
               false,
               false,
               false,
               false,
               false,
               false,
               false,
               false,
               false,
               false,
               false,
               false,
               false,
               false,
               false,
               false,
               false,
               false,
               false,
               false,
               false,
               false,
               false,
               false,
               false,
               false,
               true,
               true,
               true,
               false,
               false,
               false
              ]
             }
            ],
            "label": "<b>West Ham-Newcastle United | '08/10/2023'</b>",
            "method": "restyle"
           },
           {
            "args": [
             {
              "visible": [
               false,
               false,
               false,
               false,
               false,
               false,
               false,
               false,
               false,
               false,
               false,
               false,
               false,
               false,
               false,
               false,
               false,
               false,
               false,
               false,
               false,
               false,
               false,
               false,
               false,
               false,
               false,
               false,
               false,
               false,
               false,
               false,
               false,
               false,
               false,
               false,
               false,
               false,
               false,
               false,
               false,
               false,
               false,
               false,
               false,
               false,
               false,
               false,
               false,
               false,
               false,
               false,
               false,
               false,
               false,
               false,
               false,
               false,
               false,
               false,
               true,
               true,
               true
              ]
             }
            ],
            "label": "<b>Arsenal-Manchester City | '08/10/2023'</b>",
            "method": "restyle"
           }
          ],
          "direction": "down",
          "x": 0.1,
          "y": 1.2
         }
        ],
        "width": 1500,
        "xaxis": {
         "anchor": "y",
         "domain": [
          0.397,
          1
         ]
        },
        "yaxis": {
         "anchor": "x",
         "domain": [
          0,
          1
         ]
        }
       }
      }
     },
     "metadata": {},
     "output_type": "display_data"
    }
   ],
   "source": [
    "# Create subplots\n",
    "fig = make_subplots(rows=1, cols=2, specs=[[{'type': 'polar'}, {'type': 'xy'}]], column_widths=[0.33, 0.67])\n",
    "fig.update_layout(width=1500, height=650)\n",
    "# create a list to store the buttons\n",
    "buttons = []\n",
    "categories = ['Home', 'Draw', 'Away', 'Over', 'Under', 'GG', 'NG']\n",
    "\n",
    "# loop through each match and create two traces for Bookmaker odds and predicted values\n",
    "for match_index, match in enumerate(Final_Odds['Match'].unique().tolist()):\n",
    "\n",
    "    # create the trace for Bookmaker odds\n",
    "    trace_bookmaker = go.Scatterpolar(\n",
    "      r=Final_Odds[(Final_Odds['Type']=='Bookmaker')  & (Final_Odds['Match']==match)][['P(Hwin)', 'P(Draw)', 'P(Awin)', 'P(Over)', 'P(Under)', 'P(GG)', 'P(NG)']].values.tolist()[0],\n",
    "      theta=categories,\n",
    "      fill='toself',\n",
    "      name='Bookmaker Odds',\n",
    "      marker = dict(color = 'rgb(82, 106, 131)' ),\n",
    "      visible=False if match_index!=0 else True,\n",
    "      hovertemplate='%{theta}<br>Prob: %{r:.2f}<br>Bookmaker Odds'\n",
    ")\n",
    "    fig.add_trace(trace_bookmaker, row=1, col=1)\n",
    "    # create the trace for predicted values\n",
    "    trace_predicted = go.Scatterpolar(\n",
    "        r= Final_Odds[(Final_Odds['Type']=='Predicted')  & (Final_Odds['Match']==match)][['P(Hwin)', 'P(Draw)', 'P(Awin)', 'P(Over)', 'P(Under)', 'P(GG)', 'P(NG)']].values.tolist()[0],\n",
    "        theta=categories,\n",
    "        fill='toself',\n",
    "        name='Predicted Odds',\n",
    "        marker = dict(color ='rgb(141,211,199)'), #'rgb(217, 175, 107)'\n",
    "        visible=False if match_index!=0 else True,\n",
    "        hovertemplate='%{theta}<br>Prob: %{r:.2f}<br>Predicted Odds'\n",
    "  )\n",
    "    fig.add_trace(trace_predicted, row=1, col=1)\n",
    "    \n",
    "    trace_goals = go.Bar(\n",
    "        x=Pie_list[match_index]['score'],\n",
    "        y=Pie_list[match_index]['P(score)'],\n",
    "        visible=False if match_index!=0 else True,\n",
    "        marker=dict(color=Pie_list[match_index]['P(score)'], colorscale='darkmint'),\n",
    "        name='Propable Scoreline',\n",
    "        hovertemplate='Score %{x}<br>Prob: %{y:.3f}'\n",
    "    )\n",
    "    fig.add_trace(trace_goals, row=1, col=2)\n",
    "    \n",
    "    # create the dictionary for the button\n",
    "    button_dict = dict(\n",
    "        method=\"restyle\",\n",
    "        args=[{\"visible\": [False] * (len(Final_Odds['Match'].unique().tolist()) * 3)}], # set all traces to false initially\n",
    "        label= f\"<b>{match} | {str(Final_Odds[(Final_Odds['Type']=='Predicted')  & (Final_Odds['Match']==match)]['Date'].values).strip('[]')}</b>\" \n",
    "    )\n",
    "    \n",
    "    # set visibility to true for the corresponding traces\n",
    "    button_dict[\"args\"][0][\"visible\"][3*match_index] = True # Bookmaker odds trace\n",
    "    button_dict[\"args\"][0][\"visible\"][3*match_index+1] = True # Predicted trace\n",
    "    button_dict[\"args\"][0][\"visible\"][3*match_index+2] = True # Goal trace\n",
    "    \n",
    "    # set visibility to true for the corresponding traces for the first match\n",
    "    if match_index == 0:\n",
    "        button_dict[\"args\"][0][\"visible\"][0] = True # Bookmaker odds trace\n",
    "        button_dict[\"args\"][0][\"visible\"][1] = True # Predicted trace\n",
    "        button_dict[\"args\"][0][\"visible\"][2] = True\n",
    "        \n",
    "    # append the button to the list\n",
    "    buttons.append(button_dict)\n",
    "\n",
    "\n",
    "# update the layout with the buttons\n",
    "fig.update_layout(\n",
    "    updatemenus=[go.layout.Updatemenu(\n",
    "        buttons=buttons,\n",
    "        active=0, # set the initial active button\n",
    "        x=0.1,\n",
    "        y=1.2,\n",
    "        direction=\"down\",\n",
    "    )],\n",
    "    \n",
    ")\n",
    "\n",
    "# show the plot\n",
    "fig.show()\n",
    "# Save the interactive figure as an HTML file\n",
    "fig.write_html('UpcomingMatchesPredictionFigure.html')\n"
   ]
  },
  {
   "cell_type": "code",
   "execution_count": 32,
   "metadata": {},
   "outputs": [
    {
     "name": "stderr",
     "output_type": "stream",
     "text": [
      "/tmp/ipykernel_163551/1283783480.py:18: SettingWithCopyWarning:\n",
      "\n",
      "\n",
      "A value is trying to be set on a copy of a slice from a DataFrame\n",
      "\n",
      "See the caveats in the documentation: https://pandas.pydata.org/pandas-docs/stable/user_guide/indexing.html#returning-a-view-versus-a-copy\n",
      "\n",
      "/tmp/ipykernel_163551/1283783480.py:19: SettingWithCopyWarning:\n",
      "\n",
      "\n",
      "A value is trying to be set on a copy of a slice from a DataFrame\n",
      "\n",
      "See the caveats in the documentation: https://pandas.pydata.org/pandas-docs/stable/user_guide/indexing.html#returning-a-view-versus-a-copy\n",
      "\n"
     ]
    },
    {
     "data": {
      "text/html": [
       "<div>\n",
       "<style scoped>\n",
       "    .dataframe tbody tr th:only-of-type {\n",
       "        vertical-align: middle;\n",
       "    }\n",
       "\n",
       "    .dataframe tbody tr th {\n",
       "        vertical-align: top;\n",
       "    }\n",
       "\n",
       "    .dataframe thead th {\n",
       "        text-align: right;\n",
       "    }\n",
       "</style>\n",
       "<table border=\"1\" class=\"dataframe\">\n",
       "  <thead>\n",
       "    <tr style=\"text-align: right;\">\n",
       "      <th></th>\n",
       "      <th>Match</th>\n",
       "      <th>UnderBet</th>\n",
       "      <th>UnderBet_Kelly</th>\n",
       "    </tr>\n",
       "  </thead>\n",
       "  <tbody>\n",
       "    <tr>\n",
       "      <th>0</th>\n",
       "      <td>Aston Villa-Brighton</td>\n",
       "      <td>0.00</td>\n",
       "      <td>0.00</td>\n",
       "    </tr>\n",
       "    <tr>\n",
       "      <th>1</th>\n",
       "      <td>Bournemouth-Arsenal</td>\n",
       "      <td>0.00</td>\n",
       "      <td>0.00</td>\n",
       "    </tr>\n",
       "    <tr>\n",
       "      <th>2</th>\n",
       "      <td>Everton-Luton</td>\n",
       "      <td>0.00</td>\n",
       "      <td>0.00</td>\n",
       "    </tr>\n",
       "    <tr>\n",
       "      <th>3</th>\n",
       "      <td>Manchester United-Crystal Palace</td>\n",
       "      <td>0.00</td>\n",
       "      <td>0.00</td>\n",
       "    </tr>\n",
       "    <tr>\n",
       "      <th>4</th>\n",
       "      <td>Newcastle United-Burnley</td>\n",
       "      <td>0.00</td>\n",
       "      <td>0.00</td>\n",
       "    </tr>\n",
       "    <tr>\n",
       "      <th>5</th>\n",
       "      <td>West Ham-Sheffield United</td>\n",
       "      <td>0.00</td>\n",
       "      <td>0.00</td>\n",
       "    </tr>\n",
       "    <tr>\n",
       "      <th>6</th>\n",
       "      <td>Wolverhampton Wanderers-Manchester City</td>\n",
       "      <td>0.00</td>\n",
       "      <td>0.00</td>\n",
       "    </tr>\n",
       "    <tr>\n",
       "      <th>7</th>\n",
       "      <td>Tottenham-Liverpool</td>\n",
       "      <td>0.00</td>\n",
       "      <td>0.00</td>\n",
       "    </tr>\n",
       "    <tr>\n",
       "      <th>8</th>\n",
       "      <td>Nottingham Forest-Brentford</td>\n",
       "      <td>0.00</td>\n",
       "      <td>0.00</td>\n",
       "    </tr>\n",
       "    <tr>\n",
       "      <th>9</th>\n",
       "      <td>Fulham-Chelsea</td>\n",
       "      <td>0.00</td>\n",
       "      <td>0.00</td>\n",
       "    </tr>\n",
       "    <tr>\n",
       "      <th>10</th>\n",
       "      <td>Luton-Burnley</td>\n",
       "      <td>0.00</td>\n",
       "      <td>0.00</td>\n",
       "    </tr>\n",
       "    <tr>\n",
       "      <th>11</th>\n",
       "      <td>Luton-Tottenham</td>\n",
       "      <td>0.00</td>\n",
       "      <td>0.00</td>\n",
       "    </tr>\n",
       "    <tr>\n",
       "      <th>12</th>\n",
       "      <td>Burnley-Chelsea</td>\n",
       "      <td>0.00</td>\n",
       "      <td>0.00</td>\n",
       "    </tr>\n",
       "    <tr>\n",
       "      <th>13</th>\n",
       "      <td>Everton-Bournemouth</td>\n",
       "      <td>0.00</td>\n",
       "      <td>0.00</td>\n",
       "    </tr>\n",
       "    <tr>\n",
       "      <th>14</th>\n",
       "      <td>Fulham-Sheffield United</td>\n",
       "      <td>0.00</td>\n",
       "      <td>0.00</td>\n",
       "    </tr>\n",
       "    <tr>\n",
       "      <th>15</th>\n",
       "      <td>Manchester United-Brentford</td>\n",
       "      <td>0.00</td>\n",
       "      <td>0.00</td>\n",
       "    </tr>\n",
       "    <tr>\n",
       "      <th>16</th>\n",
       "      <td>Crystal Palace-Nottingham Forest</td>\n",
       "      <td>0.00</td>\n",
       "      <td>0.00</td>\n",
       "    </tr>\n",
       "    <tr>\n",
       "      <th>17</th>\n",
       "      <td>Wolverhampton Wanderers-Aston Villa</td>\n",
       "      <td>0.00</td>\n",
       "      <td>0.00</td>\n",
       "    </tr>\n",
       "    <tr>\n",
       "      <th>18</th>\n",
       "      <td>Brighton-Liverpool</td>\n",
       "      <td>0.00</td>\n",
       "      <td>0.00</td>\n",
       "    </tr>\n",
       "    <tr>\n",
       "      <th>19</th>\n",
       "      <td>West Ham-Newcastle United</td>\n",
       "      <td>0.00</td>\n",
       "      <td>0.00</td>\n",
       "    </tr>\n",
       "    <tr>\n",
       "      <th>20</th>\n",
       "      <td>Arsenal-Manchester City</td>\n",
       "      <td>0.00</td>\n",
       "      <td>0.00</td>\n",
       "    </tr>\n",
       "  </tbody>\n",
       "</table>\n",
       "</div>"
      ],
      "text/plain": [
       "                                      Match  UnderBet  UnderBet_Kelly\n",
       "0                      Aston Villa-Brighton      0.00            0.00\n",
       "1                       Bournemouth-Arsenal      0.00            0.00\n",
       "2                             Everton-Luton      0.00            0.00\n",
       "3          Manchester United-Crystal Palace      0.00            0.00\n",
       "4                  Newcastle United-Burnley      0.00            0.00\n",
       "5                 West Ham-Sheffield United      0.00            0.00\n",
       "6   Wolverhampton Wanderers-Manchester City      0.00            0.00\n",
       "7                       Tottenham-Liverpool      0.00            0.00\n",
       "8               Nottingham Forest-Brentford      0.00            0.00\n",
       "9                            Fulham-Chelsea      0.00            0.00\n",
       "10                            Luton-Burnley      0.00            0.00\n",
       "11                          Luton-Tottenham      0.00            0.00\n",
       "12                          Burnley-Chelsea      0.00            0.00\n",
       "13                      Everton-Bournemouth      0.00            0.00\n",
       "14                  Fulham-Sheffield United      0.00            0.00\n",
       "15              Manchester United-Brentford      0.00            0.00\n",
       "16         Crystal Palace-Nottingham Forest      0.00            0.00\n",
       "17      Wolverhampton Wanderers-Aston Villa      0.00            0.00\n",
       "18                       Brighton-Liverpool      0.00            0.00\n",
       "19                West Ham-Newcastle United      0.00            0.00\n",
       "20                  Arsenal-Manchester City      0.00            0.00"
      ]
     },
     "metadata": {},
     "output_type": "display_data"
    }
   ],
   "source": [
    "Pont = 5\n",
    "bank = 60\n",
    "Final = Final_Odds[Final_Odds['Type']=='Predicted'][['Match']]\n",
    "listPred = Final_Odds[Final_Odds['Type']=='Predicted']['P(Under)'].tolist()\n",
    "listBook = Final_Odds[Final_Odds['Type']=='Bookmaker']['P(Under)'].tolist()\n",
    "\n",
    "diff = []\n",
    "for i, p in enumerate(listPred):\n",
    "    diff.append(listPred[i]-listBook[i])\n",
    "\n",
    "Final['UnderBet'] = np.nan\n",
    "Final['UnderBet_Kelly'] = np.nan\n",
    "for i, d in enumerate(diff):\n",
    "    if (0.7>=listPred[i]>=0.5) and (d>=0.005):\n",
    "        Final['UnderBet'][i] = max(Pont*10*(d),0)\n",
    "        Final['UnderBet_Kelly'][i] = max(0, bank*(listPred[i]- (1-listPred[i])/(1/listBook[i] -1)))\n",
    "    else:\n",
    "        Final['UnderBet'][i] = 0\n",
    "        Final['UnderBet_Kelly'][i] = 0\n",
    "        \n",
    "############\n",
    "\n",
    "    \n",
    "display(Final)"
   ]
  }
 ],
 "metadata": {
  "kernelspec": {
   "display_name": "Python 3",
   "language": "python",
   "name": "python3"
  },
  "language_info": {
   "codemirror_mode": {
    "name": "ipython",
    "version": 3
   },
   "file_extension": ".py",
   "mimetype": "text/x-python",
   "name": "python",
   "nbconvert_exporter": "python",
   "pygments_lexer": "ipython3",
   "version": "3.11.5"
  },
  "orig_nbformat": 4
 },
 "nbformat": 4,
 "nbformat_minor": 2
}
