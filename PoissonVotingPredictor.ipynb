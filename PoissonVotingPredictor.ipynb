{
 "cells": [
  {
   "cell_type": "code",
   "execution_count": 1,
   "metadata": {},
   "outputs": [],
   "source": [
    "import pandas as pd\n",
    "import plotly.express as px\n",
    "import numpy as np\n",
    "from sklearn.model_selection import train_test_split\n",
    "from sklearn.linear_model import LinearRegression\n",
    "from scipy.stats import poisson \n",
    "import math\n",
    "import plotly.express as px\n",
    "from plotly.subplots import make_subplots\n",
    "import plotly.graph_objects as go\n",
    "from sklearn import preprocessing\n",
    "from pretty_html_table import build_table\n",
    "\n",
    "def sum_of_lower_upper(mat):\n",
    "    r = len(mat)\n",
    "    c = len(mat[0])\n",
    "    diag = np.trace(mat)\n",
    "    lower_sum = 0\n",
    "    upper_sum = 0\n",
    "    over_sum = 0\n",
    "    under_sum = 0\n",
    "    gg_sum = 0\n",
    "    ng_sum = 0 \n",
    "\n",
    "    for i in range(r):\n",
    "        for j in range(c):\n",
    "            if (i<j):\n",
    "                upper_sum += mat[i][j]\n",
    "\n",
    "    for i in range(r):\n",
    "        for j in range(c):\n",
    "            if (j<i):\n",
    "                lower_sum += mat[i][j]\n",
    "    \n",
    "    for i in range(r):\n",
    "        for j in range(c):\n",
    "            if (i+j>=3):\n",
    "                over_sum += mat[i][j]\n",
    "            else:\n",
    "                under_sum += mat[i][j]\n",
    "    \n",
    "    for i in range(r):\n",
    "        for j in range(c):\n",
    "            if (i==0) or (j==0):\n",
    "                ng_sum += mat[i][j]\n",
    "            else:\n",
    "                gg_sum += mat[i][j]\n",
    "\n",
    "    return (upper_sum, lower_sum, diag, over_sum, under_sum, ng_sum, gg_sum)\n"
   ]
  },
  {
   "attachments": {},
   "cell_type": "markdown",
   "metadata": {},
   "source": [
    "## Gathering Lamda from season long performance"
   ]
  },
  {
   "cell_type": "code",
   "execution_count": 2,
   "metadata": {},
   "outputs": [
    {
     "name": "stdout",
     "output_type": "stream",
     "text": [
      "2082\n"
     ]
    }
   ],
   "source": [
    "df1 = pd.read_csv('GatheredData/Full20xxFiles/Full2017.csv')\n",
    "df2 = pd.read_csv('GatheredData/Full20xxFiles/Full2018.csv')\n",
    "df3 = pd.read_csv('GatheredData/Full20xxFiles/Full2019.csv')\n",
    "df4 = pd.read_csv('GatheredData/Full20xxFiles/Full2020.csv')\n",
    "df5 = pd.read_csv('GatheredData/Full20xxFiles/Full2021.csv')\n",
    "df6 = pd.read_csv('GatheredData/Full20xxFiles/Full2022.csv')\n",
    "PRED = pd.read_csv('UpcomingFixtures/Prediction.csv')\n",
    "pred = PRED.copy()\n",
    "#Keeping bookmakers odds\n",
    "Odds = PRED.copy()\n",
    "Odds = PRED[['HTeam', 'ATeam','B365H', 'B365D', 'B365A', 'BbAv>2.5', 'BbAv<2.5', 'GG', 'NG']]\n",
    "\n",
    "df1 = df1[['Date_x', 'HxG', 'HM', 'HTeam', 'ATeam', 'HG', 'HGA', 'HxGA', 'HDC', 'HODC', 'HPPDA', 'HOPPDA', 'HPTS/M', 'AM', 'AG', 'AGA', 'AxG', 'AxGA', 'ADC', 'AODC', 'APPDA', 'AOPPDA', 'APTS/M', 'Result', 'B365H', 'B365D', 'B365A', 'BbAv>2.5', 'BbAv<2.5']]\n",
    "df2 = df2[['Date_x', 'HxG', 'HM', 'HTeam', 'ATeam', 'HG', 'HGA', 'HxGA', 'HDC', 'HODC', 'HPPDA', 'HOPPDA', 'HPTS/M', 'AM', 'AG', 'AGA', 'AxG', 'AxGA', 'ADC', 'AODC', 'APPDA', 'AOPPDA', 'APTS/M', 'Result', 'B365H', 'B365D', 'B365A', 'BbAv>2.5', 'BbAv<2.5']]\n",
    "df3 = df3[['Date_x', 'HxG', 'HM', 'HTeam', 'ATeam', 'HG', 'HGA', 'HxGA', 'HDC', 'HODC', 'HPPDA', 'HOPPDA', 'HPTS/M', 'AM', 'AG', 'AGA', 'AxG', 'AxGA', 'ADC', 'AODC', 'APPDA', 'AOPPDA', 'APTS/M', 'Result', 'B365H', 'B365D', 'B365A', 'AvgC>2.5', 'AvgC<2.5']]\n",
    "df3.rename(columns = {'AvgC<2.5':'BbAv<2.5'}, inplace = True)\n",
    "df3.rename(columns = {'AvgC>2.5':'BbAv>2.5'}, inplace = True)\n",
    "df4 = df4[['Date_x', 'HxG', 'HM', 'HTeam', 'ATeam', 'HG', 'HGA', 'HxGA', 'HDC', 'HODC', 'HPPDA', 'HOPPDA', 'HPTS/M', 'AM', 'AG', 'AGA', 'AxG', 'AxGA', 'ADC', 'AODC', 'APPDA', 'AOPPDA', 'APTS/M', 'Result', 'B365H', 'B365D', 'B365A', 'AvgC>2.5', 'AvgC<2.5']]\n",
    "df4.rename(columns = {'AvgC<2.5':'BbAv<2.5'}, inplace = True)\n",
    "df4.rename(columns = {'AvgC>2.5':'BbAv>2.5'}, inplace = True)\n",
    "df5 = df5[['Date_x', 'HxG', 'HM', 'HTeam', 'ATeam', 'HG', 'HGA', 'HxGA', 'HDC', 'HODC', 'HPPDA', 'HOPPDA', 'HPTS/M', 'AM', 'AG', 'AGA', 'AxG', 'AxGA', 'ADC', 'AODC', 'APPDA', 'AOPPDA', 'APTS/M', 'Result', 'B365H', 'B365D', 'B365A', 'AvgC>2.5', 'AvgC<2.5']]\n",
    "df5.rename(columns = {'AvgC<2.5':'BbAv<2.5'}, inplace = True)\n",
    "df5.rename(columns = {'AvgC>2.5':'BbAv>2.5'}, inplace = True)\n",
    "df6 = df6[['Date', 'HxG', 'HM', 'HTeam', 'ATeam', 'HG', 'HGA', 'HxGA', 'HDC', 'HODC', 'HPPDA', 'HOPPDA', 'HPTS/M', 'AM', 'AG', 'AGA', 'AxG', 'AxGA', 'ADC', 'AODC', 'APPDA', 'AOPPDA', 'APTS/M', 'Result', 'B365H', 'B365D', 'B365A', 'BbAv>2.5', 'BbAv<2.5']]\n",
    "\n",
    "df1.rename(columns = {'Date_x':'Date'}, inplace = True)\n",
    "df2.rename(columns = {'Date_x':'Date'}, inplace = True)\n",
    "df3.rename(columns = {'Date_x':'Date'}, inplace = True)\n",
    "df4.rename(columns = {'Date_x':'Date'}, inplace = True)\n",
    "df5.rename(columns = {'Date_x':'Date'}, inplace = True)\n",
    "\n",
    "\n",
    "Season = pd.read_csv('GatheredData/Full20xxFiles/Full2023.csv')\n",
    "Season = Season[['Date', 'HxG', 'HM', 'HTeam', 'ATeam', 'HG', 'HGA', 'HxGA', 'HDC', 'HODC', 'HPPDA', 'HOPPDA', 'HPTS/M', 'AM', 'AG', 'AGA', 'AxG', 'AxGA', 'ADC', 'AODC', 'APPDA', 'AOPPDA', 'APTS/M', 'Result', 'B365H', 'B365D', 'B365A', 'BbAv>2.5', 'BbAv<2.5']]\n",
    "Season = Season.iloc[38:]\n",
    "\n",
    "\n",
    "DF = pd.concat([df1, df2, df3, df4, df5, df6, Season], ignore_index=True)\n",
    "\n",
    "\n",
    "DF = DF[ DF['HM'] != 0] \n",
    "DF = DF[ DF['HM'] != 1] \n",
    "DF = DF[ DF['HM'] != 2] \n",
    "DF = DF[ DF['HM'] != 3]\n",
    "subset = DF[['Date', 'HTeam', 'ATeam']].copy()\n",
    "\n",
    "extra_stats = DF.copy()\n",
    "extra_pred = pred.copy()\n",
    "\n",
    "DF['PTSDIF/M']=DF['HPTS/M']-DF['APTS/M']\n",
    "pred['PTSDIF/M']=pred['HPTS/M']-pred['APTS/M']\n",
    "DF = DF[[ 'HxG', 'HM', 'HG', 'HGA', 'HxGA', 'HDC', 'HODC', 'HPPDA', 'HOPPDA', 'HPTS/M', 'AM', 'AG', 'AGA', 'AxG', 'AxGA', 'ADC', 'AODC', 'APPDA', 'AOPPDA', 'APTS/M', 'PTSDIF/M', 'Result']]\n",
    "pred = pred[[ 'HxG', 'HM', 'HG', 'HGA', 'HxGA', 'HDC', 'HODC', 'HPPDA', 'HOPPDA', 'HPTS/M', 'AM', 'AG', 'AGA', 'AxG', 'AxGA', 'ADC', 'AODC', 'APPDA', 'AOPPDA', 'APTS/M', 'PTSDIF/M', 'Result']]\n",
    "cut = DF.shape[0]\n",
    "print(cut)\n",
    "DF = pd.concat([DF, pred], ignore_index=True)\n",
    "try:\n",
    "    DF['HxG'] = DF['HxG'].div(DF['HM'])\n",
    "    DF['HG'] = DF['HG'].div(DF['HM'])\n",
    "    DF['HGA'] = DF['HGA'].div(DF['HM'])\n",
    "    DF['HxGA'] = DF['HxGA'].div(DF['HM'])\n",
    "    DF['AxG'] = DF['AxG'].div(DF['AM'])\n",
    "    DF['AG'] = DF['AG'].div(DF['AM'])\n",
    "    DF['AxGA'] = DF['AxG'].div(DF['AM'])\n",
    "    DF['AGA'] = DF['AGA'].div(DF['AM'])\n",
    "    pred['HxG'] = pred['HxG'].div(pred['HM'])\n",
    "    pred['HG'] = pred['HG'].div(pred['HM'])\n",
    "    pred['HGA'] = pred['HGA'].div(pred['HM'])\n",
    "    pred['HxGA'] = pred['HxGA'].div(pred['HM'])\n",
    "    pred['AxG'] = pred['AxG'].div(pred['AM'])\n",
    "    pred['AG'] = pred['AG'].div(pred['AM'])\n",
    "    pred['AxGA'] = pred['AxG'].div(pred['AM'])\n",
    "    pred['AGA'] = pred['AGA'].div(pred['AM'])\n",
    "\n",
    "except ZeroDivisionError:\n",
    "    DF['HxG'] = 0\n",
    "    DF['HG'] = 0\n",
    "    DF['HGA'] = 0\n",
    "    DF['HxGA'] = 0\n",
    "    DF['AxG'] = 0\n",
    "    DF['AG'] = 0\n",
    "    DF['AxGA'] = 0\n",
    "    DF['AGA'] = 0\n",
    "\n",
    "HGoals = []\n",
    "AGoals = []\n",
    "    \n",
    "for i, x in DF.iloc[:cut].iterrows():\n",
    "    a=x['Result'].split('\\'')\n",
    "    HGoals.append(a[1])\n",
    "    AGoals.append(a[3])\n",
    "    \n",
    "DF=np.array(DF)\n",
    "DFnorm = preprocessing.normalize(DF[:, 0:21], axis=0)\n",
    "pred = DFnorm[cut:]\n",
    "DF = DFnorm[:cut]\n",
    "\n",
    "x=DF\n",
    "\n",
    "\n",
    "y1=np.array(HGoals)\n",
    "y2=np.array(AGoals)\n",
    "\n",
    "reg1 = LinearRegression().fit(x, y1)\n",
    "reg2 = LinearRegression().fit(x, y2)\n",
    "\n",
    "LamdaHome= reg1.predict(pred)\n",
    "LamdaAway= reg2.predict(pred)"
   ]
  },
  {
   "attachments": {},
   "cell_type": "markdown",
   "metadata": {},
   "source": [
    "## Gathering Lamda from 2 month form performance"
   ]
  },
  {
   "cell_type": "code",
   "execution_count": 3,
   "metadata": {},
   "outputs": [
    {
     "name": "stdout",
     "output_type": "stream",
     "text": [
      "Date           17/09/2021\n",
      "HTeam    Newcastle United\n",
      "ATeam               Leeds\n",
      "Name: 1560, dtype: object\n",
      "Date                     07/02/2021\n",
      "HxG                           12.05\n",
      "HM                               12\n",
      "HTeam       Wolverhampton Wanderers\n",
      "ATeam                     Leicester\n",
      "HG                               12\n",
      "HGA                              20\n",
      "HxGA                          15.48\n",
      "HDC                        3.166667\n",
      "HODC                       7.083333\n",
      "HPPDA                         15.93\n",
      "HOPPDA                        11.56\n",
      "HPTS/M                         0.75\n",
      "AM                               12\n",
      "AG                               20\n",
      "AGA                              11\n",
      "AxG                           16.59\n",
      "AxGA                          10.23\n",
      "ADC                             7.0\n",
      "AODC                       4.333333\n",
      "APPDA                           9.7\n",
      "AOPPDA                        12.24\n",
      "APTS/M                          2.0\n",
      "Result                 ['0 ', ' 0']\n",
      "B365H                           3.5\n",
      "B365D                           3.4\n",
      "B365A                           2.1\n",
      "BbAv>2.5                        2.2\n",
      "BbAv<2.5                       1.66\n",
      "Name: 1361, dtype: object\n",
      "            Date             HTeam            ATeam   HxG  HM  HG  HGA   HxGA  \\\n",
      "1489  19/12/2021  Newcastle United  Manchester City  7.06   9   8   18  17.04   \n",
      "\n",
      "           HDC      HODC  ...      AODC  APPDA  AOPPDA    APTS/M  \\\n",
      "1489  3.555556  9.333333  ...  3.222222   9.16   23.01  2.666667   \n",
      "\n",
      "            Result  B365H  B365D  B365A  BbAv>2.5  BbAv<2.5  \n",
      "1489  ['0 ', ' 4']   13.0    7.5   1.18       NaN       NaN  \n",
      "\n",
      "[1 rows x 29 columns]\n",
      "           HxG  HM        HG       HGA      HxGA        HDC       HODC  HPPDA  \\\n",
      "0     0.535000   4  0.250000  2.000000  1.902500   5.000000   9.250000  13.80   \n",
      "1     1.067500   4  0.000000  1.750000  1.495000   5.750000   4.750000  11.61   \n",
      "2     0.965000   4  1.000000  0.500000  1.177500   3.250000   3.250000   8.69   \n",
      "3     2.397500   4  2.000000  2.000000  1.632500   7.000000   6.000000  15.95   \n",
      "4     1.350000   4  1.000000  0.750000  1.165000   4.000000   4.000000  14.00   \n",
      "...        ...  ..       ...       ...       ...        ...        ...    ...   \n",
      "2077  1.344286   7  1.000000  1.000000  1.304286   6.571429   8.714286  12.06   \n",
      "2078  2.290000   7  2.714286  2.000000  1.807143  12.285714   7.000000   7.20   \n",
      "2079  1.858571   7  1.857143  1.428571  2.245714   6.000000  12.000000  16.80   \n",
      "2080  1.275714   7  1.142857  1.857143  2.200000   5.857143  13.428571  12.53   \n",
      "2081  2.201429   7  2.142857  0.857143  0.998571  11.142857   6.428571   8.42   \n",
      "\n",
      "      HOPPDA    HPTS/M  ...       AGA       AxG      AxGA        ADC  \\\n",
      "0       8.77  0.000000  ...  1.250000  0.437500  0.109375   3.500000   \n",
      "1       8.37  0.000000  ...  1.000000  1.372500  0.343125   9.500000   \n",
      "2      10.06  1.750000  ...  2.000000  1.342500  0.335625   2.750000   \n",
      "3      12.48  1.750000  ...  1.000000  0.760000  0.190000   3.500000   \n",
      "4       7.26  1.500000  ...  1.000000  0.862500  0.215625   5.500000   \n",
      "...      ...       ...  ...       ...       ...       ...        ...   \n",
      "2077    7.40  1.571429  ...  1.428571  0.954286  0.136327   5.000000   \n",
      "2078   14.79  2.142857  ...  1.000000  2.318571  0.331224  10.428571   \n",
      "2079    9.19  1.857143  ...  1.000000  2.400000  0.342857   7.428571   \n",
      "2080    8.58  1.000000  ...  1.571429  1.934286  0.276327   9.428571   \n",
      "2081   19.40  2.428571  ...  0.714286  2.278571  0.325510  12.000000   \n",
      "\n",
      "           AODC  APPDA  AOPPDA    APTS/M  PTSDIF/M        Result  \n",
      "0      8.250000  17.65   18.94  1.000000 -1.000000  ['2 ', ' 1']  \n",
      "1      2.500000   8.15   13.68  1.250000 -1.250000  ['0 ', ' 1']  \n",
      "2     10.000000  15.38   10.43  0.750000  1.000000  ['1 ', ' 1']  \n",
      "3      6.750000  12.51    8.62  1.750000  0.000000  ['1 ', ' 1']  \n",
      "4      7.250000  15.26    8.52  1.250000  0.250000  ['2 ', ' 1']  \n",
      "...         ...    ...     ...       ...       ...           ...  \n",
      "2077   9.000000  21.21    9.53  1.142857  0.428571  ['0 ', ' 0']  \n",
      "2078   7.857143  11.33   15.14  2.285714 -0.142857  ['2 ', ' 2']  \n",
      "2079   6.142857  11.35   12.83  1.714286  0.142857  ['2 ', ' 2']  \n",
      "2080   8.000000  15.58    9.50  2.142857 -1.142857  ['1 ', ' 1']  \n",
      "2081   3.571429  10.40   23.16  2.571429 -0.142857  ['1 ', ' 0']  \n",
      "\n",
      "[2082 rows x 22 columns]\n"
     ]
    },
    {
     "name": "stderr",
     "output_type": "stream",
     "text": [
      "/tmp/ipykernel_190845/2412402004.py:48: SettingWithCopyWarning: \n",
      "A value is trying to be set on a copy of a slice from a DataFrame.\n",
      "Try using .loc[row_indexer,col_indexer] = value instead\n",
      "\n",
      "See the caveats in the documentation: https://pandas.pydata.org/pandas-docs/stable/user_guide/indexing.html#returning-a-view-versus-a-copy\n",
      "  DF['PTSDIF/M']=DF['HPTS/M']-DF['APTS/M']\n"
     ]
    }
   ],
   "source": [
    "df1 = pd.read_csv('GatheredData/Epl20xxMonthlyFiles/Epl2017Monthly.csv')\n",
    "df2 = pd.read_csv('GatheredData/Epl20xxMonthlyFiles/Epl2018Monthly.csv')\n",
    "df3 = pd.read_csv('GatheredData/Epl20xxMonthlyFiles/Epl2019Monthly.csv')\n",
    "df4 = pd.read_csv('GatheredData/Epl20xxMonthlyFiles/Epl2020Monthly.csv')\n",
    "df5 = pd.read_csv('GatheredData/Epl20xxMonthlyFiles/Epl2021Monthly.csv')\n",
    "df6 = pd.read_csv('GatheredData/Epl20xxMonthlyFiles/Epl2022Monthly.csv')\n",
    "pred = PRED.copy()\n",
    "#Keeping bookmakers odds\n",
    "Odds = PRED.copy()\n",
    "Odds = PRED[['HTeam', 'ATeam','B365H', 'B365D', 'B365A', 'BbAv>2.5', 'BbAv<2.5', 'GG', 'NG']]\n",
    "\n",
    "df1 = df1[['Date', 'HxG', 'HM', 'HTeam', 'ATeam', 'HG', 'HGA', 'HxGA', 'HDC', 'HODC', 'HPPDA', 'HOPPDA', 'HPTS/M', 'AM', 'AG', 'AGA', 'AxG', 'AxGA', 'ADC', 'AODC', 'APPDA', 'AOPPDA', 'APTS/M', 'Result', 'B365H', 'B365D', 'B365A', 'BbAv>2.5', 'BbAv<2.5']]\n",
    "df2 = df2[['Date', 'HxG', 'HM', 'HTeam', 'ATeam', 'HG', 'HGA', 'HxGA', 'HDC', 'HODC', 'HPPDA', 'HOPPDA', 'HPTS/M', 'AM', 'AG', 'AGA', 'AxG', 'AxGA', 'ADC', 'AODC', 'APPDA', 'AOPPDA', 'APTS/M', 'Result', 'B365H', 'B365D', 'B365A', 'BbAv>2.5', 'BbAv<2.5']]\n",
    "df3 = df3[['Date', 'HxG', 'HM', 'HTeam', 'ATeam', 'HG', 'HGA', 'HxGA', 'HDC', 'HODC', 'HPPDA', 'HOPPDA', 'HPTS/M', 'AM', 'AG', 'AGA', 'AxG', 'AxGA', 'ADC', 'AODC', 'APPDA', 'AOPPDA', 'APTS/M', 'Result', 'B365H', 'B365D', 'B365A', 'B365>2.5', 'B365<2.5']]\n",
    "df3.rename(columns = {'B365<2.5':'BbAv<2.5'}, inplace = True)\n",
    "df3.rename(columns = {'B365>2.5':'BbAv>2.5'}, inplace = True)\n",
    "df4 = df4[['Date', 'HxG', 'HM', 'HTeam', 'ATeam', 'HG', 'HGA', 'HxGA', 'HDC', 'HODC', 'HPPDA', 'HOPPDA', 'HPTS/M', 'AM', 'AG', 'AGA', 'AxG', 'AxGA', 'ADC', 'AODC', 'APPDA', 'AOPPDA', 'APTS/M', 'Result', 'B365H', 'B365D', 'B365A', 'B365>2.5', 'B365<2.5']]\n",
    "df4.rename(columns = {'B365<2.5':'BbAv<2.5'}, inplace = True)\n",
    "df4.rename(columns = {'B365>2.5':'BbAv>2.5'}, inplace = True)\n",
    "df5 = df5[['Date', 'HxG', 'HM', 'HTeam', 'ATeam', 'HG', 'HGA', 'HxGA', 'HDC', 'HODC', 'HPPDA', 'HOPPDA', 'HPTS/M', 'AM', 'AG', 'AGA', 'AxG', 'AxGA', 'ADC', 'AODC', 'APPDA', 'AOPPDA', 'APTS/M', 'Result', 'B365H', 'B365D', 'B365A', 'B365>2.5', 'B365<2.5']]\n",
    "df5.rename(columns = {'B365<2.5':'BbAv<2.5'}, inplace = True)\n",
    "df5.rename(columns = {'B365>2.5':'BbAv>2.5'}, inplace = True)\n",
    "df6 = df6[['Date', 'HxG', 'HM', 'HTeam', 'ATeam', 'HG', 'HGA', 'HxGA', 'HDC', 'HODC', 'HPPDA', 'HOPPDA', 'HPTS/M', 'AM', 'AG', 'AGA', 'AxG', 'AxGA', 'ADC', 'AODC', 'APPDA', 'AOPPDA', 'APTS/M', 'Result', 'B365H', 'B365D', 'B365A', 'BbAv>2.5', 'BbAv<2.5']]\n",
    "df6.rename(columns = {'B365<2.5':'BbAv<2.5'}, inplace = True)\n",
    "df6.rename(columns = {'B365>2.5':'BbAv>2.5'}, inplace = True)\n",
    "\n",
    "SeasonForm = pd.read_csv('GatheredData/Epl20xxMonthlyFiles/Epl2023Monthly.csv')\n",
    "\n",
    "\n",
    "try:\n",
    "    SeasonForm = SeasonForm[['Date', 'HxG', 'HM', 'HTeam', 'ATeam', 'HG', 'HGA', 'HxGA', 'HDC', 'HODC', 'HPPDA', 'HOPPDA', 'HPTS/M', 'AM', 'AG', 'AGA', 'AxG', 'AxGA', 'ADC', 'AODC', 'APPDA', 'AOPPDA', 'APTS/M', 'Result', 'B365H', 'B365D', 'B365A', 'BbAv>2.5', 'BbAv<2.5']]\n",
    "except KeyError:\n",
    "    SeasonForm = SeasonForm[['Date', 'HxG', 'HM', 'HTeam', 'ATeam', 'HG', 'HGA', 'HxGA', 'HDC', 'HODC', 'HPPDA', 'HOPPDA', 'HPTS/M', 'AM', 'AG', 'AGA', 'AxG', 'AxGA', 'ADC', 'AODC', 'APPDA', 'AOPPDA', 'APTS/M', 'Result', 'B365H', 'B365D', 'B365A', 'B365>2.5', 'B365<2.5']]\n",
    "    SeasonForm.rename(columns = {'B365<2.5':'BbAv<2.5'}, inplace = True)\n",
    "    SeasonForm.rename(columns = {'B365>2.5':'BbAv>2.5'}, inplace = True)\n",
    "    \n",
    "SeasonForm = SeasonForm.iloc[38:]\n",
    "\n",
    "DF = pd.concat([df1, df2, df3, df4, df5, df6, SeasonForm], ignore_index=True)\n",
    "merged = pd.merge(subset, DF, on=['Date', 'HTeam', 'ATeam'], how='left')\n",
    "print(subset.iloc[1361])\n",
    "print(DF.iloc[1361])\n",
    "print(merged[merged.isna().any(axis=1)])\n",
    "\n",
    "# resulting dataframe will have columns of B where the triplet of A['a', 'b', 'c'] exists in B\n",
    "DF = merged[DF.columns]\n",
    "\n",
    "DF['PTSDIF/M']=DF['HPTS/M']-DF['APTS/M']\n",
    "pred['PTSDIF/M']=pred['HPTS/M']-pred['APTS/M']\n",
    "DF = DF[['HxG', 'HM', 'HG', 'HGA', 'HxGA', 'HDC', 'HODC', 'HPPDA', 'HOPPDA', 'HPTS/M', 'AM', 'AG', 'AGA', 'AxG', 'AxGA', 'ADC', 'AODC', 'APPDA', 'AOPPDA', 'APTS/M', 'PTSDIF/M', 'Result']]\n",
    "pred = pred[['HxG', 'HM', 'HG', 'HGA', 'HxGA', 'HDC', 'HODC', 'HPPDA', 'HOPPDA', 'HPTS/M', 'AM', 'AG', 'AGA', 'AxG', 'AxGA', 'ADC', 'AODC', 'APPDA', 'AOPPDA', 'APTS/M', 'PTSDIF/M', 'Result']]\n",
    "cut = DF.shape[0]\n",
    "DF = pd.concat([DF, pred], ignore_index=True)\n",
    "\n",
    "\n",
    "\n",
    "try:\n",
    "    DF['HxG'] = DF['HxG'].div(DF['HM']).fillna(0)\n",
    "    DF['HG'] = DF['HG'].div(DF['HM']).fillna(0)\n",
    "    DF['HGA'] = DF['HGA'].div(DF['HM']).fillna(0)\n",
    "    DF['HxGA'] = DF['HxGA'].div(DF['HM']).fillna(0)\n",
    "    DF['AxG'] = DF['AxG'].div(DF['AM']).fillna(0)\n",
    "    DF['AG'] = DF['AG'].div(DF['AM']).fillna(0)\n",
    "    DF['AxGA'] = DF['AxG'].div(DF['AM']).fillna(0)\n",
    "    DF['AGA'] = DF['AGA'].div(DF['AM']).fillna(0)\n",
    "    pred['HxG'] = pred['HxG'].div(pred['HM']).fillna(0)\n",
    "    pred['HG'] = pred['HG'].div(pred['HM']).fillna(0)\n",
    "    pred['HGA'] = pred['HGA'].div(pred['HM']).fillna(0)\n",
    "    pred['HxGA'] = pred['HxGA'].div(pred['HM']).fillna(0)\n",
    "    pred['AxG'] = pred['AxG'].div(pred['AM']).fillna(0)\n",
    "    pred['AG'] = pred['AG'].div(pred['AM']).fillna(0)\n",
    "    pred['AxGA'] = pred['AxG'].div(pred['AM']).fillna(0)\n",
    "    pred['AGA'] = pred['AGA'].div(pred['AM']).fillna(0)\n",
    "\n",
    "except ZeroDivisionError:\n",
    "    DF['HxG'] = 0\n",
    "    DF['HG'] = 0\n",
    "    DF['HGA'] = 0\n",
    "    DF['HxGA'] = 0\n",
    "    DF['AxG'] = 0\n",
    "    DF['AG'] = 0\n",
    "    DF['AxGA'] = 0\n",
    "    DF['AGA'] = 0\n",
    "\n",
    "\n",
    "print(DF.iloc[:cut])\n",
    "        \n",
    "HGoals = []\n",
    "AGoals = []\n",
    "for i, x in DF.iloc[:cut].iterrows():\n",
    "    a=str(x['Result']).split('\\'')\n",
    "    try:\n",
    "        HGoals.append(a[1])\n",
    "        AGoals.append(a[3])\n",
    "    except IndexError:\n",
    "        print(x)\n",
    "        print(DF.iloc[:cut].iloc[i-1])\n",
    "\n",
    "DF=np.array(DF)\n",
    "\n",
    "DFnorm = preprocessing.normalize(DF[:, 0:21].astype('float64'), axis=0)\n",
    "pred = DFnorm[cut:]\n",
    "DF = DFnorm[:cut]\n",
    "\n",
    "x=DF\n",
    "\n",
    "y1=np.array(HGoals)\n",
    "y2=np.array(AGoals)\n",
    "\n",
    "reg1 = LinearRegression().fit(x, y1)\n",
    "reg2 = LinearRegression().fit(x, y2)\n",
    "\n",
    "LamdaHomeForm= reg1.predict(pred)\n",
    "LamdaAwayForm= reg2.predict(pred)"
   ]
  },
  {
   "cell_type": "code",
   "execution_count": 4,
   "metadata": {},
   "outputs": [
    {
     "name": "stdout",
     "output_type": "stream",
     "text": [
      "[1.8218833361032514, 2.5199534347386683, 1.1942965293819583, 2.0727631473758756, 2.724677514037657, 1.6234682717156366, 1.085934836695626, 1.4815385117051063, 2.182997832735592, 1.9624813260235605, 2.2337283666804932, 1.4762278725738824, 1.31071564654391, 1.8336806975514712, 1.3276415809824549, 2.8354162133094576, 1.4123866206484355, 1.0976387086903832, 1.6336999251357138, 1.205454639091689, 0.8515507488544705, 2.1101464283726252]\n",
      "[1.1943923703278676, 1.179283534162096, 2.0518308944452364, 1.2684551933794468, 0.5183672060527156, 1.6464101370017779, 2.093064328291354, 1.4712842050581973, 1.202545651548399, 0.9577108389393706, 0.8861389674742223, 1.6778236053547326, 1.5088512175061797, 1.2595513954670432, 1.2809844345814203, 0.49180196282642474, 1.7154387023807687, 1.702815354538235, 1.4222147297471197, 1.5479968963127089, 2.149629128481617, 1.5837440184750913]\n"
     ]
    }
   ],
   "source": [
    "LamdaAwayFinal = [(LamdaAway[i] * 0.4 + LamdaAwayForm[i] * 0.6) for i in range(len(LamdaAway))]\n",
    "LamdaHomeFinal = [(LamdaHome[i] * 0.4 + LamdaHomeForm[i] * 0.6) for i in range(len(LamdaHome))]\n",
    "\n",
    "print(LamdaHomeFinal)\n",
    "print(LamdaAwayFinal)"
   ]
  },
  {
   "cell_type": "code",
   "execution_count": 5,
   "metadata": {},
   "outputs": [
    {
     "data": {
      "text/html": [
       "<div>\n",
       "<style scoped>\n",
       "    .dataframe tbody tr th:only-of-type {\n",
       "        vertical-align: middle;\n",
       "    }\n",
       "\n",
       "    .dataframe tbody tr th {\n",
       "        vertical-align: top;\n",
       "    }\n",
       "\n",
       "    .dataframe thead th {\n",
       "        text-align: right;\n",
       "    }\n",
       "</style>\n",
       "<table border=\"1\" class=\"dataframe\">\n",
       "  <thead>\n",
       "    <tr style=\"text-align: right;\">\n",
       "      <th></th>\n",
       "      <th>Date</th>\n",
       "      <th>HTeam</th>\n",
       "      <th>ATeam</th>\n",
       "      <th>P(Hwin)</th>\n",
       "      <th>P(Draw)</th>\n",
       "      <th>P(Awin)</th>\n",
       "      <th>P(Under)</th>\n",
       "      <th>P(Over)</th>\n",
       "      <th>P(GG)</th>\n",
       "      <th>P(NG)</th>\n",
       "    </tr>\n",
       "  </thead>\n",
       "  <tbody>\n",
       "    <tr>\n",
       "      <th>0</th>\n",
       "      <td>22/10/2023</td>\n",
       "      <td>Aston Villa</td>\n",
       "      <td>West Ham</td>\n",
       "      <td>0.544</td>\n",
       "      <td>0.223</td>\n",
       "      <td>0.233</td>\n",
       "      <td>0.407</td>\n",
       "      <td>0.593</td>\n",
       "      <td>0.587</td>\n",
       "      <td>0.413</td>\n",
       "    </tr>\n",
       "    <tr>\n",
       "      <th>1</th>\n",
       "      <td>23/10/2023</td>\n",
       "      <td>Tottenham</td>\n",
       "      <td>Fulham</td>\n",
       "      <td>0.712</td>\n",
       "      <td>0.158</td>\n",
       "      <td>0.130</td>\n",
       "      <td>0.271</td>\n",
       "      <td>0.729</td>\n",
       "      <td>0.619</td>\n",
       "      <td>0.381</td>\n",
       "    </tr>\n",
       "    <tr>\n",
       "      <th>2</th>\n",
       "      <td>27/10/2023</td>\n",
       "      <td>Crystal Palace</td>\n",
       "      <td>Tottenham</td>\n",
       "      <td>0.221</td>\n",
       "      <td>0.209</td>\n",
       "      <td>0.570</td>\n",
       "      <td>0.357</td>\n",
       "      <td>0.643</td>\n",
       "      <td>0.620</td>\n",
       "      <td>0.380</td>\n",
       "    </tr>\n",
       "    <tr>\n",
       "      <th>3</th>\n",
       "      <td>28/10/2023</td>\n",
       "      <td>Chelsea</td>\n",
       "      <td>Brentford</td>\n",
       "      <td>0.569</td>\n",
       "      <td>0.210</td>\n",
       "      <td>0.221</td>\n",
       "      <td>0.359</td>\n",
       "      <td>0.641</td>\n",
       "      <td>0.619</td>\n",
       "      <td>0.381</td>\n",
       "    </tr>\n",
       "    <tr>\n",
       "      <th>4</th>\n",
       "      <td>28/10/2023</td>\n",
       "      <td>Arsenal</td>\n",
       "      <td>Sheffield United</td>\n",
       "      <td>0.873</td>\n",
       "      <td>0.096</td>\n",
       "      <td>0.031</td>\n",
       "      <td>0.369</td>\n",
       "      <td>0.631</td>\n",
       "      <td>0.309</td>\n",
       "      <td>0.691</td>\n",
       "    </tr>\n",
       "    <tr>\n",
       "      <th>5</th>\n",
       "      <td>28/10/2023</td>\n",
       "      <td>Bournemouth</td>\n",
       "      <td>Burnley</td>\n",
       "      <td>0.385</td>\n",
       "      <td>0.233</td>\n",
       "      <td>0.381</td>\n",
       "      <td>0.376</td>\n",
       "      <td>0.624</td>\n",
       "      <td>0.640</td>\n",
       "      <td>0.360</td>\n",
       "    </tr>\n",
       "    <tr>\n",
       "      <th>6</th>\n",
       "      <td>28/10/2023</td>\n",
       "      <td>Wolverhampton Wanderers</td>\n",
       "      <td>Newcastle United</td>\n",
       "      <td>0.171</td>\n",
       "      <td>0.201</td>\n",
       "      <td>0.628</td>\n",
       "      <td>0.396</td>\n",
       "      <td>0.604</td>\n",
       "      <td>0.558</td>\n",
       "      <td>0.442</td>\n",
       "    </tr>\n",
       "    <tr>\n",
       "      <th>7</th>\n",
       "      <td>29/10/2023</td>\n",
       "      <td>West Ham</td>\n",
       "      <td>Everton</td>\n",
       "      <td>0.402</td>\n",
       "      <td>0.241</td>\n",
       "      <td>0.358</td>\n",
       "      <td>0.414</td>\n",
       "      <td>0.586</td>\n",
       "      <td>0.610</td>\n",
       "      <td>0.390</td>\n",
       "    </tr>\n",
       "    <tr>\n",
       "      <th>8</th>\n",
       "      <td>29/10/2023</td>\n",
       "      <td>Brighton</td>\n",
       "      <td>Fulham</td>\n",
       "      <td>0.614</td>\n",
       "      <td>0.196</td>\n",
       "      <td>0.190</td>\n",
       "      <td>0.338</td>\n",
       "      <td>0.662</td>\n",
       "      <td>0.616</td>\n",
       "      <td>0.384</td>\n",
       "    </tr>\n",
       "    <tr>\n",
       "      <th>9</th>\n",
       "      <td>29/10/2023</td>\n",
       "      <td>Aston Villa</td>\n",
       "      <td>Luton</td>\n",
       "      <td>0.641</td>\n",
       "      <td>0.201</td>\n",
       "      <td>0.157</td>\n",
       "      <td>0.420</td>\n",
       "      <td>0.580</td>\n",
       "      <td>0.529</td>\n",
       "      <td>0.471</td>\n",
       "    </tr>\n",
       "    <tr>\n",
       "      <th>10</th>\n",
       "      <td>29/10/2023</td>\n",
       "      <td>Liverpool</td>\n",
       "      <td>Nottingham Forest</td>\n",
       "      <td>0.704</td>\n",
       "      <td>0.176</td>\n",
       "      <td>0.119</td>\n",
       "      <td>0.394</td>\n",
       "      <td>0.606</td>\n",
       "      <td>0.508</td>\n",
       "      <td>0.492</td>\n",
       "    </tr>\n",
       "    <tr>\n",
       "      <th>11</th>\n",
       "      <td>29/10/2023</td>\n",
       "      <td>Manchester United</td>\n",
       "      <td>Manchester City</td>\n",
       "      <td>0.353</td>\n",
       "      <td>0.236</td>\n",
       "      <td>0.410</td>\n",
       "      <td>0.393</td>\n",
       "      <td>0.607</td>\n",
       "      <td>0.626</td>\n",
       "      <td>0.374</td>\n",
       "    </tr>\n",
       "    <tr>\n",
       "      <th>12</th>\n",
       "      <td>04/11/2023</td>\n",
       "      <td>Fulham</td>\n",
       "      <td>Manchester United</td>\n",
       "      <td>0.337</td>\n",
       "      <td>0.248</td>\n",
       "      <td>0.415</td>\n",
       "      <td>0.451</td>\n",
       "      <td>0.549</td>\n",
       "      <td>0.580</td>\n",
       "      <td>0.420</td>\n",
       "    </tr>\n",
       "    <tr>\n",
       "      <th>13</th>\n",
       "      <td>04/11/2023</td>\n",
       "      <td>Brentford</td>\n",
       "      <td>West Ham</td>\n",
       "      <td>0.504</td>\n",
       "      <td>0.230</td>\n",
       "      <td>0.266</td>\n",
       "      <td>0.409</td>\n",
       "      <td>0.591</td>\n",
       "      <td>0.598</td>\n",
       "      <td>0.402</td>\n",
       "    </tr>\n",
       "    <tr>\n",
       "      <th>14</th>\n",
       "      <td>04/11/2023</td>\n",
       "      <td>Burnley</td>\n",
       "      <td>Crystal Palace</td>\n",
       "      <td>0.352</td>\n",
       "      <td>0.263</td>\n",
       "      <td>0.385</td>\n",
       "      <td>0.516</td>\n",
       "      <td>0.484</td>\n",
       "      <td>0.531</td>\n",
       "      <td>0.469</td>\n",
       "    </tr>\n",
       "    <tr>\n",
       "      <th>15</th>\n",
       "      <td>04/11/2023</td>\n",
       "      <td>Manchester City</td>\n",
       "      <td>Bournemouth</td>\n",
       "      <td>0.898</td>\n",
       "      <td>0.080</td>\n",
       "      <td>0.023</td>\n",
       "      <td>0.336</td>\n",
       "      <td>0.664</td>\n",
       "      <td>0.286</td>\n",
       "      <td>0.714</td>\n",
       "    </tr>\n",
       "    <tr>\n",
       "      <th>16</th>\n",
       "      <td>04/11/2023</td>\n",
       "      <td>Everton</td>\n",
       "      <td>Brighton</td>\n",
       "      <td>0.323</td>\n",
       "      <td>0.234</td>\n",
       "      <td>0.443</td>\n",
       "      <td>0.392</td>\n",
       "      <td>0.608</td>\n",
       "      <td>0.624</td>\n",
       "      <td>0.376</td>\n",
       "    </tr>\n",
       "    <tr>\n",
       "      <th>17</th>\n",
       "      <td>04/11/2023</td>\n",
       "      <td>Sheffield United</td>\n",
       "      <td>Wolverhampton Wanderers</td>\n",
       "      <td>0.226</td>\n",
       "      <td>0.237</td>\n",
       "      <td>0.538</td>\n",
       "      <td>0.475</td>\n",
       "      <td>0.525</td>\n",
       "      <td>0.533</td>\n",
       "      <td>0.467</td>\n",
       "    </tr>\n",
       "    <tr>\n",
       "      <th>18</th>\n",
       "      <td>04/11/2023</td>\n",
       "      <td>Newcastle United</td>\n",
       "      <td>Arsenal</td>\n",
       "      <td>0.439</td>\n",
       "      <td>0.235</td>\n",
       "      <td>0.326</td>\n",
       "      <td>0.395</td>\n",
       "      <td>0.605</td>\n",
       "      <td>0.622</td>\n",
       "      <td>0.378</td>\n",
       "    </tr>\n",
       "    <tr>\n",
       "      <th>19</th>\n",
       "      <td>05/11/2023</td>\n",
       "      <td>Nottingham Forest</td>\n",
       "      <td>Aston Villa</td>\n",
       "      <td>0.270</td>\n",
       "      <td>0.249</td>\n",
       "      <td>0.481</td>\n",
       "      <td>0.489</td>\n",
       "      <td>0.511</td>\n",
       "      <td>0.539</td>\n",
       "      <td>0.461</td>\n",
       "    </tr>\n",
       "    <tr>\n",
       "      <th>20</th>\n",
       "      <td>05/11/2023</td>\n",
       "      <td>Luton</td>\n",
       "      <td>Liverpool</td>\n",
       "      <td>0.123</td>\n",
       "      <td>0.185</td>\n",
       "      <td>0.692</td>\n",
       "      <td>0.426</td>\n",
       "      <td>0.574</td>\n",
       "      <td>0.488</td>\n",
       "      <td>0.512</td>\n",
       "    </tr>\n",
       "    <tr>\n",
       "      <th>21</th>\n",
       "      <td>06/11/2023</td>\n",
       "      <td>Tottenham</td>\n",
       "      <td>Chelsea</td>\n",
       "      <td>0.558</td>\n",
       "      <td>0.198</td>\n",
       "      <td>0.244</td>\n",
       "      <td>0.272</td>\n",
       "      <td>0.728</td>\n",
       "      <td>0.695</td>\n",
       "      <td>0.305</td>\n",
       "    </tr>\n",
       "  </tbody>\n",
       "</table>\n",
       "</div>"
      ],
      "text/plain": [
       "          Date                    HTeam                    ATeam  P(Hwin)  \\\n",
       "0   22/10/2023              Aston Villa                 West Ham    0.544   \n",
       "1   23/10/2023                Tottenham                   Fulham    0.712   \n",
       "2   27/10/2023           Crystal Palace                Tottenham    0.221   \n",
       "3   28/10/2023                  Chelsea                Brentford    0.569   \n",
       "4   28/10/2023                  Arsenal         Sheffield United    0.873   \n",
       "5   28/10/2023              Bournemouth                  Burnley    0.385   \n",
       "6   28/10/2023  Wolverhampton Wanderers         Newcastle United    0.171   \n",
       "7   29/10/2023                 West Ham                  Everton    0.402   \n",
       "8   29/10/2023                 Brighton                   Fulham    0.614   \n",
       "9   29/10/2023              Aston Villa                    Luton    0.641   \n",
       "10  29/10/2023                Liverpool        Nottingham Forest    0.704   \n",
       "11  29/10/2023        Manchester United          Manchester City    0.353   \n",
       "12  04/11/2023                   Fulham        Manchester United    0.337   \n",
       "13  04/11/2023                Brentford                 West Ham    0.504   \n",
       "14  04/11/2023                  Burnley           Crystal Palace    0.352   \n",
       "15  04/11/2023          Manchester City              Bournemouth    0.898   \n",
       "16  04/11/2023                  Everton                 Brighton    0.323   \n",
       "17  04/11/2023         Sheffield United  Wolverhampton Wanderers    0.226   \n",
       "18  04/11/2023         Newcastle United                  Arsenal    0.439   \n",
       "19  05/11/2023        Nottingham Forest              Aston Villa    0.270   \n",
       "20  05/11/2023                    Luton                Liverpool    0.123   \n",
       "21  06/11/2023                Tottenham                  Chelsea    0.558   \n",
       "\n",
       "    P(Draw)  P(Awin)  P(Under)  P(Over)  P(GG)  P(NG)  \n",
       "0     0.223    0.233     0.407    0.593  0.587  0.413  \n",
       "1     0.158    0.130     0.271    0.729  0.619  0.381  \n",
       "2     0.209    0.570     0.357    0.643  0.620  0.380  \n",
       "3     0.210    0.221     0.359    0.641  0.619  0.381  \n",
       "4     0.096    0.031     0.369    0.631  0.309  0.691  \n",
       "5     0.233    0.381     0.376    0.624  0.640  0.360  \n",
       "6     0.201    0.628     0.396    0.604  0.558  0.442  \n",
       "7     0.241    0.358     0.414    0.586  0.610  0.390  \n",
       "8     0.196    0.190     0.338    0.662  0.616  0.384  \n",
       "9     0.201    0.157     0.420    0.580  0.529  0.471  \n",
       "10    0.176    0.119     0.394    0.606  0.508  0.492  \n",
       "11    0.236    0.410     0.393    0.607  0.626  0.374  \n",
       "12    0.248    0.415     0.451    0.549  0.580  0.420  \n",
       "13    0.230    0.266     0.409    0.591  0.598  0.402  \n",
       "14    0.263    0.385     0.516    0.484  0.531  0.469  \n",
       "15    0.080    0.023     0.336    0.664  0.286  0.714  \n",
       "16    0.234    0.443     0.392    0.608  0.624  0.376  \n",
       "17    0.237    0.538     0.475    0.525  0.533  0.467  \n",
       "18    0.235    0.326     0.395    0.605  0.622  0.378  \n",
       "19    0.249    0.481     0.489    0.511  0.539  0.461  \n",
       "20    0.185    0.692     0.426    0.574  0.488  0.512  \n",
       "21    0.198    0.244     0.272    0.728  0.695  0.305  "
      ]
     },
     "metadata": {},
     "output_type": "display_data"
    },
    {
     "name": "stderr",
     "output_type": "stream",
     "text": [
      "/tmp/ipykernel_190845/2946263194.py:87: SettingWithCopyWarning: \n",
      "A value is trying to be set on a copy of a slice from a DataFrame\n",
      "\n",
      "See the caveats in the documentation: https://pandas.pydata.org/pandas-docs/stable/user_guide/indexing.html#returning-a-view-versus-a-copy\n",
      "  Final_Odds['Match'][i] = str(Final_Odds['HTeam'][i] + '-' + Final_Odds['ATeam'][i])\n",
      "/tmp/ipykernel_190845/2946263194.py:91: SettingWithCopyWarning: \n",
      "A value is trying to be set on a copy of a slice from a DataFrame\n",
      "\n",
      "See the caveats in the documentation: https://pandas.pydata.org/pandas-docs/stable/user_guide/indexing.html#returning-a-view-versus-a-copy\n",
      "  Final_Odds['P(Hwin)'][i] = 1/Final_Odds.iloc[i]['B365H']\n",
      "/tmp/ipykernel_190845/2946263194.py:92: SettingWithCopyWarning: \n",
      "A value is trying to be set on a copy of a slice from a DataFrame\n",
      "\n",
      "See the caveats in the documentation: https://pandas.pydata.org/pandas-docs/stable/user_guide/indexing.html#returning-a-view-versus-a-copy\n",
      "  Final_Odds['P(Awin)'][i] = 1/Final_Odds.iloc[i]['B365A']\n",
      "/tmp/ipykernel_190845/2946263194.py:93: SettingWithCopyWarning: \n",
      "A value is trying to be set on a copy of a slice from a DataFrame\n",
      "\n",
      "See the caveats in the documentation: https://pandas.pydata.org/pandas-docs/stable/user_guide/indexing.html#returning-a-view-versus-a-copy\n",
      "  Final_Odds['P(Draw)'][i] = 1/Final_Odds.iloc[i]['B365D']\n",
      "/tmp/ipykernel_190845/2946263194.py:94: SettingWithCopyWarning: \n",
      "A value is trying to be set on a copy of a slice from a DataFrame\n",
      "\n",
      "See the caveats in the documentation: https://pandas.pydata.org/pandas-docs/stable/user_guide/indexing.html#returning-a-view-versus-a-copy\n",
      "  Final_Odds['P(Over)'][i] = 1/Final_Odds.iloc[i]['BbAv>2.5']\n",
      "/tmp/ipykernel_190845/2946263194.py:95: SettingWithCopyWarning: \n",
      "A value is trying to be set on a copy of a slice from a DataFrame\n",
      "\n",
      "See the caveats in the documentation: https://pandas.pydata.org/pandas-docs/stable/user_guide/indexing.html#returning-a-view-versus-a-copy\n",
      "  Final_Odds['P(Under)'][i] = 1/Final_Odds.iloc[i]['BbAv<2.5']\n",
      "/tmp/ipykernel_190845/2946263194.py:96: SettingWithCopyWarning: \n",
      "A value is trying to be set on a copy of a slice from a DataFrame\n",
      "\n",
      "See the caveats in the documentation: https://pandas.pydata.org/pandas-docs/stable/user_guide/indexing.html#returning-a-view-versus-a-copy\n",
      "  Final_Odds['P(GG)'][i] = 1/Final_Odds.iloc[i]['GG']\n",
      "/tmp/ipykernel_190845/2946263194.py:97: SettingWithCopyWarning: \n",
      "A value is trying to be set on a copy of a slice from a DataFrame\n",
      "\n",
      "See the caveats in the documentation: https://pandas.pydata.org/pandas-docs/stable/user_guide/indexing.html#returning-a-view-versus-a-copy\n",
      "  Final_Odds['P(NG)'][i] = 1/Final_Odds.iloc[i]['NG']\n"
     ]
    },
    {
     "data": {
      "text/html": [
       "<div>\n",
       "<style scoped>\n",
       "    .dataframe tbody tr th:only-of-type {\n",
       "        vertical-align: middle;\n",
       "    }\n",
       "\n",
       "    .dataframe tbody tr th {\n",
       "        vertical-align: top;\n",
       "    }\n",
       "\n",
       "    .dataframe thead th {\n",
       "        text-align: right;\n",
       "    }\n",
       "</style>\n",
       "<table border=\"1\" class=\"dataframe\">\n",
       "  <thead>\n",
       "    <tr style=\"text-align: right;\">\n",
       "      <th></th>\n",
       "      <th>P(Hwin)</th>\n",
       "      <th>P(Draw)</th>\n",
       "      <th>P(Awin)</th>\n",
       "      <th>P(Under)</th>\n",
       "      <th>P(Over)</th>\n",
       "      <th>P(GG)</th>\n",
       "      <th>P(NG)</th>\n",
       "      <th>Type</th>\n",
       "      <th>Match</th>\n",
       "      <th>Date</th>\n",
       "    </tr>\n",
       "  </thead>\n",
       "  <tbody>\n",
       "    <tr>\n",
       "      <th>0</th>\n",
       "      <td>0.54</td>\n",
       "      <td>0.22</td>\n",
       "      <td>0.23</td>\n",
       "      <td>0.41</td>\n",
       "      <td>0.59</td>\n",
       "      <td>0.59</td>\n",
       "      <td>0.41</td>\n",
       "      <td>Predicted</td>\n",
       "      <td>Aston Villa-West Ham</td>\n",
       "      <td>22/10/2023</td>\n",
       "    </tr>\n",
       "    <tr>\n",
       "      <th>1</th>\n",
       "      <td>0.71</td>\n",
       "      <td>0.16</td>\n",
       "      <td>0.13</td>\n",
       "      <td>0.27</td>\n",
       "      <td>0.73</td>\n",
       "      <td>0.62</td>\n",
       "      <td>0.38</td>\n",
       "      <td>Predicted</td>\n",
       "      <td>Tottenham-Fulham</td>\n",
       "      <td>23/10/2023</td>\n",
       "    </tr>\n",
       "    <tr>\n",
       "      <th>2</th>\n",
       "      <td>0.22</td>\n",
       "      <td>0.21</td>\n",
       "      <td>0.57</td>\n",
       "      <td>0.36</td>\n",
       "      <td>0.64</td>\n",
       "      <td>0.62</td>\n",
       "      <td>0.38</td>\n",
       "      <td>Predicted</td>\n",
       "      <td>Crystal Palace-Tottenham</td>\n",
       "      <td>27/10/2023</td>\n",
       "    </tr>\n",
       "    <tr>\n",
       "      <th>3</th>\n",
       "      <td>0.57</td>\n",
       "      <td>0.21</td>\n",
       "      <td>0.22</td>\n",
       "      <td>0.36</td>\n",
       "      <td>0.64</td>\n",
       "      <td>0.62</td>\n",
       "      <td>0.38</td>\n",
       "      <td>Predicted</td>\n",
       "      <td>Chelsea-Brentford</td>\n",
       "      <td>28/10/2023</td>\n",
       "    </tr>\n",
       "    <tr>\n",
       "      <th>4</th>\n",
       "      <td>0.87</td>\n",
       "      <td>0.10</td>\n",
       "      <td>0.03</td>\n",
       "      <td>0.37</td>\n",
       "      <td>0.63</td>\n",
       "      <td>0.31</td>\n",
       "      <td>0.69</td>\n",
       "      <td>Predicted</td>\n",
       "      <td>Arsenal-Sheffield United</td>\n",
       "      <td>28/10/2023</td>\n",
       "    </tr>\n",
       "    <tr>\n",
       "      <th>5</th>\n",
       "      <td>0.39</td>\n",
       "      <td>0.23</td>\n",
       "      <td>0.38</td>\n",
       "      <td>0.38</td>\n",
       "      <td>0.62</td>\n",
       "      <td>0.64</td>\n",
       "      <td>0.36</td>\n",
       "      <td>Predicted</td>\n",
       "      <td>Bournemouth-Burnley</td>\n",
       "      <td>28/10/2023</td>\n",
       "    </tr>\n",
       "    <tr>\n",
       "      <th>6</th>\n",
       "      <td>0.17</td>\n",
       "      <td>0.20</td>\n",
       "      <td>0.63</td>\n",
       "      <td>0.40</td>\n",
       "      <td>0.60</td>\n",
       "      <td>0.56</td>\n",
       "      <td>0.44</td>\n",
       "      <td>Predicted</td>\n",
       "      <td>Wolverhampton Wanderers-Newcastle United</td>\n",
       "      <td>28/10/2023</td>\n",
       "    </tr>\n",
       "    <tr>\n",
       "      <th>7</th>\n",
       "      <td>0.40</td>\n",
       "      <td>0.24</td>\n",
       "      <td>0.36</td>\n",
       "      <td>0.41</td>\n",
       "      <td>0.59</td>\n",
       "      <td>0.61</td>\n",
       "      <td>0.39</td>\n",
       "      <td>Predicted</td>\n",
       "      <td>West Ham-Everton</td>\n",
       "      <td>29/10/2023</td>\n",
       "    </tr>\n",
       "    <tr>\n",
       "      <th>8</th>\n",
       "      <td>0.61</td>\n",
       "      <td>0.20</td>\n",
       "      <td>0.19</td>\n",
       "      <td>0.34</td>\n",
       "      <td>0.66</td>\n",
       "      <td>0.62</td>\n",
       "      <td>0.38</td>\n",
       "      <td>Predicted</td>\n",
       "      <td>Brighton-Fulham</td>\n",
       "      <td>29/10/2023</td>\n",
       "    </tr>\n",
       "    <tr>\n",
       "      <th>9</th>\n",
       "      <td>0.64</td>\n",
       "      <td>0.20</td>\n",
       "      <td>0.16</td>\n",
       "      <td>0.42</td>\n",
       "      <td>0.58</td>\n",
       "      <td>0.53</td>\n",
       "      <td>0.47</td>\n",
       "      <td>Predicted</td>\n",
       "      <td>Aston Villa-Luton</td>\n",
       "      <td>29/10/2023</td>\n",
       "    </tr>\n",
       "    <tr>\n",
       "      <th>10</th>\n",
       "      <td>0.70</td>\n",
       "      <td>0.18</td>\n",
       "      <td>0.12</td>\n",
       "      <td>0.39</td>\n",
       "      <td>0.61</td>\n",
       "      <td>0.51</td>\n",
       "      <td>0.49</td>\n",
       "      <td>Predicted</td>\n",
       "      <td>Liverpool-Nottingham Forest</td>\n",
       "      <td>29/10/2023</td>\n",
       "    </tr>\n",
       "    <tr>\n",
       "      <th>11</th>\n",
       "      <td>0.35</td>\n",
       "      <td>0.24</td>\n",
       "      <td>0.41</td>\n",
       "      <td>0.39</td>\n",
       "      <td>0.61</td>\n",
       "      <td>0.63</td>\n",
       "      <td>0.37</td>\n",
       "      <td>Predicted</td>\n",
       "      <td>Manchester United-Manchester City</td>\n",
       "      <td>29/10/2023</td>\n",
       "    </tr>\n",
       "    <tr>\n",
       "      <th>12</th>\n",
       "      <td>0.34</td>\n",
       "      <td>0.25</td>\n",
       "      <td>0.41</td>\n",
       "      <td>0.45</td>\n",
       "      <td>0.55</td>\n",
       "      <td>0.58</td>\n",
       "      <td>0.42</td>\n",
       "      <td>Predicted</td>\n",
       "      <td>Fulham-Manchester United</td>\n",
       "      <td>04/11/2023</td>\n",
       "    </tr>\n",
       "    <tr>\n",
       "      <th>13</th>\n",
       "      <td>0.50</td>\n",
       "      <td>0.23</td>\n",
       "      <td>0.27</td>\n",
       "      <td>0.41</td>\n",
       "      <td>0.59</td>\n",
       "      <td>0.60</td>\n",
       "      <td>0.40</td>\n",
       "      <td>Predicted</td>\n",
       "      <td>Brentford-West Ham</td>\n",
       "      <td>04/11/2023</td>\n",
       "    </tr>\n",
       "    <tr>\n",
       "      <th>14</th>\n",
       "      <td>0.35</td>\n",
       "      <td>0.26</td>\n",
       "      <td>0.38</td>\n",
       "      <td>0.52</td>\n",
       "      <td>0.48</td>\n",
       "      <td>0.53</td>\n",
       "      <td>0.47</td>\n",
       "      <td>Predicted</td>\n",
       "      <td>Burnley-Crystal Palace</td>\n",
       "      <td>04/11/2023</td>\n",
       "    </tr>\n",
       "    <tr>\n",
       "      <th>15</th>\n",
       "      <td>0.90</td>\n",
       "      <td>0.08</td>\n",
       "      <td>0.02</td>\n",
       "      <td>0.34</td>\n",
       "      <td>0.66</td>\n",
       "      <td>0.29</td>\n",
       "      <td>0.71</td>\n",
       "      <td>Predicted</td>\n",
       "      <td>Manchester City-Bournemouth</td>\n",
       "      <td>04/11/2023</td>\n",
       "    </tr>\n",
       "    <tr>\n",
       "      <th>16</th>\n",
       "      <td>0.32</td>\n",
       "      <td>0.23</td>\n",
       "      <td>0.44</td>\n",
       "      <td>0.39</td>\n",
       "      <td>0.61</td>\n",
       "      <td>0.62</td>\n",
       "      <td>0.38</td>\n",
       "      <td>Predicted</td>\n",
       "      <td>Everton-Brighton</td>\n",
       "      <td>04/11/2023</td>\n",
       "    </tr>\n",
       "    <tr>\n",
       "      <th>17</th>\n",
       "      <td>0.23</td>\n",
       "      <td>0.24</td>\n",
       "      <td>0.54</td>\n",
       "      <td>0.47</td>\n",
       "      <td>0.53</td>\n",
       "      <td>0.53</td>\n",
       "      <td>0.47</td>\n",
       "      <td>Predicted</td>\n",
       "      <td>Sheffield United-Wolverhampton Wanderers</td>\n",
       "      <td>04/11/2023</td>\n",
       "    </tr>\n",
       "    <tr>\n",
       "      <th>18</th>\n",
       "      <td>0.44</td>\n",
       "      <td>0.24</td>\n",
       "      <td>0.33</td>\n",
       "      <td>0.39</td>\n",
       "      <td>0.61</td>\n",
       "      <td>0.62</td>\n",
       "      <td>0.38</td>\n",
       "      <td>Predicted</td>\n",
       "      <td>Newcastle United-Arsenal</td>\n",
       "      <td>04/11/2023</td>\n",
       "    </tr>\n",
       "    <tr>\n",
       "      <th>19</th>\n",
       "      <td>0.27</td>\n",
       "      <td>0.25</td>\n",
       "      <td>0.48</td>\n",
       "      <td>0.49</td>\n",
       "      <td>0.51</td>\n",
       "      <td>0.54</td>\n",
       "      <td>0.46</td>\n",
       "      <td>Predicted</td>\n",
       "      <td>Nottingham Forest-Aston Villa</td>\n",
       "      <td>05/11/2023</td>\n",
       "    </tr>\n",
       "    <tr>\n",
       "      <th>20</th>\n",
       "      <td>0.12</td>\n",
       "      <td>0.19</td>\n",
       "      <td>0.69</td>\n",
       "      <td>0.43</td>\n",
       "      <td>0.57</td>\n",
       "      <td>0.49</td>\n",
       "      <td>0.51</td>\n",
       "      <td>Predicted</td>\n",
       "      <td>Luton-Liverpool</td>\n",
       "      <td>05/11/2023</td>\n",
       "    </tr>\n",
       "    <tr>\n",
       "      <th>21</th>\n",
       "      <td>0.56</td>\n",
       "      <td>0.20</td>\n",
       "      <td>0.24</td>\n",
       "      <td>0.27</td>\n",
       "      <td>0.73</td>\n",
       "      <td>0.70</td>\n",
       "      <td>0.30</td>\n",
       "      <td>Predicted</td>\n",
       "      <td>Tottenham-Chelsea</td>\n",
       "      <td>06/11/2023</td>\n",
       "    </tr>\n",
       "    <tr>\n",
       "      <th>22</th>\n",
       "      <td>0.52</td>\n",
       "      <td>0.27</td>\n",
       "      <td>0.26</td>\n",
       "      <td>0.43</td>\n",
       "      <td>0.62</td>\n",
       "      <td>0.66</td>\n",
       "      <td>0.41</td>\n",
       "      <td>Bookmaker</td>\n",
       "      <td>Aston Villa-West Ham</td>\n",
       "      <td>NaN</td>\n",
       "    </tr>\n",
       "    <tr>\n",
       "      <th>23</th>\n",
       "      <td>0.68</td>\n",
       "      <td>0.22</td>\n",
       "      <td>0.15</td>\n",
       "      <td>0.62</td>\n",
       "      <td>0.43</td>\n",
       "      <td>0.61</td>\n",
       "      <td>0.47</td>\n",
       "      <td>Bookmaker</td>\n",
       "      <td>Tottenham-Fulham</td>\n",
       "      <td>NaN</td>\n",
       "    </tr>\n",
       "    <tr>\n",
       "      <th>24</th>\n",
       "      <td>0.29</td>\n",
       "      <td>0.26</td>\n",
       "      <td>0.50</td>\n",
       "      <td>0.47</td>\n",
       "      <td>0.58</td>\n",
       "      <td>0.61</td>\n",
       "      <td>0.47</td>\n",
       "      <td>Bookmaker</td>\n",
       "      <td>Crystal Palace-Tottenham</td>\n",
       "      <td>NaN</td>\n",
       "    </tr>\n",
       "    <tr>\n",
       "      <th>25</th>\n",
       "      <td>0.61</td>\n",
       "      <td>0.25</td>\n",
       "      <td>0.19</td>\n",
       "      <td>0.50</td>\n",
       "      <td>0.55</td>\n",
       "      <td>0.55</td>\n",
       "      <td>0.53</td>\n",
       "      <td>Bookmaker</td>\n",
       "      <td>Chelsea-Brentford</td>\n",
       "      <td>NaN</td>\n",
       "    </tr>\n",
       "    <tr>\n",
       "      <th>26</th>\n",
       "      <td>0.86</td>\n",
       "      <td>0.14</td>\n",
       "      <td>0.05</td>\n",
       "      <td>0.56</td>\n",
       "      <td>0.49</td>\n",
       "      <td>0.47</td>\n",
       "      <td>0.61</td>\n",
       "      <td>Bookmaker</td>\n",
       "      <td>Arsenal-Sheffield United</td>\n",
       "      <td>NaN</td>\n",
       "    </tr>\n",
       "    <tr>\n",
       "      <th>27</th>\n",
       "      <td>0.46</td>\n",
       "      <td>0.28</td>\n",
       "      <td>0.31</td>\n",
       "      <td>0.51</td>\n",
       "      <td>0.54</td>\n",
       "      <td>0.59</td>\n",
       "      <td>0.47</td>\n",
       "      <td>Bookmaker</td>\n",
       "      <td>Bournemouth-Burnley</td>\n",
       "      <td>NaN</td>\n",
       "    </tr>\n",
       "    <tr>\n",
       "      <th>28</th>\n",
       "      <td>0.23</td>\n",
       "      <td>0.26</td>\n",
       "      <td>0.56</td>\n",
       "      <td>0.49</td>\n",
       "      <td>0.56</td>\n",
       "      <td>0.58</td>\n",
       "      <td>0.49</td>\n",
       "      <td>Bookmaker</td>\n",
       "      <td>Wolverhampton Wanderers-Newcastle United</td>\n",
       "      <td>NaN</td>\n",
       "    </tr>\n",
       "    <tr>\n",
       "      <th>29</th>\n",
       "      <td>0.50</td>\n",
       "      <td>0.27</td>\n",
       "      <td>0.29</td>\n",
       "      <td>0.47</td>\n",
       "      <td>0.58</td>\n",
       "      <td>0.62</td>\n",
       "      <td>0.45</td>\n",
       "      <td>Bookmaker</td>\n",
       "      <td>West Ham-Everton</td>\n",
       "      <td>NaN</td>\n",
       "    </tr>\n",
       "    <tr>\n",
       "      <th>30</th>\n",
       "      <td>0.66</td>\n",
       "      <td>0.22</td>\n",
       "      <td>0.17</td>\n",
       "      <td>0.61</td>\n",
       "      <td>0.44</td>\n",
       "      <td>0.62</td>\n",
       "      <td>0.44</td>\n",
       "      <td>Bookmaker</td>\n",
       "      <td>Brighton-Fulham</td>\n",
       "      <td>NaN</td>\n",
       "    </tr>\n",
       "    <tr>\n",
       "      <th>31</th>\n",
       "      <td>0.75</td>\n",
       "      <td>0.19</td>\n",
       "      <td>0.11</td>\n",
       "      <td>0.42</td>\n",
       "      <td>0.62</td>\n",
       "      <td>0.53</td>\n",
       "      <td>0.55</td>\n",
       "      <td>Bookmaker</td>\n",
       "      <td>Aston Villa-Luton</td>\n",
       "      <td>NaN</td>\n",
       "    </tr>\n",
       "    <tr>\n",
       "      <th>32</th>\n",
       "      <td>0.78</td>\n",
       "      <td>0.18</td>\n",
       "      <td>0.10</td>\n",
       "      <td>0.56</td>\n",
       "      <td>0.50</td>\n",
       "      <td>0.57</td>\n",
       "      <td>0.50</td>\n",
       "      <td>Bookmaker</td>\n",
       "      <td>Liverpool-Nottingham Forest</td>\n",
       "      <td>NaN</td>\n",
       "    </tr>\n",
       "    <tr>\n",
       "      <th>33</th>\n",
       "      <td>0.22</td>\n",
       "      <td>0.25</td>\n",
       "      <td>0.58</td>\n",
       "      <td>0.43</td>\n",
       "      <td>0.62</td>\n",
       "      <td>0.62</td>\n",
       "      <td>0.44</td>\n",
       "      <td>Bookmaker</td>\n",
       "      <td>Manchester United-Manchester City</td>\n",
       "      <td>NaN</td>\n",
       "    </tr>\n",
       "    <tr>\n",
       "      <th>34</th>\n",
       "      <td>0.22</td>\n",
       "      <td>0.27</td>\n",
       "      <td>0.56</td>\n",
       "      <td>0.47</td>\n",
       "      <td>0.58</td>\n",
       "      <td>0.61</td>\n",
       "      <td>0.47</td>\n",
       "      <td>Bookmaker</td>\n",
       "      <td>Fulham-Manchester United</td>\n",
       "      <td>NaN</td>\n",
       "    </tr>\n",
       "    <tr>\n",
       "      <th>35</th>\n",
       "      <td>0.43</td>\n",
       "      <td>0.27</td>\n",
       "      <td>0.34</td>\n",
       "      <td>0.47</td>\n",
       "      <td>0.59</td>\n",
       "      <td>0.64</td>\n",
       "      <td>0.43</td>\n",
       "      <td>Bookmaker</td>\n",
       "      <td>Brentford-West Ham</td>\n",
       "      <td>NaN</td>\n",
       "    </tr>\n",
       "    <tr>\n",
       "      <th>36</th>\n",
       "      <td>0.38</td>\n",
       "      <td>0.30</td>\n",
       "      <td>0.36</td>\n",
       "      <td>0.56</td>\n",
       "      <td>0.49</td>\n",
       "      <td>0.56</td>\n",
       "      <td>0.51</td>\n",
       "      <td>Bookmaker</td>\n",
       "      <td>Burnley-Crystal Palace</td>\n",
       "      <td>NaN</td>\n",
       "    </tr>\n",
       "    <tr>\n",
       "      <th>37</th>\n",
       "      <td>0.86</td>\n",
       "      <td>0.13</td>\n",
       "      <td>0.06</td>\n",
       "      <td>0.51</td>\n",
       "      <td>0.54</td>\n",
       "      <td>0.50</td>\n",
       "      <td>0.57</td>\n",
       "      <td>Bookmaker</td>\n",
       "      <td>Manchester City-Bournemouth</td>\n",
       "      <td>NaN</td>\n",
       "    </tr>\n",
       "    <tr>\n",
       "      <th>38</th>\n",
       "      <td>0.33</td>\n",
       "      <td>0.25</td>\n",
       "      <td>0.47</td>\n",
       "      <td>0.43</td>\n",
       "      <td>0.62</td>\n",
       "      <td>0.64</td>\n",
       "      <td>0.43</td>\n",
       "      <td>Bookmaker</td>\n",
       "      <td>Everton-Brighton</td>\n",
       "      <td>NaN</td>\n",
       "    </tr>\n",
       "    <tr>\n",
       "      <th>39</th>\n",
       "      <td>0.35</td>\n",
       "      <td>0.28</td>\n",
       "      <td>0.42</td>\n",
       "      <td>0.53</td>\n",
       "      <td>0.52</td>\n",
       "      <td>0.57</td>\n",
       "      <td>0.50</td>\n",
       "      <td>Bookmaker</td>\n",
       "      <td>Sheffield United-Wolverhampton Wanderers</td>\n",
       "      <td>NaN</td>\n",
       "    </tr>\n",
       "    <tr>\n",
       "      <th>40</th>\n",
       "      <td>0.38</td>\n",
       "      <td>0.27</td>\n",
       "      <td>0.40</td>\n",
       "      <td>0.49</td>\n",
       "      <td>0.56</td>\n",
       "      <td>0.61</td>\n",
       "      <td>0.47</td>\n",
       "      <td>Bookmaker</td>\n",
       "      <td>Newcastle United-Arsenal</td>\n",
       "      <td>NaN</td>\n",
       "    </tr>\n",
       "    <tr>\n",
       "      <th>41</th>\n",
       "      <td>0.29</td>\n",
       "      <td>0.28</td>\n",
       "      <td>0.48</td>\n",
       "      <td>0.50</td>\n",
       "      <td>0.56</td>\n",
       "      <td>0.61</td>\n",
       "      <td>0.47</td>\n",
       "      <td>Bookmaker</td>\n",
       "      <td>Nottingham Forest-Aston Villa</td>\n",
       "      <td>NaN</td>\n",
       "    </tr>\n",
       "    <tr>\n",
       "      <th>42</th>\n",
       "      <td>0.09</td>\n",
       "      <td>0.19</td>\n",
       "      <td>0.78</td>\n",
       "      <td>0.44</td>\n",
       "      <td>0.61</td>\n",
       "      <td>0.48</td>\n",
       "      <td>0.59</td>\n",
       "      <td>Bookmaker</td>\n",
       "      <td>Luton-Liverpool</td>\n",
       "      <td>NaN</td>\n",
       "    </tr>\n",
       "    <tr>\n",
       "      <th>43</th>\n",
       "      <td>0.42</td>\n",
       "      <td>0.27</td>\n",
       "      <td>0.36</td>\n",
       "      <td>0.50</td>\n",
       "      <td>0.55</td>\n",
       "      <td>0.59</td>\n",
       "      <td>0.48</td>\n",
       "      <td>Bookmaker</td>\n",
       "      <td>Tottenham-Chelsea</td>\n",
       "      <td>NaN</td>\n",
       "    </tr>\n",
       "  </tbody>\n",
       "</table>\n",
       "</div>"
      ],
      "text/plain": [
       "    P(Hwin)  P(Draw)  P(Awin)  P(Under)  P(Over)  P(GG)  P(NG)       Type  \\\n",
       "0      0.54     0.22     0.23      0.41     0.59   0.59   0.41  Predicted   \n",
       "1      0.71     0.16     0.13      0.27     0.73   0.62   0.38  Predicted   \n",
       "2      0.22     0.21     0.57      0.36     0.64   0.62   0.38  Predicted   \n",
       "3      0.57     0.21     0.22      0.36     0.64   0.62   0.38  Predicted   \n",
       "4      0.87     0.10     0.03      0.37     0.63   0.31   0.69  Predicted   \n",
       "5      0.39     0.23     0.38      0.38     0.62   0.64   0.36  Predicted   \n",
       "6      0.17     0.20     0.63      0.40     0.60   0.56   0.44  Predicted   \n",
       "7      0.40     0.24     0.36      0.41     0.59   0.61   0.39  Predicted   \n",
       "8      0.61     0.20     0.19      0.34     0.66   0.62   0.38  Predicted   \n",
       "9      0.64     0.20     0.16      0.42     0.58   0.53   0.47  Predicted   \n",
       "10     0.70     0.18     0.12      0.39     0.61   0.51   0.49  Predicted   \n",
       "11     0.35     0.24     0.41      0.39     0.61   0.63   0.37  Predicted   \n",
       "12     0.34     0.25     0.41      0.45     0.55   0.58   0.42  Predicted   \n",
       "13     0.50     0.23     0.27      0.41     0.59   0.60   0.40  Predicted   \n",
       "14     0.35     0.26     0.38      0.52     0.48   0.53   0.47  Predicted   \n",
       "15     0.90     0.08     0.02      0.34     0.66   0.29   0.71  Predicted   \n",
       "16     0.32     0.23     0.44      0.39     0.61   0.62   0.38  Predicted   \n",
       "17     0.23     0.24     0.54      0.47     0.53   0.53   0.47  Predicted   \n",
       "18     0.44     0.24     0.33      0.39     0.61   0.62   0.38  Predicted   \n",
       "19     0.27     0.25     0.48      0.49     0.51   0.54   0.46  Predicted   \n",
       "20     0.12     0.19     0.69      0.43     0.57   0.49   0.51  Predicted   \n",
       "21     0.56     0.20     0.24      0.27     0.73   0.70   0.30  Predicted   \n",
       "22     0.52     0.27     0.26      0.43     0.62   0.66   0.41  Bookmaker   \n",
       "23     0.68     0.22     0.15      0.62     0.43   0.61   0.47  Bookmaker   \n",
       "24     0.29     0.26     0.50      0.47     0.58   0.61   0.47  Bookmaker   \n",
       "25     0.61     0.25     0.19      0.50     0.55   0.55   0.53  Bookmaker   \n",
       "26     0.86     0.14     0.05      0.56     0.49   0.47   0.61  Bookmaker   \n",
       "27     0.46     0.28     0.31      0.51     0.54   0.59   0.47  Bookmaker   \n",
       "28     0.23     0.26     0.56      0.49     0.56   0.58   0.49  Bookmaker   \n",
       "29     0.50     0.27     0.29      0.47     0.58   0.62   0.45  Bookmaker   \n",
       "30     0.66     0.22     0.17      0.61     0.44   0.62   0.44  Bookmaker   \n",
       "31     0.75     0.19     0.11      0.42     0.62   0.53   0.55  Bookmaker   \n",
       "32     0.78     0.18     0.10      0.56     0.50   0.57   0.50  Bookmaker   \n",
       "33     0.22     0.25     0.58      0.43     0.62   0.62   0.44  Bookmaker   \n",
       "34     0.22     0.27     0.56      0.47     0.58   0.61   0.47  Bookmaker   \n",
       "35     0.43     0.27     0.34      0.47     0.59   0.64   0.43  Bookmaker   \n",
       "36     0.38     0.30     0.36      0.56     0.49   0.56   0.51  Bookmaker   \n",
       "37     0.86     0.13     0.06      0.51     0.54   0.50   0.57  Bookmaker   \n",
       "38     0.33     0.25     0.47      0.43     0.62   0.64   0.43  Bookmaker   \n",
       "39     0.35     0.28     0.42      0.53     0.52   0.57   0.50  Bookmaker   \n",
       "40     0.38     0.27     0.40      0.49     0.56   0.61   0.47  Bookmaker   \n",
       "41     0.29     0.28     0.48      0.50     0.56   0.61   0.47  Bookmaker   \n",
       "42     0.09     0.19     0.78      0.44     0.61   0.48   0.59  Bookmaker   \n",
       "43     0.42     0.27     0.36      0.50     0.55   0.59   0.48  Bookmaker   \n",
       "\n",
       "                                       Match        Date  \n",
       "0                       Aston Villa-West Ham  22/10/2023  \n",
       "1                           Tottenham-Fulham  23/10/2023  \n",
       "2                   Crystal Palace-Tottenham  27/10/2023  \n",
       "3                          Chelsea-Brentford  28/10/2023  \n",
       "4                   Arsenal-Sheffield United  28/10/2023  \n",
       "5                        Bournemouth-Burnley  28/10/2023  \n",
       "6   Wolverhampton Wanderers-Newcastle United  28/10/2023  \n",
       "7                           West Ham-Everton  29/10/2023  \n",
       "8                            Brighton-Fulham  29/10/2023  \n",
       "9                          Aston Villa-Luton  29/10/2023  \n",
       "10               Liverpool-Nottingham Forest  29/10/2023  \n",
       "11         Manchester United-Manchester City  29/10/2023  \n",
       "12                  Fulham-Manchester United  04/11/2023  \n",
       "13                        Brentford-West Ham  04/11/2023  \n",
       "14                    Burnley-Crystal Palace  04/11/2023  \n",
       "15               Manchester City-Bournemouth  04/11/2023  \n",
       "16                          Everton-Brighton  04/11/2023  \n",
       "17  Sheffield United-Wolverhampton Wanderers  04/11/2023  \n",
       "18                  Newcastle United-Arsenal  04/11/2023  \n",
       "19             Nottingham Forest-Aston Villa  05/11/2023  \n",
       "20                           Luton-Liverpool  05/11/2023  \n",
       "21                         Tottenham-Chelsea  06/11/2023  \n",
       "22                      Aston Villa-West Ham         NaN  \n",
       "23                          Tottenham-Fulham         NaN  \n",
       "24                  Crystal Palace-Tottenham         NaN  \n",
       "25                         Chelsea-Brentford         NaN  \n",
       "26                  Arsenal-Sheffield United         NaN  \n",
       "27                       Bournemouth-Burnley         NaN  \n",
       "28  Wolverhampton Wanderers-Newcastle United         NaN  \n",
       "29                          West Ham-Everton         NaN  \n",
       "30                           Brighton-Fulham         NaN  \n",
       "31                         Aston Villa-Luton         NaN  \n",
       "32               Liverpool-Nottingham Forest         NaN  \n",
       "33         Manchester United-Manchester City         NaN  \n",
       "34                  Fulham-Manchester United         NaN  \n",
       "35                        Brentford-West Ham         NaN  \n",
       "36                    Burnley-Crystal Palace         NaN  \n",
       "37               Manchester City-Bournemouth         NaN  \n",
       "38                          Everton-Brighton         NaN  \n",
       "39  Sheffield United-Wolverhampton Wanderers         NaN  \n",
       "40                  Newcastle United-Arsenal         NaN  \n",
       "41             Nottingham Forest-Aston Villa         NaN  \n",
       "42                           Luton-Liverpool         NaN  \n",
       "43                         Tottenham-Chelsea         NaN  "
      ]
     },
     "metadata": {},
     "output_type": "display_data"
    }
   ],
   "source": [
    "k = range(12)\n",
    "PH = np.zeros((len(k), 1))\n",
    "PA = np.zeros((1, len(k)))\n",
    "PRED['P(Hwin)']= np.nan\n",
    "PRED['P(Awin)']= np.nan\n",
    "PRED['P(Draw)']= np.nan\n",
    "PRED['P(Over)']= np.nan\n",
    "PRED['P(Under)']= np.nan\n",
    "PRED['P(GG)']=np.nan\n",
    "PRED['P(NG)']=np.nan\n",
    "\n",
    "Pie_list = []\n",
    "for j, l in enumerate(LamdaHome):\n",
    "    for i in k:\n",
    "        PH[i, 0] = (math.exp(-l)*l**k[i]) /math.factorial(k[i])\n",
    "        PA[0, i] = (math.exp(-LamdaAway[j])*LamdaAway[j]**k[i]) /math.factorial(k[i])\n",
    "    Pscore = np.matmul(PH, PA) \n",
    "    df = pd.DataFrame(Pscore, columns = ['0','1','2', '3', '4', '5', '6', '7', '8', '9', '10', '11'])\n",
    "    PRED.loc[j,'P(Awin)'], PRED.loc[j,'P(Hwin)'], PRED.loc[j,'P(Draw)'], PRED.loc[j,'P(Over)'], PRED.loc[j,'P(Under)'], PRED.loc[j,'P(NG)'], PRED.loc[j,'P(GG)']  = sum_of_lower_upper(Pscore)\n",
    "    PRED['P(Over)'] = 1 - PRED['P(Under)']\n",
    "    df = df.iloc[0:5, 0:5]\n",
    "    pd.set_option('display.float_format', lambda x: '%.3f' % x)\n",
    "    \n",
    "    G = []\n",
    "    for i in range(0, 5):\n",
    "        for j in range(0, 5):\n",
    "            G.append(df.loc[i][j])\n",
    "\n",
    "            \n",
    "    Pie_Df = pd.DataFrame(G, columns = ['P(score)'])\n",
    "    Pie_Df['score']= ['0 - 0',\n",
    "                      '0 - 1',\n",
    "                      '0 - 2',\n",
    "                      '0 - 3',\n",
    "                      '0 - 4',\n",
    "                      '1 - 0',\n",
    "                      '1 - 1',\n",
    "                      '1 - 2',\n",
    "                      '1 - 3',\n",
    "                      '1 - 4',\n",
    "                      '2 - 0',\n",
    "                      '2 - 1',\n",
    "                      '2 - 2',\n",
    "                      '2 - 3',\n",
    "                      '2 - 4',\n",
    "                      '3 - 0',\n",
    "                      '3 - 1',\n",
    "                      '3 - 2',\n",
    "                      '3 - 3',\n",
    "                      '3 - 4',\n",
    "                      '4 - 0',\n",
    "                      '4 - 1',\n",
    "                      '4 - 2',\n",
    "                      '4 - 3',\n",
    "                      '4 - 4']\n",
    "    Pie_Df.loc[Pie_Df[\"P(score)\"] < 0.02, \"score\"] = 'Other'\n",
    "    Pie_Df = Pie_Df.sort_values(by=['P(score)'], ascending=False)\n",
    "    Pie_list.append(Pie_Df)\n",
    "    \n",
    "\n",
    "PRED = PRED[['Date', 'HTeam', 'ATeam', 'P(Hwin)', 'P(Draw)', 'P(Awin)', 'P(Under)', 'P(Over)', 'P(GG)', 'P(NG)']]\n",
    "with pd.option_context('display.max_rows', None, 'display.max_columns', None):  # more options can be specified also\n",
    "    display(PRED)\n",
    "\n",
    "pd.options.display.float_format = '{:.2f}'.format\n",
    "disp_pred = PRED.copy()\n",
    "disp_pred.rename(columns = {'ATeam':'Away Team'}, inplace = True)\n",
    "disp_pred.rename(columns = {'HTeam':'Home Team'}, inplace = True)\n",
    "html_table_blue_light = build_table(disp_pred, 'blue_light')\n",
    "\n",
    "# Save to html file\n",
    "with open('UpcomingMatchesPrediction.html', 'w') as f:\n",
    "    f.write(html_table_blue_light)\n",
    "\n",
    "json_data = disp_pred.to_json()\n",
    "with open('ProbabilityPrediction.json', 'w') as f:\n",
    "    f.write(json_data)\n",
    "\n",
    "Final_Odds = pd.concat([PRED, Odds], axis=0)\n",
    "Final_Odds['Type'] = np.nan\n",
    "Final_Odds['Match'] = np.nan\n",
    "Final_Odds = Final_Odds.reset_index(drop = 'True')\n",
    "Final_Odds.loc[Final_Odds['B365H'].isnull(), 'Type'] = 'Predicted'\n",
    "Final_Odds.loc[Final_Odds['P(Hwin)'].isnull(), 'Type'] = 'Bookmaker'\n",
    "\n",
    "for i, x in enumerate(Final_Odds['Match']):\n",
    "    Final_Odds['Match'][i] = str(Final_Odds['HTeam'][i] + '-' + Final_Odds['ATeam'][i])\n",
    "\n",
    "li  = Final_Odds.index[Final_Odds['Type'] == 'Bookmaker'].tolist()\n",
    "for i in li:\n",
    "    Final_Odds['P(Hwin)'][i] = 1/Final_Odds.iloc[i]['B365H']\n",
    "    Final_Odds['P(Awin)'][i] = 1/Final_Odds.iloc[i]['B365A']\n",
    "    Final_Odds['P(Draw)'][i] = 1/Final_Odds.iloc[i]['B365D']\n",
    "    Final_Odds['P(Over)'][i] = 1/Final_Odds.iloc[i]['BbAv>2.5']\n",
    "    Final_Odds['P(Under)'][i] = 1/Final_Odds.iloc[i]['BbAv<2.5']\n",
    "    Final_Odds['P(GG)'][i] = 1/Final_Odds.iloc[i]['GG']\n",
    "    Final_Odds['P(NG)'][i] = 1/Final_Odds.iloc[i]['NG']\n",
    "\n",
    "Final_Odds = Final_Odds[['P(Hwin)', 'P(Draw)', 'P(Awin)', 'P(Under)', 'P(Over)', 'P(GG)', 'P(NG)', 'Type', 'Match', 'Date']].copy()\n",
    "\n",
    "with pd.option_context('display.max_rows', None, 'display.max_columns', None):  # more options can be specified also\n",
    "    display(Final_Odds)\n",
    "\n",
    "    "
   ]
  },
  {
   "cell_type": "code",
   "execution_count": 6,
   "metadata": {},
   "outputs": [
    {
     "data": {
      "application/vnd.plotly.v1+json": {
       "config": {
        "plotlyServerURL": "https://plot.ly"
       },
       "data": [
        {
         "marker": {
          "color": "rgb(141,211,199)"
         },
         "name": "Predicted Home Win",
         "type": "bar",
         "x": [
          "Aston Villa-West Ham",
          "Tottenham-Fulham",
          "Crystal Palace-Tottenham",
          "Chelsea-Brentford",
          "Arsenal-Sheffield United",
          "Bournemouth-Burnley",
          "Wolverhampton Wanderers-Newcastle United",
          "West Ham-Everton",
          "Brighton-Fulham",
          "Aston Villa-Luton",
          "Liverpool-Nottingham Forest",
          "Manchester United-Manchester City",
          "Fulham-Manchester United",
          "Brentford-West Ham",
          "Burnley-Crystal Palace",
          "Manchester City-Bournemouth",
          "Everton-Brighton",
          "Sheffield United-Wolverhampton Wanderers",
          "Newcastle United-Arsenal",
          "Nottingham Forest-Aston Villa",
          "Luton-Liverpool",
          "Tottenham-Chelsea"
         ],
         "xaxis": "x",
         "y": [
          0.543565178508646,
          0.7122232036888565,
          0.22059377491965032,
          0.5686791864710252,
          0.872707431247827,
          0.3852601049909948,
          0.1708153935783137,
          0.4017615557107257,
          0.6136812838012297,
          0.6413851278724201,
          0.704421728330797,
          0.3534162070583303,
          0.3374636734276795,
          0.5035087351124984,
          0.352203349845867,
          0.8977313087887874,
          0.32286828734589035,
          0.22575660804588765,
          0.4390656281182067,
          0.2699976442740606,
          0.12299949161040119,
          0.5582335970541078
         ],
         "yaxis": "y"
        },
        {
         "marker": {
          "color": "rgb(82, 106, 131)"
         },
         "name": "Bookmaker Home Win",
         "type": "bar",
         "x": [
          "Aston Villa-West Ham",
          "Tottenham-Fulham",
          "Crystal Palace-Tottenham",
          "Chelsea-Brentford",
          "Arsenal-Sheffield United",
          "Bournemouth-Burnley",
          "Wolverhampton Wanderers-Newcastle United",
          "West Ham-Everton",
          "Brighton-Fulham",
          "Aston Villa-Luton",
          "Liverpool-Nottingham Forest",
          "Manchester United-Manchester City",
          "Fulham-Manchester United",
          "Brentford-West Ham",
          "Burnley-Crystal Palace",
          "Manchester City-Bournemouth",
          "Everton-Brighton",
          "Sheffield United-Wolverhampton Wanderers",
          "Newcastle United-Arsenal",
          "Nottingham Forest-Aston Villa",
          "Luton-Liverpool",
          "Tottenham-Chelsea"
         ],
         "xaxis": "x",
         "y": [
          0.5235602094240838,
          0.6802721088435374,
          0.2857142857142857,
          0.6060606060606061,
          0.8620689655172414,
          0.4587155963302752,
          0.2298850574712644,
          0.5,
          0.6578947368421053,
          0.7462686567164178,
          0.78125,
          0.2173913043478261,
          0.2222222222222222,
          0.4310344827586207,
          0.3846153846153846,
          0.8620689655172414,
          0.3278688524590164,
          0.3508771929824561,
          0.38167938931297707,
          0.2857142857142857,
          0.08888888888888889,
          0.4166666666666667
         ],
         "yaxis": "y"
        },
        {
         "marker": {
          "color": "rgb(141,211,199)"
         },
         "name": "Predicted Draw",
         "type": "bar",
         "x": [
          "Aston Villa-West Ham",
          "Tottenham-Fulham",
          "Crystal Palace-Tottenham",
          "Chelsea-Brentford",
          "Arsenal-Sheffield United",
          "Bournemouth-Burnley",
          "Wolverhampton Wanderers-Newcastle United",
          "West Ham-Everton",
          "Brighton-Fulham",
          "Aston Villa-Luton",
          "Liverpool-Nottingham Forest",
          "Manchester United-Manchester City",
          "Fulham-Manchester United",
          "Brentford-West Ham",
          "Burnley-Crystal Palace",
          "Manchester City-Bournemouth",
          "Everton-Brighton",
          "Sheffield United-Wolverhampton Wanderers",
          "Newcastle United-Arsenal",
          "Nottingham Forest-Aston Villa",
          "Luton-Liverpool",
          "Tottenham-Chelsea"
         ],
         "xaxis": "x",
         "y": [
          0.2232138170978347,
          0.15798072913801936,
          0.2094257183384386,
          0.2100318970221776,
          0.09648066552811575,
          0.23347988165561268,
          0.20143387299817045,
          0.24069931990237287,
          0.1963964475979521,
          0.20115708610086472,
          0.17645094391928134,
          0.2362540227437911,
          0.24779236524196252,
          0.23047139583407236,
          0.26318754869271316,
          0.07952725094511512,
          0.2341914492299844,
          0.23671685279121538,
          0.23509398618152091,
          0.2491993221253266,
          0.1853890572450496,
          0.1980866028501955
         ],
         "yaxis": "y"
        },
        {
         "marker": {
          "color": "rgb(82, 106, 131)"
         },
         "name": "Bookmaker Draw",
         "type": "bar",
         "x": [
          "Aston Villa-West Ham",
          "Tottenham-Fulham",
          "Crystal Palace-Tottenham",
          "Chelsea-Brentford",
          "Arsenal-Sheffield United",
          "Bournemouth-Burnley",
          "Wolverhampton Wanderers-Newcastle United",
          "West Ham-Everton",
          "Brighton-Fulham",
          "Aston Villa-Luton",
          "Liverpool-Nottingham Forest",
          "Manchester United-Manchester City",
          "Fulham-Manchester United",
          "Brentford-West Ham",
          "Burnley-Crystal Palace",
          "Manchester City-Bournemouth",
          "Everton-Brighton",
          "Sheffield United-Wolverhampton Wanderers",
          "Newcastle United-Arsenal",
          "Nottingham Forest-Aston Villa",
          "Luton-Liverpool",
          "Tottenham-Chelsea"
         ],
         "xaxis": "x",
         "y": [
          0.26666666666666666,
          0.2222222222222222,
          0.2631578947368421,
          0.2469135802469136,
          0.13513513513513511,
          0.28169014084507044,
          0.25641025641025644,
          0.26666666666666666,
          0.2222222222222222,
          0.18867924528301888,
          0.17543859649122806,
          0.25,
          0.27027027027027023,
          0.273972602739726,
          0.29850746268656714,
          0.12820512820512822,
          0.2531645569620253,
          0.2777777777777778,
          0.26666666666666666,
          0.28169014084507044,
          0.18518518518518517,
          0.27027027027027023
         ],
         "yaxis": "y"
        },
        {
         "marker": {
          "color": "rgb(141,211,199)"
         },
         "name": "Predicted Away Win",
         "type": "bar",
         "x": [
          "Aston Villa-West Ham",
          "Tottenham-Fulham",
          "Crystal Palace-Tottenham",
          "Chelsea-Brentford",
          "Arsenal-Sheffield United",
          "Bournemouth-Burnley",
          "Wolverhampton Wanderers-Newcastle United",
          "West Ham-Everton",
          "Brighton-Fulham",
          "Aston Villa-Luton",
          "Liverpool-Nottingham Forest",
          "Manchester United-Manchester City",
          "Fulham-Manchester United",
          "Brentford-West Ham",
          "Burnley-Crystal Palace",
          "Manchester City-Bournemouth",
          "Everton-Brighton",
          "Sheffield United-Wolverhampton Wanderers",
          "Newcastle United-Arsenal",
          "Nottingham Forest-Aston Villa",
          "Luton-Liverpool",
          "Tottenham-Chelsea"
         ],
         "xaxis": "x",
         "y": [
          0.23322018678864537,
          0.12977028447223737,
          0.5699784319442166,
          0.22128692311323964,
          0.030766612769323434,
          0.38125972549632287,
          0.6277483255255327,
          0.35753895662716834,
          0.18991809256426676,
          0.15745568732860019,
          0.11912174422046916,
          0.41032952932303735,
          0.4147438570868695,
          0.2660193732571011,
          0.384609069762375,
          0.022654812576195997,
          0.44293994686587995,
          0.537526216167665,
          0.3258400942260529,
          0.4808029028078256,
          0.6916080536271484,
          0.2436742973574914
         ],
         "yaxis": "y"
        },
        {
         "marker": {
          "color": "rgb(82, 106, 131)"
         },
         "name": "Bookmaker Away Win",
         "type": "bar",
         "x": [
          "Aston Villa-West Ham",
          "Tottenham-Fulham",
          "Crystal Palace-Tottenham",
          "Chelsea-Brentford",
          "Arsenal-Sheffield United",
          "Bournemouth-Burnley",
          "Wolverhampton Wanderers-Newcastle United",
          "West Ham-Everton",
          "Brighton-Fulham",
          "Aston Villa-Luton",
          "Liverpool-Nottingham Forest",
          "Manchester United-Manchester City",
          "Fulham-Manchester United",
          "Brentford-West Ham",
          "Burnley-Crystal Palace",
          "Manchester City-Bournemouth",
          "Everton-Brighton",
          "Sheffield United-Wolverhampton Wanderers",
          "Newcastle United-Arsenal",
          "Nottingham Forest-Aston Villa",
          "Luton-Liverpool",
          "Tottenham-Chelsea"
         ],
         "xaxis": "x",
         "y": [
          0.2597402597402597,
          0.15151515151515152,
          0.5,
          0.1923076923076923,
          0.05263157894736842,
          0.3076923076923077,
          0.5617977528089888,
          0.2857142857142857,
          0.16666666666666666,
          0.1111111111111111,
          0.09523809523809523,
          0.5813953488372093,
          0.5555555555555556,
          0.3448275862068966,
          0.36363636363636365,
          0.058823529411764705,
          0.4716981132075471,
          0.4166666666666667,
          0.4,
          0.48309178743961356,
          0.7751937984496123,
          0.36101083032490977
         ],
         "yaxis": "y"
        },
        {
         "marker": {
          "color": "rgb(141,211,199)"
         },
         "name": "Predicted Over",
         "type": "bar",
         "x": [
          "Aston Villa-West Ham",
          "Tottenham-Fulham",
          "Crystal Palace-Tottenham",
          "Chelsea-Brentford",
          "Arsenal-Sheffield United",
          "Bournemouth-Burnley",
          "Wolverhampton Wanderers-Newcastle United",
          "West Ham-Everton",
          "Brighton-Fulham",
          "Aston Villa-Luton",
          "Liverpool-Nottingham Forest",
          "Manchester United-Manchester City",
          "Fulham-Manchester United",
          "Brentford-West Ham",
          "Burnley-Crystal Palace",
          "Manchester City-Bournemouth",
          "Everton-Brighton",
          "Sheffield United-Wolverhampton Wanderers",
          "Newcastle United-Arsenal",
          "Nottingham Forest-Aston Villa",
          "Luton-Liverpool",
          "Tottenham-Chelsea"
         ],
         "xaxis": "x2",
         "y": [
          0.5932452041096079,
          0.7286260659095326,
          0.6433866087262199,
          0.6413497571859781,
          0.631328082807508,
          0.6240768587924305,
          0.6037439098592838,
          0.5864239956596575,
          0.6616043506253639,
          0.5795686049478174,
          0.6056050003345174,
          0.6074012897367798,
          0.549011516727634,
          0.5912866668141212,
          0.4838558495858568,
          0.6642049469042451,
          0.6083915669854533,
          0.5251811509871935,
          0.6051933510723136,
          0.5112198414630038,
          0.574095365525187,
          0.7276257254752503
         ],
         "yaxis": "y2"
        },
        {
         "marker": {
          "color": "rgb(82, 106, 131)"
         },
         "name": "Bookmaker Over",
         "type": "bar",
         "x": [
          "Aston Villa-West Ham",
          "Tottenham-Fulham",
          "Crystal Palace-Tottenham",
          "Chelsea-Brentford",
          "Arsenal-Sheffield United",
          "Bournemouth-Burnley",
          "Wolverhampton Wanderers-Newcastle United",
          "West Ham-Everton",
          "Brighton-Fulham",
          "Aston Villa-Luton",
          "Liverpool-Nottingham Forest",
          "Manchester United-Manchester City",
          "Fulham-Manchester United",
          "Brentford-West Ham",
          "Burnley-Crystal Palace",
          "Manchester City-Bournemouth",
          "Everton-Brighton",
          "Sheffield United-Wolverhampton Wanderers",
          "Newcastle United-Arsenal",
          "Nottingham Forest-Aston Villa",
          "Luton-Liverpool",
          "Tottenham-Chelsea"
         ],
         "xaxis": "x2",
         "y": [
          0.625,
          0.4347826086956522,
          0.5813953488372093,
          0.5464480874316939,
          0.48780487804878053,
          0.5405405405405405,
          0.5617977528089888,
          0.5813953488372093,
          0.4444444444444444,
          0.625,
          0.49504950495049505,
          0.6172839506172839,
          0.5813953488372093,
          0.5882352941176471,
          0.48780487804878053,
          0.5405405405405405,
          0.6172839506172839,
          0.5181347150259068,
          0.5617977528089888,
          0.5555555555555556,
          0.6060606060606061,
          0.5494505494505494
         ],
         "yaxis": "y2"
        },
        {
         "marker": {
          "color": "rgb(141,211,199)"
         },
         "name": "Predicted Under",
         "type": "bar",
         "x": [
          "Aston Villa-West Ham",
          "Tottenham-Fulham",
          "Crystal Palace-Tottenham",
          "Chelsea-Brentford",
          "Arsenal-Sheffield United",
          "Bournemouth-Burnley",
          "Wolverhampton Wanderers-Newcastle United",
          "West Ham-Everton",
          "Brighton-Fulham",
          "Aston Villa-Luton",
          "Liverpool-Nottingham Forest",
          "Manchester United-Manchester City",
          "Fulham-Manchester United",
          "Brentford-West Ham",
          "Burnley-Crystal Palace",
          "Manchester City-Bournemouth",
          "Everton-Brighton",
          "Sheffield United-Wolverhampton Wanderers",
          "Newcastle United-Arsenal",
          "Nottingham Forest-Aston Villa",
          "Luton-Liverpool",
          "Tottenham-Chelsea"
         ],
         "xaxis": "x2",
         "y": [
          0.4067547958903921,
          0.2713739340904674,
          0.35661339127378006,
          0.35865024281402186,
          0.36867191719249204,
          0.37592314120756953,
          0.3962560901407162,
          0.4135760043403425,
          0.338395649374636,
          0.42043139505218263,
          0.39439499966548264,
          0.3925987102632202,
          0.45098848327236596,
          0.4087133331858788,
          0.5161441504141432,
          0.33579505309575486,
          0.39160843301454673,
          0.4748188490128065,
          0.39480664892768635,
          0.4887801585369962,
          0.425904634474813,
          0.27237427452474977
         ],
         "yaxis": "y2"
        },
        {
         "marker": {
          "color": "rgb(82, 106, 131)"
         },
         "name": "Bookmaker Under",
         "type": "bar",
         "x": [
          "Aston Villa-West Ham",
          "Tottenham-Fulham",
          "Crystal Palace-Tottenham",
          "Chelsea-Brentford",
          "Arsenal-Sheffield United",
          "Bournemouth-Burnley",
          "Wolverhampton Wanderers-Newcastle United",
          "West Ham-Everton",
          "Brighton-Fulham",
          "Aston Villa-Luton",
          "Liverpool-Nottingham Forest",
          "Manchester United-Manchester City",
          "Fulham-Manchester United",
          "Brentford-West Ham",
          "Burnley-Crystal Palace",
          "Manchester City-Bournemouth",
          "Everton-Brighton",
          "Sheffield United-Wolverhampton Wanderers",
          "Newcastle United-Arsenal",
          "Nottingham Forest-Aston Villa",
          "Luton-Liverpool",
          "Tottenham-Chelsea"
         ],
         "xaxis": "x2",
         "y": [
          0.425531914893617,
          0.6172839506172839,
          0.4716981132075471,
          0.5,
          0.5617977528089888,
          0.5050505050505051,
          0.48780487804878053,
          0.4716981132075471,
          0.6060606060606061,
          0.42194092827004215,
          0.5555555555555556,
          0.4347826086956522,
          0.4716981132075471,
          0.46511627906976744,
          0.5617977528089888,
          0.5128205128205129,
          0.4347826086956522,
          0.5319148936170213,
          0.48780487804878053,
          0.49504950495049505,
          0.4444444444444444,
          0.5
         ],
         "yaxis": "y2"
        }
       ],
       "layout": {
        "height": 1000,
        "template": {
         "data": {
          "bar": [
           {
            "error_x": {
             "color": "#2a3f5f"
            },
            "error_y": {
             "color": "#2a3f5f"
            },
            "marker": {
             "line": {
              "color": "#E5ECF6",
              "width": 0.5
             },
             "pattern": {
              "fillmode": "overlay",
              "size": 10,
              "solidity": 0.2
             }
            },
            "type": "bar"
           }
          ],
          "barpolar": [
           {
            "marker": {
             "line": {
              "color": "#E5ECF6",
              "width": 0.5
             },
             "pattern": {
              "fillmode": "overlay",
              "size": 10,
              "solidity": 0.2
             }
            },
            "type": "barpolar"
           }
          ],
          "carpet": [
           {
            "aaxis": {
             "endlinecolor": "#2a3f5f",
             "gridcolor": "white",
             "linecolor": "white",
             "minorgridcolor": "white",
             "startlinecolor": "#2a3f5f"
            },
            "baxis": {
             "endlinecolor": "#2a3f5f",
             "gridcolor": "white",
             "linecolor": "white",
             "minorgridcolor": "white",
             "startlinecolor": "#2a3f5f"
            },
            "type": "carpet"
           }
          ],
          "choropleth": [
           {
            "colorbar": {
             "outlinewidth": 0,
             "ticks": ""
            },
            "type": "choropleth"
           }
          ],
          "contour": [
           {
            "colorbar": {
             "outlinewidth": 0,
             "ticks": ""
            },
            "colorscale": [
             [
              0,
              "#0d0887"
             ],
             [
              0.1111111111111111,
              "#46039f"
             ],
             [
              0.2222222222222222,
              "#7201a8"
             ],
             [
              0.3333333333333333,
              "#9c179e"
             ],
             [
              0.4444444444444444,
              "#bd3786"
             ],
             [
              0.5555555555555556,
              "#d8576b"
             ],
             [
              0.6666666666666666,
              "#ed7953"
             ],
             [
              0.7777777777777778,
              "#fb9f3a"
             ],
             [
              0.8888888888888888,
              "#fdca26"
             ],
             [
              1,
              "#f0f921"
             ]
            ],
            "type": "contour"
           }
          ],
          "contourcarpet": [
           {
            "colorbar": {
             "outlinewidth": 0,
             "ticks": ""
            },
            "type": "contourcarpet"
           }
          ],
          "heatmap": [
           {
            "colorbar": {
             "outlinewidth": 0,
             "ticks": ""
            },
            "colorscale": [
             [
              0,
              "#0d0887"
             ],
             [
              0.1111111111111111,
              "#46039f"
             ],
             [
              0.2222222222222222,
              "#7201a8"
             ],
             [
              0.3333333333333333,
              "#9c179e"
             ],
             [
              0.4444444444444444,
              "#bd3786"
             ],
             [
              0.5555555555555556,
              "#d8576b"
             ],
             [
              0.6666666666666666,
              "#ed7953"
             ],
             [
              0.7777777777777778,
              "#fb9f3a"
             ],
             [
              0.8888888888888888,
              "#fdca26"
             ],
             [
              1,
              "#f0f921"
             ]
            ],
            "type": "heatmap"
           }
          ],
          "heatmapgl": [
           {
            "colorbar": {
             "outlinewidth": 0,
             "ticks": ""
            },
            "colorscale": [
             [
              0,
              "#0d0887"
             ],
             [
              0.1111111111111111,
              "#46039f"
             ],
             [
              0.2222222222222222,
              "#7201a8"
             ],
             [
              0.3333333333333333,
              "#9c179e"
             ],
             [
              0.4444444444444444,
              "#bd3786"
             ],
             [
              0.5555555555555556,
              "#d8576b"
             ],
             [
              0.6666666666666666,
              "#ed7953"
             ],
             [
              0.7777777777777778,
              "#fb9f3a"
             ],
             [
              0.8888888888888888,
              "#fdca26"
             ],
             [
              1,
              "#f0f921"
             ]
            ],
            "type": "heatmapgl"
           }
          ],
          "histogram": [
           {
            "marker": {
             "pattern": {
              "fillmode": "overlay",
              "size": 10,
              "solidity": 0.2
             }
            },
            "type": "histogram"
           }
          ],
          "histogram2d": [
           {
            "colorbar": {
             "outlinewidth": 0,
             "ticks": ""
            },
            "colorscale": [
             [
              0,
              "#0d0887"
             ],
             [
              0.1111111111111111,
              "#46039f"
             ],
             [
              0.2222222222222222,
              "#7201a8"
             ],
             [
              0.3333333333333333,
              "#9c179e"
             ],
             [
              0.4444444444444444,
              "#bd3786"
             ],
             [
              0.5555555555555556,
              "#d8576b"
             ],
             [
              0.6666666666666666,
              "#ed7953"
             ],
             [
              0.7777777777777778,
              "#fb9f3a"
             ],
             [
              0.8888888888888888,
              "#fdca26"
             ],
             [
              1,
              "#f0f921"
             ]
            ],
            "type": "histogram2d"
           }
          ],
          "histogram2dcontour": [
           {
            "colorbar": {
             "outlinewidth": 0,
             "ticks": ""
            },
            "colorscale": [
             [
              0,
              "#0d0887"
             ],
             [
              0.1111111111111111,
              "#46039f"
             ],
             [
              0.2222222222222222,
              "#7201a8"
             ],
             [
              0.3333333333333333,
              "#9c179e"
             ],
             [
              0.4444444444444444,
              "#bd3786"
             ],
             [
              0.5555555555555556,
              "#d8576b"
             ],
             [
              0.6666666666666666,
              "#ed7953"
             ],
             [
              0.7777777777777778,
              "#fb9f3a"
             ],
             [
              0.8888888888888888,
              "#fdca26"
             ],
             [
              1,
              "#f0f921"
             ]
            ],
            "type": "histogram2dcontour"
           }
          ],
          "mesh3d": [
           {
            "colorbar": {
             "outlinewidth": 0,
             "ticks": ""
            },
            "type": "mesh3d"
           }
          ],
          "parcoords": [
           {
            "line": {
             "colorbar": {
              "outlinewidth": 0,
              "ticks": ""
             }
            },
            "type": "parcoords"
           }
          ],
          "pie": [
           {
            "automargin": true,
            "type": "pie"
           }
          ],
          "scatter": [
           {
            "fillpattern": {
             "fillmode": "overlay",
             "size": 10,
             "solidity": 0.2
            },
            "type": "scatter"
           }
          ],
          "scatter3d": [
           {
            "line": {
             "colorbar": {
              "outlinewidth": 0,
              "ticks": ""
             }
            },
            "marker": {
             "colorbar": {
              "outlinewidth": 0,
              "ticks": ""
             }
            },
            "type": "scatter3d"
           }
          ],
          "scattercarpet": [
           {
            "marker": {
             "colorbar": {
              "outlinewidth": 0,
              "ticks": ""
             }
            },
            "type": "scattercarpet"
           }
          ],
          "scattergeo": [
           {
            "marker": {
             "colorbar": {
              "outlinewidth": 0,
              "ticks": ""
             }
            },
            "type": "scattergeo"
           }
          ],
          "scattergl": [
           {
            "marker": {
             "colorbar": {
              "outlinewidth": 0,
              "ticks": ""
             }
            },
            "type": "scattergl"
           }
          ],
          "scattermapbox": [
           {
            "marker": {
             "colorbar": {
              "outlinewidth": 0,
              "ticks": ""
             }
            },
            "type": "scattermapbox"
           }
          ],
          "scatterpolar": [
           {
            "marker": {
             "colorbar": {
              "outlinewidth": 0,
              "ticks": ""
             }
            },
            "type": "scatterpolar"
           }
          ],
          "scatterpolargl": [
           {
            "marker": {
             "colorbar": {
              "outlinewidth": 0,
              "ticks": ""
             }
            },
            "type": "scatterpolargl"
           }
          ],
          "scatterternary": [
           {
            "marker": {
             "colorbar": {
              "outlinewidth": 0,
              "ticks": ""
             }
            },
            "type": "scatterternary"
           }
          ],
          "surface": [
           {
            "colorbar": {
             "outlinewidth": 0,
             "ticks": ""
            },
            "colorscale": [
             [
              0,
              "#0d0887"
             ],
             [
              0.1111111111111111,
              "#46039f"
             ],
             [
              0.2222222222222222,
              "#7201a8"
             ],
             [
              0.3333333333333333,
              "#9c179e"
             ],
             [
              0.4444444444444444,
              "#bd3786"
             ],
             [
              0.5555555555555556,
              "#d8576b"
             ],
             [
              0.6666666666666666,
              "#ed7953"
             ],
             [
              0.7777777777777778,
              "#fb9f3a"
             ],
             [
              0.8888888888888888,
              "#fdca26"
             ],
             [
              1,
              "#f0f921"
             ]
            ],
            "type": "surface"
           }
          ],
          "table": [
           {
            "cells": {
             "fill": {
              "color": "#EBF0F8"
             },
             "line": {
              "color": "white"
             }
            },
            "header": {
             "fill": {
              "color": "#C8D4E3"
             },
             "line": {
              "color": "white"
             }
            },
            "type": "table"
           }
          ]
         },
         "layout": {
          "annotationdefaults": {
           "arrowcolor": "#2a3f5f",
           "arrowhead": 0,
           "arrowwidth": 1
          },
          "autotypenumbers": "strict",
          "coloraxis": {
           "colorbar": {
            "outlinewidth": 0,
            "ticks": ""
           }
          },
          "colorscale": {
           "diverging": [
            [
             0,
             "#8e0152"
            ],
            [
             0.1,
             "#c51b7d"
            ],
            [
             0.2,
             "#de77ae"
            ],
            [
             0.3,
             "#f1b6da"
            ],
            [
             0.4,
             "#fde0ef"
            ],
            [
             0.5,
             "#f7f7f7"
            ],
            [
             0.6,
             "#e6f5d0"
            ],
            [
             0.7,
             "#b8e186"
            ],
            [
             0.8,
             "#7fbc41"
            ],
            [
             0.9,
             "#4d9221"
            ],
            [
             1,
             "#276419"
            ]
           ],
           "sequential": [
            [
             0,
             "#0d0887"
            ],
            [
             0.1111111111111111,
             "#46039f"
            ],
            [
             0.2222222222222222,
             "#7201a8"
            ],
            [
             0.3333333333333333,
             "#9c179e"
            ],
            [
             0.4444444444444444,
             "#bd3786"
            ],
            [
             0.5555555555555556,
             "#d8576b"
            ],
            [
             0.6666666666666666,
             "#ed7953"
            ],
            [
             0.7777777777777778,
             "#fb9f3a"
            ],
            [
             0.8888888888888888,
             "#fdca26"
            ],
            [
             1,
             "#f0f921"
            ]
           ],
           "sequentialminus": [
            [
             0,
             "#0d0887"
            ],
            [
             0.1111111111111111,
             "#46039f"
            ],
            [
             0.2222222222222222,
             "#7201a8"
            ],
            [
             0.3333333333333333,
             "#9c179e"
            ],
            [
             0.4444444444444444,
             "#bd3786"
            ],
            [
             0.5555555555555556,
             "#d8576b"
            ],
            [
             0.6666666666666666,
             "#ed7953"
            ],
            [
             0.7777777777777778,
             "#fb9f3a"
            ],
            [
             0.8888888888888888,
             "#fdca26"
            ],
            [
             1,
             "#f0f921"
            ]
           ]
          },
          "colorway": [
           "#636efa",
           "#EF553B",
           "#00cc96",
           "#ab63fa",
           "#FFA15A",
           "#19d3f3",
           "#FF6692",
           "#B6E880",
           "#FF97FF",
           "#FECB52"
          ],
          "font": {
           "color": "#2a3f5f"
          },
          "geo": {
           "bgcolor": "white",
           "lakecolor": "white",
           "landcolor": "#E5ECF6",
           "showlakes": true,
           "showland": true,
           "subunitcolor": "white"
          },
          "hoverlabel": {
           "align": "left"
          },
          "hovermode": "closest",
          "mapbox": {
           "style": "light"
          },
          "paper_bgcolor": "white",
          "plot_bgcolor": "#E5ECF6",
          "polar": {
           "angularaxis": {
            "gridcolor": "white",
            "linecolor": "white",
            "ticks": ""
           },
           "bgcolor": "#E5ECF6",
           "radialaxis": {
            "gridcolor": "white",
            "linecolor": "white",
            "ticks": ""
           }
          },
          "scene": {
           "xaxis": {
            "backgroundcolor": "#E5ECF6",
            "gridcolor": "white",
            "gridwidth": 2,
            "linecolor": "white",
            "showbackground": true,
            "ticks": "",
            "zerolinecolor": "white"
           },
           "yaxis": {
            "backgroundcolor": "#E5ECF6",
            "gridcolor": "white",
            "gridwidth": 2,
            "linecolor": "white",
            "showbackground": true,
            "ticks": "",
            "zerolinecolor": "white"
           },
           "zaxis": {
            "backgroundcolor": "#E5ECF6",
            "gridcolor": "white",
            "gridwidth": 2,
            "linecolor": "white",
            "showbackground": true,
            "ticks": "",
            "zerolinecolor": "white"
           }
          },
          "shapedefaults": {
           "line": {
            "color": "#2a3f5f"
           }
          },
          "ternary": {
           "aaxis": {
            "gridcolor": "white",
            "linecolor": "white",
            "ticks": ""
           },
           "baxis": {
            "gridcolor": "white",
            "linecolor": "white",
            "ticks": ""
           },
           "bgcolor": "#E5ECF6",
           "caxis": {
            "gridcolor": "white",
            "linecolor": "white",
            "ticks": ""
           }
          },
          "title": {
           "x": 0.05
          },
          "xaxis": {
           "automargin": true,
           "gridcolor": "white",
           "linecolor": "white",
           "ticks": "",
           "title": {
            "standoff": 15
           },
           "zerolinecolor": "white",
           "zerolinewidth": 2
          },
          "yaxis": {
           "automargin": true,
           "gridcolor": "white",
           "linecolor": "white",
           "ticks": "",
           "title": {
            "standoff": 15
           },
           "zerolinecolor": "white",
           "zerolinewidth": 2
          }
         }
        },
        "width": 1500,
        "xaxis": {
         "anchor": "y",
         "domain": [
          0,
          1
         ]
        },
        "xaxis2": {
         "anchor": "y2",
         "domain": [
          0,
          1
         ]
        },
        "yaxis": {
         "anchor": "x",
         "domain": [
          0.575,
          1
         ]
        },
        "yaxis2": {
         "anchor": "x2",
         "domain": [
          0,
          0.425
         ]
        }
       }
      }
     },
     "metadata": {},
     "output_type": "display_data"
    }
   ],
   "source": [
    "fig = make_subplots(rows=2, cols=1)\n",
    "fig.update_layout(width=1500, height=1000)\n",
    "fig.add_trace(\n",
    "    go.Bar(name='Predicted Home Win',\n",
    "           x=Final_Odds[Final_Odds['Type']=='Predicted']['Match'],\n",
    "           y=Final_Odds[Final_Odds['Type']=='Predicted']['P(Hwin)'],\n",
    "           marker_color='rgb(141,211,199)'),\n",
    "    row=1, col=1)\n",
    "\n",
    "fig.add_trace(\n",
    "    go.Bar(name='Bookmaker Home Win',\n",
    "           x=Final_Odds[Final_Odds['Type']=='Bookmaker']['Match'],\n",
    "           y=Final_Odds[Final_Odds['Type']=='Bookmaker']['P(Hwin)'],\n",
    "           marker_color='rgb(82, 106, 131)'),\n",
    "    row=1, col=1)\n",
    "\n",
    "fig.add_trace(\n",
    "    go.Bar(name='Predicted Draw',\n",
    "           x=Final_Odds[Final_Odds['Type']=='Predicted']['Match'],\n",
    "           y=Final_Odds[Final_Odds['Type']=='Predicted']['P(Draw)'],\n",
    "           marker_color='rgb(141,211,199)'),\n",
    "    row=1, col=1)\n",
    "\n",
    "fig.add_trace(\n",
    "    go.Bar(name='Bookmaker Draw',\n",
    "           x=Final_Odds[Final_Odds['Type']=='Bookmaker']['Match'],\n",
    "           y=Final_Odds[Final_Odds['Type']=='Bookmaker']['P(Draw)'],\n",
    "           marker_color='rgb(82, 106, 131)'),\n",
    "    row=1, col=1)\n",
    "\n",
    "fig.add_trace(\n",
    "    go.Bar(name='Predicted Away Win',\n",
    "           x=Final_Odds[Final_Odds['Type']=='Predicted']['Match'],\n",
    "           y=Final_Odds[Final_Odds['Type']=='Predicted']['P(Awin)'],\n",
    "           marker_color='rgb(141,211,199)'),\n",
    "    row=1, col=1)\n",
    "\n",
    "fig.add_trace(\n",
    "    go.Bar(name='Bookmaker Away Win',\n",
    "           x=Final_Odds[Final_Odds['Type']=='Bookmaker']['Match'],\n",
    "           y=Final_Odds[Final_Odds['Type']=='Bookmaker']['P(Awin)'],\n",
    "           marker_color='rgb(82, 106, 131)'),\n",
    "    row=1, col=1)\n",
    "\n",
    "\n",
    "fig.add_trace(\n",
    "    go.Bar(name='Predicted Over',\n",
    "           x=Final_Odds[Final_Odds['Type']=='Predicted']['Match'],\n",
    "           y=Final_Odds[Final_Odds['Type']=='Predicted']['P(Over)'],\n",
    "           marker_color='rgb(141,211,199)'),\n",
    "    row=2, col=1)\n",
    "\n",
    "fig.add_trace(\n",
    "    go.Bar(name='Bookmaker Over',\n",
    "           x=Final_Odds[Final_Odds['Type']=='Bookmaker']['Match'],\n",
    "           y=Final_Odds[Final_Odds['Type']=='Bookmaker']['P(Over)'],\n",
    "           marker_color='rgb(82, 106, 131)'),\n",
    "    row=2, col=1)\n",
    "\n",
    "fig.add_trace(\n",
    "    go.Bar(name='Predicted Under',\n",
    "           x=Final_Odds[Final_Odds['Type']=='Predicted']['Match'],\n",
    "           y=Final_Odds[Final_Odds['Type']=='Predicted']['P(Under)'],\n",
    "           marker_color='rgb(141,211,199)'),\n",
    "    row=2, col=1)\n",
    "\n",
    "fig.add_trace(\n",
    "    go.Bar(name='Bookmaker Under',\n",
    "           x=Final_Odds[Final_Odds['Type']=='Bookmaker']['Match'],\n",
    "           y=Final_Odds[Final_Odds['Type']=='Bookmaker']['P(Under)'],\n",
    "           marker_color='rgb(82, 106, 131)'),\n",
    "    row=2, col=1)\n",
    "\n",
    "\n",
    "fig.show()\n"
   ]
  },
  {
   "cell_type": "code",
   "execution_count": 7,
   "metadata": {},
   "outputs": [
    {
     "data": {
      "application/vnd.plotly.v1+json": {
       "config": {
        "plotlyServerURL": "https://plot.ly"
       },
       "data": [
        {
         "fill": "toself",
         "hovertemplate": "%{theta}<br>Prob: %{r:.2f}<br>Bookmaker Odds",
         "marker": {
          "color": "rgb(82, 106, 131)"
         },
         "name": "Bookmaker Odds",
         "r": [
          0.5235602094240838,
          0.26666666666666666,
          0.2597402597402597,
          0.625,
          0.425531914893617,
          0.6578947368421053,
          0.4132231404958678
         ],
         "subplot": "polar",
         "theta": [
          "Home",
          "Draw",
          "Away",
          "Over",
          "Under",
          "GG",
          "NG"
         ],
         "type": "scatterpolar",
         "visible": true
        },
        {
         "fill": "toself",
         "hovertemplate": "%{theta}<br>Prob: %{r:.2f}<br>Predicted Odds",
         "marker": {
          "color": "rgb(141,211,199)"
         },
         "name": "Predicted Odds",
         "r": [
          0.543565178508646,
          0.2232138170978347,
          0.23322018678864537,
          0.5932452041096079,
          0.4067547958903921,
          0.5874315311190067,
          0.4125676512761191
         ],
         "subplot": "polar",
         "theta": [
          "Home",
          "Draw",
          "Away",
          "Over",
          "Under",
          "GG",
          "NG"
         ],
         "type": "scatterpolar",
         "visible": true
        },
        {
         "hovertemplate": "Score %{x}<br>Prob: %{y:.3f}",
         "marker": {
          "color": [
           0.1030910089058657,
           0.09799521747492154,
           0.08787575605330765,
           0.08353205499308158,
           0.06210087410387652,
           0.060470353795773986,
           0.057481302529624884,
           0.05422589178879614,
           0.0529353754645321,
           0.04622266567355497,
           0.0364266667670042,
           0.03180741847578607,
           0.029515613086825866,
           0.0251593891931942,
           0.02364683223102443,
           0.02247796865765637,
           0.01731304780894412,
           0.01424458802877021,
           0.012438238594388114,
           0.006935291090540476,
           0.0067702388236137254,
           0.00659247945948398,
           0.004177742011242313,
           0.0036479645333847535,
           0.0019856180538481106
          ],
          "colorscale": [
           [
            0,
            "rgb(210, 251, 212)"
           ],
           [
            0.16666666666666666,
            "rgb(165, 219, 194)"
           ],
           [
            0.3333333333333333,
            "rgb(123, 188, 176)"
           ],
           [
            0.5,
            "rgb(85, 156, 158)"
           ],
           [
            0.6666666666666666,
            "rgb(58, 124, 137)"
           ],
           [
            0.8333333333333334,
            "rgb(35, 93, 114)"
           ],
           [
            1,
            "rgb(18, 63, 90)"
           ]
          ]
         },
         "name": "Propable Scoreline",
         "type": "bar",
         "visible": true,
         "x": [
          "1 - 1",
          "2 - 1",
          "1 - 0",
          "2 - 0",
          "3 - 1",
          "1 - 2",
          "2 - 2",
          "0 - 1",
          "3 - 0",
          "0 - 0",
          "3 - 2",
          "0 - 2",
          "4 - 1",
          "4 - 0",
          "1 - 3",
          "2 - 3",
          "Other",
          "Other",
          "Other",
          "Other",
          "Other",
          "Other",
          "Other",
          "Other",
          "Other"
         ],
         "xaxis": "x",
         "y": [
          0.1030910089058657,
          0.09799521747492154,
          0.08787575605330765,
          0.08353205499308158,
          0.06210087410387652,
          0.060470353795773986,
          0.057481302529624884,
          0.05422589178879614,
          0.0529353754645321,
          0.04622266567355497,
          0.0364266667670042,
          0.03180741847578607,
          0.029515613086825866,
          0.0251593891931942,
          0.02364683223102443,
          0.02247796865765637,
          0.01731304780894412,
          0.01424458802877021,
          0.012438238594388114,
          0.006935291090540476,
          0.0067702388236137254,
          0.00659247945948398,
          0.004177742011242313,
          0.0036479645333847535,
          0.0019856180538481106
         ],
         "yaxis": "y"
        },
        {
         "fill": "toself",
         "hovertemplate": "%{theta}<br>Prob: %{r:.2f}<br>Bookmaker Odds",
         "marker": {
          "color": "rgb(82, 106, 131)"
         },
         "name": "Bookmaker Odds",
         "r": [
          0.6802721088435374,
          0.2222222222222222,
          0.15151515151515152,
          0.4347826086956522,
          0.6172839506172839,
          0.6060606060606061,
          0.46511627906976744
         ],
         "subplot": "polar",
         "theta": [
          "Home",
          "Draw",
          "Away",
          "Over",
          "Under",
          "GG",
          "NG"
         ],
         "type": "scatterpolar",
         "visible": false
        },
        {
         "fill": "toself",
         "hovertemplate": "%{theta}<br>Prob: %{r:.2f}<br>Predicted Odds",
         "marker": {
          "color": "rgb(141,211,199)"
         },
         "name": "Predicted Odds",
         "r": [
          0.7122232036888565,
          0.15798072913801936,
          0.12977028447223737,
          0.7286260659095326,
          0.2713739340904674,
          0.6194677657569013,
          0.380506451542212
         ],
         "subplot": "polar",
         "theta": [
          "Home",
          "Draw",
          "Away",
          "Over",
          "Under",
          "GG",
          "NG"
         ],
         "type": "scatterpolar",
         "visible": false
        },
        {
         "hovertemplate": "Score %{x}<br>Prob: %{y:.3f}",
         "marker": {
          "color": [
           0.08992808722358046,
           0.08234861536454371,
           0.08071575347696983,
           0.07391273118496203,
           0.06679456837381259,
           0.0611648750604529,
           0.05433535612036207,
           0.04975577130565208,
           0.04910259168227549,
           0.04407246731994994,
           0.03647121292926982,
           0.02966822588871407,
           0.02480601168104269,
           0.02271526925255146,
           0.01787401900307185,
           0.01604298452281903,
           0.013544594358064002,
           0.013276023334592326,
           0.010799642445629237,
           0.004930418714178074,
           0.004879791641998443,
           0.0043799003331991705,
           0.0036244913746587178,
           0.002948413836512991,
           0.0013460551893149492
          ],
          "colorscale": [
           [
            0,
            "rgb(210, 251, 212)"
           ],
           [
            0.16666666666666666,
            "rgb(165, 219, 194)"
           ],
           [
            0.3333333333333333,
            "rgb(123, 188, 176)"
           ],
           [
            0.5,
            "rgb(85, 156, 158)"
           ],
           [
            0.6666666666666666,
            "rgb(58, 124, 137)"
           ],
           [
            0.8333333333333334,
            "rgb(35, 93, 114)"
           ],
           [
            1,
            "rgb(18, 63, 90)"
           ]
          ]
         },
         "name": "Propable Scoreline",
         "type": "bar",
         "visible": false,
         "x": [
          "2 - 1",
          "2 - 0",
          "3 - 1",
          "3 - 0",
          "1 - 1",
          "1 - 0",
          "4 - 1",
          "4 - 0",
          "2 - 2",
          "3 - 2",
          "1 - 2",
          "4 - 2",
          "0 - 1",
          "0 - 0",
          "Other",
          "Other",
          "Other",
          "Other",
          "Other",
          "Other",
          "Other",
          "Other",
          "Other",
          "Other",
          "Other"
         ],
         "xaxis": "x",
         "y": [
          0.08992808722358046,
          0.08234861536454371,
          0.08071575347696983,
          0.07391273118496203,
          0.06679456837381259,
          0.0611648750604529,
          0.05433535612036207,
          0.04975577130565208,
          0.04910259168227549,
          0.04407246731994994,
          0.03647121292926982,
          0.02966822588871407,
          0.02480601168104269,
          0.02271526925255146,
          0.01787401900307185,
          0.01604298452281903,
          0.013544594358064002,
          0.013276023334592326,
          0.010799642445629237,
          0.004930418714178074,
          0.004879791641998443,
          0.0043799003331991705,
          0.0036244913746587178,
          0.002948413836512991,
          0.0013460551893149492
         ],
         "yaxis": "y"
        },
        {
         "fill": "toself",
         "hovertemplate": "%{theta}<br>Prob: %{r:.2f}<br>Bookmaker Odds",
         "marker": {
          "color": "rgb(82, 106, 131)"
         },
         "name": "Bookmaker Odds",
         "r": [
          0.2857142857142857,
          0.2631578947368421,
          0.5,
          0.5813953488372093,
          0.4716981132075471,
          0.6060606060606061,
          0.46511627906976744
         ],
         "subplot": "polar",
         "theta": [
          "Home",
          "Draw",
          "Away",
          "Over",
          "Under",
          "GG",
          "NG"
         ],
         "type": "scatterpolar",
         "visible": false
        },
        {
         "fill": "toself",
         "hovertemplate": "%{theta}<br>Prob: %{r:.2f}<br>Predicted Odds",
         "marker": {
          "color": "rgb(141,211,199)"
         },
         "name": "Predicted Odds",
         "r": [
          0.22059377491965032,
          0.2094257183384386,
          0.5699784319442166,
          0.6433866087262199,
          0.35661339127378006,
          0.6197283408983945,
          0.380269584303911
         ],
         "subplot": "polar",
         "theta": [
          "Home",
          "Draw",
          "Away",
          "Over",
          "Under",
          "GG",
          "NG"
         ],
         "type": "scatterpolar",
         "visible": false
        },
        {
         "hovertemplate": "Score %{x}<br>Prob: %{y:.3f}",
         "marker": {
          "color": [
           0.09713765612295726,
           0.09324142900733194,
           0.07894332540754538,
           0.07577687958903423,
           0.06746446179212122,
           0.05976264736980557,
           0.05736554560229896,
           0.05482805714355336,
           0.04475074049719949,
           0.04150661031981997,
           0.03636872053848242,
           0.03514178064328114,
           0.02855956315449404,
           0.027532296234186616,
           0.02451211447890552,
           0.023528924551271965,
           0.02162051184221566,
           0.01702425894045628,
           0.01129258536663312,
           0.008867821033588977,
           0.007540375753131454,
           0.007237928508221958,
           0.005236974127226728,
           0.0034738062667749687,
           0.00272790430879911
          ],
          "colorscale": [
           [
            0,
            "rgb(210, 251, 212)"
           ],
           [
            0.16666666666666666,
            "rgb(165, 219, 194)"
           ],
           [
            0.3333333333333333,
            "rgb(123, 188, 176)"
           ],
           [
            0.5,
            "rgb(85, 156, 158)"
           ],
           [
            0.6666666666666666,
            "rgb(58, 124, 137)"
           ],
           [
            0.8333333333333334,
            "rgb(35, 93, 114)"
           ],
           [
            1,
            "rgb(18, 63, 90)"
           ]
          ]
         },
         "name": "Propable Scoreline",
         "type": "bar",
         "visible": false,
         "x": [
          "1 - 2",
          "1 - 1",
          "0 - 2",
          "0 - 1",
          "1 - 3",
          "2 - 2",
          "2 - 1",
          "0 - 3",
          "1 - 0",
          "2 - 3",
          "0 - 0",
          "1 - 4",
          "0 - 4",
          "2 - 0",
          "3 - 2",
          "3 - 1",
          "2 - 4",
          "Other",
          "Other",
          "Other",
          "Other",
          "Other",
          "Other",
          "Other",
          "Other"
         ],
         "xaxis": "x",
         "y": [
          0.09713765612295726,
          0.09324142900733194,
          0.07894332540754538,
          0.07577687958903423,
          0.06746446179212122,
          0.05976264736980557,
          0.05736554560229896,
          0.05482805714355336,
          0.04475074049719949,
          0.04150661031981997,
          0.03636872053848242,
          0.03514178064328114,
          0.02855956315449404,
          0.027532296234186616,
          0.02451211447890552,
          0.023528924551271965,
          0.02162051184221566,
          0.01702425894045628,
          0.01129258536663312,
          0.008867821033588977,
          0.007540375753131454,
          0.007237928508221958,
          0.005236974127226728,
          0.0034738062667749687,
          0.00272790430879911
         ],
         "yaxis": "y"
        },
        {
         "fill": "toself",
         "hovertemplate": "%{theta}<br>Prob: %{r:.2f}<br>Bookmaker Odds",
         "marker": {
          "color": "rgb(82, 106, 131)"
         },
         "name": "Bookmaker Odds",
         "r": [
          0.6060606060606061,
          0.2469135802469136,
          0.1923076923076923,
          0.5464480874316939,
          0.5,
          0.5464480874316939,
          0.5263157894736842
         ],
         "subplot": "polar",
         "theta": [
          "Home",
          "Draw",
          "Away",
          "Over",
          "Under",
          "GG",
          "NG"
         ],
         "type": "scatterpolar",
         "visible": false
        },
        {
         "fill": "toself",
         "hovertemplate": "%{theta}<br>Prob: %{r:.2f}<br>Predicted Odds",
         "marker": {
          "color": "rgb(141,211,199)"
         },
         "name": "Predicted Odds",
         "r": [
          0.5686791864710252,
          0.2100318970221776,
          0.22128692311323964,
          0.6413497571859781,
          0.35865024281402186,
          0.6185061985147206,
          0.38149180809172195
         ],
         "subplot": "polar",
         "theta": [
          "Home",
          "Draw",
          "Away",
          "Over",
          "Under",
          "GG",
          "NG"
         ],
         "type": "scatterpolar",
         "visible": false
        },
        {
         "hovertemplate": "Score %{x}<br>Prob: %{y:.3f}",
         "marker": {
          "color": [
           0.09720318324427994,
           0.09367546860127006,
           0.07912023354688467,
           0.07624878842414348,
           0.06724249848191993,
           0.059709497869607164,
           0.057542510504265135,
           0.05473320941347485,
           0.04513789119238498,
           0.04130539438984402,
           0.03674077714080962,
           0.03488738833836301,
           0.028397200801904564,
           0.027727083908529012,
           0.024452039647583065,
           0.023564622019505408,
           0.02143045495156896,
           0.01691525096200187,
           0.01135470535230067,
           0.008776130311560342,
           0.007510139897248829,
           0.007237580608526806,
           0.005195308978417414,
           0.0034874565441925017,
           0.0026954792870548493
          ],
          "colorscale": [
           [
            0,
            "rgb(210, 251, 212)"
           ],
           [
            0.16666666666666666,
            "rgb(165, 219, 194)"
           ],
           [
            0.3333333333333333,
            "rgb(123, 188, 176)"
           ],
           [
            0.5,
            "rgb(85, 156, 158)"
           ],
           [
            0.6666666666666666,
            "rgb(58, 124, 137)"
           ],
           [
            0.8333333333333334,
            "rgb(35, 93, 114)"
           ],
           [
            1,
            "rgb(18, 63, 90)"
           ]
          ]
         },
         "name": "Propable Scoreline",
         "type": "bar",
         "visible": false,
         "x": [
          "2 - 1",
          "1 - 1",
          "2 - 0",
          "1 - 0",
          "3 - 1",
          "2 - 2",
          "1 - 2",
          "3 - 0",
          "0 - 1",
          "3 - 2",
          "0 - 0",
          "4 - 1",
          "4 - 0",
          "0 - 2",
          "2 - 3",
          "1 - 3",
          "4 - 2",
          "Other",
          "Other",
          "Other",
          "Other",
          "Other",
          "Other",
          "Other",
          "Other"
         ],
         "xaxis": "x",
         "y": [
          0.09720318324427994,
          0.09367546860127006,
          0.07912023354688467,
          0.07624878842414348,
          0.06724249848191993,
          0.059709497869607164,
          0.057542510504265135,
          0.05473320941347485,
          0.04513789119238498,
          0.04130539438984402,
          0.03674077714080962,
          0.03488738833836301,
          0.028397200801904564,
          0.027727083908529012,
          0.024452039647583065,
          0.023564622019505408,
          0.02143045495156896,
          0.01691525096200187,
          0.01135470535230067,
          0.008776130311560342,
          0.007510139897248829,
          0.007237580608526806,
          0.005195308978417414,
          0.0034874565441925017,
          0.0026954792870548493
         ],
         "yaxis": "y"
        },
        {
         "fill": "toself",
         "hovertemplate": "%{theta}<br>Prob: %{r:.2f}<br>Bookmaker Odds",
         "marker": {
          "color": "rgb(82, 106, 131)"
         },
         "name": "Bookmaker Odds",
         "r": [
          0.8620689655172414,
          0.13513513513513511,
          0.05263157894736842,
          0.48780487804878053,
          0.5617977528089888,
          0.46511627906976744,
          0.6060606060606061
         ],
         "subplot": "polar",
         "theta": [
          "Home",
          "Draw",
          "Away",
          "Over",
          "Under",
          "GG",
          "NG"
         ],
         "type": "scatterpolar",
         "visible": false
        },
        {
         "fill": "toself",
         "hovertemplate": "%{theta}<br>Prob: %{r:.2f}<br>Predicted Odds",
         "marker": {
          "color": "rgb(141,211,199)"
         },
         "name": "Predicted Odds",
         "r": [
          0.872707431247827,
          0.09648066552811575,
          0.030766612769323434,
          0.631328082807508,
          0.36867191719249204,
          0.30876807196557143,
          0.6911866375796949
         ],
         "subplot": "polar",
         "theta": [
          "Home",
          "Draw",
          "Away",
          "Over",
          "Under",
          "GG",
          "NG"
         ],
         "type": "scatterpolar",
         "visible": false
        },
        {
         "hovertemplate": "Score %{x}<br>Prob: %{y:.3f}",
         "marker": {
          "color": [
           0.15760920580039312,
           0.15012196859206028,
           0.11031324278519335,
           0.10724280986399395,
           0.06255325177503834,
           0.059581654831739043,
           0.04378203681073254,
           0.042563417869010335,
           0.03860501508140541,
           0.015321879302054588,
           0.012413327279203818,
           0.011823631230600064,
           0.008688289360820185,
           0.008446461552944796,
           0.0030405374127130415,
           0.0016422348401090904,
           0.0015642203501734103,
           0.0011494268352363298,
           0.0011174339583494457,
           0.00040225125459938526,
           0.00016294595373633235,
           0.0001552051939148086,
           0.00011404851933678152,
           0.00011087411960430713,
           0.00003991220544193243
          ],
          "colorscale": [
           [
            0,
            "rgb(210, 251, 212)"
           ],
           [
            0.16666666666666666,
            "rgb(165, 219, 194)"
           ],
           [
            0.3333333333333333,
            "rgb(123, 188, 176)"
           ],
           [
            0.5,
            "rgb(85, 156, 158)"
           ],
           [
            0.6666666666666666,
            "rgb(58, 124, 137)"
           ],
           [
            0.8333333333333334,
            "rgb(35, 93, 114)"
           ],
           [
            1,
            "rgb(18, 63, 90)"
           ]
          ]
         },
         "name": "Propable Scoreline",
         "type": "bar",
         "visible": false,
         "x": [
          "2 - 0",
          "3 - 0",
          "1 - 0",
          "4 - 0",
          "2 - 1",
          "3 - 1",
          "1 - 1",
          "4 - 1",
          "0 - 0",
          "Other",
          "Other",
          "Other",
          "Other",
          "Other",
          "Other",
          "Other",
          "Other",
          "Other",
          "Other",
          "Other",
          "Other",
          "Other",
          "Other",
          "Other",
          "Other"
         ],
         "xaxis": "x",
         "y": [
          0.15760920580039312,
          0.15012196859206028,
          0.11031324278519335,
          0.10724280986399395,
          0.06255325177503834,
          0.059581654831739043,
          0.04378203681073254,
          0.042563417869010335,
          0.03860501508140541,
          0.015321879302054588,
          0.012413327279203818,
          0.011823631230600064,
          0.008688289360820185,
          0.008446461552944796,
          0.0030405374127130415,
          0.0016422348401090904,
          0.0015642203501734103,
          0.0011494268352363298,
          0.0011174339583494457,
          0.00040225125459938526,
          0.00016294595373633235,
          0.0001552051939148086,
          0.00011404851933678152,
          0.00011087411960430713,
          0.00003991220544193243
         ],
         "yaxis": "y"
        },
        {
         "fill": "toself",
         "hovertemplate": "%{theta}<br>Prob: %{r:.2f}<br>Bookmaker Odds",
         "marker": {
          "color": "rgb(82, 106, 131)"
         },
         "name": "Bookmaker Odds",
         "r": [
          0.4587155963302752,
          0.28169014084507044,
          0.3076923076923077,
          0.5405405405405405,
          0.5050505050505051,
          0.5882352941176471,
          0.4716981132075471
         ],
         "subplot": "polar",
         "theta": [
          "Home",
          "Draw",
          "Away",
          "Over",
          "Under",
          "GG",
          "NG"
         ],
         "type": "scatterpolar",
         "visible": false
        },
        {
         "fill": "toself",
         "hovertemplate": "%{theta}<br>Prob: %{r:.2f}<br>Predicted Odds",
         "marker": {
          "color": "rgb(141,211,199)"
         },
         "name": "Predicted Odds",
         "r": [
          0.3852601049909948,
          0.23347988165561268,
          0.38125972549632287,
          0.6240768587924305,
          0.37592314120756953,
          0.6400379246401645,
          0.3599617875027662
         ],
         "subplot": "polar",
         "theta": [
          "Home",
          "Draw",
          "Away",
          "Over",
          "Under",
          "GG",
          "NG"
         ],
         "type": "scatterpolar",
         "visible": false
        },
        {
         "hovertemplate": "Score %{x}<br>Prob: %{y:.3f}",
         "marker": {
          "color": [
           0.103600297218724,
           0.08361917492591518,
           0.08313285117237879,
           0.06709923244329118,
           0.06455343123955094,
           0.06417799262739188,
           0.05210317734409422,
           0.05149888227029841,
           0.04499450679199458,
           0.04447265840983722,
           0.039989360507510084,
           0.036105317621013884,
           0.035895331411467675,
           0.028036114551122943,
           0.027549785282191333,
           0.019314860908698474,
           0.018158266120616315,
           0.017843283234118185,
           0.014570889036801128,
           0.014401895188160879,
           0.011314430700637229,
           0.011053502070848655,
           0.007794826734832369,
           0.007749492522922147,
           0.0031274339372463814
          ],
          "colorscale": [
           [
            0,
            "rgb(210, 251, 212)"
           ],
           [
            0.16666666666666666,
            "rgb(165, 219, 194)"
           ],
           [
            0.3333333333333333,
            "rgb(123, 188, 176)"
           ],
           [
            0.5,
            "rgb(85, 156, 158)"
           ],
           [
            0.6666666666666666,
            "rgb(58, 124, 137)"
           ],
           [
            0.8333333333333334,
            "rgb(35, 93, 114)"
           ],
           [
            1,
            "rgb(18, 63, 90)"
           ]
          ]
         },
         "name": "Propable Scoreline",
         "type": "bar",
         "visible": false,
         "x": [
          "1 - 1",
          "2 - 1",
          "1 - 2",
          "2 - 2",
          "1 - 0",
          "0 - 1",
          "2 - 0",
          "0 - 2",
          "3 - 1",
          "1 - 3",
          "0 - 0",
          "3 - 2",
          "2 - 3",
          "3 - 0",
          "0 - 3",
          "Other",
          "Other",
          "Other",
          "Other",
          "Other",
          "Other",
          "Other",
          "Other",
          "Other",
          "Other"
         ],
         "xaxis": "x",
         "y": [
          0.103600297218724,
          0.08361917492591518,
          0.08313285117237879,
          0.06709923244329118,
          0.06455343123955094,
          0.06417799262739188,
          0.05210317734409422,
          0.05149888227029841,
          0.04499450679199458,
          0.04447265840983722,
          0.039989360507510084,
          0.036105317621013884,
          0.035895331411467675,
          0.028036114551122943,
          0.027549785282191333,
          0.019314860908698474,
          0.018158266120616315,
          0.017843283234118185,
          0.014570889036801128,
          0.014401895188160879,
          0.011314430700637229,
          0.011053502070848655,
          0.007794826734832369,
          0.007749492522922147,
          0.0031274339372463814
         ],
         "yaxis": "y"
        },
        {
         "fill": "toself",
         "hovertemplate": "%{theta}<br>Prob: %{r:.2f}<br>Bookmaker Odds",
         "marker": {
          "color": "rgb(82, 106, 131)"
         },
         "name": "Bookmaker Odds",
         "r": [
          0.2298850574712644,
          0.25641025641025644,
          0.5617977528089888,
          0.5617977528089888,
          0.48780487804878053,
          0.5813953488372093,
          0.48780487804878053
         ],
         "subplot": "polar",
         "theta": [
          "Home",
          "Draw",
          "Away",
          "Over",
          "Under",
          "GG",
          "NG"
         ],
         "type": "scatterpolar",
         "visible": false
        },
        {
         "fill": "toself",
         "hovertemplate": "%{theta}<br>Prob: %{r:.2f}<br>Predicted Odds",
         "marker": {
          "color": "rgb(141,211,199)"
         },
         "name": "Predicted Odds",
         "r": [
          0.1708153935783137,
          0.20143387299817045,
          0.6277483255255327,
          0.6037439098592838,
          0.3962560901407162,
          0.5582927539689881,
          0.4417048381330284
         ],
         "subplot": "polar",
         "theta": [
          "Home",
          "Draw",
          "Away",
          "Over",
          "Under",
          "GG",
          "NG"
         ],
         "type": "scatterpolar",
         "visible": false
        },
        {
         "hovertemplate": "Score %{x}<br>Prob: %{y:.3f}",
         "marker": {
          "color": [
           0.09925316707843448,
           0.09851778871153914,
           0.09384324098942448,
           0.09314794540003102,
           0.06998331168187022,
           0.06946479710979746,
           0.04999701730996012,
           0.04727186327931753,
           0.04436409506429075,
           0.04403539627575349,
           0.037008873808213834,
           0.036734670717442804,
           0.03525284833280696,
           0.02234762369967738,
           0.01864256183330832,
           0.016790072051585486,
           0.015874906807977197,
           0.011838663491902539,
           0.007504811932542099,
           0.006260572595098154,
           0.004228850059440531,
           0.003998350953603437,
           0.002981758068554623,
           0.0018902077542915466,
           0.0015768260380045569
          ],
          "colorscale": [
           [
            0,
            "rgb(210, 251, 212)"
           ],
           [
            0.16666666666666666,
            "rgb(165, 219, 194)"
           ],
           [
            0.3333333333333333,
            "rgb(123, 188, 176)"
           ],
           [
            0.5,
            "rgb(85, 156, 158)"
           ],
           [
            0.6666666666666666,
            "rgb(58, 124, 137)"
           ],
           [
            0.8333333333333334,
            "rgb(35, 93, 114)"
           ],
           [
            1,
            "rgb(18, 63, 90)"
           ]
          ]
         },
         "name": "Propable Scoreline",
         "type": "bar",
         "visible": false,
         "x": [
          "1 - 2",
          "0 - 2",
          "1 - 1",
          "0 - 1",
          "1 - 3",
          "0 - 3",
          "2 - 2",
          "2 - 1",
          "1 - 0",
          "0 - 0",
          "1 - 4",
          "0 - 4",
          "2 - 3",
          "2 - 0",
          "Other",
          "Other",
          "Other",
          "Other",
          "Other",
          "Other",
          "Other",
          "Other",
          "Other",
          "Other",
          "Other"
         ],
         "xaxis": "x",
         "y": [
          0.09925316707843448,
          0.09851778871153914,
          0.09384324098942448,
          0.09314794540003102,
          0.06998331168187022,
          0.06946479710979746,
          0.04999701730996012,
          0.04727186327931753,
          0.04436409506429075,
          0.04403539627575349,
          0.037008873808213834,
          0.036734670717442804,
          0.03525284833280696,
          0.02234762369967738,
          0.01864256183330832,
          0.016790072051585486,
          0.015874906807977197,
          0.011838663491902539,
          0.007504811932542099,
          0.006260572595098154,
          0.004228850059440531,
          0.003998350953603437,
          0.002981758068554623,
          0.0018902077542915466,
          0.0015768260380045569
         ],
         "yaxis": "y"
        },
        {
         "fill": "toself",
         "hovertemplate": "%{theta}<br>Prob: %{r:.2f}<br>Bookmaker Odds",
         "marker": {
          "color": "rgb(82, 106, 131)"
         },
         "name": "Bookmaker Odds",
         "r": [
          0.5,
          0.26666666666666666,
          0.2857142857142857,
          0.5813953488372093,
          0.4716981132075471,
          0.6172839506172839,
          0.45454545454545453
         ],
         "subplot": "polar",
         "theta": [
          "Home",
          "Draw",
          "Away",
          "Over",
          "Under",
          "GG",
          "NG"
         ],
         "type": "scatterpolar",
         "visible": false
        },
        {
         "fill": "toself",
         "hovertemplate": "%{theta}<br>Prob: %{r:.2f}<br>Predicted Odds",
         "marker": {
          "color": "rgb(141,211,199)"
         },
         "name": "Predicted Odds",
         "r": [
          0.4017615557107257,
          0.24069931990237287,
          0.35753895662716834,
          0.5864239956596575,
          0.4135760043403425,
          0.6104021605112687,
          0.3895976717289984
         ],
         "subplot": "polar",
         "theta": [
          "Home",
          "Draw",
          "Away",
          "Over",
          "Under",
          "GG",
          "NG"
         ],
         "type": "scatterpolar",
         "visible": false
        },
        {
         "hovertemplate": "Score %{x}<br>Prob: %{y:.3f}",
         "marker": {
          "color": [
           0.11027358792832538,
           0.08668763531352544,
           0.08110602465834484,
           0.07496523375304504,
           0.07013840065313677,
           0.06375859912966894,
           0.05893123609074033,
           0.05158666694120477,
           0.04768087897389022,
           0.04543092174912666,
           0.03976888971912096,
           0.03341436085339822,
           0.03126288963260835,
           0.03088445504061416,
           0.025294600212546803,
           0.01785694675639548,
           0.01638413468557275,
           0.014624973263273612,
           0.013133752072058443,
           0.012139354607550721,
           0.011496899416574339,
           0.009302066374657365,
           0.006439900610986594,
           0.006025250727660287,
           0.0023682676312820165
          ],
          "colorscale": [
           [
            0,
            "rgb(210, 251, 212)"
           ],
           [
            0.16666666666666666,
            "rgb(165, 219, 194)"
           ],
           [
            0.3333333333333333,
            "rgb(123, 188, 176)"
           ],
           [
            0.5,
            "rgb(85, 156, 158)"
           ],
           [
            0.6666666666666666,
            "rgb(58, 124, 137)"
           ],
           [
            0.8333333333333334,
            "rgb(35, 93, 114)"
           ],
           [
            1,
            "rgb(18, 63, 90)"
           ]
          ]
         },
         "name": "Propable Scoreline",
         "type": "bar",
         "visible": false,
         "x": [
          "1 - 1",
          "2 - 1",
          "1 - 2",
          "1 - 0",
          "0 - 1",
          "2 - 2",
          "2 - 0",
          "0 - 2",
          "0 - 0",
          "3 - 1",
          "1 - 3",
          "3 - 2",
          "2 - 3",
          "3 - 0",
          "0 - 3",
          "Other",
          "Other",
          "Other",
          "Other",
          "Other",
          "Other",
          "Other",
          "Other",
          "Other",
          "Other"
         ],
         "xaxis": "x",
         "y": [
          0.11027358792832538,
          0.08668763531352544,
          0.08110602465834484,
          0.07496523375304504,
          0.07013840065313677,
          0.06375859912966894,
          0.05893123609074033,
          0.05158666694120477,
          0.04768087897389022,
          0.04543092174912666,
          0.03976888971912096,
          0.03341436085339822,
          0.03126288963260835,
          0.03088445504061416,
          0.025294600212546803,
          0.01785694675639548,
          0.01638413468557275,
          0.014624973263273612,
          0.013133752072058443,
          0.012139354607550721,
          0.011496899416574339,
          0.009302066374657365,
          0.006439900610986594,
          0.006025250727660287,
          0.0023682676312820165
         ],
         "yaxis": "y"
        },
        {
         "fill": "toself",
         "hovertemplate": "%{theta}<br>Prob: %{r:.2f}<br>Bookmaker Odds",
         "marker": {
          "color": "rgb(82, 106, 131)"
         },
         "name": "Bookmaker Odds",
         "r": [
          0.6578947368421053,
          0.2222222222222222,
          0.16666666666666666,
          0.4444444444444444,
          0.6060606060606061,
          0.625,
          0.4444444444444444
         ],
         "subplot": "polar",
         "theta": [
          "Home",
          "Draw",
          "Away",
          "Over",
          "Under",
          "GG",
          "NG"
         ],
         "type": "scatterpolar",
         "visible": false
        },
        {
         "fill": "toself",
         "hovertemplate": "%{theta}<br>Prob: %{r:.2f}<br>Predicted Odds",
         "marker": {
          "color": "rgb(141,211,199)"
         },
         "name": "Predicted Odds",
         "r": [
          0.6136812838012297,
          0.1963964475979521,
          0.18991809256426676,
          0.6616043506253639,
          0.338395649374636,
          0.6164709357932305,
          0.3835248881702179
         ],
         "subplot": "polar",
         "theta": [
          "Home",
          "Draw",
          "Away",
          "Over",
          "Under",
          "GG",
          "NG"
         ],
         "type": "scatterpolar",
         "visible": false
        },
        {
         "hovertemplate": "Score %{x}<br>Prob: %{y:.3f}",
         "marker": {
          "color": [
           0.09700759160642156,
           0.08682267593752555,
           0.08274524746905106,
           0.07405774834121549,
           0.07225818007920501,
           0.061634567906552216,
           0.056864128860077655,
           0.05089391201998873,
           0.04235646298579601,
           0.04036728854332153,
           0.03885354193482305,
           0.03443236992959858,
           0.033141178841855384,
           0.023662588251571654,
           0.02277525685016549,
           0.022221828879362804,
           0.019888738763455153,
           0.016552404675388144,
           0.009247059570069494,
           0.008900300955163913,
           0.0065130208882488855,
           0.005829212874895609,
           0.004851362954273761,
           0.002710231118316096,
           0.0026085992447956547
          ],
          "colorscale": [
           [
            0,
            "rgb(210, 251, 212)"
           ],
           [
            0.16666666666666666,
            "rgb(165, 219, 194)"
           ],
           [
            0.3333333333333333,
            "rgb(123, 188, 176)"
           ],
           [
            0.5,
            "rgb(85, 156, 158)"
           ],
           [
            0.6666666666666666,
            "rgb(58, 124, 137)"
           ],
           [
            0.8333333333333334,
            "rgb(35, 93, 114)"
           ],
           [
            1,
            "rgb(18, 63, 90)"
           ]
          ]
         },
         "name": "Propable Scoreline",
         "type": "bar",
         "visible": false,
         "x": [
          "2 - 1",
          "1 - 1",
          "2 - 0",
          "1 - 0",
          "3 - 1",
          "3 - 0",
          "2 - 2",
          "1 - 2",
          "3 - 2",
          "4 - 1",
          "0 - 1",
          "4 - 0",
          "0 - 0",
          "4 - 2",
          "0 - 2",
          "2 - 3",
          "Other",
          "Other",
          "Other",
          "Other",
          "Other",
          "Other",
          "Other",
          "Other",
          "Other"
         ],
         "xaxis": "x",
         "y": [
          0.09700759160642156,
          0.08682267593752555,
          0.08274524746905106,
          0.07405774834121549,
          0.07225818007920501,
          0.061634567906552216,
          0.056864128860077655,
          0.05089391201998873,
          0.04235646298579601,
          0.04036728854332153,
          0.03885354193482305,
          0.03443236992959858,
          0.033141178841855384,
          0.023662588251571654,
          0.02277525685016549,
          0.022221828879362804,
          0.019888738763455153,
          0.016552404675388144,
          0.009247059570069494,
          0.008900300955163913,
          0.0065130208882488855,
          0.005829212874895609,
          0.004851362954273761,
          0.002710231118316096,
          0.0026085992447956547
         ],
         "yaxis": "y"
        },
        {
         "fill": "toself",
         "hovertemplate": "%{theta}<br>Prob: %{r:.2f}<br>Bookmaker Odds",
         "marker": {
          "color": "rgb(82, 106, 131)"
         },
         "name": "Bookmaker Odds",
         "r": [
          0.7462686567164178,
          0.18867924528301888,
          0.1111111111111111,
          0.625,
          0.42194092827004215,
          0.5263157894736842,
          0.5464480874316939
         ],
         "subplot": "polar",
         "theta": [
          "Home",
          "Draw",
          "Away",
          "Over",
          "Under",
          "GG",
          "NG"
         ],
         "type": "scatterpolar",
         "visible": false
        },
        {
         "fill": "toself",
         "hovertemplate": "%{theta}<br>Prob: %{r:.2f}<br>Predicted Odds",
         "marker": {
          "color": "rgb(141,211,199)"
         },
         "name": "Predicted Odds",
         "r": [
          0.6413851278724201,
          0.20115708610086472,
          0.15745568732860019,
          0.5795686049478174,
          0.42043139505218263,
          0.5287979806819525,
          0.47119992061993277
         ],
         "subplot": "polar",
         "theta": [
          "Home",
          "Draw",
          "Away",
          "Over",
          "Under",
          "GG",
          "NG"
         ],
         "type": "scatterpolar",
         "visible": false
        },
        {
         "hovertemplate": "Score %{x}<br>Prob: %{y:.3f}",
         "marker": {
          "color": [
           0.10706626689125788,
           0.1026172321233024,
           0.09910347159347882,
           0.09498532305289048,
           0.07447212824356941,
           0.06893344337286422,
           0.049176536337737685,
           0.04586644499268239,
           0.04551915008825809,
           0.04396050940363064,
           0.038850457147905124,
           0.03596104812603172,
           0.03190334241354378,
           0.021066886558736096,
           0.01664326596466447,
           0.014151746267081584,
           0.013563684191157359,
           0.009843536096602316,
           0.006500029231918659,
           0.005135154403727245,
           0.003274811070050381,
           0.003138729475611888,
           0.0022778617118494686,
           0.0015041513098530163,
           0.0011883099209361338
          ],
          "colorscale": [
           [
            0,
            "rgb(210, 251, 212)"
           ],
           [
            0.16666666666666666,
            "rgb(165, 219, 194)"
           ],
           [
            0.3333333333333333,
            "rgb(123, 188, 176)"
           ],
           [
            0.5,
            "rgb(85, 156, 158)"
           ],
           [
            0.6666666666666666,
            "rgb(58, 124, 137)"
           ],
           [
            0.8333333333333334,
            "rgb(35, 93, 114)"
           ],
           [
            1,
            "rgb(18, 63, 90)"
           ]
          ]
         },
         "name": "Propable Scoreline",
         "type": "bar",
         "visible": false,
         "x": [
          "2 - 0",
          "1 - 0",
          "2 - 1",
          "1 - 1",
          "3 - 0",
          "3 - 1",
          "0 - 0",
          "2 - 2",
          "0 - 1",
          "1 - 2",
          "4 - 0",
          "4 - 1",
          "3 - 2",
          "0 - 2",
          "Other",
          "Other",
          "Other",
          "Other",
          "Other",
          "Other",
          "Other",
          "Other",
          "Other",
          "Other",
          "Other"
         ],
         "xaxis": "x",
         "y": [
          0.10706626689125788,
          0.1026172321233024,
          0.09910347159347882,
          0.09498532305289048,
          0.07447212824356941,
          0.06893344337286422,
          0.049176536337737685,
          0.04586644499268239,
          0.04551915008825809,
          0.04396050940363064,
          0.038850457147905124,
          0.03596104812603172,
          0.03190334241354378,
          0.021066886558736096,
          0.01664326596466447,
          0.014151746267081584,
          0.013563684191157359,
          0.009843536096602316,
          0.006500029231918659,
          0.005135154403727245,
          0.003274811070050381,
          0.003138729475611888,
          0.0022778617118494686,
          0.0015041513098530163,
          0.0011883099209361338
         ],
         "yaxis": "y"
        },
        {
         "fill": "toself",
         "hovertemplate": "%{theta}<br>Prob: %{r:.2f}<br>Bookmaker Odds",
         "marker": {
          "color": "rgb(82, 106, 131)"
         },
         "name": "Bookmaker Odds",
         "r": [
          0.78125,
          0.17543859649122806,
          0.09523809523809523,
          0.49504950495049505,
          0.5555555555555556,
          0.5714285714285714,
          0.5
         ],
         "subplot": "polar",
         "theta": [
          "Home",
          "Draw",
          "Away",
          "Over",
          "Under",
          "GG",
          "NG"
         ],
         "type": "scatterpolar",
         "visible": false
        },
        {
         "fill": "toself",
         "hovertemplate": "%{theta}<br>Prob: %{r:.2f}<br>Predicted Odds",
         "marker": {
          "color": "rgb(141,211,199)"
         },
         "name": "Predicted Odds",
         "r": [
          0.704421728330797,
          0.17645094391928134,
          0.11912174422046916,
          0.6056050003345174,
          0.39439499966548264,
          0.5075829820587691,
          0.4924114344117782
         ],
         "subplot": "polar",
         "theta": [
          "Home",
          "Draw",
          "Away",
          "Over",
          "Under",
          "GG",
          "NG"
         ],
         "type": "scatterpolar",
         "visible": false
        },
        {
         "hovertemplate": "Score %{x}<br>Prob: %{y:.3f}",
         "marker": {
          "color": [
           0.11558336915648534,
           0.10045659534785784,
           0.09596686649254638,
           0.08865862368587132,
           0.08340736858943432,
           0.07361171736701816,
           0.051004428305107305,
           0.04365475596761932,
           0.042348092094962465,
           0.039839812300027026,
           0.036245786641132434,
           0.03462584567456229,
           0.030559266027639035,
           0.01758044314657915,
           0.015047123962953391,
           0.011026101696079737,
           0.0095830796803284,
           0.008457609499783565,
           0.004865578997624903,
           0.004164455339287075,
           0.002288695244660013,
           0.0019891662074333727,
           0.0017555516153300323,
           0.0010099514607543499,
           0.0008644187578112106
          ],
          "colorscale": [
           [
            0,
            "rgb(210, 251, 212)"
           ],
           [
            0.16666666666666666,
            "rgb(165, 219, 194)"
           ],
           [
            0.3333333333333333,
            "rgb(123, 188, 176)"
           ],
           [
            0.5,
            "rgb(85, 156, 158)"
           ],
           [
            0.6666666666666666,
            "rgb(58, 124, 137)"
           ],
           [
            0.8333333333333334,
            "rgb(35, 93, 114)"
           ],
           [
            1,
            "rgb(18, 63, 90)"
           ]
          ]
         },
         "name": "Propable Scoreline",
         "type": "bar",
         "visible": false,
         "x": [
          "2 - 0",
          "1 - 0",
          "2 - 1",
          "3 - 0",
          "1 - 1",
          "3 - 1",
          "4 - 0",
          "0 - 0",
          "4 - 1",
          "2 - 2",
          "0 - 1",
          "1 - 2",
          "3 - 2",
          "Other",
          "Other",
          "Other",
          "Other",
          "Other",
          "Other",
          "Other",
          "Other",
          "Other",
          "Other",
          "Other",
          "Other"
         ],
         "xaxis": "x",
         "y": [
          0.11558336915648534,
          0.10045659534785784,
          0.09596686649254638,
          0.08865862368587132,
          0.08340736858943432,
          0.07361171736701816,
          0.051004428305107305,
          0.04365475596761932,
          0.042348092094962465,
          0.039839812300027026,
          0.036245786641132434,
          0.03462584567456229,
          0.030559266027639035,
          0.01758044314657915,
          0.015047123962953391,
          0.011026101696079737,
          0.0095830796803284,
          0.008457609499783565,
          0.004865578997624903,
          0.004164455339287075,
          0.002288695244660013,
          0.0019891662074333727,
          0.0017555516153300323,
          0.0010099514607543499,
          0.0008644187578112106
         ],
         "yaxis": "y"
        },
        {
         "fill": "toself",
         "hovertemplate": "%{theta}<br>Prob: %{r:.2f}<br>Bookmaker Odds",
         "marker": {
          "color": "rgb(82, 106, 131)"
         },
         "name": "Bookmaker Odds",
         "r": [
          0.2173913043478261,
          0.25,
          0.5813953488372093,
          0.6172839506172839,
          0.4347826086956522,
          0.625,
          0.4444444444444444
         ],
         "subplot": "polar",
         "theta": [
          "Home",
          "Draw",
          "Away",
          "Over",
          "Under",
          "GG",
          "NG"
         ],
         "type": "scatterpolar",
         "visible": false
        },
        {
         "fill": "toself",
         "hovertemplate": "%{theta}<br>Prob: %{r:.2f}<br>Predicted Odds",
         "marker": {
          "color": "rgb(141,211,199)"
         },
         "name": "Predicted Odds",
         "r": [
          0.3534162070583303,
          0.2362540227437911,
          0.41032952932303735,
          0.6074012897367798,
          0.3925987102632202,
          0.6262583710354492,
          0.3737413880897089
         ],
         "subplot": "polar",
         "theta": [
          "Home",
          "Draw",
          "Away",
          "Over",
          "Under",
          "GG",
          "NG"
         ],
         "type": "scatterpolar",
         "visible": false
        },
        {
         "hovertemplate": "Score %{x}<br>Prob: %{y:.3f}",
         "marker": {
          "color": [
           0.10650461799141331,
           0.08712103412596672,
           0.08008313278118172,
           0.07082161536119601,
           0.06550819556487358,
           0.0651004304947523,
           0.0579322520009066,
           0.04895042597912198,
           0.04751014388120892,
           0.04328936843583003,
           0.04014416324223264,
           0.035723907870348424,
           0.032838022254273506,
           0.03159248114463293,
           0.024537924816853067,
           0.01943170608216303,
           0.017907720881952548,
           0.015092633615081095,
           0.014611121355021616,
           0.012921362847136965,
           0.012345810660869205,
           0.009225298998026207,
           0.007324279413877892,
           0.006732601910808074,
           0.0027536422921837457
          ],
          "colorscale": [
           [
            0,
            "rgb(210, 251, 212)"
           ],
           [
            0.16666666666666666,
            "rgb(165, 219, 194)"
           ],
           [
            0.3333333333333333,
            "rgb(123, 188, 176)"
           ],
           [
            0.5,
            "rgb(85, 156, 158)"
           ],
           [
            0.6666666666666666,
            "rgb(58, 124, 137)"
           ],
           [
            0.8333333333333334,
            "rgb(35, 93, 114)"
           ],
           [
            1,
            "rgb(18, 63, 90)"
           ]
          ]
         },
         "name": "Propable Scoreline",
         "type": "bar",
         "visible": false,
         "x": [
          "1 - 1",
          "1 - 2",
          "2 - 1",
          "0 - 1",
          "2 - 2",
          "1 - 0",
          "0 - 2",
          "2 - 0",
          "1 - 3",
          "0 - 0",
          "3 - 1",
          "2 - 3",
          "3 - 2",
          "0 - 3",
          "3 - 0",
          "Other",
          "Other",
          "Other",
          "Other",
          "Other",
          "Other",
          "Other",
          "Other",
          "Other",
          "Other"
         ],
         "xaxis": "x",
         "y": [
          0.10650461799141331,
          0.08712103412596672,
          0.08008313278118172,
          0.07082161536119601,
          0.06550819556487358,
          0.0651004304947523,
          0.0579322520009066,
          0.04895042597912198,
          0.04751014388120892,
          0.04328936843583003,
          0.04014416324223264,
          0.035723907870348424,
          0.032838022254273506,
          0.03159248114463293,
          0.024537924816853067,
          0.01943170608216303,
          0.017907720881952548,
          0.015092633615081095,
          0.014611121355021616,
          0.012921362847136965,
          0.012345810660869205,
          0.009225298998026207,
          0.007324279413877892,
          0.006732601910808074,
          0.0027536422921837457
         ],
         "yaxis": "y"
        },
        {
         "fill": "toself",
         "hovertemplate": "%{theta}<br>Prob: %{r:.2f}<br>Bookmaker Odds",
         "marker": {
          "color": "rgb(82, 106, 131)"
         },
         "name": "Bookmaker Odds",
         "r": [
          0.2222222222222222,
          0.27027027027027023,
          0.5555555555555556,
          0.5813953488372093,
          0.4716981132075471,
          0.6060606060606061,
          0.46511627906976744
         ],
         "subplot": "polar",
         "theta": [
          "Home",
          "Draw",
          "Away",
          "Over",
          "Under",
          "GG",
          "NG"
         ],
         "type": "scatterpolar",
         "visible": false
        },
        {
         "fill": "toself",
         "hovertemplate": "%{theta}<br>Prob: %{r:.2f}<br>Predicted Odds",
         "marker": {
          "color": "rgb(141,211,199)"
         },
         "name": "Predicted Odds",
         "r": [
          0.3374636734276795,
          0.24779236524196252,
          0.4147438570868695,
          0.549011516727634,
          0.45098848327236596,
          0.5802122137074476,
          0.41978768204906464
         ],
         "subplot": "polar",
         "theta": [
          "Home",
          "Draw",
          "Away",
          "Over",
          "Under",
          "GG",
          "NG"
         ],
         "type": "scatterpolar",
         "visible": false
        },
        {
         "hovertemplate": "Score %{x}<br>Prob: %{y:.3f}",
         "marker": {
          "color": [
           0.11604036316273249,
           0.08851124596238014,
           0.08577614692361943,
           0.07849131935787038,
           0.07606584754587013,
           0.06542683451804321,
           0.059870240701102945,
           0.056227291410784246,
           0.05145199971131649,
           0.0450087104652622,
           0.03539508177224679,
           0.03327009375433316,
           0.030444519223543836,
           0.026998043639422552,
           0.023201899930161612,
           0.017165479897945566,
           0.013728731485847079,
           0.012688591155784032,
           0.011970863376165335,
           0.011610969906318436,
           0.00913092654823839,
           0.007847044284813755,
           0.0052358812751696895,
           0.004643152684393488,
           0.001770811543880212
          ],
          "colorscale": [
           [
            0,
            "rgb(210, 251, 212)"
           ],
           [
            0.16666666666666666,
            "rgb(165, 219, 194)"
           ],
           [
            0.3333333333333333,
            "rgb(123, 188, 176)"
           ],
           [
            0.5,
            "rgb(85, 156, 158)"
           ],
           [
            0.6666666666666666,
            "rgb(58, 124, 137)"
           ],
           [
            0.8333333333333334,
            "rgb(35, 93, 114)"
           ],
           [
            1,
            "rgb(18, 63, 90)"
           ]
          ]
         },
         "name": "Propable Scoreline",
         "type": "bar",
         "visible": false,
         "x": [
          "1 - 1",
          "1 - 2",
          "0 - 1",
          "2 - 1",
          "1 - 0",
          "0 - 2",
          "2 - 2",
          "0 - 0",
          "2 - 0",
          "1 - 3",
          "3 - 1",
          "0 - 3",
          "2 - 3",
          "3 - 2",
          "3 - 0",
          "Other",
          "Other",
          "Other",
          "Other",
          "Other",
          "Other",
          "Other",
          "Other",
          "Other",
          "Other"
         ],
         "xaxis": "x",
         "y": [
          0.11604036316273249,
          0.08851124596238014,
          0.08577614692361943,
          0.07849131935787038,
          0.07606584754587013,
          0.06542683451804321,
          0.059870240701102945,
          0.056227291410784246,
          0.05145199971131649,
          0.0450087104652622,
          0.03539508177224679,
          0.03327009375433316,
          0.030444519223543836,
          0.026998043639422552,
          0.023201899930161612,
          0.017165479897945566,
          0.013728731485847079,
          0.012688591155784032,
          0.011970863376165335,
          0.011610969906318436,
          0.00913092654823839,
          0.007847044284813755,
          0.0052358812751696895,
          0.004643152684393488,
          0.001770811543880212
         ],
         "yaxis": "y"
        },
        {
         "fill": "toself",
         "hovertemplate": "%{theta}<br>Prob: %{r:.2f}<br>Bookmaker Odds",
         "marker": {
          "color": "rgb(82, 106, 131)"
         },
         "name": "Bookmaker Odds",
         "r": [
          0.4310344827586207,
          0.273972602739726,
          0.3448275862068966,
          0.5882352941176471,
          0.46511627906976744,
          0.6369426751592356,
          0.4347826086956522
         ],
         "subplot": "polar",
         "theta": [
          "Home",
          "Draw",
          "Away",
          "Over",
          "Under",
          "GG",
          "NG"
         ],
         "type": "scatterpolar",
         "visible": false
        },
        {
         "fill": "toself",
         "hovertemplate": "%{theta}<br>Prob: %{r:.2f}<br>Predicted Odds",
         "marker": {
          "color": "rgb(141,211,199)"
         },
         "name": "Predicted Odds",
         "r": [
          0.5035087351124984,
          0.23047139583407236,
          0.2660193732571011,
          0.5912866668141212,
          0.4087133331858788,
          0.5981881151537889,
          0.401811389049883
         ],
         "subplot": "polar",
         "theta": [
          "Home",
          "Draw",
          "Away",
          "Over",
          "Under",
          "GG",
          "NG"
         ],
         "type": "scatterpolar",
         "visible": false
        },
        {
         "hovertemplate": "Score %{x}<br>Prob: %{y:.3f}",
         "marker": {
          "color": [
           0.10600888784707937,
           0.09585684702910252,
           0.08434392952322892,
           0.07626665380929476,
           0.06661940204884373,
           0.060239532373720955,
           0.05861805729518094,
           0.057784683963577756,
           0.046638328103444475,
           0.04597527066576366,
           0.036837476607650355,
           0.036313757944410115,
           0.02791051970250913,
           0.026125439686302262,
           0.025237642540741727,
           0.020786202821441585,
           0.016418068385692805,
           0.015433238441478765,
           0.015213823982336346,
           0.008769935102686094,
           0.007930074021774564,
           0.006878428912046571,
           0.004849372243823943,
           0.004780428684629056,
           0.002161313218458814
          ],
          "colorscale": [
           [
            0,
            "rgb(210, 251, 212)"
           ],
           [
            0.16666666666666666,
            "rgb(165, 219, 194)"
           ],
           [
            0.3333333333333333,
            "rgb(123, 188, 176)"
           ],
           [
            0.5,
            "rgb(85, 156, 158)"
           ],
           [
            0.6666666666666666,
            "rgb(58, 124, 137)"
           ],
           [
            0.8333333333333334,
            "rgb(35, 93, 114)"
           ],
           [
            1,
            "rgb(18, 63, 90)"
           ]
          ]
         },
         "name": "Propable Scoreline",
         "type": "bar",
         "visible": false,
         "x": [
          "1 - 1",
          "2 - 1",
          "1 - 0",
          "2 - 0",
          "1 - 2",
          "2 - 2",
          "0 - 1",
          "3 - 1",
          "0 - 0",
          "3 - 0",
          "0 - 2",
          "3 - 2",
          "1 - 3",
          "4 - 1",
          "2 - 3",
          "4 - 0",
          "Other",
          "Other",
          "Other",
          "Other",
          "Other",
          "Other",
          "Other",
          "Other",
          "Other"
         ],
         "xaxis": "x",
         "y": [
          0.10600888784707937,
          0.09585684702910252,
          0.08434392952322892,
          0.07626665380929476,
          0.06661940204884373,
          0.060239532373720955,
          0.05861805729518094,
          0.057784683963577756,
          0.046638328103444475,
          0.04597527066576366,
          0.036837476607650355,
          0.036313757944410115,
          0.02791051970250913,
          0.026125439686302262,
          0.025237642540741727,
          0.020786202821441585,
          0.016418068385692805,
          0.015433238441478765,
          0.015213823982336346,
          0.008769935102686094,
          0.007930074021774564,
          0.006878428912046571,
          0.004849372243823943,
          0.004780428684629056,
          0.002161313218458814
         ],
         "yaxis": "y"
        },
        {
         "fill": "toself",
         "hovertemplate": "%{theta}<br>Prob: %{r:.2f}<br>Bookmaker Odds",
         "marker": {
          "color": "rgb(82, 106, 131)"
         },
         "name": "Bookmaker Odds",
         "r": [
          0.3846153846153846,
          0.29850746268656714,
          0.36363636363636365,
          0.48780487804878053,
          0.5617977528089888,
          0.5617977528089888,
          0.5050505050505051
         ],
         "subplot": "polar",
         "theta": [
          "Home",
          "Draw",
          "Away",
          "Over",
          "Under",
          "GG",
          "NG"
         ],
         "type": "scatterpolar",
         "visible": false
        },
        {
         "fill": "toself",
         "hovertemplate": "%{theta}<br>Prob: %{r:.2f}<br>Predicted Odds",
         "marker": {
          "color": "rgb(141,211,199)"
         },
         "name": "Predicted Odds",
         "r": [
          0.352203349845867,
          0.26318754869271316,
          0.384609069762375,
          0.4838558495858568,
          0.5161441504141432,
          0.5306886175247878,
          0.4693113507761673
         ],
         "subplot": "polar",
         "theta": [
          "Home",
          "Draw",
          "Away",
          "Over",
          "Under",
          "GG",
          "NG"
         ],
         "type": "scatterpolar",
         "visible": false
        },
        {
         "hovertemplate": "Score %{x}<br>Prob: %{y:.3f}",
         "marker": {
          "color": [
           0.1251687951897168,
           0.09856454759971092,
           0.0934656093735978,
           0.08381279164735728,
           0.07947699081860958,
           0.07359977772476642,
           0.06599863711454242,
           0.05934678341180884,
           0.05321764471842021,
           0.037413925907418294,
           0.0336430607432008,
           0.02946170948920941,
           0.025121829836183978,
           0.023756290386314386,
           0.0225273306831424,
           0.012526147479630493,
           0.01068097374327433,
           0.010056172387351521,
           0.009863752843715714,
           0.007975659732966324,
           0.007953583852286937,
           0.007151960083814007,
           0.0033667971310002813,
           0.003192626082597114,
           0.0010688882331377336
          ],
          "colorscale": [
           [
            0,
            "rgb(210, 251, 212)"
           ],
           [
            0.16666666666666666,
            "rgb(165, 219, 194)"
           ],
           [
            0.3333333333333333,
            "rgb(123, 188, 176)"
           ],
           [
            0.5,
            "rgb(85, 156, 158)"
           ],
           [
            0.6666666666666666,
            "rgb(58, 124, 137)"
           ],
           [
            0.8333333333333334,
            "rgb(35, 93, 114)"
           ],
           [
            1,
            "rgb(18, 63, 90)"
           ]
          ]
         },
         "name": "Propable Scoreline",
         "type": "bar",
         "visible": false,
         "x": [
          "1 - 1",
          "0 - 1",
          "1 - 0",
          "1 - 2",
          "2 - 1",
          "0 - 0",
          "0 - 2",
          "2 - 0",
          "2 - 2",
          "1 - 3",
          "3 - 1",
          "0 - 3",
          "3 - 0",
          "2 - 3",
          "3 - 2",
          "Other",
          "Other",
          "Other",
          "Other",
          "Other",
          "Other",
          "Other",
          "Other",
          "Other",
          "Other"
         ],
         "xaxis": "x",
         "y": [
          0.1251687951897168,
          0.09856454759971092,
          0.0934656093735978,
          0.08381279164735728,
          0.07947699081860958,
          0.07359977772476642,
          0.06599863711454242,
          0.05934678341180884,
          0.05321764471842021,
          0.037413925907418294,
          0.0336430607432008,
          0.02946170948920941,
          0.025121829836183978,
          0.023756290386314386,
          0.0225273306831424,
          0.012526147479630493,
          0.01068097374327433,
          0.010056172387351521,
          0.009863752843715714,
          0.007975659732966324,
          0.007953583852286937,
          0.007151960083814007,
          0.0033667971310002813,
          0.003192626082597114,
          0.0010688882331377336
         ],
         "yaxis": "y"
        },
        {
         "fill": "toself",
         "hovertemplate": "%{theta}<br>Prob: %{r:.2f}<br>Bookmaker Odds",
         "marker": {
          "color": "rgb(82, 106, 131)"
         },
         "name": "Bookmaker Odds",
         "r": [
          0.8620689655172414,
          0.12820512820512822,
          0.058823529411764705,
          0.5405405405405405,
          0.5128205128205129,
          0.5,
          0.5714285714285714
         ],
         "subplot": "polar",
         "theta": [
          "Home",
          "Draw",
          "Away",
          "Over",
          "Under",
          "GG",
          "NG"
         ],
         "type": "scatterpolar",
         "visible": false
        },
        {
         "fill": "toself",
         "hovertemplate": "%{theta}<br>Prob: %{r:.2f}<br>Predicted Odds",
         "marker": {
          "color": "rgb(141,211,199)"
         },
         "name": "Predicted Odds",
         "r": [
          0.8977313087887874,
          0.07952725094511512,
          0.022654812576195997,
          0.6642049469042451,
          0.33579505309575486,
          0.2862841730248715,
          0.7136291992852266
         ],
         "subplot": "polar",
         "theta": [
          "Home",
          "Draw",
          "Away",
          "Over",
          "Under",
          "GG",
          "NG"
         ],
         "type": "scatterpolar",
         "visible": false
        },
        {
         "hovertemplate": "Score %{x}<br>Prob: %{y:.3f}",
         "marker": {
          "color": [
           0.15664847644454893,
           0.1534080450617527,
           0.11996801648759983,
           0.10015643017547175,
           0.05594988462230771,
           0.05479250495217646,
           0.04284878367919735,
           0.03577271123018868,
           0.03269486454069653,
           0.011677572232510569,
           0.00999176519395531,
           0.009785075475428203,
           0.007652115607731267,
           0.006388440894491174,
           0.002085429855134624,
           0.0011895809063781524,
           0.0011649732281619684,
           0.0009110312786235479,
           0.0007605830563562038,
           0.0002482832101338711,
           0.00010622017521555334,
           0.00010402290399359903,
           0.00008134789447560362,
           0.00006791405702543713,
           0.0000221697288028901
          ],
          "colorscale": [
           [
            0,
            "rgb(210, 251, 212)"
           ],
           [
            0.16666666666666666,
            "rgb(165, 219, 194)"
           ],
           [
            0.3333333333333333,
            "rgb(123, 188, 176)"
           ],
           [
            0.5,
            "rgb(85, 156, 158)"
           ],
           [
            0.6666666666666666,
            "rgb(58, 124, 137)"
           ],
           [
            0.8333333333333334,
            "rgb(35, 93, 114)"
           ],
           [
            1,
            "rgb(18, 63, 90)"
           ]
          ]
         },
         "name": "Propable Scoreline",
         "type": "bar",
         "visible": false,
         "x": [
          "3 - 0",
          "2 - 0",
          "4 - 0",
          "1 - 0",
          "3 - 1",
          "2 - 1",
          "4 - 1",
          "1 - 1",
          "0 - 0",
          "Other",
          "Other",
          "Other",
          "Other",
          "Other",
          "Other",
          "Other",
          "Other",
          "Other",
          "Other",
          "Other",
          "Other",
          "Other",
          "Other",
          "Other",
          "Other"
         ],
         "xaxis": "x",
         "y": [
          0.15664847644454893,
          0.1534080450617527,
          0.11996801648759983,
          0.10015643017547175,
          0.05594988462230771,
          0.05479250495217646,
          0.04284878367919735,
          0.03577271123018868,
          0.03269486454069653,
          0.011677572232510569,
          0.00999176519395531,
          0.009785075475428203,
          0.007652115607731267,
          0.006388440894491174,
          0.002085429855134624,
          0.0011895809063781524,
          0.0011649732281619684,
          0.0009110312786235479,
          0.0007605830563562038,
          0.0002482832101338711,
          0.00010622017521555334,
          0.00010402290399359903,
          0.00008134789447560362,
          0.00006791405702543713,
          0.0000221697288028901
         ],
         "yaxis": "y"
        },
        {
         "fill": "toself",
         "hovertemplate": "%{theta}<br>Prob: %{r:.2f}<br>Bookmaker Odds",
         "marker": {
          "color": "rgb(82, 106, 131)"
         },
         "name": "Bookmaker Odds",
         "r": [
          0.3278688524590164,
          0.2531645569620253,
          0.4716981132075471,
          0.6172839506172839,
          0.4347826086956522,
          0.6369426751592356,
          0.4310344827586207
         ],
         "subplot": "polar",
         "theta": [
          "Home",
          "Draw",
          "Away",
          "Over",
          "Under",
          "GG",
          "NG"
         ],
         "type": "scatterpolar",
         "visible": false
        },
        {
         "fill": "toself",
         "hovertemplate": "%{theta}<br>Prob: %{r:.2f}<br>Predicted Odds",
         "marker": {
          "color": "rgb(141,211,199)"
         },
         "name": "Predicted Odds",
         "r": [
          0.32286828734589035,
          0.2341914492299844,
          0.44293994686587995,
          0.6083915669854533,
          0.39160843301454673,
          0.6238668028086416,
          0.3761328806331129
         ],
         "subplot": "polar",
         "theta": [
          "Home",
          "Draw",
          "Away",
          "Over",
          "Under",
          "GG",
          "NG"
         ],
         "type": "scatterpolar",
         "visible": false
        },
        {
         "hovertemplate": "Score %{x}<br>Prob: %{y:.3f}",
         "marker": {
          "color": [
           0.1056712276423687,
           0.09045838496374708,
           0.07568282621484805,
           0.0737710846034354,
           0.06478723093912599,
           0.06315071111727201,
           0.06172124538770206,
           0.05162376169189515,
           0.04420539434112263,
           0.04308876992264591,
           0.03697347207801259,
           0.03613654862452079,
           0.036039525387262905,
           0.03093418993674514,
           0.022095901659279302,
           0.02110690710121364,
           0.017653855417232533,
           0.015825313310442797,
           0.015425567271845726,
           0.012940684946000631,
           0.011077693395420952,
           0.007558492589299715,
           0.007556168718087563,
           0.006321936923484548,
           0.002705903095384315
          ],
          "colorscale": [
           [
            0,
            "rgb(210, 251, 212)"
           ],
           [
            0.16666666666666666,
            "rgb(165, 219, 194)"
           ],
           [
            0.3333333333333333,
            "rgb(123, 188, 176)"
           ],
           [
            0.5,
            "rgb(85, 156, 158)"
           ],
           [
            0.6666666666666666,
            "rgb(58, 124, 137)"
           ],
           [
            0.8333333333333334,
            "rgb(35, 93, 114)"
           ],
           [
            1,
            "rgb(18, 63, 90)"
           ]
          ]
         },
         "name": "Propable Scoreline",
         "type": "bar",
         "visible": false,
         "x": [
          "1 - 1",
          "1 - 2",
          "2 - 1",
          "0 - 1",
          "2 - 2",
          "0 - 2",
          "1 - 0",
          "1 - 3",
          "2 - 0",
          "0 - 0",
          "2 - 3",
          "3 - 1",
          "0 - 3",
          "3 - 2",
          "1 - 4",
          "3 - 0",
          "Other",
          "Other",
          "Other",
          "Other",
          "Other",
          "Other",
          "Other",
          "Other",
          "Other"
         ],
         "xaxis": "x",
         "y": [
          0.1056712276423687,
          0.09045838496374708,
          0.07568282621484805,
          0.0737710846034354,
          0.06478723093912599,
          0.06315071111727201,
          0.06172124538770206,
          0.05162376169189515,
          0.04420539434112263,
          0.04308876992264591,
          0.03697347207801259,
          0.03613654862452079,
          0.036039525387262905,
          0.03093418993674514,
          0.022095901659279302,
          0.02110690710121364,
          0.017653855417232533,
          0.015825313310442797,
          0.015425567271845726,
          0.012940684946000631,
          0.011077693395420952,
          0.007558492589299715,
          0.007556168718087563,
          0.006321936923484548,
          0.002705903095384315
         ],
         "yaxis": "y"
        },
        {
         "fill": "toself",
         "hovertemplate": "%{theta}<br>Prob: %{r:.2f}<br>Bookmaker Odds",
         "marker": {
          "color": "rgb(82, 106, 131)"
         },
         "name": "Bookmaker Odds",
         "r": [
          0.3508771929824561,
          0.2777777777777778,
          0.4166666666666667,
          0.5181347150259068,
          0.5319148936170213,
          0.5714285714285714,
          0.49504950495049505
         ],
         "subplot": "polar",
         "theta": [
          "Home",
          "Draw",
          "Away",
          "Over",
          "Under",
          "GG",
          "NG"
         ],
         "type": "scatterpolar",
         "visible": false
        },
        {
         "fill": "toself",
         "hovertemplate": "%{theta}<br>Prob: %{r:.2f}<br>Predicted Odds",
         "marker": {
          "color": "rgb(141,211,199)"
         },
         "name": "Predicted Odds",
         "r": [
          0.22575660804588765,
          0.23671685279121538,
          0.537526216167665,
          0.5251811509871935,
          0.4748188490128065,
          0.5326816909939727,
          0.46731798601079516
         ],
         "subplot": "polar",
         "theta": [
          "Home",
          "Draw",
          "Away",
          "Over",
          "Under",
          "GG",
          "NG"
         ],
         "type": "scatterpolar",
         "visible": false
        },
        {
         "hovertemplate": "Score %{x}<br>Prob: %{y:.3f}",
         "marker": {
          "color": [
           0.1123555130636331,
           0.10809545141564479,
           0.09764560269417225,
           0.09394328070044367,
           0.06464070561031855,
           0.062189794361188634,
           0.05839173226286734,
           0.0565743710330626,
           0.05442930220888737,
           0.05074691693976102,
           0.03359410386157776,
           0.02940198870732555,
           0.02458374496246764,
           0.023651629873293323,
           0.0202309870617406,
           0.017582287427434437,
           0.012776297439485936,
           0.011639351227237861,
           0.01018690883239327,
           0.005257073496934871,
           0.004568802153260055,
           0.004426604558186076,
           0.0030245150506741543,
           0.0026470941963945326,
           0.0011502644647655152
          ],
          "colorscale": [
           [
            0,
            "rgb(210, 251, 212)"
           ],
           [
            0.16666666666666666,
            "rgb(165, 219, 194)"
           ],
           [
            0.3333333333333333,
            "rgb(123, 188, 176)"
           ],
           [
            0.5,
            "rgb(85, 156, 158)"
           ],
           [
            0.6666666666666666,
            "rgb(58, 124, 137)"
           ],
           [
            0.8333333333333334,
            "rgb(35, 93, 114)"
           ],
           [
            1,
            "rgb(18, 63, 90)"
           ]
          ]
         },
         "name": "Propable Scoreline",
         "type": "bar",
         "visible": false,
         "x": [
          "1 - 1",
          "0 - 1",
          "1 - 2",
          "0 - 2",
          "1 - 0",
          "0 - 0",
          "2 - 1",
          "1 - 3",
          "0 - 3",
          "2 - 2",
          "2 - 0",
          "2 - 3",
          "1 - 4",
          "0 - 4",
          "3 - 1",
          "Other",
          "Other",
          "Other",
          "Other",
          "Other",
          "Other",
          "Other",
          "Other",
          "Other",
          "Other"
         ],
         "xaxis": "x",
         "y": [
          0.1123555130636331,
          0.10809545141564479,
          0.09764560269417225,
          0.09394328070044367,
          0.06464070561031855,
          0.062189794361188634,
          0.05839173226286734,
          0.0565743710330626,
          0.05442930220888737,
          0.05074691693976102,
          0.03359410386157776,
          0.02940198870732555,
          0.02458374496246764,
          0.023651629873293323,
          0.0202309870617406,
          0.017582287427434437,
          0.012776297439485936,
          0.011639351227237861,
          0.01018690883239327,
          0.005257073496934871,
          0.004568802153260055,
          0.004426604558186076,
          0.0030245150506741543,
          0.0026470941963945326,
          0.0011502644647655152
         ],
         "yaxis": "y"
        },
        {
         "fill": "toself",
         "hovertemplate": "%{theta}<br>Prob: %{r:.2f}<br>Bookmaker Odds",
         "marker": {
          "color": "rgb(82, 106, 131)"
         },
         "name": "Bookmaker Odds",
         "r": [
          0.38167938931297707,
          0.26666666666666666,
          0.4,
          0.5617977528089888,
          0.48780487804878053,
          0.6060606060606061,
          0.46511627906976744
         ],
         "subplot": "polar",
         "theta": [
          "Home",
          "Draw",
          "Away",
          "Over",
          "Under",
          "GG",
          "NG"
         ],
         "type": "scatterpolar",
         "visible": false
        },
        {
         "fill": "toself",
         "hovertemplate": "%{theta}<br>Prob: %{r:.2f}<br>Predicted Odds",
         "marker": {
          "color": "rgb(141,211,199)"
         },
         "name": "Predicted Odds",
         "r": [
          0.4390656281182067,
          0.23509398618152091,
          0.3258400942260529,
          0.6051933510723136,
          0.39480664892768635,
          0.6218390955967779,
          0.3781606129290028
         ],
         "subplot": "polar",
         "theta": [
          "Home",
          "Draw",
          "Away",
          "Over",
          "Under",
          "GG",
          "NG"
         ],
         "type": "scatterpolar",
         "visible": false
        },
        {
         "hovertemplate": "Score %{x}<br>Prob: %{y:.3f}",
         "marker": {
          "color": [
           0.10633661251275107,
           0.09018868914334713,
           0.07620261305797796,
           0.07419348698766925,
           0.06463073835620471,
           0.06292671147098551,
           0.06268787842516876,
           0.05099529037827829,
           0.04492319277601477,
           0.04373876675509703,
           0.03654408663816699,
           0.036405386628038404,
           0.035580580608203176,
           0.030876986017829063,
           0.02162565781917193,
           0.021461812606510058,
           0.017458739925608317,
           0.01549731175347519,
           0.015088716144819108,
           0.013044357558925608,
           0.011063484919792239,
           0.007689948752978234,
           0.007403756950581908,
           0.006255613995938934,
           0.0026528286577346787
          ],
          "colorscale": [
           [
            0,
            "rgb(210, 251, 212)"
           ],
           [
            0.16666666666666666,
            "rgb(165, 219, 194)"
           ],
           [
            0.3333333333333333,
            "rgb(123, 188, 176)"
           ],
           [
            0.5,
            "rgb(85, 156, 158)"
           ],
           [
            0.6666666666666666,
            "rgb(58, 124, 137)"
           ],
           [
            0.8333333333333334,
            "rgb(35, 93, 114)"
           ],
           [
            1,
            "rgb(18, 63, 90)"
           ]
          ]
         },
         "name": "Propable Scoreline",
         "type": "bar",
         "visible": false,
         "x": [
          "1 - 1",
          "2 - 1",
          "1 - 2",
          "1 - 0",
          "2 - 2",
          "2 - 0",
          "0 - 1",
          "3 - 1",
          "0 - 2",
          "0 - 0",
          "3 - 2",
          "1 - 3",
          "3 - 0",
          "2 - 3",
          "4 - 1",
          "0 - 3",
          "Other",
          "Other",
          "Other",
          "Other",
          "Other",
          "Other",
          "Other",
          "Other",
          "Other"
         ],
         "xaxis": "x",
         "y": [
          0.10633661251275107,
          0.09018868914334713,
          0.07620261305797796,
          0.07419348698766925,
          0.06463073835620471,
          0.06292671147098551,
          0.06268787842516876,
          0.05099529037827829,
          0.04492319277601477,
          0.04373876675509703,
          0.03654408663816699,
          0.036405386628038404,
          0.035580580608203176,
          0.030876986017829063,
          0.02162565781917193,
          0.021461812606510058,
          0.017458739925608317,
          0.01549731175347519,
          0.015088716144819108,
          0.013044357558925608,
          0.011063484919792239,
          0.007689948752978234,
          0.007403756950581908,
          0.006255613995938934,
          0.0026528286577346787
         ],
         "yaxis": "y"
        },
        {
         "fill": "toself",
         "hovertemplate": "%{theta}<br>Prob: %{r:.2f}<br>Bookmaker Odds",
         "marker": {
          "color": "rgb(82, 106, 131)"
         },
         "name": "Bookmaker Odds",
         "r": [
          0.2857142857142857,
          0.28169014084507044,
          0.48309178743961356,
          0.5555555555555556,
          0.49504950495049505,
          0.6060606060606061,
          0.46511627906976744
         ],
         "subplot": "polar",
         "theta": [
          "Home",
          "Draw",
          "Away",
          "Over",
          "Under",
          "GG",
          "NG"
         ],
         "type": "scatterpolar",
         "visible": false
        },
        {
         "fill": "toself",
         "hovertemplate": "%{theta}<br>Prob: %{r:.2f}<br>Predicted Odds",
         "marker": {
          "color": "rgb(141,211,199)"
         },
         "name": "Predicted Odds",
         "r": [
          0.2699976442740606,
          0.2491993221253266,
          0.4808029028078256,
          0.5112198414630038,
          0.4887801585369962,
          0.5387046366219054,
          0.4612952325853072
         ],
         "subplot": "polar",
         "theta": [
          "Home",
          "Draw",
          "Away",
          "Over",
          "Under",
          "GG",
          "NG"
         ],
         "type": "scatterpolar",
         "visible": false
        },
        {
         "hovertemplate": "Score %{x}<br>Prob: %{y:.3f}",
         "marker": {
          "color": [
           0.1183171291836886,
           0.10485084654597102,
           0.09414459409323894,
           0.08342951233272299,
           0.07434809822646525,
           0.06675646177130258,
           0.06588615775172631,
           0.05311792163924928,
           0.04994038568566292,
           0.044256412846568075,
           0.041948414496422,
           0.02817718339576374,
           0.0251100592617475,
           0.01998000080938657,
           0.01986870950839766,
           0.01760734921565929,
           0.015778654919579797,
           0.01121025126195607,
           0.010598685522319129,
           0.007083753310898795,
           0.005636521818204698,
           0.004451287743409505,
           0.004216671555948224,
           0.002989975964504286,
           0.0011895575706953653
          ],
          "colorscale": [
           [
            0,
            "rgb(210, 251, 212)"
           ],
           [
            0.16666666666666666,
            "rgb(165, 219, 194)"
           ],
           [
            0.3333333333333333,
            "rgb(123, 188, 176)"
           ],
           [
            0.5,
            "rgb(85, 156, 158)"
           ],
           [
            0.6666666666666666,
            "rgb(58, 124, 137)"
           ],
           [
            0.8333333333333334,
            "rgb(35, 93, 114)"
           ],
           [
            1,
            "rgb(18, 63, 90)"
           ]
          ]
         },
         "name": "Propable Scoreline",
         "type": "bar",
         "visible": false,
         "x": [
          "1 - 1",
          "0 - 1",
          "1 - 2",
          "0 - 2",
          "1 - 0",
          "2 - 1",
          "0 - 0",
          "2 - 2",
          "1 - 3",
          "0 - 3",
          "2 - 0",
          "2 - 3",
          "3 - 1",
          "Other",
          "Other",
          "Other",
          "Other",
          "Other",
          "Other",
          "Other",
          "Other",
          "Other",
          "Other",
          "Other",
          "Other"
         ],
         "xaxis": "x",
         "y": [
          0.1183171291836886,
          0.10485084654597102,
          0.09414459409323894,
          0.08342951233272299,
          0.07434809822646525,
          0.06675646177130258,
          0.06588615775172631,
          0.05311792163924928,
          0.04994038568566292,
          0.044256412846568075,
          0.041948414496422,
          0.02817718339576374,
          0.0251100592617475,
          0.01998000080938657,
          0.01986870950839766,
          0.01760734921565929,
          0.015778654919579797,
          0.01121025126195607,
          0.010598685522319129,
          0.007083753310898795,
          0.005636521818204698,
          0.004451287743409505,
          0.004216671555948224,
          0.002989975964504286,
          0.0011895575706953653
         ],
         "yaxis": "y"
        },
        {
         "fill": "toself",
         "hovertemplate": "%{theta}<br>Prob: %{r:.2f}<br>Bookmaker Odds",
         "marker": {
          "color": "rgb(82, 106, 131)"
         },
         "name": "Bookmaker Odds",
         "r": [
          0.08888888888888889,
          0.18518518518518517,
          0.7751937984496123,
          0.6060606060606061,
          0.4444444444444444,
          0.48309178743961356,
          0.5882352941176471
         ],
         "subplot": "polar",
         "theta": [
          "Home",
          "Draw",
          "Away",
          "Over",
          "Under",
          "GG",
          "NG"
         ],
         "type": "scatterpolar",
         "visible": false
        },
        {
         "fill": "toself",
         "hovertemplate": "%{theta}<br>Prob: %{r:.2f}<br>Predicted Odds",
         "marker": {
          "color": "rgb(141,211,199)"
         },
         "name": "Predicted Odds",
         "r": [
          0.12299949161040119,
          0.1853890572450496,
          0.6916080536271484,
          0.574095365525187,
          0.425904634474813,
          0.4884852275552764,
          0.5115113749273228
         ],
         "subplot": "polar",
         "theta": [
          "Home",
          "Draw",
          "Away",
          "Over",
          "Under",
          "GG",
          "NG"
         ],
         "type": "scatterpolar",
         "visible": false
        },
        {
         "hovertemplate": "Score %{x}<br>Prob: %{y:.3f}",
         "marker": {
          "color": [
           0.12075261756257226,
           0.11031822974188238,
           0.09644984658221355,
           0.08811595739784958,
           0.08811549222369741,
           0.0703816674455402,
           0.05039274534598128,
           0.04822517787730087,
           0.04025066003192747,
           0.03851933897213769,
           0.03851913562417011,
           0.03519064794635997,
           0.02810829762677868,
           0.016074889568752228,
           0.015383452588039366,
           0.010255580918030034,
           0.00936938307996047,
           0.007483732854031586,
           0.004279881364141779,
           0.0040957887621008975,
           0.0020478835699832983,
           0.0018709233366388587,
           0.001494387658428168,
           0.0008546272314710812,
           0.0008178667380296805
          ],
          "colorscale": [
           [
            0,
            "rgb(210, 251, 212)"
           ],
           [
            0.16666666666666666,
            "rgb(165, 219, 194)"
           ],
           [
            0.3333333333333333,
            "rgb(123, 188, 176)"
           ],
           [
            0.5,
            "rgb(85, 156, 158)"
           ],
           [
            0.6666666666666666,
            "rgb(58, 124, 137)"
           ],
           [
            0.8333333333333334,
            "rgb(35, 93, 114)"
           ],
           [
            1,
            "rgb(18, 63, 90)"
           ]
          ]
         },
         "name": "Propable Scoreline",
         "type": "bar",
         "visible": false,
         "x": [
          "0 - 2",
          "0 - 1",
          "1 - 2",
          "0 - 3",
          "1 - 1",
          "1 - 3",
          "0 - 0",
          "0 - 4",
          "1 - 0",
          "1 - 4",
          "2 - 2",
          "2 - 1",
          "2 - 3",
          "Other",
          "Other",
          "Other",
          "Other",
          "Other",
          "Other",
          "Other",
          "Other",
          "Other",
          "Other",
          "Other",
          "Other"
         ],
         "xaxis": "x",
         "y": [
          0.12075261756257226,
          0.11031822974188238,
          0.09644984658221355,
          0.08811595739784958,
          0.08811549222369741,
          0.0703816674455402,
          0.05039274534598128,
          0.04822517787730087,
          0.04025066003192747,
          0.03851933897213769,
          0.03851913562417011,
          0.03519064794635997,
          0.02810829762677868,
          0.016074889568752228,
          0.015383452588039366,
          0.010255580918030034,
          0.00936938307996047,
          0.007483732854031586,
          0.004279881364141779,
          0.0040957887621008975,
          0.0020478835699832983,
          0.0018709233366388587,
          0.001494387658428168,
          0.0008546272314710812,
          0.0008178667380296805
         ],
         "yaxis": "y"
        },
        {
         "fill": "toself",
         "hovertemplate": "%{theta}<br>Prob: %{r:.2f}<br>Bookmaker Odds",
         "marker": {
          "color": "rgb(82, 106, 131)"
         },
         "name": "Bookmaker Odds",
         "r": [
          0.4166666666666667,
          0.27027027027027023,
          0.36101083032490977,
          0.5494505494505494,
          0.5,
          0.5882352941176471,
          0.48309178743961356
         ],
         "subplot": "polar",
         "theta": [
          "Home",
          "Draw",
          "Away",
          "Over",
          "Under",
          "GG",
          "NG"
         ],
         "type": "scatterpolar",
         "visible": false
        },
        {
         "fill": "toself",
         "hovertemplate": "%{theta}<br>Prob: %{r:.2f}<br>Predicted Odds",
         "marker": {
          "color": "rgb(141,211,199)"
         },
         "name": "Predicted Odds",
         "r": [
          0.5582335970541078,
          0.1980866028501955,
          0.2436742973574914,
          0.7276257254752503,
          0.27237427452474977,
          0.6952376458373322,
          0.30475685142446285
         ],
         "subplot": "polar",
         "theta": [
          "Home",
          "Draw",
          "Away",
          "Over",
          "Under",
          "GG",
          "NG"
         ],
         "type": "scatterpolar",
         "visible": false
        },
        {
         "hovertemplate": "Score %{x}<br>Prob: %{y:.3f}",
         "marker": {
          "color": [
           0.08929942995194864,
           0.07781353834805725,
           0.0683204864606278,
           0.06623170023506397,
           0.06020069061673606,
           0.05771283141304892,
           0.05245754368651153,
           0.05067201416189225,
           0.04605785804471878,
           0.039202564389787885,
           0.033902493854119226,
           0.03274853391850907,
           0.029075801430169895,
           0.02853634453525369,
           0.026428180465230346,
           0.025144839237779756,
           0.025054983770768022,
           0.022855168781545962,
           0.01437664843216045,
           0.012432968166774297,
           0.01214448447652821,
           0.010582433830095156,
           0.009291404073871632,
           0.005331444276050359,
           0.004610648808715709
          ],
          "colorscale": [
           [
            0,
            "rgb(210, 251, 212)"
           ],
           [
            0.16666666666666666,
            "rgb(165, 219, 194)"
           ],
           [
            0.3333333333333333,
            "rgb(123, 188, 176)"
           ],
           [
            0.5,
            "rgb(85, 156, 158)"
           ],
           [
            0.6666666666666666,
            "rgb(58, 124, 137)"
           ],
           [
            0.8333333333333334,
            "rgb(35, 93, 114)"
           ],
           [
            1,
            "rgb(18, 63, 90)"
           ]
          ]
         },
         "name": "Propable Scoreline",
         "type": "bar",
         "visible": false,
         "x": [
          "2 - 1",
          "1 - 1",
          "3 - 1",
          "2 - 2",
          "2 - 0",
          "1 - 2",
          "1 - 0",
          "3 - 2",
          "3 - 0",
          "4 - 1",
          "0 - 1",
          "2 - 3",
          "4 - 2",
          "1 - 3",
          "4 - 0",
          "0 - 2",
          "3 - 3",
          "0 - 0",
          "Other",
          "Other",
          "Other",
          "Other",
          "Other",
          "Other",
          "Other"
         ],
         "xaxis": "x",
         "y": [
          0.08929942995194864,
          0.07781353834805725,
          0.0683204864606278,
          0.06623170023506397,
          0.06020069061673606,
          0.05771283141304892,
          0.05245754368651153,
          0.05067201416189225,
          0.04605785804471878,
          0.039202564389787885,
          0.033902493854119226,
          0.03274853391850907,
          0.029075801430169895,
          0.02853634453525369,
          0.026428180465230346,
          0.025144839237779756,
          0.025054983770768022,
          0.022855168781545962,
          0.01437664843216045,
          0.012432968166774297,
          0.01214448447652821,
          0.010582433830095156,
          0.009291404073871632,
          0.005331444276050359,
          0.004610648808715709
         ],
         "yaxis": "y"
        }
       ],
       "layout": {
        "height": 650,
        "polar": {
         "domain": {
          "x": [
           0,
           0.29700000000000004
          ],
          "y": [
           0,
           1
          ]
         }
        },
        "template": {
         "data": {
          "bar": [
           {
            "error_x": {
             "color": "#2a3f5f"
            },
            "error_y": {
             "color": "#2a3f5f"
            },
            "marker": {
             "line": {
              "color": "#E5ECF6",
              "width": 0.5
             },
             "pattern": {
              "fillmode": "overlay",
              "size": 10,
              "solidity": 0.2
             }
            },
            "type": "bar"
           }
          ],
          "barpolar": [
           {
            "marker": {
             "line": {
              "color": "#E5ECF6",
              "width": 0.5
             },
             "pattern": {
              "fillmode": "overlay",
              "size": 10,
              "solidity": 0.2
             }
            },
            "type": "barpolar"
           }
          ],
          "carpet": [
           {
            "aaxis": {
             "endlinecolor": "#2a3f5f",
             "gridcolor": "white",
             "linecolor": "white",
             "minorgridcolor": "white",
             "startlinecolor": "#2a3f5f"
            },
            "baxis": {
             "endlinecolor": "#2a3f5f",
             "gridcolor": "white",
             "linecolor": "white",
             "minorgridcolor": "white",
             "startlinecolor": "#2a3f5f"
            },
            "type": "carpet"
           }
          ],
          "choropleth": [
           {
            "colorbar": {
             "outlinewidth": 0,
             "ticks": ""
            },
            "type": "choropleth"
           }
          ],
          "contour": [
           {
            "colorbar": {
             "outlinewidth": 0,
             "ticks": ""
            },
            "colorscale": [
             [
              0,
              "#0d0887"
             ],
             [
              0.1111111111111111,
              "#46039f"
             ],
             [
              0.2222222222222222,
              "#7201a8"
             ],
             [
              0.3333333333333333,
              "#9c179e"
             ],
             [
              0.4444444444444444,
              "#bd3786"
             ],
             [
              0.5555555555555556,
              "#d8576b"
             ],
             [
              0.6666666666666666,
              "#ed7953"
             ],
             [
              0.7777777777777778,
              "#fb9f3a"
             ],
             [
              0.8888888888888888,
              "#fdca26"
             ],
             [
              1,
              "#f0f921"
             ]
            ],
            "type": "contour"
           }
          ],
          "contourcarpet": [
           {
            "colorbar": {
             "outlinewidth": 0,
             "ticks": ""
            },
            "type": "contourcarpet"
           }
          ],
          "heatmap": [
           {
            "colorbar": {
             "outlinewidth": 0,
             "ticks": ""
            },
            "colorscale": [
             [
              0,
              "#0d0887"
             ],
             [
              0.1111111111111111,
              "#46039f"
             ],
             [
              0.2222222222222222,
              "#7201a8"
             ],
             [
              0.3333333333333333,
              "#9c179e"
             ],
             [
              0.4444444444444444,
              "#bd3786"
             ],
             [
              0.5555555555555556,
              "#d8576b"
             ],
             [
              0.6666666666666666,
              "#ed7953"
             ],
             [
              0.7777777777777778,
              "#fb9f3a"
             ],
             [
              0.8888888888888888,
              "#fdca26"
             ],
             [
              1,
              "#f0f921"
             ]
            ],
            "type": "heatmap"
           }
          ],
          "heatmapgl": [
           {
            "colorbar": {
             "outlinewidth": 0,
             "ticks": ""
            },
            "colorscale": [
             [
              0,
              "#0d0887"
             ],
             [
              0.1111111111111111,
              "#46039f"
             ],
             [
              0.2222222222222222,
              "#7201a8"
             ],
             [
              0.3333333333333333,
              "#9c179e"
             ],
             [
              0.4444444444444444,
              "#bd3786"
             ],
             [
              0.5555555555555556,
              "#d8576b"
             ],
             [
              0.6666666666666666,
              "#ed7953"
             ],
             [
              0.7777777777777778,
              "#fb9f3a"
             ],
             [
              0.8888888888888888,
              "#fdca26"
             ],
             [
              1,
              "#f0f921"
             ]
            ],
            "type": "heatmapgl"
           }
          ],
          "histogram": [
           {
            "marker": {
             "pattern": {
              "fillmode": "overlay",
              "size": 10,
              "solidity": 0.2
             }
            },
            "type": "histogram"
           }
          ],
          "histogram2d": [
           {
            "colorbar": {
             "outlinewidth": 0,
             "ticks": ""
            },
            "colorscale": [
             [
              0,
              "#0d0887"
             ],
             [
              0.1111111111111111,
              "#46039f"
             ],
             [
              0.2222222222222222,
              "#7201a8"
             ],
             [
              0.3333333333333333,
              "#9c179e"
             ],
             [
              0.4444444444444444,
              "#bd3786"
             ],
             [
              0.5555555555555556,
              "#d8576b"
             ],
             [
              0.6666666666666666,
              "#ed7953"
             ],
             [
              0.7777777777777778,
              "#fb9f3a"
             ],
             [
              0.8888888888888888,
              "#fdca26"
             ],
             [
              1,
              "#f0f921"
             ]
            ],
            "type": "histogram2d"
           }
          ],
          "histogram2dcontour": [
           {
            "colorbar": {
             "outlinewidth": 0,
             "ticks": ""
            },
            "colorscale": [
             [
              0,
              "#0d0887"
             ],
             [
              0.1111111111111111,
              "#46039f"
             ],
             [
              0.2222222222222222,
              "#7201a8"
             ],
             [
              0.3333333333333333,
              "#9c179e"
             ],
             [
              0.4444444444444444,
              "#bd3786"
             ],
             [
              0.5555555555555556,
              "#d8576b"
             ],
             [
              0.6666666666666666,
              "#ed7953"
             ],
             [
              0.7777777777777778,
              "#fb9f3a"
             ],
             [
              0.8888888888888888,
              "#fdca26"
             ],
             [
              1,
              "#f0f921"
             ]
            ],
            "type": "histogram2dcontour"
           }
          ],
          "mesh3d": [
           {
            "colorbar": {
             "outlinewidth": 0,
             "ticks": ""
            },
            "type": "mesh3d"
           }
          ],
          "parcoords": [
           {
            "line": {
             "colorbar": {
              "outlinewidth": 0,
              "ticks": ""
             }
            },
            "type": "parcoords"
           }
          ],
          "pie": [
           {
            "automargin": true,
            "type": "pie"
           }
          ],
          "scatter": [
           {
            "fillpattern": {
             "fillmode": "overlay",
             "size": 10,
             "solidity": 0.2
            },
            "type": "scatter"
           }
          ],
          "scatter3d": [
           {
            "line": {
             "colorbar": {
              "outlinewidth": 0,
              "ticks": ""
             }
            },
            "marker": {
             "colorbar": {
              "outlinewidth": 0,
              "ticks": ""
             }
            },
            "type": "scatter3d"
           }
          ],
          "scattercarpet": [
           {
            "marker": {
             "colorbar": {
              "outlinewidth": 0,
              "ticks": ""
             }
            },
            "type": "scattercarpet"
           }
          ],
          "scattergeo": [
           {
            "marker": {
             "colorbar": {
              "outlinewidth": 0,
              "ticks": ""
             }
            },
            "type": "scattergeo"
           }
          ],
          "scattergl": [
           {
            "marker": {
             "colorbar": {
              "outlinewidth": 0,
              "ticks": ""
             }
            },
            "type": "scattergl"
           }
          ],
          "scattermapbox": [
           {
            "marker": {
             "colorbar": {
              "outlinewidth": 0,
              "ticks": ""
             }
            },
            "type": "scattermapbox"
           }
          ],
          "scatterpolar": [
           {
            "marker": {
             "colorbar": {
              "outlinewidth": 0,
              "ticks": ""
             }
            },
            "type": "scatterpolar"
           }
          ],
          "scatterpolargl": [
           {
            "marker": {
             "colorbar": {
              "outlinewidth": 0,
              "ticks": ""
             }
            },
            "type": "scatterpolargl"
           }
          ],
          "scatterternary": [
           {
            "marker": {
             "colorbar": {
              "outlinewidth": 0,
              "ticks": ""
             }
            },
            "type": "scatterternary"
           }
          ],
          "surface": [
           {
            "colorbar": {
             "outlinewidth": 0,
             "ticks": ""
            },
            "colorscale": [
             [
              0,
              "#0d0887"
             ],
             [
              0.1111111111111111,
              "#46039f"
             ],
             [
              0.2222222222222222,
              "#7201a8"
             ],
             [
              0.3333333333333333,
              "#9c179e"
             ],
             [
              0.4444444444444444,
              "#bd3786"
             ],
             [
              0.5555555555555556,
              "#d8576b"
             ],
             [
              0.6666666666666666,
              "#ed7953"
             ],
             [
              0.7777777777777778,
              "#fb9f3a"
             ],
             [
              0.8888888888888888,
              "#fdca26"
             ],
             [
              1,
              "#f0f921"
             ]
            ],
            "type": "surface"
           }
          ],
          "table": [
           {
            "cells": {
             "fill": {
              "color": "#EBF0F8"
             },
             "line": {
              "color": "white"
             }
            },
            "header": {
             "fill": {
              "color": "#C8D4E3"
             },
             "line": {
              "color": "white"
             }
            },
            "type": "table"
           }
          ]
         },
         "layout": {
          "annotationdefaults": {
           "arrowcolor": "#2a3f5f",
           "arrowhead": 0,
           "arrowwidth": 1
          },
          "autotypenumbers": "strict",
          "coloraxis": {
           "colorbar": {
            "outlinewidth": 0,
            "ticks": ""
           }
          },
          "colorscale": {
           "diverging": [
            [
             0,
             "#8e0152"
            ],
            [
             0.1,
             "#c51b7d"
            ],
            [
             0.2,
             "#de77ae"
            ],
            [
             0.3,
             "#f1b6da"
            ],
            [
             0.4,
             "#fde0ef"
            ],
            [
             0.5,
             "#f7f7f7"
            ],
            [
             0.6,
             "#e6f5d0"
            ],
            [
             0.7,
             "#b8e186"
            ],
            [
             0.8,
             "#7fbc41"
            ],
            [
             0.9,
             "#4d9221"
            ],
            [
             1,
             "#276419"
            ]
           ],
           "sequential": [
            [
             0,
             "#0d0887"
            ],
            [
             0.1111111111111111,
             "#46039f"
            ],
            [
             0.2222222222222222,
             "#7201a8"
            ],
            [
             0.3333333333333333,
             "#9c179e"
            ],
            [
             0.4444444444444444,
             "#bd3786"
            ],
            [
             0.5555555555555556,
             "#d8576b"
            ],
            [
             0.6666666666666666,
             "#ed7953"
            ],
            [
             0.7777777777777778,
             "#fb9f3a"
            ],
            [
             0.8888888888888888,
             "#fdca26"
            ],
            [
             1,
             "#f0f921"
            ]
           ],
           "sequentialminus": [
            [
             0,
             "#0d0887"
            ],
            [
             0.1111111111111111,
             "#46039f"
            ],
            [
             0.2222222222222222,
             "#7201a8"
            ],
            [
             0.3333333333333333,
             "#9c179e"
            ],
            [
             0.4444444444444444,
             "#bd3786"
            ],
            [
             0.5555555555555556,
             "#d8576b"
            ],
            [
             0.6666666666666666,
             "#ed7953"
            ],
            [
             0.7777777777777778,
             "#fb9f3a"
            ],
            [
             0.8888888888888888,
             "#fdca26"
            ],
            [
             1,
             "#f0f921"
            ]
           ]
          },
          "colorway": [
           "#636efa",
           "#EF553B",
           "#00cc96",
           "#ab63fa",
           "#FFA15A",
           "#19d3f3",
           "#FF6692",
           "#B6E880",
           "#FF97FF",
           "#FECB52"
          ],
          "font": {
           "color": "#2a3f5f"
          },
          "geo": {
           "bgcolor": "white",
           "lakecolor": "white",
           "landcolor": "#E5ECF6",
           "showlakes": true,
           "showland": true,
           "subunitcolor": "white"
          },
          "hoverlabel": {
           "align": "left"
          },
          "hovermode": "closest",
          "mapbox": {
           "style": "light"
          },
          "paper_bgcolor": "white",
          "plot_bgcolor": "#E5ECF6",
          "polar": {
           "angularaxis": {
            "gridcolor": "white",
            "linecolor": "white",
            "ticks": ""
           },
           "bgcolor": "#E5ECF6",
           "radialaxis": {
            "gridcolor": "white",
            "linecolor": "white",
            "ticks": ""
           }
          },
          "scene": {
           "xaxis": {
            "backgroundcolor": "#E5ECF6",
            "gridcolor": "white",
            "gridwidth": 2,
            "linecolor": "white",
            "showbackground": true,
            "ticks": "",
            "zerolinecolor": "white"
           },
           "yaxis": {
            "backgroundcolor": "#E5ECF6",
            "gridcolor": "white",
            "gridwidth": 2,
            "linecolor": "white",
            "showbackground": true,
            "ticks": "",
            "zerolinecolor": "white"
           },
           "zaxis": {
            "backgroundcolor": "#E5ECF6",
            "gridcolor": "white",
            "gridwidth": 2,
            "linecolor": "white",
            "showbackground": true,
            "ticks": "",
            "zerolinecolor": "white"
           }
          },
          "shapedefaults": {
           "line": {
            "color": "#2a3f5f"
           }
          },
          "ternary": {
           "aaxis": {
            "gridcolor": "white",
            "linecolor": "white",
            "ticks": ""
           },
           "baxis": {
            "gridcolor": "white",
            "linecolor": "white",
            "ticks": ""
           },
           "bgcolor": "#E5ECF6",
           "caxis": {
            "gridcolor": "white",
            "linecolor": "white",
            "ticks": ""
           }
          },
          "title": {
           "x": 0.05
          },
          "xaxis": {
           "automargin": true,
           "gridcolor": "white",
           "linecolor": "white",
           "ticks": "",
           "title": {
            "standoff": 15
           },
           "zerolinecolor": "white",
           "zerolinewidth": 2
          },
          "yaxis": {
           "automargin": true,
           "gridcolor": "white",
           "linecolor": "white",
           "ticks": "",
           "title": {
            "standoff": 15
           },
           "zerolinecolor": "white",
           "zerolinewidth": 2
          }
         }
        },
        "updatemenus": [
         {
          "active": 0,
          "buttons": [
           {
            "args": [
             {
              "visible": [
               true,
               true,
               true,
               false,
               false,
               false,
               false,
               false,
               false,
               false,
               false,
               false,
               false,
               false,
               false,
               false,
               false,
               false,
               false,
               false,
               false,
               false,
               false,
               false,
               false,
               false,
               false,
               false,
               false,
               false,
               false,
               false,
               false,
               false,
               false,
               false,
               false,
               false,
               false,
               false,
               false,
               false,
               false,
               false,
               false,
               false,
               false,
               false,
               false,
               false,
               false,
               false,
               false,
               false,
               false,
               false,
               false,
               false,
               false,
               false,
               false,
               false,
               false,
               false,
               false,
               false
              ]
             }
            ],
            "label": "<b>Aston Villa-West Ham | '22/10/2023'</b>",
            "method": "restyle"
           },
           {
            "args": [
             {
              "visible": [
               false,
               false,
               false,
               true,
               true,
               true,
               false,
               false,
               false,
               false,
               false,
               false,
               false,
               false,
               false,
               false,
               false,
               false,
               false,
               false,
               false,
               false,
               false,
               false,
               false,
               false,
               false,
               false,
               false,
               false,
               false,
               false,
               false,
               false,
               false,
               false,
               false,
               false,
               false,
               false,
               false,
               false,
               false,
               false,
               false,
               false,
               false,
               false,
               false,
               false,
               false,
               false,
               false,
               false,
               false,
               false,
               false,
               false,
               false,
               false,
               false,
               false,
               false,
               false,
               false,
               false
              ]
             }
            ],
            "label": "<b>Tottenham-Fulham | '23/10/2023'</b>",
            "method": "restyle"
           },
           {
            "args": [
             {
              "visible": [
               false,
               false,
               false,
               false,
               false,
               false,
               true,
               true,
               true,
               false,
               false,
               false,
               false,
               false,
               false,
               false,
               false,
               false,
               false,
               false,
               false,
               false,
               false,
               false,
               false,
               false,
               false,
               false,
               false,
               false,
               false,
               false,
               false,
               false,
               false,
               false,
               false,
               false,
               false,
               false,
               false,
               false,
               false,
               false,
               false,
               false,
               false,
               false,
               false,
               false,
               false,
               false,
               false,
               false,
               false,
               false,
               false,
               false,
               false,
               false,
               false,
               false,
               false,
               false,
               false,
               false
              ]
             }
            ],
            "label": "<b>Crystal Palace-Tottenham | '27/10/2023'</b>",
            "method": "restyle"
           },
           {
            "args": [
             {
              "visible": [
               false,
               false,
               false,
               false,
               false,
               false,
               false,
               false,
               false,
               true,
               true,
               true,
               false,
               false,
               false,
               false,
               false,
               false,
               false,
               false,
               false,
               false,
               false,
               false,
               false,
               false,
               false,
               false,
               false,
               false,
               false,
               false,
               false,
               false,
               false,
               false,
               false,
               false,
               false,
               false,
               false,
               false,
               false,
               false,
               false,
               false,
               false,
               false,
               false,
               false,
               false,
               false,
               false,
               false,
               false,
               false,
               false,
               false,
               false,
               false,
               false,
               false,
               false,
               false,
               false,
               false
              ]
             }
            ],
            "label": "<b>Chelsea-Brentford | '28/10/2023'</b>",
            "method": "restyle"
           },
           {
            "args": [
             {
              "visible": [
               false,
               false,
               false,
               false,
               false,
               false,
               false,
               false,
               false,
               false,
               false,
               false,
               true,
               true,
               true,
               false,
               false,
               false,
               false,
               false,
               false,
               false,
               false,
               false,
               false,
               false,
               false,
               false,
               false,
               false,
               false,
               false,
               false,
               false,
               false,
               false,
               false,
               false,
               false,
               false,
               false,
               false,
               false,
               false,
               false,
               false,
               false,
               false,
               false,
               false,
               false,
               false,
               false,
               false,
               false,
               false,
               false,
               false,
               false,
               false,
               false,
               false,
               false,
               false,
               false,
               false
              ]
             }
            ],
            "label": "<b>Arsenal-Sheffield United | '28/10/2023'</b>",
            "method": "restyle"
           },
           {
            "args": [
             {
              "visible": [
               false,
               false,
               false,
               false,
               false,
               false,
               false,
               false,
               false,
               false,
               false,
               false,
               false,
               false,
               false,
               true,
               true,
               true,
               false,
               false,
               false,
               false,
               false,
               false,
               false,
               false,
               false,
               false,
               false,
               false,
               false,
               false,
               false,
               false,
               false,
               false,
               false,
               false,
               false,
               false,
               false,
               false,
               false,
               false,
               false,
               false,
               false,
               false,
               false,
               false,
               false,
               false,
               false,
               false,
               false,
               false,
               false,
               false,
               false,
               false,
               false,
               false,
               false,
               false,
               false,
               false
              ]
             }
            ],
            "label": "<b>Bournemouth-Burnley | '28/10/2023'</b>",
            "method": "restyle"
           },
           {
            "args": [
             {
              "visible": [
               false,
               false,
               false,
               false,
               false,
               false,
               false,
               false,
               false,
               false,
               false,
               false,
               false,
               false,
               false,
               false,
               false,
               false,
               true,
               true,
               true,
               false,
               false,
               false,
               false,
               false,
               false,
               false,
               false,
               false,
               false,
               false,
               false,
               false,
               false,
               false,
               false,
               false,
               false,
               false,
               false,
               false,
               false,
               false,
               false,
               false,
               false,
               false,
               false,
               false,
               false,
               false,
               false,
               false,
               false,
               false,
               false,
               false,
               false,
               false,
               false,
               false,
               false,
               false,
               false,
               false
              ]
             }
            ],
            "label": "<b>Wolverhampton Wanderers-Newcastle United | '28/10/2023'</b>",
            "method": "restyle"
           },
           {
            "args": [
             {
              "visible": [
               false,
               false,
               false,
               false,
               false,
               false,
               false,
               false,
               false,
               false,
               false,
               false,
               false,
               false,
               false,
               false,
               false,
               false,
               false,
               false,
               false,
               true,
               true,
               true,
               false,
               false,
               false,
               false,
               false,
               false,
               false,
               false,
               false,
               false,
               false,
               false,
               false,
               false,
               false,
               false,
               false,
               false,
               false,
               false,
               false,
               false,
               false,
               false,
               false,
               false,
               false,
               false,
               false,
               false,
               false,
               false,
               false,
               false,
               false,
               false,
               false,
               false,
               false,
               false,
               false,
               false
              ]
             }
            ],
            "label": "<b>West Ham-Everton | '29/10/2023'</b>",
            "method": "restyle"
           },
           {
            "args": [
             {
              "visible": [
               false,
               false,
               false,
               false,
               false,
               false,
               false,
               false,
               false,
               false,
               false,
               false,
               false,
               false,
               false,
               false,
               false,
               false,
               false,
               false,
               false,
               false,
               false,
               false,
               true,
               true,
               true,
               false,
               false,
               false,
               false,
               false,
               false,
               false,
               false,
               false,
               false,
               false,
               false,
               false,
               false,
               false,
               false,
               false,
               false,
               false,
               false,
               false,
               false,
               false,
               false,
               false,
               false,
               false,
               false,
               false,
               false,
               false,
               false,
               false,
               false,
               false,
               false,
               false,
               false,
               false
              ]
             }
            ],
            "label": "<b>Brighton-Fulham | '29/10/2023'</b>",
            "method": "restyle"
           },
           {
            "args": [
             {
              "visible": [
               false,
               false,
               false,
               false,
               false,
               false,
               false,
               false,
               false,
               false,
               false,
               false,
               false,
               false,
               false,
               false,
               false,
               false,
               false,
               false,
               false,
               false,
               false,
               false,
               false,
               false,
               false,
               true,
               true,
               true,
               false,
               false,
               false,
               false,
               false,
               false,
               false,
               false,
               false,
               false,
               false,
               false,
               false,
               false,
               false,
               false,
               false,
               false,
               false,
               false,
               false,
               false,
               false,
               false,
               false,
               false,
               false,
               false,
               false,
               false,
               false,
               false,
               false,
               false,
               false,
               false
              ]
             }
            ],
            "label": "<b>Aston Villa-Luton | '29/10/2023'</b>",
            "method": "restyle"
           },
           {
            "args": [
             {
              "visible": [
               false,
               false,
               false,
               false,
               false,
               false,
               false,
               false,
               false,
               false,
               false,
               false,
               false,
               false,
               false,
               false,
               false,
               false,
               false,
               false,
               false,
               false,
               false,
               false,
               false,
               false,
               false,
               false,
               false,
               false,
               true,
               true,
               true,
               false,
               false,
               false,
               false,
               false,
               false,
               false,
               false,
               false,
               false,
               false,
               false,
               false,
               false,
               false,
               false,
               false,
               false,
               false,
               false,
               false,
               false,
               false,
               false,
               false,
               false,
               false,
               false,
               false,
               false,
               false,
               false,
               false
              ]
             }
            ],
            "label": "<b>Liverpool-Nottingham Forest | '29/10/2023'</b>",
            "method": "restyle"
           },
           {
            "args": [
             {
              "visible": [
               false,
               false,
               false,
               false,
               false,
               false,
               false,
               false,
               false,
               false,
               false,
               false,
               false,
               false,
               false,
               false,
               false,
               false,
               false,
               false,
               false,
               false,
               false,
               false,
               false,
               false,
               false,
               false,
               false,
               false,
               false,
               false,
               false,
               true,
               true,
               true,
               false,
               false,
               false,
               false,
               false,
               false,
               false,
               false,
               false,
               false,
               false,
               false,
               false,
               false,
               false,
               false,
               false,
               false,
               false,
               false,
               false,
               false,
               false,
               false,
               false,
               false,
               false,
               false,
               false,
               false
              ]
             }
            ],
            "label": "<b>Manchester United-Manchester City | '29/10/2023'</b>",
            "method": "restyle"
           },
           {
            "args": [
             {
              "visible": [
               false,
               false,
               false,
               false,
               false,
               false,
               false,
               false,
               false,
               false,
               false,
               false,
               false,
               false,
               false,
               false,
               false,
               false,
               false,
               false,
               false,
               false,
               false,
               false,
               false,
               false,
               false,
               false,
               false,
               false,
               false,
               false,
               false,
               false,
               false,
               false,
               true,
               true,
               true,
               false,
               false,
               false,
               false,
               false,
               false,
               false,
               false,
               false,
               false,
               false,
               false,
               false,
               false,
               false,
               false,
               false,
               false,
               false,
               false,
               false,
               false,
               false,
               false,
               false,
               false,
               false
              ]
             }
            ],
            "label": "<b>Fulham-Manchester United | '04/11/2023'</b>",
            "method": "restyle"
           },
           {
            "args": [
             {
              "visible": [
               false,
               false,
               false,
               false,
               false,
               false,
               false,
               false,
               false,
               false,
               false,
               false,
               false,
               false,
               false,
               false,
               false,
               false,
               false,
               false,
               false,
               false,
               false,
               false,
               false,
               false,
               false,
               false,
               false,
               false,
               false,
               false,
               false,
               false,
               false,
               false,
               false,
               false,
               false,
               true,
               true,
               true,
               false,
               false,
               false,
               false,
               false,
               false,
               false,
               false,
               false,
               false,
               false,
               false,
               false,
               false,
               false,
               false,
               false,
               false,
               false,
               false,
               false,
               false,
               false,
               false
              ]
             }
            ],
            "label": "<b>Brentford-West Ham | '04/11/2023'</b>",
            "method": "restyle"
           },
           {
            "args": [
             {
              "visible": [
               false,
               false,
               false,
               false,
               false,
               false,
               false,
               false,
               false,
               false,
               false,
               false,
               false,
               false,
               false,
               false,
               false,
               false,
               false,
               false,
               false,
               false,
               false,
               false,
               false,
               false,
               false,
               false,
               false,
               false,
               false,
               false,
               false,
               false,
               false,
               false,
               false,
               false,
               false,
               false,
               false,
               false,
               true,
               true,
               true,
               false,
               false,
               false,
               false,
               false,
               false,
               false,
               false,
               false,
               false,
               false,
               false,
               false,
               false,
               false,
               false,
               false,
               false,
               false,
               false,
               false
              ]
             }
            ],
            "label": "<b>Burnley-Crystal Palace | '04/11/2023'</b>",
            "method": "restyle"
           },
           {
            "args": [
             {
              "visible": [
               false,
               false,
               false,
               false,
               false,
               false,
               false,
               false,
               false,
               false,
               false,
               false,
               false,
               false,
               false,
               false,
               false,
               false,
               false,
               false,
               false,
               false,
               false,
               false,
               false,
               false,
               false,
               false,
               false,
               false,
               false,
               false,
               false,
               false,
               false,
               false,
               false,
               false,
               false,
               false,
               false,
               false,
               false,
               false,
               false,
               true,
               true,
               true,
               false,
               false,
               false,
               false,
               false,
               false,
               false,
               false,
               false,
               false,
               false,
               false,
               false,
               false,
               false,
               false,
               false,
               false
              ]
             }
            ],
            "label": "<b>Manchester City-Bournemouth | '04/11/2023'</b>",
            "method": "restyle"
           },
           {
            "args": [
             {
              "visible": [
               false,
               false,
               false,
               false,
               false,
               false,
               false,
               false,
               false,
               false,
               false,
               false,
               false,
               false,
               false,
               false,
               false,
               false,
               false,
               false,
               false,
               false,
               false,
               false,
               false,
               false,
               false,
               false,
               false,
               false,
               false,
               false,
               false,
               false,
               false,
               false,
               false,
               false,
               false,
               false,
               false,
               false,
               false,
               false,
               false,
               false,
               false,
               false,
               true,
               true,
               true,
               false,
               false,
               false,
               false,
               false,
               false,
               false,
               false,
               false,
               false,
               false,
               false,
               false,
               false,
               false
              ]
             }
            ],
            "label": "<b>Everton-Brighton | '04/11/2023'</b>",
            "method": "restyle"
           },
           {
            "args": [
             {
              "visible": [
               false,
               false,
               false,
               false,
               false,
               false,
               false,
               false,
               false,
               false,
               false,
               false,
               false,
               false,
               false,
               false,
               false,
               false,
               false,
               false,
               false,
               false,
               false,
               false,
               false,
               false,
               false,
               false,
               false,
               false,
               false,
               false,
               false,
               false,
               false,
               false,
               false,
               false,
               false,
               false,
               false,
               false,
               false,
               false,
               false,
               false,
               false,
               false,
               false,
               false,
               false,
               true,
               true,
               true,
               false,
               false,
               false,
               false,
               false,
               false,
               false,
               false,
               false,
               false,
               false,
               false
              ]
             }
            ],
            "label": "<b>Sheffield United-Wolverhampton Wanderers | '04/11/2023'</b>",
            "method": "restyle"
           },
           {
            "args": [
             {
              "visible": [
               false,
               false,
               false,
               false,
               false,
               false,
               false,
               false,
               false,
               false,
               false,
               false,
               false,
               false,
               false,
               false,
               false,
               false,
               false,
               false,
               false,
               false,
               false,
               false,
               false,
               false,
               false,
               false,
               false,
               false,
               false,
               false,
               false,
               false,
               false,
               false,
               false,
               false,
               false,
               false,
               false,
               false,
               false,
               false,
               false,
               false,
               false,
               false,
               false,
               false,
               false,
               false,
               false,
               false,
               true,
               true,
               true,
               false,
               false,
               false,
               false,
               false,
               false,
               false,
               false,
               false
              ]
             }
            ],
            "label": "<b>Newcastle United-Arsenal | '04/11/2023'</b>",
            "method": "restyle"
           },
           {
            "args": [
             {
              "visible": [
               false,
               false,
               false,
               false,
               false,
               false,
               false,
               false,
               false,
               false,
               false,
               false,
               false,
               false,
               false,
               false,
               false,
               false,
               false,
               false,
               false,
               false,
               false,
               false,
               false,
               false,
               false,
               false,
               false,
               false,
               false,
               false,
               false,
               false,
               false,
               false,
               false,
               false,
               false,
               false,
               false,
               false,
               false,
               false,
               false,
               false,
               false,
               false,
               false,
               false,
               false,
               false,
               false,
               false,
               false,
               false,
               false,
               true,
               true,
               true,
               false,
               false,
               false,
               false,
               false,
               false
              ]
             }
            ],
            "label": "<b>Nottingham Forest-Aston Villa | '05/11/2023'</b>",
            "method": "restyle"
           },
           {
            "args": [
             {
              "visible": [
               false,
               false,
               false,
               false,
               false,
               false,
               false,
               false,
               false,
               false,
               false,
               false,
               false,
               false,
               false,
               false,
               false,
               false,
               false,
               false,
               false,
               false,
               false,
               false,
               false,
               false,
               false,
               false,
               false,
               false,
               false,
               false,
               false,
               false,
               false,
               false,
               false,
               false,
               false,
               false,
               false,
               false,
               false,
               false,
               false,
               false,
               false,
               false,
               false,
               false,
               false,
               false,
               false,
               false,
               false,
               false,
               false,
               false,
               false,
               false,
               true,
               true,
               true,
               false,
               false,
               false
              ]
             }
            ],
            "label": "<b>Luton-Liverpool | '05/11/2023'</b>",
            "method": "restyle"
           },
           {
            "args": [
             {
              "visible": [
               false,
               false,
               false,
               false,
               false,
               false,
               false,
               false,
               false,
               false,
               false,
               false,
               false,
               false,
               false,
               false,
               false,
               false,
               false,
               false,
               false,
               false,
               false,
               false,
               false,
               false,
               false,
               false,
               false,
               false,
               false,
               false,
               false,
               false,
               false,
               false,
               false,
               false,
               false,
               false,
               false,
               false,
               false,
               false,
               false,
               false,
               false,
               false,
               false,
               false,
               false,
               false,
               false,
               false,
               false,
               false,
               false,
               false,
               false,
               false,
               false,
               false,
               false,
               true,
               true,
               true
              ]
             }
            ],
            "label": "<b>Tottenham-Chelsea | '06/11/2023'</b>",
            "method": "restyle"
           }
          ],
          "direction": "down",
          "x": 0.1,
          "y": 1.2
         }
        ],
        "width": 1500,
        "xaxis": {
         "anchor": "y",
         "domain": [
          0.397,
          1
         ]
        },
        "yaxis": {
         "anchor": "x",
         "domain": [
          0,
          1
         ]
        }
       }
      }
     },
     "metadata": {},
     "output_type": "display_data"
    }
   ],
   "source": [
    "# Create subplots\n",
    "fig = make_subplots(rows=1, cols=2, specs=[[{'type': 'polar'}, {'type': 'xy'}]], column_widths=[0.33, 0.67])\n",
    "fig.update_layout(width=1500, height=650)\n",
    "# create a list to store the buttons\n",
    "buttons = []\n",
    "categories = ['Home', 'Draw', 'Away', 'Over', 'Under', 'GG', 'NG']\n",
    "\n",
    "# loop through each match and create two traces for Bookmaker odds and predicted values\n",
    "for match_index, match in enumerate(Final_Odds['Match'].unique().tolist()):\n",
    "\n",
    "    # create the trace for Bookmaker odds\n",
    "    trace_bookmaker = go.Scatterpolar(\n",
    "      r=Final_Odds[(Final_Odds['Type']=='Bookmaker')  & (Final_Odds['Match']==match)][['P(Hwin)', 'P(Draw)', 'P(Awin)', 'P(Over)', 'P(Under)', 'P(GG)', 'P(NG)']].values.tolist()[0],\n",
    "      theta=categories,\n",
    "      fill='toself',\n",
    "      name='Bookmaker Odds',\n",
    "      marker = dict(color = 'rgb(82, 106, 131)' ),\n",
    "      visible=False if match_index!=0 else True,\n",
    "      hovertemplate='%{theta}<br>Prob: %{r:.2f}<br>Bookmaker Odds'\n",
    ")\n",
    "    fig.add_trace(trace_bookmaker, row=1, col=1)\n",
    "    # create the trace for predicted values\n",
    "    trace_predicted = go.Scatterpolar(\n",
    "        r= Final_Odds[(Final_Odds['Type']=='Predicted')  & (Final_Odds['Match']==match)][['P(Hwin)', 'P(Draw)', 'P(Awin)', 'P(Over)', 'P(Under)', 'P(GG)', 'P(NG)']].values.tolist()[0],\n",
    "        theta=categories,\n",
    "        fill='toself',\n",
    "        name='Predicted Odds',\n",
    "        marker = dict(color ='rgb(141,211,199)'), #'rgb(217, 175, 107)'\n",
    "        visible=False if match_index!=0 else True,\n",
    "        hovertemplate='%{theta}<br>Prob: %{r:.2f}<br>Predicted Odds'\n",
    "  )\n",
    "    fig.add_trace(trace_predicted, row=1, col=1)\n",
    "    \n",
    "    trace_goals = go.Bar(\n",
    "        x=Pie_list[match_index]['score'],\n",
    "        y=Pie_list[match_index]['P(score)'],\n",
    "        visible=False if match_index!=0 else True,\n",
    "        marker=dict(color=Pie_list[match_index]['P(score)'], colorscale='darkmint'),\n",
    "        name='Propable Scoreline',\n",
    "        hovertemplate='Score %{x}<br>Prob: %{y:.3f}'\n",
    "    )\n",
    "    fig.add_trace(trace_goals, row=1, col=2)\n",
    "    \n",
    "    # create the dictionary for the button\n",
    "    button_dict = dict(\n",
    "        method=\"restyle\",\n",
    "        args=[{\"visible\": [False] * (len(Final_Odds['Match'].unique().tolist()) * 3)}], # set all traces to false initially\n",
    "        label= f\"<b>{match} | {str(Final_Odds[(Final_Odds['Type']=='Predicted')  & (Final_Odds['Match']==match)]['Date'].values).strip('[]')}</b>\" \n",
    "    )\n",
    "    \n",
    "    # set visibility to true for the corresponding traces\n",
    "    button_dict[\"args\"][0][\"visible\"][3*match_index] = True # Bookmaker odds trace\n",
    "    button_dict[\"args\"][0][\"visible\"][3*match_index+1] = True # Predicted trace\n",
    "    button_dict[\"args\"][0][\"visible\"][3*match_index+2] = True # Goal trace\n",
    "    \n",
    "    # set visibility to true for the corresponding traces for the first match\n",
    "    if match_index == 0:\n",
    "        button_dict[\"args\"][0][\"visible\"][0] = True # Bookmaker odds trace\n",
    "        button_dict[\"args\"][0][\"visible\"][1] = True # Predicted trace\n",
    "        button_dict[\"args\"][0][\"visible\"][2] = True\n",
    "        \n",
    "    # append the button to the list\n",
    "    buttons.append(button_dict)\n",
    "\n",
    "\n",
    "# update the layout with the buttons\n",
    "fig.update_layout(\n",
    "    updatemenus=[go.layout.Updatemenu(\n",
    "        buttons=buttons,\n",
    "        active=0, # set the initial active button\n",
    "        x=0.1,\n",
    "        y=1.2,\n",
    "        direction=\"down\",\n",
    "    )],\n",
    "    \n",
    ")\n",
    "\n",
    "# show the plot\n",
    "fig.show()\n",
    "# Save the interactive figure as an HTML file\n",
    "fig.write_html('UpcomingMatchesPredictionFigure.html')\n"
   ]
  },
  {
   "cell_type": "code",
   "execution_count": 8,
   "metadata": {},
   "outputs": [],
   "source": [
    "images_path = '/home/nickpad/Documents/EnglishPremierLeaguePredictor/GatheredData/Logos'\n",
    "team_color = {\"Liverpool\": \"red\",\n",
    "              \"West Ham\": \"brown\",\n",
    "              \"Brentford\": \"#ff8d33\",\n",
    "              \"Everton\": \"blue\",\n",
    "              \"Crystal Palace\": \"#1711e0\",\n",
    "              \"Fulham\": \"black\",\n",
    "              \"Luton\": \"#e0ae11\",\n",
    "              \"Wolverhampton Wanderers\": \"#e09211\",\n",
    "              \"Manchester City\": \"#0bdeef\",\n",
    "              \"Nottingham Forest\": \"#ef2a0b\",\n",
    "              \"Burnley\": \"#8e2b4e\",\n",
    "              \"Manchester United\": \"#d12f07\",\n",
    "              \"Arsenal\": \"#ff0101\",\n",
    "              \"Tottenham\": \"#a5bfcc\",\n",
    "              \"Brighton\": \"#228bbf\",\n",
    "              \"Bournemouth\": \"#e50e21\",\n",
    "              \"Chelsea\": \"#0e1ee5\",\n",
    "              \"Aston Villa\": \"#a4266f\",\n",
    "              \"Sheffield United\": \"#e31343\",\n",
    "              \"Newcastle United\": \"#d5c0c5\"}\n"
   ]
  },
  {
   "cell_type": "code",
   "execution_count": 9,
   "metadata": {},
   "outputs": [],
   "source": [
    "import os\n",
    "from PIL import Image\n",
    "\n",
    "df = disp_pred\n",
    "\n"
   ]
  },
  {
   "cell_type": "code",
   "execution_count": 10,
   "metadata": {},
   "outputs": [
    {
     "name": "stderr",
     "output_type": "stream",
     "text": [
      "/tmp/ipykernel_190845/1283783480.py:18: SettingWithCopyWarning:\n",
      "\n",
      "\n",
      "A value is trying to be set on a copy of a slice from a DataFrame\n",
      "\n",
      "See the caveats in the documentation: https://pandas.pydata.org/pandas-docs/stable/user_guide/indexing.html#returning-a-view-versus-a-copy\n",
      "\n",
      "/tmp/ipykernel_190845/1283783480.py:19: SettingWithCopyWarning:\n",
      "\n",
      "\n",
      "A value is trying to be set on a copy of a slice from a DataFrame\n",
      "\n",
      "See the caveats in the documentation: https://pandas.pydata.org/pandas-docs/stable/user_guide/indexing.html#returning-a-view-versus-a-copy\n",
      "\n"
     ]
    },
    {
     "data": {
      "text/html": [
       "<div>\n",
       "<style scoped>\n",
       "    .dataframe tbody tr th:only-of-type {\n",
       "        vertical-align: middle;\n",
       "    }\n",
       "\n",
       "    .dataframe tbody tr th {\n",
       "        vertical-align: top;\n",
       "    }\n",
       "\n",
       "    .dataframe thead th {\n",
       "        text-align: right;\n",
       "    }\n",
       "</style>\n",
       "<table border=\"1\" class=\"dataframe\">\n",
       "  <thead>\n",
       "    <tr style=\"text-align: right;\">\n",
       "      <th></th>\n",
       "      <th>Match</th>\n",
       "      <th>UnderBet</th>\n",
       "      <th>UnderBet_Kelly</th>\n",
       "    </tr>\n",
       "  </thead>\n",
       "  <tbody>\n",
       "    <tr>\n",
       "      <th>0</th>\n",
       "      <td>Aston Villa-West Ham</td>\n",
       "      <td>0.00</td>\n",
       "      <td>0.00</td>\n",
       "    </tr>\n",
       "    <tr>\n",
       "      <th>1</th>\n",
       "      <td>Tottenham-Fulham</td>\n",
       "      <td>0.00</td>\n",
       "      <td>0.00</td>\n",
       "    </tr>\n",
       "    <tr>\n",
       "      <th>2</th>\n",
       "      <td>Crystal Palace-Tottenham</td>\n",
       "      <td>0.00</td>\n",
       "      <td>0.00</td>\n",
       "    </tr>\n",
       "    <tr>\n",
       "      <th>3</th>\n",
       "      <td>Chelsea-Brentford</td>\n",
       "      <td>0.00</td>\n",
       "      <td>0.00</td>\n",
       "    </tr>\n",
       "    <tr>\n",
       "      <th>4</th>\n",
       "      <td>Arsenal-Sheffield United</td>\n",
       "      <td>0.00</td>\n",
       "      <td>0.00</td>\n",
       "    </tr>\n",
       "    <tr>\n",
       "      <th>5</th>\n",
       "      <td>Bournemouth-Burnley</td>\n",
       "      <td>0.00</td>\n",
       "      <td>0.00</td>\n",
       "    </tr>\n",
       "    <tr>\n",
       "      <th>6</th>\n",
       "      <td>Wolverhampton Wanderers-Newcastle United</td>\n",
       "      <td>0.00</td>\n",
       "      <td>0.00</td>\n",
       "    </tr>\n",
       "    <tr>\n",
       "      <th>7</th>\n",
       "      <td>West Ham-Everton</td>\n",
       "      <td>0.00</td>\n",
       "      <td>0.00</td>\n",
       "    </tr>\n",
       "    <tr>\n",
       "      <th>8</th>\n",
       "      <td>Brighton-Fulham</td>\n",
       "      <td>0.00</td>\n",
       "      <td>0.00</td>\n",
       "    </tr>\n",
       "    <tr>\n",
       "      <th>9</th>\n",
       "      <td>Aston Villa-Luton</td>\n",
       "      <td>0.00</td>\n",
       "      <td>0.00</td>\n",
       "    </tr>\n",
       "    <tr>\n",
       "      <th>10</th>\n",
       "      <td>Liverpool-Nottingham Forest</td>\n",
       "      <td>0.00</td>\n",
       "      <td>0.00</td>\n",
       "    </tr>\n",
       "    <tr>\n",
       "      <th>11</th>\n",
       "      <td>Manchester United-Manchester City</td>\n",
       "      <td>0.00</td>\n",
       "      <td>0.00</td>\n",
       "    </tr>\n",
       "    <tr>\n",
       "      <th>12</th>\n",
       "      <td>Fulham-Manchester United</td>\n",
       "      <td>0.00</td>\n",
       "      <td>0.00</td>\n",
       "    </tr>\n",
       "    <tr>\n",
       "      <th>13</th>\n",
       "      <td>Brentford-West Ham</td>\n",
       "      <td>0.00</td>\n",
       "      <td>0.00</td>\n",
       "    </tr>\n",
       "    <tr>\n",
       "      <th>14</th>\n",
       "      <td>Burnley-Crystal Palace</td>\n",
       "      <td>0.00</td>\n",
       "      <td>0.00</td>\n",
       "    </tr>\n",
       "    <tr>\n",
       "      <th>15</th>\n",
       "      <td>Manchester City-Bournemouth</td>\n",
       "      <td>0.00</td>\n",
       "      <td>0.00</td>\n",
       "    </tr>\n",
       "    <tr>\n",
       "      <th>16</th>\n",
       "      <td>Everton-Brighton</td>\n",
       "      <td>0.00</td>\n",
       "      <td>0.00</td>\n",
       "    </tr>\n",
       "    <tr>\n",
       "      <th>17</th>\n",
       "      <td>Sheffield United-Wolverhampton Wanderers</td>\n",
       "      <td>0.00</td>\n",
       "      <td>0.00</td>\n",
       "    </tr>\n",
       "    <tr>\n",
       "      <th>18</th>\n",
       "      <td>Newcastle United-Arsenal</td>\n",
       "      <td>0.00</td>\n",
       "      <td>0.00</td>\n",
       "    </tr>\n",
       "    <tr>\n",
       "      <th>19</th>\n",
       "      <td>Nottingham Forest-Aston Villa</td>\n",
       "      <td>0.00</td>\n",
       "      <td>0.00</td>\n",
       "    </tr>\n",
       "    <tr>\n",
       "      <th>20</th>\n",
       "      <td>Luton-Liverpool</td>\n",
       "      <td>0.00</td>\n",
       "      <td>0.00</td>\n",
       "    </tr>\n",
       "    <tr>\n",
       "      <th>21</th>\n",
       "      <td>Tottenham-Chelsea</td>\n",
       "      <td>0.00</td>\n",
       "      <td>0.00</td>\n",
       "    </tr>\n",
       "  </tbody>\n",
       "</table>\n",
       "</div>"
      ],
      "text/plain": [
       "                                       Match  UnderBet  UnderBet_Kelly\n",
       "0                       Aston Villa-West Ham      0.00            0.00\n",
       "1                           Tottenham-Fulham      0.00            0.00\n",
       "2                   Crystal Palace-Tottenham      0.00            0.00\n",
       "3                          Chelsea-Brentford      0.00            0.00\n",
       "4                   Arsenal-Sheffield United      0.00            0.00\n",
       "5                        Bournemouth-Burnley      0.00            0.00\n",
       "6   Wolverhampton Wanderers-Newcastle United      0.00            0.00\n",
       "7                           West Ham-Everton      0.00            0.00\n",
       "8                            Brighton-Fulham      0.00            0.00\n",
       "9                          Aston Villa-Luton      0.00            0.00\n",
       "10               Liverpool-Nottingham Forest      0.00            0.00\n",
       "11         Manchester United-Manchester City      0.00            0.00\n",
       "12                  Fulham-Manchester United      0.00            0.00\n",
       "13                        Brentford-West Ham      0.00            0.00\n",
       "14                    Burnley-Crystal Palace      0.00            0.00\n",
       "15               Manchester City-Bournemouth      0.00            0.00\n",
       "16                          Everton-Brighton      0.00            0.00\n",
       "17  Sheffield United-Wolverhampton Wanderers      0.00            0.00\n",
       "18                  Newcastle United-Arsenal      0.00            0.00\n",
       "19             Nottingham Forest-Aston Villa      0.00            0.00\n",
       "20                           Luton-Liverpool      0.00            0.00\n",
       "21                         Tottenham-Chelsea      0.00            0.00"
      ]
     },
     "metadata": {},
     "output_type": "display_data"
    }
   ],
   "source": [
    "Pont = 5\n",
    "bank = 60\n",
    "Final = Final_Odds[Final_Odds['Type']=='Predicted'][['Match']]\n",
    "listPred = Final_Odds[Final_Odds['Type']=='Predicted']['P(Under)'].tolist()\n",
    "listBook = Final_Odds[Final_Odds['Type']=='Bookmaker']['P(Under)'].tolist()\n",
    "\n",
    "diff = []\n",
    "for i, p in enumerate(listPred):\n",
    "    diff.append(listPred[i]-listBook[i])\n",
    "\n",
    "Final['UnderBet'] = np.nan\n",
    "Final['UnderBet_Kelly'] = np.nan\n",
    "for i, d in enumerate(diff):\n",
    "    if (0.7>=listPred[i]>=0.5) and (d>=0.005):\n",
    "        Final['UnderBet'][i] = max(Pont*10*(d),0)\n",
    "        Final['UnderBet_Kelly'][i] = max(0, bank*(listPred[i]- (1-listPred[i])/(1/listBook[i] -1)))\n",
    "    else:\n",
    "        Final['UnderBet'][i] = 0\n",
    "        Final['UnderBet_Kelly'][i] = 0\n",
    "        \n",
    "############\n",
    "\n",
    "    \n",
    "display(Final)"
   ]
  }
 ],
 "metadata": {
  "kernelspec": {
   "display_name": "Python 3",
   "language": "python",
   "name": "python3"
  },
  "language_info": {
   "codemirror_mode": {
    "name": "ipython",
    "version": 3
   },
   "file_extension": ".py",
   "mimetype": "text/x-python",
   "name": "python",
   "nbconvert_exporter": "python",
   "pygments_lexer": "ipython3",
   "version": "3.11.6"
  },
  "orig_nbformat": 4
 },
 "nbformat": 4,
 "nbformat_minor": 2
}
