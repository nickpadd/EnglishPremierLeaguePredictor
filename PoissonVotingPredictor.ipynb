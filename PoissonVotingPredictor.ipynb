{
 "cells": [
  {
   "cell_type": "code",
   "execution_count": 48,
   "metadata": {},
   "outputs": [],
   "source": [
    "import pandas as pd\n",
    "import plotly.express as px\n",
    "import numpy as np\n",
    "from sklearn.model_selection import train_test_split\n",
    "from sklearn.linear_model import LinearRegression\n",
    "from scipy.stats import poisson \n",
    "import math\n",
    "import plotly.express as px\n",
    "from plotly.subplots import make_subplots\n",
    "import plotly.graph_objects as go\n",
    "from sklearn import preprocessing\n",
    "\n",
    "def sum_of_lower_upper(mat):\n",
    "    r = len(mat)\n",
    "    c = len(mat[0])\n",
    "    diag = np.trace(mat)\n",
    "    lower_sum = 0\n",
    "    upper_sum = 0\n",
    "    over_sum = 0\n",
    "    under_sum = 0\n",
    "    gg_sum = 0\n",
    "    ng_sum = 0 \n",
    "\n",
    "    for i in range(r):\n",
    "        for j in range(c):\n",
    "            if (i<j):\n",
    "                upper_sum += mat[i][j]\n",
    "\n",
    "    for i in range(r):\n",
    "        for j in range(c):\n",
    "            if (j<i):\n",
    "                lower_sum += mat[i][j]\n",
    "    \n",
    "    for i in range(r):\n",
    "        for j in range(c):\n",
    "            if (i+j>=3):\n",
    "                over_sum += mat[i][j]\n",
    "            else:\n",
    "                under_sum += mat[i][j]\n",
    "    \n",
    "    for i in range(r):\n",
    "        for j in range(c):\n",
    "            if (i==0) or (j==0):\n",
    "                ng_sum += mat[i][j]\n",
    "            else:\n",
    "                gg_sum += mat[i][j]\n",
    "\n",
    "    return (upper_sum, lower_sum, diag, over_sum, under_sum, ng_sum, gg_sum)\n"
   ]
  },
  {
   "attachments": {},
   "cell_type": "markdown",
   "metadata": {},
   "source": [
    "## Gathering Lamda from season long performance"
   ]
  },
  {
   "cell_type": "code",
   "execution_count": 49,
   "metadata": {},
   "outputs": [
    {
     "ename": "FileNotFoundError",
     "evalue": "[Errno 2] No such file or directory: 'Full20xxFiles/Full2017.csv'",
     "output_type": "error",
     "traceback": [
      "\u001b[0;31m---------------------------------------------------------------------------\u001b[0m",
      "\u001b[0;31mFileNotFoundError\u001b[0m                         Traceback (most recent call last)",
      "\u001b[1;32m/home/nickpad/Documents/EnglishPremierLeaguePredictor/PoissonVotingPredictor.ipynb Cell 3\u001b[0m line \u001b[0;36m1\n\u001b[0;32m----> <a href='vscode-notebook-cell:/home/nickpad/Documents/EnglishPremierLeaguePredictor/PoissonVotingPredictor.ipynb#W2sZmlsZQ%3D%3D?line=0'>1</a>\u001b[0m df1 \u001b[39m=\u001b[39m pd\u001b[39m.\u001b[39;49mread_csv(\u001b[39m'\u001b[39;49m\u001b[39mFull20xxFiles/Full2017.csv\u001b[39;49m\u001b[39m'\u001b[39;49m)\n\u001b[1;32m      <a href='vscode-notebook-cell:/home/nickpad/Documents/EnglishPremierLeaguePredictor/PoissonVotingPredictor.ipynb#W2sZmlsZQ%3D%3D?line=1'>2</a>\u001b[0m df2 \u001b[39m=\u001b[39m pd\u001b[39m.\u001b[39mread_csv(\u001b[39m'\u001b[39m\u001b[39mFull20xxFiles/Full2018.csv\u001b[39m\u001b[39m'\u001b[39m)\n\u001b[1;32m      <a href='vscode-notebook-cell:/home/nickpad/Documents/EnglishPremierLeaguePredictor/PoissonVotingPredictor.ipynb#W2sZmlsZQ%3D%3D?line=2'>3</a>\u001b[0m df3 \u001b[39m=\u001b[39m pd\u001b[39m.\u001b[39mread_csv(\u001b[39m'\u001b[39m\u001b[39mFull20xxFiles/Full2019.csv\u001b[39m\u001b[39m'\u001b[39m)\n",
      "File \u001b[0;32m~/.local/lib/python3.11/site-packages/pandas/util/_decorators.py:211\u001b[0m, in \u001b[0;36mdeprecate_kwarg.<locals>._deprecate_kwarg.<locals>.wrapper\u001b[0;34m(*args, **kwargs)\u001b[0m\n\u001b[1;32m    209\u001b[0m     \u001b[39melse\u001b[39;00m:\n\u001b[1;32m    210\u001b[0m         kwargs[new_arg_name] \u001b[39m=\u001b[39m new_arg_value\n\u001b[0;32m--> 211\u001b[0m \u001b[39mreturn\u001b[39;00m func(\u001b[39m*\u001b[39;49margs, \u001b[39m*\u001b[39;49m\u001b[39m*\u001b[39;49mkwargs)\n",
      "File \u001b[0;32m~/.local/lib/python3.11/site-packages/pandas/util/_decorators.py:331\u001b[0m, in \u001b[0;36mdeprecate_nonkeyword_arguments.<locals>.decorate.<locals>.wrapper\u001b[0;34m(*args, **kwargs)\u001b[0m\n\u001b[1;32m    325\u001b[0m \u001b[39mif\u001b[39;00m \u001b[39mlen\u001b[39m(args) \u001b[39m>\u001b[39m num_allow_args:\n\u001b[1;32m    326\u001b[0m     warnings\u001b[39m.\u001b[39mwarn(\n\u001b[1;32m    327\u001b[0m         msg\u001b[39m.\u001b[39mformat(arguments\u001b[39m=\u001b[39m_format_argument_list(allow_args)),\n\u001b[1;32m    328\u001b[0m         \u001b[39mFutureWarning\u001b[39;00m,\n\u001b[1;32m    329\u001b[0m         stacklevel\u001b[39m=\u001b[39mfind_stack_level(),\n\u001b[1;32m    330\u001b[0m     )\n\u001b[0;32m--> 331\u001b[0m \u001b[39mreturn\u001b[39;00m func(\u001b[39m*\u001b[39;49margs, \u001b[39m*\u001b[39;49m\u001b[39m*\u001b[39;49mkwargs)\n",
      "File \u001b[0;32m~/.local/lib/python3.11/site-packages/pandas/io/parsers/readers.py:950\u001b[0m, in \u001b[0;36mread_csv\u001b[0;34m(filepath_or_buffer, sep, delimiter, header, names, index_col, usecols, squeeze, prefix, mangle_dupe_cols, dtype, engine, converters, true_values, false_values, skipinitialspace, skiprows, skipfooter, nrows, na_values, keep_default_na, na_filter, verbose, skip_blank_lines, parse_dates, infer_datetime_format, keep_date_col, date_parser, dayfirst, cache_dates, iterator, chunksize, compression, thousands, decimal, lineterminator, quotechar, quoting, doublequote, escapechar, comment, encoding, encoding_errors, dialect, error_bad_lines, warn_bad_lines, on_bad_lines, delim_whitespace, low_memory, memory_map, float_precision, storage_options)\u001b[0m\n\u001b[1;32m    935\u001b[0m kwds_defaults \u001b[39m=\u001b[39m _refine_defaults_read(\n\u001b[1;32m    936\u001b[0m     dialect,\n\u001b[1;32m    937\u001b[0m     delimiter,\n\u001b[0;32m   (...)\u001b[0m\n\u001b[1;32m    946\u001b[0m     defaults\u001b[39m=\u001b[39m{\u001b[39m\"\u001b[39m\u001b[39mdelimiter\u001b[39m\u001b[39m\"\u001b[39m: \u001b[39m\"\u001b[39m\u001b[39m,\u001b[39m\u001b[39m\"\u001b[39m},\n\u001b[1;32m    947\u001b[0m )\n\u001b[1;32m    948\u001b[0m kwds\u001b[39m.\u001b[39mupdate(kwds_defaults)\n\u001b[0;32m--> 950\u001b[0m \u001b[39mreturn\u001b[39;00m _read(filepath_or_buffer, kwds)\n",
      "File \u001b[0;32m~/.local/lib/python3.11/site-packages/pandas/io/parsers/readers.py:605\u001b[0m, in \u001b[0;36m_read\u001b[0;34m(filepath_or_buffer, kwds)\u001b[0m\n\u001b[1;32m    602\u001b[0m _validate_names(kwds\u001b[39m.\u001b[39mget(\u001b[39m\"\u001b[39m\u001b[39mnames\u001b[39m\u001b[39m\"\u001b[39m, \u001b[39mNone\u001b[39;00m))\n\u001b[1;32m    604\u001b[0m \u001b[39m# Create the parser.\u001b[39;00m\n\u001b[0;32m--> 605\u001b[0m parser \u001b[39m=\u001b[39m TextFileReader(filepath_or_buffer, \u001b[39m*\u001b[39;49m\u001b[39m*\u001b[39;49mkwds)\n\u001b[1;32m    607\u001b[0m \u001b[39mif\u001b[39;00m chunksize \u001b[39mor\u001b[39;00m iterator:\n\u001b[1;32m    608\u001b[0m     \u001b[39mreturn\u001b[39;00m parser\n",
      "File \u001b[0;32m~/.local/lib/python3.11/site-packages/pandas/io/parsers/readers.py:1442\u001b[0m, in \u001b[0;36mTextFileReader.__init__\u001b[0;34m(self, f, engine, **kwds)\u001b[0m\n\u001b[1;32m   1439\u001b[0m     \u001b[39mself\u001b[39m\u001b[39m.\u001b[39moptions[\u001b[39m\"\u001b[39m\u001b[39mhas_index_names\u001b[39m\u001b[39m\"\u001b[39m] \u001b[39m=\u001b[39m kwds[\u001b[39m\"\u001b[39m\u001b[39mhas_index_names\u001b[39m\u001b[39m\"\u001b[39m]\n\u001b[1;32m   1441\u001b[0m \u001b[39mself\u001b[39m\u001b[39m.\u001b[39mhandles: IOHandles \u001b[39m|\u001b[39m \u001b[39mNone\u001b[39;00m \u001b[39m=\u001b[39m \u001b[39mNone\u001b[39;00m\n\u001b[0;32m-> 1442\u001b[0m \u001b[39mself\u001b[39m\u001b[39m.\u001b[39m_engine \u001b[39m=\u001b[39m \u001b[39mself\u001b[39;49m\u001b[39m.\u001b[39;49m_make_engine(f, \u001b[39mself\u001b[39;49m\u001b[39m.\u001b[39;49mengine)\n",
      "File \u001b[0;32m~/.local/lib/python3.11/site-packages/pandas/io/parsers/readers.py:1735\u001b[0m, in \u001b[0;36mTextFileReader._make_engine\u001b[0;34m(self, f, engine)\u001b[0m\n\u001b[1;32m   1733\u001b[0m     \u001b[39mif\u001b[39;00m \u001b[39m\"\u001b[39m\u001b[39mb\u001b[39m\u001b[39m\"\u001b[39m \u001b[39mnot\u001b[39;00m \u001b[39min\u001b[39;00m mode:\n\u001b[1;32m   1734\u001b[0m         mode \u001b[39m+\u001b[39m\u001b[39m=\u001b[39m \u001b[39m\"\u001b[39m\u001b[39mb\u001b[39m\u001b[39m\"\u001b[39m\n\u001b[0;32m-> 1735\u001b[0m \u001b[39mself\u001b[39m\u001b[39m.\u001b[39mhandles \u001b[39m=\u001b[39m get_handle(\n\u001b[1;32m   1736\u001b[0m     f,\n\u001b[1;32m   1737\u001b[0m     mode,\n\u001b[1;32m   1738\u001b[0m     encoding\u001b[39m=\u001b[39;49m\u001b[39mself\u001b[39;49m\u001b[39m.\u001b[39;49moptions\u001b[39m.\u001b[39;49mget(\u001b[39m\"\u001b[39;49m\u001b[39mencoding\u001b[39;49m\u001b[39m\"\u001b[39;49m, \u001b[39mNone\u001b[39;49;00m),\n\u001b[1;32m   1739\u001b[0m     compression\u001b[39m=\u001b[39;49m\u001b[39mself\u001b[39;49m\u001b[39m.\u001b[39;49moptions\u001b[39m.\u001b[39;49mget(\u001b[39m\"\u001b[39;49m\u001b[39mcompression\u001b[39;49m\u001b[39m\"\u001b[39;49m, \u001b[39mNone\u001b[39;49;00m),\n\u001b[1;32m   1740\u001b[0m     memory_map\u001b[39m=\u001b[39;49m\u001b[39mself\u001b[39;49m\u001b[39m.\u001b[39;49moptions\u001b[39m.\u001b[39;49mget(\u001b[39m\"\u001b[39;49m\u001b[39mmemory_map\u001b[39;49m\u001b[39m\"\u001b[39;49m, \u001b[39mFalse\u001b[39;49;00m),\n\u001b[1;32m   1741\u001b[0m     is_text\u001b[39m=\u001b[39;49mis_text,\n\u001b[1;32m   1742\u001b[0m     errors\u001b[39m=\u001b[39;49m\u001b[39mself\u001b[39;49m\u001b[39m.\u001b[39;49moptions\u001b[39m.\u001b[39;49mget(\u001b[39m\"\u001b[39;49m\u001b[39mencoding_errors\u001b[39;49m\u001b[39m\"\u001b[39;49m, \u001b[39m\"\u001b[39;49m\u001b[39mstrict\u001b[39;49m\u001b[39m\"\u001b[39;49m),\n\u001b[1;32m   1743\u001b[0m     storage_options\u001b[39m=\u001b[39;49m\u001b[39mself\u001b[39;49m\u001b[39m.\u001b[39;49moptions\u001b[39m.\u001b[39;49mget(\u001b[39m\"\u001b[39;49m\u001b[39mstorage_options\u001b[39;49m\u001b[39m\"\u001b[39;49m, \u001b[39mNone\u001b[39;49;00m),\n\u001b[1;32m   1744\u001b[0m )\n\u001b[1;32m   1745\u001b[0m \u001b[39massert\u001b[39;00m \u001b[39mself\u001b[39m\u001b[39m.\u001b[39mhandles \u001b[39mis\u001b[39;00m \u001b[39mnot\u001b[39;00m \u001b[39mNone\u001b[39;00m\n\u001b[1;32m   1746\u001b[0m f \u001b[39m=\u001b[39m \u001b[39mself\u001b[39m\u001b[39m.\u001b[39mhandles\u001b[39m.\u001b[39mhandle\n",
      "File \u001b[0;32m~/.local/lib/python3.11/site-packages/pandas/io/common.py:856\u001b[0m, in \u001b[0;36mget_handle\u001b[0;34m(path_or_buf, mode, encoding, compression, memory_map, is_text, errors, storage_options)\u001b[0m\n\u001b[1;32m    851\u001b[0m \u001b[39melif\u001b[39;00m \u001b[39misinstance\u001b[39m(handle, \u001b[39mstr\u001b[39m):\n\u001b[1;32m    852\u001b[0m     \u001b[39m# Check whether the filename is to be opened in binary mode.\u001b[39;00m\n\u001b[1;32m    853\u001b[0m     \u001b[39m# Binary mode does not support 'encoding' and 'newline'.\u001b[39;00m\n\u001b[1;32m    854\u001b[0m     \u001b[39mif\u001b[39;00m ioargs\u001b[39m.\u001b[39mencoding \u001b[39mand\u001b[39;00m \u001b[39m\"\u001b[39m\u001b[39mb\u001b[39m\u001b[39m\"\u001b[39m \u001b[39mnot\u001b[39;00m \u001b[39min\u001b[39;00m ioargs\u001b[39m.\u001b[39mmode:\n\u001b[1;32m    855\u001b[0m         \u001b[39m# Encoding\u001b[39;00m\n\u001b[0;32m--> 856\u001b[0m         handle \u001b[39m=\u001b[39m \u001b[39mopen\u001b[39m(\n\u001b[1;32m    857\u001b[0m             handle,\n\u001b[1;32m    858\u001b[0m             ioargs\u001b[39m.\u001b[39mmode,\n\u001b[1;32m    859\u001b[0m             encoding\u001b[39m=\u001b[39mioargs\u001b[39m.\u001b[39mencoding,\n\u001b[1;32m    860\u001b[0m             errors\u001b[39m=\u001b[39merrors,\n\u001b[1;32m    861\u001b[0m             newline\u001b[39m=\u001b[39m\u001b[39m\"\u001b[39m\u001b[39m\"\u001b[39m,\n\u001b[1;32m    862\u001b[0m         )\n\u001b[1;32m    863\u001b[0m     \u001b[39melse\u001b[39;00m:\n\u001b[1;32m    864\u001b[0m         \u001b[39m# Binary mode\u001b[39;00m\n\u001b[1;32m    865\u001b[0m         handle \u001b[39m=\u001b[39m \u001b[39mopen\u001b[39m(handle, ioargs\u001b[39m.\u001b[39mmode)\n",
      "\u001b[0;31mFileNotFoundError\u001b[0m: [Errno 2] No such file or directory: 'Full20xxFiles/Full2017.csv'"
     ]
    }
   ],
   "source": [
    "df1 = pd.read_csv('GatheredData/Full20xxFiles/Full2017.csv')\n",
    "df2 = pd.read_csv('GatheredData/Full20xxFiles/Full2018.csv')\n",
    "df3 = pd.read_csv('GatheredData/Full20xxFiles/Full2019.csv')\n",
    "df4 = pd.read_csv('GatheredData/Full20xxFiles/Full2020.csv')\n",
    "df5 = pd.read_csv('GatheredData/Full20xxFiles/Full2021.csv')\n",
    "df6 = pd.read_csv('GatheredData/Full20xxFiles/Full2022.csv')\n",
    "PRED = pd.read_csv('UpcomingFixtures/Prediction.csv')\n",
    "pred = PRED.copy()\n",
    "#Keeping bookmakers odds\n",
    "Odds = PRED.copy()\n",
    "Odds = PRED[['HTeam', 'ATeam','B365H', 'B365D', 'B365A', 'BbAv>2.5', 'BbAv<2.5', 'GG', 'NG']]\n",
    "\n",
    "df1 = df1[['Date_x', 'HxG', 'HM', 'HTeam', 'ATeam', 'HG', 'HGA', 'HxGA', 'HDC', 'HODC', 'HPPDA', 'HOPPDA', 'HPTS/M', 'AM', 'AG', 'AGA', 'AxG', 'AxGA', 'ADC', 'AODC', 'APPDA', 'AOPPDA', 'APTS/M', 'Result', 'B365H', 'B365D', 'B365A', 'BbAv>2.5', 'BbAv<2.5']]\n",
    "df2 = df2[['Date_x', 'HxG', 'HM', 'HTeam', 'ATeam', 'HG', 'HGA', 'HxGA', 'HDC', 'HODC', 'HPPDA', 'HOPPDA', 'HPTS/M', 'AM', 'AG', 'AGA', 'AxG', 'AxGA', 'ADC', 'AODC', 'APPDA', 'AOPPDA', 'APTS/M', 'Result', 'B365H', 'B365D', 'B365A', 'BbAv>2.5', 'BbAv<2.5']]\n",
    "df3 = df3[['Date_x', 'HxG', 'HM', 'HTeam', 'ATeam', 'HG', 'HGA', 'HxGA', 'HDC', 'HODC', 'HPPDA', 'HOPPDA', 'HPTS/M', 'AM', 'AG', 'AGA', 'AxG', 'AxGA', 'ADC', 'AODC', 'APPDA', 'AOPPDA', 'APTS/M', 'Result', 'B365H', 'B365D', 'B365A', 'AvgC>2.5', 'AvgC<2.5']]\n",
    "df3.rename(columns = {'AvgC<2.5':'BbAv<2.5'}, inplace = True)\n",
    "df3.rename(columns = {'AvgC>2.5':'BbAv>2.5'}, inplace = True)\n",
    "df4 = df4[['Date_x', 'HxG', 'HM', 'HTeam', 'ATeam', 'HG', 'HGA', 'HxGA', 'HDC', 'HODC', 'HPPDA', 'HOPPDA', 'HPTS/M', 'AM', 'AG', 'AGA', 'AxG', 'AxGA', 'ADC', 'AODC', 'APPDA', 'AOPPDA', 'APTS/M', 'Result', 'B365H', 'B365D', 'B365A', 'AvgC>2.5', 'AvgC<2.5']]\n",
    "df4.rename(columns = {'AvgC<2.5':'BbAv<2.5'}, inplace = True)\n",
    "df4.rename(columns = {'AvgC>2.5':'BbAv>2.5'}, inplace = True)\n",
    "df5 = df5[['Date_x', 'HxG', 'HM', 'HTeam', 'ATeam', 'HG', 'HGA', 'HxGA', 'HDC', 'HODC', 'HPPDA', 'HOPPDA', 'HPTS/M', 'AM', 'AG', 'AGA', 'AxG', 'AxGA', 'ADC', 'AODC', 'APPDA', 'AOPPDA', 'APTS/M', 'Result', 'B365H', 'B365D', 'B365A', 'AvgC>2.5', 'AvgC<2.5']]\n",
    "df5.rename(columns = {'AvgC<2.5':'BbAv<2.5'}, inplace = True)\n",
    "df5.rename(columns = {'AvgC>2.5':'BbAv>2.5'}, inplace = True)\n",
    "df6 = df6[['Date', 'HxG', 'HM', 'HTeam', 'ATeam', 'HG', 'HGA', 'HxGA', 'HDC', 'HODC', 'HPPDA', 'HOPPDA', 'HPTS/M', 'AM', 'AG', 'AGA', 'AxG', 'AxGA', 'ADC', 'AODC', 'APPDA', 'AOPPDA', 'APTS/M', 'Result', 'B365H', 'B365D', 'B365A', 'B365>2.5', 'B365<2.5']]\n",
    "df6.rename(columns = {'B365<2.5':'BbAv<2.5'}, inplace = True)\n",
    "df6.rename(columns = {'B365>2.5':'BbAv>2.5'}, inplace = True)\n",
    "\n",
    "df1.rename(columns = {'Date_x':'Date'}, inplace = True)\n",
    "df2.rename(columns = {'Date_x':'Date'}, inplace = True)\n",
    "df3.rename(columns = {'Date_x':'Date'}, inplace = True)\n",
    "df4.rename(columns = {'Date_x':'Date'}, inplace = True)\n",
    "df5.rename(columns = {'Date_x':'Date'}, inplace = True)\n",
    "\n",
    "Season = pd.read_csv('GatheredData/Full20xxFiles/Full2023.csv')\n",
    "Season = Season[['HxG', 'HM', 'HTeam', 'ATeam', 'HG', 'HGA', 'HxGA', 'HDC', 'HODC', 'HPPDA', 'HOPPDA', 'HPTS/M', 'AM', 'AG', 'AGA', 'AxG', 'AxGA', 'ADC', 'AODC', 'APPDA', 'AOPPDA', 'APTS/M', 'Result', 'B365H', 'B365D', 'B365A', 'BbAv>2.5', 'BbAv<2.5']]\n",
    "Season = Season.iloc[38:]\n",
    "\n",
    "DF = pd.concat([df1, df2, df3, df4, df5, df6, Season], ignore_index=True)\n",
    "\n",
    "\n",
    "DF = DF[ DF['HM'] != 0] \n",
    "DF = DF[ DF['HM'] != 1] \n",
    "DF = DF[ DF['HM'] != 2] \n",
    "DF = DF[ DF['HM'] != 3]\n",
    "subset = DF[['Date', 'HTeam', 'ATeam']].copy()\n",
    "extra_stats = DF.copy()\n",
    "extra_pred = pred.copy()\n",
    "\n",
    "DF['PTSDIF/M']=DF['HPTS/M']-DF['APTS/M']\n",
    "pred['PTSDIF/M']=pred['HPTS/M']-pred['APTS/M']\n",
    "DF = DF[[ 'HxG', 'HM', 'HG', 'HGA', 'HxGA', 'HDC', 'HODC', 'HPPDA', 'HOPPDA', 'HPTS/M', 'AM', 'AG', 'AGA', 'AxG', 'AxGA', 'ADC', 'AODC', 'APPDA', 'AOPPDA', 'APTS/M', 'PTSDIF/M', 'Result']]\n",
    "pred = pred[[ 'HxG', 'HM', 'HG', 'HGA', 'HxGA', 'HDC', 'HODC', 'HPPDA', 'HOPPDA', 'HPTS/M', 'AM', 'AG', 'AGA', 'AxG', 'AxGA', 'ADC', 'AODC', 'APPDA', 'AOPPDA', 'APTS/M', 'PTSDIF/M', 'Result']]\n",
    "cut = DF.shape[0]\n",
    "DF = pd.concat([DF, pred], ignore_index=True)\n",
    "try:\n",
    "    DF['HxG'] = DF['HxG'].div(DF['HM'])\n",
    "    DF['HG'] = DF['HG'].div(DF['HM'])\n",
    "    DF['HGA'] = DF['HGA'].div(DF['HM'])\n",
    "    DF['HxGA'] = DF['HxGA'].div(DF['HM'])\n",
    "    DF['AxG'] = DF['AxG'].div(DF['AM'])\n",
    "    DF['AG'] = DF['AG'].div(DF['AM'])\n",
    "    DF['AxGA'] = DF['AxG'].div(DF['AM'])\n",
    "    DF['AGA'] = DF['AGA'].div(DF['AM'])\n",
    "    pred['HxG'] = pred['HxG'].div(pred['HM'])\n",
    "    pred['HG'] = pred['HG'].div(pred['HM'])\n",
    "    pred['HGA'] = pred['HGA'].div(pred['HM'])\n",
    "    pred['HxGA'] = pred['HxGA'].div(pred['HM'])\n",
    "    pred['AxG'] = pred['AxG'].div(pred['AM'])\n",
    "    pred['AG'] = pred['AG'].div(pred['AM'])\n",
    "    pred['AxGA'] = pred['AxG'].div(pred['AM'])\n",
    "    pred['AGA'] = pred['AGA'].div(pred['AM'])\n",
    "\n",
    "except ZeroDivisionError:\n",
    "    DF['HxG'] = 0\n",
    "    DF['HG'] = 0\n",
    "    DF['HGA'] = 0\n",
    "    DF['HxGA'] = 0\n",
    "    DF['AxG'] = 0\n",
    "    DF['AG'] = 0\n",
    "    DF['AxGA'] = 0\n",
    "    DF['AGA'] = 0\n",
    "\n",
    "HGoals = []\n",
    "AGoals = []\n",
    "    \n",
    "for i, x in DF.iloc[:cut].iterrows():\n",
    "    a=x['Result'].split('\\'')\n",
    "    HGoals.append(a[1])\n",
    "    AGoals.append(a[3])\n",
    "    \n",
    "DF=np.array(DF)\n",
    "DFnorm = preprocessing.normalize(DF[:, 0:21], axis=0)\n",
    "pred = DFnorm[cut:]\n",
    "DF = DFnorm[:cut]\n",
    "\n",
    "x=DF\n",
    "\n",
    "\n",
    "y1=np.array(HGoals)\n",
    "y2=np.array(AGoals)\n",
    "\n",
    "reg1 = LinearRegression().fit(x, y1)\n",
    "reg2 = LinearRegression().fit(x, y2)\n",
    "\n",
    "LamdaHome= reg1.predict(pred)\n",
    "LamdaAway= reg2.predict(pred)"
   ]
  },
  {
   "attachments": {},
   "cell_type": "markdown",
   "metadata": {},
   "source": [
    "## Gathering Lamda from 2 month form performance"
   ]
  },
  {
   "cell_type": "code",
   "execution_count": null,
   "metadata": {},
   "outputs": [
    {
     "name": "stderr",
     "output_type": "stream",
     "text": [
      "/tmp/ipykernel_52977/1310668900.py:37: SettingWithCopyWarning:\n",
      "\n",
      "\n",
      "A value is trying to be set on a copy of a slice from a DataFrame.\n",
      "Try using .loc[row_indexer,col_indexer] = value instead\n",
      "\n",
      "See the caveats in the documentation: https://pandas.pydata.org/pandas-docs/stable/user_guide/indexing.html#returning-a-view-versus-a-copy\n",
      "\n"
     ]
    }
   ],
   "source": [
    "df1 = pd.read_csv('GatheredData/Epl20xxMonthlyFiles/Epl2017Monthly.csv')\n",
    "df2 = pd.read_csv('GatheredData/Epl20xxMonthlyFiles/Epl2018Monthly.csv')\n",
    "df3 = pd.read_csv('GatheredData/Epl20xxMonthlyFiles/Epl2019Monthly.csv')\n",
    "df4 = pd.read_csv('GatheredData/Epl20xxMonthlyFiles/Epl2020Monthly.csv')\n",
    "df5 = pd.read_csv('GatheredData/Epl20xxMonthlyFiles/Epl2021Monthly.csv')\n",
    "df6 = pd.read_csv('GatheredData/Epl20xxMonthlyFiles/Epl2022Monthly.csv')\n",
    "pred = PRED.copy()\n",
    "#Keeping bookmakers odds\n",
    "Odds = PRED.copy()\n",
    "Odds = PRED[['HTeam', 'ATeam','B365H', 'B365D', 'B365A', 'BbAv>2.5', 'BbAv<2.5', 'GG', 'NG']]\n",
    "\n",
    "df1 = df1[['Date', 'HxG', 'HM', 'HTeam', 'ATeam', 'HG', 'HGA', 'HxGA', 'HDC', 'HODC', 'HPPDA', 'HOPPDA', 'HPTS/M', 'AM', 'AG', 'AGA', 'AxG', 'AxGA', 'ADC', 'AODC', 'APPDA', 'AOPPDA', 'APTS/M', 'Result', 'B365H', 'B365D', 'B365A', 'BbAv>2.5', 'BbAv<2.5']]\n",
    "df2 = df2[['Date', 'HxG', 'HM', 'HTeam', 'ATeam', 'HG', 'HGA', 'HxGA', 'HDC', 'HODC', 'HPPDA', 'HOPPDA', 'HPTS/M', 'AM', 'AG', 'AGA', 'AxG', 'AxGA', 'ADC', 'AODC', 'APPDA', 'AOPPDA', 'APTS/M', 'Result', 'B365H', 'B365D', 'B365A', 'BbAv>2.5', 'BbAv<2.5']]\n",
    "df3 = df3[['Date', 'HxG', 'HM', 'HTeam', 'ATeam', 'HG', 'HGA', 'HxGA', 'HDC', 'HODC', 'HPPDA', 'HOPPDA', 'HPTS/M', 'AM', 'AG', 'AGA', 'AxG', 'AxGA', 'ADC', 'AODC', 'APPDA', 'AOPPDA', 'APTS/M', 'Result', 'B365H', 'B365D', 'B365A', 'B365>2.5', 'B365<2.5']]\n",
    "df4 = df4[['Date', 'HxG', 'HM', 'HTeam', 'ATeam', 'HG', 'HGA', 'HxGA', 'HDC', 'HODC', 'HPPDA', 'HOPPDA', 'HPTS/M', 'AM', 'AG', 'AGA', 'AxG', 'AxGA', 'ADC', 'AODC', 'APPDA', 'AOPPDA', 'APTS/M', 'Result', 'B365H', 'B365D', 'B365A', 'B365>2.5', 'B365<2.5']]\n",
    "df5 = df5[['Date', 'HxG', 'HM', 'HTeam', 'ATeam', 'HG', 'HGA', 'HxGA', 'HDC', 'HODC', 'HPPDA', 'HOPPDA', 'HPTS/M', 'AM', 'AG', 'AGA', 'AxG', 'AxGA', 'ADC', 'AODC', 'APPDA', 'AOPPDA', 'APTS/M', 'Result', 'B365H', 'B365D', 'B365A', 'B365>2.5', 'B365<2.5']]\n",
    "df6 = df6[['Date', 'HxG', 'HM', 'HTeam', 'ATeam', 'HG', 'HGA', 'HxGA', 'HDC', 'HODC', 'HPPDA', 'HOPPDA', 'HPTS/M', 'AM', 'AG', 'AGA', 'AxG', 'AxGA', 'ADC', 'AODC', 'APPDA', 'AOPPDA', 'APTS/M', 'Result', 'B365H', 'B365D', 'B365A', 'B365>2.5', 'B365<2.5']]\n",
    "df6.rename(columns = {'B365<2.5':'BbAv<2.5'}, inplace = True)\n",
    "df6.rename(columns = {'B365>2.5':'BbAv>2.5'}, inplace = True)\n",
    "\n",
    "SeasonForm = pd.read_csv('~/Documents/EnglishPremierLeaguePredictor/GatheredData/Epl20xxMonthlyFiles/Epl2023Monthly.csv')\n",
    "    \n",
    "\n",
    "try:\n",
    "    SeasonForm = SeasonForm[['Date', 'HxG', 'HM', 'HTeam', 'ATeam', 'HG', 'HGA', 'HxGA', 'HDC', 'HODC', 'HPPDA', 'HOPPDA', 'HPTS/M', 'AM', 'AG', 'AGA', 'AxG', 'AxGA', 'ADC', 'AODC', 'APPDA', 'AOPPDA', 'APTS/M', 'Result', 'B365H', 'B365D', 'B365A', 'BbAv>2.5', 'BbAv<2.5']]\n",
    "except KeyError:\n",
    "    SeasonForm = SeasonForm[['Date', 'HxG', 'HM', 'HTeam', 'ATeam', 'HG', 'HGA', 'HxGA', 'HDC', 'HODC', 'HPPDA', 'HOPPDA', 'HPTS/M', 'AM', 'AG', 'AGA', 'AxG', 'AxGA', 'ADC', 'AODC', 'APPDA', 'AOPPDA', 'APTS/M', 'Result', 'B365H', 'B365D', 'B365A', 'B365>2.5', 'B365<2.5']]\n",
    "    SeasonForm.rename(columns = {'B365<2.5':'BbAv<2.5'}, inplace = True)\n",
    "    SeasonForm.rename(columns = {'B365>2.5':'BbAv>2.5'}, inplace = True)\n",
    "    \n",
    "SeasonForm = SeasonForm.iloc[38:]\n",
    "\n",
    "DF = pd.concat([df1, df2, df3, df4, df5, df6, SeasonForm], ignore_index=True)\n",
    "merged = pd.merge(subset, DF, on=['Date', 'HTeam', 'ATeam'], how='left')\n",
    "# resulting dataframe will have columns of B where the triplet of A['a', 'b', 'c'] exists in B\n",
    "DF = merged[DF.columns]\n",
    "DF['PTSDIF/M']=DF['HPTS/M']-DF['APTS/M']\n",
    "pred['PTSDIF/M']=pred['HPTS/M']-pred['APTS/M']\n",
    "DF = DF[['HxG', 'HM', 'HG', 'HGA', 'HxGA', 'HDC', 'HODC', 'HPPDA', 'HOPPDA', 'HPTS/M', 'AM', 'AG', 'AGA', 'AxG', 'AxGA', 'ADC', 'AODC', 'APPDA', 'AOPPDA', 'APTS/M', 'PTSDIF/M', 'Result']]\n",
    "pred = pred[[ 'HxG', 'HM', 'HG', 'HGA', 'HxGA', 'HDC', 'HODC', 'HPPDA', 'HOPPDA', 'HPTS/M', 'AM', 'AG', 'AGA', 'AxG', 'AxGA', 'ADC', 'AODC', 'APPDA', 'AOPPDA', 'APTS/M', 'PTSDIF/M', 'Result']]\n",
    "cut = DF.shape[0]\n",
    "DF = pd.concat([DF, pred], ignore_index=True)\n",
    "\n",
    "\n",
    "try:\n",
    "    DF['HxG'] = DF['HxG'].div(DF['HM']).fillna(0)\n",
    "    DF['HG'] = DF['HG'].div(DF['HM']).fillna(0)\n",
    "    DF['HGA'] = DF['HGA'].div(DF['HM']).fillna(0)\n",
    "    DF['HxGA'] = DF['HxGA'].div(DF['HM']).fillna(0)\n",
    "    DF['AxG'] = DF['AxG'].div(DF['AM']).fillna(0)\n",
    "    DF['AG'] = DF['AG'].div(DF['AM']).fillna(0)\n",
    "    DF['AxGA'] = DF['AxG'].div(DF['AM']).fillna(0)\n",
    "    DF['AGA'] = DF['AGA'].div(DF['AM']).fillna(0)\n",
    "    pred['HxG'] = pred['HxG'].div(pred['HM']).fillna(0)\n",
    "    pred['HG'] = pred['HG'].div(pred['HM']).fillna(0)\n",
    "    pred['HGA'] = pred['HGA'].div(pred['HM']).fillna(0)\n",
    "    pred['HxGA'] = pred['HxGA'].div(pred['HM']).fillna(0)\n",
    "    pred['AxG'] = pred['AxG'].div(pred['AM']).fillna(0)\n",
    "    pred['AG'] = pred['AG'].div(pred['AM']).fillna(0)\n",
    "    pred['AxGA'] = pred['AxG'].div(pred['AM']).fillna(0)\n",
    "    pred['AGA'] = pred['AGA'].div(pred['AM']).fillna(0)\n",
    "\n",
    "except ZeroDivisionError:\n",
    "    DF['HxG'] = 0\n",
    "    DF['HG'] = 0\n",
    "    DF['HGA'] = 0\n",
    "    DF['HxGA'] = 0\n",
    "    DF['AxG'] = 0\n",
    "    DF['AG'] = 0\n",
    "    DF['AxGA'] = 0\n",
    "    DF['AGA'] = 0\n",
    "\n",
    "HGoals = []\n",
    "AGoals = []\n",
    "for i, x in DF.iloc[:cut].iterrows():\n",
    "    a=x['Result'].split('\\'')\n",
    "    HGoals.append(a[1])\n",
    "    AGoals.append(a[3])\n",
    "\n",
    "DF=np.array(DF)\n",
    "\n",
    "DFnorm = preprocessing.normalize(DF[:, 0:21].astype('float64'), axis=0)\n",
    "pred = DFnorm[cut:]\n",
    "DF = DFnorm[:cut]\n",
    "\n",
    "x=DF\n",
    "\n",
    "y1=np.array(HGoals)\n",
    "y2=np.array(AGoals)\n",
    "\n",
    "reg1 = LinearRegression().fit(x, y1)\n",
    "reg2 = LinearRegression().fit(x, y2)\n",
    "\n",
    "LamdaHomeForm= reg1.predict(pred)\n",
    "LamdaAwayForm= reg2.predict(pred)"
   ]
  },
  {
   "cell_type": "code",
   "execution_count": null,
   "metadata": {},
   "outputs": [
    {
     "name": "stdout",
     "output_type": "stream",
     "text": [
      "[1.1384898581284222, 1.7372305845818101, 2.4675569780769746, 1.010412467182566, 1.6832043819749147, 1.7658929508246488, 1.4650099289689043, 1.127009420525236, 0.8891511665846704, 1.8153237270525535, 2.6923907916940673, 1.3926249300199105, 1.990501175480777, 2.2903789437703868, 1.3786675278818947, 2.242350826109697, 2.0361999808818476, 2.9353125389779144, 2.442025479360134, 0.7211292501538374]\n",
      "[2.0879623565082026, 1.2606941179873203, 0.9516479749315583, 2.294754284325921, 1.1633621355771666, 2.1468443884082484, 1.5273574666973204, 2.4772144545192023, 2.001644509400384, 1.311576253258524, 0.29567734284174196, 1.6227118889290417, 0.9455760917212901, 1.0911272477862821, 1.6466147291142477, 1.106090121304883, 1.145437478245778, 0.9984481532137401, 1.2467796280618515, 1.8338439405510913]\n"
     ]
    }
   ],
   "source": [
    "LamdaAwayFinal = [(LamdaAway[i] * 0.4 + LamdaAwayForm[i] * 0.6) for i in range(len(LamdaAway))]\n",
    "LamdaHomeFinal = [(LamdaHome[i] * 0.4 + LamdaHomeForm[i] * 0.6) for i in range(len(LamdaHome))]\n",
    "\n",
    "print(LamdaHomeFinal)\n",
    "print(LamdaAwayFinal)"
   ]
  },
  {
   "cell_type": "code",
   "execution_count": null,
   "metadata": {},
   "outputs": [
    {
     "data": {
      "text/html": [
       "<div>\n",
       "<style scoped>\n",
       "    .dataframe tbody tr th:only-of-type {\n",
       "        vertical-align: middle;\n",
       "    }\n",
       "\n",
       "    .dataframe tbody tr th {\n",
       "        vertical-align: top;\n",
       "    }\n",
       "\n",
       "    .dataframe thead th {\n",
       "        text-align: right;\n",
       "    }\n",
       "</style>\n",
       "<table border=\"1\" class=\"dataframe\">\n",
       "  <thead>\n",
       "    <tr style=\"text-align: right;\">\n",
       "      <th></th>\n",
       "      <th>HTeam</th>\n",
       "      <th>ATeam</th>\n",
       "      <th>P(Hwin)</th>\n",
       "      <th>P(Draw)</th>\n",
       "      <th>P(Awin)</th>\n",
       "      <th>P(Under)</th>\n",
       "      <th>P(Over)</th>\n",
       "      <th>P(GG)</th>\n",
       "      <th>P(NG)</th>\n",
       "    </tr>\n",
       "  </thead>\n",
       "  <tbody>\n",
       "    <tr>\n",
       "      <th>0</th>\n",
       "      <td>Wolverhampton Wanderers</td>\n",
       "      <td>Liverpool</td>\n",
       "      <td>0.197</td>\n",
       "      <td>0.193</td>\n",
       "      <td>0.610</td>\n",
       "      <td>0.313</td>\n",
       "      <td>0.687</td>\n",
       "      <td>0.641</td>\n",
       "      <td>0.359</td>\n",
       "    </tr>\n",
       "    <tr>\n",
       "      <th>1</th>\n",
       "      <td>Fulham</td>\n",
       "      <td>Luton</td>\n",
       "      <td>0.509</td>\n",
       "      <td>0.220</td>\n",
       "      <td>0.270</td>\n",
       "      <td>0.357</td>\n",
       "      <td>0.643</td>\n",
       "      <td>0.639</td>\n",
       "      <td>0.361</td>\n",
       "    </tr>\n",
       "    <tr>\n",
       "      <th>2</th>\n",
       "      <td>Tottenham</td>\n",
       "      <td>Sheffield United</td>\n",
       "      <td>0.763</td>\n",
       "      <td>0.145</td>\n",
       "      <td>0.092</td>\n",
       "      <td>0.321</td>\n",
       "      <td>0.679</td>\n",
       "      <td>0.525</td>\n",
       "      <td>0.475</td>\n",
       "    </tr>\n",
       "    <tr>\n",
       "      <th>3</th>\n",
       "      <td>West Ham</td>\n",
       "      <td>Manchester City</td>\n",
       "      <td>0.172</td>\n",
       "      <td>0.177</td>\n",
       "      <td>0.650</td>\n",
       "      <td>0.276</td>\n",
       "      <td>0.724</td>\n",
       "      <td>0.654</td>\n",
       "      <td>0.346</td>\n",
       "    </tr>\n",
       "    <tr>\n",
       "      <th>4</th>\n",
       "      <td>Aston Villa</td>\n",
       "      <td>Crystal Palace</td>\n",
       "      <td>0.472</td>\n",
       "      <td>0.235</td>\n",
       "      <td>0.293</td>\n",
       "      <td>0.410</td>\n",
       "      <td>0.590</td>\n",
       "      <td>0.604</td>\n",
       "      <td>0.396</td>\n",
       "    </tr>\n",
       "    <tr>\n",
       "      <th>5</th>\n",
       "      <td>Manchester United</td>\n",
       "      <td>Brighton</td>\n",
       "      <td>0.361</td>\n",
       "      <td>0.197</td>\n",
       "      <td>0.443</td>\n",
       "      <td>0.190</td>\n",
       "      <td>0.810</td>\n",
       "      <td>0.785</td>\n",
       "      <td>0.215</td>\n",
       "    </tr>\n",
       "    <tr>\n",
       "      <th>6</th>\n",
       "      <td>Newcastle United</td>\n",
       "      <td>Brentford</td>\n",
       "      <td>0.348</td>\n",
       "      <td>0.238</td>\n",
       "      <td>0.414</td>\n",
       "      <td>0.403</td>\n",
       "      <td>0.597</td>\n",
       "      <td>0.618</td>\n",
       "      <td>0.382</td>\n",
       "    </tr>\n",
       "    <tr>\n",
       "      <th>7</th>\n",
       "      <td>Bournemouth</td>\n",
       "      <td>Chelsea</td>\n",
       "      <td>0.170</td>\n",
       "      <td>0.175</td>\n",
       "      <td>0.655</td>\n",
       "      <td>0.265</td>\n",
       "      <td>0.735</td>\n",
       "      <td>0.662</td>\n",
       "      <td>0.338</td>\n",
       "    </tr>\n",
       "    <tr>\n",
       "      <th>8</th>\n",
       "      <td>Everton</td>\n",
       "      <td>Arsenal</td>\n",
       "      <td>0.167</td>\n",
       "      <td>0.201</td>\n",
       "      <td>0.632</td>\n",
       "      <td>0.401</td>\n",
       "      <td>0.599</td>\n",
       "      <td>0.552</td>\n",
       "      <td>0.448</td>\n",
       "    </tr>\n",
       "    <tr>\n",
       "      <th>9</th>\n",
       "      <td>Nottingham Forest</td>\n",
       "      <td>Burnley</td>\n",
       "      <td>0.564</td>\n",
       "      <td>0.210</td>\n",
       "      <td>0.226</td>\n",
       "      <td>0.352</td>\n",
       "      <td>0.648</td>\n",
       "      <td>0.626</td>\n",
       "      <td>0.374</td>\n",
       "    </tr>\n",
       "    <tr>\n",
       "      <th>10</th>\n",
       "      <td>Manchester City</td>\n",
       "      <td>Nottingham Forest</td>\n",
       "      <td>0.882</td>\n",
       "      <td>0.092</td>\n",
       "      <td>0.026</td>\n",
       "      <td>0.383</td>\n",
       "      <td>0.617</td>\n",
       "      <td>0.272</td>\n",
       "      <td>0.728</td>\n",
       "    </tr>\n",
       "    <tr>\n",
       "      <th>11</th>\n",
       "      <td>Luton</td>\n",
       "      <td>Wolverhampton Wanderers</td>\n",
       "      <td>0.369</td>\n",
       "      <td>0.227</td>\n",
       "      <td>0.404</td>\n",
       "      <td>0.343</td>\n",
       "      <td>0.657</td>\n",
       "      <td>0.665</td>\n",
       "      <td>0.335</td>\n",
       "    </tr>\n",
       "    <tr>\n",
       "      <th>12</th>\n",
       "      <td>Crystal Palace</td>\n",
       "      <td>Fulham</td>\n",
       "      <td>0.678</td>\n",
       "      <td>0.184</td>\n",
       "      <td>0.138</td>\n",
       "      <td>0.381</td>\n",
       "      <td>0.619</td>\n",
       "      <td>0.540</td>\n",
       "      <td>0.460</td>\n",
       "    </tr>\n",
       "    <tr>\n",
       "      <th>13</th>\n",
       "      <td>Brentford</td>\n",
       "      <td>Everton</td>\n",
       "      <td>0.684</td>\n",
       "      <td>0.173</td>\n",
       "      <td>0.143</td>\n",
       "      <td>0.315</td>\n",
       "      <td>0.685</td>\n",
       "      <td>0.597</td>\n",
       "      <td>0.403</td>\n",
       "    </tr>\n",
       "    <tr>\n",
       "      <th>14</th>\n",
       "      <td>Burnley</td>\n",
       "      <td>Manchester United</td>\n",
       "      <td>0.313</td>\n",
       "      <td>0.222</td>\n",
       "      <td>0.465</td>\n",
       "      <td>0.336</td>\n",
       "      <td>0.664</td>\n",
       "      <td>0.664</td>\n",
       "      <td>0.336</td>\n",
       "    </tr>\n",
       "    <tr>\n",
       "      <th>15</th>\n",
       "      <td>Chelsea</td>\n",
       "      <td>Aston Villa</td>\n",
       "      <td>0.610</td>\n",
       "      <td>0.194</td>\n",
       "      <td>0.196</td>\n",
       "      <td>0.314</td>\n",
       "      <td>0.686</td>\n",
       "      <td>0.640</td>\n",
       "      <td>0.360</td>\n",
       "    </tr>\n",
       "    <tr>\n",
       "      <th>16</th>\n",
       "      <td>Liverpool</td>\n",
       "      <td>West Ham</td>\n",
       "      <td>0.586</td>\n",
       "      <td>0.200</td>\n",
       "      <td>0.214</td>\n",
       "      <td>0.320</td>\n",
       "      <td>0.680</td>\n",
       "      <td>0.644</td>\n",
       "      <td>0.356</td>\n",
       "    </tr>\n",
       "    <tr>\n",
       "      <th>17</th>\n",
       "      <td>Brighton</td>\n",
       "      <td>Bournemouth</td>\n",
       "      <td>0.816</td>\n",
       "      <td>0.112</td>\n",
       "      <td>0.072</td>\n",
       "      <td>0.222</td>\n",
       "      <td>0.778</td>\n",
       "      <td>0.574</td>\n",
       "      <td>0.426</td>\n",
       "    </tr>\n",
       "    <tr>\n",
       "      <th>18</th>\n",
       "      <td>Arsenal</td>\n",
       "      <td>Tottenham</td>\n",
       "      <td>0.648</td>\n",
       "      <td>0.173</td>\n",
       "      <td>0.179</td>\n",
       "      <td>0.238</td>\n",
       "      <td>0.762</td>\n",
       "      <td>0.691</td>\n",
       "      <td>0.309</td>\n",
       "    </tr>\n",
       "    <tr>\n",
       "      <th>19</th>\n",
       "      <td>Sheffield United</td>\n",
       "      <td>Newcastle United</td>\n",
       "      <td>0.093</td>\n",
       "      <td>0.207</td>\n",
       "      <td>0.700</td>\n",
       "      <td>0.585</td>\n",
       "      <td>0.415</td>\n",
       "      <td>0.330</td>\n",
       "      <td>0.670</td>\n",
       "    </tr>\n",
       "  </tbody>\n",
       "</table>\n",
       "</div>"
      ],
      "text/plain": [
       "                      HTeam                    ATeam  P(Hwin)  P(Draw)  \\\n",
       "0   Wolverhampton Wanderers                Liverpool    0.197    0.193   \n",
       "1                    Fulham                    Luton    0.509    0.220   \n",
       "2                 Tottenham         Sheffield United    0.763    0.145   \n",
       "3                  West Ham          Manchester City    0.172    0.177   \n",
       "4               Aston Villa           Crystal Palace    0.472    0.235   \n",
       "5         Manchester United                 Brighton    0.361    0.197   \n",
       "6          Newcastle United                Brentford    0.348    0.238   \n",
       "7               Bournemouth                  Chelsea    0.170    0.175   \n",
       "8                   Everton                  Arsenal    0.167    0.201   \n",
       "9         Nottingham Forest                  Burnley    0.564    0.210   \n",
       "10          Manchester City        Nottingham Forest    0.882    0.092   \n",
       "11                    Luton  Wolverhampton Wanderers    0.369    0.227   \n",
       "12           Crystal Palace                   Fulham    0.678    0.184   \n",
       "13                Brentford                  Everton    0.684    0.173   \n",
       "14                  Burnley        Manchester United    0.313    0.222   \n",
       "15                  Chelsea              Aston Villa    0.610    0.194   \n",
       "16                Liverpool                 West Ham    0.586    0.200   \n",
       "17                 Brighton              Bournemouth    0.816    0.112   \n",
       "18                  Arsenal                Tottenham    0.648    0.173   \n",
       "19         Sheffield United         Newcastle United    0.093    0.207   \n",
       "\n",
       "    P(Awin)  P(Under)  P(Over)  P(GG)  P(NG)  \n",
       "0     0.610     0.313    0.687  0.641  0.359  \n",
       "1     0.270     0.357    0.643  0.639  0.361  \n",
       "2     0.092     0.321    0.679  0.525  0.475  \n",
       "3     0.650     0.276    0.724  0.654  0.346  \n",
       "4     0.293     0.410    0.590  0.604  0.396  \n",
       "5     0.443     0.190    0.810  0.785  0.215  \n",
       "6     0.414     0.403    0.597  0.618  0.382  \n",
       "7     0.655     0.265    0.735  0.662  0.338  \n",
       "8     0.632     0.401    0.599  0.552  0.448  \n",
       "9     0.226     0.352    0.648  0.626  0.374  \n",
       "10    0.026     0.383    0.617  0.272  0.728  \n",
       "11    0.404     0.343    0.657  0.665  0.335  \n",
       "12    0.138     0.381    0.619  0.540  0.460  \n",
       "13    0.143     0.315    0.685  0.597  0.403  \n",
       "14    0.465     0.336    0.664  0.664  0.336  \n",
       "15    0.196     0.314    0.686  0.640  0.360  \n",
       "16    0.214     0.320    0.680  0.644  0.356  \n",
       "17    0.072     0.222    0.778  0.574  0.426  \n",
       "18    0.179     0.238    0.762  0.691  0.309  \n",
       "19    0.700     0.585    0.415  0.330  0.670  "
      ]
     },
     "metadata": {},
     "output_type": "display_data"
    },
    {
     "name": "stderr",
     "output_type": "stream",
     "text": [
      "/tmp/ipykernel_52977/3179232182.py:73: SettingWithCopyWarning:\n",
      "\n",
      "\n",
      "A value is trying to be set on a copy of a slice from a DataFrame\n",
      "\n",
      "See the caveats in the documentation: https://pandas.pydata.org/pandas-docs/stable/user_guide/indexing.html#returning-a-view-versus-a-copy\n",
      "\n",
      "/tmp/ipykernel_52977/3179232182.py:77: SettingWithCopyWarning:\n",
      "\n",
      "\n",
      "A value is trying to be set on a copy of a slice from a DataFrame\n",
      "\n",
      "See the caveats in the documentation: https://pandas.pydata.org/pandas-docs/stable/user_guide/indexing.html#returning-a-view-versus-a-copy\n",
      "\n",
      "/tmp/ipykernel_52977/3179232182.py:78: SettingWithCopyWarning:\n",
      "\n",
      "\n",
      "A value is trying to be set on a copy of a slice from a DataFrame\n",
      "\n",
      "See the caveats in the documentation: https://pandas.pydata.org/pandas-docs/stable/user_guide/indexing.html#returning-a-view-versus-a-copy\n",
      "\n",
      "/tmp/ipykernel_52977/3179232182.py:79: SettingWithCopyWarning:\n",
      "\n",
      "\n",
      "A value is trying to be set on a copy of a slice from a DataFrame\n",
      "\n",
      "See the caveats in the documentation: https://pandas.pydata.org/pandas-docs/stable/user_guide/indexing.html#returning-a-view-versus-a-copy\n",
      "\n",
      "/tmp/ipykernel_52977/3179232182.py:80: SettingWithCopyWarning:\n",
      "\n",
      "\n",
      "A value is trying to be set on a copy of a slice from a DataFrame\n",
      "\n",
      "See the caveats in the documentation: https://pandas.pydata.org/pandas-docs/stable/user_guide/indexing.html#returning-a-view-versus-a-copy\n",
      "\n",
      "/tmp/ipykernel_52977/3179232182.py:81: SettingWithCopyWarning:\n",
      "\n",
      "\n",
      "A value is trying to be set on a copy of a slice from a DataFrame\n",
      "\n",
      "See the caveats in the documentation: https://pandas.pydata.org/pandas-docs/stable/user_guide/indexing.html#returning-a-view-versus-a-copy\n",
      "\n",
      "/tmp/ipykernel_52977/3179232182.py:82: SettingWithCopyWarning:\n",
      "\n",
      "\n",
      "A value is trying to be set on a copy of a slice from a DataFrame\n",
      "\n",
      "See the caveats in the documentation: https://pandas.pydata.org/pandas-docs/stable/user_guide/indexing.html#returning-a-view-versus-a-copy\n",
      "\n",
      "/tmp/ipykernel_52977/3179232182.py:83: SettingWithCopyWarning:\n",
      "\n",
      "\n",
      "A value is trying to be set on a copy of a slice from a DataFrame\n",
      "\n",
      "See the caveats in the documentation: https://pandas.pydata.org/pandas-docs/stable/user_guide/indexing.html#returning-a-view-versus-a-copy\n",
      "\n"
     ]
    },
    {
     "data": {
      "text/html": [
       "<div>\n",
       "<style scoped>\n",
       "    .dataframe tbody tr th:only-of-type {\n",
       "        vertical-align: middle;\n",
       "    }\n",
       "\n",
       "    .dataframe tbody tr th {\n",
       "        vertical-align: top;\n",
       "    }\n",
       "\n",
       "    .dataframe thead th {\n",
       "        text-align: right;\n",
       "    }\n",
       "</style>\n",
       "<table border=\"1\" class=\"dataframe\">\n",
       "  <thead>\n",
       "    <tr style=\"text-align: right;\">\n",
       "      <th></th>\n",
       "      <th>P(Hwin)</th>\n",
       "      <th>P(Draw)</th>\n",
       "      <th>P(Awin)</th>\n",
       "      <th>P(Under)</th>\n",
       "      <th>P(Over)</th>\n",
       "      <th>P(GG)</th>\n",
       "      <th>P(NG)</th>\n",
       "      <th>Type</th>\n",
       "      <th>Match</th>\n",
       "    </tr>\n",
       "  </thead>\n",
       "  <tbody>\n",
       "    <tr>\n",
       "      <th>0</th>\n",
       "      <td>0.197</td>\n",
       "      <td>0.193</td>\n",
       "      <td>0.610</td>\n",
       "      <td>0.313</td>\n",
       "      <td>0.687</td>\n",
       "      <td>0.641</td>\n",
       "      <td>0.359</td>\n",
       "      <td>Predicted</td>\n",
       "      <td>Wolverhampton Wanderers-Liverpool</td>\n",
       "    </tr>\n",
       "    <tr>\n",
       "      <th>1</th>\n",
       "      <td>0.509</td>\n",
       "      <td>0.220</td>\n",
       "      <td>0.270</td>\n",
       "      <td>0.357</td>\n",
       "      <td>0.643</td>\n",
       "      <td>0.639</td>\n",
       "      <td>0.361</td>\n",
       "      <td>Predicted</td>\n",
       "      <td>Fulham-Luton</td>\n",
       "    </tr>\n",
       "    <tr>\n",
       "      <th>2</th>\n",
       "      <td>0.763</td>\n",
       "      <td>0.145</td>\n",
       "      <td>0.092</td>\n",
       "      <td>0.321</td>\n",
       "      <td>0.679</td>\n",
       "      <td>0.525</td>\n",
       "      <td>0.475</td>\n",
       "      <td>Predicted</td>\n",
       "      <td>Tottenham-Sheffield United</td>\n",
       "    </tr>\n",
       "    <tr>\n",
       "      <th>3</th>\n",
       "      <td>0.172</td>\n",
       "      <td>0.177</td>\n",
       "      <td>0.650</td>\n",
       "      <td>0.276</td>\n",
       "      <td>0.724</td>\n",
       "      <td>0.654</td>\n",
       "      <td>0.346</td>\n",
       "      <td>Predicted</td>\n",
       "      <td>West Ham-Manchester City</td>\n",
       "    </tr>\n",
       "    <tr>\n",
       "      <th>4</th>\n",
       "      <td>0.472</td>\n",
       "      <td>0.235</td>\n",
       "      <td>0.293</td>\n",
       "      <td>0.410</td>\n",
       "      <td>0.590</td>\n",
       "      <td>0.604</td>\n",
       "      <td>0.396</td>\n",
       "      <td>Predicted</td>\n",
       "      <td>Aston Villa-Crystal Palace</td>\n",
       "    </tr>\n",
       "    <tr>\n",
       "      <th>5</th>\n",
       "      <td>0.361</td>\n",
       "      <td>0.197</td>\n",
       "      <td>0.443</td>\n",
       "      <td>0.190</td>\n",
       "      <td>0.810</td>\n",
       "      <td>0.785</td>\n",
       "      <td>0.215</td>\n",
       "      <td>Predicted</td>\n",
       "      <td>Manchester United-Brighton</td>\n",
       "    </tr>\n",
       "    <tr>\n",
       "      <th>6</th>\n",
       "      <td>0.348</td>\n",
       "      <td>0.238</td>\n",
       "      <td>0.414</td>\n",
       "      <td>0.403</td>\n",
       "      <td>0.597</td>\n",
       "      <td>0.618</td>\n",
       "      <td>0.382</td>\n",
       "      <td>Predicted</td>\n",
       "      <td>Newcastle United-Brentford</td>\n",
       "    </tr>\n",
       "    <tr>\n",
       "      <th>7</th>\n",
       "      <td>0.170</td>\n",
       "      <td>0.175</td>\n",
       "      <td>0.655</td>\n",
       "      <td>0.265</td>\n",
       "      <td>0.735</td>\n",
       "      <td>0.662</td>\n",
       "      <td>0.338</td>\n",
       "      <td>Predicted</td>\n",
       "      <td>Bournemouth-Chelsea</td>\n",
       "    </tr>\n",
       "    <tr>\n",
       "      <th>8</th>\n",
       "      <td>0.167</td>\n",
       "      <td>0.201</td>\n",
       "      <td>0.632</td>\n",
       "      <td>0.401</td>\n",
       "      <td>0.599</td>\n",
       "      <td>0.552</td>\n",
       "      <td>0.448</td>\n",
       "      <td>Predicted</td>\n",
       "      <td>Everton-Arsenal</td>\n",
       "    </tr>\n",
       "    <tr>\n",
       "      <th>9</th>\n",
       "      <td>0.564</td>\n",
       "      <td>0.210</td>\n",
       "      <td>0.226</td>\n",
       "      <td>0.352</td>\n",
       "      <td>0.648</td>\n",
       "      <td>0.626</td>\n",
       "      <td>0.374</td>\n",
       "      <td>Predicted</td>\n",
       "      <td>Nottingham Forest-Burnley</td>\n",
       "    </tr>\n",
       "    <tr>\n",
       "      <th>10</th>\n",
       "      <td>0.882</td>\n",
       "      <td>0.092</td>\n",
       "      <td>0.026</td>\n",
       "      <td>0.383</td>\n",
       "      <td>0.617</td>\n",
       "      <td>0.272</td>\n",
       "      <td>0.728</td>\n",
       "      <td>Predicted</td>\n",
       "      <td>Manchester City-Nottingham Forest</td>\n",
       "    </tr>\n",
       "    <tr>\n",
       "      <th>11</th>\n",
       "      <td>0.369</td>\n",
       "      <td>0.227</td>\n",
       "      <td>0.404</td>\n",
       "      <td>0.343</td>\n",
       "      <td>0.657</td>\n",
       "      <td>0.665</td>\n",
       "      <td>0.335</td>\n",
       "      <td>Predicted</td>\n",
       "      <td>Luton-Wolverhampton Wanderers</td>\n",
       "    </tr>\n",
       "    <tr>\n",
       "      <th>12</th>\n",
       "      <td>0.678</td>\n",
       "      <td>0.184</td>\n",
       "      <td>0.138</td>\n",
       "      <td>0.381</td>\n",
       "      <td>0.619</td>\n",
       "      <td>0.540</td>\n",
       "      <td>0.460</td>\n",
       "      <td>Predicted</td>\n",
       "      <td>Crystal Palace-Fulham</td>\n",
       "    </tr>\n",
       "    <tr>\n",
       "      <th>13</th>\n",
       "      <td>0.684</td>\n",
       "      <td>0.173</td>\n",
       "      <td>0.143</td>\n",
       "      <td>0.315</td>\n",
       "      <td>0.685</td>\n",
       "      <td>0.597</td>\n",
       "      <td>0.403</td>\n",
       "      <td>Predicted</td>\n",
       "      <td>Brentford-Everton</td>\n",
       "    </tr>\n",
       "    <tr>\n",
       "      <th>14</th>\n",
       "      <td>0.313</td>\n",
       "      <td>0.222</td>\n",
       "      <td>0.465</td>\n",
       "      <td>0.336</td>\n",
       "      <td>0.664</td>\n",
       "      <td>0.664</td>\n",
       "      <td>0.336</td>\n",
       "      <td>Predicted</td>\n",
       "      <td>Burnley-Manchester United</td>\n",
       "    </tr>\n",
       "    <tr>\n",
       "      <th>15</th>\n",
       "      <td>0.610</td>\n",
       "      <td>0.194</td>\n",
       "      <td>0.196</td>\n",
       "      <td>0.314</td>\n",
       "      <td>0.686</td>\n",
       "      <td>0.640</td>\n",
       "      <td>0.360</td>\n",
       "      <td>Predicted</td>\n",
       "      <td>Chelsea-Aston Villa</td>\n",
       "    </tr>\n",
       "    <tr>\n",
       "      <th>16</th>\n",
       "      <td>0.586</td>\n",
       "      <td>0.200</td>\n",
       "      <td>0.214</td>\n",
       "      <td>0.320</td>\n",
       "      <td>0.680</td>\n",
       "      <td>0.644</td>\n",
       "      <td>0.356</td>\n",
       "      <td>Predicted</td>\n",
       "      <td>Liverpool-West Ham</td>\n",
       "    </tr>\n",
       "    <tr>\n",
       "      <th>17</th>\n",
       "      <td>0.816</td>\n",
       "      <td>0.112</td>\n",
       "      <td>0.072</td>\n",
       "      <td>0.222</td>\n",
       "      <td>0.778</td>\n",
       "      <td>0.574</td>\n",
       "      <td>0.426</td>\n",
       "      <td>Predicted</td>\n",
       "      <td>Brighton-Bournemouth</td>\n",
       "    </tr>\n",
       "    <tr>\n",
       "      <th>18</th>\n",
       "      <td>0.648</td>\n",
       "      <td>0.173</td>\n",
       "      <td>0.179</td>\n",
       "      <td>0.238</td>\n",
       "      <td>0.762</td>\n",
       "      <td>0.691</td>\n",
       "      <td>0.309</td>\n",
       "      <td>Predicted</td>\n",
       "      <td>Arsenal-Tottenham</td>\n",
       "    </tr>\n",
       "    <tr>\n",
       "      <th>19</th>\n",
       "      <td>0.093</td>\n",
       "      <td>0.207</td>\n",
       "      <td>0.700</td>\n",
       "      <td>0.585</td>\n",
       "      <td>0.415</td>\n",
       "      <td>0.330</td>\n",
       "      <td>0.670</td>\n",
       "      <td>Predicted</td>\n",
       "      <td>Sheffield United-Newcastle United</td>\n",
       "    </tr>\n",
       "    <tr>\n",
       "      <th>20</th>\n",
       "      <td>0.152</td>\n",
       "      <td>0.204</td>\n",
       "      <td>0.694</td>\n",
       "      <td>0.588</td>\n",
       "      <td>0.459</td>\n",
       "      <td>0.606</td>\n",
       "      <td>0.465</td>\n",
       "      <td>Bookmaker</td>\n",
       "      <td>Wolverhampton Wanderers-Liverpool</td>\n",
       "    </tr>\n",
       "    <tr>\n",
       "      <th>21</th>\n",
       "      <td>0.588</td>\n",
       "      <td>0.256</td>\n",
       "      <td>0.204</td>\n",
       "      <td>0.518</td>\n",
       "      <td>0.532</td>\n",
       "      <td>0.541</td>\n",
       "      <td>0.532</td>\n",
       "      <td>Bookmaker</td>\n",
       "      <td>Fulham-Luton</td>\n",
       "    </tr>\n",
       "    <tr>\n",
       "      <th>22</th>\n",
       "      <td>0.775</td>\n",
       "      <td>0.179</td>\n",
       "      <td>0.098</td>\n",
       "      <td>0.606</td>\n",
       "      <td>0.444</td>\n",
       "      <td>0.535</td>\n",
       "      <td>0.532</td>\n",
       "      <td>Bookmaker</td>\n",
       "      <td>Tottenham-Sheffield United</td>\n",
       "    </tr>\n",
       "    <tr>\n",
       "      <th>23</th>\n",
       "      <td>0.154</td>\n",
       "      <td>0.227</td>\n",
       "      <td>0.667</td>\n",
       "      <td>0.422</td>\n",
       "      <td>0.625</td>\n",
       "      <td>0.588</td>\n",
       "      <td>0.483</td>\n",
       "      <td>Bookmaker</td>\n",
       "      <td>West Ham-Manchester City</td>\n",
       "    </tr>\n",
       "    <tr>\n",
       "      <th>24</th>\n",
       "      <td>0.518</td>\n",
       "      <td>0.267</td>\n",
       "      <td>0.263</td>\n",
       "      <td>0.524</td>\n",
       "      <td>0.526</td>\n",
       "      <td>0.562</td>\n",
       "      <td>0.505</td>\n",
       "      <td>Bookmaker</td>\n",
       "      <td>Aston Villa-Crystal Palace</td>\n",
       "    </tr>\n",
       "    <tr>\n",
       "      <th>25</th>\n",
       "      <td>0.465</td>\n",
       "      <td>0.253</td>\n",
       "      <td>0.333</td>\n",
       "      <td>0.588</td>\n",
       "      <td>0.459</td>\n",
       "      <td>0.694</td>\n",
       "      <td>0.375</td>\n",
       "      <td>Bookmaker</td>\n",
       "      <td>Manchester United-Brighton</td>\n",
       "    </tr>\n",
       "    <tr>\n",
       "      <th>26</th>\n",
       "      <td>0.645</td>\n",
       "      <td>0.238</td>\n",
       "      <td>0.169</td>\n",
       "      <td>0.459</td>\n",
       "      <td>0.588</td>\n",
       "      <td>0.571</td>\n",
       "      <td>0.495</td>\n",
       "      <td>Bookmaker</td>\n",
       "      <td>Newcastle United-Brentford</td>\n",
       "    </tr>\n",
       "    <tr>\n",
       "      <th>27</th>\n",
       "      <td>0.235</td>\n",
       "      <td>0.241</td>\n",
       "      <td>0.571</td>\n",
       "      <td>0.435</td>\n",
       "      <td>0.617</td>\n",
       "      <td>0.617</td>\n",
       "      <td>0.455</td>\n",
       "      <td>Bookmaker</td>\n",
       "      <td>Bournemouth-Chelsea</td>\n",
       "    </tr>\n",
       "    <tr>\n",
       "      <th>28</th>\n",
       "      <td>0.179</td>\n",
       "      <td>0.225</td>\n",
       "      <td>0.645</td>\n",
       "      <td>0.441</td>\n",
       "      <td>0.606</td>\n",
       "      <td>0.581</td>\n",
       "      <td>0.488</td>\n",
       "      <td>Bookmaker</td>\n",
       "      <td>Everton-Arsenal</td>\n",
       "    </tr>\n",
       "    <tr>\n",
       "      <th>29</th>\n",
       "      <td>0.459</td>\n",
       "      <td>0.286</td>\n",
       "      <td>0.308</td>\n",
       "      <td>0.532</td>\n",
       "      <td>0.518</td>\n",
       "      <td>0.581</td>\n",
       "      <td>0.488</td>\n",
       "      <td>Bookmaker</td>\n",
       "      <td>Nottingham Forest-Burnley</td>\n",
       "    </tr>\n",
       "    <tr>\n",
       "      <th>30</th>\n",
       "      <td>0.847</td>\n",
       "      <td>0.143</td>\n",
       "      <td>0.059</td>\n",
       "      <td>0.556</td>\n",
       "      <td>0.495</td>\n",
       "      <td>0.488</td>\n",
       "      <td>0.581</td>\n",
       "      <td>Bookmaker</td>\n",
       "      <td>Manchester City-Nottingham Forest</td>\n",
       "    </tr>\n",
       "    <tr>\n",
       "      <th>31</th>\n",
       "      <td>0.299</td>\n",
       "      <td>0.290</td>\n",
       "      <td>0.465</td>\n",
       "      <td>0.532</td>\n",
       "      <td>0.518</td>\n",
       "      <td>0.571</td>\n",
       "      <td>0.495</td>\n",
       "      <td>Bookmaker</td>\n",
       "      <td>Luton-Wolverhampton Wanderers</td>\n",
       "    </tr>\n",
       "    <tr>\n",
       "      <th>32</th>\n",
       "      <td>0.518</td>\n",
       "      <td>0.282</td>\n",
       "      <td>0.250</td>\n",
       "      <td>0.556</td>\n",
       "      <td>0.495</td>\n",
       "      <td>0.546</td>\n",
       "      <td>0.526</td>\n",
       "      <td>Bookmaker</td>\n",
       "      <td>Crystal Palace-Fulham</td>\n",
       "    </tr>\n",
       "    <tr>\n",
       "      <th>33</th>\n",
       "      <td>0.549</td>\n",
       "      <td>0.270</td>\n",
       "      <td>0.230</td>\n",
       "      <td>0.524</td>\n",
       "      <td>0.526</td>\n",
       "      <td>0.556</td>\n",
       "      <td>0.513</td>\n",
       "      <td>Bookmaker</td>\n",
       "      <td>Brentford-Everton</td>\n",
       "    </tr>\n",
       "    <tr>\n",
       "      <th>34</th>\n",
       "      <td>0.204</td>\n",
       "      <td>0.244</td>\n",
       "      <td>0.606</td>\n",
       "      <td>0.444</td>\n",
       "      <td>0.606</td>\n",
       "      <td>0.588</td>\n",
       "      <td>0.483</td>\n",
       "      <td>Bookmaker</td>\n",
       "      <td>Burnley-Manchester United</td>\n",
       "    </tr>\n",
       "    <tr>\n",
       "      <th>35</th>\n",
       "      <td>0.549</td>\n",
       "      <td>0.270</td>\n",
       "      <td>0.230</td>\n",
       "      <td>0.459</td>\n",
       "      <td>0.588</td>\n",
       "      <td>0.617</td>\n",
       "      <td>0.450</td>\n",
       "      <td>Bookmaker</td>\n",
       "      <td>Chelsea-Aston Villa</td>\n",
       "    </tr>\n",
       "    <tr>\n",
       "      <th>36</th>\n",
       "      <td>0.680</td>\n",
       "      <td>0.204</td>\n",
       "      <td>0.169</td>\n",
       "      <td>0.581</td>\n",
       "      <td>0.472</td>\n",
       "      <td>0.625</td>\n",
       "      <td>0.441</td>\n",
       "      <td>Bookmaker</td>\n",
       "      <td>Liverpool-West Ham</td>\n",
       "    </tr>\n",
       "    <tr>\n",
       "      <th>37</th>\n",
       "      <td>0.704</td>\n",
       "      <td>0.192</td>\n",
       "      <td>0.152</td>\n",
       "      <td>0.556</td>\n",
       "      <td>0.495</td>\n",
       "      <td>0.625</td>\n",
       "      <td>0.444</td>\n",
       "      <td>Bookmaker</td>\n",
       "      <td>Brighton-Bournemouth</td>\n",
       "    </tr>\n",
       "    <tr>\n",
       "      <th>38</th>\n",
       "      <td>0.588</td>\n",
       "      <td>0.235</td>\n",
       "      <td>0.230</td>\n",
       "      <td>0.606</td>\n",
       "      <td>0.441</td>\n",
       "      <td>0.645</td>\n",
       "      <td>0.422</td>\n",
       "      <td>Bookmaker</td>\n",
       "      <td>Arsenal-Tottenham</td>\n",
       "    </tr>\n",
       "    <tr>\n",
       "      <th>39</th>\n",
       "      <td>0.145</td>\n",
       "      <td>0.215</td>\n",
       "      <td>0.690</td>\n",
       "      <td>0.435</td>\n",
       "      <td>0.617</td>\n",
       "      <td>0.562</td>\n",
       "      <td>0.505</td>\n",
       "      <td>Bookmaker</td>\n",
       "      <td>Sheffield United-Newcastle United</td>\n",
       "    </tr>\n",
       "  </tbody>\n",
       "</table>\n",
       "</div>"
      ],
      "text/plain": [
       "    P(Hwin)  P(Draw)  P(Awin)  P(Under)  P(Over)  P(GG)  P(NG)       Type  \\\n",
       "0     0.197    0.193    0.610     0.313    0.687  0.641  0.359  Predicted   \n",
       "1     0.509    0.220    0.270     0.357    0.643  0.639  0.361  Predicted   \n",
       "2     0.763    0.145    0.092     0.321    0.679  0.525  0.475  Predicted   \n",
       "3     0.172    0.177    0.650     0.276    0.724  0.654  0.346  Predicted   \n",
       "4     0.472    0.235    0.293     0.410    0.590  0.604  0.396  Predicted   \n",
       "5     0.361    0.197    0.443     0.190    0.810  0.785  0.215  Predicted   \n",
       "6     0.348    0.238    0.414     0.403    0.597  0.618  0.382  Predicted   \n",
       "7     0.170    0.175    0.655     0.265    0.735  0.662  0.338  Predicted   \n",
       "8     0.167    0.201    0.632     0.401    0.599  0.552  0.448  Predicted   \n",
       "9     0.564    0.210    0.226     0.352    0.648  0.626  0.374  Predicted   \n",
       "10    0.882    0.092    0.026     0.383    0.617  0.272  0.728  Predicted   \n",
       "11    0.369    0.227    0.404     0.343    0.657  0.665  0.335  Predicted   \n",
       "12    0.678    0.184    0.138     0.381    0.619  0.540  0.460  Predicted   \n",
       "13    0.684    0.173    0.143     0.315    0.685  0.597  0.403  Predicted   \n",
       "14    0.313    0.222    0.465     0.336    0.664  0.664  0.336  Predicted   \n",
       "15    0.610    0.194    0.196     0.314    0.686  0.640  0.360  Predicted   \n",
       "16    0.586    0.200    0.214     0.320    0.680  0.644  0.356  Predicted   \n",
       "17    0.816    0.112    0.072     0.222    0.778  0.574  0.426  Predicted   \n",
       "18    0.648    0.173    0.179     0.238    0.762  0.691  0.309  Predicted   \n",
       "19    0.093    0.207    0.700     0.585    0.415  0.330  0.670  Predicted   \n",
       "20    0.152    0.204    0.694     0.588    0.459  0.606  0.465  Bookmaker   \n",
       "21    0.588    0.256    0.204     0.518    0.532  0.541  0.532  Bookmaker   \n",
       "22    0.775    0.179    0.098     0.606    0.444  0.535  0.532  Bookmaker   \n",
       "23    0.154    0.227    0.667     0.422    0.625  0.588  0.483  Bookmaker   \n",
       "24    0.518    0.267    0.263     0.524    0.526  0.562  0.505  Bookmaker   \n",
       "25    0.465    0.253    0.333     0.588    0.459  0.694  0.375  Bookmaker   \n",
       "26    0.645    0.238    0.169     0.459    0.588  0.571  0.495  Bookmaker   \n",
       "27    0.235    0.241    0.571     0.435    0.617  0.617  0.455  Bookmaker   \n",
       "28    0.179    0.225    0.645     0.441    0.606  0.581  0.488  Bookmaker   \n",
       "29    0.459    0.286    0.308     0.532    0.518  0.581  0.488  Bookmaker   \n",
       "30    0.847    0.143    0.059     0.556    0.495  0.488  0.581  Bookmaker   \n",
       "31    0.299    0.290    0.465     0.532    0.518  0.571  0.495  Bookmaker   \n",
       "32    0.518    0.282    0.250     0.556    0.495  0.546  0.526  Bookmaker   \n",
       "33    0.549    0.270    0.230     0.524    0.526  0.556  0.513  Bookmaker   \n",
       "34    0.204    0.244    0.606     0.444    0.606  0.588  0.483  Bookmaker   \n",
       "35    0.549    0.270    0.230     0.459    0.588  0.617  0.450  Bookmaker   \n",
       "36    0.680    0.204    0.169     0.581    0.472  0.625  0.441  Bookmaker   \n",
       "37    0.704    0.192    0.152     0.556    0.495  0.625  0.444  Bookmaker   \n",
       "38    0.588    0.235    0.230     0.606    0.441  0.645  0.422  Bookmaker   \n",
       "39    0.145    0.215    0.690     0.435    0.617  0.562  0.505  Bookmaker   \n",
       "\n",
       "                                Match  \n",
       "0   Wolverhampton Wanderers-Liverpool  \n",
       "1                        Fulham-Luton  \n",
       "2          Tottenham-Sheffield United  \n",
       "3            West Ham-Manchester City  \n",
       "4          Aston Villa-Crystal Palace  \n",
       "5          Manchester United-Brighton  \n",
       "6          Newcastle United-Brentford  \n",
       "7                 Bournemouth-Chelsea  \n",
       "8                     Everton-Arsenal  \n",
       "9           Nottingham Forest-Burnley  \n",
       "10  Manchester City-Nottingham Forest  \n",
       "11      Luton-Wolverhampton Wanderers  \n",
       "12              Crystal Palace-Fulham  \n",
       "13                  Brentford-Everton  \n",
       "14          Burnley-Manchester United  \n",
       "15                Chelsea-Aston Villa  \n",
       "16                 Liverpool-West Ham  \n",
       "17               Brighton-Bournemouth  \n",
       "18                  Arsenal-Tottenham  \n",
       "19  Sheffield United-Newcastle United  \n",
       "20  Wolverhampton Wanderers-Liverpool  \n",
       "21                       Fulham-Luton  \n",
       "22         Tottenham-Sheffield United  \n",
       "23           West Ham-Manchester City  \n",
       "24         Aston Villa-Crystal Palace  \n",
       "25         Manchester United-Brighton  \n",
       "26         Newcastle United-Brentford  \n",
       "27                Bournemouth-Chelsea  \n",
       "28                    Everton-Arsenal  \n",
       "29          Nottingham Forest-Burnley  \n",
       "30  Manchester City-Nottingham Forest  \n",
       "31      Luton-Wolverhampton Wanderers  \n",
       "32              Crystal Palace-Fulham  \n",
       "33                  Brentford-Everton  \n",
       "34          Burnley-Manchester United  \n",
       "35                Chelsea-Aston Villa  \n",
       "36                 Liverpool-West Ham  \n",
       "37               Brighton-Bournemouth  \n",
       "38                  Arsenal-Tottenham  \n",
       "39  Sheffield United-Newcastle United  "
      ]
     },
     "metadata": {},
     "output_type": "display_data"
    }
   ],
   "source": [
    "k = range(12)\n",
    "PH = np.zeros((len(k), 1))\n",
    "PA = np.zeros((1, len(k)))\n",
    "PRED['P(Hwin)']= np.nan\n",
    "PRED['P(Awin)']= np.nan\n",
    "PRED['P(Draw)']= np.nan\n",
    "PRED['P(Over)']= np.nan\n",
    "PRED['P(Under)']= np.nan\n",
    "PRED['P(GG)']=np.nan\n",
    "PRED['P(NG)']=np.nan\n",
    "\n",
    "Pie_list = []\n",
    "for j, l in enumerate(LamdaHome):\n",
    "    for i in k:\n",
    "        PH[i, 0] = (math.exp(-l)*l**k[i]) /math.factorial(k[i])\n",
    "        PA[0, i] = (math.exp(-LamdaAway[j])*LamdaAway[j]**k[i]) /math.factorial(k[i])\n",
    "    Pscore = np.matmul(PH, PA) \n",
    "    df = pd.DataFrame(Pscore, columns = ['0','1','2', '3', '4', '5', '6', '7', '8', '9', '10', '11'])\n",
    "    PRED.loc[j,'P(Awin)'], PRED.loc[j,'P(Hwin)'], PRED.loc[j,'P(Draw)'], PRED.loc[j,'P(Over)'], PRED.loc[j,'P(Under)'], PRED.loc[j,'P(NG)'], PRED.loc[j,'P(GG)']  = sum_of_lower_upper(Pscore)\n",
    "    PRED['P(Over)'] = 1 - PRED['P(Under)']\n",
    "    df = df.iloc[0:5, 0:5]\n",
    "    pd.set_option('display.float_format', lambda x: '%.3f' % x)\n",
    "    \n",
    "    G = []\n",
    "    for i in range(0, 5):\n",
    "        for j in range(0, 5):\n",
    "            G.append(df.loc[i][j])\n",
    "\n",
    "            \n",
    "    Pie_Df = pd.DataFrame(G, columns = ['P(score)'])\n",
    "    Pie_Df['score']= ['0 - 0',\n",
    "                      '0 - 1',\n",
    "                      '0 - 2',\n",
    "                      '0 - 3',\n",
    "                      '0 - 4',\n",
    "                      '1 - 0',\n",
    "                      '1 - 1',\n",
    "                      '1 - 2',\n",
    "                      '1 - 3',\n",
    "                      '1 - 4',\n",
    "                      '2 - 0',\n",
    "                      '2 - 1',\n",
    "                      '2 - 2',\n",
    "                      '2 - 3',\n",
    "                      '2 - 4',\n",
    "                      '3 - 0',\n",
    "                      '3 - 1',\n",
    "                      '3 - 2',\n",
    "                      '3 - 3',\n",
    "                      '3 - 4',\n",
    "                      '4 - 0',\n",
    "                      '4 - 1',\n",
    "                      '4 - 2',\n",
    "                      '4 - 3',\n",
    "                      '4 - 4']\n",
    "    Pie_Df.loc[Pie_Df[\"P(score)\"] < 0.02, \"score\"] = 'Other'\n",
    "    Pie_Df = Pie_Df.sort_values(by=['P(score)'], ascending=False)\n",
    "    Pie_list.append(Pie_Df)\n",
    "    \n",
    "\n",
    "PRED = PRED[['HTeam', 'ATeam', 'P(Hwin)', 'P(Draw)', 'P(Awin)', 'P(Under)', 'P(Over)', 'P(GG)', 'P(NG)']]\n",
    "with pd.option_context('display.max_rows', None, 'display.max_columns', None):  # more options can be specified also\n",
    "    display(PRED)\n",
    "\n",
    "Final_Odds = pd.concat([PRED, Odds], axis=0)\n",
    "Final_Odds['Type'] = np.nan\n",
    "Final_Odds['Match'] = np.nan\n",
    "Final_Odds = Final_Odds.reset_index(drop = 'True')\n",
    "Final_Odds.loc[Final_Odds['B365H'].isnull(), 'Type'] = 'Predicted'\n",
    "Final_Odds.loc[Final_Odds['P(Hwin)'].isnull(), 'Type'] = 'Bookmaker'\n",
    "\n",
    "for i, x in enumerate(Final_Odds['Match']):\n",
    "    Final_Odds['Match'][i] = str(Final_Odds['HTeam'][i] + '-' + Final_Odds['ATeam'][i])\n",
    "\n",
    "li  = Final_Odds.index[Final_Odds['Type'] == 'Bookmaker'].tolist()\n",
    "for i in li:\n",
    "    Final_Odds['P(Hwin)'][i] = 1/Final_Odds.iloc[i]['B365H']\n",
    "    Final_Odds['P(Awin)'][i] = 1/Final_Odds.iloc[i]['B365A']\n",
    "    Final_Odds['P(Draw)'][i] = 1/Final_Odds.iloc[i]['B365D']\n",
    "    Final_Odds['P(Over)'][i] = 1/Final_Odds.iloc[i]['BbAv>2.5']\n",
    "    Final_Odds['P(Under)'][i] = 1/Final_Odds.iloc[i]['BbAv<2.5']\n",
    "    Final_Odds['P(GG)'][i] = 1/Final_Odds.iloc[i]['GG']\n",
    "    Final_Odds['P(NG)'][i] = 1/Final_Odds.iloc[i]['NG']\n",
    "\n",
    "Final_Odds = Final_Odds[['P(Hwin)', 'P(Draw)', 'P(Awin)', 'P(Under)', 'P(Over)', 'P(GG)', 'P(NG)', 'Type', 'Match']].copy()\n",
    "\n",
    "with pd.option_context('display.max_rows', None, 'display.max_columns', None):  # more options can be specified also\n",
    "    display(Final_Odds)\n",
    "    Final_Odds.to_html('UpcomingMatchesPrediction.html', index=False)\n",
    "    "
   ]
  },
  {
   "cell_type": "code",
   "execution_count": null,
   "metadata": {},
   "outputs": [
    {
     "data": {
      "application/vnd.plotly.v1+json": {
       "config": {
        "plotlyServerURL": "https://plot.ly"
       },
       "data": [
        {
         "marker": {
          "color": "rgb(141,211,199)"
         },
         "name": "Predicted Home Win",
         "type": "bar",
         "x": [
          "Wolverhampton Wanderers-Liverpool",
          "Fulham-Luton",
          "Tottenham-Sheffield United",
          "West Ham-Manchester City",
          "Aston Villa-Crystal Palace",
          "Manchester United-Brighton",
          "Newcastle United-Brentford",
          "Bournemouth-Chelsea",
          "Everton-Arsenal",
          "Nottingham Forest-Burnley",
          "Manchester City-Nottingham Forest",
          "Luton-Wolverhampton Wanderers",
          "Crystal Palace-Fulham",
          "Brentford-Everton",
          "Burnley-Manchester United",
          "Chelsea-Aston Villa",
          "Liverpool-West Ham",
          "Brighton-Bournemouth",
          "Arsenal-Tottenham",
          "Sheffield United-Newcastle United"
         ],
         "xaxis": "x",
         "y": [
          0.196649888686328,
          0.5091834054774802,
          0.7629045347663287,
          0.1720341404907799,
          0.4722956412891169,
          0.36071014996929823,
          0.3480923790539917,
          0.1700254382621314,
          0.16719773928089138,
          0.5640840862907296,
          0.881810623147889,
          0.3689811271587077,
          0.6782390265998941,
          0.6836206341992133,
          0.31303857852017875,
          0.6098575668555057,
          0.5863733142478856,
          0.8158822253605008,
          0.6477385164857934,
          0.09256697788580183
         ],
         "yaxis": "y"
        },
        {
         "marker": {
          "color": "rgb(82, 106, 131)"
         },
         "name": "Bookmaker Home Win",
         "type": "bar",
         "x": [
          "Wolverhampton Wanderers-Liverpool",
          "Fulham-Luton",
          "Tottenham-Sheffield United",
          "West Ham-Manchester City",
          "Aston Villa-Crystal Palace",
          "Manchester United-Brighton",
          "Newcastle United-Brentford",
          "Bournemouth-Chelsea",
          "Everton-Arsenal",
          "Nottingham Forest-Burnley",
          "Manchester City-Nottingham Forest",
          "Luton-Wolverhampton Wanderers",
          "Crystal Palace-Fulham",
          "Brentford-Everton",
          "Burnley-Manchester United",
          "Chelsea-Aston Villa",
          "Liverpool-West Ham",
          "Brighton-Bournemouth",
          "Arsenal-Tottenham",
          "Sheffield United-Newcastle United"
         ],
         "xaxis": "x",
         "y": [
          0.15151515151515152,
          0.5882352941176471,
          0.7751937984496123,
          0.15384615384615385,
          0.5181347150259068,
          0.46511627906976744,
          0.6451612903225806,
          0.23529411764705882,
          0.17857142857142858,
          0.4587155963302752,
          0.8474576271186441,
          0.29850746268656714,
          0.5181347150259068,
          0.5494505494505494,
          0.2040816326530612,
          0.5494505494505494,
          0.6802721088435374,
          0.7042253521126761,
          0.5882352941176471,
          0.14492753623188406
         ],
         "yaxis": "y"
        },
        {
         "marker": {
          "color": "rgb(141,211,199)"
         },
         "name": "Predicted Draw",
         "type": "bar",
         "x": [
          "Wolverhampton Wanderers-Liverpool",
          "Fulham-Luton",
          "Tottenham-Sheffield United",
          "West Ham-Manchester City",
          "Aston Villa-Crystal Palace",
          "Manchester United-Brighton",
          "Newcastle United-Brentford",
          "Bournemouth-Chelsea",
          "Everton-Arsenal",
          "Nottingham Forest-Burnley",
          "Manchester City-Nottingham Forest",
          "Luton-Wolverhampton Wanderers",
          "Crystal Palace-Fulham",
          "Brentford-Everton",
          "Burnley-Manchester United",
          "Chelsea-Aston Villa",
          "Liverpool-West Ham",
          "Brighton-Bournemouth",
          "Arsenal-Tottenham",
          "Sheffield United-Newcastle United"
         ],
         "xaxis": "x",
         "y": [
          0.19349656870313137,
          0.22042310289551298,
          0.14500956477310223,
          0.1774590840740556,
          0.23485714753408823,
          0.19652895015309302,
          0.23815293542698504,
          0.17459394590953894,
          0.2010110680736815,
          0.2098836376490318,
          0.09237149031956327,
          0.22692411213422972,
          0.18378130643090862,
          0.17305359449289404,
          0.2220760638847646,
          0.19365612938534246,
          0.200094751376145,
          0.11240059086712449,
          0.1727775133897985,
          0.20717866855392597
         ],
         "yaxis": "y"
        },
        {
         "marker": {
          "color": "rgb(82, 106, 131)"
         },
         "name": "Bookmaker Draw",
         "type": "bar",
         "x": [
          "Wolverhampton Wanderers-Liverpool",
          "Fulham-Luton",
          "Tottenham-Sheffield United",
          "West Ham-Manchester City",
          "Aston Villa-Crystal Palace",
          "Manchester United-Brighton",
          "Newcastle United-Brentford",
          "Bournemouth-Chelsea",
          "Everton-Arsenal",
          "Nottingham Forest-Burnley",
          "Manchester City-Nottingham Forest",
          "Luton-Wolverhampton Wanderers",
          "Crystal Palace-Fulham",
          "Brentford-Everton",
          "Burnley-Manchester United",
          "Chelsea-Aston Villa",
          "Liverpool-West Ham",
          "Brighton-Bournemouth",
          "Arsenal-Tottenham",
          "Sheffield United-Newcastle United"
         ],
         "xaxis": "x",
         "y": [
          0.2040816326530612,
          0.25641025641025644,
          0.17857142857142858,
          0.22727272727272727,
          0.26666666666666666,
          0.2531645569620253,
          0.23809523809523808,
          0.24096385542168672,
          0.2247191011235955,
          0.2857142857142857,
          0.14285714285714285,
          0.2898550724637681,
          0.28169014084507044,
          0.27027027027027023,
          0.24390243902439027,
          0.27027027027027023,
          0.2040816326530612,
          0.1923076923076923,
          0.23529411764705882,
          0.2150537634408602
         ],
         "yaxis": "y"
        },
        {
         "marker": {
          "color": "rgb(141,211,199)"
         },
         "name": "Predicted Away Win",
         "type": "bar",
         "x": [
          "Wolverhampton Wanderers-Liverpool",
          "Fulham-Luton",
          "Tottenham-Sheffield United",
          "West Ham-Manchester City",
          "Aston Villa-Crystal Palace",
          "Manchester United-Brighton",
          "Newcastle United-Brentford",
          "Bournemouth-Chelsea",
          "Everton-Arsenal",
          "Nottingham Forest-Burnley",
          "Manchester City-Nottingham Forest",
          "Luton-Wolverhampton Wanderers",
          "Crystal Palace-Fulham",
          "Brentford-Everton",
          "Burnley-Manchester United",
          "Chelsea-Aston Villa",
          "Liverpool-West Ham",
          "Brighton-Bournemouth",
          "Arsenal-Tottenham",
          "Sheffield United-Newcastle United"
         ],
         "xaxis": "x",
         "y": [
          0.6098480294333347,
          0.2703924496305611,
          0.09206238008852359,
          0.650493390348183,
          0.29284687419301003,
          0.4427536093522614,
          0.4137544748621572,
          0.655364496797447,
          0.6317888146006582,
          0.22603021257415368,
          0.025774743745197122,
          0.4040942639217494,
          0.1379747439421047,
          0.14331439420498016,
          0.46488450063279246,
          0.19648086399399353,
          0.21352801370567567,
          0.07158634297068192,
          0.17946253530565778,
          0.7002537664924688
         ],
         "yaxis": "y"
        },
        {
         "marker": {
          "color": "rgb(82, 106, 131)"
         },
         "name": "Bookmaker Away Win",
         "type": "bar",
         "x": [
          "Wolverhampton Wanderers-Liverpool",
          "Fulham-Luton",
          "Tottenham-Sheffield United",
          "West Ham-Manchester City",
          "Aston Villa-Crystal Palace",
          "Manchester United-Brighton",
          "Newcastle United-Brentford",
          "Bournemouth-Chelsea",
          "Everton-Arsenal",
          "Nottingham Forest-Burnley",
          "Manchester City-Nottingham Forest",
          "Luton-Wolverhampton Wanderers",
          "Crystal Palace-Fulham",
          "Brentford-Everton",
          "Burnley-Manchester United",
          "Chelsea-Aston Villa",
          "Liverpool-West Ham",
          "Brighton-Bournemouth",
          "Arsenal-Tottenham",
          "Sheffield United-Newcastle United"
         ],
         "xaxis": "x",
         "y": [
          0.6944444444444444,
          0.2040816326530612,
          0.0975609756097561,
          0.6666666666666666,
          0.2631578947368421,
          0.3333333333333333,
          0.1694915254237288,
          0.5714285714285714,
          0.6451612903225806,
          0.3076923076923077,
          0.058823529411764705,
          0.46511627906976744,
          0.25,
          0.2298850574712644,
          0.6060606060606061,
          0.2298850574712644,
          0.1694915254237288,
          0.15151515151515152,
          0.2298850574712644,
          0.6896551724137931
         ],
         "yaxis": "y"
        },
        {
         "marker": {
          "color": "rgb(141,211,199)"
         },
         "name": "Predicted Over",
         "type": "bar",
         "x": [
          "Wolverhampton Wanderers-Liverpool",
          "Fulham-Luton",
          "Tottenham-Sheffield United",
          "West Ham-Manchester City",
          "Aston Villa-Crystal Palace",
          "Manchester United-Brighton",
          "Newcastle United-Brentford",
          "Bournemouth-Chelsea",
          "Everton-Arsenal",
          "Nottingham Forest-Burnley",
          "Manchester City-Nottingham Forest",
          "Luton-Wolverhampton Wanderers",
          "Crystal Palace-Fulham",
          "Brentford-Everton",
          "Burnley-Manchester United",
          "Chelsea-Aston Villa",
          "Liverpool-West Ham",
          "Brighton-Bournemouth",
          "Arsenal-Tottenham",
          "Sheffield United-Newcastle United"
         ],
         "xaxis": "x2",
         "y": [
          0.6870462528385135,
          0.6429019192990313,
          0.6787732797689988,
          0.7244663359095012,
          0.5899908569309225,
          0.8102250041979004,
          0.5970364818465567,
          0.7351931728835908,
          0.5989979370847419,
          0.6481076902876646,
          0.6165542964710677,
          0.6566761757451127,
          0.6185772020640407,
          0.6847583035784464,
          0.6635603075217149,
          0.6859773758418646,
          0.6796126328527385,
          0.7784652738375789,
          0.7623406972911633,
          0.4146746773061383
         ],
         "yaxis": "y2"
        },
        {
         "marker": {
          "color": "rgb(82, 106, 131)"
         },
         "name": "Bookmaker Over",
         "type": "bar",
         "x": [
          "Wolverhampton Wanderers-Liverpool",
          "Fulham-Luton",
          "Tottenham-Sheffield United",
          "West Ham-Manchester City",
          "Aston Villa-Crystal Palace",
          "Manchester United-Brighton",
          "Newcastle United-Brentford",
          "Bournemouth-Chelsea",
          "Everton-Arsenal",
          "Nottingham Forest-Burnley",
          "Manchester City-Nottingham Forest",
          "Luton-Wolverhampton Wanderers",
          "Crystal Palace-Fulham",
          "Brentford-Everton",
          "Burnley-Manchester United",
          "Chelsea-Aston Villa",
          "Liverpool-West Ham",
          "Brighton-Bournemouth",
          "Arsenal-Tottenham",
          "Sheffield United-Newcastle United"
         ],
         "xaxis": "x2",
         "y": [
          0.4587155963302752,
          0.5319148936170213,
          0.4444444444444444,
          0.625,
          0.5263157894736842,
          0.4587155963302752,
          0.5882352941176471,
          0.6172839506172839,
          0.6060606060606061,
          0.5181347150259068,
          0.49504950495049505,
          0.5181347150259068,
          0.49504950495049505,
          0.5263157894736842,
          0.6060606060606061,
          0.5882352941176471,
          0.4716981132075471,
          0.49504950495049505,
          0.44052863436123346,
          0.6172839506172839
         ],
         "yaxis": "y2"
        },
        {
         "marker": {
          "color": "rgb(141,211,199)"
         },
         "name": "Predicted Under",
         "type": "bar",
         "x": [
          "Wolverhampton Wanderers-Liverpool",
          "Fulham-Luton",
          "Tottenham-Sheffield United",
          "West Ham-Manchester City",
          "Aston Villa-Crystal Palace",
          "Manchester United-Brighton",
          "Newcastle United-Brentford",
          "Bournemouth-Chelsea",
          "Everton-Arsenal",
          "Nottingham Forest-Burnley",
          "Manchester City-Nottingham Forest",
          "Luton-Wolverhampton Wanderers",
          "Crystal Palace-Fulham",
          "Brentford-Everton",
          "Burnley-Manchester United",
          "Chelsea-Aston Villa",
          "Liverpool-West Ham",
          "Brighton-Bournemouth",
          "Arsenal-Tottenham",
          "Sheffield United-Newcastle United"
         ],
         "xaxis": "x2",
         "y": [
          0.31295374716148644,
          0.35709808070096866,
          0.3212267202310012,
          0.2755336640904989,
          0.4100091430690775,
          0.18977499580209956,
          0.40296351815344333,
          0.2648068271164093,
          0.4010020629152581,
          0.3518923097123354,
          0.38344570352893226,
          0.34332382425488733,
          0.38142279793595935,
          0.3152416964215536,
          0.3364396924782851,
          0.31402262415813537,
          0.3203873671472614,
          0.2215347261624211,
          0.23765930270883673,
          0.5853253226938617
         ],
         "yaxis": "y2"
        },
        {
         "marker": {
          "color": "rgb(82, 106, 131)"
         },
         "name": "Bookmaker Under",
         "type": "bar",
         "x": [
          "Wolverhampton Wanderers-Liverpool",
          "Fulham-Luton",
          "Tottenham-Sheffield United",
          "West Ham-Manchester City",
          "Aston Villa-Crystal Palace",
          "Manchester United-Brighton",
          "Newcastle United-Brentford",
          "Bournemouth-Chelsea",
          "Everton-Arsenal",
          "Nottingham Forest-Burnley",
          "Manchester City-Nottingham Forest",
          "Luton-Wolverhampton Wanderers",
          "Crystal Palace-Fulham",
          "Brentford-Everton",
          "Burnley-Manchester United",
          "Chelsea-Aston Villa",
          "Liverpool-West Ham",
          "Brighton-Bournemouth",
          "Arsenal-Tottenham",
          "Sheffield United-Newcastle United"
         ],
         "xaxis": "x2",
         "y": [
          0.5882352941176471,
          0.5181347150259068,
          0.6060606060606061,
          0.42194092827004215,
          0.5235602094240838,
          0.5882352941176471,
          0.4587155963302752,
          0.4347826086956522,
          0.44052863436123346,
          0.5319148936170213,
          0.5555555555555556,
          0.5319148936170213,
          0.5555555555555556,
          0.5235602094240838,
          0.4444444444444444,
          0.4587155963302752,
          0.5813953488372093,
          0.5555555555555556,
          0.6060606060606061,
          0.4347826086956522
         ],
         "yaxis": "y2"
        }
       ],
       "layout": {
        "height": 1000,
        "template": {
         "data": {
          "bar": [
           {
            "error_x": {
             "color": "#2a3f5f"
            },
            "error_y": {
             "color": "#2a3f5f"
            },
            "marker": {
             "line": {
              "color": "#E5ECF6",
              "width": 0.5
             },
             "pattern": {
              "fillmode": "overlay",
              "size": 10,
              "solidity": 0.2
             }
            },
            "type": "bar"
           }
          ],
          "barpolar": [
           {
            "marker": {
             "line": {
              "color": "#E5ECF6",
              "width": 0.5
             },
             "pattern": {
              "fillmode": "overlay",
              "size": 10,
              "solidity": 0.2
             }
            },
            "type": "barpolar"
           }
          ],
          "carpet": [
           {
            "aaxis": {
             "endlinecolor": "#2a3f5f",
             "gridcolor": "white",
             "linecolor": "white",
             "minorgridcolor": "white",
             "startlinecolor": "#2a3f5f"
            },
            "baxis": {
             "endlinecolor": "#2a3f5f",
             "gridcolor": "white",
             "linecolor": "white",
             "minorgridcolor": "white",
             "startlinecolor": "#2a3f5f"
            },
            "type": "carpet"
           }
          ],
          "choropleth": [
           {
            "colorbar": {
             "outlinewidth": 0,
             "ticks": ""
            },
            "type": "choropleth"
           }
          ],
          "contour": [
           {
            "colorbar": {
             "outlinewidth": 0,
             "ticks": ""
            },
            "colorscale": [
             [
              0,
              "#0d0887"
             ],
             [
              0.1111111111111111,
              "#46039f"
             ],
             [
              0.2222222222222222,
              "#7201a8"
             ],
             [
              0.3333333333333333,
              "#9c179e"
             ],
             [
              0.4444444444444444,
              "#bd3786"
             ],
             [
              0.5555555555555556,
              "#d8576b"
             ],
             [
              0.6666666666666666,
              "#ed7953"
             ],
             [
              0.7777777777777778,
              "#fb9f3a"
             ],
             [
              0.8888888888888888,
              "#fdca26"
             ],
             [
              1,
              "#f0f921"
             ]
            ],
            "type": "contour"
           }
          ],
          "contourcarpet": [
           {
            "colorbar": {
             "outlinewidth": 0,
             "ticks": ""
            },
            "type": "contourcarpet"
           }
          ],
          "heatmap": [
           {
            "colorbar": {
             "outlinewidth": 0,
             "ticks": ""
            },
            "colorscale": [
             [
              0,
              "#0d0887"
             ],
             [
              0.1111111111111111,
              "#46039f"
             ],
             [
              0.2222222222222222,
              "#7201a8"
             ],
             [
              0.3333333333333333,
              "#9c179e"
             ],
             [
              0.4444444444444444,
              "#bd3786"
             ],
             [
              0.5555555555555556,
              "#d8576b"
             ],
             [
              0.6666666666666666,
              "#ed7953"
             ],
             [
              0.7777777777777778,
              "#fb9f3a"
             ],
             [
              0.8888888888888888,
              "#fdca26"
             ],
             [
              1,
              "#f0f921"
             ]
            ],
            "type": "heatmap"
           }
          ],
          "heatmapgl": [
           {
            "colorbar": {
             "outlinewidth": 0,
             "ticks": ""
            },
            "colorscale": [
             [
              0,
              "#0d0887"
             ],
             [
              0.1111111111111111,
              "#46039f"
             ],
             [
              0.2222222222222222,
              "#7201a8"
             ],
             [
              0.3333333333333333,
              "#9c179e"
             ],
             [
              0.4444444444444444,
              "#bd3786"
             ],
             [
              0.5555555555555556,
              "#d8576b"
             ],
             [
              0.6666666666666666,
              "#ed7953"
             ],
             [
              0.7777777777777778,
              "#fb9f3a"
             ],
             [
              0.8888888888888888,
              "#fdca26"
             ],
             [
              1,
              "#f0f921"
             ]
            ],
            "type": "heatmapgl"
           }
          ],
          "histogram": [
           {
            "marker": {
             "pattern": {
              "fillmode": "overlay",
              "size": 10,
              "solidity": 0.2
             }
            },
            "type": "histogram"
           }
          ],
          "histogram2d": [
           {
            "colorbar": {
             "outlinewidth": 0,
             "ticks": ""
            },
            "colorscale": [
             [
              0,
              "#0d0887"
             ],
             [
              0.1111111111111111,
              "#46039f"
             ],
             [
              0.2222222222222222,
              "#7201a8"
             ],
             [
              0.3333333333333333,
              "#9c179e"
             ],
             [
              0.4444444444444444,
              "#bd3786"
             ],
             [
              0.5555555555555556,
              "#d8576b"
             ],
             [
              0.6666666666666666,
              "#ed7953"
             ],
             [
              0.7777777777777778,
              "#fb9f3a"
             ],
             [
              0.8888888888888888,
              "#fdca26"
             ],
             [
              1,
              "#f0f921"
             ]
            ],
            "type": "histogram2d"
           }
          ],
          "histogram2dcontour": [
           {
            "colorbar": {
             "outlinewidth": 0,
             "ticks": ""
            },
            "colorscale": [
             [
              0,
              "#0d0887"
             ],
             [
              0.1111111111111111,
              "#46039f"
             ],
             [
              0.2222222222222222,
              "#7201a8"
             ],
             [
              0.3333333333333333,
              "#9c179e"
             ],
             [
              0.4444444444444444,
              "#bd3786"
             ],
             [
              0.5555555555555556,
              "#d8576b"
             ],
             [
              0.6666666666666666,
              "#ed7953"
             ],
             [
              0.7777777777777778,
              "#fb9f3a"
             ],
             [
              0.8888888888888888,
              "#fdca26"
             ],
             [
              1,
              "#f0f921"
             ]
            ],
            "type": "histogram2dcontour"
           }
          ],
          "mesh3d": [
           {
            "colorbar": {
             "outlinewidth": 0,
             "ticks": ""
            },
            "type": "mesh3d"
           }
          ],
          "parcoords": [
           {
            "line": {
             "colorbar": {
              "outlinewidth": 0,
              "ticks": ""
             }
            },
            "type": "parcoords"
           }
          ],
          "pie": [
           {
            "automargin": true,
            "type": "pie"
           }
          ],
          "scatter": [
           {
            "fillpattern": {
             "fillmode": "overlay",
             "size": 10,
             "solidity": 0.2
            },
            "type": "scatter"
           }
          ],
          "scatter3d": [
           {
            "line": {
             "colorbar": {
              "outlinewidth": 0,
              "ticks": ""
             }
            },
            "marker": {
             "colorbar": {
              "outlinewidth": 0,
              "ticks": ""
             }
            },
            "type": "scatter3d"
           }
          ],
          "scattercarpet": [
           {
            "marker": {
             "colorbar": {
              "outlinewidth": 0,
              "ticks": ""
             }
            },
            "type": "scattercarpet"
           }
          ],
          "scattergeo": [
           {
            "marker": {
             "colorbar": {
              "outlinewidth": 0,
              "ticks": ""
             }
            },
            "type": "scattergeo"
           }
          ],
          "scattergl": [
           {
            "marker": {
             "colorbar": {
              "outlinewidth": 0,
              "ticks": ""
             }
            },
            "type": "scattergl"
           }
          ],
          "scattermapbox": [
           {
            "marker": {
             "colorbar": {
              "outlinewidth": 0,
              "ticks": ""
             }
            },
            "type": "scattermapbox"
           }
          ],
          "scatterpolar": [
           {
            "marker": {
             "colorbar": {
              "outlinewidth": 0,
              "ticks": ""
             }
            },
            "type": "scatterpolar"
           }
          ],
          "scatterpolargl": [
           {
            "marker": {
             "colorbar": {
              "outlinewidth": 0,
              "ticks": ""
             }
            },
            "type": "scatterpolargl"
           }
          ],
          "scatterternary": [
           {
            "marker": {
             "colorbar": {
              "outlinewidth": 0,
              "ticks": ""
             }
            },
            "type": "scatterternary"
           }
          ],
          "surface": [
           {
            "colorbar": {
             "outlinewidth": 0,
             "ticks": ""
            },
            "colorscale": [
             [
              0,
              "#0d0887"
             ],
             [
              0.1111111111111111,
              "#46039f"
             ],
             [
              0.2222222222222222,
              "#7201a8"
             ],
             [
              0.3333333333333333,
              "#9c179e"
             ],
             [
              0.4444444444444444,
              "#bd3786"
             ],
             [
              0.5555555555555556,
              "#d8576b"
             ],
             [
              0.6666666666666666,
              "#ed7953"
             ],
             [
              0.7777777777777778,
              "#fb9f3a"
             ],
             [
              0.8888888888888888,
              "#fdca26"
             ],
             [
              1,
              "#f0f921"
             ]
            ],
            "type": "surface"
           }
          ],
          "table": [
           {
            "cells": {
             "fill": {
              "color": "#EBF0F8"
             },
             "line": {
              "color": "white"
             }
            },
            "header": {
             "fill": {
              "color": "#C8D4E3"
             },
             "line": {
              "color": "white"
             }
            },
            "type": "table"
           }
          ]
         },
         "layout": {
          "annotationdefaults": {
           "arrowcolor": "#2a3f5f",
           "arrowhead": 0,
           "arrowwidth": 1
          },
          "autotypenumbers": "strict",
          "coloraxis": {
           "colorbar": {
            "outlinewidth": 0,
            "ticks": ""
           }
          },
          "colorscale": {
           "diverging": [
            [
             0,
             "#8e0152"
            ],
            [
             0.1,
             "#c51b7d"
            ],
            [
             0.2,
             "#de77ae"
            ],
            [
             0.3,
             "#f1b6da"
            ],
            [
             0.4,
             "#fde0ef"
            ],
            [
             0.5,
             "#f7f7f7"
            ],
            [
             0.6,
             "#e6f5d0"
            ],
            [
             0.7,
             "#b8e186"
            ],
            [
             0.8,
             "#7fbc41"
            ],
            [
             0.9,
             "#4d9221"
            ],
            [
             1,
             "#276419"
            ]
           ],
           "sequential": [
            [
             0,
             "#0d0887"
            ],
            [
             0.1111111111111111,
             "#46039f"
            ],
            [
             0.2222222222222222,
             "#7201a8"
            ],
            [
             0.3333333333333333,
             "#9c179e"
            ],
            [
             0.4444444444444444,
             "#bd3786"
            ],
            [
             0.5555555555555556,
             "#d8576b"
            ],
            [
             0.6666666666666666,
             "#ed7953"
            ],
            [
             0.7777777777777778,
             "#fb9f3a"
            ],
            [
             0.8888888888888888,
             "#fdca26"
            ],
            [
             1,
             "#f0f921"
            ]
           ],
           "sequentialminus": [
            [
             0,
             "#0d0887"
            ],
            [
             0.1111111111111111,
             "#46039f"
            ],
            [
             0.2222222222222222,
             "#7201a8"
            ],
            [
             0.3333333333333333,
             "#9c179e"
            ],
            [
             0.4444444444444444,
             "#bd3786"
            ],
            [
             0.5555555555555556,
             "#d8576b"
            ],
            [
             0.6666666666666666,
             "#ed7953"
            ],
            [
             0.7777777777777778,
             "#fb9f3a"
            ],
            [
             0.8888888888888888,
             "#fdca26"
            ],
            [
             1,
             "#f0f921"
            ]
           ]
          },
          "colorway": [
           "#636efa",
           "#EF553B",
           "#00cc96",
           "#ab63fa",
           "#FFA15A",
           "#19d3f3",
           "#FF6692",
           "#B6E880",
           "#FF97FF",
           "#FECB52"
          ],
          "font": {
           "color": "#2a3f5f"
          },
          "geo": {
           "bgcolor": "white",
           "lakecolor": "white",
           "landcolor": "#E5ECF6",
           "showlakes": true,
           "showland": true,
           "subunitcolor": "white"
          },
          "hoverlabel": {
           "align": "left"
          },
          "hovermode": "closest",
          "mapbox": {
           "style": "light"
          },
          "paper_bgcolor": "white",
          "plot_bgcolor": "#E5ECF6",
          "polar": {
           "angularaxis": {
            "gridcolor": "white",
            "linecolor": "white",
            "ticks": ""
           },
           "bgcolor": "#E5ECF6",
           "radialaxis": {
            "gridcolor": "white",
            "linecolor": "white",
            "ticks": ""
           }
          },
          "scene": {
           "xaxis": {
            "backgroundcolor": "#E5ECF6",
            "gridcolor": "white",
            "gridwidth": 2,
            "linecolor": "white",
            "showbackground": true,
            "ticks": "",
            "zerolinecolor": "white"
           },
           "yaxis": {
            "backgroundcolor": "#E5ECF6",
            "gridcolor": "white",
            "gridwidth": 2,
            "linecolor": "white",
            "showbackground": true,
            "ticks": "",
            "zerolinecolor": "white"
           },
           "zaxis": {
            "backgroundcolor": "#E5ECF6",
            "gridcolor": "white",
            "gridwidth": 2,
            "linecolor": "white",
            "showbackground": true,
            "ticks": "",
            "zerolinecolor": "white"
           }
          },
          "shapedefaults": {
           "line": {
            "color": "#2a3f5f"
           }
          },
          "ternary": {
           "aaxis": {
            "gridcolor": "white",
            "linecolor": "white",
            "ticks": ""
           },
           "baxis": {
            "gridcolor": "white",
            "linecolor": "white",
            "ticks": ""
           },
           "bgcolor": "#E5ECF6",
           "caxis": {
            "gridcolor": "white",
            "linecolor": "white",
            "ticks": ""
           }
          },
          "title": {
           "x": 0.05
          },
          "xaxis": {
           "automargin": true,
           "gridcolor": "white",
           "linecolor": "white",
           "ticks": "",
           "title": {
            "standoff": 15
           },
           "zerolinecolor": "white",
           "zerolinewidth": 2
          },
          "yaxis": {
           "automargin": true,
           "gridcolor": "white",
           "linecolor": "white",
           "ticks": "",
           "title": {
            "standoff": 15
           },
           "zerolinecolor": "white",
           "zerolinewidth": 2
          }
         }
        },
        "width": 1500,
        "xaxis": {
         "anchor": "y",
         "domain": [
          0,
          1
         ]
        },
        "xaxis2": {
         "anchor": "y2",
         "domain": [
          0,
          1
         ]
        },
        "yaxis": {
         "anchor": "x",
         "domain": [
          0.575,
          1
         ]
        },
        "yaxis2": {
         "anchor": "x2",
         "domain": [
          0,
          0.425
         ]
        }
       }
      }
     },
     "metadata": {},
     "output_type": "display_data"
    }
   ],
   "source": [
    "fig = make_subplots(rows=2, cols=1)\n",
    "fig.update_layout(width=1500, height=1000)\n",
    "fig.add_trace(\n",
    "    go.Bar(name='Predicted Home Win',\n",
    "           x=Final_Odds[Final_Odds['Type']=='Predicted']['Match'],\n",
    "           y=Final_Odds[Final_Odds['Type']=='Predicted']['P(Hwin)'],\n",
    "           marker_color='rgb(141,211,199)'),\n",
    "    row=1, col=1)\n",
    "\n",
    "fig.add_trace(\n",
    "    go.Bar(name='Bookmaker Home Win',\n",
    "           x=Final_Odds[Final_Odds['Type']=='Bookmaker']['Match'],\n",
    "           y=Final_Odds[Final_Odds['Type']=='Bookmaker']['P(Hwin)'],\n",
    "           marker_color='rgb(82, 106, 131)'),\n",
    "    row=1, col=1)\n",
    "\n",
    "fig.add_trace(\n",
    "    go.Bar(name='Predicted Draw',\n",
    "           x=Final_Odds[Final_Odds['Type']=='Predicted']['Match'],\n",
    "           y=Final_Odds[Final_Odds['Type']=='Predicted']['P(Draw)'],\n",
    "           marker_color='rgb(141,211,199)'),\n",
    "    row=1, col=1)\n",
    "\n",
    "fig.add_trace(\n",
    "    go.Bar(name='Bookmaker Draw',\n",
    "           x=Final_Odds[Final_Odds['Type']=='Bookmaker']['Match'],\n",
    "           y=Final_Odds[Final_Odds['Type']=='Bookmaker']['P(Draw)'],\n",
    "           marker_color='rgb(82, 106, 131)'),\n",
    "    row=1, col=1)\n",
    "\n",
    "fig.add_trace(\n",
    "    go.Bar(name='Predicted Away Win',\n",
    "           x=Final_Odds[Final_Odds['Type']=='Predicted']['Match'],\n",
    "           y=Final_Odds[Final_Odds['Type']=='Predicted']['P(Awin)'],\n",
    "           marker_color='rgb(141,211,199)'),\n",
    "    row=1, col=1)\n",
    "\n",
    "fig.add_trace(\n",
    "    go.Bar(name='Bookmaker Away Win',\n",
    "           x=Final_Odds[Final_Odds['Type']=='Bookmaker']['Match'],\n",
    "           y=Final_Odds[Final_Odds['Type']=='Bookmaker']['P(Awin)'],\n",
    "           marker_color='rgb(82, 106, 131)'),\n",
    "    row=1, col=1)\n",
    "\n",
    "\n",
    "fig.add_trace(\n",
    "    go.Bar(name='Predicted Over',\n",
    "           x=Final_Odds[Final_Odds['Type']=='Predicted']['Match'],\n",
    "           y=Final_Odds[Final_Odds['Type']=='Predicted']['P(Over)'],\n",
    "           marker_color='rgb(141,211,199)'),\n",
    "    row=2, col=1)\n",
    "\n",
    "fig.add_trace(\n",
    "    go.Bar(name='Bookmaker Over',\n",
    "           x=Final_Odds[Final_Odds['Type']=='Bookmaker']['Match'],\n",
    "           y=Final_Odds[Final_Odds['Type']=='Bookmaker']['P(Over)'],\n",
    "           marker_color='rgb(82, 106, 131)'),\n",
    "    row=2, col=1)\n",
    "\n",
    "fig.add_trace(\n",
    "    go.Bar(name='Predicted Under',\n",
    "           x=Final_Odds[Final_Odds['Type']=='Predicted']['Match'],\n",
    "           y=Final_Odds[Final_Odds['Type']=='Predicted']['P(Under)'],\n",
    "           marker_color='rgb(141,211,199)'),\n",
    "    row=2, col=1)\n",
    "\n",
    "fig.add_trace(\n",
    "    go.Bar(name='Bookmaker Under',\n",
    "           x=Final_Odds[Final_Odds['Type']=='Bookmaker']['Match'],\n",
    "           y=Final_Odds[Final_Odds['Type']=='Bookmaker']['P(Under)'],\n",
    "           marker_color='rgb(82, 106, 131)'),\n",
    "    row=2, col=1)\n",
    "\n",
    "\n",
    "fig.show()\n"
   ]
  },
  {
   "cell_type": "code",
   "execution_count": null,
   "metadata": {},
   "outputs": [
    {
     "data": {
      "application/vnd.plotly.v1+json": {
       "config": {
        "plotlyServerURL": "https://plot.ly"
       },
       "data": [
        {
         "fill": "toself",
         "hovertemplate": "%{theta}<br>Prob: %{r:.2f}<br>Bookmaker Odds",
         "marker": {
          "color": "rgb(82, 106, 131)"
         },
         "name": "Bookmaker Odds",
         "r": [
          0.15151515151515152,
          0.2040816326530612,
          0.6944444444444444,
          0.4587155963302752,
          0.5882352941176471,
          0.6060606060606061,
          0.46511627906976744
         ],
         "subplot": "polar",
         "theta": [
          "Home",
          "Draw",
          "Away",
          "Over",
          "Under",
          "GG",
          "NG"
         ],
         "type": "scatterpolar",
         "visible": true
        },
        {
         "fill": "toself",
         "hovertemplate": "%{theta}<br>Prob: %{r:.2f}<br>Predicted Odds",
         "marker": {
          "color": "rgb(141,211,199)"
         },
         "name": "Predicted Odds",
         "r": [
          0.196649888686328,
          0.19349656870313137,
          0.6098480294333347,
          0.6870462528385135,
          0.31295374716148644,
          0.640572504934923,
          0.35942198188787083
         ],
         "subplot": "polar",
         "theta": [
          "Home",
          "Draw",
          "Away",
          "Over",
          "Under",
          "GG",
          "NG"
         ],
         "type": "scatterpolar",
         "visible": true
        },
        {
         "hovertemplate": "Score %{x}<br>Prob: %{y:.3f}",
         "marker": {
          "color": [
           0.09508737275229906,
           0.08276265000653049,
           0.07636061334995135,
           0.0728316332405276,
           0.06646315419218711,
           0.059203351441783736,
           0.05848797820939822,
           0.05152972590118702,
           0.045346470872114825,
           0.04183873194946226,
           0.036017696345164024,
           0.03359890110506707,
           0.028924275692563263,
           0.02604965391077871,
           0.02457414845936776,
           0.022425357575090198,
           0.021388977203621387,
           0.018822429477079804,
           0.010812699736232008,
           0.009308325506649229,
           0.007650184801153531,
           0.006658608276332255,
           0.005859615609648873,
           0.0033661044783843182,
           0.002897777330225739
          ],
          "colorscale": [
           [
            0,
            "rgb(210, 251, 212)"
           ],
           [
            0.16666666666666666,
            "rgb(165, 219, 194)"
           ],
           [
            0.3333333333333333,
            "rgb(123, 188, 176)"
           ],
           [
            0.5,
            "rgb(85, 156, 158)"
           ],
           [
            0.6666666666666666,
            "rgb(58, 124, 137)"
           ],
           [
            0.8333333333333334,
            "rgb(35, 93, 114)"
           ],
           [
            1,
            "rgb(18, 63, 90)"
           ]
          ]
         },
         "name": "Propable Scoreline",
         "type": "bar",
         "visible": true,
         "x": [
          "1 - 2",
          "1 - 1",
          "0 - 2",
          "1 - 3",
          "0 - 1",
          "2 - 2",
          "0 - 3",
          "2 - 1",
          "2 - 3",
          "1 - 4",
          "1 - 0",
          "0 - 4",
          "0 - 0",
          "2 - 4",
          "3 - 2",
          "2 - 0",
          "3 - 1",
          "Other",
          "Other",
          "Other",
          "Other",
          "Other",
          "Other",
          "Other",
          "Other"
         ],
         "xaxis": "x",
         "y": [
          0.09508737275229906,
          0.08276265000653049,
          0.07636061334995135,
          0.0728316332405276,
          0.06646315419218711,
          0.059203351441783736,
          0.05848797820939822,
          0.05152972590118702,
          0.045346470872114825,
          0.04183873194946226,
          0.036017696345164024,
          0.03359890110506707,
          0.028924275692563263,
          0.02604965391077871,
          0.02457414845936776,
          0.022425357575090198,
          0.021388977203621387,
          0.018822429477079804,
          0.010812699736232008,
          0.009308325506649229,
          0.007650184801153531,
          0.006658608276332255,
          0.005859615609648873,
          0.0033661044783843182,
          0.002897777330225739
         ],
         "yaxis": "y"
        },
        {
         "fill": "toself",
         "hovertemplate": "%{theta}<br>Prob: %{r:.2f}<br>Bookmaker Odds",
         "marker": {
          "color": "rgb(82, 106, 131)"
         },
         "name": "Bookmaker Odds",
         "r": [
          0.5882352941176471,
          0.25641025641025644,
          0.2040816326530612,
          0.5319148936170213,
          0.5181347150259068,
          0.5405405405405405,
          0.5319148936170213
         ],
         "subplot": "polar",
         "theta": [
          "Home",
          "Draw",
          "Away",
          "Over",
          "Under",
          "GG",
          "NG"
         ],
         "type": "scatterpolar",
         "visible": false
        },
        {
         "fill": "toself",
         "hovertemplate": "%{theta}<br>Prob: %{r:.2f}<br>Predicted Odds",
         "marker": {
          "color": "rgb(141,211,199)"
         },
         "name": "Predicted Odds",
         "r": [
          0.5091834054774802,
          0.22042310289551298,
          0.2703924496305611,
          0.6429019192990313,
          0.35709808070096866,
          0.6387170431339061,
          0.3612819148696484
         ],
         "subplot": "polar",
         "theta": [
          "Home",
          "Draw",
          "Away",
          "Over",
          "Under",
          "GG",
          "NG"
         ],
         "type": "scatterpolar",
         "visible": false
        },
        {
         "hovertemplate": "Score %{x}<br>Prob: %{y:.3f}",
         "marker": {
          "color": [
           0.09694615479514218,
           0.0941866746527545,
           0.07083866506318391,
           0.06882230979908732,
           0.06633776145541924,
           0.06444952013410535,
           0.06100382699303199,
           0.04989324107796604,
           0.04457556544726775,
           0.04174335053806799,
           0.03645704774064775,
           0.034140662224941436,
           0.03026214984469309,
           0.029633705522962826,
           0.029400766515577537,
           0.021653382174445714,
           0.020277582872435414,
           0.01904260109608156,
           0.015574384986483883,
           0.010353805582941987,
           0.010059094349013782,
           0.009250285778578877,
           0.006515181193477632,
           0.0053285756316556925,
           0.0031648663769621283
          ],
          "colorscale": [
           [
            0,
            "rgb(210, 251, 212)"
           ],
           [
            0.16666666666666666,
            "rgb(165, 219, 194)"
           ],
           [
            0.3333333333333333,
            "rgb(123, 188, 176)"
           ],
           [
            0.5,
            "rgb(85, 156, 158)"
           ],
           [
            0.6666666666666666,
            "rgb(58, 124, 137)"
           ],
           [
            0.8333333333333334,
            "rgb(35, 93, 114)"
           ],
           [
            1,
            "rgb(18, 63, 90)"
           ]
          ]
         },
         "name": "Propable Scoreline",
         "type": "bar",
         "visible": false,
         "x": [
          "1 - 1",
          "2 - 1",
          "1 - 0",
          "2 - 0",
          "1 - 2",
          "2 - 2",
          "3 - 1",
          "0 - 1",
          "3 - 0",
          "3 - 2",
          "0 - 0",
          "0 - 2",
          "1 - 3",
          "4 - 1",
          "2 - 3",
          "4 - 0",
          "4 - 2",
          "Other",
          "Other",
          "Other",
          "Other",
          "Other",
          "Other",
          "Other",
          "Other"
         ],
         "xaxis": "x",
         "y": [
          0.09694615479514218,
          0.0941866746527545,
          0.07083866506318391,
          0.06882230979908732,
          0.06633776145541924,
          0.06444952013410535,
          0.06100382699303199,
          0.04989324107796604,
          0.04457556544726775,
          0.04174335053806799,
          0.03645704774064775,
          0.034140662224941436,
          0.03026214984469309,
          0.029633705522962826,
          0.029400766515577537,
          0.021653382174445714,
          0.020277582872435414,
          0.01904260109608156,
          0.015574384986483883,
          0.010353805582941987,
          0.010059094349013782,
          0.009250285778578877,
          0.006515181193477632,
          0.0053285756316556925,
          0.0031648663769621283
         ],
         "yaxis": "y"
        },
        {
         "fill": "toself",
         "hovertemplate": "%{theta}<br>Prob: %{r:.2f}<br>Bookmaker Odds",
         "marker": {
          "color": "rgb(82, 106, 131)"
         },
         "name": "Bookmaker Odds",
         "r": [
          0.7751937984496123,
          0.17857142857142858,
          0.0975609756097561,
          0.4444444444444444,
          0.6060606060606061,
          0.53475935828877,
          0.5319148936170213
         ],
         "subplot": "polar",
         "theta": [
          "Home",
          "Draw",
          "Away",
          "Over",
          "Under",
          "GG",
          "NG"
         ],
         "type": "scatterpolar",
         "visible": false
        },
        {
         "fill": "toself",
         "hovertemplate": "%{theta}<br>Prob: %{r:.2f}<br>Predicted Odds",
         "marker": {
          "color": "rgb(141,211,199)"
         },
         "name": "Predicted Odds",
         "r": [
          0.7629045347663287,
          0.14500956477310223,
          0.09206238008852359,
          0.6787732797689988,
          0.3212267202310012,
          0.5251573230261094,
          0.4748191566018454
         ],
         "subplot": "polar",
         "theta": [
          "Home",
          "Draw",
          "Away",
          "Over",
          "Under",
          "GG",
          "NG"
         ],
         "type": "scatterpolar",
         "visible": false
        },
        {
         "hovertemplate": "Score %{x}<br>Prob: %{y:.3f}",
         "marker": {
          "color": [
           0.1076142296908913,
           0.09566834587833241,
           0.0894240472982085,
           0.08070117881827556,
           0.07949739278289408,
           0.06706014671475632,
           0.06378640001456233,
           0.05300449641528653,
           0.03715428832302968,
           0.03302991915066182,
           0.03025938243188733,
           0.027862438586747387,
           0.025144597081409086,
           0.02202253646229231,
           0.010447185493781602,
           0.01029134915792369,
           0.009148942046260483,
           0.0077176039921531565,
           0.006100012200639419,
           0.0028937610834940818,
           0.0021379470366139743,
           0.0019006209230493028,
           0.0016032716732849541,
           0.0012672296710120848,
           0.0006011561592351223
          ],
          "colorscale": [
           [
            0,
            "rgb(210, 251, 212)"
           ],
           [
            0.16666666666666666,
            "rgb(165, 219, 194)"
           ],
           [
            0.3333333333333333,
            "rgb(123, 188, 176)"
           ],
           [
            0.5,
            "rgb(85, 156, 158)"
           ],
           [
            0.6666666666666666,
            "rgb(58, 124, 137)"
           ],
           [
            0.8333333333333334,
            "rgb(35, 93, 114)"
           ],
           [
            1,
            "rgb(18, 63, 90)"
           ]
          ]
         },
         "name": "Propable Scoreline",
         "type": "bar",
         "visible": false,
         "x": [
          "2 - 0",
          "3 - 0",
          "2 - 1",
          "1 - 0",
          "3 - 1",
          "1 - 1",
          "4 - 0",
          "4 - 1",
          "2 - 2",
          "3 - 2",
          "0 - 0",
          "1 - 2",
          "0 - 1",
          "4 - 2",
          "Other",
          "Other",
          "Other",
          "Other",
          "Other",
          "Other",
          "Other",
          "Other",
          "Other",
          "Other",
          "Other"
         ],
         "xaxis": "x",
         "y": [
          0.1076142296908913,
          0.09566834587833241,
          0.0894240472982085,
          0.08070117881827556,
          0.07949739278289408,
          0.06706014671475632,
          0.06378640001456233,
          0.05300449641528653,
          0.03715428832302968,
          0.03302991915066182,
          0.03025938243188733,
          0.027862438586747387,
          0.025144597081409086,
          0.02202253646229231,
          0.010447185493781602,
          0.01029134915792369,
          0.009148942046260483,
          0.0077176039921531565,
          0.006100012200639419,
          0.0028937610834940818,
          0.0021379470366139743,
          0.0019006209230493028,
          0.0016032716732849541,
          0.0012672296710120848,
          0.0006011561592351223
         ],
         "yaxis": "y"
        },
        {
         "fill": "toself",
         "hovertemplate": "%{theta}<br>Prob: %{r:.2f}<br>Bookmaker Odds",
         "marker": {
          "color": "rgb(82, 106, 131)"
         },
         "name": "Bookmaker Odds",
         "r": [
          0.15384615384615385,
          0.22727272727272727,
          0.6666666666666666,
          0.625,
          0.42194092827004215,
          0.5882352941176471,
          0.48309178743961356
         ],
         "subplot": "polar",
         "theta": [
          "Home",
          "Draw",
          "Away",
          "Over",
          "Under",
          "GG",
          "NG"
         ],
         "type": "scatterpolar",
         "visible": false
        },
        {
         "fill": "toself",
         "hovertemplate": "%{theta}<br>Prob: %{r:.2f}<br>Predicted Odds",
         "marker": {
          "color": "rgb(141,211,199)"
         },
         "name": "Predicted Odds",
         "r": [
          0.1720341404907799,
          0.1774590840740556,
          0.650493390348183,
          0.7244663359095012,
          0.2755336640904989,
          0.654192902255746,
          0.34579371265727343
         ],
         "subplot": "polar",
         "theta": [
          "Home",
          "Draw",
          "Away",
          "Over",
          "Under",
          "GG",
          "NG"
         ],
         "type": "scatterpolar",
         "visible": false
        },
        {
         "hovertemplate": "Score %{x}<br>Prob: %{y:.3f}",
         "marker": {
          "color": [
           0.09169085417258743,
           0.07688114890813108,
           0.0737150621586729,
           0.07290224680820756,
           0.061808767316374365,
           0.05860992029650632,
           0.05702506714843453,
           0.0483476060189327,
           0.04781450362195107,
           0.045339914836922374,
           0.03886916328863425,
           0.03006870755622162,
           0.02898183050885866,
           0.023643639725597743,
           0.023300005837129083,
           0.019824770996814768,
           0.018798761057187204,
           0.018024598481124348,
           0.01246703816451673,
           0.007473329432071693,
           0.007352315316246106,
           0.006164785503948793,
           0.005845733586338262,
           0.003876797172897362,
           0.0023239346853727444
          ],
          "colorscale": [
           [
            0,
            "rgb(210, 251, 212)"
           ],
           [
            0.16666666666666666,
            "rgb(165, 219, 194)"
           ],
           [
            0.3333333333333333,
            "rgb(123, 188, 176)"
           ],
           [
            0.5,
            "rgb(85, 156, 158)"
           ],
           [
            0.6666666666666666,
            "rgb(58, 124, 137)"
           ],
           [
            0.8333333333333334,
            "rgb(35, 93, 114)"
           ],
           [
            1,
            "rgb(18, 63, 90)"
           ]
          ]
         },
         "name": "Propable Scoreline",
         "type": "bar",
         "visible": false,
         "x": [
          "1 - 2",
          "1 - 3",
          "0 - 2",
          "1 - 1",
          "0 - 3",
          "0 - 1",
          "2 - 2",
          "1 - 4",
          "2 - 3",
          "2 - 1",
          "0 - 4",
          "2 - 4",
          "1 - 0",
          "3 - 2",
          "0 - 0",
          "Other",
          "Other",
          "Other",
          "Other",
          "Other",
          "Other",
          "Other",
          "Other",
          "Other",
          "Other"
         ],
         "xaxis": "x",
         "y": [
          0.09169085417258743,
          0.07688114890813108,
          0.0737150621586729,
          0.07290224680820756,
          0.061808767316374365,
          0.05860992029650632,
          0.05702506714843453,
          0.0483476060189327,
          0.04781450362195107,
          0.045339914836922374,
          0.03886916328863425,
          0.03006870755622162,
          0.02898183050885866,
          0.023643639725597743,
          0.023300005837129083,
          0.019824770996814768,
          0.018798761057187204,
          0.018024598481124348,
          0.01246703816451673,
          0.007473329432071693,
          0.007352315316246106,
          0.006164785503948793,
          0.005845733586338262,
          0.003876797172897362,
          0.0023239346853727444
         ],
         "yaxis": "y"
        },
        {
         "fill": "toself",
         "hovertemplate": "%{theta}<br>Prob: %{r:.2f}<br>Bookmaker Odds",
         "marker": {
          "color": "rgb(82, 106, 131)"
         },
         "name": "Bookmaker Odds",
         "r": [
          0.5181347150259068,
          0.26666666666666666,
          0.2631578947368421,
          0.5263157894736842,
          0.5235602094240838,
          0.5617977528089888,
          0.5050505050505051
         ],
         "subplot": "polar",
         "theta": [
          "Home",
          "Draw",
          "Away",
          "Over",
          "Under",
          "GG",
          "NG"
         ],
         "type": "scatterpolar",
         "visible": false
        },
        {
         "fill": "toself",
         "hovertemplate": "%{theta}<br>Prob: %{r:.2f}<br>Predicted Odds",
         "marker": {
          "color": "rgb(141,211,199)"
         },
         "name": "Predicted Odds",
         "r": [
          0.4722956412891169,
          0.23485714753408823,
          0.29284687419301003,
          0.5899908569309225,
          0.4100091430690775,
          0.6043895304084512,
          0.3956101326077636
         ],
         "subplot": "polar",
         "theta": [
          "Home",
          "Draw",
          "Away",
          "Over",
          "Under",
          "GG",
          "NG"
         ],
         "type": "scatterpolar",
         "visible": false
        },
        {
         "hovertemplate": "Score %{x}<br>Prob: %{y:.3f}",
         "marker": {
          "color": [
           0.10776784800534235,
           0.09358969806971949,
           0.08148497581990956,
           0.0712641130885928,
           0.07076465221636123,
           0.06204694161450766,
           0.061888466278338564,
           0.05418456894086534,
           0.04691467474516947,
           0.04103005066778723,
           0.04096981030687149,
           0.03583086532884149,
           0.03141675313062443,
           0.02728350332912184,
           0.02352797026698584,
           0.018088079917088273,
           0.017789870761842182,
           0.015796021331149514,
           0.015558443124598807,
           0.010387546422316204,
           0.009020940394964327,
           0.006858932856355479,
           0.0059805915986323776,
           0.005222751828713604,
           0.0022678181655726793
          ],
          "colorscale": [
           [
            0,
            "rgb(210, 251, 212)"
           ],
           [
            0.16666666666666666,
            "rgb(165, 219, 194)"
           ],
           [
            0.3333333333333333,
            "rgb(123, 188, 176)"
           ],
           [
            0.5,
            "rgb(85, 156, 158)"
           ],
           [
            0.6666666666666666,
            "rgb(58, 124, 137)"
           ],
           [
            0.8333333333333334,
            "rgb(35, 93, 114)"
           ],
           [
            1,
            "rgb(18, 63, 90)"
           ]
          ]
         },
         "name": "Propable Scoreline",
         "type": "bar",
         "visible": false,
         "x": [
          "1 - 1",
          "2 - 1",
          "1 - 0",
          "1 - 2",
          "2 - 0",
          "0 - 1",
          "2 - 2",
          "3 - 1",
          "0 - 0",
          "0 - 2",
          "3 - 0",
          "3 - 2",
          "1 - 3",
          "2 - 3",
          "4 - 1",
          "Other",
          "Other",
          "Other",
          "Other",
          "Other",
          "Other",
          "Other",
          "Other",
          "Other",
          "Other"
         ],
         "xaxis": "x",
         "y": [
          0.10776784800534235,
          0.09358969806971949,
          0.08148497581990956,
          0.0712641130885928,
          0.07076465221636123,
          0.06204694161450766,
          0.061888466278338564,
          0.05418456894086534,
          0.04691467474516947,
          0.04103005066778723,
          0.04096981030687149,
          0.03583086532884149,
          0.03141675313062443,
          0.02728350332912184,
          0.02352797026698584,
          0.018088079917088273,
          0.017789870761842182,
          0.015796021331149514,
          0.015558443124598807,
          0.010387546422316204,
          0.009020940394964327,
          0.006858932856355479,
          0.0059805915986323776,
          0.005222751828713604,
          0.0022678181655726793
         ],
         "yaxis": "y"
        },
        {
         "fill": "toself",
         "hovertemplate": "%{theta}<br>Prob: %{r:.2f}<br>Bookmaker Odds",
         "marker": {
          "color": "rgb(82, 106, 131)"
         },
         "name": "Bookmaker Odds",
         "r": [
          0.46511627906976744,
          0.2531645569620253,
          0.3333333333333333,
          0.4587155963302752,
          0.5882352941176471,
          0.6944444444444444,
          0.37453183520599254
         ],
         "subplot": "polar",
         "theta": [
          "Home",
          "Draw",
          "Away",
          "Over",
          "Under",
          "GG",
          "NG"
         ],
         "type": "scatterpolar",
         "visible": false
        },
        {
         "fill": "toself",
         "hovertemplate": "%{theta}<br>Prob: %{r:.2f}<br>Predicted Odds",
         "marker": {
          "color": "rgb(141,211,199)"
         },
         "name": "Predicted Odds",
         "r": [
          0.36071014996929823,
          0.19652895015309302,
          0.4427536093522614,
          0.8102250041979004,
          0.18977499580209956,
          0.7854417462385641,
          0.21455096323608883
         ],
         "subplot": "polar",
         "theta": [
          "Home",
          "Draw",
          "Away",
          "Over",
          "Under",
          "GG",
          "NG"
         ],
         "type": "scatterpolar",
         "visible": false
        },
        {
         "hovertemplate": "Score %{x}<br>Prob: %{y:.3f}",
         "marker": {
          "color": [
           0.07176991871807109,
           0.06934840686070642,
           0.0626376526470704,
           0.06052426278525105,
           0.05482241660428764,
           0.052972712240288655,
           0.04951732338177284,
           0.04321655865578087,
           0.03782447270462429,
           0.03350429831897772,
           0.03140762957535557,
           0.030347938429163827,
           0.029241089272120536,
           0.027333704699787728,
           0.026411467483716106,
           0.025623186134503192,
           0.025592708383754135,
           0.022362798529965748,
           0.02166954872064279,
           0.019572614963004577,
           0.018858763100430744,
           0.01466200059273165,
           0.012760173242246424,
           0.01121310366553655,
           0.009758637264442887
          ],
          "colorscale": [
           [
            0,
            "rgb(210, 251, 212)"
           ],
           [
            0.16666666666666666,
            "rgb(165, 219, 194)"
           ],
           [
            0.3333333333333333,
            "rgb(123, 188, 176)"
           ],
           [
            0.5,
            "rgb(85, 156, 158)"
           ],
           [
            0.6666666666666666,
            "rgb(58, 124, 137)"
           ],
           [
            0.8333333333333334,
            "rgb(35, 93, 114)"
           ],
           [
            1,
            "rgb(18, 63, 90)"
           ]
          ]
         },
         "name": "Propable Scoreline",
         "type": "bar",
         "visible": false,
         "x": [
          "2 - 2",
          "1 - 2",
          "2 - 1",
          "1 - 1",
          "2 - 3",
          "1 - 3",
          "3 - 2",
          "3 - 1",
          "3 - 3",
          "0 - 2",
          "2 - 4",
          "1 - 4",
          "0 - 1",
          "2 - 0",
          "1 - 0",
          "4 - 2",
          "0 - 3",
          "4 - 1",
          "3 - 4",
          "Other",
          "Other",
          "Other",
          "Other",
          "Other",
          "Other"
         ],
         "xaxis": "x",
         "y": [
          0.07176991871807109,
          0.06934840686070642,
          0.0626376526470704,
          0.06052426278525105,
          0.05482241660428764,
          0.052972712240288655,
          0.04951732338177284,
          0.04321655865578087,
          0.03782447270462429,
          0.03350429831897772,
          0.03140762957535557,
          0.030347938429163827,
          0.029241089272120536,
          0.027333704699787728,
          0.026411467483716106,
          0.025623186134503192,
          0.025592708383754135,
          0.022362798529965748,
          0.02166954872064279,
          0.019572614963004577,
          0.018858763100430744,
          0.01466200059273165,
          0.012760173242246424,
          0.01121310366553655,
          0.009758637264442887
         ],
         "yaxis": "y"
        },
        {
         "fill": "toself",
         "hovertemplate": "%{theta}<br>Prob: %{r:.2f}<br>Bookmaker Odds",
         "marker": {
          "color": "rgb(82, 106, 131)"
         },
         "name": "Bookmaker Odds",
         "r": [
          0.6451612903225806,
          0.23809523809523808,
          0.1694915254237288,
          0.5882352941176471,
          0.4587155963302752,
          0.5714285714285714,
          0.49504950495049505
         ],
         "subplot": "polar",
         "theta": [
          "Home",
          "Draw",
          "Away",
          "Over",
          "Under",
          "GG",
          "NG"
         ],
         "type": "scatterpolar",
         "visible": false
        },
        {
         "fill": "toself",
         "hovertemplate": "%{theta}<br>Prob: %{r:.2f}<br>Predicted Odds",
         "marker": {
          "color": "rgb(141,211,199)"
         },
         "name": "Predicted Odds",
         "r": [
          0.3480923790539917,
          0.23815293542698504,
          0.4137544748621572,
          0.5970364818465567,
          0.40296351815344333,
          0.6179395985697366,
          0.38206019077339826
         ],
         "subplot": "polar",
         "theta": [
          "Home",
          "Draw",
          "Away",
          "Over",
          "Under",
          "GG",
          "NG"
         ],
         "type": "scatterpolar",
         "visible": false
        },
        {
         "hovertemplate": "Score %{x}<br>Prob: %{y:.3f}",
         "marker": {
          "color": [
           0.10828885941932422,
           0.0877992062408026,
           0.07959885347539315,
           0.07365983655759084,
           0.06678008592797825,
           0.06453772059557153,
           0.05972244251406014,
           0.04908739738657483,
           0.0474576403510096,
           0.045424896347915085,
           0.039006643949478746,
           0.034884232605683976,
           0.03228145582481296,
           0.0316260822696475,
           0.024054801654355626,
           0.019239020409040197,
           0.017094678896617005,
           0.014336119860116103,
           0.014141842242693426,
           0.013086693372311626,
           0.0116235405104524,
           0.0088408661912779,
           0.006930072244331607,
           0.006282810844981028,
           0.0025470108749340217
          ],
          "colorscale": [
           [
            0,
            "rgb(210, 251, 212)"
           ],
           [
            0.16666666666666666,
            "rgb(165, 219, 194)"
           ],
           [
            0.3333333333333333,
            "rgb(123, 188, 176)"
           ],
           [
            0.5,
            "rgb(85, 156, 158)"
           ],
           [
            0.6666666666666666,
            "rgb(58, 124, 137)"
           ],
           [
            0.8333333333333334,
            "rgb(35, 93, 114)"
           ],
           [
            1,
            "rgb(18, 63, 90)"
           ]
          ]
         },
         "name": "Propable Scoreline",
         "type": "bar",
         "visible": false,
         "x": [
          "1 - 1",
          "1 - 2",
          "2 - 1",
          "0 - 1",
          "1 - 0",
          "2 - 2",
          "0 - 2",
          "2 - 0",
          "1 - 3",
          "0 - 0",
          "3 - 1",
          "2 - 3",
          "0 - 3",
          "3 - 2",
          "3 - 0",
          "Other",
          "Other",
          "Other",
          "Other",
          "Other",
          "Other",
          "Other",
          "Other",
          "Other",
          "Other"
         ],
         "xaxis": "x",
         "y": [
          0.10828885941932422,
          0.0877992062408026,
          0.07959885347539315,
          0.07365983655759084,
          0.06678008592797825,
          0.06453772059557153,
          0.05972244251406014,
          0.04908739738657483,
          0.0474576403510096,
          0.045424896347915085,
          0.039006643949478746,
          0.034884232605683976,
          0.03228145582481296,
          0.0316260822696475,
          0.024054801654355626,
          0.019239020409040197,
          0.017094678896617005,
          0.014336119860116103,
          0.014141842242693426,
          0.013086693372311626,
          0.0116235405104524,
          0.0088408661912779,
          0.006930072244331607,
          0.006282810844981028,
          0.0025470108749340217
         ],
         "yaxis": "y"
        },
        {
         "fill": "toself",
         "hovertemplate": "%{theta}<br>Prob: %{r:.2f}<br>Bookmaker Odds",
         "marker": {
          "color": "rgb(82, 106, 131)"
         },
         "name": "Bookmaker Odds",
         "r": [
          0.23529411764705882,
          0.24096385542168672,
          0.5714285714285714,
          0.6172839506172839,
          0.4347826086956522,
          0.6172839506172839,
          0.45454545454545453
         ],
         "subplot": "polar",
         "theta": [
          "Home",
          "Draw",
          "Away",
          "Over",
          "Under",
          "GG",
          "NG"
         ],
         "type": "scatterpolar",
         "visible": false
        },
        {
         "fill": "toself",
         "hovertemplate": "%{theta}<br>Prob: %{r:.2f}<br>Predicted Odds",
         "marker": {
          "color": "rgb(141,211,199)"
         },
         "name": "Predicted Odds",
         "r": [
          0.1700254382621314,
          0.17459394590953894,
          0.655364496797447,
          0.7351931728835908,
          0.2648068271164093,
          0.6615340161623654,
          0.33844986480675215
         ],
         "subplot": "polar",
         "theta": [
          "Home",
          "Draw",
          "Away",
          "Over",
          "Under",
          "GG",
          "NG"
         ],
         "type": "scatterpolar",
         "visible": false
        },
        {
         "hovertemplate": "Score %{x}<br>Prob: %{y:.3f}",
         "marker": {
          "color": [
           0.09042764026513263,
           0.07728993340346302,
           0.07169243315154904,
           0.07053232561118884,
           0.06127665576110367,
           0.05702943647228936,
           0.05591911968594407,
           0.04954569577396504,
           0.04874396074094885,
           0.04448218233819266,
           0.03928059464791304,
           0.031246675256948003,
           0.02750712581649092,
           0.023977599583571447,
           0.021808075197008257,
           0.020494033345949344,
           0.0187022005245808,
           0.01734774765422813,
           0.013137430666933474,
           0.007560901667897095,
           0.007293730618082415,
           0.006462422160619254,
           0.005897400139942894,
           0.004142650772663562,
           0.002299945822484926
          ],
          "colorscale": [
           [
            0,
            "rgb(210, 251, 212)"
           ],
           [
            0.16666666666666666,
            "rgb(165, 219, 194)"
           ],
           [
            0.3333333333333333,
            "rgb(123, 188, 176)"
           ],
           [
            0.5,
            "rgb(85, 156, 158)"
           ],
           [
            0.6666666666666666,
            "rgb(58, 124, 137)"
           ],
           [
            0.8333333333333334,
            "rgb(35, 93, 114)"
           ],
           [
            1,
            "rgb(18, 63, 90)"
           ]
          ]
         },
         "name": "Propable Scoreline",
         "type": "bar",
         "visible": false,
         "x": [
          "1 - 2",
          "1 - 3",
          "0 - 2",
          "1 - 1",
          "0 - 3",
          "2 - 2",
          "0 - 1",
          "1 - 4",
          "2 - 3",
          "2 - 1",
          "0 - 4",
          "2 - 4",
          "1 - 0",
          "3 - 2",
          "0 - 0",
          "3 - 3",
          "Other",
          "Other",
          "Other",
          "Other",
          "Other",
          "Other",
          "Other",
          "Other",
          "Other"
         ],
         "xaxis": "x",
         "y": [
          0.09042764026513263,
          0.07728993340346302,
          0.07169243315154904,
          0.07053232561118884,
          0.06127665576110367,
          0.05702943647228936,
          0.05591911968594407,
          0.04954569577396504,
          0.04874396074094885,
          0.04448218233819266,
          0.03928059464791304,
          0.031246675256948003,
          0.02750712581649092,
          0.023977599583571447,
          0.021808075197008257,
          0.020494033345949344,
          0.0187022005245808,
          0.01734774765422813,
          0.013137430666933474,
          0.007560901667897095,
          0.007293730618082415,
          0.006462422160619254,
          0.005897400139942894,
          0.004142650772663562,
          0.002299945822484926
         ],
         "yaxis": "y"
        },
        {
         "fill": "toself",
         "hovertemplate": "%{theta}<br>Prob: %{r:.2f}<br>Bookmaker Odds",
         "marker": {
          "color": "rgb(82, 106, 131)"
         },
         "name": "Bookmaker Odds",
         "r": [
          0.17857142857142858,
          0.2247191011235955,
          0.6451612903225806,
          0.6060606060606061,
          0.44052863436123346,
          0.5813953488372093,
          0.48780487804878053
         ],
         "subplot": "polar",
         "theta": [
          "Home",
          "Draw",
          "Away",
          "Over",
          "Under",
          "GG",
          "NG"
         ],
         "type": "scatterpolar",
         "visible": false
        },
        {
         "fill": "toself",
         "hovertemplate": "%{theta}<br>Prob: %{r:.2f}<br>Predicted Odds",
         "marker": {
          "color": "rgb(141,211,199)"
         },
         "name": "Predicted Odds",
         "r": [
          0.16719773928089138,
          0.2010110680736815,
          0.6317888146006582,
          0.5989979370847419,
          0.4010020629152581,
          0.5518006093595976,
          0.44819701259563305
         ],
         "subplot": "polar",
         "theta": [
          "Home",
          "Draw",
          "Away",
          "Over",
          "Under",
          "GG",
          "NG"
         ],
         "type": "scatterpolar",
         "visible": false
        },
        {
         "hovertemplate": "Score %{x}<br>Prob: %{y:.3f}",
         "marker": {
          "color": [
           0.10046318595764438,
           0.09926270959620322,
           0.09510435578682842,
           0.0939679143142246,
           0.0707493128592543,
           0.0699038999165317,
           0.049038289112861046,
           0.04642252632654061,
           0.04501568611133326,
           0.04447777496949973,
           0.03736790662925249,
           0.036921381982862406,
           0.03453429458220737,
           0.02197314577572774,
           0.018240096522523692,
           0.016150770071990377,
           0.015289268088764574,
           0.011373876647938241,
           0.0072368598416096,
           0.006007379342868025,
           0.003989444452037715,
           0.0037766425675405686,
           0.002809491367224114,
           0.0017875958989320173,
           0.0014838986676093088
          ],
          "colorscale": [
           [
            0,
            "rgb(210, 251, 212)"
           ],
           [
            0.16666666666666666,
            "rgb(165, 219, 194)"
           ],
           [
            0.3333333333333333,
            "rgb(123, 188, 176)"
           ],
           [
            0.5,
            "rgb(85, 156, 158)"
           ],
           [
            0.6666666666666666,
            "rgb(58, 124, 137)"
           ],
           [
            0.8333333333333334,
            "rgb(35, 93, 114)"
           ],
           [
            1,
            "rgb(18, 63, 90)"
           ]
          ]
         },
         "name": "Propable Scoreline",
         "type": "bar",
         "visible": false,
         "x": [
          "0 - 2",
          "1 - 2",
          "0 - 1",
          "1 - 1",
          "0 - 3",
          "1 - 3",
          "2 - 2",
          "2 - 1",
          "0 - 0",
          "1 - 0",
          "0 - 4",
          "1 - 4",
          "2 - 3",
          "2 - 0",
          "Other",
          "Other",
          "Other",
          "Other",
          "Other",
          "Other",
          "Other",
          "Other",
          "Other",
          "Other",
          "Other"
         ],
         "xaxis": "x",
         "y": [
          0.10046318595764438,
          0.09926270959620322,
          0.09510435578682842,
          0.0939679143142246,
          0.0707493128592543,
          0.0699038999165317,
          0.049038289112861046,
          0.04642252632654061,
          0.04501568611133326,
          0.04447777496949973,
          0.03736790662925249,
          0.036921381982862406,
          0.03453429458220737,
          0.02197314577572774,
          0.018240096522523692,
          0.016150770071990377,
          0.015289268088764574,
          0.011373876647938241,
          0.0072368598416096,
          0.006007379342868025,
          0.003989444452037715,
          0.0037766425675405686,
          0.002809491367224114,
          0.0017875958989320173,
          0.0014838986676093088
         ],
         "yaxis": "y"
        },
        {
         "fill": "toself",
         "hovertemplate": "%{theta}<br>Prob: %{r:.2f}<br>Bookmaker Odds",
         "marker": {
          "color": "rgb(82, 106, 131)"
         },
         "name": "Bookmaker Odds",
         "r": [
          0.4587155963302752,
          0.2857142857142857,
          0.3076923076923077,
          0.5181347150259068,
          0.5319148936170213,
          0.5813953488372093,
          0.48780487804878053
         ],
         "subplot": "polar",
         "theta": [
          "Home",
          "Draw",
          "Away",
          "Over",
          "Under",
          "GG",
          "NG"
         ],
         "type": "scatterpolar",
         "visible": false
        },
        {
         "fill": "toself",
         "hovertemplate": "%{theta}<br>Prob: %{r:.2f}<br>Predicted Odds",
         "marker": {
          "color": "rgb(141,211,199)"
         },
         "name": "Predicted Odds",
         "r": [
          0.5640840862907296,
          0.2098836376490318,
          0.22603021257415368,
          0.6481076902876646,
          0.3518923097123354,
          0.6259455376586975,
          0.3740523988552171
         ],
         "subplot": "polar",
         "theta": [
          "Home",
          "Draw",
          "Away",
          "Over",
          "Under",
          "GG",
          "NG"
         ],
         "type": "scatterpolar",
         "visible": false
        },
        {
         "hovertemplate": "Score %{x}<br>Prob: %{y:.3f}",
         "marker": {
          "color": [
           0.09666768662881718,
           0.09284962489791042,
           0.07699199056047754,
           0.07395105534213475,
           0.06709516703983659,
           0.06068580361503281,
           0.05828891017036431,
           0.053438647882619456,
           0.04459118214334447,
           0.04212083967760476,
           0.03551511362678525,
           0.034927090921726675,
           0.027993343141682992,
           0.027818047046849294,
           0.02539812346700265,
           0.024394979535167827,
           0.0219264436177005,
           0.017628345064884764,
           0.011715728276036475,
           0.009176619390711653,
           0.007972185880619839,
           0.0076573102599861685,
           0.005533339650370402,
           0.0036774356052226543,
           0.002880437825790574
          ],
          "colorscale": [
           [
            0,
            "rgb(210, 251, 212)"
           ],
           [
            0.16666666666666666,
            "rgb(165, 219, 194)"
           ],
           [
            0.3333333333333333,
            "rgb(123, 188, 176)"
           ],
           [
            0.5,
            "rgb(85, 156, 158)"
           ],
           [
            0.6666666666666666,
            "rgb(58, 124, 137)"
           ],
           [
            0.8333333333333334,
            "rgb(35, 93, 114)"
           ],
           [
            1,
            "rgb(18, 63, 90)"
           ]
          ]
         },
         "name": "Propable Scoreline",
         "type": "bar",
         "visible": false,
         "x": [
          "2 - 1",
          "1 - 1",
          "2 - 0",
          "1 - 0",
          "3 - 1",
          "2 - 2",
          "1 - 2",
          "3 - 0",
          "0 - 1",
          "3 - 2",
          "0 - 0",
          "4 - 1",
          "0 - 2",
          "4 - 0",
          "2 - 3",
          "1 - 3",
          "4 - 2",
          "Other",
          "Other",
          "Other",
          "Other",
          "Other",
          "Other",
          "Other",
          "Other"
         ],
         "xaxis": "x",
         "y": [
          0.09666768662881718,
          0.09284962489791042,
          0.07699199056047754,
          0.07395105534213475,
          0.06709516703983659,
          0.06068580361503281,
          0.05828891017036431,
          0.053438647882619456,
          0.04459118214334447,
          0.04212083967760476,
          0.03551511362678525,
          0.034927090921726675,
          0.027993343141682992,
          0.027818047046849294,
          0.02539812346700265,
          0.024394979535167827,
          0.0219264436177005,
          0.017628345064884764,
          0.011715728276036475,
          0.009176619390711653,
          0.007972185880619839,
          0.0076573102599861685,
          0.005533339650370402,
          0.0036774356052226543,
          0.002880437825790574
         ],
         "yaxis": "y"
        },
        {
         "fill": "toself",
         "hovertemplate": "%{theta}<br>Prob: %{r:.2f}<br>Bookmaker Odds",
         "marker": {
          "color": "rgb(82, 106, 131)"
         },
         "name": "Bookmaker Odds",
         "r": [
          0.8474576271186441,
          0.14285714285714285,
          0.058823529411764705,
          0.49504950495049505,
          0.5555555555555556,
          0.48780487804878053,
          0.5813953488372093
         ],
         "subplot": "polar",
         "theta": [
          "Home",
          "Draw",
          "Away",
          "Over",
          "Under",
          "GG",
          "NG"
         ],
         "type": "scatterpolar",
         "visible": false
        },
        {
         "fill": "toself",
         "hovertemplate": "%{theta}<br>Prob: %{r:.2f}<br>Predicted Odds",
         "marker": {
          "color": "rgb(141,211,199)"
         },
         "name": "Predicted Odds",
         "r": [
          0.881810623147889,
          0.09237149031956327,
          0.025774743745197122,
          0.6165542964710677,
          0.38344570352893226,
          0.2716247267350554,
          0.7283321304775936
         ],
         "subplot": "polar",
         "theta": [
          "Home",
          "Draw",
          "Away",
          "Over",
          "Under",
          "GG",
          "NG"
         ],
         "type": "scatterpolar",
         "visible": false
        },
        {
         "hovertemplate": "Score %{x}<br>Prob: %{y:.3f}",
         "marker": {
          "color": [
           0.167518314976721,
           0.1587393946914741,
           0.11785516299501235,
           0.112815405126824,
           0.05700639445576816,
           0.05401893250125844,
           0.04145767418479321,
           0.040106049964006345,
           0.03839102301286115,
           0.01410802471434517,
           0.009699623021214814,
           0.00919130715550172,
           0.006824033851548129,
           0.006532222466945668,
           0.0024004766940541634,
           0.0011002588703936844,
           0.001042598996500706,
           0.0007740717098603544,
           0.0007409706229739375,
           0.0002722936520346967,
           0.00009360437868813976,
           0.00008869897250036001,
           0.00006585404890725284,
           0.00006303797829398295,
           0.000023165346633663104
          ],
          "colorscale": [
           [
            0,
            "rgb(210, 251, 212)"
           ],
           [
            0.16666666666666666,
            "rgb(165, 219, 194)"
           ],
           [
            0.3333333333333333,
            "rgb(123, 188, 176)"
           ],
           [
            0.5,
            "rgb(85, 156, 158)"
           ],
           [
            0.6666666666666666,
            "rgb(58, 124, 137)"
           ],
           [
            0.8333333333333334,
            "rgb(35, 93, 114)"
           ],
           [
            1,
            "rgb(18, 63, 90)"
           ]
          ]
         },
         "name": "Propable Scoreline",
         "type": "bar",
         "visible": false,
         "x": [
          "2 - 0",
          "3 - 0",
          "1 - 0",
          "4 - 0",
          "2 - 1",
          "3 - 1",
          "0 - 0",
          "1 - 1",
          "4 - 1",
          "Other",
          "Other",
          "Other",
          "Other",
          "Other",
          "Other",
          "Other",
          "Other",
          "Other",
          "Other",
          "Other",
          "Other",
          "Other",
          "Other",
          "Other",
          "Other"
         ],
         "xaxis": "x",
         "y": [
          0.167518314976721,
          0.1587393946914741,
          0.11785516299501235,
          0.112815405126824,
          0.05700639445576816,
          0.05401893250125844,
          0.04145767418479321,
          0.040106049964006345,
          0.03839102301286115,
          0.01410802471434517,
          0.009699623021214814,
          0.00919130715550172,
          0.006824033851548129,
          0.006532222466945668,
          0.0024004766940541634,
          0.0011002588703936844,
          0.001042598996500706,
          0.0007740717098603544,
          0.0007409706229739375,
          0.0002722936520346967,
          0.00009360437868813976,
          0.00008869897250036001,
          0.00006585404890725284,
          0.00006303797829398295,
          0.000023165346633663104
         ],
         "yaxis": "y"
        },
        {
         "fill": "toself",
         "hovertemplate": "%{theta}<br>Prob: %{r:.2f}<br>Bookmaker Odds",
         "marker": {
          "color": "rgb(82, 106, 131)"
         },
         "name": "Bookmaker Odds",
         "r": [
          0.29850746268656714,
          0.2898550724637681,
          0.46511627906976744,
          0.5181347150259068,
          0.5319148936170213,
          0.5714285714285714,
          0.49504950495049505
         ],
         "subplot": "polar",
         "theta": [
          "Home",
          "Draw",
          "Away",
          "Over",
          "Under",
          "GG",
          "NG"
         ],
         "type": "scatterpolar",
         "visible": false
        },
        {
         "fill": "toself",
         "hovertemplate": "%{theta}<br>Prob: %{r:.2f}<br>Predicted Odds",
         "marker": {
          "color": "rgb(141,211,199)"
         },
         "name": "Predicted Odds",
         "r": [
          0.3689811271587077,
          0.22692411213422972,
          0.4040942639217494,
          0.6566761757451127,
          0.34332382425488733,
          0.6649047684792007,
          0.3350947347354859
         ],
         "subplot": "polar",
         "theta": [
          "Home",
          "Draw",
          "Away",
          "Over",
          "Under",
          "GG",
          "NG"
         ],
         "type": "scatterpolar",
         "visible": false
        },
        {
         "hovertemplate": "Score %{x}<br>Prob: %{y:.3f}",
         "marker": {
          "color": [
           0.09712335446593223,
           0.08415201297166762,
           0.0800588635970715,
           0.0693665757835917,
           0.058912564823491775,
           0.05604706084625101,
           0.05104447788569391,
           0.04860870883303837,
           0.04619963987014775,
           0.04399505951786099,
           0.04006819998643083,
           0.03811928489902978,
           0.033996726363370644,
           0.029484810588138115,
           0.025388268262469368,
           0.022018834192408694,
           0.02105837838255825,
           0.0181325824682103,
           0.017358439190813917,
           0.015710879463187204,
           0.012773478514637225,
           0.010463785548633668,
           0.009539050781192507,
           0.009075071865412742,
           0.0039315238314019795
          ],
          "colorscale": [
           [
            0,
            "rgb(210, 251, 212)"
           ],
           [
            0.16666666666666666,
            "rgb(165, 219, 194)"
           ],
           [
            0.3333333333333333,
            "rgb(123, 188, 176)"
           ],
           [
            0.5,
            "rgb(85, 156, 158)"
           ],
           [
            0.6666666666666666,
            "rgb(58, 124, 137)"
           ],
           [
            0.8333333333333334,
            "rgb(35, 93, 114)"
           ],
           [
            1,
            "rgb(18, 63, 90)"
           ]
          ]
         },
         "name": "Propable Scoreline",
         "type": "bar",
         "visible": false,
         "x": [
          "1 - 1",
          "1 - 2",
          "2 - 1",
          "2 - 2",
          "0 - 1",
          "1 - 0",
          "0 - 2",
          "1 - 3",
          "2 - 0",
          "3 - 1",
          "2 - 3",
          "3 - 2",
          "0 - 0",
          "0 - 3",
          "3 - 0",
          "3 - 3",
          "1 - 4",
          "Other",
          "Other",
          "Other",
          "Other",
          "Other",
          "Other",
          "Other",
          "Other"
         ],
         "xaxis": "x",
         "y": [
          0.09712335446593223,
          0.08415201297166762,
          0.0800588635970715,
          0.0693665757835917,
          0.058912564823491775,
          0.05604706084625101,
          0.05104447788569391,
          0.04860870883303837,
          0.04619963987014775,
          0.04399505951786099,
          0.04006819998643083,
          0.03811928489902978,
          0.033996726363370644,
          0.029484810588138115,
          0.025388268262469368,
          0.022018834192408694,
          0.02105837838255825,
          0.0181325824682103,
          0.017358439190813917,
          0.015710879463187204,
          0.012773478514637225,
          0.010463785548633668,
          0.009539050781192507,
          0.009075071865412742,
          0.0039315238314019795
         ],
         "yaxis": "y"
        },
        {
         "fill": "toself",
         "hovertemplate": "%{theta}<br>Prob: %{r:.2f}<br>Bookmaker Odds",
         "marker": {
          "color": "rgb(82, 106, 131)"
         },
         "name": "Bookmaker Odds",
         "r": [
          0.5181347150259068,
          0.28169014084507044,
          0.25,
          0.49504950495049505,
          0.5555555555555556,
          0.5464480874316939,
          0.5263157894736842
         ],
         "subplot": "polar",
         "theta": [
          "Home",
          "Draw",
          "Away",
          "Over",
          "Under",
          "GG",
          "NG"
         ],
         "type": "scatterpolar",
         "visible": false
        },
        {
         "fill": "toself",
         "hovertemplate": "%{theta}<br>Prob: %{r:.2f}<br>Predicted Odds",
         "marker": {
          "color": "rgb(141,211,199)"
         },
         "name": "Predicted Odds",
         "r": [
          0.6782390265998941,
          0.18378130643090862,
          0.1379747439421047,
          0.6185772020640407,
          0.38142279793595935,
          0.539685359895521,
          0.4603097170773864
         ],
         "subplot": "polar",
         "theta": [
          "Home",
          "Draw",
          "Away",
          "Over",
          "Under",
          "GG",
          "NG"
         ],
         "type": "scatterpolar",
         "visible": false
        },
        {
         "hovertemplate": "Score %{x}<br>Prob: %{y:.3f}",
         "marker": {
          "color": [
           0.10598636621038897,
           0.09757139904370203,
           0.09329260076731281,
           0.08588547662085994,
           0.08027153086163046,
           0.07389823662792264,
           0.045596798653887285,
           0.04491227622828036,
           0.04197656354914901,
           0.04105957053312052,
           0.03953322682465477,
           0.03779957634454151,
           0.03401548044555086,
           0.019321881572989842,
           0.017399207459735607,
           0.013782129980541371,
           0.012131473093865024,
           0.010438254575837948,
           0.005929262679852586,
           0.005339255965331927,
           0.0031719686033347505,
           0.002792068556911738,
           0.0024023729158642493,
           0.0013646247051776897,
           0.0012288341723022548
          ],
          "colorscale": [
           [
            0,
            "rgb(210, 251, 212)"
           ],
           [
            0.16666666666666666,
            "rgb(165, 219, 194)"
           ],
           [
            0.3333333333333333,
            "rgb(123, 188, 176)"
           ],
           [
            0.5,
            "rgb(85, 156, 158)"
           ],
           [
            0.6666666666666666,
            "rgb(58, 124, 137)"
           ],
           [
            0.8333333333333334,
            "rgb(35, 93, 114)"
           ],
           [
            1,
            "rgb(18, 63, 90)"
           ]
          ]
         },
         "name": "Propable Scoreline",
         "type": "bar",
         "visible": false,
         "x": [
          "2 - 0",
          "2 - 1",
          "1 - 0",
          "1 - 1",
          "3 - 0",
          "3 - 1",
          "4 - 0",
          "2 - 2",
          "4 - 1",
          "0 - 0",
          "1 - 2",
          "0 - 1",
          "3 - 2",
          "Other",
          "Other",
          "Other",
          "Other",
          "Other",
          "Other",
          "Other",
          "Other",
          "Other",
          "Other",
          "Other",
          "Other"
         ],
         "xaxis": "x",
         "y": [
          0.10598636621038897,
          0.09757139904370203,
          0.09329260076731281,
          0.08588547662085994,
          0.08027153086163046,
          0.07389823662792264,
          0.045596798653887285,
          0.04491227622828036,
          0.04197656354914901,
          0.04105957053312052,
          0.03953322682465477,
          0.03779957634454151,
          0.03401548044555086,
          0.019321881572989842,
          0.017399207459735607,
          0.013782129980541371,
          0.012131473093865024,
          0.010438254575837948,
          0.005929262679852586,
          0.005339255965331927,
          0.0031719686033347505,
          0.002792068556911738,
          0.0024023729158642493,
          0.0013646247051776897,
          0.0012288341723022548
         ],
         "yaxis": "y"
        },
        {
         "fill": "toself",
         "hovertemplate": "%{theta}<br>Prob: %{r:.2f}<br>Bookmaker Odds",
         "marker": {
          "color": "rgb(82, 106, 131)"
         },
         "name": "Bookmaker Odds",
         "r": [
          0.5494505494505494,
          0.27027027027027023,
          0.2298850574712644,
          0.5263157894736842,
          0.5235602094240838,
          0.5555555555555556,
          0.5128205128205129
         ],
         "subplot": "polar",
         "theta": [
          "Home",
          "Draw",
          "Away",
          "Over",
          "Under",
          "GG",
          "NG"
         ],
         "type": "scatterpolar",
         "visible": false
        },
        {
         "fill": "toself",
         "hovertemplate": "%{theta}<br>Prob: %{r:.2f}<br>Predicted Odds",
         "marker": {
          "color": "rgb(141,211,199)"
         },
         "name": "Predicted Odds",
         "r": [
          0.6836206341992133,
          0.17305359449289404,
          0.14331439420498016,
          0.6847583035784464,
          0.3152416964215536,
          0.5973852620804841,
          0.4026033608166035
         ],
         "subplot": "polar",
         "theta": [
          "Home",
          "Draw",
          "Away",
          "Over",
          "Under",
          "GG",
          "NG"
         ],
         "type": "scatterpolar",
         "visible": false
        },
        {
         "hovertemplate": "Score %{x}<br>Prob: %{y:.3f}",
         "marker": {
          "color": [
           0.09470354464409476,
           0.08963256366865331,
           0.07809667323333011,
           0.07656119009798706,
           0.07391492115953191,
           0.07246165676052757,
           0.0500307087126899,
           0.048301442092541454,
           0.045715100737968535,
           0.04125750440124102,
           0.04044632769432579,
           0.03094718287076076,
           0.029290089926975987,
           0.025517053124214654,
           0.017620402162705485,
           0.016349013096648886,
           0.014530552104593055,
           0.01424486237185417,
           0.008986895241436784,
           0.005757987306968212,
           0.00465432002210563,
           0.003838155279781224,
           0.0037626921075494934,
           0.0023738326783094635,
           0.0015209366598098889
          ],
          "colorscale": [
           [
            0,
            "rgb(210, 251, 212)"
           ],
           [
            0.16666666666666666,
            "rgb(165, 219, 194)"
           ],
           [
            0.3333333333333333,
            "rgb(123, 188, 176)"
           ],
           [
            0.5,
            "rgb(85, 156, 158)"
           ],
           [
            0.6666666666666666,
            "rgb(58, 124, 137)"
           ],
           [
            0.8333333333333334,
            "rgb(35, 93, 114)"
           ],
           [
            1,
            "rgb(18, 63, 90)"
           ]
          ]
         },
         "name": "Propable Scoreline",
         "type": "bar",
         "visible": false,
         "x": [
          "2 - 1",
          "2 - 0",
          "3 - 1",
          "1 - 1",
          "3 - 0",
          "1 - 0",
          "2 - 2",
          "4 - 1",
          "4 - 0",
          "3 - 2",
          "1 - 2",
          "0 - 1",
          "0 - 0",
          "4 - 2",
          "Other",
          "Other",
          "Other",
          "Other",
          "Other",
          "Other",
          "Other",
          "Other",
          "Other",
          "Other",
          "Other"
         ],
         "xaxis": "x",
         "y": [
          0.09470354464409476,
          0.08963256366865331,
          0.07809667323333011,
          0.07656119009798706,
          0.07391492115953191,
          0.07246165676052757,
          0.0500307087126899,
          0.048301442092541454,
          0.045715100737968535,
          0.04125750440124102,
          0.04044632769432579,
          0.03094718287076076,
          0.029290089926975987,
          0.025517053124214654,
          0.017620402162705485,
          0.016349013096648886,
          0.014530552104593055,
          0.01424486237185417,
          0.008986895241436784,
          0.005757987306968212,
          0.00465432002210563,
          0.003838155279781224,
          0.0037626921075494934,
          0.0023738326783094635,
          0.0015209366598098889
         ],
         "yaxis": "y"
        },
        {
         "fill": "toself",
         "hovertemplate": "%{theta}<br>Prob: %{r:.2f}<br>Bookmaker Odds",
         "marker": {
          "color": "rgb(82, 106, 131)"
         },
         "name": "Bookmaker Odds",
         "r": [
          0.2040816326530612,
          0.24390243902439027,
          0.6060606060606061,
          0.6060606060606061,
          0.4444444444444444,
          0.5882352941176471,
          0.48309178743961356
         ],
         "subplot": "polar",
         "theta": [
          "Home",
          "Draw",
          "Away",
          "Over",
          "Under",
          "GG",
          "NG"
         ],
         "type": "scatterpolar",
         "visible": false
        },
        {
         "fill": "toself",
         "hovertemplate": "%{theta}<br>Prob: %{r:.2f}<br>Predicted Odds",
         "marker": {
          "color": "rgb(141,211,199)"
         },
         "name": "Predicted Odds",
         "r": [
          0.31303857852017875,
          0.2220760638847646,
          0.46488450063279246,
          0.6635603075217149,
          0.3364396924782851,
          0.6644135829409871,
          0.335585560096749
         ],
         "subplot": "polar",
         "theta": [
          "Home",
          "Draw",
          "Away",
          "Over",
          "Under",
          "GG",
          "NG"
         ],
         "type": "scatterpolar",
         "visible": false
        },
        {
         "hovertemplate": "Score %{x}<br>Prob: %{y:.3f}",
         "marker": {
          "color": [
           0.09465664125201137,
           0.08957114794080036,
           0.0721577334069761,
           0.06828100943135619,
           0.06208537401374191,
           0.058749794490797355,
           0.056505917509246543,
           0.05001543431727463,
           0.04307504341605988,
           0.03812728117081101,
           0.0370622808516003,
           0.036671056015815794,
           0.03470087824892284,
           0.03280516723364885,
           0.026735049066849474,
           0.021891033093915276,
           0.020380403505466202,
           0.019376546317769965,
           0.01753554213033965,
           0.013977362014655765,
           0.013226418603884826,
           0.010357461124210217,
           0.008343880097057978,
           0.007385470501869618,
           0.003947799693125065
          ],
          "colorscale": [
           [
            0,
            "rgb(210, 251, 212)"
           ],
           [
            0.16666666666666666,
            "rgb(165, 219, 194)"
           ],
           [
            0.3333333333333333,
            "rgb(123, 188, 176)"
           ],
           [
            0.5,
            "rgb(85, 156, 158)"
           ],
           [
            0.6666666666666666,
            "rgb(58, 124, 137)"
           ],
           [
            0.8333333333333334,
            "rgb(35, 93, 114)"
           ],
           [
            1,
            "rgb(18, 63, 90)"
           ]
          ]
         },
         "name": "Propable Scoreline",
         "type": "bar",
         "visible": false,
         "x": [
          "1 - 1",
          "1 - 2",
          "2 - 1",
          "2 - 2",
          "0 - 1",
          "0 - 2",
          "1 - 3",
          "1 - 0",
          "2 - 3",
          "2 - 0",
          "0 - 3",
          "3 - 1",
          "3 - 2",
          "0 - 0",
          "1 - 4",
          "3 - 3",
          "2 - 4",
          "Other",
          "Other",
          "Other",
          "Other",
          "Other",
          "Other",
          "Other",
          "Other"
         ],
         "xaxis": "x",
         "y": [
          0.09465664125201137,
          0.08957114794080036,
          0.0721577334069761,
          0.06828100943135619,
          0.06208537401374191,
          0.058749794490797355,
          0.056505917509246543,
          0.05001543431727463,
          0.04307504341605988,
          0.03812728117081101,
          0.0370622808516003,
          0.036671056015815794,
          0.03470087824892284,
          0.03280516723364885,
          0.026735049066849474,
          0.021891033093915276,
          0.020380403505466202,
          0.019376546317769965,
          0.01753554213033965,
          0.013977362014655765,
          0.013226418603884826,
          0.010357461124210217,
          0.008343880097057978,
          0.007385470501869618,
          0.003947799693125065
         ],
         "yaxis": "y"
        },
        {
         "fill": "toself",
         "hovertemplate": "%{theta}<br>Prob: %{r:.2f}<br>Bookmaker Odds",
         "marker": {
          "color": "rgb(82, 106, 131)"
         },
         "name": "Bookmaker Odds",
         "r": [
          0.5494505494505494,
          0.27027027027027023,
          0.2298850574712644,
          0.5882352941176471,
          0.4587155963302752,
          0.6172839506172839,
          0.4504504504504504
         ],
         "subplot": "polar",
         "theta": [
          "Home",
          "Draw",
          "Away",
          "Over",
          "Under",
          "GG",
          "NG"
         ],
         "type": "scatterpolar",
         "visible": false
        },
        {
         "fill": "toself",
         "hovertemplate": "%{theta}<br>Prob: %{r:.2f}<br>Predicted Odds",
         "marker": {
          "color": "rgb(141,211,199)"
         },
         "name": "Predicted Odds",
         "r": [
          0.6098575668555057,
          0.19365612938534246,
          0.19648086399399353,
          0.6859773758418646,
          0.31402262415813537,
          0.639630088353199,
          0.36036447188164233
         ],
         "subplot": "polar",
         "theta": [
          "Home",
          "Draw",
          "Away",
          "Over",
          "Under",
          "GG",
          "NG"
         ],
         "type": "scatterpolar",
         "visible": false
        },
        {
         "hovertemplate": "Score %{x}<br>Prob: %{y:.3f}",
         "marker": {
          "color": [
           0.09517726155896387,
           0.08295285949983038,
           0.07660371587768326,
           0.07280208038222756,
           0.0667648677455347,
           0.059127099867634945,
           0.05859498150668511,
           0.051532917921932236,
           0.045226935581297444,
           0.0417653031393701,
           0.036149269197746345,
           0.03361493452143035,
           0.029094852083914005,
           0.02594591617025787,
           0.024487739203629278,
           0.02245705975342664,
           0.021342576539341875,
           0.018730927205519523,
           0.01074561123408464,
           0.00930068655072406,
           0.007606275793765072,
           0.006629338950314969,
           0.005818119713436152,
           0.0033377553533775945,
           0.002888939088573927
          ],
          "colorscale": [
           [
            0,
            "rgb(210, 251, 212)"
           ],
           [
            0.16666666666666666,
            "rgb(165, 219, 194)"
           ],
           [
            0.3333333333333333,
            "rgb(123, 188, 176)"
           ],
           [
            0.5,
            "rgb(85, 156, 158)"
           ],
           [
            0.6666666666666666,
            "rgb(58, 124, 137)"
           ],
           [
            0.8333333333333334,
            "rgb(35, 93, 114)"
           ],
           [
            1,
            "rgb(18, 63, 90)"
           ]
          ]
         },
         "name": "Propable Scoreline",
         "type": "bar",
         "visible": false,
         "x": [
          "2 - 1",
          "1 - 1",
          "2 - 0",
          "3 - 1",
          "1 - 0",
          "2 - 2",
          "3 - 0",
          "1 - 2",
          "3 - 2",
          "4 - 1",
          "0 - 1",
          "4 - 0",
          "0 - 0",
          "4 - 2",
          "2 - 3",
          "0 - 2",
          "1 - 3",
          "Other",
          "Other",
          "Other",
          "Other",
          "Other",
          "Other",
          "Other",
          "Other"
         ],
         "xaxis": "x",
         "y": [
          0.09517726155896387,
          0.08295285949983038,
          0.07660371587768326,
          0.07280208038222756,
          0.0667648677455347,
          0.059127099867634945,
          0.05859498150668511,
          0.051532917921932236,
          0.045226935581297444,
          0.0417653031393701,
          0.036149269197746345,
          0.03361493452143035,
          0.029094852083914005,
          0.02594591617025787,
          0.024487739203629278,
          0.02245705975342664,
          0.021342576539341875,
          0.018730927205519523,
          0.01074561123408464,
          0.00930068655072406,
          0.007606275793765072,
          0.006629338950314969,
          0.005818119713436152,
          0.0033377553533775945,
          0.002888939088573927
         ],
         "yaxis": "y"
        },
        {
         "fill": "toself",
         "hovertemplate": "%{theta}<br>Prob: %{r:.2f}<br>Bookmaker Odds",
         "marker": {
          "color": "rgb(82, 106, 131)"
         },
         "name": "Bookmaker Odds",
         "r": [
          0.6802721088435374,
          0.2040816326530612,
          0.1694915254237288,
          0.4716981132075471,
          0.5813953488372093,
          0.625,
          0.44052863436123346
         ],
         "subplot": "polar",
         "theta": [
          "Home",
          "Draw",
          "Away",
          "Over",
          "Under",
          "GG",
          "NG"
         ],
         "type": "scatterpolar",
         "visible": false
        },
        {
         "fill": "toself",
         "hovertemplate": "%{theta}<br>Prob: %{r:.2f}<br>Predicted Odds",
         "marker": {
          "color": "rgb(141,211,199)"
         },
         "name": "Predicted Odds",
         "r": [
          0.5863733142478856,
          0.200094751376145,
          0.21352801370567567,
          0.6796126328527385,
          0.3203873671472614,
          0.6441549766962675,
          0.3558411026334387
         ],
         "subplot": "polar",
         "theta": [
          "Home",
          "Draw",
          "Away",
          "Over",
          "Under",
          "GG",
          "NG"
         ],
         "type": "scatterpolar",
         "visible": false
        },
        {
         "hovertemplate": "Score %{x}<br>Prob: %{y:.3f}",
         "marker": {
          "color": [
           0.09519647664044437,
           0.08576055724084444,
           0.07423104639222876,
           0.07044706374986577,
           0.06687323026894326,
           0.061041636924192726,
           0.054991161251528836,
           0.054932277348496754,
           0.04517188282121585,
           0.03909904782811995,
           0.03862996529818745,
           0.030488137120697492,
           0.030122362164837303,
           0.026093973011615555,
           0.025070989660890077,
           0.02477020578222017,
           0.023507526171960853,
           0.019309998070407335,
           0.010717303148311829,
           0.01058872457788311,
           0.008365954721731841,
           0.0075367173671486345,
           0.006190953346270635,
           0.0034360606120784716,
           0.0033948372039791057
          ],
          "colorscale": [
           [
            0,
            "rgb(210, 251, 212)"
           ],
           [
            0.16666666666666666,
            "rgb(165, 219, 194)"
           ],
           [
            0.3333333333333333,
            "rgb(123, 188, 176)"
           ],
           [
            0.5,
            "rgb(85, 156, 158)"
           ],
           [
            0.6666666666666666,
            "rgb(58, 124, 137)"
           ],
           [
            0.8333333333333334,
            "rgb(35, 93, 114)"
           ],
           [
            1,
            "rgb(18, 63, 90)"
           ]
          ]
         },
         "name": "Propable Scoreline",
         "type": "bar",
         "visible": false,
         "x": [
          "2 - 1",
          "1 - 1",
          "2 - 0",
          "3 - 1",
          "1 - 0",
          "2 - 2",
          "1 - 2",
          "3 - 0",
          "3 - 2",
          "4 - 1",
          "0 - 1",
          "4 - 0",
          "0 - 0",
          "2 - 3",
          "4 - 2",
          "0 - 2",
          "1 - 3",
          "Other",
          "Other",
          "Other",
          "Other",
          "Other",
          "Other",
          "Other",
          "Other"
         ],
         "xaxis": "x",
         "y": [
          0.09519647664044437,
          0.08576055724084444,
          0.07423104639222876,
          0.07044706374986577,
          0.06687323026894326,
          0.061041636924192726,
          0.054991161251528836,
          0.054932277348496754,
          0.04517188282121585,
          0.03909904782811995,
          0.03862996529818745,
          0.030488137120697492,
          0.030122362164837303,
          0.026093973011615555,
          0.025070989660890077,
          0.02477020578222017,
          0.023507526171960853,
          0.019309998070407335,
          0.010717303148311829,
          0.01058872457788311,
          0.008365954721731841,
          0.0075367173671486345,
          0.006190953346270635,
          0.0034360606120784716,
          0.0033948372039791057
         ],
         "yaxis": "y"
        },
        {
         "fill": "toself",
         "hovertemplate": "%{theta}<br>Prob: %{r:.2f}<br>Bookmaker Odds",
         "marker": {
          "color": "rgb(82, 106, 131)"
         },
         "name": "Bookmaker Odds",
         "r": [
          0.7042253521126761,
          0.1923076923076923,
          0.15151515151515152,
          0.49504950495049505,
          0.5555555555555556,
          0.625,
          0.4444444444444444
         ],
         "subplot": "polar",
         "theta": [
          "Home",
          "Draw",
          "Away",
          "Over",
          "Under",
          "GG",
          "NG"
         ],
         "type": "scatterpolar",
         "visible": false
        },
        {
         "fill": "toself",
         "hovertemplate": "%{theta}<br>Prob: %{r:.2f}<br>Predicted Odds",
         "marker": {
          "color": "rgb(141,211,199)"
         },
         "name": "Predicted Odds",
         "r": [
          0.8158822253605008,
          0.11240059086712449,
          0.07158634297068192,
          0.7784652738375789,
          0.2215347261624211,
          0.5739691729021493,
          0.4258999862961579
         ],
         "subplot": "polar",
         "theta": [
          "Home",
          "Draw",
          "Away",
          "Over",
          "Under",
          "GG",
          "NG"
         ],
         "type": "scatterpolar",
         "visible": false
        },
        {
         "hovertemplate": "Score %{x}<br>Prob: %{y:.3f}",
         "marker": {
          "color": [
           0.0893934141602111,
           0.08369379910385374,
           0.08153838060693129,
           0.07633959290937944,
           0.07161088319072735,
           0.06531840744709998,
           0.05223838970122545,
           0.04764818238307749,
           0.0371867859308143,
           0.03481580181548619,
           0.029789426979011335,
           0.021730659170354903,
           0.016302577895830308,
           0.014870064129802756,
           0.011306389600994496,
           0.01058550799010337,
           0.009057272872189394,
           0.006781712948631328,
           0.006607059274323153,
           0.002578223203680025,
           0.002413838836795811,
           0.002065351708655638,
           0.002061933744475559,
           0.001506623611099597,
           0.00047018770908001666
          ],
          "colorscale": [
           [
            0,
            "rgb(210, 251, 212)"
           ],
           [
            0.16666666666666666,
            "rgb(165, 219, 194)"
           ],
           [
            0.3333333333333333,
            "rgb(123, 188, 176)"
           ],
           [
            0.5,
            "rgb(85, 156, 158)"
           ],
           [
            0.6666666666666666,
            "rgb(58, 124, 137)"
           ],
           [
            0.8333333333333334,
            "rgb(35, 93, 114)"
           ],
           [
            1,
            "rgb(18, 63, 90)"
           ]
          ]
         },
         "name": "Propable Scoreline",
         "type": "bar",
         "visible": false,
         "x": [
          "3 - 0",
          "2 - 0",
          "3 - 1",
          "2 - 1",
          "4 - 0",
          "4 - 1",
          "1 - 0",
          "1 - 1",
          "3 - 2",
          "2 - 2",
          "4 - 2",
          "1 - 2",
          "Other",
          "Other",
          "Other",
          "Other",
          "Other",
          "Other",
          "Other",
          "Other",
          "Other",
          "Other",
          "Other",
          "Other",
          "Other"
         ],
         "xaxis": "x",
         "y": [
          0.0893934141602111,
          0.08369379910385374,
          0.08153838060693129,
          0.07633959290937944,
          0.07161088319072735,
          0.06531840744709998,
          0.05223838970122545,
          0.04764818238307749,
          0.0371867859308143,
          0.03481580181548619,
          0.029789426979011335,
          0.021730659170354903,
          0.016302577895830308,
          0.014870064129802756,
          0.011306389600994496,
          0.01058550799010337,
          0.009057272872189394,
          0.006781712948631328,
          0.006607059274323153,
          0.002578223203680025,
          0.002413838836795811,
          0.002065351708655638,
          0.002061933744475559,
          0.001506623611099597,
          0.00047018770908001666
         ],
         "yaxis": "y"
        },
        {
         "fill": "toself",
         "hovertemplate": "%{theta}<br>Prob: %{r:.2f}<br>Bookmaker Odds",
         "marker": {
          "color": "rgb(82, 106, 131)"
         },
         "name": "Bookmaker Odds",
         "r": [
          0.5882352941176471,
          0.23529411764705882,
          0.2298850574712644,
          0.44052863436123346,
          0.6060606060606061,
          0.6451612903225806,
          0.42194092827004215
         ],
         "subplot": "polar",
         "theta": [
          "Home",
          "Draw",
          "Away",
          "Over",
          "Under",
          "GG",
          "NG"
         ],
         "type": "scatterpolar",
         "visible": false
        },
        {
         "fill": "toself",
         "hovertemplate": "%{theta}<br>Prob: %{r:.2f}<br>Predicted Odds",
         "marker": {
          "color": "rgb(141,211,199)"
         },
         "name": "Predicted Odds",
         "r": [
          0.6477385164857934,
          0.1727775133897985,
          0.17946253530565778,
          0.7623406972911633,
          0.23765930270883673,
          0.6908188676184753,
          0.3091596975627743
         ],
         "subplot": "polar",
         "theta": [
          "Home",
          "Draw",
          "Away",
          "Over",
          "Under",
          "GG",
          "NG"
         ],
         "type": "scatterpolar",
         "visible": false
        },
        {
         "hovertemplate": "Score %{x}<br>Prob: %{y:.3f}",
         "marker": {
          "color": [
           0.08673594626779932,
           0.07635588464957652,
           0.06568473763348896,
           0.06368019229241496,
           0.05906957959882496,
           0.056059311350911446,
           0.05200047039575917,
           0.05041353704684175,
           0.04822472000550793,
           0.04473312398172045,
           0.0370128403669184,
           0.03433301379167954,
           0.026818678868611803,
           0.02487137653781516,
           0.023609172877681387,
           0.02030966353583838,
           0.018260180567063432,
           0.0169380956725463,
           0.015587821645661247,
           0.009132131223158809,
           0.008039250025905113,
           0.007690207913666594,
           0.006915721442362011,
           0.005307868946444571,
           0.0026186221977985463
          ],
          "colorscale": [
           [
            0,
            "rgb(210, 251, 212)"
           ],
           [
            0.16666666666666666,
            "rgb(165, 219, 194)"
           ],
           [
            0.3333333333333333,
            "rgb(123, 188, 176)"
           ],
           [
            0.5,
            "rgb(85, 156, 158)"
           ],
           [
            0.6666666666666666,
            "rgb(58, 124, 137)"
           ],
           [
            0.8333333333333334,
            "rgb(35, 93, 114)"
           ],
           [
            1,
            "rgb(18, 63, 90)"
           ]
          ]
         },
         "name": "Propable Scoreline",
         "type": "bar",
         "visible": false,
         "x": [
          "2 - 1",
          "3 - 1",
          "1 - 1",
          "2 - 0",
          "2 - 2",
          "3 - 0",
          "3 - 2",
          "4 - 1",
          "1 - 0",
          "1 - 2",
          "4 - 0",
          "4 - 2",
          "2 - 3",
          "0 - 1",
          "3 - 3",
          "1 - 3",
          "Other",
          "Other",
          "Other",
          "Other",
          "Other",
          "Other",
          "Other",
          "Other",
          "Other"
         ],
         "xaxis": "x",
         "y": [
          0.08673594626779932,
          0.07635588464957652,
          0.06568473763348896,
          0.06368019229241496,
          0.05906957959882496,
          0.056059311350911446,
          0.05200047039575917,
          0.05041353704684175,
          0.04822472000550793,
          0.04473312398172045,
          0.0370128403669184,
          0.03433301379167954,
          0.026818678868611803,
          0.02487137653781516,
          0.023609172877681387,
          0.02030966353583838,
          0.018260180567063432,
          0.0169380956725463,
          0.015587821645661247,
          0.009132131223158809,
          0.008039250025905113,
          0.007690207913666594,
          0.006915721442362011,
          0.005307868946444571,
          0.0026186221977985463
         ],
         "yaxis": "y"
        },
        {
         "fill": "toself",
         "hovertemplate": "%{theta}<br>Prob: %{r:.2f}<br>Bookmaker Odds",
         "marker": {
          "color": "rgb(82, 106, 131)"
         },
         "name": "Bookmaker Odds",
         "r": [
          0.14492753623188406,
          0.2150537634408602,
          0.6896551724137931,
          0.6172839506172839,
          0.4347826086956522,
          0.5617977528089888,
          0.5050505050505051
         ],
         "subplot": "polar",
         "theta": [
          "Home",
          "Draw",
          "Away",
          "Over",
          "Under",
          "GG",
          "NG"
         ],
         "type": "scatterpolar",
         "visible": false
        },
        {
         "fill": "toself",
         "hovertemplate": "%{theta}<br>Prob: %{r:.2f}<br>Predicted Odds",
         "marker": {
          "color": "rgb(141,211,199)"
         },
         "name": "Predicted Odds",
         "r": [
          0.09256697788580183,
          0.20717866855392597,
          0.7002537664924688,
          0.4146746773061383,
          0.5853253226938617,
          0.3303492006879134,
          0.6696502122442833
         ],
         "subplot": "polar",
         "theta": [
          "Home",
          "Draw",
          "Away",
          "Over",
          "Under",
          "GG",
          "NG"
         ],
         "type": "scatterpolar",
         "visible": false
        },
        {
         "hovertemplate": "Score %{x}<br>Prob: %{y:.3f}",
         "marker": {
          "color": [
           0.1773436591176965,
           0.1633324246344599,
           0.1002854422864429,
           0.09627841348599635,
           0.08840996127219732,
           0.08142503322796134,
           0.04999463816648444,
           0.04799704060462885,
           0.0461811392797337,
           0.02302237788224248,
           0.022037216585691462,
           0.020296141598989653,
           0.012461748128200622,
           0.011963823578882848,
           0.005738596877636669,
           0.003662022603610513,
           0.0033727004049067676,
           0.0020708242871108388,
           0.0019880819431581007,
           0.0009536082470850214,
           0.00045640097618072917,
           0.0004203425057089864,
           0.0002580885833976877,
           0.0002477763350477516,
           0.00011884900285282014
          ],
          "colorscale": [
           [
            0,
            "rgb(210, 251, 212)"
           ],
           [
            0.16666666666666666,
            "rgb(165, 219, 194)"
           ],
           [
            0.3333333333333333,
            "rgb(123, 188, 176)"
           ],
           [
            0.5,
            "rgb(85, 156, 158)"
           ],
           [
            0.6666666666666666,
            "rgb(58, 124, 137)"
           ],
           [
            0.8333333333333334,
            "rgb(35, 93, 114)"
           ],
           [
            1,
            "rgb(18, 63, 90)"
           ]
          ]
         },
         "name": "Propable Scoreline",
         "type": "bar",
         "visible": false,
         "x": [
          "0 - 1",
          "0 - 2",
          "0 - 3",
          "0 - 0",
          "1 - 1",
          "1 - 2",
          "1 - 3",
          "1 - 0",
          "0 - 4",
          "1 - 4",
          "2 - 1",
          "2 - 2",
          "Other",
          "Other",
          "Other",
          "Other",
          "Other",
          "Other",
          "Other",
          "Other",
          "Other",
          "Other",
          "Other",
          "Other",
          "Other"
         ],
         "xaxis": "x",
         "y": [
          0.1773436591176965,
          0.1633324246344599,
          0.1002854422864429,
          0.09627841348599635,
          0.08840996127219732,
          0.08142503322796134,
          0.04999463816648444,
          0.04799704060462885,
          0.0461811392797337,
          0.02302237788224248,
          0.022037216585691462,
          0.020296141598989653,
          0.012461748128200622,
          0.011963823578882848,
          0.005738596877636669,
          0.003662022603610513,
          0.0033727004049067676,
          0.0020708242871108388,
          0.0019880819431581007,
          0.0009536082470850214,
          0.00045640097618072917,
          0.0004203425057089864,
          0.0002580885833976877,
          0.0002477763350477516,
          0.00011884900285282014
         ],
         "yaxis": "y"
        }
       ],
       "layout": {
        "height": 650,
        "polar": {
         "domain": {
          "x": [
           0,
           0.29700000000000004
          ],
          "y": [
           0,
           1
          ]
         }
        },
        "template": {
         "data": {
          "bar": [
           {
            "error_x": {
             "color": "#2a3f5f"
            },
            "error_y": {
             "color": "#2a3f5f"
            },
            "marker": {
             "line": {
              "color": "#E5ECF6",
              "width": 0.5
             },
             "pattern": {
              "fillmode": "overlay",
              "size": 10,
              "solidity": 0.2
             }
            },
            "type": "bar"
           }
          ],
          "barpolar": [
           {
            "marker": {
             "line": {
              "color": "#E5ECF6",
              "width": 0.5
             },
             "pattern": {
              "fillmode": "overlay",
              "size": 10,
              "solidity": 0.2
             }
            },
            "type": "barpolar"
           }
          ],
          "carpet": [
           {
            "aaxis": {
             "endlinecolor": "#2a3f5f",
             "gridcolor": "white",
             "linecolor": "white",
             "minorgridcolor": "white",
             "startlinecolor": "#2a3f5f"
            },
            "baxis": {
             "endlinecolor": "#2a3f5f",
             "gridcolor": "white",
             "linecolor": "white",
             "minorgridcolor": "white",
             "startlinecolor": "#2a3f5f"
            },
            "type": "carpet"
           }
          ],
          "choropleth": [
           {
            "colorbar": {
             "outlinewidth": 0,
             "ticks": ""
            },
            "type": "choropleth"
           }
          ],
          "contour": [
           {
            "colorbar": {
             "outlinewidth": 0,
             "ticks": ""
            },
            "colorscale": [
             [
              0,
              "#0d0887"
             ],
             [
              0.1111111111111111,
              "#46039f"
             ],
             [
              0.2222222222222222,
              "#7201a8"
             ],
             [
              0.3333333333333333,
              "#9c179e"
             ],
             [
              0.4444444444444444,
              "#bd3786"
             ],
             [
              0.5555555555555556,
              "#d8576b"
             ],
             [
              0.6666666666666666,
              "#ed7953"
             ],
             [
              0.7777777777777778,
              "#fb9f3a"
             ],
             [
              0.8888888888888888,
              "#fdca26"
             ],
             [
              1,
              "#f0f921"
             ]
            ],
            "type": "contour"
           }
          ],
          "contourcarpet": [
           {
            "colorbar": {
             "outlinewidth": 0,
             "ticks": ""
            },
            "type": "contourcarpet"
           }
          ],
          "heatmap": [
           {
            "colorbar": {
             "outlinewidth": 0,
             "ticks": ""
            },
            "colorscale": [
             [
              0,
              "#0d0887"
             ],
             [
              0.1111111111111111,
              "#46039f"
             ],
             [
              0.2222222222222222,
              "#7201a8"
             ],
             [
              0.3333333333333333,
              "#9c179e"
             ],
             [
              0.4444444444444444,
              "#bd3786"
             ],
             [
              0.5555555555555556,
              "#d8576b"
             ],
             [
              0.6666666666666666,
              "#ed7953"
             ],
             [
              0.7777777777777778,
              "#fb9f3a"
             ],
             [
              0.8888888888888888,
              "#fdca26"
             ],
             [
              1,
              "#f0f921"
             ]
            ],
            "type": "heatmap"
           }
          ],
          "heatmapgl": [
           {
            "colorbar": {
             "outlinewidth": 0,
             "ticks": ""
            },
            "colorscale": [
             [
              0,
              "#0d0887"
             ],
             [
              0.1111111111111111,
              "#46039f"
             ],
             [
              0.2222222222222222,
              "#7201a8"
             ],
             [
              0.3333333333333333,
              "#9c179e"
             ],
             [
              0.4444444444444444,
              "#bd3786"
             ],
             [
              0.5555555555555556,
              "#d8576b"
             ],
             [
              0.6666666666666666,
              "#ed7953"
             ],
             [
              0.7777777777777778,
              "#fb9f3a"
             ],
             [
              0.8888888888888888,
              "#fdca26"
             ],
             [
              1,
              "#f0f921"
             ]
            ],
            "type": "heatmapgl"
           }
          ],
          "histogram": [
           {
            "marker": {
             "pattern": {
              "fillmode": "overlay",
              "size": 10,
              "solidity": 0.2
             }
            },
            "type": "histogram"
           }
          ],
          "histogram2d": [
           {
            "colorbar": {
             "outlinewidth": 0,
             "ticks": ""
            },
            "colorscale": [
             [
              0,
              "#0d0887"
             ],
             [
              0.1111111111111111,
              "#46039f"
             ],
             [
              0.2222222222222222,
              "#7201a8"
             ],
             [
              0.3333333333333333,
              "#9c179e"
             ],
             [
              0.4444444444444444,
              "#bd3786"
             ],
             [
              0.5555555555555556,
              "#d8576b"
             ],
             [
              0.6666666666666666,
              "#ed7953"
             ],
             [
              0.7777777777777778,
              "#fb9f3a"
             ],
             [
              0.8888888888888888,
              "#fdca26"
             ],
             [
              1,
              "#f0f921"
             ]
            ],
            "type": "histogram2d"
           }
          ],
          "histogram2dcontour": [
           {
            "colorbar": {
             "outlinewidth": 0,
             "ticks": ""
            },
            "colorscale": [
             [
              0,
              "#0d0887"
             ],
             [
              0.1111111111111111,
              "#46039f"
             ],
             [
              0.2222222222222222,
              "#7201a8"
             ],
             [
              0.3333333333333333,
              "#9c179e"
             ],
             [
              0.4444444444444444,
              "#bd3786"
             ],
             [
              0.5555555555555556,
              "#d8576b"
             ],
             [
              0.6666666666666666,
              "#ed7953"
             ],
             [
              0.7777777777777778,
              "#fb9f3a"
             ],
             [
              0.8888888888888888,
              "#fdca26"
             ],
             [
              1,
              "#f0f921"
             ]
            ],
            "type": "histogram2dcontour"
           }
          ],
          "mesh3d": [
           {
            "colorbar": {
             "outlinewidth": 0,
             "ticks": ""
            },
            "type": "mesh3d"
           }
          ],
          "parcoords": [
           {
            "line": {
             "colorbar": {
              "outlinewidth": 0,
              "ticks": ""
             }
            },
            "type": "parcoords"
           }
          ],
          "pie": [
           {
            "automargin": true,
            "type": "pie"
           }
          ],
          "scatter": [
           {
            "fillpattern": {
             "fillmode": "overlay",
             "size": 10,
             "solidity": 0.2
            },
            "type": "scatter"
           }
          ],
          "scatter3d": [
           {
            "line": {
             "colorbar": {
              "outlinewidth": 0,
              "ticks": ""
             }
            },
            "marker": {
             "colorbar": {
              "outlinewidth": 0,
              "ticks": ""
             }
            },
            "type": "scatter3d"
           }
          ],
          "scattercarpet": [
           {
            "marker": {
             "colorbar": {
              "outlinewidth": 0,
              "ticks": ""
             }
            },
            "type": "scattercarpet"
           }
          ],
          "scattergeo": [
           {
            "marker": {
             "colorbar": {
              "outlinewidth": 0,
              "ticks": ""
             }
            },
            "type": "scattergeo"
           }
          ],
          "scattergl": [
           {
            "marker": {
             "colorbar": {
              "outlinewidth": 0,
              "ticks": ""
             }
            },
            "type": "scattergl"
           }
          ],
          "scattermapbox": [
           {
            "marker": {
             "colorbar": {
              "outlinewidth": 0,
              "ticks": ""
             }
            },
            "type": "scattermapbox"
           }
          ],
          "scatterpolar": [
           {
            "marker": {
             "colorbar": {
              "outlinewidth": 0,
              "ticks": ""
             }
            },
            "type": "scatterpolar"
           }
          ],
          "scatterpolargl": [
           {
            "marker": {
             "colorbar": {
              "outlinewidth": 0,
              "ticks": ""
             }
            },
            "type": "scatterpolargl"
           }
          ],
          "scatterternary": [
           {
            "marker": {
             "colorbar": {
              "outlinewidth": 0,
              "ticks": ""
             }
            },
            "type": "scatterternary"
           }
          ],
          "surface": [
           {
            "colorbar": {
             "outlinewidth": 0,
             "ticks": ""
            },
            "colorscale": [
             [
              0,
              "#0d0887"
             ],
             [
              0.1111111111111111,
              "#46039f"
             ],
             [
              0.2222222222222222,
              "#7201a8"
             ],
             [
              0.3333333333333333,
              "#9c179e"
             ],
             [
              0.4444444444444444,
              "#bd3786"
             ],
             [
              0.5555555555555556,
              "#d8576b"
             ],
             [
              0.6666666666666666,
              "#ed7953"
             ],
             [
              0.7777777777777778,
              "#fb9f3a"
             ],
             [
              0.8888888888888888,
              "#fdca26"
             ],
             [
              1,
              "#f0f921"
             ]
            ],
            "type": "surface"
           }
          ],
          "table": [
           {
            "cells": {
             "fill": {
              "color": "#EBF0F8"
             },
             "line": {
              "color": "white"
             }
            },
            "header": {
             "fill": {
              "color": "#C8D4E3"
             },
             "line": {
              "color": "white"
             }
            },
            "type": "table"
           }
          ]
         },
         "layout": {
          "annotationdefaults": {
           "arrowcolor": "#2a3f5f",
           "arrowhead": 0,
           "arrowwidth": 1
          },
          "autotypenumbers": "strict",
          "coloraxis": {
           "colorbar": {
            "outlinewidth": 0,
            "ticks": ""
           }
          },
          "colorscale": {
           "diverging": [
            [
             0,
             "#8e0152"
            ],
            [
             0.1,
             "#c51b7d"
            ],
            [
             0.2,
             "#de77ae"
            ],
            [
             0.3,
             "#f1b6da"
            ],
            [
             0.4,
             "#fde0ef"
            ],
            [
             0.5,
             "#f7f7f7"
            ],
            [
             0.6,
             "#e6f5d0"
            ],
            [
             0.7,
             "#b8e186"
            ],
            [
             0.8,
             "#7fbc41"
            ],
            [
             0.9,
             "#4d9221"
            ],
            [
             1,
             "#276419"
            ]
           ],
           "sequential": [
            [
             0,
             "#0d0887"
            ],
            [
             0.1111111111111111,
             "#46039f"
            ],
            [
             0.2222222222222222,
             "#7201a8"
            ],
            [
             0.3333333333333333,
             "#9c179e"
            ],
            [
             0.4444444444444444,
             "#bd3786"
            ],
            [
             0.5555555555555556,
             "#d8576b"
            ],
            [
             0.6666666666666666,
             "#ed7953"
            ],
            [
             0.7777777777777778,
             "#fb9f3a"
            ],
            [
             0.8888888888888888,
             "#fdca26"
            ],
            [
             1,
             "#f0f921"
            ]
           ],
           "sequentialminus": [
            [
             0,
             "#0d0887"
            ],
            [
             0.1111111111111111,
             "#46039f"
            ],
            [
             0.2222222222222222,
             "#7201a8"
            ],
            [
             0.3333333333333333,
             "#9c179e"
            ],
            [
             0.4444444444444444,
             "#bd3786"
            ],
            [
             0.5555555555555556,
             "#d8576b"
            ],
            [
             0.6666666666666666,
             "#ed7953"
            ],
            [
             0.7777777777777778,
             "#fb9f3a"
            ],
            [
             0.8888888888888888,
             "#fdca26"
            ],
            [
             1,
             "#f0f921"
            ]
           ]
          },
          "colorway": [
           "#636efa",
           "#EF553B",
           "#00cc96",
           "#ab63fa",
           "#FFA15A",
           "#19d3f3",
           "#FF6692",
           "#B6E880",
           "#FF97FF",
           "#FECB52"
          ],
          "font": {
           "color": "#2a3f5f"
          },
          "geo": {
           "bgcolor": "white",
           "lakecolor": "white",
           "landcolor": "#E5ECF6",
           "showlakes": true,
           "showland": true,
           "subunitcolor": "white"
          },
          "hoverlabel": {
           "align": "left"
          },
          "hovermode": "closest",
          "mapbox": {
           "style": "light"
          },
          "paper_bgcolor": "white",
          "plot_bgcolor": "#E5ECF6",
          "polar": {
           "angularaxis": {
            "gridcolor": "white",
            "linecolor": "white",
            "ticks": ""
           },
           "bgcolor": "#E5ECF6",
           "radialaxis": {
            "gridcolor": "white",
            "linecolor": "white",
            "ticks": ""
           }
          },
          "scene": {
           "xaxis": {
            "backgroundcolor": "#E5ECF6",
            "gridcolor": "white",
            "gridwidth": 2,
            "linecolor": "white",
            "showbackground": true,
            "ticks": "",
            "zerolinecolor": "white"
           },
           "yaxis": {
            "backgroundcolor": "#E5ECF6",
            "gridcolor": "white",
            "gridwidth": 2,
            "linecolor": "white",
            "showbackground": true,
            "ticks": "",
            "zerolinecolor": "white"
           },
           "zaxis": {
            "backgroundcolor": "#E5ECF6",
            "gridcolor": "white",
            "gridwidth": 2,
            "linecolor": "white",
            "showbackground": true,
            "ticks": "",
            "zerolinecolor": "white"
           }
          },
          "shapedefaults": {
           "line": {
            "color": "#2a3f5f"
           }
          },
          "ternary": {
           "aaxis": {
            "gridcolor": "white",
            "linecolor": "white",
            "ticks": ""
           },
           "baxis": {
            "gridcolor": "white",
            "linecolor": "white",
            "ticks": ""
           },
           "bgcolor": "#E5ECF6",
           "caxis": {
            "gridcolor": "white",
            "linecolor": "white",
            "ticks": ""
           }
          },
          "title": {
           "x": 0.05
          },
          "xaxis": {
           "automargin": true,
           "gridcolor": "white",
           "linecolor": "white",
           "ticks": "",
           "title": {
            "standoff": 15
           },
           "zerolinecolor": "white",
           "zerolinewidth": 2
          },
          "yaxis": {
           "automargin": true,
           "gridcolor": "white",
           "linecolor": "white",
           "ticks": "",
           "title": {
            "standoff": 15
           },
           "zerolinecolor": "white",
           "zerolinewidth": 2
          }
         }
        },
        "updatemenus": [
         {
          "active": 0,
          "buttons": [
           {
            "args": [
             {
              "visible": [
               true,
               true,
               true,
               false,
               false,
               false,
               false,
               false,
               false,
               false,
               false,
               false,
               false,
               false,
               false,
               false,
               false,
               false,
               false,
               false,
               false,
               false,
               false,
               false,
               false,
               false,
               false,
               false,
               false,
               false,
               false,
               false,
               false,
               false,
               false,
               false,
               false,
               false,
               false,
               false,
               false,
               false,
               false,
               false,
               false,
               false,
               false,
               false,
               false,
               false,
               false,
               false,
               false,
               false,
               false,
               false,
               false,
               false,
               false,
               false
              ]
             }
            ],
            "label": "Wolverhampton Wanderers-Liverpool",
            "method": "restyle"
           },
           {
            "args": [
             {
              "visible": [
               false,
               false,
               false,
               true,
               true,
               true,
               false,
               false,
               false,
               false,
               false,
               false,
               false,
               false,
               false,
               false,
               false,
               false,
               false,
               false,
               false,
               false,
               false,
               false,
               false,
               false,
               false,
               false,
               false,
               false,
               false,
               false,
               false,
               false,
               false,
               false,
               false,
               false,
               false,
               false,
               false,
               false,
               false,
               false,
               false,
               false,
               false,
               false,
               false,
               false,
               false,
               false,
               false,
               false,
               false,
               false,
               false,
               false,
               false,
               false
              ]
             }
            ],
            "label": "Fulham-Luton",
            "method": "restyle"
           },
           {
            "args": [
             {
              "visible": [
               false,
               false,
               false,
               false,
               false,
               false,
               true,
               true,
               true,
               false,
               false,
               false,
               false,
               false,
               false,
               false,
               false,
               false,
               false,
               false,
               false,
               false,
               false,
               false,
               false,
               false,
               false,
               false,
               false,
               false,
               false,
               false,
               false,
               false,
               false,
               false,
               false,
               false,
               false,
               false,
               false,
               false,
               false,
               false,
               false,
               false,
               false,
               false,
               false,
               false,
               false,
               false,
               false,
               false,
               false,
               false,
               false,
               false,
               false,
               false
              ]
             }
            ],
            "label": "Tottenham-Sheffield United",
            "method": "restyle"
           },
           {
            "args": [
             {
              "visible": [
               false,
               false,
               false,
               false,
               false,
               false,
               false,
               false,
               false,
               true,
               true,
               true,
               false,
               false,
               false,
               false,
               false,
               false,
               false,
               false,
               false,
               false,
               false,
               false,
               false,
               false,
               false,
               false,
               false,
               false,
               false,
               false,
               false,
               false,
               false,
               false,
               false,
               false,
               false,
               false,
               false,
               false,
               false,
               false,
               false,
               false,
               false,
               false,
               false,
               false,
               false,
               false,
               false,
               false,
               false,
               false,
               false,
               false,
               false,
               false
              ]
             }
            ],
            "label": "West Ham-Manchester City",
            "method": "restyle"
           },
           {
            "args": [
             {
              "visible": [
               false,
               false,
               false,
               false,
               false,
               false,
               false,
               false,
               false,
               false,
               false,
               false,
               true,
               true,
               true,
               false,
               false,
               false,
               false,
               false,
               false,
               false,
               false,
               false,
               false,
               false,
               false,
               false,
               false,
               false,
               false,
               false,
               false,
               false,
               false,
               false,
               false,
               false,
               false,
               false,
               false,
               false,
               false,
               false,
               false,
               false,
               false,
               false,
               false,
               false,
               false,
               false,
               false,
               false,
               false,
               false,
               false,
               false,
               false,
               false
              ]
             }
            ],
            "label": "Aston Villa-Crystal Palace",
            "method": "restyle"
           },
           {
            "args": [
             {
              "visible": [
               false,
               false,
               false,
               false,
               false,
               false,
               false,
               false,
               false,
               false,
               false,
               false,
               false,
               false,
               false,
               true,
               true,
               true,
               false,
               false,
               false,
               false,
               false,
               false,
               false,
               false,
               false,
               false,
               false,
               false,
               false,
               false,
               false,
               false,
               false,
               false,
               false,
               false,
               false,
               false,
               false,
               false,
               false,
               false,
               false,
               false,
               false,
               false,
               false,
               false,
               false,
               false,
               false,
               false,
               false,
               false,
               false,
               false,
               false,
               false
              ]
             }
            ],
            "label": "Manchester United-Brighton",
            "method": "restyle"
           },
           {
            "args": [
             {
              "visible": [
               false,
               false,
               false,
               false,
               false,
               false,
               false,
               false,
               false,
               false,
               false,
               false,
               false,
               false,
               false,
               false,
               false,
               false,
               true,
               true,
               true,
               false,
               false,
               false,
               false,
               false,
               false,
               false,
               false,
               false,
               false,
               false,
               false,
               false,
               false,
               false,
               false,
               false,
               false,
               false,
               false,
               false,
               false,
               false,
               false,
               false,
               false,
               false,
               false,
               false,
               false,
               false,
               false,
               false,
               false,
               false,
               false,
               false,
               false,
               false
              ]
             }
            ],
            "label": "Newcastle United-Brentford",
            "method": "restyle"
           },
           {
            "args": [
             {
              "visible": [
               false,
               false,
               false,
               false,
               false,
               false,
               false,
               false,
               false,
               false,
               false,
               false,
               false,
               false,
               false,
               false,
               false,
               false,
               false,
               false,
               false,
               true,
               true,
               true,
               false,
               false,
               false,
               false,
               false,
               false,
               false,
               false,
               false,
               false,
               false,
               false,
               false,
               false,
               false,
               false,
               false,
               false,
               false,
               false,
               false,
               false,
               false,
               false,
               false,
               false,
               false,
               false,
               false,
               false,
               false,
               false,
               false,
               false,
               false,
               false
              ]
             }
            ],
            "label": "Bournemouth-Chelsea",
            "method": "restyle"
           },
           {
            "args": [
             {
              "visible": [
               false,
               false,
               false,
               false,
               false,
               false,
               false,
               false,
               false,
               false,
               false,
               false,
               false,
               false,
               false,
               false,
               false,
               false,
               false,
               false,
               false,
               false,
               false,
               false,
               true,
               true,
               true,
               false,
               false,
               false,
               false,
               false,
               false,
               false,
               false,
               false,
               false,
               false,
               false,
               false,
               false,
               false,
               false,
               false,
               false,
               false,
               false,
               false,
               false,
               false,
               false,
               false,
               false,
               false,
               false,
               false,
               false,
               false,
               false,
               false
              ]
             }
            ],
            "label": "Everton-Arsenal",
            "method": "restyle"
           },
           {
            "args": [
             {
              "visible": [
               false,
               false,
               false,
               false,
               false,
               false,
               false,
               false,
               false,
               false,
               false,
               false,
               false,
               false,
               false,
               false,
               false,
               false,
               false,
               false,
               false,
               false,
               false,
               false,
               false,
               false,
               false,
               true,
               true,
               true,
               false,
               false,
               false,
               false,
               false,
               false,
               false,
               false,
               false,
               false,
               false,
               false,
               false,
               false,
               false,
               false,
               false,
               false,
               false,
               false,
               false,
               false,
               false,
               false,
               false,
               false,
               false,
               false,
               false,
               false
              ]
             }
            ],
            "label": "Nottingham Forest-Burnley",
            "method": "restyle"
           },
           {
            "args": [
             {
              "visible": [
               false,
               false,
               false,
               false,
               false,
               false,
               false,
               false,
               false,
               false,
               false,
               false,
               false,
               false,
               false,
               false,
               false,
               false,
               false,
               false,
               false,
               false,
               false,
               false,
               false,
               false,
               false,
               false,
               false,
               false,
               true,
               true,
               true,
               false,
               false,
               false,
               false,
               false,
               false,
               false,
               false,
               false,
               false,
               false,
               false,
               false,
               false,
               false,
               false,
               false,
               false,
               false,
               false,
               false,
               false,
               false,
               false,
               false,
               false,
               false
              ]
             }
            ],
            "label": "Manchester City-Nottingham Forest",
            "method": "restyle"
           },
           {
            "args": [
             {
              "visible": [
               false,
               false,
               false,
               false,
               false,
               false,
               false,
               false,
               false,
               false,
               false,
               false,
               false,
               false,
               false,
               false,
               false,
               false,
               false,
               false,
               false,
               false,
               false,
               false,
               false,
               false,
               false,
               false,
               false,
               false,
               false,
               false,
               false,
               true,
               true,
               true,
               false,
               false,
               false,
               false,
               false,
               false,
               false,
               false,
               false,
               false,
               false,
               false,
               false,
               false,
               false,
               false,
               false,
               false,
               false,
               false,
               false,
               false,
               false,
               false
              ]
             }
            ],
            "label": "Luton-Wolverhampton Wanderers",
            "method": "restyle"
           },
           {
            "args": [
             {
              "visible": [
               false,
               false,
               false,
               false,
               false,
               false,
               false,
               false,
               false,
               false,
               false,
               false,
               false,
               false,
               false,
               false,
               false,
               false,
               false,
               false,
               false,
               false,
               false,
               false,
               false,
               false,
               false,
               false,
               false,
               false,
               false,
               false,
               false,
               false,
               false,
               false,
               true,
               true,
               true,
               false,
               false,
               false,
               false,
               false,
               false,
               false,
               false,
               false,
               false,
               false,
               false,
               false,
               false,
               false,
               false,
               false,
               false,
               false,
               false,
               false
              ]
             }
            ],
            "label": "Crystal Palace-Fulham",
            "method": "restyle"
           },
           {
            "args": [
             {
              "visible": [
               false,
               false,
               false,
               false,
               false,
               false,
               false,
               false,
               false,
               false,
               false,
               false,
               false,
               false,
               false,
               false,
               false,
               false,
               false,
               false,
               false,
               false,
               false,
               false,
               false,
               false,
               false,
               false,
               false,
               false,
               false,
               false,
               false,
               false,
               false,
               false,
               false,
               false,
               false,
               true,
               true,
               true,
               false,
               false,
               false,
               false,
               false,
               false,
               false,
               false,
               false,
               false,
               false,
               false,
               false,
               false,
               false,
               false,
               false,
               false
              ]
             }
            ],
            "label": "Brentford-Everton",
            "method": "restyle"
           },
           {
            "args": [
             {
              "visible": [
               false,
               false,
               false,
               false,
               false,
               false,
               false,
               false,
               false,
               false,
               false,
               false,
               false,
               false,
               false,
               false,
               false,
               false,
               false,
               false,
               false,
               false,
               false,
               false,
               false,
               false,
               false,
               false,
               false,
               false,
               false,
               false,
               false,
               false,
               false,
               false,
               false,
               false,
               false,
               false,
               false,
               false,
               true,
               true,
               true,
               false,
               false,
               false,
               false,
               false,
               false,
               false,
               false,
               false,
               false,
               false,
               false,
               false,
               false,
               false
              ]
             }
            ],
            "label": "Burnley-Manchester United",
            "method": "restyle"
           },
           {
            "args": [
             {
              "visible": [
               false,
               false,
               false,
               false,
               false,
               false,
               false,
               false,
               false,
               false,
               false,
               false,
               false,
               false,
               false,
               false,
               false,
               false,
               false,
               false,
               false,
               false,
               false,
               false,
               false,
               false,
               false,
               false,
               false,
               false,
               false,
               false,
               false,
               false,
               false,
               false,
               false,
               false,
               false,
               false,
               false,
               false,
               false,
               false,
               false,
               true,
               true,
               true,
               false,
               false,
               false,
               false,
               false,
               false,
               false,
               false,
               false,
               false,
               false,
               false
              ]
             }
            ],
            "label": "Chelsea-Aston Villa",
            "method": "restyle"
           },
           {
            "args": [
             {
              "visible": [
               false,
               false,
               false,
               false,
               false,
               false,
               false,
               false,
               false,
               false,
               false,
               false,
               false,
               false,
               false,
               false,
               false,
               false,
               false,
               false,
               false,
               false,
               false,
               false,
               false,
               false,
               false,
               false,
               false,
               false,
               false,
               false,
               false,
               false,
               false,
               false,
               false,
               false,
               false,
               false,
               false,
               false,
               false,
               false,
               false,
               false,
               false,
               false,
               true,
               true,
               true,
               false,
               false,
               false,
               false,
               false,
               false,
               false,
               false,
               false
              ]
             }
            ],
            "label": "Liverpool-West Ham",
            "method": "restyle"
           },
           {
            "args": [
             {
              "visible": [
               false,
               false,
               false,
               false,
               false,
               false,
               false,
               false,
               false,
               false,
               false,
               false,
               false,
               false,
               false,
               false,
               false,
               false,
               false,
               false,
               false,
               false,
               false,
               false,
               false,
               false,
               false,
               false,
               false,
               false,
               false,
               false,
               false,
               false,
               false,
               false,
               false,
               false,
               false,
               false,
               false,
               false,
               false,
               false,
               false,
               false,
               false,
               false,
               false,
               false,
               false,
               true,
               true,
               true,
               false,
               false,
               false,
               false,
               false,
               false
              ]
             }
            ],
            "label": "Brighton-Bournemouth",
            "method": "restyle"
           },
           {
            "args": [
             {
              "visible": [
               false,
               false,
               false,
               false,
               false,
               false,
               false,
               false,
               false,
               false,
               false,
               false,
               false,
               false,
               false,
               false,
               false,
               false,
               false,
               false,
               false,
               false,
               false,
               false,
               false,
               false,
               false,
               false,
               false,
               false,
               false,
               false,
               false,
               false,
               false,
               false,
               false,
               false,
               false,
               false,
               false,
               false,
               false,
               false,
               false,
               false,
               false,
               false,
               false,
               false,
               false,
               false,
               false,
               false,
               true,
               true,
               true,
               false,
               false,
               false
              ]
             }
            ],
            "label": "Arsenal-Tottenham",
            "method": "restyle"
           },
           {
            "args": [
             {
              "visible": [
               false,
               false,
               false,
               false,
               false,
               false,
               false,
               false,
               false,
               false,
               false,
               false,
               false,
               false,
               false,
               false,
               false,
               false,
               false,
               false,
               false,
               false,
               false,
               false,
               false,
               false,
               false,
               false,
               false,
               false,
               false,
               false,
               false,
               false,
               false,
               false,
               false,
               false,
               false,
               false,
               false,
               false,
               false,
               false,
               false,
               false,
               false,
               false,
               false,
               false,
               false,
               false,
               false,
               false,
               false,
               false,
               false,
               true,
               true,
               true
              ]
             }
            ],
            "label": "Sheffield United-Newcastle United",
            "method": "restyle"
           }
          ],
          "direction": "down",
          "x": 0.1,
          "y": 1.2
         }
        ],
        "width": 1500,
        "xaxis": {
         "anchor": "y",
         "domain": [
          0.397,
          1
         ]
        },
        "yaxis": {
         "anchor": "x",
         "domain": [
          0,
          1
         ]
        }
       }
      }
     },
     "metadata": {},
     "output_type": "display_data"
    }
   ],
   "source": [
    "# Create subplots\n",
    "fig = make_subplots(rows=1, cols=2, specs=[[{'type': 'polar'}, {'type': 'xy'}]], column_widths=[0.33, 0.67])\n",
    "fig.update_layout(width=1500, height=650)\n",
    "# create a list to store the buttons\n",
    "buttons = []\n",
    "categories = ['Home', 'Draw', 'Away', 'Over', 'Under', 'GG', 'NG']\n",
    "\n",
    "# loop through each match and create two traces for Bookmaker odds and predicted values\n",
    "for match_index, match in enumerate(Final_Odds['Match'].unique().tolist()):\n",
    "\n",
    "    # create the trace for Bookmaker odds\n",
    "    trace_bookmaker = go.Scatterpolar(\n",
    "      r=Final_Odds[(Final_Odds['Type']=='Bookmaker')  & (Final_Odds['Match']==match)][['P(Hwin)', 'P(Draw)', 'P(Awin)', 'P(Over)', 'P(Under)', 'P(GG)', 'P(NG)']].values.tolist()[0],\n",
    "      theta=categories,\n",
    "      fill='toself',\n",
    "      name='Bookmaker Odds',\n",
    "      marker = dict(color = 'rgb(82, 106, 131)' ),\n",
    "      visible=False if match_index!=0 else True,\n",
    "      hovertemplate='%{theta}<br>Prob: %{r:.2f}<br>Bookmaker Odds'\n",
    ")\n",
    "    fig.add_trace(trace_bookmaker, row=1, col=1)\n",
    "    # create the trace for predicted values\n",
    "    trace_predicted = go.Scatterpolar(\n",
    "        r= Final_Odds[(Final_Odds['Type']=='Predicted')  & (Final_Odds['Match']==match)][['P(Hwin)', 'P(Draw)', 'P(Awin)', 'P(Over)', 'P(Under)', 'P(GG)', 'P(NG)']].values.tolist()[0],\n",
    "        theta=categories,\n",
    "        fill='toself',\n",
    "        name='Predicted Odds',\n",
    "        marker = dict(color ='rgb(141,211,199)'), #'rgb(217, 175, 107)'\n",
    "        visible=False if match_index!=0 else True,\n",
    "        hovertemplate='%{theta}<br>Prob: %{r:.2f}<br>Predicted Odds'\n",
    "  )\n",
    "    fig.add_trace(trace_predicted, row=1, col=1)\n",
    "    \n",
    "    trace_goals = go.Bar(\n",
    "        x=Pie_list[match_index]['score'],\n",
    "        y=Pie_list[match_index]['P(score)'],\n",
    "        visible=False if match_index!=0 else True,\n",
    "        marker=dict(color=Pie_list[match_index]['P(score)'], colorscale='darkmint'),\n",
    "        name='Propable Scoreline',\n",
    "        hovertemplate='Score %{x}<br>Prob: %{y:.3f}'\n",
    "    )\n",
    "    fig.add_trace(trace_goals, row=1, col=2)\n",
    "    \n",
    "    # create the dictionary for the button\n",
    "    button_dict = dict(\n",
    "        method=\"restyle\",\n",
    "        args=[{\"visible\": [False] * (len(Final_Odds['Match'].unique().tolist()) * 3)}], # set all traces to false initially\n",
    "        label=match\n",
    "    )\n",
    "    \n",
    "    # set visibility to true for the corresponding traces\n",
    "    button_dict[\"args\"][0][\"visible\"][3*match_index] = True # Bookmaker odds trace\n",
    "    button_dict[\"args\"][0][\"visible\"][3*match_index+1] = True # Predicted trace\n",
    "    button_dict[\"args\"][0][\"visible\"][3*match_index+2] = True # Goal trace\n",
    "    \n",
    "    # set visibility to true for the corresponding traces for the first match\n",
    "    if match_index == 0:\n",
    "        button_dict[\"args\"][0][\"visible\"][0] = True # Bookmaker odds trace\n",
    "        button_dict[\"args\"][0][\"visible\"][1] = True # Predicted trace\n",
    "        button_dict[\"args\"][0][\"visible\"][2] = True\n",
    "        \n",
    "    # append the button to the list\n",
    "    buttons.append(button_dict)\n",
    "\n",
    "\n",
    "# update the layout with the buttons\n",
    "fig.update_layout(\n",
    "    updatemenus=[go.layout.Updatemenu(\n",
    "        buttons=buttons,\n",
    "        active=0, # set the initial active button\n",
    "        x=0.1,\n",
    "        y=1.2,\n",
    "        direction=\"down\"\n",
    "    )],\n",
    "    \n",
    ")\n",
    "\n",
    "# show the plot\n",
    "fig.show()\n",
    "# Save the interactive figure as an HTML file\n",
    "fig.write_html('UpcomingMatchesPredictionFigure.html')\n"
   ]
  },
  {
   "cell_type": "code",
   "execution_count": null,
   "metadata": {},
   "outputs": [
    {
     "name": "stderr",
     "output_type": "stream",
     "text": [
      "/tmp/ipykernel_52977/2791750775.py:18: SettingWithCopyWarning:\n",
      "\n",
      "\n",
      "A value is trying to be set on a copy of a slice from a DataFrame\n",
      "\n",
      "See the caveats in the documentation: https://pandas.pydata.org/pandas-docs/stable/user_guide/indexing.html#returning-a-view-versus-a-copy\n",
      "\n",
      "/tmp/ipykernel_52977/2791750775.py:19: SettingWithCopyWarning:\n",
      "\n",
      "\n",
      "A value is trying to be set on a copy of a slice from a DataFrame\n",
      "\n",
      "See the caveats in the documentation: https://pandas.pydata.org/pandas-docs/stable/user_guide/indexing.html#returning-a-view-versus-a-copy\n",
      "\n",
      "/tmp/ipykernel_52977/2791750775.py:15: SettingWithCopyWarning:\n",
      "\n",
      "\n",
      "A value is trying to be set on a copy of a slice from a DataFrame\n",
      "\n",
      "See the caveats in the documentation: https://pandas.pydata.org/pandas-docs/stable/user_guide/indexing.html#returning-a-view-versus-a-copy\n",
      "\n",
      "/tmp/ipykernel_52977/2791750775.py:16: SettingWithCopyWarning:\n",
      "\n",
      "\n",
      "A value is trying to be set on a copy of a slice from a DataFrame\n",
      "\n",
      "See the caveats in the documentation: https://pandas.pydata.org/pandas-docs/stable/user_guide/indexing.html#returning-a-view-versus-a-copy\n",
      "\n"
     ]
    },
    {
     "data": {
      "text/html": [
       "<div>\n",
       "<style scoped>\n",
       "    .dataframe tbody tr th:only-of-type {\n",
       "        vertical-align: middle;\n",
       "    }\n",
       "\n",
       "    .dataframe tbody tr th {\n",
       "        vertical-align: top;\n",
       "    }\n",
       "\n",
       "    .dataframe thead th {\n",
       "        text-align: right;\n",
       "    }\n",
       "</style>\n",
       "<table border=\"1\" class=\"dataframe\">\n",
       "  <thead>\n",
       "    <tr style=\"text-align: right;\">\n",
       "      <th></th>\n",
       "      <th>Match</th>\n",
       "      <th>UnderBet</th>\n",
       "      <th>UnderBet_Kelly</th>\n",
       "    </tr>\n",
       "  </thead>\n",
       "  <tbody>\n",
       "    <tr>\n",
       "      <th>0</th>\n",
       "      <td>Wolverhampton Wanderers-Liverpool</td>\n",
       "      <td>0.000</td>\n",
       "      <td>0.000</td>\n",
       "    </tr>\n",
       "    <tr>\n",
       "      <th>1</th>\n",
       "      <td>Fulham-Luton</td>\n",
       "      <td>0.000</td>\n",
       "      <td>0.000</td>\n",
       "    </tr>\n",
       "    <tr>\n",
       "      <th>2</th>\n",
       "      <td>Tottenham-Sheffield United</td>\n",
       "      <td>0.000</td>\n",
       "      <td>0.000</td>\n",
       "    </tr>\n",
       "    <tr>\n",
       "      <th>3</th>\n",
       "      <td>West Ham-Manchester City</td>\n",
       "      <td>0.000</td>\n",
       "      <td>0.000</td>\n",
       "    </tr>\n",
       "    <tr>\n",
       "      <th>4</th>\n",
       "      <td>Aston Villa-Crystal Palace</td>\n",
       "      <td>0.000</td>\n",
       "      <td>0.000</td>\n",
       "    </tr>\n",
       "    <tr>\n",
       "      <th>5</th>\n",
       "      <td>Manchester United-Brighton</td>\n",
       "      <td>0.000</td>\n",
       "      <td>0.000</td>\n",
       "    </tr>\n",
       "    <tr>\n",
       "      <th>6</th>\n",
       "      <td>Newcastle United-Brentford</td>\n",
       "      <td>0.000</td>\n",
       "      <td>0.000</td>\n",
       "    </tr>\n",
       "    <tr>\n",
       "      <th>7</th>\n",
       "      <td>Bournemouth-Chelsea</td>\n",
       "      <td>0.000</td>\n",
       "      <td>0.000</td>\n",
       "    </tr>\n",
       "    <tr>\n",
       "      <th>8</th>\n",
       "      <td>Everton-Arsenal</td>\n",
       "      <td>0.000</td>\n",
       "      <td>0.000</td>\n",
       "    </tr>\n",
       "    <tr>\n",
       "      <th>9</th>\n",
       "      <td>Nottingham Forest-Burnley</td>\n",
       "      <td>0.000</td>\n",
       "      <td>0.000</td>\n",
       "    </tr>\n",
       "    <tr>\n",
       "      <th>10</th>\n",
       "      <td>Manchester City-Nottingham Forest</td>\n",
       "      <td>0.000</td>\n",
       "      <td>0.000</td>\n",
       "    </tr>\n",
       "    <tr>\n",
       "      <th>11</th>\n",
       "      <td>Luton-Wolverhampton Wanderers</td>\n",
       "      <td>0.000</td>\n",
       "      <td>0.000</td>\n",
       "    </tr>\n",
       "    <tr>\n",
       "      <th>12</th>\n",
       "      <td>Crystal Palace-Fulham</td>\n",
       "      <td>0.000</td>\n",
       "      <td>0.000</td>\n",
       "    </tr>\n",
       "    <tr>\n",
       "      <th>13</th>\n",
       "      <td>Brentford-Everton</td>\n",
       "      <td>0.000</td>\n",
       "      <td>0.000</td>\n",
       "    </tr>\n",
       "    <tr>\n",
       "      <th>14</th>\n",
       "      <td>Burnley-Manchester United</td>\n",
       "      <td>0.000</td>\n",
       "      <td>0.000</td>\n",
       "    </tr>\n",
       "    <tr>\n",
       "      <th>15</th>\n",
       "      <td>Chelsea-Aston Villa</td>\n",
       "      <td>0.000</td>\n",
       "      <td>0.000</td>\n",
       "    </tr>\n",
       "    <tr>\n",
       "      <th>16</th>\n",
       "      <td>Liverpool-West Ham</td>\n",
       "      <td>0.000</td>\n",
       "      <td>0.000</td>\n",
       "    </tr>\n",
       "    <tr>\n",
       "      <th>17</th>\n",
       "      <td>Brighton-Bournemouth</td>\n",
       "      <td>0.000</td>\n",
       "      <td>0.000</td>\n",
       "    </tr>\n",
       "    <tr>\n",
       "      <th>18</th>\n",
       "      <td>Arsenal-Tottenham</td>\n",
       "      <td>0.000</td>\n",
       "      <td>0.000</td>\n",
       "    </tr>\n",
       "    <tr>\n",
       "      <th>19</th>\n",
       "      <td>Sheffield United-Newcastle United</td>\n",
       "      <td>7.527</td>\n",
       "      <td>10.654</td>\n",
       "    </tr>\n",
       "  </tbody>\n",
       "</table>\n",
       "</div>"
      ],
      "text/plain": [
       "                                Match  UnderBet  UnderBet_Kelly\n",
       "0   Wolverhampton Wanderers-Liverpool     0.000           0.000\n",
       "1                        Fulham-Luton     0.000           0.000\n",
       "2          Tottenham-Sheffield United     0.000           0.000\n",
       "3            West Ham-Manchester City     0.000           0.000\n",
       "4          Aston Villa-Crystal Palace     0.000           0.000\n",
       "5          Manchester United-Brighton     0.000           0.000\n",
       "6          Newcastle United-Brentford     0.000           0.000\n",
       "7                 Bournemouth-Chelsea     0.000           0.000\n",
       "8                     Everton-Arsenal     0.000           0.000\n",
       "9           Nottingham Forest-Burnley     0.000           0.000\n",
       "10  Manchester City-Nottingham Forest     0.000           0.000\n",
       "11      Luton-Wolverhampton Wanderers     0.000           0.000\n",
       "12              Crystal Palace-Fulham     0.000           0.000\n",
       "13                  Brentford-Everton     0.000           0.000\n",
       "14          Burnley-Manchester United     0.000           0.000\n",
       "15                Chelsea-Aston Villa     0.000           0.000\n",
       "16                 Liverpool-West Ham     0.000           0.000\n",
       "17               Brighton-Bournemouth     0.000           0.000\n",
       "18                  Arsenal-Tottenham     0.000           0.000\n",
       "19  Sheffield United-Newcastle United     7.527          10.654"
      ]
     },
     "metadata": {},
     "output_type": "display_data"
    }
   ],
   "source": [
    "Pont = 5\n",
    "bank = 40\n",
    "Final = Final_Odds[Final_Odds['Type']=='Predicted'][['Match']]\n",
    "listPred = Final_Odds[Final_Odds['Type']=='Predicted']['P(Under)'].tolist()\n",
    "listBook = Final_Odds[Final_Odds['Type']=='Bookmaker']['P(Under)'].tolist()\n",
    "\n",
    "diff = []\n",
    "for i, p in enumerate(listPred):\n",
    "    diff.append(listPred[i]-listBook[i])\n",
    "\n",
    "Final['UnderBet'] = np.nan\n",
    "Final['UnderBet_Kelly'] = np.nan\n",
    "for i, d in enumerate(diff):\n",
    "    if (0.7>=listPred[i]>=0.5) and (d>=0.005):\n",
    "        Final['UnderBet'][i] = max(Pont*10*(d),0)\n",
    "        Final['UnderBet_Kelly'][i] = max(0, bank*(listPred[i]- (1-listPred[i])/(1/listBook[i] -1)))\n",
    "    else:\n",
    "        Final['UnderBet'][i] = 0\n",
    "        Final['UnderBet_Kelly'][i] = 0\n",
    "        \n",
    "############\n",
    "\n",
    "    \n",
    "display(Final)"
   ]
  }
 ],
 "metadata": {
  "kernelspec": {
   "display_name": "Python 3",
   "language": "python",
   "name": "python3"
  },
  "language_info": {
   "codemirror_mode": {
    "name": "ipython",
    "version": 3
   },
   "file_extension": ".py",
   "mimetype": "text/x-python",
   "name": "python",
   "nbconvert_exporter": "python",
   "pygments_lexer": "ipython3",
   "version": "3.11.5"
  },
  "orig_nbformat": 4
 },
 "nbformat": 4,
 "nbformat_minor": 2
}
