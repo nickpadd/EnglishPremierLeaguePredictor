{
 "cells": [
  {
   "cell_type": "code",
   "execution_count": 1,
   "metadata": {},
   "outputs": [],
   "source": [
    "import pandas as pd\n",
    "import plotly.express as px\n",
    "import numpy as np\n",
    "from sklearn.model_selection import train_test_split\n",
    "from sklearn.linear_model import LinearRegression\n",
    "from scipy.stats import poisson \n",
    "import math\n",
    "import plotly.express as px\n",
    "from plotly.subplots import make_subplots\n",
    "import plotly.graph_objects as go\n",
    "from sklearn import preprocessing\n",
    "from pretty_html_table import build_table\n",
    "\n",
    "def sum_of_lower_upper(mat):\n",
    "    r = len(mat)\n",
    "    c = len(mat[0])\n",
    "    diag = np.trace(mat)\n",
    "    lower_sum = 0\n",
    "    upper_sum = 0\n",
    "    over_sum = 0\n",
    "    under_sum = 0\n",
    "    gg_sum = 0\n",
    "    ng_sum = 0 \n",
    "\n",
    "    for i in range(r):\n",
    "        for j in range(c):\n",
    "            if (i<j):\n",
    "                upper_sum += mat[i][j]\n",
    "\n",
    "    for i in range(r):\n",
    "        for j in range(c):\n",
    "            if (j<i):\n",
    "                lower_sum += mat[i][j]\n",
    "    \n",
    "    for i in range(r):\n",
    "        for j in range(c):\n",
    "            if (i+j>=3):\n",
    "                over_sum += mat[i][j]\n",
    "            else:\n",
    "                under_sum += mat[i][j]\n",
    "    \n",
    "    for i in range(r):\n",
    "        for j in range(c):\n",
    "            if (i==0) or (j==0):\n",
    "                ng_sum += mat[i][j]\n",
    "            else:\n",
    "                gg_sum += mat[i][j]\n",
    "\n",
    "    return (upper_sum, lower_sum, diag, over_sum, under_sum, ng_sum, gg_sum)\n"
   ]
  },
  {
   "attachments": {},
   "cell_type": "markdown",
   "metadata": {},
   "source": [
    "## Gathering Lamda from season long performance"
   ]
  },
  {
   "cell_type": "code",
   "execution_count": 2,
   "metadata": {},
   "outputs": [
    {
     "name": "stdout",
     "output_type": "stream",
     "text": [
      "2102\n"
     ]
    }
   ],
   "source": [
    "df1 = pd.read_csv('GatheredData/Full20xxFiles/Full2017.csv')\n",
    "df2 = pd.read_csv('GatheredData/Full20xxFiles/Full2018.csv')\n",
    "df3 = pd.read_csv('GatheredData/Full20xxFiles/Full2019.csv')\n",
    "df4 = pd.read_csv('GatheredData/Full20xxFiles/Full2020.csv')\n",
    "df5 = pd.read_csv('GatheredData/Full20xxFiles/Full2021.csv')\n",
    "df6 = pd.read_csv('GatheredData/Full20xxFiles/Full2022.csv')\n",
    "PRED = pd.read_csv('UpcomingFixtures/Prediction.csv')\n",
    "pred = PRED.copy()\n",
    "#Keeping bookmakers odds\n",
    "Odds = PRED.copy()\n",
    "Odds = PRED[['HTeam', 'ATeam','B365H', 'B365D', 'B365A', 'BbAv>2.5', 'BbAv<2.5', 'GG', 'NG']]\n",
    "\n",
    "df1 = df1[['Date_x', 'HxG', 'HM', 'HTeam', 'ATeam', 'HG', 'HGA', 'HxGA', 'HDC', 'HODC', 'HPPDA', 'HOPPDA', 'HPTS/M', 'AM', 'AG', 'AGA', 'AxG', 'AxGA', 'ADC', 'AODC', 'APPDA', 'AOPPDA', 'APTS/M', 'Result', 'B365H', 'B365D', 'B365A', 'BbAv>2.5', 'BbAv<2.5']]\n",
    "df2 = df2[['Date_x', 'HxG', 'HM', 'HTeam', 'ATeam', 'HG', 'HGA', 'HxGA', 'HDC', 'HODC', 'HPPDA', 'HOPPDA', 'HPTS/M', 'AM', 'AG', 'AGA', 'AxG', 'AxGA', 'ADC', 'AODC', 'APPDA', 'AOPPDA', 'APTS/M', 'Result', 'B365H', 'B365D', 'B365A', 'BbAv>2.5', 'BbAv<2.5']]\n",
    "df3 = df3[['Date_x', 'HxG', 'HM', 'HTeam', 'ATeam', 'HG', 'HGA', 'HxGA', 'HDC', 'HODC', 'HPPDA', 'HOPPDA', 'HPTS/M', 'AM', 'AG', 'AGA', 'AxG', 'AxGA', 'ADC', 'AODC', 'APPDA', 'AOPPDA', 'APTS/M', 'Result', 'B365H', 'B365D', 'B365A', 'AvgC>2.5', 'AvgC<2.5']]\n",
    "df3.rename(columns = {'AvgC<2.5':'BbAv<2.5'}, inplace = True)\n",
    "df3.rename(columns = {'AvgC>2.5':'BbAv>2.5'}, inplace = True)\n",
    "df4 = df4[['Date_x', 'HxG', 'HM', 'HTeam', 'ATeam', 'HG', 'HGA', 'HxGA', 'HDC', 'HODC', 'HPPDA', 'HOPPDA', 'HPTS/M', 'AM', 'AG', 'AGA', 'AxG', 'AxGA', 'ADC', 'AODC', 'APPDA', 'AOPPDA', 'APTS/M', 'Result', 'B365H', 'B365D', 'B365A', 'AvgC>2.5', 'AvgC<2.5']]\n",
    "df4.rename(columns = {'AvgC<2.5':'BbAv<2.5'}, inplace = True)\n",
    "df4.rename(columns = {'AvgC>2.5':'BbAv>2.5'}, inplace = True)\n",
    "df5 = df5[['Date_x', 'HxG', 'HM', 'HTeam', 'ATeam', 'HG', 'HGA', 'HxGA', 'HDC', 'HODC', 'HPPDA', 'HOPPDA', 'HPTS/M', 'AM', 'AG', 'AGA', 'AxG', 'AxGA', 'ADC', 'AODC', 'APPDA', 'AOPPDA', 'APTS/M', 'Result', 'B365H', 'B365D', 'B365A', 'AvgC>2.5', 'AvgC<2.5']]\n",
    "df5.rename(columns = {'AvgC<2.5':'BbAv<2.5'}, inplace = True)\n",
    "df5.rename(columns = {'AvgC>2.5':'BbAv>2.5'}, inplace = True)\n",
    "df6 = df6[['Date', 'HxG', 'HM', 'HTeam', 'ATeam', 'HG', 'HGA', 'HxGA', 'HDC', 'HODC', 'HPPDA', 'HOPPDA', 'HPTS/M', 'AM', 'AG', 'AGA', 'AxG', 'AxGA', 'ADC', 'AODC', 'APPDA', 'AOPPDA', 'APTS/M', 'Result', 'B365H', 'B365D', 'B365A', 'BbAv>2.5', 'BbAv<2.5']]\n",
    "\n",
    "df1.rename(columns = {'Date_x':'Date'}, inplace = True)\n",
    "df2.rename(columns = {'Date_x':'Date'}, inplace = True)\n",
    "df3.rename(columns = {'Date_x':'Date'}, inplace = True)\n",
    "df4.rename(columns = {'Date_x':'Date'}, inplace = True)\n",
    "df5.rename(columns = {'Date_x':'Date'}, inplace = True)\n",
    "\n",
    "\n",
    "Season = pd.read_csv('GatheredData/Full20xxFiles/Full2023.csv')\n",
    "Season = Season[['Date', 'HxG', 'HM', 'HTeam', 'ATeam', 'HG', 'HGA', 'HxGA', 'HDC', 'HODC', 'HPPDA', 'HOPPDA', 'HPTS/M', 'AM', 'AG', 'AGA', 'AxG', 'AxGA', 'ADC', 'AODC', 'APPDA', 'AOPPDA', 'APTS/M', 'Result', 'B365H', 'B365D', 'B365A', 'BbAv>2.5', 'BbAv<2.5']]\n",
    "Season = Season.iloc[38:]\n",
    "\n",
    "\n",
    "DF = pd.concat([df1, df2, df3, df4, df5, df6, Season], ignore_index=True)\n",
    "\n",
    "\n",
    "DF = DF[ DF['HM'] != 0] \n",
    "DF = DF[ DF['HM'] != 1] \n",
    "DF = DF[ DF['HM'] != 2] \n",
    "DF = DF[ DF['HM'] != 3]\n",
    "subset = DF[['Date', 'HTeam', 'ATeam']].copy()\n",
    "\n",
    "extra_stats = DF.copy()\n",
    "extra_pred = pred.copy()\n",
    "\n",
    "DF['PTSDIF/M']=DF['HPTS/M']-DF['APTS/M']\n",
    "pred['PTSDIF/M']=pred['HPTS/M']-pred['APTS/M']\n",
    "DF = DF[[ 'HxG', 'HM', 'HG', 'HGA', 'HxGA', 'HDC', 'HODC', 'HPPDA', 'HOPPDA', 'HPTS/M', 'AM', 'AG', 'AGA', 'AxG', 'AxGA', 'ADC', 'AODC', 'APPDA', 'AOPPDA', 'APTS/M', 'PTSDIF/M', 'Result']]\n",
    "pred = pred[[ 'HxG', 'HM', 'HG', 'HGA', 'HxGA', 'HDC', 'HODC', 'HPPDA', 'HOPPDA', 'HPTS/M', 'AM', 'AG', 'AGA', 'AxG', 'AxGA', 'ADC', 'AODC', 'APPDA', 'AOPPDA', 'APTS/M', 'PTSDIF/M', 'Result']]\n",
    "cut = DF.shape[0]\n",
    "print(cut)\n",
    "DF = pd.concat([DF, pred], ignore_index=True)\n",
    "try:\n",
    "    DF['HxG'] = DF['HxG'].div(DF['HM'])\n",
    "    DF['HG'] = DF['HG'].div(DF['HM'])\n",
    "    DF['HGA'] = DF['HGA'].div(DF['HM'])\n",
    "    DF['HxGA'] = DF['HxGA'].div(DF['HM'])\n",
    "    DF['AxG'] = DF['AxG'].div(DF['AM'])\n",
    "    DF['AG'] = DF['AG'].div(DF['AM'])\n",
    "    DF['AxGA'] = DF['AxG'].div(DF['AM'])\n",
    "    DF['AGA'] = DF['AGA'].div(DF['AM'])\n",
    "    pred['HxG'] = pred['HxG'].div(pred['HM'])\n",
    "    pred['HG'] = pred['HG'].div(pred['HM'])\n",
    "    pred['HGA'] = pred['HGA'].div(pred['HM'])\n",
    "    pred['HxGA'] = pred['HxGA'].div(pred['HM'])\n",
    "    pred['AxG'] = pred['AxG'].div(pred['AM'])\n",
    "    pred['AG'] = pred['AG'].div(pred['AM'])\n",
    "    pred['AxGA'] = pred['AxG'].div(pred['AM'])\n",
    "    pred['AGA'] = pred['AGA'].div(pred['AM'])\n",
    "\n",
    "except ZeroDivisionError:\n",
    "    DF['HxG'] = 0\n",
    "    DF['HG'] = 0\n",
    "    DF['HGA'] = 0\n",
    "    DF['HxGA'] = 0\n",
    "    DF['AxG'] = 0\n",
    "    DF['AG'] = 0\n",
    "    DF['AxGA'] = 0\n",
    "    DF['AGA'] = 0\n",
    "\n",
    "HGoals = []\n",
    "AGoals = []\n",
    "    \n",
    "for i, x in DF.iloc[:cut].iterrows():\n",
    "    a=x['Result'].split('\\'')\n",
    "    HGoals.append(a[1])\n",
    "    AGoals.append(a[3])\n",
    "    \n",
    "DF=np.array(DF)\n",
    "DFnorm = preprocessing.normalize(DF[:, 0:21], axis=0)\n",
    "pred = DFnorm[cut:]\n",
    "DF = DFnorm[:cut]\n",
    "\n",
    "x=DF\n",
    "\n",
    "\n",
    "y1=np.array(HGoals)\n",
    "y2=np.array(AGoals)\n",
    "\n",
    "reg1 = LinearRegression().fit(x, y1)\n",
    "reg2 = LinearRegression().fit(x, y2)\n",
    "\n",
    "LamdaHome= reg1.predict(pred)\n",
    "LamdaAway= reg2.predict(pred)"
   ]
  },
  {
   "attachments": {},
   "cell_type": "markdown",
   "metadata": {},
   "source": [
    "## Gathering Lamda from 2 month form performance"
   ]
  },
  {
   "cell_type": "code",
   "execution_count": 3,
   "metadata": {},
   "outputs": [
    {
     "name": "stdout",
     "output_type": "stream",
     "text": [
      "Date           17/09/2021\n",
      "HTeam    Newcastle United\n",
      "ATeam               Leeds\n",
      "Name: 1560, dtype: object\n",
      "Date                     07/02/2021\n",
      "HxG                           12.05\n",
      "HM                               12\n",
      "HTeam       Wolverhampton Wanderers\n",
      "ATeam                     Leicester\n",
      "HG                               12\n",
      "HGA                              20\n",
      "HxGA                          15.48\n",
      "HDC                        3.166667\n",
      "HODC                       7.083333\n",
      "HPPDA                         15.93\n",
      "HOPPDA                        11.56\n",
      "HPTS/M                         0.75\n",
      "AM                               12\n",
      "AG                               20\n",
      "AGA                              11\n",
      "AxG                           16.59\n",
      "AxGA                          10.23\n",
      "ADC                             7.0\n",
      "AODC                       4.333333\n",
      "APPDA                           9.7\n",
      "AOPPDA                        12.24\n",
      "APTS/M                          2.0\n",
      "Result                 ['0 ', ' 0']\n",
      "B365H                           3.5\n",
      "B365D                           3.4\n",
      "B365A                           2.1\n",
      "BbAv>2.5                        2.2\n",
      "BbAv<2.5                       1.66\n",
      "Name: 1361, dtype: object\n",
      "            Date             HTeam            ATeam   HxG  HM  HG  HGA   HxGA  \\\n",
      "1489  19/12/2021  Newcastle United  Manchester City  7.06   9   8   18  17.04   \n",
      "\n",
      "           HDC      HODC  ...      AODC  APPDA  AOPPDA    APTS/M  \\\n",
      "1489  3.555556  9.333333  ...  3.222222   9.16   23.01  2.666667   \n",
      "\n",
      "            Result  B365H  B365D  B365A  BbAv>2.5  BbAv<2.5  \n",
      "1489  ['0 ', ' 4']   13.0    7.5   1.18       NaN       NaN  \n",
      "\n",
      "[1 rows x 29 columns]\n",
      "           HxG  HM        HG       HGA      HxGA        HDC      HODC  HPPDA  \\\n",
      "0     0.535000   4  0.250000  2.000000  1.902500   5.000000  9.250000  13.80   \n",
      "1     1.067500   4  0.000000  1.750000  1.495000   5.750000  4.750000  11.61   \n",
      "2     0.965000   4  1.000000  0.500000  1.177500   3.250000  3.250000   8.69   \n",
      "3     2.397500   4  2.000000  2.000000  1.632500   7.000000  6.000000  15.95   \n",
      "4     1.350000   4  1.000000  0.750000  1.165000   4.000000  4.000000  14.00   \n",
      "...        ...  ..       ...       ...       ...        ...       ...    ...   \n",
      "2097  1.408333   6  1.500000  2.166667  2.591667   5.000000  9.666667  17.23   \n",
      "2098  1.688333   6  2.500000  1.166667  1.533333   9.333333  7.333333  14.63   \n",
      "2099  1.721667   6  2.166667  2.166667  1.431667   6.666667  8.833333   9.84   \n",
      "2100  2.603333   6  2.333333  1.000000  1.201667  12.666667  6.666667   8.11   \n",
      "2101  1.140000   6  1.166667  1.500000  1.401667   9.666667  5.500000  14.16   \n",
      "\n",
      "      HOPPDA    HPTS/M  ...       AGA       AxG      AxGA       ADC  \\\n",
      "0       8.77  0.000000  ...  1.250000  0.437500  0.109375  3.500000   \n",
      "1       8.37  0.000000  ...  1.000000  1.372500  0.343125  9.500000   \n",
      "2      10.06  1.750000  ...  2.000000  1.342500  0.335625  2.750000   \n",
      "3      12.48  1.750000  ...  1.000000  0.760000  0.190000  3.500000   \n",
      "4       7.26  1.500000  ...  1.000000  0.862500  0.215625  5.500000   \n",
      "...      ...       ...  ...       ...       ...       ...       ...   \n",
      "2097   11.48  1.166667  ...  1.333333  2.075000  0.345833  6.666667   \n",
      "2098    8.95  2.166667  ...  1.428571  1.585714  0.226531  6.428571   \n",
      "2099   12.03  1.666667  ...  1.666667  1.278333  0.213056  7.166667   \n",
      "2100   19.79  2.166667  ...  1.000000  1.313333  0.218889  6.000000   \n",
      "2101   15.10  1.500000  ...  1.000000  1.715000  0.285833  9.666667   \n",
      "\n",
      "           AODC  APPDA  AOPPDA    APTS/M  PTSDIF/M        Result  \n",
      "0      8.250000  17.65   18.94  1.000000 -1.000000  ['2 ', ' 1']  \n",
      "1      2.500000   8.15   13.68  1.250000 -1.250000  ['0 ', ' 1']  \n",
      "2     10.000000  15.38   10.43  0.750000  1.000000  ['1 ', ' 1']  \n",
      "3      6.750000  12.51    8.62  1.750000  0.000000  ['1 ', ' 1']  \n",
      "4      7.250000  15.26    8.52  1.250000  0.250000  ['2 ', ' 1']  \n",
      "...         ...    ...     ...       ...       ...           ...  \n",
      "2097   8.000000  13.03    9.31  1.166667  0.000000  ['0 ', ' 1']  \n",
      "2098   7.285714  15.17    7.43  0.714286  1.452381  ['3 ', ' 1']  \n",
      "2099   5.833333  11.45   14.19  1.166667  0.500000  ['1 ', ' 1']  \n",
      "2100   8.000000  16.36   13.03  1.166667  1.000000  ['3 ', ' 0']  \n",
      "2101   4.333333  11.18   17.97  2.000000 -0.500000  ['0 ', ' 3']  \n",
      "\n",
      "[2102 rows x 22 columns]\n"
     ]
    },
    {
     "name": "stderr",
     "output_type": "stream",
     "text": [
      "/tmp/ipykernel_136586/2412402004.py:48: SettingWithCopyWarning: \n",
      "A value is trying to be set on a copy of a slice from a DataFrame.\n",
      "Try using .loc[row_indexer,col_indexer] = value instead\n",
      "\n",
      "See the caveats in the documentation: https://pandas.pydata.org/pandas-docs/stable/user_guide/indexing.html#returning-a-view-versus-a-copy\n",
      "  DF['PTSDIF/M']=DF['HPTS/M']-DF['APTS/M']\n"
     ]
    }
   ],
   "source": [
    "df1 = pd.read_csv('GatheredData/Epl20xxMonthlyFiles/Epl2017Monthly.csv')\n",
    "df2 = pd.read_csv('GatheredData/Epl20xxMonthlyFiles/Epl2018Monthly.csv')\n",
    "df3 = pd.read_csv('GatheredData/Epl20xxMonthlyFiles/Epl2019Monthly.csv')\n",
    "df4 = pd.read_csv('GatheredData/Epl20xxMonthlyFiles/Epl2020Monthly.csv')\n",
    "df5 = pd.read_csv('GatheredData/Epl20xxMonthlyFiles/Epl2021Monthly.csv')\n",
    "df6 = pd.read_csv('GatheredData/Epl20xxMonthlyFiles/Epl2022Monthly.csv')\n",
    "pred = PRED.copy()\n",
    "#Keeping bookmakers odds\n",
    "Odds = PRED.copy()\n",
    "Odds = PRED[['HTeam', 'ATeam','B365H', 'B365D', 'B365A', 'BbAv>2.5', 'BbAv<2.5', 'GG', 'NG']]\n",
    "\n",
    "df1 = df1[['Date', 'HxG', 'HM', 'HTeam', 'ATeam', 'HG', 'HGA', 'HxGA', 'HDC', 'HODC', 'HPPDA', 'HOPPDA', 'HPTS/M', 'AM', 'AG', 'AGA', 'AxG', 'AxGA', 'ADC', 'AODC', 'APPDA', 'AOPPDA', 'APTS/M', 'Result', 'B365H', 'B365D', 'B365A', 'BbAv>2.5', 'BbAv<2.5']]\n",
    "df2 = df2[['Date', 'HxG', 'HM', 'HTeam', 'ATeam', 'HG', 'HGA', 'HxGA', 'HDC', 'HODC', 'HPPDA', 'HOPPDA', 'HPTS/M', 'AM', 'AG', 'AGA', 'AxG', 'AxGA', 'ADC', 'AODC', 'APPDA', 'AOPPDA', 'APTS/M', 'Result', 'B365H', 'B365D', 'B365A', 'BbAv>2.5', 'BbAv<2.5']]\n",
    "df3 = df3[['Date', 'HxG', 'HM', 'HTeam', 'ATeam', 'HG', 'HGA', 'HxGA', 'HDC', 'HODC', 'HPPDA', 'HOPPDA', 'HPTS/M', 'AM', 'AG', 'AGA', 'AxG', 'AxGA', 'ADC', 'AODC', 'APPDA', 'AOPPDA', 'APTS/M', 'Result', 'B365H', 'B365D', 'B365A', 'B365>2.5', 'B365<2.5']]\n",
    "df3.rename(columns = {'B365<2.5':'BbAv<2.5'}, inplace = True)\n",
    "df3.rename(columns = {'B365>2.5':'BbAv>2.5'}, inplace = True)\n",
    "df4 = df4[['Date', 'HxG', 'HM', 'HTeam', 'ATeam', 'HG', 'HGA', 'HxGA', 'HDC', 'HODC', 'HPPDA', 'HOPPDA', 'HPTS/M', 'AM', 'AG', 'AGA', 'AxG', 'AxGA', 'ADC', 'AODC', 'APPDA', 'AOPPDA', 'APTS/M', 'Result', 'B365H', 'B365D', 'B365A', 'B365>2.5', 'B365<2.5']]\n",
    "df4.rename(columns = {'B365<2.5':'BbAv<2.5'}, inplace = True)\n",
    "df4.rename(columns = {'B365>2.5':'BbAv>2.5'}, inplace = True)\n",
    "df5 = df5[['Date', 'HxG', 'HM', 'HTeam', 'ATeam', 'HG', 'HGA', 'HxGA', 'HDC', 'HODC', 'HPPDA', 'HOPPDA', 'HPTS/M', 'AM', 'AG', 'AGA', 'AxG', 'AxGA', 'ADC', 'AODC', 'APPDA', 'AOPPDA', 'APTS/M', 'Result', 'B365H', 'B365D', 'B365A', 'B365>2.5', 'B365<2.5']]\n",
    "df5.rename(columns = {'B365<2.5':'BbAv<2.5'}, inplace = True)\n",
    "df5.rename(columns = {'B365>2.5':'BbAv>2.5'}, inplace = True)\n",
    "df6 = df6[['Date', 'HxG', 'HM', 'HTeam', 'ATeam', 'HG', 'HGA', 'HxGA', 'HDC', 'HODC', 'HPPDA', 'HOPPDA', 'HPTS/M', 'AM', 'AG', 'AGA', 'AxG', 'AxGA', 'ADC', 'AODC', 'APPDA', 'AOPPDA', 'APTS/M', 'Result', 'B365H', 'B365D', 'B365A', 'BbAv>2.5', 'BbAv<2.5']]\n",
    "df6.rename(columns = {'B365<2.5':'BbAv<2.5'}, inplace = True)\n",
    "df6.rename(columns = {'B365>2.5':'BbAv>2.5'}, inplace = True)\n",
    "\n",
    "SeasonForm = pd.read_csv('GatheredData/Epl20xxMonthlyFiles/Epl2023Monthly.csv')\n",
    "\n",
    "\n",
    "try:\n",
    "    SeasonForm = SeasonForm[['Date', 'HxG', 'HM', 'HTeam', 'ATeam', 'HG', 'HGA', 'HxGA', 'HDC', 'HODC', 'HPPDA', 'HOPPDA', 'HPTS/M', 'AM', 'AG', 'AGA', 'AxG', 'AxGA', 'ADC', 'AODC', 'APPDA', 'AOPPDA', 'APTS/M', 'Result', 'B365H', 'B365D', 'B365A', 'BbAv>2.5', 'BbAv<2.5']]\n",
    "except KeyError:\n",
    "    SeasonForm = SeasonForm[['Date', 'HxG', 'HM', 'HTeam', 'ATeam', 'HG', 'HGA', 'HxGA', 'HDC', 'HODC', 'HPPDA', 'HOPPDA', 'HPTS/M', 'AM', 'AG', 'AGA', 'AxG', 'AxGA', 'ADC', 'AODC', 'APPDA', 'AOPPDA', 'APTS/M', 'Result', 'B365H', 'B365D', 'B365A', 'B365>2.5', 'B365<2.5']]\n",
    "    SeasonForm.rename(columns = {'B365<2.5':'BbAv<2.5'}, inplace = True)\n",
    "    SeasonForm.rename(columns = {'B365>2.5':'BbAv>2.5'}, inplace = True)\n",
    "    \n",
    "SeasonForm = SeasonForm.iloc[38:]\n",
    "\n",
    "DF = pd.concat([df1, df2, df3, df4, df5, df6, SeasonForm], ignore_index=True)\n",
    "merged = pd.merge(subset, DF, on=['Date', 'HTeam', 'ATeam'], how='left')\n",
    "print(subset.iloc[1361])\n",
    "print(DF.iloc[1361])\n",
    "print(merged[merged.isna().any(axis=1)])\n",
    "\n",
    "# resulting dataframe will have columns of B where the triplet of A['a', 'b', 'c'] exists in B\n",
    "DF = merged[DF.columns]\n",
    "\n",
    "DF['PTSDIF/M']=DF['HPTS/M']-DF['APTS/M']\n",
    "pred['PTSDIF/M']=pred['HPTS/M']-pred['APTS/M']\n",
    "DF = DF[['HxG', 'HM', 'HG', 'HGA', 'HxGA', 'HDC', 'HODC', 'HPPDA', 'HOPPDA', 'HPTS/M', 'AM', 'AG', 'AGA', 'AxG', 'AxGA', 'ADC', 'AODC', 'APPDA', 'AOPPDA', 'APTS/M', 'PTSDIF/M', 'Result']]\n",
    "pred = pred[['HxG', 'HM', 'HG', 'HGA', 'HxGA', 'HDC', 'HODC', 'HPPDA', 'HOPPDA', 'HPTS/M', 'AM', 'AG', 'AGA', 'AxG', 'AxGA', 'ADC', 'AODC', 'APPDA', 'AOPPDA', 'APTS/M', 'PTSDIF/M', 'Result']]\n",
    "cut = DF.shape[0]\n",
    "DF = pd.concat([DF, pred], ignore_index=True)\n",
    "\n",
    "\n",
    "\n",
    "try:\n",
    "    DF['HxG'] = DF['HxG'].div(DF['HM']).fillna(0)\n",
    "    DF['HG'] = DF['HG'].div(DF['HM']).fillna(0)\n",
    "    DF['HGA'] = DF['HGA'].div(DF['HM']).fillna(0)\n",
    "    DF['HxGA'] = DF['HxGA'].div(DF['HM']).fillna(0)\n",
    "    DF['AxG'] = DF['AxG'].div(DF['AM']).fillna(0)\n",
    "    DF['AG'] = DF['AG'].div(DF['AM']).fillna(0)\n",
    "    DF['AxGA'] = DF['AxG'].div(DF['AM']).fillna(0)\n",
    "    DF['AGA'] = DF['AGA'].div(DF['AM']).fillna(0)\n",
    "    pred['HxG'] = pred['HxG'].div(pred['HM']).fillna(0)\n",
    "    pred['HG'] = pred['HG'].div(pred['HM']).fillna(0)\n",
    "    pred['HGA'] = pred['HGA'].div(pred['HM']).fillna(0)\n",
    "    pred['HxGA'] = pred['HxGA'].div(pred['HM']).fillna(0)\n",
    "    pred['AxG'] = pred['AxG'].div(pred['AM']).fillna(0)\n",
    "    pred['AG'] = pred['AG'].div(pred['AM']).fillna(0)\n",
    "    pred['AxGA'] = pred['AxG'].div(pred['AM']).fillna(0)\n",
    "    pred['AGA'] = pred['AGA'].div(pred['AM']).fillna(0)\n",
    "\n",
    "except ZeroDivisionError:\n",
    "    DF['HxG'] = 0\n",
    "    DF['HG'] = 0\n",
    "    DF['HGA'] = 0\n",
    "    DF['HxGA'] = 0\n",
    "    DF['AxG'] = 0\n",
    "    DF['AG'] = 0\n",
    "    DF['AxGA'] = 0\n",
    "    DF['AGA'] = 0\n",
    "\n",
    "\n",
    "print(DF.iloc[:cut])\n",
    "        \n",
    "HGoals = []\n",
    "AGoals = []\n",
    "for i, x in DF.iloc[:cut].iterrows():\n",
    "    a=str(x['Result']).split('\\'')\n",
    "    try:\n",
    "        HGoals.append(a[1])\n",
    "        AGoals.append(a[3])\n",
    "    except IndexError:\n",
    "        print(x)\n",
    "        print(DF.iloc[:cut].iloc[i-1])\n",
    "\n",
    "DF=np.array(DF)\n",
    "\n",
    "DFnorm = preprocessing.normalize(DF[:, 0:21].astype('float64'), axis=0)\n",
    "pred = DFnorm[cut:]\n",
    "DF = DFnorm[:cut]\n",
    "\n",
    "x=DF\n",
    "\n",
    "y1=np.array(HGoals)\n",
    "y2=np.array(AGoals)\n",
    "\n",
    "reg1 = LinearRegression().fit(x, y1)\n",
    "reg2 = LinearRegression().fit(x, y2)\n",
    "\n",
    "LamdaHomeForm= reg1.predict(pred)\n",
    "LamdaAwayForm= reg2.predict(pred)"
   ]
  },
  {
   "cell_type": "code",
   "execution_count": 4,
   "metadata": {},
   "outputs": [
    {
     "name": "stdout",
     "output_type": "stream",
     "text": [
      "[1.4089901038408206, 1.8859511350512583, 1.3439954993971828, 2.944008686152447, 1.4188783206259115, 1.048573640022794, 1.521471387082757, 1.0028547167915967, 0.7553752427238206, 2.155143427441164, 1.1809284859765787, 2.085996788774337, 1.3467700913072878, 2.6745787917214034, 0.9922906066490274, 2.2982369540618603, 2.551870511434175, 2.1265905206607334, 1.387062510799649, 1.5345159748334984]\n",
      "[1.52233433642493, 1.1585891337093037, 1.2455462435581106, 0.47831044478531703, 1.6220909808516795, 1.641356288943188, 1.4699976202233507, 1.6258591513170568, 2.1984474903907163, 1.534120060959268, 2.1191948230447997, 1.007174413771338, 1.431789929211085, 0.5793623997364434, 2.2135264277785307, 1.1815153185019074, 0.6707859268344556, 0.9277358781599888, 1.1942934731790384, 1.7132327985439664]\n"
     ]
    }
   ],
   "source": [
    "LamdaAwayFinal = [(LamdaAway[i] * 0.4 + LamdaAwayForm[i] * 0.6) for i in range(len(LamdaAway))]\n",
    "LamdaHomeFinal = [(LamdaHome[i] * 0.4 + LamdaHomeForm[i] * 0.6) for i in range(len(LamdaHome))]\n",
    "\n",
    "print(LamdaHomeFinal)\n",
    "print(LamdaAwayFinal)"
   ]
  },
  {
   "cell_type": "code",
   "execution_count": 5,
   "metadata": {},
   "outputs": [
    {
     "data": {
      "text/html": [
       "<div>\n",
       "<style scoped>\n",
       "    .dataframe tbody tr th:only-of-type {\n",
       "        vertical-align: middle;\n",
       "    }\n",
       "\n",
       "    .dataframe tbody tr th {\n",
       "        vertical-align: top;\n",
       "    }\n",
       "\n",
       "    .dataframe thead th {\n",
       "        text-align: right;\n",
       "    }\n",
       "</style>\n",
       "<table border=\"1\" class=\"dataframe\">\n",
       "  <thead>\n",
       "    <tr style=\"text-align: right;\">\n",
       "      <th></th>\n",
       "      <th>Date</th>\n",
       "      <th>HTeam</th>\n",
       "      <th>ATeam</th>\n",
       "      <th>P(Hwin)</th>\n",
       "      <th>P(Draw)</th>\n",
       "      <th>P(Awin)</th>\n",
       "      <th>P(Under)</th>\n",
       "      <th>P(Over)</th>\n",
       "      <th>P(GG)</th>\n",
       "      <th>P(NG)</th>\n",
       "    </tr>\n",
       "  </thead>\n",
       "  <tbody>\n",
       "    <tr>\n",
       "      <th>0</th>\n",
       "      <td>04/11/2023</td>\n",
       "      <td>Fulham</td>\n",
       "      <td>Manchester United</td>\n",
       "      <td>0.357</td>\n",
       "      <td>0.244</td>\n",
       "      <td>0.400</td>\n",
       "      <td>0.427</td>\n",
       "      <td>0.573</td>\n",
       "      <td>0.600</td>\n",
       "      <td>0.400</td>\n",
       "    </tr>\n",
       "    <tr>\n",
       "      <th>1</th>\n",
       "      <td>04/11/2023</td>\n",
       "      <td>Brentford</td>\n",
       "      <td>West Ham</td>\n",
       "      <td>0.552</td>\n",
       "      <td>0.222</td>\n",
       "      <td>0.227</td>\n",
       "      <td>0.408</td>\n",
       "      <td>0.592</td>\n",
       "      <td>0.584</td>\n",
       "      <td>0.416</td>\n",
       "    </tr>\n",
       "    <tr>\n",
       "      <th>2</th>\n",
       "      <td>04/11/2023</td>\n",
       "      <td>Burnley</td>\n",
       "      <td>Crystal Palace</td>\n",
       "      <td>0.354</td>\n",
       "      <td>0.263</td>\n",
       "      <td>0.384</td>\n",
       "      <td>0.513</td>\n",
       "      <td>0.487</td>\n",
       "      <td>0.533</td>\n",
       "      <td>0.467</td>\n",
       "    </tr>\n",
       "    <tr>\n",
       "      <th>3</th>\n",
       "      <td>04/11/2023</td>\n",
       "      <td>Manchester City</td>\n",
       "      <td>Bournemouth</td>\n",
       "      <td>0.904</td>\n",
       "      <td>0.074</td>\n",
       "      <td>0.021</td>\n",
       "      <td>0.315</td>\n",
       "      <td>0.685</td>\n",
       "      <td>0.293</td>\n",
       "      <td>0.706</td>\n",
       "    </tr>\n",
       "    <tr>\n",
       "      <th>4</th>\n",
       "      <td>04/11/2023</td>\n",
       "      <td>Everton</td>\n",
       "      <td>Brighton</td>\n",
       "      <td>0.353</td>\n",
       "      <td>0.240</td>\n",
       "      <td>0.407</td>\n",
       "      <td>0.410</td>\n",
       "      <td>0.590</td>\n",
       "      <td>0.613</td>\n",
       "      <td>0.387</td>\n",
       "    </tr>\n",
       "    <tr>\n",
       "      <th>5</th>\n",
       "      <td>04/11/2023</td>\n",
       "      <td>Sheffield United</td>\n",
       "      <td>Wolverhampton Wanderers</td>\n",
       "      <td>0.216</td>\n",
       "      <td>0.239</td>\n",
       "      <td>0.544</td>\n",
       "      <td>0.496</td>\n",
       "      <td>0.504</td>\n",
       "      <td>0.512</td>\n",
       "      <td>0.488</td>\n",
       "    </tr>\n",
       "    <tr>\n",
       "      <th>6</th>\n",
       "      <td>04/11/2023</td>\n",
       "      <td>Newcastle United</td>\n",
       "      <td>Arsenal</td>\n",
       "      <td>0.402</td>\n",
       "      <td>0.241</td>\n",
       "      <td>0.357</td>\n",
       "      <td>0.414</td>\n",
       "      <td>0.586</td>\n",
       "      <td>0.610</td>\n",
       "      <td>0.390</td>\n",
       "    </tr>\n",
       "    <tr>\n",
       "      <th>7</th>\n",
       "      <td>05/11/2023</td>\n",
       "      <td>Nottingham Forest</td>\n",
       "      <td>Aston Villa</td>\n",
       "      <td>0.212</td>\n",
       "      <td>0.242</td>\n",
       "      <td>0.545</td>\n",
       "      <td>0.512</td>\n",
       "      <td>0.488</td>\n",
       "      <td>0.498</td>\n",
       "      <td>0.502</td>\n",
       "    </tr>\n",
       "    <tr>\n",
       "      <th>8</th>\n",
       "      <td>05/11/2023</td>\n",
       "      <td>Luton</td>\n",
       "      <td>Liverpool</td>\n",
       "      <td>0.099</td>\n",
       "      <td>0.174</td>\n",
       "      <td>0.728</td>\n",
       "      <td>0.440</td>\n",
       "      <td>0.560</td>\n",
       "      <td>0.444</td>\n",
       "      <td>0.556</td>\n",
       "    </tr>\n",
       "    <tr>\n",
       "      <th>9</th>\n",
       "      <td>06/11/2023</td>\n",
       "      <td>Tottenham</td>\n",
       "      <td>Chelsea</td>\n",
       "      <td>0.575</td>\n",
       "      <td>0.196</td>\n",
       "      <td>0.230</td>\n",
       "      <td>0.278</td>\n",
       "      <td>0.722</td>\n",
       "      <td>0.685</td>\n",
       "      <td>0.315</td>\n",
       "    </tr>\n",
       "    <tr>\n",
       "      <th>10</th>\n",
       "      <td>11/11/2023</td>\n",
       "      <td>Wolverhampton Wanderers</td>\n",
       "      <td>Tottenham</td>\n",
       "      <td>0.195</td>\n",
       "      <td>0.199</td>\n",
       "      <td>0.606</td>\n",
       "      <td>0.344</td>\n",
       "      <td>0.656</td>\n",
       "      <td>0.615</td>\n",
       "      <td>0.385</td>\n",
       "    </tr>\n",
       "    <tr>\n",
       "      <th>11</th>\n",
       "      <td>11/11/2023</td>\n",
       "      <td>Manchester United</td>\n",
       "      <td>Luton</td>\n",
       "      <td>0.644</td>\n",
       "      <td>0.198</td>\n",
       "      <td>0.158</td>\n",
       "      <td>0.404</td>\n",
       "      <td>0.596</td>\n",
       "      <td>0.541</td>\n",
       "      <td>0.459</td>\n",
       "    </tr>\n",
       "    <tr>\n",
       "      <th>12</th>\n",
       "      <td>11/11/2023</td>\n",
       "      <td>Crystal Palace</td>\n",
       "      <td>Everton</td>\n",
       "      <td>0.357</td>\n",
       "      <td>0.251</td>\n",
       "      <td>0.392</td>\n",
       "      <td>0.463</td>\n",
       "      <td>0.537</td>\n",
       "      <td>0.572</td>\n",
       "      <td>0.428</td>\n",
       "    </tr>\n",
       "    <tr>\n",
       "      <th>13</th>\n",
       "      <td>11/11/2023</td>\n",
       "      <td>Arsenal</td>\n",
       "      <td>Burnley</td>\n",
       "      <td>0.851</td>\n",
       "      <td>0.108</td>\n",
       "      <td>0.041</td>\n",
       "      <td>0.367</td>\n",
       "      <td>0.633</td>\n",
       "      <td>0.355</td>\n",
       "      <td>0.645</td>\n",
       "    </tr>\n",
       "    <tr>\n",
       "      <th>14</th>\n",
       "      <td>11/11/2023</td>\n",
       "      <td>Bournemouth</td>\n",
       "      <td>Newcastle United</td>\n",
       "      <td>0.131</td>\n",
       "      <td>0.185</td>\n",
       "      <td>0.683</td>\n",
       "      <td>0.404</td>\n",
       "      <td>0.596</td>\n",
       "      <td>0.515</td>\n",
       "      <td>0.485</td>\n",
       "    </tr>\n",
       "    <tr>\n",
       "      <th>15</th>\n",
       "      <td>12/11/2023</td>\n",
       "      <td>Liverpool</td>\n",
       "      <td>Brentford</td>\n",
       "      <td>0.657</td>\n",
       "      <td>0.182</td>\n",
       "      <td>0.161</td>\n",
       "      <td>0.318</td>\n",
       "      <td>0.682</td>\n",
       "      <td>0.611</td>\n",
       "      <td>0.389</td>\n",
       "    </tr>\n",
       "    <tr>\n",
       "      <th>16</th>\n",
       "      <td>12/11/2023</td>\n",
       "      <td>Brighton</td>\n",
       "      <td>Sheffield United</td>\n",
       "      <td>0.808</td>\n",
       "      <td>0.130</td>\n",
       "      <td>0.061</td>\n",
       "      <td>0.371</td>\n",
       "      <td>0.629</td>\n",
       "      <td>0.419</td>\n",
       "      <td>0.581</td>\n",
       "    </tr>\n",
       "    <tr>\n",
       "      <th>17</th>\n",
       "      <td>12/11/2023</td>\n",
       "      <td>Aston Villa</td>\n",
       "      <td>Fulham</td>\n",
       "      <td>0.685</td>\n",
       "      <td>0.182</td>\n",
       "      <td>0.132</td>\n",
       "      <td>0.388</td>\n",
       "      <td>0.612</td>\n",
       "      <td>0.528</td>\n",
       "      <td>0.472</td>\n",
       "    </tr>\n",
       "    <tr>\n",
       "      <th>18</th>\n",
       "      <td>12/11/2023</td>\n",
       "      <td>West Ham</td>\n",
       "      <td>Nottingham Forest</td>\n",
       "      <td>0.410</td>\n",
       "      <td>0.263</td>\n",
       "      <td>0.327</td>\n",
       "      <td>0.520</td>\n",
       "      <td>0.480</td>\n",
       "      <td>0.526</td>\n",
       "      <td>0.474</td>\n",
       "    </tr>\n",
       "    <tr>\n",
       "      <th>19</th>\n",
       "      <td>12/11/2023</td>\n",
       "      <td>Chelsea</td>\n",
       "      <td>Manchester City</td>\n",
       "      <td>0.328</td>\n",
       "      <td>0.233</td>\n",
       "      <td>0.439</td>\n",
       "      <td>0.382</td>\n",
       "      <td>0.618</td>\n",
       "      <td>0.632</td>\n",
       "      <td>0.368</td>\n",
       "    </tr>\n",
       "  </tbody>\n",
       "</table>\n",
       "</div>"
      ],
      "text/plain": [
       "          Date                    HTeam                    ATeam  P(Hwin)  \\\n",
       "0   04/11/2023                   Fulham        Manchester United    0.357   \n",
       "1   04/11/2023                Brentford                 West Ham    0.552   \n",
       "2   04/11/2023                  Burnley           Crystal Palace    0.354   \n",
       "3   04/11/2023          Manchester City              Bournemouth    0.904   \n",
       "4   04/11/2023                  Everton                 Brighton    0.353   \n",
       "5   04/11/2023         Sheffield United  Wolverhampton Wanderers    0.216   \n",
       "6   04/11/2023         Newcastle United                  Arsenal    0.402   \n",
       "7   05/11/2023        Nottingham Forest              Aston Villa    0.212   \n",
       "8   05/11/2023                    Luton                Liverpool    0.099   \n",
       "9   06/11/2023                Tottenham                  Chelsea    0.575   \n",
       "10  11/11/2023  Wolverhampton Wanderers                Tottenham    0.195   \n",
       "11  11/11/2023        Manchester United                    Luton    0.644   \n",
       "12  11/11/2023           Crystal Palace                  Everton    0.357   \n",
       "13  11/11/2023                  Arsenal                  Burnley    0.851   \n",
       "14  11/11/2023              Bournemouth         Newcastle United    0.131   \n",
       "15  12/11/2023                Liverpool                Brentford    0.657   \n",
       "16  12/11/2023                 Brighton         Sheffield United    0.808   \n",
       "17  12/11/2023              Aston Villa                   Fulham    0.685   \n",
       "18  12/11/2023                 West Ham        Nottingham Forest    0.410   \n",
       "19  12/11/2023                  Chelsea          Manchester City    0.328   \n",
       "\n",
       "    P(Draw)  P(Awin)  P(Under)  P(Over)  P(GG)  P(NG)  \n",
       "0     0.244    0.400     0.427    0.573  0.600  0.400  \n",
       "1     0.222    0.227     0.408    0.592  0.584  0.416  \n",
       "2     0.263    0.384     0.513    0.487  0.533  0.467  \n",
       "3     0.074    0.021     0.315    0.685  0.293  0.706  \n",
       "4     0.240    0.407     0.410    0.590  0.613  0.387  \n",
       "5     0.239    0.544     0.496    0.504  0.512  0.488  \n",
       "6     0.241    0.357     0.414    0.586  0.610  0.390  \n",
       "7     0.242    0.545     0.512    0.488  0.498  0.502  \n",
       "8     0.174    0.728     0.440    0.560  0.444  0.556  \n",
       "9     0.196    0.230     0.278    0.722  0.685  0.315  \n",
       "10    0.199    0.606     0.344    0.656  0.615  0.385  \n",
       "11    0.198    0.158     0.404    0.596  0.541  0.459  \n",
       "12    0.251    0.392     0.463    0.537  0.572  0.428  \n",
       "13    0.108    0.041     0.367    0.633  0.355  0.645  \n",
       "14    0.185    0.683     0.404    0.596  0.515  0.485  \n",
       "15    0.182    0.161     0.318    0.682  0.611  0.389  \n",
       "16    0.130    0.061     0.371    0.629  0.419  0.581  \n",
       "17    0.182    0.132     0.388    0.612  0.528  0.472  \n",
       "18    0.263    0.327     0.520    0.480  0.526  0.474  \n",
       "19    0.233    0.439     0.382    0.618  0.632  0.368  "
      ]
     },
     "metadata": {},
     "output_type": "display_data"
    },
    {
     "name": "stderr",
     "output_type": "stream",
     "text": [
      "/tmp/ipykernel_136586/2946263194.py:87: SettingWithCopyWarning: \n",
      "A value is trying to be set on a copy of a slice from a DataFrame\n",
      "\n",
      "See the caveats in the documentation: https://pandas.pydata.org/pandas-docs/stable/user_guide/indexing.html#returning-a-view-versus-a-copy\n",
      "  Final_Odds['Match'][i] = str(Final_Odds['HTeam'][i] + '-' + Final_Odds['ATeam'][i])\n",
      "/tmp/ipykernel_136586/2946263194.py:91: SettingWithCopyWarning: \n",
      "A value is trying to be set on a copy of a slice from a DataFrame\n",
      "\n",
      "See the caveats in the documentation: https://pandas.pydata.org/pandas-docs/stable/user_guide/indexing.html#returning-a-view-versus-a-copy\n",
      "  Final_Odds['P(Hwin)'][i] = 1/Final_Odds.iloc[i]['B365H']\n",
      "/tmp/ipykernel_136586/2946263194.py:92: SettingWithCopyWarning: \n",
      "A value is trying to be set on a copy of a slice from a DataFrame\n",
      "\n",
      "See the caveats in the documentation: https://pandas.pydata.org/pandas-docs/stable/user_guide/indexing.html#returning-a-view-versus-a-copy\n",
      "  Final_Odds['P(Awin)'][i] = 1/Final_Odds.iloc[i]['B365A']\n",
      "/tmp/ipykernel_136586/2946263194.py:93: SettingWithCopyWarning: \n",
      "A value is trying to be set on a copy of a slice from a DataFrame\n",
      "\n",
      "See the caveats in the documentation: https://pandas.pydata.org/pandas-docs/stable/user_guide/indexing.html#returning-a-view-versus-a-copy\n",
      "  Final_Odds['P(Draw)'][i] = 1/Final_Odds.iloc[i]['B365D']\n",
      "/tmp/ipykernel_136586/2946263194.py:94: SettingWithCopyWarning: \n",
      "A value is trying to be set on a copy of a slice from a DataFrame\n",
      "\n",
      "See the caveats in the documentation: https://pandas.pydata.org/pandas-docs/stable/user_guide/indexing.html#returning-a-view-versus-a-copy\n",
      "  Final_Odds['P(Over)'][i] = 1/Final_Odds.iloc[i]['BbAv>2.5']\n",
      "/tmp/ipykernel_136586/2946263194.py:95: SettingWithCopyWarning: \n",
      "A value is trying to be set on a copy of a slice from a DataFrame\n",
      "\n",
      "See the caveats in the documentation: https://pandas.pydata.org/pandas-docs/stable/user_guide/indexing.html#returning-a-view-versus-a-copy\n",
      "  Final_Odds['P(Under)'][i] = 1/Final_Odds.iloc[i]['BbAv<2.5']\n",
      "/tmp/ipykernel_136586/2946263194.py:96: SettingWithCopyWarning: \n",
      "A value is trying to be set on a copy of a slice from a DataFrame\n",
      "\n",
      "See the caveats in the documentation: https://pandas.pydata.org/pandas-docs/stable/user_guide/indexing.html#returning-a-view-versus-a-copy\n",
      "  Final_Odds['P(GG)'][i] = 1/Final_Odds.iloc[i]['GG']\n",
      "/tmp/ipykernel_136586/2946263194.py:97: SettingWithCopyWarning: \n",
      "A value is trying to be set on a copy of a slice from a DataFrame\n",
      "\n",
      "See the caveats in the documentation: https://pandas.pydata.org/pandas-docs/stable/user_guide/indexing.html#returning-a-view-versus-a-copy\n",
      "  Final_Odds['P(NG)'][i] = 1/Final_Odds.iloc[i]['NG']\n"
     ]
    },
    {
     "data": {
      "text/html": [
       "<div>\n",
       "<style scoped>\n",
       "    .dataframe tbody tr th:only-of-type {\n",
       "        vertical-align: middle;\n",
       "    }\n",
       "\n",
       "    .dataframe tbody tr th {\n",
       "        vertical-align: top;\n",
       "    }\n",
       "\n",
       "    .dataframe thead th {\n",
       "        text-align: right;\n",
       "    }\n",
       "</style>\n",
       "<table border=\"1\" class=\"dataframe\">\n",
       "  <thead>\n",
       "    <tr style=\"text-align: right;\">\n",
       "      <th></th>\n",
       "      <th>P(Hwin)</th>\n",
       "      <th>P(Draw)</th>\n",
       "      <th>P(Awin)</th>\n",
       "      <th>P(Under)</th>\n",
       "      <th>P(Over)</th>\n",
       "      <th>P(GG)</th>\n",
       "      <th>P(NG)</th>\n",
       "      <th>Type</th>\n",
       "      <th>Match</th>\n",
       "      <th>Date</th>\n",
       "    </tr>\n",
       "  </thead>\n",
       "  <tbody>\n",
       "    <tr>\n",
       "      <th>0</th>\n",
       "      <td>0.36</td>\n",
       "      <td>0.24</td>\n",
       "      <td>0.40</td>\n",
       "      <td>0.43</td>\n",
       "      <td>0.57</td>\n",
       "      <td>0.60</td>\n",
       "      <td>0.40</td>\n",
       "      <td>Predicted</td>\n",
       "      <td>Fulham-Manchester United</td>\n",
       "      <td>04/11/2023</td>\n",
       "    </tr>\n",
       "    <tr>\n",
       "      <th>1</th>\n",
       "      <td>0.55</td>\n",
       "      <td>0.22</td>\n",
       "      <td>0.23</td>\n",
       "      <td>0.41</td>\n",
       "      <td>0.59</td>\n",
       "      <td>0.58</td>\n",
       "      <td>0.42</td>\n",
       "      <td>Predicted</td>\n",
       "      <td>Brentford-West Ham</td>\n",
       "      <td>04/11/2023</td>\n",
       "    </tr>\n",
       "    <tr>\n",
       "      <th>2</th>\n",
       "      <td>0.35</td>\n",
       "      <td>0.26</td>\n",
       "      <td>0.38</td>\n",
       "      <td>0.51</td>\n",
       "      <td>0.49</td>\n",
       "      <td>0.53</td>\n",
       "      <td>0.47</td>\n",
       "      <td>Predicted</td>\n",
       "      <td>Burnley-Crystal Palace</td>\n",
       "      <td>04/11/2023</td>\n",
       "    </tr>\n",
       "    <tr>\n",
       "      <th>3</th>\n",
       "      <td>0.90</td>\n",
       "      <td>0.07</td>\n",
       "      <td>0.02</td>\n",
       "      <td>0.31</td>\n",
       "      <td>0.69</td>\n",
       "      <td>0.29</td>\n",
       "      <td>0.71</td>\n",
       "      <td>Predicted</td>\n",
       "      <td>Manchester City-Bournemouth</td>\n",
       "      <td>04/11/2023</td>\n",
       "    </tr>\n",
       "    <tr>\n",
       "      <th>4</th>\n",
       "      <td>0.35</td>\n",
       "      <td>0.24</td>\n",
       "      <td>0.41</td>\n",
       "      <td>0.41</td>\n",
       "      <td>0.59</td>\n",
       "      <td>0.61</td>\n",
       "      <td>0.39</td>\n",
       "      <td>Predicted</td>\n",
       "      <td>Everton-Brighton</td>\n",
       "      <td>04/11/2023</td>\n",
       "    </tr>\n",
       "    <tr>\n",
       "      <th>5</th>\n",
       "      <td>0.22</td>\n",
       "      <td>0.24</td>\n",
       "      <td>0.54</td>\n",
       "      <td>0.50</td>\n",
       "      <td>0.50</td>\n",
       "      <td>0.51</td>\n",
       "      <td>0.49</td>\n",
       "      <td>Predicted</td>\n",
       "      <td>Sheffield United-Wolverhampton Wanderers</td>\n",
       "      <td>04/11/2023</td>\n",
       "    </tr>\n",
       "    <tr>\n",
       "      <th>6</th>\n",
       "      <td>0.40</td>\n",
       "      <td>0.24</td>\n",
       "      <td>0.36</td>\n",
       "      <td>0.41</td>\n",
       "      <td>0.59</td>\n",
       "      <td>0.61</td>\n",
       "      <td>0.39</td>\n",
       "      <td>Predicted</td>\n",
       "      <td>Newcastle United-Arsenal</td>\n",
       "      <td>04/11/2023</td>\n",
       "    </tr>\n",
       "    <tr>\n",
       "      <th>7</th>\n",
       "      <td>0.21</td>\n",
       "      <td>0.24</td>\n",
       "      <td>0.55</td>\n",
       "      <td>0.51</td>\n",
       "      <td>0.49</td>\n",
       "      <td>0.50</td>\n",
       "      <td>0.50</td>\n",
       "      <td>Predicted</td>\n",
       "      <td>Nottingham Forest-Aston Villa</td>\n",
       "      <td>05/11/2023</td>\n",
       "    </tr>\n",
       "    <tr>\n",
       "      <th>8</th>\n",
       "      <td>0.10</td>\n",
       "      <td>0.17</td>\n",
       "      <td>0.73</td>\n",
       "      <td>0.44</td>\n",
       "      <td>0.56</td>\n",
       "      <td>0.44</td>\n",
       "      <td>0.56</td>\n",
       "      <td>Predicted</td>\n",
       "      <td>Luton-Liverpool</td>\n",
       "      <td>05/11/2023</td>\n",
       "    </tr>\n",
       "    <tr>\n",
       "      <th>9</th>\n",
       "      <td>0.57</td>\n",
       "      <td>0.20</td>\n",
       "      <td>0.23</td>\n",
       "      <td>0.28</td>\n",
       "      <td>0.72</td>\n",
       "      <td>0.69</td>\n",
       "      <td>0.31</td>\n",
       "      <td>Predicted</td>\n",
       "      <td>Tottenham-Chelsea</td>\n",
       "      <td>06/11/2023</td>\n",
       "    </tr>\n",
       "    <tr>\n",
       "      <th>10</th>\n",
       "      <td>0.19</td>\n",
       "      <td>0.20</td>\n",
       "      <td>0.61</td>\n",
       "      <td>0.34</td>\n",
       "      <td>0.66</td>\n",
       "      <td>0.62</td>\n",
       "      <td>0.38</td>\n",
       "      <td>Predicted</td>\n",
       "      <td>Wolverhampton Wanderers-Tottenham</td>\n",
       "      <td>11/11/2023</td>\n",
       "    </tr>\n",
       "    <tr>\n",
       "      <th>11</th>\n",
       "      <td>0.64</td>\n",
       "      <td>0.20</td>\n",
       "      <td>0.16</td>\n",
       "      <td>0.40</td>\n",
       "      <td>0.60</td>\n",
       "      <td>0.54</td>\n",
       "      <td>0.46</td>\n",
       "      <td>Predicted</td>\n",
       "      <td>Manchester United-Luton</td>\n",
       "      <td>11/11/2023</td>\n",
       "    </tr>\n",
       "    <tr>\n",
       "      <th>12</th>\n",
       "      <td>0.36</td>\n",
       "      <td>0.25</td>\n",
       "      <td>0.39</td>\n",
       "      <td>0.46</td>\n",
       "      <td>0.54</td>\n",
       "      <td>0.57</td>\n",
       "      <td>0.43</td>\n",
       "      <td>Predicted</td>\n",
       "      <td>Crystal Palace-Everton</td>\n",
       "      <td>11/11/2023</td>\n",
       "    </tr>\n",
       "    <tr>\n",
       "      <th>13</th>\n",
       "      <td>0.85</td>\n",
       "      <td>0.11</td>\n",
       "      <td>0.04</td>\n",
       "      <td>0.37</td>\n",
       "      <td>0.63</td>\n",
       "      <td>0.35</td>\n",
       "      <td>0.65</td>\n",
       "      <td>Predicted</td>\n",
       "      <td>Arsenal-Burnley</td>\n",
       "      <td>11/11/2023</td>\n",
       "    </tr>\n",
       "    <tr>\n",
       "      <th>14</th>\n",
       "      <td>0.13</td>\n",
       "      <td>0.19</td>\n",
       "      <td>0.68</td>\n",
       "      <td>0.40</td>\n",
       "      <td>0.60</td>\n",
       "      <td>0.51</td>\n",
       "      <td>0.49</td>\n",
       "      <td>Predicted</td>\n",
       "      <td>Bournemouth-Newcastle United</td>\n",
       "      <td>11/11/2023</td>\n",
       "    </tr>\n",
       "    <tr>\n",
       "      <th>15</th>\n",
       "      <td>0.66</td>\n",
       "      <td>0.18</td>\n",
       "      <td>0.16</td>\n",
       "      <td>0.32</td>\n",
       "      <td>0.68</td>\n",
       "      <td>0.61</td>\n",
       "      <td>0.39</td>\n",
       "      <td>Predicted</td>\n",
       "      <td>Liverpool-Brentford</td>\n",
       "      <td>12/11/2023</td>\n",
       "    </tr>\n",
       "    <tr>\n",
       "      <th>16</th>\n",
       "      <td>0.81</td>\n",
       "      <td>0.13</td>\n",
       "      <td>0.06</td>\n",
       "      <td>0.37</td>\n",
       "      <td>0.63</td>\n",
       "      <td>0.42</td>\n",
       "      <td>0.58</td>\n",
       "      <td>Predicted</td>\n",
       "      <td>Brighton-Sheffield United</td>\n",
       "      <td>12/11/2023</td>\n",
       "    </tr>\n",
       "    <tr>\n",
       "      <th>17</th>\n",
       "      <td>0.69</td>\n",
       "      <td>0.18</td>\n",
       "      <td>0.13</td>\n",
       "      <td>0.39</td>\n",
       "      <td>0.61</td>\n",
       "      <td>0.53</td>\n",
       "      <td>0.47</td>\n",
       "      <td>Predicted</td>\n",
       "      <td>Aston Villa-Fulham</td>\n",
       "      <td>12/11/2023</td>\n",
       "    </tr>\n",
       "    <tr>\n",
       "      <th>18</th>\n",
       "      <td>0.41</td>\n",
       "      <td>0.26</td>\n",
       "      <td>0.33</td>\n",
       "      <td>0.52</td>\n",
       "      <td>0.48</td>\n",
       "      <td>0.53</td>\n",
       "      <td>0.47</td>\n",
       "      <td>Predicted</td>\n",
       "      <td>West Ham-Nottingham Forest</td>\n",
       "      <td>12/11/2023</td>\n",
       "    </tr>\n",
       "    <tr>\n",
       "      <th>19</th>\n",
       "      <td>0.33</td>\n",
       "      <td>0.23</td>\n",
       "      <td>0.44</td>\n",
       "      <td>0.38</td>\n",
       "      <td>0.62</td>\n",
       "      <td>0.63</td>\n",
       "      <td>0.37</td>\n",
       "      <td>Predicted</td>\n",
       "      <td>Chelsea-Manchester City</td>\n",
       "      <td>12/11/2023</td>\n",
       "    </tr>\n",
       "    <tr>\n",
       "      <th>20</th>\n",
       "      <td>0.28</td>\n",
       "      <td>0.27</td>\n",
       "      <td>0.50</td>\n",
       "      <td>0.51</td>\n",
       "      <td>0.55</td>\n",
       "      <td>0.59</td>\n",
       "      <td>0.48</td>\n",
       "      <td>Bookmaker</td>\n",
       "      <td>Fulham-Manchester United</td>\n",
       "      <td>NaN</td>\n",
       "    </tr>\n",
       "    <tr>\n",
       "      <th>21</th>\n",
       "      <td>0.48</td>\n",
       "      <td>0.27</td>\n",
       "      <td>0.30</td>\n",
       "      <td>0.48</td>\n",
       "      <td>0.57</td>\n",
       "      <td>0.62</td>\n",
       "      <td>0.45</td>\n",
       "      <td>Bookmaker</td>\n",
       "      <td>Brentford-West Ham</td>\n",
       "      <td>NaN</td>\n",
       "    </tr>\n",
       "    <tr>\n",
       "      <th>22</th>\n",
       "      <td>0.36</td>\n",
       "      <td>0.31</td>\n",
       "      <td>0.38</td>\n",
       "      <td>0.59</td>\n",
       "      <td>0.46</td>\n",
       "      <td>0.54</td>\n",
       "      <td>0.53</td>\n",
       "      <td>Bookmaker</td>\n",
       "      <td>Burnley-Crystal Palace</td>\n",
       "      <td>NaN</td>\n",
       "    </tr>\n",
       "    <tr>\n",
       "      <th>23</th>\n",
       "      <td>0.88</td>\n",
       "      <td>0.11</td>\n",
       "      <td>0.05</td>\n",
       "      <td>0.50</td>\n",
       "      <td>0.55</td>\n",
       "      <td>0.47</td>\n",
       "      <td>0.61</td>\n",
       "      <td>Bookmaker</td>\n",
       "      <td>Manchester City-Bournemouth</td>\n",
       "      <td>NaN</td>\n",
       "    </tr>\n",
       "    <tr>\n",
       "      <th>24</th>\n",
       "      <td>0.33</td>\n",
       "      <td>0.27</td>\n",
       "      <td>0.46</td>\n",
       "      <td>0.42</td>\n",
       "      <td>0.64</td>\n",
       "      <td>0.67</td>\n",
       "      <td>0.40</td>\n",
       "      <td>Bookmaker</td>\n",
       "      <td>Everton-Brighton</td>\n",
       "      <td>NaN</td>\n",
       "    </tr>\n",
       "    <tr>\n",
       "      <th>25</th>\n",
       "      <td>0.26</td>\n",
       "      <td>0.29</td>\n",
       "      <td>0.51</td>\n",
       "      <td>0.51</td>\n",
       "      <td>0.53</td>\n",
       "      <td>0.59</td>\n",
       "      <td>0.48</td>\n",
       "      <td>Bookmaker</td>\n",
       "      <td>Sheffield United-Wolverhampton Wanderers</td>\n",
       "      <td>NaN</td>\n",
       "    </tr>\n",
       "    <tr>\n",
       "      <th>26</th>\n",
       "      <td>0.35</td>\n",
       "      <td>0.29</td>\n",
       "      <td>0.41</td>\n",
       "      <td>0.52</td>\n",
       "      <td>0.53</td>\n",
       "      <td>0.59</td>\n",
       "      <td>0.48</td>\n",
       "      <td>Bookmaker</td>\n",
       "      <td>Newcastle United-Arsenal</td>\n",
       "      <td>NaN</td>\n",
       "    </tr>\n",
       "    <tr>\n",
       "      <th>27</th>\n",
       "      <td>0.25</td>\n",
       "      <td>0.26</td>\n",
       "      <td>0.53</td>\n",
       "      <td>0.48</td>\n",
       "      <td>0.57</td>\n",
       "      <td>0.61</td>\n",
       "      <td>0.47</td>\n",
       "      <td>Bookmaker</td>\n",
       "      <td>Nottingham Forest-Aston Villa</td>\n",
       "      <td>NaN</td>\n",
       "    </tr>\n",
       "    <tr>\n",
       "      <th>28</th>\n",
       "      <td>0.10</td>\n",
       "      <td>0.16</td>\n",
       "      <td>0.79</td>\n",
       "      <td>0.54</td>\n",
       "      <td>0.51</td>\n",
       "      <td>0.56</td>\n",
       "      <td>0.51</td>\n",
       "      <td>Bookmaker</td>\n",
       "      <td>Luton-Liverpool</td>\n",
       "      <td>NaN</td>\n",
       "    </tr>\n",
       "    <tr>\n",
       "      <th>29</th>\n",
       "      <td>0.47</td>\n",
       "      <td>0.27</td>\n",
       "      <td>0.32</td>\n",
       "      <td>0.48</td>\n",
       "      <td>0.57</td>\n",
       "      <td>0.62</td>\n",
       "      <td>0.45</td>\n",
       "      <td>Bookmaker</td>\n",
       "      <td>Tottenham-Chelsea</td>\n",
       "      <td>NaN</td>\n",
       "    </tr>\n",
       "    <tr>\n",
       "      <th>30</th>\n",
       "      <td>0.24</td>\n",
       "      <td>0.25</td>\n",
       "      <td>0.56</td>\n",
       "      <td>0.44</td>\n",
       "      <td>0.61</td>\n",
       "      <td>0.62</td>\n",
       "      <td>0.45</td>\n",
       "      <td>Bookmaker</td>\n",
       "      <td>Wolverhampton Wanderers-Tottenham</td>\n",
       "      <td>NaN</td>\n",
       "    </tr>\n",
       "    <tr>\n",
       "      <th>31</th>\n",
       "      <td>0.78</td>\n",
       "      <td>0.17</td>\n",
       "      <td>0.10</td>\n",
       "      <td>0.59</td>\n",
       "      <td>0.46</td>\n",
       "      <td>0.53</td>\n",
       "      <td>0.54</td>\n",
       "      <td>Bookmaker</td>\n",
       "      <td>Manchester United-Luton</td>\n",
       "      <td>NaN</td>\n",
       "    </tr>\n",
       "    <tr>\n",
       "      <th>32</th>\n",
       "      <td>0.40</td>\n",
       "      <td>0.30</td>\n",
       "      <td>0.34</td>\n",
       "      <td>0.57</td>\n",
       "      <td>0.48</td>\n",
       "      <td>0.55</td>\n",
       "      <td>0.52</td>\n",
       "      <td>Bookmaker</td>\n",
       "      <td>Crystal Palace-Everton</td>\n",
       "      <td>NaN</td>\n",
       "    </tr>\n",
       "    <tr>\n",
       "      <th>33</th>\n",
       "      <td>0.81</td>\n",
       "      <td>0.16</td>\n",
       "      <td>0.08</td>\n",
       "      <td>0.57</td>\n",
       "      <td>0.48</td>\n",
       "      <td>0.52</td>\n",
       "      <td>0.55</td>\n",
       "      <td>Bookmaker</td>\n",
       "      <td>Arsenal-Burnley</td>\n",
       "      <td>NaN</td>\n",
       "    </tr>\n",
       "    <tr>\n",
       "      <th>34</th>\n",
       "      <td>0.22</td>\n",
       "      <td>0.25</td>\n",
       "      <td>0.58</td>\n",
       "      <td>0.43</td>\n",
       "      <td>0.62</td>\n",
       "      <td>0.62</td>\n",
       "      <td>0.44</td>\n",
       "      <td>Bookmaker</td>\n",
       "      <td>Bournemouth-Newcastle United</td>\n",
       "      <td>NaN</td>\n",
       "    </tr>\n",
       "    <tr>\n",
       "      <th>35</th>\n",
       "      <td>0.68</td>\n",
       "      <td>0.22</td>\n",
       "      <td>0.16</td>\n",
       "      <td>0.61</td>\n",
       "      <td>0.44</td>\n",
       "      <td>0.62</td>\n",
       "      <td>0.45</td>\n",
       "      <td>Bookmaker</td>\n",
       "      <td>Liverpool-Brentford</td>\n",
       "      <td>NaN</td>\n",
       "    </tr>\n",
       "    <tr>\n",
       "      <th>36</th>\n",
       "      <td>0.81</td>\n",
       "      <td>0.16</td>\n",
       "      <td>0.08</td>\n",
       "      <td>0.55</td>\n",
       "      <td>0.50</td>\n",
       "      <td>0.54</td>\n",
       "      <td>0.53</td>\n",
       "      <td>Bookmaker</td>\n",
       "      <td>Brighton-Sheffield United</td>\n",
       "      <td>NaN</td>\n",
       "    </tr>\n",
       "    <tr>\n",
       "      <th>37</th>\n",
       "      <td>0.62</td>\n",
       "      <td>0.24</td>\n",
       "      <td>0.19</td>\n",
       "      <td>0.44</td>\n",
       "      <td>0.61</td>\n",
       "      <td>0.59</td>\n",
       "      <td>0.48</td>\n",
       "      <td>Bookmaker</td>\n",
       "      <td>Aston Villa-Fulham</td>\n",
       "      <td>NaN</td>\n",
       "    </tr>\n",
       "    <tr>\n",
       "      <th>38</th>\n",
       "      <td>0.55</td>\n",
       "      <td>0.27</td>\n",
       "      <td>0.24</td>\n",
       "      <td>0.50</td>\n",
       "      <td>0.56</td>\n",
       "      <td>0.58</td>\n",
       "      <td>0.49</td>\n",
       "      <td>Bookmaker</td>\n",
       "      <td>West Ham-Nottingham Forest</td>\n",
       "      <td>NaN</td>\n",
       "    </tr>\n",
       "    <tr>\n",
       "      <th>39</th>\n",
       "      <td>0.22</td>\n",
       "      <td>0.25</td>\n",
       "      <td>0.57</td>\n",
       "      <td>0.49</td>\n",
       "      <td>0.56</td>\n",
       "      <td>0.57</td>\n",
       "      <td>0.50</td>\n",
       "      <td>Bookmaker</td>\n",
       "      <td>Chelsea-Manchester City</td>\n",
       "      <td>NaN</td>\n",
       "    </tr>\n",
       "  </tbody>\n",
       "</table>\n",
       "</div>"
      ],
      "text/plain": [
       "    P(Hwin)  P(Draw)  P(Awin)  P(Under)  P(Over)  P(GG)  P(NG)       Type  \\\n",
       "0      0.36     0.24     0.40      0.43     0.57   0.60   0.40  Predicted   \n",
       "1      0.55     0.22     0.23      0.41     0.59   0.58   0.42  Predicted   \n",
       "2      0.35     0.26     0.38      0.51     0.49   0.53   0.47  Predicted   \n",
       "3      0.90     0.07     0.02      0.31     0.69   0.29   0.71  Predicted   \n",
       "4      0.35     0.24     0.41      0.41     0.59   0.61   0.39  Predicted   \n",
       "5      0.22     0.24     0.54      0.50     0.50   0.51   0.49  Predicted   \n",
       "6      0.40     0.24     0.36      0.41     0.59   0.61   0.39  Predicted   \n",
       "7      0.21     0.24     0.55      0.51     0.49   0.50   0.50  Predicted   \n",
       "8      0.10     0.17     0.73      0.44     0.56   0.44   0.56  Predicted   \n",
       "9      0.57     0.20     0.23      0.28     0.72   0.69   0.31  Predicted   \n",
       "10     0.19     0.20     0.61      0.34     0.66   0.62   0.38  Predicted   \n",
       "11     0.64     0.20     0.16      0.40     0.60   0.54   0.46  Predicted   \n",
       "12     0.36     0.25     0.39      0.46     0.54   0.57   0.43  Predicted   \n",
       "13     0.85     0.11     0.04      0.37     0.63   0.35   0.65  Predicted   \n",
       "14     0.13     0.19     0.68      0.40     0.60   0.51   0.49  Predicted   \n",
       "15     0.66     0.18     0.16      0.32     0.68   0.61   0.39  Predicted   \n",
       "16     0.81     0.13     0.06      0.37     0.63   0.42   0.58  Predicted   \n",
       "17     0.69     0.18     0.13      0.39     0.61   0.53   0.47  Predicted   \n",
       "18     0.41     0.26     0.33      0.52     0.48   0.53   0.47  Predicted   \n",
       "19     0.33     0.23     0.44      0.38     0.62   0.63   0.37  Predicted   \n",
       "20     0.28     0.27     0.50      0.51     0.55   0.59   0.48  Bookmaker   \n",
       "21     0.48     0.27     0.30      0.48     0.57   0.62   0.45  Bookmaker   \n",
       "22     0.36     0.31     0.38      0.59     0.46   0.54   0.53  Bookmaker   \n",
       "23     0.88     0.11     0.05      0.50     0.55   0.47   0.61  Bookmaker   \n",
       "24     0.33     0.27     0.46      0.42     0.64   0.67   0.40  Bookmaker   \n",
       "25     0.26     0.29     0.51      0.51     0.53   0.59   0.48  Bookmaker   \n",
       "26     0.35     0.29     0.41      0.52     0.53   0.59   0.48  Bookmaker   \n",
       "27     0.25     0.26     0.53      0.48     0.57   0.61   0.47  Bookmaker   \n",
       "28     0.10     0.16     0.79      0.54     0.51   0.56   0.51  Bookmaker   \n",
       "29     0.47     0.27     0.32      0.48     0.57   0.62   0.45  Bookmaker   \n",
       "30     0.24     0.25     0.56      0.44     0.61   0.62   0.45  Bookmaker   \n",
       "31     0.78     0.17     0.10      0.59     0.46   0.53   0.54  Bookmaker   \n",
       "32     0.40     0.30     0.34      0.57     0.48   0.55   0.52  Bookmaker   \n",
       "33     0.81     0.16     0.08      0.57     0.48   0.52   0.55  Bookmaker   \n",
       "34     0.22     0.25     0.58      0.43     0.62   0.62   0.44  Bookmaker   \n",
       "35     0.68     0.22     0.16      0.61     0.44   0.62   0.45  Bookmaker   \n",
       "36     0.81     0.16     0.08      0.55     0.50   0.54   0.53  Bookmaker   \n",
       "37     0.62     0.24     0.19      0.44     0.61   0.59   0.48  Bookmaker   \n",
       "38     0.55     0.27     0.24      0.50     0.56   0.58   0.49  Bookmaker   \n",
       "39     0.22     0.25     0.57      0.49     0.56   0.57   0.50  Bookmaker   \n",
       "\n",
       "                                       Match        Date  \n",
       "0                   Fulham-Manchester United  04/11/2023  \n",
       "1                         Brentford-West Ham  04/11/2023  \n",
       "2                     Burnley-Crystal Palace  04/11/2023  \n",
       "3                Manchester City-Bournemouth  04/11/2023  \n",
       "4                           Everton-Brighton  04/11/2023  \n",
       "5   Sheffield United-Wolverhampton Wanderers  04/11/2023  \n",
       "6                   Newcastle United-Arsenal  04/11/2023  \n",
       "7              Nottingham Forest-Aston Villa  05/11/2023  \n",
       "8                            Luton-Liverpool  05/11/2023  \n",
       "9                          Tottenham-Chelsea  06/11/2023  \n",
       "10         Wolverhampton Wanderers-Tottenham  11/11/2023  \n",
       "11                   Manchester United-Luton  11/11/2023  \n",
       "12                    Crystal Palace-Everton  11/11/2023  \n",
       "13                           Arsenal-Burnley  11/11/2023  \n",
       "14              Bournemouth-Newcastle United  11/11/2023  \n",
       "15                       Liverpool-Brentford  12/11/2023  \n",
       "16                 Brighton-Sheffield United  12/11/2023  \n",
       "17                        Aston Villa-Fulham  12/11/2023  \n",
       "18                West Ham-Nottingham Forest  12/11/2023  \n",
       "19                   Chelsea-Manchester City  12/11/2023  \n",
       "20                  Fulham-Manchester United         NaN  \n",
       "21                        Brentford-West Ham         NaN  \n",
       "22                    Burnley-Crystal Palace         NaN  \n",
       "23               Manchester City-Bournemouth         NaN  \n",
       "24                          Everton-Brighton         NaN  \n",
       "25  Sheffield United-Wolverhampton Wanderers         NaN  \n",
       "26                  Newcastle United-Arsenal         NaN  \n",
       "27             Nottingham Forest-Aston Villa         NaN  \n",
       "28                           Luton-Liverpool         NaN  \n",
       "29                         Tottenham-Chelsea         NaN  \n",
       "30         Wolverhampton Wanderers-Tottenham         NaN  \n",
       "31                   Manchester United-Luton         NaN  \n",
       "32                    Crystal Palace-Everton         NaN  \n",
       "33                           Arsenal-Burnley         NaN  \n",
       "34              Bournemouth-Newcastle United         NaN  \n",
       "35                       Liverpool-Brentford         NaN  \n",
       "36                 Brighton-Sheffield United         NaN  \n",
       "37                        Aston Villa-Fulham         NaN  \n",
       "38                West Ham-Nottingham Forest         NaN  \n",
       "39                   Chelsea-Manchester City         NaN  "
      ]
     },
     "metadata": {},
     "output_type": "display_data"
    }
   ],
   "source": [
    "k = range(12)\n",
    "PH = np.zeros((len(k), 1))\n",
    "PA = np.zeros((1, len(k)))\n",
    "PRED['P(Hwin)']= np.nan\n",
    "PRED['P(Awin)']= np.nan\n",
    "PRED['P(Draw)']= np.nan\n",
    "PRED['P(Over)']= np.nan\n",
    "PRED['P(Under)']= np.nan\n",
    "PRED['P(GG)']=np.nan\n",
    "PRED['P(NG)']=np.nan\n",
    "\n",
    "Pie_list = []\n",
    "for j, l in enumerate(LamdaHome):\n",
    "    for i in k:\n",
    "        PH[i, 0] = (math.exp(-l)*l**k[i]) /math.factorial(k[i])\n",
    "        PA[0, i] = (math.exp(-LamdaAway[j])*LamdaAway[j]**k[i]) /math.factorial(k[i])\n",
    "    Pscore = np.matmul(PH, PA) \n",
    "    df = pd.DataFrame(Pscore, columns = ['0','1','2', '3', '4', '5', '6', '7', '8', '9', '10', '11'])\n",
    "    PRED.loc[j,'P(Awin)'], PRED.loc[j,'P(Hwin)'], PRED.loc[j,'P(Draw)'], PRED.loc[j,'P(Over)'], PRED.loc[j,'P(Under)'], PRED.loc[j,'P(NG)'], PRED.loc[j,'P(GG)']  = sum_of_lower_upper(Pscore)\n",
    "    PRED['P(Over)'] = 1 - PRED['P(Under)']\n",
    "    df = df.iloc[0:5, 0:5]\n",
    "    pd.set_option('display.float_format', lambda x: '%.3f' % x)\n",
    "    \n",
    "    G = []\n",
    "    for i in range(0, 5):\n",
    "        for j in range(0, 5):\n",
    "            G.append(df.loc[i][j])\n",
    "\n",
    "            \n",
    "    Pie_Df = pd.DataFrame(G, columns = ['P(score)'])\n",
    "    Pie_Df['score']= ['0 - 0',\n",
    "                      '0 - 1',\n",
    "                      '0 - 2',\n",
    "                      '0 - 3',\n",
    "                      '0 - 4',\n",
    "                      '1 - 0',\n",
    "                      '1 - 1',\n",
    "                      '1 - 2',\n",
    "                      '1 - 3',\n",
    "                      '1 - 4',\n",
    "                      '2 - 0',\n",
    "                      '2 - 1',\n",
    "                      '2 - 2',\n",
    "                      '2 - 3',\n",
    "                      '2 - 4',\n",
    "                      '3 - 0',\n",
    "                      '3 - 1',\n",
    "                      '3 - 2',\n",
    "                      '3 - 3',\n",
    "                      '3 - 4',\n",
    "                      '4 - 0',\n",
    "                      '4 - 1',\n",
    "                      '4 - 2',\n",
    "                      '4 - 3',\n",
    "                      '4 - 4']\n",
    "    Pie_Df.loc[Pie_Df[\"P(score)\"] < 0.02, \"score\"] = 'Other'\n",
    "    Pie_Df = Pie_Df.sort_values(by=['P(score)'], ascending=False)\n",
    "    Pie_list.append(Pie_Df)\n",
    "    \n",
    "\n",
    "PRED = PRED[['Date', 'HTeam', 'ATeam', 'P(Hwin)', 'P(Draw)', 'P(Awin)', 'P(Under)', 'P(Over)', 'P(GG)', 'P(NG)']]\n",
    "with pd.option_context('display.max_rows', None, 'display.max_columns', None):  # more options can be specified also\n",
    "    display(PRED)\n",
    "\n",
    "pd.options.display.float_format = '{:.2f}'.format\n",
    "disp_pred = PRED.copy()\n",
    "disp_pred.rename(columns = {'ATeam':'Away Team'}, inplace = True)\n",
    "disp_pred.rename(columns = {'HTeam':'Home Team'}, inplace = True)\n",
    "html_table_blue_light = build_table(disp_pred, 'blue_light')\n",
    "\n",
    "# Save to html file\n",
    "with open('UpcomingMatchesPrediction.html', 'w') as f:\n",
    "    f.write(html_table_blue_light)\n",
    "\n",
    "json_data = disp_pred.to_json()\n",
    "with open('ProbabilityPrediction.json', 'w') as f:\n",
    "    f.write(json_data)\n",
    "\n",
    "Final_Odds = pd.concat([PRED, Odds], axis=0)\n",
    "Final_Odds['Type'] = np.nan\n",
    "Final_Odds['Match'] = np.nan\n",
    "Final_Odds = Final_Odds.reset_index(drop = 'True')\n",
    "Final_Odds.loc[Final_Odds['B365H'].isnull(), 'Type'] = 'Predicted'\n",
    "Final_Odds.loc[Final_Odds['P(Hwin)'].isnull(), 'Type'] = 'Bookmaker'\n",
    "\n",
    "for i, x in enumerate(Final_Odds['Match']):\n",
    "    Final_Odds['Match'][i] = str(Final_Odds['HTeam'][i] + '-' + Final_Odds['ATeam'][i])\n",
    "\n",
    "li  = Final_Odds.index[Final_Odds['Type'] == 'Bookmaker'].tolist()\n",
    "for i in li:\n",
    "    Final_Odds['P(Hwin)'][i] = 1/Final_Odds.iloc[i]['B365H']\n",
    "    Final_Odds['P(Awin)'][i] = 1/Final_Odds.iloc[i]['B365A']\n",
    "    Final_Odds['P(Draw)'][i] = 1/Final_Odds.iloc[i]['B365D']\n",
    "    Final_Odds['P(Over)'][i] = 1/Final_Odds.iloc[i]['BbAv>2.5']\n",
    "    Final_Odds['P(Under)'][i] = 1/Final_Odds.iloc[i]['BbAv<2.5']\n",
    "    Final_Odds['P(GG)'][i] = 1/Final_Odds.iloc[i]['GG']\n",
    "    Final_Odds['P(NG)'][i] = 1/Final_Odds.iloc[i]['NG']\n",
    "\n",
    "Final_Odds = Final_Odds[['P(Hwin)', 'P(Draw)', 'P(Awin)', 'P(Under)', 'P(Over)', 'P(GG)', 'P(NG)', 'Type', 'Match', 'Date']].copy()\n",
    "\n",
    "with pd.option_context('display.max_rows', None, 'display.max_columns', None):  # more options can be specified also\n",
    "    display(Final_Odds)\n",
    "\n",
    "    "
   ]
  },
  {
   "cell_type": "code",
   "execution_count": 6,
   "metadata": {},
   "outputs": [
    {
     "data": {
      "application/vnd.plotly.v1+json": {
       "config": {
        "plotlyServerURL": "https://plot.ly"
       },
       "data": [
        {
         "marker": {
          "color": "rgb(141,211,199)"
         },
         "name": "Predicted Home Win",
         "type": "bar",
         "x": [
          "Fulham-Manchester United",
          "Brentford-West Ham",
          "Burnley-Crystal Palace",
          "Manchester City-Bournemouth",
          "Everton-Brighton",
          "Sheffield United-Wolverhampton Wanderers",
          "Newcastle United-Arsenal",
          "Nottingham Forest-Aston Villa",
          "Luton-Liverpool",
          "Tottenham-Chelsea",
          "Wolverhampton Wanderers-Tottenham",
          "Manchester United-Luton",
          "Crystal Palace-Everton",
          "Arsenal-Burnley",
          "Bournemouth-Newcastle United",
          "Liverpool-Brentford",
          "Brighton-Sheffield United",
          "Aston Villa-Fulham",
          "West Ham-Nottingham Forest",
          "Chelsea-Manchester City"
         ],
         "xaxis": "x",
         "y": [
          0.35657972742526306,
          0.5515687867697754,
          0.3539572323440679,
          0.9043229470355825,
          0.35324978612824454,
          0.216298459742572,
          0.4024329129022013,
          0.2123319955575373,
          0.09881371217830415,
          0.5745227027494423,
          0.19482377282740324,
          0.6444114097650897,
          0.3569590709935399,
          0.8508844782024126,
          0.13132267972009395,
          0.6571751102931845,
          0.8083735405544683,
          0.6851670663397857,
          0.4096270481152849,
          0.3284002493415665
         ],
         "yaxis": "y"
        },
        {
         "marker": {
          "color": "rgb(82, 106, 131)"
         },
         "name": "Bookmaker Home Win",
         "type": "bar",
         "x": [
          "Fulham-Manchester United",
          "Brentford-West Ham",
          "Burnley-Crystal Palace",
          "Manchester City-Bournemouth",
          "Everton-Brighton",
          "Sheffield United-Wolverhampton Wanderers",
          "Newcastle United-Arsenal",
          "Nottingham Forest-Aston Villa",
          "Luton-Liverpool",
          "Tottenham-Chelsea",
          "Wolverhampton Wanderers-Tottenham",
          "Manchester United-Luton",
          "Crystal Palace-Everton",
          "Arsenal-Burnley",
          "Bournemouth-Newcastle United",
          "Liverpool-Brentford",
          "Brighton-Sheffield United",
          "Aston Villa-Fulham",
          "West Ham-Nottingham Forest",
          "Chelsea-Manchester City"
         ],
         "xaxis": "x",
         "y": [
          0.28169014084507044,
          0.48309178743961356,
          0.36101083032490977,
          0.8849557522123894,
          0.3278688524590164,
          0.25641025641025644,
          0.3546099290780142,
          0.2531645569620253,
          0.09523809523809523,
          0.46511627906976744,
          0.23529411764705882,
          0.78125,
          0.4048582995951417,
          0.8130081300813008,
          0.2247191011235955,
          0.6802721088435374,
          0.8130081300813008,
          0.6172839506172839,
          0.5494505494505494,
          0.2222222222222222
         ],
         "yaxis": "y"
        },
        {
         "marker": {
          "color": "rgb(141,211,199)"
         },
         "name": "Predicted Draw",
         "type": "bar",
         "x": [
          "Fulham-Manchester United",
          "Brentford-West Ham",
          "Burnley-Crystal Palace",
          "Manchester City-Bournemouth",
          "Everton-Brighton",
          "Sheffield United-Wolverhampton Wanderers",
          "Newcastle United-Arsenal",
          "Nottingham Forest-Aston Villa",
          "Luton-Liverpool",
          "Tottenham-Chelsea",
          "Wolverhampton Wanderers-Tottenham",
          "Manchester United-Luton",
          "Crystal Palace-Everton",
          "Arsenal-Burnley",
          "Bournemouth-Newcastle United",
          "Liverpool-Brentford",
          "Brighton-Sheffield United",
          "Aston Villa-Fulham",
          "West Ham-Nottingham Forest",
          "Chelsea-Manchester City"
         ],
         "xaxis": "x",
         "y": [
          0.24356424541594435,
          0.22182517059601345,
          0.26250700972031693,
          0.07420113354392949,
          0.23973746563093035,
          0.2392255757758374,
          0.24085683735146912,
          0.24219014320141008,
          0.17359575120409584,
          0.195812369406021,
          0.19912940527346426,
          0.19782541407560056,
          0.2512410745825339,
          0.10830776943738842,
          0.18518259574805973,
          0.18157775350876687,
          0.13012867566539063,
          0.18242456386772252,
          0.2630165296686596,
          0.23261172025270396
         ],
         "yaxis": "y"
        },
        {
         "marker": {
          "color": "rgb(82, 106, 131)"
         },
         "name": "Bookmaker Draw",
         "type": "bar",
         "x": [
          "Fulham-Manchester United",
          "Brentford-West Ham",
          "Burnley-Crystal Palace",
          "Manchester City-Bournemouth",
          "Everton-Brighton",
          "Sheffield United-Wolverhampton Wanderers",
          "Newcastle United-Arsenal",
          "Nottingham Forest-Aston Villa",
          "Luton-Liverpool",
          "Tottenham-Chelsea",
          "Wolverhampton Wanderers-Tottenham",
          "Manchester United-Luton",
          "Crystal Palace-Everton",
          "Arsenal-Burnley",
          "Bournemouth-Newcastle United",
          "Liverpool-Brentford",
          "Brighton-Sheffield United",
          "Aston Villa-Fulham",
          "West Ham-Nottingham Forest",
          "Chelsea-Manchester City"
         ],
         "xaxis": "x",
         "y": [
          0.273972602739726,
          0.27027027027027023,
          0.3125,
          0.11428571428571428,
          0.26666666666666666,
          0.2898550724637681,
          0.2898550724637681,
          0.2597402597402597,
          0.16129032258064516,
          0.27027027027027023,
          0.25,
          0.1694915254237288,
          0.30303030303030304,
          0.15625,
          0.2469135802469136,
          0.2150537634408602,
          0.15873015873015872,
          0.24390243902439027,
          0.26666666666666666,
          0.2531645569620253
         ],
         "yaxis": "y"
        },
        {
         "marker": {
          "color": "rgb(141,211,199)"
         },
         "name": "Predicted Away Win",
         "type": "bar",
         "x": [
          "Fulham-Manchester United",
          "Brentford-West Ham",
          "Burnley-Crystal Palace",
          "Manchester City-Bournemouth",
          "Everton-Brighton",
          "Sheffield United-Wolverhampton Wanderers",
          "Newcastle United-Arsenal",
          "Nottingham Forest-Aston Villa",
          "Luton-Liverpool",
          "Tottenham-Chelsea",
          "Wolverhampton Wanderers-Tottenham",
          "Manchester United-Luton",
          "Crystal Palace-Everton",
          "Arsenal-Burnley",
          "Bournemouth-Newcastle United",
          "Liverpool-Brentford",
          "Brighton-Sheffield United",
          "Aston Villa-Fulham",
          "West Ham-Nottingham Forest",
          "Chelsea-Manchester City"
         ],
         "xaxis": "x",
         "y": [
          0.3998558925599475,
          0.2266051578470192,
          0.3835357248121784,
          0.0213581239023857,
          0.4070125652257586,
          0.5444756932762337,
          0.3567100836865125,
          0.5454776377072174,
          0.7275862499186706,
          0.2296588607810586,
          0.6060432201307284,
          0.15776055867867025,
          0.3917997794388312,
          0.0407716489774366,
          0.6834907264930329,
          0.16123874583700867,
          0.06147604568686682,
          0.13240348912345692,
          0.3273563863460397,
          0.43898767950206413
         ],
         "yaxis": "y"
        },
        {
         "marker": {
          "color": "rgb(82, 106, 131)"
         },
         "name": "Bookmaker Away Win",
         "type": "bar",
         "x": [
          "Fulham-Manchester United",
          "Brentford-West Ham",
          "Burnley-Crystal Palace",
          "Manchester City-Bournemouth",
          "Everton-Brighton",
          "Sheffield United-Wolverhampton Wanderers",
          "Newcastle United-Arsenal",
          "Nottingham Forest-Aston Villa",
          "Luton-Liverpool",
          "Tottenham-Chelsea",
          "Wolverhampton Wanderers-Tottenham",
          "Manchester United-Luton",
          "Crystal Palace-Everton",
          "Arsenal-Burnley",
          "Bournemouth-Newcastle United",
          "Liverpool-Brentford",
          "Brighton-Sheffield United",
          "Aston Villa-Fulham",
          "West Ham-Nottingham Forest",
          "Chelsea-Manchester City"
         ],
         "xaxis": "x",
         "y": [
          0.49504950495049505,
          0.29850746268656714,
          0.37735849056603776,
          0.047619047619047616,
          0.4587155963302752,
          0.5050505050505051,
          0.4081632653061224,
          0.53475935828877,
          0.7936507936507936,
          0.31746031746031744,
          0.5617977528089888,
          0.09523809523809523,
          0.3424657534246575,
          0.08,
          0.5813953488372093,
          0.15873015873015872,
          0.08,
          0.1923076923076923,
          0.23529411764705882,
          0.5714285714285714
         ],
         "yaxis": "y"
        },
        {
         "marker": {
          "color": "rgb(141,211,199)"
         },
         "name": "Predicted Over",
         "type": "bar",
         "x": [
          "Fulham-Manchester United",
          "Brentford-West Ham",
          "Burnley-Crystal Palace",
          "Manchester City-Bournemouth",
          "Everton-Brighton",
          "Sheffield United-Wolverhampton Wanderers",
          "Newcastle United-Arsenal",
          "Nottingham Forest-Aston Villa",
          "Luton-Liverpool",
          "Tottenham-Chelsea",
          "Wolverhampton Wanderers-Tottenham",
          "Manchester United-Luton",
          "Crystal Palace-Everton",
          "Arsenal-Burnley",
          "Bournemouth-Newcastle United",
          "Liverpool-Brentford",
          "Brighton-Sheffield United",
          "Aston Villa-Fulham",
          "West Ham-Nottingham Forest",
          "Chelsea-Manchester City"
         ],
         "xaxis": "x2",
         "y": [
          0.5725385555204243,
          0.5920780693603492,
          0.4868929038016474,
          0.6852795339815938,
          0.5903794684726469,
          0.5044271736172095,
          0.585539728862705,
          0.4881119224832329,
          0.5604627629347985,
          0.7224732807017502,
          0.6562046571192114,
          0.5955013746216848,
          0.5367705937575432,
          0.6334571246163757,
          0.5958201005409098,
          0.6817035641797557,
          0.6294653498228017,
          0.6115458075313212,
          0.480224622756686,
          0.618231111992158
         ],
         "yaxis": "y2"
        },
        {
         "marker": {
          "color": "rgb(82, 106, 131)"
         },
         "name": "Bookmaker Over",
         "type": "bar",
         "x": [
          "Fulham-Manchester United",
          "Brentford-West Ham",
          "Burnley-Crystal Palace",
          "Manchester City-Bournemouth",
          "Everton-Brighton",
          "Sheffield United-Wolverhampton Wanderers",
          "Newcastle United-Arsenal",
          "Nottingham Forest-Aston Villa",
          "Luton-Liverpool",
          "Tottenham-Chelsea",
          "Wolverhampton Wanderers-Tottenham",
          "Manchester United-Luton",
          "Crystal Palace-Everton",
          "Arsenal-Burnley",
          "Bournemouth-Newcastle United",
          "Liverpool-Brentford",
          "Brighton-Sheffield United",
          "Aston Villa-Fulham",
          "West Ham-Nottingham Forest",
          "Chelsea-Manchester City"
         ],
         "xaxis": "x2",
         "y": [
          0.5464480874316939,
          0.5714285714285714,
          0.4587155963302752,
          0.5494505494505494,
          0.6369426751592356,
          0.53475935828877,
          0.5319148936170213,
          0.5714285714285714,
          0.5050505050505051,
          0.5714285714285714,
          0.6060606060606061,
          0.4587155963302752,
          0.47619047619047616,
          0.48309178743961356,
          0.6172839506172839,
          0.4444444444444444,
          0.5,
          0.6060606060606061,
          0.5555555555555556,
          0.5617977528089888
         ],
         "yaxis": "y2"
        },
        {
         "marker": {
          "color": "rgb(141,211,199)"
         },
         "name": "Predicted Under",
         "type": "bar",
         "x": [
          "Fulham-Manchester United",
          "Brentford-West Ham",
          "Burnley-Crystal Palace",
          "Manchester City-Bournemouth",
          "Everton-Brighton",
          "Sheffield United-Wolverhampton Wanderers",
          "Newcastle United-Arsenal",
          "Nottingham Forest-Aston Villa",
          "Luton-Liverpool",
          "Tottenham-Chelsea",
          "Wolverhampton Wanderers-Tottenham",
          "Manchester United-Luton",
          "Crystal Palace-Everton",
          "Arsenal-Burnley",
          "Bournemouth-Newcastle United",
          "Liverpool-Brentford",
          "Brighton-Sheffield United",
          "Aston Villa-Fulham",
          "West Ham-Nottingham Forest",
          "Chelsea-Manchester City"
         ],
         "xaxis": "x2",
         "y": [
          0.4274614444795757,
          0.40792193063965076,
          0.5131070961983526,
          0.31472046601840614,
          0.40962053152735306,
          0.49557282638279054,
          0.414460271137295,
          0.5118880775167671,
          0.4395372370652015,
          0.27752671929824974,
          0.3437953428807886,
          0.40449862537831516,
          0.4632294062424568,
          0.3665428753836243,
          0.40417989945909016,
          0.3182964358202442,
          0.37053465017719833,
          0.3884541924686788,
          0.519775377243314,
          0.381768888007842
         ],
         "yaxis": "y2"
        },
        {
         "marker": {
          "color": "rgb(82, 106, 131)"
         },
         "name": "Bookmaker Under",
         "type": "bar",
         "x": [
          "Fulham-Manchester United",
          "Brentford-West Ham",
          "Burnley-Crystal Palace",
          "Manchester City-Bournemouth",
          "Everton-Brighton",
          "Sheffield United-Wolverhampton Wanderers",
          "Newcastle United-Arsenal",
          "Nottingham Forest-Aston Villa",
          "Luton-Liverpool",
          "Tottenham-Chelsea",
          "Wolverhampton Wanderers-Tottenham",
          "Manchester United-Luton",
          "Crystal Palace-Everton",
          "Arsenal-Burnley",
          "Bournemouth-Newcastle United",
          "Liverpool-Brentford",
          "Brighton-Sheffield United",
          "Aston Villa-Fulham",
          "West Ham-Nottingham Forest",
          "Chelsea-Manchester City"
         ],
         "xaxis": "x2",
         "y": [
          0.5050505050505051,
          0.47619047619047616,
          0.5882352941176471,
          0.5,
          0.4166666666666667,
          0.5128205128205129,
          0.5181347150259068,
          0.47619047619047616,
          0.5405405405405405,
          0.47619047619047616,
          0.4444444444444444,
          0.5882352941176471,
          0.5714285714285714,
          0.5714285714285714,
          0.4347826086956522,
          0.6060606060606061,
          0.5494505494505494,
          0.4444444444444444,
          0.49504950495049505,
          0.48780487804878053
         ],
         "yaxis": "y2"
        }
       ],
       "layout": {
        "height": 1000,
        "template": {
         "data": {
          "bar": [
           {
            "error_x": {
             "color": "#2a3f5f"
            },
            "error_y": {
             "color": "#2a3f5f"
            },
            "marker": {
             "line": {
              "color": "#E5ECF6",
              "width": 0.5
             },
             "pattern": {
              "fillmode": "overlay",
              "size": 10,
              "solidity": 0.2
             }
            },
            "type": "bar"
           }
          ],
          "barpolar": [
           {
            "marker": {
             "line": {
              "color": "#E5ECF6",
              "width": 0.5
             },
             "pattern": {
              "fillmode": "overlay",
              "size": 10,
              "solidity": 0.2
             }
            },
            "type": "barpolar"
           }
          ],
          "carpet": [
           {
            "aaxis": {
             "endlinecolor": "#2a3f5f",
             "gridcolor": "white",
             "linecolor": "white",
             "minorgridcolor": "white",
             "startlinecolor": "#2a3f5f"
            },
            "baxis": {
             "endlinecolor": "#2a3f5f",
             "gridcolor": "white",
             "linecolor": "white",
             "minorgridcolor": "white",
             "startlinecolor": "#2a3f5f"
            },
            "type": "carpet"
           }
          ],
          "choropleth": [
           {
            "colorbar": {
             "outlinewidth": 0,
             "ticks": ""
            },
            "type": "choropleth"
           }
          ],
          "contour": [
           {
            "colorbar": {
             "outlinewidth": 0,
             "ticks": ""
            },
            "colorscale": [
             [
              0,
              "#0d0887"
             ],
             [
              0.1111111111111111,
              "#46039f"
             ],
             [
              0.2222222222222222,
              "#7201a8"
             ],
             [
              0.3333333333333333,
              "#9c179e"
             ],
             [
              0.4444444444444444,
              "#bd3786"
             ],
             [
              0.5555555555555556,
              "#d8576b"
             ],
             [
              0.6666666666666666,
              "#ed7953"
             ],
             [
              0.7777777777777778,
              "#fb9f3a"
             ],
             [
              0.8888888888888888,
              "#fdca26"
             ],
             [
              1,
              "#f0f921"
             ]
            ],
            "type": "contour"
           }
          ],
          "contourcarpet": [
           {
            "colorbar": {
             "outlinewidth": 0,
             "ticks": ""
            },
            "type": "contourcarpet"
           }
          ],
          "heatmap": [
           {
            "colorbar": {
             "outlinewidth": 0,
             "ticks": ""
            },
            "colorscale": [
             [
              0,
              "#0d0887"
             ],
             [
              0.1111111111111111,
              "#46039f"
             ],
             [
              0.2222222222222222,
              "#7201a8"
             ],
             [
              0.3333333333333333,
              "#9c179e"
             ],
             [
              0.4444444444444444,
              "#bd3786"
             ],
             [
              0.5555555555555556,
              "#d8576b"
             ],
             [
              0.6666666666666666,
              "#ed7953"
             ],
             [
              0.7777777777777778,
              "#fb9f3a"
             ],
             [
              0.8888888888888888,
              "#fdca26"
             ],
             [
              1,
              "#f0f921"
             ]
            ],
            "type": "heatmap"
           }
          ],
          "heatmapgl": [
           {
            "colorbar": {
             "outlinewidth": 0,
             "ticks": ""
            },
            "colorscale": [
             [
              0,
              "#0d0887"
             ],
             [
              0.1111111111111111,
              "#46039f"
             ],
             [
              0.2222222222222222,
              "#7201a8"
             ],
             [
              0.3333333333333333,
              "#9c179e"
             ],
             [
              0.4444444444444444,
              "#bd3786"
             ],
             [
              0.5555555555555556,
              "#d8576b"
             ],
             [
              0.6666666666666666,
              "#ed7953"
             ],
             [
              0.7777777777777778,
              "#fb9f3a"
             ],
             [
              0.8888888888888888,
              "#fdca26"
             ],
             [
              1,
              "#f0f921"
             ]
            ],
            "type": "heatmapgl"
           }
          ],
          "histogram": [
           {
            "marker": {
             "pattern": {
              "fillmode": "overlay",
              "size": 10,
              "solidity": 0.2
             }
            },
            "type": "histogram"
           }
          ],
          "histogram2d": [
           {
            "colorbar": {
             "outlinewidth": 0,
             "ticks": ""
            },
            "colorscale": [
             [
              0,
              "#0d0887"
             ],
             [
              0.1111111111111111,
              "#46039f"
             ],
             [
              0.2222222222222222,
              "#7201a8"
             ],
             [
              0.3333333333333333,
              "#9c179e"
             ],
             [
              0.4444444444444444,
              "#bd3786"
             ],
             [
              0.5555555555555556,
              "#d8576b"
             ],
             [
              0.6666666666666666,
              "#ed7953"
             ],
             [
              0.7777777777777778,
              "#fb9f3a"
             ],
             [
              0.8888888888888888,
              "#fdca26"
             ],
             [
              1,
              "#f0f921"
             ]
            ],
            "type": "histogram2d"
           }
          ],
          "histogram2dcontour": [
           {
            "colorbar": {
             "outlinewidth": 0,
             "ticks": ""
            },
            "colorscale": [
             [
              0,
              "#0d0887"
             ],
             [
              0.1111111111111111,
              "#46039f"
             ],
             [
              0.2222222222222222,
              "#7201a8"
             ],
             [
              0.3333333333333333,
              "#9c179e"
             ],
             [
              0.4444444444444444,
              "#bd3786"
             ],
             [
              0.5555555555555556,
              "#d8576b"
             ],
             [
              0.6666666666666666,
              "#ed7953"
             ],
             [
              0.7777777777777778,
              "#fb9f3a"
             ],
             [
              0.8888888888888888,
              "#fdca26"
             ],
             [
              1,
              "#f0f921"
             ]
            ],
            "type": "histogram2dcontour"
           }
          ],
          "mesh3d": [
           {
            "colorbar": {
             "outlinewidth": 0,
             "ticks": ""
            },
            "type": "mesh3d"
           }
          ],
          "parcoords": [
           {
            "line": {
             "colorbar": {
              "outlinewidth": 0,
              "ticks": ""
             }
            },
            "type": "parcoords"
           }
          ],
          "pie": [
           {
            "automargin": true,
            "type": "pie"
           }
          ],
          "scatter": [
           {
            "fillpattern": {
             "fillmode": "overlay",
             "size": 10,
             "solidity": 0.2
            },
            "type": "scatter"
           }
          ],
          "scatter3d": [
           {
            "line": {
             "colorbar": {
              "outlinewidth": 0,
              "ticks": ""
             }
            },
            "marker": {
             "colorbar": {
              "outlinewidth": 0,
              "ticks": ""
             }
            },
            "type": "scatter3d"
           }
          ],
          "scattercarpet": [
           {
            "marker": {
             "colorbar": {
              "outlinewidth": 0,
              "ticks": ""
             }
            },
            "type": "scattercarpet"
           }
          ],
          "scattergeo": [
           {
            "marker": {
             "colorbar": {
              "outlinewidth": 0,
              "ticks": ""
             }
            },
            "type": "scattergeo"
           }
          ],
          "scattergl": [
           {
            "marker": {
             "colorbar": {
              "outlinewidth": 0,
              "ticks": ""
             }
            },
            "type": "scattergl"
           }
          ],
          "scattermapbox": [
           {
            "marker": {
             "colorbar": {
              "outlinewidth": 0,
              "ticks": ""
             }
            },
            "type": "scattermapbox"
           }
          ],
          "scatterpolar": [
           {
            "marker": {
             "colorbar": {
              "outlinewidth": 0,
              "ticks": ""
             }
            },
            "type": "scatterpolar"
           }
          ],
          "scatterpolargl": [
           {
            "marker": {
             "colorbar": {
              "outlinewidth": 0,
              "ticks": ""
             }
            },
            "type": "scatterpolargl"
           }
          ],
          "scatterternary": [
           {
            "marker": {
             "colorbar": {
              "outlinewidth": 0,
              "ticks": ""
             }
            },
            "type": "scatterternary"
           }
          ],
          "surface": [
           {
            "colorbar": {
             "outlinewidth": 0,
             "ticks": ""
            },
            "colorscale": [
             [
              0,
              "#0d0887"
             ],
             [
              0.1111111111111111,
              "#46039f"
             ],
             [
              0.2222222222222222,
              "#7201a8"
             ],
             [
              0.3333333333333333,
              "#9c179e"
             ],
             [
              0.4444444444444444,
              "#bd3786"
             ],
             [
              0.5555555555555556,
              "#d8576b"
             ],
             [
              0.6666666666666666,
              "#ed7953"
             ],
             [
              0.7777777777777778,
              "#fb9f3a"
             ],
             [
              0.8888888888888888,
              "#fdca26"
             ],
             [
              1,
              "#f0f921"
             ]
            ],
            "type": "surface"
           }
          ],
          "table": [
           {
            "cells": {
             "fill": {
              "color": "#EBF0F8"
             },
             "line": {
              "color": "white"
             }
            },
            "header": {
             "fill": {
              "color": "#C8D4E3"
             },
             "line": {
              "color": "white"
             }
            },
            "type": "table"
           }
          ]
         },
         "layout": {
          "annotationdefaults": {
           "arrowcolor": "#2a3f5f",
           "arrowhead": 0,
           "arrowwidth": 1
          },
          "autotypenumbers": "strict",
          "coloraxis": {
           "colorbar": {
            "outlinewidth": 0,
            "ticks": ""
           }
          },
          "colorscale": {
           "diverging": [
            [
             0,
             "#8e0152"
            ],
            [
             0.1,
             "#c51b7d"
            ],
            [
             0.2,
             "#de77ae"
            ],
            [
             0.3,
             "#f1b6da"
            ],
            [
             0.4,
             "#fde0ef"
            ],
            [
             0.5,
             "#f7f7f7"
            ],
            [
             0.6,
             "#e6f5d0"
            ],
            [
             0.7,
             "#b8e186"
            ],
            [
             0.8,
             "#7fbc41"
            ],
            [
             0.9,
             "#4d9221"
            ],
            [
             1,
             "#276419"
            ]
           ],
           "sequential": [
            [
             0,
             "#0d0887"
            ],
            [
             0.1111111111111111,
             "#46039f"
            ],
            [
             0.2222222222222222,
             "#7201a8"
            ],
            [
             0.3333333333333333,
             "#9c179e"
            ],
            [
             0.4444444444444444,
             "#bd3786"
            ],
            [
             0.5555555555555556,
             "#d8576b"
            ],
            [
             0.6666666666666666,
             "#ed7953"
            ],
            [
             0.7777777777777778,
             "#fb9f3a"
            ],
            [
             0.8888888888888888,
             "#fdca26"
            ],
            [
             1,
             "#f0f921"
            ]
           ],
           "sequentialminus": [
            [
             0,
             "#0d0887"
            ],
            [
             0.1111111111111111,
             "#46039f"
            ],
            [
             0.2222222222222222,
             "#7201a8"
            ],
            [
             0.3333333333333333,
             "#9c179e"
            ],
            [
             0.4444444444444444,
             "#bd3786"
            ],
            [
             0.5555555555555556,
             "#d8576b"
            ],
            [
             0.6666666666666666,
             "#ed7953"
            ],
            [
             0.7777777777777778,
             "#fb9f3a"
            ],
            [
             0.8888888888888888,
             "#fdca26"
            ],
            [
             1,
             "#f0f921"
            ]
           ]
          },
          "colorway": [
           "#636efa",
           "#EF553B",
           "#00cc96",
           "#ab63fa",
           "#FFA15A",
           "#19d3f3",
           "#FF6692",
           "#B6E880",
           "#FF97FF",
           "#FECB52"
          ],
          "font": {
           "color": "#2a3f5f"
          },
          "geo": {
           "bgcolor": "white",
           "lakecolor": "white",
           "landcolor": "#E5ECF6",
           "showlakes": true,
           "showland": true,
           "subunitcolor": "white"
          },
          "hoverlabel": {
           "align": "left"
          },
          "hovermode": "closest",
          "mapbox": {
           "style": "light"
          },
          "paper_bgcolor": "white",
          "plot_bgcolor": "#E5ECF6",
          "polar": {
           "angularaxis": {
            "gridcolor": "white",
            "linecolor": "white",
            "ticks": ""
           },
           "bgcolor": "#E5ECF6",
           "radialaxis": {
            "gridcolor": "white",
            "linecolor": "white",
            "ticks": ""
           }
          },
          "scene": {
           "xaxis": {
            "backgroundcolor": "#E5ECF6",
            "gridcolor": "white",
            "gridwidth": 2,
            "linecolor": "white",
            "showbackground": true,
            "ticks": "",
            "zerolinecolor": "white"
           },
           "yaxis": {
            "backgroundcolor": "#E5ECF6",
            "gridcolor": "white",
            "gridwidth": 2,
            "linecolor": "white",
            "showbackground": true,
            "ticks": "",
            "zerolinecolor": "white"
           },
           "zaxis": {
            "backgroundcolor": "#E5ECF6",
            "gridcolor": "white",
            "gridwidth": 2,
            "linecolor": "white",
            "showbackground": true,
            "ticks": "",
            "zerolinecolor": "white"
           }
          },
          "shapedefaults": {
           "line": {
            "color": "#2a3f5f"
           }
          },
          "ternary": {
           "aaxis": {
            "gridcolor": "white",
            "linecolor": "white",
            "ticks": ""
           },
           "baxis": {
            "gridcolor": "white",
            "linecolor": "white",
            "ticks": ""
           },
           "bgcolor": "#E5ECF6",
           "caxis": {
            "gridcolor": "white",
            "linecolor": "white",
            "ticks": ""
           }
          },
          "title": {
           "x": 0.05
          },
          "xaxis": {
           "automargin": true,
           "gridcolor": "white",
           "linecolor": "white",
           "ticks": "",
           "title": {
            "standoff": 15
           },
           "zerolinecolor": "white",
           "zerolinewidth": 2
          },
          "yaxis": {
           "automargin": true,
           "gridcolor": "white",
           "linecolor": "white",
           "ticks": "",
           "title": {
            "standoff": 15
           },
           "zerolinecolor": "white",
           "zerolinewidth": 2
          }
         }
        },
        "width": 1500,
        "xaxis": {
         "anchor": "y",
         "domain": [
          0,
          1
         ]
        },
        "xaxis2": {
         "anchor": "y2",
         "domain": [
          0,
          1
         ]
        },
        "yaxis": {
         "anchor": "x",
         "domain": [
          0.575,
          1
         ]
        },
        "yaxis2": {
         "anchor": "x2",
         "domain": [
          0,
          0.425
         ]
        }
       }
      }
     },
     "metadata": {},
     "output_type": "display_data"
    }
   ],
   "source": [
    "fig = make_subplots(rows=2, cols=1)\n",
    "fig.update_layout(width=1500, height=1000)\n",
    "fig.add_trace(\n",
    "    go.Bar(name='Predicted Home Win',\n",
    "           x=Final_Odds[Final_Odds['Type']=='Predicted']['Match'],\n",
    "           y=Final_Odds[Final_Odds['Type']=='Predicted']['P(Hwin)'],\n",
    "           marker_color='rgb(141,211,199)'),\n",
    "    row=1, col=1)\n",
    "\n",
    "fig.add_trace(\n",
    "    go.Bar(name='Bookmaker Home Win',\n",
    "           x=Final_Odds[Final_Odds['Type']=='Bookmaker']['Match'],\n",
    "           y=Final_Odds[Final_Odds['Type']=='Bookmaker']['P(Hwin)'],\n",
    "           marker_color='rgb(82, 106, 131)'),\n",
    "    row=1, col=1)\n",
    "\n",
    "fig.add_trace(\n",
    "    go.Bar(name='Predicted Draw',\n",
    "           x=Final_Odds[Final_Odds['Type']=='Predicted']['Match'],\n",
    "           y=Final_Odds[Final_Odds['Type']=='Predicted']['P(Draw)'],\n",
    "           marker_color='rgb(141,211,199)'),\n",
    "    row=1, col=1)\n",
    "\n",
    "fig.add_trace(\n",
    "    go.Bar(name='Bookmaker Draw',\n",
    "           x=Final_Odds[Final_Odds['Type']=='Bookmaker']['Match'],\n",
    "           y=Final_Odds[Final_Odds['Type']=='Bookmaker']['P(Draw)'],\n",
    "           marker_color='rgb(82, 106, 131)'),\n",
    "    row=1, col=1)\n",
    "\n",
    "fig.add_trace(\n",
    "    go.Bar(name='Predicted Away Win',\n",
    "           x=Final_Odds[Final_Odds['Type']=='Predicted']['Match'],\n",
    "           y=Final_Odds[Final_Odds['Type']=='Predicted']['P(Awin)'],\n",
    "           marker_color='rgb(141,211,199)'),\n",
    "    row=1, col=1)\n",
    "\n",
    "fig.add_trace(\n",
    "    go.Bar(name='Bookmaker Away Win',\n",
    "           x=Final_Odds[Final_Odds['Type']=='Bookmaker']['Match'],\n",
    "           y=Final_Odds[Final_Odds['Type']=='Bookmaker']['P(Awin)'],\n",
    "           marker_color='rgb(82, 106, 131)'),\n",
    "    row=1, col=1)\n",
    "\n",
    "\n",
    "fig.add_trace(\n",
    "    go.Bar(name='Predicted Over',\n",
    "           x=Final_Odds[Final_Odds['Type']=='Predicted']['Match'],\n",
    "           y=Final_Odds[Final_Odds['Type']=='Predicted']['P(Over)'],\n",
    "           marker_color='rgb(141,211,199)'),\n",
    "    row=2, col=1)\n",
    "\n",
    "fig.add_trace(\n",
    "    go.Bar(name='Bookmaker Over',\n",
    "           x=Final_Odds[Final_Odds['Type']=='Bookmaker']['Match'],\n",
    "           y=Final_Odds[Final_Odds['Type']=='Bookmaker']['P(Over)'],\n",
    "           marker_color='rgb(82, 106, 131)'),\n",
    "    row=2, col=1)\n",
    "\n",
    "fig.add_trace(\n",
    "    go.Bar(name='Predicted Under',\n",
    "           x=Final_Odds[Final_Odds['Type']=='Predicted']['Match'],\n",
    "           y=Final_Odds[Final_Odds['Type']=='Predicted']['P(Under)'],\n",
    "           marker_color='rgb(141,211,199)'),\n",
    "    row=2, col=1)\n",
    "\n",
    "fig.add_trace(\n",
    "    go.Bar(name='Bookmaker Under',\n",
    "           x=Final_Odds[Final_Odds['Type']=='Bookmaker']['Match'],\n",
    "           y=Final_Odds[Final_Odds['Type']=='Bookmaker']['P(Under)'],\n",
    "           marker_color='rgb(82, 106, 131)'),\n",
    "    row=2, col=1)\n",
    "\n",
    "\n",
    "fig.show()\n"
   ]
  },
  {
   "cell_type": "code",
   "execution_count": 7,
   "metadata": {},
   "outputs": [
    {
     "data": {
      "application/vnd.plotly.v1+json": {
       "config": {
        "plotlyServerURL": "https://plot.ly"
       },
       "data": [
        {
         "fill": "toself",
         "hovertemplate": "%{theta}<br>Prob: %{r:.2f}<br>Bookmaker Odds",
         "marker": {
          "color": "rgb(82, 106, 131)"
         },
         "name": "Bookmaker Odds",
         "r": [
          0.28169014084507044,
          0.273972602739726,
          0.49504950495049505,
          0.5464480874316939,
          0.5050505050505051,
          0.5882352941176471,
          0.48309178743961356
         ],
         "subplot": "polar",
         "theta": [
          "Home",
          "Draw",
          "Away",
          "Over",
          "Under",
          "GG",
          "NG"
         ],
         "type": "scatterpolar",
         "visible": true
        },
        {
         "fill": "toself",
         "hovertemplate": "%{theta}<br>Prob: %{r:.2f}<br>Predicted Odds",
         "marker": {
          "color": "rgb(141,211,199)"
         },
         "name": "Predicted Odds",
         "r": [
          0.35657972742526306,
          0.24356424541594435,
          0.3998558925599475,
          0.5725385555204243,
          0.4274614444795757,
          0.5996784706334062,
          0.4003213947677482
         ],
         "subplot": "polar",
         "theta": [
          "Home",
          "Draw",
          "Away",
          "Over",
          "Under",
          "GG",
          "NG"
         ],
         "type": "scatterpolar",
         "visible": true
        },
        {
         "hovertemplate": "Score %{x}<br>Prob: %{y:.3f}",
         "marker": {
          "color": [
           0.11260605495715424,
           0.08668263325390346,
           0.08115641245676035,
           0.07812151393316909,
           0.07314108453461546,
           0.06247311958374341,
           0.060136895339111346,
           0.05271357766937648,
           0.050742318046149044,
           0.044484753569659016,
           0.03899354130561846,
           0.03206064727256675,
           0.030861717845705575,
           0.03001670595379573,
           0.025327500390839867,
           0.017121883812270238,
           0.015404305536223309,
           0.01405153533951878,
           0.01233992848105766,
           0.011878468571794951,
           0.01081668374718588,
           0.009126902940520638,
           0.005929014065165437,
           0.005551025538472916,
           0.002136552564236373
          ],
          "colorscale": [
           [
            0,
            "rgb(210, 251, 212)"
           ],
           [
            0.16666666666666666,
            "rgb(165, 219, 194)"
           ],
           [
            0.3333333333333333,
            "rgb(123, 188, 176)"
           ],
           [
            0.5,
            "rgb(85, 156, 158)"
           ],
           [
            0.6666666666666666,
            "rgb(58, 124, 137)"
           ],
           [
            0.8333333333333334,
            "rgb(35, 93, 114)"
           ],
           [
            1,
            "rgb(18, 63, 90)"
           ]
          ]
         },
         "name": "Propable Scoreline",
         "type": "bar",
         "visible": true,
         "x": [
          "1 - 1",
          "1 - 2",
          "2 - 1",
          "0 - 1",
          "1 - 0",
          "2 - 2",
          "0 - 2",
          "2 - 0",
          "0 - 0",
          "1 - 3",
          "3 - 1",
          "2 - 3",
          "0 - 3",
          "3 - 2",
          "3 - 0",
          "Other",
          "Other",
          "Other",
          "Other",
          "Other",
          "Other",
          "Other",
          "Other",
          "Other",
          "Other"
         ],
         "xaxis": "x",
         "y": [
          0.11260605495715424,
          0.08668263325390346,
          0.08115641245676035,
          0.07812151393316909,
          0.07314108453461546,
          0.06247311958374341,
          0.060136895339111346,
          0.05271357766937648,
          0.050742318046149044,
          0.044484753569659016,
          0.03899354130561846,
          0.03206064727256675,
          0.030861717845705575,
          0.03001670595379573,
          0.025327500390839867,
          0.017121883812270238,
          0.015404305536223309,
          0.01405153533951878,
          0.01233992848105766,
          0.011878468571794951,
          0.01081668374718588,
          0.009126902940520638,
          0.005929014065165437,
          0.005551025538472916,
          0.002136552564236373
         ],
         "yaxis": "y"
        },
        {
         "fill": "toself",
         "hovertemplate": "%{theta}<br>Prob: %{r:.2f}<br>Bookmaker Odds",
         "marker": {
          "color": "rgb(82, 106, 131)"
         },
         "name": "Bookmaker Odds",
         "r": [
          0.48309178743961356,
          0.27027027027027023,
          0.29850746268656714,
          0.5714285714285714,
          0.47619047619047616,
          0.6172839506172839,
          0.45454545454545453
         ],
         "subplot": "polar",
         "theta": [
          "Home",
          "Draw",
          "Away",
          "Over",
          "Under",
          "GG",
          "NG"
         ],
         "type": "scatterpolar",
         "visible": false
        },
        {
         "fill": "toself",
         "hovertemplate": "%{theta}<br>Prob: %{r:.2f}<br>Predicted Odds",
         "marker": {
          "color": "rgb(141,211,199)"
         },
         "name": "Predicted Odds",
         "r": [
          0.5515687867697754,
          0.22182517059601345,
          0.2266051578470192,
          0.5920780693603492,
          0.40792193063965076,
          0.5835542526281519,
          0.4164448625846559
         ],
         "subplot": "polar",
         "theta": [
          "Home",
          "Draw",
          "Away",
          "Over",
          "Under",
          "GG",
          "NG"
         ],
         "type": "scatterpolar",
         "visible": false
        },
        {
         "hovertemplate": "Score %{x}<br>Prob: %{y:.3f}",
         "marker": {
          "color": [
           0.10265125895621972,
           0.0983446399576143,
           0.08904095158378753,
           0.08530533784028545,
           0.06281246690160068,
           0.05917098131740709,
           0.056688528838023916,
           0.05448429840133787,
           0.053573234747914866,
           0.04647007596283299,
           0.03620681658780249,
           0.030881071548610202,
           0.030088619979429874,
           0.026099235236403957,
           0.022738510082038615,
           0.021784541270403742,
           0.01734390000446782,
           0.013913730103679595,
           0.011867127113973632,
           0.006664997543271147,
           0.006553548241545736,
           0.0062786014396038784,
           0.0040101264825763054,
           0.0034202676318451646,
           0.001920943050886789
          ],
          "colorscale": [
           [
            0,
            "rgb(210, 251, 212)"
           ],
           [
            0.16666666666666666,
            "rgb(165, 219, 194)"
           ],
           [
            0.3333333333333333,
            "rgb(123, 188, 176)"
           ],
           [
            0.5,
            "rgb(85, 156, 158)"
           ],
           [
            0.6666666666666666,
            "rgb(58, 124, 137)"
           ],
           [
            0.8333333333333334,
            "rgb(35, 93, 114)"
           ],
           [
            1,
            "rgb(18, 63, 90)"
           ]
          ]
         },
         "name": "Propable Scoreline",
         "type": "bar",
         "visible": false,
         "x": [
          "1 - 1",
          "2 - 1",
          "1 - 0",
          "2 - 0",
          "3 - 1",
          "1 - 2",
          "2 - 2",
          "3 - 0",
          "0 - 1",
          "0 - 0",
          "3 - 2",
          "0 - 2",
          "4 - 1",
          "4 - 0",
          "1 - 3",
          "2 - 3",
          "Other",
          "Other",
          "Other",
          "Other",
          "Other",
          "Other",
          "Other",
          "Other",
          "Other"
         ],
         "xaxis": "x",
         "y": [
          0.10265125895621972,
          0.0983446399576143,
          0.08904095158378753,
          0.08530533784028545,
          0.06281246690160068,
          0.05917098131740709,
          0.056688528838023916,
          0.05448429840133787,
          0.053573234747914866,
          0.04647007596283299,
          0.03620681658780249,
          0.030881071548610202,
          0.030088619979429874,
          0.026099235236403957,
          0.022738510082038615,
          0.021784541270403742,
          0.01734390000446782,
          0.013913730103679595,
          0.011867127113973632,
          0.006664997543271147,
          0.006553548241545736,
          0.0062786014396038784,
          0.0040101264825763054,
          0.0034202676318451646,
          0.001920943050886789
         ],
         "yaxis": "y"
        },
        {
         "fill": "toself",
         "hovertemplate": "%{theta}<br>Prob: %{r:.2f}<br>Bookmaker Odds",
         "marker": {
          "color": "rgb(82, 106, 131)"
         },
         "name": "Bookmaker Odds",
         "r": [
          0.36101083032490977,
          0.3125,
          0.37735849056603776,
          0.4587155963302752,
          0.5882352941176471,
          0.5405405405405405,
          0.5319148936170213
         ],
         "subplot": "polar",
         "theta": [
          "Home",
          "Draw",
          "Away",
          "Over",
          "Under",
          "GG",
          "NG"
         ],
         "type": "scatterpolar",
         "visible": false
        },
        {
         "fill": "toself",
         "hovertemplate": "%{theta}<br>Prob: %{r:.2f}<br>Predicted Odds",
         "marker": {
          "color": "rgb(141,211,199)"
         },
         "name": "Predicted Odds",
         "r": [
          0.3539572323440679,
          0.26250700972031693,
          0.3835357248121784,
          0.4868929038016474,
          0.5131070961983526,
          0.5331390412405175,
          0.4668609256360466
         ],
         "subplot": "polar",
         "theta": [
          "Home",
          "Draw",
          "Away",
          "Over",
          "Under",
          "GG",
          "NG"
         ],
         "type": "scatterpolar",
         "visible": false
        },
        {
         "hovertemplate": "Score %{x}<br>Prob: %{y:.3f}",
         "marker": {
          "color": [
           0.12482692185350802,
           0.09760138333106042,
           0.0929942752411501,
           0.08377806256898944,
           0.07982346093686511,
           0.07271163760696835,
           0.06550553901445667,
           0.05946733915120904,
           0.05357381889693719,
           0.03748530986528935,
           0.034029971640342715,
           0.02930952748910445,
           0.02535184319360534,
           0.023970847981413385,
           0.02283934467799622,
           0.012579204023782918,
           0.010880626036358459,
           0.010219141934319888,
           0.009835600331198511,
           0.008105911107930658,
           0.00804406281993946,
           0.0073025734779680225,
           0.0034293079556170086,
           0.0032674332783747136,
           0.00109647512560201
          ],
          "colorscale": [
           [
            0,
            "rgb(210, 251, 212)"
           ],
           [
            0.16666666666666666,
            "rgb(165, 219, 194)"
           ],
           [
            0.3333333333333333,
            "rgb(123, 188, 176)"
           ],
           [
            0.5,
            "rgb(85, 156, 158)"
           ],
           [
            0.6666666666666666,
            "rgb(58, 124, 137)"
           ],
           [
            0.8333333333333334,
            "rgb(35, 93, 114)"
           ],
           [
            1,
            "rgb(18, 63, 90)"
           ]
          ]
         },
         "name": "Propable Scoreline",
         "type": "bar",
         "visible": false,
         "x": [
          "1 - 1",
          "0 - 1",
          "1 - 0",
          "1 - 2",
          "2 - 1",
          "0 - 0",
          "0 - 2",
          "2 - 0",
          "2 - 2",
          "1 - 3",
          "3 - 1",
          "0 - 3",
          "3 - 0",
          "2 - 3",
          "3 - 2",
          "Other",
          "Other",
          "Other",
          "Other",
          "Other",
          "Other",
          "Other",
          "Other",
          "Other",
          "Other"
         ],
         "xaxis": "x",
         "y": [
          0.12482692185350802,
          0.09760138333106042,
          0.0929942752411501,
          0.08377806256898944,
          0.07982346093686511,
          0.07271163760696835,
          0.06550553901445667,
          0.05946733915120904,
          0.05357381889693719,
          0.03748530986528935,
          0.034029971640342715,
          0.02930952748910445,
          0.02535184319360534,
          0.023970847981413385,
          0.02283934467799622,
          0.012579204023782918,
          0.010880626036358459,
          0.010219141934319888,
          0.009835600331198511,
          0.008105911107930658,
          0.00804406281993946,
          0.0073025734779680225,
          0.0034293079556170086,
          0.0032674332783747136,
          0.00109647512560201
         ],
         "yaxis": "y"
        },
        {
         "fill": "toself",
         "hovertemplate": "%{theta}<br>Prob: %{r:.2f}<br>Bookmaker Odds",
         "marker": {
          "color": "rgb(82, 106, 131)"
         },
         "name": "Bookmaker Odds",
         "r": [
          0.8849557522123894,
          0.11428571428571428,
          0.047619047619047616,
          0.5494505494505494,
          0.5,
          0.46511627906976744,
          0.6060606060606061
         ],
         "subplot": "polar",
         "theta": [
          "Home",
          "Draw",
          "Away",
          "Over",
          "Under",
          "GG",
          "NG"
         ],
         "type": "scatterpolar",
         "visible": false
        },
        {
         "fill": "toself",
         "hovertemplate": "%{theta}<br>Prob: %{r:.2f}<br>Predicted Odds",
         "marker": {
          "color": "rgb(141,211,199)"
         },
         "name": "Predicted Odds",
         "r": [
          0.9043229470355825,
          0.07420113354392949,
          0.0213581239023857,
          0.6852795339815938,
          0.31472046601840614,
          0.2933870729760611,
          0.7064951315058363
         ],
         "subplot": "polar",
         "theta": [
          "Home",
          "Draw",
          "Away",
          "Over",
          "Under",
          "GG",
          "NG"
         ],
         "type": "scatterpolar",
         "visible": false
        },
        {
         "hovertemplate": "Score %{x}<br>Prob: %{y:.3f}",
         "marker": {
          "color": [
           0.15471308970959186,
           0.1465262707951398,
           0.12251799624870836,
           0.09251511113649724,
           0.05658555353684548,
           0.053591264683525104,
           0.044810356053076136,
           0.03383694801783094,
           0.029206522974180325,
           0.010682142490223482,
           0.010347944298318458,
           0.009800371069277595,
           0.008194583943110423,
           0.006187848866506492,
           0.0019534706045343684,
           0.0012615699533200552,
           0.0011948125459466266,
           0.0009990429581522799,
           0.0007543917884191445,
           0.00023815742995205287,
           0.00011535325528703769,
           0.0001092492067285078,
           0.00009134876515660056,
           0.00006897877388958508,
           0.000021776227900375776
          ],
          "colorscale": [
           [
            0,
            "rgb(210, 251, 212)"
           ],
           [
            0.16666666666666666,
            "rgb(165, 219, 194)"
           ],
           [
            0.3333333333333333,
            "rgb(123, 188, 176)"
           ],
           [
            0.5,
            "rgb(85, 156, 158)"
           ],
           [
            0.6666666666666666,
            "rgb(58, 124, 137)"
           ],
           [
            0.8333333333333334,
            "rgb(35, 93, 114)"
           ],
           [
            1,
            "rgb(18, 63, 90)"
           ]
          ]
         },
         "name": "Propable Scoreline",
         "type": "bar",
         "visible": false,
         "x": [
          "3 - 0",
          "2 - 0",
          "4 - 0",
          "1 - 0",
          "3 - 1",
          "2 - 1",
          "4 - 1",
          "1 - 1",
          "0 - 0",
          "Other",
          "Other",
          "Other",
          "Other",
          "Other",
          "Other",
          "Other",
          "Other",
          "Other",
          "Other",
          "Other",
          "Other",
          "Other",
          "Other",
          "Other",
          "Other"
         ],
         "xaxis": "x",
         "y": [
          0.15471308970959186,
          0.1465262707951398,
          0.12251799624870836,
          0.09251511113649724,
          0.05658555353684548,
          0.053591264683525104,
          0.044810356053076136,
          0.03383694801783094,
          0.029206522974180325,
          0.010682142490223482,
          0.010347944298318458,
          0.009800371069277595,
          0.008194583943110423,
          0.006187848866506492,
          0.0019534706045343684,
          0.0012615699533200552,
          0.0011948125459466266,
          0.0009990429581522799,
          0.0007543917884191445,
          0.00023815742995205287,
          0.00011535325528703769,
          0.0001092492067285078,
          0.00009134876515660056,
          0.00006897877388958508,
          0.000021776227900375776
         ],
         "yaxis": "y"
        },
        {
         "fill": "toself",
         "hovertemplate": "%{theta}<br>Prob: %{r:.2f}<br>Bookmaker Odds",
         "marker": {
          "color": "rgb(82, 106, 131)"
         },
         "name": "Bookmaker Odds",
         "r": [
          0.3278688524590164,
          0.26666666666666666,
          0.4587155963302752,
          0.6369426751592356,
          0.4166666666666667,
          0.6666666666666666,
          0.4
         ],
         "subplot": "polar",
         "theta": [
          "Home",
          "Draw",
          "Away",
          "Over",
          "Under",
          "GG",
          "NG"
         ],
         "type": "scatterpolar",
         "visible": false
        },
        {
         "fill": "toself",
         "hovertemplate": "%{theta}<br>Prob: %{r:.2f}<br>Predicted Odds",
         "marker": {
          "color": "rgb(141,211,199)"
         },
         "name": "Predicted Odds",
         "r": [
          0.35324978612824454,
          0.23973746563093035,
          0.4070125652257586,
          0.5903794684726469,
          0.40962053152735306,
          0.6131945808691809,
          0.3868052361157528
         ],
         "subplot": "polar",
         "theta": [
          "Home",
          "Draw",
          "Away",
          "Over",
          "Under",
          "GG",
          "NG"
         ],
         "type": "scatterpolar",
         "visible": false
        },
        {
         "hovertemplate": "Score %{x}<br>Prob: %{y:.3f}",
         "marker": {
          "color": [
           0.10953561331739198,
           0.08720719444865044,
           0.08044775440187045,
           0.07457045056150292,
           0.06879048604115993,
           0.06404878512664754,
           0.05936954735805461,
           0.050522747429998106,
           0.04683168681924547,
           0.04628689265696078,
           0.03938957076636355,
           0.033995122314266345,
           0.031511527036599325,
           0.03136015632758344,
           0.024737413119871404,
           0.018425742669934315,
           0.01664500502300963,
           0.014464713434458721,
           0.013532672854880346,
           0.012544010949625518,
           0.01151613652326681,
           0.00908412010913094,
           0.006625991975022273,
           0.006112410546462722,
           0.0024332094326746227
          ],
          "colorscale": [
           [
            0,
            "rgb(210, 251, 212)"
           ],
           [
            0.16666666666666666,
            "rgb(165, 219, 194)"
           ],
           [
            0.3333333333333333,
            "rgb(123, 188, 176)"
           ],
           [
            0.5,
            "rgb(85, 156, 158)"
           ],
           [
            0.6666666666666666,
            "rgb(58, 124, 137)"
           ],
           [
            0.8333333333333334,
            "rgb(35, 93, 114)"
           ],
           [
            1,
            "rgb(18, 63, 90)"
           ]
          ]
         },
         "name": "Propable Scoreline",
         "type": "bar",
         "visible": false,
         "x": [
          "1 - 1",
          "1 - 2",
          "2 - 1",
          "0 - 1",
          "1 - 0",
          "2 - 2",
          "0 - 2",
          "2 - 0",
          "0 - 0",
          "1 - 3",
          "3 - 1",
          "2 - 3",
          "0 - 3",
          "3 - 2",
          "3 - 0",
          "Other",
          "Other",
          "Other",
          "Other",
          "Other",
          "Other",
          "Other",
          "Other",
          "Other",
          "Other"
         ],
         "xaxis": "x",
         "y": [
          0.10953561331739198,
          0.08720719444865044,
          0.08044775440187045,
          0.07457045056150292,
          0.06879048604115993,
          0.06404878512664754,
          0.05936954735805461,
          0.050522747429998106,
          0.04683168681924547,
          0.04628689265696078,
          0.03938957076636355,
          0.033995122314266345,
          0.031511527036599325,
          0.03136015632758344,
          0.024737413119871404,
          0.018425742669934315,
          0.01664500502300963,
          0.014464713434458721,
          0.013532672854880346,
          0.012544010949625518,
          0.01151613652326681,
          0.00908412010913094,
          0.006625991975022273,
          0.006112410546462722,
          0.0024332094326746227
         ],
         "yaxis": "y"
        },
        {
         "fill": "toself",
         "hovertemplate": "%{theta}<br>Prob: %{r:.2f}<br>Bookmaker Odds",
         "marker": {
          "color": "rgb(82, 106, 131)"
         },
         "name": "Bookmaker Odds",
         "r": [
          0.25641025641025644,
          0.2898550724637681,
          0.5050505050505051,
          0.53475935828877,
          0.5128205128205129,
          0.5882352941176471,
          0.48309178743961356
         ],
         "subplot": "polar",
         "theta": [
          "Home",
          "Draw",
          "Away",
          "Over",
          "Under",
          "GG",
          "NG"
         ],
         "type": "scatterpolar",
         "visible": false
        },
        {
         "fill": "toself",
         "hovertemplate": "%{theta}<br>Prob: %{r:.2f}<br>Predicted Odds",
         "marker": {
          "color": "rgb(141,211,199)"
         },
         "name": "Predicted Odds",
         "r": [
          0.216298459742572,
          0.2392255757758374,
          0.5444756932762337,
          0.5044271736172095,
          0.49557282638279054,
          0.5124325960136076,
          0.48756713278103575
         ],
         "subplot": "polar",
         "theta": [
          "Home",
          "Draw",
          "Away",
          "Over",
          "Under",
          "GG",
          "NG"
         ],
         "type": "scatterpolar",
         "visible": false
        },
        {
         "hovertemplate": "Score %{x}<br>Prob: %{y:.3f}",
         "marker": {
          "color": [
           0.11580395610879352,
           0.11378427922633547,
           0.09898314741613107,
           0.09725683355513062,
           0.06774161360048794,
           0.06656016716664784,
           0.05640373496508757,
           0.055899913241709905,
           0.05542002660640027,
           0.0477803137204995,
           0.03269966286439473,
           0.02722673729811702,
           0.024105477051339294,
           0.02368506589806682,
           0.018308330592342242,
           0.01564900066335009,
           0.011635993459100612,
           0.010709788320973123,
           0.008917296619931814,
           0.004497256117766047,
           0.0038440186348619176,
           0.003811018705849954,
           0.0026307511110063406,
           0.0021904436658302822,
           0.0009361381750979123
          ],
          "colorscale": [
           [
            0,
            "rgb(210, 251, 212)"
           ],
           [
            0.16666666666666666,
            "rgb(165, 219, 194)"
           ],
           [
            0.3333333333333333,
            "rgb(123, 188, 176)"
           ],
           [
            0.5,
            "rgb(85, 156, 158)"
           ],
           [
            0.6666666666666666,
            "rgb(58, 124, 137)"
           ],
           [
            0.8333333333333334,
            "rgb(35, 93, 114)"
           ],
           [
            1,
            "rgb(18, 63, 90)"
           ]
          ]
         },
         "name": "Propable Scoreline",
         "type": "bar",
         "visible": false,
         "x": [
          "0 - 1",
          "1 - 1",
          "0 - 2",
          "1 - 2",
          "0 - 0",
          "1 - 0",
          "0 - 3",
          "2 - 1",
          "1 - 3",
          "2 - 2",
          "2 - 0",
          "2 - 3",
          "0 - 4",
          "1 - 4",
          "Other",
          "Other",
          "Other",
          "Other",
          "Other",
          "Other",
          "Other",
          "Other",
          "Other",
          "Other",
          "Other"
         ],
         "xaxis": "x",
         "y": [
          0.11580395610879352,
          0.11378427922633547,
          0.09898314741613107,
          0.09725683355513062,
          0.06774161360048794,
          0.06656016716664784,
          0.05640373496508757,
          0.055899913241709905,
          0.05542002660640027,
          0.0477803137204995,
          0.03269966286439473,
          0.02722673729811702,
          0.024105477051339294,
          0.02368506589806682,
          0.018308330592342242,
          0.01564900066335009,
          0.011635993459100612,
          0.010709788320973123,
          0.008917296619931814,
          0.004497256117766047,
          0.0038440186348619176,
          0.003811018705849954,
          0.0026307511110063406,
          0.0021904436658302822,
          0.0009361381750979123
         ],
         "yaxis": "y"
        },
        {
         "fill": "toself",
         "hovertemplate": "%{theta}<br>Prob: %{r:.2f}<br>Bookmaker Odds",
         "marker": {
          "color": "rgb(82, 106, 131)"
         },
         "name": "Bookmaker Odds",
         "r": [
          0.3546099290780142,
          0.2898550724637681,
          0.4081632653061224,
          0.5319148936170213,
          0.5181347150259068,
          0.5882352941176471,
          0.48309178743961356
         ],
         "subplot": "polar",
         "theta": [
          "Home",
          "Draw",
          "Away",
          "Over",
          "Under",
          "GG",
          "NG"
         ],
         "type": "scatterpolar",
         "visible": false
        },
        {
         "fill": "toself",
         "hovertemplate": "%{theta}<br>Prob: %{r:.2f}<br>Predicted Odds",
         "marker": {
          "color": "rgb(141,211,199)"
         },
         "name": "Predicted Odds",
         "r": [
          0.4024329129022013,
          0.24085683735146912,
          0.3567100836865125,
          0.585539728862705,
          0.414460271137295,
          0.6096794307294314,
          0.3903204032107513
         ],
         "subplot": "polar",
         "theta": [
          "Home",
          "Draw",
          "Away",
          "Over",
          "Under",
          "GG",
          "NG"
         ],
         "type": "scatterpolar",
         "visible": false
        },
        {
         "hovertemplate": "Score %{x}<br>Prob: %{y:.3f}",
         "marker": {
          "color": [
           0.11041615603543588,
           0.08678240519214515,
           0.08100723212482132,
           0.07525085843481173,
           0.07024308376016998,
           0.06366824108144338,
           0.0591439760468637,
           0.05153410511317927,
           0.04787209174683444,
           0.04547152108499217,
           0.03962084228820453,
           0.03336035409907327,
           0.031140297878197835,
           0.030989767429361992,
           0.02520546126062981,
           0.01786934135904229,
           0.01631663363588792,
           0.01453399069241041,
           0.013109910137833882,
           0.012178319959817004,
           0.011423098888923816,
           0.009246041179416476,
           0.006412090233910035,
           0.005985380110560294,
           0.002352127173386432
          ],
          "colorscale": [
           [
            0,
            "rgb(210, 251, 212)"
           ],
           [
            0.16666666666666666,
            "rgb(165, 219, 194)"
           ],
           [
            0.3333333333333333,
            "rgb(123, 188, 176)"
           ],
           [
            0.5,
            "rgb(85, 156, 158)"
           ],
           [
            0.6666666666666666,
            "rgb(58, 124, 137)"
           ],
           [
            0.8333333333333334,
            "rgb(35, 93, 114)"
           ],
           [
            1,
            "rgb(18, 63, 90)"
           ]
          ]
         },
         "name": "Propable Scoreline",
         "type": "bar",
         "visible": false,
         "x": [
          "1 - 1",
          "2 - 1",
          "1 - 2",
          "1 - 0",
          "0 - 1",
          "2 - 2",
          "2 - 0",
          "0 - 2",
          "0 - 0",
          "3 - 1",
          "1 - 3",
          "3 - 2",
          "2 - 3",
          "3 - 0",
          "0 - 3",
          "Other",
          "Other",
          "Other",
          "Other",
          "Other",
          "Other",
          "Other",
          "Other",
          "Other",
          "Other"
         ],
         "xaxis": "x",
         "y": [
          0.11041615603543588,
          0.08678240519214515,
          0.08100723212482132,
          0.07525085843481173,
          0.07024308376016998,
          0.06366824108144338,
          0.0591439760468637,
          0.05153410511317927,
          0.04787209174683444,
          0.04547152108499217,
          0.03962084228820453,
          0.03336035409907327,
          0.031140297878197835,
          0.030989767429361992,
          0.02520546126062981,
          0.01786934135904229,
          0.01631663363588792,
          0.01453399069241041,
          0.013109910137833882,
          0.012178319959817004,
          0.011423098888923816,
          0.009246041179416476,
          0.006412090233910035,
          0.005985380110560294,
          0.002352127173386432
         ],
         "yaxis": "y"
        },
        {
         "fill": "toself",
         "hovertemplate": "%{theta}<br>Prob: %{r:.2f}<br>Bookmaker Odds",
         "marker": {
          "color": "rgb(82, 106, 131)"
         },
         "name": "Bookmaker Odds",
         "r": [
          0.2531645569620253,
          0.2597402597402597,
          0.53475935828877,
          0.5714285714285714,
          0.47619047619047616,
          0.6060606060606061,
          0.46511627906976744
         ],
         "subplot": "polar",
         "theta": [
          "Home",
          "Draw",
          "Away",
          "Over",
          "Under",
          "GG",
          "NG"
         ],
         "type": "scatterpolar",
         "visible": false
        },
        {
         "fill": "toself",
         "hovertemplate": "%{theta}<br>Prob: %{r:.2f}<br>Predicted Odds",
         "marker": {
          "color": "rgb(141,211,199)"
         },
         "name": "Predicted Odds",
         "r": [
          0.2123319955575373,
          0.24219014320141008,
          0.5454776377072174,
          0.4881119224832329,
          0.5118880775167671,
          0.4980986883585103,
          0.5019010881076544
         ],
         "subplot": "polar",
         "theta": [
          "Home",
          "Draw",
          "Away",
          "Over",
          "Under",
          "GG",
          "NG"
         ],
         "type": "scatterpolar",
         "visible": false
        },
        {
         "hovertemplate": "Score %{x}<br>Prob: %{y:.3f}",
         "marker": {
          "color": [
           0.12143356181623223,
           0.11510584696709714,
           0.10189763968172615,
           0.09658791148087148,
           0.07235746569516073,
           0.06858703021359315,
           0.057003071294902154,
           0.05455392976969288,
           0.054032729527072665,
           0.04577743249684774,
           0.03250653314295774,
           0.02560858383438444,
           0.02391628118571441,
           0.022670040810883325,
           0.01723706965796624,
           0.014464013794096545,
           0.010744370046002275,
           0.010270889347286432,
           0.008091386729767346,
           0.004084718163034726,
           0.0034275791087161993,
           0.003394832520695782,
           0.002433922302332378,
           0.0019174392744850369,
           0.0008044832638556006
          ],
          "colorscale": [
           [
            0,
            "rgb(210, 251, 212)"
           ],
           [
            0.16666666666666666,
            "rgb(165, 219, 194)"
           ],
           [
            0.3333333333333333,
            "rgb(123, 188, 176)"
           ],
           [
            0.5,
            "rgb(85, 156, 158)"
           ],
           [
            0.6666666666666666,
            "rgb(58, 124, 137)"
           ],
           [
            0.8333333333333334,
            "rgb(35, 93, 114)"
           ],
           [
            1,
            "rgb(18, 63, 90)"
           ]
          ]
         },
         "name": "Propable Scoreline",
         "type": "bar",
         "visible": false,
         "x": [
          "0 - 1",
          "1 - 1",
          "0 - 2",
          "1 - 2",
          "0 - 0",
          "1 - 0",
          "0 - 3",
          "2 - 1",
          "1 - 3",
          "2 - 2",
          "2 - 0",
          "2 - 3",
          "0 - 4",
          "1 - 4",
          "Other",
          "Other",
          "Other",
          "Other",
          "Other",
          "Other",
          "Other",
          "Other",
          "Other",
          "Other",
          "Other"
         ],
         "xaxis": "x",
         "y": [
          0.12143356181623223,
          0.11510584696709714,
          0.10189763968172615,
          0.09658791148087148,
          0.07235746569516073,
          0.06858703021359315,
          0.057003071294902154,
          0.05455392976969288,
          0.054032729527072665,
          0.04577743249684774,
          0.03250653314295774,
          0.02560858383438444,
          0.02391628118571441,
          0.022670040810883325,
          0.01723706965796624,
          0.014464013794096545,
          0.010744370046002275,
          0.010270889347286432,
          0.008091386729767346,
          0.004084718163034726,
          0.0034275791087161993,
          0.003394832520695782,
          0.002433922302332378,
          0.0019174392744850369,
          0.0008044832638556006
         ],
         "yaxis": "y"
        },
        {
         "fill": "toself",
         "hovertemplate": "%{theta}<br>Prob: %{r:.2f}<br>Bookmaker Odds",
         "marker": {
          "color": "rgb(82, 106, 131)"
         },
         "name": "Bookmaker Odds",
         "r": [
          0.09523809523809523,
          0.16129032258064516,
          0.7936507936507936,
          0.5050505050505051,
          0.5405405405405405,
          0.5617977528089888,
          0.5050505050505051
         ],
         "subplot": "polar",
         "theta": [
          "Home",
          "Draw",
          "Away",
          "Over",
          "Under",
          "GG",
          "NG"
         ],
         "type": "scatterpolar",
         "visible": false
        },
        {
         "fill": "toself",
         "hovertemplate": "%{theta}<br>Prob: %{r:.2f}<br>Predicted Odds",
         "marker": {
          "color": "rgb(141,211,199)"
         },
         "name": "Predicted Odds",
         "r": [
          0.09881371217830415,
          0.17359575120409584,
          0.7275862499186706,
          0.5604627629347985,
          0.4395372370652015,
          0.44412032248361016,
          0.5558753908174605
         ],
         "subplot": "polar",
         "theta": [
          "Home",
          "Draw",
          "Away",
          "Over",
          "Under",
          "GG",
          "NG"
         ],
         "type": "scatterpolar",
         "visible": false
        },
        {
         "hovertemplate": "Score %{x}<br>Prob: %{y:.3f}",
         "marker": {
          "color": [
           0.13433417340530365,
           0.11990134332172839,
           0.10033621333757527,
           0.09230764143498722,
           0.08239013146358806,
           0.06894596489431791,
           0.056206969446349835,
           0.05350958645116949,
           0.03862258314678476,
           0.036769078144891415,
           0.03171456842028614,
           0.028307163099803176,
           0.02368808786522316,
           0.013269741667482625,
           0.012632924278520407,
           0.007264215142964163,
           0.00648374967992364,
           0.0054257514810875426,
           0.003039431503109829,
           0.0028935686157800034,
           0.0012479001986713879,
           0.0011138261125909737,
           0.0009320754159860825,
           0.0005221358538991639,
           0.0004970784564384112
          ],
          "colorscale": [
           [
            0,
            "rgb(210, 251, 212)"
           ],
           [
            0.16666666666666666,
            "rgb(165, 219, 194)"
           ],
           [
            0.3333333333333333,
            "rgb(123, 188, 176)"
           ],
           [
            0.5,
            "rgb(85, 156, 158)"
           ],
           [
            0.6666666666666666,
            "rgb(58, 124, 137)"
           ],
           [
            0.8333333333333334,
            "rgb(35, 93, 114)"
           ],
           [
            1,
            "rgb(18, 63, 90)"
           ]
          ]
         },
         "name": "Propable Scoreline",
         "type": "bar",
         "visible": false,
         "x": [
          "0 - 2",
          "0 - 1",
          "0 - 3",
          "1 - 2",
          "1 - 1",
          "1 - 3",
          "0 - 4",
          "0 - 0",
          "1 - 4",
          "1 - 0",
          "2 - 2",
          "2 - 1",
          "2 - 3",
          "Other",
          "Other",
          "Other",
          "Other",
          "Other",
          "Other",
          "Other",
          "Other",
          "Other",
          "Other",
          "Other",
          "Other"
         ],
         "xaxis": "x",
         "y": [
          0.13433417340530365,
          0.11990134332172839,
          0.10033621333757527,
          0.09230764143498722,
          0.08239013146358806,
          0.06894596489431791,
          0.056206969446349835,
          0.05350958645116949,
          0.03862258314678476,
          0.036769078144891415,
          0.03171456842028614,
          0.028307163099803176,
          0.02368808786522316,
          0.013269741667482625,
          0.012632924278520407,
          0.007264215142964163,
          0.00648374967992364,
          0.0054257514810875426,
          0.003039431503109829,
          0.0028935686157800034,
          0.0012479001986713879,
          0.0011138261125909737,
          0.0009320754159860825,
          0.0005221358538991639,
          0.0004970784564384112
         ],
         "yaxis": "y"
        },
        {
         "fill": "toself",
         "hovertemplate": "%{theta}<br>Prob: %{r:.2f}<br>Bookmaker Odds",
         "marker": {
          "color": "rgb(82, 106, 131)"
         },
         "name": "Bookmaker Odds",
         "r": [
          0.46511627906976744,
          0.27027027027027023,
          0.31746031746031744,
          0.5714285714285714,
          0.47619047619047616,
          0.6172839506172839,
          0.45454545454545453
         ],
         "subplot": "polar",
         "theta": [
          "Home",
          "Draw",
          "Away",
          "Over",
          "Under",
          "GG",
          "NG"
         ],
         "type": "scatterpolar",
         "visible": false
        },
        {
         "fill": "toself",
         "hovertemplate": "%{theta}<br>Prob: %{r:.2f}<br>Predicted Odds",
         "marker": {
          "color": "rgb(141,211,199)"
         },
         "name": "Predicted Odds",
         "r": [
          0.5745227027494423,
          0.195812369406021,
          0.2296588607810586,
          0.7224732807017502,
          0.27752671929824974,
          0.6854757425498813,
          0.31451819038664036
         ],
         "subplot": "polar",
         "theta": [
          "Home",
          "Draw",
          "Away",
          "Over",
          "Under",
          "GG",
          "NG"
         ],
         "type": "scatterpolar",
         "visible": false
        },
        {
         "hovertemplate": "Score %{x}<br>Prob: %{y:.3f}",
         "marker": {
          "color": [
           0.09056643111399489,
           0.07810867207052358,
           0.07000740743460787,
           0.06467553045923495,
           0.06341098701846663,
           0.055779163841280247,
           0.05468856318804725,
           0.049993868105611974,
           0.04901638222273336,
           0.04058653715922332,
           0.03368226271907181,
           0.030790836359801864,
           0.028983761289789797,
           0.028417067441783406,
           0.026555439034334185,
           0.02405326324144686,
           0.02380116561709025,
           0.023582971060693635,
           0.013798638289143676,
           0.01145131840632434,
           0.010994215242660475,
           0.009481918879864312,
           0.008498474505944984,
           0.004926959360042471,
           0.004088822333378789
          ],
          "colorscale": [
           [
            0,
            "rgb(210, 251, 212)"
           ],
           [
            0.16666666666666666,
            "rgb(165, 219, 194)"
           ],
           [
            0.3333333333333333,
            "rgb(123, 188, 176)"
           ],
           [
            0.5,
            "rgb(85, 156, 158)"
           ],
           [
            0.6666666666666666,
            "rgb(58, 124, 137)"
           ],
           [
            0.8333333333333334,
            "rgb(35, 93, 114)"
           ],
           [
            1,
            "rgb(18, 63, 90)"
           ]
          ]
         },
         "name": "Propable Scoreline",
         "type": "bar",
         "visible": false,
         "x": [
          "2 - 1",
          "1 - 1",
          "3 - 1",
          "2 - 2",
          "2 - 0",
          "1 - 2",
          "1 - 0",
          "3 - 2",
          "3 - 0",
          "4 - 1",
          "0 - 1",
          "2 - 3",
          "4 - 2",
          "4 - 0",
          "1 - 3",
          "0 - 2",
          "3 - 3",
          "0 - 0",
          "Other",
          "Other",
          "Other",
          "Other",
          "Other",
          "Other",
          "Other"
         ],
         "xaxis": "x",
         "y": [
          0.09056643111399489,
          0.07810867207052358,
          0.07000740743460787,
          0.06467553045923495,
          0.06341098701846663,
          0.055779163841280247,
          0.05468856318804725,
          0.049993868105611974,
          0.04901638222273336,
          0.04058653715922332,
          0.03368226271907181,
          0.030790836359801864,
          0.028983761289789797,
          0.028417067441783406,
          0.026555439034334185,
          0.02405326324144686,
          0.02380116561709025,
          0.023582971060693635,
          0.013798638289143676,
          0.01145131840632434,
          0.010994215242660475,
          0.009481918879864312,
          0.008498474505944984,
          0.004926959360042471,
          0.004088822333378789
         ],
         "yaxis": "y"
        },
        {
         "fill": "toself",
         "hovertemplate": "%{theta}<br>Prob: %{r:.2f}<br>Bookmaker Odds",
         "marker": {
          "color": "rgb(82, 106, 131)"
         },
         "name": "Bookmaker Odds",
         "r": [
          0.23529411764705882,
          0.25,
          0.5617977528089888,
          0.6060606060606061,
          0.4444444444444444,
          0.6172839506172839,
          0.45454545454545453
         ],
         "subplot": "polar",
         "theta": [
          "Home",
          "Draw",
          "Away",
          "Over",
          "Under",
          "GG",
          "NG"
         ],
         "type": "scatterpolar",
         "visible": false
        },
        {
         "fill": "toself",
         "hovertemplate": "%{theta}<br>Prob: %{r:.2f}<br>Predicted Odds",
         "marker": {
          "color": "rgb(141,211,199)"
         },
         "name": "Predicted Odds",
         "r": [
          0.19482377282740324,
          0.19912940527346426,
          0.6060432201307284,
          0.6562046571192114,
          0.3437953428807886,
          0.6153761737411831,
          0.38462022449041255
         ],
         "subplot": "polar",
         "theta": [
          "Home",
          "Draw",
          "Away",
          "Over",
          "Under",
          "GG",
          "NG"
         ],
         "type": "scatterpolar",
         "visible": false
        },
        {
         "hovertemplate": "Score %{x}<br>Prob: %{y:.3f}",
         "marker": {
          "color": [
           0.09724954846207709,
           0.08834111576998162,
           0.08259800562622326,
           0.07503171061242718,
           0.07137087937401504,
           0.06061819709509719,
           0.057250018353199296,
           0.05200569647010503,
           0.042015456304557365,
           0.04012436488858639,
           0.0392840057088277,
           0.03407925866214667,
           0.033365507355786375,
           0.02362088732142349,
           0.023126174706040753,
           0.022468413500961792,
           0.02041022040354561,
           0.01648943830652296,
           0.009270282855161922,
           0.009076127326023293,
           0.006613486158236192,
           0.00600766538855183,
           0.004853599120054074,
           0.0027286700657758165,
           0.0026715211752033523
          ],
          "colorscale": [
           [
            0,
            "rgb(210, 251, 212)"
           ],
           [
            0.16666666666666666,
            "rgb(165, 219, 194)"
           ],
           [
            0.3333333333333333,
            "rgb(123, 188, 176)"
           ],
           [
            0.5,
            "rgb(85, 156, 158)"
           ],
           [
            0.6666666666666666,
            "rgb(58, 124, 137)"
           ],
           [
            0.8333333333333334,
            "rgb(35, 93, 114)"
           ],
           [
            1,
            "rgb(18, 63, 90)"
           ]
          ]
         },
         "name": "Propable Scoreline",
         "type": "bar",
         "visible": false,
         "x": [
          "1 - 2",
          "1 - 1",
          "0 - 2",
          "0 - 1",
          "1 - 3",
          "0 - 3",
          "2 - 2",
          "2 - 1",
          "2 - 3",
          "1 - 0",
          "1 - 4",
          "0 - 0",
          "0 - 4",
          "2 - 0",
          "2 - 4",
          "3 - 2",
          "3 - 1",
          "Other",
          "Other",
          "Other",
          "Other",
          "Other",
          "Other",
          "Other",
          "Other"
         ],
         "xaxis": "x",
         "y": [
          0.09724954846207709,
          0.08834111576998162,
          0.08259800562622326,
          0.07503171061242718,
          0.07137087937401504,
          0.06061819709509719,
          0.057250018353199296,
          0.05200569647010503,
          0.042015456304557365,
          0.04012436488858639,
          0.0392840057088277,
          0.03407925866214667,
          0.033365507355786375,
          0.02362088732142349,
          0.023126174706040753,
          0.022468413500961792,
          0.02041022040354561,
          0.01648943830652296,
          0.009270282855161922,
          0.009076127326023293,
          0.006613486158236192,
          0.00600766538855183,
          0.004853599120054074,
          0.0027286700657758165,
          0.0026715211752033523
         ],
         "yaxis": "y"
        },
        {
         "fill": "toself",
         "hovertemplate": "%{theta}<br>Prob: %{r:.2f}<br>Bookmaker Odds",
         "marker": {
          "color": "rgb(82, 106, 131)"
         },
         "name": "Bookmaker Odds",
         "r": [
          0.78125,
          0.1694915254237288,
          0.09523809523809523,
          0.4587155963302752,
          0.5882352941176471,
          0.5319148936170213,
          0.5405405405405405
         ],
         "subplot": "polar",
         "theta": [
          "Home",
          "Draw",
          "Away",
          "Over",
          "Under",
          "GG",
          "NG"
         ],
         "type": "scatterpolar",
         "visible": false
        },
        {
         "fill": "toself",
         "hovertemplate": "%{theta}<br>Prob: %{r:.2f}<br>Predicted Odds",
         "marker": {
          "color": "rgb(141,211,199)"
         },
         "name": "Predicted Odds",
         "r": [
          0.6444114097650897,
          0.19782541407560056,
          0.15776055867867025,
          0.5955013746216848,
          0.40449862537831516,
          0.5411671589095771,
          0.4588302236097835
         ],
         "subplot": "polar",
         "theta": [
          "Home",
          "Draw",
          "Away",
          "Over",
          "Under",
          "GG",
          "NG"
         ],
         "type": "scatterpolar",
         "visible": false
        },
        {
         "hovertemplate": "Score %{x}<br>Prob: %{y:.3f}",
         "marker": {
          "color": [
           0.10406206413393894,
           0.09903405513062294,
           0.09757571174846169,
           0.09286110646689855,
           0.07398639817069533,
           0.07041156733083836,
           0.04712449323987873,
           0.04574683196253113,
           0.04418714934145799,
           0.04353646370878656,
           0.03945232462831314,
           0.037546090641088124,
           0.03350473152204938,
           0.020716447357698266,
           0.017865980467689873,
           0.01494918665561603,
           0.014017380302055769,
           0.010628623268580049,
           0.006571827453189432,
           0.005667580878537069,
           0.0035567201836029256,
           0.003335024211690489,
           0.002528768940688069,
           0.001563573449471486,
           0.0013484345180292431
          ],
          "colorscale": [
           [
            0,
            "rgb(210, 251, 212)"
           ],
           [
            0.16666666666666666,
            "rgb(165, 219, 194)"
           ],
           [
            0.3333333333333333,
            "rgb(123, 188, 176)"
           ],
           [
            0.5,
            "rgb(85, 156, 158)"
           ],
           [
            0.6666666666666666,
            "rgb(58, 124, 137)"
           ],
           [
            0.8333333333333334,
            "rgb(35, 93, 114)"
           ],
           [
            1,
            "rgb(18, 63, 90)"
           ]
          ]
         },
         "name": "Propable Scoreline",
         "type": "bar",
         "visible": false,
         "x": [
          "2 - 0",
          "2 - 1",
          "1 - 0",
          "1 - 1",
          "3 - 0",
          "3 - 1",
          "2 - 2",
          "0 - 0",
          "1 - 2",
          "0 - 1",
          "4 - 0",
          "4 - 1",
          "3 - 2",
          "0 - 2",
          "Other",
          "Other",
          "Other",
          "Other",
          "Other",
          "Other",
          "Other",
          "Other",
          "Other",
          "Other",
          "Other"
         ],
         "xaxis": "x",
         "y": [
          0.10406206413393894,
          0.09903405513062294,
          0.09757571174846169,
          0.09286110646689855,
          0.07398639817069533,
          0.07041156733083836,
          0.04712449323987873,
          0.04574683196253113,
          0.04418714934145799,
          0.04353646370878656,
          0.03945232462831314,
          0.037546090641088124,
          0.03350473152204938,
          0.020716447357698266,
          0.017865980467689873,
          0.01494918665561603,
          0.014017380302055769,
          0.010628623268580049,
          0.006571827453189432,
          0.005667580878537069,
          0.0035567201836029256,
          0.003335024211690489,
          0.002528768940688069,
          0.001563573449471486,
          0.0013484345180292431
         ],
         "yaxis": "y"
        },
        {
         "fill": "toself",
         "hovertemplate": "%{theta}<br>Prob: %{r:.2f}<br>Bookmaker Odds",
         "marker": {
          "color": "rgb(82, 106, 131)"
         },
         "name": "Bookmaker Odds",
         "r": [
          0.4048582995951417,
          0.30303030303030304,
          0.3424657534246575,
          0.47619047619047616,
          0.5714285714285714,
          0.5494505494505494,
          0.5181347150259068
         ],
         "subplot": "polar",
         "theta": [
          "Home",
          "Draw",
          "Away",
          "Over",
          "Under",
          "GG",
          "NG"
         ],
         "type": "scatterpolar",
         "visible": false
        },
        {
         "fill": "toself",
         "hovertemplate": "%{theta}<br>Prob: %{r:.2f}<br>Predicted Odds",
         "marker": {
          "color": "rgb(141,211,199)"
         },
         "name": "Predicted Odds",
         "r": [
          0.3569590709935399,
          0.2512410745825339,
          0.3917997794388312,
          0.5367705937575432,
          0.4632294062424568,
          0.5721018100024509,
          0.4278981150124542
         ],
         "subplot": "polar",
         "theta": [
          "Home",
          "Draw",
          "Away",
          "Over",
          "Under",
          "GG",
          "NG"
         ],
         "type": "scatterpolar",
         "visible": false
        },
        {
         "hovertemplate": "Score %{x}<br>Prob: %{y:.3f}",
         "marker": {
          "color": [
           0.11820005508589002,
           0.08599323991200084,
           0.08579448128824235,
           0.08142279557217925,
           0.08123460074655046,
           0.06241744479039757,
           0.05923694357719503,
           0.05896342796662313,
           0.05595892730479411,
           0.04151545171542672,
           0.03721972522858952,
           0.030203439387787114,
           0.0285320606869833,
           0.0270156136336601,
           0.025639024248660387,
           0.015066814659197616,
           0.013072698692620267,
           0.012789882020967482,
           0.010961451809447572,
           0.01035487396746822,
           0.009283424554492537,
           0.008810384635005475,
           0.004744352287128187,
           0.004492195279449278,
           0.0016303104239917105
          ],
          "colorscale": [
           [
            0,
            "rgb(210, 251, 212)"
           ],
           [
            0.16666666666666666,
            "rgb(165, 219, 194)"
           ],
           [
            0.3333333333333333,
            "rgb(123, 188, 176)"
           ],
           [
            0.5,
            "rgb(85, 156, 158)"
           ],
           [
            0.6666666666666666,
            "rgb(58, 124, 137)"
           ],
           [
            0.8333333333333334,
            "rgb(35, 93, 114)"
           ],
           [
            1,
            "rgb(18, 63, 90)"
           ]
          ]
         },
         "name": "Propable Scoreline",
         "type": "bar",
         "visible": false,
         "x": [
          "1 - 1",
          "0 - 1",
          "1 - 2",
          "1 - 0",
          "2 - 1",
          "0 - 2",
          "0 - 0",
          "2 - 2",
          "2 - 0",
          "1 - 3",
          "3 - 1",
          "0 - 3",
          "2 - 3",
          "3 - 2",
          "3 - 0",
          "Other",
          "Other",
          "Other",
          "Other",
          "Other",
          "Other",
          "Other",
          "Other",
          "Other",
          "Other"
         ],
         "xaxis": "x",
         "y": [
          0.11820005508589002,
          0.08599323991200084,
          0.08579448128824235,
          0.08142279557217925,
          0.08123460074655046,
          0.06241744479039757,
          0.05923694357719503,
          0.05896342796662313,
          0.05595892730479411,
          0.04151545171542672,
          0.03721972522858952,
          0.030203439387787114,
          0.0285320606869833,
          0.0270156136336601,
          0.025639024248660387,
          0.015066814659197616,
          0.013072698692620267,
          0.012789882020967482,
          0.010961451809447572,
          0.01035487396746822,
          0.009283424554492537,
          0.008810384635005475,
          0.004744352287128187,
          0.004492195279449278,
          0.0016303104239917105
         ],
         "yaxis": "y"
        },
        {
         "fill": "toself",
         "hovertemplate": "%{theta}<br>Prob: %{r:.2f}<br>Bookmaker Odds",
         "marker": {
          "color": "rgb(82, 106, 131)"
         },
         "name": "Bookmaker Odds",
         "r": [
          0.8130081300813008,
          0.15625,
          0.08,
          0.48309178743961356,
          0.5714285714285714,
          0.5181347150259068,
          0.5494505494505494
         ],
         "subplot": "polar",
         "theta": [
          "Home",
          "Draw",
          "Away",
          "Over",
          "Under",
          "GG",
          "NG"
         ],
         "type": "scatterpolar",
         "visible": false
        },
        {
         "fill": "toself",
         "hovertemplate": "%{theta}<br>Prob: %{r:.2f}<br>Predicted Odds",
         "marker": {
          "color": "rgb(141,211,199)"
         },
         "name": "Predicted Odds",
         "r": [
          0.8508844782024126,
          0.10830776943738842,
          0.0407716489774366,
          0.6334571246163757,
          0.3665428753836243,
          0.35493986531043165,
          0.6450240313068061
         ],
         "subplot": "polar",
         "theta": [
          "Home",
          "Draw",
          "Away",
          "Over",
          "Under",
          "GG",
          "NG"
         ],
         "type": "scatterpolar",
         "visible": false
        },
        {
         "hovertemplate": "Score %{x}<br>Prob: %{y:.3f}",
         "marker": {
          "color": [
           0.14865964150122576,
           0.1382380269862443,
           0.1065779534670396,
           0.09641025589765753,
           0.07063118284212808,
           0.06567966437427436,
           0.05063732726819621,
           0.04580644984340056,
           0.03820424982367794,
           0.018151606766926627,
           0.01677914711518053,
           0.01560286415526815,
           0.012029405845456562,
           0.0108817823774024,
           0.004312096556558132,
           0.0026573699847951228,
           0.0024710780946388517,
           0.0019051374786334802,
           0.0017233844886323073,
           0.0006829212404108954,
           0.000315642469233487,
           0.00029351471414347367,
           0.00022629227447659811,
           0.00020470365005365666,
           0.00008111740098242659
          ],
          "colorscale": [
           [
            0,
            "rgb(210, 251, 212)"
           ],
           [
            0.16666666666666666,
            "rgb(165, 219, 194)"
           ],
           [
            0.3333333333333333,
            "rgb(123, 188, 176)"
           ],
           [
            0.5,
            "rgb(85, 156, 158)"
           ],
           [
            0.6666666666666666,
            "rgb(58, 124, 137)"
           ],
           [
            0.8333333333333334,
            "rgb(35, 93, 114)"
           ],
           [
            1,
            "rgb(18, 63, 90)"
           ]
          ]
         },
         "name": "Propable Scoreline",
         "type": "bar",
         "visible": false,
         "x": [
          "2 - 0",
          "3 - 0",
          "1 - 0",
          "4 - 0",
          "2 - 1",
          "3 - 1",
          "1 - 1",
          "4 - 1",
          "0 - 0",
          "Other",
          "Other",
          "Other",
          "Other",
          "Other",
          "Other",
          "Other",
          "Other",
          "Other",
          "Other",
          "Other",
          "Other",
          "Other",
          "Other",
          "Other",
          "Other"
         ],
         "xaxis": "x",
         "y": [
          0.14865964150122576,
          0.1382380269862443,
          0.1065779534670396,
          0.09641025589765753,
          0.07063118284212808,
          0.06567966437427436,
          0.05063732726819621,
          0.04580644984340056,
          0.03820424982367794,
          0.018151606766926627,
          0.01677914711518053,
          0.01560286415526815,
          0.012029405845456562,
          0.0108817823774024,
          0.004312096556558132,
          0.0026573699847951228,
          0.0024710780946388517,
          0.0019051374786334802,
          0.0017233844886323073,
          0.0006829212404108954,
          0.000315642469233487,
          0.00029351471414347367,
          0.00022629227447659811,
          0.00020470365005365666,
          0.00008111740098242659
         ],
         "yaxis": "y"
        },
        {
         "fill": "toself",
         "hovertemplate": "%{theta}<br>Prob: %{r:.2f}<br>Bookmaker Odds",
         "marker": {
          "color": "rgb(82, 106, 131)"
         },
         "name": "Bookmaker Odds",
         "r": [
          0.2247191011235955,
          0.2469135802469136,
          0.5813953488372093,
          0.6172839506172839,
          0.4347826086956522,
          0.625,
          0.4444444444444444
         ],
         "subplot": "polar",
         "theta": [
          "Home",
          "Draw",
          "Away",
          "Over",
          "Under",
          "GG",
          "NG"
         ],
         "type": "scatterpolar",
         "visible": false
        },
        {
         "fill": "toself",
         "hovertemplate": "%{theta}<br>Prob: %{r:.2f}<br>Predicted Odds",
         "marker": {
          "color": "rgb(141,211,199)"
         },
         "name": "Predicted Odds",
         "r": [
          0.13132267972009395,
          0.18518259574805973,
          0.6834907264930329,
          0.5958201005409098,
          0.40417989945909016,
          0.5148744706272369,
          0.4851215313339497
         ],
         "subplot": "polar",
         "theta": [
          "Home",
          "Draw",
          "Away",
          "Over",
          "Under",
          "GG",
          "NG"
         ],
         "type": "scatterpolar",
         "visible": false
        },
        {
         "hovertemplate": "Score %{x}<br>Prob: %{y:.3f}",
         "marker": {
          "color": [
           0.11308415728647483,
           0.10164319453324595,
           0.09736291346299072,
           0.08751250211267197,
           0.08387527689657182,
           0.07221472505187093,
           0.04665814100282024,
           0.045679869058717994,
           0.04191363823841131,
           0.040171608948665116,
           0.03932933882946876,
           0.03767314703748049,
           0.031087626218796204,
           0.01729342544344971,
           0.016930837638510627,
           0.012028899628523585,
           0.01081191047712875,
           0.008921915423993312,
           0.004963083321694894,
           0.004859023342760834,
           0.002589152940805037,
           0.002327202875747548,
           0.0019203920783302274,
           0.0010682757504564852,
           0.0010458774256888272
          ],
          "colorscale": [
           [
            0,
            "rgb(210, 251, 212)"
           ],
           [
            0.16666666666666666,
            "rgb(165, 219, 194)"
           ],
           [
            0.3333333333333333,
            "rgb(123, 188, 176)"
           ],
           [
            0.5,
            "rgb(85, 156, 158)"
           ],
           [
            0.6666666666666666,
            "rgb(58, 124, 137)"
           ],
           [
            0.8333333333333334,
            "rgb(35, 93, 114)"
           ],
           [
            1,
            "rgb(18, 63, 90)"
           ]
          ]
         },
         "name": "Propable Scoreline",
         "type": "bar",
         "visible": false,
         "x": [
          "0 - 2",
          "0 - 1",
          "1 - 2",
          "1 - 1",
          "0 - 3",
          "1 - 3",
          "0 - 4",
          "0 - 0",
          "2 - 2",
          "1 - 4",
          "1 - 0",
          "2 - 1",
          "2 - 3",
          "Other",
          "Other",
          "Other",
          "Other",
          "Other",
          "Other",
          "Other",
          "Other",
          "Other",
          "Other",
          "Other",
          "Other"
         ],
         "xaxis": "x",
         "y": [
          0.11308415728647483,
          0.10164319453324595,
          0.09736291346299072,
          0.08751250211267197,
          0.08387527689657182,
          0.07221472505187093,
          0.04665814100282024,
          0.045679869058717994,
          0.04191363823841131,
          0.040171608948665116,
          0.03932933882946876,
          0.03767314703748049,
          0.031087626218796204,
          0.01729342544344971,
          0.016930837638510627,
          0.012028899628523585,
          0.01081191047712875,
          0.008921915423993312,
          0.004963083321694894,
          0.004859023342760834,
          0.002589152940805037,
          0.002327202875747548,
          0.0019203920783302274,
          0.0010682757504564852,
          0.0010458774256888272
         ],
         "yaxis": "y"
        },
        {
         "fill": "toself",
         "hovertemplate": "%{theta}<br>Prob: %{r:.2f}<br>Bookmaker Odds",
         "marker": {
          "color": "rgb(82, 106, 131)"
         },
         "name": "Bookmaker Odds",
         "r": [
          0.6802721088435374,
          0.2150537634408602,
          0.15873015873015872,
          0.4444444444444444,
          0.6060606060606061,
          0.6172839506172839,
          0.4504504504504504
         ],
         "subplot": "polar",
         "theta": [
          "Home",
          "Draw",
          "Away",
          "Over",
          "Under",
          "GG",
          "NG"
         ],
         "type": "scatterpolar",
         "visible": false
        },
        {
         "fill": "toself",
         "hovertemplate": "%{theta}<br>Prob: %{r:.2f}<br>Predicted Odds",
         "marker": {
          "color": "rgb(141,211,199)"
         },
         "name": "Predicted Odds",
         "r": [
          0.6571751102931845,
          0.18157775350876687,
          0.16123874583700867,
          0.6817035641797557,
          0.3182964358202442,
          0.6112142106285074,
          0.38877739901045294
         ],
         "subplot": "polar",
         "theta": [
          "Home",
          "Draw",
          "Away",
          "Over",
          "Under",
          "GG",
          "NG"
         ],
         "type": "scatterpolar",
         "visible": false
        },
        {
         "hovertemplate": "Score %{x}<br>Prob: %{y:.3f}",
         "marker": {
          "color": [
           0.09554918368397369,
           0.08563710851063944,
           0.0796878421980709,
           0.07637841399512557,
           0.07142118986454019,
           0.06845507491518416,
           0.0533042664649256,
           0.04579051776914289,
           0.04445565949145177,
           0.04260942035078263,
           0.041040303933147865,
           0.03322975639011006,
           0.029782570023560273,
           0.02554527277602163,
           0.01982465793227121,
           0.018537968833323332,
           0.01653372799251384,
           0.015847083904671086,
           0.009500670924801476,
           0.00689454925942114,
           0.0055298162069752485,
           0.004611856473240489,
           0.004420326530159065,
           0.002650081743482917,
           0.0019231398778626172
          ],
          "colorscale": [
           [
            0,
            "rgb(210, 251, 212)"
           ],
           [
            0.16666666666666666,
            "rgb(165, 219, 194)"
           ],
           [
            0.3333333333333333,
            "rgb(123, 188, 176)"
           ],
           [
            0.5,
            "rgb(85, 156, 158)"
           ],
           [
            0.6666666666666666,
            "rgb(58, 124, 137)"
           ],
           [
            0.8333333333333334,
            "rgb(35, 93, 114)"
           ],
           [
            1,
            "rgb(18, 63, 90)"
           ]
          ]
         },
         "name": "Propable Scoreline",
         "type": "bar",
         "visible": false,
         "x": [
          "2 - 1",
          "2 - 0",
          "1 - 1",
          "3 - 1",
          "1 - 0",
          "3 - 0",
          "2 - 2",
          "4 - 1",
          "1 - 2",
          "3 - 2",
          "4 - 0",
          "0 - 1",
          "0 - 0",
          "4 - 2",
          "Other",
          "Other",
          "Other",
          "Other",
          "Other",
          "Other",
          "Other",
          "Other",
          "Other",
          "Other",
          "Other"
         ],
         "xaxis": "x",
         "y": [
          0.09554918368397369,
          0.08563710851063944,
          0.0796878421980709,
          0.07637841399512557,
          0.07142118986454019,
          0.06845507491518416,
          0.0533042664649256,
          0.04579051776914289,
          0.04445565949145177,
          0.04260942035078263,
          0.041040303933147865,
          0.03322975639011006,
          0.029782570023560273,
          0.02554527277602163,
          0.01982465793227121,
          0.018537968833323332,
          0.01653372799251384,
          0.015847083904671086,
          0.009500670924801476,
          0.00689454925942114,
          0.0055298162069752485,
          0.004611856473240489,
          0.004420326530159065,
          0.002650081743482917,
          0.0019231398778626172
         ],
         "yaxis": "y"
        },
        {
         "fill": "toself",
         "hovertemplate": "%{theta}<br>Prob: %{r:.2f}<br>Bookmaker Odds",
         "marker": {
          "color": "rgb(82, 106, 131)"
         },
         "name": "Bookmaker Odds",
         "r": [
          0.8130081300813008,
          0.15873015873015872,
          0.08,
          0.5,
          0.5494505494505494,
          0.5405405405405405,
          0.5319148936170213
         ],
         "subplot": "polar",
         "theta": [
          "Home",
          "Draw",
          "Away",
          "Over",
          "Under",
          "GG",
          "NG"
         ],
         "type": "scatterpolar",
         "visible": false
        },
        {
         "fill": "toself",
         "hovertemplate": "%{theta}<br>Prob: %{r:.2f}<br>Predicted Odds",
         "marker": {
          "color": "rgb(141,211,199)"
         },
         "name": "Predicted Odds",
         "r": [
          0.8083735405544683,
          0.13012867566539063,
          0.06147604568686682,
          0.6294653498228017,
          0.37053465017719833,
          0.41920802620433495,
          0.5807702357023911
         ],
         "subplot": "polar",
         "theta": [
          "Home",
          "Draw",
          "Away",
          "Over",
          "Under",
          "GG",
          "NG"
         ],
         "type": "scatterpolar",
         "visible": false
        },
        {
         "hovertemplate": "Score %{x}<br>Prob: %{y:.3f}",
         "marker": {
          "color": [
           0.13629093158587735,
           0.1201703117955762,
           0.10304940133158638,
           0.08179092667288515,
           0.07946734057621475,
           0.0721166188092018,
           0.06184201641241014,
           0.04768994789549064,
           0.038957761133605495,
           0.02454218930110562,
           0.023379335273020323,
           0.02163931602889947,
           0.01855631835087891,
           0.014309848006637201,
           0.007015204440698639,
           0.004909420316674975,
           0.004328729456358792,
           0.003712006504260381,
           0.002862542443560676,
           0.0014033217160965693,
           0.000736560445466102,
           0.000649439382048525,
           0.0005569124230542237,
           0.0004294673100678137,
           0.00021054039003944887
          ],
          "colorscale": [
           [
            0,
            "rgb(210, 251, 212)"
           ],
           [
            0.16666666666666666,
            "rgb(165, 219, 194)"
           ],
           [
            0.3333333333333333,
            "rgb(123, 188, 176)"
           ],
           [
            0.5,
            "rgb(85, 156, 158)"
           ],
           [
            0.6666666666666666,
            "rgb(58, 124, 137)"
           ],
           [
            0.8333333333333334,
            "rgb(35, 93, 114)"
           ],
           [
            1,
            "rgb(18, 63, 90)"
           ]
          ]
         },
         "name": "Propable Scoreline",
         "type": "bar",
         "visible": false,
         "x": [
          "2 - 0",
          "3 - 0",
          "1 - 0",
          "2 - 1",
          "4 - 0",
          "3 - 1",
          "1 - 1",
          "4 - 1",
          "0 - 0",
          "2 - 2",
          "0 - 1",
          "3 - 2",
          "Other",
          "Other",
          "Other",
          "Other",
          "Other",
          "Other",
          "Other",
          "Other",
          "Other",
          "Other",
          "Other",
          "Other",
          "Other"
         ],
         "xaxis": "x",
         "y": [
          0.13629093158587735,
          0.1201703117955762,
          0.10304940133158638,
          0.08179092667288515,
          0.07946734057621475,
          0.0721166188092018,
          0.06184201641241014,
          0.04768994789549064,
          0.038957761133605495,
          0.02454218930110562,
          0.023379335273020323,
          0.02163931602889947,
          0.01855631835087891,
          0.014309848006637201,
          0.007015204440698639,
          0.004909420316674975,
          0.004328729456358792,
          0.003712006504260381,
          0.002862542443560676,
          0.0014033217160965693,
          0.000736560445466102,
          0.000649439382048525,
          0.0005569124230542237,
          0.0004294673100678137,
          0.00021054039003944887
         ],
         "yaxis": "y"
        },
        {
         "fill": "toself",
         "hovertemplate": "%{theta}<br>Prob: %{r:.2f}<br>Bookmaker Odds",
         "marker": {
          "color": "rgb(82, 106, 131)"
         },
         "name": "Bookmaker Odds",
         "r": [
          0.6172839506172839,
          0.24390243902439027,
          0.1923076923076923,
          0.6060606060606061,
          0.4444444444444444,
          0.5882352941176471,
          0.48309178743961356
         ],
         "subplot": "polar",
         "theta": [
          "Home",
          "Draw",
          "Away",
          "Over",
          "Under",
          "GG",
          "NG"
         ],
         "type": "scatterpolar",
         "visible": false
        },
        {
         "fill": "toself",
         "hovertemplate": "%{theta}<br>Prob: %{r:.2f}<br>Predicted Odds",
         "marker": {
          "color": "rgb(141,211,199)"
         },
         "name": "Predicted Odds",
         "r": [
          0.6851670663397857,
          0.18242456386772252,
          0.13240348912345692,
          0.6115458075313212,
          0.3884541924686788,
          0.5281633804833659,
          0.4718317388475994
         ],
         "subplot": "polar",
         "theta": [
          "Home",
          "Draw",
          "Away",
          "Over",
          "Under",
          "GG",
          "NG"
         ],
         "type": "scatterpolar",
         "visible": false
        },
        {
         "hovertemplate": "Score %{x}<br>Prob: %{y:.3f}",
         "marker": {
          "color": [
           0.10939514033871478,
           0.0972722546559444,
           0.09637671048407181,
           0.08569649342815586,
           0.08278138753383399,
           0.07360776890117313,
           0.04698169018849201,
           0.04324639785896571,
           0.04245376117701007,
           0.04177530115169437,
           0.03809991516101645,
           0.03774914548787611,
           0.03272537344456839,
           0.01857293532132473,
           0.01678294155285015,
           0.01281798140960888,
           0.011292593797851727,
           0.009699610816210947,
           0.005504910268989098,
           0.004974366501564867,
           0.0028493814898681185,
           0.002510294461503674,
           0.002156181276555572,
           0.0012237175981612758,
           0.0011057800273258046
          ],
          "colorscale": [
           [
            0,
            "rgb(210, 251, 212)"
           ],
           [
            0.16666666666666666,
            "rgb(165, 219, 194)"
           ],
           [
            0.3333333333333333,
            "rgb(123, 188, 176)"
           ],
           [
            0.5,
            "rgb(85, 156, 158)"
           ],
           [
            0.6666666666666666,
            "rgb(58, 124, 137)"
           ],
           [
            0.8333333333333334,
            "rgb(35, 93, 114)"
           ],
           [
            1,
            "rgb(18, 63, 90)"
           ]
          ]
         },
         "name": "Propable Scoreline",
         "type": "bar",
         "visible": false,
         "x": [
          "2 - 0",
          "2 - 1",
          "1 - 0",
          "1 - 1",
          "3 - 0",
          "3 - 1",
          "4 - 0",
          "2 - 2",
          "0 - 0",
          "4 - 1",
          "1 - 2",
          "0 - 1",
          "3 - 2",
          "Other",
          "Other",
          "Other",
          "Other",
          "Other",
          "Other",
          "Other",
          "Other",
          "Other",
          "Other",
          "Other",
          "Other"
         ],
         "xaxis": "x",
         "y": [
          0.10939514033871478,
          0.0972722546559444,
          0.09637671048407181,
          0.08569649342815586,
          0.08278138753383399,
          0.07360776890117313,
          0.04698169018849201,
          0.04324639785896571,
          0.04245376117701007,
          0.04177530115169437,
          0.03809991516101645,
          0.03774914548787611,
          0.03272537344456839,
          0.01857293532132473,
          0.01678294155285015,
          0.01281798140960888,
          0.011292593797851727,
          0.009699610816210947,
          0.005504910268989098,
          0.004974366501564867,
          0.0028493814898681185,
          0.002510294461503674,
          0.002156181276555572,
          0.0012237175981612758,
          0.0011057800273258046
         ],
         "yaxis": "y"
        },
        {
         "fill": "toself",
         "hovertemplate": "%{theta}<br>Prob: %{r:.2f}<br>Bookmaker Odds",
         "marker": {
          "color": "rgb(82, 106, 131)"
         },
         "name": "Bookmaker Odds",
         "r": [
          0.5494505494505494,
          0.26666666666666666,
          0.23529411764705882,
          0.5555555555555556,
          0.49504950495049505,
          0.5813953488372093,
          0.48780487804878053
         ],
         "subplot": "polar",
         "theta": [
          "Home",
          "Draw",
          "Away",
          "Over",
          "Under",
          "GG",
          "NG"
         ],
         "type": "scatterpolar",
         "visible": false
        },
        {
         "fill": "toself",
         "hovertemplate": "%{theta}<br>Prob: %{r:.2f}<br>Predicted Odds",
         "marker": {
          "color": "rgb(141,211,199)"
         },
         "name": "Predicted Odds",
         "r": [
          0.4096270481152849,
          0.2630165296686596,
          0.3273563863460397,
          0.480224622756686,
          0.519775377243314,
          0.5260377592828884,
          0.4739622048470961
         ],
         "subplot": "polar",
         "theta": [
          "Home",
          "Draw",
          "Away",
          "Over",
          "Under",
          "GG",
          "NG"
         ],
         "type": "scatterpolar",
         "visible": false
        },
        {
         "hovertemplate": "Score %{x}<br>Prob: %{y:.3f}",
         "marker": {
          "color": [
           0.1251011159082051,
           0.10343251207065692,
           0.09031610295347976,
           0.08664174322013958,
           0.07565459297163318,
           0.07467256659616889,
           0.0716346379996765,
           0.05461844171512685,
           0.05239638167961778,
           0.040003862015815676,
           0.033074844383161627,
           0.03050128634558987,
           0.024192237424329903,
           0.022020245765219295,
           0.021124388861388402,
           0.013852811445468769,
           0.011453383741975132,
           0.009753464159098136,
           0.009222789048820495,
           0.008377453740610346,
           0.0066583448053548905,
           0.00638746117283044,
           0.0033774963997902675,
           0.0029491917624516776,
           0.0010212663313762253
          ],
          "colorscale": [
           [
            0,
            "rgb(210, 251, 212)"
           ],
           [
            0.16666666666666666,
            "rgb(165, 219, 194)"
           ],
           [
            0.3333333333333333,
            "rgb(123, 188, 176)"
           ],
           [
            0.5,
            "rgb(85, 156, 158)"
           ],
           [
            0.6666666666666666,
            "rgb(58, 124, 137)"
           ],
           [
            0.8333333333333334,
            "rgb(35, 93, 114)"
           ],
           [
            1,
            "rgb(18, 63, 90)"
           ]
          ]
         },
         "name": "Propable Scoreline",
         "type": "bar",
         "visible": false,
         "x": [
          "1 - 1",
          "1 - 0",
          "0 - 1",
          "2 - 1",
          "1 - 2",
          "0 - 0",
          "2 - 0",
          "0 - 2",
          "2 - 2",
          "3 - 1",
          "3 - 0",
          "1 - 3",
          "3 - 2",
          "0 - 3",
          "2 - 3",
          "Other",
          "Other",
          "Other",
          "Other",
          "Other",
          "Other",
          "Other",
          "Other",
          "Other",
          "Other"
         ],
         "xaxis": "x",
         "y": [
          0.1251011159082051,
          0.10343251207065692,
          0.09031610295347976,
          0.08664174322013958,
          0.07565459297163318,
          0.07467256659616889,
          0.0716346379996765,
          0.05461844171512685,
          0.05239638167961778,
          0.040003862015815676,
          0.033074844383161627,
          0.03050128634558987,
          0.024192237424329903,
          0.022020245765219295,
          0.021124388861388402,
          0.013852811445468769,
          0.011453383741975132,
          0.009753464159098136,
          0.009222789048820495,
          0.008377453740610346,
          0.0066583448053548905,
          0.00638746117283044,
          0.0033774963997902675,
          0.0029491917624516776,
          0.0010212663313762253
         ],
         "yaxis": "y"
        },
        {
         "fill": "toself",
         "hovertemplate": "%{theta}<br>Prob: %{r:.2f}<br>Bookmaker Odds",
         "marker": {
          "color": "rgb(82, 106, 131)"
         },
         "name": "Bookmaker Odds",
         "r": [
          0.2222222222222222,
          0.2531645569620253,
          0.5714285714285714,
          0.5617977528089888,
          0.48780487804878053,
          0.5714285714285714,
          0.49504950495049505
         ],
         "subplot": "polar",
         "theta": [
          "Home",
          "Draw",
          "Away",
          "Over",
          "Under",
          "GG",
          "NG"
         ],
         "type": "scatterpolar",
         "visible": false
        },
        {
         "fill": "toself",
         "hovertemplate": "%{theta}<br>Prob: %{r:.2f}<br>Predicted Odds",
         "marker": {
          "color": "rgb(141,211,199)"
         },
         "name": "Predicted Odds",
         "r": [
          0.3284002493415665,
          0.23261172025270396,
          0.43898767950206413,
          0.618231111992158,
          0.381768888007842,
          0.6321188461294674,
          0.36788080296686715
         ],
         "subplot": "polar",
         "theta": [
          "Home",
          "Draw",
          "Away",
          "Over",
          "Under",
          "GG",
          "NG"
         ],
         "type": "scatterpolar",
         "visible": false
        },
        {
         "hovertemplate": "Score %{x}<br>Prob: %{y:.3f}",
         "marker": {
          "color": [
           0.1040095602880845,
           0.08971449120986064,
           0.07623682114456601,
           0.0709498931678093,
           0.06575883602908986,
           0.06119854318500747,
           0.060291199813055765,
           0.05158942383598193,
           0.04419218198796477,
           0.041127509565920206,
           0.037813963130325215,
           0.03725332480418395,
           0.035191612190394746,
           0.032133229593760027,
           0.02224948792416539,
           0.021594626909763333,
           0.018477893352297135,
           0.01630840690735139,
           0.015177439332361488,
           0.013652951960716829,
           0.011776490884835537,
           0.0079691462791489,
           0.007914203775322867,
           0.006771953687361297,
           0.002920608345403992
          ],
          "colorscale": [
           [
            0,
            "rgb(210, 251, 212)"
           ],
           [
            0.16666666666666666,
            "rgb(165, 219, 194)"
           ],
           [
            0.3333333333333333,
            "rgb(123, 188, 176)"
           ],
           [
            0.5,
            "rgb(85, 156, 158)"
           ],
           [
            0.6666666666666666,
            "rgb(58, 124, 137)"
           ],
           [
            0.8333333333333334,
            "rgb(35, 93, 114)"
           ],
           [
            1,
            "rgb(18, 63, 90)"
           ]
          ]
         },
         "name": "Propable Scoreline",
         "type": "bar",
         "visible": false,
         "x": [
          "1 - 1",
          "1 - 2",
          "2 - 1",
          "0 - 1",
          "2 - 2",
          "0 - 2",
          "1 - 0",
          "1 - 3",
          "2 - 0",
          "0 - 0",
          "2 - 3",
          "3 - 1",
          "0 - 3",
          "3 - 2",
          "1 - 4",
          "3 - 0",
          "Other",
          "Other",
          "Other",
          "Other",
          "Other",
          "Other",
          "Other",
          "Other",
          "Other"
         ],
         "xaxis": "x",
         "y": [
          0.1040095602880845,
          0.08971449120986064,
          0.07623682114456601,
          0.0709498931678093,
          0.06575883602908986,
          0.06119854318500747,
          0.060291199813055765,
          0.05158942383598193,
          0.04419218198796477,
          0.041127509565920206,
          0.037813963130325215,
          0.03725332480418395,
          0.035191612190394746,
          0.032133229593760027,
          0.02224948792416539,
          0.021594626909763333,
          0.018477893352297135,
          0.01630840690735139,
          0.015177439332361488,
          0.013652951960716829,
          0.011776490884835537,
          0.0079691462791489,
          0.007914203775322867,
          0.006771953687361297,
          0.002920608345403992
         ],
         "yaxis": "y"
        }
       ],
       "layout": {
        "height": 650,
        "polar": {
         "domain": {
          "x": [
           0,
           0.29700000000000004
          ],
          "y": [
           0,
           1
          ]
         }
        },
        "template": {
         "data": {
          "bar": [
           {
            "error_x": {
             "color": "#2a3f5f"
            },
            "error_y": {
             "color": "#2a3f5f"
            },
            "marker": {
             "line": {
              "color": "#E5ECF6",
              "width": 0.5
             },
             "pattern": {
              "fillmode": "overlay",
              "size": 10,
              "solidity": 0.2
             }
            },
            "type": "bar"
           }
          ],
          "barpolar": [
           {
            "marker": {
             "line": {
              "color": "#E5ECF6",
              "width": 0.5
             },
             "pattern": {
              "fillmode": "overlay",
              "size": 10,
              "solidity": 0.2
             }
            },
            "type": "barpolar"
           }
          ],
          "carpet": [
           {
            "aaxis": {
             "endlinecolor": "#2a3f5f",
             "gridcolor": "white",
             "linecolor": "white",
             "minorgridcolor": "white",
             "startlinecolor": "#2a3f5f"
            },
            "baxis": {
             "endlinecolor": "#2a3f5f",
             "gridcolor": "white",
             "linecolor": "white",
             "minorgridcolor": "white",
             "startlinecolor": "#2a3f5f"
            },
            "type": "carpet"
           }
          ],
          "choropleth": [
           {
            "colorbar": {
             "outlinewidth": 0,
             "ticks": ""
            },
            "type": "choropleth"
           }
          ],
          "contour": [
           {
            "colorbar": {
             "outlinewidth": 0,
             "ticks": ""
            },
            "colorscale": [
             [
              0,
              "#0d0887"
             ],
             [
              0.1111111111111111,
              "#46039f"
             ],
             [
              0.2222222222222222,
              "#7201a8"
             ],
             [
              0.3333333333333333,
              "#9c179e"
             ],
             [
              0.4444444444444444,
              "#bd3786"
             ],
             [
              0.5555555555555556,
              "#d8576b"
             ],
             [
              0.6666666666666666,
              "#ed7953"
             ],
             [
              0.7777777777777778,
              "#fb9f3a"
             ],
             [
              0.8888888888888888,
              "#fdca26"
             ],
             [
              1,
              "#f0f921"
             ]
            ],
            "type": "contour"
           }
          ],
          "contourcarpet": [
           {
            "colorbar": {
             "outlinewidth": 0,
             "ticks": ""
            },
            "type": "contourcarpet"
           }
          ],
          "heatmap": [
           {
            "colorbar": {
             "outlinewidth": 0,
             "ticks": ""
            },
            "colorscale": [
             [
              0,
              "#0d0887"
             ],
             [
              0.1111111111111111,
              "#46039f"
             ],
             [
              0.2222222222222222,
              "#7201a8"
             ],
             [
              0.3333333333333333,
              "#9c179e"
             ],
             [
              0.4444444444444444,
              "#bd3786"
             ],
             [
              0.5555555555555556,
              "#d8576b"
             ],
             [
              0.6666666666666666,
              "#ed7953"
             ],
             [
              0.7777777777777778,
              "#fb9f3a"
             ],
             [
              0.8888888888888888,
              "#fdca26"
             ],
             [
              1,
              "#f0f921"
             ]
            ],
            "type": "heatmap"
           }
          ],
          "heatmapgl": [
           {
            "colorbar": {
             "outlinewidth": 0,
             "ticks": ""
            },
            "colorscale": [
             [
              0,
              "#0d0887"
             ],
             [
              0.1111111111111111,
              "#46039f"
             ],
             [
              0.2222222222222222,
              "#7201a8"
             ],
             [
              0.3333333333333333,
              "#9c179e"
             ],
             [
              0.4444444444444444,
              "#bd3786"
             ],
             [
              0.5555555555555556,
              "#d8576b"
             ],
             [
              0.6666666666666666,
              "#ed7953"
             ],
             [
              0.7777777777777778,
              "#fb9f3a"
             ],
             [
              0.8888888888888888,
              "#fdca26"
             ],
             [
              1,
              "#f0f921"
             ]
            ],
            "type": "heatmapgl"
           }
          ],
          "histogram": [
           {
            "marker": {
             "pattern": {
              "fillmode": "overlay",
              "size": 10,
              "solidity": 0.2
             }
            },
            "type": "histogram"
           }
          ],
          "histogram2d": [
           {
            "colorbar": {
             "outlinewidth": 0,
             "ticks": ""
            },
            "colorscale": [
             [
              0,
              "#0d0887"
             ],
             [
              0.1111111111111111,
              "#46039f"
             ],
             [
              0.2222222222222222,
              "#7201a8"
             ],
             [
              0.3333333333333333,
              "#9c179e"
             ],
             [
              0.4444444444444444,
              "#bd3786"
             ],
             [
              0.5555555555555556,
              "#d8576b"
             ],
             [
              0.6666666666666666,
              "#ed7953"
             ],
             [
              0.7777777777777778,
              "#fb9f3a"
             ],
             [
              0.8888888888888888,
              "#fdca26"
             ],
             [
              1,
              "#f0f921"
             ]
            ],
            "type": "histogram2d"
           }
          ],
          "histogram2dcontour": [
           {
            "colorbar": {
             "outlinewidth": 0,
             "ticks": ""
            },
            "colorscale": [
             [
              0,
              "#0d0887"
             ],
             [
              0.1111111111111111,
              "#46039f"
             ],
             [
              0.2222222222222222,
              "#7201a8"
             ],
             [
              0.3333333333333333,
              "#9c179e"
             ],
             [
              0.4444444444444444,
              "#bd3786"
             ],
             [
              0.5555555555555556,
              "#d8576b"
             ],
             [
              0.6666666666666666,
              "#ed7953"
             ],
             [
              0.7777777777777778,
              "#fb9f3a"
             ],
             [
              0.8888888888888888,
              "#fdca26"
             ],
             [
              1,
              "#f0f921"
             ]
            ],
            "type": "histogram2dcontour"
           }
          ],
          "mesh3d": [
           {
            "colorbar": {
             "outlinewidth": 0,
             "ticks": ""
            },
            "type": "mesh3d"
           }
          ],
          "parcoords": [
           {
            "line": {
             "colorbar": {
              "outlinewidth": 0,
              "ticks": ""
             }
            },
            "type": "parcoords"
           }
          ],
          "pie": [
           {
            "automargin": true,
            "type": "pie"
           }
          ],
          "scatter": [
           {
            "fillpattern": {
             "fillmode": "overlay",
             "size": 10,
             "solidity": 0.2
            },
            "type": "scatter"
           }
          ],
          "scatter3d": [
           {
            "line": {
             "colorbar": {
              "outlinewidth": 0,
              "ticks": ""
             }
            },
            "marker": {
             "colorbar": {
              "outlinewidth": 0,
              "ticks": ""
             }
            },
            "type": "scatter3d"
           }
          ],
          "scattercarpet": [
           {
            "marker": {
             "colorbar": {
              "outlinewidth": 0,
              "ticks": ""
             }
            },
            "type": "scattercarpet"
           }
          ],
          "scattergeo": [
           {
            "marker": {
             "colorbar": {
              "outlinewidth": 0,
              "ticks": ""
             }
            },
            "type": "scattergeo"
           }
          ],
          "scattergl": [
           {
            "marker": {
             "colorbar": {
              "outlinewidth": 0,
              "ticks": ""
             }
            },
            "type": "scattergl"
           }
          ],
          "scattermapbox": [
           {
            "marker": {
             "colorbar": {
              "outlinewidth": 0,
              "ticks": ""
             }
            },
            "type": "scattermapbox"
           }
          ],
          "scatterpolar": [
           {
            "marker": {
             "colorbar": {
              "outlinewidth": 0,
              "ticks": ""
             }
            },
            "type": "scatterpolar"
           }
          ],
          "scatterpolargl": [
           {
            "marker": {
             "colorbar": {
              "outlinewidth": 0,
              "ticks": ""
             }
            },
            "type": "scatterpolargl"
           }
          ],
          "scatterternary": [
           {
            "marker": {
             "colorbar": {
              "outlinewidth": 0,
              "ticks": ""
             }
            },
            "type": "scatterternary"
           }
          ],
          "surface": [
           {
            "colorbar": {
             "outlinewidth": 0,
             "ticks": ""
            },
            "colorscale": [
             [
              0,
              "#0d0887"
             ],
             [
              0.1111111111111111,
              "#46039f"
             ],
             [
              0.2222222222222222,
              "#7201a8"
             ],
             [
              0.3333333333333333,
              "#9c179e"
             ],
             [
              0.4444444444444444,
              "#bd3786"
             ],
             [
              0.5555555555555556,
              "#d8576b"
             ],
             [
              0.6666666666666666,
              "#ed7953"
             ],
             [
              0.7777777777777778,
              "#fb9f3a"
             ],
             [
              0.8888888888888888,
              "#fdca26"
             ],
             [
              1,
              "#f0f921"
             ]
            ],
            "type": "surface"
           }
          ],
          "table": [
           {
            "cells": {
             "fill": {
              "color": "#EBF0F8"
             },
             "line": {
              "color": "white"
             }
            },
            "header": {
             "fill": {
              "color": "#C8D4E3"
             },
             "line": {
              "color": "white"
             }
            },
            "type": "table"
           }
          ]
         },
         "layout": {
          "annotationdefaults": {
           "arrowcolor": "#2a3f5f",
           "arrowhead": 0,
           "arrowwidth": 1
          },
          "autotypenumbers": "strict",
          "coloraxis": {
           "colorbar": {
            "outlinewidth": 0,
            "ticks": ""
           }
          },
          "colorscale": {
           "diverging": [
            [
             0,
             "#8e0152"
            ],
            [
             0.1,
             "#c51b7d"
            ],
            [
             0.2,
             "#de77ae"
            ],
            [
             0.3,
             "#f1b6da"
            ],
            [
             0.4,
             "#fde0ef"
            ],
            [
             0.5,
             "#f7f7f7"
            ],
            [
             0.6,
             "#e6f5d0"
            ],
            [
             0.7,
             "#b8e186"
            ],
            [
             0.8,
             "#7fbc41"
            ],
            [
             0.9,
             "#4d9221"
            ],
            [
             1,
             "#276419"
            ]
           ],
           "sequential": [
            [
             0,
             "#0d0887"
            ],
            [
             0.1111111111111111,
             "#46039f"
            ],
            [
             0.2222222222222222,
             "#7201a8"
            ],
            [
             0.3333333333333333,
             "#9c179e"
            ],
            [
             0.4444444444444444,
             "#bd3786"
            ],
            [
             0.5555555555555556,
             "#d8576b"
            ],
            [
             0.6666666666666666,
             "#ed7953"
            ],
            [
             0.7777777777777778,
             "#fb9f3a"
            ],
            [
             0.8888888888888888,
             "#fdca26"
            ],
            [
             1,
             "#f0f921"
            ]
           ],
           "sequentialminus": [
            [
             0,
             "#0d0887"
            ],
            [
             0.1111111111111111,
             "#46039f"
            ],
            [
             0.2222222222222222,
             "#7201a8"
            ],
            [
             0.3333333333333333,
             "#9c179e"
            ],
            [
             0.4444444444444444,
             "#bd3786"
            ],
            [
             0.5555555555555556,
             "#d8576b"
            ],
            [
             0.6666666666666666,
             "#ed7953"
            ],
            [
             0.7777777777777778,
             "#fb9f3a"
            ],
            [
             0.8888888888888888,
             "#fdca26"
            ],
            [
             1,
             "#f0f921"
            ]
           ]
          },
          "colorway": [
           "#636efa",
           "#EF553B",
           "#00cc96",
           "#ab63fa",
           "#FFA15A",
           "#19d3f3",
           "#FF6692",
           "#B6E880",
           "#FF97FF",
           "#FECB52"
          ],
          "font": {
           "color": "#2a3f5f"
          },
          "geo": {
           "bgcolor": "white",
           "lakecolor": "white",
           "landcolor": "#E5ECF6",
           "showlakes": true,
           "showland": true,
           "subunitcolor": "white"
          },
          "hoverlabel": {
           "align": "left"
          },
          "hovermode": "closest",
          "mapbox": {
           "style": "light"
          },
          "paper_bgcolor": "white",
          "plot_bgcolor": "#E5ECF6",
          "polar": {
           "angularaxis": {
            "gridcolor": "white",
            "linecolor": "white",
            "ticks": ""
           },
           "bgcolor": "#E5ECF6",
           "radialaxis": {
            "gridcolor": "white",
            "linecolor": "white",
            "ticks": ""
           }
          },
          "scene": {
           "xaxis": {
            "backgroundcolor": "#E5ECF6",
            "gridcolor": "white",
            "gridwidth": 2,
            "linecolor": "white",
            "showbackground": true,
            "ticks": "",
            "zerolinecolor": "white"
           },
           "yaxis": {
            "backgroundcolor": "#E5ECF6",
            "gridcolor": "white",
            "gridwidth": 2,
            "linecolor": "white",
            "showbackground": true,
            "ticks": "",
            "zerolinecolor": "white"
           },
           "zaxis": {
            "backgroundcolor": "#E5ECF6",
            "gridcolor": "white",
            "gridwidth": 2,
            "linecolor": "white",
            "showbackground": true,
            "ticks": "",
            "zerolinecolor": "white"
           }
          },
          "shapedefaults": {
           "line": {
            "color": "#2a3f5f"
           }
          },
          "ternary": {
           "aaxis": {
            "gridcolor": "white",
            "linecolor": "white",
            "ticks": ""
           },
           "baxis": {
            "gridcolor": "white",
            "linecolor": "white",
            "ticks": ""
           },
           "bgcolor": "#E5ECF6",
           "caxis": {
            "gridcolor": "white",
            "linecolor": "white",
            "ticks": ""
           }
          },
          "title": {
           "x": 0.05
          },
          "xaxis": {
           "automargin": true,
           "gridcolor": "white",
           "linecolor": "white",
           "ticks": "",
           "title": {
            "standoff": 15
           },
           "zerolinecolor": "white",
           "zerolinewidth": 2
          },
          "yaxis": {
           "automargin": true,
           "gridcolor": "white",
           "linecolor": "white",
           "ticks": "",
           "title": {
            "standoff": 15
           },
           "zerolinecolor": "white",
           "zerolinewidth": 2
          }
         }
        },
        "updatemenus": [
         {
          "active": 0,
          "buttons": [
           {
            "args": [
             {
              "visible": [
               true,
               true,
               true,
               false,
               false,
               false,
               false,
               false,
               false,
               false,
               false,
               false,
               false,
               false,
               false,
               false,
               false,
               false,
               false,
               false,
               false,
               false,
               false,
               false,
               false,
               false,
               false,
               false,
               false,
               false,
               false,
               false,
               false,
               false,
               false,
               false,
               false,
               false,
               false,
               false,
               false,
               false,
               false,
               false,
               false,
               false,
               false,
               false,
               false,
               false,
               false,
               false,
               false,
               false,
               false,
               false,
               false,
               false,
               false,
               false
              ]
             }
            ],
            "label": "<b>Fulham-Manchester United | '04/11/2023'</b>",
            "method": "restyle"
           },
           {
            "args": [
             {
              "visible": [
               false,
               false,
               false,
               true,
               true,
               true,
               false,
               false,
               false,
               false,
               false,
               false,
               false,
               false,
               false,
               false,
               false,
               false,
               false,
               false,
               false,
               false,
               false,
               false,
               false,
               false,
               false,
               false,
               false,
               false,
               false,
               false,
               false,
               false,
               false,
               false,
               false,
               false,
               false,
               false,
               false,
               false,
               false,
               false,
               false,
               false,
               false,
               false,
               false,
               false,
               false,
               false,
               false,
               false,
               false,
               false,
               false,
               false,
               false,
               false
              ]
             }
            ],
            "label": "<b>Brentford-West Ham | '04/11/2023'</b>",
            "method": "restyle"
           },
           {
            "args": [
             {
              "visible": [
               false,
               false,
               false,
               false,
               false,
               false,
               true,
               true,
               true,
               false,
               false,
               false,
               false,
               false,
               false,
               false,
               false,
               false,
               false,
               false,
               false,
               false,
               false,
               false,
               false,
               false,
               false,
               false,
               false,
               false,
               false,
               false,
               false,
               false,
               false,
               false,
               false,
               false,
               false,
               false,
               false,
               false,
               false,
               false,
               false,
               false,
               false,
               false,
               false,
               false,
               false,
               false,
               false,
               false,
               false,
               false,
               false,
               false,
               false,
               false
              ]
             }
            ],
            "label": "<b>Burnley-Crystal Palace | '04/11/2023'</b>",
            "method": "restyle"
           },
           {
            "args": [
             {
              "visible": [
               false,
               false,
               false,
               false,
               false,
               false,
               false,
               false,
               false,
               true,
               true,
               true,
               false,
               false,
               false,
               false,
               false,
               false,
               false,
               false,
               false,
               false,
               false,
               false,
               false,
               false,
               false,
               false,
               false,
               false,
               false,
               false,
               false,
               false,
               false,
               false,
               false,
               false,
               false,
               false,
               false,
               false,
               false,
               false,
               false,
               false,
               false,
               false,
               false,
               false,
               false,
               false,
               false,
               false,
               false,
               false,
               false,
               false,
               false,
               false
              ]
             }
            ],
            "label": "<b>Manchester City-Bournemouth | '04/11/2023'</b>",
            "method": "restyle"
           },
           {
            "args": [
             {
              "visible": [
               false,
               false,
               false,
               false,
               false,
               false,
               false,
               false,
               false,
               false,
               false,
               false,
               true,
               true,
               true,
               false,
               false,
               false,
               false,
               false,
               false,
               false,
               false,
               false,
               false,
               false,
               false,
               false,
               false,
               false,
               false,
               false,
               false,
               false,
               false,
               false,
               false,
               false,
               false,
               false,
               false,
               false,
               false,
               false,
               false,
               false,
               false,
               false,
               false,
               false,
               false,
               false,
               false,
               false,
               false,
               false,
               false,
               false,
               false,
               false
              ]
             }
            ],
            "label": "<b>Everton-Brighton | '04/11/2023'</b>",
            "method": "restyle"
           },
           {
            "args": [
             {
              "visible": [
               false,
               false,
               false,
               false,
               false,
               false,
               false,
               false,
               false,
               false,
               false,
               false,
               false,
               false,
               false,
               true,
               true,
               true,
               false,
               false,
               false,
               false,
               false,
               false,
               false,
               false,
               false,
               false,
               false,
               false,
               false,
               false,
               false,
               false,
               false,
               false,
               false,
               false,
               false,
               false,
               false,
               false,
               false,
               false,
               false,
               false,
               false,
               false,
               false,
               false,
               false,
               false,
               false,
               false,
               false,
               false,
               false,
               false,
               false,
               false
              ]
             }
            ],
            "label": "<b>Sheffield United-Wolverhampton Wanderers | '04/11/2023'</b>",
            "method": "restyle"
           },
           {
            "args": [
             {
              "visible": [
               false,
               false,
               false,
               false,
               false,
               false,
               false,
               false,
               false,
               false,
               false,
               false,
               false,
               false,
               false,
               false,
               false,
               false,
               true,
               true,
               true,
               false,
               false,
               false,
               false,
               false,
               false,
               false,
               false,
               false,
               false,
               false,
               false,
               false,
               false,
               false,
               false,
               false,
               false,
               false,
               false,
               false,
               false,
               false,
               false,
               false,
               false,
               false,
               false,
               false,
               false,
               false,
               false,
               false,
               false,
               false,
               false,
               false,
               false,
               false
              ]
             }
            ],
            "label": "<b>Newcastle United-Arsenal | '04/11/2023'</b>",
            "method": "restyle"
           },
           {
            "args": [
             {
              "visible": [
               false,
               false,
               false,
               false,
               false,
               false,
               false,
               false,
               false,
               false,
               false,
               false,
               false,
               false,
               false,
               false,
               false,
               false,
               false,
               false,
               false,
               true,
               true,
               true,
               false,
               false,
               false,
               false,
               false,
               false,
               false,
               false,
               false,
               false,
               false,
               false,
               false,
               false,
               false,
               false,
               false,
               false,
               false,
               false,
               false,
               false,
               false,
               false,
               false,
               false,
               false,
               false,
               false,
               false,
               false,
               false,
               false,
               false,
               false,
               false
              ]
             }
            ],
            "label": "<b>Nottingham Forest-Aston Villa | '05/11/2023'</b>",
            "method": "restyle"
           },
           {
            "args": [
             {
              "visible": [
               false,
               false,
               false,
               false,
               false,
               false,
               false,
               false,
               false,
               false,
               false,
               false,
               false,
               false,
               false,
               false,
               false,
               false,
               false,
               false,
               false,
               false,
               false,
               false,
               true,
               true,
               true,
               false,
               false,
               false,
               false,
               false,
               false,
               false,
               false,
               false,
               false,
               false,
               false,
               false,
               false,
               false,
               false,
               false,
               false,
               false,
               false,
               false,
               false,
               false,
               false,
               false,
               false,
               false,
               false,
               false,
               false,
               false,
               false,
               false
              ]
             }
            ],
            "label": "<b>Luton-Liverpool | '05/11/2023'</b>",
            "method": "restyle"
           },
           {
            "args": [
             {
              "visible": [
               false,
               false,
               false,
               false,
               false,
               false,
               false,
               false,
               false,
               false,
               false,
               false,
               false,
               false,
               false,
               false,
               false,
               false,
               false,
               false,
               false,
               false,
               false,
               false,
               false,
               false,
               false,
               true,
               true,
               true,
               false,
               false,
               false,
               false,
               false,
               false,
               false,
               false,
               false,
               false,
               false,
               false,
               false,
               false,
               false,
               false,
               false,
               false,
               false,
               false,
               false,
               false,
               false,
               false,
               false,
               false,
               false,
               false,
               false,
               false
              ]
             }
            ],
            "label": "<b>Tottenham-Chelsea | '06/11/2023'</b>",
            "method": "restyle"
           },
           {
            "args": [
             {
              "visible": [
               false,
               false,
               false,
               false,
               false,
               false,
               false,
               false,
               false,
               false,
               false,
               false,
               false,
               false,
               false,
               false,
               false,
               false,
               false,
               false,
               false,
               false,
               false,
               false,
               false,
               false,
               false,
               false,
               false,
               false,
               true,
               true,
               true,
               false,
               false,
               false,
               false,
               false,
               false,
               false,
               false,
               false,
               false,
               false,
               false,
               false,
               false,
               false,
               false,
               false,
               false,
               false,
               false,
               false,
               false,
               false,
               false,
               false,
               false,
               false
              ]
             }
            ],
            "label": "<b>Wolverhampton Wanderers-Tottenham | '11/11/2023'</b>",
            "method": "restyle"
           },
           {
            "args": [
             {
              "visible": [
               false,
               false,
               false,
               false,
               false,
               false,
               false,
               false,
               false,
               false,
               false,
               false,
               false,
               false,
               false,
               false,
               false,
               false,
               false,
               false,
               false,
               false,
               false,
               false,
               false,
               false,
               false,
               false,
               false,
               false,
               false,
               false,
               false,
               true,
               true,
               true,
               false,
               false,
               false,
               false,
               false,
               false,
               false,
               false,
               false,
               false,
               false,
               false,
               false,
               false,
               false,
               false,
               false,
               false,
               false,
               false,
               false,
               false,
               false,
               false
              ]
             }
            ],
            "label": "<b>Manchester United-Luton | '11/11/2023'</b>",
            "method": "restyle"
           },
           {
            "args": [
             {
              "visible": [
               false,
               false,
               false,
               false,
               false,
               false,
               false,
               false,
               false,
               false,
               false,
               false,
               false,
               false,
               false,
               false,
               false,
               false,
               false,
               false,
               false,
               false,
               false,
               false,
               false,
               false,
               false,
               false,
               false,
               false,
               false,
               false,
               false,
               false,
               false,
               false,
               true,
               true,
               true,
               false,
               false,
               false,
               false,
               false,
               false,
               false,
               false,
               false,
               false,
               false,
               false,
               false,
               false,
               false,
               false,
               false,
               false,
               false,
               false,
               false
              ]
             }
            ],
            "label": "<b>Crystal Palace-Everton | '11/11/2023'</b>",
            "method": "restyle"
           },
           {
            "args": [
             {
              "visible": [
               false,
               false,
               false,
               false,
               false,
               false,
               false,
               false,
               false,
               false,
               false,
               false,
               false,
               false,
               false,
               false,
               false,
               false,
               false,
               false,
               false,
               false,
               false,
               false,
               false,
               false,
               false,
               false,
               false,
               false,
               false,
               false,
               false,
               false,
               false,
               false,
               false,
               false,
               false,
               true,
               true,
               true,
               false,
               false,
               false,
               false,
               false,
               false,
               false,
               false,
               false,
               false,
               false,
               false,
               false,
               false,
               false,
               false,
               false,
               false
              ]
             }
            ],
            "label": "<b>Arsenal-Burnley | '11/11/2023'</b>",
            "method": "restyle"
           },
           {
            "args": [
             {
              "visible": [
               false,
               false,
               false,
               false,
               false,
               false,
               false,
               false,
               false,
               false,
               false,
               false,
               false,
               false,
               false,
               false,
               false,
               false,
               false,
               false,
               false,
               false,
               false,
               false,
               false,
               false,
               false,
               false,
               false,
               false,
               false,
               false,
               false,
               false,
               false,
               false,
               false,
               false,
               false,
               false,
               false,
               false,
               true,
               true,
               true,
               false,
               false,
               false,
               false,
               false,
               false,
               false,
               false,
               false,
               false,
               false,
               false,
               false,
               false,
               false
              ]
             }
            ],
            "label": "<b>Bournemouth-Newcastle United | '11/11/2023'</b>",
            "method": "restyle"
           },
           {
            "args": [
             {
              "visible": [
               false,
               false,
               false,
               false,
               false,
               false,
               false,
               false,
               false,
               false,
               false,
               false,
               false,
               false,
               false,
               false,
               false,
               false,
               false,
               false,
               false,
               false,
               false,
               false,
               false,
               false,
               false,
               false,
               false,
               false,
               false,
               false,
               false,
               false,
               false,
               false,
               false,
               false,
               false,
               false,
               false,
               false,
               false,
               false,
               false,
               true,
               true,
               true,
               false,
               false,
               false,
               false,
               false,
               false,
               false,
               false,
               false,
               false,
               false,
               false
              ]
             }
            ],
            "label": "<b>Liverpool-Brentford | '12/11/2023'</b>",
            "method": "restyle"
           },
           {
            "args": [
             {
              "visible": [
               false,
               false,
               false,
               false,
               false,
               false,
               false,
               false,
               false,
               false,
               false,
               false,
               false,
               false,
               false,
               false,
               false,
               false,
               false,
               false,
               false,
               false,
               false,
               false,
               false,
               false,
               false,
               false,
               false,
               false,
               false,
               false,
               false,
               false,
               false,
               false,
               false,
               false,
               false,
               false,
               false,
               false,
               false,
               false,
               false,
               false,
               false,
               false,
               true,
               true,
               true,
               false,
               false,
               false,
               false,
               false,
               false,
               false,
               false,
               false
              ]
             }
            ],
            "label": "<b>Brighton-Sheffield United | '12/11/2023'</b>",
            "method": "restyle"
           },
           {
            "args": [
             {
              "visible": [
               false,
               false,
               false,
               false,
               false,
               false,
               false,
               false,
               false,
               false,
               false,
               false,
               false,
               false,
               false,
               false,
               false,
               false,
               false,
               false,
               false,
               false,
               false,
               false,
               false,
               false,
               false,
               false,
               false,
               false,
               false,
               false,
               false,
               false,
               false,
               false,
               false,
               false,
               false,
               false,
               false,
               false,
               false,
               false,
               false,
               false,
               false,
               false,
               false,
               false,
               false,
               true,
               true,
               true,
               false,
               false,
               false,
               false,
               false,
               false
              ]
             }
            ],
            "label": "<b>Aston Villa-Fulham | '12/11/2023'</b>",
            "method": "restyle"
           },
           {
            "args": [
             {
              "visible": [
               false,
               false,
               false,
               false,
               false,
               false,
               false,
               false,
               false,
               false,
               false,
               false,
               false,
               false,
               false,
               false,
               false,
               false,
               false,
               false,
               false,
               false,
               false,
               false,
               false,
               false,
               false,
               false,
               false,
               false,
               false,
               false,
               false,
               false,
               false,
               false,
               false,
               false,
               false,
               false,
               false,
               false,
               false,
               false,
               false,
               false,
               false,
               false,
               false,
               false,
               false,
               false,
               false,
               false,
               true,
               true,
               true,
               false,
               false,
               false
              ]
             }
            ],
            "label": "<b>West Ham-Nottingham Forest | '12/11/2023'</b>",
            "method": "restyle"
           },
           {
            "args": [
             {
              "visible": [
               false,
               false,
               false,
               false,
               false,
               false,
               false,
               false,
               false,
               false,
               false,
               false,
               false,
               false,
               false,
               false,
               false,
               false,
               false,
               false,
               false,
               false,
               false,
               false,
               false,
               false,
               false,
               false,
               false,
               false,
               false,
               false,
               false,
               false,
               false,
               false,
               false,
               false,
               false,
               false,
               false,
               false,
               false,
               false,
               false,
               false,
               false,
               false,
               false,
               false,
               false,
               false,
               false,
               false,
               false,
               false,
               false,
               true,
               true,
               true
              ]
             }
            ],
            "label": "<b>Chelsea-Manchester City | '12/11/2023'</b>",
            "method": "restyle"
           }
          ],
          "direction": "down",
          "x": 0.1,
          "y": 1.2
         }
        ],
        "width": 1500,
        "xaxis": {
         "anchor": "y",
         "domain": [
          0.397,
          1
         ]
        },
        "yaxis": {
         "anchor": "x",
         "domain": [
          0,
          1
         ]
        }
       }
      }
     },
     "metadata": {},
     "output_type": "display_data"
    }
   ],
   "source": [
    "# Create subplots\n",
    "fig = make_subplots(rows=1, cols=2, specs=[[{'type': 'polar'}, {'type': 'xy'}]], column_widths=[0.33, 0.67])\n",
    "fig.update_layout(width=1500, height=650)\n",
    "# create a list to store the buttons\n",
    "buttons = []\n",
    "categories = ['Home', 'Draw', 'Away', 'Over', 'Under', 'GG', 'NG']\n",
    "\n",
    "# loop through each match and create two traces for Bookmaker odds and predicted values\n",
    "for match_index, match in enumerate(Final_Odds['Match'].unique().tolist()):\n",
    "\n",
    "    # create the trace for Bookmaker odds\n",
    "    trace_bookmaker = go.Scatterpolar(\n",
    "      r=Final_Odds[(Final_Odds['Type']=='Bookmaker')  & (Final_Odds['Match']==match)][['P(Hwin)', 'P(Draw)', 'P(Awin)', 'P(Over)', 'P(Under)', 'P(GG)', 'P(NG)']].values.tolist()[0],\n",
    "      theta=categories,\n",
    "      fill='toself',\n",
    "      name='Bookmaker Odds',\n",
    "      marker = dict(color = 'rgb(82, 106, 131)' ),\n",
    "      visible=False if match_index!=0 else True,\n",
    "      hovertemplate='%{theta}<br>Prob: %{r:.2f}<br>Bookmaker Odds'\n",
    ")\n",
    "    fig.add_trace(trace_bookmaker, row=1, col=1)\n",
    "    # create the trace for predicted values\n",
    "    trace_predicted = go.Scatterpolar(\n",
    "        r= Final_Odds[(Final_Odds['Type']=='Predicted')  & (Final_Odds['Match']==match)][['P(Hwin)', 'P(Draw)', 'P(Awin)', 'P(Over)', 'P(Under)', 'P(GG)', 'P(NG)']].values.tolist()[0],\n",
    "        theta=categories,\n",
    "        fill='toself',\n",
    "        name='Predicted Odds',\n",
    "        marker = dict(color ='rgb(141,211,199)'), #'rgb(217, 175, 107)'\n",
    "        visible=False if match_index!=0 else True,\n",
    "        hovertemplate='%{theta}<br>Prob: %{r:.2f}<br>Predicted Odds'\n",
    "  )\n",
    "    fig.add_trace(trace_predicted, row=1, col=1)\n",
    "    \n",
    "    trace_goals = go.Bar(\n",
    "        x=Pie_list[match_index]['score'],\n",
    "        y=Pie_list[match_index]['P(score)'],\n",
    "        visible=False if match_index!=0 else True,\n",
    "        marker=dict(color=Pie_list[match_index]['P(score)'], colorscale='darkmint'),\n",
    "        name='Propable Scoreline',\n",
    "        hovertemplate='Score %{x}<br>Prob: %{y:.3f}'\n",
    "    )\n",
    "    fig.add_trace(trace_goals, row=1, col=2)\n",
    "    \n",
    "    # create the dictionary for the button\n",
    "    button_dict = dict(\n",
    "        method=\"restyle\",\n",
    "        args=[{\"visible\": [False] * (len(Final_Odds['Match'].unique().tolist()) * 3)}], # set all traces to false initially\n",
    "        label= f\"<b>{match} | {str(Final_Odds[(Final_Odds['Type']=='Predicted')  & (Final_Odds['Match']==match)]['Date'].values).strip('[]')}</b>\" \n",
    "    )\n",
    "    \n",
    "    # set visibility to true for the corresponding traces\n",
    "    button_dict[\"args\"][0][\"visible\"][3*match_index] = True # Bookmaker odds trace\n",
    "    button_dict[\"args\"][0][\"visible\"][3*match_index+1] = True # Predicted trace\n",
    "    button_dict[\"args\"][0][\"visible\"][3*match_index+2] = True # Goal trace\n",
    "    \n",
    "    # set visibility to true for the corresponding traces for the first match\n",
    "    if match_index == 0:\n",
    "        button_dict[\"args\"][0][\"visible\"][0] = True # Bookmaker odds trace\n",
    "        button_dict[\"args\"][0][\"visible\"][1] = True # Predicted trace\n",
    "        button_dict[\"args\"][0][\"visible\"][2] = True\n",
    "        \n",
    "    # append the button to the list\n",
    "    buttons.append(button_dict)\n",
    "\n",
    "\n",
    "# update the layout with the buttons\n",
    "fig.update_layout(\n",
    "    updatemenus=[go.layout.Updatemenu(\n",
    "        buttons=buttons,\n",
    "        active=0, # set the initial active button\n",
    "        x=0.1,\n",
    "        y=1.2,\n",
    "        direction=\"down\",\n",
    "    )],\n",
    "    \n",
    ")\n",
    "\n",
    "# show the plot\n",
    "fig.show()\n",
    "# Save the interactive figure as an HTML file\n",
    "fig.write_html('UpcomingMatchesPredictionFigure.html')\n"
   ]
  },
  {
   "cell_type": "code",
   "execution_count": 8,
   "metadata": {},
   "outputs": [],
   "source": [
    "images_path = '/home/nickpad/Documents/EnglishPremierLeaguePredictor/GatheredData/Logos'\n",
    "team_color = {\"Liverpool\": \"red\",\n",
    "              \"West Ham\": \"brown\",\n",
    "              \"Brentford\": \"#ff8d33\",\n",
    "              \"Everton\": \"blue\",\n",
    "              \"Crystal Palace\": \"#1711e0\",\n",
    "              \"Fulham\": \"black\",\n",
    "              \"Luton\": \"#e0ae11\",\n",
    "              \"Wolverhampton Wanderers\": \"#e09211\",\n",
    "              \"Manchester City\": \"#0bdeef\",\n",
    "              \"Nottingham Forest\": \"#ef2a0b\",\n",
    "              \"Burnley\": \"#8e2b4e\",\n",
    "              \"Manchester United\": \"#d12f07\",\n",
    "              \"Arsenal\": \"#ff0101\",\n",
    "              \"Tottenham\": \"#a5bfcc\",\n",
    "              \"Brighton\": \"#228bbf\",\n",
    "              \"Bournemouth\": \"#e50e21\",\n",
    "              \"Chelsea\": \"#0e1ee5\",\n",
    "              \"Aston Villa\": \"#a4266f\",\n",
    "              \"Sheffield United\": \"#e31343\",\n",
    "              \"Newcastle United\": \"#d5c0c5\"}\n"
   ]
  },
  {
   "cell_type": "code",
   "execution_count": 9,
   "metadata": {},
   "outputs": [],
   "source": [
    "import os\n",
    "from PIL import Image\n",
    "\n",
    "df = disp_pred\n",
    "\n"
   ]
  },
  {
   "cell_type": "code",
   "execution_count": 10,
   "metadata": {},
   "outputs": [
    {
     "name": "stderr",
     "output_type": "stream",
     "text": [
      "/tmp/ipykernel_136586/1283783480.py:18: SettingWithCopyWarning:\n",
      "\n",
      "\n",
      "A value is trying to be set on a copy of a slice from a DataFrame\n",
      "\n",
      "See the caveats in the documentation: https://pandas.pydata.org/pandas-docs/stable/user_guide/indexing.html#returning-a-view-versus-a-copy\n",
      "\n",
      "/tmp/ipykernel_136586/1283783480.py:19: SettingWithCopyWarning:\n",
      "\n",
      "\n",
      "A value is trying to be set on a copy of a slice from a DataFrame\n",
      "\n",
      "See the caveats in the documentation: https://pandas.pydata.org/pandas-docs/stable/user_guide/indexing.html#returning-a-view-versus-a-copy\n",
      "\n",
      "/tmp/ipykernel_136586/1283783480.py:15: SettingWithCopyWarning:\n",
      "\n",
      "\n",
      "A value is trying to be set on a copy of a slice from a DataFrame\n",
      "\n",
      "See the caveats in the documentation: https://pandas.pydata.org/pandas-docs/stable/user_guide/indexing.html#returning-a-view-versus-a-copy\n",
      "\n",
      "/tmp/ipykernel_136586/1283783480.py:16: SettingWithCopyWarning:\n",
      "\n",
      "\n",
      "A value is trying to be set on a copy of a slice from a DataFrame\n",
      "\n",
      "See the caveats in the documentation: https://pandas.pydata.org/pandas-docs/stable/user_guide/indexing.html#returning-a-view-versus-a-copy\n",
      "\n"
     ]
    },
    {
     "data": {
      "text/html": [
       "<div>\n",
       "<style scoped>\n",
       "    .dataframe tbody tr th:only-of-type {\n",
       "        vertical-align: middle;\n",
       "    }\n",
       "\n",
       "    .dataframe tbody tr th {\n",
       "        vertical-align: top;\n",
       "    }\n",
       "\n",
       "    .dataframe thead th {\n",
       "        text-align: right;\n",
       "    }\n",
       "</style>\n",
       "<table border=\"1\" class=\"dataframe\">\n",
       "  <thead>\n",
       "    <tr style=\"text-align: right;\">\n",
       "      <th></th>\n",
       "      <th>Match</th>\n",
       "      <th>UnderBet</th>\n",
       "      <th>UnderBet_Kelly</th>\n",
       "    </tr>\n",
       "  </thead>\n",
       "  <tbody>\n",
       "    <tr>\n",
       "      <th>0</th>\n",
       "      <td>Fulham-Manchester United</td>\n",
       "      <td>0.00</td>\n",
       "      <td>0.00</td>\n",
       "    </tr>\n",
       "    <tr>\n",
       "      <th>1</th>\n",
       "      <td>Brentford-West Ham</td>\n",
       "      <td>0.00</td>\n",
       "      <td>0.00</td>\n",
       "    </tr>\n",
       "    <tr>\n",
       "      <th>2</th>\n",
       "      <td>Burnley-Crystal Palace</td>\n",
       "      <td>0.00</td>\n",
       "      <td>0.00</td>\n",
       "    </tr>\n",
       "    <tr>\n",
       "      <th>3</th>\n",
       "      <td>Manchester City-Bournemouth</td>\n",
       "      <td>0.00</td>\n",
       "      <td>0.00</td>\n",
       "    </tr>\n",
       "    <tr>\n",
       "      <th>4</th>\n",
       "      <td>Everton-Brighton</td>\n",
       "      <td>0.00</td>\n",
       "      <td>0.00</td>\n",
       "    </tr>\n",
       "    <tr>\n",
       "      <th>5</th>\n",
       "      <td>Sheffield United-Wolverhampton Wanderers</td>\n",
       "      <td>0.00</td>\n",
       "      <td>0.00</td>\n",
       "    </tr>\n",
       "    <tr>\n",
       "      <th>6</th>\n",
       "      <td>Newcastle United-Arsenal</td>\n",
       "      <td>0.00</td>\n",
       "      <td>0.00</td>\n",
       "    </tr>\n",
       "    <tr>\n",
       "      <th>7</th>\n",
       "      <td>Nottingham Forest-Aston Villa</td>\n",
       "      <td>1.78</td>\n",
       "      <td>4.09</td>\n",
       "    </tr>\n",
       "    <tr>\n",
       "      <th>8</th>\n",
       "      <td>Luton-Liverpool</td>\n",
       "      <td>0.00</td>\n",
       "      <td>0.00</td>\n",
       "    </tr>\n",
       "    <tr>\n",
       "      <th>9</th>\n",
       "      <td>Tottenham-Chelsea</td>\n",
       "      <td>0.00</td>\n",
       "      <td>0.00</td>\n",
       "    </tr>\n",
       "    <tr>\n",
       "      <th>10</th>\n",
       "      <td>Wolverhampton Wanderers-Tottenham</td>\n",
       "      <td>0.00</td>\n",
       "      <td>0.00</td>\n",
       "    </tr>\n",
       "    <tr>\n",
       "      <th>11</th>\n",
       "      <td>Manchester United-Luton</td>\n",
       "      <td>0.00</td>\n",
       "      <td>0.00</td>\n",
       "    </tr>\n",
       "    <tr>\n",
       "      <th>12</th>\n",
       "      <td>Crystal Palace-Everton</td>\n",
       "      <td>0.00</td>\n",
       "      <td>0.00</td>\n",
       "    </tr>\n",
       "    <tr>\n",
       "      <th>13</th>\n",
       "      <td>Arsenal-Burnley</td>\n",
       "      <td>0.00</td>\n",
       "      <td>0.00</td>\n",
       "    </tr>\n",
       "    <tr>\n",
       "      <th>14</th>\n",
       "      <td>Bournemouth-Newcastle United</td>\n",
       "      <td>0.00</td>\n",
       "      <td>0.00</td>\n",
       "    </tr>\n",
       "    <tr>\n",
       "      <th>15</th>\n",
       "      <td>Liverpool-Brentford</td>\n",
       "      <td>0.00</td>\n",
       "      <td>0.00</td>\n",
       "    </tr>\n",
       "    <tr>\n",
       "      <th>16</th>\n",
       "      <td>Brighton-Sheffield United</td>\n",
       "      <td>0.00</td>\n",
       "      <td>0.00</td>\n",
       "    </tr>\n",
       "    <tr>\n",
       "      <th>17</th>\n",
       "      <td>Aston Villa-Fulham</td>\n",
       "      <td>0.00</td>\n",
       "      <td>0.00</td>\n",
       "    </tr>\n",
       "    <tr>\n",
       "      <th>18</th>\n",
       "      <td>West Ham-Nottingham Forest</td>\n",
       "      <td>1.24</td>\n",
       "      <td>2.94</td>\n",
       "    </tr>\n",
       "    <tr>\n",
       "      <th>19</th>\n",
       "      <td>Chelsea-Manchester City</td>\n",
       "      <td>0.00</td>\n",
       "      <td>0.00</td>\n",
       "    </tr>\n",
       "  </tbody>\n",
       "</table>\n",
       "</div>"
      ],
      "text/plain": [
       "                                       Match  UnderBet  UnderBet_Kelly\n",
       "0                   Fulham-Manchester United      0.00            0.00\n",
       "1                         Brentford-West Ham      0.00            0.00\n",
       "2                     Burnley-Crystal Palace      0.00            0.00\n",
       "3                Manchester City-Bournemouth      0.00            0.00\n",
       "4                           Everton-Brighton      0.00            0.00\n",
       "5   Sheffield United-Wolverhampton Wanderers      0.00            0.00\n",
       "6                   Newcastle United-Arsenal      0.00            0.00\n",
       "7              Nottingham Forest-Aston Villa      1.78            4.09\n",
       "8                            Luton-Liverpool      0.00            0.00\n",
       "9                          Tottenham-Chelsea      0.00            0.00\n",
       "10         Wolverhampton Wanderers-Tottenham      0.00            0.00\n",
       "11                   Manchester United-Luton      0.00            0.00\n",
       "12                    Crystal Palace-Everton      0.00            0.00\n",
       "13                           Arsenal-Burnley      0.00            0.00\n",
       "14              Bournemouth-Newcastle United      0.00            0.00\n",
       "15                       Liverpool-Brentford      0.00            0.00\n",
       "16                 Brighton-Sheffield United      0.00            0.00\n",
       "17                        Aston Villa-Fulham      0.00            0.00\n",
       "18                West Ham-Nottingham Forest      1.24            2.94\n",
       "19                   Chelsea-Manchester City      0.00            0.00"
      ]
     },
     "metadata": {},
     "output_type": "display_data"
    }
   ],
   "source": [
    "Pont = 5\n",
    "bank = 60\n",
    "Final = Final_Odds[Final_Odds['Type']=='Predicted'][['Match']]\n",
    "listPred = Final_Odds[Final_Odds['Type']=='Predicted']['P(Under)'].tolist()\n",
    "listBook = Final_Odds[Final_Odds['Type']=='Bookmaker']['P(Under)'].tolist()\n",
    "\n",
    "diff = []\n",
    "for i, p in enumerate(listPred):\n",
    "    diff.append(listPred[i]-listBook[i])\n",
    "\n",
    "Final['UnderBet'] = np.nan\n",
    "Final['UnderBet_Kelly'] = np.nan\n",
    "for i, d in enumerate(diff):\n",
    "    if (0.7>=listPred[i]>=0.5) and (d>=0.005):\n",
    "        Final['UnderBet'][i] = max(Pont*10*(d),0)\n",
    "        Final['UnderBet_Kelly'][i] = max(0, bank*(listPred[i]- (1-listPred[i])/(1/listBook[i] -1)))\n",
    "    else:\n",
    "        Final['UnderBet'][i] = 0\n",
    "        Final['UnderBet_Kelly'][i] = 0\n",
    "        \n",
    "############\n",
    "\n",
    "    \n",
    "display(Final)"
   ]
  }
 ],
 "metadata": {
  "kernelspec": {
   "display_name": "Python 3",
   "language": "python",
   "name": "python3"
  },
  "language_info": {
   "codemirror_mode": {
    "name": "ipython",
    "version": 3
   },
   "file_extension": ".py",
   "mimetype": "text/x-python",
   "name": "python",
   "nbconvert_exporter": "python",
   "pygments_lexer": "ipython3",
   "version": "3.11.6"
  },
  "orig_nbformat": 4
 },
 "nbformat": 4,
 "nbformat_minor": 2
}
