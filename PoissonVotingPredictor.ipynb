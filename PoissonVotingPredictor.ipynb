{
 "cells": [
  {
   "cell_type": "code",
   "execution_count": 1,
   "metadata": {},
   "outputs": [],
   "source": [
    "import pandas as pd\n",
    "import plotly.express as px\n",
    "import numpy as np\n",
    "from sklearn.model_selection import train_test_split\n",
    "from sklearn.linear_model import LinearRegression\n",
    "from scipy.stats import poisson \n",
    "import math\n",
    "import plotly.express as px\n",
    "from plotly.subplots import make_subplots\n",
    "import plotly.graph_objects as go\n",
    "from sklearn import preprocessing\n",
    "from pretty_html_table import build_table\n",
    "\n",
    "def sum_of_lower_upper(mat):\n",
    "    r = len(mat)\n",
    "    c = len(mat[0])\n",
    "    diag = np.trace(mat)\n",
    "    lower_sum = 0\n",
    "    upper_sum = 0\n",
    "    over_sum = 0\n",
    "    under_sum = 0\n",
    "    gg_sum = 0\n",
    "    ng_sum = 0 \n",
    "\n",
    "    for i in range(r):\n",
    "        for j in range(c):\n",
    "            if (i<j):\n",
    "                upper_sum += mat[i][j]\n",
    "\n",
    "    for i in range(r):\n",
    "        for j in range(c):\n",
    "            if (j<i):\n",
    "                lower_sum += mat[i][j]\n",
    "    \n",
    "    for i in range(r):\n",
    "        for j in range(c):\n",
    "            if (i+j>=3):\n",
    "                over_sum += mat[i][j]\n",
    "            else:\n",
    "                under_sum += mat[i][j]\n",
    "    \n",
    "    for i in range(r):\n",
    "        for j in range(c):\n",
    "            if (i==0) or (j==0):\n",
    "                ng_sum += mat[i][j]\n",
    "            else:\n",
    "                gg_sum += mat[i][j]\n",
    "\n",
    "    return (upper_sum, lower_sum, diag, over_sum, under_sum, ng_sum, gg_sum)\n"
   ]
  },
  {
   "attachments": {},
   "cell_type": "markdown",
   "metadata": {},
   "source": [
    "## Gathering Lamda from season long performance"
   ]
  },
  {
   "cell_type": "code",
   "execution_count": 2,
   "metadata": {},
   "outputs": [
    {
     "name": "stdout",
     "output_type": "stream",
     "text": [
      "2071\n"
     ]
    }
   ],
   "source": [
    "df1 = pd.read_csv('GatheredData/Full20xxFiles/Full2017.csv')\n",
    "df2 = pd.read_csv('GatheredData/Full20xxFiles/Full2018.csv')\n",
    "df3 = pd.read_csv('GatheredData/Full20xxFiles/Full2019.csv')\n",
    "df4 = pd.read_csv('GatheredData/Full20xxFiles/Full2020.csv')\n",
    "df5 = pd.read_csv('GatheredData/Full20xxFiles/Full2021.csv')\n",
    "df6 = pd.read_csv('GatheredData/Full20xxFiles/Full2022.csv')\n",
    "PRED = pd.read_csv('UpcomingFixtures/Prediction.csv')\n",
    "pred = PRED.copy()\n",
    "#Keeping bookmakers odds\n",
    "Odds = PRED.copy()\n",
    "Odds = PRED[['HTeam', 'ATeam','B365H', 'B365D', 'B365A', 'BbAv>2.5', 'BbAv<2.5', 'GG', 'NG']]\n",
    "\n",
    "df1 = df1[['Date_x', 'HxG', 'HM', 'HTeam', 'ATeam', 'HG', 'HGA', 'HxGA', 'HDC', 'HODC', 'HPPDA', 'HOPPDA', 'HPTS/M', 'AM', 'AG', 'AGA', 'AxG', 'AxGA', 'ADC', 'AODC', 'APPDA', 'AOPPDA', 'APTS/M', 'Result', 'B365H', 'B365D', 'B365A', 'BbAv>2.5', 'BbAv<2.5']]\n",
    "df2 = df2[['Date_x', 'HxG', 'HM', 'HTeam', 'ATeam', 'HG', 'HGA', 'HxGA', 'HDC', 'HODC', 'HPPDA', 'HOPPDA', 'HPTS/M', 'AM', 'AG', 'AGA', 'AxG', 'AxGA', 'ADC', 'AODC', 'APPDA', 'AOPPDA', 'APTS/M', 'Result', 'B365H', 'B365D', 'B365A', 'BbAv>2.5', 'BbAv<2.5']]\n",
    "df3 = df3[['Date_x', 'HxG', 'HM', 'HTeam', 'ATeam', 'HG', 'HGA', 'HxGA', 'HDC', 'HODC', 'HPPDA', 'HOPPDA', 'HPTS/M', 'AM', 'AG', 'AGA', 'AxG', 'AxGA', 'ADC', 'AODC', 'APPDA', 'AOPPDA', 'APTS/M', 'Result', 'B365H', 'B365D', 'B365A', 'AvgC>2.5', 'AvgC<2.5']]\n",
    "df3.rename(columns = {'AvgC<2.5':'BbAv<2.5'}, inplace = True)\n",
    "df3.rename(columns = {'AvgC>2.5':'BbAv>2.5'}, inplace = True)\n",
    "df4 = df4[['Date_x', 'HxG', 'HM', 'HTeam', 'ATeam', 'HG', 'HGA', 'HxGA', 'HDC', 'HODC', 'HPPDA', 'HOPPDA', 'HPTS/M', 'AM', 'AG', 'AGA', 'AxG', 'AxGA', 'ADC', 'AODC', 'APPDA', 'AOPPDA', 'APTS/M', 'Result', 'B365H', 'B365D', 'B365A', 'AvgC>2.5', 'AvgC<2.5']]\n",
    "df4.rename(columns = {'AvgC<2.5':'BbAv<2.5'}, inplace = True)\n",
    "df4.rename(columns = {'AvgC>2.5':'BbAv>2.5'}, inplace = True)\n",
    "df5 = df5[['Date_x', 'HxG', 'HM', 'HTeam', 'ATeam', 'HG', 'HGA', 'HxGA', 'HDC', 'HODC', 'HPPDA', 'HOPPDA', 'HPTS/M', 'AM', 'AG', 'AGA', 'AxG', 'AxGA', 'ADC', 'AODC', 'APPDA', 'AOPPDA', 'APTS/M', 'Result', 'B365H', 'B365D', 'B365A', 'AvgC>2.5', 'AvgC<2.5']]\n",
    "df5.rename(columns = {'AvgC<2.5':'BbAv<2.5'}, inplace = True)\n",
    "df5.rename(columns = {'AvgC>2.5':'BbAv>2.5'}, inplace = True)\n",
    "df6 = df6[['Date', 'HxG', 'HM', 'HTeam', 'ATeam', 'HG', 'HGA', 'HxGA', 'HDC', 'HODC', 'HPPDA', 'HOPPDA', 'HPTS/M', 'AM', 'AG', 'AGA', 'AxG', 'AxGA', 'ADC', 'AODC', 'APPDA', 'AOPPDA', 'APTS/M', 'Result', 'B365H', 'B365D', 'B365A', 'BbAv>2.5', 'BbAv<2.5']]\n",
    "\n",
    "df1.rename(columns = {'Date_x':'Date'}, inplace = True)\n",
    "df2.rename(columns = {'Date_x':'Date'}, inplace = True)\n",
    "df3.rename(columns = {'Date_x':'Date'}, inplace = True)\n",
    "df4.rename(columns = {'Date_x':'Date'}, inplace = True)\n",
    "df5.rename(columns = {'Date_x':'Date'}, inplace = True)\n",
    "\n",
    "\n",
    "Season = pd.read_csv('GatheredData/Full20xxFiles/Full2023.csv')\n",
    "Season = Season[['Date', 'HxG', 'HM', 'HTeam', 'ATeam', 'HG', 'HGA', 'HxGA', 'HDC', 'HODC', 'HPPDA', 'HOPPDA', 'HPTS/M', 'AM', 'AG', 'AGA', 'AxG', 'AxGA', 'ADC', 'AODC', 'APPDA', 'AOPPDA', 'APTS/M', 'Result', 'B365H', 'B365D', 'B365A', 'BbAv>2.5', 'BbAv<2.5']]\n",
    "Season = Season.iloc[38:]\n",
    "\n",
    "\n",
    "DF = pd.concat([df1, df2, df3, df4, df5, df6, Season], ignore_index=True)\n",
    "\n",
    "\n",
    "DF = DF[ DF['HM'] != 0] \n",
    "DF = DF[ DF['HM'] != 1] \n",
    "DF = DF[ DF['HM'] != 2] \n",
    "DF = DF[ DF['HM'] != 3]\n",
    "subset = DF[['Date', 'HTeam', 'ATeam']].copy()\n",
    "\n",
    "extra_stats = DF.copy()\n",
    "extra_pred = pred.copy()\n",
    "\n",
    "DF['PTSDIF/M']=DF['HPTS/M']-DF['APTS/M']\n",
    "pred['PTSDIF/M']=pred['HPTS/M']-pred['APTS/M']\n",
    "DF = DF[[ 'HxG', 'HM', 'HG', 'HGA', 'HxGA', 'HDC', 'HODC', 'HPPDA', 'HOPPDA', 'HPTS/M', 'AM', 'AG', 'AGA', 'AxG', 'AxGA', 'ADC', 'AODC', 'APPDA', 'AOPPDA', 'APTS/M', 'PTSDIF/M', 'Result']]\n",
    "pred = pred[[ 'HxG', 'HM', 'HG', 'HGA', 'HxGA', 'HDC', 'HODC', 'HPPDA', 'HOPPDA', 'HPTS/M', 'AM', 'AG', 'AGA', 'AxG', 'AxGA', 'ADC', 'AODC', 'APPDA', 'AOPPDA', 'APTS/M', 'PTSDIF/M', 'Result']]\n",
    "cut = DF.shape[0]\n",
    "print(cut)\n",
    "DF = pd.concat([DF, pred], ignore_index=True)\n",
    "try:\n",
    "    DF['HxG'] = DF['HxG'].div(DF['HM'])\n",
    "    DF['HG'] = DF['HG'].div(DF['HM'])\n",
    "    DF['HGA'] = DF['HGA'].div(DF['HM'])\n",
    "    DF['HxGA'] = DF['HxGA'].div(DF['HM'])\n",
    "    DF['AxG'] = DF['AxG'].div(DF['AM'])\n",
    "    DF['AG'] = DF['AG'].div(DF['AM'])\n",
    "    DF['AxGA'] = DF['AxG'].div(DF['AM'])\n",
    "    DF['AGA'] = DF['AGA'].div(DF['AM'])\n",
    "    pred['HxG'] = pred['HxG'].div(pred['HM'])\n",
    "    pred['HG'] = pred['HG'].div(pred['HM'])\n",
    "    pred['HGA'] = pred['HGA'].div(pred['HM'])\n",
    "    pred['HxGA'] = pred['HxGA'].div(pred['HM'])\n",
    "    pred['AxG'] = pred['AxG'].div(pred['AM'])\n",
    "    pred['AG'] = pred['AG'].div(pred['AM'])\n",
    "    pred['AxGA'] = pred['AxG'].div(pred['AM'])\n",
    "    pred['AGA'] = pred['AGA'].div(pred['AM'])\n",
    "\n",
    "except ZeroDivisionError:\n",
    "    DF['HxG'] = 0\n",
    "    DF['HG'] = 0\n",
    "    DF['HGA'] = 0\n",
    "    DF['HxGA'] = 0\n",
    "    DF['AxG'] = 0\n",
    "    DF['AG'] = 0\n",
    "    DF['AxGA'] = 0\n",
    "    DF['AGA'] = 0\n",
    "\n",
    "HGoals = []\n",
    "AGoals = []\n",
    "    \n",
    "for i, x in DF.iloc[:cut].iterrows():\n",
    "    a=x['Result'].split('\\'')\n",
    "    HGoals.append(a[1])\n",
    "    AGoals.append(a[3])\n",
    "    \n",
    "DF=np.array(DF)\n",
    "DFnorm = preprocessing.normalize(DF[:, 0:21], axis=0)\n",
    "pred = DFnorm[cut:]\n",
    "DF = DFnorm[:cut]\n",
    "\n",
    "x=DF\n",
    "\n",
    "\n",
    "y1=np.array(HGoals)\n",
    "y2=np.array(AGoals)\n",
    "\n",
    "reg1 = LinearRegression().fit(x, y1)\n",
    "reg2 = LinearRegression().fit(x, y2)\n",
    "\n",
    "LamdaHome= reg1.predict(pred)\n",
    "LamdaAway= reg2.predict(pred)"
   ]
  },
  {
   "attachments": {},
   "cell_type": "markdown",
   "metadata": {},
   "source": [
    "## Gathering Lamda from 2 month form performance"
   ]
  },
  {
   "cell_type": "code",
   "execution_count": 3,
   "metadata": {},
   "outputs": [
    {
     "name": "stdout",
     "output_type": "stream",
     "text": [
      "Date           17/09/2021\n",
      "HTeam    Newcastle United\n",
      "ATeam               Leeds\n",
      "Name: 1560, dtype: object\n",
      "Date                     07/02/2021\n",
      "HxG                           12.05\n",
      "HM                               12\n",
      "HTeam       Wolverhampton Wanderers\n",
      "ATeam                     Leicester\n",
      "HG                               12\n",
      "HGA                              20\n",
      "HxGA                          15.48\n",
      "HDC                        3.166667\n",
      "HODC                       7.083333\n",
      "HPPDA                         15.93\n",
      "HOPPDA                        11.56\n",
      "HPTS/M                         0.75\n",
      "AM                               12\n",
      "AG                               20\n",
      "AGA                              11\n",
      "AxG                           16.59\n",
      "AxGA                          10.23\n",
      "ADC                             7.0\n",
      "AODC                       4.333333\n",
      "APPDA                           9.7\n",
      "AOPPDA                        12.24\n",
      "APTS/M                          2.0\n",
      "Result                 ['0 ', ' 0']\n",
      "B365H                           3.5\n",
      "B365D                           3.4\n",
      "B365A                           2.1\n",
      "BbAv>2.5                        2.2\n",
      "BbAv<2.5                       1.66\n",
      "Name: 1361, dtype: object\n",
      "            Date             HTeam            ATeam   HxG  HM  HG  HGA   HxGA  \\\n",
      "1489  19/12/2021  Newcastle United  Manchester City  7.06   9   8   18  17.04   \n",
      "\n",
      "           HDC      HODC  ...      AODC  APPDA  AOPPDA    APTS/M  \\\n",
      "1489  3.555556  9.333333  ...  3.222222   9.16   23.01  2.666667   \n",
      "\n",
      "            Result  B365H  B365D  B365A  BbAv>2.5  BbAv<2.5  \n",
      "1489  ['0 ', ' 4']   13.0    7.5   1.18       NaN       NaN  \n",
      "\n",
      "[1 rows x 29 columns]\n",
      "         HxG  HM        HG       HGA      HxGA        HDC       HODC  HPPDA  \\\n",
      "0     0.5350   4  0.250000  2.000000  1.902500   5.000000   9.250000  13.80   \n",
      "1     1.0675   4  0.000000  1.750000  1.495000   5.750000   4.750000  11.61   \n",
      "2     0.9650   4  1.000000  0.500000  1.177500   3.250000   3.250000   8.69   \n",
      "3     2.3975   4  2.000000  2.000000  1.632500   7.000000   6.000000  15.95   \n",
      "4     1.3500   4  1.000000  0.750000  1.165000   4.000000   4.000000  14.00   \n",
      "...      ...  ..       ...       ...       ...        ...        ...    ...   \n",
      "2066  1.6350   6  1.833333  1.666667  2.468333   4.333333  13.166667  17.21   \n",
      "2067  1.3750   6  1.000000  2.000000  2.403333   6.666667  13.500000  12.17   \n",
      "2068  2.1700   6  2.500000  1.166667  1.606667  14.166667   7.333333   7.55   \n",
      "2069  0.9800   6  1.166667  1.500000  1.475000   5.500000   8.666667  19.56   \n",
      "2070  1.1000   6  0.833333  1.666667  2.186667   6.333333   9.333333  14.72   \n",
      "\n",
      "      HOPPDA    HPTS/M  ...       AGA       AxG      AxGA        ADC  \\\n",
      "0       8.77  0.000000  ...  1.250000  0.437500  0.109375   3.500000   \n",
      "1       8.37  0.000000  ...  1.000000  1.372500  0.343125   9.500000   \n",
      "2      10.06  1.750000  ...  2.000000  1.342500  0.335625   2.750000   \n",
      "3      12.48  1.750000  ...  1.000000  0.760000  0.190000   3.500000   \n",
      "4       7.26  1.500000  ...  1.000000  0.862500  0.215625   5.500000   \n",
      "...      ...       ...  ...       ...       ...       ...        ...   \n",
      "2066    7.91  1.666667  ...  2.833333  0.780000  0.130000   3.833333   \n",
      "2067    9.13  0.666667  ...  0.500000  2.495000  0.415833  11.833333   \n",
      "2068   10.95  2.333333  ...  0.833333  2.518333  0.419722  11.000000   \n",
      "2069    8.79  1.166667  ...  1.500000  1.933333  0.322222   9.000000   \n",
      "2070   14.16  1.333333  ...  1.000000  1.971667  0.328611  13.333333   \n",
      "\n",
      "           AODC  APPDA  AOPPDA    APTS/M  PTSDIF/M        Result  \n",
      "0      8.250000  17.65   18.94  1.000000 -1.000000  ['2 ', ' 1']  \n",
      "1      2.500000   8.15   13.68  1.250000 -1.250000  ['0 ', ' 1']  \n",
      "2     10.000000  15.38   10.43  0.750000  1.000000  ['1 ', ' 1']  \n",
      "3      6.750000  12.51    8.62  1.750000  0.000000  ['1 ', ' 1']  \n",
      "4      7.250000  15.26    8.52  1.250000  0.250000  ['2 ', ' 1']  \n",
      "...         ...    ...     ...       ...       ...           ...  \n",
      "2066  12.000000  16.03    7.73  0.166667  1.500000  ['2 ', ' 0']  \n",
      "2067   4.000000  11.73   24.09  3.000000 -2.333333  ['2 ', ' 1']  \n",
      "2068   6.166667  10.71   16.95  2.666667 -0.333333  ['2 ', ' 1']  \n",
      "2069   7.166667   9.59   10.61  1.000000  0.166667  ['1 ', ' 1']  \n",
      "2070   5.500000   6.97   20.05  0.833333  0.500000  ['0 ', ' 2']  \n",
      "\n",
      "[2071 rows x 22 columns]\n"
     ]
    },
    {
     "name": "stderr",
     "output_type": "stream",
     "text": [
      "/tmp/ipykernel_12288/2412402004.py:48: SettingWithCopyWarning: \n",
      "A value is trying to be set on a copy of a slice from a DataFrame.\n",
      "Try using .loc[row_indexer,col_indexer] = value instead\n",
      "\n",
      "See the caveats in the documentation: https://pandas.pydata.org/pandas-docs/stable/user_guide/indexing.html#returning-a-view-versus-a-copy\n",
      "  DF['PTSDIF/M']=DF['HPTS/M']-DF['APTS/M']\n"
     ]
    }
   ],
   "source": [
    "df1 = pd.read_csv('GatheredData/Epl20xxMonthlyFiles/Epl2017Monthly.csv')\n",
    "df2 = pd.read_csv('GatheredData/Epl20xxMonthlyFiles/Epl2018Monthly.csv')\n",
    "df3 = pd.read_csv('GatheredData/Epl20xxMonthlyFiles/Epl2019Monthly.csv')\n",
    "df4 = pd.read_csv('GatheredData/Epl20xxMonthlyFiles/Epl2020Monthly.csv')\n",
    "df5 = pd.read_csv('GatheredData/Epl20xxMonthlyFiles/Epl2021Monthly.csv')\n",
    "df6 = pd.read_csv('GatheredData/Epl20xxMonthlyFiles/Epl2022Monthly.csv')\n",
    "pred = PRED.copy()\n",
    "#Keeping bookmakers odds\n",
    "Odds = PRED.copy()\n",
    "Odds = PRED[['HTeam', 'ATeam','B365H', 'B365D', 'B365A', 'BbAv>2.5', 'BbAv<2.5', 'GG', 'NG']]\n",
    "\n",
    "df1 = df1[['Date', 'HxG', 'HM', 'HTeam', 'ATeam', 'HG', 'HGA', 'HxGA', 'HDC', 'HODC', 'HPPDA', 'HOPPDA', 'HPTS/M', 'AM', 'AG', 'AGA', 'AxG', 'AxGA', 'ADC', 'AODC', 'APPDA', 'AOPPDA', 'APTS/M', 'Result', 'B365H', 'B365D', 'B365A', 'BbAv>2.5', 'BbAv<2.5']]\n",
    "df2 = df2[['Date', 'HxG', 'HM', 'HTeam', 'ATeam', 'HG', 'HGA', 'HxGA', 'HDC', 'HODC', 'HPPDA', 'HOPPDA', 'HPTS/M', 'AM', 'AG', 'AGA', 'AxG', 'AxGA', 'ADC', 'AODC', 'APPDA', 'AOPPDA', 'APTS/M', 'Result', 'B365H', 'B365D', 'B365A', 'BbAv>2.5', 'BbAv<2.5']]\n",
    "df3 = df3[['Date', 'HxG', 'HM', 'HTeam', 'ATeam', 'HG', 'HGA', 'HxGA', 'HDC', 'HODC', 'HPPDA', 'HOPPDA', 'HPTS/M', 'AM', 'AG', 'AGA', 'AxG', 'AxGA', 'ADC', 'AODC', 'APPDA', 'AOPPDA', 'APTS/M', 'Result', 'B365H', 'B365D', 'B365A', 'B365>2.5', 'B365<2.5']]\n",
    "df3.rename(columns = {'B365<2.5':'BbAv<2.5'}, inplace = True)\n",
    "df3.rename(columns = {'B365>2.5':'BbAv>2.5'}, inplace = True)\n",
    "df4 = df4[['Date', 'HxG', 'HM', 'HTeam', 'ATeam', 'HG', 'HGA', 'HxGA', 'HDC', 'HODC', 'HPPDA', 'HOPPDA', 'HPTS/M', 'AM', 'AG', 'AGA', 'AxG', 'AxGA', 'ADC', 'AODC', 'APPDA', 'AOPPDA', 'APTS/M', 'Result', 'B365H', 'B365D', 'B365A', 'B365>2.5', 'B365<2.5']]\n",
    "df4.rename(columns = {'B365<2.5':'BbAv<2.5'}, inplace = True)\n",
    "df4.rename(columns = {'B365>2.5':'BbAv>2.5'}, inplace = True)\n",
    "df5 = df5[['Date', 'HxG', 'HM', 'HTeam', 'ATeam', 'HG', 'HGA', 'HxGA', 'HDC', 'HODC', 'HPPDA', 'HOPPDA', 'HPTS/M', 'AM', 'AG', 'AGA', 'AxG', 'AxGA', 'ADC', 'AODC', 'APPDA', 'AOPPDA', 'APTS/M', 'Result', 'B365H', 'B365D', 'B365A', 'B365>2.5', 'B365<2.5']]\n",
    "df5.rename(columns = {'B365<2.5':'BbAv<2.5'}, inplace = True)\n",
    "df5.rename(columns = {'B365>2.5':'BbAv>2.5'}, inplace = True)\n",
    "df6 = df6[['Date', 'HxG', 'HM', 'HTeam', 'ATeam', 'HG', 'HGA', 'HxGA', 'HDC', 'HODC', 'HPPDA', 'HOPPDA', 'HPTS/M', 'AM', 'AG', 'AGA', 'AxG', 'AxGA', 'ADC', 'AODC', 'APPDA', 'AOPPDA', 'APTS/M', 'Result', 'B365H', 'B365D', 'B365A', 'BbAv>2.5', 'BbAv<2.5']]\n",
    "df6.rename(columns = {'B365<2.5':'BbAv<2.5'}, inplace = True)\n",
    "df6.rename(columns = {'B365>2.5':'BbAv>2.5'}, inplace = True)\n",
    "\n",
    "SeasonForm = pd.read_csv('GatheredData/Epl20xxMonthlyFiles/Epl2023Monthly.csv')\n",
    "\n",
    "\n",
    "try:\n",
    "    SeasonForm = SeasonForm[['Date', 'HxG', 'HM', 'HTeam', 'ATeam', 'HG', 'HGA', 'HxGA', 'HDC', 'HODC', 'HPPDA', 'HOPPDA', 'HPTS/M', 'AM', 'AG', 'AGA', 'AxG', 'AxGA', 'ADC', 'AODC', 'APPDA', 'AOPPDA', 'APTS/M', 'Result', 'B365H', 'B365D', 'B365A', 'BbAv>2.5', 'BbAv<2.5']]\n",
    "except KeyError:\n",
    "    SeasonForm = SeasonForm[['Date', 'HxG', 'HM', 'HTeam', 'ATeam', 'HG', 'HGA', 'HxGA', 'HDC', 'HODC', 'HPPDA', 'HOPPDA', 'HPTS/M', 'AM', 'AG', 'AGA', 'AxG', 'AxGA', 'ADC', 'AODC', 'APPDA', 'AOPPDA', 'APTS/M', 'Result', 'B365H', 'B365D', 'B365A', 'B365>2.5', 'B365<2.5']]\n",
    "    SeasonForm.rename(columns = {'B365<2.5':'BbAv<2.5'}, inplace = True)\n",
    "    SeasonForm.rename(columns = {'B365>2.5':'BbAv>2.5'}, inplace = True)\n",
    "    \n",
    "SeasonForm = SeasonForm.iloc[38:]\n",
    "\n",
    "DF = pd.concat([df1, df2, df3, df4, df5, df6, SeasonForm], ignore_index=True)\n",
    "merged = pd.merge(subset, DF, on=['Date', 'HTeam', 'ATeam'], how='left')\n",
    "print(subset.iloc[1361])\n",
    "print(DF.iloc[1361])\n",
    "print(merged[merged.isna().any(axis=1)])\n",
    "\n",
    "# resulting dataframe will have columns of B where the triplet of A['a', 'b', 'c'] exists in B\n",
    "DF = merged[DF.columns]\n",
    "\n",
    "DF['PTSDIF/M']=DF['HPTS/M']-DF['APTS/M']\n",
    "pred['PTSDIF/M']=pred['HPTS/M']-pred['APTS/M']\n",
    "DF = DF[['HxG', 'HM', 'HG', 'HGA', 'HxGA', 'HDC', 'HODC', 'HPPDA', 'HOPPDA', 'HPTS/M', 'AM', 'AG', 'AGA', 'AxG', 'AxGA', 'ADC', 'AODC', 'APPDA', 'AOPPDA', 'APTS/M', 'PTSDIF/M', 'Result']]\n",
    "pred = pred[['HxG', 'HM', 'HG', 'HGA', 'HxGA', 'HDC', 'HODC', 'HPPDA', 'HOPPDA', 'HPTS/M', 'AM', 'AG', 'AGA', 'AxG', 'AxGA', 'ADC', 'AODC', 'APPDA', 'AOPPDA', 'APTS/M', 'PTSDIF/M', 'Result']]\n",
    "cut = DF.shape[0]\n",
    "DF = pd.concat([DF, pred], ignore_index=True)\n",
    "\n",
    "\n",
    "\n",
    "try:\n",
    "    DF['HxG'] = DF['HxG'].div(DF['HM']).fillna(0)\n",
    "    DF['HG'] = DF['HG'].div(DF['HM']).fillna(0)\n",
    "    DF['HGA'] = DF['HGA'].div(DF['HM']).fillna(0)\n",
    "    DF['HxGA'] = DF['HxGA'].div(DF['HM']).fillna(0)\n",
    "    DF['AxG'] = DF['AxG'].div(DF['AM']).fillna(0)\n",
    "    DF['AG'] = DF['AG'].div(DF['AM']).fillna(0)\n",
    "    DF['AxGA'] = DF['AxG'].div(DF['AM']).fillna(0)\n",
    "    DF['AGA'] = DF['AGA'].div(DF['AM']).fillna(0)\n",
    "    pred['HxG'] = pred['HxG'].div(pred['HM']).fillna(0)\n",
    "    pred['HG'] = pred['HG'].div(pred['HM']).fillna(0)\n",
    "    pred['HGA'] = pred['HGA'].div(pred['HM']).fillna(0)\n",
    "    pred['HxGA'] = pred['HxGA'].div(pred['HM']).fillna(0)\n",
    "    pred['AxG'] = pred['AxG'].div(pred['AM']).fillna(0)\n",
    "    pred['AG'] = pred['AG'].div(pred['AM']).fillna(0)\n",
    "    pred['AxGA'] = pred['AxG'].div(pred['AM']).fillna(0)\n",
    "    pred['AGA'] = pred['AGA'].div(pred['AM']).fillna(0)\n",
    "\n",
    "except ZeroDivisionError:\n",
    "    DF['HxG'] = 0\n",
    "    DF['HG'] = 0\n",
    "    DF['HGA'] = 0\n",
    "    DF['HxGA'] = 0\n",
    "    DF['AxG'] = 0\n",
    "    DF['AG'] = 0\n",
    "    DF['AxGA'] = 0\n",
    "    DF['AGA'] = 0\n",
    "\n",
    "\n",
    "print(DF.iloc[:cut])\n",
    "        \n",
    "HGoals = []\n",
    "AGoals = []\n",
    "for i, x in DF.iloc[:cut].iterrows():\n",
    "    a=str(x['Result']).split('\\'')\n",
    "    try:\n",
    "        HGoals.append(a[1])\n",
    "        AGoals.append(a[3])\n",
    "    except IndexError:\n",
    "        print(x)\n",
    "        print(DF.iloc[:cut].iloc[i-1])\n",
    "\n",
    "DF=np.array(DF)\n",
    "\n",
    "DFnorm = preprocessing.normalize(DF[:, 0:21].astype('float64'), axis=0)\n",
    "pred = DFnorm[cut:]\n",
    "DF = DFnorm[:cut]\n",
    "\n",
    "x=DF\n",
    "\n",
    "y1=np.array(HGoals)\n",
    "y2=np.array(AGoals)\n",
    "\n",
    "reg1 = LinearRegression().fit(x, y1)\n",
    "reg2 = LinearRegression().fit(x, y2)\n",
    "\n",
    "LamdaHomeForm= reg1.predict(pred)\n",
    "LamdaAwayForm= reg2.predict(pred)"
   ]
  },
  {
   "cell_type": "code",
   "execution_count": 4,
   "metadata": {},
   "outputs": [
    {
     "name": "stdout",
     "output_type": "stream",
     "text": [
      "[0.9735857988948937, 0.9382631291562095, 1.9512134900845013, 1.850682184949809, 1.8933537724298106, 1.4196921571288232, 1.111409655975312, 1.954774834905799, 1.2498629299455803, 1.7881056499876005, 2.242998849206133, 1.6500179955549688, 2.0258051193831936, 2.430351112382981, 2.1202948196221096, 1.4947391284186446, 1.840832486472853, 0.7699488871493623, 1.8827594167494444, 2.563214530997052]\n",
      "[2.179986378576892, 1.8308642559215618, 0.962197552011479, 1.0006501504101284, 1.4061895166858847, 1.1208046978403972, 2.0898560968709323, 1.6466063797685564, 1.974875734082525, 1.6895130002574634, 1.169027215033718, 1.7706227239510388, 0.9126764573728704, 1.2635199621059658, 1.0496263476631038, 1.1920841027876505, 1.7461932678063494, 2.0851142563900824, 1.2863316631083177, 1.1388915880235846]\n"
     ]
    }
   ],
   "source": [
    "LamdaAwayFinal = [(LamdaAway[i] * 0.4 + LamdaAwayForm[i] * 0.6) for i in range(len(LamdaAway))]\n",
    "LamdaHomeFinal = [(LamdaHome[i] * 0.4 + LamdaHomeForm[i] * 0.6) for i in range(len(LamdaHome))]\n",
    "\n",
    "print(LamdaHomeFinal)\n",
    "print(LamdaAwayFinal)"
   ]
  },
  {
   "cell_type": "code",
   "execution_count": 5,
   "metadata": {},
   "outputs": [
    {
     "data": {
      "text/html": [
       "<div>\n",
       "<style scoped>\n",
       "    .dataframe tbody tr th:only-of-type {\n",
       "        vertical-align: middle;\n",
       "    }\n",
       "\n",
       "    .dataframe tbody tr th {\n",
       "        vertical-align: top;\n",
       "    }\n",
       "\n",
       "    .dataframe thead th {\n",
       "        text-align: right;\n",
       "    }\n",
       "</style>\n",
       "<table border=\"1\" class=\"dataframe\">\n",
       "  <thead>\n",
       "    <tr style=\"text-align: right;\">\n",
       "      <th></th>\n",
       "      <th>Date</th>\n",
       "      <th>HTeam</th>\n",
       "      <th>ATeam</th>\n",
       "      <th>P(Hwin)</th>\n",
       "      <th>P(Draw)</th>\n",
       "      <th>P(Awin)</th>\n",
       "      <th>P(Under)</th>\n",
       "      <th>P(Over)</th>\n",
       "      <th>P(GG)</th>\n",
       "      <th>P(NG)</th>\n",
       "    </tr>\n",
       "  </thead>\n",
       "  <tbody>\n",
       "    <tr>\n",
       "      <th>0</th>\n",
       "      <td>07/10/2023</td>\n",
       "      <td>Luton</td>\n",
       "      <td>Tottenham</td>\n",
       "      <td>0.153</td>\n",
       "      <td>0.189</td>\n",
       "      <td>0.658</td>\n",
       "      <td>0.375</td>\n",
       "      <td>0.625</td>\n",
       "      <td>0.559</td>\n",
       "      <td>0.441</td>\n",
       "    </tr>\n",
       "    <tr>\n",
       "      <th>1</th>\n",
       "      <td>07/10/2023</td>\n",
       "      <td>Burnley</td>\n",
       "      <td>Chelsea</td>\n",
       "      <td>0.177</td>\n",
       "      <td>0.227</td>\n",
       "      <td>0.596</td>\n",
       "      <td>0.496</td>\n",
       "      <td>0.504</td>\n",
       "      <td>0.488</td>\n",
       "      <td>0.512</td>\n",
       "    </tr>\n",
       "    <tr>\n",
       "      <th>2</th>\n",
       "      <td>07/10/2023</td>\n",
       "      <td>Everton</td>\n",
       "      <td>Bournemouth</td>\n",
       "      <td>0.654</td>\n",
       "      <td>0.200</td>\n",
       "      <td>0.146</td>\n",
       "      <td>0.440</td>\n",
       "      <td>0.560</td>\n",
       "      <td>0.503</td>\n",
       "      <td>0.497</td>\n",
       "    </tr>\n",
       "    <tr>\n",
       "      <th>3</th>\n",
       "      <td>07/10/2023</td>\n",
       "      <td>Fulham</td>\n",
       "      <td>Sheffield United</td>\n",
       "      <td>0.607</td>\n",
       "      <td>0.220</td>\n",
       "      <td>0.172</td>\n",
       "      <td>0.476</td>\n",
       "      <td>0.524</td>\n",
       "      <td>0.499</td>\n",
       "      <td>0.501</td>\n",
       "    </tr>\n",
       "    <tr>\n",
       "      <th>4</th>\n",
       "      <td>07/10/2023</td>\n",
       "      <td>Manchester United</td>\n",
       "      <td>Brentford</td>\n",
       "      <td>0.512</td>\n",
       "      <td>0.222</td>\n",
       "      <td>0.265</td>\n",
       "      <td>0.370</td>\n",
       "      <td>0.630</td>\n",
       "      <td>0.627</td>\n",
       "      <td>0.373</td>\n",
       "    </tr>\n",
       "    <tr>\n",
       "      <th>5</th>\n",
       "      <td>07/10/2023</td>\n",
       "      <td>Crystal Palace</td>\n",
       "      <td>Nottingham Forest</td>\n",
       "      <td>0.464</td>\n",
       "      <td>0.261</td>\n",
       "      <td>0.275</td>\n",
       "      <td>0.532</td>\n",
       "      <td>0.468</td>\n",
       "      <td>0.507</td>\n",
       "      <td>0.493</td>\n",
       "    </tr>\n",
       "    <tr>\n",
       "      <th>6</th>\n",
       "      <td>08/10/2023</td>\n",
       "      <td>Wolverhampton Wanderers</td>\n",
       "      <td>Aston Villa</td>\n",
       "      <td>0.169</td>\n",
       "      <td>0.197</td>\n",
       "      <td>0.634</td>\n",
       "      <td>0.378</td>\n",
       "      <td>0.622</td>\n",
       "      <td>0.571</td>\n",
       "      <td>0.429</td>\n",
       "    </tr>\n",
       "    <tr>\n",
       "      <th>7</th>\n",
       "      <td>08/10/2023</td>\n",
       "      <td>Brighton</td>\n",
       "      <td>Liverpool</td>\n",
       "      <td>0.472</td>\n",
       "      <td>0.214</td>\n",
       "      <td>0.314</td>\n",
       "      <td>0.296</td>\n",
       "      <td>0.704</td>\n",
       "      <td>0.696</td>\n",
       "      <td>0.304</td>\n",
       "    </tr>\n",
       "    <tr>\n",
       "      <th>8</th>\n",
       "      <td>08/10/2023</td>\n",
       "      <td>West Ham</td>\n",
       "      <td>Newcastle United</td>\n",
       "      <td>0.236</td>\n",
       "      <td>0.218</td>\n",
       "      <td>0.546</td>\n",
       "      <td>0.380</td>\n",
       "      <td>0.620</td>\n",
       "      <td>0.608</td>\n",
       "      <td>0.392</td>\n",
       "    </tr>\n",
       "    <tr>\n",
       "      <th>9</th>\n",
       "      <td>08/10/2023</td>\n",
       "      <td>Arsenal</td>\n",
       "      <td>Manchester City</td>\n",
       "      <td>0.431</td>\n",
       "      <td>0.222</td>\n",
       "      <td>0.347</td>\n",
       "      <td>0.324</td>\n",
       "      <td>0.676</td>\n",
       "      <td>0.679</td>\n",
       "      <td>0.321</td>\n",
       "    </tr>\n",
       "    <tr>\n",
       "      <th>10</th>\n",
       "      <td>21/10/2023</td>\n",
       "      <td>Liverpool</td>\n",
       "      <td>Everton</td>\n",
       "      <td>0.648</td>\n",
       "      <td>0.186</td>\n",
       "      <td>0.165</td>\n",
       "      <td>0.333</td>\n",
       "      <td>0.667</td>\n",
       "      <td>0.603</td>\n",
       "      <td>0.397</td>\n",
       "    </tr>\n",
       "    <tr>\n",
       "      <th>11</th>\n",
       "      <td>21/10/2023</td>\n",
       "      <td>Bournemouth</td>\n",
       "      <td>Wolverhampton Wanderers</td>\n",
       "      <td>0.381</td>\n",
       "      <td>0.226</td>\n",
       "      <td>0.393</td>\n",
       "      <td>0.337</td>\n",
       "      <td>0.663</td>\n",
       "      <td>0.670</td>\n",
       "      <td>0.330</td>\n",
       "    </tr>\n",
       "    <tr>\n",
       "      <th>12</th>\n",
       "      <td>21/10/2023</td>\n",
       "      <td>Newcastle United</td>\n",
       "      <td>Crystal Palace</td>\n",
       "      <td>0.631</td>\n",
       "      <td>0.203</td>\n",
       "      <td>0.166</td>\n",
       "      <td>0.413</td>\n",
       "      <td>0.587</td>\n",
       "      <td>0.541</td>\n",
       "      <td>0.459</td>\n",
       "    </tr>\n",
       "    <tr>\n",
       "      <th>13</th>\n",
       "      <td>21/10/2023</td>\n",
       "      <td>Manchester City</td>\n",
       "      <td>Brighton</td>\n",
       "      <td>0.655</td>\n",
       "      <td>0.177</td>\n",
       "      <td>0.168</td>\n",
       "      <td>0.278</td>\n",
       "      <td>0.722</td>\n",
       "      <td>0.650</td>\n",
       "      <td>0.350</td>\n",
       "    </tr>\n",
       "    <tr>\n",
       "      <th>14</th>\n",
       "      <td>21/10/2023</td>\n",
       "      <td>Brentford</td>\n",
       "      <td>Burnley</td>\n",
       "      <td>0.667</td>\n",
       "      <td>0.191</td>\n",
       "      <td>0.142</td>\n",
       "      <td>0.409</td>\n",
       "      <td>0.591</td>\n",
       "      <td>0.523</td>\n",
       "      <td>0.477</td>\n",
       "    </tr>\n",
       "    <tr>\n",
       "      <th>15</th>\n",
       "      <td>21/10/2023</td>\n",
       "      <td>Nottingham Forest</td>\n",
       "      <td>Luton</td>\n",
       "      <td>0.453</td>\n",
       "      <td>0.255</td>\n",
       "      <td>0.292</td>\n",
       "      <td>0.501</td>\n",
       "      <td>0.499</td>\n",
       "      <td>0.535</td>\n",
       "      <td>0.465</td>\n",
       "    </tr>\n",
       "    <tr>\n",
       "      <th>16</th>\n",
       "      <td>21/10/2023</td>\n",
       "      <td>Chelsea</td>\n",
       "      <td>Arsenal</td>\n",
       "      <td>0.413</td>\n",
       "      <td>0.221</td>\n",
       "      <td>0.367</td>\n",
       "      <td>0.312</td>\n",
       "      <td>0.688</td>\n",
       "      <td>0.689</td>\n",
       "      <td>0.311</td>\n",
       "    </tr>\n",
       "    <tr>\n",
       "      <th>17</th>\n",
       "      <td>21/10/2023</td>\n",
       "      <td>Sheffield United</td>\n",
       "      <td>Manchester United</td>\n",
       "      <td>0.107</td>\n",
       "      <td>0.186</td>\n",
       "      <td>0.707</td>\n",
       "      <td>0.471</td>\n",
       "      <td>0.529</td>\n",
       "      <td>0.434</td>\n",
       "      <td>0.566</td>\n",
       "    </tr>\n",
       "    <tr>\n",
       "      <th>18</th>\n",
       "      <td>22/10/2023</td>\n",
       "      <td>Aston Villa</td>\n",
       "      <td>West Ham</td>\n",
       "      <td>0.547</td>\n",
       "      <td>0.216</td>\n",
       "      <td>0.237</td>\n",
       "      <td>0.368</td>\n",
       "      <td>0.632</td>\n",
       "      <td>0.619</td>\n",
       "      <td>0.381</td>\n",
       "    </tr>\n",
       "    <tr>\n",
       "      <th>19</th>\n",
       "      <td>23/10/2023</td>\n",
       "      <td>Tottenham</td>\n",
       "      <td>Fulham</td>\n",
       "      <td>0.734</td>\n",
       "      <td>0.151</td>\n",
       "      <td>0.116</td>\n",
       "      <td>0.272</td>\n",
       "      <td>0.728</td>\n",
       "      <td>0.602</td>\n",
       "      <td>0.398</td>\n",
       "    </tr>\n",
       "  </tbody>\n",
       "</table>\n",
       "</div>"
      ],
      "text/plain": [
       "          Date                    HTeam                    ATeam  P(Hwin)  \\\n",
       "0   07/10/2023                    Luton                Tottenham    0.153   \n",
       "1   07/10/2023                  Burnley                  Chelsea    0.177   \n",
       "2   07/10/2023                  Everton              Bournemouth    0.654   \n",
       "3   07/10/2023                   Fulham         Sheffield United    0.607   \n",
       "4   07/10/2023        Manchester United                Brentford    0.512   \n",
       "5   07/10/2023           Crystal Palace        Nottingham Forest    0.464   \n",
       "6   08/10/2023  Wolverhampton Wanderers              Aston Villa    0.169   \n",
       "7   08/10/2023                 Brighton                Liverpool    0.472   \n",
       "8   08/10/2023                 West Ham         Newcastle United    0.236   \n",
       "9   08/10/2023                  Arsenal          Manchester City    0.431   \n",
       "10  21/10/2023                Liverpool                  Everton    0.648   \n",
       "11  21/10/2023              Bournemouth  Wolverhampton Wanderers    0.381   \n",
       "12  21/10/2023         Newcastle United           Crystal Palace    0.631   \n",
       "13  21/10/2023          Manchester City                 Brighton    0.655   \n",
       "14  21/10/2023                Brentford                  Burnley    0.667   \n",
       "15  21/10/2023        Nottingham Forest                    Luton    0.453   \n",
       "16  21/10/2023                  Chelsea                  Arsenal    0.413   \n",
       "17  21/10/2023         Sheffield United        Manchester United    0.107   \n",
       "18  22/10/2023              Aston Villa                 West Ham    0.547   \n",
       "19  23/10/2023                Tottenham                   Fulham    0.734   \n",
       "\n",
       "    P(Draw)  P(Awin)  P(Under)  P(Over)  P(GG)  P(NG)  \n",
       "0     0.189    0.658     0.375    0.625  0.559  0.441  \n",
       "1     0.227    0.596     0.496    0.504  0.488  0.512  \n",
       "2     0.200    0.146     0.440    0.560  0.503  0.497  \n",
       "3     0.220    0.172     0.476    0.524  0.499  0.501  \n",
       "4     0.222    0.265     0.370    0.630  0.627  0.373  \n",
       "5     0.261    0.275     0.532    0.468  0.507  0.493  \n",
       "6     0.197    0.634     0.378    0.622  0.571  0.429  \n",
       "7     0.214    0.314     0.296    0.704  0.696  0.304  \n",
       "8     0.218    0.546     0.380    0.620  0.608  0.392  \n",
       "9     0.222    0.347     0.324    0.676  0.679  0.321  \n",
       "10    0.186    0.165     0.333    0.667  0.603  0.397  \n",
       "11    0.226    0.393     0.337    0.663  0.670  0.330  \n",
       "12    0.203    0.166     0.413    0.587  0.541  0.459  \n",
       "13    0.177    0.168     0.278    0.722  0.650  0.350  \n",
       "14    0.191    0.142     0.409    0.591  0.523  0.477  \n",
       "15    0.255    0.292     0.501    0.499  0.535  0.465  \n",
       "16    0.221    0.367     0.312    0.688  0.689  0.311  \n",
       "17    0.186    0.707     0.471    0.529  0.434  0.566  \n",
       "18    0.216    0.237     0.368    0.632  0.619  0.381  \n",
       "19    0.151    0.116     0.272    0.728  0.602  0.398  "
      ]
     },
     "metadata": {},
     "output_type": "display_data"
    },
    {
     "name": "stderr",
     "output_type": "stream",
     "text": [
      "/tmp/ipykernel_12288/2686805503.py:83: SettingWithCopyWarning: \n",
      "A value is trying to be set on a copy of a slice from a DataFrame\n",
      "\n",
      "See the caveats in the documentation: https://pandas.pydata.org/pandas-docs/stable/user_guide/indexing.html#returning-a-view-versus-a-copy\n",
      "  Final_Odds['Match'][i] = str(Final_Odds['HTeam'][i] + '-' + Final_Odds['ATeam'][i])\n",
      "/tmp/ipykernel_12288/2686805503.py:87: SettingWithCopyWarning: \n",
      "A value is trying to be set on a copy of a slice from a DataFrame\n",
      "\n",
      "See the caveats in the documentation: https://pandas.pydata.org/pandas-docs/stable/user_guide/indexing.html#returning-a-view-versus-a-copy\n",
      "  Final_Odds['P(Hwin)'][i] = 1/Final_Odds.iloc[i]['B365H']\n",
      "/tmp/ipykernel_12288/2686805503.py:88: SettingWithCopyWarning: \n",
      "A value is trying to be set on a copy of a slice from a DataFrame\n",
      "\n",
      "See the caveats in the documentation: https://pandas.pydata.org/pandas-docs/stable/user_guide/indexing.html#returning-a-view-versus-a-copy\n",
      "  Final_Odds['P(Awin)'][i] = 1/Final_Odds.iloc[i]['B365A']\n",
      "/tmp/ipykernel_12288/2686805503.py:89: SettingWithCopyWarning: \n",
      "A value is trying to be set on a copy of a slice from a DataFrame\n",
      "\n",
      "See the caveats in the documentation: https://pandas.pydata.org/pandas-docs/stable/user_guide/indexing.html#returning-a-view-versus-a-copy\n",
      "  Final_Odds['P(Draw)'][i] = 1/Final_Odds.iloc[i]['B365D']\n",
      "/tmp/ipykernel_12288/2686805503.py:90: SettingWithCopyWarning: \n",
      "A value is trying to be set on a copy of a slice from a DataFrame\n",
      "\n",
      "See the caveats in the documentation: https://pandas.pydata.org/pandas-docs/stable/user_guide/indexing.html#returning-a-view-versus-a-copy\n",
      "  Final_Odds['P(Over)'][i] = 1/Final_Odds.iloc[i]['BbAv>2.5']\n",
      "/tmp/ipykernel_12288/2686805503.py:91: SettingWithCopyWarning: \n",
      "A value is trying to be set on a copy of a slice from a DataFrame\n",
      "\n",
      "See the caveats in the documentation: https://pandas.pydata.org/pandas-docs/stable/user_guide/indexing.html#returning-a-view-versus-a-copy\n",
      "  Final_Odds['P(Under)'][i] = 1/Final_Odds.iloc[i]['BbAv<2.5']\n",
      "/tmp/ipykernel_12288/2686805503.py:92: SettingWithCopyWarning: \n",
      "A value is trying to be set on a copy of a slice from a DataFrame\n",
      "\n",
      "See the caveats in the documentation: https://pandas.pydata.org/pandas-docs/stable/user_guide/indexing.html#returning-a-view-versus-a-copy\n",
      "  Final_Odds['P(GG)'][i] = 1/Final_Odds.iloc[i]['GG']\n",
      "/tmp/ipykernel_12288/2686805503.py:93: SettingWithCopyWarning: \n",
      "A value is trying to be set on a copy of a slice from a DataFrame\n",
      "\n",
      "See the caveats in the documentation: https://pandas.pydata.org/pandas-docs/stable/user_guide/indexing.html#returning-a-view-versus-a-copy\n",
      "  Final_Odds['P(NG)'][i] = 1/Final_Odds.iloc[i]['NG']\n"
     ]
    },
    {
     "data": {
      "text/html": [
       "<div>\n",
       "<style scoped>\n",
       "    .dataframe tbody tr th:only-of-type {\n",
       "        vertical-align: middle;\n",
       "    }\n",
       "\n",
       "    .dataframe tbody tr th {\n",
       "        vertical-align: top;\n",
       "    }\n",
       "\n",
       "    .dataframe thead th {\n",
       "        text-align: right;\n",
       "    }\n",
       "</style>\n",
       "<table border=\"1\" class=\"dataframe\">\n",
       "  <thead>\n",
       "    <tr style=\"text-align: right;\">\n",
       "      <th></th>\n",
       "      <th>P(Hwin)</th>\n",
       "      <th>P(Draw)</th>\n",
       "      <th>P(Awin)</th>\n",
       "      <th>P(Under)</th>\n",
       "      <th>P(Over)</th>\n",
       "      <th>P(GG)</th>\n",
       "      <th>P(NG)</th>\n",
       "      <th>Type</th>\n",
       "      <th>Match</th>\n",
       "      <th>Date</th>\n",
       "    </tr>\n",
       "  </thead>\n",
       "  <tbody>\n",
       "    <tr>\n",
       "      <th>0</th>\n",
       "      <td>0.15</td>\n",
       "      <td>0.19</td>\n",
       "      <td>0.66</td>\n",
       "      <td>0.37</td>\n",
       "      <td>0.63</td>\n",
       "      <td>0.56</td>\n",
       "      <td>0.44</td>\n",
       "      <td>Predicted</td>\n",
       "      <td>Luton-Tottenham</td>\n",
       "      <td>07/10/2023</td>\n",
       "    </tr>\n",
       "    <tr>\n",
       "      <th>1</th>\n",
       "      <td>0.18</td>\n",
       "      <td>0.23</td>\n",
       "      <td>0.60</td>\n",
       "      <td>0.50</td>\n",
       "      <td>0.50</td>\n",
       "      <td>0.49</td>\n",
       "      <td>0.51</td>\n",
       "      <td>Predicted</td>\n",
       "      <td>Burnley-Chelsea</td>\n",
       "      <td>07/10/2023</td>\n",
       "    </tr>\n",
       "    <tr>\n",
       "      <th>2</th>\n",
       "      <td>0.65</td>\n",
       "      <td>0.20</td>\n",
       "      <td>0.15</td>\n",
       "      <td>0.44</td>\n",
       "      <td>0.56</td>\n",
       "      <td>0.50</td>\n",
       "      <td>0.50</td>\n",
       "      <td>Predicted</td>\n",
       "      <td>Everton-Bournemouth</td>\n",
       "      <td>07/10/2023</td>\n",
       "    </tr>\n",
       "    <tr>\n",
       "      <th>3</th>\n",
       "      <td>0.61</td>\n",
       "      <td>0.22</td>\n",
       "      <td>0.17</td>\n",
       "      <td>0.48</td>\n",
       "      <td>0.52</td>\n",
       "      <td>0.50</td>\n",
       "      <td>0.50</td>\n",
       "      <td>Predicted</td>\n",
       "      <td>Fulham-Sheffield United</td>\n",
       "      <td>07/10/2023</td>\n",
       "    </tr>\n",
       "    <tr>\n",
       "      <th>4</th>\n",
       "      <td>0.51</td>\n",
       "      <td>0.22</td>\n",
       "      <td>0.27</td>\n",
       "      <td>0.37</td>\n",
       "      <td>0.63</td>\n",
       "      <td>0.63</td>\n",
       "      <td>0.37</td>\n",
       "      <td>Predicted</td>\n",
       "      <td>Manchester United-Brentford</td>\n",
       "      <td>07/10/2023</td>\n",
       "    </tr>\n",
       "    <tr>\n",
       "      <th>5</th>\n",
       "      <td>0.46</td>\n",
       "      <td>0.26</td>\n",
       "      <td>0.28</td>\n",
       "      <td>0.53</td>\n",
       "      <td>0.47</td>\n",
       "      <td>0.51</td>\n",
       "      <td>0.49</td>\n",
       "      <td>Predicted</td>\n",
       "      <td>Crystal Palace-Nottingham Forest</td>\n",
       "      <td>07/10/2023</td>\n",
       "    </tr>\n",
       "    <tr>\n",
       "      <th>6</th>\n",
       "      <td>0.17</td>\n",
       "      <td>0.20</td>\n",
       "      <td>0.63</td>\n",
       "      <td>0.38</td>\n",
       "      <td>0.62</td>\n",
       "      <td>0.57</td>\n",
       "      <td>0.43</td>\n",
       "      <td>Predicted</td>\n",
       "      <td>Wolverhampton Wanderers-Aston Villa</td>\n",
       "      <td>08/10/2023</td>\n",
       "    </tr>\n",
       "    <tr>\n",
       "      <th>7</th>\n",
       "      <td>0.47</td>\n",
       "      <td>0.21</td>\n",
       "      <td>0.31</td>\n",
       "      <td>0.30</td>\n",
       "      <td>0.70</td>\n",
       "      <td>0.70</td>\n",
       "      <td>0.30</td>\n",
       "      <td>Predicted</td>\n",
       "      <td>Brighton-Liverpool</td>\n",
       "      <td>08/10/2023</td>\n",
       "    </tr>\n",
       "    <tr>\n",
       "      <th>8</th>\n",
       "      <td>0.24</td>\n",
       "      <td>0.22</td>\n",
       "      <td>0.55</td>\n",
       "      <td>0.38</td>\n",
       "      <td>0.62</td>\n",
       "      <td>0.61</td>\n",
       "      <td>0.39</td>\n",
       "      <td>Predicted</td>\n",
       "      <td>West Ham-Newcastle United</td>\n",
       "      <td>08/10/2023</td>\n",
       "    </tr>\n",
       "    <tr>\n",
       "      <th>9</th>\n",
       "      <td>0.43</td>\n",
       "      <td>0.22</td>\n",
       "      <td>0.35</td>\n",
       "      <td>0.32</td>\n",
       "      <td>0.68</td>\n",
       "      <td>0.68</td>\n",
       "      <td>0.32</td>\n",
       "      <td>Predicted</td>\n",
       "      <td>Arsenal-Manchester City</td>\n",
       "      <td>08/10/2023</td>\n",
       "    </tr>\n",
       "    <tr>\n",
       "      <th>10</th>\n",
       "      <td>0.65</td>\n",
       "      <td>0.19</td>\n",
       "      <td>0.17</td>\n",
       "      <td>0.33</td>\n",
       "      <td>0.67</td>\n",
       "      <td>0.60</td>\n",
       "      <td>0.40</td>\n",
       "      <td>Predicted</td>\n",
       "      <td>Liverpool-Everton</td>\n",
       "      <td>21/10/2023</td>\n",
       "    </tr>\n",
       "    <tr>\n",
       "      <th>11</th>\n",
       "      <td>0.38</td>\n",
       "      <td>0.23</td>\n",
       "      <td>0.39</td>\n",
       "      <td>0.34</td>\n",
       "      <td>0.66</td>\n",
       "      <td>0.67</td>\n",
       "      <td>0.33</td>\n",
       "      <td>Predicted</td>\n",
       "      <td>Bournemouth-Wolverhampton Wanderers</td>\n",
       "      <td>21/10/2023</td>\n",
       "    </tr>\n",
       "    <tr>\n",
       "      <th>12</th>\n",
       "      <td>0.63</td>\n",
       "      <td>0.20</td>\n",
       "      <td>0.17</td>\n",
       "      <td>0.41</td>\n",
       "      <td>0.59</td>\n",
       "      <td>0.54</td>\n",
       "      <td>0.46</td>\n",
       "      <td>Predicted</td>\n",
       "      <td>Newcastle United-Crystal Palace</td>\n",
       "      <td>21/10/2023</td>\n",
       "    </tr>\n",
       "    <tr>\n",
       "      <th>13</th>\n",
       "      <td>0.65</td>\n",
       "      <td>0.18</td>\n",
       "      <td>0.17</td>\n",
       "      <td>0.28</td>\n",
       "      <td>0.72</td>\n",
       "      <td>0.65</td>\n",
       "      <td>0.35</td>\n",
       "      <td>Predicted</td>\n",
       "      <td>Manchester City-Brighton</td>\n",
       "      <td>21/10/2023</td>\n",
       "    </tr>\n",
       "    <tr>\n",
       "      <th>14</th>\n",
       "      <td>0.67</td>\n",
       "      <td>0.19</td>\n",
       "      <td>0.14</td>\n",
       "      <td>0.41</td>\n",
       "      <td>0.59</td>\n",
       "      <td>0.52</td>\n",
       "      <td>0.48</td>\n",
       "      <td>Predicted</td>\n",
       "      <td>Brentford-Burnley</td>\n",
       "      <td>21/10/2023</td>\n",
       "    </tr>\n",
       "    <tr>\n",
       "      <th>15</th>\n",
       "      <td>0.45</td>\n",
       "      <td>0.26</td>\n",
       "      <td>0.29</td>\n",
       "      <td>0.50</td>\n",
       "      <td>0.50</td>\n",
       "      <td>0.53</td>\n",
       "      <td>0.47</td>\n",
       "      <td>Predicted</td>\n",
       "      <td>Nottingham Forest-Luton</td>\n",
       "      <td>21/10/2023</td>\n",
       "    </tr>\n",
       "    <tr>\n",
       "      <th>16</th>\n",
       "      <td>0.41</td>\n",
       "      <td>0.22</td>\n",
       "      <td>0.37</td>\n",
       "      <td>0.31</td>\n",
       "      <td>0.69</td>\n",
       "      <td>0.69</td>\n",
       "      <td>0.31</td>\n",
       "      <td>Predicted</td>\n",
       "      <td>Chelsea-Arsenal</td>\n",
       "      <td>21/10/2023</td>\n",
       "    </tr>\n",
       "    <tr>\n",
       "      <th>17</th>\n",
       "      <td>0.11</td>\n",
       "      <td>0.19</td>\n",
       "      <td>0.71</td>\n",
       "      <td>0.47</td>\n",
       "      <td>0.53</td>\n",
       "      <td>0.43</td>\n",
       "      <td>0.57</td>\n",
       "      <td>Predicted</td>\n",
       "      <td>Sheffield United-Manchester United</td>\n",
       "      <td>21/10/2023</td>\n",
       "    </tr>\n",
       "    <tr>\n",
       "      <th>18</th>\n",
       "      <td>0.55</td>\n",
       "      <td>0.22</td>\n",
       "      <td>0.24</td>\n",
       "      <td>0.37</td>\n",
       "      <td>0.63</td>\n",
       "      <td>0.62</td>\n",
       "      <td>0.38</td>\n",
       "      <td>Predicted</td>\n",
       "      <td>Aston Villa-West Ham</td>\n",
       "      <td>22/10/2023</td>\n",
       "    </tr>\n",
       "    <tr>\n",
       "      <th>19</th>\n",
       "      <td>0.73</td>\n",
       "      <td>0.15</td>\n",
       "      <td>0.12</td>\n",
       "      <td>0.27</td>\n",
       "      <td>0.73</td>\n",
       "      <td>0.60</td>\n",
       "      <td>0.40</td>\n",
       "      <td>Predicted</td>\n",
       "      <td>Tottenham-Fulham</td>\n",
       "      <td>23/10/2023</td>\n",
       "    </tr>\n",
       "    <tr>\n",
       "      <th>20</th>\n",
       "      <td>0.15</td>\n",
       "      <td>0.22</td>\n",
       "      <td>0.68</td>\n",
       "      <td>0.42</td>\n",
       "      <td>0.62</td>\n",
       "      <td>0.58</td>\n",
       "      <td>0.49</td>\n",
       "      <td>Bookmaker</td>\n",
       "      <td>Luton-Tottenham</td>\n",
       "      <td>NaN</td>\n",
       "    </tr>\n",
       "    <tr>\n",
       "      <th>21</th>\n",
       "      <td>0.21</td>\n",
       "      <td>0.25</td>\n",
       "      <td>0.59</td>\n",
       "      <td>0.49</td>\n",
       "      <td>0.56</td>\n",
       "      <td>0.57</td>\n",
       "      <td>0.50</td>\n",
       "      <td>Bookmaker</td>\n",
       "      <td>Burnley-Chelsea</td>\n",
       "      <td>NaN</td>\n",
       "    </tr>\n",
       "    <tr>\n",
       "      <th>22</th>\n",
       "      <td>0.51</td>\n",
       "      <td>0.27</td>\n",
       "      <td>0.27</td>\n",
       "      <td>0.51</td>\n",
       "      <td>0.54</td>\n",
       "      <td>0.57</td>\n",
       "      <td>0.50</td>\n",
       "      <td>Bookmaker</td>\n",
       "      <td>Everton-Bournemouth</td>\n",
       "      <td>NaN</td>\n",
       "    </tr>\n",
       "    <tr>\n",
       "      <th>23</th>\n",
       "      <td>0.61</td>\n",
       "      <td>0.25</td>\n",
       "      <td>0.20</td>\n",
       "      <td>0.54</td>\n",
       "      <td>0.51</td>\n",
       "      <td>0.51</td>\n",
       "      <td>0.56</td>\n",
       "      <td>Bookmaker</td>\n",
       "      <td>Fulham-Sheffield United</td>\n",
       "      <td>NaN</td>\n",
       "    </tr>\n",
       "    <tr>\n",
       "      <th>24</th>\n",
       "      <td>0.59</td>\n",
       "      <td>0.24</td>\n",
       "      <td>0.22</td>\n",
       "      <td>0.46</td>\n",
       "      <td>0.59</td>\n",
       "      <td>0.61</td>\n",
       "      <td>0.47</td>\n",
       "      <td>Bookmaker</td>\n",
       "      <td>Manchester United-Brentford</td>\n",
       "      <td>NaN</td>\n",
       "    </tr>\n",
       "    <tr>\n",
       "      <th>25</th>\n",
       "      <td>0.45</td>\n",
       "      <td>0.31</td>\n",
       "      <td>0.29</td>\n",
       "      <td>0.61</td>\n",
       "      <td>0.44</td>\n",
       "      <td>0.52</td>\n",
       "      <td>0.55</td>\n",
       "      <td>Bookmaker</td>\n",
       "      <td>Crystal Palace-Nottingham Forest</td>\n",
       "      <td>NaN</td>\n",
       "    </tr>\n",
       "    <tr>\n",
       "      <th>26</th>\n",
       "      <td>0.29</td>\n",
       "      <td>0.28</td>\n",
       "      <td>0.48</td>\n",
       "      <td>0.50</td>\n",
       "      <td>0.55</td>\n",
       "      <td>0.61</td>\n",
       "      <td>0.47</td>\n",
       "      <td>Bookmaker</td>\n",
       "      <td>Wolverhampton Wanderers-Aston Villa</td>\n",
       "      <td>NaN</td>\n",
       "    </tr>\n",
       "    <tr>\n",
       "      <th>27</th>\n",
       "      <td>0.34</td>\n",
       "      <td>0.25</td>\n",
       "      <td>0.45</td>\n",
       "      <td>0.52</td>\n",
       "      <td>0.53</td>\n",
       "      <td>0.75</td>\n",
       "      <td>0.32</td>\n",
       "      <td>Bookmaker</td>\n",
       "      <td>Brighton-Liverpool</td>\n",
       "      <td>NaN</td>\n",
       "    </tr>\n",
       "    <tr>\n",
       "      <th>28</th>\n",
       "      <td>0.31</td>\n",
       "      <td>0.27</td>\n",
       "      <td>0.47</td>\n",
       "      <td>0.47</td>\n",
       "      <td>0.58</td>\n",
       "      <td>0.62</td>\n",
       "      <td>0.44</td>\n",
       "      <td>Bookmaker</td>\n",
       "      <td>West Ham-Newcastle United</td>\n",
       "      <td>NaN</td>\n",
       "    </tr>\n",
       "    <tr>\n",
       "      <th>29</th>\n",
       "      <td>0.34</td>\n",
       "      <td>0.29</td>\n",
       "      <td>0.42</td>\n",
       "      <td>0.51</td>\n",
       "      <td>0.55</td>\n",
       "      <td>0.61</td>\n",
       "      <td>0.47</td>\n",
       "      <td>Bookmaker</td>\n",
       "      <td>Arsenal-Manchester City</td>\n",
       "      <td>NaN</td>\n",
       "    </tr>\n",
       "    <tr>\n",
       "      <th>30</th>\n",
       "      <td>0.72</td>\n",
       "      <td>0.19</td>\n",
       "      <td>0.14</td>\n",
       "      <td>0.55</td>\n",
       "      <td>0.50</td>\n",
       "      <td>0.62</td>\n",
       "      <td>0.44</td>\n",
       "      <td>Bookmaker</td>\n",
       "      <td>Liverpool-Everton</td>\n",
       "      <td>NaN</td>\n",
       "    </tr>\n",
       "    <tr>\n",
       "      <th>31</th>\n",
       "      <td>0.42</td>\n",
       "      <td>0.28</td>\n",
       "      <td>0.35</td>\n",
       "      <td>0.50</td>\n",
       "      <td>0.55</td>\n",
       "      <td>0.61</td>\n",
       "      <td>0.47</td>\n",
       "      <td>Bookmaker</td>\n",
       "      <td>Bournemouth-Wolverhampton Wanderers</td>\n",
       "      <td>NaN</td>\n",
       "    </tr>\n",
       "    <tr>\n",
       "      <th>32</th>\n",
       "      <td>0.68</td>\n",
       "      <td>0.23</td>\n",
       "      <td>0.14</td>\n",
       "      <td>0.50</td>\n",
       "      <td>0.56</td>\n",
       "      <td>0.52</td>\n",
       "      <td>0.56</td>\n",
       "      <td>Bookmaker</td>\n",
       "      <td>Newcastle United-Crystal Palace</td>\n",
       "      <td>NaN</td>\n",
       "    </tr>\n",
       "    <tr>\n",
       "      <th>33</th>\n",
       "      <td>0.70</td>\n",
       "      <td>0.20</td>\n",
       "      <td>0.15</td>\n",
       "      <td>0.52</td>\n",
       "      <td>0.53</td>\n",
       "      <td>0.67</td>\n",
       "      <td>0.40</td>\n",
       "      <td>Bookmaker</td>\n",
       "      <td>Manchester City-Brighton</td>\n",
       "      <td>NaN</td>\n",
       "    </tr>\n",
       "    <tr>\n",
       "      <th>34</th>\n",
       "      <td>0.55</td>\n",
       "      <td>0.27</td>\n",
       "      <td>0.23</td>\n",
       "      <td>0.52</td>\n",
       "      <td>0.53</td>\n",
       "      <td>0.56</td>\n",
       "      <td>0.51</td>\n",
       "      <td>Bookmaker</td>\n",
       "      <td>Brentford-Burnley</td>\n",
       "      <td>NaN</td>\n",
       "    </tr>\n",
       "    <tr>\n",
       "      <th>35</th>\n",
       "      <td>0.56</td>\n",
       "      <td>0.27</td>\n",
       "      <td>0.22</td>\n",
       "      <td>0.56</td>\n",
       "      <td>0.50</td>\n",
       "      <td>0.52</td>\n",
       "      <td>0.55</td>\n",
       "      <td>Bookmaker</td>\n",
       "      <td>Nottingham Forest-Luton</td>\n",
       "      <td>NaN</td>\n",
       "    </tr>\n",
       "    <tr>\n",
       "      <th>36</th>\n",
       "      <td>0.29</td>\n",
       "      <td>0.28</td>\n",
       "      <td>0.48</td>\n",
       "      <td>0.48</td>\n",
       "      <td>0.57</td>\n",
       "      <td>0.62</td>\n",
       "      <td>0.45</td>\n",
       "      <td>Bookmaker</td>\n",
       "      <td>Chelsea-Arsenal</td>\n",
       "      <td>NaN</td>\n",
       "    </tr>\n",
       "    <tr>\n",
       "      <th>37</th>\n",
       "      <td>0.17</td>\n",
       "      <td>0.23</td>\n",
       "      <td>0.65</td>\n",
       "      <td>0.43</td>\n",
       "      <td>0.62</td>\n",
       "      <td>0.61</td>\n",
       "      <td>0.47</td>\n",
       "      <td>Bookmaker</td>\n",
       "      <td>Sheffield United-Manchester United</td>\n",
       "      <td>NaN</td>\n",
       "    </tr>\n",
       "    <tr>\n",
       "      <th>38</th>\n",
       "      <td>0.52</td>\n",
       "      <td>0.27</td>\n",
       "      <td>0.27</td>\n",
       "      <td>0.43</td>\n",
       "      <td>0.62</td>\n",
       "      <td>0.65</td>\n",
       "      <td>0.43</td>\n",
       "      <td>Bookmaker</td>\n",
       "      <td>Aston Villa-West Ham</td>\n",
       "      <td>NaN</td>\n",
       "    </tr>\n",
       "    <tr>\n",
       "      <th>39</th>\n",
       "      <td>0.65</td>\n",
       "      <td>0.24</td>\n",
       "      <td>0.17</td>\n",
       "      <td>0.62</td>\n",
       "      <td>0.42</td>\n",
       "      <td>0.62</td>\n",
       "      <td>0.45</td>\n",
       "      <td>Bookmaker</td>\n",
       "      <td>Tottenham-Fulham</td>\n",
       "      <td>NaN</td>\n",
       "    </tr>\n",
       "  </tbody>\n",
       "</table>\n",
       "</div>"
      ],
      "text/plain": [
       "    P(Hwin)  P(Draw)  P(Awin)  P(Under)  P(Over)  P(GG)  P(NG)       Type  \\\n",
       "0      0.15     0.19     0.66      0.37     0.63   0.56   0.44  Predicted   \n",
       "1      0.18     0.23     0.60      0.50     0.50   0.49   0.51  Predicted   \n",
       "2      0.65     0.20     0.15      0.44     0.56   0.50   0.50  Predicted   \n",
       "3      0.61     0.22     0.17      0.48     0.52   0.50   0.50  Predicted   \n",
       "4      0.51     0.22     0.27      0.37     0.63   0.63   0.37  Predicted   \n",
       "5      0.46     0.26     0.28      0.53     0.47   0.51   0.49  Predicted   \n",
       "6      0.17     0.20     0.63      0.38     0.62   0.57   0.43  Predicted   \n",
       "7      0.47     0.21     0.31      0.30     0.70   0.70   0.30  Predicted   \n",
       "8      0.24     0.22     0.55      0.38     0.62   0.61   0.39  Predicted   \n",
       "9      0.43     0.22     0.35      0.32     0.68   0.68   0.32  Predicted   \n",
       "10     0.65     0.19     0.17      0.33     0.67   0.60   0.40  Predicted   \n",
       "11     0.38     0.23     0.39      0.34     0.66   0.67   0.33  Predicted   \n",
       "12     0.63     0.20     0.17      0.41     0.59   0.54   0.46  Predicted   \n",
       "13     0.65     0.18     0.17      0.28     0.72   0.65   0.35  Predicted   \n",
       "14     0.67     0.19     0.14      0.41     0.59   0.52   0.48  Predicted   \n",
       "15     0.45     0.26     0.29      0.50     0.50   0.53   0.47  Predicted   \n",
       "16     0.41     0.22     0.37      0.31     0.69   0.69   0.31  Predicted   \n",
       "17     0.11     0.19     0.71      0.47     0.53   0.43   0.57  Predicted   \n",
       "18     0.55     0.22     0.24      0.37     0.63   0.62   0.38  Predicted   \n",
       "19     0.73     0.15     0.12      0.27     0.73   0.60   0.40  Predicted   \n",
       "20     0.15     0.22     0.68      0.42     0.62   0.58   0.49  Bookmaker   \n",
       "21     0.21     0.25     0.59      0.49     0.56   0.57   0.50  Bookmaker   \n",
       "22     0.51     0.27     0.27      0.51     0.54   0.57   0.50  Bookmaker   \n",
       "23     0.61     0.25     0.20      0.54     0.51   0.51   0.56  Bookmaker   \n",
       "24     0.59     0.24     0.22      0.46     0.59   0.61   0.47  Bookmaker   \n",
       "25     0.45     0.31     0.29      0.61     0.44   0.52   0.55  Bookmaker   \n",
       "26     0.29     0.28     0.48      0.50     0.55   0.61   0.47  Bookmaker   \n",
       "27     0.34     0.25     0.45      0.52     0.53   0.75   0.32  Bookmaker   \n",
       "28     0.31     0.27     0.47      0.47     0.58   0.62   0.44  Bookmaker   \n",
       "29     0.34     0.29     0.42      0.51     0.55   0.61   0.47  Bookmaker   \n",
       "30     0.72     0.19     0.14      0.55     0.50   0.62   0.44  Bookmaker   \n",
       "31     0.42     0.28     0.35      0.50     0.55   0.61   0.47  Bookmaker   \n",
       "32     0.68     0.23     0.14      0.50     0.56   0.52   0.56  Bookmaker   \n",
       "33     0.70     0.20     0.15      0.52     0.53   0.67   0.40  Bookmaker   \n",
       "34     0.55     0.27     0.23      0.52     0.53   0.56   0.51  Bookmaker   \n",
       "35     0.56     0.27     0.22      0.56     0.50   0.52   0.55  Bookmaker   \n",
       "36     0.29     0.28     0.48      0.48     0.57   0.62   0.45  Bookmaker   \n",
       "37     0.17     0.23     0.65      0.43     0.62   0.61   0.47  Bookmaker   \n",
       "38     0.52     0.27     0.27      0.43     0.62   0.65   0.43  Bookmaker   \n",
       "39     0.65     0.24     0.17      0.62     0.42   0.62   0.45  Bookmaker   \n",
       "\n",
       "                                  Match        Date  \n",
       "0                       Luton-Tottenham  07/10/2023  \n",
       "1                       Burnley-Chelsea  07/10/2023  \n",
       "2                   Everton-Bournemouth  07/10/2023  \n",
       "3               Fulham-Sheffield United  07/10/2023  \n",
       "4           Manchester United-Brentford  07/10/2023  \n",
       "5      Crystal Palace-Nottingham Forest  07/10/2023  \n",
       "6   Wolverhampton Wanderers-Aston Villa  08/10/2023  \n",
       "7                    Brighton-Liverpool  08/10/2023  \n",
       "8             West Ham-Newcastle United  08/10/2023  \n",
       "9               Arsenal-Manchester City  08/10/2023  \n",
       "10                    Liverpool-Everton  21/10/2023  \n",
       "11  Bournemouth-Wolverhampton Wanderers  21/10/2023  \n",
       "12      Newcastle United-Crystal Palace  21/10/2023  \n",
       "13             Manchester City-Brighton  21/10/2023  \n",
       "14                    Brentford-Burnley  21/10/2023  \n",
       "15              Nottingham Forest-Luton  21/10/2023  \n",
       "16                      Chelsea-Arsenal  21/10/2023  \n",
       "17   Sheffield United-Manchester United  21/10/2023  \n",
       "18                 Aston Villa-West Ham  22/10/2023  \n",
       "19                     Tottenham-Fulham  23/10/2023  \n",
       "20                      Luton-Tottenham         NaN  \n",
       "21                      Burnley-Chelsea         NaN  \n",
       "22                  Everton-Bournemouth         NaN  \n",
       "23              Fulham-Sheffield United         NaN  \n",
       "24          Manchester United-Brentford         NaN  \n",
       "25     Crystal Palace-Nottingham Forest         NaN  \n",
       "26  Wolverhampton Wanderers-Aston Villa         NaN  \n",
       "27                   Brighton-Liverpool         NaN  \n",
       "28            West Ham-Newcastle United         NaN  \n",
       "29              Arsenal-Manchester City         NaN  \n",
       "30                    Liverpool-Everton         NaN  \n",
       "31  Bournemouth-Wolverhampton Wanderers         NaN  \n",
       "32      Newcastle United-Crystal Palace         NaN  \n",
       "33             Manchester City-Brighton         NaN  \n",
       "34                    Brentford-Burnley         NaN  \n",
       "35              Nottingham Forest-Luton         NaN  \n",
       "36                      Chelsea-Arsenal         NaN  \n",
       "37   Sheffield United-Manchester United         NaN  \n",
       "38                 Aston Villa-West Ham         NaN  \n",
       "39                     Tottenham-Fulham         NaN  "
      ]
     },
     "metadata": {},
     "output_type": "display_data"
    }
   ],
   "source": [
    "k = range(12)\n",
    "PH = np.zeros((len(k), 1))\n",
    "PA = np.zeros((1, len(k)))\n",
    "PRED['P(Hwin)']= np.nan\n",
    "PRED['P(Awin)']= np.nan\n",
    "PRED['P(Draw)']= np.nan\n",
    "PRED['P(Over)']= np.nan\n",
    "PRED['P(Under)']= np.nan\n",
    "PRED['P(GG)']=np.nan\n",
    "PRED['P(NG)']=np.nan\n",
    "\n",
    "Pie_list = []\n",
    "for j, l in enumerate(LamdaHome):\n",
    "    for i in k:\n",
    "        PH[i, 0] = (math.exp(-l)*l**k[i]) /math.factorial(k[i])\n",
    "        PA[0, i] = (math.exp(-LamdaAway[j])*LamdaAway[j]**k[i]) /math.factorial(k[i])\n",
    "    Pscore = np.matmul(PH, PA) \n",
    "    df = pd.DataFrame(Pscore, columns = ['0','1','2', '3', '4', '5', '6', '7', '8', '9', '10', '11'])\n",
    "    PRED.loc[j,'P(Awin)'], PRED.loc[j,'P(Hwin)'], PRED.loc[j,'P(Draw)'], PRED.loc[j,'P(Over)'], PRED.loc[j,'P(Under)'], PRED.loc[j,'P(NG)'], PRED.loc[j,'P(GG)']  = sum_of_lower_upper(Pscore)\n",
    "    PRED['P(Over)'] = 1 - PRED['P(Under)']\n",
    "    df = df.iloc[0:5, 0:5]\n",
    "    pd.set_option('display.float_format', lambda x: '%.3f' % x)\n",
    "    \n",
    "    G = []\n",
    "    for i in range(0, 5):\n",
    "        for j in range(0, 5):\n",
    "            G.append(df.loc[i][j])\n",
    "\n",
    "            \n",
    "    Pie_Df = pd.DataFrame(G, columns = ['P(score)'])\n",
    "    Pie_Df['score']= ['0 - 0',\n",
    "                      '0 - 1',\n",
    "                      '0 - 2',\n",
    "                      '0 - 3',\n",
    "                      '0 - 4',\n",
    "                      '1 - 0',\n",
    "                      '1 - 1',\n",
    "                      '1 - 2',\n",
    "                      '1 - 3',\n",
    "                      '1 - 4',\n",
    "                      '2 - 0',\n",
    "                      '2 - 1',\n",
    "                      '2 - 2',\n",
    "                      '2 - 3',\n",
    "                      '2 - 4',\n",
    "                      '3 - 0',\n",
    "                      '3 - 1',\n",
    "                      '3 - 2',\n",
    "                      '3 - 3',\n",
    "                      '3 - 4',\n",
    "                      '4 - 0',\n",
    "                      '4 - 1',\n",
    "                      '4 - 2',\n",
    "                      '4 - 3',\n",
    "                      '4 - 4']\n",
    "    Pie_Df.loc[Pie_Df[\"P(score)\"] < 0.02, \"score\"] = 'Other'\n",
    "    Pie_Df = Pie_Df.sort_values(by=['P(score)'], ascending=False)\n",
    "    Pie_list.append(Pie_Df)\n",
    "    \n",
    "\n",
    "PRED = PRED[['Date', 'HTeam', 'ATeam', 'P(Hwin)', 'P(Draw)', 'P(Awin)', 'P(Under)', 'P(Over)', 'P(GG)', 'P(NG)']]\n",
    "with pd.option_context('display.max_rows', None, 'display.max_columns', None):  # more options can be specified also\n",
    "    display(PRED)\n",
    "\n",
    "pd.options.display.float_format = '{:.2f}'.format\n",
    "disp_pred = PRED.copy()\n",
    "disp_pred.rename(columns = {'ATeam':'Away Team'}, inplace = True)\n",
    "disp_pred.rename(columns = {'HTeam':'Home Team'}, inplace = True)\n",
    "html_table_blue_light = build_table(disp_pred, 'blue_light')\n",
    "\n",
    "# Save to html file\n",
    "with open('UpcomingMatchesPrediction.html', 'w') as f:\n",
    "    f.write(html_table_blue_light)\n",
    "\n",
    "Final_Odds = pd.concat([PRED, Odds], axis=0)\n",
    "Final_Odds['Type'] = np.nan\n",
    "Final_Odds['Match'] = np.nan\n",
    "Final_Odds = Final_Odds.reset_index(drop = 'True')\n",
    "Final_Odds.loc[Final_Odds['B365H'].isnull(), 'Type'] = 'Predicted'\n",
    "Final_Odds.loc[Final_Odds['P(Hwin)'].isnull(), 'Type'] = 'Bookmaker'\n",
    "\n",
    "for i, x in enumerate(Final_Odds['Match']):\n",
    "    Final_Odds['Match'][i] = str(Final_Odds['HTeam'][i] + '-' + Final_Odds['ATeam'][i])\n",
    "\n",
    "li  = Final_Odds.index[Final_Odds['Type'] == 'Bookmaker'].tolist()\n",
    "for i in li:\n",
    "    Final_Odds['P(Hwin)'][i] = 1/Final_Odds.iloc[i]['B365H']\n",
    "    Final_Odds['P(Awin)'][i] = 1/Final_Odds.iloc[i]['B365A']\n",
    "    Final_Odds['P(Draw)'][i] = 1/Final_Odds.iloc[i]['B365D']\n",
    "    Final_Odds['P(Over)'][i] = 1/Final_Odds.iloc[i]['BbAv>2.5']\n",
    "    Final_Odds['P(Under)'][i] = 1/Final_Odds.iloc[i]['BbAv<2.5']\n",
    "    Final_Odds['P(GG)'][i] = 1/Final_Odds.iloc[i]['GG']\n",
    "    Final_Odds['P(NG)'][i] = 1/Final_Odds.iloc[i]['NG']\n",
    "\n",
    "Final_Odds = Final_Odds[['P(Hwin)', 'P(Draw)', 'P(Awin)', 'P(Under)', 'P(Over)', 'P(GG)', 'P(NG)', 'Type', 'Match', 'Date']].copy()\n",
    "\n",
    "with pd.option_context('display.max_rows', None, 'display.max_columns', None):  # more options can be specified also\n",
    "    display(Final_Odds)\n",
    "\n",
    "    "
   ]
  },
  {
   "cell_type": "code",
   "execution_count": 6,
   "metadata": {},
   "outputs": [
    {
     "data": {
      "application/vnd.plotly.v1+json": {
       "config": {
        "plotlyServerURL": "https://plot.ly"
       },
       "data": [
        {
         "marker": {
          "color": "rgb(141,211,199)"
         },
         "name": "Predicted Home Win",
         "type": "bar",
         "x": [
          "Luton-Tottenham",
          "Burnley-Chelsea",
          "Everton-Bournemouth",
          "Fulham-Sheffield United",
          "Manchester United-Brentford",
          "Crystal Palace-Nottingham Forest",
          "Wolverhampton Wanderers-Aston Villa",
          "Brighton-Liverpool",
          "West Ham-Newcastle United",
          "Arsenal-Manchester City",
          "Liverpool-Everton",
          "Bournemouth-Wolverhampton Wanderers",
          "Newcastle United-Crystal Palace",
          "Manchester City-Brighton",
          "Brentford-Burnley",
          "Nottingham Forest-Luton",
          "Chelsea-Arsenal",
          "Sheffield United-Manchester United",
          "Aston Villa-West Ham",
          "Tottenham-Fulham"
         ],
         "xaxis": "x",
         "y": [
          0.15262876537788317,
          0.1771319184403441,
          0.6542085528943032,
          0.6073951265698079,
          0.5122834607606872,
          0.4640761231626728,
          0.16931490752352904,
          0.472427829689319,
          0.23583132886834166,
          0.4309091294587552,
          0.6484532471364394,
          0.38093125609164813,
          0.6310651054614458,
          0.6549816866736875,
          0.6665534602735664,
          0.4526899818461619,
          0.4125970433234088,
          0.10697327634384984,
          0.546709885336973,
          0.7338486326217287
         ],
         "yaxis": "y"
        },
        {
         "marker": {
          "color": "rgb(82, 106, 131)"
         },
         "name": "Bookmaker Home Win",
         "type": "bar",
         "x": [
          "Luton-Tottenham",
          "Burnley-Chelsea",
          "Everton-Bournemouth",
          "Fulham-Sheffield United",
          "Manchester United-Brentford",
          "Crystal Palace-Nottingham Forest",
          "Wolverhampton Wanderers-Aston Villa",
          "Brighton-Liverpool",
          "West Ham-Newcastle United",
          "Arsenal-Manchester City",
          "Liverpool-Everton",
          "Bournemouth-Wolverhampton Wanderers",
          "Newcastle United-Crystal Palace",
          "Manchester City-Brighton",
          "Brentford-Burnley",
          "Nottingham Forest-Luton",
          "Chelsea-Arsenal",
          "Sheffield United-Manchester United",
          "Aston Villa-West Ham",
          "Tottenham-Fulham"
         ],
         "xaxis": "x",
         "y": [
          0.14925373134328357,
          0.21052631578947367,
          0.5128205128205129,
          0.6060606060606061,
          0.5882352941176471,
          0.45454545454545453,
          0.29411764705882354,
          0.3424657534246575,
          0.3125,
          0.3389830508474576,
          0.7246376811594204,
          0.4166666666666667,
          0.6802721088435374,
          0.7042253521126761,
          0.5494505494505494,
          0.5617977528089888,
          0.29411764705882354,
          0.1694915254237288,
          0.5181347150259068,
          0.6451612903225806
         ],
         "yaxis": "y"
        },
        {
         "marker": {
          "color": "rgb(141,211,199)"
         },
         "name": "Predicted Draw",
         "type": "bar",
         "x": [
          "Luton-Tottenham",
          "Burnley-Chelsea",
          "Everton-Bournemouth",
          "Fulham-Sheffield United",
          "Manchester United-Brentford",
          "Crystal Palace-Nottingham Forest",
          "Wolverhampton Wanderers-Aston Villa",
          "Brighton-Liverpool",
          "West Ham-Newcastle United",
          "Arsenal-Manchester City",
          "Liverpool-Everton",
          "Bournemouth-Wolverhampton Wanderers",
          "Newcastle United-Crystal Palace",
          "Manchester City-Brighton",
          "Brentford-Burnley",
          "Nottingham Forest-Luton",
          "Chelsea-Arsenal",
          "Sheffield United-Manchester United",
          "Aston Villa-West Ham",
          "Tottenham-Fulham"
         ],
         "xaxis": "x",
         "y": [
          0.18927681869312343,
          0.22669127798030772,
          0.2001622291539684,
          0.22012382594069166,
          0.22227939114974413,
          0.26066620536592267,
          0.19697454056802224,
          0.21406822082644933,
          0.21824673112930595,
          0.22219577166345067,
          0.18616825031100423,
          0.2258272867006267,
          0.20309408047729868,
          0.1765346807336237,
          0.19149303528760195,
          0.2553015973886292,
          0.22073442786679742,
          0.18607949752951208,
          0.21599825439927645,
          0.15050378963596375
         ],
         "yaxis": "y"
        },
        {
         "marker": {
          "color": "rgb(82, 106, 131)"
         },
         "name": "Bookmaker Draw",
         "type": "bar",
         "x": [
          "Luton-Tottenham",
          "Burnley-Chelsea",
          "Everton-Bournemouth",
          "Fulham-Sheffield United",
          "Manchester United-Brentford",
          "Crystal Palace-Nottingham Forest",
          "Wolverhampton Wanderers-Aston Villa",
          "Brighton-Liverpool",
          "West Ham-Newcastle United",
          "Arsenal-Manchester City",
          "Liverpool-Everton",
          "Bournemouth-Wolverhampton Wanderers",
          "Newcastle United-Crystal Palace",
          "Manchester City-Brighton",
          "Brentford-Burnley",
          "Nottingham Forest-Luton",
          "Chelsea-Arsenal",
          "Sheffield United-Manchester United",
          "Aston Villa-West Ham",
          "Tottenham-Fulham"
         ],
         "xaxis": "x",
         "y": [
          0.2173913043478261,
          0.25,
          0.27027027027027023,
          0.25,
          0.24390243902439027,
          0.3125,
          0.2777777777777778,
          0.2531645569620253,
          0.273972602739726,
          0.29411764705882354,
          0.18867924528301888,
          0.2777777777777778,
          0.2298850574712644,
          0.2,
          0.26666666666666666,
          0.27027027027027023,
          0.2777777777777778,
          0.2298850574712644,
          0.26666666666666666,
          0.23809523809523808
         ],
         "yaxis": "y"
        },
        {
         "marker": {
          "color": "rgb(141,211,199)"
         },
         "name": "Predicted Away Win",
         "type": "bar",
         "x": [
          "Luton-Tottenham",
          "Burnley-Chelsea",
          "Everton-Bournemouth",
          "Fulham-Sheffield United",
          "Manchester United-Brentford",
          "Crystal Palace-Nottingham Forest",
          "Wolverhampton Wanderers-Aston Villa",
          "Brighton-Liverpool",
          "West Ham-Newcastle United",
          "Arsenal-Manchester City",
          "Liverpool-Everton",
          "Bournemouth-Wolverhampton Wanderers",
          "Newcastle United-Crystal Palace",
          "Manchester City-Brighton",
          "Brentford-Burnley",
          "Nottingham Forest-Luton",
          "Chelsea-Arsenal",
          "Sheffield United-Manchester United",
          "Aston Villa-West Ham",
          "Tottenham-Fulham"
         ],
         "xaxis": "x",
         "y": [
          0.6580901075368414,
          0.5961762957748543,
          0.14562729740955524,
          0.17248031196431046,
          0.26543624142202543,
          0.2752576128944635,
          0.6337073554446508,
          0.31350230040176874,
          0.545920769384119,
          0.3468943261144379,
          0.16537207476831423,
          0.39324091970342306,
          0.16583877272857653,
          0.16847004489601008,
          0.1419503384940042,
          0.2920083437929977,
          0.36666769078515604,
          0.7069448208555995,
          0.23729047752676918,
          0.11561600764681743
         ],
         "yaxis": "y"
        },
        {
         "marker": {
          "color": "rgb(82, 106, 131)"
         },
         "name": "Bookmaker Away Win",
         "type": "bar",
         "x": [
          "Luton-Tottenham",
          "Burnley-Chelsea",
          "Everton-Bournemouth",
          "Fulham-Sheffield United",
          "Manchester United-Brentford",
          "Crystal Palace-Nottingham Forest",
          "Wolverhampton Wanderers-Aston Villa",
          "Brighton-Liverpool",
          "West Ham-Newcastle United",
          "Arsenal-Manchester City",
          "Liverpool-Everton",
          "Bournemouth-Wolverhampton Wanderers",
          "Newcastle United-Crystal Palace",
          "Manchester City-Brighton",
          "Brentford-Burnley",
          "Nottingham Forest-Luton",
          "Chelsea-Arsenal",
          "Sheffield United-Manchester United",
          "Aston Villa-West Ham",
          "Tottenham-Fulham"
         ],
         "xaxis": "x",
         "y": [
          0.6802721088435374,
          0.5882352941176471,
          0.26666666666666666,
          0.19607843137254904,
          0.2150537634408602,
          0.2857142857142857,
          0.47619047619047616,
          0.45454545454545453,
          0.46511627906976744,
          0.4166666666666667,
          0.136986301369863,
          0.3546099290780142,
          0.14285714285714285,
          0.14705882352941177,
          0.2298850574712644,
          0.21978021978021978,
          0.47619047619047616,
          0.6535947712418301,
          0.26666666666666666,
          0.16666666666666666
         ],
         "yaxis": "y"
        },
        {
         "marker": {
          "color": "rgb(141,211,199)"
         },
         "name": "Predicted Over",
         "type": "bar",
         "x": [
          "Luton-Tottenham",
          "Burnley-Chelsea",
          "Everton-Bournemouth",
          "Fulham-Sheffield United",
          "Manchester United-Brentford",
          "Crystal Palace-Nottingham Forest",
          "Wolverhampton Wanderers-Aston Villa",
          "Brighton-Liverpool",
          "West Ham-Newcastle United",
          "Arsenal-Manchester City",
          "Liverpool-Everton",
          "Bournemouth-Wolverhampton Wanderers",
          "Newcastle United-Crystal Palace",
          "Manchester City-Brighton",
          "Brentford-Burnley",
          "Nottingham Forest-Luton",
          "Chelsea-Arsenal",
          "Sheffield United-Manchester United",
          "Aston Villa-West Ham",
          "Tottenham-Fulham"
         ],
         "xaxis": "x2",
         "y": [
          0.6253235908521214,
          0.5040749523538335,
          0.559979637015517,
          0.5237507714606908,
          0.6296600496925546,
          0.46805260359678336,
          0.6220535670373166,
          0.704131292110205,
          0.6195017484837995,
          0.6764393403233269,
          0.6671680126736488,
          0.6632683822924985,
          0.5868162231873434,
          0.7221702238680652,
          0.5913258128586262,
          0.49881340741781377,
          0.6882255005242849,
          0.5291962002703721,
          0.6319011507312164,
          0.7280175097631674
         ],
         "yaxis": "y2"
        },
        {
         "marker": {
          "color": "rgb(82, 106, 131)"
         },
         "name": "Bookmaker Over",
         "type": "bar",
         "x": [
          "Luton-Tottenham",
          "Burnley-Chelsea",
          "Everton-Bournemouth",
          "Fulham-Sheffield United",
          "Manchester United-Brentford",
          "Crystal Palace-Nottingham Forest",
          "Wolverhampton Wanderers-Aston Villa",
          "Brighton-Liverpool",
          "West Ham-Newcastle United",
          "Arsenal-Manchester City",
          "Liverpool-Everton",
          "Bournemouth-Wolverhampton Wanderers",
          "Newcastle United-Crystal Palace",
          "Manchester City-Brighton",
          "Brentford-Burnley",
          "Nottingham Forest-Luton",
          "Chelsea-Arsenal",
          "Sheffield United-Manchester United",
          "Aston Villa-West Ham",
          "Tottenham-Fulham"
         ],
         "xaxis": "x2",
         "y": [
          0.625,
          0.5617977528089888,
          0.5405405405405405,
          0.5128205128205129,
          0.5882352941176471,
          0.4444444444444444,
          0.5464480874316939,
          0.5263157894736842,
          0.5813953488372093,
          0.5464480874316939,
          0.5,
          0.5494505494505494,
          0.5555555555555556,
          0.5319148936170213,
          0.53475935828877,
          0.49504950495049505,
          0.5714285714285714,
          0.625,
          0.6172839506172839,
          0.42194092827004215
         ],
         "yaxis": "y2"
        },
        {
         "marker": {
          "color": "rgb(141,211,199)"
         },
         "name": "Predicted Under",
         "type": "bar",
         "x": [
          "Luton-Tottenham",
          "Burnley-Chelsea",
          "Everton-Bournemouth",
          "Fulham-Sheffield United",
          "Manchester United-Brentford",
          "Crystal Palace-Nottingham Forest",
          "Wolverhampton Wanderers-Aston Villa",
          "Brighton-Liverpool",
          "West Ham-Newcastle United",
          "Arsenal-Manchester City",
          "Liverpool-Everton",
          "Bournemouth-Wolverhampton Wanderers",
          "Newcastle United-Crystal Palace",
          "Manchester City-Brighton",
          "Brentford-Burnley",
          "Nottingham Forest-Luton",
          "Chelsea-Arsenal",
          "Sheffield United-Manchester United",
          "Aston Villa-West Ham",
          "Tottenham-Fulham"
         ],
         "xaxis": "x2",
         "y": [
          0.3746764091478786,
          0.4959250476461666,
          0.44002036298448305,
          0.47624922853930923,
          0.37033995030744543,
          0.5319473964032166,
          0.3779464329626834,
          0.295868707889795,
          0.38049825151620054,
          0.3235606596766731,
          0.33283198732635116,
          0.33673161770750143,
          0.4131837768126566,
          0.2778297761319348,
          0.4086741871413738,
          0.5011865925821862,
          0.3117744994757151,
          0.470803799729628,
          0.3680988492687836,
          0.2719824902368326
         ],
         "yaxis": "y2"
        },
        {
         "marker": {
          "color": "rgb(82, 106, 131)"
         },
         "name": "Bookmaker Under",
         "type": "bar",
         "x": [
          "Luton-Tottenham",
          "Burnley-Chelsea",
          "Everton-Bournemouth",
          "Fulham-Sheffield United",
          "Manchester United-Brentford",
          "Crystal Palace-Nottingham Forest",
          "Wolverhampton Wanderers-Aston Villa",
          "Brighton-Liverpool",
          "West Ham-Newcastle United",
          "Arsenal-Manchester City",
          "Liverpool-Everton",
          "Bournemouth-Wolverhampton Wanderers",
          "Newcastle United-Crystal Palace",
          "Manchester City-Brighton",
          "Brentford-Burnley",
          "Nottingham Forest-Luton",
          "Chelsea-Arsenal",
          "Sheffield United-Manchester United",
          "Aston Villa-West Ham",
          "Tottenham-Fulham"
         ],
         "xaxis": "x2",
         "y": [
          0.42194092827004215,
          0.48780487804878053,
          0.5128205128205129,
          0.5405405405405405,
          0.4587155963302752,
          0.6060606060606061,
          0.5,
          0.5235602094240838,
          0.46511627906976744,
          0.5050505050505051,
          0.5494505494505494,
          0.5,
          0.49504950495049505,
          0.5181347150259068,
          0.5181347150259068,
          0.5555555555555556,
          0.48309178743961356,
          0.425531914893617,
          0.4347826086956522,
          0.625
         ],
         "yaxis": "y2"
        }
       ],
       "layout": {
        "height": 1000,
        "template": {
         "data": {
          "bar": [
           {
            "error_x": {
             "color": "#2a3f5f"
            },
            "error_y": {
             "color": "#2a3f5f"
            },
            "marker": {
             "line": {
              "color": "#E5ECF6",
              "width": 0.5
             },
             "pattern": {
              "fillmode": "overlay",
              "size": 10,
              "solidity": 0.2
             }
            },
            "type": "bar"
           }
          ],
          "barpolar": [
           {
            "marker": {
             "line": {
              "color": "#E5ECF6",
              "width": 0.5
             },
             "pattern": {
              "fillmode": "overlay",
              "size": 10,
              "solidity": 0.2
             }
            },
            "type": "barpolar"
           }
          ],
          "carpet": [
           {
            "aaxis": {
             "endlinecolor": "#2a3f5f",
             "gridcolor": "white",
             "linecolor": "white",
             "minorgridcolor": "white",
             "startlinecolor": "#2a3f5f"
            },
            "baxis": {
             "endlinecolor": "#2a3f5f",
             "gridcolor": "white",
             "linecolor": "white",
             "minorgridcolor": "white",
             "startlinecolor": "#2a3f5f"
            },
            "type": "carpet"
           }
          ],
          "choropleth": [
           {
            "colorbar": {
             "outlinewidth": 0,
             "ticks": ""
            },
            "type": "choropleth"
           }
          ],
          "contour": [
           {
            "colorbar": {
             "outlinewidth": 0,
             "ticks": ""
            },
            "colorscale": [
             [
              0,
              "#0d0887"
             ],
             [
              0.1111111111111111,
              "#46039f"
             ],
             [
              0.2222222222222222,
              "#7201a8"
             ],
             [
              0.3333333333333333,
              "#9c179e"
             ],
             [
              0.4444444444444444,
              "#bd3786"
             ],
             [
              0.5555555555555556,
              "#d8576b"
             ],
             [
              0.6666666666666666,
              "#ed7953"
             ],
             [
              0.7777777777777778,
              "#fb9f3a"
             ],
             [
              0.8888888888888888,
              "#fdca26"
             ],
             [
              1,
              "#f0f921"
             ]
            ],
            "type": "contour"
           }
          ],
          "contourcarpet": [
           {
            "colorbar": {
             "outlinewidth": 0,
             "ticks": ""
            },
            "type": "contourcarpet"
           }
          ],
          "heatmap": [
           {
            "colorbar": {
             "outlinewidth": 0,
             "ticks": ""
            },
            "colorscale": [
             [
              0,
              "#0d0887"
             ],
             [
              0.1111111111111111,
              "#46039f"
             ],
             [
              0.2222222222222222,
              "#7201a8"
             ],
             [
              0.3333333333333333,
              "#9c179e"
             ],
             [
              0.4444444444444444,
              "#bd3786"
             ],
             [
              0.5555555555555556,
              "#d8576b"
             ],
             [
              0.6666666666666666,
              "#ed7953"
             ],
             [
              0.7777777777777778,
              "#fb9f3a"
             ],
             [
              0.8888888888888888,
              "#fdca26"
             ],
             [
              1,
              "#f0f921"
             ]
            ],
            "type": "heatmap"
           }
          ],
          "heatmapgl": [
           {
            "colorbar": {
             "outlinewidth": 0,
             "ticks": ""
            },
            "colorscale": [
             [
              0,
              "#0d0887"
             ],
             [
              0.1111111111111111,
              "#46039f"
             ],
             [
              0.2222222222222222,
              "#7201a8"
             ],
             [
              0.3333333333333333,
              "#9c179e"
             ],
             [
              0.4444444444444444,
              "#bd3786"
             ],
             [
              0.5555555555555556,
              "#d8576b"
             ],
             [
              0.6666666666666666,
              "#ed7953"
             ],
             [
              0.7777777777777778,
              "#fb9f3a"
             ],
             [
              0.8888888888888888,
              "#fdca26"
             ],
             [
              1,
              "#f0f921"
             ]
            ],
            "type": "heatmapgl"
           }
          ],
          "histogram": [
           {
            "marker": {
             "pattern": {
              "fillmode": "overlay",
              "size": 10,
              "solidity": 0.2
             }
            },
            "type": "histogram"
           }
          ],
          "histogram2d": [
           {
            "colorbar": {
             "outlinewidth": 0,
             "ticks": ""
            },
            "colorscale": [
             [
              0,
              "#0d0887"
             ],
             [
              0.1111111111111111,
              "#46039f"
             ],
             [
              0.2222222222222222,
              "#7201a8"
             ],
             [
              0.3333333333333333,
              "#9c179e"
             ],
             [
              0.4444444444444444,
              "#bd3786"
             ],
             [
              0.5555555555555556,
              "#d8576b"
             ],
             [
              0.6666666666666666,
              "#ed7953"
             ],
             [
              0.7777777777777778,
              "#fb9f3a"
             ],
             [
              0.8888888888888888,
              "#fdca26"
             ],
             [
              1,
              "#f0f921"
             ]
            ],
            "type": "histogram2d"
           }
          ],
          "histogram2dcontour": [
           {
            "colorbar": {
             "outlinewidth": 0,
             "ticks": ""
            },
            "colorscale": [
             [
              0,
              "#0d0887"
             ],
             [
              0.1111111111111111,
              "#46039f"
             ],
             [
              0.2222222222222222,
              "#7201a8"
             ],
             [
              0.3333333333333333,
              "#9c179e"
             ],
             [
              0.4444444444444444,
              "#bd3786"
             ],
             [
              0.5555555555555556,
              "#d8576b"
             ],
             [
              0.6666666666666666,
              "#ed7953"
             ],
             [
              0.7777777777777778,
              "#fb9f3a"
             ],
             [
              0.8888888888888888,
              "#fdca26"
             ],
             [
              1,
              "#f0f921"
             ]
            ],
            "type": "histogram2dcontour"
           }
          ],
          "mesh3d": [
           {
            "colorbar": {
             "outlinewidth": 0,
             "ticks": ""
            },
            "type": "mesh3d"
           }
          ],
          "parcoords": [
           {
            "line": {
             "colorbar": {
              "outlinewidth": 0,
              "ticks": ""
             }
            },
            "type": "parcoords"
           }
          ],
          "pie": [
           {
            "automargin": true,
            "type": "pie"
           }
          ],
          "scatter": [
           {
            "fillpattern": {
             "fillmode": "overlay",
             "size": 10,
             "solidity": 0.2
            },
            "type": "scatter"
           }
          ],
          "scatter3d": [
           {
            "line": {
             "colorbar": {
              "outlinewidth": 0,
              "ticks": ""
             }
            },
            "marker": {
             "colorbar": {
              "outlinewidth": 0,
              "ticks": ""
             }
            },
            "type": "scatter3d"
           }
          ],
          "scattercarpet": [
           {
            "marker": {
             "colorbar": {
              "outlinewidth": 0,
              "ticks": ""
             }
            },
            "type": "scattercarpet"
           }
          ],
          "scattergeo": [
           {
            "marker": {
             "colorbar": {
              "outlinewidth": 0,
              "ticks": ""
             }
            },
            "type": "scattergeo"
           }
          ],
          "scattergl": [
           {
            "marker": {
             "colorbar": {
              "outlinewidth": 0,
              "ticks": ""
             }
            },
            "type": "scattergl"
           }
          ],
          "scattermapbox": [
           {
            "marker": {
             "colorbar": {
              "outlinewidth": 0,
              "ticks": ""
             }
            },
            "type": "scattermapbox"
           }
          ],
          "scatterpolar": [
           {
            "marker": {
             "colorbar": {
              "outlinewidth": 0,
              "ticks": ""
             }
            },
            "type": "scatterpolar"
           }
          ],
          "scatterpolargl": [
           {
            "marker": {
             "colorbar": {
              "outlinewidth": 0,
              "ticks": ""
             }
            },
            "type": "scatterpolargl"
           }
          ],
          "scatterternary": [
           {
            "marker": {
             "colorbar": {
              "outlinewidth": 0,
              "ticks": ""
             }
            },
            "type": "scatterternary"
           }
          ],
          "surface": [
           {
            "colorbar": {
             "outlinewidth": 0,
             "ticks": ""
            },
            "colorscale": [
             [
              0,
              "#0d0887"
             ],
             [
              0.1111111111111111,
              "#46039f"
             ],
             [
              0.2222222222222222,
              "#7201a8"
             ],
             [
              0.3333333333333333,
              "#9c179e"
             ],
             [
              0.4444444444444444,
              "#bd3786"
             ],
             [
              0.5555555555555556,
              "#d8576b"
             ],
             [
              0.6666666666666666,
              "#ed7953"
             ],
             [
              0.7777777777777778,
              "#fb9f3a"
             ],
             [
              0.8888888888888888,
              "#fdca26"
             ],
             [
              1,
              "#f0f921"
             ]
            ],
            "type": "surface"
           }
          ],
          "table": [
           {
            "cells": {
             "fill": {
              "color": "#EBF0F8"
             },
             "line": {
              "color": "white"
             }
            },
            "header": {
             "fill": {
              "color": "#C8D4E3"
             },
             "line": {
              "color": "white"
             }
            },
            "type": "table"
           }
          ]
         },
         "layout": {
          "annotationdefaults": {
           "arrowcolor": "#2a3f5f",
           "arrowhead": 0,
           "arrowwidth": 1
          },
          "autotypenumbers": "strict",
          "coloraxis": {
           "colorbar": {
            "outlinewidth": 0,
            "ticks": ""
           }
          },
          "colorscale": {
           "diverging": [
            [
             0,
             "#8e0152"
            ],
            [
             0.1,
             "#c51b7d"
            ],
            [
             0.2,
             "#de77ae"
            ],
            [
             0.3,
             "#f1b6da"
            ],
            [
             0.4,
             "#fde0ef"
            ],
            [
             0.5,
             "#f7f7f7"
            ],
            [
             0.6,
             "#e6f5d0"
            ],
            [
             0.7,
             "#b8e186"
            ],
            [
             0.8,
             "#7fbc41"
            ],
            [
             0.9,
             "#4d9221"
            ],
            [
             1,
             "#276419"
            ]
           ],
           "sequential": [
            [
             0,
             "#0d0887"
            ],
            [
             0.1111111111111111,
             "#46039f"
            ],
            [
             0.2222222222222222,
             "#7201a8"
            ],
            [
             0.3333333333333333,
             "#9c179e"
            ],
            [
             0.4444444444444444,
             "#bd3786"
            ],
            [
             0.5555555555555556,
             "#d8576b"
            ],
            [
             0.6666666666666666,
             "#ed7953"
            ],
            [
             0.7777777777777778,
             "#fb9f3a"
            ],
            [
             0.8888888888888888,
             "#fdca26"
            ],
            [
             1,
             "#f0f921"
            ]
           ],
           "sequentialminus": [
            [
             0,
             "#0d0887"
            ],
            [
             0.1111111111111111,
             "#46039f"
            ],
            [
             0.2222222222222222,
             "#7201a8"
            ],
            [
             0.3333333333333333,
             "#9c179e"
            ],
            [
             0.4444444444444444,
             "#bd3786"
            ],
            [
             0.5555555555555556,
             "#d8576b"
            ],
            [
             0.6666666666666666,
             "#ed7953"
            ],
            [
             0.7777777777777778,
             "#fb9f3a"
            ],
            [
             0.8888888888888888,
             "#fdca26"
            ],
            [
             1,
             "#f0f921"
            ]
           ]
          },
          "colorway": [
           "#636efa",
           "#EF553B",
           "#00cc96",
           "#ab63fa",
           "#FFA15A",
           "#19d3f3",
           "#FF6692",
           "#B6E880",
           "#FF97FF",
           "#FECB52"
          ],
          "font": {
           "color": "#2a3f5f"
          },
          "geo": {
           "bgcolor": "white",
           "lakecolor": "white",
           "landcolor": "#E5ECF6",
           "showlakes": true,
           "showland": true,
           "subunitcolor": "white"
          },
          "hoverlabel": {
           "align": "left"
          },
          "hovermode": "closest",
          "mapbox": {
           "style": "light"
          },
          "paper_bgcolor": "white",
          "plot_bgcolor": "#E5ECF6",
          "polar": {
           "angularaxis": {
            "gridcolor": "white",
            "linecolor": "white",
            "ticks": ""
           },
           "bgcolor": "#E5ECF6",
           "radialaxis": {
            "gridcolor": "white",
            "linecolor": "white",
            "ticks": ""
           }
          },
          "scene": {
           "xaxis": {
            "backgroundcolor": "#E5ECF6",
            "gridcolor": "white",
            "gridwidth": 2,
            "linecolor": "white",
            "showbackground": true,
            "ticks": "",
            "zerolinecolor": "white"
           },
           "yaxis": {
            "backgroundcolor": "#E5ECF6",
            "gridcolor": "white",
            "gridwidth": 2,
            "linecolor": "white",
            "showbackground": true,
            "ticks": "",
            "zerolinecolor": "white"
           },
           "zaxis": {
            "backgroundcolor": "#E5ECF6",
            "gridcolor": "white",
            "gridwidth": 2,
            "linecolor": "white",
            "showbackground": true,
            "ticks": "",
            "zerolinecolor": "white"
           }
          },
          "shapedefaults": {
           "line": {
            "color": "#2a3f5f"
           }
          },
          "ternary": {
           "aaxis": {
            "gridcolor": "white",
            "linecolor": "white",
            "ticks": ""
           },
           "baxis": {
            "gridcolor": "white",
            "linecolor": "white",
            "ticks": ""
           },
           "bgcolor": "#E5ECF6",
           "caxis": {
            "gridcolor": "white",
            "linecolor": "white",
            "ticks": ""
           }
          },
          "title": {
           "x": 0.05
          },
          "xaxis": {
           "automargin": true,
           "gridcolor": "white",
           "linecolor": "white",
           "ticks": "",
           "title": {
            "standoff": 15
           },
           "zerolinecolor": "white",
           "zerolinewidth": 2
          },
          "yaxis": {
           "automargin": true,
           "gridcolor": "white",
           "linecolor": "white",
           "ticks": "",
           "title": {
            "standoff": 15
           },
           "zerolinecolor": "white",
           "zerolinewidth": 2
          }
         }
        },
        "width": 1500,
        "xaxis": {
         "anchor": "y",
         "domain": [
          0,
          1
         ]
        },
        "xaxis2": {
         "anchor": "y2",
         "domain": [
          0,
          1
         ]
        },
        "yaxis": {
         "anchor": "x",
         "domain": [
          0.575,
          1
         ]
        },
        "yaxis2": {
         "anchor": "x2",
         "domain": [
          0,
          0.425
         ]
        }
       }
      }
     },
     "metadata": {},
     "output_type": "display_data"
    }
   ],
   "source": [
    "fig = make_subplots(rows=2, cols=1)\n",
    "fig.update_layout(width=1500, height=1000)\n",
    "fig.add_trace(\n",
    "    go.Bar(name='Predicted Home Win',\n",
    "           x=Final_Odds[Final_Odds['Type']=='Predicted']['Match'],\n",
    "           y=Final_Odds[Final_Odds['Type']=='Predicted']['P(Hwin)'],\n",
    "           marker_color='rgb(141,211,199)'),\n",
    "    row=1, col=1)\n",
    "\n",
    "fig.add_trace(\n",
    "    go.Bar(name='Bookmaker Home Win',\n",
    "           x=Final_Odds[Final_Odds['Type']=='Bookmaker']['Match'],\n",
    "           y=Final_Odds[Final_Odds['Type']=='Bookmaker']['P(Hwin)'],\n",
    "           marker_color='rgb(82, 106, 131)'),\n",
    "    row=1, col=1)\n",
    "\n",
    "fig.add_trace(\n",
    "    go.Bar(name='Predicted Draw',\n",
    "           x=Final_Odds[Final_Odds['Type']=='Predicted']['Match'],\n",
    "           y=Final_Odds[Final_Odds['Type']=='Predicted']['P(Draw)'],\n",
    "           marker_color='rgb(141,211,199)'),\n",
    "    row=1, col=1)\n",
    "\n",
    "fig.add_trace(\n",
    "    go.Bar(name='Bookmaker Draw',\n",
    "           x=Final_Odds[Final_Odds['Type']=='Bookmaker']['Match'],\n",
    "           y=Final_Odds[Final_Odds['Type']=='Bookmaker']['P(Draw)'],\n",
    "           marker_color='rgb(82, 106, 131)'),\n",
    "    row=1, col=1)\n",
    "\n",
    "fig.add_trace(\n",
    "    go.Bar(name='Predicted Away Win',\n",
    "           x=Final_Odds[Final_Odds['Type']=='Predicted']['Match'],\n",
    "           y=Final_Odds[Final_Odds['Type']=='Predicted']['P(Awin)'],\n",
    "           marker_color='rgb(141,211,199)'),\n",
    "    row=1, col=1)\n",
    "\n",
    "fig.add_trace(\n",
    "    go.Bar(name='Bookmaker Away Win',\n",
    "           x=Final_Odds[Final_Odds['Type']=='Bookmaker']['Match'],\n",
    "           y=Final_Odds[Final_Odds['Type']=='Bookmaker']['P(Awin)'],\n",
    "           marker_color='rgb(82, 106, 131)'),\n",
    "    row=1, col=1)\n",
    "\n",
    "\n",
    "fig.add_trace(\n",
    "    go.Bar(name='Predicted Over',\n",
    "           x=Final_Odds[Final_Odds['Type']=='Predicted']['Match'],\n",
    "           y=Final_Odds[Final_Odds['Type']=='Predicted']['P(Over)'],\n",
    "           marker_color='rgb(141,211,199)'),\n",
    "    row=2, col=1)\n",
    "\n",
    "fig.add_trace(\n",
    "    go.Bar(name='Bookmaker Over',\n",
    "           x=Final_Odds[Final_Odds['Type']=='Bookmaker']['Match'],\n",
    "           y=Final_Odds[Final_Odds['Type']=='Bookmaker']['P(Over)'],\n",
    "           marker_color='rgb(82, 106, 131)'),\n",
    "    row=2, col=1)\n",
    "\n",
    "fig.add_trace(\n",
    "    go.Bar(name='Predicted Under',\n",
    "           x=Final_Odds[Final_Odds['Type']=='Predicted']['Match'],\n",
    "           y=Final_Odds[Final_Odds['Type']=='Predicted']['P(Under)'],\n",
    "           marker_color='rgb(141,211,199)'),\n",
    "    row=2, col=1)\n",
    "\n",
    "fig.add_trace(\n",
    "    go.Bar(name='Bookmaker Under',\n",
    "           x=Final_Odds[Final_Odds['Type']=='Bookmaker']['Match'],\n",
    "           y=Final_Odds[Final_Odds['Type']=='Bookmaker']['P(Under)'],\n",
    "           marker_color='rgb(82, 106, 131)'),\n",
    "    row=2, col=1)\n",
    "\n",
    "\n",
    "fig.show()\n"
   ]
  },
  {
   "cell_type": "code",
   "execution_count": 7,
   "metadata": {},
   "outputs": [
    {
     "data": {
      "application/vnd.plotly.v1+json": {
       "config": {
        "plotlyServerURL": "https://plot.ly"
       },
       "data": [
        {
         "fill": "toself",
         "hovertemplate": "%{theta}<br>Prob: %{r:.2f}<br>Bookmaker Odds",
         "marker": {
          "color": "rgb(82, 106, 131)"
         },
         "name": "Bookmaker Odds",
         "r": [
          0.14925373134328357,
          0.2173913043478261,
          0.6802721088435374,
          0.625,
          0.42194092827004215,
          0.5813953488372093,
          0.48780487804878053
         ],
         "subplot": "polar",
         "theta": [
          "Home",
          "Draw",
          "Away",
          "Over",
          "Under",
          "GG",
          "NG"
         ],
         "type": "scatterpolar",
         "visible": true
        },
        {
         "fill": "toself",
         "hovertemplate": "%{theta}<br>Prob: %{r:.2f}<br>Predicted Odds",
         "marker": {
          "color": "rgb(141,211,199)"
         },
         "name": "Predicted Odds",
         "r": [
          0.15262876537788317,
          0.18927681869312343,
          0.6580901075368414,
          0.6253235908521214,
          0.3746764091478786,
          0.5594172013055544,
          0.44057849030229385
         ],
         "subplot": "polar",
         "theta": [
          "Home",
          "Draw",
          "Away",
          "Over",
          "Under",
          "GG",
          "NG"
         ],
         "type": "scatterpolar",
         "visible": true
        },
        {
         "hovertemplate": "Score %{x}<br>Prob: %{y:.3f}",
         "marker": {
          "color": [
           0.0998871745802919,
           0.09822106807764758,
           0.089111556426462,
           0.08762518598654591,
           0.07464387370727799,
           0.07339882253940969,
           0.04829137601924593,
           0.04308180401670495,
           0.041835009640422235,
           0.041137206525127715,
           0.03974919463941512,
           0.03908618267674949,
           0.03608726934040717,
           0.020225521342486903,
           0.01921711483841413,
           0.01582862715351876,
           0.014121068171874342,
           0.011828445955863104,
           0.0066293873296998755,
           0.006298858529572295,
           0.003891151871484149,
           0.0034713825975823264,
           0.002907787211834984,
           0.0016297024792210387,
           0.001548448574714865
          ],
          "colorscale": [
           [
            0,
            "rgb(210, 251, 212)"
           ],
           [
            0.16666666666666666,
            "rgb(165, 219, 194)"
           ],
           [
            0.3333333333333333,
            "rgb(123, 188, 176)"
           ],
           [
            0.5,
            "rgb(85, 156, 158)"
           ],
           [
            0.6666666666666666,
            "rgb(58, 124, 137)"
           ],
           [
            0.8333333333333334,
            "rgb(35, 93, 114)"
           ],
           [
            1,
            "rgb(18, 63, 90)"
           ]
          ]
         },
         "name": "Propable Scoreline",
         "type": "bar",
         "visible": true,
         "x": [
          "0 - 2",
          "1 - 2",
          "0 - 1",
          "1 - 1",
          "0 - 3",
          "1 - 3",
          "2 - 2",
          "2 - 1",
          "0 - 4",
          "1 - 4",
          "0 - 0",
          "1 - 0",
          "2 - 3",
          "2 - 4",
          "Other",
          "Other",
          "Other",
          "Other",
          "Other",
          "Other",
          "Other",
          "Other",
          "Other",
          "Other",
          "Other"
         ],
         "xaxis": "x",
         "y": [
          0.0998871745802919,
          0.09822106807764758,
          0.089111556426462,
          0.08762518598654591,
          0.07464387370727799,
          0.07339882253940969,
          0.04829137601924593,
          0.04308180401670495,
          0.041835009640422235,
          0.041137206525127715,
          0.03974919463941512,
          0.03908618267674949,
          0.03608726934040717,
          0.020225521342486903,
          0.01921711483841413,
          0.01582862715351876,
          0.014121068171874342,
          0.011828445955863104,
          0.0066293873296998755,
          0.006298858529572295,
          0.003891151871484149,
          0.0034713825975823264,
          0.002907787211834984,
          0.0016297024792210387,
          0.001548448574714865
         ],
         "yaxis": "y"
        },
        {
         "fill": "toself",
         "hovertemplate": "%{theta}<br>Prob: %{r:.2f}<br>Bookmaker Odds",
         "marker": {
          "color": "rgb(82, 106, 131)"
         },
         "name": "Bookmaker Odds",
         "r": [
          0.21052631578947367,
          0.25,
          0.5882352941176471,
          0.5617977528089888,
          0.48780487804878053,
          0.5714285714285714,
          0.5
         ],
         "subplot": "polar",
         "theta": [
          "Home",
          "Draw",
          "Away",
          "Over",
          "Under",
          "GG",
          "NG"
         ],
         "type": "scatterpolar",
         "visible": false
        },
        {
         "fill": "toself",
         "hovertemplate": "%{theta}<br>Prob: %{r:.2f}<br>Predicted Odds",
         "marker": {
          "color": "rgb(141,211,199)"
         },
         "name": "Predicted Odds",
         "r": [
          0.1771319184403441,
          0.22669127798030772,
          0.5961762957748543,
          0.5040749523538335,
          0.4959250476461666,
          0.48808141821957907,
          0.5119180739759273
         ],
         "subplot": "polar",
         "theta": [
          "Home",
          "Draw",
          "Away",
          "Over",
          "Under",
          "GG",
          "NG"
         ],
         "type": "scatterpolar",
         "visible": false
        },
        {
         "hovertemplate": "Score %{x}<br>Prob: %{y:.3f}",
         "marker": {
          "color": [
           0.12321179200610402,
           0.11189120729830469,
           0.10773369396315241,
           0.09783522248946769,
           0.06783886802151547,
           0.06774049824739696,
           0.05931682128180202,
           0.059230808904516055,
           0.0470999919162412,
           0.04277248852112739,
           0.03075828217608603,
           0.026894368670707866,
           0.025932665075287915,
           0.025895061405295395,
           0.013727733988642634,
           0.012466442573800895,
           0.011757923639154174,
           0.007558318235026268,
           0.007547358293046405,
           0.0034269570208020255,
           0.003000807528768681,
           0.0027250961275454536,
           0.0016522070054140877,
           0.001649811222072478,
           0.0007491140516925351
          ],
          "colorscale": [
           [
            0,
            "rgb(210, 251, 212)"
           ],
           [
            0.16666666666666666,
            "rgb(165, 219, 194)"
           ],
           [
            0.3333333333333333,
            "rgb(123, 188, 176)"
           ],
           [
            0.5,
            "rgb(85, 156, 158)"
           ],
           [
            0.6666666666666666,
            "rgb(58, 124, 137)"
           ],
           [
            0.8333333333333334,
            "rgb(35, 93, 114)"
           ],
           [
            1,
            "rgb(18, 63, 90)"
           ]
          ]
         },
         "name": "Propable Scoreline",
         "type": "bar",
         "visible": false,
         "x": [
          "0 - 1",
          "0 - 2",
          "1 - 1",
          "1 - 2",
          "0 - 0",
          "0 - 3",
          "1 - 0",
          "1 - 3",
          "2 - 1",
          "2 - 2",
          "0 - 4",
          "1 - 4",
          "2 - 0",
          "2 - 3",
          "Other",
          "Other",
          "Other",
          "Other",
          "Other",
          "Other",
          "Other",
          "Other",
          "Other",
          "Other",
          "Other"
         ],
         "xaxis": "x",
         "y": [
          0.12321179200610402,
          0.11189120729830469,
          0.10773369396315241,
          0.09783522248946769,
          0.06783886802151547,
          0.06774049824739696,
          0.05931682128180202,
          0.059230808904516055,
          0.0470999919162412,
          0.04277248852112739,
          0.03075828217608603,
          0.026894368670707866,
          0.025932665075287915,
          0.025895061405295395,
          0.013727733988642634,
          0.012466442573800895,
          0.011757923639154174,
          0.007558318235026268,
          0.007547358293046405,
          0.0034269570208020255,
          0.003000807528768681,
          0.0027250961275454536,
          0.0016522070054140877,
          0.001649811222072478,
          0.0007491140516925351
         ],
         "yaxis": "y"
        },
        {
         "fill": "toself",
         "hovertemplate": "%{theta}<br>Prob: %{r:.2f}<br>Bookmaker Odds",
         "marker": {
          "color": "rgb(82, 106, 131)"
         },
         "name": "Bookmaker Odds",
         "r": [
          0.5128205128205129,
          0.27027027027027023,
          0.26666666666666666,
          0.5405405405405405,
          0.5128205128205129,
          0.5714285714285714,
          0.49504950495049505
         ],
         "subplot": "polar",
         "theta": [
          "Home",
          "Draw",
          "Away",
          "Over",
          "Under",
          "GG",
          "NG"
         ],
         "type": "scatterpolar",
         "visible": false
        },
        {
         "fill": "toself",
         "hovertemplate": "%{theta}<br>Prob: %{r:.2f}<br>Predicted Odds",
         "marker": {
          "color": "rgb(141,211,199)"
         },
         "name": "Predicted Odds",
         "r": [
          0.6542085528943032,
          0.2001622291539684,
          0.14562729740955524,
          0.559979637015517,
          0.44002036298448305,
          0.502936742282594,
          0.4970613371752329
         ],
         "subplot": "polar",
         "theta": [
          "Home",
          "Draw",
          "Away",
          "Over",
          "Under",
          "GG",
          "NG"
         ],
         "type": "scatterpolar",
         "visible": false
        },
        {
         "hovertemplate": "Score %{x}<br>Prob: %{y:.3f}",
         "marker": {
          "color": [
           0.1147162331981363,
           0.11091760616752701,
           0.09834555567769117,
           0.09508901494476517,
           0.07909663526451612,
           0.0678090827292861,
           0.05362238200711116,
           0.04597015442568114,
           0.04215553480059256,
           0.04090274019476915,
           0.04075962814013988,
           0.03506567990466547,
           0.02906616498420083,
           0.01970497224126225,
           0.01503080113118812,
           0.012046564463967182,
           0.011647663592459605,
           0.008306084405257244,
           0.005630985812133805,
           0.004295272628575058,
           0.002581862311870321,
           0.002496368465936219,
           0.001780189393357146,
           0.001206852799444279,
           0.0009205780247220799
          ],
          "colorscale": [
           [
            0,
            "rgb(210, 251, 212)"
           ],
           [
            0.16666666666666666,
            "rgb(165, 219, 194)"
           ],
           [
            0.3333333333333333,
            "rgb(123, 188, 176)"
           ],
           [
            0.5,
            "rgb(85, 156, 158)"
           ],
           [
            0.6666666666666666,
            "rgb(58, 124, 137)"
           ],
           [
            0.8333333333333334,
            "rgb(35, 93, 114)"
           ],
           [
            1,
            "rgb(18, 63, 90)"
           ]
          ]
         },
         "name": "Propable Scoreline",
         "type": "bar",
         "visible": false,
         "x": [
          "2 - 0",
          "1 - 0",
          "2 - 1",
          "1 - 1",
          "3 - 0",
          "3 - 1",
          "0 - 0",
          "0 - 1",
          "2 - 2",
          "4 - 0",
          "1 - 2",
          "4 - 1",
          "3 - 2",
          "Other",
          "Other",
          "Other",
          "Other",
          "Other",
          "Other",
          "Other",
          "Other",
          "Other",
          "Other",
          "Other",
          "Other"
         ],
         "xaxis": "x",
         "y": [
          0.1147162331981363,
          0.11091760616752701,
          0.09834555567769117,
          0.09508901494476517,
          0.07909663526451612,
          0.0678090827292861,
          0.05362238200711116,
          0.04597015442568114,
          0.04215553480059256,
          0.04090274019476915,
          0.04075962814013988,
          0.03506567990466547,
          0.02906616498420083,
          0.01970497224126225,
          0.01503080113118812,
          0.012046564463967182,
          0.011647663592459605,
          0.008306084405257244,
          0.005630985812133805,
          0.004295272628575058,
          0.002581862311870321,
          0.002496368465936219,
          0.001780189393357146,
          0.001206852799444279,
          0.0009205780247220799
         ],
         "yaxis": "y"
        },
        {
         "fill": "toself",
         "hovertemplate": "%{theta}<br>Prob: %{r:.2f}<br>Bookmaker Odds",
         "marker": {
          "color": "rgb(82, 106, 131)"
         },
         "name": "Bookmaker Odds",
         "r": [
          0.6060606060606061,
          0.25,
          0.19607843137254904,
          0.5128205128205129,
          0.5405405405405405,
          0.5128205128205129,
          0.5555555555555556
         ],
         "subplot": "polar",
         "theta": [
          "Home",
          "Draw",
          "Away",
          "Over",
          "Under",
          "GG",
          "NG"
         ],
         "type": "scatterpolar",
         "visible": false
        },
        {
         "fill": "toself",
         "hovertemplate": "%{theta}<br>Prob: %{r:.2f}<br>Predicted Odds",
         "marker": {
          "color": "rgb(141,211,199)"
         },
         "name": "Predicted Odds",
         "r": [
          0.6073951265698079,
          0.22012382594069166,
          0.17248031196431046,
          0.5237507714606908,
          0.47624922853930923,
          0.49927960952342293,
          0.5007196549513871
         ],
         "subplot": "polar",
         "theta": [
          "Home",
          "Draw",
          "Away",
          "Over",
          "Under",
          "GG",
          "NG"
         ],
         "type": "scatterpolar",
         "visible": false
        },
        {
         "hovertemplate": "Score %{x}<br>Prob: %{y:.3f}",
         "marker": {
          "color": [
           0.11778380908710592,
           0.110875276280243,
           0.10469984852439176,
           0.09855874692468537,
           0.0695813059848138,
           0.06256140299485266,
           0.06185189843327016,
           0.05561179815631862,
           0.046534656868346354,
           0.043805196799744504,
           0.032750029841966274,
           0.0291120077555596,
           0.02749055429222988,
           0.024717093496397276,
           0.013788458597755262,
           0.012979705516011944,
           0.012939056844365896,
           0.008145592880595465,
           0.007323802156661967,
           0.003833909210876726,
           0.0030641934951818922,
           0.002884465216294387,
           0.0018101858552328647,
           0.001627560235927761,
           0.0008520052899168103
          ],
          "colorscale": [
           [
            0,
            "rgb(210, 251, 212)"
           ],
           [
            0.16666666666666666,
            "rgb(165, 219, 194)"
           ],
           [
            0.3333333333333333,
            "rgb(123, 188, 176)"
           ],
           [
            0.5,
            "rgb(85, 156, 158)"
           ],
           [
            0.6666666666666666,
            "rgb(58, 124, 137)"
           ],
           [
            0.8333333333333334,
            "rgb(35, 93, 114)"
           ],
           [
            1,
            "rgb(18, 63, 90)"
           ]
          ]
         },
         "name": "Propable Scoreline",
         "type": "bar",
         "visible": false,
         "x": [
          "1 - 0",
          "2 - 0",
          "1 - 1",
          "2 - 1",
          "3 - 0",
          "0 - 0",
          "3 - 1",
          "0 - 1",
          "1 - 2",
          "2 - 2",
          "4 - 0",
          "4 - 1",
          "3 - 2",
          "0 - 2",
          "Other",
          "Other",
          "Other",
          "Other",
          "Other",
          "Other",
          "Other",
          "Other",
          "Other",
          "Other",
          "Other"
         ],
         "xaxis": "x",
         "y": [
          0.11778380908710592,
          0.110875276280243,
          0.10469984852439176,
          0.09855874692468537,
          0.0695813059848138,
          0.06256140299485266,
          0.06185189843327016,
          0.05561179815631862,
          0.046534656868346354,
          0.043805196799744504,
          0.032750029841966274,
          0.0291120077555596,
          0.02749055429222988,
          0.024717093496397276,
          0.013788458597755262,
          0.012979705516011944,
          0.012939056844365896,
          0.008145592880595465,
          0.007323802156661967,
          0.003833909210876726,
          0.0030641934951818922,
          0.002884465216294387,
          0.0018101858552328647,
          0.001627560235927761,
          0.0008520052899168103
         ],
         "yaxis": "y"
        },
        {
         "fill": "toself",
         "hovertemplate": "%{theta}<br>Prob: %{r:.2f}<br>Bookmaker Odds",
         "marker": {
          "color": "rgb(82, 106, 131)"
         },
         "name": "Bookmaker Odds",
         "r": [
          0.5882352941176471,
          0.24390243902439027,
          0.2150537634408602,
          0.5882352941176471,
          0.4587155963302752,
          0.6060606060606061,
          0.46511627906976744
         ],
         "subplot": "polar",
         "theta": [
          "Home",
          "Draw",
          "Away",
          "Over",
          "Under",
          "GG",
          "NG"
         ],
         "type": "scatterpolar",
         "visible": false
        },
        {
         "fill": "toself",
         "hovertemplate": "%{theta}<br>Prob: %{r:.2f}<br>Predicted Odds",
         "marker": {
          "color": "rgb(141,211,199)"
         },
         "name": "Predicted Odds",
         "r": [
          0.5122834607606872,
          0.22227939114974413,
          0.26543624142202543,
          0.6296600496925546,
          0.37033995030744543,
          0.6271171458815868,
          0.3728819474508702
         ],
         "subplot": "polar",
         "theta": [
          "Home",
          "Draw",
          "Away",
          "Over",
          "Under",
          "GG",
          "NG"
         ],
         "type": "scatterpolar",
         "visible": false
        },
        {
         "hovertemplate": "Score %{x}<br>Prob: %{y:.3f}",
         "marker": {
          "color": [
           0.09916082719839922,
           0.09507665215232165,
           0.07463550492254435,
           0.07156146373744847,
           0.06587260085448071,
           0.06315948076229132,
           0.060773795727536356,
           0.051710222373615014,
           0.04574268951093895,
           0.04037207132572584,
           0.03892079831877512,
           0.034351133756663224,
           0.029172807219205225,
           0.029135341039473024,
           0.02797125561223524,
           0.021929333901388647,
           0.01935462566495573,
           0.01787946184829121,
           0.015212986732648558,
           0.009689757236043114,
           0.009290661485996408,
           0.008571526795654504,
           0.005938668963848741,
           0.005052998402480282,
           0.002847035363036737
          ],
          "colorscale": [
           [
            0,
            "rgb(210, 251, 212)"
           ],
           [
            0.16666666666666666,
            "rgb(165, 219, 194)"
           ],
           [
            0.3333333333333333,
            "rgb(123, 188, 176)"
           ],
           [
            0.5,
            "rgb(85, 156, 158)"
           ],
           [
            0.6666666666666666,
            "rgb(58, 124, 137)"
           ],
           [
            0.8333333333333334,
            "rgb(35, 93, 114)"
           ],
           [
            1,
            "rgb(18, 63, 90)"
           ]
          ]
         },
         "name": "Propable Scoreline",
         "type": "bar",
         "visible": false,
         "x": [
          "1 - 1",
          "2 - 1",
          "1 - 0",
          "2 - 0",
          "1 - 2",
          "2 - 2",
          "3 - 1",
          "0 - 1",
          "3 - 0",
          "3 - 2",
          "0 - 0",
          "0 - 2",
          "1 - 3",
          "4 - 1",
          "2 - 3",
          "4 - 0",
          "Other",
          "Other",
          "Other",
          "Other",
          "Other",
          "Other",
          "Other",
          "Other",
          "Other"
         ],
         "xaxis": "x",
         "y": [
          0.09916082719839922,
          0.09507665215232165,
          0.07463550492254435,
          0.07156146373744847,
          0.06587260085448071,
          0.06315948076229132,
          0.060773795727536356,
          0.051710222373615014,
          0.04574268951093895,
          0.04037207132572584,
          0.03892079831877512,
          0.034351133756663224,
          0.029172807219205225,
          0.029135341039473024,
          0.02797125561223524,
          0.021929333901388647,
          0.01935462566495573,
          0.01787946184829121,
          0.015212986732648558,
          0.009689757236043114,
          0.009290661485996408,
          0.008571526795654504,
          0.005938668963848741,
          0.005052998402480282,
          0.002847035363036737
         ],
         "yaxis": "y"
        },
        {
         "fill": "toself",
         "hovertemplate": "%{theta}<br>Prob: %{r:.2f}<br>Bookmaker Odds",
         "marker": {
          "color": "rgb(82, 106, 131)"
         },
         "name": "Bookmaker Odds",
         "r": [
          0.45454545454545453,
          0.3125,
          0.2857142857142857,
          0.4444444444444444,
          0.6060606060606061,
          0.5235602094240838,
          0.5464480874316939
         ],
         "subplot": "polar",
         "theta": [
          "Home",
          "Draw",
          "Away",
          "Over",
          "Under",
          "GG",
          "NG"
         ],
         "type": "scatterpolar",
         "visible": false
        },
        {
         "fill": "toself",
         "hovertemplate": "%{theta}<br>Prob: %{r:.2f}<br>Predicted Odds",
         "marker": {
          "color": "rgb(141,211,199)"
         },
         "name": "Predicted Odds",
         "r": [
          0.4640761231626728,
          0.26066620536592267,
          0.2752576128944635,
          0.46805260359678336,
          0.5319473964032166,
          0.5071558465918743,
          0.49284409483118513
         ],
         "subplot": "polar",
         "theta": [
          "Home",
          "Draw",
          "Away",
          "Over",
          "Under",
          "GG",
          "NG"
         ],
         "type": "scatterpolar",
         "visible": false
        },
        {
         "hovertemplate": "Score %{x}<br>Prob: %{y:.3f}",
         "marker": {
          "color": [
           0.12386007996247651,
           0.11552200481194994,
           0.09130349152082227,
           0.08515707716329307,
           0.08401277515664557,
           0.0783571609097258,
           0.06639998774815294,
           0.0489467689685235,
           0.045038298399125744,
           0.04486959568365832,
           0.0418490416770936,
           0.024054082675887836,
           0.02373085487156451,
           0.017493206101628227,
           0.016537817310818527,
           0.016096348195510025,
           0.015424516208437041,
           0.008865736782603524,
           0.00859674774662872,
           0.0063609214252180616,
           0.004688954952943353,
           0.0043145350919184845,
           0.0031685474659339527,
           0.0023043096097751575,
           0.0008493112267535822
          ],
          "colorscale": [
           [
            0,
            "rgb(210, 251, 212)"
           ],
           [
            0.16666666666666666,
            "rgb(165, 219, 194)"
           ],
           [
            0.3333333333333333,
            "rgb(123, 188, 176)"
           ],
           [
            0.5,
            "rgb(85, 156, 158)"
           ],
           [
            0.6666666666666666,
            "rgb(58, 124, 137)"
           ],
           [
            0.8333333333333334,
            "rgb(35, 93, 114)"
           ],
           [
            1,
            "rgb(18, 63, 90)"
           ]
          ]
         },
         "name": "Propable Scoreline",
         "type": "bar",
         "visible": false,
         "x": [
          "1 - 1",
          "1 - 0",
          "2 - 1",
          "2 - 0",
          "0 - 1",
          "0 - 0",
          "1 - 2",
          "2 - 2",
          "0 - 2",
          "3 - 1",
          "3 - 0",
          "3 - 2",
          "1 - 3",
          "Other",
          "Other",
          "Other",
          "Other",
          "Other",
          "Other",
          "Other",
          "Other",
          "Other",
          "Other",
          "Other",
          "Other"
         ],
         "xaxis": "x",
         "y": [
          0.12386007996247651,
          0.11552200481194994,
          0.09130349152082227,
          0.08515707716329307,
          0.08401277515664557,
          0.0783571609097258,
          0.06639998774815294,
          0.0489467689685235,
          0.045038298399125744,
          0.04486959568365832,
          0.0418490416770936,
          0.024054082675887836,
          0.02373085487156451,
          0.017493206101628227,
          0.016537817310818527,
          0.016096348195510025,
          0.015424516208437041,
          0.008865736782603524,
          0.00859674774662872,
          0.0063609214252180616,
          0.004688954952943353,
          0.0043145350919184845,
          0.0031685474659339527,
          0.0023043096097751575,
          0.0008493112267535822
         ],
         "yaxis": "y"
        },
        {
         "fill": "toself",
         "hovertemplate": "%{theta}<br>Prob: %{r:.2f}<br>Bookmaker Odds",
         "marker": {
          "color": "rgb(82, 106, 131)"
         },
         "name": "Bookmaker Odds",
         "r": [
          0.29411764705882354,
          0.2777777777777778,
          0.47619047619047616,
          0.5464480874316939,
          0.5,
          0.6060606060606061,
          0.46511627906976744
         ],
         "subplot": "polar",
         "theta": [
          "Home",
          "Draw",
          "Away",
          "Over",
          "Under",
          "GG",
          "NG"
         ],
         "type": "scatterpolar",
         "visible": false
        },
        {
         "fill": "toself",
         "hovertemplate": "%{theta}<br>Prob: %{r:.2f}<br>Predicted Odds",
         "marker": {
          "color": "rgb(141,211,199)"
         },
         "name": "Predicted Odds",
         "r": [
          0.16931490752352904,
          0.19697454056802224,
          0.6337073554446508,
          0.6220535670373166,
          0.3779464329626834,
          0.5711369467260808,
          0.4288598568101207
         ],
         "subplot": "polar",
         "theta": [
          "Home",
          "Draw",
          "Away",
          "Over",
          "Under",
          "GG",
          "NG"
         ],
         "type": "scatterpolar",
         "visible": false
        },
        {
         "hovertemplate": "Score %{x}<br>Prob: %{y:.3f}",
         "marker": {
          "color": [
           0.09879521359857439,
           0.09558364805774094,
           0.09081295928006135,
           0.08786087526645722,
           0.07165272671335522,
           0.06932349010727447,
           0.051057343114230894,
           0.046932115962829174,
           0.04173781943886138,
           0.04038103566587392,
           0.038975419899791995,
           0.03770843427437206,
           0.03703011228599425,
           0.021570095253688606,
           0.020142487822645064,
           0.017590948595792553,
           0.016169670982425135,
           0.012758102204064588,
           0.007431613430512146,
           0.006939755307807387,
           0.00454549904517408,
           0.004178241077287453,
           0.0032966921067963087,
           0.001920328035099569,
           0.0017932319541269744
          ],
          "colorscale": [
           [
            0,
            "rgb(210, 251, 212)"
           ],
           [
            0.16666666666666666,
            "rgb(165, 219, 194)"
           ],
           [
            0.3333333333333333,
            "rgb(123, 188, 176)"
           ],
           [
            0.5,
            "rgb(85, 156, 158)"
           ],
           [
            0.6666666666666666,
            "rgb(58, 124, 137)"
           ],
           [
            0.8333333333333334,
            "rgb(35, 93, 114)"
           ],
           [
            1,
            "rgb(18, 63, 90)"
           ]
          ]
         },
         "name": "Propable Scoreline",
         "type": "bar",
         "visible": false,
         "x": [
          "1 - 2",
          "0 - 2",
          "1 - 1",
          "0 - 1",
          "1 - 3",
          "0 - 3",
          "2 - 2",
          "2 - 1",
          "1 - 0",
          "0 - 0",
          "1 - 4",
          "0 - 4",
          "2 - 3",
          "2 - 0",
          "2 - 4",
          "Other",
          "Other",
          "Other",
          "Other",
          "Other",
          "Other",
          "Other",
          "Other",
          "Other",
          "Other"
         ],
         "xaxis": "x",
         "y": [
          0.09879521359857439,
          0.09558364805774094,
          0.09081295928006135,
          0.08786087526645722,
          0.07165272671335522,
          0.06932349010727447,
          0.051057343114230894,
          0.046932115962829174,
          0.04173781943886138,
          0.04038103566587392,
          0.038975419899791995,
          0.03770843427437206,
          0.03703011228599425,
          0.021570095253688606,
          0.020142487822645064,
          0.017590948595792553,
          0.016169670982425135,
          0.012758102204064588,
          0.007431613430512146,
          0.006939755307807387,
          0.00454549904517408,
          0.004178241077287453,
          0.0032966921067963087,
          0.001920328035099569,
          0.0017932319541269744
         ],
         "yaxis": "y"
        },
        {
         "fill": "toself",
         "hovertemplate": "%{theta}<br>Prob: %{r:.2f}<br>Bookmaker Odds",
         "marker": {
          "color": "rgb(82, 106, 131)"
         },
         "name": "Bookmaker Odds",
         "r": [
          0.3424657534246575,
          0.2531645569620253,
          0.45454545454545453,
          0.5263157894736842,
          0.5235602094240838,
          0.7462686567164178,
          0.3225806451612903
         ],
         "subplot": "polar",
         "theta": [
          "Home",
          "Draw",
          "Away",
          "Over",
          "Under",
          "GG",
          "NG"
         ],
         "type": "scatterpolar",
         "visible": false
        },
        {
         "fill": "toself",
         "hovertemplate": "%{theta}<br>Prob: %{r:.2f}<br>Predicted Odds",
         "marker": {
          "color": "rgb(141,211,199)"
         },
         "name": "Predicted Odds",
         "r": [
          0.472427829689319,
          0.21406822082644933,
          0.31350230040176874,
          0.704131292110205,
          0.295868707889795,
          0.6956962172246941,
          0.30430213369284326
         ],
         "subplot": "polar",
         "theta": [
          "Home",
          "Draw",
          "Away",
          "Over",
          "Under",
          "GG",
          "NG"
         ],
         "type": "scatterpolar",
         "visible": false
        },
        {
         "hovertemplate": "Score %{x}<br>Prob: %{y:.3f}",
         "marker": {
          "color": [
           0.08672506005061621,
           0.08595723169845956,
           0.07030463741192489,
           0.06968218879255855,
           0.05833316477794215,
           0.05349032665309825,
           0.053016745091478135,
           0.04728843077663745,
           0.0425981006928698,
           0.03799549241197755,
           0.037659095800536266,
           0.035978759044502505,
           0.03453262553984935,
           0.029427118104829474,
           0.026273678214039895,
           0.025556595964227165,
           0.023855421572847056,
           0.018662838753826728,
           0.01815007287360703,
           0.01540073489573009,
           0.015264383062821723,
           0.012892442415212499,
           0.010358869810521898,
           0.007564619216747867,
           0.00522570113428936
          ],
          "colorscale": [
           [
            0,
            "rgb(210, 251, 212)"
           ],
           [
            0.16666666666666666,
            "rgb(165, 219, 194)"
           ],
           [
            0.3333333333333333,
            "rgb(123, 188, 176)"
           ],
           [
            0.5,
            "rgb(85, 156, 158)"
           ],
           [
            0.6666666666666666,
            "rgb(58, 124, 137)"
           ],
           [
            0.8333333333333334,
            "rgb(35, 93, 114)"
           ],
           [
            1,
            "rgb(18, 63, 90)"
           ]
          ]
         },
         "name": "Propable Scoreline",
         "type": "bar",
         "visible": false,
         "x": [
          "2 - 1",
          "1 - 1",
          "2 - 2",
          "1 - 2",
          "3 - 1",
          "2 - 0",
          "1 - 0",
          "3 - 2",
          "0 - 1",
          "2 - 3",
          "1 - 3",
          "3 - 0",
          "0 - 2",
          "4 - 1",
          "0 - 0",
          "3 - 3",
          "4 - 2",
          "Other",
          "Other",
          "Other",
          "Other",
          "Other",
          "Other",
          "Other",
          "Other"
         ],
         "xaxis": "x",
         "y": [
          0.08672506005061621,
          0.08595723169845956,
          0.07030463741192489,
          0.06968218879255855,
          0.05833316477794215,
          0.05349032665309825,
          0.053016745091478135,
          0.04728843077663745,
          0.0425981006928698,
          0.03799549241197755,
          0.037659095800536266,
          0.035978759044502505,
          0.03453262553984935,
          0.029427118104829474,
          0.026273678214039895,
          0.025556595964227165,
          0.023855421572847056,
          0.018662838753826728,
          0.01815007287360703,
          0.01540073489573009,
          0.015264383062821723,
          0.012892442415212499,
          0.010358869810521898,
          0.007564619216747867,
          0.00522570113428936
         ],
         "yaxis": "y"
        },
        {
         "fill": "toself",
         "hovertemplate": "%{theta}<br>Prob: %{r:.2f}<br>Bookmaker Odds",
         "marker": {
          "color": "rgb(82, 106, 131)"
         },
         "name": "Bookmaker Odds",
         "r": [
          0.3125,
          0.273972602739726,
          0.46511627906976744,
          0.5813953488372093,
          0.46511627906976744,
          0.625,
          0.44052863436123346
         ],
         "subplot": "polar",
         "theta": [
          "Home",
          "Draw",
          "Away",
          "Over",
          "Under",
          "GG",
          "NG"
         ],
         "type": "scatterpolar",
         "visible": false
        },
        {
         "fill": "toself",
         "hovertemplate": "%{theta}<br>Prob: %{r:.2f}<br>Predicted Odds",
         "marker": {
          "color": "rgb(141,211,199)"
         },
         "name": "Predicted Odds",
         "r": [
          0.23583132886834166,
          0.21824673112930595,
          0.545920769384119,
          0.6195017484837995,
          0.38049825151620054,
          0.608476919271628,
          0.3915219101101388
         ],
         "subplot": "polar",
         "theta": [
          "Home",
          "Draw",
          "Away",
          "Over",
          "Under",
          "GG",
          "NG"
         ],
         "type": "scatterpolar",
         "visible": false
        },
        {
         "hovertemplate": "Score %{x}<br>Prob: %{y:.3f}",
         "marker": {
          "color": [
           0.09885922158147058,
           0.09731765190684352,
           0.08048196311748455,
           0.07922696078475708,
           0.06386674721997936,
           0.06071637242140719,
           0.05976958650724674,
           0.051994352291718955,
           0.050212605319791104,
           0.040878422718004584,
           0.03922504291980948,
           0.03143541783430994,
           0.030839077994692595,
           0.02559178696990519,
           0.0248601180617697,
           0.024472459697698023,
           0.019306691939482656,
           0.01606056421151794,
           0.01262695858281998,
           0.007905061219180004,
           0.007634169896000245,
           0.007515125818833138,
           0.004931958710401277,
           0.0038775498511910166,
           0.0024275258965205005
          ],
          "colorscale": [
           [
            0,
            "rgb(210, 251, 212)"
           ],
           [
            0.16666666666666666,
            "rgb(165, 219, 194)"
           ],
           [
            0.3333333333333333,
            "rgb(123, 188, 176)"
           ],
           [
            0.5,
            "rgb(85, 156, 158)"
           ],
           [
            0.6666666666666666,
            "rgb(58, 124, 137)"
           ],
           [
            0.8333333333333334,
            "rgb(35, 93, 114)"
           ],
           [
            1,
            "rgb(18, 63, 90)"
           ]
          ]
         },
         "name": "Propable Scoreline",
         "type": "bar",
         "visible": false,
         "x": [
          "1 - 1",
          "1 - 2",
          "0 - 1",
          "0 - 2",
          "1 - 3",
          "2 - 1",
          "2 - 2",
          "0 - 3",
          "1 - 0",
          "0 - 0",
          "2 - 3",
          "1 - 4",
          "2 - 0",
          "0 - 4",
          "3 - 1",
          "3 - 2",
          "Other",
          "Other",
          "Other",
          "Other",
          "Other",
          "Other",
          "Other",
          "Other",
          "Other"
         ],
         "xaxis": "x",
         "y": [
          0.09885922158147058,
          0.09731765190684352,
          0.08048196311748455,
          0.07922696078475708,
          0.06386674721997936,
          0.06071637242140719,
          0.05976958650724674,
          0.051994352291718955,
          0.050212605319791104,
          0.040878422718004584,
          0.03922504291980948,
          0.03143541783430994,
          0.030839077994692595,
          0.02559178696990519,
          0.0248601180617697,
          0.024472459697698023,
          0.019306691939482656,
          0.01606056421151794,
          0.01262695858281998,
          0.007905061219180004,
          0.007634169896000245,
          0.007515125818833138,
          0.004931958710401277,
          0.0038775498511910166,
          0.0024275258965205005
         ],
         "yaxis": "y"
        },
        {
         "fill": "toself",
         "hovertemplate": "%{theta}<br>Prob: %{r:.2f}<br>Bookmaker Odds",
         "marker": {
          "color": "rgb(82, 106, 131)"
         },
         "name": "Bookmaker Odds",
         "r": [
          0.3389830508474576,
          0.29411764705882354,
          0.4166666666666667,
          0.5464480874316939,
          0.5050505050505051,
          0.6060606060606061,
          0.46511627906976744
         ],
         "subplot": "polar",
         "theta": [
          "Home",
          "Draw",
          "Away",
          "Over",
          "Under",
          "GG",
          "NG"
         ],
         "type": "scatterpolar",
         "visible": false
        },
        {
         "fill": "toself",
         "hovertemplate": "%{theta}<br>Prob: %{r:.2f}<br>Predicted Odds",
         "marker": {
          "color": "rgb(141,211,199)"
         },
         "name": "Predicted Odds",
         "r": [
          0.4309091294587552,
          0.22219577166345067,
          0.3468943261144379,
          0.6764393403233269,
          0.3235606596766731,
          0.6787072370352856,
          0.3212919902013582
         ],
         "subplot": "polar",
         "theta": [
          "Home",
          "Draw",
          "Away",
          "Over",
          "Under",
          "GG",
          "NG"
         ],
         "type": "scatterpolar",
         "visible": false
        },
        {
         "hovertemplate": "Score %{x}<br>Prob: %{y:.3f}",
         "marker": {
          "color": [
           0.09273824383827792,
           0.08555335927441018,
           0.07606042985104076,
           0.07016765696965131,
           0.056536505822088835,
           0.052616748532929886,
           0.052156346664832064,
           0.05026326226783446,
           0.04315428398404618,
           0.041587941498465474,
           0.04122404280669715,
           0.03836592060882656,
           0.032077026549682544,
           0.03064225827694269,
           0.024270136055946235,
           0.023595683606462293,
           0.022540275987563307,
           0.01990545544702858,
           0.017054435020946578,
           0.0157331446680565,
           0.014795931340070676,
           0.010883805393324477,
           0.009676147420186063,
           0.00924334454491538,
           0.004463244516873459
          ],
          "colorscale": [
           [
            0,
            "rgb(210, 251, 212)"
           ],
           [
            0.16666666666666666,
            "rgb(165, 219, 194)"
           ],
           [
            0.3333333333333333,
            "rgb(123, 188, 176)"
           ],
           [
            0.5,
            "rgb(85, 156, 158)"
           ],
           [
            0.6666666666666666,
            "rgb(58, 124, 137)"
           ],
           [
            0.8333333333333334,
            "rgb(35, 93, 114)"
           ],
           [
            1,
            "rgb(18, 63, 90)"
           ]
          ]
         },
         "name": "Propable Scoreline",
         "type": "bar",
         "visible": false,
         "x": [
          "1 - 1",
          "2 - 1",
          "1 - 2",
          "2 - 2",
          "1 - 0",
          "3 - 1",
          "2 - 0",
          "0 - 1",
          "3 - 2",
          "1 - 3",
          "0 - 2",
          "2 - 3",
          "3 - 0",
          "0 - 0",
          "4 - 1",
          "3 - 3",
          "0 - 3",
          "Other",
          "Other",
          "Other",
          "Other",
          "Other",
          "Other",
          "Other",
          "Other"
         ],
         "xaxis": "x",
         "y": [
          0.09273824383827792,
          0.08555335927441018,
          0.07606042985104076,
          0.07016765696965131,
          0.056536505822088835,
          0.052616748532929886,
          0.052156346664832064,
          0.05026326226783446,
          0.04315428398404618,
          0.041587941498465474,
          0.04122404280669715,
          0.03836592060882656,
          0.032077026549682544,
          0.03064225827694269,
          0.024270136055946235,
          0.023595683606462293,
          0.022540275987563307,
          0.01990545544702858,
          0.017054435020946578,
          0.0157331446680565,
          0.014795931340070676,
          0.010883805393324477,
          0.009676147420186063,
          0.00924334454491538,
          0.004463244516873459
         ],
         "yaxis": "y"
        },
        {
         "fill": "toself",
         "hovertemplate": "%{theta}<br>Prob: %{r:.2f}<br>Bookmaker Odds",
         "marker": {
          "color": "rgb(82, 106, 131)"
         },
         "name": "Bookmaker Odds",
         "r": [
          0.7246376811594204,
          0.18867924528301888,
          0.136986301369863,
          0.5,
          0.5494505494505494,
          0.625,
          0.4444444444444444
         ],
         "subplot": "polar",
         "theta": [
          "Home",
          "Draw",
          "Away",
          "Over",
          "Under",
          "GG",
          "NG"
         ],
         "type": "scatterpolar",
         "visible": false
        },
        {
         "fill": "toself",
         "hovertemplate": "%{theta}<br>Prob: %{r:.2f}<br>Predicted Odds",
         "marker": {
          "color": "rgb(141,211,199)"
         },
         "name": "Predicted Odds",
         "r": [
          0.6484532471364394,
          0.18616825031100423,
          0.16537207476831423,
          0.6671680126736488,
          0.33283198732635116,
          0.6030837606494228,
          0.39690981156633487
         ],
         "subplot": "polar",
         "theta": [
          "Home",
          "Draw",
          "Away",
          "Over",
          "Under",
          "GG",
          "NG"
         ],
         "type": "scatterpolar",
         "visible": false
        },
        {
         "hovertemplate": "Score %{x}<br>Prob: %{y:.3f}",
         "marker": {
          "color": [
           0.09663018760101816,
           0.08768515686254502,
           0.082799868621498,
           0.07518041844963042,
           0.07513510682864154,
           0.06822098713050784,
           0.053243864126543285,
           0.04562326809072885,
           0.043869018512093634,
           0.04142490130968775,
           0.03980807514853972,
           0.035474515852358196,
           0.03219064936498264,
           0.024172115557375928,
           0.019558477790474194,
           0.01954668979632576,
           0.01675914568410386,
           0.01521692734983534,
           0.008879328971204895,
           0.007180235779847144,
           0.0053884244657466124,
           0.004617199334051423,
           0.004192313149506792,
           0.002446284111698917,
           0.0019781783920219654
          ],
          "colorscale": [
           [
            0,
            "rgb(210, 251, 212)"
           ],
           [
            0.16666666666666666,
            "rgb(165, 219, 194)"
           ],
           [
            0.3333333333333333,
            "rgb(123, 188, 176)"
           ],
           [
            0.5,
            "rgb(85, 156, 158)"
           ],
           [
            0.6666666666666666,
            "rgb(58, 124, 137)"
           ],
           [
            0.8333333333333334,
            "rgb(35, 93, 114)"
           ],
           [
            1,
            "rgb(18, 63, 90)"
           ]
          ]
         },
         "name": "Propable Scoreline",
         "type": "bar",
         "visible": false,
         "x": [
          "2 - 1",
          "2 - 0",
          "1 - 1",
          "3 - 1",
          "1 - 0",
          "3 - 0",
          "2 - 2",
          "1 - 2",
          "4 - 1",
          "3 - 2",
          "4 - 0",
          "0 - 1",
          "0 - 0",
          "4 - 2",
          "Other",
          "Other",
          "Other",
          "Other",
          "Other",
          "Other",
          "Other",
          "Other",
          "Other",
          "Other",
          "Other"
         ],
         "xaxis": "x",
         "y": [
          0.09663018760101816,
          0.08768515686254502,
          0.082799868621498,
          0.07518041844963042,
          0.07513510682864154,
          0.06822098713050784,
          0.053243864126543285,
          0.04562326809072885,
          0.043869018512093634,
          0.04142490130968775,
          0.03980807514853972,
          0.035474515852358196,
          0.03219064936498264,
          0.024172115557375928,
          0.019558477790474194,
          0.01954668979632576,
          0.01675914568410386,
          0.01521692734983534,
          0.008879328971204895,
          0.007180235779847144,
          0.0053884244657466124,
          0.004617199334051423,
          0.004192313149506792,
          0.002446284111698917,
          0.0019781783920219654
         ],
         "yaxis": "y"
        },
        {
         "fill": "toself",
         "hovertemplate": "%{theta}<br>Prob: %{r:.2f}<br>Bookmaker Odds",
         "marker": {
          "color": "rgb(82, 106, 131)"
         },
         "name": "Bookmaker Odds",
         "r": [
          0.4166666666666667,
          0.2777777777777778,
          0.3546099290780142,
          0.5494505494505494,
          0.5,
          0.6060606060606061,
          0.46511627906976744
         ],
         "subplot": "polar",
         "theta": [
          "Home",
          "Draw",
          "Away",
          "Over",
          "Under",
          "GG",
          "NG"
         ],
         "type": "scatterpolar",
         "visible": false
        },
        {
         "fill": "toself",
         "hovertemplate": "%{theta}<br>Prob: %{r:.2f}<br>Predicted Odds",
         "marker": {
          "color": "rgb(141,211,199)"
         },
         "name": "Predicted Odds",
         "r": [
          0.38093125609164813,
          0.2258272867006267,
          0.39324091970342306,
          0.6632683822924985,
          0.33673161770750143,
          0.6702948270083559,
          0.3297046354873421
         ],
         "subplot": "polar",
         "theta": [
          "Home",
          "Draw",
          "Away",
          "Over",
          "Under",
          "GG",
          "NG"
         ],
         "type": "scatterpolar",
         "visible": false
        },
        {
         "hovertemplate": "Score %{x}<br>Prob: %{y:.3f}",
         "marker": {
          "color": [
           0.09582013862860529,
           0.08253283807883843,
           0.08111097814418623,
           0.06986338489382922,
           0.056598374084971106,
           0.05562330813121093,
           0.04874992366673471,
           0.04739205111324597,
           0.047084683811875784,
           0.045773194582171224,
           0.04011699082333713,
           0.03942586298527556,
           0.03285518938410363,
           0.027993207648739644,
           0.026571204580097606,
           0.022639140459427522,
           0.02041011700011196,
           0.019373320882650626,
           0.017277000196513508,
           0.01668683826115705,
           0.012055706176420706,
           0.011246155687138605,
           0.009749894649099445,
           0.009581925330567204,
           0.004126603776145748
          ],
          "colorscale": [
           [
            0,
            "rgb(210, 251, 212)"
           ],
           [
            0.16666666666666666,
            "rgb(165, 219, 194)"
           ],
           [
            0.3333333333333333,
            "rgb(123, 188, 176)"
           ],
           [
            0.5,
            "rgb(85, 156, 158)"
           ],
           [
            0.6666666666666666,
            "rgb(58, 124, 137)"
           ],
           [
            0.8333333333333334,
            "rgb(35, 93, 114)"
           ],
           [
            1,
            "rgb(18, 63, 90)"
           ]
          ]
         },
         "name": "Propable Scoreline",
         "type": "bar",
         "visible": false,
         "x": [
          "1 - 1",
          "1 - 2",
          "2 - 1",
          "2 - 2",
          "0 - 1",
          "1 - 0",
          "0 - 2",
          "1 - 3",
          "2 - 0",
          "3 - 1",
          "2 - 3",
          "3 - 2",
          "0 - 0",
          "0 - 3",
          "3 - 0",
          "3 - 3",
          "1 - 4",
          "Other",
          "Other",
          "Other",
          "Other",
          "Other",
          "Other",
          "Other",
          "Other"
         ],
         "xaxis": "x",
         "y": [
          0.09582013862860529,
          0.08253283807883843,
          0.08111097814418623,
          0.06986338489382922,
          0.056598374084971106,
          0.05562330813121093,
          0.04874992366673471,
          0.04739205111324597,
          0.047084683811875784,
          0.045773194582171224,
          0.04011699082333713,
          0.03942586298527556,
          0.03285518938410363,
          0.027993207648739644,
          0.026571204580097606,
          0.022639140459427522,
          0.02041011700011196,
          0.019373320882650626,
          0.017277000196513508,
          0.01668683826115705,
          0.012055706176420706,
          0.011246155687138605,
          0.009749894649099445,
          0.009581925330567204,
          0.004126603776145748
         ],
         "yaxis": "y"
        },
        {
         "fill": "toself",
         "hovertemplate": "%{theta}<br>Prob: %{r:.2f}<br>Bookmaker Odds",
         "marker": {
          "color": "rgb(82, 106, 131)"
         },
         "name": "Bookmaker Odds",
         "r": [
          0.6802721088435374,
          0.2298850574712644,
          0.14285714285714285,
          0.5555555555555556,
          0.49504950495049505,
          0.5181347150259068,
          0.5555555555555556
         ],
         "subplot": "polar",
         "theta": [
          "Home",
          "Draw",
          "Away",
          "Over",
          "Under",
          "GG",
          "NG"
         ],
         "type": "scatterpolar",
         "visible": false
        },
        {
         "fill": "toself",
         "hovertemplate": "%{theta}<br>Prob: %{r:.2f}<br>Predicted Odds",
         "marker": {
          "color": "rgb(141,211,199)"
         },
         "name": "Predicted Odds",
         "r": [
          0.6310651054614458,
          0.20309408047729868,
          0.16583877272857653,
          0.5868162231873434,
          0.4131837768126566,
          0.5414329625620461,
          0.45856499610527507
         ],
         "subplot": "polar",
         "theta": [
          "Home",
          "Draw",
          "Away",
          "Over",
          "Under",
          "GG",
          "NG"
         ],
         "type": "scatterpolar",
         "visible": false
        },
        {
         "hovertemplate": "Score %{x}<br>Prob: %{y:.3f}",
         "marker": {
          "color": [
           0.10305646697474533,
           0.09934944315232125,
           0.0990464417025011,
           0.09548366170726329,
           0.07148589559106179,
           0.06891449055746669,
           0.047887881975883645,
           0.047596225166204285,
           0.04602451888383625,
           0.04588415074983779,
           0.03719004797904982,
           0.035852292107317704,
           0.03321779051327281,
           0.022116830512104856,
           0.017281328193936848,
           0.01538843881000375,
           0.014789660001259794,
           0.010674306643472917,
           0.007107090123095162,
           0.005553234983370398,
           0.003708726079102081,
           0.003564416015487392,
           0.0025725858167785737,
           0.0017128605969383207,
           0.0013383701661028203
          ],
          "colorscale": [
           [
            0,
            "rgb(210, 251, 212)"
           ],
           [
            0.16666666666666666,
            "rgb(165, 219, 194)"
           ],
           [
            0.3333333333333333,
            "rgb(123, 188, 176)"
           ],
           [
            0.5,
            "rgb(85, 156, 158)"
           ],
           [
            0.6666666666666666,
            "rgb(58, 124, 137)"
           ],
           [
            0.8333333333333334,
            "rgb(35, 93, 114)"
           ],
           [
            1,
            "rgb(18, 63, 90)"
           ]
          ]
         },
         "name": "Propable Scoreline",
         "type": "bar",
         "visible": false,
         "x": [
          "2 - 0",
          "2 - 1",
          "1 - 0",
          "1 - 1",
          "3 - 0",
          "3 - 1",
          "2 - 2",
          "0 - 0",
          "1 - 2",
          "0 - 1",
          "4 - 0",
          "4 - 1",
          "3 - 2",
          "0 - 2",
          "Other",
          "Other",
          "Other",
          "Other",
          "Other",
          "Other",
          "Other",
          "Other",
          "Other",
          "Other",
          "Other"
         ],
         "xaxis": "x",
         "y": [
          0.10305646697474533,
          0.09934944315232125,
          0.0990464417025011,
          0.09548366170726329,
          0.07148589559106179,
          0.06891449055746669,
          0.047887881975883645,
          0.047596225166204285,
          0.04602451888383625,
          0.04588415074983779,
          0.03719004797904982,
          0.035852292107317704,
          0.03321779051327281,
          0.022116830512104856,
          0.017281328193936848,
          0.01538843881000375,
          0.014789660001259794,
          0.010674306643472917,
          0.007107090123095162,
          0.005553234983370398,
          0.003708726079102081,
          0.003564416015487392,
          0.0025725858167785737,
          0.0017128605969383207,
          0.0013383701661028203
         ],
         "yaxis": "y"
        },
        {
         "fill": "toself",
         "hovertemplate": "%{theta}<br>Prob: %{r:.2f}<br>Bookmaker Odds",
         "marker": {
          "color": "rgb(82, 106, 131)"
         },
         "name": "Bookmaker Odds",
         "r": [
          0.7042253521126761,
          0.2,
          0.14705882352941177,
          0.5319148936170213,
          0.5181347150259068,
          0.6666666666666666,
          0.4048582995951417
         ],
         "subplot": "polar",
         "theta": [
          "Home",
          "Draw",
          "Away",
          "Over",
          "Under",
          "GG",
          "NG"
         ],
         "type": "scatterpolar",
         "visible": false
        },
        {
         "fill": "toself",
         "hovertemplate": "%{theta}<br>Prob: %{r:.2f}<br>Predicted Odds",
         "marker": {
          "color": "rgb(141,211,199)"
         },
         "name": "Predicted Odds",
         "r": [
          0.6549816866736875,
          0.1765346807336237,
          0.16847004489601008,
          0.7221702238680652,
          0.2778297761319348,
          0.6496516087633802,
          0.3503348035399412
         ],
         "subplot": "polar",
         "theta": [
          "Home",
          "Draw",
          "Away",
          "Over",
          "Under",
          "GG",
          "NG"
         ],
         "type": "scatterpolar",
         "visible": false
        },
        {
         "hovertemplate": "Score %{x}<br>Prob: %{y:.3f}",
         "marker": {
          "color": [
           0.09192812638227438,
           0.0772002621672148,
           0.07498015569123627,
           0.07297713058582732,
           0.06296753675399787,
           0.059522986365140314,
           0.05635344673699538,
           0.048623968908354846,
           0.04732502481374498,
           0.044736176003258056,
           0.03965960041340807,
           0.029807289127418212,
           0.028966442579252818,
           0.023626157302303295,
           0.023030390401108825,
           0.01934067675202542,
           0.01828267227763683,
           0.017756903608174824,
           0.012181570873685458,
           0.007256848446550372,
           0.007059003211944861,
           0.005928075770142461,
           0.005603788736666837,
           0.0037337512055262228,
           0.0022242834620089555
          ],
          "colorscale": [
           [
            0,
            "rgb(210, 251, 212)"
           ],
           [
            0.16666666666666666,
            "rgb(165, 219, 194)"
           ],
           [
            0.3333333333333333,
            "rgb(123, 188, 176)"
           ],
           [
            0.5,
            "rgb(85, 156, 158)"
           ],
           [
            0.6666666666666666,
            "rgb(58, 124, 137)"
           ],
           [
            0.8333333333333334,
            "rgb(35, 93, 114)"
           ],
           [
            1,
            "rgb(18, 63, 90)"
           ]
          ]
         },
         "name": "Propable Scoreline",
         "type": "bar",
         "visible": false,
         "x": [
          "2 - 1",
          "3 - 1",
          "2 - 0",
          "1 - 1",
          "3 - 0",
          "1 - 0",
          "2 - 2",
          "4 - 1",
          "3 - 2",
          "1 - 2",
          "4 - 0",
          "4 - 2",
          "0 - 1",
          "0 - 0",
          "2 - 3",
          "Other",
          "Other",
          "Other",
          "Other",
          "Other",
          "Other",
          "Other",
          "Other",
          "Other",
          "Other"
         ],
         "xaxis": "x",
         "y": [
          0.09192812638227438,
          0.0772002621672148,
          0.07498015569123627,
          0.07297713058582732,
          0.06296753675399787,
          0.059522986365140314,
          0.05635344673699538,
          0.048623968908354846,
          0.04732502481374498,
          0.044736176003258056,
          0.03965960041340807,
          0.029807289127418212,
          0.028966442579252818,
          0.023626157302303295,
          0.023030390401108825,
          0.01934067675202542,
          0.01828267227763683,
          0.017756903608174824,
          0.012181570873685458,
          0.007256848446550372,
          0.007059003211944861,
          0.005928075770142461,
          0.005603788736666837,
          0.0037337512055262228,
          0.0022242834620089555
         ],
         "yaxis": "y"
        },
        {
         "fill": "toself",
         "hovertemplate": "%{theta}<br>Prob: %{r:.2f}<br>Bookmaker Odds",
         "marker": {
          "color": "rgb(82, 106, 131)"
         },
         "name": "Bookmaker Odds",
         "r": [
          0.5494505494505494,
          0.26666666666666666,
          0.2298850574712644,
          0.53475935828877,
          0.5181347150259068,
          0.5617977528089888,
          0.5050505050505051
         ],
         "subplot": "polar",
         "theta": [
          "Home",
          "Draw",
          "Away",
          "Over",
          "Under",
          "GG",
          "NG"
         ],
         "type": "scatterpolar",
         "visible": false
        },
        {
         "fill": "toself",
         "hovertemplate": "%{theta}<br>Prob: %{r:.2f}<br>Predicted Odds",
         "marker": {
          "color": "rgb(141,211,199)"
         },
         "name": "Predicted Odds",
         "r": [
          0.6665534602735664,
          0.19149303528760195,
          0.1419503384940042,
          0.5913258128586262,
          0.4086741871413738,
          0.5229362518572519,
          0.47706058219792025
         ],
         "subplot": "polar",
         "theta": [
          "Home",
          "Draw",
          "Away",
          "Over",
          "Under",
          "GG",
          "NG"
         ],
         "type": "scatterpolar",
         "visible": false
        },
        {
         "hovertemplate": "Score %{x}<br>Prob: %{y:.3f}",
         "marker": {
          "color": [
           0.11017068337892762,
           0.1013632927821064,
           0.09824278413403321,
           0.09038894728152332,
           0.07982889494504503,
           0.07118602384238758,
           0.046629996331656744,
           0.043803144077856924,
           0.043382587858436135,
           0.04158148541227925,
           0.04030138310633233,
           0.03868566558213136,
           0.031739447188749464,
           0.018539781954880544,
           0.017248633557961884,
           0.01302022975032804,
           0.011979351673198631,
           0.009434366031154995,
           0.005510842330049948,
           0.005127055980381342,
           0.0029026406606225542,
           0.002670594445819753,
           0.002103232813425337,
           0.0012285493672705662,
           0.00114299067246244
          ],
          "colorscale": [
           [
            0,
            "rgb(210, 251, 212)"
           ],
           [
            0.16666666666666666,
            "rgb(165, 219, 194)"
           ],
           [
            0.3333333333333333,
            "rgb(123, 188, 176)"
           ],
           [
            0.5,
            "rgb(85, 156, 158)"
           ],
           [
            0.6666666666666666,
            "rgb(58, 124, 137)"
           ],
           [
            0.8333333333333334,
            "rgb(35, 93, 114)"
           ],
           [
            1,
            "rgb(18, 63, 90)"
           ]
          ]
         },
         "name": "Propable Scoreline",
         "type": "bar",
         "visible": false,
         "x": [
          "2 - 0",
          "1 - 0",
          "2 - 1",
          "1 - 1",
          "3 - 0",
          "3 - 1",
          "0 - 0",
          "2 - 2",
          "4 - 0",
          "0 - 1",
          "1 - 2",
          "4 - 1",
          "3 - 2",
          "Other",
          "Other",
          "Other",
          "Other",
          "Other",
          "Other",
          "Other",
          "Other",
          "Other",
          "Other",
          "Other",
          "Other"
         ],
         "xaxis": "x",
         "y": [
          0.11017068337892762,
          0.1013632927821064,
          0.09824278413403321,
          0.09038894728152332,
          0.07982889494504503,
          0.07118602384238758,
          0.046629996331656744,
          0.043803144077856924,
          0.043382587858436135,
          0.04158148541227925,
          0.04030138310633233,
          0.03868566558213136,
          0.031739447188749464,
          0.018539781954880544,
          0.017248633557961884,
          0.01302022975032804,
          0.011979351673198631,
          0.009434366031154995,
          0.005510842330049948,
          0.005127055980381342,
          0.0029026406606225542,
          0.002670594445819753,
          0.002103232813425337,
          0.0012285493672705662,
          0.00114299067246244
         ],
         "yaxis": "y"
        },
        {
         "fill": "toself",
         "hovertemplate": "%{theta}<br>Prob: %{r:.2f}<br>Bookmaker Odds",
         "marker": {
          "color": "rgb(82, 106, 131)"
         },
         "name": "Bookmaker Odds",
         "r": [
          0.5617977528089888,
          0.27027027027027023,
          0.21978021978021978,
          0.49504950495049505,
          0.5555555555555556,
          0.5235602094240838,
          0.5464480874316939
         ],
         "subplot": "polar",
         "theta": [
          "Home",
          "Draw",
          "Away",
          "Over",
          "Under",
          "GG",
          "NG"
         ],
         "type": "scatterpolar",
         "visible": false
        },
        {
         "fill": "toself",
         "hovertemplate": "%{theta}<br>Prob: %{r:.2f}<br>Predicted Odds",
         "marker": {
          "color": "rgb(141,211,199)"
         },
         "name": "Predicted Odds",
         "r": [
          0.4526899818461619,
          0.2553015973886292,
          0.2920083437929977,
          0.49881340741781377,
          0.5011865925821862,
          0.5347696298636516,
          0.4652302931641378
         ],
         "subplot": "polar",
         "theta": [
          "Home",
          "Draw",
          "Away",
          "Over",
          "Under",
          "GG",
          "NG"
         ],
         "type": "scatterpolar",
         "visible": false
        },
        {
         "hovertemplate": "Score %{x}<br>Prob: %{y:.3f}",
         "marker": {
          "color": [
           0.12133998658897333,
           0.10457687348668326,
           0.09154838993090168,
           0.08041316923500814,
           0.07890098442275144,
           0.07039506850091044,
           0.06930409391125555,
           0.05311155342520474,
           0.04665148493751451,
           0.04604751730815421,
           0.03968605508605112,
           0.027226340404085708,
           0.026714343938282127,
           0.020541683724985743,
           0.01804315609478269,
           0.017370926882317346,
           0.014971134198918795,
           0.010332170096916463,
           0.010077696744332423,
           0.00789764426242688,
           0.005958601420662329,
           0.0052338443614937365,
           0.003897699198158919,
           0.0029970904158711552,
           0.001130619879577582
          ],
          "colorscale": [
           [
            0,
            "rgb(210, 251, 212)"
           ],
           [
            0.16666666666666666,
            "rgb(165, 219, 194)"
           ],
           [
            0.3333333333333333,
            "rgb(123, 188, 176)"
           ],
           [
            0.5,
            "rgb(85, 156, 158)"
           ],
           [
            0.6666666666666666,
            "rgb(58, 124, 137)"
           ],
           [
            0.8333333333333334,
            "rgb(35, 93, 114)"
           ],
           [
            1,
            "rgb(18, 63, 90)"
           ]
          ]
         },
         "name": "Propable Scoreline",
         "type": "bar",
         "visible": false,
         "x": [
          "1 - 1",
          "1 - 0",
          "2 - 1",
          "0 - 1",
          "2 - 0",
          "1 - 2",
          "0 - 0",
          "2 - 2",
          "0 - 2",
          "3 - 1",
          "3 - 0",
          "1 - 3",
          "3 - 2",
          "2 - 3",
          "Other",
          "Other",
          "Other",
          "Other",
          "Other",
          "Other",
          "Other",
          "Other",
          "Other",
          "Other",
          "Other"
         ],
         "xaxis": "x",
         "y": [
          0.12133998658897333,
          0.10457687348668326,
          0.09154838993090168,
          0.08041316923500814,
          0.07890098442275144,
          0.07039506850091044,
          0.06930409391125555,
          0.05311155342520474,
          0.04665148493751451,
          0.04604751730815421,
          0.03968605508605112,
          0.027226340404085708,
          0.026714343938282127,
          0.020541683724985743,
          0.01804315609478269,
          0.017370926882317346,
          0.014971134198918795,
          0.010332170096916463,
          0.010077696744332423,
          0.00789764426242688,
          0.005958601420662329,
          0.0052338443614937365,
          0.003897699198158919,
          0.0029970904158711552,
          0.001130619879577582
         ],
         "yaxis": "y"
        },
        {
         "fill": "toself",
         "hovertemplate": "%{theta}<br>Prob: %{r:.2f}<br>Bookmaker Odds",
         "marker": {
          "color": "rgb(82, 106, 131)"
         },
         "name": "Bookmaker Odds",
         "r": [
          0.29411764705882354,
          0.2777777777777778,
          0.47619047619047616,
          0.5714285714285714,
          0.48309178743961356,
          0.6172839506172839,
          0.45454545454545453
         ],
         "subplot": "polar",
         "theta": [
          "Home",
          "Draw",
          "Away",
          "Over",
          "Under",
          "GG",
          "NG"
         ],
         "type": "scatterpolar",
         "visible": false
        },
        {
         "fill": "toself",
         "hovertemplate": "%{theta}<br>Prob: %{r:.2f}<br>Predicted Odds",
         "marker": {
          "color": "rgb(141,211,199)"
         },
         "name": "Predicted Odds",
         "r": [
          0.4125970433234088,
          0.22073442786679742,
          0.36666769078515604,
          0.6882255005242849,
          0.3117744994757151,
          0.6891589402740544,
          0.3108402217013078
         ],
         "subplot": "polar",
         "theta": [
          "Home",
          "Draw",
          "Away",
          "Over",
          "Under",
          "GG",
          "NG"
         ],
         "type": "scatterpolar",
         "visible": false
        },
        {
         "hovertemplate": "Score %{x}<br>Prob: %{y:.3f}",
         "marker": {
          "color": [
           0.09042589935001209,
           0.08279212860163798,
           0.07769479686767476,
           0.07113578808929821,
           0.05262156285178812,
           0.05053520143868123,
           0.049381767393626014,
           0.04817924101568624,
           0.04450407463422103,
           0.043420328010758555,
           0.04242928645656899,
           0.04074703261895542,
           0.02940796052732853,
           0.028736742408033627,
           0.024871440512603125,
           0.024303765596503085,
           0.023134505304869924,
           0.01987738804055116,
           0.019119163112250415,
           0.017505119910592493,
           0.013462667595189097,
           0.01138589450715345,
           0.010684889684942338,
           0.010441013828521228,
           0.004891434684359283
          ],
          "colorscale": [
           [
            0,
            "rgb(210, 251, 212)"
           ],
           [
            0.16666666666666666,
            "rgb(165, 219, 194)"
           ],
           [
            0.3333333333333333,
            "rgb(123, 188, 176)"
           ],
           [
            0.5,
            "rgb(85, 156, 158)"
           ],
           [
            0.6666666666666666,
            "rgb(58, 124, 137)"
           ],
           [
            0.8333333333333334,
            "rgb(35, 93, 114)"
           ],
           [
            1,
            "rgb(18, 63, 90)"
           ]
          ]
         },
         "name": "Propable Scoreline",
         "type": "bar",
         "visible": false,
         "x": [
          "1 - 1",
          "2 - 1",
          "1 - 2",
          "2 - 2",
          "1 - 0",
          "3 - 1",
          "0 - 1",
          "2 - 0",
          "1 - 3",
          "3 - 2",
          "0 - 2",
          "2 - 3",
          "3 - 0",
          "0 - 0",
          "3 - 3",
          "0 - 3",
          "4 - 1",
          "Other",
          "Other",
          "Other",
          "Other",
          "Other",
          "Other",
          "Other",
          "Other"
         ],
         "xaxis": "x",
         "y": [
          0.09042589935001209,
          0.08279212860163798,
          0.07769479686767476,
          0.07113578808929821,
          0.05262156285178812,
          0.05053520143868123,
          0.049381767393626014,
          0.04817924101568624,
          0.04450407463422103,
          0.043420328010758555,
          0.04242928645656899,
          0.04074703261895542,
          0.02940796052732853,
          0.028736742408033627,
          0.024871440512603125,
          0.024303765596503085,
          0.023134505304869924,
          0.01987738804055116,
          0.019119163112250415,
          0.017505119910592493,
          0.013462667595189097,
          0.01138589450715345,
          0.010684889684942338,
          0.010441013828521228,
          0.004891434684359283
         ],
         "yaxis": "y"
        },
        {
         "fill": "toself",
         "hovertemplate": "%{theta}<br>Prob: %{r:.2f}<br>Bookmaker Odds",
         "marker": {
          "color": "rgb(82, 106, 131)"
         },
         "name": "Bookmaker Odds",
         "r": [
          0.1694915254237288,
          0.2298850574712644,
          0.6535947712418301,
          0.625,
          0.425531914893617,
          0.6060606060606061,
          0.46511627906976744
         ],
         "subplot": "polar",
         "theta": [
          "Home",
          "Draw",
          "Away",
          "Over",
          "Under",
          "GG",
          "NG"
         ],
         "type": "scatterpolar",
         "visible": false
        },
        {
         "fill": "toself",
         "hovertemplate": "%{theta}<br>Prob: %{r:.2f}<br>Predicted Odds",
         "marker": {
          "color": "rgb(141,211,199)"
         },
         "name": "Predicted Odds",
         "r": [
          0.10697327634384984,
          0.18607949752951208,
          0.7069448208555995,
          0.5291962002703721,
          0.470803799729628,
          0.43351331894288375,
          0.566484275786078
         ],
         "subplot": "polar",
         "theta": [
          "Home",
          "Draw",
          "Away",
          "Over",
          "Under",
          "GG",
          "NG"
         ],
         "type": "scatterpolar",
         "visible": false
        },
        {
         "hovertemplate": "Score %{x}<br>Prob: %{y:.3f}",
         "marker": {
          "color": [
           0.13679928072759656,
           0.12935211115664128,
           0.0964501367121132,
           0.092913394206785,
           0.08785531350350426,
           0.06550845535127928,
           0.06115517776002728,
           0.0510015229373317,
           0.041536293968665344,
           0.03463998188162069,
           0.03155315867565052,
           0.029835446989543497,
           0.022246509278257966,
           0.014105622613193229,
           0.011763652099501283,
           0.0071435830532319946,
           0.0067546959621693214,
           0.00503657298805935,
           0.0031934896816733904,
           0.002663271422235252,
           0.0012129715608584298,
           0.0011469390141197776,
           0.0008552038596289212,
           0.0005422505953804388,
           0.00045222019117657916
          ],
          "colorscale": [
           [
            0,
            "rgb(210, 251, 212)"
           ],
           [
            0.16666666666666666,
            "rgb(165, 219, 194)"
           ],
           [
            0.3333333333333333,
            "rgb(123, 188, 176)"
           ],
           [
            0.5,
            "rgb(85, 156, 158)"
           ],
           [
            0.6666666666666666,
            "rgb(58, 124, 137)"
           ],
           [
            0.8333333333333334,
            "rgb(35, 93, 114)"
           ],
           [
            1,
            "rgb(18, 63, 90)"
           ]
          ]
         },
         "name": "Propable Scoreline",
         "type": "bar",
         "visible": false,
         "x": [
          "0 - 2",
          "0 - 1",
          "0 - 3",
          "1 - 2",
          "1 - 1",
          "1 - 3",
          "0 - 0",
          "0 - 4",
          "1 - 0",
          "1 - 4",
          "2 - 2",
          "2 - 1",
          "2 - 3",
          "Other",
          "Other",
          "Other",
          "Other",
          "Other",
          "Other",
          "Other",
          "Other",
          "Other",
          "Other",
          "Other",
          "Other"
         ],
         "xaxis": "x",
         "y": [
          0.13679928072759656,
          0.12935211115664128,
          0.0964501367121132,
          0.092913394206785,
          0.08785531350350426,
          0.06550845535127928,
          0.06115517776002728,
          0.0510015229373317,
          0.041536293968665344,
          0.03463998188162069,
          0.03155315867565052,
          0.029835446989543497,
          0.022246509278257966,
          0.014105622613193229,
          0.011763652099501283,
          0.0071435830532319946,
          0.0067546959621693214,
          0.00503657298805935,
          0.0031934896816733904,
          0.002663271422235252,
          0.0012129715608584298,
          0.0011469390141197776,
          0.0008552038596289212,
          0.0005422505953804388,
          0.00045222019117657916
         ],
         "yaxis": "y"
        },
        {
         "fill": "toself",
         "hovertemplate": "%{theta}<br>Prob: %{r:.2f}<br>Bookmaker Odds",
         "marker": {
          "color": "rgb(82, 106, 131)"
         },
         "name": "Bookmaker Odds",
         "r": [
          0.5181347150259068,
          0.26666666666666666,
          0.26666666666666666,
          0.6172839506172839,
          0.4347826086956522,
          0.6451612903225806,
          0.425531914893617
         ],
         "subplot": "polar",
         "theta": [
          "Home",
          "Draw",
          "Away",
          "Over",
          "Under",
          "GG",
          "NG"
         ],
         "type": "scatterpolar",
         "visible": false
        },
        {
         "fill": "toself",
         "hovertemplate": "%{theta}<br>Prob: %{r:.2f}<br>Predicted Odds",
         "marker": {
          "color": "rgb(141,211,199)"
         },
         "name": "Predicted Odds",
         "r": [
          0.546709885336973,
          0.21599825439927645,
          0.23729047752676918,
          0.6319011507312164,
          0.3680988492687836,
          0.6185336493729316,
          0.38146496789008666
         ],
         "subplot": "polar",
         "theta": [
          "Home",
          "Draw",
          "Away",
          "Over",
          "Under",
          "GG",
          "NG"
         ],
         "type": "scatterpolar",
         "visible": false
        },
        {
         "hovertemplate": "Score %{x}<br>Prob: %{y:.3f}",
         "marker": {
          "color": [
           0.09681751097487884,
           0.09676202725231792,
           0.0770821019283659,
           0.07703792808094158,
           0.0645820176746813,
           0.06080289844769611,
           0.060768053809423524,
           0.05141753407016402,
           0.04835328766305353,
           0.040558508710679814,
           0.03849688977422871,
           0.03230952462732995,
           0.030366614569875952,
           0.025723508542035336,
           0.025456775483518344,
           0.025442186834688178,
           0.020290882558617006,
           0.01698091499835764,
           0.012713803273126042,
           0.00849532596051305,
           0.007993624908059164,
           0.007989043959197858,
           0.005332138989102902,
           0.0039922328177825605,
           0.002667598229163202
          ],
          "colorscale": [
           [
            0,
            "rgb(210, 251, 212)"
           ],
           [
            0.16666666666666666,
            "rgb(165, 219, 194)"
           ],
           [
            0.3333333333333333,
            "rgb(123, 188, 176)"
           ],
           [
            0.5,
            "rgb(85, 156, 158)"
           ],
           [
            0.6666666666666666,
            "rgb(58, 124, 137)"
           ],
           [
            0.8333333333333334,
            "rgb(35, 93, 114)"
           ],
           [
            1,
            "rgb(18, 63, 90)"
           ]
          ]
         },
         "name": "Propable Scoreline",
         "type": "bar",
         "visible": false,
         "x": [
          "2 - 1",
          "1 - 1",
          "2 - 0",
          "1 - 0",
          "3 - 1",
          "2 - 2",
          "1 - 2",
          "3 - 0",
          "0 - 1",
          "3 - 2",
          "0 - 0",
          "4 - 1",
          "0 - 2",
          "4 - 0",
          "2 - 3",
          "1 - 3",
          "4 - 2",
          "Other",
          "Other",
          "Other",
          "Other",
          "Other",
          "Other",
          "Other",
          "Other"
         ],
         "xaxis": "x",
         "y": [
          0.09681751097487884,
          0.09676202725231792,
          0.0770821019283659,
          0.07703792808094158,
          0.0645820176746813,
          0.06080289844769611,
          0.060768053809423524,
          0.05141753407016402,
          0.04835328766305353,
          0.040558508710679814,
          0.03849688977422871,
          0.03230952462732995,
          0.030366614569875952,
          0.025723508542035336,
          0.025456775483518344,
          0.025442186834688178,
          0.020290882558617006,
          0.01698091499835764,
          0.012713803273126042,
          0.00849532596051305,
          0.007993624908059164,
          0.007989043959197858,
          0.005332138989102902,
          0.0039922328177825605,
          0.002667598229163202
         ],
         "yaxis": "y"
        },
        {
         "fill": "toself",
         "hovertemplate": "%{theta}<br>Prob: %{r:.2f}<br>Bookmaker Odds",
         "marker": {
          "color": "rgb(82, 106, 131)"
         },
         "name": "Bookmaker Odds",
         "r": [
          0.6451612903225806,
          0.23809523809523808,
          0.16666666666666666,
          0.42194092827004215,
          0.625,
          0.6172839506172839,
          0.45454545454545453
         ],
         "subplot": "polar",
         "theta": [
          "Home",
          "Draw",
          "Away",
          "Over",
          "Under",
          "GG",
          "NG"
         ],
         "type": "scatterpolar",
         "visible": false
        },
        {
         "fill": "toself",
         "hovertemplate": "%{theta}<br>Prob: %{r:.2f}<br>Predicted Odds",
         "marker": {
          "color": "rgb(141,211,199)"
         },
         "name": "Predicted Odds",
         "r": [
          0.7338486326217287,
          0.15050378963596375,
          0.11561600764681743,
          0.7280175097631674,
          0.2719824902368326,
          0.6020462559642941,
          0.3979221739402158
         ],
         "subplot": "polar",
         "theta": [
          "Home",
          "Draw",
          "Away",
          "Over",
          "Under",
          "GG",
          "NG"
         ],
         "type": "scatterpolar",
         "visible": false
        },
        {
         "hovertemplate": "Score %{x}<br>Prob: %{y:.3f}",
         "marker": {
          "color": [
           0.0888736951577263,
           0.08624559350556786,
           0.08148261150878305,
           0.07907307305594423,
           0.06462347033094358,
           0.06271247688295482,
           0.05602964943542742,
           0.05437278556823056,
           0.04579094055674015,
           0.04198278707085202,
           0.0332963480728779,
           0.02886850087823314,
           0.023495101166901827,
           0.022800322874125995,
           0.015728765287633947,
           0.014420699726399196,
           0.012105525476338502,
           0.01143698813359649,
           0.009916063505115048,
           0.004158136229258452,
           0.0040520142379516545,
           0.003715032905890926,
           0.0029463748685379727,
           0.002554557193294044,
           0.0010712110516102945
          ],
          "colorscale": [
           [
            0,
            "rgb(210, 251, 212)"
           ],
           [
            0.16666666666666666,
            "rgb(165, 219, 194)"
           ],
           [
            0.3333333333333333,
            "rgb(123, 188, 176)"
           ],
           [
            0.5,
            "rgb(85, 156, 158)"
           ],
           [
            0.6666666666666666,
            "rgb(58, 124, 137)"
           ],
           [
            0.8333333333333334,
            "rgb(35, 93, 114)"
           ],
           [
            1,
            "rgb(18, 63, 90)"
           ]
          ]
         },
         "name": "Propable Scoreline",
         "type": "bar",
         "visible": false,
         "x": [
          "2 - 1",
          "2 - 0",
          "3 - 1",
          "3 - 0",
          "1 - 1",
          "1 - 0",
          "4 - 1",
          "4 - 0",
          "2 - 2",
          "3 - 2",
          "1 - 2",
          "4 - 2",
          "0 - 1",
          "0 - 0",
          "Other",
          "Other",
          "Other",
          "Other",
          "Other",
          "Other",
          "Other",
          "Other",
          "Other",
          "Other",
          "Other"
         ],
         "xaxis": "x",
         "y": [
          0.0888736951577263,
          0.08624559350556786,
          0.08148261150878305,
          0.07907307305594423,
          0.06462347033094358,
          0.06271247688295482,
          0.05602964943542742,
          0.05437278556823056,
          0.04579094055674015,
          0.04198278707085202,
          0.0332963480728779,
          0.02886850087823314,
          0.023495101166901827,
          0.022800322874125995,
          0.015728765287633947,
          0.014420699726399196,
          0.012105525476338502,
          0.01143698813359649,
          0.009916063505115048,
          0.004158136229258452,
          0.0040520142379516545,
          0.003715032905890926,
          0.0029463748685379727,
          0.002554557193294044,
          0.0010712110516102945
         ],
         "yaxis": "y"
        }
       ],
       "layout": {
        "height": 650,
        "polar": {
         "domain": {
          "x": [
           0,
           0.29700000000000004
          ],
          "y": [
           0,
           1
          ]
         }
        },
        "template": {
         "data": {
          "bar": [
           {
            "error_x": {
             "color": "#2a3f5f"
            },
            "error_y": {
             "color": "#2a3f5f"
            },
            "marker": {
             "line": {
              "color": "#E5ECF6",
              "width": 0.5
             },
             "pattern": {
              "fillmode": "overlay",
              "size": 10,
              "solidity": 0.2
             }
            },
            "type": "bar"
           }
          ],
          "barpolar": [
           {
            "marker": {
             "line": {
              "color": "#E5ECF6",
              "width": 0.5
             },
             "pattern": {
              "fillmode": "overlay",
              "size": 10,
              "solidity": 0.2
             }
            },
            "type": "barpolar"
           }
          ],
          "carpet": [
           {
            "aaxis": {
             "endlinecolor": "#2a3f5f",
             "gridcolor": "white",
             "linecolor": "white",
             "minorgridcolor": "white",
             "startlinecolor": "#2a3f5f"
            },
            "baxis": {
             "endlinecolor": "#2a3f5f",
             "gridcolor": "white",
             "linecolor": "white",
             "minorgridcolor": "white",
             "startlinecolor": "#2a3f5f"
            },
            "type": "carpet"
           }
          ],
          "choropleth": [
           {
            "colorbar": {
             "outlinewidth": 0,
             "ticks": ""
            },
            "type": "choropleth"
           }
          ],
          "contour": [
           {
            "colorbar": {
             "outlinewidth": 0,
             "ticks": ""
            },
            "colorscale": [
             [
              0,
              "#0d0887"
             ],
             [
              0.1111111111111111,
              "#46039f"
             ],
             [
              0.2222222222222222,
              "#7201a8"
             ],
             [
              0.3333333333333333,
              "#9c179e"
             ],
             [
              0.4444444444444444,
              "#bd3786"
             ],
             [
              0.5555555555555556,
              "#d8576b"
             ],
             [
              0.6666666666666666,
              "#ed7953"
             ],
             [
              0.7777777777777778,
              "#fb9f3a"
             ],
             [
              0.8888888888888888,
              "#fdca26"
             ],
             [
              1,
              "#f0f921"
             ]
            ],
            "type": "contour"
           }
          ],
          "contourcarpet": [
           {
            "colorbar": {
             "outlinewidth": 0,
             "ticks": ""
            },
            "type": "contourcarpet"
           }
          ],
          "heatmap": [
           {
            "colorbar": {
             "outlinewidth": 0,
             "ticks": ""
            },
            "colorscale": [
             [
              0,
              "#0d0887"
             ],
             [
              0.1111111111111111,
              "#46039f"
             ],
             [
              0.2222222222222222,
              "#7201a8"
             ],
             [
              0.3333333333333333,
              "#9c179e"
             ],
             [
              0.4444444444444444,
              "#bd3786"
             ],
             [
              0.5555555555555556,
              "#d8576b"
             ],
             [
              0.6666666666666666,
              "#ed7953"
             ],
             [
              0.7777777777777778,
              "#fb9f3a"
             ],
             [
              0.8888888888888888,
              "#fdca26"
             ],
             [
              1,
              "#f0f921"
             ]
            ],
            "type": "heatmap"
           }
          ],
          "heatmapgl": [
           {
            "colorbar": {
             "outlinewidth": 0,
             "ticks": ""
            },
            "colorscale": [
             [
              0,
              "#0d0887"
             ],
             [
              0.1111111111111111,
              "#46039f"
             ],
             [
              0.2222222222222222,
              "#7201a8"
             ],
             [
              0.3333333333333333,
              "#9c179e"
             ],
             [
              0.4444444444444444,
              "#bd3786"
             ],
             [
              0.5555555555555556,
              "#d8576b"
             ],
             [
              0.6666666666666666,
              "#ed7953"
             ],
             [
              0.7777777777777778,
              "#fb9f3a"
             ],
             [
              0.8888888888888888,
              "#fdca26"
             ],
             [
              1,
              "#f0f921"
             ]
            ],
            "type": "heatmapgl"
           }
          ],
          "histogram": [
           {
            "marker": {
             "pattern": {
              "fillmode": "overlay",
              "size": 10,
              "solidity": 0.2
             }
            },
            "type": "histogram"
           }
          ],
          "histogram2d": [
           {
            "colorbar": {
             "outlinewidth": 0,
             "ticks": ""
            },
            "colorscale": [
             [
              0,
              "#0d0887"
             ],
             [
              0.1111111111111111,
              "#46039f"
             ],
             [
              0.2222222222222222,
              "#7201a8"
             ],
             [
              0.3333333333333333,
              "#9c179e"
             ],
             [
              0.4444444444444444,
              "#bd3786"
             ],
             [
              0.5555555555555556,
              "#d8576b"
             ],
             [
              0.6666666666666666,
              "#ed7953"
             ],
             [
              0.7777777777777778,
              "#fb9f3a"
             ],
             [
              0.8888888888888888,
              "#fdca26"
             ],
             [
              1,
              "#f0f921"
             ]
            ],
            "type": "histogram2d"
           }
          ],
          "histogram2dcontour": [
           {
            "colorbar": {
             "outlinewidth": 0,
             "ticks": ""
            },
            "colorscale": [
             [
              0,
              "#0d0887"
             ],
             [
              0.1111111111111111,
              "#46039f"
             ],
             [
              0.2222222222222222,
              "#7201a8"
             ],
             [
              0.3333333333333333,
              "#9c179e"
             ],
             [
              0.4444444444444444,
              "#bd3786"
             ],
             [
              0.5555555555555556,
              "#d8576b"
             ],
             [
              0.6666666666666666,
              "#ed7953"
             ],
             [
              0.7777777777777778,
              "#fb9f3a"
             ],
             [
              0.8888888888888888,
              "#fdca26"
             ],
             [
              1,
              "#f0f921"
             ]
            ],
            "type": "histogram2dcontour"
           }
          ],
          "mesh3d": [
           {
            "colorbar": {
             "outlinewidth": 0,
             "ticks": ""
            },
            "type": "mesh3d"
           }
          ],
          "parcoords": [
           {
            "line": {
             "colorbar": {
              "outlinewidth": 0,
              "ticks": ""
             }
            },
            "type": "parcoords"
           }
          ],
          "pie": [
           {
            "automargin": true,
            "type": "pie"
           }
          ],
          "scatter": [
           {
            "fillpattern": {
             "fillmode": "overlay",
             "size": 10,
             "solidity": 0.2
            },
            "type": "scatter"
           }
          ],
          "scatter3d": [
           {
            "line": {
             "colorbar": {
              "outlinewidth": 0,
              "ticks": ""
             }
            },
            "marker": {
             "colorbar": {
              "outlinewidth": 0,
              "ticks": ""
             }
            },
            "type": "scatter3d"
           }
          ],
          "scattercarpet": [
           {
            "marker": {
             "colorbar": {
              "outlinewidth": 0,
              "ticks": ""
             }
            },
            "type": "scattercarpet"
           }
          ],
          "scattergeo": [
           {
            "marker": {
             "colorbar": {
              "outlinewidth": 0,
              "ticks": ""
             }
            },
            "type": "scattergeo"
           }
          ],
          "scattergl": [
           {
            "marker": {
             "colorbar": {
              "outlinewidth": 0,
              "ticks": ""
             }
            },
            "type": "scattergl"
           }
          ],
          "scattermapbox": [
           {
            "marker": {
             "colorbar": {
              "outlinewidth": 0,
              "ticks": ""
             }
            },
            "type": "scattermapbox"
           }
          ],
          "scatterpolar": [
           {
            "marker": {
             "colorbar": {
              "outlinewidth": 0,
              "ticks": ""
             }
            },
            "type": "scatterpolar"
           }
          ],
          "scatterpolargl": [
           {
            "marker": {
             "colorbar": {
              "outlinewidth": 0,
              "ticks": ""
             }
            },
            "type": "scatterpolargl"
           }
          ],
          "scatterternary": [
           {
            "marker": {
             "colorbar": {
              "outlinewidth": 0,
              "ticks": ""
             }
            },
            "type": "scatterternary"
           }
          ],
          "surface": [
           {
            "colorbar": {
             "outlinewidth": 0,
             "ticks": ""
            },
            "colorscale": [
             [
              0,
              "#0d0887"
             ],
             [
              0.1111111111111111,
              "#46039f"
             ],
             [
              0.2222222222222222,
              "#7201a8"
             ],
             [
              0.3333333333333333,
              "#9c179e"
             ],
             [
              0.4444444444444444,
              "#bd3786"
             ],
             [
              0.5555555555555556,
              "#d8576b"
             ],
             [
              0.6666666666666666,
              "#ed7953"
             ],
             [
              0.7777777777777778,
              "#fb9f3a"
             ],
             [
              0.8888888888888888,
              "#fdca26"
             ],
             [
              1,
              "#f0f921"
             ]
            ],
            "type": "surface"
           }
          ],
          "table": [
           {
            "cells": {
             "fill": {
              "color": "#EBF0F8"
             },
             "line": {
              "color": "white"
             }
            },
            "header": {
             "fill": {
              "color": "#C8D4E3"
             },
             "line": {
              "color": "white"
             }
            },
            "type": "table"
           }
          ]
         },
         "layout": {
          "annotationdefaults": {
           "arrowcolor": "#2a3f5f",
           "arrowhead": 0,
           "arrowwidth": 1
          },
          "autotypenumbers": "strict",
          "coloraxis": {
           "colorbar": {
            "outlinewidth": 0,
            "ticks": ""
           }
          },
          "colorscale": {
           "diverging": [
            [
             0,
             "#8e0152"
            ],
            [
             0.1,
             "#c51b7d"
            ],
            [
             0.2,
             "#de77ae"
            ],
            [
             0.3,
             "#f1b6da"
            ],
            [
             0.4,
             "#fde0ef"
            ],
            [
             0.5,
             "#f7f7f7"
            ],
            [
             0.6,
             "#e6f5d0"
            ],
            [
             0.7,
             "#b8e186"
            ],
            [
             0.8,
             "#7fbc41"
            ],
            [
             0.9,
             "#4d9221"
            ],
            [
             1,
             "#276419"
            ]
           ],
           "sequential": [
            [
             0,
             "#0d0887"
            ],
            [
             0.1111111111111111,
             "#46039f"
            ],
            [
             0.2222222222222222,
             "#7201a8"
            ],
            [
             0.3333333333333333,
             "#9c179e"
            ],
            [
             0.4444444444444444,
             "#bd3786"
            ],
            [
             0.5555555555555556,
             "#d8576b"
            ],
            [
             0.6666666666666666,
             "#ed7953"
            ],
            [
             0.7777777777777778,
             "#fb9f3a"
            ],
            [
             0.8888888888888888,
             "#fdca26"
            ],
            [
             1,
             "#f0f921"
            ]
           ],
           "sequentialminus": [
            [
             0,
             "#0d0887"
            ],
            [
             0.1111111111111111,
             "#46039f"
            ],
            [
             0.2222222222222222,
             "#7201a8"
            ],
            [
             0.3333333333333333,
             "#9c179e"
            ],
            [
             0.4444444444444444,
             "#bd3786"
            ],
            [
             0.5555555555555556,
             "#d8576b"
            ],
            [
             0.6666666666666666,
             "#ed7953"
            ],
            [
             0.7777777777777778,
             "#fb9f3a"
            ],
            [
             0.8888888888888888,
             "#fdca26"
            ],
            [
             1,
             "#f0f921"
            ]
           ]
          },
          "colorway": [
           "#636efa",
           "#EF553B",
           "#00cc96",
           "#ab63fa",
           "#FFA15A",
           "#19d3f3",
           "#FF6692",
           "#B6E880",
           "#FF97FF",
           "#FECB52"
          ],
          "font": {
           "color": "#2a3f5f"
          },
          "geo": {
           "bgcolor": "white",
           "lakecolor": "white",
           "landcolor": "#E5ECF6",
           "showlakes": true,
           "showland": true,
           "subunitcolor": "white"
          },
          "hoverlabel": {
           "align": "left"
          },
          "hovermode": "closest",
          "mapbox": {
           "style": "light"
          },
          "paper_bgcolor": "white",
          "plot_bgcolor": "#E5ECF6",
          "polar": {
           "angularaxis": {
            "gridcolor": "white",
            "linecolor": "white",
            "ticks": ""
           },
           "bgcolor": "#E5ECF6",
           "radialaxis": {
            "gridcolor": "white",
            "linecolor": "white",
            "ticks": ""
           }
          },
          "scene": {
           "xaxis": {
            "backgroundcolor": "#E5ECF6",
            "gridcolor": "white",
            "gridwidth": 2,
            "linecolor": "white",
            "showbackground": true,
            "ticks": "",
            "zerolinecolor": "white"
           },
           "yaxis": {
            "backgroundcolor": "#E5ECF6",
            "gridcolor": "white",
            "gridwidth": 2,
            "linecolor": "white",
            "showbackground": true,
            "ticks": "",
            "zerolinecolor": "white"
           },
           "zaxis": {
            "backgroundcolor": "#E5ECF6",
            "gridcolor": "white",
            "gridwidth": 2,
            "linecolor": "white",
            "showbackground": true,
            "ticks": "",
            "zerolinecolor": "white"
           }
          },
          "shapedefaults": {
           "line": {
            "color": "#2a3f5f"
           }
          },
          "ternary": {
           "aaxis": {
            "gridcolor": "white",
            "linecolor": "white",
            "ticks": ""
           },
           "baxis": {
            "gridcolor": "white",
            "linecolor": "white",
            "ticks": ""
           },
           "bgcolor": "#E5ECF6",
           "caxis": {
            "gridcolor": "white",
            "linecolor": "white",
            "ticks": ""
           }
          },
          "title": {
           "x": 0.05
          },
          "xaxis": {
           "automargin": true,
           "gridcolor": "white",
           "linecolor": "white",
           "ticks": "",
           "title": {
            "standoff": 15
           },
           "zerolinecolor": "white",
           "zerolinewidth": 2
          },
          "yaxis": {
           "automargin": true,
           "gridcolor": "white",
           "linecolor": "white",
           "ticks": "",
           "title": {
            "standoff": 15
           },
           "zerolinecolor": "white",
           "zerolinewidth": 2
          }
         }
        },
        "updatemenus": [
         {
          "active": 0,
          "buttons": [
           {
            "args": [
             {
              "visible": [
               true,
               true,
               true,
               false,
               false,
               false,
               false,
               false,
               false,
               false,
               false,
               false,
               false,
               false,
               false,
               false,
               false,
               false,
               false,
               false,
               false,
               false,
               false,
               false,
               false,
               false,
               false,
               false,
               false,
               false,
               false,
               false,
               false,
               false,
               false,
               false,
               false,
               false,
               false,
               false,
               false,
               false,
               false,
               false,
               false,
               false,
               false,
               false,
               false,
               false,
               false,
               false,
               false,
               false,
               false,
               false,
               false,
               false,
               false,
               false
              ]
             }
            ],
            "label": "<b>Luton-Tottenham | '07/10/2023'</b>",
            "method": "restyle"
           },
           {
            "args": [
             {
              "visible": [
               false,
               false,
               false,
               true,
               true,
               true,
               false,
               false,
               false,
               false,
               false,
               false,
               false,
               false,
               false,
               false,
               false,
               false,
               false,
               false,
               false,
               false,
               false,
               false,
               false,
               false,
               false,
               false,
               false,
               false,
               false,
               false,
               false,
               false,
               false,
               false,
               false,
               false,
               false,
               false,
               false,
               false,
               false,
               false,
               false,
               false,
               false,
               false,
               false,
               false,
               false,
               false,
               false,
               false,
               false,
               false,
               false,
               false,
               false,
               false
              ]
             }
            ],
            "label": "<b>Burnley-Chelsea | '07/10/2023'</b>",
            "method": "restyle"
           },
           {
            "args": [
             {
              "visible": [
               false,
               false,
               false,
               false,
               false,
               false,
               true,
               true,
               true,
               false,
               false,
               false,
               false,
               false,
               false,
               false,
               false,
               false,
               false,
               false,
               false,
               false,
               false,
               false,
               false,
               false,
               false,
               false,
               false,
               false,
               false,
               false,
               false,
               false,
               false,
               false,
               false,
               false,
               false,
               false,
               false,
               false,
               false,
               false,
               false,
               false,
               false,
               false,
               false,
               false,
               false,
               false,
               false,
               false,
               false,
               false,
               false,
               false,
               false,
               false
              ]
             }
            ],
            "label": "<b>Everton-Bournemouth | '07/10/2023'</b>",
            "method": "restyle"
           },
           {
            "args": [
             {
              "visible": [
               false,
               false,
               false,
               false,
               false,
               false,
               false,
               false,
               false,
               true,
               true,
               true,
               false,
               false,
               false,
               false,
               false,
               false,
               false,
               false,
               false,
               false,
               false,
               false,
               false,
               false,
               false,
               false,
               false,
               false,
               false,
               false,
               false,
               false,
               false,
               false,
               false,
               false,
               false,
               false,
               false,
               false,
               false,
               false,
               false,
               false,
               false,
               false,
               false,
               false,
               false,
               false,
               false,
               false,
               false,
               false,
               false,
               false,
               false,
               false
              ]
             }
            ],
            "label": "<b>Fulham-Sheffield United | '07/10/2023'</b>",
            "method": "restyle"
           },
           {
            "args": [
             {
              "visible": [
               false,
               false,
               false,
               false,
               false,
               false,
               false,
               false,
               false,
               false,
               false,
               false,
               true,
               true,
               true,
               false,
               false,
               false,
               false,
               false,
               false,
               false,
               false,
               false,
               false,
               false,
               false,
               false,
               false,
               false,
               false,
               false,
               false,
               false,
               false,
               false,
               false,
               false,
               false,
               false,
               false,
               false,
               false,
               false,
               false,
               false,
               false,
               false,
               false,
               false,
               false,
               false,
               false,
               false,
               false,
               false,
               false,
               false,
               false,
               false
              ]
             }
            ],
            "label": "<b>Manchester United-Brentford | '07/10/2023'</b>",
            "method": "restyle"
           },
           {
            "args": [
             {
              "visible": [
               false,
               false,
               false,
               false,
               false,
               false,
               false,
               false,
               false,
               false,
               false,
               false,
               false,
               false,
               false,
               true,
               true,
               true,
               false,
               false,
               false,
               false,
               false,
               false,
               false,
               false,
               false,
               false,
               false,
               false,
               false,
               false,
               false,
               false,
               false,
               false,
               false,
               false,
               false,
               false,
               false,
               false,
               false,
               false,
               false,
               false,
               false,
               false,
               false,
               false,
               false,
               false,
               false,
               false,
               false,
               false,
               false,
               false,
               false,
               false
              ]
             }
            ],
            "label": "<b>Crystal Palace-Nottingham Forest | '07/10/2023'</b>",
            "method": "restyle"
           },
           {
            "args": [
             {
              "visible": [
               false,
               false,
               false,
               false,
               false,
               false,
               false,
               false,
               false,
               false,
               false,
               false,
               false,
               false,
               false,
               false,
               false,
               false,
               true,
               true,
               true,
               false,
               false,
               false,
               false,
               false,
               false,
               false,
               false,
               false,
               false,
               false,
               false,
               false,
               false,
               false,
               false,
               false,
               false,
               false,
               false,
               false,
               false,
               false,
               false,
               false,
               false,
               false,
               false,
               false,
               false,
               false,
               false,
               false,
               false,
               false,
               false,
               false,
               false,
               false
              ]
             }
            ],
            "label": "<b>Wolverhampton Wanderers-Aston Villa | '08/10/2023'</b>",
            "method": "restyle"
           },
           {
            "args": [
             {
              "visible": [
               false,
               false,
               false,
               false,
               false,
               false,
               false,
               false,
               false,
               false,
               false,
               false,
               false,
               false,
               false,
               false,
               false,
               false,
               false,
               false,
               false,
               true,
               true,
               true,
               false,
               false,
               false,
               false,
               false,
               false,
               false,
               false,
               false,
               false,
               false,
               false,
               false,
               false,
               false,
               false,
               false,
               false,
               false,
               false,
               false,
               false,
               false,
               false,
               false,
               false,
               false,
               false,
               false,
               false,
               false,
               false,
               false,
               false,
               false,
               false
              ]
             }
            ],
            "label": "<b>Brighton-Liverpool | '08/10/2023'</b>",
            "method": "restyle"
           },
           {
            "args": [
             {
              "visible": [
               false,
               false,
               false,
               false,
               false,
               false,
               false,
               false,
               false,
               false,
               false,
               false,
               false,
               false,
               false,
               false,
               false,
               false,
               false,
               false,
               false,
               false,
               false,
               false,
               true,
               true,
               true,
               false,
               false,
               false,
               false,
               false,
               false,
               false,
               false,
               false,
               false,
               false,
               false,
               false,
               false,
               false,
               false,
               false,
               false,
               false,
               false,
               false,
               false,
               false,
               false,
               false,
               false,
               false,
               false,
               false,
               false,
               false,
               false,
               false
              ]
             }
            ],
            "label": "<b>West Ham-Newcastle United | '08/10/2023'</b>",
            "method": "restyle"
           },
           {
            "args": [
             {
              "visible": [
               false,
               false,
               false,
               false,
               false,
               false,
               false,
               false,
               false,
               false,
               false,
               false,
               false,
               false,
               false,
               false,
               false,
               false,
               false,
               false,
               false,
               false,
               false,
               false,
               false,
               false,
               false,
               true,
               true,
               true,
               false,
               false,
               false,
               false,
               false,
               false,
               false,
               false,
               false,
               false,
               false,
               false,
               false,
               false,
               false,
               false,
               false,
               false,
               false,
               false,
               false,
               false,
               false,
               false,
               false,
               false,
               false,
               false,
               false,
               false
              ]
             }
            ],
            "label": "<b>Arsenal-Manchester City | '08/10/2023'</b>",
            "method": "restyle"
           },
           {
            "args": [
             {
              "visible": [
               false,
               false,
               false,
               false,
               false,
               false,
               false,
               false,
               false,
               false,
               false,
               false,
               false,
               false,
               false,
               false,
               false,
               false,
               false,
               false,
               false,
               false,
               false,
               false,
               false,
               false,
               false,
               false,
               false,
               false,
               true,
               true,
               true,
               false,
               false,
               false,
               false,
               false,
               false,
               false,
               false,
               false,
               false,
               false,
               false,
               false,
               false,
               false,
               false,
               false,
               false,
               false,
               false,
               false,
               false,
               false,
               false,
               false,
               false,
               false
              ]
             }
            ],
            "label": "<b>Liverpool-Everton | '21/10/2023'</b>",
            "method": "restyle"
           },
           {
            "args": [
             {
              "visible": [
               false,
               false,
               false,
               false,
               false,
               false,
               false,
               false,
               false,
               false,
               false,
               false,
               false,
               false,
               false,
               false,
               false,
               false,
               false,
               false,
               false,
               false,
               false,
               false,
               false,
               false,
               false,
               false,
               false,
               false,
               false,
               false,
               false,
               true,
               true,
               true,
               false,
               false,
               false,
               false,
               false,
               false,
               false,
               false,
               false,
               false,
               false,
               false,
               false,
               false,
               false,
               false,
               false,
               false,
               false,
               false,
               false,
               false,
               false,
               false
              ]
             }
            ],
            "label": "<b>Bournemouth-Wolverhampton Wanderers | '21/10/2023'</b>",
            "method": "restyle"
           },
           {
            "args": [
             {
              "visible": [
               false,
               false,
               false,
               false,
               false,
               false,
               false,
               false,
               false,
               false,
               false,
               false,
               false,
               false,
               false,
               false,
               false,
               false,
               false,
               false,
               false,
               false,
               false,
               false,
               false,
               false,
               false,
               false,
               false,
               false,
               false,
               false,
               false,
               false,
               false,
               false,
               true,
               true,
               true,
               false,
               false,
               false,
               false,
               false,
               false,
               false,
               false,
               false,
               false,
               false,
               false,
               false,
               false,
               false,
               false,
               false,
               false,
               false,
               false,
               false
              ]
             }
            ],
            "label": "<b>Newcastle United-Crystal Palace | '21/10/2023'</b>",
            "method": "restyle"
           },
           {
            "args": [
             {
              "visible": [
               false,
               false,
               false,
               false,
               false,
               false,
               false,
               false,
               false,
               false,
               false,
               false,
               false,
               false,
               false,
               false,
               false,
               false,
               false,
               false,
               false,
               false,
               false,
               false,
               false,
               false,
               false,
               false,
               false,
               false,
               false,
               false,
               false,
               false,
               false,
               false,
               false,
               false,
               false,
               true,
               true,
               true,
               false,
               false,
               false,
               false,
               false,
               false,
               false,
               false,
               false,
               false,
               false,
               false,
               false,
               false,
               false,
               false,
               false,
               false
              ]
             }
            ],
            "label": "<b>Manchester City-Brighton | '21/10/2023'</b>",
            "method": "restyle"
           },
           {
            "args": [
             {
              "visible": [
               false,
               false,
               false,
               false,
               false,
               false,
               false,
               false,
               false,
               false,
               false,
               false,
               false,
               false,
               false,
               false,
               false,
               false,
               false,
               false,
               false,
               false,
               false,
               false,
               false,
               false,
               false,
               false,
               false,
               false,
               false,
               false,
               false,
               false,
               false,
               false,
               false,
               false,
               false,
               false,
               false,
               false,
               true,
               true,
               true,
               false,
               false,
               false,
               false,
               false,
               false,
               false,
               false,
               false,
               false,
               false,
               false,
               false,
               false,
               false
              ]
             }
            ],
            "label": "<b>Brentford-Burnley | '21/10/2023'</b>",
            "method": "restyle"
           },
           {
            "args": [
             {
              "visible": [
               false,
               false,
               false,
               false,
               false,
               false,
               false,
               false,
               false,
               false,
               false,
               false,
               false,
               false,
               false,
               false,
               false,
               false,
               false,
               false,
               false,
               false,
               false,
               false,
               false,
               false,
               false,
               false,
               false,
               false,
               false,
               false,
               false,
               false,
               false,
               false,
               false,
               false,
               false,
               false,
               false,
               false,
               false,
               false,
               false,
               true,
               true,
               true,
               false,
               false,
               false,
               false,
               false,
               false,
               false,
               false,
               false,
               false,
               false,
               false
              ]
             }
            ],
            "label": "<b>Nottingham Forest-Luton | '21/10/2023'</b>",
            "method": "restyle"
           },
           {
            "args": [
             {
              "visible": [
               false,
               false,
               false,
               false,
               false,
               false,
               false,
               false,
               false,
               false,
               false,
               false,
               false,
               false,
               false,
               false,
               false,
               false,
               false,
               false,
               false,
               false,
               false,
               false,
               false,
               false,
               false,
               false,
               false,
               false,
               false,
               false,
               false,
               false,
               false,
               false,
               false,
               false,
               false,
               false,
               false,
               false,
               false,
               false,
               false,
               false,
               false,
               false,
               true,
               true,
               true,
               false,
               false,
               false,
               false,
               false,
               false,
               false,
               false,
               false
              ]
             }
            ],
            "label": "<b>Chelsea-Arsenal | '21/10/2023'</b>",
            "method": "restyle"
           },
           {
            "args": [
             {
              "visible": [
               false,
               false,
               false,
               false,
               false,
               false,
               false,
               false,
               false,
               false,
               false,
               false,
               false,
               false,
               false,
               false,
               false,
               false,
               false,
               false,
               false,
               false,
               false,
               false,
               false,
               false,
               false,
               false,
               false,
               false,
               false,
               false,
               false,
               false,
               false,
               false,
               false,
               false,
               false,
               false,
               false,
               false,
               false,
               false,
               false,
               false,
               false,
               false,
               false,
               false,
               false,
               true,
               true,
               true,
               false,
               false,
               false,
               false,
               false,
               false
              ]
             }
            ],
            "label": "<b>Sheffield United-Manchester United | '21/10/2023'</b>",
            "method": "restyle"
           },
           {
            "args": [
             {
              "visible": [
               false,
               false,
               false,
               false,
               false,
               false,
               false,
               false,
               false,
               false,
               false,
               false,
               false,
               false,
               false,
               false,
               false,
               false,
               false,
               false,
               false,
               false,
               false,
               false,
               false,
               false,
               false,
               false,
               false,
               false,
               false,
               false,
               false,
               false,
               false,
               false,
               false,
               false,
               false,
               false,
               false,
               false,
               false,
               false,
               false,
               false,
               false,
               false,
               false,
               false,
               false,
               false,
               false,
               false,
               true,
               true,
               true,
               false,
               false,
               false
              ]
             }
            ],
            "label": "<b>Aston Villa-West Ham | '22/10/2023'</b>",
            "method": "restyle"
           },
           {
            "args": [
             {
              "visible": [
               false,
               false,
               false,
               false,
               false,
               false,
               false,
               false,
               false,
               false,
               false,
               false,
               false,
               false,
               false,
               false,
               false,
               false,
               false,
               false,
               false,
               false,
               false,
               false,
               false,
               false,
               false,
               false,
               false,
               false,
               false,
               false,
               false,
               false,
               false,
               false,
               false,
               false,
               false,
               false,
               false,
               false,
               false,
               false,
               false,
               false,
               false,
               false,
               false,
               false,
               false,
               false,
               false,
               false,
               false,
               false,
               false,
               true,
               true,
               true
              ]
             }
            ],
            "label": "<b>Tottenham-Fulham | '23/10/2023'</b>",
            "method": "restyle"
           }
          ],
          "direction": "down",
          "x": 0.1,
          "y": 1.2
         }
        ],
        "width": 1500,
        "xaxis": {
         "anchor": "y",
         "domain": [
          0.397,
          1
         ]
        },
        "yaxis": {
         "anchor": "x",
         "domain": [
          0,
          1
         ]
        }
       }
      }
     },
     "metadata": {},
     "output_type": "display_data"
    }
   ],
   "source": [
    "# Create subplots\n",
    "fig = make_subplots(rows=1, cols=2, specs=[[{'type': 'polar'}, {'type': 'xy'}]], column_widths=[0.33, 0.67])\n",
    "fig.update_layout(width=1500, height=650)\n",
    "# create a list to store the buttons\n",
    "buttons = []\n",
    "categories = ['Home', 'Draw', 'Away', 'Over', 'Under', 'GG', 'NG']\n",
    "\n",
    "# loop through each match and create two traces for Bookmaker odds and predicted values\n",
    "for match_index, match in enumerate(Final_Odds['Match'].unique().tolist()):\n",
    "\n",
    "    # create the trace for Bookmaker odds\n",
    "    trace_bookmaker = go.Scatterpolar(\n",
    "      r=Final_Odds[(Final_Odds['Type']=='Bookmaker')  & (Final_Odds['Match']==match)][['P(Hwin)', 'P(Draw)', 'P(Awin)', 'P(Over)', 'P(Under)', 'P(GG)', 'P(NG)']].values.tolist()[0],\n",
    "      theta=categories,\n",
    "      fill='toself',\n",
    "      name='Bookmaker Odds',\n",
    "      marker = dict(color = 'rgb(82, 106, 131)' ),\n",
    "      visible=False if match_index!=0 else True,\n",
    "      hovertemplate='%{theta}<br>Prob: %{r:.2f}<br>Bookmaker Odds'\n",
    ")\n",
    "    fig.add_trace(trace_bookmaker, row=1, col=1)\n",
    "    # create the trace for predicted values\n",
    "    trace_predicted = go.Scatterpolar(\n",
    "        r= Final_Odds[(Final_Odds['Type']=='Predicted')  & (Final_Odds['Match']==match)][['P(Hwin)', 'P(Draw)', 'P(Awin)', 'P(Over)', 'P(Under)', 'P(GG)', 'P(NG)']].values.tolist()[0],\n",
    "        theta=categories,\n",
    "        fill='toself',\n",
    "        name='Predicted Odds',\n",
    "        marker = dict(color ='rgb(141,211,199)'), #'rgb(217, 175, 107)'\n",
    "        visible=False if match_index!=0 else True,\n",
    "        hovertemplate='%{theta}<br>Prob: %{r:.2f}<br>Predicted Odds'\n",
    "  )\n",
    "    fig.add_trace(trace_predicted, row=1, col=1)\n",
    "    \n",
    "    trace_goals = go.Bar(\n",
    "        x=Pie_list[match_index]['score'],\n",
    "        y=Pie_list[match_index]['P(score)'],\n",
    "        visible=False if match_index!=0 else True,\n",
    "        marker=dict(color=Pie_list[match_index]['P(score)'], colorscale='darkmint'),\n",
    "        name='Propable Scoreline',\n",
    "        hovertemplate='Score %{x}<br>Prob: %{y:.3f}'\n",
    "    )\n",
    "    fig.add_trace(trace_goals, row=1, col=2)\n",
    "    \n",
    "    # create the dictionary for the button\n",
    "    button_dict = dict(\n",
    "        method=\"restyle\",\n",
    "        args=[{\"visible\": [False] * (len(Final_Odds['Match'].unique().tolist()) * 3)}], # set all traces to false initially\n",
    "        label= f\"<b>{match} | {str(Final_Odds[(Final_Odds['Type']=='Predicted')  & (Final_Odds['Match']==match)]['Date'].values).strip('[]')}</b>\" \n",
    "    )\n",
    "    \n",
    "    # set visibility to true for the corresponding traces\n",
    "    button_dict[\"args\"][0][\"visible\"][3*match_index] = True # Bookmaker odds trace\n",
    "    button_dict[\"args\"][0][\"visible\"][3*match_index+1] = True # Predicted trace\n",
    "    button_dict[\"args\"][0][\"visible\"][3*match_index+2] = True # Goal trace\n",
    "    \n",
    "    # set visibility to true for the corresponding traces for the first match\n",
    "    if match_index == 0:\n",
    "        button_dict[\"args\"][0][\"visible\"][0] = True # Bookmaker odds trace\n",
    "        button_dict[\"args\"][0][\"visible\"][1] = True # Predicted trace\n",
    "        button_dict[\"args\"][0][\"visible\"][2] = True\n",
    "        \n",
    "    # append the button to the list\n",
    "    buttons.append(button_dict)\n",
    "\n",
    "\n",
    "# update the layout with the buttons\n",
    "fig.update_layout(\n",
    "    updatemenus=[go.layout.Updatemenu(\n",
    "        buttons=buttons,\n",
    "        active=0, # set the initial active button\n",
    "        x=0.1,\n",
    "        y=1.2,\n",
    "        direction=\"down\",\n",
    "    )],\n",
    "    \n",
    ")\n",
    "\n",
    "# show the plot\n",
    "fig.show()\n",
    "# Save the interactive figure as an HTML file\n",
    "fig.write_html('UpcomingMatchesPredictionFigure.html')\n"
   ]
  },
  {
   "cell_type": "code",
   "execution_count": 8,
   "metadata": {},
   "outputs": [
    {
     "name": "stderr",
     "output_type": "stream",
     "text": [
      "/tmp/ipykernel_12288/1283783480.py:18: SettingWithCopyWarning:\n",
      "\n",
      "\n",
      "A value is trying to be set on a copy of a slice from a DataFrame\n",
      "\n",
      "See the caveats in the documentation: https://pandas.pydata.org/pandas-docs/stable/user_guide/indexing.html#returning-a-view-versus-a-copy\n",
      "\n",
      "/tmp/ipykernel_12288/1283783480.py:19: SettingWithCopyWarning:\n",
      "\n",
      "\n",
      "A value is trying to be set on a copy of a slice from a DataFrame\n",
      "\n",
      "See the caveats in the documentation: https://pandas.pydata.org/pandas-docs/stable/user_guide/indexing.html#returning-a-view-versus-a-copy\n",
      "\n"
     ]
    },
    {
     "data": {
      "text/html": [
       "<div>\n",
       "<style scoped>\n",
       "    .dataframe tbody tr th:only-of-type {\n",
       "        vertical-align: middle;\n",
       "    }\n",
       "\n",
       "    .dataframe tbody tr th {\n",
       "        vertical-align: top;\n",
       "    }\n",
       "\n",
       "    .dataframe thead th {\n",
       "        text-align: right;\n",
       "    }\n",
       "</style>\n",
       "<table border=\"1\" class=\"dataframe\">\n",
       "  <thead>\n",
       "    <tr style=\"text-align: right;\">\n",
       "      <th></th>\n",
       "      <th>Match</th>\n",
       "      <th>UnderBet</th>\n",
       "      <th>UnderBet_Kelly</th>\n",
       "    </tr>\n",
       "  </thead>\n",
       "  <tbody>\n",
       "    <tr>\n",
       "      <th>0</th>\n",
       "      <td>Luton-Tottenham</td>\n",
       "      <td>0.00</td>\n",
       "      <td>0.00</td>\n",
       "    </tr>\n",
       "    <tr>\n",
       "      <th>1</th>\n",
       "      <td>Burnley-Chelsea</td>\n",
       "      <td>0.00</td>\n",
       "      <td>0.00</td>\n",
       "    </tr>\n",
       "    <tr>\n",
       "      <th>2</th>\n",
       "      <td>Everton-Bournemouth</td>\n",
       "      <td>0.00</td>\n",
       "      <td>0.00</td>\n",
       "    </tr>\n",
       "    <tr>\n",
       "      <th>3</th>\n",
       "      <td>Fulham-Sheffield United</td>\n",
       "      <td>0.00</td>\n",
       "      <td>0.00</td>\n",
       "    </tr>\n",
       "    <tr>\n",
       "      <th>4</th>\n",
       "      <td>Manchester United-Brentford</td>\n",
       "      <td>0.00</td>\n",
       "      <td>0.00</td>\n",
       "    </tr>\n",
       "    <tr>\n",
       "      <th>5</th>\n",
       "      <td>Crystal Palace-Nottingham Forest</td>\n",
       "      <td>0.00</td>\n",
       "      <td>0.00</td>\n",
       "    </tr>\n",
       "    <tr>\n",
       "      <th>6</th>\n",
       "      <td>Wolverhampton Wanderers-Aston Villa</td>\n",
       "      <td>0.00</td>\n",
       "      <td>0.00</td>\n",
       "    </tr>\n",
       "    <tr>\n",
       "      <th>7</th>\n",
       "      <td>Brighton-Liverpool</td>\n",
       "      <td>0.00</td>\n",
       "      <td>0.00</td>\n",
       "    </tr>\n",
       "    <tr>\n",
       "      <th>8</th>\n",
       "      <td>West Ham-Newcastle United</td>\n",
       "      <td>0.00</td>\n",
       "      <td>0.00</td>\n",
       "    </tr>\n",
       "    <tr>\n",
       "      <th>9</th>\n",
       "      <td>Arsenal-Manchester City</td>\n",
       "      <td>0.00</td>\n",
       "      <td>0.00</td>\n",
       "    </tr>\n",
       "    <tr>\n",
       "      <th>10</th>\n",
       "      <td>Liverpool-Everton</td>\n",
       "      <td>0.00</td>\n",
       "      <td>0.00</td>\n",
       "    </tr>\n",
       "    <tr>\n",
       "      <th>11</th>\n",
       "      <td>Bournemouth-Wolverhampton Wanderers</td>\n",
       "      <td>0.00</td>\n",
       "      <td>0.00</td>\n",
       "    </tr>\n",
       "    <tr>\n",
       "      <th>12</th>\n",
       "      <td>Newcastle United-Crystal Palace</td>\n",
       "      <td>0.00</td>\n",
       "      <td>0.00</td>\n",
       "    </tr>\n",
       "    <tr>\n",
       "      <th>13</th>\n",
       "      <td>Manchester City-Brighton</td>\n",
       "      <td>0.00</td>\n",
       "      <td>0.00</td>\n",
       "    </tr>\n",
       "    <tr>\n",
       "      <th>14</th>\n",
       "      <td>Brentford-Burnley</td>\n",
       "      <td>0.00</td>\n",
       "      <td>0.00</td>\n",
       "    </tr>\n",
       "    <tr>\n",
       "      <th>15</th>\n",
       "      <td>Nottingham Forest-Luton</td>\n",
       "      <td>0.00</td>\n",
       "      <td>0.00</td>\n",
       "    </tr>\n",
       "    <tr>\n",
       "      <th>16</th>\n",
       "      <td>Chelsea-Arsenal</td>\n",
       "      <td>0.00</td>\n",
       "      <td>0.00</td>\n",
       "    </tr>\n",
       "    <tr>\n",
       "      <th>17</th>\n",
       "      <td>Sheffield United-Manchester United</td>\n",
       "      <td>0.00</td>\n",
       "      <td>0.00</td>\n",
       "    </tr>\n",
       "    <tr>\n",
       "      <th>18</th>\n",
       "      <td>Aston Villa-West Ham</td>\n",
       "      <td>0.00</td>\n",
       "      <td>0.00</td>\n",
       "    </tr>\n",
       "    <tr>\n",
       "      <th>19</th>\n",
       "      <td>Tottenham-Fulham</td>\n",
       "      <td>0.00</td>\n",
       "      <td>0.00</td>\n",
       "    </tr>\n",
       "  </tbody>\n",
       "</table>\n",
       "</div>"
      ],
      "text/plain": [
       "                                  Match  UnderBet  UnderBet_Kelly\n",
       "0                       Luton-Tottenham      0.00            0.00\n",
       "1                       Burnley-Chelsea      0.00            0.00\n",
       "2                   Everton-Bournemouth      0.00            0.00\n",
       "3               Fulham-Sheffield United      0.00            0.00\n",
       "4           Manchester United-Brentford      0.00            0.00\n",
       "5      Crystal Palace-Nottingham Forest      0.00            0.00\n",
       "6   Wolverhampton Wanderers-Aston Villa      0.00            0.00\n",
       "7                    Brighton-Liverpool      0.00            0.00\n",
       "8             West Ham-Newcastle United      0.00            0.00\n",
       "9               Arsenal-Manchester City      0.00            0.00\n",
       "10                    Liverpool-Everton      0.00            0.00\n",
       "11  Bournemouth-Wolverhampton Wanderers      0.00            0.00\n",
       "12      Newcastle United-Crystal Palace      0.00            0.00\n",
       "13             Manchester City-Brighton      0.00            0.00\n",
       "14                    Brentford-Burnley      0.00            0.00\n",
       "15              Nottingham Forest-Luton      0.00            0.00\n",
       "16                      Chelsea-Arsenal      0.00            0.00\n",
       "17   Sheffield United-Manchester United      0.00            0.00\n",
       "18                 Aston Villa-West Ham      0.00            0.00\n",
       "19                     Tottenham-Fulham      0.00            0.00"
      ]
     },
     "metadata": {},
     "output_type": "display_data"
    }
   ],
   "source": [
    "Pont = 5\n",
    "bank = 60\n",
    "Final = Final_Odds[Final_Odds['Type']=='Predicted'][['Match']]\n",
    "listPred = Final_Odds[Final_Odds['Type']=='Predicted']['P(Under)'].tolist()\n",
    "listBook = Final_Odds[Final_Odds['Type']=='Bookmaker']['P(Under)'].tolist()\n",
    "\n",
    "diff = []\n",
    "for i, p in enumerate(listPred):\n",
    "    diff.append(listPred[i]-listBook[i])\n",
    "\n",
    "Final['UnderBet'] = np.nan\n",
    "Final['UnderBet_Kelly'] = np.nan\n",
    "for i, d in enumerate(diff):\n",
    "    if (0.7>=listPred[i]>=0.5) and (d>=0.005):\n",
    "        Final['UnderBet'][i] = max(Pont*10*(d),0)\n",
    "        Final['UnderBet_Kelly'][i] = max(0, bank*(listPred[i]- (1-listPred[i])/(1/listBook[i] -1)))\n",
    "    else:\n",
    "        Final['UnderBet'][i] = 0\n",
    "        Final['UnderBet_Kelly'][i] = 0\n",
    "        \n",
    "############\n",
    "\n",
    "    \n",
    "display(Final)"
   ]
  }
 ],
 "metadata": {
  "kernelspec": {
   "display_name": "Python 3",
   "language": "python",
   "name": "python3"
  },
  "language_info": {
   "codemirror_mode": {
    "name": "ipython",
    "version": 3
   },
   "file_extension": ".py",
   "mimetype": "text/x-python",
   "name": "python",
   "nbconvert_exporter": "python",
   "pygments_lexer": "ipython3",
   "version": "3.11.5"
  },
  "orig_nbformat": 4
 },
 "nbformat": 4,
 "nbformat_minor": 2
}
