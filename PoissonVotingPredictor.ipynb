{
 "cells": [
  {
   "cell_type": "code",
   "execution_count": 10,
   "metadata": {},
   "outputs": [],
   "source": [
    "import pandas as pd\n",
    "import plotly.express as px\n",
    "import numpy as np\n",
    "from sklearn.model_selection import train_test_split\n",
    "from sklearn.linear_model import LinearRegression\n",
    "from scipy.stats import poisson \n",
    "import math\n",
    "import plotly.express as px\n",
    "from plotly.subplots import make_subplots\n",
    "import plotly.graph_objects as go\n",
    "from sklearn import preprocessing\n",
    "\n",
    "def sum_of_lower_upper(mat):\n",
    "    r = len(mat)\n",
    "    c = len(mat[0])\n",
    "    diag = np.trace(mat)\n",
    "    lower_sum = 0\n",
    "    upper_sum = 0\n",
    "    over_sum = 0\n",
    "    under_sum = 0\n",
    "\n",
    "    for i in range(r):\n",
    "        for j in range(c):\n",
    "            if (i<j):\n",
    "                upper_sum += mat[i][j]\n",
    "\n",
    "    for i in range(r):\n",
    "        for j in range(c):\n",
    "            if (j<i):\n",
    "                lower_sum += mat[i][j]\n",
    "    \n",
    "    for i in range(r):\n",
    "        for j in range(c):\n",
    "            if (i+j>=3):\n",
    "                over_sum += mat[i][j]\n",
    "            else:\n",
    "                under_sum += mat[i][j]\n",
    "\n",
    "    return (upper_sum, lower_sum, diag, over_sum, under_sum)\n"
   ]
  },
  {
   "attachments": {},
   "cell_type": "markdown",
   "metadata": {},
   "source": [
    "## Gathering Lamda from season long performance"
   ]
  },
  {
   "cell_type": "code",
   "execution_count": 11,
   "metadata": {},
   "outputs": [],
   "source": [
    "df1 = pd.read_csv('GatheredData/Full20xxFiles/Full2017.csv')\n",
    "df2 = pd.read_csv('GatheredData/Full20xxFiles/Full2018.csv')\n",
    "df3 = pd.read_csv('GatheredData/Full20xxFiles/Full2019.csv')\n",
    "df4 = pd.read_csv('GatheredData/Full20xxFiles/Full2020.csv')\n",
    "df5 = pd.read_csv('GatheredData/Full20xxFiles/Full2021.csv')\n",
    "df6 = pd.read_csv('GatheredData/Full20xxFiles/Full2022.csv')\n",
    "PRED = pd.read_csv('Prediction.csv')\n",
    "pred = PRED.copy()\n",
    "#Keeping bookmakers odds\n",
    "Odds = PRED.copy()\n",
    "Odds = PRED[['HTeam', 'ATeam','B365H', 'B365D', 'B365A', 'BbAv>2.5', 'BbAv<2.5']]\n",
    "\n",
    "df1 = df1[['Date_x', 'HxG', 'HM', 'HTeam', 'ATeam', 'HG', 'HGA', 'HxGA', 'HDC', 'HODC', 'HPPDA', 'HOPPDA', 'HPTS/M', 'AM', 'AG', 'AGA', 'AxG', 'AxGA', 'ADC', 'AODC', 'APPDA', 'AOPPDA', 'APTS/M', 'Result', 'B365H', 'B365D', 'B365A', 'BbAv>2.5', 'BbAv<2.5']]\n",
    "df2 = df2[['Date_x', 'HxG', 'HM', 'HTeam', 'ATeam', 'HG', 'HGA', 'HxGA', 'HDC', 'HODC', 'HPPDA', 'HOPPDA', 'HPTS/M', 'AM', 'AG', 'AGA', 'AxG', 'AxGA', 'ADC', 'AODC', 'APPDA', 'AOPPDA', 'APTS/M', 'Result', 'B365H', 'B365D', 'B365A', 'BbAv>2.5', 'BbAv<2.5']]\n",
    "df3 = df3[['Date_x', 'HxG', 'HM', 'HTeam', 'ATeam', 'HG', 'HGA', 'HxGA', 'HDC', 'HODC', 'HPPDA', 'HOPPDA', 'HPTS/M', 'AM', 'AG', 'AGA', 'AxG', 'AxGA', 'ADC', 'AODC', 'APPDA', 'AOPPDA', 'APTS/M', 'Result', 'B365H', 'B365D', 'B365A', 'AvgC>2.5', 'AvgC<2.5']]\n",
    "df3.rename(columns = {'AvgC<2.5':'BbAv<2.5'}, inplace = True)\n",
    "df3.rename(columns = {'AvgC>2.5':'BbAv>2.5'}, inplace = True)\n",
    "df4 = df4[['Date_x', 'HxG', 'HM', 'HTeam', 'ATeam', 'HG', 'HGA', 'HxGA', 'HDC', 'HODC', 'HPPDA', 'HOPPDA', 'HPTS/M', 'AM', 'AG', 'AGA', 'AxG', 'AxGA', 'ADC', 'AODC', 'APPDA', 'AOPPDA', 'APTS/M', 'Result', 'B365H', 'B365D', 'B365A', 'AvgC>2.5', 'AvgC<2.5']]\n",
    "df4.rename(columns = {'AvgC<2.5':'BbAv<2.5'}, inplace = True)\n",
    "df4.rename(columns = {'AvgC>2.5':'BbAv>2.5'}, inplace = True)\n",
    "df5 = df5[['Date_x', 'HxG', 'HM', 'HTeam', 'ATeam', 'HG', 'HGA', 'HxGA', 'HDC', 'HODC', 'HPPDA', 'HOPPDA', 'HPTS/M', 'AM', 'AG', 'AGA', 'AxG', 'AxGA', 'ADC', 'AODC', 'APPDA', 'AOPPDA', 'APTS/M', 'Result', 'B365H', 'B365D', 'B365A', 'AvgC>2.5', 'AvgC<2.5']]\n",
    "df5.rename(columns = {'AvgC<2.5':'BbAv<2.5'}, inplace = True)\n",
    "df5.rename(columns = {'AvgC>2.5':'BbAv>2.5'}, inplace = True)\n",
    "df6 = df6[['Date', 'HxG', 'HM', 'HTeam', 'ATeam', 'HG', 'HGA', 'HxGA', 'HDC', 'HODC', 'HPPDA', 'HOPPDA', 'HPTS/M', 'AM', 'AG', 'AGA', 'AxG', 'AxGA', 'ADC', 'AODC', 'APPDA', 'AOPPDA', 'APTS/M', 'Result', 'B365H', 'B365D', 'B365A', 'B365>2.5', 'B365<2.5']]\n",
    "df6.rename(columns = {'B365<2.5':'BbAv<2.5'}, inplace = True)\n",
    "df6.rename(columns = {'B365>2.5':'BbAv>2.5'}, inplace = True)\n",
    "\n",
    "df1.rename(columns = {'Date_x':'Date'}, inplace = True)\n",
    "df2.rename(columns = {'Date_x':'Date'}, inplace = True)\n",
    "df3.rename(columns = {'Date_x':'Date'}, inplace = True)\n",
    "df4.rename(columns = {'Date_x':'Date'}, inplace = True)\n",
    "df5.rename(columns = {'Date_x':'Date'}, inplace = True)\n",
    "\n",
    "Season = pd.read_csv('GatheredData/Full20xxFiles/Full2023.csv')\n",
    "Season = Season[['HxG', 'HM', 'HTeam', 'ATeam', 'HG', 'HGA', 'HxGA', 'HDC', 'HODC', 'HPPDA', 'HOPPDA', 'HPTS/M', 'AM', 'AG', 'AGA', 'AxG', 'AxGA', 'ADC', 'AODC', 'APPDA', 'AOPPDA', 'APTS/M', 'Result', 'B365H', 'B365D', 'B365A', 'BbAv>2.5', 'BbAv<2.5']]\n",
    "Season = Season.iloc[38:]\n",
    "\n",
    "DF = pd.concat([df1, df2, df3, df4, df5, df6, Season], ignore_index=True)\n",
    "\n",
    "\n",
    "DF = DF[ DF['HM'] != 0] \n",
    "DF = DF[ DF['HM'] != 1] \n",
    "DF = DF[ DF['HM'] != 2] \n",
    "DF = DF[ DF['HM'] != 3]\n",
    "subset = DF[['Date', 'HTeam', 'ATeam']].copy()\n",
    "extra_stats = DF.copy()\n",
    "extra_pred = pred.copy()\n",
    "\n",
    "DF['PTSDIF/M']=DF['HPTS/M']-DF['APTS/M']\n",
    "pred['PTSDIF/M']=pred['HPTS/M']-pred['APTS/M']\n",
    "DF = DF[[ 'HxG', 'HM', 'HG', 'HGA', 'HxGA', 'HDC', 'HODC', 'HPPDA', 'HOPPDA', 'HPTS/M', 'AM', 'AG', 'AGA', 'AxG', 'AxGA', 'ADC', 'AODC', 'APPDA', 'AOPPDA', 'APTS/M', 'PTSDIF/M', 'Result']]\n",
    "pred = pred[[ 'HxG', 'HM', 'HG', 'HGA', 'HxGA', 'HDC', 'HODC', 'HPPDA', 'HOPPDA', 'HPTS/M', 'AM', 'AG', 'AGA', 'AxG', 'AxGA', 'ADC', 'AODC', 'APPDA', 'AOPPDA', 'APTS/M', 'PTSDIF/M', 'Result']]\n",
    "cut = DF.shape[0]\n",
    "DF = pd.concat([DF, pred], ignore_index=True)\n",
    "try:\n",
    "    DF['HxG'] = DF['HxG'].div(DF['HM'])\n",
    "    DF['HG'] = DF['HG'].div(DF['HM'])\n",
    "    DF['HGA'] = DF['HGA'].div(DF['HM'])\n",
    "    DF['HxGA'] = DF['HxGA'].div(DF['HM'])\n",
    "    DF['AxG'] = DF['AxG'].div(DF['AM'])\n",
    "    DF['AG'] = DF['AG'].div(DF['AM'])\n",
    "    DF['AxGA'] = DF['AxG'].div(DF['AM'])\n",
    "    DF['AGA'] = DF['AGA'].div(DF['AM'])\n",
    "    pred['HxG'] = pred['HxG'].div(pred['HM'])\n",
    "    pred['HG'] = pred['HG'].div(pred['HM'])\n",
    "    pred['HGA'] = pred['HGA'].div(pred['HM'])\n",
    "    pred['HxGA'] = pred['HxGA'].div(pred['HM'])\n",
    "    pred['AxG'] = pred['AxG'].div(pred['AM'])\n",
    "    pred['AG'] = pred['AG'].div(pred['AM'])\n",
    "    pred['AxGA'] = pred['AxG'].div(pred['AM'])\n",
    "    pred['AGA'] = pred['AGA'].div(pred['AM'])\n",
    "\n",
    "except ZeroDivisionError:\n",
    "    DF['HxG'] = 0\n",
    "    DF['HG'] = 0\n",
    "    DF['HGA'] = 0\n",
    "    DF['HxGA'] = 0\n",
    "    DF['AxG'] = 0\n",
    "    DF['AG'] = 0\n",
    "    DF['AxGA'] = 0\n",
    "    DF['AGA'] = 0\n",
    "\n",
    "HGoals = []\n",
    "AGoals = []\n",
    "    \n",
    "for i, x in DF.iloc[:cut].iterrows():\n",
    "    a=x['Result'].split('\\'')\n",
    "    HGoals.append(a[1])\n",
    "    AGoals.append(a[3])\n",
    "    \n",
    "DF=np.array(DF)\n",
    "DFnorm = preprocessing.normalize(DF[:, 0:21], axis=0)\n",
    "pred = DFnorm[cut:]\n",
    "DF = DFnorm[:cut]\n",
    "\n",
    "x=DF\n",
    "\n",
    "\n",
    "y1=np.array(HGoals)\n",
    "y2=np.array(AGoals)\n",
    "\n",
    "reg1 = LinearRegression().fit(x, y1)\n",
    "reg2 = LinearRegression().fit(x, y2)\n",
    "\n",
    "LamdaHome= reg1.predict(pred)\n",
    "LamdaAway= reg2.predict(pred)"
   ]
  },
  {
   "attachments": {},
   "cell_type": "markdown",
   "metadata": {},
   "source": [
    "## Gathering Lamda from 2 month form performance"
   ]
  },
  {
   "cell_type": "code",
   "execution_count": 14,
   "metadata": {},
   "outputs": [
    {
     "ename": "FileNotFoundError",
     "evalue": "[Errno 2] No such file or directory: 'GatheredData/Epl-20xx_3Months/Epl-2022_3Months.csv'",
     "output_type": "error",
     "traceback": [
      "\u001b[0;31m---------------------------------------------------------------------------\u001b[0m",
      "\u001b[0;31mFileNotFoundError\u001b[0m                         Traceback (most recent call last)",
      "Cell \u001b[0;32mIn[14], line 22\u001b[0m\n\u001b[1;32m     19\u001b[0m df6\u001b[39m.\u001b[39mrename(columns \u001b[39m=\u001b[39m {\u001b[39m'\u001b[39m\u001b[39mB365<2.5\u001b[39m\u001b[39m'\u001b[39m:\u001b[39m'\u001b[39m\u001b[39mBbAv<2.5\u001b[39m\u001b[39m'\u001b[39m}, inplace \u001b[39m=\u001b[39m \u001b[39mTrue\u001b[39;00m)\n\u001b[1;32m     20\u001b[0m df6\u001b[39m.\u001b[39mrename(columns \u001b[39m=\u001b[39m {\u001b[39m'\u001b[39m\u001b[39mB365>2.5\u001b[39m\u001b[39m'\u001b[39m:\u001b[39m'\u001b[39m\u001b[39mBbAv>2.5\u001b[39m\u001b[39m'\u001b[39m}, inplace \u001b[39m=\u001b[39m \u001b[39mTrue\u001b[39;00m)\n\u001b[0;32m---> 22\u001b[0m SeasonForm \u001b[39m=\u001b[39m pd\u001b[39m.\u001b[39;49mread_csv(\u001b[39m'\u001b[39;49m\u001b[39mGatheredData/Epl-20xx_3Months/Epl-2022_3Months.csv\u001b[39;49m\u001b[39m'\u001b[39;49m)\n\u001b[1;32m     24\u001b[0m SeasonForm \u001b[39m=\u001b[39m SeasonForm[[\u001b[39m'\u001b[39m\u001b[39mHxG\u001b[39m\u001b[39m'\u001b[39m, \u001b[39m'\u001b[39m\u001b[39mHM\u001b[39m\u001b[39m'\u001b[39m, \u001b[39m'\u001b[39m\u001b[39mHTeam\u001b[39m\u001b[39m'\u001b[39m, \u001b[39m'\u001b[39m\u001b[39mATeam\u001b[39m\u001b[39m'\u001b[39m, \u001b[39m'\u001b[39m\u001b[39mHG\u001b[39m\u001b[39m'\u001b[39m, \u001b[39m'\u001b[39m\u001b[39mHGA\u001b[39m\u001b[39m'\u001b[39m, \u001b[39m'\u001b[39m\u001b[39mHxGA\u001b[39m\u001b[39m'\u001b[39m, \u001b[39m'\u001b[39m\u001b[39mHDC\u001b[39m\u001b[39m'\u001b[39m, \u001b[39m'\u001b[39m\u001b[39mHODC\u001b[39m\u001b[39m'\u001b[39m, \u001b[39m'\u001b[39m\u001b[39mHPPDA\u001b[39m\u001b[39m'\u001b[39m, \u001b[39m'\u001b[39m\u001b[39mHOPPDA\u001b[39m\u001b[39m'\u001b[39m, \u001b[39m'\u001b[39m\u001b[39mHPTS/M\u001b[39m\u001b[39m'\u001b[39m, \u001b[39m'\u001b[39m\u001b[39mAM\u001b[39m\u001b[39m'\u001b[39m, \u001b[39m'\u001b[39m\u001b[39mAG\u001b[39m\u001b[39m'\u001b[39m, \u001b[39m'\u001b[39m\u001b[39mAGA\u001b[39m\u001b[39m'\u001b[39m, \u001b[39m'\u001b[39m\u001b[39mAxG\u001b[39m\u001b[39m'\u001b[39m, \u001b[39m'\u001b[39m\u001b[39mAxGA\u001b[39m\u001b[39m'\u001b[39m, \u001b[39m'\u001b[39m\u001b[39mADC\u001b[39m\u001b[39m'\u001b[39m, \u001b[39m'\u001b[39m\u001b[39mAODC\u001b[39m\u001b[39m'\u001b[39m, \u001b[39m'\u001b[39m\u001b[39mAPPDA\u001b[39m\u001b[39m'\u001b[39m, \u001b[39m'\u001b[39m\u001b[39mAOPPDA\u001b[39m\u001b[39m'\u001b[39m, \u001b[39m'\u001b[39m\u001b[39mAPTS/M\u001b[39m\u001b[39m'\u001b[39m, \u001b[39m'\u001b[39m\u001b[39mResult\u001b[39m\u001b[39m'\u001b[39m, \u001b[39m'\u001b[39m\u001b[39mB365H\u001b[39m\u001b[39m'\u001b[39m, \u001b[39m'\u001b[39m\u001b[39mB365D\u001b[39m\u001b[39m'\u001b[39m, \u001b[39m'\u001b[39m\u001b[39mB365A\u001b[39m\u001b[39m'\u001b[39m, \u001b[39m'\u001b[39m\u001b[39mBbAv>2.5\u001b[39m\u001b[39m'\u001b[39m, \u001b[39m'\u001b[39m\u001b[39mBbAv<2.5\u001b[39m\u001b[39m'\u001b[39m]]\n\u001b[1;32m     25\u001b[0m SeasonForm \u001b[39m=\u001b[39m SeasonForm\u001b[39m.\u001b[39miloc[\u001b[39m38\u001b[39m:]\n",
      "File \u001b[0;32m~/.local/lib/python3.11/site-packages/pandas/util/_decorators.py:211\u001b[0m, in \u001b[0;36mdeprecate_kwarg.<locals>._deprecate_kwarg.<locals>.wrapper\u001b[0;34m(*args, **kwargs)\u001b[0m\n\u001b[1;32m    209\u001b[0m     \u001b[39melse\u001b[39;00m:\n\u001b[1;32m    210\u001b[0m         kwargs[new_arg_name] \u001b[39m=\u001b[39m new_arg_value\n\u001b[0;32m--> 211\u001b[0m \u001b[39mreturn\u001b[39;00m func(\u001b[39m*\u001b[39;49margs, \u001b[39m*\u001b[39;49m\u001b[39m*\u001b[39;49mkwargs)\n",
      "File \u001b[0;32m~/.local/lib/python3.11/site-packages/pandas/util/_decorators.py:331\u001b[0m, in \u001b[0;36mdeprecate_nonkeyword_arguments.<locals>.decorate.<locals>.wrapper\u001b[0;34m(*args, **kwargs)\u001b[0m\n\u001b[1;32m    325\u001b[0m \u001b[39mif\u001b[39;00m \u001b[39mlen\u001b[39m(args) \u001b[39m>\u001b[39m num_allow_args:\n\u001b[1;32m    326\u001b[0m     warnings\u001b[39m.\u001b[39mwarn(\n\u001b[1;32m    327\u001b[0m         msg\u001b[39m.\u001b[39mformat(arguments\u001b[39m=\u001b[39m_format_argument_list(allow_args)),\n\u001b[1;32m    328\u001b[0m         \u001b[39mFutureWarning\u001b[39;00m,\n\u001b[1;32m    329\u001b[0m         stacklevel\u001b[39m=\u001b[39mfind_stack_level(),\n\u001b[1;32m    330\u001b[0m     )\n\u001b[0;32m--> 331\u001b[0m \u001b[39mreturn\u001b[39;00m func(\u001b[39m*\u001b[39;49margs, \u001b[39m*\u001b[39;49m\u001b[39m*\u001b[39;49mkwargs)\n",
      "File \u001b[0;32m~/.local/lib/python3.11/site-packages/pandas/io/parsers/readers.py:950\u001b[0m, in \u001b[0;36mread_csv\u001b[0;34m(filepath_or_buffer, sep, delimiter, header, names, index_col, usecols, squeeze, prefix, mangle_dupe_cols, dtype, engine, converters, true_values, false_values, skipinitialspace, skiprows, skipfooter, nrows, na_values, keep_default_na, na_filter, verbose, skip_blank_lines, parse_dates, infer_datetime_format, keep_date_col, date_parser, dayfirst, cache_dates, iterator, chunksize, compression, thousands, decimal, lineterminator, quotechar, quoting, doublequote, escapechar, comment, encoding, encoding_errors, dialect, error_bad_lines, warn_bad_lines, on_bad_lines, delim_whitespace, low_memory, memory_map, float_precision, storage_options)\u001b[0m\n\u001b[1;32m    935\u001b[0m kwds_defaults \u001b[39m=\u001b[39m _refine_defaults_read(\n\u001b[1;32m    936\u001b[0m     dialect,\n\u001b[1;32m    937\u001b[0m     delimiter,\n\u001b[0;32m   (...)\u001b[0m\n\u001b[1;32m    946\u001b[0m     defaults\u001b[39m=\u001b[39m{\u001b[39m\"\u001b[39m\u001b[39mdelimiter\u001b[39m\u001b[39m\"\u001b[39m: \u001b[39m\"\u001b[39m\u001b[39m,\u001b[39m\u001b[39m\"\u001b[39m},\n\u001b[1;32m    947\u001b[0m )\n\u001b[1;32m    948\u001b[0m kwds\u001b[39m.\u001b[39mupdate(kwds_defaults)\n\u001b[0;32m--> 950\u001b[0m \u001b[39mreturn\u001b[39;00m _read(filepath_or_buffer, kwds)\n",
      "File \u001b[0;32m~/.local/lib/python3.11/site-packages/pandas/io/parsers/readers.py:605\u001b[0m, in \u001b[0;36m_read\u001b[0;34m(filepath_or_buffer, kwds)\u001b[0m\n\u001b[1;32m    602\u001b[0m _validate_names(kwds\u001b[39m.\u001b[39mget(\u001b[39m\"\u001b[39m\u001b[39mnames\u001b[39m\u001b[39m\"\u001b[39m, \u001b[39mNone\u001b[39;00m))\n\u001b[1;32m    604\u001b[0m \u001b[39m# Create the parser.\u001b[39;00m\n\u001b[0;32m--> 605\u001b[0m parser \u001b[39m=\u001b[39m TextFileReader(filepath_or_buffer, \u001b[39m*\u001b[39;49m\u001b[39m*\u001b[39;49mkwds)\n\u001b[1;32m    607\u001b[0m \u001b[39mif\u001b[39;00m chunksize \u001b[39mor\u001b[39;00m iterator:\n\u001b[1;32m    608\u001b[0m     \u001b[39mreturn\u001b[39;00m parser\n",
      "File \u001b[0;32m~/.local/lib/python3.11/site-packages/pandas/io/parsers/readers.py:1442\u001b[0m, in \u001b[0;36mTextFileReader.__init__\u001b[0;34m(self, f, engine, **kwds)\u001b[0m\n\u001b[1;32m   1439\u001b[0m     \u001b[39mself\u001b[39m\u001b[39m.\u001b[39moptions[\u001b[39m\"\u001b[39m\u001b[39mhas_index_names\u001b[39m\u001b[39m\"\u001b[39m] \u001b[39m=\u001b[39m kwds[\u001b[39m\"\u001b[39m\u001b[39mhas_index_names\u001b[39m\u001b[39m\"\u001b[39m]\n\u001b[1;32m   1441\u001b[0m \u001b[39mself\u001b[39m\u001b[39m.\u001b[39mhandles: IOHandles \u001b[39m|\u001b[39m \u001b[39mNone\u001b[39;00m \u001b[39m=\u001b[39m \u001b[39mNone\u001b[39;00m\n\u001b[0;32m-> 1442\u001b[0m \u001b[39mself\u001b[39m\u001b[39m.\u001b[39m_engine \u001b[39m=\u001b[39m \u001b[39mself\u001b[39;49m\u001b[39m.\u001b[39;49m_make_engine(f, \u001b[39mself\u001b[39;49m\u001b[39m.\u001b[39;49mengine)\n",
      "File \u001b[0;32m~/.local/lib/python3.11/site-packages/pandas/io/parsers/readers.py:1735\u001b[0m, in \u001b[0;36mTextFileReader._make_engine\u001b[0;34m(self, f, engine)\u001b[0m\n\u001b[1;32m   1733\u001b[0m     \u001b[39mif\u001b[39;00m \u001b[39m\"\u001b[39m\u001b[39mb\u001b[39m\u001b[39m\"\u001b[39m \u001b[39mnot\u001b[39;00m \u001b[39min\u001b[39;00m mode:\n\u001b[1;32m   1734\u001b[0m         mode \u001b[39m+\u001b[39m\u001b[39m=\u001b[39m \u001b[39m\"\u001b[39m\u001b[39mb\u001b[39m\u001b[39m\"\u001b[39m\n\u001b[0;32m-> 1735\u001b[0m \u001b[39mself\u001b[39m\u001b[39m.\u001b[39mhandles \u001b[39m=\u001b[39m get_handle(\n\u001b[1;32m   1736\u001b[0m     f,\n\u001b[1;32m   1737\u001b[0m     mode,\n\u001b[1;32m   1738\u001b[0m     encoding\u001b[39m=\u001b[39;49m\u001b[39mself\u001b[39;49m\u001b[39m.\u001b[39;49moptions\u001b[39m.\u001b[39;49mget(\u001b[39m\"\u001b[39;49m\u001b[39mencoding\u001b[39;49m\u001b[39m\"\u001b[39;49m, \u001b[39mNone\u001b[39;49;00m),\n\u001b[1;32m   1739\u001b[0m     compression\u001b[39m=\u001b[39;49m\u001b[39mself\u001b[39;49m\u001b[39m.\u001b[39;49moptions\u001b[39m.\u001b[39;49mget(\u001b[39m\"\u001b[39;49m\u001b[39mcompression\u001b[39;49m\u001b[39m\"\u001b[39;49m, \u001b[39mNone\u001b[39;49;00m),\n\u001b[1;32m   1740\u001b[0m     memory_map\u001b[39m=\u001b[39;49m\u001b[39mself\u001b[39;49m\u001b[39m.\u001b[39;49moptions\u001b[39m.\u001b[39;49mget(\u001b[39m\"\u001b[39;49m\u001b[39mmemory_map\u001b[39;49m\u001b[39m\"\u001b[39;49m, \u001b[39mFalse\u001b[39;49;00m),\n\u001b[1;32m   1741\u001b[0m     is_text\u001b[39m=\u001b[39;49mis_text,\n\u001b[1;32m   1742\u001b[0m     errors\u001b[39m=\u001b[39;49m\u001b[39mself\u001b[39;49m\u001b[39m.\u001b[39;49moptions\u001b[39m.\u001b[39;49mget(\u001b[39m\"\u001b[39;49m\u001b[39mencoding_errors\u001b[39;49m\u001b[39m\"\u001b[39;49m, \u001b[39m\"\u001b[39;49m\u001b[39mstrict\u001b[39;49m\u001b[39m\"\u001b[39;49m),\n\u001b[1;32m   1743\u001b[0m     storage_options\u001b[39m=\u001b[39;49m\u001b[39mself\u001b[39;49m\u001b[39m.\u001b[39;49moptions\u001b[39m.\u001b[39;49mget(\u001b[39m\"\u001b[39;49m\u001b[39mstorage_options\u001b[39;49m\u001b[39m\"\u001b[39;49m, \u001b[39mNone\u001b[39;49;00m),\n\u001b[1;32m   1744\u001b[0m )\n\u001b[1;32m   1745\u001b[0m \u001b[39massert\u001b[39;00m \u001b[39mself\u001b[39m\u001b[39m.\u001b[39mhandles \u001b[39mis\u001b[39;00m \u001b[39mnot\u001b[39;00m \u001b[39mNone\u001b[39;00m\n\u001b[1;32m   1746\u001b[0m f \u001b[39m=\u001b[39m \u001b[39mself\u001b[39m\u001b[39m.\u001b[39mhandles\u001b[39m.\u001b[39mhandle\n",
      "File \u001b[0;32m~/.local/lib/python3.11/site-packages/pandas/io/common.py:856\u001b[0m, in \u001b[0;36mget_handle\u001b[0;34m(path_or_buf, mode, encoding, compression, memory_map, is_text, errors, storage_options)\u001b[0m\n\u001b[1;32m    851\u001b[0m \u001b[39melif\u001b[39;00m \u001b[39misinstance\u001b[39m(handle, \u001b[39mstr\u001b[39m):\n\u001b[1;32m    852\u001b[0m     \u001b[39m# Check whether the filename is to be opened in binary mode.\u001b[39;00m\n\u001b[1;32m    853\u001b[0m     \u001b[39m# Binary mode does not support 'encoding' and 'newline'.\u001b[39;00m\n\u001b[1;32m    854\u001b[0m     \u001b[39mif\u001b[39;00m ioargs\u001b[39m.\u001b[39mencoding \u001b[39mand\u001b[39;00m \u001b[39m\"\u001b[39m\u001b[39mb\u001b[39m\u001b[39m\"\u001b[39m \u001b[39mnot\u001b[39;00m \u001b[39min\u001b[39;00m ioargs\u001b[39m.\u001b[39mmode:\n\u001b[1;32m    855\u001b[0m         \u001b[39m# Encoding\u001b[39;00m\n\u001b[0;32m--> 856\u001b[0m         handle \u001b[39m=\u001b[39m \u001b[39mopen\u001b[39m(\n\u001b[1;32m    857\u001b[0m             handle,\n\u001b[1;32m    858\u001b[0m             ioargs\u001b[39m.\u001b[39mmode,\n\u001b[1;32m    859\u001b[0m             encoding\u001b[39m=\u001b[39mioargs\u001b[39m.\u001b[39mencoding,\n\u001b[1;32m    860\u001b[0m             errors\u001b[39m=\u001b[39merrors,\n\u001b[1;32m    861\u001b[0m             newline\u001b[39m=\u001b[39m\u001b[39m\"\u001b[39m\u001b[39m\"\u001b[39m,\n\u001b[1;32m    862\u001b[0m         )\n\u001b[1;32m    863\u001b[0m     \u001b[39melse\u001b[39;00m:\n\u001b[1;32m    864\u001b[0m         \u001b[39m# Binary mode\u001b[39;00m\n\u001b[1;32m    865\u001b[0m         handle \u001b[39m=\u001b[39m \u001b[39mopen\u001b[39m(handle, ioargs\u001b[39m.\u001b[39mmode)\n",
      "\u001b[0;31mFileNotFoundError\u001b[0m: [Errno 2] No such file or directory: 'GatheredData/Epl-20xx_3Months/Epl-2022_3Months.csv'"
     ]
    }
   ],
   "source": [
    "df1 = pd.read_csv('GatheredData/Epl20xx_3Months/Epl2017_3Months.csv')\n",
    "df2 = pd.read_csv('GatheredData/Epl20xx_3Months/Epl2018_3Months.csv')\n",
    "df3 = pd.read_csv('GatheredData/Epl20xx_3Months/Epl2019_3Months.csv')\n",
    "df4 = pd.read_csv('GatheredData/Epl20xx_3Months/Epl2020_3Months.csv')\n",
    "df5 = pd.read_csv('GatheredData/Epl20xx_3Months/Epl2021_3Months.csv')\n",
    "df6 = pd.read_csv('GatheredData/Epl20xx_3Months/Epl2022_3Months.csv')\n",
    "PRED = pd.read_csv('PredictionMonth3.csv')\n",
    "pred = PRED.copy()\n",
    "#Keeping bookmakers odds\n",
    "Odds = PRED.copy()\n",
    "Odds = PRED[['HTeam', 'ATeam','B365H', 'B365D', 'B365A', 'BbAv>2.5', 'BbAv<2.5']]\n",
    "\n",
    "df1 = df1[['Date', 'HxG', 'HM', 'HTeam', 'ATeam', 'HG', 'HGA', 'HxGA', 'HDC', 'HODC', 'HPPDA', 'HOPPDA', 'HPTS/M', 'AM', 'AG', 'AGA', 'AxG', 'AxGA', 'ADC', 'AODC', 'APPDA', 'AOPPDA', 'APTS/M', 'Result', 'B365H', 'B365D', 'B365A', 'BbAv>2.5', 'BbAv<2.5']]\n",
    "df2 = df2[['Date', 'HxG', 'HM', 'HTeam', 'ATeam', 'HG', 'HGA', 'HxGA', 'HDC', 'HODC', 'HPPDA', 'HOPPDA', 'HPTS/M', 'AM', 'AG', 'AGA', 'AxG', 'AxGA', 'ADC', 'AODC', 'APPDA', 'AOPPDA', 'APTS/M', 'Result', 'B365H', 'B365D', 'B365A', 'BbAv>2.5', 'BbAv<2.5']]\n",
    "df3 = df3[['Date', 'HxG', 'HM', 'HTeam', 'ATeam', 'HG', 'HGA', 'HxGA', 'HDC', 'HODC', 'HPPDA', 'HOPPDA', 'HPTS/M', 'AM', 'AG', 'AGA', 'AxG', 'AxGA', 'ADC', 'AODC', 'APPDA', 'AOPPDA', 'APTS/M', 'Result', 'B365H', 'B365D', 'B365A', 'BbAv>2.5', 'BbAv<2.5']]\n",
    "df4 = df4[['Date', 'HxG', 'HM', 'HTeam', 'ATeam', 'HG', 'HGA', 'HxGA', 'HDC', 'HODC', 'HPPDA', 'HOPPDA', 'HPTS/M', 'AM', 'AG', 'AGA', 'AxG', 'AxGA', 'ADC', 'AODC', 'APPDA', 'AOPPDA', 'APTS/M', 'Result', 'B365H', 'B365D', 'B365A', 'BbAv>2.5', 'BbAv<2.5']]\n",
    "df5 = df5[['Date', 'HxG', 'HM', 'HTeam', 'ATeam', 'HG', 'HGA', 'HxGA', 'HDC', 'HODC', 'HPPDA', 'HOPPDA', 'HPTS/M', 'AM', 'AG', 'AGA', 'AxG', 'AxGA', 'ADC', 'AODC', 'APPDA', 'AOPPDA', 'APTS/M', 'Result', 'B365H', 'B365D', 'B365A', 'BbAv>2.5', 'BbAv<2.5']]\n",
    "df6 = df6[['Date', 'HxG', 'HM', 'HTeam', 'ATeam', 'HG', 'HGA', 'HxGA', 'HDC', 'HODC', 'HPPDA', 'HOPPDA', 'HPTS/M', 'AM', 'AG', 'AGA', 'AxG', 'AxGA', 'ADC', 'AODC', 'APPDA', 'AOPPDA', 'APTS/M', 'Result', 'B365H', 'B365D', 'B365A', 'B365>2.5', 'B365<2.5']]\n",
    "df6.rename(columns = {'B365<2.5':'BbAv<2.5'}, inplace = True)\n",
    "df6.rename(columns = {'B365>2.5':'BbAv>2.5'}, inplace = True)\n",
    "\n",
    "SeasonForm = pd.read_csv('GatheredData/Epl20xx_3Months/Epl2023_3Months.csv')\n",
    "    \n",
    "SeasonForm = SeasonForm[['HxG', 'HM', 'HTeam', 'ATeam', 'HG', 'HGA', 'HxGA', 'HDC', 'HODC', 'HPPDA', 'HOPPDA', 'HPTS/M', 'AM', 'AG', 'AGA', 'AxG', 'AxGA', 'ADC', 'AODC', 'APPDA', 'AOPPDA', 'APTS/M', 'Result', 'B365H', 'B365D', 'B365A', 'BbAv>2.5', 'BbAv<2.5']]\n",
    "SeasonForm = SeasonForm.iloc[38:]\n",
    "\n",
    "DF = pd.concat([df1, df2, df3, df4, df5, df6, SeasonForm], ignore_index=True)\n",
    "merged = pd.merge(subset, DF, on=['Date', 'HTeam', 'ATeam'], how='left')\n",
    "# resulting dataframe will have columns of B where the triplet of A['a', 'b', 'c'] exists in B\n",
    "DF = merged[DF.columns]\n",
    "DF['PTSDIF/M']=DF['HPTS/M']-DF['APTS/M']\n",
    "pred['PTSDIF/M']=pred['HPTS/M']-pred['APTS/M']\n",
    "DF = DF[['HxG', 'HM', 'HG', 'HGA', 'HxGA', 'HDC', 'HODC', 'HPPDA', 'HOPPDA', 'HPTS/M', 'AM', 'AG', 'AGA', 'AxG', 'AxGA', 'ADC', 'AODC', 'APPDA', 'AOPPDA', 'APTS/M', 'PTSDIF/M', 'Result']]\n",
    "pred = pred[[ 'HxG', 'HM', 'HG', 'HGA', 'HxGA', 'HDC', 'HODC', 'HPPDA', 'HOPPDA', 'HPTS/M', 'AM', 'AG', 'AGA', 'AxG', 'AxGA', 'ADC', 'AODC', 'APPDA', 'AOPPDA', 'APTS/M', 'PTSDIF/M', 'Result']]\n",
    "cut = DF.shape[0]\n",
    "DF = pd.concat([DF, pred], ignore_index=True)\n",
    "\n",
    "\n",
    "try:\n",
    "    DF['HxG'] = DF['HxG'].div(DF['HM']).fillna(0)\n",
    "    DF['HG'] = DF['HG'].div(DF['HM']).fillna(0)\n",
    "    DF['HGA'] = DF['HGA'].div(DF['HM']).fillna(0)\n",
    "    DF['HxGA'] = DF['HxGA'].div(DF['HM']).fillna(0)\n",
    "    DF['AxG'] = DF['AxG'].div(DF['AM']).fillna(0)\n",
    "    DF['AG'] = DF['AG'].div(DF['AM']).fillna(0)\n",
    "    DF['AxGA'] = DF['AxG'].div(DF['AM']).fillna(0)\n",
    "    DF['AGA'] = DF['AGA'].div(DF['AM']).fillna(0)\n",
    "    pred['HxG'] = pred['HxG'].div(pred['HM']).fillna(0)\n",
    "    pred['HG'] = pred['HG'].div(pred['HM']).fillna(0)\n",
    "    pred['HGA'] = pred['HGA'].div(pred['HM']).fillna(0)\n",
    "    pred['HxGA'] = pred['HxGA'].div(pred['HM']).fillna(0)\n",
    "    pred['AxG'] = pred['AxG'].div(pred['AM']).fillna(0)\n",
    "    pred['AG'] = pred['AG'].div(pred['AM']).fillna(0)\n",
    "    pred['AxGA'] = pred['AxG'].div(pred['AM']).fillna(0)\n",
    "    pred['AGA'] = pred['AGA'].div(pred['AM']).fillna(0)\n",
    "\n",
    "except ZeroDivisionError:\n",
    "    DF['HxG'] = 0\n",
    "    DF['HG'] = 0\n",
    "    DF['HGA'] = 0\n",
    "    DF['HxGA'] = 0\n",
    "    DF['AxG'] = 0\n",
    "    DF['AG'] = 0\n",
    "    DF['AxGA'] = 0\n",
    "    DF['AGA'] = 0\n",
    "\n",
    "HGoals = []\n",
    "AGoals = []\n",
    "for i, x in DF.iloc[:cut].iterrows():\n",
    "    a=x['Result'].split('\\'')\n",
    "    HGoals.append(a[1])\n",
    "    AGoals.append(a[3])\n",
    "\n",
    "DF=np.array(DF)\n",
    "\n",
    "DFnorm = preprocessing.normalize(DF[:, 0:21].astype('float64'), axis=0)\n",
    "pred = DFnorm[cut:]\n",
    "DF = DFnorm[:cut]\n",
    "\n",
    "x=DF\n",
    "\n",
    "y1=np.array(HGoals)\n",
    "y2=np.array(AGoals)\n",
    "\n",
    "reg1 = LinearRegression().fit(x, y1)\n",
    "reg2 = LinearRegression().fit(x, y2)\n",
    "\n",
    "LamdaHomeForm= reg1.predict(pred)\n",
    "LamdaAwayForm= reg2.predict(pred)"
   ]
  },
  {
   "cell_type": "code",
   "execution_count": null,
   "metadata": {},
   "outputs": [
    {
     "name": "stdout",
     "output_type": "stream",
     "text": [
      "[1.5337805627687664, 2.695917949896608, 1.6248958148757129, 1.1573753729307383, 2.2785026284805427, 1.5100224274366214, 1.2303069035921292, 1.2177294662486253, 2.356414527446355, 1.3949932757946897, 1.0322637129155061, 1.5089366077656017, 1.5220024646701327, 1.3102737701703804, 1.8624398691076347, 2.076780029624154, 0.6362522075943216, 1.4921185257650358, 2.191746595545063, 0.8933847170443479]\n",
      "[1.5239425367385522, 0.5009478890427725, 0.9451263210032039, 1.3455541770035557, 0.8983916327355536, 1.6936791915344558, 1.6362955905093615, 1.3273543438041808, 0.7518767374912625, 1.280424363837858, 1.733439207319727, 1.1725741868125135, 1.3050356790211706, 1.2520323159091218, 0.8028048501259439, 0.956883807173392, 2.2049411203385443, 1.0576724096285681, 1.4650639149917384, 1.8667116023555306]\n"
     ]
    }
   ],
   "source": [
    "LamdaAwayFinal = [(LamdaAway[i] * 0.4 + LamdaAwayForm[i] * 0.6) for i in range(len(LamdaAway))]\n",
    "LamdaHomeFinal = [(LamdaHome[i] * 0.4 + LamdaHomeForm[i] * 0.6) for i in range(len(LamdaHome))]\n",
    "\n",
    "print(LamdaHomeFinal)\n",
    "print(LamdaAwayFinal)"
   ]
  },
  {
   "cell_type": "code",
   "execution_count": null,
   "metadata": {},
   "outputs": [
    {
     "data": {
      "text/html": [
       "<div>\n",
       "<style scoped>\n",
       "    .dataframe tbody tr th:only-of-type {\n",
       "        vertical-align: middle;\n",
       "    }\n",
       "\n",
       "    .dataframe tbody tr th {\n",
       "        vertical-align: top;\n",
       "    }\n",
       "\n",
       "    .dataframe thead th {\n",
       "        text-align: right;\n",
       "    }\n",
       "</style>\n",
       "<table border=\"1\" class=\"dataframe\">\n",
       "  <thead>\n",
       "    <tr style=\"text-align: right;\">\n",
       "      <th></th>\n",
       "      <th>HTeam</th>\n",
       "      <th>ATeam</th>\n",
       "      <th>P(Hwin)</th>\n",
       "      <th>P(Draw)</th>\n",
       "      <th>P(Awin)</th>\n",
       "      <th>P(Under)</th>\n",
       "      <th>P(Over)</th>\n",
       "    </tr>\n",
       "  </thead>\n",
       "  <tbody>\n",
       "    <tr>\n",
       "      <th>0</th>\n",
       "      <td>Bournemouth</td>\n",
       "      <td>Chelsea</td>\n",
       "      <td>0.351</td>\n",
       "      <td>0.246</td>\n",
       "      <td>0.403</td>\n",
       "      <td>0.439</td>\n",
       "      <td>0.561</td>\n",
       "    </tr>\n",
       "    <tr>\n",
       "      <th>1</th>\n",
       "      <td>Manchester City</td>\n",
       "      <td>Leeds</td>\n",
       "      <td>0.847</td>\n",
       "      <td>0.110</td>\n",
       "      <td>0.044</td>\n",
       "      <td>0.358</td>\n",
       "      <td>0.642</td>\n",
       "    </tr>\n",
       "    <tr>\n",
       "      <th>2</th>\n",
       "      <td>Tottenham</td>\n",
       "      <td>Crystal Palace</td>\n",
       "      <td>0.605</td>\n",
       "      <td>0.222</td>\n",
       "      <td>0.172</td>\n",
       "      <td>0.485</td>\n",
       "      <td>0.515</td>\n",
       "    </tr>\n",
       "    <tr>\n",
       "      <th>3</th>\n",
       "      <td>Wolverhampton Wanderers</td>\n",
       "      <td>Aston Villa</td>\n",
       "      <td>0.337</td>\n",
       "      <td>0.264</td>\n",
       "      <td>0.399</td>\n",
       "      <td>0.521</td>\n",
       "      <td>0.479</td>\n",
       "    </tr>\n",
       "    <tr>\n",
       "      <th>4</th>\n",
       "      <td>Liverpool</td>\n",
       "      <td>Brentford</td>\n",
       "      <td>0.657</td>\n",
       "      <td>0.189</td>\n",
       "      <td>0.153</td>\n",
       "      <td>0.373</td>\n",
       "      <td>0.627</td>\n",
       "    </tr>\n",
       "    <tr>\n",
       "      <th>5</th>\n",
       "      <td>Newcastle United</td>\n",
       "      <td>Arsenal</td>\n",
       "      <td>0.379</td>\n",
       "      <td>0.230</td>\n",
       "      <td>0.391</td>\n",
       "      <td>0.358</td>\n",
       "      <td>0.642</td>\n",
       "    </tr>\n",
       "    <tr>\n",
       "      <th>6</th>\n",
       "      <td>West Ham</td>\n",
       "      <td>Manchester United</td>\n",
       "      <td>0.315</td>\n",
       "      <td>0.250</td>\n",
       "      <td>0.435</td>\n",
       "      <td>0.467</td>\n",
       "      <td>0.533</td>\n",
       "    </tr>\n",
       "    <tr>\n",
       "      <th>7</th>\n",
       "      <td>Fulham</td>\n",
       "      <td>Leicester</td>\n",
       "      <td>0.351</td>\n",
       "      <td>0.270</td>\n",
       "      <td>0.378</td>\n",
       "      <td>0.545</td>\n",
       "      <td>0.455</td>\n",
       "    </tr>\n",
       "    <tr>\n",
       "      <th>8</th>\n",
       "      <td>Brighton</td>\n",
       "      <td>Everton</td>\n",
       "      <td>0.737</td>\n",
       "      <td>0.170</td>\n",
       "      <td>0.093</td>\n",
       "      <td>0.441</td>\n",
       "      <td>0.559</td>\n",
       "    </tr>\n",
       "    <tr>\n",
       "      <th>9</th>\n",
       "      <td>Nottingham Forest</td>\n",
       "      <td>Southampton</td>\n",
       "      <td>0.429</td>\n",
       "      <td>0.258</td>\n",
       "      <td>0.313</td>\n",
       "      <td>0.502</td>\n",
       "      <td>0.498</td>\n",
       "    </tr>\n",
       "    <tr>\n",
       "      <th>10</th>\n",
       "      <td>Leeds</td>\n",
       "      <td>Newcastle United</td>\n",
       "      <td>0.226</td>\n",
       "      <td>0.239</td>\n",
       "      <td>0.535</td>\n",
       "      <td>0.485</td>\n",
       "      <td>0.515</td>\n",
       "    </tr>\n",
       "    <tr>\n",
       "      <th>11</th>\n",
       "      <td>Crystal Palace</td>\n",
       "      <td>Bournemouth</td>\n",
       "      <td>0.468</td>\n",
       "      <td>0.249</td>\n",
       "      <td>0.283</td>\n",
       "      <td>0.481</td>\n",
       "      <td>0.519</td>\n",
       "    </tr>\n",
       "    <tr>\n",
       "      <th>12</th>\n",
       "      <td>Aston Villa</td>\n",
       "      <td>Tottenham</td>\n",
       "      <td>0.382</td>\n",
       "      <td>0.256</td>\n",
       "      <td>0.362</td>\n",
       "      <td>0.483</td>\n",
       "      <td>0.517</td>\n",
       "    </tr>\n",
       "    <tr>\n",
       "      <th>13</th>\n",
       "      <td>Southampton</td>\n",
       "      <td>Fulham</td>\n",
       "      <td>0.342</td>\n",
       "      <td>0.271</td>\n",
       "      <td>0.387</td>\n",
       "      <td>0.550</td>\n",
       "      <td>0.450</td>\n",
       "    </tr>\n",
       "    <tr>\n",
       "      <th>14</th>\n",
       "      <td>Chelsea</td>\n",
       "      <td>Nottingham Forest</td>\n",
       "      <td>0.625</td>\n",
       "      <td>0.222</td>\n",
       "      <td>0.153</td>\n",
       "      <td>0.516</td>\n",
       "      <td>0.484</td>\n",
       "    </tr>\n",
       "    <tr>\n",
       "      <th>15</th>\n",
       "      <td>Manchester United</td>\n",
       "      <td>Wolverhampton Wanderers</td>\n",
       "      <td>0.689</td>\n",
       "      <td>0.183</td>\n",
       "      <td>0.128</td>\n",
       "      <td>0.404</td>\n",
       "      <td>0.596</td>\n",
       "    </tr>\n",
       "    <tr>\n",
       "      <th>16</th>\n",
       "      <td>Everton</td>\n",
       "      <td>Manchester City</td>\n",
       "      <td>0.078</td>\n",
       "      <td>0.166</td>\n",
       "      <td>0.756</td>\n",
       "      <td>0.472</td>\n",
       "      <td>0.528</td>\n",
       "    </tr>\n",
       "    <tr>\n",
       "      <th>17</th>\n",
       "      <td>Brentford</td>\n",
       "      <td>West Ham</td>\n",
       "      <td>0.483</td>\n",
       "      <td>0.252</td>\n",
       "      <td>0.265</td>\n",
       "      <td>0.502</td>\n",
       "      <td>0.498</td>\n",
       "    </tr>\n",
       "    <tr>\n",
       "      <th>18</th>\n",
       "      <td>Arsenal</td>\n",
       "      <td>Brighton</td>\n",
       "      <td>0.568</td>\n",
       "      <td>0.200</td>\n",
       "      <td>0.231</td>\n",
       "      <td>0.298</td>\n",
       "      <td>0.702</td>\n",
       "    </tr>\n",
       "    <tr>\n",
       "      <th>19</th>\n",
       "      <td>Leicester</td>\n",
       "      <td>Liverpool</td>\n",
       "      <td>0.230</td>\n",
       "      <td>0.238</td>\n",
       "      <td>0.532</td>\n",
       "      <td>0.475</td>\n",
       "      <td>0.525</td>\n",
       "    </tr>\n",
       "  </tbody>\n",
       "</table>\n",
       "</div>"
      ],
      "text/plain": [
       "                      HTeam                    ATeam  P(Hwin)  P(Draw)  \\\n",
       "0               Bournemouth                  Chelsea    0.351    0.246   \n",
       "1           Manchester City                    Leeds    0.847    0.110   \n",
       "2                 Tottenham           Crystal Palace    0.605    0.222   \n",
       "3   Wolverhampton Wanderers              Aston Villa    0.337    0.264   \n",
       "4                 Liverpool                Brentford    0.657    0.189   \n",
       "5          Newcastle United                  Arsenal    0.379    0.230   \n",
       "6                  West Ham        Manchester United    0.315    0.250   \n",
       "7                    Fulham                Leicester    0.351    0.270   \n",
       "8                  Brighton                  Everton    0.737    0.170   \n",
       "9         Nottingham Forest              Southampton    0.429    0.258   \n",
       "10                    Leeds         Newcastle United    0.226    0.239   \n",
       "11           Crystal Palace              Bournemouth    0.468    0.249   \n",
       "12              Aston Villa                Tottenham    0.382    0.256   \n",
       "13              Southampton                   Fulham    0.342    0.271   \n",
       "14                  Chelsea        Nottingham Forest    0.625    0.222   \n",
       "15        Manchester United  Wolverhampton Wanderers    0.689    0.183   \n",
       "16                  Everton          Manchester City    0.078    0.166   \n",
       "17                Brentford                 West Ham    0.483    0.252   \n",
       "18                  Arsenal                 Brighton    0.568    0.200   \n",
       "19                Leicester                Liverpool    0.230    0.238   \n",
       "\n",
       "    P(Awin)  P(Under)  P(Over)  \n",
       "0     0.403     0.439    0.561  \n",
       "1     0.044     0.358    0.642  \n",
       "2     0.172     0.485    0.515  \n",
       "3     0.399     0.521    0.479  \n",
       "4     0.153     0.373    0.627  \n",
       "5     0.391     0.358    0.642  \n",
       "6     0.435     0.467    0.533  \n",
       "7     0.378     0.545    0.455  \n",
       "8     0.093     0.441    0.559  \n",
       "9     0.313     0.502    0.498  \n",
       "10    0.535     0.485    0.515  \n",
       "11    0.283     0.481    0.519  \n",
       "12    0.362     0.483    0.517  \n",
       "13    0.387     0.550    0.450  \n",
       "14    0.153     0.516    0.484  \n",
       "15    0.128     0.404    0.596  \n",
       "16    0.756     0.472    0.528  \n",
       "17    0.265     0.502    0.498  \n",
       "18    0.231     0.298    0.702  \n",
       "19    0.532     0.475    0.525  "
      ]
     },
     "metadata": {},
     "output_type": "display_data"
    },
    {
     "name": "stderr",
     "output_type": "stream",
     "text": [
      "/tmp/ipykernel_147206/3739398557.py:71: SettingWithCopyWarning: \n",
      "A value is trying to be set on a copy of a slice from a DataFrame\n",
      "\n",
      "See the caveats in the documentation: https://pandas.pydata.org/pandas-docs/stable/user_guide/indexing.html#returning-a-view-versus-a-copy\n",
      "  Final_Odds['Match'][i] = str(Final_Odds['HTeam'][i] + '-' + Final_Odds['ATeam'][i])\n",
      "/tmp/ipykernel_147206/3739398557.py:75: SettingWithCopyWarning: \n",
      "A value is trying to be set on a copy of a slice from a DataFrame\n",
      "\n",
      "See the caveats in the documentation: https://pandas.pydata.org/pandas-docs/stable/user_guide/indexing.html#returning-a-view-versus-a-copy\n",
      "  Final_Odds['P(Hwin)'][i] = 1/Final_Odds.iloc[i]['B365H']\n",
      "/tmp/ipykernel_147206/3739398557.py:76: SettingWithCopyWarning: \n",
      "A value is trying to be set on a copy of a slice from a DataFrame\n",
      "\n",
      "See the caveats in the documentation: https://pandas.pydata.org/pandas-docs/stable/user_guide/indexing.html#returning-a-view-versus-a-copy\n",
      "  Final_Odds['P(Awin)'][i] = 1/Final_Odds.iloc[i]['B365A']\n",
      "/tmp/ipykernel_147206/3739398557.py:77: SettingWithCopyWarning: \n",
      "A value is trying to be set on a copy of a slice from a DataFrame\n",
      "\n",
      "See the caveats in the documentation: https://pandas.pydata.org/pandas-docs/stable/user_guide/indexing.html#returning-a-view-versus-a-copy\n",
      "  Final_Odds['P(Draw)'][i] = 1/Final_Odds.iloc[i]['B365D']\n",
      "/tmp/ipykernel_147206/3739398557.py:78: SettingWithCopyWarning: \n",
      "A value is trying to be set on a copy of a slice from a DataFrame\n",
      "\n",
      "See the caveats in the documentation: https://pandas.pydata.org/pandas-docs/stable/user_guide/indexing.html#returning-a-view-versus-a-copy\n",
      "  Final_Odds['P(Over)'][i] = 1/Final_Odds.iloc[i]['BbAv>2.5']\n",
      "/tmp/ipykernel_147206/3739398557.py:79: SettingWithCopyWarning: \n",
      "A value is trying to be set on a copy of a slice from a DataFrame\n",
      "\n",
      "See the caveats in the documentation: https://pandas.pydata.org/pandas-docs/stable/user_guide/indexing.html#returning-a-view-versus-a-copy\n",
      "  Final_Odds['P(Under)'][i] = 1/Final_Odds.iloc[i]['BbAv<2.5']\n"
     ]
    }
   ],
   "source": [
    "k = range(12)\n",
    "PH = np.zeros((len(k), 1))\n",
    "PA = np.zeros((1, len(k)))\n",
    "PRED['P(Hwin)']= np.nan\n",
    "PRED['P(Awin)']= np.nan\n",
    "PRED['P(Draw)']= np.nan\n",
    "PRED['P(Over)']= np.nan\n",
    "PRED['P(Under)']= np.nan\n",
    "\n",
    "Pie_list = []\n",
    "for j, l in enumerate(LamdaHome):\n",
    "    for i in k:\n",
    "        PH[i, 0] = (math.exp(-l)*l**k[i]) /math.factorial(k[i])\n",
    "        PA[0, i] = (math.exp(-LamdaAway[j])*LamdaAway[j]**k[i]) /math.factorial(k[i])\n",
    "    Pscore = np.matmul(PH, PA) \n",
    "    df = pd.DataFrame(Pscore, columns = ['0','1','2', '3', '4', '5', '6', '7', '8', '9', '10', '11'])\n",
    "    PRED.loc[j,'P(Awin)'], PRED.loc[j,'P(Hwin)'], PRED.loc[j,'P(Draw)'], PRED.loc[j,'P(Over)'], PRED.loc[j,'P(Under)']  = sum_of_lower_upper(Pscore)\n",
    "    PRED['P(Over)'] = 1 - PRED['P(Under)']\n",
    "    df = df.iloc[0:5, 0:5]\n",
    "    pd.set_option('display.float_format', lambda x: '%.3f' % x)\n",
    "    \n",
    "    G = []\n",
    "    for i in range(0, 5):\n",
    "        for j in range(0, 5):\n",
    "            G.append(df.loc[i][j])\n",
    "\n",
    "            \n",
    "    Pie_Df = pd.DataFrame(G, columns = ['P(score)'])\n",
    "    Pie_Df['score']= ['0 - 0',\n",
    "                      '0 - 1',\n",
    "                      '0 - 2',\n",
    "                      '0 - 3',\n",
    "                      '0 - 4',\n",
    "                      '1 - 0',\n",
    "                      '1 - 1',\n",
    "                      '1 - 2',\n",
    "                      '1 - 3',\n",
    "                      '1 - 4',\n",
    "                      '2 - 0',\n",
    "                      '2 - 1',\n",
    "                      '2 - 2',\n",
    "                      '2 - 3',\n",
    "                      '2 - 4',\n",
    "                      '3 - 0',\n",
    "                      '3 - 1',\n",
    "                      '3 - 2',\n",
    "                      '3 - 3',\n",
    "                      '3 - 4',\n",
    "                      '4 - 0',\n",
    "                      '4 - 1',\n",
    "                      '4 - 2',\n",
    "                      '4 - 3',\n",
    "                      '4 - 4']\n",
    "    Pie_Df.loc[Pie_Df[\"P(score)\"] < 0.02, \"score\"] = 'Other'\n",
    "    Pie_Df = Pie_Df.sort_values(by=['P(score)'], ascending=False)\n",
    "    Pie_list.append(Pie_Df)\n",
    "    \n",
    "\n",
    "PRED = PRED[['HTeam', 'ATeam', 'P(Hwin)', 'P(Draw)', 'P(Awin)', 'P(Under)', 'P(Over)']]\n",
    "with pd.option_context('display.max_rows', None, 'display.max_columns', None):  # more options can be specified also\n",
    "    display(PRED)\n",
    "\n",
    "Final_Odds = pd.concat([PRED, Odds], axis=0)\n",
    "Final_Odds['Type'] = np.nan\n",
    "Final_Odds['Match'] = np.nan\n",
    "Final_Odds = Final_Odds.reset_index(drop = 'True')\n",
    "Final_Odds.loc[Final_Odds['B365H'].isnull(), 'Type'] = 'Predicted'\n",
    "Final_Odds.loc[Final_Odds['P(Hwin)'].isnull(), 'Type'] = 'Bookmaker'\n",
    "\n",
    "for i, x in enumerate(Final_Odds['Match']):\n",
    "    Final_Odds['Match'][i] = str(Final_Odds['HTeam'][i] + '-' + Final_Odds['ATeam'][i])\n",
    "\n",
    "li  = Final_Odds.index[Final_Odds['Type'] == 'Bookmaker'].tolist()\n",
    "for i in li:\n",
    "    Final_Odds['P(Hwin)'][i] = 1/Final_Odds.iloc[i]['B365H']\n",
    "    Final_Odds['P(Awin)'][i] = 1/Final_Odds.iloc[i]['B365A']\n",
    "    Final_Odds['P(Draw)'][i] = 1/Final_Odds.iloc[i]['B365D']\n",
    "    Final_Odds['P(Over)'][i] = 1/Final_Odds.iloc[i]['BbAv>2.5']\n",
    "    Final_Odds['P(Under)'][i] = 1/Final_Odds.iloc[i]['BbAv<2.5']\n",
    "\n",
    "Final_Odds = Final_Odds[['P(Hwin)', 'P(Draw)', 'P(Awin)', 'P(Under)', 'P(Over)', 'Type', 'Match']].copy()"
   ]
  },
  {
   "cell_type": "code",
   "execution_count": null,
   "metadata": {},
   "outputs": [
    {
     "data": {
      "application/vnd.plotly.v1+json": {
       "config": {
        "plotlyServerURL": "https://plot.ly"
       },
       "data": [
        {
         "marker": {
          "color": "rgb(141,211,199)"
         },
         "name": "Predicted Home Win",
         "type": "bar",
         "x": [
          "Bournemouth-Chelsea",
          "Manchester City-Leeds",
          "Tottenham-Crystal Palace",
          "Wolverhampton Wanderers-Aston Villa",
          "Liverpool-Brentford",
          "Newcastle United-Arsenal",
          "West Ham-Manchester United",
          "Fulham-Leicester",
          "Brighton-Everton",
          "Nottingham Forest-Southampton",
          "Leeds-Newcastle United",
          "Crystal Palace-Bournemouth",
          "Aston Villa-Tottenham",
          "Southampton-Fulham",
          "Chelsea-Nottingham Forest",
          "Manchester United-Wolverhampton Wanderers",
          "Everton-Manchester City",
          "Brentford-West Ham",
          "Arsenal-Brighton",
          "Leicester-Liverpool"
         ],
         "xaxis": "x",
         "y": [
          0.3514480638987532,
          0.8465385897400888,
          0.6054336220048904,
          0.33749106201625934,
          0.6573227905322632,
          0.3788029833287392,
          0.31511958986529875,
          0.35147680239095525,
          0.7367515470866665,
          0.4292992510048853,
          0.22598437575116645,
          0.4681006718073969,
          0.381892450973925,
          0.34171903816287,
          0.6245033455084582,
          0.68887682305748,
          0.07792593619183094,
          0.48334845931862835,
          0.5681426633727811,
          0.23018969292642522
         ],
         "yaxis": "y"
        },
        {
         "marker": {
          "color": "rgb(82, 106, 131)"
         },
         "name": "Bookmaker Home Win",
         "type": "bar",
         "x": [
          "Bournemouth-Chelsea",
          "Manchester City-Leeds",
          "Tottenham-Crystal Palace",
          "Wolverhampton Wanderers-Aston Villa",
          "Liverpool-Brentford",
          "Newcastle United-Arsenal",
          "West Ham-Manchester United",
          "Fulham-Leicester",
          "Brighton-Everton",
          "Nottingham Forest-Southampton",
          "Leeds-Newcastle United",
          "Crystal Palace-Bournemouth",
          "Aston Villa-Tottenham",
          "Southampton-Fulham",
          "Chelsea-Nottingham Forest",
          "Manchester United-Wolverhampton Wanderers",
          "Everton-Manchester City",
          "Brentford-West Ham",
          "Arsenal-Brighton",
          "Leicester-Liverpool"
         ],
         "xaxis": "x",
         "y": [
          0.29411764705882354,
          0.8474576271186441,
          0.5617977528089888,
          0.3389830508474576,
          0.6896551724137931,
          0.4132231404958678,
          0.29411764705882354,
          0.37735849056603776,
          0.7246376811594204,
          0.46511627906976744,
          0.2061855670103093,
          0.5263157894736842,
          0.4587155963302752,
          0.3968253968253968,
          0.6896551724137931,
          0.6944444444444444,
          0.1,
          0.46511627906976744,
          0.5319148936170213,
          0.2061855670103093
         ],
         "yaxis": "y"
        },
        {
         "marker": {
          "color": "rgb(141,211,199)"
         },
         "name": "Predicted Draw",
         "type": "bar",
         "x": [
          "Bournemouth-Chelsea",
          "Manchester City-Leeds",
          "Tottenham-Crystal Palace",
          "Wolverhampton Wanderers-Aston Villa",
          "Liverpool-Brentford",
          "Newcastle United-Arsenal",
          "West Ham-Manchester United",
          "Fulham-Leicester",
          "Brighton-Everton",
          "Nottingham Forest-Southampton",
          "Leeds-Newcastle United",
          "Crystal Palace-Bournemouth",
          "Aston Villa-Tottenham",
          "Southampton-Fulham",
          "Chelsea-Nottingham Forest",
          "Manchester United-Wolverhampton Wanderers",
          "Everton-Manchester City",
          "Brentford-West Ham",
          "Arsenal-Brighton",
          "Leicester-Liverpool"
         ],
         "xaxis": "x",
         "y": [
          0.24590428015345858,
          0.10988634912445262,
          0.22211431078825616,
          0.2638180865183519,
          0.1892075632948155,
          0.22988855151269305,
          0.24975835193939117,
          0.27022655369519827,
          0.1700573477777673,
          0.25775252483846295,
          0.23911765496899012,
          0.24922169655460105,
          0.25581326724528874,
          0.27118229548243467,
          0.22209323018501612,
          0.18328144949236366,
          0.16579212230078583,
          0.25150337968235986,
          0.20036251968054172,
          0.23786802894456635
         ],
         "yaxis": "y"
        },
        {
         "marker": {
          "color": "rgb(82, 106, 131)"
         },
         "name": "Bookmaker Draw",
         "type": "bar",
         "x": [
          "Bournemouth-Chelsea",
          "Manchester City-Leeds",
          "Tottenham-Crystal Palace",
          "Wolverhampton Wanderers-Aston Villa",
          "Liverpool-Brentford",
          "Newcastle United-Arsenal",
          "West Ham-Manchester United",
          "Fulham-Leicester",
          "Brighton-Everton",
          "Nottingham Forest-Southampton",
          "Leeds-Newcastle United",
          "Crystal Palace-Bournemouth",
          "Aston Villa-Tottenham",
          "Southampton-Fulham",
          "Chelsea-Nottingham Forest",
          "Manchester United-Wolverhampton Wanderers",
          "Everton-Manchester City",
          "Brentford-West Ham",
          "Arsenal-Brighton",
          "Leicester-Liverpool"
         ],
         "xaxis": "x",
         "y": [
          0.29411764705882354,
          0.13157894736842105,
          0.2597402597402597,
          0.30303030303030304,
          0.2040816326530612,
          0.273972602739726,
          0.273972602739726,
          0.2857142857142857,
          0.2040816326530612,
          0.2898550724637681,
          0.23809523809523808,
          0.27027027027027023,
          0.2857142857142857,
          0.29850746268656714,
          0.21978021978021978,
          0.20833333333333334,
          0.1923076923076923,
          0.2898550724637681,
          0.27027027027027023,
          0.23529411764705882
         ],
         "yaxis": "y"
        },
        {
         "marker": {
          "color": "rgb(141,211,199)"
         },
         "name": "Predicted Away Win",
         "type": "bar",
         "x": [
          "Bournemouth-Chelsea",
          "Manchester City-Leeds",
          "Tottenham-Crystal Palace",
          "Wolverhampton Wanderers-Aston Villa",
          "Liverpool-Brentford",
          "Newcastle United-Arsenal",
          "West Ham-Manchester United",
          "Fulham-Leicester",
          "Brighton-Everton",
          "Nottingham Forest-Southampton",
          "Leeds-Newcastle United",
          "Crystal Palace-Bournemouth",
          "Aston Villa-Tottenham",
          "Southampton-Fulham",
          "Chelsea-Nottingham Forest",
          "Manchester United-Wolverhampton Wanderers",
          "Everton-Manchester City",
          "Brentford-West Ham",
          "Arsenal-Brighton",
          "Leicester-Liverpool"
         ],
         "xaxis": "x",
         "y": [
          0.40264754184064255,
          0.04353743751461921,
          0.17245141680660184,
          0.39869081938466167,
          0.15346526362466179,
          0.3913080799184634,
          0.43512195752222144,
          0.37829662456625085,
          0.09318645090146199,
          0.31294816710945034,
          0.5348976931859782,
          0.28267750788398877,
          0.3622942289154627,
          0.38709864763425716,
          0.15340286843451045,
          0.1278374806119973,
          0.7562778881064878,
          0.2651480471162593,
          0.23149049622164294,
          0.5319419776159768
         ],
         "yaxis": "y"
        },
        {
         "marker": {
          "color": "rgb(82, 106, 131)"
         },
         "name": "Bookmaker Away Win",
         "type": "bar",
         "x": [
          "Bournemouth-Chelsea",
          "Manchester City-Leeds",
          "Tottenham-Crystal Palace",
          "Wolverhampton Wanderers-Aston Villa",
          "Liverpool-Brentford",
          "Newcastle United-Arsenal",
          "West Ham-Manchester United",
          "Fulham-Leicester",
          "Brighton-Everton",
          "Nottingham Forest-Southampton",
          "Leeds-Newcastle United",
          "Crystal Palace-Bournemouth",
          "Aston Villa-Tottenham",
          "Southampton-Fulham",
          "Chelsea-Nottingham Forest",
          "Manchester United-Wolverhampton Wanderers",
          "Everton-Manchester City",
          "Brentford-West Ham",
          "Arsenal-Brighton",
          "Leicester-Liverpool"
         ],
         "xaxis": "x",
         "y": [
          0.46511627906976744,
          0.07142857142857142,
          0.2298850574712644,
          0.4081632653061224,
          0.15625,
          0.36363636363636365,
          0.48309178743961356,
          0.3846153846153846,
          0.125,
          0.29411764705882354,
          0.6060606060606061,
          0.2531645569620253,
          0.3076923076923077,
          0.3546099290780142,
          0.14492753623188406,
          0.14705882352941177,
          0.7575757575757576,
          0.29411764705882354,
          0.2469135802469136,
          0.6060606060606061
         ],
         "yaxis": "y"
        },
        {
         "marker": {
          "color": "rgb(141,211,199)"
         },
         "name": "Predicted Over",
         "type": "bar",
         "x": [
          "Bournemouth-Chelsea",
          "Manchester City-Leeds",
          "Tottenham-Crystal Palace",
          "Wolverhampton Wanderers-Aston Villa",
          "Liverpool-Brentford",
          "Newcastle United-Arsenal",
          "West Ham-Manchester United",
          "Fulham-Leicester",
          "Brighton-Everton",
          "Nottingham Forest-Southampton",
          "Leeds-Newcastle United",
          "Crystal Palace-Bournemouth",
          "Aston Villa-Tottenham",
          "Southampton-Fulham",
          "Chelsea-Nottingham Forest",
          "Manchester United-Wolverhampton Wanderers",
          "Everton-Manchester City",
          "Brentford-West Ham",
          "Arsenal-Brighton",
          "Leicester-Liverpool"
         ],
         "xaxis": "x2",
         "y": [
          0.560689304835185,
          0.6418064144410989,
          0.5154551947876245,
          0.4791321663671214,
          0.6274534699938712,
          0.6422872178138138,
          0.5330022214888602,
          0.4549311751351427,
          0.5589932889689972,
          0.4976853248277513,
          0.515358839138967,
          0.5192824543916895,
          0.5166090671681246,
          0.450112333604873,
          0.4838566103993116,
          0.596084685239662,
          0.5275321759793267,
          0.4982956871229821,
          0.7019529962466575,
          0.5249786236570899
         ],
         "yaxis": "y2"
        },
        {
         "marker": {
          "color": "rgb(82, 106, 131)"
         },
         "name": "Bookmaker Over",
         "type": "bar",
         "x": [
          "Bournemouth-Chelsea",
          "Manchester City-Leeds",
          "Tottenham-Crystal Palace",
          "Wolverhampton Wanderers-Aston Villa",
          "Liverpool-Brentford",
          "Newcastle United-Arsenal",
          "West Ham-Manchester United",
          "Fulham-Leicester",
          "Brighton-Everton",
          "Nottingham Forest-Southampton",
          "Leeds-Newcastle United",
          "Crystal Palace-Bournemouth",
          "Aston Villa-Tottenham",
          "Southampton-Fulham",
          "Chelsea-Nottingham Forest",
          "Manchester United-Wolverhampton Wanderers",
          "Everton-Manchester City",
          "Brentford-West Ham",
          "Arsenal-Brighton",
          "Leicester-Liverpool"
         ],
         "xaxis": "x2",
         "y": [
          0.5181347150259068,
          0.7518796992481203,
          0.5555555555555556,
          0.4587155963302752,
          0.6666666666666666,
          0.6172839506172839,
          0.5813953488372093,
          0.5714285714285714,
          0.625,
          0.5,
          0.6060606060606061,
          0.5263157894736842,
          0.5813953488372093,
          0.5050505050505051,
          0.5405405405405405,
          0.6060606060606061,
          0.6060606060606061,
          0.5235602094240838,
          0.6172839506172839,
          0.6666666666666666
         ],
         "yaxis": "y2"
        },
        {
         "marker": {
          "color": "rgb(141,211,199)"
         },
         "name": "Predicted Under",
         "type": "bar",
         "x": [
          "Bournemouth-Chelsea",
          "Manchester City-Leeds",
          "Tottenham-Crystal Palace",
          "Wolverhampton Wanderers-Aston Villa",
          "Liverpool-Brentford",
          "Newcastle United-Arsenal",
          "West Ham-Manchester United",
          "Fulham-Leicester",
          "Brighton-Everton",
          "Nottingham Forest-Southampton",
          "Leeds-Newcastle United",
          "Crystal Palace-Bournemouth",
          "Aston Villa-Tottenham",
          "Southampton-Fulham",
          "Chelsea-Nottingham Forest",
          "Manchester United-Wolverhampton Wanderers",
          "Everton-Manchester City",
          "Brentford-West Ham",
          "Arsenal-Brighton",
          "Leicester-Liverpool"
         ],
         "xaxis": "x2",
         "y": [
          0.439310695164815,
          0.3581935855589011,
          0.48454480521237553,
          0.5208678336328786,
          0.3725465300061288,
          0.3577127821861862,
          0.46699777851113977,
          0.5450688248648573,
          0.44100671103100275,
          0.5023146751722487,
          0.484641160861033,
          0.4807175456083105,
          0.4833909328318754,
          0.549887666395127,
          0.5161433896006884,
          0.4039153147603381,
          0.47246782402067333,
          0.5017043128770179,
          0.2980470037533425,
          0.47502137634291003
         ],
         "yaxis": "y2"
        },
        {
         "marker": {
          "color": "rgb(82, 106, 131)"
         },
         "name": "Bookmaker Under",
         "type": "bar",
         "x": [
          "Bournemouth-Chelsea",
          "Manchester City-Leeds",
          "Tottenham-Crystal Palace",
          "Wolverhampton Wanderers-Aston Villa",
          "Liverpool-Brentford",
          "Newcastle United-Arsenal",
          "West Ham-Manchester United",
          "Fulham-Leicester",
          "Brighton-Everton",
          "Nottingham Forest-Southampton",
          "Leeds-Newcastle United",
          "Crystal Palace-Bournemouth",
          "Aston Villa-Tottenham",
          "Southampton-Fulham",
          "Chelsea-Nottingham Forest",
          "Manchester United-Wolverhampton Wanderers",
          "Everton-Manchester City",
          "Brentford-West Ham",
          "Arsenal-Brighton",
          "Leicester-Liverpool"
         ],
         "xaxis": "x2",
         "y": [
          0.53475935828877,
          0.29850746268656714,
          0.49504950495049505,
          0.5882352941176471,
          0.38167938931297707,
          0.4347826086956522,
          0.4716981132075471,
          0.48309178743961356,
          0.425531914893617,
          0.5494505494505494,
          0.4444444444444444,
          0.5235602094240838,
          0.4716981132075471,
          0.5405405405405405,
          0.5050505050505051,
          0.44052863436123346,
          0.4444444444444444,
          0.5263157894736842,
          0.4310344827586207,
          0.38167938931297707
         ],
         "yaxis": "y2"
        }
       ],
       "layout": {
        "height": 1000,
        "template": {
         "data": {
          "bar": [
           {
            "error_x": {
             "color": "#2a3f5f"
            },
            "error_y": {
             "color": "#2a3f5f"
            },
            "marker": {
             "line": {
              "color": "#E5ECF6",
              "width": 0.5
             },
             "pattern": {
              "fillmode": "overlay",
              "size": 10,
              "solidity": 0.2
             }
            },
            "type": "bar"
           }
          ],
          "barpolar": [
           {
            "marker": {
             "line": {
              "color": "#E5ECF6",
              "width": 0.5
             },
             "pattern": {
              "fillmode": "overlay",
              "size": 10,
              "solidity": 0.2
             }
            },
            "type": "barpolar"
           }
          ],
          "carpet": [
           {
            "aaxis": {
             "endlinecolor": "#2a3f5f",
             "gridcolor": "white",
             "linecolor": "white",
             "minorgridcolor": "white",
             "startlinecolor": "#2a3f5f"
            },
            "baxis": {
             "endlinecolor": "#2a3f5f",
             "gridcolor": "white",
             "linecolor": "white",
             "minorgridcolor": "white",
             "startlinecolor": "#2a3f5f"
            },
            "type": "carpet"
           }
          ],
          "choropleth": [
           {
            "colorbar": {
             "outlinewidth": 0,
             "ticks": ""
            },
            "type": "choropleth"
           }
          ],
          "contour": [
           {
            "colorbar": {
             "outlinewidth": 0,
             "ticks": ""
            },
            "colorscale": [
             [
              0,
              "#0d0887"
             ],
             [
              0.1111111111111111,
              "#46039f"
             ],
             [
              0.2222222222222222,
              "#7201a8"
             ],
             [
              0.3333333333333333,
              "#9c179e"
             ],
             [
              0.4444444444444444,
              "#bd3786"
             ],
             [
              0.5555555555555556,
              "#d8576b"
             ],
             [
              0.6666666666666666,
              "#ed7953"
             ],
             [
              0.7777777777777778,
              "#fb9f3a"
             ],
             [
              0.8888888888888888,
              "#fdca26"
             ],
             [
              1,
              "#f0f921"
             ]
            ],
            "type": "contour"
           }
          ],
          "contourcarpet": [
           {
            "colorbar": {
             "outlinewidth": 0,
             "ticks": ""
            },
            "type": "contourcarpet"
           }
          ],
          "heatmap": [
           {
            "colorbar": {
             "outlinewidth": 0,
             "ticks": ""
            },
            "colorscale": [
             [
              0,
              "#0d0887"
             ],
             [
              0.1111111111111111,
              "#46039f"
             ],
             [
              0.2222222222222222,
              "#7201a8"
             ],
             [
              0.3333333333333333,
              "#9c179e"
             ],
             [
              0.4444444444444444,
              "#bd3786"
             ],
             [
              0.5555555555555556,
              "#d8576b"
             ],
             [
              0.6666666666666666,
              "#ed7953"
             ],
             [
              0.7777777777777778,
              "#fb9f3a"
             ],
             [
              0.8888888888888888,
              "#fdca26"
             ],
             [
              1,
              "#f0f921"
             ]
            ],
            "type": "heatmap"
           }
          ],
          "heatmapgl": [
           {
            "colorbar": {
             "outlinewidth": 0,
             "ticks": ""
            },
            "colorscale": [
             [
              0,
              "#0d0887"
             ],
             [
              0.1111111111111111,
              "#46039f"
             ],
             [
              0.2222222222222222,
              "#7201a8"
             ],
             [
              0.3333333333333333,
              "#9c179e"
             ],
             [
              0.4444444444444444,
              "#bd3786"
             ],
             [
              0.5555555555555556,
              "#d8576b"
             ],
             [
              0.6666666666666666,
              "#ed7953"
             ],
             [
              0.7777777777777778,
              "#fb9f3a"
             ],
             [
              0.8888888888888888,
              "#fdca26"
             ],
             [
              1,
              "#f0f921"
             ]
            ],
            "type": "heatmapgl"
           }
          ],
          "histogram": [
           {
            "marker": {
             "pattern": {
              "fillmode": "overlay",
              "size": 10,
              "solidity": 0.2
             }
            },
            "type": "histogram"
           }
          ],
          "histogram2d": [
           {
            "colorbar": {
             "outlinewidth": 0,
             "ticks": ""
            },
            "colorscale": [
             [
              0,
              "#0d0887"
             ],
             [
              0.1111111111111111,
              "#46039f"
             ],
             [
              0.2222222222222222,
              "#7201a8"
             ],
             [
              0.3333333333333333,
              "#9c179e"
             ],
             [
              0.4444444444444444,
              "#bd3786"
             ],
             [
              0.5555555555555556,
              "#d8576b"
             ],
             [
              0.6666666666666666,
              "#ed7953"
             ],
             [
              0.7777777777777778,
              "#fb9f3a"
             ],
             [
              0.8888888888888888,
              "#fdca26"
             ],
             [
              1,
              "#f0f921"
             ]
            ],
            "type": "histogram2d"
           }
          ],
          "histogram2dcontour": [
           {
            "colorbar": {
             "outlinewidth": 0,
             "ticks": ""
            },
            "colorscale": [
             [
              0,
              "#0d0887"
             ],
             [
              0.1111111111111111,
              "#46039f"
             ],
             [
              0.2222222222222222,
              "#7201a8"
             ],
             [
              0.3333333333333333,
              "#9c179e"
             ],
             [
              0.4444444444444444,
              "#bd3786"
             ],
             [
              0.5555555555555556,
              "#d8576b"
             ],
             [
              0.6666666666666666,
              "#ed7953"
             ],
             [
              0.7777777777777778,
              "#fb9f3a"
             ],
             [
              0.8888888888888888,
              "#fdca26"
             ],
             [
              1,
              "#f0f921"
             ]
            ],
            "type": "histogram2dcontour"
           }
          ],
          "mesh3d": [
           {
            "colorbar": {
             "outlinewidth": 0,
             "ticks": ""
            },
            "type": "mesh3d"
           }
          ],
          "parcoords": [
           {
            "line": {
             "colorbar": {
              "outlinewidth": 0,
              "ticks": ""
             }
            },
            "type": "parcoords"
           }
          ],
          "pie": [
           {
            "automargin": true,
            "type": "pie"
           }
          ],
          "scatter": [
           {
            "fillpattern": {
             "fillmode": "overlay",
             "size": 10,
             "solidity": 0.2
            },
            "type": "scatter"
           }
          ],
          "scatter3d": [
           {
            "line": {
             "colorbar": {
              "outlinewidth": 0,
              "ticks": ""
             }
            },
            "marker": {
             "colorbar": {
              "outlinewidth": 0,
              "ticks": ""
             }
            },
            "type": "scatter3d"
           }
          ],
          "scattercarpet": [
           {
            "marker": {
             "colorbar": {
              "outlinewidth": 0,
              "ticks": ""
             }
            },
            "type": "scattercarpet"
           }
          ],
          "scattergeo": [
           {
            "marker": {
             "colorbar": {
              "outlinewidth": 0,
              "ticks": ""
             }
            },
            "type": "scattergeo"
           }
          ],
          "scattergl": [
           {
            "marker": {
             "colorbar": {
              "outlinewidth": 0,
              "ticks": ""
             }
            },
            "type": "scattergl"
           }
          ],
          "scattermapbox": [
           {
            "marker": {
             "colorbar": {
              "outlinewidth": 0,
              "ticks": ""
             }
            },
            "type": "scattermapbox"
           }
          ],
          "scatterpolar": [
           {
            "marker": {
             "colorbar": {
              "outlinewidth": 0,
              "ticks": ""
             }
            },
            "type": "scatterpolar"
           }
          ],
          "scatterpolargl": [
           {
            "marker": {
             "colorbar": {
              "outlinewidth": 0,
              "ticks": ""
             }
            },
            "type": "scatterpolargl"
           }
          ],
          "scatterternary": [
           {
            "marker": {
             "colorbar": {
              "outlinewidth": 0,
              "ticks": ""
             }
            },
            "type": "scatterternary"
           }
          ],
          "surface": [
           {
            "colorbar": {
             "outlinewidth": 0,
             "ticks": ""
            },
            "colorscale": [
             [
              0,
              "#0d0887"
             ],
             [
              0.1111111111111111,
              "#46039f"
             ],
             [
              0.2222222222222222,
              "#7201a8"
             ],
             [
              0.3333333333333333,
              "#9c179e"
             ],
             [
              0.4444444444444444,
              "#bd3786"
             ],
             [
              0.5555555555555556,
              "#d8576b"
             ],
             [
              0.6666666666666666,
              "#ed7953"
             ],
             [
              0.7777777777777778,
              "#fb9f3a"
             ],
             [
              0.8888888888888888,
              "#fdca26"
             ],
             [
              1,
              "#f0f921"
             ]
            ],
            "type": "surface"
           }
          ],
          "table": [
           {
            "cells": {
             "fill": {
              "color": "#EBF0F8"
             },
             "line": {
              "color": "white"
             }
            },
            "header": {
             "fill": {
              "color": "#C8D4E3"
             },
             "line": {
              "color": "white"
             }
            },
            "type": "table"
           }
          ]
         },
         "layout": {
          "annotationdefaults": {
           "arrowcolor": "#2a3f5f",
           "arrowhead": 0,
           "arrowwidth": 1
          },
          "autotypenumbers": "strict",
          "coloraxis": {
           "colorbar": {
            "outlinewidth": 0,
            "ticks": ""
           }
          },
          "colorscale": {
           "diverging": [
            [
             0,
             "#8e0152"
            ],
            [
             0.1,
             "#c51b7d"
            ],
            [
             0.2,
             "#de77ae"
            ],
            [
             0.3,
             "#f1b6da"
            ],
            [
             0.4,
             "#fde0ef"
            ],
            [
             0.5,
             "#f7f7f7"
            ],
            [
             0.6,
             "#e6f5d0"
            ],
            [
             0.7,
             "#b8e186"
            ],
            [
             0.8,
             "#7fbc41"
            ],
            [
             0.9,
             "#4d9221"
            ],
            [
             1,
             "#276419"
            ]
           ],
           "sequential": [
            [
             0,
             "#0d0887"
            ],
            [
             0.1111111111111111,
             "#46039f"
            ],
            [
             0.2222222222222222,
             "#7201a8"
            ],
            [
             0.3333333333333333,
             "#9c179e"
            ],
            [
             0.4444444444444444,
             "#bd3786"
            ],
            [
             0.5555555555555556,
             "#d8576b"
            ],
            [
             0.6666666666666666,
             "#ed7953"
            ],
            [
             0.7777777777777778,
             "#fb9f3a"
            ],
            [
             0.8888888888888888,
             "#fdca26"
            ],
            [
             1,
             "#f0f921"
            ]
           ],
           "sequentialminus": [
            [
             0,
             "#0d0887"
            ],
            [
             0.1111111111111111,
             "#46039f"
            ],
            [
             0.2222222222222222,
             "#7201a8"
            ],
            [
             0.3333333333333333,
             "#9c179e"
            ],
            [
             0.4444444444444444,
             "#bd3786"
            ],
            [
             0.5555555555555556,
             "#d8576b"
            ],
            [
             0.6666666666666666,
             "#ed7953"
            ],
            [
             0.7777777777777778,
             "#fb9f3a"
            ],
            [
             0.8888888888888888,
             "#fdca26"
            ],
            [
             1,
             "#f0f921"
            ]
           ]
          },
          "colorway": [
           "#636efa",
           "#EF553B",
           "#00cc96",
           "#ab63fa",
           "#FFA15A",
           "#19d3f3",
           "#FF6692",
           "#B6E880",
           "#FF97FF",
           "#FECB52"
          ],
          "font": {
           "color": "#2a3f5f"
          },
          "geo": {
           "bgcolor": "white",
           "lakecolor": "white",
           "landcolor": "#E5ECF6",
           "showlakes": true,
           "showland": true,
           "subunitcolor": "white"
          },
          "hoverlabel": {
           "align": "left"
          },
          "hovermode": "closest",
          "mapbox": {
           "style": "light"
          },
          "paper_bgcolor": "white",
          "plot_bgcolor": "#E5ECF6",
          "polar": {
           "angularaxis": {
            "gridcolor": "white",
            "linecolor": "white",
            "ticks": ""
           },
           "bgcolor": "#E5ECF6",
           "radialaxis": {
            "gridcolor": "white",
            "linecolor": "white",
            "ticks": ""
           }
          },
          "scene": {
           "xaxis": {
            "backgroundcolor": "#E5ECF6",
            "gridcolor": "white",
            "gridwidth": 2,
            "linecolor": "white",
            "showbackground": true,
            "ticks": "",
            "zerolinecolor": "white"
           },
           "yaxis": {
            "backgroundcolor": "#E5ECF6",
            "gridcolor": "white",
            "gridwidth": 2,
            "linecolor": "white",
            "showbackground": true,
            "ticks": "",
            "zerolinecolor": "white"
           },
           "zaxis": {
            "backgroundcolor": "#E5ECF6",
            "gridcolor": "white",
            "gridwidth": 2,
            "linecolor": "white",
            "showbackground": true,
            "ticks": "",
            "zerolinecolor": "white"
           }
          },
          "shapedefaults": {
           "line": {
            "color": "#2a3f5f"
           }
          },
          "ternary": {
           "aaxis": {
            "gridcolor": "white",
            "linecolor": "white",
            "ticks": ""
           },
           "baxis": {
            "gridcolor": "white",
            "linecolor": "white",
            "ticks": ""
           },
           "bgcolor": "#E5ECF6",
           "caxis": {
            "gridcolor": "white",
            "linecolor": "white",
            "ticks": ""
           }
          },
          "title": {
           "x": 0.05
          },
          "xaxis": {
           "automargin": true,
           "gridcolor": "white",
           "linecolor": "white",
           "ticks": "",
           "title": {
            "standoff": 15
           },
           "zerolinecolor": "white",
           "zerolinewidth": 2
          },
          "yaxis": {
           "automargin": true,
           "gridcolor": "white",
           "linecolor": "white",
           "ticks": "",
           "title": {
            "standoff": 15
           },
           "zerolinecolor": "white",
           "zerolinewidth": 2
          }
         }
        },
        "width": 1500,
        "xaxis": {
         "anchor": "y",
         "domain": [
          0,
          1
         ]
        },
        "xaxis2": {
         "anchor": "y2",
         "domain": [
          0,
          1
         ]
        },
        "yaxis": {
         "anchor": "x",
         "domain": [
          0.575,
          1
         ]
        },
        "yaxis2": {
         "anchor": "x2",
         "domain": [
          0,
          0.425
         ]
        }
       }
      }
     },
     "metadata": {},
     "output_type": "display_data"
    }
   ],
   "source": [
    "fig = make_subplots(rows=2, cols=1)\n",
    "fig.update_layout(width=1500, height=1000)\n",
    "fig.add_trace(\n",
    "    go.Bar(name='Predicted Home Win',\n",
    "           x=Final_Odds[Final_Odds['Type']=='Predicted']['Match'],\n",
    "           y=Final_Odds[Final_Odds['Type']=='Predicted']['P(Hwin)'],\n",
    "           marker_color='rgb(141,211,199)'),\n",
    "    row=1, col=1)\n",
    "\n",
    "fig.add_trace(\n",
    "    go.Bar(name='Bookmaker Home Win',\n",
    "           x=Final_Odds[Final_Odds['Type']=='Bookmaker']['Match'],\n",
    "           y=Final_Odds[Final_Odds['Type']=='Bookmaker']['P(Hwin)'],\n",
    "           marker_color='rgb(82, 106, 131)'),\n",
    "    row=1, col=1)\n",
    "\n",
    "fig.add_trace(\n",
    "    go.Bar(name='Predicted Draw',\n",
    "           x=Final_Odds[Final_Odds['Type']=='Predicted']['Match'],\n",
    "           y=Final_Odds[Final_Odds['Type']=='Predicted']['P(Draw)'],\n",
    "           marker_color='rgb(141,211,199)'),\n",
    "    row=1, col=1)\n",
    "\n",
    "fig.add_trace(\n",
    "    go.Bar(name='Bookmaker Draw',\n",
    "           x=Final_Odds[Final_Odds['Type']=='Bookmaker']['Match'],\n",
    "           y=Final_Odds[Final_Odds['Type']=='Bookmaker']['P(Draw)'],\n",
    "           marker_color='rgb(82, 106, 131)'),\n",
    "    row=1, col=1)\n",
    "\n",
    "fig.add_trace(\n",
    "    go.Bar(name='Predicted Away Win',\n",
    "           x=Final_Odds[Final_Odds['Type']=='Predicted']['Match'],\n",
    "           y=Final_Odds[Final_Odds['Type']=='Predicted']['P(Awin)'],\n",
    "           marker_color='rgb(141,211,199)'),\n",
    "    row=1, col=1)\n",
    "\n",
    "fig.add_trace(\n",
    "    go.Bar(name='Bookmaker Away Win',\n",
    "           x=Final_Odds[Final_Odds['Type']=='Bookmaker']['Match'],\n",
    "           y=Final_Odds[Final_Odds['Type']=='Bookmaker']['P(Awin)'],\n",
    "           marker_color='rgb(82, 106, 131)'),\n",
    "    row=1, col=1)\n",
    "\n",
    "\n",
    "fig.add_trace(\n",
    "    go.Bar(name='Predicted Over',\n",
    "           x=Final_Odds[Final_Odds['Type']=='Predicted']['Match'],\n",
    "           y=Final_Odds[Final_Odds['Type']=='Predicted']['P(Over)'],\n",
    "           marker_color='rgb(141,211,199)'),\n",
    "    row=2, col=1)\n",
    "\n",
    "fig.add_trace(\n",
    "    go.Bar(name='Bookmaker Over',\n",
    "           x=Final_Odds[Final_Odds['Type']=='Bookmaker']['Match'],\n",
    "           y=Final_Odds[Final_Odds['Type']=='Bookmaker']['P(Over)'],\n",
    "           marker_color='rgb(82, 106, 131)'),\n",
    "    row=2, col=1)\n",
    "\n",
    "fig.add_trace(\n",
    "    go.Bar(name='Predicted Under',\n",
    "           x=Final_Odds[Final_Odds['Type']=='Predicted']['Match'],\n",
    "           y=Final_Odds[Final_Odds['Type']=='Predicted']['P(Under)'],\n",
    "           marker_color='rgb(141,211,199)'),\n",
    "    row=2, col=1)\n",
    "\n",
    "fig.add_trace(\n",
    "    go.Bar(name='Bookmaker Under',\n",
    "           x=Final_Odds[Final_Odds['Type']=='Bookmaker']['Match'],\n",
    "           y=Final_Odds[Final_Odds['Type']=='Bookmaker']['P(Under)'],\n",
    "           marker_color='rgb(82, 106, 131)'),\n",
    "    row=2, col=1)\n",
    "\n",
    "\n",
    "fig.show()\n"
   ]
  },
  {
   "cell_type": "code",
   "execution_count": null,
   "metadata": {},
   "outputs": [
    {
     "data": {
      "application/vnd.plotly.v1+json": {
       "config": {
        "plotlyServerURL": "https://plot.ly"
       },
       "data": [
        {
         "fill": "toself",
         "hovertemplate": "%{theta}<br>Prob: %{r:.2f}<br>Bookmaker Odds",
         "marker": {
          "color": "rgb(82, 106, 131)"
         },
         "name": "Bookmaker Odds",
         "r": [
          0.29411764705882354,
          0.29411764705882354,
          0.46511627906976744,
          0.5181347150259068,
          0.53475935828877
         ],
         "subplot": "polar",
         "theta": [
          "Home",
          "Draw",
          "Away",
          "Over",
          "Under"
         ],
         "type": "scatterpolar",
         "visible": true
        },
        {
         "fill": "toself",
         "hovertemplate": "%{theta}<br>Prob: %{r:.2f}<br>Predicted Odds",
         "marker": {
          "color": "rgb(141,211,199)"
         },
         "name": "Predicted Odds",
         "r": [
          0.3514480638987532,
          0.24590428015345858,
          0.40264754184064255,
          0.560689304835185,
          0.439310695164815
         ],
         "subplot": "polar",
         "theta": [
          "Home",
          "Draw",
          "Away",
          "Over",
          "Under"
         ],
         "type": "scatterpolar",
         "visible": true
        },
        {
         "hovertemplate": "Score %{x}<br>Prob: %{y:.3f}",
         "marker": {
          "color": [
           0.11446526136307196,
           0.08711122100012936,
           0.08136412461867125,
           0.0805164199843778,
           0.07520441057126796,
           0.06192034296464494,
           0.06127521635713609,
           0.05345675151333221,
           0.052899804133826736,
           0.04419602788228689,
           0.03775756248315749,
           0.031415392560530754,
           0.031088086466026312,
           0.028734546453039727,
           0.0248069606214148,
           0.016817198101571035,
           0.014578521591627395,
           0.013279591215178375,
           0.011953990108256065,
           0.011829445625530302,
           0.010106135183385687,
           0.008724776566028675,
           0.005547328513037911,
           0.00512736507672658,
           0.001951033121439104
          ],
          "colorscale": [
           [
            0,
            "rgb(210, 251, 212)"
           ],
           [
            0.16666666666666666,
            "rgb(165, 219, 194)"
           ],
           [
            0.3333333333333333,
            "rgb(123, 188, 176)"
           ],
           [
            0.5,
            "rgb(85, 156, 158)"
           ],
           [
            0.6666666666666666,
            "rgb(58, 124, 137)"
           ],
           [
            0.8333333333333334,
            "rgb(35, 93, 114)"
           ],
           [
            1,
            "rgb(18, 63, 90)"
           ]
          ]
         },
         "name": "Propable Scoreline",
         "type": "bar",
         "visible": true,
         "x": [
          "1 - 1",
          "1 - 2",
          "0 - 1",
          "2 - 1",
          "1 - 0",
          "0 - 2",
          "2 - 2",
          "0 - 0",
          "2 - 0",
          "1 - 3",
          "3 - 1",
          "0 - 3",
          "2 - 3",
          "3 - 2",
          "3 - 0",
          "Other",
          "Other",
          "Other",
          "Other",
          "Other",
          "Other",
          "Other",
          "Other",
          "Other",
          "Other"
         ],
         "xaxis": "x",
         "y": [
          0.11446526136307196,
          0.08711122100012936,
          0.08136412461867125,
          0.0805164199843778,
          0.07520441057126796,
          0.06192034296464494,
          0.06127521635713609,
          0.05345675151333221,
          0.052899804133826736,
          0.04419602788228689,
          0.03775756248315749,
          0.031415392560530754,
          0.031088086466026312,
          0.028734546453039727,
          0.0248069606214148,
          0.016817198101571035,
          0.014578521591627395,
          0.013279591215178375,
          0.011953990108256065,
          0.011829445625530302,
          0.010106135183385687,
          0.008724776566028675,
          0.005547328513037911,
          0.00512736507672658,
          0.001951033121439104
         ],
         "yaxis": "y"
        },
        {
         "fill": "toself",
         "hovertemplate": "%{theta}<br>Prob: %{r:.2f}<br>Bookmaker Odds",
         "marker": {
          "color": "rgb(82, 106, 131)"
         },
         "name": "Bookmaker Odds",
         "r": [
          0.8474576271186441,
          0.13157894736842105,
          0.07142857142857142,
          0.7518796992481203,
          0.29850746268656714
         ],
         "subplot": "polar",
         "theta": [
          "Home",
          "Draw",
          "Away",
          "Over",
          "Under"
         ],
         "type": "scatterpolar",
         "visible": false
        },
        {
         "fill": "toself",
         "hovertemplate": "%{theta}<br>Prob: %{r:.2f}<br>Predicted Odds",
         "marker": {
          "color": "rgb(141,211,199)"
         },
         "name": "Predicted Odds",
         "r": [
          0.8465385897400888,
          0.10988634912445262,
          0.04353743751461921,
          0.6418064144410989,
          0.3581935855589011
         ],
         "subplot": "polar",
         "theta": [
          "Home",
          "Draw",
          "Away",
          "Over",
          "Under"
         ],
         "type": "scatterpolar",
         "visible": false
        },
        {
         "hovertemplate": "Score %{x}<br>Prob: %{y:.3f}",
         "marker": {
          "color": [
           0.14388809533507893,
           0.13438525162425033,
           0.102708611889673,
           0.09413250525724862,
           0.07255935421389924,
           0.06776729548765355,
           0.05179351727163925,
           0.04746879007673737,
           0.036657163790157175,
           0.018485338385589776,
           0.018294980803233142,
           0.017086720016537264,
           0.013059121246079837,
           0.011968692563697848,
           0.0046608588867629586,
           0.003075241653005724,
           0.0028721425659444257,
           0.00219513505040134,
           0.0020118426086240503,
           0.0007834535352353213,
           0.00038769285929136205,
           0.0003620883459987888,
           0.000276738637234893,
           0.00025363112931931886,
           0.00009876925961263383
          ],
          "colorscale": [
           [
            0,
            "rgb(210, 251, 212)"
           ],
           [
            0.16666666666666666,
            "rgb(165, 219, 194)"
           ],
           [
            0.3333333333333333,
            "rgb(123, 188, 176)"
           ],
           [
            0.5,
            "rgb(85, 156, 158)"
           ],
           [
            0.6666666666666666,
            "rgb(58, 124, 137)"
           ],
           [
            0.8333333333333334,
            "rgb(35, 93, 114)"
           ],
           [
            1,
            "rgb(18, 63, 90)"
           ]
          ]
         },
         "name": "Propable Scoreline",
         "type": "bar",
         "visible": false,
         "x": [
          "2 - 0",
          "3 - 0",
          "1 - 0",
          "4 - 0",
          "2 - 1",
          "3 - 1",
          "1 - 1",
          "4 - 1",
          "0 - 0",
          "Other",
          "Other",
          "Other",
          "Other",
          "Other",
          "Other",
          "Other",
          "Other",
          "Other",
          "Other",
          "Other",
          "Other",
          "Other",
          "Other",
          "Other",
          "Other"
         ],
         "xaxis": "x",
         "y": [
          0.14388809533507893,
          0.13438525162425033,
          0.102708611889673,
          0.09413250525724862,
          0.07255935421389924,
          0.06776729548765355,
          0.05179351727163925,
          0.04746879007673737,
          0.036657163790157175,
          0.018485338385589776,
          0.018294980803233142,
          0.017086720016537264,
          0.013059121246079837,
          0.011968692563697848,
          0.0046608588867629586,
          0.003075241653005724,
          0.0028721425659444257,
          0.00219513505040134,
          0.0020118426086240503,
          0.0007834535352353213,
          0.00038769285929136205,
          0.0003620883459987888,
          0.000276738637234893,
          0.00025363112931931886,
          0.00009876925961263383
         ],
         "yaxis": "y"
        },
        {
         "fill": "toself",
         "hovertemplate": "%{theta}<br>Prob: %{r:.2f}<br>Bookmaker Odds",
         "marker": {
          "color": "rgb(82, 106, 131)"
         },
         "name": "Bookmaker Odds",
         "r": [
          0.5617977528089888,
          0.2597402597402597,
          0.2298850574712644,
          0.5555555555555556,
          0.49504950495049505
         ],
         "subplot": "polar",
         "theta": [
          "Home",
          "Draw",
          "Away",
          "Over",
          "Under"
         ],
         "type": "scatterpolar",
         "visible": false
        },
        {
         "fill": "toself",
         "hovertemplate": "%{theta}<br>Prob: %{r:.2f}<br>Predicted Odds",
         "marker": {
          "color": "rgb(141,211,199)"
         },
         "name": "Predicted Odds",
         "r": [
          0.6054336220048904,
          0.22211431078825616,
          0.17245141680660184,
          0.5154551947876245,
          0.48454480521237553
         ],
         "subplot": "polar",
         "theta": [
          "Home",
          "Draw",
          "Away",
          "Over",
          "Under"
         ],
         "type": "scatterpolar",
         "visible": false
        },
        {
         "hovertemplate": "Score %{x}<br>Prob: %{y:.3f}",
         "marker": {
          "color": [
           0.12045317280022975,
           0.11204119842594878,
           0.10562768499068319,
           0.09825106419523201,
           0.06947778876992705,
           0.06474835614700872,
           0.060926398329169476,
           0.05677906864357629,
           0.046313465959900886,
           0.043079116214004634,
           0.03231286705364687,
           0.0283357695189074,
           0.026713760462763525,
           0.02489532420492877,
           0.013537720591642809,
           0.012592299594788353,
           0.012424088411833203,
           0.007808602046974531,
           0.007277061565992309,
           0.0036316400433275865,
           0.0029678713580203937,
           0.0027606069312772702,
           0.0017118780229296222,
           0.001595348526072568,
           0.0007961636077705414
          ],
          "colorscale": [
           [
            0,
            "rgb(210, 251, 212)"
           ],
           [
            0.16666666666666666,
            "rgb(165, 219, 194)"
           ],
           [
            0.3333333333333333,
            "rgb(123, 188, 176)"
           ],
           [
            0.5,
            "rgb(85, 156, 158)"
           ],
           [
            0.6666666666666666,
            "rgb(58, 124, 137)"
           ],
           [
            0.8333333333333334,
            "rgb(35, 93, 114)"
           ],
           [
            1,
            "rgb(18, 63, 90)"
           ]
          ]
         },
         "name": "Propable Scoreline",
         "type": "bar",
         "visible": false,
         "x": [
          "1 - 0",
          "2 - 0",
          "1 - 1",
          "2 - 1",
          "3 - 0",
          "0 - 0",
          "3 - 1",
          "0 - 1",
          "1 - 2",
          "2 - 2",
          "4 - 0",
          "4 - 1",
          "3 - 2",
          "0 - 2",
          "Other",
          "Other",
          "Other",
          "Other",
          "Other",
          "Other",
          "Other",
          "Other",
          "Other",
          "Other",
          "Other"
         ],
         "xaxis": "x",
         "y": [
          0.12045317280022975,
          0.11204119842594878,
          0.10562768499068319,
          0.09825106419523201,
          0.06947778876992705,
          0.06474835614700872,
          0.060926398329169476,
          0.05677906864357629,
          0.046313465959900886,
          0.043079116214004634,
          0.03231286705364687,
          0.0283357695189074,
          0.026713760462763525,
          0.02489532420492877,
          0.013537720591642809,
          0.012592299594788353,
          0.012424088411833203,
          0.007808602046974531,
          0.007277061565992309,
          0.0036316400433275865,
          0.0029678713580203937,
          0.0027606069312772702,
          0.0017118780229296222,
          0.001595348526072568,
          0.0007961636077705414
         ],
         "yaxis": "y"
        },
        {
         "fill": "toself",
         "hovertemplate": "%{theta}<br>Prob: %{r:.2f}<br>Bookmaker Odds",
         "marker": {
          "color": "rgb(82, 106, 131)"
         },
         "name": "Bookmaker Odds",
         "r": [
          0.3389830508474576,
          0.30303030303030304,
          0.4081632653061224,
          0.4587155963302752,
          0.5882352941176471
         ],
         "subplot": "polar",
         "theta": [
          "Home",
          "Draw",
          "Away",
          "Over",
          "Under"
         ],
         "type": "scatterpolar",
         "visible": false
        },
        {
         "fill": "toself",
         "hovertemplate": "%{theta}<br>Prob: %{r:.2f}<br>Predicted Odds",
         "marker": {
          "color": "rgb(141,211,199)"
         },
         "name": "Predicted Odds",
         "r": [
          0.33749106201625934,
          0.2638180865183519,
          0.39869081938466167,
          0.4791321663671214,
          0.5208678336328786
         ],
         "subplot": "polar",
         "theta": [
          "Home",
          "Draw",
          "Away",
          "Over",
          "Under"
         ],
         "type": "scatterpolar",
         "visible": false
        },
        {
         "hovertemplate": "Score %{x}<br>Prob: %{y:.3f}",
         "marker": {
          "color": [
           0.12548265965788316,
           0.10202647166179192,
           0.09223984299212884,
           0.0853530175466571,
           0.07716574737099746,
           0.07499765906128011,
           0.06939817222327549,
           0.056723028036519046,
           0.05248796453083376,
           0.038704617961728506,
           0.03163546040841626,
           0.03146965181021086,
           0.023801462129258284,
           0.02325460672424235,
           0.021518367674847865,
           0.013163396221561258,
           0.010702792523155502,
           0.009757829587685318,
           0.009727136611929794,
           0.008094849998770531,
           0.007150227420215713,
           0.006616376032994104,
           0.003318626662383914,
           0.0030002958771573425,
           0.0010203971901231762
          ],
          "colorscale": [
           [
            0,
            "rgb(210, 251, 212)"
           ],
           [
            0.16666666666666666,
            "rgb(165, 219, 194)"
           ],
           [
            0.3333333333333333,
            "rgb(123, 188, 176)"
           ],
           [
            0.5,
            "rgb(85, 156, 158)"
           ],
           [
            0.6666666666666666,
            "rgb(58, 124, 137)"
           ],
           [
            0.8333333333333334,
            "rgb(35, 93, 114)"
           ],
           [
            1,
            "rgb(18, 63, 90)"
           ]
          ]
         },
         "name": "Propable Scoreline",
         "type": "bar",
         "visible": false,
         "x": [
          "1 - 1",
          "0 - 1",
          "1 - 0",
          "1 - 2",
          "2 - 1",
          "0 - 0",
          "0 - 2",
          "2 - 0",
          "2 - 2",
          "1 - 3",
          "3 - 1",
          "0 - 3",
          "2 - 3",
          "3 - 0",
          "3 - 2",
          "Other",
          "Other",
          "Other",
          "Other",
          "Other",
          "Other",
          "Other",
          "Other",
          "Other",
          "Other"
         ],
         "xaxis": "x",
         "y": [
          0.12548265965788316,
          0.10202647166179192,
          0.09223984299212884,
          0.0853530175466571,
          0.07716574737099746,
          0.07499765906128011,
          0.06939817222327549,
          0.056723028036519046,
          0.05248796453083376,
          0.038704617961728506,
          0.03163546040841626,
          0.03146965181021086,
          0.023801462129258284,
          0.02325460672424235,
          0.021518367674847865,
          0.013163396221561258,
          0.010702792523155502,
          0.009757829587685318,
          0.009727136611929794,
          0.008094849998770531,
          0.007150227420215713,
          0.006616376032994104,
          0.003318626662383914,
          0.0030002958771573425,
          0.0010203971901231762
         ],
         "yaxis": "y"
        },
        {
         "fill": "toself",
         "hovertemplate": "%{theta}<br>Prob: %{r:.2f}<br>Bookmaker Odds",
         "marker": {
          "color": "rgb(82, 106, 131)"
         },
         "name": "Bookmaker Odds",
         "r": [
          0.6896551724137931,
          0.2040816326530612,
          0.15625,
          0.6666666666666666,
          0.38167938931297707
         ],
         "subplot": "polar",
         "theta": [
          "Home",
          "Draw",
          "Away",
          "Over",
          "Under"
         ],
         "type": "scatterpolar",
         "visible": false
        },
        {
         "fill": "toself",
         "hovertemplate": "%{theta}<br>Prob: %{r:.2f}<br>Predicted Odds",
         "marker": {
          "color": "rgb(141,211,199)"
         },
         "name": "Predicted Odds",
         "r": [
          0.6573227905322632,
          0.1892075632948155,
          0.15346526362466179,
          0.6274534699938712,
          0.3725465300061288
         ],
         "subplot": "polar",
         "theta": [
          "Home",
          "Draw",
          "Away",
          "Over",
          "Under"
         ],
         "type": "scatterpolar",
         "visible": false
        },
        {
         "hovertemplate": "Score %{x}<br>Prob: %{y:.3f}",
         "marker": {
          "color": [
           0.09920059204673301,
           0.09818873567393904,
           0.08834758634752879,
           0.08744643176344527,
           0.07425788576884805,
           0.07350044759841841,
           0.0485936001707773,
           0.04327723452499721,
           0.04169002536997124,
           0.04126478276826706,
           0.03934097494981184,
           0.03893969290709841,
           0.03637536768811547,
           0.020421938842699303,
           0.01927125199151149,
           0.016032646795648725,
           0.014278600741523038,
           0.012001445049468124,
           0.006737877646370316,
           0.0063582277378915085,
           0.00396727803204533,
           0.003533239381632521,
           0.002969757264937459,
           0.0016672876481199025,
           0.0015733432881540376
          ],
          "colorscale": [
           [
            0,
            "rgb(210, 251, 212)"
           ],
           [
            0.16666666666666666,
            "rgb(165, 219, 194)"
           ],
           [
            0.3333333333333333,
            "rgb(123, 188, 176)"
           ],
           [
            0.5,
            "rgb(85, 156, 158)"
           ],
           [
            0.6666666666666666,
            "rgb(58, 124, 137)"
           ],
           [
            0.8333333333333334,
            "rgb(35, 93, 114)"
           ],
           [
            1,
            "rgb(18, 63, 90)"
           ]
          ]
         },
         "name": "Propable Scoreline",
         "type": "bar",
         "visible": false,
         "x": [
          "2 - 0",
          "2 - 1",
          "1 - 0",
          "1 - 1",
          "3 - 0",
          "3 - 1",
          "2 - 2",
          "1 - 2",
          "4 - 0",
          "4 - 1",
          "0 - 0",
          "0 - 1",
          "3 - 2",
          "4 - 2",
          "Other",
          "Other",
          "Other",
          "Other",
          "Other",
          "Other",
          "Other",
          "Other",
          "Other",
          "Other",
          "Other"
         ],
         "xaxis": "x",
         "y": [
          0.09920059204673301,
          0.09818873567393904,
          0.08834758634752879,
          0.08744643176344527,
          0.07425788576884805,
          0.07350044759841841,
          0.0485936001707773,
          0.04327723452499721,
          0.04169002536997124,
          0.04126478276826706,
          0.03934097494981184,
          0.03893969290709841,
          0.03637536768811547,
          0.020421938842699303,
          0.01927125199151149,
          0.016032646795648725,
          0.014278600741523038,
          0.012001445049468124,
          0.006737877646370316,
          0.0063582277378915085,
          0.00396727803204533,
          0.003533239381632521,
          0.002969757264937459,
          0.0016672876481199025,
          0.0015733432881540376
         ],
         "yaxis": "y"
        },
        {
         "fill": "toself",
         "hovertemplate": "%{theta}<br>Prob: %{r:.2f}<br>Bookmaker Odds",
         "marker": {
          "color": "rgb(82, 106, 131)"
         },
         "name": "Bookmaker Odds",
         "r": [
          0.4132231404958678,
          0.273972602739726,
          0.36363636363636365,
          0.6172839506172839,
          0.4347826086956522
         ],
         "subplot": "polar",
         "theta": [
          "Home",
          "Draw",
          "Away",
          "Over",
          "Under"
         ],
         "type": "scatterpolar",
         "visible": false
        },
        {
         "fill": "toself",
         "hovertemplate": "%{theta}<br>Prob: %{r:.2f}<br>Predicted Odds",
         "marker": {
          "color": "rgb(141,211,199)"
         },
         "name": "Predicted Odds",
         "r": [
          0.3788029833287392,
          0.22988855151269305,
          0.3913080799184634,
          0.6422872178138138,
          0.3577127821861862
         ],
         "subplot": "polar",
         "theta": [
          "Home",
          "Draw",
          "Away",
          "Over",
          "Under"
         ],
         "type": "scatterpolar",
         "visible": false
        },
        {
         "hovertemplate": "Score %{x}<br>Prob: %{y:.3f}",
         "marker": {
          "color": [
           0.1000681357221323,
           0.08351343424310417,
           0.08202665344258331,
           0.06845663186412268,
           0.06103889020604988,
           0.05995222132617502,
           0.050940964440967004,
           0.04914331666466288,
           0.04646496542078725,
           0.04482527047819303,
           0.038087704825199055,
           0.03740963346119349,
           0.03656925382619912,
           0.028342387936783103,
           0.026855447214251586,
           0.020813864750415408,
           0.019389033313522486,
           0.01837181686483432,
           0.01589334611580313,
           0.015332488295056243,
           0.011826792485790143,
           0.011006812737102845,
           0.008685268855239757,
           0.008530645936204444,
           0.003559692270188088
          ],
          "colorscale": [
           [
            0,
            "rgb(210, 251, 212)"
           ],
           [
            0.16666666666666666,
            "rgb(165, 219, 194)"
           ],
           [
            0.3333333333333333,
            "rgb(123, 188, 176)"
           ],
           [
            0.5,
            "rgb(85, 156, 158)"
           ],
           [
            0.6666666666666666,
            "rgb(58, 124, 137)"
           ],
           [
            0.8333333333333334,
            "rgb(35, 93, 114)"
           ],
           [
            1,
            "rgb(18, 63, 90)"
           ]
          ]
         },
         "name": "Propable Scoreline",
         "type": "bar",
         "visible": false,
         "x": [
          "1 - 1",
          "1 - 2",
          "2 - 1",
          "2 - 2",
          "0 - 1",
          "1 - 0",
          "0 - 2",
          "2 - 0",
          "1 - 3",
          "3 - 1",
          "2 - 3",
          "3 - 2",
          "0 - 0",
          "0 - 3",
          "3 - 0",
          "3 - 3",
          "Other",
          "Other",
          "Other",
          "Other",
          "Other",
          "Other",
          "Other",
          "Other",
          "Other"
         ],
         "xaxis": "x",
         "y": [
          0.1000681357221323,
          0.08351343424310417,
          0.08202665344258331,
          0.06845663186412268,
          0.06103889020604988,
          0.05995222132617502,
          0.050940964440967004,
          0.04914331666466288,
          0.04646496542078725,
          0.04482527047819303,
          0.038087704825199055,
          0.03740963346119349,
          0.03656925382619912,
          0.028342387936783103,
          0.026855447214251586,
          0.020813864750415408,
          0.019389033313522486,
          0.01837181686483432,
          0.01589334611580313,
          0.015332488295056243,
          0.011826792485790143,
          0.011006812737102845,
          0.008685268855239757,
          0.008530645936204444,
          0.003559692270188088
         ],
         "yaxis": "y"
        },
        {
         "fill": "toself",
         "hovertemplate": "%{theta}<br>Prob: %{r:.2f}<br>Bookmaker Odds",
         "marker": {
          "color": "rgb(82, 106, 131)"
         },
         "name": "Bookmaker Odds",
         "r": [
          0.29411764705882354,
          0.273972602739726,
          0.48309178743961356,
          0.5813953488372093,
          0.4716981132075471
         ],
         "subplot": "polar",
         "theta": [
          "Home",
          "Draw",
          "Away",
          "Over",
          "Under"
         ],
         "type": "scatterpolar",
         "visible": false
        },
        {
         "fill": "toself",
         "hovertemplate": "%{theta}<br>Prob: %{r:.2f}<br>Predicted Odds",
         "marker": {
          "color": "rgb(141,211,199)"
         },
         "name": "Predicted Odds",
         "r": [
          0.31511958986529875,
          0.24975835193939117,
          0.43512195752222144,
          0.5330022214888602,
          0.46699777851113977
         ],
         "subplot": "polar",
         "theta": [
          "Home",
          "Draw",
          "Away",
          "Over",
          "Under"
         ],
         "type": "scatterpolar",
         "visible": false
        },
        {
         "hovertemplate": "Score %{x}<br>Prob: %{y:.3f}",
         "marker": {
          "color": [
           0.11777239064708238,
           0.09256882944832653,
           0.0905698879575221,
           0.07657255800754804,
           0.07491904176271143,
           0.07118772460531357,
           0.06018585530681341,
           0.05761460034098231,
           0.04871042049605583,
           0.04643365936372978,
           0.036496749965644656,
           0.03177237487668026,
           0.02953803727642145,
           0.024433743909881393,
           0.020657575217035238,
           0.0178543175651115,
           0.014033452734722182,
           0.012526769848982816,
           0.011357741453288895,
           0.010105746632160694,
           0.007771569679218148,
           0.006570494713990746,
           0.00481669827477577,
           0.00398435315913776,
           0.0015320331752781903
          ],
          "colorscale": [
           [
            0,
            "rgb(210, 251, 212)"
           ],
           [
            0.16666666666666666,
            "rgb(165, 219, 194)"
           ],
           [
            0.3333333333333333,
            "rgb(123, 188, 176)"
           ],
           [
            0.5,
            "rgb(85, 156, 158)"
           ],
           [
            0.6666666666666666,
            "rgb(58, 124, 137)"
           ],
           [
            0.8333333333333334,
            "rgb(35, 93, 114)"
           ],
           [
            1,
            "rgb(18, 63, 90)"
           ]
          ]
         },
         "name": "Propable Scoreline",
         "type": "bar",
         "visible": false,
         "x": [
          "1 - 1",
          "0 - 1",
          "1 - 2",
          "1 - 0",
          "2 - 1",
          "0 - 2",
          "0 - 0",
          "2 - 2",
          "2 - 0",
          "1 - 3",
          "0 - 3",
          "3 - 1",
          "2 - 3",
          "3 - 2",
          "3 - 0",
          "Other",
          "Other",
          "Other",
          "Other",
          "Other",
          "Other",
          "Other",
          "Other",
          "Other",
          "Other"
         ],
         "xaxis": "x",
         "y": [
          0.11777239064708238,
          0.09256882944832653,
          0.0905698879575221,
          0.07657255800754804,
          0.07491904176271143,
          0.07118772460531357,
          0.06018585530681341,
          0.05761460034098231,
          0.04871042049605583,
          0.04643365936372978,
          0.036496749965644656,
          0.03177237487668026,
          0.02953803727642145,
          0.024433743909881393,
          0.020657575217035238,
          0.0178543175651115,
          0.014033452734722182,
          0.012526769848982816,
          0.011357741453288895,
          0.010105746632160694,
          0.007771569679218148,
          0.006570494713990746,
          0.00481669827477577,
          0.00398435315913776,
          0.0015320331752781903
         ],
         "yaxis": "y"
        },
        {
         "fill": "toself",
         "hovertemplate": "%{theta}<br>Prob: %{r:.2f}<br>Bookmaker Odds",
         "marker": {
          "color": "rgb(82, 106, 131)"
         },
         "name": "Bookmaker Odds",
         "r": [
          0.37735849056603776,
          0.2857142857142857,
          0.3846153846153846,
          0.5714285714285714,
          0.48309178743961356
         ],
         "subplot": "polar",
         "theta": [
          "Home",
          "Draw",
          "Away",
          "Over",
          "Under"
         ],
         "type": "scatterpolar",
         "visible": false
        },
        {
         "fill": "toself",
         "hovertemplate": "%{theta}<br>Prob: %{r:.2f}<br>Predicted Odds",
         "marker": {
          "color": "rgb(141,211,199)"
         },
         "name": "Predicted Odds",
         "r": [
          0.35147680239095525,
          0.27022655369519827,
          0.37829662456625085,
          0.4549311751351427,
          0.5450688248648573
         ],
         "subplot": "polar",
         "theta": [
          "Home",
          "Draw",
          "Away",
          "Over",
          "Under"
         ],
         "type": "scatterpolar",
         "visible": false
        },
        {
         "hovertemplate": "Score %{x}<br>Prob: %{y:.3f}",
         "marker": {
          "color": [
           0.12831768739726165,
           0.1052268382255575,
           0.10058859502800209,
           0.08248761360215702,
           0.08184540650159036,
           0.07823778218864243,
           0.06711727373004099,
           0.061330816881838016,
           0.04990273139187651,
           0.034802531650330246,
           0.031802061929035265,
           0.02853979402287215,
           0.02492972553761468,
           0.021219778396115163,
           0.020284441988986376,
           0.011099122061743646,
           0.009695166912767617,
           0.009101828012384666,
           0.008625406904384653,
           0.007600068533794965,
           0.006767349941894187,
           0.006183908806114972,
           0.002750789655931919,
           0.002629538921569047,
           0.0008386048966160099
          ],
          "colorscale": [
           [
            0,
            "rgb(210, 251, 212)"
           ],
           [
            0.16666666666666666,
            "rgb(165, 219, 194)"
           ],
           [
            0.3333333333333333,
            "rgb(123, 188, 176)"
           ],
           [
            0.5,
            "rgb(85, 156, 158)"
           ],
           [
            0.6666666666666666,
            "rgb(58, 124, 137)"
           ],
           [
            0.8333333333333334,
            "rgb(35, 93, 114)"
           ],
           [
            1,
            "rgb(18, 63, 90)"
           ]
          ]
         },
         "name": "Propable Scoreline",
         "type": "bar",
         "visible": false,
         "x": [
          "1 - 1",
          "0 - 1",
          "1 - 0",
          "0 - 0",
          "1 - 2",
          "2 - 1",
          "0 - 2",
          "2 - 0",
          "2 - 2",
          "1 - 3",
          "3 - 1",
          "0 - 3",
          "3 - 0",
          "2 - 3",
          "3 - 2",
          "Other",
          "Other",
          "Other",
          "Other",
          "Other",
          "Other",
          "Other",
          "Other",
          "Other",
          "Other"
         ],
         "xaxis": "x",
         "y": [
          0.12831768739726165,
          0.1052268382255575,
          0.10058859502800209,
          0.08248761360215702,
          0.08184540650159036,
          0.07823778218864243,
          0.06711727373004099,
          0.061330816881838016,
          0.04990273139187651,
          0.034802531650330246,
          0.031802061929035265,
          0.02853979402287215,
          0.02492972553761468,
          0.021219778396115163,
          0.020284441988986376,
          0.011099122061743646,
          0.009695166912767617,
          0.009101828012384666,
          0.008625406904384653,
          0.007600068533794965,
          0.006767349941894187,
          0.006183908806114972,
          0.002750789655931919,
          0.002629538921569047,
          0.0008386048966160099
         ],
         "yaxis": "y"
        },
        {
         "fill": "toself",
         "hovertemplate": "%{theta}<br>Prob: %{r:.2f}<br>Bookmaker Odds",
         "marker": {
          "color": "rgb(82, 106, 131)"
         },
         "name": "Bookmaker Odds",
         "r": [
          0.7246376811594204,
          0.2040816326530612,
          0.125,
          0.625,
          0.425531914893617
         ],
         "subplot": "polar",
         "theta": [
          "Home",
          "Draw",
          "Away",
          "Over",
          "Under"
         ],
         "type": "scatterpolar",
         "visible": false
        },
        {
         "fill": "toself",
         "hovertemplate": "%{theta}<br>Prob: %{r:.2f}<br>Predicted Odds",
         "marker": {
          "color": "rgb(141,211,199)"
         },
         "name": "Predicted Odds",
         "r": [
          0.7367515470866665,
          0.1700573477777673,
          0.09318645090146199,
          0.5589932889689972,
          0.44100671103100275
         ],
         "subplot": "polar",
         "theta": [
          "Home",
          "Draw",
          "Away",
          "Over",
          "Under"
         ],
         "type": "scatterpolar",
         "visible": false
        },
        {
         "hovertemplate": "Score %{x}<br>Prob: %{y:.3f}",
         "marker": {
          "color": [
           0.13745024872458184,
           0.12167277057266083,
           0.10351574300768802,
           0.09101285042908416,
           0.08056577395950101,
           0.06854307593354911,
           0.05846938701383373,
           0.05385316955115752,
           0.038715576176462645,
           0.03565894213340224,
           0.030132135154679576,
           0.026673362919015623,
           0.0226929408123137,
           0.012817783076132185,
           0.01180580608969931,
           0.0066506767245821255,
           0.005887266634813273,
           0.005008719511512474,
           0.0028291035841824836,
           0.0026057429841143983,
           0.001100938433366276,
           0.0009745652020318455,
           0.0008291324387778169,
           0.00046832360025685657,
           0.0004313489765759619
          ],
          "colorscale": [
           [
            0,
            "rgb(210, 251, 212)"
           ],
           [
            0.16666666666666666,
            "rgb(165, 219, 194)"
           ],
           [
            0.3333333333333333,
            "rgb(123, 188, 176)"
           ],
           [
            0.5,
            "rgb(85, 156, 158)"
           ],
           [
            0.6666666666666666,
            "rgb(58, 124, 137)"
           ],
           [
            0.8333333333333334,
            "rgb(35, 93, 114)"
           ],
           [
            1,
            "rgb(18, 63, 90)"
           ]
          ]
         },
         "name": "Propable Scoreline",
         "type": "bar",
         "visible": false,
         "x": [
          "2 - 0",
          "1 - 0",
          "3 - 0",
          "2 - 1",
          "1 - 1",
          "3 - 1",
          "4 - 0",
          "0 - 0",
          "4 - 1",
          "0 - 1",
          "2 - 2",
          "1 - 2",
          "3 - 2",
          "Other",
          "Other",
          "Other",
          "Other",
          "Other",
          "Other",
          "Other",
          "Other",
          "Other",
          "Other",
          "Other",
          "Other"
         ],
         "xaxis": "x",
         "y": [
          0.13745024872458184,
          0.12167277057266083,
          0.10351574300768802,
          0.09101285042908416,
          0.08056577395950101,
          0.06854307593354911,
          0.05846938701383373,
          0.05385316955115752,
          0.038715576176462645,
          0.03565894213340224,
          0.030132135154679576,
          0.026673362919015623,
          0.0226929408123137,
          0.012817783076132185,
          0.01180580608969931,
          0.0066506767245821255,
          0.005887266634813273,
          0.005008719511512474,
          0.0028291035841824836,
          0.0026057429841143983,
          0.001100938433366276,
          0.0009745652020318455,
          0.0008291324387778169,
          0.00046832360025685657,
          0.0004313489765759619
         ],
         "yaxis": "y"
        },
        {
         "fill": "toself",
         "hovertemplate": "%{theta}<br>Prob: %{r:.2f}<br>Bookmaker Odds",
         "marker": {
          "color": "rgb(82, 106, 131)"
         },
         "name": "Bookmaker Odds",
         "r": [
          0.46511627906976744,
          0.2898550724637681,
          0.29411764705882354,
          0.5,
          0.5494505494505494
         ],
         "subplot": "polar",
         "theta": [
          "Home",
          "Draw",
          "Away",
          "Over",
          "Under"
         ],
         "type": "scatterpolar",
         "visible": false
        },
        {
         "fill": "toself",
         "hovertemplate": "%{theta}<br>Prob: %{r:.2f}<br>Predicted Odds",
         "marker": {
          "color": "rgb(141,211,199)"
         },
         "name": "Predicted Odds",
         "r": [
          0.4292992510048853,
          0.25775252483846295,
          0.31294816710945034,
          0.4976853248277513,
          0.5023146751722487
         ],
         "subplot": "polar",
         "theta": [
          "Home",
          "Draw",
          "Away",
          "Over",
          "Under"
         ],
         "type": "scatterpolar",
         "visible": false
        },
        {
         "hovertemplate": "Score %{x}<br>Prob: %{y:.3f}",
         "marker": {
          "color": [
           0.1224849034348169,
           0.10152007142327951,
           0.08930224586269112,
           0.08399873611523706,
           0.07401704311310765,
           0.07388958340506149,
           0.06962129577399068,
           0.05387199204873576,
           0.05067262531181696,
           0.04340611723013713,
           0.03597661424255302,
           0.02971615484939619,
           0.026184940587987728,
           0.021665685256198258,
           0.020378996754341395,
           0.01582343474227965,
           0.013115054836555529,
           0.010530790855447983,
           0.009545560051540792,
           0.008963203793480886,
           0.006534962321367262,
           0.006146861932224686,
           0.0038389354431840757,
           0.0031763740976004213,
           0.0011579277635906822
          ],
          "colorscale": [
           [
            0,
            "rgb(210, 251, 212)"
           ],
           [
            0.16666666666666666,
            "rgb(165, 219, 194)"
           ],
           [
            0.3333333333333333,
            "rgb(123, 188, 176)"
           ],
           [
            0.5,
            "rgb(85, 156, 158)"
           ],
           [
            0.6666666666666666,
            "rgb(58, 124, 137)"
           ],
           [
            0.8333333333333334,
            "rgb(35, 93, 114)"
           ],
           [
            1,
            "rgb(18, 63, 90)"
           ]
          ]
         },
         "name": "Propable Scoreline",
         "type": "bar",
         "visible": false,
         "x": [
          "1 - 1",
          "1 - 0",
          "2 - 1",
          "0 - 1",
          "2 - 0",
          "1 - 2",
          "0 - 0",
          "2 - 2",
          "0 - 2",
          "3 - 1",
          "3 - 0",
          "1 - 3",
          "3 - 2",
          "2 - 3",
          "0 - 3",
          "Other",
          "Other",
          "Other",
          "Other",
          "Other",
          "Other",
          "Other",
          "Other",
          "Other",
          "Other"
         ],
         "xaxis": "x",
         "y": [
          0.1224849034348169,
          0.10152007142327951,
          0.08930224586269112,
          0.08399873611523706,
          0.07401704311310765,
          0.07388958340506149,
          0.06962129577399068,
          0.05387199204873576,
          0.05067262531181696,
          0.04340611723013713,
          0.03597661424255302,
          0.02971615484939619,
          0.026184940587987728,
          0.021665685256198258,
          0.020378996754341395,
          0.01582343474227965,
          0.013115054836555529,
          0.010530790855447983,
          0.009545560051540792,
          0.008963203793480886,
          0.006534962321367262,
          0.006146861932224686,
          0.0038389354431840757,
          0.0031763740976004213,
          0.0011579277635906822
         ],
         "yaxis": "y"
        },
        {
         "fill": "toself",
         "hovertemplate": "%{theta}<br>Prob: %{r:.2f}<br>Bookmaker Odds",
         "marker": {
          "color": "rgb(82, 106, 131)"
         },
         "name": "Bookmaker Odds",
         "r": [
          0.2061855670103093,
          0.23809523809523808,
          0.6060606060606061,
          0.6060606060606061,
          0.4444444444444444
         ],
         "subplot": "polar",
         "theta": [
          "Home",
          "Draw",
          "Away",
          "Over",
          "Under"
         ],
         "type": "scatterpolar",
         "visible": false
        },
        {
         "fill": "toself",
         "hovertemplate": "%{theta}<br>Prob: %{r:.2f}<br>Predicted Odds",
         "marker": {
          "color": "rgb(141,211,199)"
         },
         "name": "Predicted Odds",
         "r": [
          0.22598437575116645,
          0.23911765496899012,
          0.5348976931859782,
          0.515358839138967,
          0.484641160861033
         ],
         "subplot": "polar",
         "theta": [
          "Home",
          "Draw",
          "Away",
          "Over",
          "Under"
         ],
         "type": "scatterpolar",
         "visible": false
        },
        {
         "hovertemplate": "Score %{x}<br>Prob: %{y:.3f}",
         "marker": {
          "color": [
           0.11364045213858458,
           0.1109055082768739,
           0.09728700147943363,
           0.09494563022902767,
           0.0663714173829891,
           0.06477408036832044,
           0.05822142003092374,
           0.055524598144077765,
           0.05418830762419398,
           0.049843055620508496,
           0.03400407246523731,
           0.028446920878599603,
           0.023767160197498718,
           0.023195164506974942,
           0.019885722537625175,
           0.01702406389212773,
           0.012176630687049115,
           0.01161420573104975,
           0.009716141848500927,
           0.0050940267426495935,
           0.004360969865238325,
           0.004158969313307371,
           0.0029751533783427247,
           0.002488935783851652,
           0.0010653825056525636
          ],
          "colorscale": [
           [
            0,
            "rgb(210, 251, 212)"
           ],
           [
            0.16666666666666666,
            "rgb(165, 219, 194)"
           ],
           [
            0.3333333333333333,
            "rgb(123, 188, 176)"
           ],
           [
            0.5,
            "rgb(85, 156, 158)"
           ],
           [
            0.6666666666666666,
            "rgb(58, 124, 137)"
           ],
           [
            0.8333333333333334,
            "rgb(35, 93, 114)"
           ],
           [
            1,
            "rgb(18, 63, 90)"
           ]
          ]
         },
         "name": "Propable Scoreline",
         "type": "bar",
         "visible": false,
         "x": [
          "1 - 1",
          "0 - 1",
          "1 - 2",
          "0 - 2",
          "1 - 0",
          "0 - 0",
          "2 - 1",
          "1 - 3",
          "0 - 3",
          "2 - 2",
          "2 - 0",
          "2 - 3",
          "1 - 4",
          "0 - 4",
          "Other",
          "Other",
          "Other",
          "Other",
          "Other",
          "Other",
          "Other",
          "Other",
          "Other",
          "Other",
          "Other"
         ],
         "xaxis": "x",
         "y": [
          0.11364045213858458,
          0.1109055082768739,
          0.09728700147943363,
          0.09494563022902767,
          0.0663714173829891,
          0.06477408036832044,
          0.05822142003092374,
          0.055524598144077765,
          0.05418830762419398,
          0.049843055620508496,
          0.03400407246523731,
          0.028446920878599603,
          0.023767160197498718,
          0.023195164506974942,
          0.019885722537625175,
          0.01702406389212773,
          0.012176630687049115,
          0.01161420573104975,
          0.009716141848500927,
          0.0050940267426495935,
          0.004360969865238325,
          0.004158969313307371,
          0.0029751533783427247,
          0.002488935783851652,
          0.0010653825056525636
         ],
         "yaxis": "y"
        },
        {
         "fill": "toself",
         "hovertemplate": "%{theta}<br>Prob: %{r:.2f}<br>Bookmaker Odds",
         "marker": {
          "color": "rgb(82, 106, 131)"
         },
         "name": "Bookmaker Odds",
         "r": [
          0.5263157894736842,
          0.27027027027027023,
          0.2531645569620253,
          0.5263157894736842,
          0.5235602094240838
         ],
         "subplot": "polar",
         "theta": [
          "Home",
          "Draw",
          "Away",
          "Over",
          "Under"
         ],
         "type": "scatterpolar",
         "visible": false
        },
        {
         "fill": "toself",
         "hovertemplate": "%{theta}<br>Prob: %{r:.2f}<br>Predicted Odds",
         "marker": {
          "color": "rgb(141,211,199)"
         },
         "name": "Predicted Odds",
         "r": [
          0.4681006718073969,
          0.24922169655460105,
          0.28267750788398877,
          0.5192824543916895,
          0.4807175456083105
         ],
         "subplot": "polar",
         "theta": [
          "Home",
          "Draw",
          "Away",
          "Over",
          "Under"
         ],
         "type": "scatterpolar",
         "visible": false
        },
        {
         "hovertemplate": "Score %{x}<br>Prob: %{y:.3f}",
         "marker": {
          "color": [
           0.11810279618706691,
           0.10074981226525978,
           0.09334967397002472,
           0.0796336956544735,
           0.07470979744226403,
           0.06922231492838953,
           0.0637325982931126,
           0.05471403504943567,
           0.04918969977367436,
           0.04378884576613365,
           0.04196219884356035,
           0.028831026858778905,
           0.02704835131622885,
           0.02137929717427937,
           0.01944002421959057,
           0.017110321797816522,
           0.01658367840379999,
           0.011394171198220792,
           0.011265612022519293,
           0.007926778846709254,
           0.006265408143264845,
           0.005014343953967472,
           0.004452228242374709,
           0.0033014956819848724,
           0.001304768199723969
          ],
          "colorscale": [
           [
            0,
            "rgb(210, 251, 212)"
           ],
           [
            0.16666666666666666,
            "rgb(165, 219, 194)"
           ],
           [
            0.3333333333333333,
            "rgb(123, 188, 176)"
           ],
           [
            0.5,
            "rgb(85, 156, 158)"
           ],
           [
            0.6666666666666666,
            "rgb(58, 124, 137)"
           ],
           [
            0.8333333333333334,
            "rgb(35, 93, 114)"
           ],
           [
            1,
            "rgb(18, 63, 90)"
           ]
          ]
         },
         "name": "Propable Scoreline",
         "type": "bar",
         "visible": false,
         "x": [
          "1 - 1",
          "1 - 0",
          "2 - 1",
          "2 - 0",
          "0 - 1",
          "1 - 2",
          "0 - 0",
          "2 - 2",
          "3 - 1",
          "0 - 2",
          "3 - 0",
          "3 - 2",
          "1 - 3",
          "2 - 3",
          "Other",
          "Other",
          "Other",
          "Other",
          "Other",
          "Other",
          "Other",
          "Other",
          "Other",
          "Other",
          "Other"
         ],
         "xaxis": "x",
         "y": [
          0.11810279618706691,
          0.10074981226525978,
          0.09334967397002472,
          0.0796336956544735,
          0.07470979744226403,
          0.06922231492838953,
          0.0637325982931126,
          0.05471403504943567,
          0.04918969977367436,
          0.04378884576613365,
          0.04196219884356035,
          0.028831026858778905,
          0.02704835131622885,
          0.02137929717427937,
          0.01944002421959057,
          0.017110321797816522,
          0.01658367840379999,
          0.011394171198220792,
          0.011265612022519293,
          0.007926778846709254,
          0.006265408143264845,
          0.005014343953967472,
          0.004452228242374709,
          0.0033014956819848724,
          0.001304768199723969
         ],
         "yaxis": "y"
        },
        {
         "fill": "toself",
         "hovertemplate": "%{theta}<br>Prob: %{r:.2f}<br>Bookmaker Odds",
         "marker": {
          "color": "rgb(82, 106, 131)"
         },
         "name": "Bookmaker Odds",
         "r": [
          0.4587155963302752,
          0.2857142857142857,
          0.3076923076923077,
          0.5813953488372093,
          0.4716981132075471
         ],
         "subplot": "polar",
         "theta": [
          "Home",
          "Draw",
          "Away",
          "Over",
          "Under"
         ],
         "type": "scatterpolar",
         "visible": false
        },
        {
         "fill": "toself",
         "hovertemplate": "%{theta}<br>Prob: %{r:.2f}<br>Predicted Odds",
         "marker": {
          "color": "rgb(141,211,199)"
         },
         "name": "Predicted Odds",
         "r": [
          0.381892450973925,
          0.25581326724528874,
          0.3622942289154627,
          0.5166090671681246,
          0.4833909328318754
         ],
         "subplot": "polar",
         "theta": [
          "Home",
          "Draw",
          "Away",
          "Over",
          "Under"
         ],
         "type": "scatterpolar",
         "visible": false
        },
        {
         "hovertemplate": "Score %{x}<br>Prob: %{y:.3f}",
         "marker": {
          "color": [
           0.12109681175788951,
           0.08972825808140919,
           0.08696909757648913,
           0.08430832460362364,
           0.08171582805397208,
           0.0644408842740822,
           0.06246934992450212,
           0.058686531217503314,
           0.0568910482185286,
           0.03913063988109436,
           0.03676109198700017,
           0.028994356690094827,
           0.02640525868309728,
           0.026401017083981314,
           0.02559329210268626,
           0.013621492759192607,
           0.01240314682227894,
           0.011878802020445176,
           0.010093022268782,
           0.009191749510086424,
           0.008907670405055242,
           0.008635144998612804,
           0.004135046505783111,
           0.004007893062166574,
           0.0013951595601761847
          ],
          "colorscale": [
           [
            0,
            "rgb(210, 251, 212)"
           ],
           [
            0.16666666666666666,
            "rgb(165, 219, 194)"
           ],
           [
            0.3333333333333333,
            "rgb(123, 188, 176)"
           ],
           [
            0.5,
            "rgb(85, 156, 158)"
           ],
           [
            0.6666666666666666,
            "rgb(58, 124, 137)"
           ],
           [
            0.8333333333333334,
            "rgb(35, 93, 114)"
           ],
           [
            1,
            "rgb(18, 63, 90)"
           ]
          ]
         },
         "name": "Propable Scoreline",
         "type": "bar",
         "visible": false,
         "x": [
          "1 - 1",
          "1 - 0",
          "0 - 1",
          "2 - 1",
          "1 - 2",
          "0 - 0",
          "2 - 0",
          "0 - 2",
          "2 - 2",
          "3 - 1",
          "1 - 3",
          "3 - 0",
          "3 - 2",
          "0 - 3",
          "2 - 3",
          "Other",
          "Other",
          "Other",
          "Other",
          "Other",
          "Other",
          "Other",
          "Other",
          "Other",
          "Other"
         ],
         "xaxis": "x",
         "y": [
          0.12109681175788951,
          0.08972825808140919,
          0.08696909757648913,
          0.08430832460362364,
          0.08171582805397208,
          0.0644408842740822,
          0.06246934992450212,
          0.058686531217503314,
          0.0568910482185286,
          0.03913063988109436,
          0.03676109198700017,
          0.028994356690094827,
          0.02640525868309728,
          0.026401017083981314,
          0.02559329210268626,
          0.013621492759192607,
          0.01240314682227894,
          0.011878802020445176,
          0.010093022268782,
          0.009191749510086424,
          0.008907670405055242,
          0.008635144998612804,
          0.004135046505783111,
          0.004007893062166574,
          0.0013951595601761847
         ],
         "yaxis": "y"
        },
        {
         "fill": "toself",
         "hovertemplate": "%{theta}<br>Prob: %{r:.2f}<br>Bookmaker Odds",
         "marker": {
          "color": "rgb(82, 106, 131)"
         },
         "name": "Bookmaker Odds",
         "r": [
          0.3968253968253968,
          0.29850746268656714,
          0.3546099290780142,
          0.5050505050505051,
          0.5405405405405405
         ],
         "subplot": "polar",
         "theta": [
          "Home",
          "Draw",
          "Away",
          "Over",
          "Under"
         ],
         "type": "scatterpolar",
         "visible": false
        },
        {
         "fill": "toself",
         "hovertemplate": "%{theta}<br>Prob: %{r:.2f}<br>Predicted Odds",
         "marker": {
          "color": "rgb(141,211,199)"
         },
         "name": "Predicted Odds",
         "r": [
          0.34171903816287,
          0.27118229548243467,
          0.38709864763425716,
          0.450112333604873,
          0.549887666395127
         ],
         "subplot": "polar",
         "theta": [
          "Home",
          "Draw",
          "Away",
          "Over",
          "Under"
         ],
         "type": "scatterpolar",
         "visible": false
        },
        {
         "hovertemplate": "Score %{x}<br>Prob: %{y:.3f}",
         "marker": {
          "color": [
           0.12866464552672552,
           0.10805261640126475,
           0.10008023088023388,
           0.08404741451998723,
           0.08270659881035261,
           0.07660430427265509,
           0.06945703194940256,
           0.059585727117513,
           0.04924182112877815,
           0.035442947873124284,
           0.0304057596608314,
           0.02976500059504874,
           0.023650750635401466,
           0.021102007875416745,
           0.019545050277778395,
           0.011391496313530211,
           0.009566582773094644,
           0.009051484404143245,
           0.008375803238642931,
           0.007040587142388922,
           0.00678226443752365,
           0.005818362038670056,
           0.0026920145597766477,
           0.002493391161162522,
           0.0008013852663228807
          ],
          "colorscale": [
           [
            0,
            "rgb(210, 251, 212)"
           ],
           [
            0.16666666666666666,
            "rgb(165, 219, 194)"
           ],
           [
            0.3333333333333333,
            "rgb(123, 188, 176)"
           ],
           [
            0.5,
            "rgb(85, 156, 158)"
           ],
           [
            0.6666666666666666,
            "rgb(58, 124, 137)"
           ],
           [
            0.8333333333333334,
            "rgb(35, 93, 114)"
           ],
           [
            1,
            "rgb(18, 63, 90)"
           ]
          ]
         },
         "name": "Propable Scoreline",
         "type": "bar",
         "visible": false,
         "x": [
          "1 - 1",
          "0 - 1",
          "1 - 0",
          "0 - 0",
          "1 - 2",
          "2 - 1",
          "0 - 2",
          "2 - 0",
          "2 - 2",
          "1 - 3",
          "3 - 1",
          "0 - 3",
          "3 - 0",
          "2 - 3",
          "Other",
          "Other",
          "Other",
          "Other",
          "Other",
          "Other",
          "Other",
          "Other",
          "Other",
          "Other",
          "Other"
         ],
         "xaxis": "x",
         "y": [
          0.12866464552672552,
          0.10805261640126475,
          0.10008023088023388,
          0.08404741451998723,
          0.08270659881035261,
          0.07660430427265509,
          0.06945703194940256,
          0.059585727117513,
          0.04924182112877815,
          0.035442947873124284,
          0.0304057596608314,
          0.02976500059504874,
          0.023650750635401466,
          0.021102007875416745,
          0.019545050277778395,
          0.011391496313530211,
          0.009566582773094644,
          0.009051484404143245,
          0.008375803238642931,
          0.007040587142388922,
          0.00678226443752365,
          0.005818362038670056,
          0.0026920145597766477,
          0.002493391161162522,
          0.0008013852663228807
         ],
         "yaxis": "y"
        },
        {
         "fill": "toself",
         "hovertemplate": "%{theta}<br>Prob: %{r:.2f}<br>Bookmaker Odds",
         "marker": {
          "color": "rgb(82, 106, 131)"
         },
         "name": "Bookmaker Odds",
         "r": [
          0.6896551724137931,
          0.21978021978021978,
          0.14492753623188406,
          0.5405405405405405,
          0.5050505050505051
         ],
         "subplot": "polar",
         "theta": [
          "Home",
          "Draw",
          "Away",
          "Over",
          "Under"
         ],
         "type": "scatterpolar",
         "visible": false
        },
        {
         "fill": "toself",
         "hovertemplate": "%{theta}<br>Prob: %{r:.2f}<br>Predicted Odds",
         "marker": {
          "color": "rgb(141,211,199)"
         },
         "name": "Predicted Odds",
         "r": [
          0.6245033455084582,
          0.22209323018501612,
          0.15340286843451045,
          0.4838566103993116,
          0.5161433896006884
         ],
         "subplot": "polar",
         "theta": [
          "Home",
          "Draw",
          "Away",
          "Over",
          "Under"
         ],
         "type": "scatterpolar",
         "visible": false
        },
        {
         "hovertemplate": "Score %{x}<br>Prob: %{y:.3f}",
         "marker": {
          "color": [
           0.13485315839710038,
           0.12354269347724295,
           0.10476218811539617,
           0.09597552662603374,
           0.07545390998144239,
           0.0735995542019782,
           0.058617215981261024,
           0.057176638902383524,
           0.040692840231473744,
           0.03727983198310821,
           0.03456270280688234,
           0.026850423203057847,
           0.022768720734544234,
           0.022209156506587162,
           0.010537563064772036,
           0.010429526160201628,
           0.009653751822962426,
           0.005896045330816499,
           0.005751144082652269,
           0.002700764778856876,
           0.002046556004307192,
           0.0018749063361171603,
           0.0011451022308743765,
           0.0011169601910460695,
           0.0005245298500626814
          ],
          "colorscale": [
           [
            0,
            "rgb(210, 251, 212)"
           ],
           [
            0.16666666666666666,
            "rgb(165, 219, 194)"
           ],
           [
            0.3333333333333333,
            "rgb(123, 188, 176)"
           ],
           [
            0.5,
            "rgb(85, 156, 158)"
           ],
           [
            0.6666666666666666,
            "rgb(58, 124, 137)"
           ],
           [
            0.8333333333333334,
            "rgb(35, 93, 114)"
           ],
           [
            1,
            "rgb(18, 63, 90)"
           ]
          ]
         },
         "name": "Propable Scoreline",
         "type": "bar",
         "visible": false,
         "x": [
          "1 - 0",
          "2 - 0",
          "1 - 1",
          "2 - 1",
          "3 - 0",
          "0 - 0",
          "3 - 1",
          "0 - 1",
          "1 - 2",
          "2 - 2",
          "4 - 0",
          "4 - 1",
          "3 - 2",
          "0 - 2",
          "Other",
          "Other",
          "Other",
          "Other",
          "Other",
          "Other",
          "Other",
          "Other",
          "Other",
          "Other",
          "Other"
         ],
         "xaxis": "x",
         "y": [
          0.13485315839710038,
          0.12354269347724295,
          0.10476218811539617,
          0.09597552662603374,
          0.07545390998144239,
          0.0735995542019782,
          0.058617215981261024,
          0.057176638902383524,
          0.040692840231473744,
          0.03727983198310821,
          0.03456270280688234,
          0.026850423203057847,
          0.022768720734544234,
          0.022209156506587162,
          0.010537563064772036,
          0.010429526160201628,
          0.009653751822962426,
          0.005896045330816499,
          0.005751144082652269,
          0.002700764778856876,
          0.002046556004307192,
          0.0018749063361171603,
          0.0011451022308743765,
          0.0011169601910460695,
          0.0005245298500626814
         ],
         "yaxis": "y"
        },
        {
         "fill": "toself",
         "hovertemplate": "%{theta}<br>Prob: %{r:.2f}<br>Bookmaker Odds",
         "marker": {
          "color": "rgb(82, 106, 131)"
         },
         "name": "Bookmaker Odds",
         "r": [
          0.6944444444444444,
          0.20833333333333334,
          0.14705882352941177,
          0.6060606060606061,
          0.44052863436123346
         ],
         "subplot": "polar",
         "theta": [
          "Home",
          "Draw",
          "Away",
          "Over",
          "Under"
         ],
         "type": "scatterpolar",
         "visible": false
        },
        {
         "fill": "toself",
         "hovertemplate": "%{theta}<br>Prob: %{r:.2f}<br>Predicted Odds",
         "marker": {
          "color": "rgb(141,211,199)"
         },
         "name": "Predicted Odds",
         "r": [
          0.68887682305748,
          0.18328144949236366,
          0.1278374806119973,
          0.596084685239662,
          0.4039153147603381
         ],
         "subplot": "polar",
         "theta": [
          "Home",
          "Draw",
          "Away",
          "Over",
          "Under"
         ],
         "type": "scatterpolar",
         "visible": false
        },
        {
         "hovertemplate": "Score %{x}<br>Prob: %{y:.3f}",
         "marker": {
          "color": [
           0.11432319039839584,
           0.10213636846396419,
           0.097023338989095,
           0.08668067665065234,
           0.0853094221606228,
           0.07240005248637692,
           0.047744233807798894,
           0.04562432926623888,
           0.0411706858240589,
           0.040519381635221424,
           0.038720269694384746,
           0.036781901577330293,
           0.03072209063941845,
           0.01719391177906527,
           0.016430480286702128,
           0.01164685658031124,
           0.010405304741655519,
           0.0086910328638619,
           0.004864019642545627,
           0.004648051000720124,
           0.0024711016859549732,
           0.002207682898186174,
           0.0018439675816807645,
           0.0010319940883904493,
           0.0009861722418477022
          ],
          "colorscale": [
           [
            0,
            "rgb(210, 251, 212)"
           ],
           [
            0.16666666666666666,
            "rgb(165, 219, 194)"
           ],
           [
            0.3333333333333333,
            "rgb(123, 188, 176)"
           ],
           [
            0.5,
            "rgb(85, 156, 158)"
           ],
           [
            0.6666666666666666,
            "rgb(58, 124, 137)"
           ],
           [
            0.8333333333333334,
            "rgb(35, 93, 114)"
           ],
           [
            1,
            "rgb(18, 63, 90)"
           ]
          ]
         },
         "name": "Propable Scoreline",
         "type": "bar",
         "visible": false,
         "x": [
          "2 - 0",
          "1 - 0",
          "2 - 1",
          "1 - 1",
          "3 - 0",
          "3 - 1",
          "4 - 0",
          "0 - 0",
          "2 - 2",
          "4 - 1",
          "0 - 1",
          "1 - 2",
          "3 - 2",
          "Other",
          "Other",
          "Other",
          "Other",
          "Other",
          "Other",
          "Other",
          "Other",
          "Other",
          "Other",
          "Other",
          "Other"
         ],
         "xaxis": "x",
         "y": [
          0.11432319039839584,
          0.10213636846396419,
          0.097023338989095,
          0.08668067665065234,
          0.0853094221606228,
          0.07240005248637692,
          0.047744233807798894,
          0.04562432926623888,
          0.0411706858240589,
          0.040519381635221424,
          0.038720269694384746,
          0.036781901577330293,
          0.03072209063941845,
          0.01719391177906527,
          0.016430480286702128,
          0.01164685658031124,
          0.010405304741655519,
          0.0086910328638619,
          0.004864019642545627,
          0.004648051000720124,
          0.0024711016859549732,
          0.002207682898186174,
          0.0018439675816807645,
          0.0010319940883904493,
          0.0009861722418477022
         ],
         "yaxis": "y"
        },
        {
         "fill": "toself",
         "hovertemplate": "%{theta}<br>Prob: %{r:.2f}<br>Bookmaker Odds",
         "marker": {
          "color": "rgb(82, 106, 131)"
         },
         "name": "Bookmaker Odds",
         "r": [
          0.1,
          0.1923076923076923,
          0.7575757575757576,
          0.6060606060606061,
          0.4444444444444444
         ],
         "subplot": "polar",
         "theta": [
          "Home",
          "Draw",
          "Away",
          "Over",
          "Under"
         ],
         "type": "scatterpolar",
         "visible": false
        },
        {
         "fill": "toself",
         "hovertemplate": "%{theta}<br>Prob: %{r:.2f}<br>Predicted Odds",
         "marker": {
          "color": "rgb(141,211,199)"
         },
         "name": "Predicted Odds",
         "r": [
          0.07792593619183094,
          0.16579212230078583,
          0.7562778881064878,
          0.5275321759793267,
          0.47246782402067333
         ],
         "subplot": "polar",
         "theta": [
          "Home",
          "Draw",
          "Away",
          "Over",
          "Under"
         ],
         "type": "scatterpolar",
         "visible": false
        },
        {
         "hovertemplate": "Score %{x}<br>Prob: %{y:.3f}",
         "marker": {
          "color": [
           0.15287449954107654,
           0.13721798526112639,
           0.11354494366735884,
           0.08548421492937439,
           0.07672942040334252,
           0.06349195188041273,
           0.0632501869399067,
           0.06158245991203886,
           0.03536817841383213,
           0.034435620425928626,
           0.023900490350020655,
           0.021452741578405776,
           0.017751684149822325,
           0.009888571914428764,
           0.009627838477160413,
           0.0044548843662218715,
           0.0039986411019452255,
           0.003308789863095162,
           0.001843160695898079,
           0.0017945618053971956,
           0.0006227694837772722,
           0.0005589890668657115,
           0.00046255147958303215,
           0.00025766420421737967,
           0.000250870334060195
          ],
          "colorscale": [
           [
            0,
            "rgb(210, 251, 212)"
           ],
           [
            0.16666666666666666,
            "rgb(165, 219, 194)"
           ],
           [
            0.3333333333333333,
            "rgb(123, 188, 176)"
           ],
           [
            0.5,
            "rgb(85, 156, 158)"
           ],
           [
            0.6666666666666666,
            "rgb(58, 124, 137)"
           ],
           [
            0.8333333333333334,
            "rgb(35, 93, 114)"
           ],
           [
            1,
            "rgb(18, 63, 90)"
           ]
          ]
         },
         "name": "Propable Scoreline",
         "type": "bar",
         "visible": false,
         "x": [
          "0 - 2",
          "0 - 1",
          "0 - 3",
          "1 - 2",
          "1 - 1",
          "1 - 3",
          "0 - 4",
          "0 - 0",
          "1 - 4",
          "1 - 0",
          "2 - 2",
          "2 - 1",
          "Other",
          "Other",
          "Other",
          "Other",
          "Other",
          "Other",
          "Other",
          "Other",
          "Other",
          "Other",
          "Other",
          "Other",
          "Other"
         ],
         "xaxis": "x",
         "y": [
          0.15287449954107654,
          0.13721798526112639,
          0.11354494366735884,
          0.08548421492937439,
          0.07672942040334252,
          0.06349195188041273,
          0.0632501869399067,
          0.06158245991203886,
          0.03536817841383213,
          0.034435620425928626,
          0.023900490350020655,
          0.021452741578405776,
          0.017751684149822325,
          0.009888571914428764,
          0.009627838477160413,
          0.0044548843662218715,
          0.0039986411019452255,
          0.003308789863095162,
          0.001843160695898079,
          0.0017945618053971956,
          0.0006227694837772722,
          0.0005589890668657115,
          0.00046255147958303215,
          0.00025766420421737967,
          0.000250870334060195
         ],
         "yaxis": "y"
        },
        {
         "fill": "toself",
         "hovertemplate": "%{theta}<br>Prob: %{r:.2f}<br>Bookmaker Odds",
         "marker": {
          "color": "rgb(82, 106, 131)"
         },
         "name": "Bookmaker Odds",
         "r": [
          0.46511627906976744,
          0.2898550724637681,
          0.29411764705882354,
          0.5235602094240838,
          0.5263157894736842
         ],
         "subplot": "polar",
         "theta": [
          "Home",
          "Draw",
          "Away",
          "Over",
          "Under"
         ],
         "type": "scatterpolar",
         "visible": false
        },
        {
         "fill": "toself",
         "hovertemplate": "%{theta}<br>Prob: %{r:.2f}<br>Predicted Odds",
         "marker": {
          "color": "rgb(141,211,199)"
         },
         "name": "Predicted Odds",
         "r": [
          0.48334845931862835,
          0.25150337968235986,
          0.2651480471162593,
          0.4982956871229821,
          0.5017043128770179
         ],
         "subplot": "polar",
         "theta": [
          "Home",
          "Draw",
          "Away",
          "Over",
          "Under"
         ],
         "type": "scatterpolar",
         "visible": false
        },
        {
         "hovertemplate": "Score %{x}<br>Prob: %{y:.3f}",
         "marker": {
          "color": [
           0.11958736710477175,
           0.10912385617762202,
           0.09395192223872581,
           0.08573143048636242,
           0.07610881198743956,
           0.06944953513267567,
           0.06552709403786709,
           0.05148032432373629,
           0.04920789381049022,
           0.044902360984962,
           0.041703311988146446,
           0.026963134678769173,
           0.0239367538394789,
           0.01932970147575972,
           0.01880553180340491,
           0.017638414615727467,
           0.015234033005864452,
           0.010591580005405648,
           0.009849512282254455,
           0.006557991691658474,
           0.005152182378236521,
           0.004173692997508176,
           0.003869056717424882,
           0.0026984870274004958,
           0.0010600118118597888
          ],
          "colorscale": [
           [
            0,
            "rgb(210, 251, 212)"
           ],
           [
            0.16666666666666666,
            "rgb(165, 219, 194)"
           ],
           [
            0.3333333333333333,
            "rgb(123, 188, 176)"
           ],
           [
            0.5,
            "rgb(85, 156, 158)"
           ],
           [
            0.6666666666666666,
            "rgb(58, 124, 137)"
           ],
           [
            0.8333333333333334,
            "rgb(35, 93, 114)"
           ],
           [
            1,
            "rgb(18, 63, 90)"
           ]
          ]
         },
         "name": "Propable Scoreline",
         "type": "bar",
         "visible": false,
         "x": [
          "1 - 1",
          "1 - 0",
          "2 - 1",
          "2 - 0",
          "0 - 1",
          "0 - 0",
          "1 - 2",
          "2 - 2",
          "3 - 1",
          "3 - 0",
          "0 - 2",
          "3 - 2",
          "1 - 3",
          "Other",
          "Other",
          "Other",
          "Other",
          "Other",
          "Other",
          "Other",
          "Other",
          "Other",
          "Other",
          "Other",
          "Other"
         ],
         "xaxis": "x",
         "y": [
          0.11958736710477175,
          0.10912385617762202,
          0.09395192223872581,
          0.08573143048636242,
          0.07610881198743956,
          0.06944953513267567,
          0.06552709403786709,
          0.05148032432373629,
          0.04920789381049022,
          0.044902360984962,
          0.041703311988146446,
          0.026963134678769173,
          0.0239367538394789,
          0.01932970147575972,
          0.01880553180340491,
          0.017638414615727467,
          0.015234033005864452,
          0.010591580005405648,
          0.009849512282254455,
          0.006557991691658474,
          0.005152182378236521,
          0.004173692997508176,
          0.003869056717424882,
          0.0026984870274004958,
          0.0010600118118597888
         ],
         "yaxis": "y"
        },
        {
         "fill": "toself",
         "hovertemplate": "%{theta}<br>Prob: %{r:.2f}<br>Bookmaker Odds",
         "marker": {
          "color": "rgb(82, 106, 131)"
         },
         "name": "Bookmaker Odds",
         "r": [
          0.5319148936170213,
          0.27027027027027023,
          0.2469135802469136,
          0.6172839506172839,
          0.4310344827586207
         ],
         "subplot": "polar",
         "theta": [
          "Home",
          "Draw",
          "Away",
          "Over",
          "Under"
         ],
         "type": "scatterpolar",
         "visible": false
        },
        {
         "fill": "toself",
         "hovertemplate": "%{theta}<br>Prob: %{r:.2f}<br>Predicted Odds",
         "marker": {
          "color": "rgb(141,211,199)"
         },
         "name": "Predicted Odds",
         "r": [
          0.5681426633727811,
          0.20036251968054172,
          0.23149049622164294,
          0.7019529962466575,
          0.2980470037533425
         ],
         "subplot": "polar",
         "theta": [
          "Home",
          "Draw",
          "Away",
          "Over",
          "Under"
         ],
         "type": "scatterpolar",
         "visible": false
        },
        {
         "hovertemplate": "Score %{x}<br>Prob: %{y:.3f}",
         "marker": {
          "color": [
           0.09256919447058543,
           0.0826143636574592,
           0.06914903886417469,
           0.06680284984134974,
           0.0641369027315731,
           0.059618914928568086,
           0.0572396620326317,
           0.04990162101264642,
           0.047910162824443686,
           0.038740665319485924,
           0.03686503442943784,
           0.029624990729188193,
           0.02795732276695954,
           0.026841610727657682,
           0.02660376784599182,
           0.026439138543305644,
           0.025542073050535807,
           0.022129820260393302,
           0.012398205012975899,
           0.01179794541207044,
           0.010262891233354393,
           0.009159226602092821,
           0.007666363187156429,
           0.004295070695554192,
           0.004087124672813335
          ],
          "colorscale": [
           [
            0,
            "rgb(210, 251, 212)"
           ],
           [
            0.16666666666666666,
            "rgb(165, 219, 194)"
           ],
           [
            0.3333333333333333,
            "rgb(123, 188, 176)"
           ],
           [
            0.5,
            "rgb(85, 156, 158)"
           ],
           [
            0.6666666666666666,
            "rgb(58, 124, 137)"
           ],
           [
            0.8333333333333334,
            "rgb(35, 93, 114)"
           ],
           [
            1,
            "rgb(18, 63, 90)"
           ]
          ]
         },
         "name": "Propable Scoreline",
         "type": "bar",
         "visible": false,
         "x": [
          "2 - 1",
          "1 - 1",
          "3 - 1",
          "2 - 0",
          "2 - 2",
          "1 - 0",
          "1 - 2",
          "3 - 0",
          "3 - 2",
          "4 - 1",
          "0 - 1",
          "2 - 3",
          "4 - 0",
          "4 - 2",
          "0 - 0",
          "1 - 3",
          "0 - 2",
          "3 - 3",
          "Other",
          "Other",
          "Other",
          "Other",
          "Other",
          "Other",
          "Other"
         ],
         "xaxis": "x",
         "y": [
          0.09256919447058543,
          0.0826143636574592,
          0.06914903886417469,
          0.06680284984134974,
          0.0641369027315731,
          0.059618914928568086,
          0.0572396620326317,
          0.04990162101264642,
          0.047910162824443686,
          0.038740665319485924,
          0.03686503442943784,
          0.029624990729188193,
          0.02795732276695954,
          0.026841610727657682,
          0.02660376784599182,
          0.026439138543305644,
          0.025542073050535807,
          0.022129820260393302,
          0.012398205012975899,
          0.01179794541207044,
          0.010262891233354393,
          0.009159226602092821,
          0.007666363187156429,
          0.004295070695554192,
          0.004087124672813335
         ],
         "yaxis": "y"
        },
        {
         "fill": "toself",
         "hovertemplate": "%{theta}<br>Prob: %{r:.2f}<br>Bookmaker Odds",
         "marker": {
          "color": "rgb(82, 106, 131)"
         },
         "name": "Bookmaker Odds",
         "r": [
          0.2061855670103093,
          0.23529411764705882,
          0.6060606060606061,
          0.6666666666666666,
          0.38167938931297707
         ],
         "subplot": "polar",
         "theta": [
          "Home",
          "Draw",
          "Away",
          "Over",
          "Under"
         ],
         "type": "scatterpolar",
         "visible": false
        },
        {
         "fill": "toself",
         "hovertemplate": "%{theta}<br>Prob: %{r:.2f}<br>Predicted Odds",
         "marker": {
          "color": "rgb(141,211,199)"
         },
         "name": "Predicted Odds",
         "r": [
          0.23018969292642522,
          0.23786802894456635,
          0.5319419776159768,
          0.5249786236570899,
          0.47502137634291003
         ],
         "subplot": "polar",
         "theta": [
          "Home",
          "Draw",
          "Away",
          "Over",
          "Under"
         ],
         "type": "scatterpolar",
         "visible": false
        },
        {
         "hovertemplate": "Score %{x}<br>Prob: %{y:.3f}",
         "marker": {
          "color": [
           0.11287827412782682,
           0.1074314843727295,
           0.09741508522205512,
           0.0927144509124044,
           0.06539800658713635,
           0.06224231347404693,
           0.05930060840391372,
           0.056046798507176775,
           0.05334233540058115,
           0.05117702114089004,
           0.03435684686876605,
           0.029444189116529094,
           0.024184475246392983,
           0.023017485823297393,
           0.02076905223345318,
           0.017923900847491705,
           0.012705315589928448,
           0.012032914440504474,
           0.010312337734675025,
           0.005455511447764145,
           0.004708161218092441,
           0.004449825562199723,
           0.003160746178605186,
           0.0027087936383592896,
           0.0011688580693168119
          ],
          "colorscale": [
           [
            0,
            "rgb(210, 251, 212)"
           ],
           [
            0.16666666666666666,
            "rgb(165, 219, 194)"
           ],
           [
            0.3333333333333333,
            "rgb(123, 188, 176)"
           ],
           [
            0.5,
            "rgb(85, 156, 158)"
           ],
           [
            0.6666666666666666,
            "rgb(58, 124, 137)"
           ],
           [
            0.8333333333333334,
            "rgb(35, 93, 114)"
           ],
           [
            1,
            "rgb(18, 63, 90)"
           ]
          ]
         },
         "name": "Propable Scoreline",
         "type": "bar",
         "visible": false,
         "x": [
          "1 - 1",
          "0 - 1",
          "1 - 2",
          "0 - 2",
          "1 - 0",
          "0 - 0",
          "2 - 1",
          "1 - 3",
          "0 - 3",
          "2 - 2",
          "2 - 0",
          "2 - 3",
          "1 - 4",
          "0 - 4",
          "3 - 1",
          "Other",
          "Other",
          "Other",
          "Other",
          "Other",
          "Other",
          "Other",
          "Other",
          "Other",
          "Other"
         ],
         "xaxis": "x",
         "y": [
          0.11287827412782682,
          0.1074314843727295,
          0.09741508522205512,
          0.0927144509124044,
          0.06539800658713635,
          0.06224231347404693,
          0.05930060840391372,
          0.056046798507176775,
          0.05334233540058115,
          0.05117702114089004,
          0.03435684686876605,
          0.029444189116529094,
          0.024184475246392983,
          0.023017485823297393,
          0.02076905223345318,
          0.017923900847491705,
          0.012705315589928448,
          0.012032914440504474,
          0.010312337734675025,
          0.005455511447764145,
          0.004708161218092441,
          0.004449825562199723,
          0.003160746178605186,
          0.0027087936383592896,
          0.0011688580693168119
         ],
         "yaxis": "y"
        }
       ],
       "layout": {
        "height": 650,
        "polar": {
         "domain": {
          "x": [
           0,
           0.29700000000000004
          ],
          "y": [
           0,
           1
          ]
         }
        },
        "template": {
         "data": {
          "bar": [
           {
            "error_x": {
             "color": "#2a3f5f"
            },
            "error_y": {
             "color": "#2a3f5f"
            },
            "marker": {
             "line": {
              "color": "#E5ECF6",
              "width": 0.5
             },
             "pattern": {
              "fillmode": "overlay",
              "size": 10,
              "solidity": 0.2
             }
            },
            "type": "bar"
           }
          ],
          "barpolar": [
           {
            "marker": {
             "line": {
              "color": "#E5ECF6",
              "width": 0.5
             },
             "pattern": {
              "fillmode": "overlay",
              "size": 10,
              "solidity": 0.2
             }
            },
            "type": "barpolar"
           }
          ],
          "carpet": [
           {
            "aaxis": {
             "endlinecolor": "#2a3f5f",
             "gridcolor": "white",
             "linecolor": "white",
             "minorgridcolor": "white",
             "startlinecolor": "#2a3f5f"
            },
            "baxis": {
             "endlinecolor": "#2a3f5f",
             "gridcolor": "white",
             "linecolor": "white",
             "minorgridcolor": "white",
             "startlinecolor": "#2a3f5f"
            },
            "type": "carpet"
           }
          ],
          "choropleth": [
           {
            "colorbar": {
             "outlinewidth": 0,
             "ticks": ""
            },
            "type": "choropleth"
           }
          ],
          "contour": [
           {
            "colorbar": {
             "outlinewidth": 0,
             "ticks": ""
            },
            "colorscale": [
             [
              0,
              "#0d0887"
             ],
             [
              0.1111111111111111,
              "#46039f"
             ],
             [
              0.2222222222222222,
              "#7201a8"
             ],
             [
              0.3333333333333333,
              "#9c179e"
             ],
             [
              0.4444444444444444,
              "#bd3786"
             ],
             [
              0.5555555555555556,
              "#d8576b"
             ],
             [
              0.6666666666666666,
              "#ed7953"
             ],
             [
              0.7777777777777778,
              "#fb9f3a"
             ],
             [
              0.8888888888888888,
              "#fdca26"
             ],
             [
              1,
              "#f0f921"
             ]
            ],
            "type": "contour"
           }
          ],
          "contourcarpet": [
           {
            "colorbar": {
             "outlinewidth": 0,
             "ticks": ""
            },
            "type": "contourcarpet"
           }
          ],
          "heatmap": [
           {
            "colorbar": {
             "outlinewidth": 0,
             "ticks": ""
            },
            "colorscale": [
             [
              0,
              "#0d0887"
             ],
             [
              0.1111111111111111,
              "#46039f"
             ],
             [
              0.2222222222222222,
              "#7201a8"
             ],
             [
              0.3333333333333333,
              "#9c179e"
             ],
             [
              0.4444444444444444,
              "#bd3786"
             ],
             [
              0.5555555555555556,
              "#d8576b"
             ],
             [
              0.6666666666666666,
              "#ed7953"
             ],
             [
              0.7777777777777778,
              "#fb9f3a"
             ],
             [
              0.8888888888888888,
              "#fdca26"
             ],
             [
              1,
              "#f0f921"
             ]
            ],
            "type": "heatmap"
           }
          ],
          "heatmapgl": [
           {
            "colorbar": {
             "outlinewidth": 0,
             "ticks": ""
            },
            "colorscale": [
             [
              0,
              "#0d0887"
             ],
             [
              0.1111111111111111,
              "#46039f"
             ],
             [
              0.2222222222222222,
              "#7201a8"
             ],
             [
              0.3333333333333333,
              "#9c179e"
             ],
             [
              0.4444444444444444,
              "#bd3786"
             ],
             [
              0.5555555555555556,
              "#d8576b"
             ],
             [
              0.6666666666666666,
              "#ed7953"
             ],
             [
              0.7777777777777778,
              "#fb9f3a"
             ],
             [
              0.8888888888888888,
              "#fdca26"
             ],
             [
              1,
              "#f0f921"
             ]
            ],
            "type": "heatmapgl"
           }
          ],
          "histogram": [
           {
            "marker": {
             "pattern": {
              "fillmode": "overlay",
              "size": 10,
              "solidity": 0.2
             }
            },
            "type": "histogram"
           }
          ],
          "histogram2d": [
           {
            "colorbar": {
             "outlinewidth": 0,
             "ticks": ""
            },
            "colorscale": [
             [
              0,
              "#0d0887"
             ],
             [
              0.1111111111111111,
              "#46039f"
             ],
             [
              0.2222222222222222,
              "#7201a8"
             ],
             [
              0.3333333333333333,
              "#9c179e"
             ],
             [
              0.4444444444444444,
              "#bd3786"
             ],
             [
              0.5555555555555556,
              "#d8576b"
             ],
             [
              0.6666666666666666,
              "#ed7953"
             ],
             [
              0.7777777777777778,
              "#fb9f3a"
             ],
             [
              0.8888888888888888,
              "#fdca26"
             ],
             [
              1,
              "#f0f921"
             ]
            ],
            "type": "histogram2d"
           }
          ],
          "histogram2dcontour": [
           {
            "colorbar": {
             "outlinewidth": 0,
             "ticks": ""
            },
            "colorscale": [
             [
              0,
              "#0d0887"
             ],
             [
              0.1111111111111111,
              "#46039f"
             ],
             [
              0.2222222222222222,
              "#7201a8"
             ],
             [
              0.3333333333333333,
              "#9c179e"
             ],
             [
              0.4444444444444444,
              "#bd3786"
             ],
             [
              0.5555555555555556,
              "#d8576b"
             ],
             [
              0.6666666666666666,
              "#ed7953"
             ],
             [
              0.7777777777777778,
              "#fb9f3a"
             ],
             [
              0.8888888888888888,
              "#fdca26"
             ],
             [
              1,
              "#f0f921"
             ]
            ],
            "type": "histogram2dcontour"
           }
          ],
          "mesh3d": [
           {
            "colorbar": {
             "outlinewidth": 0,
             "ticks": ""
            },
            "type": "mesh3d"
           }
          ],
          "parcoords": [
           {
            "line": {
             "colorbar": {
              "outlinewidth": 0,
              "ticks": ""
             }
            },
            "type": "parcoords"
           }
          ],
          "pie": [
           {
            "automargin": true,
            "type": "pie"
           }
          ],
          "scatter": [
           {
            "fillpattern": {
             "fillmode": "overlay",
             "size": 10,
             "solidity": 0.2
            },
            "type": "scatter"
           }
          ],
          "scatter3d": [
           {
            "line": {
             "colorbar": {
              "outlinewidth": 0,
              "ticks": ""
             }
            },
            "marker": {
             "colorbar": {
              "outlinewidth": 0,
              "ticks": ""
             }
            },
            "type": "scatter3d"
           }
          ],
          "scattercarpet": [
           {
            "marker": {
             "colorbar": {
              "outlinewidth": 0,
              "ticks": ""
             }
            },
            "type": "scattercarpet"
           }
          ],
          "scattergeo": [
           {
            "marker": {
             "colorbar": {
              "outlinewidth": 0,
              "ticks": ""
             }
            },
            "type": "scattergeo"
           }
          ],
          "scattergl": [
           {
            "marker": {
             "colorbar": {
              "outlinewidth": 0,
              "ticks": ""
             }
            },
            "type": "scattergl"
           }
          ],
          "scattermapbox": [
           {
            "marker": {
             "colorbar": {
              "outlinewidth": 0,
              "ticks": ""
             }
            },
            "type": "scattermapbox"
           }
          ],
          "scatterpolar": [
           {
            "marker": {
             "colorbar": {
              "outlinewidth": 0,
              "ticks": ""
             }
            },
            "type": "scatterpolar"
           }
          ],
          "scatterpolargl": [
           {
            "marker": {
             "colorbar": {
              "outlinewidth": 0,
              "ticks": ""
             }
            },
            "type": "scatterpolargl"
           }
          ],
          "scatterternary": [
           {
            "marker": {
             "colorbar": {
              "outlinewidth": 0,
              "ticks": ""
             }
            },
            "type": "scatterternary"
           }
          ],
          "surface": [
           {
            "colorbar": {
             "outlinewidth": 0,
             "ticks": ""
            },
            "colorscale": [
             [
              0,
              "#0d0887"
             ],
             [
              0.1111111111111111,
              "#46039f"
             ],
             [
              0.2222222222222222,
              "#7201a8"
             ],
             [
              0.3333333333333333,
              "#9c179e"
             ],
             [
              0.4444444444444444,
              "#bd3786"
             ],
             [
              0.5555555555555556,
              "#d8576b"
             ],
             [
              0.6666666666666666,
              "#ed7953"
             ],
             [
              0.7777777777777778,
              "#fb9f3a"
             ],
             [
              0.8888888888888888,
              "#fdca26"
             ],
             [
              1,
              "#f0f921"
             ]
            ],
            "type": "surface"
           }
          ],
          "table": [
           {
            "cells": {
             "fill": {
              "color": "#EBF0F8"
             },
             "line": {
              "color": "white"
             }
            },
            "header": {
             "fill": {
              "color": "#C8D4E3"
             },
             "line": {
              "color": "white"
             }
            },
            "type": "table"
           }
          ]
         },
         "layout": {
          "annotationdefaults": {
           "arrowcolor": "#2a3f5f",
           "arrowhead": 0,
           "arrowwidth": 1
          },
          "autotypenumbers": "strict",
          "coloraxis": {
           "colorbar": {
            "outlinewidth": 0,
            "ticks": ""
           }
          },
          "colorscale": {
           "diverging": [
            [
             0,
             "#8e0152"
            ],
            [
             0.1,
             "#c51b7d"
            ],
            [
             0.2,
             "#de77ae"
            ],
            [
             0.3,
             "#f1b6da"
            ],
            [
             0.4,
             "#fde0ef"
            ],
            [
             0.5,
             "#f7f7f7"
            ],
            [
             0.6,
             "#e6f5d0"
            ],
            [
             0.7,
             "#b8e186"
            ],
            [
             0.8,
             "#7fbc41"
            ],
            [
             0.9,
             "#4d9221"
            ],
            [
             1,
             "#276419"
            ]
           ],
           "sequential": [
            [
             0,
             "#0d0887"
            ],
            [
             0.1111111111111111,
             "#46039f"
            ],
            [
             0.2222222222222222,
             "#7201a8"
            ],
            [
             0.3333333333333333,
             "#9c179e"
            ],
            [
             0.4444444444444444,
             "#bd3786"
            ],
            [
             0.5555555555555556,
             "#d8576b"
            ],
            [
             0.6666666666666666,
             "#ed7953"
            ],
            [
             0.7777777777777778,
             "#fb9f3a"
            ],
            [
             0.8888888888888888,
             "#fdca26"
            ],
            [
             1,
             "#f0f921"
            ]
           ],
           "sequentialminus": [
            [
             0,
             "#0d0887"
            ],
            [
             0.1111111111111111,
             "#46039f"
            ],
            [
             0.2222222222222222,
             "#7201a8"
            ],
            [
             0.3333333333333333,
             "#9c179e"
            ],
            [
             0.4444444444444444,
             "#bd3786"
            ],
            [
             0.5555555555555556,
             "#d8576b"
            ],
            [
             0.6666666666666666,
             "#ed7953"
            ],
            [
             0.7777777777777778,
             "#fb9f3a"
            ],
            [
             0.8888888888888888,
             "#fdca26"
            ],
            [
             1,
             "#f0f921"
            ]
           ]
          },
          "colorway": [
           "#636efa",
           "#EF553B",
           "#00cc96",
           "#ab63fa",
           "#FFA15A",
           "#19d3f3",
           "#FF6692",
           "#B6E880",
           "#FF97FF",
           "#FECB52"
          ],
          "font": {
           "color": "#2a3f5f"
          },
          "geo": {
           "bgcolor": "white",
           "lakecolor": "white",
           "landcolor": "#E5ECF6",
           "showlakes": true,
           "showland": true,
           "subunitcolor": "white"
          },
          "hoverlabel": {
           "align": "left"
          },
          "hovermode": "closest",
          "mapbox": {
           "style": "light"
          },
          "paper_bgcolor": "white",
          "plot_bgcolor": "#E5ECF6",
          "polar": {
           "angularaxis": {
            "gridcolor": "white",
            "linecolor": "white",
            "ticks": ""
           },
           "bgcolor": "#E5ECF6",
           "radialaxis": {
            "gridcolor": "white",
            "linecolor": "white",
            "ticks": ""
           }
          },
          "scene": {
           "xaxis": {
            "backgroundcolor": "#E5ECF6",
            "gridcolor": "white",
            "gridwidth": 2,
            "linecolor": "white",
            "showbackground": true,
            "ticks": "",
            "zerolinecolor": "white"
           },
           "yaxis": {
            "backgroundcolor": "#E5ECF6",
            "gridcolor": "white",
            "gridwidth": 2,
            "linecolor": "white",
            "showbackground": true,
            "ticks": "",
            "zerolinecolor": "white"
           },
           "zaxis": {
            "backgroundcolor": "#E5ECF6",
            "gridcolor": "white",
            "gridwidth": 2,
            "linecolor": "white",
            "showbackground": true,
            "ticks": "",
            "zerolinecolor": "white"
           }
          },
          "shapedefaults": {
           "line": {
            "color": "#2a3f5f"
           }
          },
          "ternary": {
           "aaxis": {
            "gridcolor": "white",
            "linecolor": "white",
            "ticks": ""
           },
           "baxis": {
            "gridcolor": "white",
            "linecolor": "white",
            "ticks": ""
           },
           "bgcolor": "#E5ECF6",
           "caxis": {
            "gridcolor": "white",
            "linecolor": "white",
            "ticks": ""
           }
          },
          "title": {
           "x": 0.05
          },
          "xaxis": {
           "automargin": true,
           "gridcolor": "white",
           "linecolor": "white",
           "ticks": "",
           "title": {
            "standoff": 15
           },
           "zerolinecolor": "white",
           "zerolinewidth": 2
          },
          "yaxis": {
           "automargin": true,
           "gridcolor": "white",
           "linecolor": "white",
           "ticks": "",
           "title": {
            "standoff": 15
           },
           "zerolinecolor": "white",
           "zerolinewidth": 2
          }
         }
        },
        "updatemenus": [
         {
          "active": 0,
          "buttons": [
           {
            "args": [
             {
              "visible": [
               true,
               true,
               true,
               false,
               false,
               false,
               false,
               false,
               false,
               false,
               false,
               false,
               false,
               false,
               false,
               false,
               false,
               false,
               false,
               false,
               false,
               false,
               false,
               false,
               false,
               false,
               false,
               false,
               false,
               false,
               false,
               false,
               false,
               false,
               false,
               false,
               false,
               false,
               false,
               false,
               false,
               false,
               false,
               false,
               false,
               false,
               false,
               false,
               false,
               false,
               false,
               false,
               false,
               false,
               false,
               false,
               false,
               false,
               false,
               false
              ]
             }
            ],
            "label": "Bournemouth-Chelsea",
            "method": "restyle"
           },
           {
            "args": [
             {
              "visible": [
               false,
               false,
               false,
               true,
               true,
               true,
               false,
               false,
               false,
               false,
               false,
               false,
               false,
               false,
               false,
               false,
               false,
               false,
               false,
               false,
               false,
               false,
               false,
               false,
               false,
               false,
               false,
               false,
               false,
               false,
               false,
               false,
               false,
               false,
               false,
               false,
               false,
               false,
               false,
               false,
               false,
               false,
               false,
               false,
               false,
               false,
               false,
               false,
               false,
               false,
               false,
               false,
               false,
               false,
               false,
               false,
               false,
               false,
               false,
               false
              ]
             }
            ],
            "label": "Manchester City-Leeds",
            "method": "restyle"
           },
           {
            "args": [
             {
              "visible": [
               false,
               false,
               false,
               false,
               false,
               false,
               true,
               true,
               true,
               false,
               false,
               false,
               false,
               false,
               false,
               false,
               false,
               false,
               false,
               false,
               false,
               false,
               false,
               false,
               false,
               false,
               false,
               false,
               false,
               false,
               false,
               false,
               false,
               false,
               false,
               false,
               false,
               false,
               false,
               false,
               false,
               false,
               false,
               false,
               false,
               false,
               false,
               false,
               false,
               false,
               false,
               false,
               false,
               false,
               false,
               false,
               false,
               false,
               false,
               false
              ]
             }
            ],
            "label": "Tottenham-Crystal Palace",
            "method": "restyle"
           },
           {
            "args": [
             {
              "visible": [
               false,
               false,
               false,
               false,
               false,
               false,
               false,
               false,
               false,
               true,
               true,
               true,
               false,
               false,
               false,
               false,
               false,
               false,
               false,
               false,
               false,
               false,
               false,
               false,
               false,
               false,
               false,
               false,
               false,
               false,
               false,
               false,
               false,
               false,
               false,
               false,
               false,
               false,
               false,
               false,
               false,
               false,
               false,
               false,
               false,
               false,
               false,
               false,
               false,
               false,
               false,
               false,
               false,
               false,
               false,
               false,
               false,
               false,
               false,
               false
              ]
             }
            ],
            "label": "Wolverhampton Wanderers-Aston Villa",
            "method": "restyle"
           },
           {
            "args": [
             {
              "visible": [
               false,
               false,
               false,
               false,
               false,
               false,
               false,
               false,
               false,
               false,
               false,
               false,
               true,
               true,
               true,
               false,
               false,
               false,
               false,
               false,
               false,
               false,
               false,
               false,
               false,
               false,
               false,
               false,
               false,
               false,
               false,
               false,
               false,
               false,
               false,
               false,
               false,
               false,
               false,
               false,
               false,
               false,
               false,
               false,
               false,
               false,
               false,
               false,
               false,
               false,
               false,
               false,
               false,
               false,
               false,
               false,
               false,
               false,
               false,
               false
              ]
             }
            ],
            "label": "Liverpool-Brentford",
            "method": "restyle"
           },
           {
            "args": [
             {
              "visible": [
               false,
               false,
               false,
               false,
               false,
               false,
               false,
               false,
               false,
               false,
               false,
               false,
               false,
               false,
               false,
               true,
               true,
               true,
               false,
               false,
               false,
               false,
               false,
               false,
               false,
               false,
               false,
               false,
               false,
               false,
               false,
               false,
               false,
               false,
               false,
               false,
               false,
               false,
               false,
               false,
               false,
               false,
               false,
               false,
               false,
               false,
               false,
               false,
               false,
               false,
               false,
               false,
               false,
               false,
               false,
               false,
               false,
               false,
               false,
               false
              ]
             }
            ],
            "label": "Newcastle United-Arsenal",
            "method": "restyle"
           },
           {
            "args": [
             {
              "visible": [
               false,
               false,
               false,
               false,
               false,
               false,
               false,
               false,
               false,
               false,
               false,
               false,
               false,
               false,
               false,
               false,
               false,
               false,
               true,
               true,
               true,
               false,
               false,
               false,
               false,
               false,
               false,
               false,
               false,
               false,
               false,
               false,
               false,
               false,
               false,
               false,
               false,
               false,
               false,
               false,
               false,
               false,
               false,
               false,
               false,
               false,
               false,
               false,
               false,
               false,
               false,
               false,
               false,
               false,
               false,
               false,
               false,
               false,
               false,
               false
              ]
             }
            ],
            "label": "West Ham-Manchester United",
            "method": "restyle"
           },
           {
            "args": [
             {
              "visible": [
               false,
               false,
               false,
               false,
               false,
               false,
               false,
               false,
               false,
               false,
               false,
               false,
               false,
               false,
               false,
               false,
               false,
               false,
               false,
               false,
               false,
               true,
               true,
               true,
               false,
               false,
               false,
               false,
               false,
               false,
               false,
               false,
               false,
               false,
               false,
               false,
               false,
               false,
               false,
               false,
               false,
               false,
               false,
               false,
               false,
               false,
               false,
               false,
               false,
               false,
               false,
               false,
               false,
               false,
               false,
               false,
               false,
               false,
               false,
               false
              ]
             }
            ],
            "label": "Fulham-Leicester",
            "method": "restyle"
           },
           {
            "args": [
             {
              "visible": [
               false,
               false,
               false,
               false,
               false,
               false,
               false,
               false,
               false,
               false,
               false,
               false,
               false,
               false,
               false,
               false,
               false,
               false,
               false,
               false,
               false,
               false,
               false,
               false,
               true,
               true,
               true,
               false,
               false,
               false,
               false,
               false,
               false,
               false,
               false,
               false,
               false,
               false,
               false,
               false,
               false,
               false,
               false,
               false,
               false,
               false,
               false,
               false,
               false,
               false,
               false,
               false,
               false,
               false,
               false,
               false,
               false,
               false,
               false,
               false
              ]
             }
            ],
            "label": "Brighton-Everton",
            "method": "restyle"
           },
           {
            "args": [
             {
              "visible": [
               false,
               false,
               false,
               false,
               false,
               false,
               false,
               false,
               false,
               false,
               false,
               false,
               false,
               false,
               false,
               false,
               false,
               false,
               false,
               false,
               false,
               false,
               false,
               false,
               false,
               false,
               false,
               true,
               true,
               true,
               false,
               false,
               false,
               false,
               false,
               false,
               false,
               false,
               false,
               false,
               false,
               false,
               false,
               false,
               false,
               false,
               false,
               false,
               false,
               false,
               false,
               false,
               false,
               false,
               false,
               false,
               false,
               false,
               false,
               false
              ]
             }
            ],
            "label": "Nottingham Forest-Southampton",
            "method": "restyle"
           },
           {
            "args": [
             {
              "visible": [
               false,
               false,
               false,
               false,
               false,
               false,
               false,
               false,
               false,
               false,
               false,
               false,
               false,
               false,
               false,
               false,
               false,
               false,
               false,
               false,
               false,
               false,
               false,
               false,
               false,
               false,
               false,
               false,
               false,
               false,
               true,
               true,
               true,
               false,
               false,
               false,
               false,
               false,
               false,
               false,
               false,
               false,
               false,
               false,
               false,
               false,
               false,
               false,
               false,
               false,
               false,
               false,
               false,
               false,
               false,
               false,
               false,
               false,
               false,
               false
              ]
             }
            ],
            "label": "Leeds-Newcastle United",
            "method": "restyle"
           },
           {
            "args": [
             {
              "visible": [
               false,
               false,
               false,
               false,
               false,
               false,
               false,
               false,
               false,
               false,
               false,
               false,
               false,
               false,
               false,
               false,
               false,
               false,
               false,
               false,
               false,
               false,
               false,
               false,
               false,
               false,
               false,
               false,
               false,
               false,
               false,
               false,
               false,
               true,
               true,
               true,
               false,
               false,
               false,
               false,
               false,
               false,
               false,
               false,
               false,
               false,
               false,
               false,
               false,
               false,
               false,
               false,
               false,
               false,
               false,
               false,
               false,
               false,
               false,
               false
              ]
             }
            ],
            "label": "Crystal Palace-Bournemouth",
            "method": "restyle"
           },
           {
            "args": [
             {
              "visible": [
               false,
               false,
               false,
               false,
               false,
               false,
               false,
               false,
               false,
               false,
               false,
               false,
               false,
               false,
               false,
               false,
               false,
               false,
               false,
               false,
               false,
               false,
               false,
               false,
               false,
               false,
               false,
               false,
               false,
               false,
               false,
               false,
               false,
               false,
               false,
               false,
               true,
               true,
               true,
               false,
               false,
               false,
               false,
               false,
               false,
               false,
               false,
               false,
               false,
               false,
               false,
               false,
               false,
               false,
               false,
               false,
               false,
               false,
               false,
               false
              ]
             }
            ],
            "label": "Aston Villa-Tottenham",
            "method": "restyle"
           },
           {
            "args": [
             {
              "visible": [
               false,
               false,
               false,
               false,
               false,
               false,
               false,
               false,
               false,
               false,
               false,
               false,
               false,
               false,
               false,
               false,
               false,
               false,
               false,
               false,
               false,
               false,
               false,
               false,
               false,
               false,
               false,
               false,
               false,
               false,
               false,
               false,
               false,
               false,
               false,
               false,
               false,
               false,
               false,
               true,
               true,
               true,
               false,
               false,
               false,
               false,
               false,
               false,
               false,
               false,
               false,
               false,
               false,
               false,
               false,
               false,
               false,
               false,
               false,
               false
              ]
             }
            ],
            "label": "Southampton-Fulham",
            "method": "restyle"
           },
           {
            "args": [
             {
              "visible": [
               false,
               false,
               false,
               false,
               false,
               false,
               false,
               false,
               false,
               false,
               false,
               false,
               false,
               false,
               false,
               false,
               false,
               false,
               false,
               false,
               false,
               false,
               false,
               false,
               false,
               false,
               false,
               false,
               false,
               false,
               false,
               false,
               false,
               false,
               false,
               false,
               false,
               false,
               false,
               false,
               false,
               false,
               true,
               true,
               true,
               false,
               false,
               false,
               false,
               false,
               false,
               false,
               false,
               false,
               false,
               false,
               false,
               false,
               false,
               false
              ]
             }
            ],
            "label": "Chelsea-Nottingham Forest",
            "method": "restyle"
           },
           {
            "args": [
             {
              "visible": [
               false,
               false,
               false,
               false,
               false,
               false,
               false,
               false,
               false,
               false,
               false,
               false,
               false,
               false,
               false,
               false,
               false,
               false,
               false,
               false,
               false,
               false,
               false,
               false,
               false,
               false,
               false,
               false,
               false,
               false,
               false,
               false,
               false,
               false,
               false,
               false,
               false,
               false,
               false,
               false,
               false,
               false,
               false,
               false,
               false,
               true,
               true,
               true,
               false,
               false,
               false,
               false,
               false,
               false,
               false,
               false,
               false,
               false,
               false,
               false
              ]
             }
            ],
            "label": "Manchester United-Wolverhampton Wanderers",
            "method": "restyle"
           },
           {
            "args": [
             {
              "visible": [
               false,
               false,
               false,
               false,
               false,
               false,
               false,
               false,
               false,
               false,
               false,
               false,
               false,
               false,
               false,
               false,
               false,
               false,
               false,
               false,
               false,
               false,
               false,
               false,
               false,
               false,
               false,
               false,
               false,
               false,
               false,
               false,
               false,
               false,
               false,
               false,
               false,
               false,
               false,
               false,
               false,
               false,
               false,
               false,
               false,
               false,
               false,
               false,
               true,
               true,
               true,
               false,
               false,
               false,
               false,
               false,
               false,
               false,
               false,
               false
              ]
             }
            ],
            "label": "Everton-Manchester City",
            "method": "restyle"
           },
           {
            "args": [
             {
              "visible": [
               false,
               false,
               false,
               false,
               false,
               false,
               false,
               false,
               false,
               false,
               false,
               false,
               false,
               false,
               false,
               false,
               false,
               false,
               false,
               false,
               false,
               false,
               false,
               false,
               false,
               false,
               false,
               false,
               false,
               false,
               false,
               false,
               false,
               false,
               false,
               false,
               false,
               false,
               false,
               false,
               false,
               false,
               false,
               false,
               false,
               false,
               false,
               false,
               false,
               false,
               false,
               true,
               true,
               true,
               false,
               false,
               false,
               false,
               false,
               false
              ]
             }
            ],
            "label": "Brentford-West Ham",
            "method": "restyle"
           },
           {
            "args": [
             {
              "visible": [
               false,
               false,
               false,
               false,
               false,
               false,
               false,
               false,
               false,
               false,
               false,
               false,
               false,
               false,
               false,
               false,
               false,
               false,
               false,
               false,
               false,
               false,
               false,
               false,
               false,
               false,
               false,
               false,
               false,
               false,
               false,
               false,
               false,
               false,
               false,
               false,
               false,
               false,
               false,
               false,
               false,
               false,
               false,
               false,
               false,
               false,
               false,
               false,
               false,
               false,
               false,
               false,
               false,
               false,
               true,
               true,
               true,
               false,
               false,
               false
              ]
             }
            ],
            "label": "Arsenal-Brighton",
            "method": "restyle"
           },
           {
            "args": [
             {
              "visible": [
               false,
               false,
               false,
               false,
               false,
               false,
               false,
               false,
               false,
               false,
               false,
               false,
               false,
               false,
               false,
               false,
               false,
               false,
               false,
               false,
               false,
               false,
               false,
               false,
               false,
               false,
               false,
               false,
               false,
               false,
               false,
               false,
               false,
               false,
               false,
               false,
               false,
               false,
               false,
               false,
               false,
               false,
               false,
               false,
               false,
               false,
               false,
               false,
               false,
               false,
               false,
               false,
               false,
               false,
               false,
               false,
               false,
               true,
               true,
               true
              ]
             }
            ],
            "label": "Leicester-Liverpool",
            "method": "restyle"
           }
          ],
          "direction": "down",
          "x": 0.1,
          "y": 1.2
         }
        ],
        "width": 1500,
        "xaxis": {
         "anchor": "y",
         "domain": [
          0.397,
          1
         ]
        },
        "yaxis": {
         "anchor": "x",
         "domain": [
          0,
          1
         ]
        }
       }
      }
     },
     "metadata": {},
     "output_type": "display_data"
    }
   ],
   "source": [
    "# Create subplots\n",
    "fig = make_subplots(rows=1, cols=2, specs=[[{'type': 'polar'}, {'type': 'xy'}]], column_widths=[0.33, 0.67])\n",
    "fig.update_layout(width=1500, height=650)\n",
    "# create a list to store the buttons\n",
    "buttons = []\n",
    "categories = ['Home', 'Draw', 'Away', 'Over', 'Under']\n",
    "\n",
    "# loop through each match and create two traces for Bookmaker odds and predicted values\n",
    "for match_index, match in enumerate(Final_Odds['Match'].unique().tolist()):\n",
    "\n",
    "    # create the trace for Bookmaker odds\n",
    "    trace_bookmaker = go.Scatterpolar(\n",
    "      r=Final_Odds[(Final_Odds['Type']=='Bookmaker')  & (Final_Odds['Match']==match)][['P(Hwin)', 'P(Draw)', 'P(Awin)', 'P(Over)', 'P(Under)']].values.tolist()[0],\n",
    "      theta=categories,\n",
    "      fill='toself',\n",
    "      name='Bookmaker Odds',\n",
    "      marker = dict(color = 'rgb(82, 106, 131)' ),\n",
    "      visible=False if match_index!=0 else True,\n",
    "      hovertemplate='%{theta}<br>Prob: %{r:.2f}<br>Bookmaker Odds'\n",
    ")\n",
    "    fig.add_trace(trace_bookmaker, row=1, col=1)\n",
    "    # create the trace for predicted values\n",
    "    trace_predicted = go.Scatterpolar(\n",
    "        r= Final_Odds[(Final_Odds['Type']=='Predicted')  & (Final_Odds['Match']==match)][['P(Hwin)', 'P(Draw)', 'P(Awin)', 'P(Over)', 'P(Under)']].values.tolist()[0],\n",
    "        theta=categories,\n",
    "        fill='toself',\n",
    "        name='Predicted Odds',\n",
    "        marker = dict(color ='rgb(141,211,199)'), #'rgb(217, 175, 107)'\n",
    "        visible=False if match_index!=0 else True,\n",
    "        hovertemplate='%{theta}<br>Prob: %{r:.2f}<br>Predicted Odds'\n",
    "  )\n",
    "    fig.add_trace(trace_predicted, row=1, col=1)\n",
    "    \n",
    "    trace_goals = go.Bar(\n",
    "        x=Pie_list[match_index]['score'],\n",
    "        y=Pie_list[match_index]['P(score)'],\n",
    "        visible=False if match_index!=0 else True,\n",
    "        marker=dict(color=Pie_list[match_index]['P(score)'], colorscale='darkmint'),\n",
    "        name='Propable Scoreline',\n",
    "        hovertemplate='Score %{x}<br>Prob: %{y:.3f}'\n",
    "    )\n",
    "    fig.add_trace(trace_goals, row=1, col=2)\n",
    "    \n",
    "    # create the dictionary for the button\n",
    "    button_dict = dict(\n",
    "        method=\"restyle\",\n",
    "        args=[{\"visible\": [False] * (len(Final_Odds['Match'].unique().tolist()) * 3)}], # set all traces to false initially\n",
    "        label=match\n",
    "    )\n",
    "    \n",
    "    # set visibility to true for the corresponding traces\n",
    "    button_dict[\"args\"][0][\"visible\"][3*match_index] = True # Bookmaker odds trace\n",
    "    button_dict[\"args\"][0][\"visible\"][3*match_index+1] = True # Predicted trace\n",
    "    button_dict[\"args\"][0][\"visible\"][3*match_index+2] = True # Goal trace\n",
    "    \n",
    "    # set visibility to true for the corresponding traces for the first match\n",
    "    if match_index == 0:\n",
    "        button_dict[\"args\"][0][\"visible\"][0] = True # Bookmaker odds trace\n",
    "        button_dict[\"args\"][0][\"visible\"][1] = True # Predicted trace\n",
    "        button_dict[\"args\"][0][\"visible\"][2] = True\n",
    "        \n",
    "    # append the button to the list\n",
    "    buttons.append(button_dict)\n",
    "\n",
    "\n",
    "# update the layout with the buttons\n",
    "fig.update_layout(\n",
    "    updatemenus=[go.layout.Updatemenu(\n",
    "        buttons=buttons,\n",
    "        active=0, # set the initial active button\n",
    "        x=0.1,\n",
    "        y=1.2,\n",
    "        direction=\"down\"\n",
    "    )],\n",
    "    \n",
    ")\n",
    "\n",
    "# show the plot\n",
    "fig.show()\n"
   ]
  },
  {
   "cell_type": "code",
   "execution_count": null,
   "metadata": {},
   "outputs": [
    {
     "name": "stderr",
     "output_type": "stream",
     "text": [
      "/tmp/ipykernel_147206/2079959016.py:18: SettingWithCopyWarning:\n",
      "\n",
      "\n",
      "A value is trying to be set on a copy of a slice from a DataFrame\n",
      "\n",
      "See the caveats in the documentation: https://pandas.pydata.org/pandas-docs/stable/user_guide/indexing.html#returning-a-view-versus-a-copy\n",
      "\n",
      "/tmp/ipykernel_147206/2079959016.py:19: SettingWithCopyWarning:\n",
      "\n",
      "\n",
      "A value is trying to be set on a copy of a slice from a DataFrame\n",
      "\n",
      "See the caveats in the documentation: https://pandas.pydata.org/pandas-docs/stable/user_guide/indexing.html#returning-a-view-versus-a-copy\n",
      "\n",
      "/tmp/ipykernel_147206/2079959016.py:15: SettingWithCopyWarning:\n",
      "\n",
      "\n",
      "A value is trying to be set on a copy of a slice from a DataFrame\n",
      "\n",
      "See the caveats in the documentation: https://pandas.pydata.org/pandas-docs/stable/user_guide/indexing.html#returning-a-view-versus-a-copy\n",
      "\n",
      "/tmp/ipykernel_147206/2079959016.py:16: SettingWithCopyWarning:\n",
      "\n",
      "\n",
      "A value is trying to be set on a copy of a slice from a DataFrame\n",
      "\n",
      "See the caveats in the documentation: https://pandas.pydata.org/pandas-docs/stable/user_guide/indexing.html#returning-a-view-versus-a-copy\n",
      "\n"
     ]
    },
    {
     "data": {
      "text/html": [
       "<div>\n",
       "<style scoped>\n",
       "    .dataframe tbody tr th:only-of-type {\n",
       "        vertical-align: middle;\n",
       "    }\n",
       "\n",
       "    .dataframe tbody tr th {\n",
       "        vertical-align: top;\n",
       "    }\n",
       "\n",
       "    .dataframe thead th {\n",
       "        text-align: right;\n",
       "    }\n",
       "</style>\n",
       "<table border=\"1\" class=\"dataframe\">\n",
       "  <thead>\n",
       "    <tr style=\"text-align: right;\">\n",
       "      <th></th>\n",
       "      <th>Match</th>\n",
       "      <th>UnderBet</th>\n",
       "      <th>UnderBet_Kelly</th>\n",
       "    </tr>\n",
       "  </thead>\n",
       "  <tbody>\n",
       "    <tr>\n",
       "      <th>0</th>\n",
       "      <td>Bournemouth-Chelsea</td>\n",
       "      <td>0.000</td>\n",
       "      <td>0.000</td>\n",
       "    </tr>\n",
       "    <tr>\n",
       "      <th>1</th>\n",
       "      <td>Manchester City-Leeds</td>\n",
       "      <td>2.984</td>\n",
       "      <td>4.254</td>\n",
       "    </tr>\n",
       "    <tr>\n",
       "      <th>2</th>\n",
       "      <td>Tottenham-Crystal Palace</td>\n",
       "      <td>0.000</td>\n",
       "      <td>0.000</td>\n",
       "    </tr>\n",
       "    <tr>\n",
       "      <th>3</th>\n",
       "      <td>Wolverhampton Wanderers-Aston Villa</td>\n",
       "      <td>0.000</td>\n",
       "      <td>0.000</td>\n",
       "    </tr>\n",
       "    <tr>\n",
       "      <th>4</th>\n",
       "      <td>Liverpool-Brentford</td>\n",
       "      <td>0.000</td>\n",
       "      <td>0.000</td>\n",
       "    </tr>\n",
       "    <tr>\n",
       "      <th>5</th>\n",
       "      <td>Newcastle United-Arsenal</td>\n",
       "      <td>0.000</td>\n",
       "      <td>0.000</td>\n",
       "    </tr>\n",
       "    <tr>\n",
       "      <th>6</th>\n",
       "      <td>West Ham-Manchester United</td>\n",
       "      <td>0.000</td>\n",
       "      <td>0.000</td>\n",
       "    </tr>\n",
       "    <tr>\n",
       "      <th>7</th>\n",
       "      <td>Fulham-Leicester</td>\n",
       "      <td>3.099</td>\n",
       "      <td>5.995</td>\n",
       "    </tr>\n",
       "    <tr>\n",
       "      <th>8</th>\n",
       "      <td>Brighton-Everton</td>\n",
       "      <td>0.774</td>\n",
       "      <td>1.347</td>\n",
       "    </tr>\n",
       "    <tr>\n",
       "      <th>9</th>\n",
       "      <td>Nottingham Forest-Southampton</td>\n",
       "      <td>0.000</td>\n",
       "      <td>0.000</td>\n",
       "    </tr>\n",
       "    <tr>\n",
       "      <th>10</th>\n",
       "      <td>Leeds-Newcastle United</td>\n",
       "      <td>2.010</td>\n",
       "      <td>3.618</td>\n",
       "    </tr>\n",
       "    <tr>\n",
       "      <th>11</th>\n",
       "      <td>Crystal Palace-Bournemouth</td>\n",
       "      <td>0.000</td>\n",
       "      <td>0.000</td>\n",
       "    </tr>\n",
       "    <tr>\n",
       "      <th>12</th>\n",
       "      <td>Aston Villa-Tottenham</td>\n",
       "      <td>0.585</td>\n",
       "      <td>1.107</td>\n",
       "    </tr>\n",
       "    <tr>\n",
       "      <th>13</th>\n",
       "      <td>Southampton-Fulham</td>\n",
       "      <td>0.467</td>\n",
       "      <td>1.017</td>\n",
       "    </tr>\n",
       "    <tr>\n",
       "      <th>14</th>\n",
       "      <td>Chelsea-Nottingham Forest</td>\n",
       "      <td>0.555</td>\n",
       "      <td>1.121</td>\n",
       "    </tr>\n",
       "    <tr>\n",
       "      <th>15</th>\n",
       "      <td>Manchester United-Wolverhampton Wanderers</td>\n",
       "      <td>0.000</td>\n",
       "      <td>0.000</td>\n",
       "    </tr>\n",
       "    <tr>\n",
       "      <th>16</th>\n",
       "      <td>Everton-Manchester City</td>\n",
       "      <td>1.401</td>\n",
       "      <td>2.522</td>\n",
       "    </tr>\n",
       "    <tr>\n",
       "      <th>17</th>\n",
       "      <td>Brentford-West Ham</td>\n",
       "      <td>0.000</td>\n",
       "      <td>0.000</td>\n",
       "    </tr>\n",
       "    <tr>\n",
       "      <th>18</th>\n",
       "      <td>Arsenal-Brighton</td>\n",
       "      <td>0.000</td>\n",
       "      <td>0.000</td>\n",
       "    </tr>\n",
       "    <tr>\n",
       "      <th>19</th>\n",
       "      <td>Leicester-Liverpool</td>\n",
       "      <td>4.667</td>\n",
       "      <td>7.548</td>\n",
       "    </tr>\n",
       "  </tbody>\n",
       "</table>\n",
       "</div>"
      ],
      "text/plain": [
       "                                        Match  UnderBet  UnderBet_Kelly\n",
       "0                         Bournemouth-Chelsea     0.000           0.000\n",
       "1                       Manchester City-Leeds     2.984           4.254\n",
       "2                    Tottenham-Crystal Palace     0.000           0.000\n",
       "3         Wolverhampton Wanderers-Aston Villa     0.000           0.000\n",
       "4                         Liverpool-Brentford     0.000           0.000\n",
       "5                    Newcastle United-Arsenal     0.000           0.000\n",
       "6                  West Ham-Manchester United     0.000           0.000\n",
       "7                            Fulham-Leicester     3.099           5.995\n",
       "8                            Brighton-Everton     0.774           1.347\n",
       "9               Nottingham Forest-Southampton     0.000           0.000\n",
       "10                     Leeds-Newcastle United     2.010           3.618\n",
       "11                 Crystal Palace-Bournemouth     0.000           0.000\n",
       "12                      Aston Villa-Tottenham     0.585           1.107\n",
       "13                         Southampton-Fulham     0.467           1.017\n",
       "14                  Chelsea-Nottingham Forest     0.555           1.121\n",
       "15  Manchester United-Wolverhampton Wanderers     0.000           0.000\n",
       "16                    Everton-Manchester City     1.401           2.522\n",
       "17                         Brentford-West Ham     0.000           0.000\n",
       "18                           Arsenal-Brighton     0.000           0.000\n",
       "19                        Leicester-Liverpool     4.667           7.548"
      ]
     },
     "metadata": {},
     "output_type": "display_data"
    }
   ],
   "source": [
    "Pont = 5\n",
    "bank = 50\n",
    "Final = Final_Odds[Final_Odds['Type']=='Predicted'][['Match']]\n",
    "listPred = Final_Odds[Final_Odds['Type']=='Predicted']['P(Under)'].tolist()\n",
    "listBook = Final_Odds[Final_Odds['Type']=='Bookmaker']['P(Under)'].tolist()\n",
    "\n",
    "diff = []\n",
    "for i, p in enumerate(listPred):\n",
    "    diff.append(listPred[i]-listBook[i])\n",
    "\n",
    "Final['UnderBet'] = np.nan\n",
    "Final['UnderBet_Kelly'] = np.nan\n",
    "for i, d in enumerate(diff):\n",
    "    if (0.7>=listPred[i]>=0.35) and (d>=0.001):\n",
    "        Final['UnderBet'][i] = max(Pont*10*(d),0)\n",
    "        Final['UnderBet_Kelly'][i] = max(0, bank*(listPred[i]- (1-listPred[i])/(1/listBook[i] -1)))\n",
    "    else:\n",
    "        Final['UnderBet'][i] = 0\n",
    "        Final['UnderBet_Kelly'][i] = 0\n",
    "        \n",
    "############\n",
    "\n",
    "    \n",
    "display(Final)"
   ]
  }
 ],
 "metadata": {
  "kernelspec": {
   "display_name": "venv",
   "language": "python",
   "name": "venv"
  },
  "language_info": {
   "codemirror_mode": {
    "name": "ipython",
    "version": 3
   },
   "file_extension": ".py",
   "mimetype": "text/x-python",
   "name": "python",
   "nbconvert_exporter": "python",
   "pygments_lexer": "ipython3",
   "version": "3.11.4"
  },
  "orig_nbformat": 4,
  "vscode": {
   "interpreter": {
    "hash": "e7370f93d1d0cde622a1f8e1c04877d8463912d04d973331ad4851f04de6915a"
   }
  }
 },
 "nbformat": 4,
 "nbformat_minor": 2
}
