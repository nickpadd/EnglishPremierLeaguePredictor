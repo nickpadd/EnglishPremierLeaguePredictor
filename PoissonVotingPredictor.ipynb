{
 "cells": [
  {
   "cell_type": "code",
   "execution_count": 1,
   "metadata": {},
   "outputs": [],
   "source": [
    "import pandas as pd\n",
    "import plotly.express as px\n",
    "import numpy as np\n",
    "from sklearn.model_selection import train_test_split\n",
    "from sklearn.linear_model import LinearRegression\n",
    "from scipy.stats import poisson \n",
    "import math\n",
    "import plotly.express as px\n",
    "from plotly.subplots import make_subplots\n",
    "import plotly.graph_objects as go\n",
    "from sklearn import preprocessing\n",
    "from pretty_html_table import build_table\n",
    "\n",
    "def sum_of_lower_upper(mat):\n",
    "    r = len(mat)\n",
    "    c = len(mat[0])\n",
    "    diag = np.trace(mat)\n",
    "    lower_sum = 0\n",
    "    upper_sum = 0\n",
    "    over_sum = 0\n",
    "    under_sum = 0\n",
    "    gg_sum = 0\n",
    "    ng_sum = 0 \n",
    "\n",
    "    for i in range(r):\n",
    "        for j in range(c):\n",
    "            if (i<j):\n",
    "                upper_sum += mat[i][j]\n",
    "\n",
    "    for i in range(r):\n",
    "        for j in range(c):\n",
    "            if (j<i):\n",
    "                lower_sum += mat[i][j]\n",
    "    \n",
    "    for i in range(r):\n",
    "        for j in range(c):\n",
    "            if (i+j>=3):\n",
    "                over_sum += mat[i][j]\n",
    "            else:\n",
    "                under_sum += mat[i][j]\n",
    "    \n",
    "    for i in range(r):\n",
    "        for j in range(c):\n",
    "            if (i==0) or (j==0):\n",
    "                ng_sum += mat[i][j]\n",
    "            else:\n",
    "                gg_sum += mat[i][j]\n",
    "\n",
    "    return (upper_sum, lower_sum, diag, over_sum, under_sum, ng_sum, gg_sum)\n"
   ]
  },
  {
   "attachments": {},
   "cell_type": "markdown",
   "metadata": {},
   "source": [
    "## Gathering Lamda from season long performance"
   ]
  },
  {
   "cell_type": "code",
   "execution_count": 2,
   "metadata": {},
   "outputs": [
    {
     "name": "stdout",
     "output_type": "stream",
     "text": [
      "2112\n"
     ]
    }
   ],
   "source": [
    "df1 = pd.read_csv('GatheredData/Full20xxFiles/Full2017.csv')\n",
    "df2 = pd.read_csv('GatheredData/Full20xxFiles/Full2018.csv')\n",
    "df3 = pd.read_csv('GatheredData/Full20xxFiles/Full2019.csv')\n",
    "df4 = pd.read_csv('GatheredData/Full20xxFiles/Full2020.csv')\n",
    "df5 = pd.read_csv('GatheredData/Full20xxFiles/Full2021.csv')\n",
    "df6 = pd.read_csv('GatheredData/Full20xxFiles/Full2022.csv')\n",
    "PRED = pd.read_csv('UpcomingFixtures/Prediction.csv')\n",
    "pred = PRED.copy()\n",
    "#Keeping bookmakers odds\n",
    "Odds = PRED.copy()\n",
    "Odds = PRED[['HTeam', 'ATeam','B365H', 'B365D', 'B365A', 'BbAv>2.5', 'BbAv<2.5', 'GG', 'NG']]\n",
    "\n",
    "df1 = df1[['Date_x', 'HxG', 'HM', 'HTeam', 'ATeam', 'HG', 'HGA', 'HxGA', 'HDC', 'HODC', 'HPPDA', 'HOPPDA', 'HPTS/M', 'AM', 'AG', 'AGA', 'AxG', 'AxGA', 'ADC', 'AODC', 'APPDA', 'AOPPDA', 'APTS/M', 'Result', 'B365H', 'B365D', 'B365A', 'BbAv>2.5', 'BbAv<2.5']]\n",
    "df2 = df2[['Date_x', 'HxG', 'HM', 'HTeam', 'ATeam', 'HG', 'HGA', 'HxGA', 'HDC', 'HODC', 'HPPDA', 'HOPPDA', 'HPTS/M', 'AM', 'AG', 'AGA', 'AxG', 'AxGA', 'ADC', 'AODC', 'APPDA', 'AOPPDA', 'APTS/M', 'Result', 'B365H', 'B365D', 'B365A', 'BbAv>2.5', 'BbAv<2.5']]\n",
    "df3 = df3[['Date_x', 'HxG', 'HM', 'HTeam', 'ATeam', 'HG', 'HGA', 'HxGA', 'HDC', 'HODC', 'HPPDA', 'HOPPDA', 'HPTS/M', 'AM', 'AG', 'AGA', 'AxG', 'AxGA', 'ADC', 'AODC', 'APPDA', 'AOPPDA', 'APTS/M', 'Result', 'B365H', 'B365D', 'B365A', 'AvgC>2.5', 'AvgC<2.5']]\n",
    "df3.rename(columns = {'AvgC<2.5':'BbAv<2.5'}, inplace = True)\n",
    "df3.rename(columns = {'AvgC>2.5':'BbAv>2.5'}, inplace = True)\n",
    "df4 = df4[['Date_x', 'HxG', 'HM', 'HTeam', 'ATeam', 'HG', 'HGA', 'HxGA', 'HDC', 'HODC', 'HPPDA', 'HOPPDA', 'HPTS/M', 'AM', 'AG', 'AGA', 'AxG', 'AxGA', 'ADC', 'AODC', 'APPDA', 'AOPPDA', 'APTS/M', 'Result', 'B365H', 'B365D', 'B365A', 'AvgC>2.5', 'AvgC<2.5']]\n",
    "df4.rename(columns = {'AvgC<2.5':'BbAv<2.5'}, inplace = True)\n",
    "df4.rename(columns = {'AvgC>2.5':'BbAv>2.5'}, inplace = True)\n",
    "df5 = df5[['Date_x', 'HxG', 'HM', 'HTeam', 'ATeam', 'HG', 'HGA', 'HxGA', 'HDC', 'HODC', 'HPPDA', 'HOPPDA', 'HPTS/M', 'AM', 'AG', 'AGA', 'AxG', 'AxGA', 'ADC', 'AODC', 'APPDA', 'AOPPDA', 'APTS/M', 'Result', 'B365H', 'B365D', 'B365A', 'AvgC>2.5', 'AvgC<2.5']]\n",
    "df5.rename(columns = {'AvgC<2.5':'BbAv<2.5'}, inplace = True)\n",
    "df5.rename(columns = {'AvgC>2.5':'BbAv>2.5'}, inplace = True)\n",
    "df6 = df6[['Date', 'HxG', 'HM', 'HTeam', 'ATeam', 'HG', 'HGA', 'HxGA', 'HDC', 'HODC', 'HPPDA', 'HOPPDA', 'HPTS/M', 'AM', 'AG', 'AGA', 'AxG', 'AxGA', 'ADC', 'AODC', 'APPDA', 'AOPPDA', 'APTS/M', 'Result', 'B365H', 'B365D', 'B365A', 'BbAv>2.5', 'BbAv<2.5']]\n",
    "\n",
    "df1.rename(columns = {'Date_x':'Date'}, inplace = True)\n",
    "df2.rename(columns = {'Date_x':'Date'}, inplace = True)\n",
    "df3.rename(columns = {'Date_x':'Date'}, inplace = True)\n",
    "df4.rename(columns = {'Date_x':'Date'}, inplace = True)\n",
    "df5.rename(columns = {'Date_x':'Date'}, inplace = True)\n",
    "\n",
    "\n",
    "Season = pd.read_csv('GatheredData/Full20xxFiles/Full2023.csv')\n",
    "Season = Season[['Date', 'HxG', 'HM', 'HTeam', 'ATeam', 'HG', 'HGA', 'HxGA', 'HDC', 'HODC', 'HPPDA', 'HOPPDA', 'HPTS/M', 'AM', 'AG', 'AGA', 'AxG', 'AxGA', 'ADC', 'AODC', 'APPDA', 'AOPPDA', 'APTS/M', 'Result', 'B365H', 'B365D', 'B365A', 'BbAv>2.5', 'BbAv<2.5']]\n",
    "Season = Season.iloc[38:]\n",
    "\n",
    "\n",
    "DF = pd.concat([df1, df2, df3, df4, df5, df6, Season], ignore_index=True)\n",
    "\n",
    "\n",
    "DF = DF[ DF['HM'] != 0] \n",
    "DF = DF[ DF['HM'] != 1] \n",
    "DF = DF[ DF['HM'] != 2] \n",
    "DF = DF[ DF['HM'] != 3]\n",
    "subset = DF[['Date', 'HTeam', 'ATeam']].copy()\n",
    "\n",
    "extra_stats = DF.copy()\n",
    "extra_pred = pred.copy()\n",
    "\n",
    "DF['PTSDIF/M']=DF['HPTS/M']-DF['APTS/M']\n",
    "pred['PTSDIF/M']=pred['HPTS/M']-pred['APTS/M']\n",
    "DF = DF[[ 'HxG', 'HM', 'HG', 'HGA', 'HxGA', 'HDC', 'HODC', 'HPPDA', 'HOPPDA', 'HPTS/M', 'AM', 'AG', 'AGA', 'AxG', 'AxGA', 'ADC', 'AODC', 'APPDA', 'AOPPDA', 'APTS/M', 'PTSDIF/M', 'Result']]\n",
    "pred = pred[[ 'HxG', 'HM', 'HG', 'HGA', 'HxGA', 'HDC', 'HODC', 'HPPDA', 'HOPPDA', 'HPTS/M', 'AM', 'AG', 'AGA', 'AxG', 'AxGA', 'ADC', 'AODC', 'APPDA', 'AOPPDA', 'APTS/M', 'PTSDIF/M', 'Result']]\n",
    "cut = DF.shape[0]\n",
    "print(cut)\n",
    "DF = pd.concat([DF, pred], ignore_index=True)\n",
    "try:\n",
    "    DF['HxG'] = DF['HxG'].div(DF['HM'])\n",
    "    DF['HG'] = DF['HG'].div(DF['HM'])\n",
    "    DF['HGA'] = DF['HGA'].div(DF['HM'])\n",
    "    DF['HxGA'] = DF['HxGA'].div(DF['HM'])\n",
    "    DF['AxG'] = DF['AxG'].div(DF['AM'])\n",
    "    DF['AG'] = DF['AG'].div(DF['AM'])\n",
    "    DF['AxGA'] = DF['AxG'].div(DF['AM'])\n",
    "    DF['AGA'] = DF['AGA'].div(DF['AM'])\n",
    "    pred['HxG'] = pred['HxG'].div(pred['HM'])\n",
    "    pred['HG'] = pred['HG'].div(pred['HM'])\n",
    "    pred['HGA'] = pred['HGA'].div(pred['HM'])\n",
    "    pred['HxGA'] = pred['HxGA'].div(pred['HM'])\n",
    "    pred['AxG'] = pred['AxG'].div(pred['AM'])\n",
    "    pred['AG'] = pred['AG'].div(pred['AM'])\n",
    "    pred['AxGA'] = pred['AxG'].div(pred['AM'])\n",
    "    pred['AGA'] = pred['AGA'].div(pred['AM'])\n",
    "\n",
    "except ZeroDivisionError:\n",
    "    DF['HxG'] = 0\n",
    "    DF['HG'] = 0\n",
    "    DF['HGA'] = 0\n",
    "    DF['HxGA'] = 0\n",
    "    DF['AxG'] = 0\n",
    "    DF['AG'] = 0\n",
    "    DF['AxGA'] = 0\n",
    "    DF['AGA'] = 0\n",
    "\n",
    "HGoals = []\n",
    "AGoals = []\n",
    "    \n",
    "for i, x in DF.iloc[:cut].iterrows():\n",
    "    a=x['Result'].split('\\'')\n",
    "    HGoals.append(a[1])\n",
    "    AGoals.append(a[3])\n",
    "    \n",
    "DF=np.array(DF)\n",
    "DFnorm = preprocessing.normalize(DF[:, 0:21], axis=0)\n",
    "pred = DFnorm[cut:]\n",
    "DF = DFnorm[:cut]\n",
    "\n",
    "x=DF\n",
    "\n",
    "\n",
    "y1=np.array(HGoals)\n",
    "y2=np.array(AGoals)\n",
    "\n",
    "reg1 = LinearRegression().fit(x, y1)\n",
    "reg2 = LinearRegression().fit(x, y2)\n",
    "\n",
    "LamdaHome= reg1.predict(pred)\n",
    "LamdaAway= reg2.predict(pred)"
   ]
  },
  {
   "attachments": {},
   "cell_type": "markdown",
   "metadata": {},
   "source": [
    "## Gathering Lamda from 2 month form performance"
   ]
  },
  {
   "cell_type": "code",
   "execution_count": 3,
   "metadata": {},
   "outputs": [
    {
     "name": "stdout",
     "output_type": "stream",
     "text": [
      "Date           17/09/2021\n",
      "HTeam    Newcastle United\n",
      "ATeam               Leeds\n",
      "Name: 1560, dtype: object\n",
      "Date                     07/02/2021\n",
      "HxG                           12.05\n",
      "HM                               12\n",
      "HTeam       Wolverhampton Wanderers\n",
      "ATeam                     Leicester\n",
      "HG                               12\n",
      "HGA                              20\n",
      "HxGA                          15.48\n",
      "HDC                        3.166667\n",
      "HODC                       7.083333\n",
      "HPPDA                         15.93\n",
      "HOPPDA                        11.56\n",
      "HPTS/M                         0.75\n",
      "AM                               12\n",
      "AG                               20\n",
      "AGA                              11\n",
      "AxG                           16.59\n",
      "AxGA                          10.23\n",
      "ADC                             7.0\n",
      "AODC                       4.333333\n",
      "APPDA                           9.7\n",
      "AOPPDA                        12.24\n",
      "APTS/M                          2.0\n",
      "Result                 ['0 ', ' 0']\n",
      "B365H                           3.5\n",
      "B365D                           3.4\n",
      "B365A                           2.1\n",
      "BbAv>2.5                        2.2\n",
      "BbAv<2.5                       1.66\n",
      "Name: 1361, dtype: object\n",
      "            Date             HTeam            ATeam   HxG  HM  HG  HGA   HxGA  \\\n",
      "1489  19/12/2021  Newcastle United  Manchester City  7.06   9   8   18  17.04   \n",
      "\n",
      "           HDC      HODC  ...      AODC  APPDA  AOPPDA    APTS/M  \\\n",
      "1489  3.555556  9.333333  ...  3.222222   9.16   23.01  2.666667   \n",
      "\n",
      "            Result  B365H  B365D  B365A  BbAv>2.5  BbAv<2.5  \n",
      "1489  ['0 ', ' 4']   13.0    7.5   1.18       NaN       NaN  \n",
      "\n",
      "[1 rows x 29 columns]\n",
      "           HxG  HM        HG       HGA      HxGA        HDC       HODC  HPPDA  \\\n",
      "0     0.535000   4  0.250000  2.000000  1.902500   5.000000   9.250000  13.80   \n",
      "1     1.067500   4  0.000000  1.750000  1.495000   5.750000   4.750000  11.61   \n",
      "2     0.965000   4  1.000000  0.500000  1.177500   3.250000   3.250000   8.69   \n",
      "3     2.397500   4  2.000000  2.000000  1.632500   7.000000   6.000000  15.95   \n",
      "4     1.350000   4  1.000000  0.750000  1.165000   4.000000   4.000000  14.00   \n",
      "...        ...  ..       ...       ...       ...        ...        ...    ...   \n",
      "2107  0.661667   6  0.500000  3.666667  2.871667   3.666667  12.166667  16.42   \n",
      "2108  2.955000   6  3.166667  0.666667  0.816667   7.333333   4.500000   8.64   \n",
      "2109  1.228333   6  0.666667  1.500000  1.515000   6.166667   6.833333  17.91   \n",
      "2110  1.362857   7  1.000000  1.571429  2.261429   5.571429   8.571429  15.64   \n",
      "2111  1.926667   6  1.833333  0.833333  1.068333  14.666667   4.833333   6.68   \n",
      "\n",
      "      HOPPDA    HPTS/M  ...       AGA       AxG      AxGA        ADC  \\\n",
      "0       8.77  0.000000  ...  1.250000  0.437500  0.109375   3.500000   \n",
      "1       8.37  0.000000  ...  1.000000  1.372500  0.343125   9.500000   \n",
      "2      10.06  1.750000  ...  2.000000  1.342500  0.335625   2.750000   \n",
      "3      12.48  1.750000  ...  1.000000  0.760000  0.190000   3.500000   \n",
      "4       7.26  1.500000  ...  1.000000  0.862500  0.215625   5.500000   \n",
      "...      ...       ...  ...       ...       ...       ...        ...   \n",
      "2107    8.71  0.000000  ...  1.714286  1.150000  0.164286   6.428571   \n",
      "2108   13.99  2.333333  ...  0.714286  1.944286  0.277755   9.000000   \n",
      "2109   13.36  0.666667  ...  0.833333  2.098333  0.349722  11.333333   \n",
      "2110    8.05  0.714286  ...  1.000000  2.598333  0.433056  12.666667   \n",
      "2111   12.98  2.666667  ...  1.000000  1.665000  0.277500  11.166667   \n",
      "\n",
      "           AODC  APPDA  AOPPDA    APTS/M  PTSDIF/M        Result  \n",
      "0      8.250000  17.65   18.94  1.000000 -1.000000  ['2 ', ' 1']  \n",
      "1      2.500000   8.15   13.68  1.250000 -1.250000  ['0 ', ' 1']  \n",
      "2     10.000000  15.38   10.43  0.750000  1.000000  ['1 ', ' 1']  \n",
      "3      6.750000  12.51    8.62  1.750000  0.000000  ['1 ', ' 1']  \n",
      "4      7.250000  15.26    8.52  1.250000  0.250000  ['2 ', ' 1']  \n",
      "...         ...    ...     ...       ...       ...           ...  \n",
      "2107  10.571429  11.38    9.43  1.285714 -1.285714  ['2 ', ' 1']  \n",
      "2108   6.428571  10.23   18.51  2.428571 -0.095238  ['1 ', ' 0']  \n",
      "2109   5.833333  10.95   10.86  2.666667 -2.000000  ['2 ', ' 0']  \n",
      "2110   6.666667   8.01   17.91  2.166667 -1.452381  ['1 ', ' 1']  \n",
      "2111   6.000000  10.04   15.40  1.333333  1.333333  ['1 ', ' 4']  \n",
      "\n",
      "[2112 rows x 22 columns]\n"
     ]
    },
    {
     "name": "stderr",
     "output_type": "stream",
     "text": [
      "/tmp/ipykernel_11900/2412402004.py:48: SettingWithCopyWarning: \n",
      "A value is trying to be set on a copy of a slice from a DataFrame.\n",
      "Try using .loc[row_indexer,col_indexer] = value instead\n",
      "\n",
      "See the caveats in the documentation: https://pandas.pydata.org/pandas-docs/stable/user_guide/indexing.html#returning-a-view-versus-a-copy\n",
      "  DF['PTSDIF/M']=DF['HPTS/M']-DF['APTS/M']\n"
     ]
    }
   ],
   "source": [
    "df1 = pd.read_csv('GatheredData/Epl20xxMonthlyFiles/Epl2017Monthly.csv')\n",
    "df2 = pd.read_csv('GatheredData/Epl20xxMonthlyFiles/Epl2018Monthly.csv')\n",
    "df3 = pd.read_csv('GatheredData/Epl20xxMonthlyFiles/Epl2019Monthly.csv')\n",
    "df4 = pd.read_csv('GatheredData/Epl20xxMonthlyFiles/Epl2020Monthly.csv')\n",
    "df5 = pd.read_csv('GatheredData/Epl20xxMonthlyFiles/Epl2021Monthly.csv')\n",
    "df6 = pd.read_csv('GatheredData/Epl20xxMonthlyFiles/Epl2022Monthly.csv')\n",
    "pred = PRED.copy()\n",
    "#Keeping bookmakers odds\n",
    "Odds = PRED.copy()\n",
    "Odds = PRED[['HTeam', 'ATeam','B365H', 'B365D', 'B365A', 'BbAv>2.5', 'BbAv<2.5', 'GG', 'NG']]\n",
    "\n",
    "df1 = df1[['Date', 'HxG', 'HM', 'HTeam', 'ATeam', 'HG', 'HGA', 'HxGA', 'HDC', 'HODC', 'HPPDA', 'HOPPDA', 'HPTS/M', 'AM', 'AG', 'AGA', 'AxG', 'AxGA', 'ADC', 'AODC', 'APPDA', 'AOPPDA', 'APTS/M', 'Result', 'B365H', 'B365D', 'B365A', 'BbAv>2.5', 'BbAv<2.5']]\n",
    "df2 = df2[['Date', 'HxG', 'HM', 'HTeam', 'ATeam', 'HG', 'HGA', 'HxGA', 'HDC', 'HODC', 'HPPDA', 'HOPPDA', 'HPTS/M', 'AM', 'AG', 'AGA', 'AxG', 'AxGA', 'ADC', 'AODC', 'APPDA', 'AOPPDA', 'APTS/M', 'Result', 'B365H', 'B365D', 'B365A', 'BbAv>2.5', 'BbAv<2.5']]\n",
    "df3 = df3[['Date', 'HxG', 'HM', 'HTeam', 'ATeam', 'HG', 'HGA', 'HxGA', 'HDC', 'HODC', 'HPPDA', 'HOPPDA', 'HPTS/M', 'AM', 'AG', 'AGA', 'AxG', 'AxGA', 'ADC', 'AODC', 'APPDA', 'AOPPDA', 'APTS/M', 'Result', 'B365H', 'B365D', 'B365A', 'B365>2.5', 'B365<2.5']]\n",
    "df3.rename(columns = {'B365<2.5':'BbAv<2.5'}, inplace = True)\n",
    "df3.rename(columns = {'B365>2.5':'BbAv>2.5'}, inplace = True)\n",
    "df4 = df4[['Date', 'HxG', 'HM', 'HTeam', 'ATeam', 'HG', 'HGA', 'HxGA', 'HDC', 'HODC', 'HPPDA', 'HOPPDA', 'HPTS/M', 'AM', 'AG', 'AGA', 'AxG', 'AxGA', 'ADC', 'AODC', 'APPDA', 'AOPPDA', 'APTS/M', 'Result', 'B365H', 'B365D', 'B365A', 'B365>2.5', 'B365<2.5']]\n",
    "df4.rename(columns = {'B365<2.5':'BbAv<2.5'}, inplace = True)\n",
    "df4.rename(columns = {'B365>2.5':'BbAv>2.5'}, inplace = True)\n",
    "df5 = df5[['Date', 'HxG', 'HM', 'HTeam', 'ATeam', 'HG', 'HGA', 'HxGA', 'HDC', 'HODC', 'HPPDA', 'HOPPDA', 'HPTS/M', 'AM', 'AG', 'AGA', 'AxG', 'AxGA', 'ADC', 'AODC', 'APPDA', 'AOPPDA', 'APTS/M', 'Result', 'B365H', 'B365D', 'B365A', 'B365>2.5', 'B365<2.5']]\n",
    "df5.rename(columns = {'B365<2.5':'BbAv<2.5'}, inplace = True)\n",
    "df5.rename(columns = {'B365>2.5':'BbAv>2.5'}, inplace = True)\n",
    "df6 = df6[['Date', 'HxG', 'HM', 'HTeam', 'ATeam', 'HG', 'HGA', 'HxGA', 'HDC', 'HODC', 'HPPDA', 'HOPPDA', 'HPTS/M', 'AM', 'AG', 'AGA', 'AxG', 'AxGA', 'ADC', 'AODC', 'APPDA', 'AOPPDA', 'APTS/M', 'Result', 'B365H', 'B365D', 'B365A', 'BbAv>2.5', 'BbAv<2.5']]\n",
    "df6.rename(columns = {'B365<2.5':'BbAv<2.5'}, inplace = True)\n",
    "df6.rename(columns = {'B365>2.5':'BbAv>2.5'}, inplace = True)\n",
    "\n",
    "SeasonForm = pd.read_csv('GatheredData/Epl20xxMonthlyFiles/Epl2023Monthly.csv')\n",
    "\n",
    "\n",
    "try:\n",
    "    SeasonForm = SeasonForm[['Date', 'HxG', 'HM', 'HTeam', 'ATeam', 'HG', 'HGA', 'HxGA', 'HDC', 'HODC', 'HPPDA', 'HOPPDA', 'HPTS/M', 'AM', 'AG', 'AGA', 'AxG', 'AxGA', 'ADC', 'AODC', 'APPDA', 'AOPPDA', 'APTS/M', 'Result', 'B365H', 'B365D', 'B365A', 'BbAv>2.5', 'BbAv<2.5']]\n",
    "except KeyError:\n",
    "    SeasonForm = SeasonForm[['Date', 'HxG', 'HM', 'HTeam', 'ATeam', 'HG', 'HGA', 'HxGA', 'HDC', 'HODC', 'HPPDA', 'HOPPDA', 'HPTS/M', 'AM', 'AG', 'AGA', 'AxG', 'AxGA', 'ADC', 'AODC', 'APPDA', 'AOPPDA', 'APTS/M', 'Result', 'B365H', 'B365D', 'B365A', 'B365>2.5', 'B365<2.5']]\n",
    "    SeasonForm.rename(columns = {'B365<2.5':'BbAv<2.5'}, inplace = True)\n",
    "    SeasonForm.rename(columns = {'B365>2.5':'BbAv>2.5'}, inplace = True)\n",
    "    \n",
    "SeasonForm = SeasonForm.iloc[38:]\n",
    "\n",
    "DF = pd.concat([df1, df2, df3, df4, df5, df6, SeasonForm], ignore_index=True)\n",
    "merged = pd.merge(subset, DF, on=['Date', 'HTeam', 'ATeam'], how='left')\n",
    "print(subset.iloc[1361])\n",
    "print(DF.iloc[1361])\n",
    "print(merged[merged.isna().any(axis=1)])\n",
    "\n",
    "# resulting dataframe will have columns of B where the triplet of A['a', 'b', 'c'] exists in B\n",
    "DF = merged[DF.columns]\n",
    "\n",
    "DF['PTSDIF/M']=DF['HPTS/M']-DF['APTS/M']\n",
    "pred['PTSDIF/M']=pred['HPTS/M']-pred['APTS/M']\n",
    "DF = DF[['HxG', 'HM', 'HG', 'HGA', 'HxGA', 'HDC', 'HODC', 'HPPDA', 'HOPPDA', 'HPTS/M', 'AM', 'AG', 'AGA', 'AxG', 'AxGA', 'ADC', 'AODC', 'APPDA', 'AOPPDA', 'APTS/M', 'PTSDIF/M', 'Result']]\n",
    "pred = pred[['HxG', 'HM', 'HG', 'HGA', 'HxGA', 'HDC', 'HODC', 'HPPDA', 'HOPPDA', 'HPTS/M', 'AM', 'AG', 'AGA', 'AxG', 'AxGA', 'ADC', 'AODC', 'APPDA', 'AOPPDA', 'APTS/M', 'PTSDIF/M', 'Result']]\n",
    "cut = DF.shape[0]\n",
    "DF = pd.concat([DF, pred], ignore_index=True)\n",
    "\n",
    "\n",
    "\n",
    "try:\n",
    "    DF['HxG'] = DF['HxG'].div(DF['HM']).fillna(0)\n",
    "    DF['HG'] = DF['HG'].div(DF['HM']).fillna(0)\n",
    "    DF['HGA'] = DF['HGA'].div(DF['HM']).fillna(0)\n",
    "    DF['HxGA'] = DF['HxGA'].div(DF['HM']).fillna(0)\n",
    "    DF['AxG'] = DF['AxG'].div(DF['AM']).fillna(0)\n",
    "    DF['AG'] = DF['AG'].div(DF['AM']).fillna(0)\n",
    "    DF['AxGA'] = DF['AxG'].div(DF['AM']).fillna(0)\n",
    "    DF['AGA'] = DF['AGA'].div(DF['AM']).fillna(0)\n",
    "    pred['HxG'] = pred['HxG'].div(pred['HM']).fillna(0)\n",
    "    pred['HG'] = pred['HG'].div(pred['HM']).fillna(0)\n",
    "    pred['HGA'] = pred['HGA'].div(pred['HM']).fillna(0)\n",
    "    pred['HxGA'] = pred['HxGA'].div(pred['HM']).fillna(0)\n",
    "    pred['AxG'] = pred['AxG'].div(pred['AM']).fillna(0)\n",
    "    pred['AG'] = pred['AG'].div(pred['AM']).fillna(0)\n",
    "    pred['AxGA'] = pred['AxG'].div(pred['AM']).fillna(0)\n",
    "    pred['AGA'] = pred['AGA'].div(pred['AM']).fillna(0)\n",
    "\n",
    "except ZeroDivisionError:\n",
    "    DF['HxG'] = 0\n",
    "    DF['HG'] = 0\n",
    "    DF['HGA'] = 0\n",
    "    DF['HxGA'] = 0\n",
    "    DF['AxG'] = 0\n",
    "    DF['AG'] = 0\n",
    "    DF['AxGA'] = 0\n",
    "    DF['AGA'] = 0\n",
    "\n",
    "\n",
    "print(DF.iloc[:cut])\n",
    "        \n",
    "HGoals = []\n",
    "AGoals = []\n",
    "for i, x in DF.iloc[:cut].iterrows():\n",
    "    a=str(x['Result']).split('\\'')\n",
    "    try:\n",
    "        HGoals.append(a[1])\n",
    "        AGoals.append(a[3])\n",
    "    except IndexError:\n",
    "        print(x)\n",
    "        print(DF.iloc[:cut].iloc[i-1])\n",
    "\n",
    "DF=np.array(DF)\n",
    "\n",
    "DFnorm = preprocessing.normalize(DF[:, 0:21].astype('float64'), axis=0)\n",
    "pred = DFnorm[cut:]\n",
    "DF = DFnorm[:cut]\n",
    "\n",
    "x=DF\n",
    "\n",
    "y1=np.array(HGoals)\n",
    "y2=np.array(AGoals)\n",
    "\n",
    "reg1 = LinearRegression().fit(x, y1)\n",
    "reg2 = LinearRegression().fit(x, y2)\n",
    "\n",
    "LamdaHomeForm= reg1.predict(pred)\n",
    "LamdaAwayForm= reg2.predict(pred)"
   ]
  },
  {
   "cell_type": "code",
   "execution_count": 4,
   "metadata": {},
   "outputs": [
    {
     "name": "stdout",
     "output_type": "stream",
     "text": [
      "[1.2407838510498923, 2.075854214949361, 1.3400218915060398, 2.5088775680467448, 1.0407148745186736, 2.3026615552365675, 2.4989749693103613, 2.2001403805668263, 1.4093188529078688, 1.4902567252242487, 2.211792724848078, 1.2572484665940804, 1.6481492547693477, 1.2778575403948418, 1.2921800232833842, 1.3715393483638776, 1.4975309827260146, 1.9084989534884151, 1.42269033043214, 1.633854405063225]\n",
      "[1.9784636919284542, 0.9643648436517855, 1.3459667894693308, 0.6882689829992021, 2.133911170829708, 1.1803549689203605, 0.6805097760714813, 0.8854384584146924, 1.131094025611158, 1.722890176904977, 1.2915244968969635, 1.291310972761577, 1.3632642702781386, 1.3995430187003133, 1.7082847201837181, 1.401277015430102, 1.6662800951728265, 1.57760277057923, 1.3240553384085332, 1.232436770383552]\n"
     ]
    }
   ],
   "source": [
    "LamdaAwayFinal = [(LamdaAway[i] * 0.4 + LamdaAwayForm[i] * 0.6) for i in range(len(LamdaAway))]\n",
    "LamdaHomeFinal = [(LamdaHome[i] * 0.4 + LamdaHomeForm[i] * 0.6) for i in range(len(LamdaHome))]\n",
    "\n",
    "print(LamdaHomeFinal)\n",
    "print(LamdaAwayFinal)"
   ]
  },
  {
   "cell_type": "code",
   "execution_count": 5,
   "metadata": {},
   "outputs": [
    {
     "data": {
      "text/html": [
       "<div>\n",
       "<style scoped>\n",
       "    .dataframe tbody tr th:only-of-type {\n",
       "        vertical-align: middle;\n",
       "    }\n",
       "\n",
       "    .dataframe tbody tr th {\n",
       "        vertical-align: top;\n",
       "    }\n",
       "\n",
       "    .dataframe thead th {\n",
       "        text-align: right;\n",
       "    }\n",
       "</style>\n",
       "<table border=\"1\" class=\"dataframe\">\n",
       "  <thead>\n",
       "    <tr style=\"text-align: right;\">\n",
       "      <th></th>\n",
       "      <th>Date</th>\n",
       "      <th>HTeam</th>\n",
       "      <th>ATeam</th>\n",
       "      <th>P(Hwin)</th>\n",
       "      <th>P(Draw)</th>\n",
       "      <th>P(Awin)</th>\n",
       "      <th>P(Under)</th>\n",
       "      <th>P(Over)</th>\n",
       "      <th>P(GG)</th>\n",
       "      <th>P(NG)</th>\n",
       "    </tr>\n",
       "  </thead>\n",
       "  <tbody>\n",
       "    <tr>\n",
       "      <th>0</th>\n",
       "      <td>11/11/2023</td>\n",
       "      <td>Wolverhampton Wanderers</td>\n",
       "      <td>Tottenham</td>\n",
       "      <td>0.219</td>\n",
       "      <td>0.209</td>\n",
       "      <td>0.572</td>\n",
       "      <td>0.357</td>\n",
       "      <td>0.643</td>\n",
       "      <td>0.619</td>\n",
       "      <td>0.381</td>\n",
       "    </tr>\n",
       "    <tr>\n",
       "      <th>1</th>\n",
       "      <td>11/11/2023</td>\n",
       "      <td>Manchester United</td>\n",
       "      <td>Luton</td>\n",
       "      <td>0.652</td>\n",
       "      <td>0.197</td>\n",
       "      <td>0.150</td>\n",
       "      <td>0.416</td>\n",
       "      <td>0.584</td>\n",
       "      <td>0.526</td>\n",
       "      <td>0.474</td>\n",
       "    </tr>\n",
       "    <tr>\n",
       "      <th>2</th>\n",
       "      <td>11/11/2023</td>\n",
       "      <td>Crystal Palace</td>\n",
       "      <td>Everton</td>\n",
       "      <td>0.378</td>\n",
       "      <td>0.257</td>\n",
       "      <td>0.365</td>\n",
       "      <td>0.488</td>\n",
       "      <td>0.512</td>\n",
       "      <td>0.553</td>\n",
       "      <td>0.447</td>\n",
       "    </tr>\n",
       "    <tr>\n",
       "      <th>3</th>\n",
       "      <td>11/11/2023</td>\n",
       "      <td>Arsenal</td>\n",
       "      <td>Burnley</td>\n",
       "      <td>0.799</td>\n",
       "      <td>0.135</td>\n",
       "      <td>0.066</td>\n",
       "      <td>0.376</td>\n",
       "      <td>0.624</td>\n",
       "      <td>0.427</td>\n",
       "      <td>0.573</td>\n",
       "    </tr>\n",
       "    <tr>\n",
       "      <th>4</th>\n",
       "      <td>11/11/2023</td>\n",
       "      <td>Bournemouth</td>\n",
       "      <td>Newcastle United</td>\n",
       "      <td>0.150</td>\n",
       "      <td>0.193</td>\n",
       "      <td>0.658</td>\n",
       "      <td>0.397</td>\n",
       "      <td>0.603</td>\n",
       "      <td>0.540</td>\n",
       "      <td>0.460</td>\n",
       "    </tr>\n",
       "    <tr>\n",
       "      <th>5</th>\n",
       "      <td>12/11/2023</td>\n",
       "      <td>Liverpool</td>\n",
       "      <td>Brentford</td>\n",
       "      <td>0.647</td>\n",
       "      <td>0.184</td>\n",
       "      <td>0.169</td>\n",
       "      <td>0.313</td>\n",
       "      <td>0.687</td>\n",
       "      <td>0.621</td>\n",
       "      <td>0.379</td>\n",
       "    </tr>\n",
       "    <tr>\n",
       "      <th>6</th>\n",
       "      <td>12/11/2023</td>\n",
       "      <td>Brighton</td>\n",
       "      <td>Sheffield United</td>\n",
       "      <td>0.787</td>\n",
       "      <td>0.141</td>\n",
       "      <td>0.072</td>\n",
       "      <td>0.380</td>\n",
       "      <td>0.620</td>\n",
       "      <td>0.437</td>\n",
       "      <td>0.563</td>\n",
       "    </tr>\n",
       "    <tr>\n",
       "      <th>7</th>\n",
       "      <td>12/11/2023</td>\n",
       "      <td>Aston Villa</td>\n",
       "      <td>Fulham</td>\n",
       "      <td>0.706</td>\n",
       "      <td>0.175</td>\n",
       "      <td>0.120</td>\n",
       "      <td>0.386</td>\n",
       "      <td>0.614</td>\n",
       "      <td>0.514</td>\n",
       "      <td>0.486</td>\n",
       "    </tr>\n",
       "    <tr>\n",
       "      <th>8</th>\n",
       "      <td>12/11/2023</td>\n",
       "      <td>West Ham</td>\n",
       "      <td>Nottingham Forest</td>\n",
       "      <td>0.434</td>\n",
       "      <td>0.264</td>\n",
       "      <td>0.302</td>\n",
       "      <td>0.531</td>\n",
       "      <td>0.469</td>\n",
       "      <td>0.513</td>\n",
       "      <td>0.487</td>\n",
       "    </tr>\n",
       "    <tr>\n",
       "      <th>9</th>\n",
       "      <td>12/11/2023</td>\n",
       "      <td>Chelsea</td>\n",
       "      <td>Manchester City</td>\n",
       "      <td>0.323</td>\n",
       "      <td>0.233</td>\n",
       "      <td>0.444</td>\n",
       "      <td>0.386</td>\n",
       "      <td>0.614</td>\n",
       "      <td>0.628</td>\n",
       "      <td>0.372</td>\n",
       "    </tr>\n",
       "    <tr>\n",
       "      <th>10</th>\n",
       "      <td>25/11/2023</td>\n",
       "      <td>Manchester City</td>\n",
       "      <td>Liverpool</td>\n",
       "      <td>0.610</td>\n",
       "      <td>0.192</td>\n",
       "      <td>0.198</td>\n",
       "      <td>0.303</td>\n",
       "      <td>0.697</td>\n",
       "      <td>0.649</td>\n",
       "      <td>0.351</td>\n",
       "    </tr>\n",
       "    <tr>\n",
       "      <th>11</th>\n",
       "      <td>25/11/2023</td>\n",
       "      <td>Burnley</td>\n",
       "      <td>West Ham</td>\n",
       "      <td>0.328</td>\n",
       "      <td>0.269</td>\n",
       "      <td>0.403</td>\n",
       "      <td>0.545</td>\n",
       "      <td>0.455</td>\n",
       "      <td>0.507</td>\n",
       "      <td>0.493</td>\n",
       "    </tr>\n",
       "    <tr>\n",
       "      <th>12</th>\n",
       "      <td>25/11/2023</td>\n",
       "      <td>Newcastle United</td>\n",
       "      <td>Chelsea</td>\n",
       "      <td>0.461</td>\n",
       "      <td>0.235</td>\n",
       "      <td>0.305</td>\n",
       "      <td>0.403</td>\n",
       "      <td>0.597</td>\n",
       "      <td>0.612</td>\n",
       "      <td>0.388</td>\n",
       "    </tr>\n",
       "    <tr>\n",
       "      <th>13</th>\n",
       "      <td>25/11/2023</td>\n",
       "      <td>Luton</td>\n",
       "      <td>Crystal Palace</td>\n",
       "      <td>0.316</td>\n",
       "      <td>0.257</td>\n",
       "      <td>0.428</td>\n",
       "      <td>0.497</td>\n",
       "      <td>0.503</td>\n",
       "      <td>0.542</td>\n",
       "      <td>0.458</td>\n",
       "    </tr>\n",
       "    <tr>\n",
       "      <th>14</th>\n",
       "      <td>25/11/2023</td>\n",
       "      <td>Nottingham Forest</td>\n",
       "      <td>Brighton</td>\n",
       "      <td>0.306</td>\n",
       "      <td>0.237</td>\n",
       "      <td>0.457</td>\n",
       "      <td>0.411</td>\n",
       "      <td>0.589</td>\n",
       "      <td>0.606</td>\n",
       "      <td>0.394</td>\n",
       "    </tr>\n",
       "    <tr>\n",
       "      <th>15</th>\n",
       "      <td>25/11/2023</td>\n",
       "      <td>Sheffield United</td>\n",
       "      <td>Bournemouth</td>\n",
       "      <td>0.368</td>\n",
       "      <td>0.253</td>\n",
       "      <td>0.379</td>\n",
       "      <td>0.471</td>\n",
       "      <td>0.529</td>\n",
       "      <td>0.566</td>\n",
       "      <td>0.434</td>\n",
       "    </tr>\n",
       "    <tr>\n",
       "      <th>16</th>\n",
       "      <td>25/11/2023</td>\n",
       "      <td>Brentford</td>\n",
       "      <td>Arsenal</td>\n",
       "      <td>0.357</td>\n",
       "      <td>0.234</td>\n",
       "      <td>0.410</td>\n",
       "      <td>0.380</td>\n",
       "      <td>0.620</td>\n",
       "      <td>0.636</td>\n",
       "      <td>0.364</td>\n",
       "    </tr>\n",
       "    <tr>\n",
       "      <th>17</th>\n",
       "      <td>26/11/2023</td>\n",
       "      <td>Tottenham</td>\n",
       "      <td>Aston Villa</td>\n",
       "      <td>0.467</td>\n",
       "      <td>0.218</td>\n",
       "      <td>0.316</td>\n",
       "      <td>0.313</td>\n",
       "      <td>0.687</td>\n",
       "      <td>0.683</td>\n",
       "      <td>0.317</td>\n",
       "    </tr>\n",
       "    <tr>\n",
       "      <th>18</th>\n",
       "      <td>26/11/2023</td>\n",
       "      <td>Everton</td>\n",
       "      <td>Manchester United</td>\n",
       "      <td>0.414</td>\n",
       "      <td>0.251</td>\n",
       "      <td>0.335</td>\n",
       "      <td>0.464</td>\n",
       "      <td>0.536</td>\n",
       "      <td>0.570</td>\n",
       "      <td>0.430</td>\n",
       "    </tr>\n",
       "    <tr>\n",
       "      <th>19</th>\n",
       "      <td>27/11/2023</td>\n",
       "      <td>Fulham</td>\n",
       "      <td>Wolverhampton Wanderers</td>\n",
       "      <td>0.476</td>\n",
       "      <td>0.242</td>\n",
       "      <td>0.282</td>\n",
       "      <td>0.450</td>\n",
       "      <td>0.550</td>\n",
       "      <td>0.572</td>\n",
       "      <td>0.428</td>\n",
       "    </tr>\n",
       "  </tbody>\n",
       "</table>\n",
       "</div>"
      ],
      "text/plain": [
       "          Date                    HTeam                    ATeam  P(Hwin)  \\\n",
       "0   11/11/2023  Wolverhampton Wanderers                Tottenham    0.219   \n",
       "1   11/11/2023        Manchester United                    Luton    0.652   \n",
       "2   11/11/2023           Crystal Palace                  Everton    0.378   \n",
       "3   11/11/2023                  Arsenal                  Burnley    0.799   \n",
       "4   11/11/2023              Bournemouth         Newcastle United    0.150   \n",
       "5   12/11/2023                Liverpool                Brentford    0.647   \n",
       "6   12/11/2023                 Brighton         Sheffield United    0.787   \n",
       "7   12/11/2023              Aston Villa                   Fulham    0.706   \n",
       "8   12/11/2023                 West Ham        Nottingham Forest    0.434   \n",
       "9   12/11/2023                  Chelsea          Manchester City    0.323   \n",
       "10  25/11/2023          Manchester City                Liverpool    0.610   \n",
       "11  25/11/2023                  Burnley                 West Ham    0.328   \n",
       "12  25/11/2023         Newcastle United                  Chelsea    0.461   \n",
       "13  25/11/2023                    Luton           Crystal Palace    0.316   \n",
       "14  25/11/2023        Nottingham Forest                 Brighton    0.306   \n",
       "15  25/11/2023         Sheffield United              Bournemouth    0.368   \n",
       "16  25/11/2023                Brentford                  Arsenal    0.357   \n",
       "17  26/11/2023                Tottenham              Aston Villa    0.467   \n",
       "18  26/11/2023                  Everton        Manchester United    0.414   \n",
       "19  27/11/2023                   Fulham  Wolverhampton Wanderers    0.476   \n",
       "\n",
       "    P(Draw)  P(Awin)  P(Under)  P(Over)  P(GG)  P(NG)  \n",
       "0     0.209    0.572     0.357    0.643  0.619  0.381  \n",
       "1     0.197    0.150     0.416    0.584  0.526  0.474  \n",
       "2     0.257    0.365     0.488    0.512  0.553  0.447  \n",
       "3     0.135    0.066     0.376    0.624  0.427  0.573  \n",
       "4     0.193    0.658     0.397    0.603  0.540  0.460  \n",
       "5     0.184    0.169     0.313    0.687  0.621  0.379  \n",
       "6     0.141    0.072     0.380    0.620  0.437  0.563  \n",
       "7     0.175    0.120     0.386    0.614  0.514  0.486  \n",
       "8     0.264    0.302     0.531    0.469  0.513  0.487  \n",
       "9     0.233    0.444     0.386    0.614  0.628  0.372  \n",
       "10    0.192    0.198     0.303    0.697  0.649  0.351  \n",
       "11    0.269    0.403     0.545    0.455  0.507  0.493  \n",
       "12    0.235    0.305     0.403    0.597  0.612  0.388  \n",
       "13    0.257    0.428     0.497    0.503  0.542  0.458  \n",
       "14    0.237    0.457     0.411    0.589  0.606  0.394  \n",
       "15    0.253    0.379     0.471    0.529  0.566  0.434  \n",
       "16    0.234    0.410     0.380    0.620  0.636  0.364  \n",
       "17    0.218    0.316     0.313    0.687  0.683  0.317  \n",
       "18    0.251    0.335     0.464    0.536  0.570  0.430  \n",
       "19    0.242    0.282     0.450    0.550  0.572  0.428  "
      ]
     },
     "metadata": {},
     "output_type": "display_data"
    },
    {
     "name": "stderr",
     "output_type": "stream",
     "text": [
      "/tmp/ipykernel_11900/2946263194.py:87: SettingWithCopyWarning: \n",
      "A value is trying to be set on a copy of a slice from a DataFrame\n",
      "\n",
      "See the caveats in the documentation: https://pandas.pydata.org/pandas-docs/stable/user_guide/indexing.html#returning-a-view-versus-a-copy\n",
      "  Final_Odds['Match'][i] = str(Final_Odds['HTeam'][i] + '-' + Final_Odds['ATeam'][i])\n",
      "/tmp/ipykernel_11900/2946263194.py:91: SettingWithCopyWarning: \n",
      "A value is trying to be set on a copy of a slice from a DataFrame\n",
      "\n",
      "See the caveats in the documentation: https://pandas.pydata.org/pandas-docs/stable/user_guide/indexing.html#returning-a-view-versus-a-copy\n",
      "  Final_Odds['P(Hwin)'][i] = 1/Final_Odds.iloc[i]['B365H']\n",
      "/tmp/ipykernel_11900/2946263194.py:92: SettingWithCopyWarning: \n",
      "A value is trying to be set on a copy of a slice from a DataFrame\n",
      "\n",
      "See the caveats in the documentation: https://pandas.pydata.org/pandas-docs/stable/user_guide/indexing.html#returning-a-view-versus-a-copy\n",
      "  Final_Odds['P(Awin)'][i] = 1/Final_Odds.iloc[i]['B365A']\n",
      "/tmp/ipykernel_11900/2946263194.py:93: SettingWithCopyWarning: \n",
      "A value is trying to be set on a copy of a slice from a DataFrame\n",
      "\n",
      "See the caveats in the documentation: https://pandas.pydata.org/pandas-docs/stable/user_guide/indexing.html#returning-a-view-versus-a-copy\n",
      "  Final_Odds['P(Draw)'][i] = 1/Final_Odds.iloc[i]['B365D']\n",
      "/tmp/ipykernel_11900/2946263194.py:94: SettingWithCopyWarning: \n",
      "A value is trying to be set on a copy of a slice from a DataFrame\n",
      "\n",
      "See the caveats in the documentation: https://pandas.pydata.org/pandas-docs/stable/user_guide/indexing.html#returning-a-view-versus-a-copy\n",
      "  Final_Odds['P(Over)'][i] = 1/Final_Odds.iloc[i]['BbAv>2.5']\n",
      "/tmp/ipykernel_11900/2946263194.py:95: SettingWithCopyWarning: \n",
      "A value is trying to be set on a copy of a slice from a DataFrame\n",
      "\n",
      "See the caveats in the documentation: https://pandas.pydata.org/pandas-docs/stable/user_guide/indexing.html#returning-a-view-versus-a-copy\n",
      "  Final_Odds['P(Under)'][i] = 1/Final_Odds.iloc[i]['BbAv<2.5']\n",
      "/tmp/ipykernel_11900/2946263194.py:96: SettingWithCopyWarning: \n",
      "A value is trying to be set on a copy of a slice from a DataFrame\n",
      "\n",
      "See the caveats in the documentation: https://pandas.pydata.org/pandas-docs/stable/user_guide/indexing.html#returning-a-view-versus-a-copy\n",
      "  Final_Odds['P(GG)'][i] = 1/Final_Odds.iloc[i]['GG']\n",
      "/tmp/ipykernel_11900/2946263194.py:97: SettingWithCopyWarning: \n",
      "A value is trying to be set on a copy of a slice from a DataFrame\n",
      "\n",
      "See the caveats in the documentation: https://pandas.pydata.org/pandas-docs/stable/user_guide/indexing.html#returning-a-view-versus-a-copy\n",
      "  Final_Odds['P(NG)'][i] = 1/Final_Odds.iloc[i]['NG']\n"
     ]
    },
    {
     "data": {
      "text/html": [
       "<div>\n",
       "<style scoped>\n",
       "    .dataframe tbody tr th:only-of-type {\n",
       "        vertical-align: middle;\n",
       "    }\n",
       "\n",
       "    .dataframe tbody tr th {\n",
       "        vertical-align: top;\n",
       "    }\n",
       "\n",
       "    .dataframe thead th {\n",
       "        text-align: right;\n",
       "    }\n",
       "</style>\n",
       "<table border=\"1\" class=\"dataframe\">\n",
       "  <thead>\n",
       "    <tr style=\"text-align: right;\">\n",
       "      <th></th>\n",
       "      <th>P(Hwin)</th>\n",
       "      <th>P(Draw)</th>\n",
       "      <th>P(Awin)</th>\n",
       "      <th>P(Under)</th>\n",
       "      <th>P(Over)</th>\n",
       "      <th>P(GG)</th>\n",
       "      <th>P(NG)</th>\n",
       "      <th>Type</th>\n",
       "      <th>Match</th>\n",
       "      <th>Date</th>\n",
       "    </tr>\n",
       "  </thead>\n",
       "  <tbody>\n",
       "    <tr>\n",
       "      <th>0</th>\n",
       "      <td>0.22</td>\n",
       "      <td>0.21</td>\n",
       "      <td>0.57</td>\n",
       "      <td>0.36</td>\n",
       "      <td>0.64</td>\n",
       "      <td>0.62</td>\n",
       "      <td>0.38</td>\n",
       "      <td>Predicted</td>\n",
       "      <td>Wolverhampton Wanderers-Tottenham</td>\n",
       "      <td>11/11/2023</td>\n",
       "    </tr>\n",
       "    <tr>\n",
       "      <th>1</th>\n",
       "      <td>0.65</td>\n",
       "      <td>0.20</td>\n",
       "      <td>0.15</td>\n",
       "      <td>0.42</td>\n",
       "      <td>0.58</td>\n",
       "      <td>0.53</td>\n",
       "      <td>0.47</td>\n",
       "      <td>Predicted</td>\n",
       "      <td>Manchester United-Luton</td>\n",
       "      <td>11/11/2023</td>\n",
       "    </tr>\n",
       "    <tr>\n",
       "      <th>2</th>\n",
       "      <td>0.38</td>\n",
       "      <td>0.26</td>\n",
       "      <td>0.37</td>\n",
       "      <td>0.49</td>\n",
       "      <td>0.51</td>\n",
       "      <td>0.55</td>\n",
       "      <td>0.45</td>\n",
       "      <td>Predicted</td>\n",
       "      <td>Crystal Palace-Everton</td>\n",
       "      <td>11/11/2023</td>\n",
       "    </tr>\n",
       "    <tr>\n",
       "      <th>3</th>\n",
       "      <td>0.80</td>\n",
       "      <td>0.14</td>\n",
       "      <td>0.07</td>\n",
       "      <td>0.38</td>\n",
       "      <td>0.62</td>\n",
       "      <td>0.43</td>\n",
       "      <td>0.57</td>\n",
       "      <td>Predicted</td>\n",
       "      <td>Arsenal-Burnley</td>\n",
       "      <td>11/11/2023</td>\n",
       "    </tr>\n",
       "    <tr>\n",
       "      <th>4</th>\n",
       "      <td>0.15</td>\n",
       "      <td>0.19</td>\n",
       "      <td>0.66</td>\n",
       "      <td>0.40</td>\n",
       "      <td>0.60</td>\n",
       "      <td>0.54</td>\n",
       "      <td>0.46</td>\n",
       "      <td>Predicted</td>\n",
       "      <td>Bournemouth-Newcastle United</td>\n",
       "      <td>11/11/2023</td>\n",
       "    </tr>\n",
       "    <tr>\n",
       "      <th>5</th>\n",
       "      <td>0.65</td>\n",
       "      <td>0.18</td>\n",
       "      <td>0.17</td>\n",
       "      <td>0.31</td>\n",
       "      <td>0.69</td>\n",
       "      <td>0.62</td>\n",
       "      <td>0.38</td>\n",
       "      <td>Predicted</td>\n",
       "      <td>Liverpool-Brentford</td>\n",
       "      <td>12/11/2023</td>\n",
       "    </tr>\n",
       "    <tr>\n",
       "      <th>6</th>\n",
       "      <td>0.79</td>\n",
       "      <td>0.14</td>\n",
       "      <td>0.07</td>\n",
       "      <td>0.38</td>\n",
       "      <td>0.62</td>\n",
       "      <td>0.44</td>\n",
       "      <td>0.56</td>\n",
       "      <td>Predicted</td>\n",
       "      <td>Brighton-Sheffield United</td>\n",
       "      <td>12/11/2023</td>\n",
       "    </tr>\n",
       "    <tr>\n",
       "      <th>7</th>\n",
       "      <td>0.71</td>\n",
       "      <td>0.17</td>\n",
       "      <td>0.12</td>\n",
       "      <td>0.39</td>\n",
       "      <td>0.61</td>\n",
       "      <td>0.51</td>\n",
       "      <td>0.49</td>\n",
       "      <td>Predicted</td>\n",
       "      <td>Aston Villa-Fulham</td>\n",
       "      <td>12/11/2023</td>\n",
       "    </tr>\n",
       "    <tr>\n",
       "      <th>8</th>\n",
       "      <td>0.43</td>\n",
       "      <td>0.26</td>\n",
       "      <td>0.30</td>\n",
       "      <td>0.53</td>\n",
       "      <td>0.47</td>\n",
       "      <td>0.51</td>\n",
       "      <td>0.49</td>\n",
       "      <td>Predicted</td>\n",
       "      <td>West Ham-Nottingham Forest</td>\n",
       "      <td>12/11/2023</td>\n",
       "    </tr>\n",
       "    <tr>\n",
       "      <th>9</th>\n",
       "      <td>0.32</td>\n",
       "      <td>0.23</td>\n",
       "      <td>0.44</td>\n",
       "      <td>0.39</td>\n",
       "      <td>0.61</td>\n",
       "      <td>0.63</td>\n",
       "      <td>0.37</td>\n",
       "      <td>Predicted</td>\n",
       "      <td>Chelsea-Manchester City</td>\n",
       "      <td>12/11/2023</td>\n",
       "    </tr>\n",
       "    <tr>\n",
       "      <th>10</th>\n",
       "      <td>0.61</td>\n",
       "      <td>0.19</td>\n",
       "      <td>0.20</td>\n",
       "      <td>0.30</td>\n",
       "      <td>0.70</td>\n",
       "      <td>0.65</td>\n",
       "      <td>0.35</td>\n",
       "      <td>Predicted</td>\n",
       "      <td>Manchester City-Liverpool</td>\n",
       "      <td>25/11/2023</td>\n",
       "    </tr>\n",
       "    <tr>\n",
       "      <th>11</th>\n",
       "      <td>0.33</td>\n",
       "      <td>0.27</td>\n",
       "      <td>0.40</td>\n",
       "      <td>0.54</td>\n",
       "      <td>0.46</td>\n",
       "      <td>0.51</td>\n",
       "      <td>0.49</td>\n",
       "      <td>Predicted</td>\n",
       "      <td>Burnley-West Ham</td>\n",
       "      <td>25/11/2023</td>\n",
       "    </tr>\n",
       "    <tr>\n",
       "      <th>12</th>\n",
       "      <td>0.46</td>\n",
       "      <td>0.23</td>\n",
       "      <td>0.30</td>\n",
       "      <td>0.40</td>\n",
       "      <td>0.60</td>\n",
       "      <td>0.61</td>\n",
       "      <td>0.39</td>\n",
       "      <td>Predicted</td>\n",
       "      <td>Newcastle United-Chelsea</td>\n",
       "      <td>25/11/2023</td>\n",
       "    </tr>\n",
       "    <tr>\n",
       "      <th>13</th>\n",
       "      <td>0.32</td>\n",
       "      <td>0.26</td>\n",
       "      <td>0.43</td>\n",
       "      <td>0.50</td>\n",
       "      <td>0.50</td>\n",
       "      <td>0.54</td>\n",
       "      <td>0.46</td>\n",
       "      <td>Predicted</td>\n",
       "      <td>Luton-Crystal Palace</td>\n",
       "      <td>25/11/2023</td>\n",
       "    </tr>\n",
       "    <tr>\n",
       "      <th>14</th>\n",
       "      <td>0.31</td>\n",
       "      <td>0.24</td>\n",
       "      <td>0.46</td>\n",
       "      <td>0.41</td>\n",
       "      <td>0.59</td>\n",
       "      <td>0.61</td>\n",
       "      <td>0.39</td>\n",
       "      <td>Predicted</td>\n",
       "      <td>Nottingham Forest-Brighton</td>\n",
       "      <td>25/11/2023</td>\n",
       "    </tr>\n",
       "    <tr>\n",
       "      <th>15</th>\n",
       "      <td>0.37</td>\n",
       "      <td>0.25</td>\n",
       "      <td>0.38</td>\n",
       "      <td>0.47</td>\n",
       "      <td>0.53</td>\n",
       "      <td>0.57</td>\n",
       "      <td>0.43</td>\n",
       "      <td>Predicted</td>\n",
       "      <td>Sheffield United-Bournemouth</td>\n",
       "      <td>25/11/2023</td>\n",
       "    </tr>\n",
       "    <tr>\n",
       "      <th>16</th>\n",
       "      <td>0.36</td>\n",
       "      <td>0.23</td>\n",
       "      <td>0.41</td>\n",
       "      <td>0.38</td>\n",
       "      <td>0.62</td>\n",
       "      <td>0.64</td>\n",
       "      <td>0.36</td>\n",
       "      <td>Predicted</td>\n",
       "      <td>Brentford-Arsenal</td>\n",
       "      <td>25/11/2023</td>\n",
       "    </tr>\n",
       "    <tr>\n",
       "      <th>17</th>\n",
       "      <td>0.47</td>\n",
       "      <td>0.22</td>\n",
       "      <td>0.32</td>\n",
       "      <td>0.31</td>\n",
       "      <td>0.69</td>\n",
       "      <td>0.68</td>\n",
       "      <td>0.32</td>\n",
       "      <td>Predicted</td>\n",
       "      <td>Tottenham-Aston Villa</td>\n",
       "      <td>26/11/2023</td>\n",
       "    </tr>\n",
       "    <tr>\n",
       "      <th>18</th>\n",
       "      <td>0.41</td>\n",
       "      <td>0.25</td>\n",
       "      <td>0.34</td>\n",
       "      <td>0.46</td>\n",
       "      <td>0.54</td>\n",
       "      <td>0.57</td>\n",
       "      <td>0.43</td>\n",
       "      <td>Predicted</td>\n",
       "      <td>Everton-Manchester United</td>\n",
       "      <td>26/11/2023</td>\n",
       "    </tr>\n",
       "    <tr>\n",
       "      <th>19</th>\n",
       "      <td>0.48</td>\n",
       "      <td>0.24</td>\n",
       "      <td>0.28</td>\n",
       "      <td>0.45</td>\n",
       "      <td>0.55</td>\n",
       "      <td>0.57</td>\n",
       "      <td>0.43</td>\n",
       "      <td>Predicted</td>\n",
       "      <td>Fulham-Wolverhampton Wanderers</td>\n",
       "      <td>27/11/2023</td>\n",
       "    </tr>\n",
       "    <tr>\n",
       "      <th>20</th>\n",
       "      <td>0.32</td>\n",
       "      <td>0.27</td>\n",
       "      <td>0.45</td>\n",
       "      <td>0.44</td>\n",
       "      <td>0.61</td>\n",
       "      <td>0.65</td>\n",
       "      <td>0.42</td>\n",
       "      <td>Bookmaker</td>\n",
       "      <td>Wolverhampton Wanderers-Tottenham</td>\n",
       "      <td>NaN</td>\n",
       "    </tr>\n",
       "    <tr>\n",
       "      <th>21</th>\n",
       "      <td>0.74</td>\n",
       "      <td>0.19</td>\n",
       "      <td>0.12</td>\n",
       "      <td>0.64</td>\n",
       "      <td>0.42</td>\n",
       "      <td>0.54</td>\n",
       "      <td>0.53</td>\n",
       "      <td>Bookmaker</td>\n",
       "      <td>Manchester United-Luton</td>\n",
       "      <td>NaN</td>\n",
       "    </tr>\n",
       "    <tr>\n",
       "      <th>22</th>\n",
       "      <td>0.41</td>\n",
       "      <td>0.31</td>\n",
       "      <td>0.33</td>\n",
       "      <td>0.61</td>\n",
       "      <td>0.44</td>\n",
       "      <td>0.52</td>\n",
       "      <td>0.55</td>\n",
       "      <td>Bookmaker</td>\n",
       "      <td>Crystal Palace-Everton</td>\n",
       "      <td>NaN</td>\n",
       "    </tr>\n",
       "    <tr>\n",
       "      <th>23</th>\n",
       "      <td>0.83</td>\n",
       "      <td>0.15</td>\n",
       "      <td>0.07</td>\n",
       "      <td>0.59</td>\n",
       "      <td>0.46</td>\n",
       "      <td>0.48</td>\n",
       "      <td>0.59</td>\n",
       "      <td>Bookmaker</td>\n",
       "      <td>Arsenal-Burnley</td>\n",
       "      <td>NaN</td>\n",
       "    </tr>\n",
       "    <tr>\n",
       "      <th>24</th>\n",
       "      <td>0.21</td>\n",
       "      <td>0.25</td>\n",
       "      <td>0.59</td>\n",
       "      <td>0.44</td>\n",
       "      <td>0.61</td>\n",
       "      <td>0.61</td>\n",
       "      <td>0.47</td>\n",
       "      <td>Bookmaker</td>\n",
       "      <td>Bournemouth-Newcastle United</td>\n",
       "      <td>NaN</td>\n",
       "    </tr>\n",
       "    <tr>\n",
       "      <th>25</th>\n",
       "      <td>0.71</td>\n",
       "      <td>0.20</td>\n",
       "      <td>0.14</td>\n",
       "      <td>0.59</td>\n",
       "      <td>0.46</td>\n",
       "      <td>0.61</td>\n",
       "      <td>0.47</td>\n",
       "      <td>Bookmaker</td>\n",
       "      <td>Liverpool-Brentford</td>\n",
       "      <td>NaN</td>\n",
       "    </tr>\n",
       "    <tr>\n",
       "      <th>26</th>\n",
       "      <td>0.80</td>\n",
       "      <td>0.16</td>\n",
       "      <td>0.09</td>\n",
       "      <td>0.56</td>\n",
       "      <td>0.50</td>\n",
       "      <td>0.54</td>\n",
       "      <td>0.53</td>\n",
       "      <td>Bookmaker</td>\n",
       "      <td>Brighton-Sheffield United</td>\n",
       "      <td>NaN</td>\n",
       "    </tr>\n",
       "    <tr>\n",
       "      <th>27</th>\n",
       "      <td>0.62</td>\n",
       "      <td>0.24</td>\n",
       "      <td>0.19</td>\n",
       "      <td>0.46</td>\n",
       "      <td>0.59</td>\n",
       "      <td>0.59</td>\n",
       "      <td>0.48</td>\n",
       "      <td>Bookmaker</td>\n",
       "      <td>Aston Villa-Fulham</td>\n",
       "      <td>NaN</td>\n",
       "    </tr>\n",
       "    <tr>\n",
       "      <th>28</th>\n",
       "      <td>0.53</td>\n",
       "      <td>0.27</td>\n",
       "      <td>0.25</td>\n",
       "      <td>0.51</td>\n",
       "      <td>0.55</td>\n",
       "      <td>0.58</td>\n",
       "      <td>0.49</td>\n",
       "      <td>Bookmaker</td>\n",
       "      <td>West Ham-Nottingham Forest</td>\n",
       "      <td>NaN</td>\n",
       "    </tr>\n",
       "    <tr>\n",
       "      <th>29</th>\n",
       "      <td>0.22</td>\n",
       "      <td>0.26</td>\n",
       "      <td>0.57</td>\n",
       "      <td>0.50</td>\n",
       "      <td>0.55</td>\n",
       "      <td>0.57</td>\n",
       "      <td>0.50</td>\n",
       "      <td>Bookmaker</td>\n",
       "      <td>Chelsea-Manchester City</td>\n",
       "      <td>NaN</td>\n",
       "    </tr>\n",
       "    <tr>\n",
       "      <th>30</th>\n",
       "      <td>0.59</td>\n",
       "      <td>0.24</td>\n",
       "      <td>0.22</td>\n",
       "      <td>0.61</td>\n",
       "      <td>0.44</td>\n",
       "      <td>0.65</td>\n",
       "      <td>0.42</td>\n",
       "      <td>Bookmaker</td>\n",
       "      <td>Manchester City-Liverpool</td>\n",
       "      <td>NaN</td>\n",
       "    </tr>\n",
       "    <tr>\n",
       "      <th>31</th>\n",
       "      <td>0.32</td>\n",
       "      <td>0.28</td>\n",
       "      <td>0.44</td>\n",
       "      <td>0.50</td>\n",
       "      <td>0.56</td>\n",
       "      <td>0.62</td>\n",
       "      <td>0.45</td>\n",
       "      <td>Bookmaker</td>\n",
       "      <td>Burnley-West Ham</td>\n",
       "      <td>NaN</td>\n",
       "    </tr>\n",
       "    <tr>\n",
       "      <th>32</th>\n",
       "      <td>0.46</td>\n",
       "      <td>0.28</td>\n",
       "      <td>0.31</td>\n",
       "      <td>0.50</td>\n",
       "      <td>0.55</td>\n",
       "      <td>0.61</td>\n",
       "      <td>0.47</td>\n",
       "      <td>Bookmaker</td>\n",
       "      <td>Newcastle United-Chelsea</td>\n",
       "      <td>NaN</td>\n",
       "    </tr>\n",
       "    <tr>\n",
       "      <th>33</th>\n",
       "      <td>0.28</td>\n",
       "      <td>0.29</td>\n",
       "      <td>0.48</td>\n",
       "      <td>0.59</td>\n",
       "      <td>0.46</td>\n",
       "      <td>0.52</td>\n",
       "      <td>0.55</td>\n",
       "      <td>Bookmaker</td>\n",
       "      <td>Luton-Crystal Palace</td>\n",
       "      <td>NaN</td>\n",
       "    </tr>\n",
       "    <tr>\n",
       "      <th>34</th>\n",
       "      <td>0.30</td>\n",
       "      <td>0.26</td>\n",
       "      <td>0.48</td>\n",
       "      <td>0.44</td>\n",
       "      <td>0.61</td>\n",
       "      <td>0.64</td>\n",
       "      <td>0.43</td>\n",
       "      <td>Bookmaker</td>\n",
       "      <td>Nottingham Forest-Brighton</td>\n",
       "      <td>NaN</td>\n",
       "    </tr>\n",
       "    <tr>\n",
       "      <th>35</th>\n",
       "      <td>0.32</td>\n",
       "      <td>0.29</td>\n",
       "      <td>0.44</td>\n",
       "      <td>0.50</td>\n",
       "      <td>0.55</td>\n",
       "      <td>0.62</td>\n",
       "      <td>0.45</td>\n",
       "      <td>Bookmaker</td>\n",
       "      <td>Sheffield United-Bournemouth</td>\n",
       "      <td>NaN</td>\n",
       "    </tr>\n",
       "    <tr>\n",
       "      <th>36</th>\n",
       "      <td>0.24</td>\n",
       "      <td>0.27</td>\n",
       "      <td>0.53</td>\n",
       "      <td>0.51</td>\n",
       "      <td>0.54</td>\n",
       "      <td>0.58</td>\n",
       "      <td>0.49</td>\n",
       "      <td>Bookmaker</td>\n",
       "      <td>Brentford-Arsenal</td>\n",
       "      <td>NaN</td>\n",
       "    </tr>\n",
       "    <tr>\n",
       "      <th>37</th>\n",
       "      <td>0.47</td>\n",
       "      <td>0.26</td>\n",
       "      <td>0.33</td>\n",
       "      <td>0.61</td>\n",
       "      <td>0.44</td>\n",
       "      <td>0.69</td>\n",
       "      <td>0.38</td>\n",
       "      <td>Bookmaker</td>\n",
       "      <td>Tottenham-Aston Villa</td>\n",
       "      <td>NaN</td>\n",
       "    </tr>\n",
       "    <tr>\n",
       "      <th>38</th>\n",
       "      <td>0.33</td>\n",
       "      <td>0.29</td>\n",
       "      <td>0.43</td>\n",
       "      <td>0.51</td>\n",
       "      <td>0.54</td>\n",
       "      <td>0.61</td>\n",
       "      <td>0.47</td>\n",
       "      <td>Bookmaker</td>\n",
       "      <td>Everton-Manchester United</td>\n",
       "      <td>NaN</td>\n",
       "    </tr>\n",
       "    <tr>\n",
       "      <th>39</th>\n",
       "      <td>0.45</td>\n",
       "      <td>0.30</td>\n",
       "      <td>0.30</td>\n",
       "      <td>0.57</td>\n",
       "      <td>0.48</td>\n",
       "      <td>0.55</td>\n",
       "      <td>0.52</td>\n",
       "      <td>Bookmaker</td>\n",
       "      <td>Fulham-Wolverhampton Wanderers</td>\n",
       "      <td>NaN</td>\n",
       "    </tr>\n",
       "  </tbody>\n",
       "</table>\n",
       "</div>"
      ],
      "text/plain": [
       "    P(Hwin)  P(Draw)  P(Awin)  P(Under)  P(Over)  P(GG)  P(NG)       Type  \\\n",
       "0      0.22     0.21     0.57      0.36     0.64   0.62   0.38  Predicted   \n",
       "1      0.65     0.20     0.15      0.42     0.58   0.53   0.47  Predicted   \n",
       "2      0.38     0.26     0.37      0.49     0.51   0.55   0.45  Predicted   \n",
       "3      0.80     0.14     0.07      0.38     0.62   0.43   0.57  Predicted   \n",
       "4      0.15     0.19     0.66      0.40     0.60   0.54   0.46  Predicted   \n",
       "5      0.65     0.18     0.17      0.31     0.69   0.62   0.38  Predicted   \n",
       "6      0.79     0.14     0.07      0.38     0.62   0.44   0.56  Predicted   \n",
       "7      0.71     0.17     0.12      0.39     0.61   0.51   0.49  Predicted   \n",
       "8      0.43     0.26     0.30      0.53     0.47   0.51   0.49  Predicted   \n",
       "9      0.32     0.23     0.44      0.39     0.61   0.63   0.37  Predicted   \n",
       "10     0.61     0.19     0.20      0.30     0.70   0.65   0.35  Predicted   \n",
       "11     0.33     0.27     0.40      0.54     0.46   0.51   0.49  Predicted   \n",
       "12     0.46     0.23     0.30      0.40     0.60   0.61   0.39  Predicted   \n",
       "13     0.32     0.26     0.43      0.50     0.50   0.54   0.46  Predicted   \n",
       "14     0.31     0.24     0.46      0.41     0.59   0.61   0.39  Predicted   \n",
       "15     0.37     0.25     0.38      0.47     0.53   0.57   0.43  Predicted   \n",
       "16     0.36     0.23     0.41      0.38     0.62   0.64   0.36  Predicted   \n",
       "17     0.47     0.22     0.32      0.31     0.69   0.68   0.32  Predicted   \n",
       "18     0.41     0.25     0.34      0.46     0.54   0.57   0.43  Predicted   \n",
       "19     0.48     0.24     0.28      0.45     0.55   0.57   0.43  Predicted   \n",
       "20     0.32     0.27     0.45      0.44     0.61   0.65   0.42  Bookmaker   \n",
       "21     0.74     0.19     0.12      0.64     0.42   0.54   0.53  Bookmaker   \n",
       "22     0.41     0.31     0.33      0.61     0.44   0.52   0.55  Bookmaker   \n",
       "23     0.83     0.15     0.07      0.59     0.46   0.48   0.59  Bookmaker   \n",
       "24     0.21     0.25     0.59      0.44     0.61   0.61   0.47  Bookmaker   \n",
       "25     0.71     0.20     0.14      0.59     0.46   0.61   0.47  Bookmaker   \n",
       "26     0.80     0.16     0.09      0.56     0.50   0.54   0.53  Bookmaker   \n",
       "27     0.62     0.24     0.19      0.46     0.59   0.59   0.48  Bookmaker   \n",
       "28     0.53     0.27     0.25      0.51     0.55   0.58   0.49  Bookmaker   \n",
       "29     0.22     0.26     0.57      0.50     0.55   0.57   0.50  Bookmaker   \n",
       "30     0.59     0.24     0.22      0.61     0.44   0.65   0.42  Bookmaker   \n",
       "31     0.32     0.28     0.44      0.50     0.56   0.62   0.45  Bookmaker   \n",
       "32     0.46     0.28     0.31      0.50     0.55   0.61   0.47  Bookmaker   \n",
       "33     0.28     0.29     0.48      0.59     0.46   0.52   0.55  Bookmaker   \n",
       "34     0.30     0.26     0.48      0.44     0.61   0.64   0.43  Bookmaker   \n",
       "35     0.32     0.29     0.44      0.50     0.55   0.62   0.45  Bookmaker   \n",
       "36     0.24     0.27     0.53      0.51     0.54   0.58   0.49  Bookmaker   \n",
       "37     0.47     0.26     0.33      0.61     0.44   0.69   0.38  Bookmaker   \n",
       "38     0.33     0.29     0.43      0.51     0.54   0.61   0.47  Bookmaker   \n",
       "39     0.45     0.30     0.30      0.57     0.48   0.55   0.52  Bookmaker   \n",
       "\n",
       "                                Match        Date  \n",
       "0   Wolverhampton Wanderers-Tottenham  11/11/2023  \n",
       "1             Manchester United-Luton  11/11/2023  \n",
       "2              Crystal Palace-Everton  11/11/2023  \n",
       "3                     Arsenal-Burnley  11/11/2023  \n",
       "4        Bournemouth-Newcastle United  11/11/2023  \n",
       "5                 Liverpool-Brentford  12/11/2023  \n",
       "6           Brighton-Sheffield United  12/11/2023  \n",
       "7                  Aston Villa-Fulham  12/11/2023  \n",
       "8          West Ham-Nottingham Forest  12/11/2023  \n",
       "9             Chelsea-Manchester City  12/11/2023  \n",
       "10          Manchester City-Liverpool  25/11/2023  \n",
       "11                   Burnley-West Ham  25/11/2023  \n",
       "12           Newcastle United-Chelsea  25/11/2023  \n",
       "13               Luton-Crystal Palace  25/11/2023  \n",
       "14         Nottingham Forest-Brighton  25/11/2023  \n",
       "15       Sheffield United-Bournemouth  25/11/2023  \n",
       "16                  Brentford-Arsenal  25/11/2023  \n",
       "17              Tottenham-Aston Villa  26/11/2023  \n",
       "18          Everton-Manchester United  26/11/2023  \n",
       "19     Fulham-Wolverhampton Wanderers  27/11/2023  \n",
       "20  Wolverhampton Wanderers-Tottenham         NaN  \n",
       "21            Manchester United-Luton         NaN  \n",
       "22             Crystal Palace-Everton         NaN  \n",
       "23                    Arsenal-Burnley         NaN  \n",
       "24       Bournemouth-Newcastle United         NaN  \n",
       "25                Liverpool-Brentford         NaN  \n",
       "26          Brighton-Sheffield United         NaN  \n",
       "27                 Aston Villa-Fulham         NaN  \n",
       "28         West Ham-Nottingham Forest         NaN  \n",
       "29            Chelsea-Manchester City         NaN  \n",
       "30          Manchester City-Liverpool         NaN  \n",
       "31                   Burnley-West Ham         NaN  \n",
       "32           Newcastle United-Chelsea         NaN  \n",
       "33               Luton-Crystal Palace         NaN  \n",
       "34         Nottingham Forest-Brighton         NaN  \n",
       "35       Sheffield United-Bournemouth         NaN  \n",
       "36                  Brentford-Arsenal         NaN  \n",
       "37              Tottenham-Aston Villa         NaN  \n",
       "38          Everton-Manchester United         NaN  \n",
       "39     Fulham-Wolverhampton Wanderers         NaN  "
      ]
     },
     "metadata": {},
     "output_type": "display_data"
    }
   ],
   "source": [
    "k = range(12)\n",
    "PH = np.zeros((len(k), 1))\n",
    "PA = np.zeros((1, len(k)))\n",
    "PRED['P(Hwin)']= np.nan\n",
    "PRED['P(Awin)']= np.nan\n",
    "PRED['P(Draw)']= np.nan\n",
    "PRED['P(Over)']= np.nan\n",
    "PRED['P(Under)']= np.nan\n",
    "PRED['P(GG)']=np.nan\n",
    "PRED['P(NG)']=np.nan\n",
    "\n",
    "Pie_list = []\n",
    "for j, l in enumerate(LamdaHome):\n",
    "    for i in k:\n",
    "        PH[i, 0] = (math.exp(-l)*l**k[i]) /math.factorial(k[i])\n",
    "        PA[0, i] = (math.exp(-LamdaAway[j])*LamdaAway[j]**k[i]) /math.factorial(k[i])\n",
    "    Pscore = np.matmul(PH, PA) \n",
    "    df = pd.DataFrame(Pscore, columns = ['0','1','2', '3', '4', '5', '6', '7', '8', '9', '10', '11'])\n",
    "    PRED.loc[j,'P(Awin)'], PRED.loc[j,'P(Hwin)'], PRED.loc[j,'P(Draw)'], PRED.loc[j,'P(Over)'], PRED.loc[j,'P(Under)'], PRED.loc[j,'P(NG)'], PRED.loc[j,'P(GG)']  = sum_of_lower_upper(Pscore)\n",
    "    PRED['P(Over)'] = 1 - PRED['P(Under)']\n",
    "    df = df.iloc[0:5, 0:5]\n",
    "    pd.set_option('display.float_format', lambda x: '%.3f' % x)\n",
    "    \n",
    "    G = []\n",
    "    for i in range(0, 5):\n",
    "        for j in range(0, 5):\n",
    "            G.append(df.loc[i][j])\n",
    "\n",
    "            \n",
    "    Pie_Df = pd.DataFrame(G, columns = ['P(score)'])\n",
    "    Pie_Df['score']= ['0 - 0',\n",
    "                      '0 - 1',\n",
    "                      '0 - 2',\n",
    "                      '0 - 3',\n",
    "                      '0 - 4',\n",
    "                      '1 - 0',\n",
    "                      '1 - 1',\n",
    "                      '1 - 2',\n",
    "                      '1 - 3',\n",
    "                      '1 - 4',\n",
    "                      '2 - 0',\n",
    "                      '2 - 1',\n",
    "                      '2 - 2',\n",
    "                      '2 - 3',\n",
    "                      '2 - 4',\n",
    "                      '3 - 0',\n",
    "                      '3 - 1',\n",
    "                      '3 - 2',\n",
    "                      '3 - 3',\n",
    "                      '3 - 4',\n",
    "                      '4 - 0',\n",
    "                      '4 - 1',\n",
    "                      '4 - 2',\n",
    "                      '4 - 3',\n",
    "                      '4 - 4']\n",
    "    Pie_Df.loc[Pie_Df[\"P(score)\"] < 0.02, \"score\"] = 'Other'\n",
    "    Pie_Df = Pie_Df.sort_values(by=['P(score)'], ascending=False)\n",
    "    Pie_list.append(Pie_Df)\n",
    "    \n",
    "\n",
    "PRED = PRED[['Date', 'HTeam', 'ATeam', 'P(Hwin)', 'P(Draw)', 'P(Awin)', 'P(Under)', 'P(Over)', 'P(GG)', 'P(NG)']]\n",
    "with pd.option_context('display.max_rows', None, 'display.max_columns', None):  # more options can be specified also\n",
    "    display(PRED)\n",
    "\n",
    "pd.options.display.float_format = '{:.2f}'.format\n",
    "disp_pred = PRED.copy()\n",
    "disp_pred.rename(columns = {'ATeam':'Away Team'}, inplace = True)\n",
    "disp_pred.rename(columns = {'HTeam':'Home Team'}, inplace = True)\n",
    "html_table_blue_light = build_table(disp_pred, 'blue_light')\n",
    "\n",
    "# Save to html file\n",
    "with open('UpcomingMatchesPrediction.html', 'w') as f:\n",
    "    f.write(html_table_blue_light)\n",
    "\n",
    "json_data = disp_pred.to_json()\n",
    "with open('ProbabilityPrediction.json', 'w') as f:\n",
    "    f.write(json_data)\n",
    "\n",
    "Final_Odds = pd.concat([PRED, Odds], axis=0)\n",
    "Final_Odds['Type'] = np.nan\n",
    "Final_Odds['Match'] = np.nan\n",
    "Final_Odds = Final_Odds.reset_index(drop = 'True')\n",
    "Final_Odds.loc[Final_Odds['B365H'].isnull(), 'Type'] = 'Predicted'\n",
    "Final_Odds.loc[Final_Odds['P(Hwin)'].isnull(), 'Type'] = 'Bookmaker'\n",
    "\n",
    "for i, x in enumerate(Final_Odds['Match']):\n",
    "    Final_Odds['Match'][i] = str(Final_Odds['HTeam'][i] + '-' + Final_Odds['ATeam'][i])\n",
    "\n",
    "li  = Final_Odds.index[Final_Odds['Type'] == 'Bookmaker'].tolist()\n",
    "for i in li:\n",
    "    Final_Odds['P(Hwin)'][i] = 1/Final_Odds.iloc[i]['B365H']\n",
    "    Final_Odds['P(Awin)'][i] = 1/Final_Odds.iloc[i]['B365A']\n",
    "    Final_Odds['P(Draw)'][i] = 1/Final_Odds.iloc[i]['B365D']\n",
    "    Final_Odds['P(Over)'][i] = 1/Final_Odds.iloc[i]['BbAv>2.5']\n",
    "    Final_Odds['P(Under)'][i] = 1/Final_Odds.iloc[i]['BbAv<2.5']\n",
    "    Final_Odds['P(GG)'][i] = 1/Final_Odds.iloc[i]['GG']\n",
    "    Final_Odds['P(NG)'][i] = 1/Final_Odds.iloc[i]['NG']\n",
    "\n",
    "Final_Odds = Final_Odds[['P(Hwin)', 'P(Draw)', 'P(Awin)', 'P(Under)', 'P(Over)', 'P(GG)', 'P(NG)', 'Type', 'Match', 'Date']].copy()\n",
    "\n",
    "with pd.option_context('display.max_rows', None, 'display.max_columns', None):  # more options can be specified also\n",
    "    display(Final_Odds)\n",
    "\n",
    "    "
   ]
  },
  {
   "cell_type": "code",
   "execution_count": 6,
   "metadata": {},
   "outputs": [
    {
     "data": {
      "application/vnd.plotly.v1+json": {
       "config": {
        "plotlyServerURL": "https://plot.ly"
       },
       "data": [
        {
         "marker": {
          "color": "rgb(141,211,199)"
         },
         "name": "Predicted Home Win",
         "type": "bar",
         "x": [
          "Wolverhampton Wanderers-Tottenham",
          "Manchester United-Luton",
          "Crystal Palace-Everton",
          "Arsenal-Burnley",
          "Bournemouth-Newcastle United",
          "Liverpool-Brentford",
          "Brighton-Sheffield United",
          "Aston Villa-Fulham",
          "West Ham-Nottingham Forest",
          "Chelsea-Manchester City",
          "Manchester City-Liverpool",
          "Burnley-West Ham",
          "Newcastle United-Chelsea",
          "Luton-Crystal Palace",
          "Nottingham Forest-Brighton",
          "Sheffield United-Bournemouth",
          "Brentford-Arsenal",
          "Tottenham-Aston Villa",
          "Everton-Manchester United",
          "Fulham-Wolverhampton Wanderers"
         ],
         "xaxis": "x",
         "y": [
          0.2189215531006251,
          0.6524669011253672,
          0.377817085115781,
          0.7988016143136456,
          0.1498158493870018,
          0.6469041866554015,
          0.787027454907559,
          0.7055177208149664,
          0.43448010177930485,
          0.32297195020460584,
          0.6101538236947252,
          0.3278640919616425,
          0.46051034939581686,
          0.3155967744561661,
          0.3062631162222122,
          0.36777367804690836,
          0.356564771003037,
          0.46674327115844716,
          0.414017679937435,
          0.47589526381571917
         ],
         "yaxis": "y"
        },
        {
         "marker": {
          "color": "rgb(82, 106, 131)"
         },
         "name": "Bookmaker Home Win",
         "type": "bar",
         "x": [
          "Wolverhampton Wanderers-Tottenham",
          "Manchester United-Luton",
          "Crystal Palace-Everton",
          "Arsenal-Burnley",
          "Bournemouth-Newcastle United",
          "Liverpool-Brentford",
          "Brighton-Sheffield United",
          "Aston Villa-Fulham",
          "West Ham-Nottingham Forest",
          "Chelsea-Manchester City",
          "Manchester City-Liverpool",
          "Burnley-West Ham",
          "Newcastle United-Chelsea",
          "Luton-Crystal Palace",
          "Nottingham Forest-Brighton",
          "Sheffield United-Bournemouth",
          "Brentford-Arsenal",
          "Tottenham-Aston Villa",
          "Everton-Manchester United",
          "Fulham-Wolverhampton Wanderers"
         ],
         "xaxis": "x",
         "y": [
          0.3225806451612903,
          0.7407407407407407,
          0.4081632653061224,
          0.8333333333333334,
          0.21052631578947367,
          0.7142857142857143,
          0.8,
          0.6172839506172839,
          0.5263157894736842,
          0.2222222222222222,
          0.5882352941176471,
          0.3225806451612903,
          0.4587155963302752,
          0.2777777777777778,
          0.30303030303030304,
          0.31746031746031744,
          0.24390243902439027,
          0.46511627906976744,
          0.3333333333333333,
          0.4504504504504504
         ],
         "yaxis": "y"
        },
        {
         "marker": {
          "color": "rgb(141,211,199)"
         },
         "name": "Predicted Draw",
         "type": "bar",
         "x": [
          "Wolverhampton Wanderers-Tottenham",
          "Manchester United-Luton",
          "Crystal Palace-Everton",
          "Arsenal-Burnley",
          "Bournemouth-Newcastle United",
          "Liverpool-Brentford",
          "Brighton-Sheffield United",
          "Aston Villa-Fulham",
          "West Ham-Nottingham Forest",
          "Chelsea-Manchester City",
          "Manchester City-Liverpool",
          "Burnley-West Ham",
          "Newcastle United-Chelsea",
          "Luton-Crystal Palace",
          "Nottingham Forest-Brighton",
          "Sheffield United-Bournemouth",
          "Brentford-Arsenal",
          "Tottenham-Aston Villa",
          "Everton-Manchester United",
          "Fulham-Wolverhampton Wanderers"
         ],
         "xaxis": "x",
         "y": [
          0.2089584874580464,
          0.19706831194847482,
          0.25681485395956816,
          0.13518665025667956,
          0.19263936303546633,
          0.1838449662521991,
          0.14107615739427323,
          0.1749556322526612,
          0.26382976679216097,
          0.23310437719416982,
          0.19195174613530144,
          0.2692412054312307,
          0.23477113171044903,
          0.256754362579397,
          0.2366771583034485,
          0.25310098008606285,
          0.23390644935232693,
          0.21760953813002848,
          0.2505026072860238,
          0.24205063175160382
         ],
         "yaxis": "y"
        },
        {
         "marker": {
          "color": "rgb(82, 106, 131)"
         },
         "name": "Bookmaker Draw",
         "type": "bar",
         "x": [
          "Wolverhampton Wanderers-Tottenham",
          "Manchester United-Luton",
          "Crystal Palace-Everton",
          "Arsenal-Burnley",
          "Bournemouth-Newcastle United",
          "Liverpool-Brentford",
          "Brighton-Sheffield United",
          "Aston Villa-Fulham",
          "West Ham-Nottingham Forest",
          "Chelsea-Manchester City",
          "Manchester City-Liverpool",
          "Burnley-West Ham",
          "Newcastle United-Chelsea",
          "Luton-Crystal Palace",
          "Nottingham Forest-Brighton",
          "Sheffield United-Bournemouth",
          "Brentford-Arsenal",
          "Tottenham-Aston Villa",
          "Everton-Manchester United",
          "Fulham-Wolverhampton Wanderers"
         ],
         "xaxis": "x",
         "y": [
          0.273972602739726,
          0.1923076923076923,
          0.3076923076923077,
          0.15151515151515152,
          0.25,
          0.2,
          0.15873015873015872,
          0.24390243902439027,
          0.273972602739726,
          0.2597402597402597,
          0.23529411764705882,
          0.28169014084507044,
          0.28169014084507044,
          0.29411764705882354,
          0.2631578947368421,
          0.29411764705882354,
          0.27027027027027023,
          0.2597402597402597,
          0.2898550724637681,
          0.30303030303030304
         ],
         "yaxis": "y"
        },
        {
         "marker": {
          "color": "rgb(141,211,199)"
         },
         "name": "Predicted Away Win",
         "type": "bar",
         "x": [
          "Wolverhampton Wanderers-Tottenham",
          "Manchester United-Luton",
          "Crystal Palace-Everton",
          "Arsenal-Burnley",
          "Bournemouth-Newcastle United",
          "Liverpool-Brentford",
          "Brighton-Sheffield United",
          "Aston Villa-Fulham",
          "West Ham-Nottingham Forest",
          "Chelsea-Manchester City",
          "Manchester City-Liverpool",
          "Burnley-West Ham",
          "Newcastle United-Chelsea",
          "Luton-Crystal Palace",
          "Nottingham Forest-Brighton",
          "Sheffield United-Bournemouth",
          "Brentford-Arsenal",
          "Tottenham-Aston Villa",
          "Everton-Manchester United",
          "Fulham-Wolverhampton Wanderers"
         ],
         "xaxis": "x",
         "y": [
          0.5721178331403788,
          0.15046228984126325,
          0.36536801197926383,
          0.06599321351045528,
          0.6575414838981632,
          0.16924282673194715,
          0.07188082166389295,
          0.11952043773195298,
          0.30169009145111836,
          0.4439233279978836,
          0.1978881733807144,
          0.4028946795708266,
          0.3047181938545839,
          0.4276488026531883,
          0.45705944603841664,
          0.37912527775945576,
          0.40952849149143905,
          0.31564596530002226,
          0.33547962699518735,
          0.2820538979104983
         ],
         "yaxis": "y"
        },
        {
         "marker": {
          "color": "rgb(82, 106, 131)"
         },
         "name": "Bookmaker Away Win",
         "type": "bar",
         "x": [
          "Wolverhampton Wanderers-Tottenham",
          "Manchester United-Luton",
          "Crystal Palace-Everton",
          "Arsenal-Burnley",
          "Bournemouth-Newcastle United",
          "Liverpool-Brentford",
          "Brighton-Sheffield United",
          "Aston Villa-Fulham",
          "West Ham-Nottingham Forest",
          "Chelsea-Manchester City",
          "Manchester City-Liverpool",
          "Burnley-West Ham",
          "Newcastle United-Chelsea",
          "Luton-Crystal Palace",
          "Nottingham Forest-Brighton",
          "Sheffield United-Bournemouth",
          "Brentford-Arsenal",
          "Tottenham-Aston Villa",
          "Everton-Manchester United",
          "Fulham-Wolverhampton Wanderers"
         ],
         "xaxis": "x",
         "y": [
          0.45454545454545453,
          0.11764705882352941,
          0.3333333333333333,
          0.06666666666666667,
          0.5882352941176471,
          0.136986301369863,
          0.09302325581395349,
          0.18518518518518517,
          0.25,
          0.5714285714285714,
          0.2247191011235955,
          0.4444444444444444,
          0.3076923076923077,
          0.47619047619047616,
          0.48309178743961356,
          0.44052863436123346,
          0.53475935828877,
          0.3278688524590164,
          0.4310344827586207,
          0.29850746268656714
         ],
         "yaxis": "y"
        },
        {
         "marker": {
          "color": "rgb(141,211,199)"
         },
         "name": "Predicted Over",
         "type": "bar",
         "x": [
          "Wolverhampton Wanderers-Tottenham",
          "Manchester United-Luton",
          "Crystal Palace-Everton",
          "Arsenal-Burnley",
          "Bournemouth-Newcastle United",
          "Liverpool-Brentford",
          "Brighton-Sheffield United",
          "Aston Villa-Fulham",
          "West Ham-Nottingham Forest",
          "Chelsea-Manchester City",
          "Manchester City-Liverpool",
          "Burnley-West Ham",
          "Newcastle United-Chelsea",
          "Luton-Crystal Palace",
          "Nottingham Forest-Brighton",
          "Sheffield United-Bournemouth",
          "Brentford-Arsenal",
          "Tottenham-Aston Villa",
          "Everton-Manchester United",
          "Fulham-Wolverhampton Wanderers"
         ],
         "xaxis": "x2",
         "y": [
          0.643458112890814,
          0.5840509757511505,
          0.5123105750580736,
          0.624152387349398,
          0.6032544894882093,
          0.6865451440791904,
          0.6196879354049101,
          0.6138811496636043,
          0.4685516549932681,
          0.613707454884636,
          0.6967645474490054,
          0.45529813165023103,
          0.5971504532170155,
          0.502844112655416,
          0.588926604310446,
          0.5290923280892409,
          0.6195841351550853,
          0.6873500827973893,
          0.5362021864612881,
          0.5502337127737555
         ],
         "yaxis": "y2"
        },
        {
         "marker": {
          "color": "rgb(82, 106, 131)"
         },
         "name": "Bookmaker Over",
         "type": "bar",
         "x": [
          "Wolverhampton Wanderers-Tottenham",
          "Manchester United-Luton",
          "Crystal Palace-Everton",
          "Arsenal-Burnley",
          "Bournemouth-Newcastle United",
          "Liverpool-Brentford",
          "Brighton-Sheffield United",
          "Aston Villa-Fulham",
          "West Ham-Nottingham Forest",
          "Chelsea-Manchester City",
          "Manchester City-Liverpool",
          "Burnley-West Ham",
          "Newcastle United-Chelsea",
          "Luton-Crystal Palace",
          "Nottingham Forest-Brighton",
          "Sheffield United-Bournemouth",
          "Brentford-Arsenal",
          "Tottenham-Aston Villa",
          "Everton-Manchester United",
          "Fulham-Wolverhampton Wanderers"
         ],
         "xaxis": "x2",
         "y": [
          0.6060606060606061,
          0.4166666666666667,
          0.4444444444444444,
          0.4587155963302752,
          0.6060606060606061,
          0.4587155963302752,
          0.49504950495049505,
          0.5882352941176471,
          0.5464480874316939,
          0.5494505494505494,
          0.44052863436123346,
          0.5555555555555556,
          0.5494505494505494,
          0.4587155963302752,
          0.6060606060606061,
          0.5494505494505494,
          0.5405405405405405,
          0.4444444444444444,
          0.5405405405405405,
          0.47619047619047616
         ],
         "yaxis": "y2"
        },
        {
         "marker": {
          "color": "rgb(141,211,199)"
         },
         "name": "Predicted Under",
         "type": "bar",
         "x": [
          "Wolverhampton Wanderers-Tottenham",
          "Manchester United-Luton",
          "Crystal Palace-Everton",
          "Arsenal-Burnley",
          "Bournemouth-Newcastle United",
          "Liverpool-Brentford",
          "Brighton-Sheffield United",
          "Aston Villa-Fulham",
          "West Ham-Nottingham Forest",
          "Chelsea-Manchester City",
          "Manchester City-Liverpool",
          "Burnley-West Ham",
          "Newcastle United-Chelsea",
          "Luton-Crystal Palace",
          "Nottingham Forest-Brighton",
          "Sheffield United-Bournemouth",
          "Brentford-Arsenal",
          "Tottenham-Aston Villa",
          "Everton-Manchester United",
          "Fulham-Wolverhampton Wanderers"
         ],
         "xaxis": "x2",
         "y": [
          0.356541887109186,
          0.4159490242488495,
          0.48768942494192635,
          0.37584761265060196,
          0.3967455105117908,
          0.31345485592080957,
          0.3803120645950899,
          0.38611885033639565,
          0.5314483450067319,
          0.386292545115364,
          0.3032354525509946,
          0.544701868349769,
          0.4028495467829845,
          0.49715588734458405,
          0.4110733956895541,
          0.4709076719107591,
          0.3804158648449147,
          0.3126499172026107,
          0.46379781353871186,
          0.44976628722624445
         ],
         "yaxis": "y2"
        },
        {
         "marker": {
          "color": "rgb(82, 106, 131)"
         },
         "name": "Bookmaker Under",
         "type": "bar",
         "x": [
          "Wolverhampton Wanderers-Tottenham",
          "Manchester United-Luton",
          "Crystal Palace-Everton",
          "Arsenal-Burnley",
          "Bournemouth-Newcastle United",
          "Liverpool-Brentford",
          "Brighton-Sheffield United",
          "Aston Villa-Fulham",
          "West Ham-Nottingham Forest",
          "Chelsea-Manchester City",
          "Manchester City-Liverpool",
          "Burnley-West Ham",
          "Newcastle United-Chelsea",
          "Luton-Crystal Palace",
          "Nottingham Forest-Brighton",
          "Sheffield United-Bournemouth",
          "Brentford-Arsenal",
          "Tottenham-Aston Villa",
          "Everton-Manchester United",
          "Fulham-Wolverhampton Wanderers"
         ],
         "xaxis": "x2",
         "y": [
          0.44052863436123346,
          0.6369426751592356,
          0.6060606060606061,
          0.5882352941176471,
          0.4444444444444444,
          0.5882352941176471,
          0.5555555555555556,
          0.4587155963302752,
          0.5050505050505051,
          0.5,
          0.6060606060606061,
          0.49504950495049505,
          0.5,
          0.5882352941176471,
          0.4444444444444444,
          0.5,
          0.5050505050505051,
          0.6060606060606061,
          0.5050505050505051,
          0.5714285714285714
         ],
         "yaxis": "y2"
        }
       ],
       "layout": {
        "height": 1000,
        "template": {
         "data": {
          "bar": [
           {
            "error_x": {
             "color": "#2a3f5f"
            },
            "error_y": {
             "color": "#2a3f5f"
            },
            "marker": {
             "line": {
              "color": "#E5ECF6",
              "width": 0.5
             },
             "pattern": {
              "fillmode": "overlay",
              "size": 10,
              "solidity": 0.2
             }
            },
            "type": "bar"
           }
          ],
          "barpolar": [
           {
            "marker": {
             "line": {
              "color": "#E5ECF6",
              "width": 0.5
             },
             "pattern": {
              "fillmode": "overlay",
              "size": 10,
              "solidity": 0.2
             }
            },
            "type": "barpolar"
           }
          ],
          "carpet": [
           {
            "aaxis": {
             "endlinecolor": "#2a3f5f",
             "gridcolor": "white",
             "linecolor": "white",
             "minorgridcolor": "white",
             "startlinecolor": "#2a3f5f"
            },
            "baxis": {
             "endlinecolor": "#2a3f5f",
             "gridcolor": "white",
             "linecolor": "white",
             "minorgridcolor": "white",
             "startlinecolor": "#2a3f5f"
            },
            "type": "carpet"
           }
          ],
          "choropleth": [
           {
            "colorbar": {
             "outlinewidth": 0,
             "ticks": ""
            },
            "type": "choropleth"
           }
          ],
          "contour": [
           {
            "colorbar": {
             "outlinewidth": 0,
             "ticks": ""
            },
            "colorscale": [
             [
              0,
              "#0d0887"
             ],
             [
              0.1111111111111111,
              "#46039f"
             ],
             [
              0.2222222222222222,
              "#7201a8"
             ],
             [
              0.3333333333333333,
              "#9c179e"
             ],
             [
              0.4444444444444444,
              "#bd3786"
             ],
             [
              0.5555555555555556,
              "#d8576b"
             ],
             [
              0.6666666666666666,
              "#ed7953"
             ],
             [
              0.7777777777777778,
              "#fb9f3a"
             ],
             [
              0.8888888888888888,
              "#fdca26"
             ],
             [
              1,
              "#f0f921"
             ]
            ],
            "type": "contour"
           }
          ],
          "contourcarpet": [
           {
            "colorbar": {
             "outlinewidth": 0,
             "ticks": ""
            },
            "type": "contourcarpet"
           }
          ],
          "heatmap": [
           {
            "colorbar": {
             "outlinewidth": 0,
             "ticks": ""
            },
            "colorscale": [
             [
              0,
              "#0d0887"
             ],
             [
              0.1111111111111111,
              "#46039f"
             ],
             [
              0.2222222222222222,
              "#7201a8"
             ],
             [
              0.3333333333333333,
              "#9c179e"
             ],
             [
              0.4444444444444444,
              "#bd3786"
             ],
             [
              0.5555555555555556,
              "#d8576b"
             ],
             [
              0.6666666666666666,
              "#ed7953"
             ],
             [
              0.7777777777777778,
              "#fb9f3a"
             ],
             [
              0.8888888888888888,
              "#fdca26"
             ],
             [
              1,
              "#f0f921"
             ]
            ],
            "type": "heatmap"
           }
          ],
          "heatmapgl": [
           {
            "colorbar": {
             "outlinewidth": 0,
             "ticks": ""
            },
            "colorscale": [
             [
              0,
              "#0d0887"
             ],
             [
              0.1111111111111111,
              "#46039f"
             ],
             [
              0.2222222222222222,
              "#7201a8"
             ],
             [
              0.3333333333333333,
              "#9c179e"
             ],
             [
              0.4444444444444444,
              "#bd3786"
             ],
             [
              0.5555555555555556,
              "#d8576b"
             ],
             [
              0.6666666666666666,
              "#ed7953"
             ],
             [
              0.7777777777777778,
              "#fb9f3a"
             ],
             [
              0.8888888888888888,
              "#fdca26"
             ],
             [
              1,
              "#f0f921"
             ]
            ],
            "type": "heatmapgl"
           }
          ],
          "histogram": [
           {
            "marker": {
             "pattern": {
              "fillmode": "overlay",
              "size": 10,
              "solidity": 0.2
             }
            },
            "type": "histogram"
           }
          ],
          "histogram2d": [
           {
            "colorbar": {
             "outlinewidth": 0,
             "ticks": ""
            },
            "colorscale": [
             [
              0,
              "#0d0887"
             ],
             [
              0.1111111111111111,
              "#46039f"
             ],
             [
              0.2222222222222222,
              "#7201a8"
             ],
             [
              0.3333333333333333,
              "#9c179e"
             ],
             [
              0.4444444444444444,
              "#bd3786"
             ],
             [
              0.5555555555555556,
              "#d8576b"
             ],
             [
              0.6666666666666666,
              "#ed7953"
             ],
             [
              0.7777777777777778,
              "#fb9f3a"
             ],
             [
              0.8888888888888888,
              "#fdca26"
             ],
             [
              1,
              "#f0f921"
             ]
            ],
            "type": "histogram2d"
           }
          ],
          "histogram2dcontour": [
           {
            "colorbar": {
             "outlinewidth": 0,
             "ticks": ""
            },
            "colorscale": [
             [
              0,
              "#0d0887"
             ],
             [
              0.1111111111111111,
              "#46039f"
             ],
             [
              0.2222222222222222,
              "#7201a8"
             ],
             [
              0.3333333333333333,
              "#9c179e"
             ],
             [
              0.4444444444444444,
              "#bd3786"
             ],
             [
              0.5555555555555556,
              "#d8576b"
             ],
             [
              0.6666666666666666,
              "#ed7953"
             ],
             [
              0.7777777777777778,
              "#fb9f3a"
             ],
             [
              0.8888888888888888,
              "#fdca26"
             ],
             [
              1,
              "#f0f921"
             ]
            ],
            "type": "histogram2dcontour"
           }
          ],
          "mesh3d": [
           {
            "colorbar": {
             "outlinewidth": 0,
             "ticks": ""
            },
            "type": "mesh3d"
           }
          ],
          "parcoords": [
           {
            "line": {
             "colorbar": {
              "outlinewidth": 0,
              "ticks": ""
             }
            },
            "type": "parcoords"
           }
          ],
          "pie": [
           {
            "automargin": true,
            "type": "pie"
           }
          ],
          "scatter": [
           {
            "fillpattern": {
             "fillmode": "overlay",
             "size": 10,
             "solidity": 0.2
            },
            "type": "scatter"
           }
          ],
          "scatter3d": [
           {
            "line": {
             "colorbar": {
              "outlinewidth": 0,
              "ticks": ""
             }
            },
            "marker": {
             "colorbar": {
              "outlinewidth": 0,
              "ticks": ""
             }
            },
            "type": "scatter3d"
           }
          ],
          "scattercarpet": [
           {
            "marker": {
             "colorbar": {
              "outlinewidth": 0,
              "ticks": ""
             }
            },
            "type": "scattercarpet"
           }
          ],
          "scattergeo": [
           {
            "marker": {
             "colorbar": {
              "outlinewidth": 0,
              "ticks": ""
             }
            },
            "type": "scattergeo"
           }
          ],
          "scattergl": [
           {
            "marker": {
             "colorbar": {
              "outlinewidth": 0,
              "ticks": ""
             }
            },
            "type": "scattergl"
           }
          ],
          "scattermapbox": [
           {
            "marker": {
             "colorbar": {
              "outlinewidth": 0,
              "ticks": ""
             }
            },
            "type": "scattermapbox"
           }
          ],
          "scatterpolar": [
           {
            "marker": {
             "colorbar": {
              "outlinewidth": 0,
              "ticks": ""
             }
            },
            "type": "scatterpolar"
           }
          ],
          "scatterpolargl": [
           {
            "marker": {
             "colorbar": {
              "outlinewidth": 0,
              "ticks": ""
             }
            },
            "type": "scatterpolargl"
           }
          ],
          "scatterternary": [
           {
            "marker": {
             "colorbar": {
              "outlinewidth": 0,
              "ticks": ""
             }
            },
            "type": "scatterternary"
           }
          ],
          "surface": [
           {
            "colorbar": {
             "outlinewidth": 0,
             "ticks": ""
            },
            "colorscale": [
             [
              0,
              "#0d0887"
             ],
             [
              0.1111111111111111,
              "#46039f"
             ],
             [
              0.2222222222222222,
              "#7201a8"
             ],
             [
              0.3333333333333333,
              "#9c179e"
             ],
             [
              0.4444444444444444,
              "#bd3786"
             ],
             [
              0.5555555555555556,
              "#d8576b"
             ],
             [
              0.6666666666666666,
              "#ed7953"
             ],
             [
              0.7777777777777778,
              "#fb9f3a"
             ],
             [
              0.8888888888888888,
              "#fdca26"
             ],
             [
              1,
              "#f0f921"
             ]
            ],
            "type": "surface"
           }
          ],
          "table": [
           {
            "cells": {
             "fill": {
              "color": "#EBF0F8"
             },
             "line": {
              "color": "white"
             }
            },
            "header": {
             "fill": {
              "color": "#C8D4E3"
             },
             "line": {
              "color": "white"
             }
            },
            "type": "table"
           }
          ]
         },
         "layout": {
          "annotationdefaults": {
           "arrowcolor": "#2a3f5f",
           "arrowhead": 0,
           "arrowwidth": 1
          },
          "autotypenumbers": "strict",
          "coloraxis": {
           "colorbar": {
            "outlinewidth": 0,
            "ticks": ""
           }
          },
          "colorscale": {
           "diverging": [
            [
             0,
             "#8e0152"
            ],
            [
             0.1,
             "#c51b7d"
            ],
            [
             0.2,
             "#de77ae"
            ],
            [
             0.3,
             "#f1b6da"
            ],
            [
             0.4,
             "#fde0ef"
            ],
            [
             0.5,
             "#f7f7f7"
            ],
            [
             0.6,
             "#e6f5d0"
            ],
            [
             0.7,
             "#b8e186"
            ],
            [
             0.8,
             "#7fbc41"
            ],
            [
             0.9,
             "#4d9221"
            ],
            [
             1,
             "#276419"
            ]
           ],
           "sequential": [
            [
             0,
             "#0d0887"
            ],
            [
             0.1111111111111111,
             "#46039f"
            ],
            [
             0.2222222222222222,
             "#7201a8"
            ],
            [
             0.3333333333333333,
             "#9c179e"
            ],
            [
             0.4444444444444444,
             "#bd3786"
            ],
            [
             0.5555555555555556,
             "#d8576b"
            ],
            [
             0.6666666666666666,
             "#ed7953"
            ],
            [
             0.7777777777777778,
             "#fb9f3a"
            ],
            [
             0.8888888888888888,
             "#fdca26"
            ],
            [
             1,
             "#f0f921"
            ]
           ],
           "sequentialminus": [
            [
             0,
             "#0d0887"
            ],
            [
             0.1111111111111111,
             "#46039f"
            ],
            [
             0.2222222222222222,
             "#7201a8"
            ],
            [
             0.3333333333333333,
             "#9c179e"
            ],
            [
             0.4444444444444444,
             "#bd3786"
            ],
            [
             0.5555555555555556,
             "#d8576b"
            ],
            [
             0.6666666666666666,
             "#ed7953"
            ],
            [
             0.7777777777777778,
             "#fb9f3a"
            ],
            [
             0.8888888888888888,
             "#fdca26"
            ],
            [
             1,
             "#f0f921"
            ]
           ]
          },
          "colorway": [
           "#636efa",
           "#EF553B",
           "#00cc96",
           "#ab63fa",
           "#FFA15A",
           "#19d3f3",
           "#FF6692",
           "#B6E880",
           "#FF97FF",
           "#FECB52"
          ],
          "font": {
           "color": "#2a3f5f"
          },
          "geo": {
           "bgcolor": "white",
           "lakecolor": "white",
           "landcolor": "#E5ECF6",
           "showlakes": true,
           "showland": true,
           "subunitcolor": "white"
          },
          "hoverlabel": {
           "align": "left"
          },
          "hovermode": "closest",
          "mapbox": {
           "style": "light"
          },
          "paper_bgcolor": "white",
          "plot_bgcolor": "#E5ECF6",
          "polar": {
           "angularaxis": {
            "gridcolor": "white",
            "linecolor": "white",
            "ticks": ""
           },
           "bgcolor": "#E5ECF6",
           "radialaxis": {
            "gridcolor": "white",
            "linecolor": "white",
            "ticks": ""
           }
          },
          "scene": {
           "xaxis": {
            "backgroundcolor": "#E5ECF6",
            "gridcolor": "white",
            "gridwidth": 2,
            "linecolor": "white",
            "showbackground": true,
            "ticks": "",
            "zerolinecolor": "white"
           },
           "yaxis": {
            "backgroundcolor": "#E5ECF6",
            "gridcolor": "white",
            "gridwidth": 2,
            "linecolor": "white",
            "showbackground": true,
            "ticks": "",
            "zerolinecolor": "white"
           },
           "zaxis": {
            "backgroundcolor": "#E5ECF6",
            "gridcolor": "white",
            "gridwidth": 2,
            "linecolor": "white",
            "showbackground": true,
            "ticks": "",
            "zerolinecolor": "white"
           }
          },
          "shapedefaults": {
           "line": {
            "color": "#2a3f5f"
           }
          },
          "ternary": {
           "aaxis": {
            "gridcolor": "white",
            "linecolor": "white",
            "ticks": ""
           },
           "baxis": {
            "gridcolor": "white",
            "linecolor": "white",
            "ticks": ""
           },
           "bgcolor": "#E5ECF6",
           "caxis": {
            "gridcolor": "white",
            "linecolor": "white",
            "ticks": ""
           }
          },
          "title": {
           "x": 0.05
          },
          "xaxis": {
           "automargin": true,
           "gridcolor": "white",
           "linecolor": "white",
           "ticks": "",
           "title": {
            "standoff": 15
           },
           "zerolinecolor": "white",
           "zerolinewidth": 2
          },
          "yaxis": {
           "automargin": true,
           "gridcolor": "white",
           "linecolor": "white",
           "ticks": "",
           "title": {
            "standoff": 15
           },
           "zerolinecolor": "white",
           "zerolinewidth": 2
          }
         }
        },
        "width": 1500,
        "xaxis": {
         "anchor": "y",
         "domain": [
          0,
          1
         ]
        },
        "xaxis2": {
         "anchor": "y2",
         "domain": [
          0,
          1
         ]
        },
        "yaxis": {
         "anchor": "x",
         "domain": [
          0.575,
          1
         ]
        },
        "yaxis2": {
         "anchor": "x2",
         "domain": [
          0,
          0.425
         ]
        }
       }
      }
     },
     "metadata": {},
     "output_type": "display_data"
    }
   ],
   "source": [
    "fig = make_subplots(rows=2, cols=1)\n",
    "fig.update_layout(width=1500, height=1000)\n",
    "fig.add_trace(\n",
    "    go.Bar(name='Predicted Home Win',\n",
    "           x=Final_Odds[Final_Odds['Type']=='Predicted']['Match'],\n",
    "           y=Final_Odds[Final_Odds['Type']=='Predicted']['P(Hwin)'],\n",
    "           marker_color='rgb(141,211,199)'),\n",
    "    row=1, col=1)\n",
    "\n",
    "fig.add_trace(\n",
    "    go.Bar(name='Bookmaker Home Win',\n",
    "           x=Final_Odds[Final_Odds['Type']=='Bookmaker']['Match'],\n",
    "           y=Final_Odds[Final_Odds['Type']=='Bookmaker']['P(Hwin)'],\n",
    "           marker_color='rgb(82, 106, 131)'),\n",
    "    row=1, col=1)\n",
    "\n",
    "fig.add_trace(\n",
    "    go.Bar(name='Predicted Draw',\n",
    "           x=Final_Odds[Final_Odds['Type']=='Predicted']['Match'],\n",
    "           y=Final_Odds[Final_Odds['Type']=='Predicted']['P(Draw)'],\n",
    "           marker_color='rgb(141,211,199)'),\n",
    "    row=1, col=1)\n",
    "\n",
    "fig.add_trace(\n",
    "    go.Bar(name='Bookmaker Draw',\n",
    "           x=Final_Odds[Final_Odds['Type']=='Bookmaker']['Match'],\n",
    "           y=Final_Odds[Final_Odds['Type']=='Bookmaker']['P(Draw)'],\n",
    "           marker_color='rgb(82, 106, 131)'),\n",
    "    row=1, col=1)\n",
    "\n",
    "fig.add_trace(\n",
    "    go.Bar(name='Predicted Away Win',\n",
    "           x=Final_Odds[Final_Odds['Type']=='Predicted']['Match'],\n",
    "           y=Final_Odds[Final_Odds['Type']=='Predicted']['P(Awin)'],\n",
    "           marker_color='rgb(141,211,199)'),\n",
    "    row=1, col=1)\n",
    "\n",
    "fig.add_trace(\n",
    "    go.Bar(name='Bookmaker Away Win',\n",
    "           x=Final_Odds[Final_Odds['Type']=='Bookmaker']['Match'],\n",
    "           y=Final_Odds[Final_Odds['Type']=='Bookmaker']['P(Awin)'],\n",
    "           marker_color='rgb(82, 106, 131)'),\n",
    "    row=1, col=1)\n",
    "\n",
    "\n",
    "fig.add_trace(\n",
    "    go.Bar(name='Predicted Over',\n",
    "           x=Final_Odds[Final_Odds['Type']=='Predicted']['Match'],\n",
    "           y=Final_Odds[Final_Odds['Type']=='Predicted']['P(Over)'],\n",
    "           marker_color='rgb(141,211,199)'),\n",
    "    row=2, col=1)\n",
    "\n",
    "fig.add_trace(\n",
    "    go.Bar(name='Bookmaker Over',\n",
    "           x=Final_Odds[Final_Odds['Type']=='Bookmaker']['Match'],\n",
    "           y=Final_Odds[Final_Odds['Type']=='Bookmaker']['P(Over)'],\n",
    "           marker_color='rgb(82, 106, 131)'),\n",
    "    row=2, col=1)\n",
    "\n",
    "fig.add_trace(\n",
    "    go.Bar(name='Predicted Under',\n",
    "           x=Final_Odds[Final_Odds['Type']=='Predicted']['Match'],\n",
    "           y=Final_Odds[Final_Odds['Type']=='Predicted']['P(Under)'],\n",
    "           marker_color='rgb(141,211,199)'),\n",
    "    row=2, col=1)\n",
    "\n",
    "fig.add_trace(\n",
    "    go.Bar(name='Bookmaker Under',\n",
    "           x=Final_Odds[Final_Odds['Type']=='Bookmaker']['Match'],\n",
    "           y=Final_Odds[Final_Odds['Type']=='Bookmaker']['P(Under)'],\n",
    "           marker_color='rgb(82, 106, 131)'),\n",
    "    row=2, col=1)\n",
    "\n",
    "\n",
    "fig.show()\n"
   ]
  },
  {
   "cell_type": "code",
   "execution_count": 7,
   "metadata": {},
   "outputs": [
    {
     "data": {
      "application/vnd.plotly.v1+json": {
       "config": {
        "plotlyServerURL": "https://plot.ly"
       },
       "data": [
        {
         "fill": "toself",
         "hovertemplate": "%{theta}<br>Prob: %{r:.2f}<br>Bookmaker Odds",
         "marker": {
          "color": "rgb(82, 106, 131)"
         },
         "name": "Bookmaker Odds",
         "r": [
          0.3225806451612903,
          0.273972602739726,
          0.45454545454545453,
          0.6060606060606061,
          0.44052863436123346,
          0.6535947712418301,
          0.4166666666666667
         ],
         "subplot": "polar",
         "theta": [
          "Home",
          "Draw",
          "Away",
          "Over",
          "Under",
          "GG",
          "NG"
         ],
         "type": "scatterpolar",
         "visible": true
        },
        {
         "fill": "toself",
         "hovertemplate": "%{theta}<br>Prob: %{r:.2f}<br>Predicted Odds",
         "marker": {
          "color": "rgb(141,211,199)"
         },
         "name": "Predicted Odds",
         "r": [
          0.2189215531006251,
          0.2089584874580464,
          0.5721178331403788,
          0.643458112890814,
          0.356541887109186,
          0.6189569541289589,
          0.3810409195700915
         ],
         "subplot": "polar",
         "theta": [
          "Home",
          "Draw",
          "Away",
          "Over",
          "Under",
          "GG",
          "NG"
         ],
         "type": "scatterpolar",
         "visible": true
        },
        {
         "hovertemplate": "Score %{x}<br>Prob: %{y:.3f}",
         "marker": {
          "color": [
           0.09720301647275467,
           0.09307557643407939,
           0.07930316745549333,
           0.07593579182840754,
           0.06767565866644187,
           0.05957155757180367,
           0.057042026690866145,
           0.05521324632337878,
           0.04456169799506351,
           0.04147550706502704,
           0.03635570094878862,
           0.035338369184410724,
           0.028830839934076275,
           0.027309952447353552,
           0.024339234180902294,
           0.023305740228612162,
           0.02165737001539287,
           0.016945705641666274,
           0.011158065277783845,
           0.008848581807043369,
           0.007458236086056223,
           0.007141544039281011,
           0.005192647902600387,
           0.003419149694144294,
           0.002711458037389445
          ],
          "colorscale": [
           [
            0,
            "rgb(210, 251, 212)"
           ],
           [
            0.16666666666666666,
            "rgb(165, 219, 194)"
           ],
           [
            0.3333333333333333,
            "rgb(123, 188, 176)"
           ],
           [
            0.5,
            "rgb(85, 156, 158)"
           ],
           [
            0.6666666666666666,
            "rgb(58, 124, 137)"
           ],
           [
            0.8333333333333334,
            "rgb(35, 93, 114)"
           ],
           [
            1,
            "rgb(18, 63, 90)"
           ]
          ]
         },
         "name": "Propable Scoreline",
         "type": "bar",
         "visible": true,
         "x": [
          "1 - 2",
          "1 - 1",
          "0 - 2",
          "0 - 1",
          "1 - 3",
          "2 - 2",
          "2 - 1",
          "0 - 3",
          "1 - 0",
          "2 - 3",
          "0 - 0",
          "1 - 4",
          "0 - 4",
          "2 - 0",
          "3 - 2",
          "3 - 1",
          "2 - 4",
          "Other",
          "Other",
          "Other",
          "Other",
          "Other",
          "Other",
          "Other",
          "Other"
         ],
         "xaxis": "x",
         "y": [
          0.09720301647275467,
          0.09307557643407939,
          0.07930316745549333,
          0.07593579182840754,
          0.06767565866644187,
          0.05957155757180367,
          0.057042026690866145,
          0.05521324632337878,
          0.04456169799506351,
          0.04147550706502704,
          0.03635570094878862,
          0.035338369184410724,
          0.028830839934076275,
          0.027309952447353552,
          0.024339234180902294,
          0.023305740228612162,
          0.02165737001539287,
          0.016945705641666274,
          0.011158065277783845,
          0.008848581807043369,
          0.007458236086056223,
          0.007141544039281011,
          0.005192647902600387,
          0.003419149694144294,
          0.002711458037389445
         ],
         "yaxis": "y"
        },
        {
         "fill": "toself",
         "hovertemplate": "%{theta}<br>Prob: %{r:.2f}<br>Bookmaker Odds",
         "marker": {
          "color": "rgb(82, 106, 131)"
         },
         "name": "Bookmaker Odds",
         "r": [
          0.7407407407407407,
          0.1923076923076923,
          0.11764705882352941,
          0.4166666666666667,
          0.6369426751592356,
          0.5405405405405405,
          0.5319148936170213
         ],
         "subplot": "polar",
         "theta": [
          "Home",
          "Draw",
          "Away",
          "Over",
          "Under",
          "GG",
          "NG"
         ],
         "type": "scatterpolar",
         "visible": false
        },
        {
         "fill": "toself",
         "hovertemplate": "%{theta}<br>Prob: %{r:.2f}<br>Predicted Odds",
         "marker": {
          "color": "rgb(141,211,199)"
         },
         "name": "Predicted Odds",
         "r": [
          0.6524669011253672,
          0.19706831194847482,
          0.15046228984126325,
          0.5840509757511505,
          0.4159490242488495,
          0.5257931509023094,
          0.4742043520127958
         ],
         "subplot": "polar",
         "theta": [
          "Home",
          "Draw",
          "Away",
          "Over",
          "Under",
          "GG",
          "NG"
         ],
         "type": "scatterpolar",
         "visible": false
        },
        {
         "hovertemplate": "Score %{x}<br>Prob: %{y:.3f}",
         "marker": {
          "color": [
           0.10861147039580557,
           0.10231858935018615,
           0.09878116735758773,
           0.09305784795620772,
           0.07686092088418398,
           0.06990432466709424,
           0.048195156959298144,
           0.0449202970412257,
           0.04383306706070977,
           0.042317642968095315,
           0.040794041856049665,
           0.0371018186301113,
           0.031788681107046565,
           0.019932892526642154,
           0.016871887204988185,
           0.013618203686993607,
           0.012829173434986484,
           0.00963717434591642,
           0.006042929552528148,
           0.005114943837763211,
           0.003096408815322015,
           0.0029170048143226756,
           0.00219123111133892,
           0.0013739976847819387,
           0.0011629989940783046
          ],
          "colorscale": [
           [
            0,
            "rgb(210, 251, 212)"
           ],
           [
            0.16666666666666666,
            "rgb(165, 219, 194)"
           ],
           [
            0.3333333333333333,
            "rgb(123, 188, 176)"
           ],
           [
            0.5,
            "rgb(85, 156, 158)"
           ],
           [
            0.6666666666666666,
            "rgb(58, 124, 137)"
           ],
           [
            0.8333333333333334,
            "rgb(35, 93, 114)"
           ],
           [
            1,
            "rgb(18, 63, 90)"
           ]
          ]
         },
         "name": "Propable Scoreline",
         "type": "bar",
         "visible": false,
         "x": [
          "2 - 0",
          "1 - 0",
          "2 - 1",
          "1 - 1",
          "3 - 0",
          "3 - 1",
          "0 - 0",
          "2 - 2",
          "0 - 1",
          "1 - 2",
          "4 - 0",
          "4 - 1",
          "3 - 2",
          "Other",
          "Other",
          "Other",
          "Other",
          "Other",
          "Other",
          "Other",
          "Other",
          "Other",
          "Other",
          "Other",
          "Other"
         ],
         "xaxis": "x",
         "y": [
          0.10861147039580557,
          0.10231858935018615,
          0.09878116735758773,
          0.09305784795620772,
          0.07686092088418398,
          0.06990432466709424,
          0.048195156959298144,
          0.0449202970412257,
          0.04383306706070977,
          0.042317642968095315,
          0.040794041856049665,
          0.0371018186301113,
          0.031788681107046565,
          0.019932892526642154,
          0.016871887204988185,
          0.013618203686993607,
          0.012829173434986484,
          0.00963717434591642,
          0.006042929552528148,
          0.005114943837763211,
          0.003096408815322015,
          0.0029170048143226756,
          0.00219123111133892,
          0.0013739976847819387,
          0.0011629989940783046
         ],
         "yaxis": "y"
        },
        {
         "fill": "toself",
         "hovertemplate": "%{theta}<br>Prob: %{r:.2f}<br>Bookmaker Odds",
         "marker": {
          "color": "rgb(82, 106, 131)"
         },
         "name": "Bookmaker Odds",
         "r": [
          0.4081632653061224,
          0.3076923076923077,
          0.3333333333333333,
          0.4444444444444444,
          0.6060606060606061,
          0.5235602094240838,
          0.5464480874316939
         ],
         "subplot": "polar",
         "theta": [
          "Home",
          "Draw",
          "Away",
          "Over",
          "Under",
          "GG",
          "NG"
         ],
         "type": "scatterpolar",
         "visible": false
        },
        {
         "fill": "toself",
         "hovertemplate": "%{theta}<br>Prob: %{r:.2f}<br>Predicted Odds",
         "marker": {
          "color": "rgb(141,211,199)"
         },
         "name": "Predicted Odds",
         "r": [
          0.377817085115781,
          0.25681485395956816,
          0.36536801197926383,
          0.5123105750580736,
          0.48768942494192635,
          0.5533269019442224,
          0.4466730491103903
         ],
         "subplot": "polar",
         "theta": [
          "Home",
          "Draw",
          "Away",
          "Over",
          "Under",
          "GG",
          "NG"
         ],
         "type": "scatterpolar",
         "visible": false
        },
        {
         "hovertemplate": "Score %{x}<br>Prob: %{y:.3f}",
         "marker": {
          "color": [
           0.12169080213055199,
           0.09023537332452418,
           0.08845657936228166,
           0.08370576518976067,
           0.08205568823835331,
           0.06559174828351244,
           0.062068955410531264,
           0.059645966430524805,
           0.056442508816690405,
           0.03838501625064748,
           0.03688657841231862,
           0.02846300797433483,
           0.02681271298739435,
           0.025882884091011193,
           0.025372659372585826,
           0.013201684518583555,
           0.01243624631191779,
           0.01163515965872786,
           0.009789227371259951,
           0.009039859953251576,
           0.008901850346222824,
           0.008554348359957643,
           0.004001657994225403,
           0.003922774017611399,
           0.001349152093099053
          ],
          "colorscale": [
           [
            0,
            "rgb(210, 251, 212)"
           ],
           [
            0.16666666666666666,
            "rgb(165, 219, 194)"
           ],
           [
            0.3333333333333333,
            "rgb(123, 188, 176)"
           ],
           [
            0.5,
            "rgb(85, 156, 158)"
           ],
           [
            0.6666666666666666,
            "rgb(58, 124, 137)"
           ],
           [
            0.8333333333333334,
            "rgb(35, 93, 114)"
           ],
           [
            1,
            "rgb(18, 63, 90)"
           ]
          ]
         },
         "name": "Propable Scoreline",
         "type": "bar",
         "visible": false,
         "x": [
          "1 - 1",
          "1 - 0",
          "0 - 1",
          "2 - 1",
          "1 - 2",
          "0 - 0",
          "2 - 0",
          "0 - 2",
          "2 - 2",
          "3 - 1",
          "1 - 3",
          "3 - 0",
          "0 - 3",
          "3 - 2",
          "2 - 3",
          "Other",
          "Other",
          "Other",
          "Other",
          "Other",
          "Other",
          "Other",
          "Other",
          "Other",
          "Other"
         ],
         "xaxis": "x",
         "y": [
          0.12169080213055199,
          0.09023537332452418,
          0.08845657936228166,
          0.08370576518976067,
          0.08205568823835331,
          0.06559174828351244,
          0.062068955410531264,
          0.059645966430524805,
          0.056442508816690405,
          0.03838501625064748,
          0.03688657841231862,
          0.02846300797433483,
          0.02681271298739435,
          0.025882884091011193,
          0.025372659372585826,
          0.013201684518583555,
          0.01243624631191779,
          0.01163515965872786,
          0.009789227371259951,
          0.009039859953251576,
          0.008901850346222824,
          0.008554348359957643,
          0.004001657994225403,
          0.003922774017611399,
          0.001349152093099053
         ],
         "yaxis": "y"
        },
        {
         "fill": "toself",
         "hovertemplate": "%{theta}<br>Prob: %{r:.2f}<br>Bookmaker Odds",
         "marker": {
          "color": "rgb(82, 106, 131)"
         },
         "name": "Bookmaker Odds",
         "r": [
          0.8333333333333334,
          0.15151515151515152,
          0.06666666666666667,
          0.4587155963302752,
          0.5882352941176471,
          0.48309178743961356,
          0.5882352941176471
         ],
         "subplot": "polar",
         "theta": [
          "Home",
          "Draw",
          "Away",
          "Over",
          "Under",
          "GG",
          "NG"
         ],
         "type": "scatterpolar",
         "visible": false
        },
        {
         "fill": "toself",
         "hovertemplate": "%{theta}<br>Prob: %{r:.2f}<br>Predicted Odds",
         "marker": {
          "color": "rgb(141,211,199)"
         },
         "name": "Predicted Odds",
         "r": [
          0.7988016143136456,
          0.13518665025667956,
          0.06599321351045528,
          0.624152387349398,
          0.37584761265060196,
          0.42678908862543385,
          0.5731923894553466
         ],
         "subplot": "polar",
         "theta": [
          "Home",
          "Draw",
          "Away",
          "Over",
          "Under",
          "GG",
          "NG"
         ],
         "type": "scatterpolar",
         "visible": false
        },
        {
         "hovertemplate": "Score %{x}<br>Prob: %{y:.3f}",
         "marker": {
          "color": [
           0.13527003842055293,
           0.11730137223936343,
           0.10399414172785222,
           0.08359863616871938,
           0.07628968740915432,
           0.07249376768447863,
           0.06426972683304881,
           0.047148015152586764,
           0.039974785399593024,
           0.025832520086754285,
           0.02470493525072773,
           0.022401043793277953,
           0.01985976189891684,
           0.01456904208367363,
           0.007633985018827184,
           0.0053216106913975296,
           0.004614711756670514,
           0.004091196712320606,
           0.0030012855832696047,
           0.0015726338799980251,
           0.000822206087202002,
           0.0007129879123158329,
           0.000632103142428,
           0.0004637083430369902,
           0.00024297702783194602
          ],
          "colorscale": [
           [
            0,
            "rgb(210, 251, 212)"
           ],
           [
            0.16666666666666666,
            "rgb(165, 219, 194)"
           ],
           [
            0.3333333333333333,
            "rgb(123, 188, 176)"
           ],
           [
            0.5,
            "rgb(85, 156, 158)"
           ],
           [
            0.6666666666666666,
            "rgb(58, 124, 137)"
           ],
           [
            0.8333333333333334,
            "rgb(35, 93, 114)"
           ],
           [
            1,
            "rgb(18, 63, 90)"
           ]
          ]
         },
         "name": "Propable Scoreline",
         "type": "bar",
         "visible": false,
         "x": [
          "2 - 0",
          "3 - 0",
          "1 - 0",
          "2 - 1",
          "4 - 0",
          "3 - 1",
          "1 - 1",
          "4 - 1",
          "0 - 0",
          "2 - 2",
          "0 - 1",
          "3 - 2",
          "Other",
          "Other",
          "Other",
          "Other",
          "Other",
          "Other",
          "Other",
          "Other",
          "Other",
          "Other",
          "Other",
          "Other",
          "Other"
         ],
         "xaxis": "x",
         "y": [
          0.13527003842055293,
          0.11730137223936343,
          0.10399414172785222,
          0.08359863616871938,
          0.07628968740915432,
          0.07249376768447863,
          0.06426972683304881,
          0.047148015152586764,
          0.039974785399593024,
          0.025832520086754285,
          0.02470493525072773,
          0.022401043793277953,
          0.01985976189891684,
          0.01456904208367363,
          0.007633985018827184,
          0.0053216106913975296,
          0.004614711756670514,
          0.004091196712320606,
          0.0030012855832696047,
          0.0015726338799980251,
          0.000822206087202002,
          0.0007129879123158329,
          0.000632103142428,
          0.0004637083430369902,
          0.00024297702783194602
         ],
         "yaxis": "y"
        },
        {
         "fill": "toself",
         "hovertemplate": "%{theta}<br>Prob: %{r:.2f}<br>Bookmaker Odds",
         "marker": {
          "color": "rgb(82, 106, 131)"
         },
         "name": "Bookmaker Odds",
         "r": [
          0.21052631578947367,
          0.25,
          0.5882352941176471,
          0.6060606060606061,
          0.4444444444444444,
          0.6060606060606061,
          0.46511627906976744
         ],
         "subplot": "polar",
         "theta": [
          "Home",
          "Draw",
          "Away",
          "Over",
          "Under",
          "GG",
          "NG"
         ],
         "type": "scatterpolar",
         "visible": false
        },
        {
         "fill": "toself",
         "hovertemplate": "%{theta}<br>Prob: %{r:.2f}<br>Predicted Odds",
         "marker": {
          "color": "rgb(141,211,199)"
         },
         "name": "Predicted Odds",
         "r": [
          0.1498158493870018,
          0.19263936303546633,
          0.6575414838981632,
          0.6032544894882093,
          0.3967455105117908,
          0.5398104253168785,
          0.4601862710037528
         ],
         "subplot": "polar",
         "theta": [
          "Home",
          "Draw",
          "Away",
          "Over",
          "Under",
          "GG",
          "NG"
         ],
         "type": "scatterpolar",
         "visible": false
        },
        {
         "hovertemplate": "Score %{x}<br>Prob: %{y:.3f}",
         "marker": {
          "color": [
           0.1051672799571641,
           0.09858944126310099,
           0.09634985145836075,
           0.09032351150406905,
           0.07652775523214563,
           0.07174121677892298,
           0.04621151147262467,
           0.0441358466237283,
           0.04233704882228832,
           0.041765585193821314,
           0.04137530665507032,
           0.03915329663334882,
           0.0336270296267523,
           0.019393714313398334,
           0.01835219870791837,
           0.014440382020799456,
           0.013229672415914112,
           0.010507926240904335,
           0.006060235524943159,
           0.005734778019995189,
           0.003384296892617707,
           0.003100550884529131,
           0.0024626732224761324,
           0.0014202973457388562,
           0.0013440220213680716
          ],
          "colorscale": [
           [
            0,
            "rgb(210, 251, 212)"
           ],
           [
            0.16666666666666666,
            "rgb(165, 219, 194)"
           ],
           [
            0.3333333333333333,
            "rgb(123, 188, 176)"
           ],
           [
            0.5,
            "rgb(85, 156, 158)"
           ],
           [
            0.6666666666666666,
            "rgb(58, 124, 137)"
           ],
           [
            0.8333333333333334,
            "rgb(35, 93, 114)"
           ],
           [
            1,
            "rgb(18, 63, 90)"
           ]
          ]
         },
         "name": "Propable Scoreline",
         "type": "bar",
         "visible": false,
         "x": [
          "0 - 2",
          "1 - 2",
          "0 - 1",
          "1 - 1",
          "0 - 3",
          "1 - 3",
          "2 - 2",
          "0 - 0",
          "2 - 1",
          "0 - 4",
          "1 - 0",
          "1 - 4",
          "2 - 3",
          "Other",
          "Other",
          "Other",
          "Other",
          "Other",
          "Other",
          "Other",
          "Other",
          "Other",
          "Other",
          "Other",
          "Other"
         ],
         "xaxis": "x",
         "y": [
          0.1051672799571641,
          0.09858944126310099,
          0.09634985145836075,
          0.09032351150406905,
          0.07652775523214563,
          0.07174121677892298,
          0.04621151147262467,
          0.0441358466237283,
          0.04233704882228832,
          0.041765585193821314,
          0.04137530665507032,
          0.03915329663334882,
          0.0336270296267523,
          0.019393714313398334,
          0.01835219870791837,
          0.014440382020799456,
          0.013229672415914112,
          0.010507926240904335,
          0.006060235524943159,
          0.005734778019995189,
          0.003384296892617707,
          0.003100550884529131,
          0.0024626732224761324,
          0.0014202973457388562,
          0.0013440220213680716
         ],
         "yaxis": "y"
        },
        {
         "fill": "toself",
         "hovertemplate": "%{theta}<br>Prob: %{r:.2f}<br>Bookmaker Odds",
         "marker": {
          "color": "rgb(82, 106, 131)"
         },
         "name": "Bookmaker Odds",
         "r": [
          0.7142857142857143,
          0.2,
          0.136986301369863,
          0.4587155963302752,
          0.5882352941176471,
          0.6060606060606061,
          0.46511627906976744
         ],
         "subplot": "polar",
         "theta": [
          "Home",
          "Draw",
          "Away",
          "Over",
          "Under",
          "GG",
          "NG"
         ],
         "type": "scatterpolar",
         "visible": false
        },
        {
         "fill": "toself",
         "hovertemplate": "%{theta}<br>Prob: %{r:.2f}<br>Predicted Odds",
         "marker": {
          "color": "rgb(141,211,199)"
         },
         "name": "Predicted Odds",
         "r": [
          0.6469041866554015,
          0.1838449662521991,
          0.16924282673194715,
          0.6865451440791904,
          0.31345485592080957,
          0.6214908290840991,
          0.37850115055544853
         ],
         "subplot": "polar",
         "theta": [
          "Home",
          "Draw",
          "Away",
          "Over",
          "Under",
          "GG",
          "NG"
         ],
         "type": "scatterpolar",
         "visible": false
        },
        {
         "hovertemplate": "Score %{x}<br>Prob: %{y:.3f}",
         "marker": {
          "color": [
           0.09529775726431715,
           0.08263393024324425,
           0.07984518424553401,
           0.07582726184780665,
           0.06923480231443954,
           0.06575080931536305,
           0.05495117146719028,
           0.04604081498094821,
           0.04525111978806834,
           0.04372397617007252,
           0.03923783710486172,
           0.03344912634995658,
           0.029004174419692528,
           0.0260929754690836,
           0.021124185446402627,
           0.01928763834794268,
           0.017698889537628108,
           0.01680825642856723,
           0.010030593305666967,
           0.007414503429255475,
           0.006090378041900889,
           0.005102820578786215,
           0.004846039443031794,
           0.0028919508101778934,
           0.0021376979951114035
          ],
          "colorscale": [
           [
            0,
            "rgb(210, 251, 212)"
           ],
           [
            0.16666666666666666,
            "rgb(165, 219, 194)"
           ],
           [
            0.3333333333333333,
            "rgb(123, 188, 176)"
           ],
           [
            0.5,
            "rgb(85, 156, 158)"
           ],
           [
            0.6666666666666666,
            "rgb(58, 124, 137)"
           ],
           [
            0.8333333333333334,
            "rgb(35, 93, 114)"
           ],
           [
            1,
            "rgb(18, 63, 90)"
           ]
          ]
         },
         "name": "Propable Scoreline",
         "type": "bar",
         "visible": false,
         "x": [
          "2 - 1",
          "2 - 0",
          "1 - 1",
          "3 - 1",
          "1 - 0",
          "3 - 0",
          "2 - 2",
          "1 - 2",
          "4 - 1",
          "3 - 2",
          "4 - 0",
          "0 - 1",
          "0 - 0",
          "4 - 2",
          "2 - 3",
          "Other",
          "Other",
          "Other",
          "Other",
          "Other",
          "Other",
          "Other",
          "Other",
          "Other",
          "Other"
         ],
         "xaxis": "x",
         "y": [
          0.09529775726431715,
          0.08263393024324425,
          0.07984518424553401,
          0.07582726184780665,
          0.06923480231443954,
          0.06575080931536305,
          0.05495117146719028,
          0.04604081498094821,
          0.04525111978806834,
          0.04372397617007252,
          0.03923783710486172,
          0.03344912634995658,
          0.029004174419692528,
          0.0260929754690836,
          0.021124185446402627,
          0.01928763834794268,
          0.017698889537628108,
          0.01680825642856723,
          0.010030593305666967,
          0.007414503429255475,
          0.006090378041900889,
          0.005102820578786215,
          0.004846039443031794,
          0.0028919508101778934,
          0.0021376979951114035
         ],
         "yaxis": "y"
        },
        {
         "fill": "toself",
         "hovertemplate": "%{theta}<br>Prob: %{r:.2f}<br>Bookmaker Odds",
         "marker": {
          "color": "rgb(82, 106, 131)"
         },
         "name": "Bookmaker Odds",
         "r": [
          0.8,
          0.15873015873015872,
          0.09302325581395349,
          0.49504950495049505,
          0.5555555555555556,
          0.5405405405405405,
          0.5263157894736842
         ],
         "subplot": "polar",
         "theta": [
          "Home",
          "Draw",
          "Away",
          "Over",
          "Under",
          "GG",
          "NG"
         ],
         "type": "scatterpolar",
         "visible": false
        },
        {
         "fill": "toself",
         "hovertemplate": "%{theta}<br>Prob: %{r:.2f}<br>Predicted Odds",
         "marker": {
          "color": "rgb(141,211,199)"
         },
         "name": "Predicted Odds",
         "r": [
          0.787027454907559,
          0.14107615739427323,
          0.07188082166389295,
          0.6196879354049101,
          0.3803120645950899,
          0.4374138274100914,
          0.5625706065556341
         ],
         "subplot": "polar",
         "theta": [
          "Home",
          "Draw",
          "Away",
          "Over",
          "Under",
          "GG",
          "NG"
         ],
         "type": "scatterpolar",
         "visible": false
        },
        {
         "hovertemplate": "Score %{x}<br>Prob: %{y:.3f}",
         "marker": {
          "color": [
           0.1333178695126944,
           0.1135462436752474,
           0.10435486462671589,
           0.0857177124574229,
           0.07300539906279084,
           0.07253012761840053,
           0.06709573376999088,
           0.046633783201150365,
           0.04084200344284407,
           0.027556419314943403,
           0.02625966886581122,
           0.02346968124969867,
           0.021569849696211372,
           0.014991768297262589,
           0.008441924377033404,
           0.005905868022614875,
           0.0050300018449201764,
           0.0046228315848127295,
           0.0032130228524008954,
           0.0018092659520759285,
           0.0009493054059902062,
           0.000808519243105141,
           0.0007430709588566048,
           0.0005164592150848243,
           0.0002908202388883112
          ],
          "colorscale": [
           [
            0,
            "rgb(210, 251, 212)"
           ],
           [
            0.16666666666666666,
            "rgb(165, 219, 194)"
           ],
           [
            0.3333333333333333,
            "rgb(123, 188, 176)"
           ],
           [
            0.5,
            "rgb(85, 156, 158)"
           ],
           [
            0.6666666666666666,
            "rgb(58, 124, 137)"
           ],
           [
            0.8333333333333334,
            "rgb(35, 93, 114)"
           ],
           [
            1,
            "rgb(18, 63, 90)"
           ]
          ]
         },
         "name": "Propable Scoreline",
         "type": "bar",
         "visible": false,
         "x": [
          "2 - 0",
          "3 - 0",
          "1 - 0",
          "2 - 1",
          "3 - 1",
          "4 - 0",
          "1 - 1",
          "4 - 1",
          "0 - 0",
          "2 - 2",
          "0 - 1",
          "3 - 2",
          "1 - 2",
          "Other",
          "Other",
          "Other",
          "Other",
          "Other",
          "Other",
          "Other",
          "Other",
          "Other",
          "Other",
          "Other",
          "Other"
         ],
         "xaxis": "x",
         "y": [
          0.1333178695126944,
          0.1135462436752474,
          0.10435486462671589,
          0.0857177124574229,
          0.07300539906279084,
          0.07253012761840053,
          0.06709573376999088,
          0.046633783201150365,
          0.04084200344284407,
          0.027556419314943403,
          0.02625966886581122,
          0.02346968124969867,
          0.021569849696211372,
          0.014991768297262589,
          0.008441924377033404,
          0.005905868022614875,
          0.0050300018449201764,
          0.0046228315848127295,
          0.0032130228524008954,
          0.0018092659520759285,
          0.0009493054059902062,
          0.000808519243105141,
          0.0007430709588566048,
          0.0005164592150848243,
          0.0002908202388883112
         ],
         "yaxis": "y"
        },
        {
         "fill": "toself",
         "hovertemplate": "%{theta}<br>Prob: %{r:.2f}<br>Bookmaker Odds",
         "marker": {
          "color": "rgb(82, 106, 131)"
         },
         "name": "Bookmaker Odds",
         "r": [
          0.6172839506172839,
          0.24390243902439027,
          0.18518518518518517,
          0.5882352941176471,
          0.4587155963302752,
          0.5882352941176471,
          0.48309178743961356
         ],
         "subplot": "polar",
         "theta": [
          "Home",
          "Draw",
          "Away",
          "Over",
          "Under",
          "GG",
          "NG"
         ],
         "type": "scatterpolar",
         "visible": false
        },
        {
         "fill": "toself",
         "hovertemplate": "%{theta}<br>Prob: %{r:.2f}<br>Predicted Odds",
         "marker": {
          "color": "rgb(141,211,199)"
         },
         "name": "Predicted Odds",
         "r": [
          0.7055177208149664,
          0.1749556322526612,
          0.11952043773195298,
          0.6138811496636043,
          0.38611885033639565,
          0.5144790252927227,
          0.48551476550685846
         ],
         "subplot": "polar",
         "theta": [
          "Home",
          "Draw",
          "Away",
          "Over",
          "Under",
          "GG",
          "NG"
         ],
         "type": "scatterpolar",
         "visible": false
        },
        {
         "hovertemplate": "Score %{x}<br>Prob: %{y:.3f}",
         "marker": {
          "color": [
           0.11358106698898325,
           0.09766247674823683,
           0.09590700194408075,
           0.0880628822033829,
           0.08246546361697228,
           0.07435963790955054,
           0.05120838860440816,
           0.043239979651825064,
           0.041987452739482664,
           0.040491576922736944,
           0.03545389049658381,
           0.03481660979729839,
           0.031394360550619456,
           0.01825575741831971,
           0.014968499746136813,
           0.011396928054991472,
           0.009799628148236119,
           0.008836387607491766,
           0.005138341593437335,
           0.004213096344046963,
           0.002405870164154724,
           0.002068683145834751,
           0.001865344871985936,
           0.0010846942854457968,
           0.0008893767464305994
          ],
          "colorscale": [
           [
            0,
            "rgb(210, 251, 212)"
           ],
           [
            0.16666666666666666,
            "rgb(165, 219, 194)"
           ],
           [
            0.3333333333333333,
            "rgb(123, 188, 176)"
           ],
           [
            0.5,
            "rgb(85, 156, 158)"
           ],
           [
            0.6666666666666666,
            "rgb(58, 124, 137)"
           ],
           [
            0.8333333333333334,
            "rgb(35, 93, 114)"
           ],
           [
            1,
            "rgb(18, 63, 90)"
           ]
          ]
         },
         "name": "Propable Scoreline",
         "type": "bar",
         "visible": false,
         "x": [
          "2 - 0",
          "1 - 0",
          "2 - 1",
          "3 - 0",
          "1 - 1",
          "3 - 1",
          "4 - 0",
          "4 - 1",
          "0 - 0",
          "2 - 2",
          "0 - 1",
          "1 - 2",
          "3 - 2",
          "Other",
          "Other",
          "Other",
          "Other",
          "Other",
          "Other",
          "Other",
          "Other",
          "Other",
          "Other",
          "Other",
          "Other"
         ],
         "xaxis": "x",
         "y": [
          0.11358106698898325,
          0.09766247674823683,
          0.09590700194408075,
          0.0880628822033829,
          0.08246546361697228,
          0.07435963790955054,
          0.05120838860440816,
          0.043239979651825064,
          0.041987452739482664,
          0.040491576922736944,
          0.03545389049658381,
          0.03481660979729839,
          0.031394360550619456,
          0.01825575741831971,
          0.014968499746136813,
          0.011396928054991472,
          0.009799628148236119,
          0.008836387607491766,
          0.005138341593437335,
          0.004213096344046963,
          0.002405870164154724,
          0.002068683145834751,
          0.001865344871985936,
          0.0010846942854457968,
          0.0008893767464305994
         ],
         "yaxis": "y"
        },
        {
         "fill": "toself",
         "hovertemplate": "%{theta}<br>Prob: %{r:.2f}<br>Bookmaker Odds",
         "marker": {
          "color": "rgb(82, 106, 131)"
         },
         "name": "Bookmaker Odds",
         "r": [
          0.5263157894736842,
          0.273972602739726,
          0.25,
          0.5464480874316939,
          0.5050505050505051,
          0.5813953488372093,
          0.48780487804878053
         ],
         "subplot": "polar",
         "theta": [
          "Home",
          "Draw",
          "Away",
          "Over",
          "Under",
          "GG",
          "NG"
         ],
         "type": "scatterpolar",
         "visible": false
        },
        {
         "fill": "toself",
         "hovertemplate": "%{theta}<br>Prob: %{r:.2f}<br>Predicted Odds",
         "marker": {
          "color": "rgb(141,211,199)"
         },
         "name": "Predicted Odds",
         "r": [
          0.43448010177930485,
          0.26382976679216097,
          0.30169009145111836,
          0.4685516549932681,
          0.5314483450067319,
          0.5133412790784847,
          0.48665868094409975
         ],
         "subplot": "polar",
         "theta": [
          "Home",
          "Draw",
          "Away",
          "Over",
          "Under",
          "GG",
          "NG"
         ],
         "type": "scatterpolar",
         "visible": false
        },
        {
         "hovertemplate": "Score %{x}<br>Prob: %{y:.3f}",
         "marker": {
          "color": [
           0.1254204937648677,
           0.11067098005694921,
           0.08874560546501949,
           0.08862579827923746,
           0.0783090772308236,
           0.07820335943088239,
           0.07106786371697757,
           0.05028652340097345,
           0.05021863624397154,
           0.041863347065209465,
           0.0369401962079401,
           0.02684644325492554,
           0.02372131184194256,
           0.01899612885998726,
           0.01897048395365593,
           0.014810929101663864,
           0.013069156323910756,
           0.008960911711561265,
           0.00839241705500054,
           0.007606090971478295,
           0.005381952567905931,
           0.005374686894436304,
           0.0031703014056537245,
           0.0025387910427581628,
           0.0008982046772241831
          ],
          "colorscale": [
           [
            0,
            "rgb(210, 251, 212)"
           ],
           [
            0.16666666666666666,
            "rgb(165, 219, 194)"
           ],
           [
            0.3333333333333333,
            "rgb(123, 188, 176)"
           ],
           [
            0.5,
            "rgb(85, 156, 158)"
           ],
           [
            0.6666666666666666,
            "rgb(58, 124, 137)"
           ],
           [
            0.8333333333333334,
            "rgb(35, 93, 114)"
           ],
           [
            1,
            "rgb(18, 63, 90)"
           ]
          ]
         },
         "name": "Propable Scoreline",
         "type": "bar",
         "visible": false,
         "x": [
          "1 - 1",
          "1 - 0",
          "2 - 1",
          "0 - 1",
          "2 - 0",
          "0 - 0",
          "1 - 2",
          "2 - 2",
          "0 - 2",
          "3 - 1",
          "3 - 0",
          "1 - 3",
          "3 - 2",
          "Other",
          "Other",
          "Other",
          "Other",
          "Other",
          "Other",
          "Other",
          "Other",
          "Other",
          "Other",
          "Other",
          "Other"
         ],
         "xaxis": "x",
         "y": [
          0.1254204937648677,
          0.11067098005694921,
          0.08874560546501949,
          0.08862579827923746,
          0.0783090772308236,
          0.07820335943088239,
          0.07106786371697757,
          0.05028652340097345,
          0.05021863624397154,
          0.041863347065209465,
          0.0369401962079401,
          0.02684644325492554,
          0.02372131184194256,
          0.01899612885998726,
          0.01897048395365593,
          0.014810929101663864,
          0.013069156323910756,
          0.008960911711561265,
          0.00839241705500054,
          0.007606090971478295,
          0.005381952567905931,
          0.005374686894436304,
          0.0031703014056537245,
          0.0025387910427581628,
          0.0008982046772241831
         ],
         "yaxis": "y"
        },
        {
         "fill": "toself",
         "hovertemplate": "%{theta}<br>Prob: %{r:.2f}<br>Bookmaker Odds",
         "marker": {
          "color": "rgb(82, 106, 131)"
         },
         "name": "Bookmaker Odds",
         "r": [
          0.2222222222222222,
          0.2597402597402597,
          0.5714285714285714,
          0.5494505494505494,
          0.5,
          0.5714285714285714,
          0.5
         ],
         "subplot": "polar",
         "theta": [
          "Home",
          "Draw",
          "Away",
          "Over",
          "Under",
          "GG",
          "NG"
         ],
         "type": "scatterpolar",
         "visible": false
        },
        {
         "fill": "toself",
         "hovertemplate": "%{theta}<br>Prob: %{r:.2f}<br>Predicted Odds",
         "marker": {
          "color": "rgb(141,211,199)"
         },
         "name": "Predicted Odds",
         "r": [
          0.32297195020460584,
          0.23310437719416982,
          0.4439233279978836,
          0.613707454884636,
          0.386292545115364,
          0.6279330168610501,
          0.37206663853560845
         ],
         "subplot": "polar",
         "theta": [
          "Home",
          "Draw",
          "Away",
          "Over",
          "Under",
          "GG",
          "NG"
         ],
         "type": "scatterpolar",
         "visible": false
        },
        {
         "hovertemplate": "Score %{x}<br>Prob: %{y:.3f}",
         "marker": {
          "color": [
           0.10469982929636046,
           0.09036344318656092,
           0.07556282742256763,
           0.07253602484581649,
           0.06521612603099491,
           0.06260377886176514,
           0.060655359446934634,
           0.05199341087378239,
           0.04377552942487798,
           0.042022023239609255,
           0.03752412166638404,
           0.03635625722579358,
           0.0360210266655184,
           0.031378051009040134,
           0.022437016665374235,
           0.021062134150512706,
           0.018054335259926876,
           0.016193000786696433,
           0.015544361526119113,
           0.013119322203988608,
           0.011322913653188946,
           0.007791091492200924,
           0.00760036773059707,
           0.006514989702674019,
           0.0028114511065352715
          ],
          "colorscale": [
           [
            0,
            "rgb(210, 251, 212)"
           ],
           [
            0.16666666666666666,
            "rgb(165, 219, 194)"
           ],
           [
            0.3333333333333333,
            "rgb(123, 188, 176)"
           ],
           [
            0.5,
            "rgb(85, 156, 158)"
           ],
           [
            0.6666666666666666,
            "rgb(58, 124, 137)"
           ],
           [
            0.8333333333333334,
            "rgb(35, 93, 114)"
           ],
           [
            1,
            "rgb(18, 63, 90)"
           ]
          ]
         },
         "name": "Propable Scoreline",
         "type": "bar",
         "visible": false,
         "x": [
          "1 - 1",
          "1 - 2",
          "2 - 1",
          "0 - 1",
          "2 - 2",
          "0 - 2",
          "1 - 0",
          "1 - 3",
          "2 - 0",
          "0 - 0",
          "2 - 3",
          "3 - 1",
          "0 - 3",
          "3 - 2",
          "1 - 4",
          "3 - 0",
          "Other",
          "Other",
          "Other",
          "Other",
          "Other",
          "Other",
          "Other",
          "Other",
          "Other"
         ],
         "xaxis": "x",
         "y": [
          0.10469982929636046,
          0.09036344318656092,
          0.07556282742256763,
          0.07253602484581649,
          0.06521612603099491,
          0.06260377886176514,
          0.060655359446934634,
          0.05199341087378239,
          0.04377552942487798,
          0.042022023239609255,
          0.03752412166638404,
          0.03635625722579358,
          0.0360210266655184,
          0.031378051009040134,
          0.022437016665374235,
          0.021062134150512706,
          0.018054335259926876,
          0.016193000786696433,
          0.015544361526119113,
          0.013119322203988608,
          0.011322913653188946,
          0.007791091492200924,
          0.00760036773059707,
          0.006514989702674019,
          0.0028114511065352715
         ],
         "yaxis": "y"
        },
        {
         "fill": "toself",
         "hovertemplate": "%{theta}<br>Prob: %{r:.2f}<br>Bookmaker Odds",
         "marker": {
          "color": "rgb(82, 106, 131)"
         },
         "name": "Bookmaker Odds",
         "r": [
          0.5882352941176471,
          0.23529411764705882,
          0.2247191011235955,
          0.44052863436123346,
          0.6060606060606061,
          0.6535947712418301,
          0.4166666666666667
         ],
         "subplot": "polar",
         "theta": [
          "Home",
          "Draw",
          "Away",
          "Over",
          "Under",
          "GG",
          "NG"
         ],
         "type": "scatterpolar",
         "visible": false
        },
        {
         "fill": "toself",
         "hovertemplate": "%{theta}<br>Prob: %{r:.2f}<br>Predicted Odds",
         "marker": {
          "color": "rgb(141,211,199)"
         },
         "name": "Predicted Odds",
         "r": [
          0.6101538236947252,
          0.19195174613530144,
          0.1978881733807144,
          0.6967645474490054,
          0.3032354525509946,
          0.6489762559415837,
          0.35101748726915744
         ],
         "subplot": "polar",
         "theta": [
          "Home",
          "Draw",
          "Away",
          "Over",
          "Under",
          "GG",
          "NG"
         ],
         "type": "scatterpolar",
         "visible": false
        },
        {
         "hovertemplate": "Score %{x}<br>Prob: %{y:.3f}",
         "marker": {
          "color": [
           0.09423196999822209,
           0.08097742161947295,
           0.07420552744486675,
           0.07310403313385237,
           0.06376787286216898,
           0.05983155484167431,
           0.05756775897974839,
           0.05141572486125772,
           0.0464166032788892,
           0.04253492466943185,
           0.03479362053166036,
           0.03349528318236812,
           0.027399182711739082,
           0.02700708345685242,
           0.02532625926452082,
           0.02209182738108648,
           0.021763900028258773,
           0.019647808450412294,
           0.011431900765687257,
           0.009351308842984084,
           0.008040315140117677,
           0.0069093746959447535,
           0.006237580137832918,
           0.0036292799440556145,
           0.0029687554440971176
          ],
          "colorscale": [
           [
            0,
            "rgb(210, 251, 212)"
           ],
           [
            0.16666666666666666,
            "rgb(165, 219, 194)"
           ],
           [
            0.3333333333333333,
            "rgb(123, 188, 176)"
           ],
           [
            0.5,
            "rgb(85, 156, 158)"
           ],
           [
            0.6666666666666666,
            "rgb(58, 124, 137)"
           ],
           [
            0.8333333333333334,
            "rgb(35, 93, 114)"
           ],
           [
            1,
            "rgb(18, 63, 90)"
           ]
          ]
         },
         "name": "Propable Scoreline",
         "type": "bar",
         "visible": false,
         "x": [
          "2 - 1",
          "1 - 1",
          "2 - 0",
          "3 - 1",
          "1 - 0",
          "2 - 2",
          "3 - 0",
          "1 - 2",
          "3 - 2",
          "4 - 1",
          "0 - 1",
          "4 - 0",
          "0 - 0",
          "4 - 2",
          "2 - 3",
          "0 - 2",
          "1 - 3",
          "Other",
          "Other",
          "Other",
          "Other",
          "Other",
          "Other",
          "Other",
          "Other"
         ],
         "xaxis": "x",
         "y": [
          0.09423196999822209,
          0.08097742161947295,
          0.07420552744486675,
          0.07310403313385237,
          0.06376787286216898,
          0.05983155484167431,
          0.05756775897974839,
          0.05141572486125772,
          0.0464166032788892,
          0.04253492466943185,
          0.03479362053166036,
          0.03349528318236812,
          0.027399182711739082,
          0.02700708345685242,
          0.02532625926452082,
          0.02209182738108648,
          0.021763900028258773,
          0.019647808450412294,
          0.011431900765687257,
          0.009351308842984084,
          0.008040315140117677,
          0.0069093746959447535,
          0.006237580137832918,
          0.0036292799440556145,
          0.0029687554440971176
         ],
         "yaxis": "y"
        },
        {
         "fill": "toself",
         "hovertemplate": "%{theta}<br>Prob: %{r:.2f}<br>Bookmaker Odds",
         "marker": {
          "color": "rgb(82, 106, 131)"
         },
         "name": "Bookmaker Odds",
         "r": [
          0.3225806451612903,
          0.28169014084507044,
          0.4444444444444444,
          0.5555555555555556,
          0.49504950495049505,
          0.6172839506172839,
          0.45454545454545453
         ],
         "subplot": "polar",
         "theta": [
          "Home",
          "Draw",
          "Away",
          "Over",
          "Under",
          "GG",
          "NG"
         ],
         "type": "scatterpolar",
         "visible": false
        },
        {
         "fill": "toself",
         "hovertemplate": "%{theta}<br>Prob: %{r:.2f}<br>Predicted Odds",
         "marker": {
          "color": "rgb(141,211,199)"
         },
         "name": "Predicted Odds",
         "r": [
          0.3278640919616425,
          0.2692412054312307,
          0.4028946795708266,
          0.45529813165023103,
          0.544701868349769,
          0.5065863653569574,
          0.49341361160674235
         ],
         "subplot": "polar",
         "theta": [
          "Home",
          "Draw",
          "Away",
          "Over",
          "Under",
          "GG",
          "NG"
         ],
         "type": "scatterpolar",
         "visible": false
        },
        {
         "hovertemplate": "Score %{x}<br>Prob: %{y:.3f}",
         "marker": {
          "color": [
           0.12783565523507243,
           0.10930598077442244,
           0.09633321539186897,
           0.08481993818489135,
           0.08236979401559806,
           0.0747532506162934,
           0.07252535699431213,
           0.0563318659384949,
           0.049599355396851195,
           0.037519119896345175,
           0.03208075392207171,
           0.0291418356244284,
           0.021960436022017554,
           0.021939701934932252,
           0.01933583155429493,
           0.012447111975557909,
           0.010642913198164947,
           0.008552981738795346,
           0.008520498204690448,
           0.0072785802931658915,
           0.006420798542387295,
           0.005653415940156597,
           0.002837484507147466,
           0.002500723238211778,
           0.0008296245288241399
          ],
          "colorscale": [
           [
            0,
            "rgb(210, 251, 212)"
           ],
           [
            0.16666666666666666,
            "rgb(165, 219, 194)"
           ],
           [
            0.3333333333333333,
            "rgb(123, 188, 176)"
           ],
           [
            0.5,
            "rgb(85, 156, 158)"
           ],
           [
            0.6666666666666666,
            "rgb(58, 124, 137)"
           ],
           [
            0.8333333333333334,
            "rgb(35, 93, 114)"
           ],
           [
            1,
            "rgb(18, 63, 90)"
           ]
          ]
         },
         "name": "Propable Scoreline",
         "type": "bar",
         "visible": false,
         "x": [
          "1 - 1",
          "0 - 1",
          "1 - 0",
          "1 - 2",
          "0 - 0",
          "2 - 1",
          "0 - 2",
          "2 - 0",
          "2 - 2",
          "1 - 3",
          "0 - 3",
          "3 - 1",
          "3 - 0",
          "2 - 3",
          "Other",
          "Other",
          "Other",
          "Other",
          "Other",
          "Other",
          "Other",
          "Other",
          "Other",
          "Other",
          "Other"
         ],
         "xaxis": "x",
         "y": [
          0.12783565523507243,
          0.10930598077442244,
          0.09633321539186897,
          0.08481993818489135,
          0.08236979401559806,
          0.0747532506162934,
          0.07252535699431213,
          0.0563318659384949,
          0.049599355396851195,
          0.037519119896345175,
          0.03208075392207171,
          0.0291418356244284,
          0.021960436022017554,
          0.021939701934932252,
          0.01933583155429493,
          0.012447111975557909,
          0.010642913198164947,
          0.008552981738795346,
          0.008520498204690448,
          0.0072785802931658915,
          0.006420798542387295,
          0.005653415940156597,
          0.002837484507147466,
          0.002500723238211778,
          0.0008296245288241399
         ],
         "yaxis": "y"
        },
        {
         "fill": "toself",
         "hovertemplate": "%{theta}<br>Prob: %{r:.2f}<br>Bookmaker Odds",
         "marker": {
          "color": "rgb(82, 106, 131)"
         },
         "name": "Bookmaker Odds",
         "r": [
          0.4587155963302752,
          0.28169014084507044,
          0.3076923076923077,
          0.5494505494505494,
          0.5,
          0.6060606060606061,
          0.46511627906976744
         ],
         "subplot": "polar",
         "theta": [
          "Home",
          "Draw",
          "Away",
          "Over",
          "Under",
          "GG",
          "NG"
         ],
         "type": "scatterpolar",
         "visible": false
        },
        {
         "fill": "toself",
         "hovertemplate": "%{theta}<br>Prob: %{r:.2f}<br>Predicted Odds",
         "marker": {
          "color": "rgb(141,211,199)"
         },
         "name": "Predicted Odds",
         "r": [
          0.46051034939581686,
          0.23477113171044903,
          0.3047181938545839,
          0.5971504532170155,
          0.4028495467829845,
          0.6122953877022455,
          0.38770428725860423
         ],
         "subplot": "polar",
         "theta": [
          "Home",
          "Draw",
          "Away",
          "Over",
          "Under",
          "GG",
          "NG"
         ],
         "type": "scatterpolar",
         "visible": false
        },
        {
         "hovertemplate": "Score %{x}<br>Prob: %{y:.3f}",
         "marker": {
          "color": [
           0.10705130782658366,
           0.09241380966861415,
           0.07838641860477827,
           0.0730992862753612,
           0.06766837058432855,
           0.0631041662723641,
           0.06200362558624203,
           0.053185165075558025,
           0.045401053465786635,
           0.04233877071526535,
           0.03894389239905814,
           0.036317142558954484,
           0.03327691342562174,
           0.02872684515593273,
           0.022956486110606442,
           0.019273835346789402,
           0.01680947917867396,
           0.016532615711839515,
           0.015675686585669684,
           0.011361461481631125,
           0.009807969283491725,
           0.007136026792840701,
           0.006580506283591922,
           0.005644594322742982,
           0.0024363946409862234
          ],
          "colorscale": [
           [
            0,
            "rgb(210, 251, 212)"
           ],
           [
            0.16666666666666666,
            "rgb(165, 219, 194)"
           ],
           [
            0.3333333333333333,
            "rgb(123, 188, 176)"
           ],
           [
            0.5,
            "rgb(85, 156, 158)"
           ],
           [
            0.6666666666666666,
            "rgb(58, 124, 137)"
           ],
           [
            0.8333333333333334,
            "rgb(35, 93, 114)"
           ],
           [
            1,
            "rgb(18, 63, 90)"
           ]
          ]
         },
         "name": "Propable Scoreline",
         "type": "bar",
         "visible": false,
         "x": [
          "1 - 1",
          "2 - 1",
          "1 - 0",
          "1 - 2",
          "2 - 0",
          "2 - 2",
          "0 - 1",
          "3 - 1",
          "0 - 0",
          "0 - 2",
          "3 - 0",
          "3 - 2",
          "1 - 3",
          "2 - 3",
          "4 - 1",
          "Other",
          "Other",
          "Other",
          "Other",
          "Other",
          "Other",
          "Other",
          "Other",
          "Other",
          "Other"
         ],
         "xaxis": "x",
         "y": [
          0.10705130782658366,
          0.09241380966861415,
          0.07838641860477827,
          0.0730992862753612,
          0.06766837058432855,
          0.0631041662723641,
          0.06200362558624203,
          0.053185165075558025,
          0.045401053465786635,
          0.04233877071526535,
          0.03894389239905814,
          0.036317142558954484,
          0.03327691342562174,
          0.02872684515593273,
          0.022956486110606442,
          0.019273835346789402,
          0.01680947917867396,
          0.016532615711839515,
          0.015675686585669684,
          0.011361461481631125,
          0.009807969283491725,
          0.007136026792840701,
          0.006580506283591922,
          0.005644594322742982,
          0.0024363946409862234
         ],
         "yaxis": "y"
        },
        {
         "fill": "toself",
         "hovertemplate": "%{theta}<br>Prob: %{r:.2f}<br>Bookmaker Odds",
         "marker": {
          "color": "rgb(82, 106, 131)"
         },
         "name": "Bookmaker Odds",
         "r": [
          0.2777777777777778,
          0.29411764705882354,
          0.47619047619047616,
          0.4587155963302752,
          0.5882352941176471,
          0.5181347150259068,
          0.5494505494505494
         ],
         "subplot": "polar",
         "theta": [
          "Home",
          "Draw",
          "Away",
          "Over",
          "Under",
          "GG",
          "NG"
         ],
         "type": "scatterpolar",
         "visible": false
        },
        {
         "fill": "toself",
         "hovertemplate": "%{theta}<br>Prob: %{r:.2f}<br>Predicted Odds",
         "marker": {
          "color": "rgb(141,211,199)"
         },
         "name": "Predicted Odds",
         "r": [
          0.3155967744561661,
          0.256754362579397,
          0.4276488026531883,
          0.502844112655416,
          0.49715588734458405,
          0.5420909565204873,
          0.45790898316826395
         ],
         "subplot": "polar",
         "theta": [
          "Home",
          "Draw",
          "Away",
          "Over",
          "Under",
          "GG",
          "NG"
         ],
         "type": "scatterpolar",
         "visible": false
        },
        {
         "hovertemplate": "Score %{x}<br>Prob: %{y:.3f}",
         "marker": {
          "color": [
           0.12192854771321122,
           0.09984097255307477,
           0.08927505825629607,
           0.08326273338726367,
           0.07445125166198607,
           0.07310272129219522,
           0.06817953985940112,
           0.05451258096677705,
           0.05084137253943803,
           0.043577631742220166,
           0.03568346557310451,
           0.030307306904992025,
           0.026609102531956485,
           0.022190755489835463,
           0.02069629518143521,
           0.01595358792269363,
           0.013063566849489625,
           0.010831923156426523,
           0.009741480659130235,
           0.009253029646871292,
           0.006774990568366816,
           0.006318721537830742,
           0.003965521565516529,
           0.00330706078284169,
           0.0012107010605085485
          ],
          "colorscale": [
           [
            0,
            "rgb(210, 251, 212)"
           ],
           [
            0.16666666666666666,
            "rgb(165, 219, 194)"
           ],
           [
            0.3333333333333333,
            "rgb(123, 188, 176)"
           ],
           [
            0.5,
            "rgb(85, 156, 158)"
           ],
           [
            0.6666666666666666,
            "rgb(58, 124, 137)"
           ],
           [
            0.8333333333333334,
            "rgb(35, 93, 114)"
           ],
           [
            1,
            "rgb(18, 63, 90)"
           ]
          ]
         },
         "name": "Propable Scoreline",
         "type": "bar",
         "visible": false,
         "x": [
          "1 - 1",
          "0 - 1",
          "1 - 2",
          "1 - 0",
          "2 - 1",
          "0 - 2",
          "0 - 0",
          "2 - 2",
          "2 - 0",
          "1 - 3",
          "0 - 3",
          "3 - 1",
          "2 - 3",
          "3 - 2",
          "3 - 0",
          "Other",
          "Other",
          "Other",
          "Other",
          "Other",
          "Other",
          "Other",
          "Other",
          "Other",
          "Other"
         ],
         "xaxis": "x",
         "y": [
          0.12192854771321122,
          0.09984097255307477,
          0.08927505825629607,
          0.08326273338726367,
          0.07445125166198607,
          0.07310272129219522,
          0.06817953985940112,
          0.05451258096677705,
          0.05084137253943803,
          0.043577631742220166,
          0.03568346557310451,
          0.030307306904992025,
          0.026609102531956485,
          0.022190755489835463,
          0.02069629518143521,
          0.01595358792269363,
          0.013063566849489625,
          0.010831923156426523,
          0.009741480659130235,
          0.009253029646871292,
          0.006774990568366816,
          0.006318721537830742,
          0.003965521565516529,
          0.00330706078284169,
          0.0012107010605085485
         ],
         "yaxis": "y"
        },
        {
         "fill": "toself",
         "hovertemplate": "%{theta}<br>Prob: %{r:.2f}<br>Bookmaker Odds",
         "marker": {
          "color": "rgb(82, 106, 131)"
         },
         "name": "Bookmaker Odds",
         "r": [
          0.30303030303030304,
          0.2631578947368421,
          0.48309178743961356,
          0.6060606060606061,
          0.4444444444444444,
          0.6369426751592356,
          0.4347826086956522
         ],
         "subplot": "polar",
         "theta": [
          "Home",
          "Draw",
          "Away",
          "Over",
          "Under",
          "GG",
          "NG"
         ],
         "type": "scatterpolar",
         "visible": false
        },
        {
         "fill": "toself",
         "hovertemplate": "%{theta}<br>Prob: %{r:.2f}<br>Predicted Odds",
         "marker": {
          "color": "rgb(141,211,199)"
         },
         "name": "Predicted Odds",
         "r": [
          0.3062631162222122,
          0.2366771583034485,
          0.45705944603841664,
          0.588926604310446,
          0.4110733956895541,
          0.606334496224412,
          0.3936652243396654
         ],
         "subplot": "polar",
         "theta": [
          "Home",
          "Draw",
          "Away",
          "Over",
          "Under",
          "GG",
          "NG"
         ],
         "type": "scatterpolar",
         "visible": false
        },
        {
         "hovertemplate": "Score %{x}<br>Prob: %{y:.3f}",
         "marker": {
          "color": [
           0.1085441761620267,
           0.09231208995353651,
           0.08018517655131845,
           0.07346643535262855,
           0.06819399706619235,
           0.06381524990184516,
           0.062480000573352665,
           0.052338272169600464,
           0.047142437862420436,
           0.04319235814575097,
           0.03866401443819305,
           0.035424344490638915,
           0.033149741817962576,
           0.028192410287110645,
           0.022255709423418518,
           0.019489383337684813,
           0.016441029380772763,
           0.015984277286610307,
           0.015063430350623184,
           0.011218443265856566,
           0.009540796941058664,
           0.006796965507026656,
           0.006595542808779115,
           0.0054093545847283655,
           0.0023002101295173548
          ],
          "colorscale": [
           [
            0,
            "rgb(210, 251, 212)"
           ],
           [
            0.16666666666666666,
            "rgb(165, 219, 194)"
           ],
           [
            0.3333333333333333,
            "rgb(123, 188, 176)"
           ],
           [
            0.5,
            "rgb(85, 156, 158)"
           ],
           [
            0.6666666666666666,
            "rgb(58, 124, 137)"
           ],
           [
            0.8333333333333334,
            "rgb(35, 93, 114)"
           ],
           [
            1,
            "rgb(18, 63, 90)"
           ]
          ]
         },
         "name": "Propable Scoreline",
         "type": "bar",
         "visible": false,
         "x": [
          "1 - 1",
          "1 - 2",
          "0 - 1",
          "2 - 1",
          "0 - 2",
          "1 - 0",
          "2 - 2",
          "1 - 3",
          "0 - 0",
          "2 - 0",
          "0 - 3",
          "2 - 3",
          "3 - 1",
          "3 - 2",
          "1 - 4",
          "Other",
          "Other",
          "Other",
          "Other",
          "Other",
          "Other",
          "Other",
          "Other",
          "Other",
          "Other"
         ],
         "xaxis": "x",
         "y": [
          0.1085441761620267,
          0.09231208995353651,
          0.08018517655131845,
          0.07346643535262855,
          0.06819399706619235,
          0.06381524990184516,
          0.062480000573352665,
          0.052338272169600464,
          0.047142437862420436,
          0.04319235814575097,
          0.03866401443819305,
          0.035424344490638915,
          0.033149741817962576,
          0.028192410287110645,
          0.022255709423418518,
          0.019489383337684813,
          0.016441029380772763,
          0.015984277286610307,
          0.015063430350623184,
          0.011218443265856566,
          0.009540796941058664,
          0.006796965507026656,
          0.006595542808779115,
          0.0054093545847283655,
          0.0023002101295173548
         ],
         "yaxis": "y"
        },
        {
         "fill": "toself",
         "hovertemplate": "%{theta}<br>Prob: %{r:.2f}<br>Bookmaker Odds",
         "marker": {
          "color": "rgb(82, 106, 131)"
         },
         "name": "Bookmaker Odds",
         "r": [
          0.31746031746031744,
          0.29411764705882354,
          0.44052863436123346,
          0.5494505494505494,
          0.5,
          0.6172839506172839,
          0.45454545454545453
         ],
         "subplot": "polar",
         "theta": [
          "Home",
          "Draw",
          "Away",
          "Over",
          "Under",
          "GG",
          "NG"
         ],
         "type": "scatterpolar",
         "visible": false
        },
        {
         "fill": "toself",
         "hovertemplate": "%{theta}<br>Prob: %{r:.2f}<br>Predicted Odds",
         "marker": {
          "color": "rgb(141,211,199)"
         },
         "name": "Predicted Odds",
         "r": [
          0.36777367804690836,
          0.25310098008606285,
          0.37912527775945576,
          0.5290923280892409,
          0.4709076719107591,
          0.5664440247038972,
          0.4335559111885297
         ],
         "subplot": "polar",
         "theta": [
          "Home",
          "Draw",
          "Away",
          "Over",
          "Under",
          "GG",
          "NG"
         ],
         "type": "scatterpolar",
         "visible": false
        },
        {
         "hovertemplate": "Score %{x}<br>Prob: %{y:.3f}",
         "marker": {
          "color": [
           0.11938530560990822,
           0.08623300596014301,
           0.08470314004339316,
           0.08413413710677958,
           0.0826415073722402,
           0.061181787347190465,
           0.060770791761312726,
           0.05863364118881156,
           0.05823976306335259,
           0.03952777376601424,
           0.03813768484524569,
           0.02855124199198765,
           0.027362117895531012,
           0.027058452829470645,
           0.02687668460798203,
           0.013928159418639546,
           0.013199931713526432,
           0.012627163542623698,
           0.010060426180805328,
           0.00964142180980192,
           0.009365270363736146,
           0.009302358099368897,
           0.004449356239184684,
           0.0043704198924110005,
           0.00153997807587715
          ],
          "colorscale": [
           [
            0,
            "rgb(210, 251, 212)"
           ],
           [
            0.16666666666666666,
            "rgb(165, 219, 194)"
           ],
           [
            0.3333333333333333,
            "rgb(123, 188, 176)"
           ],
           [
            0.5,
            "rgb(85, 156, 158)"
           ],
           [
            0.6666666666666666,
            "rgb(58, 124, 137)"
           ],
           [
            0.8333333333333334,
            "rgb(35, 93, 114)"
           ],
           [
            1,
            "rgb(18, 63, 90)"
           ]
          ]
         },
         "name": "Propable Scoreline",
         "type": "bar",
         "visible": false,
         "x": [
          "1 - 1",
          "0 - 1",
          "1 - 0",
          "1 - 2",
          "2 - 1",
          "0 - 0",
          "0 - 2",
          "2 - 0",
          "2 - 2",
          "1 - 3",
          "3 - 1",
          "0 - 3",
          "2 - 3",
          "3 - 0",
          "3 - 2",
          "Other",
          "Other",
          "Other",
          "Other",
          "Other",
          "Other",
          "Other",
          "Other",
          "Other",
          "Other"
         ],
         "xaxis": "x",
         "y": [
          0.11938530560990822,
          0.08623300596014301,
          0.08470314004339316,
          0.08413413710677958,
          0.0826415073722402,
          0.061181787347190465,
          0.060770791761312726,
          0.05863364118881156,
          0.05823976306335259,
          0.03952777376601424,
          0.03813768484524569,
          0.02855124199198765,
          0.027362117895531012,
          0.027058452829470645,
          0.02687668460798203,
          0.013928159418639546,
          0.013199931713526432,
          0.012627163542623698,
          0.010060426180805328,
          0.00964142180980192,
          0.009365270363736146,
          0.009302358099368897,
          0.004449356239184684,
          0.0043704198924110005,
          0.00153997807587715
         ],
         "yaxis": "y"
        },
        {
         "fill": "toself",
         "hovertemplate": "%{theta}<br>Prob: %{r:.2f}<br>Bookmaker Odds",
         "marker": {
          "color": "rgb(82, 106, 131)"
         },
         "name": "Bookmaker Odds",
         "r": [
          0.24390243902439027,
          0.27027027027027023,
          0.53475935828877,
          0.5405405405405405,
          0.5050505050505051,
          0.5813953488372093,
          0.48780487804878053
         ],
         "subplot": "polar",
         "theta": [
          "Home",
          "Draw",
          "Away",
          "Over",
          "Under",
          "GG",
          "NG"
         ],
         "type": "scatterpolar",
         "visible": false
        },
        {
         "fill": "toself",
         "hovertemplate": "%{theta}<br>Prob: %{r:.2f}<br>Predicted Odds",
         "marker": {
          "color": "rgb(141,211,199)"
         },
         "name": "Predicted Odds",
         "r": [
          0.356564771003037,
          0.23390644935232693,
          0.40952849149143905,
          0.6195841351550853,
          0.3804158648449147,
          0.635796330456115,
          0.36420338139068775
         ],
         "subplot": "polar",
         "theta": [
          "Home",
          "Draw",
          "Away",
          "Over",
          "Under",
          "GG",
          "NG"
         ],
         "type": "scatterpolar",
         "visible": false
        },
        {
         "hovertemplate": "Score %{x}<br>Prob: %{y:.3f}",
         "marker": {
          "color": [
           0.10429014557823973,
           0.08660099504076864,
           0.08013534071452424,
           0.06786290772430148,
           0.06654320219164424,
           0.062796244197946,
           0.056352355274788435,
           0.04825190718158172,
           0.04794145730304464,
           0.041050045497764816,
           0.04086230488805729,
           0.036837660874182304,
           0.03408735088885529,
           0.031196108463424112,
           0.02471747131161635,
           0.019904938683940544,
           0.01887042148237021,
           0.01577118990519693,
           0.01529472448710539,
           0.013096162932693764,
           0.012952393629106062,
           0.00949630942681865,
           0.007834859507344161,
           0.007249906721924906,
           0.0030101076788718924
          ],
          "colorscale": [
           [
            0,
            "rgb(210, 251, 212)"
           ],
           [
            0.16666666666666666,
            "rgb(165, 219, 194)"
           ],
           [
            0.3333333333333333,
            "rgb(123, 188, 176)"
           ],
           [
            0.5,
            "rgb(85, 156, 158)"
           ],
           [
            0.6666666666666666,
            "rgb(58, 124, 137)"
           ],
           [
            0.8333333333333334,
            "rgb(35, 93, 114)"
           ],
           [
            1,
            "rgb(18, 63, 90)"
           ]
          ]
         },
         "name": "Propable Scoreline",
         "type": "bar",
         "visible": false,
         "x": [
          "1 - 1",
          "1 - 2",
          "2 - 1",
          "0 - 1",
          "2 - 2",
          "1 - 0",
          "0 - 2",
          "2 - 0",
          "1 - 3",
          "3 - 1",
          "0 - 0",
          "2 - 3",
          "3 - 2",
          "0 - 3",
          "3 - 0",
          "Other",
          "Other",
          "Other",
          "Other",
          "Other",
          "Other",
          "Other",
          "Other",
          "Other",
          "Other"
         ],
         "xaxis": "x",
         "y": [
          0.10429014557823973,
          0.08660099504076864,
          0.08013534071452424,
          0.06786290772430148,
          0.06654320219164424,
          0.062796244197946,
          0.056352355274788435,
          0.04825190718158172,
          0.04794145730304464,
          0.041050045497764816,
          0.04086230488805729,
          0.036837660874182304,
          0.03408735088885529,
          0.031196108463424112,
          0.02471747131161635,
          0.019904938683940544,
          0.01887042148237021,
          0.01577118990519693,
          0.01529472448710539,
          0.013096162932693764,
          0.012952393629106062,
          0.00949630942681865,
          0.007834859507344161,
          0.007249906721924906,
          0.0030101076788718924
         ],
         "yaxis": "y"
        },
        {
         "fill": "toself",
         "hovertemplate": "%{theta}<br>Prob: %{r:.2f}<br>Bookmaker Odds",
         "marker": {
          "color": "rgb(82, 106, 131)"
         },
         "name": "Bookmaker Odds",
         "r": [
          0.46511627906976744,
          0.2597402597402597,
          0.3278688524590164,
          0.4444444444444444,
          0.6060606060606061,
          0.6944444444444444,
          0.37735849056603776
         ],
         "subplot": "polar",
         "theta": [
          "Home",
          "Draw",
          "Away",
          "Over",
          "Under",
          "GG",
          "NG"
         ],
         "type": "scatterpolar",
         "visible": false
        },
        {
         "fill": "toself",
         "hovertemplate": "%{theta}<br>Prob: %{r:.2f}<br>Predicted Odds",
         "marker": {
          "color": "rgb(141,211,199)"
         },
         "name": "Predicted Odds",
         "r": [
          0.46674327115844716,
          0.21760953813002848,
          0.31564596530002226,
          0.6873500827973893,
          0.3126499172026107,
          0.683111689463305,
          0.3168870851251934
         ],
         "subplot": "polar",
         "theta": [
          "Home",
          "Draw",
          "Away",
          "Over",
          "Under",
          "GG",
          "NG"
         ],
         "type": "scatterpolar",
         "visible": false
        },
        {
         "hovertemplate": "Score %{x}<br>Prob: %{y:.3f}",
         "marker": {
          "color": [
           0.08970757956818042,
           0.087847005432335,
           0.0711483853184635,
           0.06967273692656717,
           0.05735001360773886,
           0.056553987809847404,
           0.055381033556656946,
           0.04580378006271395,
           0.04548512941519433,
           0.037619212392023205,
           0.03683897359922112,
           0.036327643757986965,
           0.03615493792251509,
           0.028875892447224997,
           0.028080274717001325,
           0.024049944865084823,
           0.022270874044651726,
           0.019207988208255526,
           0.017702534408873368,
           0.014918172084949237,
           0.014608762721002996,
           0.011775569285116748,
           0.009537180427704883,
           0.0076170673248117104,
           0.004669687583115469
          ],
          "colorscale": [
           [
            0,
            "rgb(210, 251, 212)"
           ],
           [
            0.16666666666666666,
            "rgb(165, 219, 194)"
           ],
           [
            0.3333333333333333,
            "rgb(123, 188, 176)"
           ],
           [
            0.5,
            "rgb(85, 156, 158)"
           ],
           [
            0.6666666666666666,
            "rgb(58, 124, 137)"
           ],
           [
            0.8333333333333334,
            "rgb(35, 93, 114)"
           ],
           [
            1,
            "rgb(18, 63, 90)"
           ]
          ]
         },
         "name": "Propable Scoreline",
         "type": "bar",
         "visible": false,
         "x": [
          "1 - 1",
          "2 - 1",
          "1 - 2",
          "2 - 2",
          "3 - 1",
          "1 - 0",
          "2 - 0",
          "0 - 1",
          "3 - 2",
          "1 - 3",
          "2 - 3",
          "0 - 2",
          "3 - 0",
          "0 - 0",
          "4 - 1",
          "3 - 3",
          "4 - 2",
          "Other",
          "Other",
          "Other",
          "Other",
          "Other",
          "Other",
          "Other",
          "Other"
         ],
         "xaxis": "x",
         "y": [
          0.08970757956818042,
          0.087847005432335,
          0.0711483853184635,
          0.06967273692656717,
          0.05735001360773886,
          0.056553987809847404,
          0.055381033556656946,
          0.04580378006271395,
          0.04548512941519433,
          0.037619212392023205,
          0.03683897359922112,
          0.036327643757986965,
          0.03615493792251509,
          0.028875892447224997,
          0.028080274717001325,
          0.024049944865084823,
          0.022270874044651726,
          0.019207988208255526,
          0.017702534408873368,
          0.014918172084949237,
          0.014608762721002996,
          0.011775569285116748,
          0.009537180427704883,
          0.0076170673248117104,
          0.004669687583115469
         ],
         "yaxis": "y"
        },
        {
         "fill": "toself",
         "hovertemplate": "%{theta}<br>Prob: %{r:.2f}<br>Bookmaker Odds",
         "marker": {
          "color": "rgb(82, 106, 131)"
         },
         "name": "Bookmaker Odds",
         "r": [
          0.3333333333333333,
          0.2898550724637681,
          0.4310344827586207,
          0.5405405405405405,
          0.5050505050505051,
          0.6060606060606061,
          0.46511627906976744
         ],
         "subplot": "polar",
         "theta": [
          "Home",
          "Draw",
          "Away",
          "Over",
          "Under",
          "GG",
          "NG"
         ],
         "type": "scatterpolar",
         "visible": false
        },
        {
         "fill": "toself",
         "hovertemplate": "%{theta}<br>Prob: %{r:.2f}<br>Predicted Odds",
         "marker": {
          "color": "rgb(141,211,199)"
         },
         "name": "Predicted Odds",
         "r": [
          0.414017679937435,
          0.2505026072860238,
          0.33547962699518735,
          0.5362021864612881,
          0.46379781353871186,
          0.570175396908515,
          0.42982451731013077
         ],
         "subplot": "polar",
         "theta": [
          "Home",
          "Draw",
          "Away",
          "Over",
          "Under",
          "GG",
          "NG"
         ],
         "type": "scatterpolar",
         "visible": false
        },
        {
         "hovertemplate": "Score %{x}<br>Prob: %{y:.3f}",
         "marker": {
          "color": [
           0.11792161611394682,
           0.08900488651760101,
           0.0883774668658537,
           0.07867111402973291,
           0.0781165399507317,
           0.06670555126642316,
           0.05937938952315184,
           0.058545177285391777,
           0.05211525608785613,
           0.0441568837957454,
           0.034498587649261045,
           0.033328736161600016,
           0.02925149002195703,
           0.025855291738413673,
           0.023015647277062345,
           0.016546896417985443,
           0.012918328090701835,
           0.012489267756288046,
           0.011426701859917045,
           0.010961402478127184,
           0.008563849430582636,
           0.0076232958352321495,
           0.004840881385542676,
           0.004278838459179739,
           0.0016034079103236316
          ],
          "colorscale": [
           [
            0,
            "rgb(210, 251, 212)"
           ],
           [
            0.16666666666666666,
            "rgb(165, 219, 194)"
           ],
           [
            0.3333333333333333,
            "rgb(123, 188, 176)"
           ],
           [
            0.5,
            "rgb(85, 156, 158)"
           ],
           [
            0.6666666666666666,
            "rgb(58, 124, 137)"
           ],
           [
            0.8333333333333334,
            "rgb(35, 93, 114)"
           ],
           [
            1,
            "rgb(18, 63, 90)"
           ]
          ]
         },
         "name": "Propable Scoreline",
         "type": "bar",
         "visible": false,
         "x": [
          "1 - 1",
          "1 - 0",
          "2 - 1",
          "0 - 1",
          "1 - 2",
          "2 - 0",
          "0 - 0",
          "2 - 2",
          "0 - 2",
          "3 - 1",
          "1 - 3",
          "3 - 0",
          "3 - 2",
          "2 - 3",
          "0 - 3",
          "Other",
          "Other",
          "Other",
          "Other",
          "Other",
          "Other",
          "Other",
          "Other",
          "Other",
          "Other"
         ],
         "xaxis": "x",
         "y": [
          0.11792161611394682,
          0.08900488651760101,
          0.0883774668658537,
          0.07867111402973291,
          0.0781165399507317,
          0.06670555126642316,
          0.05937938952315184,
          0.058545177285391777,
          0.05211525608785613,
          0.0441568837957454,
          0.034498587649261045,
          0.033328736161600016,
          0.02925149002195703,
          0.025855291738413673,
          0.023015647277062345,
          0.016546896417985443,
          0.012918328090701835,
          0.012489267756288046,
          0.011426701859917045,
          0.010961402478127184,
          0.008563849430582636,
          0.0076232958352321495,
          0.004840881385542676,
          0.004278838459179739,
          0.0016034079103236316
         ],
         "yaxis": "y"
        },
        {
         "fill": "toself",
         "hovertemplate": "%{theta}<br>Prob: %{r:.2f}<br>Bookmaker Odds",
         "marker": {
          "color": "rgb(82, 106, 131)"
         },
         "name": "Bookmaker Odds",
         "r": [
          0.4504504504504504,
          0.30303030303030304,
          0.29850746268656714,
          0.47619047619047616,
          0.5714285714285714,
          0.5494505494505494,
          0.5181347150259068
         ],
         "subplot": "polar",
         "theta": [
          "Home",
          "Draw",
          "Away",
          "Over",
          "Under",
          "GG",
          "NG"
         ],
         "type": "scatterpolar",
         "visible": false
        },
        {
         "fill": "toself",
         "hovertemplate": "%{theta}<br>Prob: %{r:.2f}<br>Predicted Odds",
         "marker": {
          "color": "rgb(141,211,199)"
         },
         "name": "Predicted Odds",
         "r": [
          0.47589526381571917,
          0.24205063175160382,
          0.2820538979104983,
          0.5502337127737555,
          0.44976628722624445,
          0.5716300302521746,
          0.428369763225647
         ],
         "subplot": "polar",
         "theta": [
          "Home",
          "Draw",
          "Away",
          "Over",
          "Under",
          "GG",
          "NG"
         ],
         "type": "scatterpolar",
         "visible": false
        },
        {
         "hovertemplate": "Score %{x}<br>Prob: %{y:.3f}",
         "marker": {
          "color": [
           0.11361076163903018,
           0.09429459234916723,
           0.09284612309150984,
           0.07706037000201611,
           0.06950966141838197,
           0.06844191611967092,
           0.05769158742725348,
           0.05593278732569196,
           0.05217504643645206,
           0.04263901336332439,
           0.041874329048325484,
           0.03192188627173345,
           0.028351733355737777,
           0.02353135478191485,
           0.021652106999139883,
           0.017694751470991407,
           0.01707978124771284,
           0.013247254087483814,
           0.013020359894157582,
           0.008673119331965436,
           0.007198510422822509,
           0.0054033152790573784,
           0.005224900328547271,
           0.003983076931848738,
           0.0016529359110247339
          ],
          "colorscale": [
           [
            0,
            "rgb(210, 251, 212)"
           ],
           [
            0.16666666666666666,
            "rgb(165, 219, 194)"
           ],
           [
            0.3333333333333333,
            "rgb(123, 188, 176)"
           ],
           [
            0.5,
            "rgb(85, 156, 158)"
           ],
           [
            0.6666666666666666,
            "rgb(58, 124, 137)"
           ],
           [
            0.8333333333333334,
            "rgb(35, 93, 114)"
           ],
           [
            1,
            "rgb(18, 63, 90)"
           ]
          ]
         },
         "name": "Propable Scoreline",
         "type": "bar",
         "visible": false,
         "x": [
          "1 - 1",
          "2 - 1",
          "1 - 0",
          "2 - 0",
          "1 - 2",
          "0 - 1",
          "2 - 2",
          "0 - 0",
          "3 - 1",
          "3 - 0",
          "0 - 2",
          "3 - 2",
          "1 - 3",
          "2 - 3",
          "4 - 1",
          "Other",
          "Other",
          "Other",
          "Other",
          "Other",
          "Other",
          "Other",
          "Other",
          "Other",
          "Other"
         ],
         "xaxis": "x",
         "y": [
          0.11361076163903018,
          0.09429459234916723,
          0.09284612309150984,
          0.07706037000201611,
          0.06950966141838197,
          0.06844191611967092,
          0.05769158742725348,
          0.05593278732569196,
          0.05217504643645206,
          0.04263901336332439,
          0.041874329048325484,
          0.03192188627173345,
          0.028351733355737777,
          0.02353135478191485,
          0.021652106999139883,
          0.017694751470991407,
          0.01707978124771284,
          0.013247254087483814,
          0.013020359894157582,
          0.008673119331965436,
          0.007198510422822509,
          0.0054033152790573784,
          0.005224900328547271,
          0.003983076931848738,
          0.0016529359110247339
         ],
         "yaxis": "y"
        }
       ],
       "layout": {
        "height": 650,
        "polar": {
         "domain": {
          "x": [
           0,
           0.29700000000000004
          ],
          "y": [
           0,
           1
          ]
         }
        },
        "template": {
         "data": {
          "bar": [
           {
            "error_x": {
             "color": "#2a3f5f"
            },
            "error_y": {
             "color": "#2a3f5f"
            },
            "marker": {
             "line": {
              "color": "#E5ECF6",
              "width": 0.5
             },
             "pattern": {
              "fillmode": "overlay",
              "size": 10,
              "solidity": 0.2
             }
            },
            "type": "bar"
           }
          ],
          "barpolar": [
           {
            "marker": {
             "line": {
              "color": "#E5ECF6",
              "width": 0.5
             },
             "pattern": {
              "fillmode": "overlay",
              "size": 10,
              "solidity": 0.2
             }
            },
            "type": "barpolar"
           }
          ],
          "carpet": [
           {
            "aaxis": {
             "endlinecolor": "#2a3f5f",
             "gridcolor": "white",
             "linecolor": "white",
             "minorgridcolor": "white",
             "startlinecolor": "#2a3f5f"
            },
            "baxis": {
             "endlinecolor": "#2a3f5f",
             "gridcolor": "white",
             "linecolor": "white",
             "minorgridcolor": "white",
             "startlinecolor": "#2a3f5f"
            },
            "type": "carpet"
           }
          ],
          "choropleth": [
           {
            "colorbar": {
             "outlinewidth": 0,
             "ticks": ""
            },
            "type": "choropleth"
           }
          ],
          "contour": [
           {
            "colorbar": {
             "outlinewidth": 0,
             "ticks": ""
            },
            "colorscale": [
             [
              0,
              "#0d0887"
             ],
             [
              0.1111111111111111,
              "#46039f"
             ],
             [
              0.2222222222222222,
              "#7201a8"
             ],
             [
              0.3333333333333333,
              "#9c179e"
             ],
             [
              0.4444444444444444,
              "#bd3786"
             ],
             [
              0.5555555555555556,
              "#d8576b"
             ],
             [
              0.6666666666666666,
              "#ed7953"
             ],
             [
              0.7777777777777778,
              "#fb9f3a"
             ],
             [
              0.8888888888888888,
              "#fdca26"
             ],
             [
              1,
              "#f0f921"
             ]
            ],
            "type": "contour"
           }
          ],
          "contourcarpet": [
           {
            "colorbar": {
             "outlinewidth": 0,
             "ticks": ""
            },
            "type": "contourcarpet"
           }
          ],
          "heatmap": [
           {
            "colorbar": {
             "outlinewidth": 0,
             "ticks": ""
            },
            "colorscale": [
             [
              0,
              "#0d0887"
             ],
             [
              0.1111111111111111,
              "#46039f"
             ],
             [
              0.2222222222222222,
              "#7201a8"
             ],
             [
              0.3333333333333333,
              "#9c179e"
             ],
             [
              0.4444444444444444,
              "#bd3786"
             ],
             [
              0.5555555555555556,
              "#d8576b"
             ],
             [
              0.6666666666666666,
              "#ed7953"
             ],
             [
              0.7777777777777778,
              "#fb9f3a"
             ],
             [
              0.8888888888888888,
              "#fdca26"
             ],
             [
              1,
              "#f0f921"
             ]
            ],
            "type": "heatmap"
           }
          ],
          "heatmapgl": [
           {
            "colorbar": {
             "outlinewidth": 0,
             "ticks": ""
            },
            "colorscale": [
             [
              0,
              "#0d0887"
             ],
             [
              0.1111111111111111,
              "#46039f"
             ],
             [
              0.2222222222222222,
              "#7201a8"
             ],
             [
              0.3333333333333333,
              "#9c179e"
             ],
             [
              0.4444444444444444,
              "#bd3786"
             ],
             [
              0.5555555555555556,
              "#d8576b"
             ],
             [
              0.6666666666666666,
              "#ed7953"
             ],
             [
              0.7777777777777778,
              "#fb9f3a"
             ],
             [
              0.8888888888888888,
              "#fdca26"
             ],
             [
              1,
              "#f0f921"
             ]
            ],
            "type": "heatmapgl"
           }
          ],
          "histogram": [
           {
            "marker": {
             "pattern": {
              "fillmode": "overlay",
              "size": 10,
              "solidity": 0.2
             }
            },
            "type": "histogram"
           }
          ],
          "histogram2d": [
           {
            "colorbar": {
             "outlinewidth": 0,
             "ticks": ""
            },
            "colorscale": [
             [
              0,
              "#0d0887"
             ],
             [
              0.1111111111111111,
              "#46039f"
             ],
             [
              0.2222222222222222,
              "#7201a8"
             ],
             [
              0.3333333333333333,
              "#9c179e"
             ],
             [
              0.4444444444444444,
              "#bd3786"
             ],
             [
              0.5555555555555556,
              "#d8576b"
             ],
             [
              0.6666666666666666,
              "#ed7953"
             ],
             [
              0.7777777777777778,
              "#fb9f3a"
             ],
             [
              0.8888888888888888,
              "#fdca26"
             ],
             [
              1,
              "#f0f921"
             ]
            ],
            "type": "histogram2d"
           }
          ],
          "histogram2dcontour": [
           {
            "colorbar": {
             "outlinewidth": 0,
             "ticks": ""
            },
            "colorscale": [
             [
              0,
              "#0d0887"
             ],
             [
              0.1111111111111111,
              "#46039f"
             ],
             [
              0.2222222222222222,
              "#7201a8"
             ],
             [
              0.3333333333333333,
              "#9c179e"
             ],
             [
              0.4444444444444444,
              "#bd3786"
             ],
             [
              0.5555555555555556,
              "#d8576b"
             ],
             [
              0.6666666666666666,
              "#ed7953"
             ],
             [
              0.7777777777777778,
              "#fb9f3a"
             ],
             [
              0.8888888888888888,
              "#fdca26"
             ],
             [
              1,
              "#f0f921"
             ]
            ],
            "type": "histogram2dcontour"
           }
          ],
          "mesh3d": [
           {
            "colorbar": {
             "outlinewidth": 0,
             "ticks": ""
            },
            "type": "mesh3d"
           }
          ],
          "parcoords": [
           {
            "line": {
             "colorbar": {
              "outlinewidth": 0,
              "ticks": ""
             }
            },
            "type": "parcoords"
           }
          ],
          "pie": [
           {
            "automargin": true,
            "type": "pie"
           }
          ],
          "scatter": [
           {
            "fillpattern": {
             "fillmode": "overlay",
             "size": 10,
             "solidity": 0.2
            },
            "type": "scatter"
           }
          ],
          "scatter3d": [
           {
            "line": {
             "colorbar": {
              "outlinewidth": 0,
              "ticks": ""
             }
            },
            "marker": {
             "colorbar": {
              "outlinewidth": 0,
              "ticks": ""
             }
            },
            "type": "scatter3d"
           }
          ],
          "scattercarpet": [
           {
            "marker": {
             "colorbar": {
              "outlinewidth": 0,
              "ticks": ""
             }
            },
            "type": "scattercarpet"
           }
          ],
          "scattergeo": [
           {
            "marker": {
             "colorbar": {
              "outlinewidth": 0,
              "ticks": ""
             }
            },
            "type": "scattergeo"
           }
          ],
          "scattergl": [
           {
            "marker": {
             "colorbar": {
              "outlinewidth": 0,
              "ticks": ""
             }
            },
            "type": "scattergl"
           }
          ],
          "scattermapbox": [
           {
            "marker": {
             "colorbar": {
              "outlinewidth": 0,
              "ticks": ""
             }
            },
            "type": "scattermapbox"
           }
          ],
          "scatterpolar": [
           {
            "marker": {
             "colorbar": {
              "outlinewidth": 0,
              "ticks": ""
             }
            },
            "type": "scatterpolar"
           }
          ],
          "scatterpolargl": [
           {
            "marker": {
             "colorbar": {
              "outlinewidth": 0,
              "ticks": ""
             }
            },
            "type": "scatterpolargl"
           }
          ],
          "scatterternary": [
           {
            "marker": {
             "colorbar": {
              "outlinewidth": 0,
              "ticks": ""
             }
            },
            "type": "scatterternary"
           }
          ],
          "surface": [
           {
            "colorbar": {
             "outlinewidth": 0,
             "ticks": ""
            },
            "colorscale": [
             [
              0,
              "#0d0887"
             ],
             [
              0.1111111111111111,
              "#46039f"
             ],
             [
              0.2222222222222222,
              "#7201a8"
             ],
             [
              0.3333333333333333,
              "#9c179e"
             ],
             [
              0.4444444444444444,
              "#bd3786"
             ],
             [
              0.5555555555555556,
              "#d8576b"
             ],
             [
              0.6666666666666666,
              "#ed7953"
             ],
             [
              0.7777777777777778,
              "#fb9f3a"
             ],
             [
              0.8888888888888888,
              "#fdca26"
             ],
             [
              1,
              "#f0f921"
             ]
            ],
            "type": "surface"
           }
          ],
          "table": [
           {
            "cells": {
             "fill": {
              "color": "#EBF0F8"
             },
             "line": {
              "color": "white"
             }
            },
            "header": {
             "fill": {
              "color": "#C8D4E3"
             },
             "line": {
              "color": "white"
             }
            },
            "type": "table"
           }
          ]
         },
         "layout": {
          "annotationdefaults": {
           "arrowcolor": "#2a3f5f",
           "arrowhead": 0,
           "arrowwidth": 1
          },
          "autotypenumbers": "strict",
          "coloraxis": {
           "colorbar": {
            "outlinewidth": 0,
            "ticks": ""
           }
          },
          "colorscale": {
           "diverging": [
            [
             0,
             "#8e0152"
            ],
            [
             0.1,
             "#c51b7d"
            ],
            [
             0.2,
             "#de77ae"
            ],
            [
             0.3,
             "#f1b6da"
            ],
            [
             0.4,
             "#fde0ef"
            ],
            [
             0.5,
             "#f7f7f7"
            ],
            [
             0.6,
             "#e6f5d0"
            ],
            [
             0.7,
             "#b8e186"
            ],
            [
             0.8,
             "#7fbc41"
            ],
            [
             0.9,
             "#4d9221"
            ],
            [
             1,
             "#276419"
            ]
           ],
           "sequential": [
            [
             0,
             "#0d0887"
            ],
            [
             0.1111111111111111,
             "#46039f"
            ],
            [
             0.2222222222222222,
             "#7201a8"
            ],
            [
             0.3333333333333333,
             "#9c179e"
            ],
            [
             0.4444444444444444,
             "#bd3786"
            ],
            [
             0.5555555555555556,
             "#d8576b"
            ],
            [
             0.6666666666666666,
             "#ed7953"
            ],
            [
             0.7777777777777778,
             "#fb9f3a"
            ],
            [
             0.8888888888888888,
             "#fdca26"
            ],
            [
             1,
             "#f0f921"
            ]
           ],
           "sequentialminus": [
            [
             0,
             "#0d0887"
            ],
            [
             0.1111111111111111,
             "#46039f"
            ],
            [
             0.2222222222222222,
             "#7201a8"
            ],
            [
             0.3333333333333333,
             "#9c179e"
            ],
            [
             0.4444444444444444,
             "#bd3786"
            ],
            [
             0.5555555555555556,
             "#d8576b"
            ],
            [
             0.6666666666666666,
             "#ed7953"
            ],
            [
             0.7777777777777778,
             "#fb9f3a"
            ],
            [
             0.8888888888888888,
             "#fdca26"
            ],
            [
             1,
             "#f0f921"
            ]
           ]
          },
          "colorway": [
           "#636efa",
           "#EF553B",
           "#00cc96",
           "#ab63fa",
           "#FFA15A",
           "#19d3f3",
           "#FF6692",
           "#B6E880",
           "#FF97FF",
           "#FECB52"
          ],
          "font": {
           "color": "#2a3f5f"
          },
          "geo": {
           "bgcolor": "white",
           "lakecolor": "white",
           "landcolor": "#E5ECF6",
           "showlakes": true,
           "showland": true,
           "subunitcolor": "white"
          },
          "hoverlabel": {
           "align": "left"
          },
          "hovermode": "closest",
          "mapbox": {
           "style": "light"
          },
          "paper_bgcolor": "white",
          "plot_bgcolor": "#E5ECF6",
          "polar": {
           "angularaxis": {
            "gridcolor": "white",
            "linecolor": "white",
            "ticks": ""
           },
           "bgcolor": "#E5ECF6",
           "radialaxis": {
            "gridcolor": "white",
            "linecolor": "white",
            "ticks": ""
           }
          },
          "scene": {
           "xaxis": {
            "backgroundcolor": "#E5ECF6",
            "gridcolor": "white",
            "gridwidth": 2,
            "linecolor": "white",
            "showbackground": true,
            "ticks": "",
            "zerolinecolor": "white"
           },
           "yaxis": {
            "backgroundcolor": "#E5ECF6",
            "gridcolor": "white",
            "gridwidth": 2,
            "linecolor": "white",
            "showbackground": true,
            "ticks": "",
            "zerolinecolor": "white"
           },
           "zaxis": {
            "backgroundcolor": "#E5ECF6",
            "gridcolor": "white",
            "gridwidth": 2,
            "linecolor": "white",
            "showbackground": true,
            "ticks": "",
            "zerolinecolor": "white"
           }
          },
          "shapedefaults": {
           "line": {
            "color": "#2a3f5f"
           }
          },
          "ternary": {
           "aaxis": {
            "gridcolor": "white",
            "linecolor": "white",
            "ticks": ""
           },
           "baxis": {
            "gridcolor": "white",
            "linecolor": "white",
            "ticks": ""
           },
           "bgcolor": "#E5ECF6",
           "caxis": {
            "gridcolor": "white",
            "linecolor": "white",
            "ticks": ""
           }
          },
          "title": {
           "x": 0.05
          },
          "xaxis": {
           "automargin": true,
           "gridcolor": "white",
           "linecolor": "white",
           "ticks": "",
           "title": {
            "standoff": 15
           },
           "zerolinecolor": "white",
           "zerolinewidth": 2
          },
          "yaxis": {
           "automargin": true,
           "gridcolor": "white",
           "linecolor": "white",
           "ticks": "",
           "title": {
            "standoff": 15
           },
           "zerolinecolor": "white",
           "zerolinewidth": 2
          }
         }
        },
        "updatemenus": [
         {
          "active": 0,
          "buttons": [
           {
            "args": [
             {
              "visible": [
               true,
               true,
               true,
               false,
               false,
               false,
               false,
               false,
               false,
               false,
               false,
               false,
               false,
               false,
               false,
               false,
               false,
               false,
               false,
               false,
               false,
               false,
               false,
               false,
               false,
               false,
               false,
               false,
               false,
               false,
               false,
               false,
               false,
               false,
               false,
               false,
               false,
               false,
               false,
               false,
               false,
               false,
               false,
               false,
               false,
               false,
               false,
               false,
               false,
               false,
               false,
               false,
               false,
               false,
               false,
               false,
               false,
               false,
               false,
               false
              ]
             }
            ],
            "label": "<b>Wolverhampton Wanderers-Tottenham | '11/11/2023'</b>",
            "method": "restyle"
           },
           {
            "args": [
             {
              "visible": [
               false,
               false,
               false,
               true,
               true,
               true,
               false,
               false,
               false,
               false,
               false,
               false,
               false,
               false,
               false,
               false,
               false,
               false,
               false,
               false,
               false,
               false,
               false,
               false,
               false,
               false,
               false,
               false,
               false,
               false,
               false,
               false,
               false,
               false,
               false,
               false,
               false,
               false,
               false,
               false,
               false,
               false,
               false,
               false,
               false,
               false,
               false,
               false,
               false,
               false,
               false,
               false,
               false,
               false,
               false,
               false,
               false,
               false,
               false,
               false
              ]
             }
            ],
            "label": "<b>Manchester United-Luton | '11/11/2023'</b>",
            "method": "restyle"
           },
           {
            "args": [
             {
              "visible": [
               false,
               false,
               false,
               false,
               false,
               false,
               true,
               true,
               true,
               false,
               false,
               false,
               false,
               false,
               false,
               false,
               false,
               false,
               false,
               false,
               false,
               false,
               false,
               false,
               false,
               false,
               false,
               false,
               false,
               false,
               false,
               false,
               false,
               false,
               false,
               false,
               false,
               false,
               false,
               false,
               false,
               false,
               false,
               false,
               false,
               false,
               false,
               false,
               false,
               false,
               false,
               false,
               false,
               false,
               false,
               false,
               false,
               false,
               false,
               false
              ]
             }
            ],
            "label": "<b>Crystal Palace-Everton | '11/11/2023'</b>",
            "method": "restyle"
           },
           {
            "args": [
             {
              "visible": [
               false,
               false,
               false,
               false,
               false,
               false,
               false,
               false,
               false,
               true,
               true,
               true,
               false,
               false,
               false,
               false,
               false,
               false,
               false,
               false,
               false,
               false,
               false,
               false,
               false,
               false,
               false,
               false,
               false,
               false,
               false,
               false,
               false,
               false,
               false,
               false,
               false,
               false,
               false,
               false,
               false,
               false,
               false,
               false,
               false,
               false,
               false,
               false,
               false,
               false,
               false,
               false,
               false,
               false,
               false,
               false,
               false,
               false,
               false,
               false
              ]
             }
            ],
            "label": "<b>Arsenal-Burnley | '11/11/2023'</b>",
            "method": "restyle"
           },
           {
            "args": [
             {
              "visible": [
               false,
               false,
               false,
               false,
               false,
               false,
               false,
               false,
               false,
               false,
               false,
               false,
               true,
               true,
               true,
               false,
               false,
               false,
               false,
               false,
               false,
               false,
               false,
               false,
               false,
               false,
               false,
               false,
               false,
               false,
               false,
               false,
               false,
               false,
               false,
               false,
               false,
               false,
               false,
               false,
               false,
               false,
               false,
               false,
               false,
               false,
               false,
               false,
               false,
               false,
               false,
               false,
               false,
               false,
               false,
               false,
               false,
               false,
               false,
               false
              ]
             }
            ],
            "label": "<b>Bournemouth-Newcastle United | '11/11/2023'</b>",
            "method": "restyle"
           },
           {
            "args": [
             {
              "visible": [
               false,
               false,
               false,
               false,
               false,
               false,
               false,
               false,
               false,
               false,
               false,
               false,
               false,
               false,
               false,
               true,
               true,
               true,
               false,
               false,
               false,
               false,
               false,
               false,
               false,
               false,
               false,
               false,
               false,
               false,
               false,
               false,
               false,
               false,
               false,
               false,
               false,
               false,
               false,
               false,
               false,
               false,
               false,
               false,
               false,
               false,
               false,
               false,
               false,
               false,
               false,
               false,
               false,
               false,
               false,
               false,
               false,
               false,
               false,
               false
              ]
             }
            ],
            "label": "<b>Liverpool-Brentford | '12/11/2023'</b>",
            "method": "restyle"
           },
           {
            "args": [
             {
              "visible": [
               false,
               false,
               false,
               false,
               false,
               false,
               false,
               false,
               false,
               false,
               false,
               false,
               false,
               false,
               false,
               false,
               false,
               false,
               true,
               true,
               true,
               false,
               false,
               false,
               false,
               false,
               false,
               false,
               false,
               false,
               false,
               false,
               false,
               false,
               false,
               false,
               false,
               false,
               false,
               false,
               false,
               false,
               false,
               false,
               false,
               false,
               false,
               false,
               false,
               false,
               false,
               false,
               false,
               false,
               false,
               false,
               false,
               false,
               false,
               false
              ]
             }
            ],
            "label": "<b>Brighton-Sheffield United | '12/11/2023'</b>",
            "method": "restyle"
           },
           {
            "args": [
             {
              "visible": [
               false,
               false,
               false,
               false,
               false,
               false,
               false,
               false,
               false,
               false,
               false,
               false,
               false,
               false,
               false,
               false,
               false,
               false,
               false,
               false,
               false,
               true,
               true,
               true,
               false,
               false,
               false,
               false,
               false,
               false,
               false,
               false,
               false,
               false,
               false,
               false,
               false,
               false,
               false,
               false,
               false,
               false,
               false,
               false,
               false,
               false,
               false,
               false,
               false,
               false,
               false,
               false,
               false,
               false,
               false,
               false,
               false,
               false,
               false,
               false
              ]
             }
            ],
            "label": "<b>Aston Villa-Fulham | '12/11/2023'</b>",
            "method": "restyle"
           },
           {
            "args": [
             {
              "visible": [
               false,
               false,
               false,
               false,
               false,
               false,
               false,
               false,
               false,
               false,
               false,
               false,
               false,
               false,
               false,
               false,
               false,
               false,
               false,
               false,
               false,
               false,
               false,
               false,
               true,
               true,
               true,
               false,
               false,
               false,
               false,
               false,
               false,
               false,
               false,
               false,
               false,
               false,
               false,
               false,
               false,
               false,
               false,
               false,
               false,
               false,
               false,
               false,
               false,
               false,
               false,
               false,
               false,
               false,
               false,
               false,
               false,
               false,
               false,
               false
              ]
             }
            ],
            "label": "<b>West Ham-Nottingham Forest | '12/11/2023'</b>",
            "method": "restyle"
           },
           {
            "args": [
             {
              "visible": [
               false,
               false,
               false,
               false,
               false,
               false,
               false,
               false,
               false,
               false,
               false,
               false,
               false,
               false,
               false,
               false,
               false,
               false,
               false,
               false,
               false,
               false,
               false,
               false,
               false,
               false,
               false,
               true,
               true,
               true,
               false,
               false,
               false,
               false,
               false,
               false,
               false,
               false,
               false,
               false,
               false,
               false,
               false,
               false,
               false,
               false,
               false,
               false,
               false,
               false,
               false,
               false,
               false,
               false,
               false,
               false,
               false,
               false,
               false,
               false
              ]
             }
            ],
            "label": "<b>Chelsea-Manchester City | '12/11/2023'</b>",
            "method": "restyle"
           },
           {
            "args": [
             {
              "visible": [
               false,
               false,
               false,
               false,
               false,
               false,
               false,
               false,
               false,
               false,
               false,
               false,
               false,
               false,
               false,
               false,
               false,
               false,
               false,
               false,
               false,
               false,
               false,
               false,
               false,
               false,
               false,
               false,
               false,
               false,
               true,
               true,
               true,
               false,
               false,
               false,
               false,
               false,
               false,
               false,
               false,
               false,
               false,
               false,
               false,
               false,
               false,
               false,
               false,
               false,
               false,
               false,
               false,
               false,
               false,
               false,
               false,
               false,
               false,
               false
              ]
             }
            ],
            "label": "<b>Manchester City-Liverpool | '25/11/2023'</b>",
            "method": "restyle"
           },
           {
            "args": [
             {
              "visible": [
               false,
               false,
               false,
               false,
               false,
               false,
               false,
               false,
               false,
               false,
               false,
               false,
               false,
               false,
               false,
               false,
               false,
               false,
               false,
               false,
               false,
               false,
               false,
               false,
               false,
               false,
               false,
               false,
               false,
               false,
               false,
               false,
               false,
               true,
               true,
               true,
               false,
               false,
               false,
               false,
               false,
               false,
               false,
               false,
               false,
               false,
               false,
               false,
               false,
               false,
               false,
               false,
               false,
               false,
               false,
               false,
               false,
               false,
               false,
               false
              ]
             }
            ],
            "label": "<b>Burnley-West Ham | '25/11/2023'</b>",
            "method": "restyle"
           },
           {
            "args": [
             {
              "visible": [
               false,
               false,
               false,
               false,
               false,
               false,
               false,
               false,
               false,
               false,
               false,
               false,
               false,
               false,
               false,
               false,
               false,
               false,
               false,
               false,
               false,
               false,
               false,
               false,
               false,
               false,
               false,
               false,
               false,
               false,
               false,
               false,
               false,
               false,
               false,
               false,
               true,
               true,
               true,
               false,
               false,
               false,
               false,
               false,
               false,
               false,
               false,
               false,
               false,
               false,
               false,
               false,
               false,
               false,
               false,
               false,
               false,
               false,
               false,
               false
              ]
             }
            ],
            "label": "<b>Newcastle United-Chelsea | '25/11/2023'</b>",
            "method": "restyle"
           },
           {
            "args": [
             {
              "visible": [
               false,
               false,
               false,
               false,
               false,
               false,
               false,
               false,
               false,
               false,
               false,
               false,
               false,
               false,
               false,
               false,
               false,
               false,
               false,
               false,
               false,
               false,
               false,
               false,
               false,
               false,
               false,
               false,
               false,
               false,
               false,
               false,
               false,
               false,
               false,
               false,
               false,
               false,
               false,
               true,
               true,
               true,
               false,
               false,
               false,
               false,
               false,
               false,
               false,
               false,
               false,
               false,
               false,
               false,
               false,
               false,
               false,
               false,
               false,
               false
              ]
             }
            ],
            "label": "<b>Luton-Crystal Palace | '25/11/2023'</b>",
            "method": "restyle"
           },
           {
            "args": [
             {
              "visible": [
               false,
               false,
               false,
               false,
               false,
               false,
               false,
               false,
               false,
               false,
               false,
               false,
               false,
               false,
               false,
               false,
               false,
               false,
               false,
               false,
               false,
               false,
               false,
               false,
               false,
               false,
               false,
               false,
               false,
               false,
               false,
               false,
               false,
               false,
               false,
               false,
               false,
               false,
               false,
               false,
               false,
               false,
               true,
               true,
               true,
               false,
               false,
               false,
               false,
               false,
               false,
               false,
               false,
               false,
               false,
               false,
               false,
               false,
               false,
               false
              ]
             }
            ],
            "label": "<b>Nottingham Forest-Brighton | '25/11/2023'</b>",
            "method": "restyle"
           },
           {
            "args": [
             {
              "visible": [
               false,
               false,
               false,
               false,
               false,
               false,
               false,
               false,
               false,
               false,
               false,
               false,
               false,
               false,
               false,
               false,
               false,
               false,
               false,
               false,
               false,
               false,
               false,
               false,
               false,
               false,
               false,
               false,
               false,
               false,
               false,
               false,
               false,
               false,
               false,
               false,
               false,
               false,
               false,
               false,
               false,
               false,
               false,
               false,
               false,
               true,
               true,
               true,
               false,
               false,
               false,
               false,
               false,
               false,
               false,
               false,
               false,
               false,
               false,
               false
              ]
             }
            ],
            "label": "<b>Sheffield United-Bournemouth | '25/11/2023'</b>",
            "method": "restyle"
           },
           {
            "args": [
             {
              "visible": [
               false,
               false,
               false,
               false,
               false,
               false,
               false,
               false,
               false,
               false,
               false,
               false,
               false,
               false,
               false,
               false,
               false,
               false,
               false,
               false,
               false,
               false,
               false,
               false,
               false,
               false,
               false,
               false,
               false,
               false,
               false,
               false,
               false,
               false,
               false,
               false,
               false,
               false,
               false,
               false,
               false,
               false,
               false,
               false,
               false,
               false,
               false,
               false,
               true,
               true,
               true,
               false,
               false,
               false,
               false,
               false,
               false,
               false,
               false,
               false
              ]
             }
            ],
            "label": "<b>Brentford-Arsenal | '25/11/2023'</b>",
            "method": "restyle"
           },
           {
            "args": [
             {
              "visible": [
               false,
               false,
               false,
               false,
               false,
               false,
               false,
               false,
               false,
               false,
               false,
               false,
               false,
               false,
               false,
               false,
               false,
               false,
               false,
               false,
               false,
               false,
               false,
               false,
               false,
               false,
               false,
               false,
               false,
               false,
               false,
               false,
               false,
               false,
               false,
               false,
               false,
               false,
               false,
               false,
               false,
               false,
               false,
               false,
               false,
               false,
               false,
               false,
               false,
               false,
               false,
               true,
               true,
               true,
               false,
               false,
               false,
               false,
               false,
               false
              ]
             }
            ],
            "label": "<b>Tottenham-Aston Villa | '26/11/2023'</b>",
            "method": "restyle"
           },
           {
            "args": [
             {
              "visible": [
               false,
               false,
               false,
               false,
               false,
               false,
               false,
               false,
               false,
               false,
               false,
               false,
               false,
               false,
               false,
               false,
               false,
               false,
               false,
               false,
               false,
               false,
               false,
               false,
               false,
               false,
               false,
               false,
               false,
               false,
               false,
               false,
               false,
               false,
               false,
               false,
               false,
               false,
               false,
               false,
               false,
               false,
               false,
               false,
               false,
               false,
               false,
               false,
               false,
               false,
               false,
               false,
               false,
               false,
               true,
               true,
               true,
               false,
               false,
               false
              ]
             }
            ],
            "label": "<b>Everton-Manchester United | '26/11/2023'</b>",
            "method": "restyle"
           },
           {
            "args": [
             {
              "visible": [
               false,
               false,
               false,
               false,
               false,
               false,
               false,
               false,
               false,
               false,
               false,
               false,
               false,
               false,
               false,
               false,
               false,
               false,
               false,
               false,
               false,
               false,
               false,
               false,
               false,
               false,
               false,
               false,
               false,
               false,
               false,
               false,
               false,
               false,
               false,
               false,
               false,
               false,
               false,
               false,
               false,
               false,
               false,
               false,
               false,
               false,
               false,
               false,
               false,
               false,
               false,
               false,
               false,
               false,
               false,
               false,
               false,
               true,
               true,
               true
              ]
             }
            ],
            "label": "<b>Fulham-Wolverhampton Wanderers | '27/11/2023'</b>",
            "method": "restyle"
           }
          ],
          "direction": "down",
          "x": 0.1,
          "y": 1.2
         }
        ],
        "width": 1500,
        "xaxis": {
         "anchor": "y",
         "domain": [
          0.397,
          1
         ]
        },
        "yaxis": {
         "anchor": "x",
         "domain": [
          0,
          1
         ]
        }
       }
      }
     },
     "metadata": {},
     "output_type": "display_data"
    }
   ],
   "source": [
    "# Create subplots\n",
    "fig = make_subplots(rows=1, cols=2, specs=[[{'type': 'polar'}, {'type': 'xy'}]], column_widths=[0.33, 0.67])\n",
    "fig.update_layout(width=1500, height=650)\n",
    "# create a list to store the buttons\n",
    "buttons = []\n",
    "categories = ['Home', 'Draw', 'Away', 'Over', 'Under', 'GG', 'NG']\n",
    "\n",
    "# loop through each match and create two traces for Bookmaker odds and predicted values\n",
    "for match_index, match in enumerate(Final_Odds['Match'].unique().tolist()):\n",
    "\n",
    "    # create the trace for Bookmaker odds\n",
    "    trace_bookmaker = go.Scatterpolar(\n",
    "      r=Final_Odds[(Final_Odds['Type']=='Bookmaker')  & (Final_Odds['Match']==match)][['P(Hwin)', 'P(Draw)', 'P(Awin)', 'P(Over)', 'P(Under)', 'P(GG)', 'P(NG)']].values.tolist()[0],\n",
    "      theta=categories,\n",
    "      fill='toself',\n",
    "      name='Bookmaker Odds',\n",
    "      marker = dict(color = 'rgb(82, 106, 131)' ),\n",
    "      visible=False if match_index!=0 else True,\n",
    "      hovertemplate='%{theta}<br>Prob: %{r:.2f}<br>Bookmaker Odds'\n",
    ")\n",
    "    fig.add_trace(trace_bookmaker, row=1, col=1)\n",
    "    # create the trace for predicted values\n",
    "    trace_predicted = go.Scatterpolar(\n",
    "        r= Final_Odds[(Final_Odds['Type']=='Predicted')  & (Final_Odds['Match']==match)][['P(Hwin)', 'P(Draw)', 'P(Awin)', 'P(Over)', 'P(Under)', 'P(GG)', 'P(NG)']].values.tolist()[0],\n",
    "        theta=categories,\n",
    "        fill='toself',\n",
    "        name='Predicted Odds',\n",
    "        marker = dict(color ='rgb(141,211,199)'), #'rgb(217, 175, 107)'\n",
    "        visible=False if match_index!=0 else True,\n",
    "        hovertemplate='%{theta}<br>Prob: %{r:.2f}<br>Predicted Odds'\n",
    "  )\n",
    "    fig.add_trace(trace_predicted, row=1, col=1)\n",
    "    \n",
    "    trace_goals = go.Bar(\n",
    "        x=Pie_list[match_index]['score'],\n",
    "        y=Pie_list[match_index]['P(score)'],\n",
    "        visible=False if match_index!=0 else True,\n",
    "        marker=dict(color=Pie_list[match_index]['P(score)'], colorscale='darkmint'),\n",
    "        name='Propable Scoreline',\n",
    "        hovertemplate='Score %{x}<br>Prob: %{y:.3f}'\n",
    "    )\n",
    "    fig.add_trace(trace_goals, row=1, col=2)\n",
    "    \n",
    "    # create the dictionary for the button\n",
    "    button_dict = dict(\n",
    "        method=\"restyle\",\n",
    "        args=[{\"visible\": [False] * (len(Final_Odds['Match'].unique().tolist()) * 3)}], # set all traces to false initially\n",
    "        label= f\"<b>{match} | {str(Final_Odds[(Final_Odds['Type']=='Predicted')  & (Final_Odds['Match']==match)]['Date'].values).strip('[]')}</b>\" \n",
    "    )\n",
    "    \n",
    "    # set visibility to true for the corresponding traces\n",
    "    button_dict[\"args\"][0][\"visible\"][3*match_index] = True # Bookmaker odds trace\n",
    "    button_dict[\"args\"][0][\"visible\"][3*match_index+1] = True # Predicted trace\n",
    "    button_dict[\"args\"][0][\"visible\"][3*match_index+2] = True # Goal trace\n",
    "    \n",
    "    # set visibility to true for the corresponding traces for the first match\n",
    "    if match_index == 0:\n",
    "        button_dict[\"args\"][0][\"visible\"][0] = True # Bookmaker odds trace\n",
    "        button_dict[\"args\"][0][\"visible\"][1] = True # Predicted trace\n",
    "        button_dict[\"args\"][0][\"visible\"][2] = True\n",
    "        \n",
    "    # append the button to the list\n",
    "    buttons.append(button_dict)\n",
    "\n",
    "\n",
    "# update the layout with the buttons\n",
    "fig.update_layout(\n",
    "    updatemenus=[go.layout.Updatemenu(\n",
    "        buttons=buttons,\n",
    "        active=0, # set the initial active button\n",
    "        x=0.1,\n",
    "        y=1.2,\n",
    "        direction=\"down\",\n",
    "    )],\n",
    "    \n",
    ")\n",
    "\n",
    "# show the plot\n",
    "fig.show()\n",
    "# Save the interactive figure as an HTML file\n",
    "fig.write_html('UpcomingMatchesPredictionFigure.html')\n"
   ]
  },
  {
   "cell_type": "code",
   "execution_count": 8,
   "metadata": {},
   "outputs": [],
   "source": [
    "images_path = '/home/nickpad/Documents/EnglishPremierLeaguePredictor/GatheredData/Logos'\n",
    "team_color = {\"Liverpool\": \"red\",\n",
    "              \"West Ham\": \"brown\",\n",
    "              \"Brentford\": \"#ff8d33\",\n",
    "              \"Everton\": \"blue\",\n",
    "              \"Crystal Palace\": \"#1711e0\",\n",
    "              \"Fulham\": \"black\",\n",
    "              \"Luton\": \"#e0ae11\",\n",
    "              \"Wolverhampton Wanderers\": \"#e09211\",\n",
    "              \"Manchester City\": \"#0bdeef\",\n",
    "              \"Nottingham Forest\": \"#ef2a0b\",\n",
    "              \"Burnley\": \"#8e2b4e\",\n",
    "              \"Manchester United\": \"#d12f07\",\n",
    "              \"Arsenal\": \"#ff0101\",\n",
    "              \"Tottenham\": \"#a5bfcc\",\n",
    "              \"Brighton\": \"#228bbf\",\n",
    "              \"Bournemouth\": \"#e50e21\",\n",
    "              \"Chelsea\": \"#0e1ee5\",\n",
    "              \"Aston Villa\": \"#a4266f\",\n",
    "              \"Sheffield United\": \"#e31343\",\n",
    "              \"Newcastle United\": \"#d5c0c5\"}\n"
   ]
  },
  {
   "cell_type": "code",
   "execution_count": 9,
   "metadata": {},
   "outputs": [],
   "source": [
    "import os\n",
    "from PIL import Image\n",
    "\n",
    "df = disp_pred\n",
    "\n"
   ]
  },
  {
   "cell_type": "code",
   "execution_count": 10,
   "metadata": {},
   "outputs": [
    {
     "name": "stderr",
     "output_type": "stream",
     "text": [
      "/tmp/ipykernel_11900/1283783480.py:18: SettingWithCopyWarning:\n",
      "\n",
      "\n",
      "A value is trying to be set on a copy of a slice from a DataFrame\n",
      "\n",
      "See the caveats in the documentation: https://pandas.pydata.org/pandas-docs/stable/user_guide/indexing.html#returning-a-view-versus-a-copy\n",
      "\n",
      "/tmp/ipykernel_11900/1283783480.py:19: SettingWithCopyWarning:\n",
      "\n",
      "\n",
      "A value is trying to be set on a copy of a slice from a DataFrame\n",
      "\n",
      "See the caveats in the documentation: https://pandas.pydata.org/pandas-docs/stable/user_guide/indexing.html#returning-a-view-versus-a-copy\n",
      "\n",
      "/tmp/ipykernel_11900/1283783480.py:15: SettingWithCopyWarning:\n",
      "\n",
      "\n",
      "A value is trying to be set on a copy of a slice from a DataFrame\n",
      "\n",
      "See the caveats in the documentation: https://pandas.pydata.org/pandas-docs/stable/user_guide/indexing.html#returning-a-view-versus-a-copy\n",
      "\n",
      "/tmp/ipykernel_11900/1283783480.py:16: SettingWithCopyWarning:\n",
      "\n",
      "\n",
      "A value is trying to be set on a copy of a slice from a DataFrame\n",
      "\n",
      "See the caveats in the documentation: https://pandas.pydata.org/pandas-docs/stable/user_guide/indexing.html#returning-a-view-versus-a-copy\n",
      "\n"
     ]
    },
    {
     "data": {
      "text/html": [
       "<div>\n",
       "<style scoped>\n",
       "    .dataframe tbody tr th:only-of-type {\n",
       "        vertical-align: middle;\n",
       "    }\n",
       "\n",
       "    .dataframe tbody tr th {\n",
       "        vertical-align: top;\n",
       "    }\n",
       "\n",
       "    .dataframe thead th {\n",
       "        text-align: right;\n",
       "    }\n",
       "</style>\n",
       "<table border=\"1\" class=\"dataframe\">\n",
       "  <thead>\n",
       "    <tr style=\"text-align: right;\">\n",
       "      <th></th>\n",
       "      <th>Match</th>\n",
       "      <th>UnderBet</th>\n",
       "      <th>UnderBet_Kelly</th>\n",
       "    </tr>\n",
       "  </thead>\n",
       "  <tbody>\n",
       "    <tr>\n",
       "      <th>0</th>\n",
       "      <td>Wolverhampton Wanderers-Tottenham</td>\n",
       "      <td>0.00</td>\n",
       "      <td>0.00</td>\n",
       "    </tr>\n",
       "    <tr>\n",
       "      <th>1</th>\n",
       "      <td>Manchester United-Luton</td>\n",
       "      <td>0.00</td>\n",
       "      <td>0.00</td>\n",
       "    </tr>\n",
       "    <tr>\n",
       "      <th>2</th>\n",
       "      <td>Crystal Palace-Everton</td>\n",
       "      <td>0.00</td>\n",
       "      <td>0.00</td>\n",
       "    </tr>\n",
       "    <tr>\n",
       "      <th>3</th>\n",
       "      <td>Arsenal-Burnley</td>\n",
       "      <td>0.00</td>\n",
       "      <td>0.00</td>\n",
       "    </tr>\n",
       "    <tr>\n",
       "      <th>4</th>\n",
       "      <td>Bournemouth-Newcastle United</td>\n",
       "      <td>0.00</td>\n",
       "      <td>0.00</td>\n",
       "    </tr>\n",
       "    <tr>\n",
       "      <th>5</th>\n",
       "      <td>Liverpool-Brentford</td>\n",
       "      <td>0.00</td>\n",
       "      <td>0.00</td>\n",
       "    </tr>\n",
       "    <tr>\n",
       "      <th>6</th>\n",
       "      <td>Brighton-Sheffield United</td>\n",
       "      <td>0.00</td>\n",
       "      <td>0.00</td>\n",
       "    </tr>\n",
       "    <tr>\n",
       "      <th>7</th>\n",
       "      <td>Aston Villa-Fulham</td>\n",
       "      <td>0.00</td>\n",
       "      <td>0.00</td>\n",
       "    </tr>\n",
       "    <tr>\n",
       "      <th>8</th>\n",
       "      <td>West Ham-Nottingham Forest</td>\n",
       "      <td>1.32</td>\n",
       "      <td>3.20</td>\n",
       "    </tr>\n",
       "    <tr>\n",
       "      <th>9</th>\n",
       "      <td>Chelsea-Manchester City</td>\n",
       "      <td>0.00</td>\n",
       "      <td>0.00</td>\n",
       "    </tr>\n",
       "    <tr>\n",
       "      <th>10</th>\n",
       "      <td>Manchester City-Liverpool</td>\n",
       "      <td>0.00</td>\n",
       "      <td>0.00</td>\n",
       "    </tr>\n",
       "    <tr>\n",
       "      <th>11</th>\n",
       "      <td>Burnley-West Ham</td>\n",
       "      <td>2.48</td>\n",
       "      <td>5.90</td>\n",
       "    </tr>\n",
       "    <tr>\n",
       "      <th>12</th>\n",
       "      <td>Newcastle United-Chelsea</td>\n",
       "      <td>0.00</td>\n",
       "      <td>0.00</td>\n",
       "    </tr>\n",
       "    <tr>\n",
       "      <th>13</th>\n",
       "      <td>Luton-Crystal Palace</td>\n",
       "      <td>0.00</td>\n",
       "      <td>0.00</td>\n",
       "    </tr>\n",
       "    <tr>\n",
       "      <th>14</th>\n",
       "      <td>Nottingham Forest-Brighton</td>\n",
       "      <td>0.00</td>\n",
       "      <td>0.00</td>\n",
       "    </tr>\n",
       "    <tr>\n",
       "      <th>15</th>\n",
       "      <td>Sheffield United-Bournemouth</td>\n",
       "      <td>0.00</td>\n",
       "      <td>0.00</td>\n",
       "    </tr>\n",
       "    <tr>\n",
       "      <th>16</th>\n",
       "      <td>Brentford-Arsenal</td>\n",
       "      <td>0.00</td>\n",
       "      <td>0.00</td>\n",
       "    </tr>\n",
       "    <tr>\n",
       "      <th>17</th>\n",
       "      <td>Tottenham-Aston Villa</td>\n",
       "      <td>0.00</td>\n",
       "      <td>0.00</td>\n",
       "    </tr>\n",
       "    <tr>\n",
       "      <th>18</th>\n",
       "      <td>Everton-Manchester United</td>\n",
       "      <td>0.00</td>\n",
       "      <td>0.00</td>\n",
       "    </tr>\n",
       "    <tr>\n",
       "      <th>19</th>\n",
       "      <td>Fulham-Wolverhampton Wanderers</td>\n",
       "      <td>0.00</td>\n",
       "      <td>0.00</td>\n",
       "    </tr>\n",
       "  </tbody>\n",
       "</table>\n",
       "</div>"
      ],
      "text/plain": [
       "                                Match  UnderBet  UnderBet_Kelly\n",
       "0   Wolverhampton Wanderers-Tottenham      0.00            0.00\n",
       "1             Manchester United-Luton      0.00            0.00\n",
       "2              Crystal Palace-Everton      0.00            0.00\n",
       "3                     Arsenal-Burnley      0.00            0.00\n",
       "4        Bournemouth-Newcastle United      0.00            0.00\n",
       "5                 Liverpool-Brentford      0.00            0.00\n",
       "6           Brighton-Sheffield United      0.00            0.00\n",
       "7                  Aston Villa-Fulham      0.00            0.00\n",
       "8          West Ham-Nottingham Forest      1.32            3.20\n",
       "9             Chelsea-Manchester City      0.00            0.00\n",
       "10          Manchester City-Liverpool      0.00            0.00\n",
       "11                   Burnley-West Ham      2.48            5.90\n",
       "12           Newcastle United-Chelsea      0.00            0.00\n",
       "13               Luton-Crystal Palace      0.00            0.00\n",
       "14         Nottingham Forest-Brighton      0.00            0.00\n",
       "15       Sheffield United-Bournemouth      0.00            0.00\n",
       "16                  Brentford-Arsenal      0.00            0.00\n",
       "17              Tottenham-Aston Villa      0.00            0.00\n",
       "18          Everton-Manchester United      0.00            0.00\n",
       "19     Fulham-Wolverhampton Wanderers      0.00            0.00"
      ]
     },
     "metadata": {},
     "output_type": "display_data"
    }
   ],
   "source": [
    "Pont = 5\n",
    "bank = 60\n",
    "Final = Final_Odds[Final_Odds['Type']=='Predicted'][['Match']]\n",
    "listPred = Final_Odds[Final_Odds['Type']=='Predicted']['P(Under)'].tolist()\n",
    "listBook = Final_Odds[Final_Odds['Type']=='Bookmaker']['P(Under)'].tolist()\n",
    "\n",
    "diff = []\n",
    "for i, p in enumerate(listPred):\n",
    "    diff.append(listPred[i]-listBook[i])\n",
    "\n",
    "Final['UnderBet'] = np.nan\n",
    "Final['UnderBet_Kelly'] = np.nan\n",
    "for i, d in enumerate(diff):\n",
    "    if (0.7>=listPred[i]>=0.5) and (d>=0.005):\n",
    "        Final['UnderBet'][i] = max(Pont*10*(d),0)\n",
    "        Final['UnderBet_Kelly'][i] = max(0, bank*(listPred[i]- (1-listPred[i])/(1/listBook[i] -1)))\n",
    "    else:\n",
    "        Final['UnderBet'][i] = 0\n",
    "        Final['UnderBet_Kelly'][i] = 0\n",
    "        \n",
    "############\n",
    "\n",
    "    \n",
    "display(Final)"
   ]
  }
 ],
 "metadata": {
  "kernelspec": {
   "display_name": "Python 3",
   "language": "python",
   "name": "python3"
  },
  "language_info": {
   "codemirror_mode": {
    "name": "ipython",
    "version": 3
   },
   "file_extension": ".py",
   "mimetype": "text/x-python",
   "name": "python",
   "nbconvert_exporter": "python",
   "pygments_lexer": "ipython3",
   "version": "3.11.6"
  },
  "orig_nbformat": 4
 },
 "nbformat": 4,
 "nbformat_minor": 2
}
