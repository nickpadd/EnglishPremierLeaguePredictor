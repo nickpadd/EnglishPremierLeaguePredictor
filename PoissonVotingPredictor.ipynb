{
 "cells": [
  {
   "cell_type": "code",
   "execution_count": 1,
   "metadata": {},
   "outputs": [],
   "source": [
    "import pandas as pd\n",
    "import plotly.express as px\n",
    "import numpy as np\n",
    "from sklearn.model_selection import train_test_split\n",
    "from sklearn.linear_model import LinearRegression\n",
    "from scipy.stats import poisson \n",
    "import math\n",
    "import plotly.express as px\n",
    "from plotly.subplots import make_subplots\n",
    "import plotly.graph_objects as go\n",
    "from sklearn import preprocessing\n",
    "from pretty_html_table import build_table\n",
    "\n",
    "def sum_of_lower_upper(mat):\n",
    "    r = len(mat)\n",
    "    c = len(mat[0])\n",
    "    diag = np.trace(mat)\n",
    "    lower_sum = 0\n",
    "    upper_sum = 0\n",
    "    over_sum = 0\n",
    "    under_sum = 0\n",
    "    gg_sum = 0\n",
    "    ng_sum = 0 \n",
    "\n",
    "    for i in range(r):\n",
    "        for j in range(c):\n",
    "            if (i<j):\n",
    "                upper_sum += mat[i][j]\n",
    "\n",
    "    for i in range(r):\n",
    "        for j in range(c):\n",
    "            if (j<i):\n",
    "                lower_sum += mat[i][j]\n",
    "    \n",
    "    for i in range(r):\n",
    "        for j in range(c):\n",
    "            if (i+j>=3):\n",
    "                over_sum += mat[i][j]\n",
    "            else:\n",
    "                under_sum += mat[i][j]\n",
    "    \n",
    "    for i in range(r):\n",
    "        for j in range(c):\n",
    "            if (i==0) or (j==0):\n",
    "                ng_sum += mat[i][j]\n",
    "            else:\n",
    "                gg_sum += mat[i][j]\n",
    "\n",
    "    return (upper_sum, lower_sum, diag, over_sum, under_sum, ng_sum, gg_sum)\n"
   ]
  },
  {
   "attachments": {},
   "cell_type": "markdown",
   "metadata": {},
   "source": [
    "## Gathering Lamda from season long performance"
   ]
  },
  {
   "cell_type": "code",
   "execution_count": 2,
   "metadata": {},
   "outputs": [
    {
     "name": "stdout",
     "output_type": "stream",
     "text": [
      "2092\n"
     ]
    }
   ],
   "source": [
    "df1 = pd.read_csv('GatheredData/Full20xxFiles/Full2017.csv')\n",
    "df2 = pd.read_csv('GatheredData/Full20xxFiles/Full2018.csv')\n",
    "df3 = pd.read_csv('GatheredData/Full20xxFiles/Full2019.csv')\n",
    "df4 = pd.read_csv('GatheredData/Full20xxFiles/Full2020.csv')\n",
    "df5 = pd.read_csv('GatheredData/Full20xxFiles/Full2021.csv')\n",
    "df6 = pd.read_csv('GatheredData/Full20xxFiles/Full2022.csv')\n",
    "PRED = pd.read_csv('UpcomingFixtures/Prediction.csv')\n",
    "pred = PRED.copy()\n",
    "#Keeping bookmakers odds\n",
    "Odds = PRED.copy()\n",
    "Odds = PRED[['HTeam', 'ATeam','B365H', 'B365D', 'B365A', 'BbAv>2.5', 'BbAv<2.5', 'GG', 'NG']]\n",
    "\n",
    "df1 = df1[['Date_x', 'HxG', 'HM', 'HTeam', 'ATeam', 'HG', 'HGA', 'HxGA', 'HDC', 'HODC', 'HPPDA', 'HOPPDA', 'HPTS/M', 'AM', 'AG', 'AGA', 'AxG', 'AxGA', 'ADC', 'AODC', 'APPDA', 'AOPPDA', 'APTS/M', 'Result', 'B365H', 'B365D', 'B365A', 'BbAv>2.5', 'BbAv<2.5']]\n",
    "df2 = df2[['Date_x', 'HxG', 'HM', 'HTeam', 'ATeam', 'HG', 'HGA', 'HxGA', 'HDC', 'HODC', 'HPPDA', 'HOPPDA', 'HPTS/M', 'AM', 'AG', 'AGA', 'AxG', 'AxGA', 'ADC', 'AODC', 'APPDA', 'AOPPDA', 'APTS/M', 'Result', 'B365H', 'B365D', 'B365A', 'BbAv>2.5', 'BbAv<2.5']]\n",
    "df3 = df3[['Date_x', 'HxG', 'HM', 'HTeam', 'ATeam', 'HG', 'HGA', 'HxGA', 'HDC', 'HODC', 'HPPDA', 'HOPPDA', 'HPTS/M', 'AM', 'AG', 'AGA', 'AxG', 'AxGA', 'ADC', 'AODC', 'APPDA', 'AOPPDA', 'APTS/M', 'Result', 'B365H', 'B365D', 'B365A', 'AvgC>2.5', 'AvgC<2.5']]\n",
    "df3.rename(columns = {'AvgC<2.5':'BbAv<2.5'}, inplace = True)\n",
    "df3.rename(columns = {'AvgC>2.5':'BbAv>2.5'}, inplace = True)\n",
    "df4 = df4[['Date_x', 'HxG', 'HM', 'HTeam', 'ATeam', 'HG', 'HGA', 'HxGA', 'HDC', 'HODC', 'HPPDA', 'HOPPDA', 'HPTS/M', 'AM', 'AG', 'AGA', 'AxG', 'AxGA', 'ADC', 'AODC', 'APPDA', 'AOPPDA', 'APTS/M', 'Result', 'B365H', 'B365D', 'B365A', 'AvgC>2.5', 'AvgC<2.5']]\n",
    "df4.rename(columns = {'AvgC<2.5':'BbAv<2.5'}, inplace = True)\n",
    "df4.rename(columns = {'AvgC>2.5':'BbAv>2.5'}, inplace = True)\n",
    "df5 = df5[['Date_x', 'HxG', 'HM', 'HTeam', 'ATeam', 'HG', 'HGA', 'HxGA', 'HDC', 'HODC', 'HPPDA', 'HOPPDA', 'HPTS/M', 'AM', 'AG', 'AGA', 'AxG', 'AxGA', 'ADC', 'AODC', 'APPDA', 'AOPPDA', 'APTS/M', 'Result', 'B365H', 'B365D', 'B365A', 'AvgC>2.5', 'AvgC<2.5']]\n",
    "df5.rename(columns = {'AvgC<2.5':'BbAv<2.5'}, inplace = True)\n",
    "df5.rename(columns = {'AvgC>2.5':'BbAv>2.5'}, inplace = True)\n",
    "df6 = df6[['Date', 'HxG', 'HM', 'HTeam', 'ATeam', 'HG', 'HGA', 'HxGA', 'HDC', 'HODC', 'HPPDA', 'HOPPDA', 'HPTS/M', 'AM', 'AG', 'AGA', 'AxG', 'AxGA', 'ADC', 'AODC', 'APPDA', 'AOPPDA', 'APTS/M', 'Result', 'B365H', 'B365D', 'B365A', 'BbAv>2.5', 'BbAv<2.5']]\n",
    "\n",
    "df1.rename(columns = {'Date_x':'Date'}, inplace = True)\n",
    "df2.rename(columns = {'Date_x':'Date'}, inplace = True)\n",
    "df3.rename(columns = {'Date_x':'Date'}, inplace = True)\n",
    "df4.rename(columns = {'Date_x':'Date'}, inplace = True)\n",
    "df5.rename(columns = {'Date_x':'Date'}, inplace = True)\n",
    "\n",
    "\n",
    "Season = pd.read_csv('GatheredData/Full20xxFiles/Full2023.csv')\n",
    "Season = Season[['Date', 'HxG', 'HM', 'HTeam', 'ATeam', 'HG', 'HGA', 'HxGA', 'HDC', 'HODC', 'HPPDA', 'HOPPDA', 'HPTS/M', 'AM', 'AG', 'AGA', 'AxG', 'AxGA', 'ADC', 'AODC', 'APPDA', 'AOPPDA', 'APTS/M', 'Result', 'B365H', 'B365D', 'B365A', 'BbAv>2.5', 'BbAv<2.5']]\n",
    "Season = Season.iloc[38:]\n",
    "\n",
    "\n",
    "DF = pd.concat([df1, df2, df3, df4, df5, df6, Season], ignore_index=True)\n",
    "\n",
    "\n",
    "DF = DF[ DF['HM'] != 0] \n",
    "DF = DF[ DF['HM'] != 1] \n",
    "DF = DF[ DF['HM'] != 2] \n",
    "DF = DF[ DF['HM'] != 3]\n",
    "subset = DF[['Date', 'HTeam', 'ATeam']].copy()\n",
    "\n",
    "extra_stats = DF.copy()\n",
    "extra_pred = pred.copy()\n",
    "\n",
    "DF['PTSDIF/M']=DF['HPTS/M']-DF['APTS/M']\n",
    "pred['PTSDIF/M']=pred['HPTS/M']-pred['APTS/M']\n",
    "DF = DF[[ 'HxG', 'HM', 'HG', 'HGA', 'HxGA', 'HDC', 'HODC', 'HPPDA', 'HOPPDA', 'HPTS/M', 'AM', 'AG', 'AGA', 'AxG', 'AxGA', 'ADC', 'AODC', 'APPDA', 'AOPPDA', 'APTS/M', 'PTSDIF/M', 'Result']]\n",
    "pred = pred[[ 'HxG', 'HM', 'HG', 'HGA', 'HxGA', 'HDC', 'HODC', 'HPPDA', 'HOPPDA', 'HPTS/M', 'AM', 'AG', 'AGA', 'AxG', 'AxGA', 'ADC', 'AODC', 'APPDA', 'AOPPDA', 'APTS/M', 'PTSDIF/M', 'Result']]\n",
    "cut = DF.shape[0]\n",
    "print(cut)\n",
    "DF = pd.concat([DF, pred], ignore_index=True)\n",
    "try:\n",
    "    DF['HxG'] = DF['HxG'].div(DF['HM'])\n",
    "    DF['HG'] = DF['HG'].div(DF['HM'])\n",
    "    DF['HGA'] = DF['HGA'].div(DF['HM'])\n",
    "    DF['HxGA'] = DF['HxGA'].div(DF['HM'])\n",
    "    DF['AxG'] = DF['AxG'].div(DF['AM'])\n",
    "    DF['AG'] = DF['AG'].div(DF['AM'])\n",
    "    DF['AxGA'] = DF['AxG'].div(DF['AM'])\n",
    "    DF['AGA'] = DF['AGA'].div(DF['AM'])\n",
    "    pred['HxG'] = pred['HxG'].div(pred['HM'])\n",
    "    pred['HG'] = pred['HG'].div(pred['HM'])\n",
    "    pred['HGA'] = pred['HGA'].div(pred['HM'])\n",
    "    pred['HxGA'] = pred['HxGA'].div(pred['HM'])\n",
    "    pred['AxG'] = pred['AxG'].div(pred['AM'])\n",
    "    pred['AG'] = pred['AG'].div(pred['AM'])\n",
    "    pred['AxGA'] = pred['AxG'].div(pred['AM'])\n",
    "    pred['AGA'] = pred['AGA'].div(pred['AM'])\n",
    "\n",
    "except ZeroDivisionError:\n",
    "    DF['HxG'] = 0\n",
    "    DF['HG'] = 0\n",
    "    DF['HGA'] = 0\n",
    "    DF['HxGA'] = 0\n",
    "    DF['AxG'] = 0\n",
    "    DF['AG'] = 0\n",
    "    DF['AxGA'] = 0\n",
    "    DF['AGA'] = 0\n",
    "\n",
    "HGoals = []\n",
    "AGoals = []\n",
    "    \n",
    "for i, x in DF.iloc[:cut].iterrows():\n",
    "    a=x['Result'].split('\\'')\n",
    "    HGoals.append(a[1])\n",
    "    AGoals.append(a[3])\n",
    "    \n",
    "DF=np.array(DF)\n",
    "DFnorm = preprocessing.normalize(DF[:, 0:21], axis=0)\n",
    "pred = DFnorm[cut:]\n",
    "DF = DFnorm[:cut]\n",
    "\n",
    "x=DF\n",
    "\n",
    "\n",
    "y1=np.array(HGoals)\n",
    "y2=np.array(AGoals)\n",
    "\n",
    "reg1 = LinearRegression().fit(x, y1)\n",
    "reg2 = LinearRegression().fit(x, y2)\n",
    "\n",
    "LamdaHome= reg1.predict(pred)\n",
    "LamdaAway= reg2.predict(pred)"
   ]
  },
  {
   "attachments": {},
   "cell_type": "markdown",
   "metadata": {},
   "source": [
    "## Gathering Lamda from 2 month form performance"
   ]
  },
  {
   "cell_type": "code",
   "execution_count": 3,
   "metadata": {},
   "outputs": [
    {
     "name": "stdout",
     "output_type": "stream",
     "text": [
      "Date           17/09/2021\n",
      "HTeam    Newcastle United\n",
      "ATeam               Leeds\n",
      "Name: 1560, dtype: object\n",
      "Date                     07/02/2021\n",
      "HxG                           12.05\n",
      "HM                               12\n",
      "HTeam       Wolverhampton Wanderers\n",
      "ATeam                     Leicester\n",
      "HG                               12\n",
      "HGA                              20\n",
      "HxGA                          15.48\n",
      "HDC                        3.166667\n",
      "HODC                       7.083333\n",
      "HPPDA                         15.93\n",
      "HOPPDA                        11.56\n",
      "HPTS/M                         0.75\n",
      "AM                               12\n",
      "AG                               20\n",
      "AGA                              11\n",
      "AxG                           16.59\n",
      "AxGA                          10.23\n",
      "ADC                             7.0\n",
      "AODC                       4.333333\n",
      "APPDA                           9.7\n",
      "AOPPDA                        12.24\n",
      "APTS/M                          2.0\n",
      "Result                 ['0 ', ' 0']\n",
      "B365H                           3.5\n",
      "B365D                           3.4\n",
      "B365A                           2.1\n",
      "BbAv>2.5                        2.2\n",
      "BbAv<2.5                       1.66\n",
      "Name: 1361, dtype: object\n",
      "            Date             HTeam            ATeam   HxG  HM  HG  HGA   HxGA  \\\n",
      "1489  19/12/2021  Newcastle United  Manchester City  7.06   9   8   18  17.04   \n",
      "\n",
      "           HDC      HODC  ...      AODC  APPDA  AOPPDA    APTS/M  \\\n",
      "1489  3.555556  9.333333  ...  3.222222   9.16   23.01  2.666667   \n",
      "\n",
      "            Result  B365H  B365D  B365A  BbAv>2.5  BbAv<2.5  \n",
      "1489  ['0 ', ' 4']   13.0    7.5   1.18       NaN       NaN  \n",
      "\n",
      "[1 rows x 29 columns]\n",
      "           HxG  HM        HG       HGA      HxGA        HDC       HODC  HPPDA  \\\n",
      "0     0.535000   4  0.250000  2.000000  1.902500   5.000000   9.250000  13.80   \n",
      "1     1.067500   4  0.000000  1.750000  1.495000   5.750000   4.750000  11.61   \n",
      "2     0.965000   4  1.000000  0.500000  1.177500   3.250000   3.250000   8.69   \n",
      "3     2.397500   4  2.000000  2.000000  1.632500   7.000000   6.000000  15.95   \n",
      "4     1.350000   4  1.000000  0.750000  1.165000   4.000000   4.000000  14.00   \n",
      "...        ...  ..       ...       ...       ...        ...        ...    ...   \n",
      "2087  0.928333   6  0.833333  1.166667  1.700000   6.166667   9.166667  18.16   \n",
      "2088  1.980000   7  1.428571  0.857143  1.090000  12.428571   4.857143   8.00   \n",
      "2089  0.811667   6  0.833333  3.166667  3.220000   3.666667  13.666667  16.54   \n",
      "2090  1.771667   6  2.333333  1.166667  1.528333   9.333333   8.000000  16.31   \n",
      "2091  2.266667   6  2.333333  1.000000  1.208333  16.500000   5.666667   7.19   \n",
      "\n",
      "      HOPPDA    HPTS/M  ...       AGA       AxG      AxGA        ADC  \\\n",
      "0       8.77  0.000000  ...  1.250000  0.437500  0.109375   3.500000   \n",
      "1       8.37  0.000000  ...  1.000000  1.372500  0.343125   9.500000   \n",
      "2      10.06  1.750000  ...  2.000000  1.342500  0.335625   2.750000   \n",
      "3      12.48  1.750000  ...  1.000000  0.760000  0.190000   3.500000   \n",
      "4       7.26  1.500000  ...  1.000000  0.862500  0.215625   5.500000   \n",
      "...      ...       ...  ...       ...       ...       ...        ...   \n",
      "2087   11.61  1.000000  ...  1.571429  1.440000  0.205714   6.142857   \n",
      "2088   18.46  1.428571  ...  0.714286  2.135714  0.305102  11.142857   \n",
      "2089    7.84  0.166667  ...  1.666667  1.400000  0.233333  10.666667   \n",
      "2090    8.20  2.166667  ...  1.666667  1.790000  0.298333   5.500000   \n",
      "2091   11.10  2.666667  ...  1.666667  1.295000  0.215833   6.666667   \n",
      "\n",
      "           AODC  APPDA  AOPPDA    APTS/M  PTSDIF/M        Result  \n",
      "0      8.250000  17.65   18.94  1.000000 -1.000000  ['2 ', ' 1']  \n",
      "1      2.500000   8.15   13.68  1.250000 -1.250000  ['0 ', ' 1']  \n",
      "2     10.000000  15.38   10.43  0.750000  1.000000  ['1 ', ' 1']  \n",
      "3      6.750000  12.51    8.62  1.750000  0.000000  ['1 ', ' 1']  \n",
      "4      7.250000  15.26    8.52  1.250000  0.250000  ['2 ', ' 1']  \n",
      "...         ...    ...     ...       ...       ...           ...  \n",
      "2087   9.142857  15.69    7.18  0.571429  0.428571  ['2 ', ' 2']  \n",
      "2088   6.857143   9.90   16.73  2.428571 -1.000000  ['2 ', ' 2']  \n",
      "2089   5.166667  13.43   15.88  1.500000 -1.333333  ['1 ', ' 2']  \n",
      "2090  12.000000  19.03   10.19  1.666667  0.500000  ['4 ', ' 1']  \n",
      "2091   7.333333  12.62   13.63  1.333333  1.333333  ['2 ', ' 0']  \n",
      "\n",
      "[2092 rows x 22 columns]\n"
     ]
    },
    {
     "name": "stderr",
     "output_type": "stream",
     "text": [
      "/tmp/ipykernel_100982/2412402004.py:48: SettingWithCopyWarning: \n",
      "A value is trying to be set on a copy of a slice from a DataFrame.\n",
      "Try using .loc[row_indexer,col_indexer] = value instead\n",
      "\n",
      "See the caveats in the documentation: https://pandas.pydata.org/pandas-docs/stable/user_guide/indexing.html#returning-a-view-versus-a-copy\n",
      "  DF['PTSDIF/M']=DF['HPTS/M']-DF['APTS/M']\n"
     ]
    }
   ],
   "source": [
    "df1 = pd.read_csv('GatheredData/Epl20xxMonthlyFiles/Epl2017Monthly.csv')\n",
    "df2 = pd.read_csv('GatheredData/Epl20xxMonthlyFiles/Epl2018Monthly.csv')\n",
    "df3 = pd.read_csv('GatheredData/Epl20xxMonthlyFiles/Epl2019Monthly.csv')\n",
    "df4 = pd.read_csv('GatheredData/Epl20xxMonthlyFiles/Epl2020Monthly.csv')\n",
    "df5 = pd.read_csv('GatheredData/Epl20xxMonthlyFiles/Epl2021Monthly.csv')\n",
    "df6 = pd.read_csv('GatheredData/Epl20xxMonthlyFiles/Epl2022Monthly.csv')\n",
    "pred = PRED.copy()\n",
    "#Keeping bookmakers odds\n",
    "Odds = PRED.copy()\n",
    "Odds = PRED[['HTeam', 'ATeam','B365H', 'B365D', 'B365A', 'BbAv>2.5', 'BbAv<2.5', 'GG', 'NG']]\n",
    "\n",
    "df1 = df1[['Date', 'HxG', 'HM', 'HTeam', 'ATeam', 'HG', 'HGA', 'HxGA', 'HDC', 'HODC', 'HPPDA', 'HOPPDA', 'HPTS/M', 'AM', 'AG', 'AGA', 'AxG', 'AxGA', 'ADC', 'AODC', 'APPDA', 'AOPPDA', 'APTS/M', 'Result', 'B365H', 'B365D', 'B365A', 'BbAv>2.5', 'BbAv<2.5']]\n",
    "df2 = df2[['Date', 'HxG', 'HM', 'HTeam', 'ATeam', 'HG', 'HGA', 'HxGA', 'HDC', 'HODC', 'HPPDA', 'HOPPDA', 'HPTS/M', 'AM', 'AG', 'AGA', 'AxG', 'AxGA', 'ADC', 'AODC', 'APPDA', 'AOPPDA', 'APTS/M', 'Result', 'B365H', 'B365D', 'B365A', 'BbAv>2.5', 'BbAv<2.5']]\n",
    "df3 = df3[['Date', 'HxG', 'HM', 'HTeam', 'ATeam', 'HG', 'HGA', 'HxGA', 'HDC', 'HODC', 'HPPDA', 'HOPPDA', 'HPTS/M', 'AM', 'AG', 'AGA', 'AxG', 'AxGA', 'ADC', 'AODC', 'APPDA', 'AOPPDA', 'APTS/M', 'Result', 'B365H', 'B365D', 'B365A', 'B365>2.5', 'B365<2.5']]\n",
    "df3.rename(columns = {'B365<2.5':'BbAv<2.5'}, inplace = True)\n",
    "df3.rename(columns = {'B365>2.5':'BbAv>2.5'}, inplace = True)\n",
    "df4 = df4[['Date', 'HxG', 'HM', 'HTeam', 'ATeam', 'HG', 'HGA', 'HxGA', 'HDC', 'HODC', 'HPPDA', 'HOPPDA', 'HPTS/M', 'AM', 'AG', 'AGA', 'AxG', 'AxGA', 'ADC', 'AODC', 'APPDA', 'AOPPDA', 'APTS/M', 'Result', 'B365H', 'B365D', 'B365A', 'B365>2.5', 'B365<2.5']]\n",
    "df4.rename(columns = {'B365<2.5':'BbAv<2.5'}, inplace = True)\n",
    "df4.rename(columns = {'B365>2.5':'BbAv>2.5'}, inplace = True)\n",
    "df5 = df5[['Date', 'HxG', 'HM', 'HTeam', 'ATeam', 'HG', 'HGA', 'HxGA', 'HDC', 'HODC', 'HPPDA', 'HOPPDA', 'HPTS/M', 'AM', 'AG', 'AGA', 'AxG', 'AxGA', 'ADC', 'AODC', 'APPDA', 'AOPPDA', 'APTS/M', 'Result', 'B365H', 'B365D', 'B365A', 'B365>2.5', 'B365<2.5']]\n",
    "df5.rename(columns = {'B365<2.5':'BbAv<2.5'}, inplace = True)\n",
    "df5.rename(columns = {'B365>2.5':'BbAv>2.5'}, inplace = True)\n",
    "df6 = df6[['Date', 'HxG', 'HM', 'HTeam', 'ATeam', 'HG', 'HGA', 'HxGA', 'HDC', 'HODC', 'HPPDA', 'HOPPDA', 'HPTS/M', 'AM', 'AG', 'AGA', 'AxG', 'AxGA', 'ADC', 'AODC', 'APPDA', 'AOPPDA', 'APTS/M', 'Result', 'B365H', 'B365D', 'B365A', 'BbAv>2.5', 'BbAv<2.5']]\n",
    "df6.rename(columns = {'B365<2.5':'BbAv<2.5'}, inplace = True)\n",
    "df6.rename(columns = {'B365>2.5':'BbAv>2.5'}, inplace = True)\n",
    "\n",
    "SeasonForm = pd.read_csv('GatheredData/Epl20xxMonthlyFiles/Epl2023Monthly.csv')\n",
    "\n",
    "\n",
    "try:\n",
    "    SeasonForm = SeasonForm[['Date', 'HxG', 'HM', 'HTeam', 'ATeam', 'HG', 'HGA', 'HxGA', 'HDC', 'HODC', 'HPPDA', 'HOPPDA', 'HPTS/M', 'AM', 'AG', 'AGA', 'AxG', 'AxGA', 'ADC', 'AODC', 'APPDA', 'AOPPDA', 'APTS/M', 'Result', 'B365H', 'B365D', 'B365A', 'BbAv>2.5', 'BbAv<2.5']]\n",
    "except KeyError:\n",
    "    SeasonForm = SeasonForm[['Date', 'HxG', 'HM', 'HTeam', 'ATeam', 'HG', 'HGA', 'HxGA', 'HDC', 'HODC', 'HPPDA', 'HOPPDA', 'HPTS/M', 'AM', 'AG', 'AGA', 'AxG', 'AxGA', 'ADC', 'AODC', 'APPDA', 'AOPPDA', 'APTS/M', 'Result', 'B365H', 'B365D', 'B365A', 'B365>2.5', 'B365<2.5']]\n",
    "    SeasonForm.rename(columns = {'B365<2.5':'BbAv<2.5'}, inplace = True)\n",
    "    SeasonForm.rename(columns = {'B365>2.5':'BbAv>2.5'}, inplace = True)\n",
    "    \n",
    "SeasonForm = SeasonForm.iloc[38:]\n",
    "\n",
    "DF = pd.concat([df1, df2, df3, df4, df5, df6, SeasonForm], ignore_index=True)\n",
    "merged = pd.merge(subset, DF, on=['Date', 'HTeam', 'ATeam'], how='left')\n",
    "print(subset.iloc[1361])\n",
    "print(DF.iloc[1361])\n",
    "print(merged[merged.isna().any(axis=1)])\n",
    "\n",
    "# resulting dataframe will have columns of B where the triplet of A['a', 'b', 'c'] exists in B\n",
    "DF = merged[DF.columns]\n",
    "\n",
    "DF['PTSDIF/M']=DF['HPTS/M']-DF['APTS/M']\n",
    "pred['PTSDIF/M']=pred['HPTS/M']-pred['APTS/M']\n",
    "DF = DF[['HxG', 'HM', 'HG', 'HGA', 'HxGA', 'HDC', 'HODC', 'HPPDA', 'HOPPDA', 'HPTS/M', 'AM', 'AG', 'AGA', 'AxG', 'AxGA', 'ADC', 'AODC', 'APPDA', 'AOPPDA', 'APTS/M', 'PTSDIF/M', 'Result']]\n",
    "pred = pred[['HxG', 'HM', 'HG', 'HGA', 'HxGA', 'HDC', 'HODC', 'HPPDA', 'HOPPDA', 'HPTS/M', 'AM', 'AG', 'AGA', 'AxG', 'AxGA', 'ADC', 'AODC', 'APPDA', 'AOPPDA', 'APTS/M', 'PTSDIF/M', 'Result']]\n",
    "cut = DF.shape[0]\n",
    "DF = pd.concat([DF, pred], ignore_index=True)\n",
    "\n",
    "\n",
    "\n",
    "try:\n",
    "    DF['HxG'] = DF['HxG'].div(DF['HM']).fillna(0)\n",
    "    DF['HG'] = DF['HG'].div(DF['HM']).fillna(0)\n",
    "    DF['HGA'] = DF['HGA'].div(DF['HM']).fillna(0)\n",
    "    DF['HxGA'] = DF['HxGA'].div(DF['HM']).fillna(0)\n",
    "    DF['AxG'] = DF['AxG'].div(DF['AM']).fillna(0)\n",
    "    DF['AG'] = DF['AG'].div(DF['AM']).fillna(0)\n",
    "    DF['AxGA'] = DF['AxG'].div(DF['AM']).fillna(0)\n",
    "    DF['AGA'] = DF['AGA'].div(DF['AM']).fillna(0)\n",
    "    pred['HxG'] = pred['HxG'].div(pred['HM']).fillna(0)\n",
    "    pred['HG'] = pred['HG'].div(pred['HM']).fillna(0)\n",
    "    pred['HGA'] = pred['HGA'].div(pred['HM']).fillna(0)\n",
    "    pred['HxGA'] = pred['HxGA'].div(pred['HM']).fillna(0)\n",
    "    pred['AxG'] = pred['AxG'].div(pred['AM']).fillna(0)\n",
    "    pred['AG'] = pred['AG'].div(pred['AM']).fillna(0)\n",
    "    pred['AxGA'] = pred['AxG'].div(pred['AM']).fillna(0)\n",
    "    pred['AGA'] = pred['AGA'].div(pred['AM']).fillna(0)\n",
    "\n",
    "except ZeroDivisionError:\n",
    "    DF['HxG'] = 0\n",
    "    DF['HG'] = 0\n",
    "    DF['HGA'] = 0\n",
    "    DF['HxGA'] = 0\n",
    "    DF['AxG'] = 0\n",
    "    DF['AG'] = 0\n",
    "    DF['AxGA'] = 0\n",
    "    DF['AGA'] = 0\n",
    "\n",
    "\n",
    "print(DF.iloc[:cut])\n",
    "        \n",
    "HGoals = []\n",
    "AGoals = []\n",
    "for i, x in DF.iloc[:cut].iterrows():\n",
    "    a=str(x['Result']).split('\\'')\n",
    "    try:\n",
    "        HGoals.append(a[1])\n",
    "        AGoals.append(a[3])\n",
    "    except IndexError:\n",
    "        print(x)\n",
    "        print(DF.iloc[:cut].iloc[i-1])\n",
    "\n",
    "DF=np.array(DF)\n",
    "\n",
    "DFnorm = preprocessing.normalize(DF[:, 0:21].astype('float64'), axis=0)\n",
    "pred = DFnorm[cut:]\n",
    "DF = DFnorm[:cut]\n",
    "\n",
    "x=DF\n",
    "\n",
    "y1=np.array(HGoals)\n",
    "y2=np.array(AGoals)\n",
    "\n",
    "reg1 = LinearRegression().fit(x, y1)\n",
    "reg2 = LinearRegression().fit(x, y2)\n",
    "\n",
    "LamdaHomeForm= reg1.predict(pred)\n",
    "LamdaAwayForm= reg2.predict(pred)"
   ]
  },
  {
   "cell_type": "code",
   "execution_count": 4,
   "metadata": {},
   "outputs": [
    {
     "name": "stdout",
     "output_type": "stream",
     "text": [
      "[1.1151113599382214, 2.0939933674902904, 2.728384415991897, 1.6120659967942563, 1.0946079096787202, 1.4922589890703968, 2.1915177937248194, 2.0944705270132475, 2.261461341815101, 1.4715264996440436, 1.3270551175181702, 1.8774308696707669, 1.3189081852184574, 2.8529210066772617, 1.448540680195531, 1.0973810616522472, 1.6891281702243979, 1.124965368998741, 0.882842707053303, 2.16676478935306]\n",
      "[1.9943821747959176, 1.2539028989844525, 0.50048209103912, 1.6407670658017264, 2.087736651968634, 1.4793637949825071, 1.0785920939947704, 0.9101778228099597, 0.8532816765699496, 1.661616592606196, 1.5946741168931782, 1.1546273787355916, 1.2998378807795137, 0.4764078796849525, 1.6846017454841156, 1.7212714326898406, 1.386510737440645, 1.5519845293200938, 2.1383164275906403, 1.5682382635044878]\n"
     ]
    }
   ],
   "source": [
    "LamdaAwayFinal = [(LamdaAway[i] * 0.4 + LamdaAwayForm[i] * 0.6) for i in range(len(LamdaAway))]\n",
    "LamdaHomeFinal = [(LamdaHome[i] * 0.4 + LamdaHomeForm[i] * 0.6) for i in range(len(LamdaHome))]\n",
    "\n",
    "print(LamdaHomeFinal)\n",
    "print(LamdaAwayFinal)"
   ]
  },
  {
   "cell_type": "code",
   "execution_count": 5,
   "metadata": {},
   "outputs": [
    {
     "data": {
      "text/html": [
       "<div>\n",
       "<style scoped>\n",
       "    .dataframe tbody tr th:only-of-type {\n",
       "        vertical-align: middle;\n",
       "    }\n",
       "\n",
       "    .dataframe tbody tr th {\n",
       "        vertical-align: top;\n",
       "    }\n",
       "\n",
       "    .dataframe thead th {\n",
       "        text-align: right;\n",
       "    }\n",
       "</style>\n",
       "<table border=\"1\" class=\"dataframe\">\n",
       "  <thead>\n",
       "    <tr style=\"text-align: right;\">\n",
       "      <th></th>\n",
       "      <th>Date</th>\n",
       "      <th>HTeam</th>\n",
       "      <th>ATeam</th>\n",
       "      <th>P(Hwin)</th>\n",
       "      <th>P(Draw)</th>\n",
       "      <th>P(Awin)</th>\n",
       "      <th>P(Under)</th>\n",
       "      <th>P(Over)</th>\n",
       "      <th>P(GG)</th>\n",
       "      <th>P(NG)</th>\n",
       "    </tr>\n",
       "  </thead>\n",
       "  <tbody>\n",
       "    <tr>\n",
       "      <th>0</th>\n",
       "      <td>27/10/2023</td>\n",
       "      <td>Crystal Palace</td>\n",
       "      <td>Tottenham</td>\n",
       "      <td>0.215</td>\n",
       "      <td>0.213</td>\n",
       "      <td>0.573</td>\n",
       "      <td>0.379</td>\n",
       "      <td>0.621</td>\n",
       "      <td>0.599</td>\n",
       "      <td>0.401</td>\n",
       "    </tr>\n",
       "    <tr>\n",
       "      <th>1</th>\n",
       "      <td>28/10/2023</td>\n",
       "      <td>Chelsea</td>\n",
       "      <td>Brentford</td>\n",
       "      <td>0.571</td>\n",
       "      <td>0.210</td>\n",
       "      <td>0.219</td>\n",
       "      <td>0.359</td>\n",
       "      <td>0.641</td>\n",
       "      <td>0.617</td>\n",
       "      <td>0.383</td>\n",
       "    </tr>\n",
       "    <tr>\n",
       "      <th>2</th>\n",
       "      <td>28/10/2023</td>\n",
       "      <td>Arsenal</td>\n",
       "      <td>Sheffield United</td>\n",
       "      <td>0.873</td>\n",
       "      <td>0.096</td>\n",
       "      <td>0.030</td>\n",
       "      <td>0.372</td>\n",
       "      <td>0.628</td>\n",
       "      <td>0.304</td>\n",
       "      <td>0.696</td>\n",
       "    </tr>\n",
       "    <tr>\n",
       "      <th>3</th>\n",
       "      <td>28/10/2023</td>\n",
       "      <td>Bournemouth</td>\n",
       "      <td>Burnley</td>\n",
       "      <td>0.388</td>\n",
       "      <td>0.235</td>\n",
       "      <td>0.377</td>\n",
       "      <td>0.383</td>\n",
       "      <td>0.617</td>\n",
       "      <td>0.635</td>\n",
       "      <td>0.365</td>\n",
       "    </tr>\n",
       "    <tr>\n",
       "      <th>4</th>\n",
       "      <td>28/10/2023</td>\n",
       "      <td>Wolverhampton Wanderers</td>\n",
       "      <td>Newcastle United</td>\n",
       "      <td>0.171</td>\n",
       "      <td>0.202</td>\n",
       "      <td>0.627</td>\n",
       "      <td>0.400</td>\n",
       "      <td>0.600</td>\n",
       "      <td>0.556</td>\n",
       "      <td>0.444</td>\n",
       "    </tr>\n",
       "    <tr>\n",
       "      <th>5</th>\n",
       "      <td>29/10/2023</td>\n",
       "      <td>West Ham</td>\n",
       "      <td>Everton</td>\n",
       "      <td>0.395</td>\n",
       "      <td>0.242</td>\n",
       "      <td>0.363</td>\n",
       "      <td>0.419</td>\n",
       "      <td>0.581</td>\n",
       "      <td>0.606</td>\n",
       "      <td>0.394</td>\n",
       "    </tr>\n",
       "    <tr>\n",
       "      <th>6</th>\n",
       "      <td>29/10/2023</td>\n",
       "      <td>Brighton</td>\n",
       "      <td>Fulham</td>\n",
       "      <td>0.648</td>\n",
       "      <td>0.189</td>\n",
       "      <td>0.163</td>\n",
       "      <td>0.352</td>\n",
       "      <td>0.648</td>\n",
       "      <td>0.586</td>\n",
       "      <td>0.414</td>\n",
       "    </tr>\n",
       "    <tr>\n",
       "      <th>7</th>\n",
       "      <td>29/10/2023</td>\n",
       "      <td>Aston Villa</td>\n",
       "      <td>Luton</td>\n",
       "      <td>0.673</td>\n",
       "      <td>0.189</td>\n",
       "      <td>0.138</td>\n",
       "      <td>0.404</td>\n",
       "      <td>0.596</td>\n",
       "      <td>0.523</td>\n",
       "      <td>0.477</td>\n",
       "    </tr>\n",
       "    <tr>\n",
       "      <th>8</th>\n",
       "      <td>29/10/2023</td>\n",
       "      <td>Liverpool</td>\n",
       "      <td>Nottingham Forest</td>\n",
       "      <td>0.710</td>\n",
       "      <td>0.174</td>\n",
       "      <td>0.115</td>\n",
       "      <td>0.395</td>\n",
       "      <td>0.605</td>\n",
       "      <td>0.502</td>\n",
       "      <td>0.498</td>\n",
       "    </tr>\n",
       "    <tr>\n",
       "      <th>9</th>\n",
       "      <td>29/10/2023</td>\n",
       "      <td>Manchester United</td>\n",
       "      <td>Manchester City</td>\n",
       "      <td>0.351</td>\n",
       "      <td>0.237</td>\n",
       "      <td>0.412</td>\n",
       "      <td>0.396</td>\n",
       "      <td>0.604</td>\n",
       "      <td>0.623</td>\n",
       "      <td>0.377</td>\n",
       "    </tr>\n",
       "    <tr>\n",
       "      <th>10</th>\n",
       "      <td>04/11/2023</td>\n",
       "      <td>Fulham</td>\n",
       "      <td>Manchester United</td>\n",
       "      <td>0.322</td>\n",
       "      <td>0.244</td>\n",
       "      <td>0.434</td>\n",
       "      <td>0.438</td>\n",
       "      <td>0.562</td>\n",
       "      <td>0.588</td>\n",
       "      <td>0.412</td>\n",
       "    </tr>\n",
       "    <tr>\n",
       "      <th>11</th>\n",
       "      <td>04/11/2023</td>\n",
       "      <td>Brentford</td>\n",
       "      <td>West Ham</td>\n",
       "      <td>0.543</td>\n",
       "      <td>0.225</td>\n",
       "      <td>0.233</td>\n",
       "      <td>0.413</td>\n",
       "      <td>0.587</td>\n",
       "      <td>0.582</td>\n",
       "      <td>0.418</td>\n",
       "    </tr>\n",
       "    <tr>\n",
       "      <th>12</th>\n",
       "      <td>04/11/2023</td>\n",
       "      <td>Burnley</td>\n",
       "      <td>Crystal Palace</td>\n",
       "      <td>0.354</td>\n",
       "      <td>0.263</td>\n",
       "      <td>0.383</td>\n",
       "      <td>0.515</td>\n",
       "      <td>0.485</td>\n",
       "      <td>0.532</td>\n",
       "      <td>0.468</td>\n",
       "    </tr>\n",
       "    <tr>\n",
       "      <th>13</th>\n",
       "      <td>04/11/2023</td>\n",
       "      <td>Manchester City</td>\n",
       "      <td>Bournemouth</td>\n",
       "      <td>0.900</td>\n",
       "      <td>0.078</td>\n",
       "      <td>0.022</td>\n",
       "      <td>0.334</td>\n",
       "      <td>0.666</td>\n",
       "      <td>0.284</td>\n",
       "      <td>0.716</td>\n",
       "    </tr>\n",
       "    <tr>\n",
       "      <th>14</th>\n",
       "      <td>04/11/2023</td>\n",
       "      <td>Everton</td>\n",
       "      <td>Brighton</td>\n",
       "      <td>0.329</td>\n",
       "      <td>0.235</td>\n",
       "      <td>0.436</td>\n",
       "      <td>0.391</td>\n",
       "      <td>0.609</td>\n",
       "      <td>0.625</td>\n",
       "      <td>0.375</td>\n",
       "    </tr>\n",
       "    <tr>\n",
       "      <th>15</th>\n",
       "      <td>04/11/2023</td>\n",
       "      <td>Sheffield United</td>\n",
       "      <td>Wolverhampton Wanderers</td>\n",
       "      <td>0.232</td>\n",
       "      <td>0.237</td>\n",
       "      <td>0.530</td>\n",
       "      <td>0.471</td>\n",
       "      <td>0.529</td>\n",
       "      <td>0.538</td>\n",
       "      <td>0.462</td>\n",
       "    </tr>\n",
       "    <tr>\n",
       "      <th>16</th>\n",
       "      <td>04/11/2023</td>\n",
       "      <td>Newcastle United</td>\n",
       "      <td>Arsenal</td>\n",
       "      <td>0.453</td>\n",
       "      <td>0.233</td>\n",
       "      <td>0.314</td>\n",
       "      <td>0.390</td>\n",
       "      <td>0.610</td>\n",
       "      <td>0.623</td>\n",
       "      <td>0.377</td>\n",
       "    </tr>\n",
       "    <tr>\n",
       "      <th>17</th>\n",
       "      <td>05/11/2023</td>\n",
       "      <td>Nottingham Forest</td>\n",
       "      <td>Aston Villa</td>\n",
       "      <td>0.251</td>\n",
       "      <td>0.248</td>\n",
       "      <td>0.500</td>\n",
       "      <td>0.499</td>\n",
       "      <td>0.501</td>\n",
       "      <td>0.525</td>\n",
       "      <td>0.475</td>\n",
       "    </tr>\n",
       "    <tr>\n",
       "      <th>18</th>\n",
       "      <td>05/11/2023</td>\n",
       "      <td>Luton</td>\n",
       "      <td>Liverpool</td>\n",
       "      <td>0.129</td>\n",
       "      <td>0.188</td>\n",
       "      <td>0.683</td>\n",
       "      <td>0.423</td>\n",
       "      <td>0.577</td>\n",
       "      <td>0.498</td>\n",
       "      <td>0.502</td>\n",
       "    </tr>\n",
       "    <tr>\n",
       "      <th>19</th>\n",
       "      <td>06/11/2023</td>\n",
       "      <td>Tottenham</td>\n",
       "      <td>Chelsea</td>\n",
       "      <td>0.565</td>\n",
       "      <td>0.197</td>\n",
       "      <td>0.238</td>\n",
       "      <td>0.273</td>\n",
       "      <td>0.727</td>\n",
       "      <td>0.693</td>\n",
       "      <td>0.307</td>\n",
       "    </tr>\n",
       "  </tbody>\n",
       "</table>\n",
       "</div>"
      ],
      "text/plain": [
       "          Date                    HTeam                    ATeam  P(Hwin)  \\\n",
       "0   27/10/2023           Crystal Palace                Tottenham    0.215   \n",
       "1   28/10/2023                  Chelsea                Brentford    0.571   \n",
       "2   28/10/2023                  Arsenal         Sheffield United    0.873   \n",
       "3   28/10/2023              Bournemouth                  Burnley    0.388   \n",
       "4   28/10/2023  Wolverhampton Wanderers         Newcastle United    0.171   \n",
       "5   29/10/2023                 West Ham                  Everton    0.395   \n",
       "6   29/10/2023                 Brighton                   Fulham    0.648   \n",
       "7   29/10/2023              Aston Villa                    Luton    0.673   \n",
       "8   29/10/2023                Liverpool        Nottingham Forest    0.710   \n",
       "9   29/10/2023        Manchester United          Manchester City    0.351   \n",
       "10  04/11/2023                   Fulham        Manchester United    0.322   \n",
       "11  04/11/2023                Brentford                 West Ham    0.543   \n",
       "12  04/11/2023                  Burnley           Crystal Palace    0.354   \n",
       "13  04/11/2023          Manchester City              Bournemouth    0.900   \n",
       "14  04/11/2023                  Everton                 Brighton    0.329   \n",
       "15  04/11/2023         Sheffield United  Wolverhampton Wanderers    0.232   \n",
       "16  04/11/2023         Newcastle United                  Arsenal    0.453   \n",
       "17  05/11/2023        Nottingham Forest              Aston Villa    0.251   \n",
       "18  05/11/2023                    Luton                Liverpool    0.129   \n",
       "19  06/11/2023                Tottenham                  Chelsea    0.565   \n",
       "\n",
       "    P(Draw)  P(Awin)  P(Under)  P(Over)  P(GG)  P(NG)  \n",
       "0     0.213    0.573     0.379    0.621  0.599  0.401  \n",
       "1     0.210    0.219     0.359    0.641  0.617  0.383  \n",
       "2     0.096    0.030     0.372    0.628  0.304  0.696  \n",
       "3     0.235    0.377     0.383    0.617  0.635  0.365  \n",
       "4     0.202    0.627     0.400    0.600  0.556  0.444  \n",
       "5     0.242    0.363     0.419    0.581  0.606  0.394  \n",
       "6     0.189    0.163     0.352    0.648  0.586  0.414  \n",
       "7     0.189    0.138     0.404    0.596  0.523  0.477  \n",
       "8     0.174    0.115     0.395    0.605  0.502  0.498  \n",
       "9     0.237    0.412     0.396    0.604  0.623  0.377  \n",
       "10    0.244    0.434     0.438    0.562  0.588  0.412  \n",
       "11    0.225    0.233     0.413    0.587  0.582  0.418  \n",
       "12    0.263    0.383     0.515    0.485  0.532  0.468  \n",
       "13    0.078    0.022     0.334    0.666  0.284  0.716  \n",
       "14    0.235    0.436     0.391    0.609  0.625  0.375  \n",
       "15    0.237    0.530     0.471    0.529  0.538  0.462  \n",
       "16    0.233    0.314     0.390    0.610  0.623  0.377  \n",
       "17    0.248    0.500     0.499    0.501  0.525  0.475  \n",
       "18    0.188    0.683     0.423    0.577  0.498  0.502  \n",
       "19    0.197    0.238     0.273    0.727  0.693  0.307  "
      ]
     },
     "metadata": {},
     "output_type": "display_data"
    },
    {
     "name": "stderr",
     "output_type": "stream",
     "text": [
      "/tmp/ipykernel_100982/2946263194.py:87: SettingWithCopyWarning: \n",
      "A value is trying to be set on a copy of a slice from a DataFrame\n",
      "\n",
      "See the caveats in the documentation: https://pandas.pydata.org/pandas-docs/stable/user_guide/indexing.html#returning-a-view-versus-a-copy\n",
      "  Final_Odds['Match'][i] = str(Final_Odds['HTeam'][i] + '-' + Final_Odds['ATeam'][i])\n",
      "/tmp/ipykernel_100982/2946263194.py:91: SettingWithCopyWarning: \n",
      "A value is trying to be set on a copy of a slice from a DataFrame\n",
      "\n",
      "See the caveats in the documentation: https://pandas.pydata.org/pandas-docs/stable/user_guide/indexing.html#returning-a-view-versus-a-copy\n",
      "  Final_Odds['P(Hwin)'][i] = 1/Final_Odds.iloc[i]['B365H']\n",
      "/tmp/ipykernel_100982/2946263194.py:92: SettingWithCopyWarning: \n",
      "A value is trying to be set on a copy of a slice from a DataFrame\n",
      "\n",
      "See the caveats in the documentation: https://pandas.pydata.org/pandas-docs/stable/user_guide/indexing.html#returning-a-view-versus-a-copy\n",
      "  Final_Odds['P(Awin)'][i] = 1/Final_Odds.iloc[i]['B365A']\n",
      "/tmp/ipykernel_100982/2946263194.py:93: SettingWithCopyWarning: \n",
      "A value is trying to be set on a copy of a slice from a DataFrame\n",
      "\n",
      "See the caveats in the documentation: https://pandas.pydata.org/pandas-docs/stable/user_guide/indexing.html#returning-a-view-versus-a-copy\n",
      "  Final_Odds['P(Draw)'][i] = 1/Final_Odds.iloc[i]['B365D']\n",
      "/tmp/ipykernel_100982/2946263194.py:94: SettingWithCopyWarning: \n",
      "A value is trying to be set on a copy of a slice from a DataFrame\n",
      "\n",
      "See the caveats in the documentation: https://pandas.pydata.org/pandas-docs/stable/user_guide/indexing.html#returning-a-view-versus-a-copy\n",
      "  Final_Odds['P(Over)'][i] = 1/Final_Odds.iloc[i]['BbAv>2.5']\n",
      "/tmp/ipykernel_100982/2946263194.py:95: SettingWithCopyWarning: \n",
      "A value is trying to be set on a copy of a slice from a DataFrame\n",
      "\n",
      "See the caveats in the documentation: https://pandas.pydata.org/pandas-docs/stable/user_guide/indexing.html#returning-a-view-versus-a-copy\n",
      "  Final_Odds['P(Under)'][i] = 1/Final_Odds.iloc[i]['BbAv<2.5']\n",
      "/tmp/ipykernel_100982/2946263194.py:96: SettingWithCopyWarning: \n",
      "A value is trying to be set on a copy of a slice from a DataFrame\n",
      "\n",
      "See the caveats in the documentation: https://pandas.pydata.org/pandas-docs/stable/user_guide/indexing.html#returning-a-view-versus-a-copy\n",
      "  Final_Odds['P(GG)'][i] = 1/Final_Odds.iloc[i]['GG']\n",
      "/tmp/ipykernel_100982/2946263194.py:97: SettingWithCopyWarning: \n",
      "A value is trying to be set on a copy of a slice from a DataFrame\n",
      "\n",
      "See the caveats in the documentation: https://pandas.pydata.org/pandas-docs/stable/user_guide/indexing.html#returning-a-view-versus-a-copy\n",
      "  Final_Odds['P(NG)'][i] = 1/Final_Odds.iloc[i]['NG']\n"
     ]
    },
    {
     "data": {
      "text/html": [
       "<div>\n",
       "<style scoped>\n",
       "    .dataframe tbody tr th:only-of-type {\n",
       "        vertical-align: middle;\n",
       "    }\n",
       "\n",
       "    .dataframe tbody tr th {\n",
       "        vertical-align: top;\n",
       "    }\n",
       "\n",
       "    .dataframe thead th {\n",
       "        text-align: right;\n",
       "    }\n",
       "</style>\n",
       "<table border=\"1\" class=\"dataframe\">\n",
       "  <thead>\n",
       "    <tr style=\"text-align: right;\">\n",
       "      <th></th>\n",
       "      <th>P(Hwin)</th>\n",
       "      <th>P(Draw)</th>\n",
       "      <th>P(Awin)</th>\n",
       "      <th>P(Under)</th>\n",
       "      <th>P(Over)</th>\n",
       "      <th>P(GG)</th>\n",
       "      <th>P(NG)</th>\n",
       "      <th>Type</th>\n",
       "      <th>Match</th>\n",
       "      <th>Date</th>\n",
       "    </tr>\n",
       "  </thead>\n",
       "  <tbody>\n",
       "    <tr>\n",
       "      <th>0</th>\n",
       "      <td>0.21</td>\n",
       "      <td>0.21</td>\n",
       "      <td>0.57</td>\n",
       "      <td>0.38</td>\n",
       "      <td>0.62</td>\n",
       "      <td>0.60</td>\n",
       "      <td>0.40</td>\n",
       "      <td>Predicted</td>\n",
       "      <td>Crystal Palace-Tottenham</td>\n",
       "      <td>27/10/2023</td>\n",
       "    </tr>\n",
       "    <tr>\n",
       "      <th>1</th>\n",
       "      <td>0.57</td>\n",
       "      <td>0.21</td>\n",
       "      <td>0.22</td>\n",
       "      <td>0.36</td>\n",
       "      <td>0.64</td>\n",
       "      <td>0.62</td>\n",
       "      <td>0.38</td>\n",
       "      <td>Predicted</td>\n",
       "      <td>Chelsea-Brentford</td>\n",
       "      <td>28/10/2023</td>\n",
       "    </tr>\n",
       "    <tr>\n",
       "      <th>2</th>\n",
       "      <td>0.87</td>\n",
       "      <td>0.10</td>\n",
       "      <td>0.03</td>\n",
       "      <td>0.37</td>\n",
       "      <td>0.63</td>\n",
       "      <td>0.30</td>\n",
       "      <td>0.70</td>\n",
       "      <td>Predicted</td>\n",
       "      <td>Arsenal-Sheffield United</td>\n",
       "      <td>28/10/2023</td>\n",
       "    </tr>\n",
       "    <tr>\n",
       "      <th>3</th>\n",
       "      <td>0.39</td>\n",
       "      <td>0.23</td>\n",
       "      <td>0.38</td>\n",
       "      <td>0.38</td>\n",
       "      <td>0.62</td>\n",
       "      <td>0.63</td>\n",
       "      <td>0.37</td>\n",
       "      <td>Predicted</td>\n",
       "      <td>Bournemouth-Burnley</td>\n",
       "      <td>28/10/2023</td>\n",
       "    </tr>\n",
       "    <tr>\n",
       "      <th>4</th>\n",
       "      <td>0.17</td>\n",
       "      <td>0.20</td>\n",
       "      <td>0.63</td>\n",
       "      <td>0.40</td>\n",
       "      <td>0.60</td>\n",
       "      <td>0.56</td>\n",
       "      <td>0.44</td>\n",
       "      <td>Predicted</td>\n",
       "      <td>Wolverhampton Wanderers-Newcastle United</td>\n",
       "      <td>28/10/2023</td>\n",
       "    </tr>\n",
       "    <tr>\n",
       "      <th>5</th>\n",
       "      <td>0.40</td>\n",
       "      <td>0.24</td>\n",
       "      <td>0.36</td>\n",
       "      <td>0.42</td>\n",
       "      <td>0.58</td>\n",
       "      <td>0.61</td>\n",
       "      <td>0.39</td>\n",
       "      <td>Predicted</td>\n",
       "      <td>West Ham-Everton</td>\n",
       "      <td>29/10/2023</td>\n",
       "    </tr>\n",
       "    <tr>\n",
       "      <th>6</th>\n",
       "      <td>0.65</td>\n",
       "      <td>0.19</td>\n",
       "      <td>0.16</td>\n",
       "      <td>0.35</td>\n",
       "      <td>0.65</td>\n",
       "      <td>0.59</td>\n",
       "      <td>0.41</td>\n",
       "      <td>Predicted</td>\n",
       "      <td>Brighton-Fulham</td>\n",
       "      <td>29/10/2023</td>\n",
       "    </tr>\n",
       "    <tr>\n",
       "      <th>7</th>\n",
       "      <td>0.67</td>\n",
       "      <td>0.19</td>\n",
       "      <td>0.14</td>\n",
       "      <td>0.40</td>\n",
       "      <td>0.60</td>\n",
       "      <td>0.52</td>\n",
       "      <td>0.48</td>\n",
       "      <td>Predicted</td>\n",
       "      <td>Aston Villa-Luton</td>\n",
       "      <td>29/10/2023</td>\n",
       "    </tr>\n",
       "    <tr>\n",
       "      <th>8</th>\n",
       "      <td>0.71</td>\n",
       "      <td>0.17</td>\n",
       "      <td>0.12</td>\n",
       "      <td>0.40</td>\n",
       "      <td>0.60</td>\n",
       "      <td>0.50</td>\n",
       "      <td>0.50</td>\n",
       "      <td>Predicted</td>\n",
       "      <td>Liverpool-Nottingham Forest</td>\n",
       "      <td>29/10/2023</td>\n",
       "    </tr>\n",
       "    <tr>\n",
       "      <th>9</th>\n",
       "      <td>0.35</td>\n",
       "      <td>0.24</td>\n",
       "      <td>0.41</td>\n",
       "      <td>0.40</td>\n",
       "      <td>0.60</td>\n",
       "      <td>0.62</td>\n",
       "      <td>0.38</td>\n",
       "      <td>Predicted</td>\n",
       "      <td>Manchester United-Manchester City</td>\n",
       "      <td>29/10/2023</td>\n",
       "    </tr>\n",
       "    <tr>\n",
       "      <th>10</th>\n",
       "      <td>0.32</td>\n",
       "      <td>0.24</td>\n",
       "      <td>0.43</td>\n",
       "      <td>0.44</td>\n",
       "      <td>0.56</td>\n",
       "      <td>0.59</td>\n",
       "      <td>0.41</td>\n",
       "      <td>Predicted</td>\n",
       "      <td>Fulham-Manchester United</td>\n",
       "      <td>04/11/2023</td>\n",
       "    </tr>\n",
       "    <tr>\n",
       "      <th>11</th>\n",
       "      <td>0.54</td>\n",
       "      <td>0.22</td>\n",
       "      <td>0.23</td>\n",
       "      <td>0.41</td>\n",
       "      <td>0.59</td>\n",
       "      <td>0.58</td>\n",
       "      <td>0.42</td>\n",
       "      <td>Predicted</td>\n",
       "      <td>Brentford-West Ham</td>\n",
       "      <td>04/11/2023</td>\n",
       "    </tr>\n",
       "    <tr>\n",
       "      <th>12</th>\n",
       "      <td>0.35</td>\n",
       "      <td>0.26</td>\n",
       "      <td>0.38</td>\n",
       "      <td>0.51</td>\n",
       "      <td>0.49</td>\n",
       "      <td>0.53</td>\n",
       "      <td>0.47</td>\n",
       "      <td>Predicted</td>\n",
       "      <td>Burnley-Crystal Palace</td>\n",
       "      <td>04/11/2023</td>\n",
       "    </tr>\n",
       "    <tr>\n",
       "      <th>13</th>\n",
       "      <td>0.90</td>\n",
       "      <td>0.08</td>\n",
       "      <td>0.02</td>\n",
       "      <td>0.33</td>\n",
       "      <td>0.67</td>\n",
       "      <td>0.28</td>\n",
       "      <td>0.72</td>\n",
       "      <td>Predicted</td>\n",
       "      <td>Manchester City-Bournemouth</td>\n",
       "      <td>04/11/2023</td>\n",
       "    </tr>\n",
       "    <tr>\n",
       "      <th>14</th>\n",
       "      <td>0.33</td>\n",
       "      <td>0.23</td>\n",
       "      <td>0.44</td>\n",
       "      <td>0.39</td>\n",
       "      <td>0.61</td>\n",
       "      <td>0.62</td>\n",
       "      <td>0.38</td>\n",
       "      <td>Predicted</td>\n",
       "      <td>Everton-Brighton</td>\n",
       "      <td>04/11/2023</td>\n",
       "    </tr>\n",
       "    <tr>\n",
       "      <th>15</th>\n",
       "      <td>0.23</td>\n",
       "      <td>0.24</td>\n",
       "      <td>0.53</td>\n",
       "      <td>0.47</td>\n",
       "      <td>0.53</td>\n",
       "      <td>0.54</td>\n",
       "      <td>0.46</td>\n",
       "      <td>Predicted</td>\n",
       "      <td>Sheffield United-Wolverhampton Wanderers</td>\n",
       "      <td>04/11/2023</td>\n",
       "    </tr>\n",
       "    <tr>\n",
       "      <th>16</th>\n",
       "      <td>0.45</td>\n",
       "      <td>0.23</td>\n",
       "      <td>0.31</td>\n",
       "      <td>0.39</td>\n",
       "      <td>0.61</td>\n",
       "      <td>0.62</td>\n",
       "      <td>0.38</td>\n",
       "      <td>Predicted</td>\n",
       "      <td>Newcastle United-Arsenal</td>\n",
       "      <td>04/11/2023</td>\n",
       "    </tr>\n",
       "    <tr>\n",
       "      <th>17</th>\n",
       "      <td>0.25</td>\n",
       "      <td>0.25</td>\n",
       "      <td>0.50</td>\n",
       "      <td>0.50</td>\n",
       "      <td>0.50</td>\n",
       "      <td>0.52</td>\n",
       "      <td>0.48</td>\n",
       "      <td>Predicted</td>\n",
       "      <td>Nottingham Forest-Aston Villa</td>\n",
       "      <td>05/11/2023</td>\n",
       "    </tr>\n",
       "    <tr>\n",
       "      <th>18</th>\n",
       "      <td>0.13</td>\n",
       "      <td>0.19</td>\n",
       "      <td>0.68</td>\n",
       "      <td>0.42</td>\n",
       "      <td>0.58</td>\n",
       "      <td>0.50</td>\n",
       "      <td>0.50</td>\n",
       "      <td>Predicted</td>\n",
       "      <td>Luton-Liverpool</td>\n",
       "      <td>05/11/2023</td>\n",
       "    </tr>\n",
       "    <tr>\n",
       "      <th>19</th>\n",
       "      <td>0.57</td>\n",
       "      <td>0.20</td>\n",
       "      <td>0.24</td>\n",
       "      <td>0.27</td>\n",
       "      <td>0.73</td>\n",
       "      <td>0.69</td>\n",
       "      <td>0.31</td>\n",
       "      <td>Predicted</td>\n",
       "      <td>Tottenham-Chelsea</td>\n",
       "      <td>06/11/2023</td>\n",
       "    </tr>\n",
       "    <tr>\n",
       "      <th>20</th>\n",
       "      <td>0.25</td>\n",
       "      <td>0.25</td>\n",
       "      <td>0.56</td>\n",
       "      <td>0.47</td>\n",
       "      <td>0.58</td>\n",
       "      <td>0.59</td>\n",
       "      <td>0.48</td>\n",
       "      <td>Bookmaker</td>\n",
       "      <td>Crystal Palace-Tottenham</td>\n",
       "      <td>NaN</td>\n",
       "    </tr>\n",
       "    <tr>\n",
       "      <th>21</th>\n",
       "      <td>0.62</td>\n",
       "      <td>0.24</td>\n",
       "      <td>0.19</td>\n",
       "      <td>0.51</td>\n",
       "      <td>0.54</td>\n",
       "      <td>0.53</td>\n",
       "      <td>0.53</td>\n",
       "      <td>Bookmaker</td>\n",
       "      <td>Chelsea-Brentford</td>\n",
       "      <td>NaN</td>\n",
       "    </tr>\n",
       "    <tr>\n",
       "      <th>22</th>\n",
       "      <td>0.88</td>\n",
       "      <td>0.13</td>\n",
       "      <td>0.05</td>\n",
       "      <td>0.55</td>\n",
       "      <td>0.51</td>\n",
       "      <td>0.45</td>\n",
       "      <td>0.62</td>\n",
       "      <td>Bookmaker</td>\n",
       "      <td>Arsenal-Sheffield United</td>\n",
       "      <td>NaN</td>\n",
       "    </tr>\n",
       "    <tr>\n",
       "      <th>23</th>\n",
       "      <td>0.47</td>\n",
       "      <td>0.28</td>\n",
       "      <td>0.31</td>\n",
       "      <td>0.51</td>\n",
       "      <td>0.55</td>\n",
       "      <td>0.59</td>\n",
       "      <td>0.47</td>\n",
       "      <td>Bookmaker</td>\n",
       "      <td>Bournemouth-Burnley</td>\n",
       "      <td>NaN</td>\n",
       "    </tr>\n",
       "    <tr>\n",
       "      <th>24</th>\n",
       "      <td>0.24</td>\n",
       "      <td>0.25</td>\n",
       "      <td>0.56</td>\n",
       "      <td>0.48</td>\n",
       "      <td>0.57</td>\n",
       "      <td>0.58</td>\n",
       "      <td>0.49</td>\n",
       "      <td>Bookmaker</td>\n",
       "      <td>Wolverhampton Wanderers-Newcastle United</td>\n",
       "      <td>NaN</td>\n",
       "    </tr>\n",
       "    <tr>\n",
       "      <th>25</th>\n",
       "      <td>0.49</td>\n",
       "      <td>0.26</td>\n",
       "      <td>0.30</td>\n",
       "      <td>0.47</td>\n",
       "      <td>0.58</td>\n",
       "      <td>0.62</td>\n",
       "      <td>0.45</td>\n",
       "      <td>Bookmaker</td>\n",
       "      <td>West Ham-Everton</td>\n",
       "      <td>NaN</td>\n",
       "    </tr>\n",
       "    <tr>\n",
       "      <th>26</th>\n",
       "      <td>0.65</td>\n",
       "      <td>0.22</td>\n",
       "      <td>0.17</td>\n",
       "      <td>0.61</td>\n",
       "      <td>0.44</td>\n",
       "      <td>0.64</td>\n",
       "      <td>0.43</td>\n",
       "      <td>Bookmaker</td>\n",
       "      <td>Brighton-Fulham</td>\n",
       "      <td>NaN</td>\n",
       "    </tr>\n",
       "    <tr>\n",
       "      <th>27</th>\n",
       "      <td>0.79</td>\n",
       "      <td>0.16</td>\n",
       "      <td>0.10</td>\n",
       "      <td>0.61</td>\n",
       "      <td>0.44</td>\n",
       "      <td>0.51</td>\n",
       "      <td>0.56</td>\n",
       "      <td>Bookmaker</td>\n",
       "      <td>Aston Villa-Luton</td>\n",
       "      <td>NaN</td>\n",
       "    </tr>\n",
       "    <tr>\n",
       "      <th>28</th>\n",
       "      <td>0.77</td>\n",
       "      <td>0.18</td>\n",
       "      <td>0.10</td>\n",
       "      <td>0.57</td>\n",
       "      <td>0.48</td>\n",
       "      <td>0.57</td>\n",
       "      <td>0.50</td>\n",
       "      <td>Bookmaker</td>\n",
       "      <td>Liverpool-Nottingham Forest</td>\n",
       "      <td>NaN</td>\n",
       "    </tr>\n",
       "    <tr>\n",
       "      <th>29</th>\n",
       "      <td>0.22</td>\n",
       "      <td>0.26</td>\n",
       "      <td>0.57</td>\n",
       "      <td>0.48</td>\n",
       "      <td>0.57</td>\n",
       "      <td>0.59</td>\n",
       "      <td>0.48</td>\n",
       "      <td>Bookmaker</td>\n",
       "      <td>Manchester United-Manchester City</td>\n",
       "      <td>NaN</td>\n",
       "    </tr>\n",
       "    <tr>\n",
       "      <th>30</th>\n",
       "      <td>0.26</td>\n",
       "      <td>0.26</td>\n",
       "      <td>0.53</td>\n",
       "      <td>0.47</td>\n",
       "      <td>0.58</td>\n",
       "      <td>0.61</td>\n",
       "      <td>0.47</td>\n",
       "      <td>Bookmaker</td>\n",
       "      <td>Fulham-Manchester United</td>\n",
       "      <td>NaN</td>\n",
       "    </tr>\n",
       "    <tr>\n",
       "      <th>31</th>\n",
       "      <td>0.44</td>\n",
       "      <td>0.28</td>\n",
       "      <td>0.33</td>\n",
       "      <td>0.48</td>\n",
       "      <td>0.57</td>\n",
       "      <td>0.62</td>\n",
       "      <td>0.44</td>\n",
       "      <td>Bookmaker</td>\n",
       "      <td>Brentford-West Ham</td>\n",
       "      <td>NaN</td>\n",
       "    </tr>\n",
       "    <tr>\n",
       "      <th>32</th>\n",
       "      <td>0.38</td>\n",
       "      <td>0.30</td>\n",
       "      <td>0.37</td>\n",
       "      <td>0.57</td>\n",
       "      <td>0.48</td>\n",
       "      <td>0.56</td>\n",
       "      <td>0.52</td>\n",
       "      <td>Bookmaker</td>\n",
       "      <td>Burnley-Crystal Palace</td>\n",
       "      <td>NaN</td>\n",
       "    </tr>\n",
       "    <tr>\n",
       "      <th>33</th>\n",
       "      <td>0.87</td>\n",
       "      <td>0.13</td>\n",
       "      <td>0.06</td>\n",
       "      <td>0.51</td>\n",
       "      <td>0.54</td>\n",
       "      <td>0.49</td>\n",
       "      <td>0.58</td>\n",
       "      <td>Bookmaker</td>\n",
       "      <td>Manchester City-Bournemouth</td>\n",
       "      <td>NaN</td>\n",
       "    </tr>\n",
       "    <tr>\n",
       "      <th>34</th>\n",
       "      <td>0.33</td>\n",
       "      <td>0.26</td>\n",
       "      <td>0.47</td>\n",
       "      <td>0.62</td>\n",
       "      <td>0.42</td>\n",
       "      <td>0.67</td>\n",
       "      <td>0.40</td>\n",
       "      <td>Bookmaker</td>\n",
       "      <td>Everton-Brighton</td>\n",
       "      <td>NaN</td>\n",
       "    </tr>\n",
       "    <tr>\n",
       "      <th>35</th>\n",
       "      <td>0.33</td>\n",
       "      <td>0.29</td>\n",
       "      <td>0.43</td>\n",
       "      <td>0.53</td>\n",
       "      <td>0.52</td>\n",
       "      <td>0.58</td>\n",
       "      <td>0.49</td>\n",
       "      <td>Bookmaker</td>\n",
       "      <td>Sheffield United-Wolverhampton Wanderers</td>\n",
       "      <td>NaN</td>\n",
       "    </tr>\n",
       "    <tr>\n",
       "      <th>36</th>\n",
       "      <td>0.38</td>\n",
       "      <td>0.29</td>\n",
       "      <td>0.37</td>\n",
       "      <td>0.51</td>\n",
       "      <td>0.55</td>\n",
       "      <td>0.61</td>\n",
       "      <td>0.47</td>\n",
       "      <td>Bookmaker</td>\n",
       "      <td>Newcastle United-Arsenal</td>\n",
       "      <td>NaN</td>\n",
       "    </tr>\n",
       "    <tr>\n",
       "      <th>37</th>\n",
       "      <td>0.28</td>\n",
       "      <td>0.27</td>\n",
       "      <td>0.50</td>\n",
       "      <td>0.48</td>\n",
       "      <td>0.57</td>\n",
       "      <td>0.61</td>\n",
       "      <td>0.47</td>\n",
       "      <td>Bookmaker</td>\n",
       "      <td>Nottingham Forest-Aston Villa</td>\n",
       "      <td>NaN</td>\n",
       "    </tr>\n",
       "    <tr>\n",
       "      <th>38</th>\n",
       "      <td>0.12</td>\n",
       "      <td>0.17</td>\n",
       "      <td>0.76</td>\n",
       "      <td>0.57</td>\n",
       "      <td>0.48</td>\n",
       "      <td>0.57</td>\n",
       "      <td>0.50</td>\n",
       "      <td>Bookmaker</td>\n",
       "      <td>Luton-Liverpool</td>\n",
       "      <td>NaN</td>\n",
       "    </tr>\n",
       "    <tr>\n",
       "      <th>39</th>\n",
       "      <td>0.44</td>\n",
       "      <td>0.28</td>\n",
       "      <td>0.33</td>\n",
       "      <td>0.48</td>\n",
       "      <td>0.57</td>\n",
       "      <td>0.62</td>\n",
       "      <td>0.44</td>\n",
       "      <td>Bookmaker</td>\n",
       "      <td>Tottenham-Chelsea</td>\n",
       "      <td>NaN</td>\n",
       "    </tr>\n",
       "  </tbody>\n",
       "</table>\n",
       "</div>"
      ],
      "text/plain": [
       "    P(Hwin)  P(Draw)  P(Awin)  P(Under)  P(Over)  P(GG)  P(NG)       Type  \\\n",
       "0      0.21     0.21     0.57      0.38     0.62   0.60   0.40  Predicted   \n",
       "1      0.57     0.21     0.22      0.36     0.64   0.62   0.38  Predicted   \n",
       "2      0.87     0.10     0.03      0.37     0.63   0.30   0.70  Predicted   \n",
       "3      0.39     0.23     0.38      0.38     0.62   0.63   0.37  Predicted   \n",
       "4      0.17     0.20     0.63      0.40     0.60   0.56   0.44  Predicted   \n",
       "5      0.40     0.24     0.36      0.42     0.58   0.61   0.39  Predicted   \n",
       "6      0.65     0.19     0.16      0.35     0.65   0.59   0.41  Predicted   \n",
       "7      0.67     0.19     0.14      0.40     0.60   0.52   0.48  Predicted   \n",
       "8      0.71     0.17     0.12      0.40     0.60   0.50   0.50  Predicted   \n",
       "9      0.35     0.24     0.41      0.40     0.60   0.62   0.38  Predicted   \n",
       "10     0.32     0.24     0.43      0.44     0.56   0.59   0.41  Predicted   \n",
       "11     0.54     0.22     0.23      0.41     0.59   0.58   0.42  Predicted   \n",
       "12     0.35     0.26     0.38      0.51     0.49   0.53   0.47  Predicted   \n",
       "13     0.90     0.08     0.02      0.33     0.67   0.28   0.72  Predicted   \n",
       "14     0.33     0.23     0.44      0.39     0.61   0.62   0.38  Predicted   \n",
       "15     0.23     0.24     0.53      0.47     0.53   0.54   0.46  Predicted   \n",
       "16     0.45     0.23     0.31      0.39     0.61   0.62   0.38  Predicted   \n",
       "17     0.25     0.25     0.50      0.50     0.50   0.52   0.48  Predicted   \n",
       "18     0.13     0.19     0.68      0.42     0.58   0.50   0.50  Predicted   \n",
       "19     0.57     0.20     0.24      0.27     0.73   0.69   0.31  Predicted   \n",
       "20     0.25     0.25     0.56      0.47     0.58   0.59   0.48  Bookmaker   \n",
       "21     0.62     0.24     0.19      0.51     0.54   0.53   0.53  Bookmaker   \n",
       "22     0.88     0.13     0.05      0.55     0.51   0.45   0.62  Bookmaker   \n",
       "23     0.47     0.28     0.31      0.51     0.55   0.59   0.47  Bookmaker   \n",
       "24     0.24     0.25     0.56      0.48     0.57   0.58   0.49  Bookmaker   \n",
       "25     0.49     0.26     0.30      0.47     0.58   0.62   0.45  Bookmaker   \n",
       "26     0.65     0.22     0.17      0.61     0.44   0.64   0.43  Bookmaker   \n",
       "27     0.79     0.16     0.10      0.61     0.44   0.51   0.56  Bookmaker   \n",
       "28     0.77     0.18     0.10      0.57     0.48   0.57   0.50  Bookmaker   \n",
       "29     0.22     0.26     0.57      0.48     0.57   0.59   0.48  Bookmaker   \n",
       "30     0.26     0.26     0.53      0.47     0.58   0.61   0.47  Bookmaker   \n",
       "31     0.44     0.28     0.33      0.48     0.57   0.62   0.44  Bookmaker   \n",
       "32     0.38     0.30     0.37      0.57     0.48   0.56   0.52  Bookmaker   \n",
       "33     0.87     0.13     0.06      0.51     0.54   0.49   0.58  Bookmaker   \n",
       "34     0.33     0.26     0.47      0.62     0.42   0.67   0.40  Bookmaker   \n",
       "35     0.33     0.29     0.43      0.53     0.52   0.58   0.49  Bookmaker   \n",
       "36     0.38     0.29     0.37      0.51     0.55   0.61   0.47  Bookmaker   \n",
       "37     0.28     0.27     0.50      0.48     0.57   0.61   0.47  Bookmaker   \n",
       "38     0.12     0.17     0.76      0.57     0.48   0.57   0.50  Bookmaker   \n",
       "39     0.44     0.28     0.33      0.48     0.57   0.62   0.44  Bookmaker   \n",
       "\n",
       "                                       Match        Date  \n",
       "0                   Crystal Palace-Tottenham  27/10/2023  \n",
       "1                          Chelsea-Brentford  28/10/2023  \n",
       "2                   Arsenal-Sheffield United  28/10/2023  \n",
       "3                        Bournemouth-Burnley  28/10/2023  \n",
       "4   Wolverhampton Wanderers-Newcastle United  28/10/2023  \n",
       "5                           West Ham-Everton  29/10/2023  \n",
       "6                            Brighton-Fulham  29/10/2023  \n",
       "7                          Aston Villa-Luton  29/10/2023  \n",
       "8                Liverpool-Nottingham Forest  29/10/2023  \n",
       "9          Manchester United-Manchester City  29/10/2023  \n",
       "10                  Fulham-Manchester United  04/11/2023  \n",
       "11                        Brentford-West Ham  04/11/2023  \n",
       "12                    Burnley-Crystal Palace  04/11/2023  \n",
       "13               Manchester City-Bournemouth  04/11/2023  \n",
       "14                          Everton-Brighton  04/11/2023  \n",
       "15  Sheffield United-Wolverhampton Wanderers  04/11/2023  \n",
       "16                  Newcastle United-Arsenal  04/11/2023  \n",
       "17             Nottingham Forest-Aston Villa  05/11/2023  \n",
       "18                           Luton-Liverpool  05/11/2023  \n",
       "19                         Tottenham-Chelsea  06/11/2023  \n",
       "20                  Crystal Palace-Tottenham         NaN  \n",
       "21                         Chelsea-Brentford         NaN  \n",
       "22                  Arsenal-Sheffield United         NaN  \n",
       "23                       Bournemouth-Burnley         NaN  \n",
       "24  Wolverhampton Wanderers-Newcastle United         NaN  \n",
       "25                          West Ham-Everton         NaN  \n",
       "26                           Brighton-Fulham         NaN  \n",
       "27                         Aston Villa-Luton         NaN  \n",
       "28               Liverpool-Nottingham Forest         NaN  \n",
       "29         Manchester United-Manchester City         NaN  \n",
       "30                  Fulham-Manchester United         NaN  \n",
       "31                        Brentford-West Ham         NaN  \n",
       "32                    Burnley-Crystal Palace         NaN  \n",
       "33               Manchester City-Bournemouth         NaN  \n",
       "34                          Everton-Brighton         NaN  \n",
       "35  Sheffield United-Wolverhampton Wanderers         NaN  \n",
       "36                  Newcastle United-Arsenal         NaN  \n",
       "37             Nottingham Forest-Aston Villa         NaN  \n",
       "38                           Luton-Liverpool         NaN  \n",
       "39                         Tottenham-Chelsea         NaN  "
      ]
     },
     "metadata": {},
     "output_type": "display_data"
    }
   ],
   "source": [
    "k = range(12)\n",
    "PH = np.zeros((len(k), 1))\n",
    "PA = np.zeros((1, len(k)))\n",
    "PRED['P(Hwin)']= np.nan\n",
    "PRED['P(Awin)']= np.nan\n",
    "PRED['P(Draw)']= np.nan\n",
    "PRED['P(Over)']= np.nan\n",
    "PRED['P(Under)']= np.nan\n",
    "PRED['P(GG)']=np.nan\n",
    "PRED['P(NG)']=np.nan\n",
    "\n",
    "Pie_list = []\n",
    "for j, l in enumerate(LamdaHome):\n",
    "    for i in k:\n",
    "        PH[i, 0] = (math.exp(-l)*l**k[i]) /math.factorial(k[i])\n",
    "        PA[0, i] = (math.exp(-LamdaAway[j])*LamdaAway[j]**k[i]) /math.factorial(k[i])\n",
    "    Pscore = np.matmul(PH, PA) \n",
    "    df = pd.DataFrame(Pscore, columns = ['0','1','2', '3', '4', '5', '6', '7', '8', '9', '10', '11'])\n",
    "    PRED.loc[j,'P(Awin)'], PRED.loc[j,'P(Hwin)'], PRED.loc[j,'P(Draw)'], PRED.loc[j,'P(Over)'], PRED.loc[j,'P(Under)'], PRED.loc[j,'P(NG)'], PRED.loc[j,'P(GG)']  = sum_of_lower_upper(Pscore)\n",
    "    PRED['P(Over)'] = 1 - PRED['P(Under)']\n",
    "    df = df.iloc[0:5, 0:5]\n",
    "    pd.set_option('display.float_format', lambda x: '%.3f' % x)\n",
    "    \n",
    "    G = []\n",
    "    for i in range(0, 5):\n",
    "        for j in range(0, 5):\n",
    "            G.append(df.loc[i][j])\n",
    "\n",
    "            \n",
    "    Pie_Df = pd.DataFrame(G, columns = ['P(score)'])\n",
    "    Pie_Df['score']= ['0 - 0',\n",
    "                      '0 - 1',\n",
    "                      '0 - 2',\n",
    "                      '0 - 3',\n",
    "                      '0 - 4',\n",
    "                      '1 - 0',\n",
    "                      '1 - 1',\n",
    "                      '1 - 2',\n",
    "                      '1 - 3',\n",
    "                      '1 - 4',\n",
    "                      '2 - 0',\n",
    "                      '2 - 1',\n",
    "                      '2 - 2',\n",
    "                      '2 - 3',\n",
    "                      '2 - 4',\n",
    "                      '3 - 0',\n",
    "                      '3 - 1',\n",
    "                      '3 - 2',\n",
    "                      '3 - 3',\n",
    "                      '3 - 4',\n",
    "                      '4 - 0',\n",
    "                      '4 - 1',\n",
    "                      '4 - 2',\n",
    "                      '4 - 3',\n",
    "                      '4 - 4']\n",
    "    Pie_Df.loc[Pie_Df[\"P(score)\"] < 0.02, \"score\"] = 'Other'\n",
    "    Pie_Df = Pie_Df.sort_values(by=['P(score)'], ascending=False)\n",
    "    Pie_list.append(Pie_Df)\n",
    "    \n",
    "\n",
    "PRED = PRED[['Date', 'HTeam', 'ATeam', 'P(Hwin)', 'P(Draw)', 'P(Awin)', 'P(Under)', 'P(Over)', 'P(GG)', 'P(NG)']]\n",
    "with pd.option_context('display.max_rows', None, 'display.max_columns', None):  # more options can be specified also\n",
    "    display(PRED)\n",
    "\n",
    "pd.options.display.float_format = '{:.2f}'.format\n",
    "disp_pred = PRED.copy()\n",
    "disp_pred.rename(columns = {'ATeam':'Away Team'}, inplace = True)\n",
    "disp_pred.rename(columns = {'HTeam':'Home Team'}, inplace = True)\n",
    "html_table_blue_light = build_table(disp_pred, 'blue_light')\n",
    "\n",
    "# Save to html file\n",
    "with open('UpcomingMatchesPrediction.html', 'w') as f:\n",
    "    f.write(html_table_blue_light)\n",
    "\n",
    "json_data = disp_pred.to_json()\n",
    "with open('ProbabilityPrediction.json', 'w') as f:\n",
    "    f.write(json_data)\n",
    "\n",
    "Final_Odds = pd.concat([PRED, Odds], axis=0)\n",
    "Final_Odds['Type'] = np.nan\n",
    "Final_Odds['Match'] = np.nan\n",
    "Final_Odds = Final_Odds.reset_index(drop = 'True')\n",
    "Final_Odds.loc[Final_Odds['B365H'].isnull(), 'Type'] = 'Predicted'\n",
    "Final_Odds.loc[Final_Odds['P(Hwin)'].isnull(), 'Type'] = 'Bookmaker'\n",
    "\n",
    "for i, x in enumerate(Final_Odds['Match']):\n",
    "    Final_Odds['Match'][i] = str(Final_Odds['HTeam'][i] + '-' + Final_Odds['ATeam'][i])\n",
    "\n",
    "li  = Final_Odds.index[Final_Odds['Type'] == 'Bookmaker'].tolist()\n",
    "for i in li:\n",
    "    Final_Odds['P(Hwin)'][i] = 1/Final_Odds.iloc[i]['B365H']\n",
    "    Final_Odds['P(Awin)'][i] = 1/Final_Odds.iloc[i]['B365A']\n",
    "    Final_Odds['P(Draw)'][i] = 1/Final_Odds.iloc[i]['B365D']\n",
    "    Final_Odds['P(Over)'][i] = 1/Final_Odds.iloc[i]['BbAv>2.5']\n",
    "    Final_Odds['P(Under)'][i] = 1/Final_Odds.iloc[i]['BbAv<2.5']\n",
    "    Final_Odds['P(GG)'][i] = 1/Final_Odds.iloc[i]['GG']\n",
    "    Final_Odds['P(NG)'][i] = 1/Final_Odds.iloc[i]['NG']\n",
    "\n",
    "Final_Odds = Final_Odds[['P(Hwin)', 'P(Draw)', 'P(Awin)', 'P(Under)', 'P(Over)', 'P(GG)', 'P(NG)', 'Type', 'Match', 'Date']].copy()\n",
    "\n",
    "with pd.option_context('display.max_rows', None, 'display.max_columns', None):  # more options can be specified also\n",
    "    display(Final_Odds)\n",
    "\n",
    "    "
   ]
  },
  {
   "cell_type": "code",
   "execution_count": 6,
   "metadata": {},
   "outputs": [
    {
     "data": {
      "application/vnd.plotly.v1+json": {
       "config": {
        "plotlyServerURL": "https://plot.ly"
       },
       "data": [
        {
         "marker": {
          "color": "rgb(141,211,199)"
         },
         "name": "Predicted Home Win",
         "type": "bar",
         "x": [
          "Crystal Palace-Tottenham",
          "Chelsea-Brentford",
          "Arsenal-Sheffield United",
          "Bournemouth-Burnley",
          "Wolverhampton Wanderers-Newcastle United",
          "West Ham-Everton",
          "Brighton-Fulham",
          "Aston Villa-Luton",
          "Liverpool-Nottingham Forest",
          "Manchester United-Manchester City",
          "Fulham-Manchester United",
          "Brentford-West Ham",
          "Burnley-Crystal Palace",
          "Manchester City-Bournemouth",
          "Everton-Brighton",
          "Sheffield United-Wolverhampton Wanderers",
          "Newcastle United-Arsenal",
          "Nottingham Forest-Aston Villa",
          "Luton-Liverpool",
          "Tottenham-Chelsea"
         ],
         "xaxis": "x",
         "y": [
          0.21474335071082815,
          0.5712532559900296,
          0.8732014476306772,
          0.3877219877813006,
          0.17095457936252115,
          0.3951461944540566,
          0.6480629501682765,
          0.6730093396509877,
          0.7103257090791746,
          0.3511404847673682,
          0.32203848334184215,
          0.5426409258435142,
          0.35380626429168016,
          0.8995826118647066,
          0.32901811729187574,
          0.23220349139497404,
          0.4533934585213842,
          0.2512654251857981,
          0.12901575509837165,
          0.5652809903011519
         ],
         "yaxis": "y"
        },
        {
         "marker": {
          "color": "rgb(82, 106, 131)"
         },
         "name": "Bookmaker Home Win",
         "type": "bar",
         "x": [
          "Crystal Palace-Tottenham",
          "Chelsea-Brentford",
          "Arsenal-Sheffield United",
          "Bournemouth-Burnley",
          "Wolverhampton Wanderers-Newcastle United",
          "West Ham-Everton",
          "Brighton-Fulham",
          "Aston Villa-Luton",
          "Liverpool-Nottingham Forest",
          "Manchester United-Manchester City",
          "Fulham-Manchester United",
          "Brentford-West Ham",
          "Burnley-Crystal Palace",
          "Manchester City-Bournemouth",
          "Everton-Brighton",
          "Sheffield United-Wolverhampton Wanderers",
          "Newcastle United-Arsenal",
          "Nottingham Forest-Aston Villa",
          "Luton-Liverpool",
          "Tottenham-Chelsea"
         ],
         "xaxis": "x",
         "y": [
          0.2469135802469136,
          0.6172839506172839,
          0.8771929824561404,
          0.46511627906976744,
          0.23529411764705882,
          0.48780487804878053,
          0.6535947712418301,
          0.7874015748031495,
          0.7692307692307692,
          0.21978021978021978,
          0.2631578947368421,
          0.4444444444444444,
          0.38167938931297707,
          0.8695652173913044,
          0.3278688524590164,
          0.3333333333333333,
          0.3846153846153846,
          0.2777777777777778,
          0.11764705882352941,
          0.44052863436123346
         ],
         "yaxis": "y"
        },
        {
         "marker": {
          "color": "rgb(141,211,199)"
         },
         "name": "Predicted Draw",
         "type": "bar",
         "x": [
          "Crystal Palace-Tottenham",
          "Chelsea-Brentford",
          "Arsenal-Sheffield United",
          "Bournemouth-Burnley",
          "Wolverhampton Wanderers-Newcastle United",
          "West Ham-Everton",
          "Brighton-Fulham",
          "Aston Villa-Luton",
          "Liverpool-Nottingham Forest",
          "Manchester United-Manchester City",
          "Fulham-Manchester United",
          "Brentford-West Ham",
          "Burnley-Crystal Palace",
          "Manchester City-Bournemouth",
          "Everton-Brighton",
          "Sheffield United-Wolverhampton Wanderers",
          "Newcastle United-Arsenal",
          "Nottingham Forest-Aston Villa",
          "Luton-Liverpool",
          "Tottenham-Chelsea"
         ],
         "xaxis": "x",
         "y": [
          0.21252124074847792,
          0.20957039657860593,
          0.09646243597178267,
          0.2348046034479721,
          0.20220936501373424,
          0.24205004847889902,
          0.18900201127435542,
          0.18867219427905318,
          0.1743688668427098,
          0.2369508088917531,
          0.24400231122596758,
          0.22452065968657797,
          0.2628674185558754,
          0.0782900155985469,
          0.23464440583429091,
          0.23745877538879992,
          0.2330623557677836,
          0.24825579177558801,
          0.18807119411668374,
          0.19682561724460168
         ],
         "yaxis": "y"
        },
        {
         "marker": {
          "color": "rgb(82, 106, 131)"
         },
         "name": "Bookmaker Draw",
         "type": "bar",
         "x": [
          "Crystal Palace-Tottenham",
          "Chelsea-Brentford",
          "Arsenal-Sheffield United",
          "Bournemouth-Burnley",
          "Wolverhampton Wanderers-Newcastle United",
          "West Ham-Everton",
          "Brighton-Fulham",
          "Aston Villa-Luton",
          "Liverpool-Nottingham Forest",
          "Manchester United-Manchester City",
          "Fulham-Manchester United",
          "Brentford-West Ham",
          "Burnley-Crystal Palace",
          "Manchester City-Bournemouth",
          "Everton-Brighton",
          "Sheffield United-Wolverhampton Wanderers",
          "Newcastle United-Arsenal",
          "Nottingham Forest-Aston Villa",
          "Luton-Liverpool",
          "Tottenham-Chelsea"
         ],
         "xaxis": "x",
         "y": [
          0.25,
          0.24390243902439027,
          0.12820512820512822,
          0.2777777777777778,
          0.25,
          0.2631578947368421,
          0.2247191011235955,
          0.1639344262295082,
          0.17857142857142858,
          0.2631578947368421,
          0.2597402597402597,
          0.2777777777777778,
          0.30303030303030304,
          0.12658227848101264,
          0.2597402597402597,
          0.2898550724637681,
          0.2898550724637681,
          0.273972602739726,
          0.1724137931034483,
          0.28169014084507044
         ],
         "yaxis": "y"
        },
        {
         "marker": {
          "color": "rgb(141,211,199)"
         },
         "name": "Predicted Away Win",
         "type": "bar",
         "x": [
          "Crystal Palace-Tottenham",
          "Chelsea-Brentford",
          "Arsenal-Sheffield United",
          "Bournemouth-Burnley",
          "Wolverhampton Wanderers-Newcastle United",
          "West Ham-Everton",
          "Brighton-Fulham",
          "Aston Villa-Luton",
          "Liverpool-Nottingham Forest",
          "Manchester United-Manchester City",
          "Fulham-Manchester United",
          "Brentford-West Ham",
          "Burnley-Crystal Palace",
          "Manchester City-Bournemouth",
          "Everton-Brighton",
          "Sheffield United-Wolverhampton Wanderers",
          "Newcastle United-Arsenal",
          "Nottingham Forest-Aston Villa",
          "Luton-Liverpool",
          "Tottenham-Chelsea"
         ],
         "xaxis": "x",
         "y": [
          0.5727337960816159,
          0.21917430986203965,
          0.03029215117618986,
          0.3774731494770574,
          0.6268337656524143,
          0.36280360785162574,
          0.16292994770435926,
          0.13831487694976205,
          0.11529952457942612,
          0.4119084769052545,
          0.43395905611568825,
          0.23283766884576734,
          0.3833262848592479,
          0.022036908249892368,
          0.43633717871995326,
          0.5303374241248161,
          0.3135438272017725,
          0.5004786350946555,
          0.6829098587503276,
          0.23788749931041253
         ],
         "yaxis": "y"
        },
        {
         "marker": {
          "color": "rgb(82, 106, 131)"
         },
         "name": "Bookmaker Away Win",
         "type": "bar",
         "x": [
          "Crystal Palace-Tottenham",
          "Chelsea-Brentford",
          "Arsenal-Sheffield United",
          "Bournemouth-Burnley",
          "Wolverhampton Wanderers-Newcastle United",
          "West Ham-Everton",
          "Brighton-Fulham",
          "Aston Villa-Luton",
          "Liverpool-Nottingham Forest",
          "Manchester United-Manchester City",
          "Fulham-Manchester United",
          "Brentford-West Ham",
          "Burnley-Crystal Palace",
          "Manchester City-Bournemouth",
          "Everton-Brighton",
          "Sheffield United-Wolverhampton Wanderers",
          "Newcastle United-Arsenal",
          "Nottingham Forest-Aston Villa",
          "Luton-Liverpool",
          "Tottenham-Chelsea"
         ],
         "xaxis": "x",
         "y": [
          0.5555555555555556,
          0.1923076923076923,
          0.047619047619047616,
          0.3076923076923077,
          0.5617977528089888,
          0.29850746268656714,
          0.1724137931034483,
          0.09523809523809523,
          0.1,
          0.5714285714285714,
          0.5263157894736842,
          0.3278688524590164,
          0.3676470588235294,
          0.05555555555555555,
          0.46511627906976744,
          0.425531914893617,
          0.37453183520599254,
          0.5,
          0.7575757575757576,
          0.3278688524590164
         ],
         "yaxis": "y"
        },
        {
         "marker": {
          "color": "rgb(141,211,199)"
         },
         "name": "Predicted Over",
         "type": "bar",
         "x": [
          "Crystal Palace-Tottenham",
          "Chelsea-Brentford",
          "Arsenal-Sheffield United",
          "Bournemouth-Burnley",
          "Wolverhampton Wanderers-Newcastle United",
          "West Ham-Everton",
          "Brighton-Fulham",
          "Aston Villa-Luton",
          "Liverpool-Nottingham Forest",
          "Manchester United-Manchester City",
          "Fulham-Manchester United",
          "Brentford-West Ham",
          "Burnley-Crystal Palace",
          "Manchester City-Bournemouth",
          "Everton-Brighton",
          "Sheffield United-Wolverhampton Wanderers",
          "Newcastle United-Arsenal",
          "Nottingham Forest-Aston Villa",
          "Luton-Liverpool",
          "Tottenham-Chelsea"
         ],
         "xaxis": "x2",
         "y": [
          0.6207851189786302,
          0.6408270531010354,
          0.6279833660131078,
          0.6173034352559151,
          0.600373946577702,
          0.5805697177020481,
          0.6481957403796075,
          0.5961629500796504,
          0.6049824149295104,
          0.6035377779147046,
          0.5616581624179445,
          0.5867873022104285,
          0.4853560426106083,
          0.6661304400149519,
          0.6085501609986818,
          0.5287819989471869,
          0.6097533205526313,
          0.501114941580403,
          0.5768199670881703,
          0.7273423922559973
         ],
         "yaxis": "y2"
        },
        {
         "marker": {
          "color": "rgb(82, 106, 131)"
         },
         "name": "Bookmaker Over",
         "type": "bar",
         "x": [
          "Crystal Palace-Tottenham",
          "Chelsea-Brentford",
          "Arsenal-Sheffield United",
          "Bournemouth-Burnley",
          "Wolverhampton Wanderers-Newcastle United",
          "West Ham-Everton",
          "Brighton-Fulham",
          "Aston Villa-Luton",
          "Liverpool-Nottingham Forest",
          "Manchester United-Manchester City",
          "Fulham-Manchester United",
          "Brentford-West Ham",
          "Burnley-Crystal Palace",
          "Manchester City-Bournemouth",
          "Everton-Brighton",
          "Sheffield United-Wolverhampton Wanderers",
          "Newcastle United-Arsenal",
          "Nottingham Forest-Aston Villa",
          "Luton-Liverpool",
          "Tottenham-Chelsea"
         ],
         "xaxis": "x2",
         "y": [
          0.5813953488372093,
          0.5405405405405405,
          0.5050505050505051,
          0.5464480874316939,
          0.5714285714285714,
          0.5813953488372093,
          0.4444444444444444,
          0.44052863436123346,
          0.47619047619047616,
          0.5714285714285714,
          0.5813953488372093,
          0.5714285714285714,
          0.47619047619047616,
          0.5405405405405405,
          0.42194092827004215,
          0.5181347150259068,
          0.5464480874316939,
          0.5714285714285714,
          0.47619047619047616,
          0.5714285714285714
         ],
         "yaxis": "y2"
        },
        {
         "marker": {
          "color": "rgb(141,211,199)"
         },
         "name": "Predicted Under",
         "type": "bar",
         "x": [
          "Crystal Palace-Tottenham",
          "Chelsea-Brentford",
          "Arsenal-Sheffield United",
          "Bournemouth-Burnley",
          "Wolverhampton Wanderers-Newcastle United",
          "West Ham-Everton",
          "Brighton-Fulham",
          "Aston Villa-Luton",
          "Liverpool-Nottingham Forest",
          "Manchester United-Manchester City",
          "Fulham-Manchester United",
          "Brentford-West Ham",
          "Burnley-Crystal Palace",
          "Manchester City-Bournemouth",
          "Everton-Brighton",
          "Sheffield United-Wolverhampton Wanderers",
          "Newcastle United-Arsenal",
          "Nottingham Forest-Aston Villa",
          "Luton-Liverpool",
          "Tottenham-Chelsea"
         ],
         "xaxis": "x2",
         "y": [
          0.37921488102136985,
          0.35917294689896456,
          0.3720166339868922,
          0.38269656474408487,
          0.3996260534222979,
          0.4194302822979519,
          0.35180425962039247,
          0.40383704992034963,
          0.3950175850704896,
          0.3964622220852954,
          0.43834183758205547,
          0.4132126977895715,
          0.5146439573893917,
          0.333869559985048,
          0.39144983900131824,
          0.47121800105281303,
          0.39024667944736874,
          0.4988850584195969,
          0.4231800329118297,
          0.2726576077440027
         ],
         "yaxis": "y2"
        },
        {
         "marker": {
          "color": "rgb(82, 106, 131)"
         },
         "name": "Bookmaker Under",
         "type": "bar",
         "x": [
          "Crystal Palace-Tottenham",
          "Chelsea-Brentford",
          "Arsenal-Sheffield United",
          "Bournemouth-Burnley",
          "Wolverhampton Wanderers-Newcastle United",
          "West Ham-Everton",
          "Brighton-Fulham",
          "Aston Villa-Luton",
          "Liverpool-Nottingham Forest",
          "Manchester United-Manchester City",
          "Fulham-Manchester United",
          "Brentford-West Ham",
          "Burnley-Crystal Palace",
          "Manchester City-Bournemouth",
          "Everton-Brighton",
          "Sheffield United-Wolverhampton Wanderers",
          "Newcastle United-Arsenal",
          "Nottingham Forest-Aston Villa",
          "Luton-Liverpool",
          "Tottenham-Chelsea"
         ],
         "xaxis": "x2",
         "y": [
          0.4716981132075471,
          0.5050505050505051,
          0.5464480874316939,
          0.5050505050505051,
          0.48309178743961356,
          0.4716981132075471,
          0.6060606060606061,
          0.6060606060606061,
          0.5714285714285714,
          0.47619047619047616,
          0.4716981132075471,
          0.47619047619047616,
          0.5714285714285714,
          0.5128205128205129,
          0.625,
          0.5319148936170213,
          0.5050505050505051,
          0.48309178743961356,
          0.5714285714285714,
          0.47619047619047616
         ],
         "yaxis": "y2"
        }
       ],
       "layout": {
        "height": 1000,
        "template": {
         "data": {
          "bar": [
           {
            "error_x": {
             "color": "#2a3f5f"
            },
            "error_y": {
             "color": "#2a3f5f"
            },
            "marker": {
             "line": {
              "color": "#E5ECF6",
              "width": 0.5
             },
             "pattern": {
              "fillmode": "overlay",
              "size": 10,
              "solidity": 0.2
             }
            },
            "type": "bar"
           }
          ],
          "barpolar": [
           {
            "marker": {
             "line": {
              "color": "#E5ECF6",
              "width": 0.5
             },
             "pattern": {
              "fillmode": "overlay",
              "size": 10,
              "solidity": 0.2
             }
            },
            "type": "barpolar"
           }
          ],
          "carpet": [
           {
            "aaxis": {
             "endlinecolor": "#2a3f5f",
             "gridcolor": "white",
             "linecolor": "white",
             "minorgridcolor": "white",
             "startlinecolor": "#2a3f5f"
            },
            "baxis": {
             "endlinecolor": "#2a3f5f",
             "gridcolor": "white",
             "linecolor": "white",
             "minorgridcolor": "white",
             "startlinecolor": "#2a3f5f"
            },
            "type": "carpet"
           }
          ],
          "choropleth": [
           {
            "colorbar": {
             "outlinewidth": 0,
             "ticks": ""
            },
            "type": "choropleth"
           }
          ],
          "contour": [
           {
            "colorbar": {
             "outlinewidth": 0,
             "ticks": ""
            },
            "colorscale": [
             [
              0,
              "#0d0887"
             ],
             [
              0.1111111111111111,
              "#46039f"
             ],
             [
              0.2222222222222222,
              "#7201a8"
             ],
             [
              0.3333333333333333,
              "#9c179e"
             ],
             [
              0.4444444444444444,
              "#bd3786"
             ],
             [
              0.5555555555555556,
              "#d8576b"
             ],
             [
              0.6666666666666666,
              "#ed7953"
             ],
             [
              0.7777777777777778,
              "#fb9f3a"
             ],
             [
              0.8888888888888888,
              "#fdca26"
             ],
             [
              1,
              "#f0f921"
             ]
            ],
            "type": "contour"
           }
          ],
          "contourcarpet": [
           {
            "colorbar": {
             "outlinewidth": 0,
             "ticks": ""
            },
            "type": "contourcarpet"
           }
          ],
          "heatmap": [
           {
            "colorbar": {
             "outlinewidth": 0,
             "ticks": ""
            },
            "colorscale": [
             [
              0,
              "#0d0887"
             ],
             [
              0.1111111111111111,
              "#46039f"
             ],
             [
              0.2222222222222222,
              "#7201a8"
             ],
             [
              0.3333333333333333,
              "#9c179e"
             ],
             [
              0.4444444444444444,
              "#bd3786"
             ],
             [
              0.5555555555555556,
              "#d8576b"
             ],
             [
              0.6666666666666666,
              "#ed7953"
             ],
             [
              0.7777777777777778,
              "#fb9f3a"
             ],
             [
              0.8888888888888888,
              "#fdca26"
             ],
             [
              1,
              "#f0f921"
             ]
            ],
            "type": "heatmap"
           }
          ],
          "heatmapgl": [
           {
            "colorbar": {
             "outlinewidth": 0,
             "ticks": ""
            },
            "colorscale": [
             [
              0,
              "#0d0887"
             ],
             [
              0.1111111111111111,
              "#46039f"
             ],
             [
              0.2222222222222222,
              "#7201a8"
             ],
             [
              0.3333333333333333,
              "#9c179e"
             ],
             [
              0.4444444444444444,
              "#bd3786"
             ],
             [
              0.5555555555555556,
              "#d8576b"
             ],
             [
              0.6666666666666666,
              "#ed7953"
             ],
             [
              0.7777777777777778,
              "#fb9f3a"
             ],
             [
              0.8888888888888888,
              "#fdca26"
             ],
             [
              1,
              "#f0f921"
             ]
            ],
            "type": "heatmapgl"
           }
          ],
          "histogram": [
           {
            "marker": {
             "pattern": {
              "fillmode": "overlay",
              "size": 10,
              "solidity": 0.2
             }
            },
            "type": "histogram"
           }
          ],
          "histogram2d": [
           {
            "colorbar": {
             "outlinewidth": 0,
             "ticks": ""
            },
            "colorscale": [
             [
              0,
              "#0d0887"
             ],
             [
              0.1111111111111111,
              "#46039f"
             ],
             [
              0.2222222222222222,
              "#7201a8"
             ],
             [
              0.3333333333333333,
              "#9c179e"
             ],
             [
              0.4444444444444444,
              "#bd3786"
             ],
             [
              0.5555555555555556,
              "#d8576b"
             ],
             [
              0.6666666666666666,
              "#ed7953"
             ],
             [
              0.7777777777777778,
              "#fb9f3a"
             ],
             [
              0.8888888888888888,
              "#fdca26"
             ],
             [
              1,
              "#f0f921"
             ]
            ],
            "type": "histogram2d"
           }
          ],
          "histogram2dcontour": [
           {
            "colorbar": {
             "outlinewidth": 0,
             "ticks": ""
            },
            "colorscale": [
             [
              0,
              "#0d0887"
             ],
             [
              0.1111111111111111,
              "#46039f"
             ],
             [
              0.2222222222222222,
              "#7201a8"
             ],
             [
              0.3333333333333333,
              "#9c179e"
             ],
             [
              0.4444444444444444,
              "#bd3786"
             ],
             [
              0.5555555555555556,
              "#d8576b"
             ],
             [
              0.6666666666666666,
              "#ed7953"
             ],
             [
              0.7777777777777778,
              "#fb9f3a"
             ],
             [
              0.8888888888888888,
              "#fdca26"
             ],
             [
              1,
              "#f0f921"
             ]
            ],
            "type": "histogram2dcontour"
           }
          ],
          "mesh3d": [
           {
            "colorbar": {
             "outlinewidth": 0,
             "ticks": ""
            },
            "type": "mesh3d"
           }
          ],
          "parcoords": [
           {
            "line": {
             "colorbar": {
              "outlinewidth": 0,
              "ticks": ""
             }
            },
            "type": "parcoords"
           }
          ],
          "pie": [
           {
            "automargin": true,
            "type": "pie"
           }
          ],
          "scatter": [
           {
            "fillpattern": {
             "fillmode": "overlay",
             "size": 10,
             "solidity": 0.2
            },
            "type": "scatter"
           }
          ],
          "scatter3d": [
           {
            "line": {
             "colorbar": {
              "outlinewidth": 0,
              "ticks": ""
             }
            },
            "marker": {
             "colorbar": {
              "outlinewidth": 0,
              "ticks": ""
             }
            },
            "type": "scatter3d"
           }
          ],
          "scattercarpet": [
           {
            "marker": {
             "colorbar": {
              "outlinewidth": 0,
              "ticks": ""
             }
            },
            "type": "scattercarpet"
           }
          ],
          "scattergeo": [
           {
            "marker": {
             "colorbar": {
              "outlinewidth": 0,
              "ticks": ""
             }
            },
            "type": "scattergeo"
           }
          ],
          "scattergl": [
           {
            "marker": {
             "colorbar": {
              "outlinewidth": 0,
              "ticks": ""
             }
            },
            "type": "scattergl"
           }
          ],
          "scattermapbox": [
           {
            "marker": {
             "colorbar": {
              "outlinewidth": 0,
              "ticks": ""
             }
            },
            "type": "scattermapbox"
           }
          ],
          "scatterpolar": [
           {
            "marker": {
             "colorbar": {
              "outlinewidth": 0,
              "ticks": ""
             }
            },
            "type": "scatterpolar"
           }
          ],
          "scatterpolargl": [
           {
            "marker": {
             "colorbar": {
              "outlinewidth": 0,
              "ticks": ""
             }
            },
            "type": "scatterpolargl"
           }
          ],
          "scatterternary": [
           {
            "marker": {
             "colorbar": {
              "outlinewidth": 0,
              "ticks": ""
             }
            },
            "type": "scatterternary"
           }
          ],
          "surface": [
           {
            "colorbar": {
             "outlinewidth": 0,
             "ticks": ""
            },
            "colorscale": [
             [
              0,
              "#0d0887"
             ],
             [
              0.1111111111111111,
              "#46039f"
             ],
             [
              0.2222222222222222,
              "#7201a8"
             ],
             [
              0.3333333333333333,
              "#9c179e"
             ],
             [
              0.4444444444444444,
              "#bd3786"
             ],
             [
              0.5555555555555556,
              "#d8576b"
             ],
             [
              0.6666666666666666,
              "#ed7953"
             ],
             [
              0.7777777777777778,
              "#fb9f3a"
             ],
             [
              0.8888888888888888,
              "#fdca26"
             ],
             [
              1,
              "#f0f921"
             ]
            ],
            "type": "surface"
           }
          ],
          "table": [
           {
            "cells": {
             "fill": {
              "color": "#EBF0F8"
             },
             "line": {
              "color": "white"
             }
            },
            "header": {
             "fill": {
              "color": "#C8D4E3"
             },
             "line": {
              "color": "white"
             }
            },
            "type": "table"
           }
          ]
         },
         "layout": {
          "annotationdefaults": {
           "arrowcolor": "#2a3f5f",
           "arrowhead": 0,
           "arrowwidth": 1
          },
          "autotypenumbers": "strict",
          "coloraxis": {
           "colorbar": {
            "outlinewidth": 0,
            "ticks": ""
           }
          },
          "colorscale": {
           "diverging": [
            [
             0,
             "#8e0152"
            ],
            [
             0.1,
             "#c51b7d"
            ],
            [
             0.2,
             "#de77ae"
            ],
            [
             0.3,
             "#f1b6da"
            ],
            [
             0.4,
             "#fde0ef"
            ],
            [
             0.5,
             "#f7f7f7"
            ],
            [
             0.6,
             "#e6f5d0"
            ],
            [
             0.7,
             "#b8e186"
            ],
            [
             0.8,
             "#7fbc41"
            ],
            [
             0.9,
             "#4d9221"
            ],
            [
             1,
             "#276419"
            ]
           ],
           "sequential": [
            [
             0,
             "#0d0887"
            ],
            [
             0.1111111111111111,
             "#46039f"
            ],
            [
             0.2222222222222222,
             "#7201a8"
            ],
            [
             0.3333333333333333,
             "#9c179e"
            ],
            [
             0.4444444444444444,
             "#bd3786"
            ],
            [
             0.5555555555555556,
             "#d8576b"
            ],
            [
             0.6666666666666666,
             "#ed7953"
            ],
            [
             0.7777777777777778,
             "#fb9f3a"
            ],
            [
             0.8888888888888888,
             "#fdca26"
            ],
            [
             1,
             "#f0f921"
            ]
           ],
           "sequentialminus": [
            [
             0,
             "#0d0887"
            ],
            [
             0.1111111111111111,
             "#46039f"
            ],
            [
             0.2222222222222222,
             "#7201a8"
            ],
            [
             0.3333333333333333,
             "#9c179e"
            ],
            [
             0.4444444444444444,
             "#bd3786"
            ],
            [
             0.5555555555555556,
             "#d8576b"
            ],
            [
             0.6666666666666666,
             "#ed7953"
            ],
            [
             0.7777777777777778,
             "#fb9f3a"
            ],
            [
             0.8888888888888888,
             "#fdca26"
            ],
            [
             1,
             "#f0f921"
            ]
           ]
          },
          "colorway": [
           "#636efa",
           "#EF553B",
           "#00cc96",
           "#ab63fa",
           "#FFA15A",
           "#19d3f3",
           "#FF6692",
           "#B6E880",
           "#FF97FF",
           "#FECB52"
          ],
          "font": {
           "color": "#2a3f5f"
          },
          "geo": {
           "bgcolor": "white",
           "lakecolor": "white",
           "landcolor": "#E5ECF6",
           "showlakes": true,
           "showland": true,
           "subunitcolor": "white"
          },
          "hoverlabel": {
           "align": "left"
          },
          "hovermode": "closest",
          "mapbox": {
           "style": "light"
          },
          "paper_bgcolor": "white",
          "plot_bgcolor": "#E5ECF6",
          "polar": {
           "angularaxis": {
            "gridcolor": "white",
            "linecolor": "white",
            "ticks": ""
           },
           "bgcolor": "#E5ECF6",
           "radialaxis": {
            "gridcolor": "white",
            "linecolor": "white",
            "ticks": ""
           }
          },
          "scene": {
           "xaxis": {
            "backgroundcolor": "#E5ECF6",
            "gridcolor": "white",
            "gridwidth": 2,
            "linecolor": "white",
            "showbackground": true,
            "ticks": "",
            "zerolinecolor": "white"
           },
           "yaxis": {
            "backgroundcolor": "#E5ECF6",
            "gridcolor": "white",
            "gridwidth": 2,
            "linecolor": "white",
            "showbackground": true,
            "ticks": "",
            "zerolinecolor": "white"
           },
           "zaxis": {
            "backgroundcolor": "#E5ECF6",
            "gridcolor": "white",
            "gridwidth": 2,
            "linecolor": "white",
            "showbackground": true,
            "ticks": "",
            "zerolinecolor": "white"
           }
          },
          "shapedefaults": {
           "line": {
            "color": "#2a3f5f"
           }
          },
          "ternary": {
           "aaxis": {
            "gridcolor": "white",
            "linecolor": "white",
            "ticks": ""
           },
           "baxis": {
            "gridcolor": "white",
            "linecolor": "white",
            "ticks": ""
           },
           "bgcolor": "#E5ECF6",
           "caxis": {
            "gridcolor": "white",
            "linecolor": "white",
            "ticks": ""
           }
          },
          "title": {
           "x": 0.05
          },
          "xaxis": {
           "automargin": true,
           "gridcolor": "white",
           "linecolor": "white",
           "ticks": "",
           "title": {
            "standoff": 15
           },
           "zerolinecolor": "white",
           "zerolinewidth": 2
          },
          "yaxis": {
           "automargin": true,
           "gridcolor": "white",
           "linecolor": "white",
           "ticks": "",
           "title": {
            "standoff": 15
           },
           "zerolinecolor": "white",
           "zerolinewidth": 2
          }
         }
        },
        "width": 1500,
        "xaxis": {
         "anchor": "y",
         "domain": [
          0,
          1
         ]
        },
        "xaxis2": {
         "anchor": "y2",
         "domain": [
          0,
          1
         ]
        },
        "yaxis": {
         "anchor": "x",
         "domain": [
          0.575,
          1
         ]
        },
        "yaxis2": {
         "anchor": "x2",
         "domain": [
          0,
          0.425
         ]
        }
       }
      }
     },
     "metadata": {},
     "output_type": "display_data"
    }
   ],
   "source": [
    "fig = make_subplots(rows=2, cols=1)\n",
    "fig.update_layout(width=1500, height=1000)\n",
    "fig.add_trace(\n",
    "    go.Bar(name='Predicted Home Win',\n",
    "           x=Final_Odds[Final_Odds['Type']=='Predicted']['Match'],\n",
    "           y=Final_Odds[Final_Odds['Type']=='Predicted']['P(Hwin)'],\n",
    "           marker_color='rgb(141,211,199)'),\n",
    "    row=1, col=1)\n",
    "\n",
    "fig.add_trace(\n",
    "    go.Bar(name='Bookmaker Home Win',\n",
    "           x=Final_Odds[Final_Odds['Type']=='Bookmaker']['Match'],\n",
    "           y=Final_Odds[Final_Odds['Type']=='Bookmaker']['P(Hwin)'],\n",
    "           marker_color='rgb(82, 106, 131)'),\n",
    "    row=1, col=1)\n",
    "\n",
    "fig.add_trace(\n",
    "    go.Bar(name='Predicted Draw',\n",
    "           x=Final_Odds[Final_Odds['Type']=='Predicted']['Match'],\n",
    "           y=Final_Odds[Final_Odds['Type']=='Predicted']['P(Draw)'],\n",
    "           marker_color='rgb(141,211,199)'),\n",
    "    row=1, col=1)\n",
    "\n",
    "fig.add_trace(\n",
    "    go.Bar(name='Bookmaker Draw',\n",
    "           x=Final_Odds[Final_Odds['Type']=='Bookmaker']['Match'],\n",
    "           y=Final_Odds[Final_Odds['Type']=='Bookmaker']['P(Draw)'],\n",
    "           marker_color='rgb(82, 106, 131)'),\n",
    "    row=1, col=1)\n",
    "\n",
    "fig.add_trace(\n",
    "    go.Bar(name='Predicted Away Win',\n",
    "           x=Final_Odds[Final_Odds['Type']=='Predicted']['Match'],\n",
    "           y=Final_Odds[Final_Odds['Type']=='Predicted']['P(Awin)'],\n",
    "           marker_color='rgb(141,211,199)'),\n",
    "    row=1, col=1)\n",
    "\n",
    "fig.add_trace(\n",
    "    go.Bar(name='Bookmaker Away Win',\n",
    "           x=Final_Odds[Final_Odds['Type']=='Bookmaker']['Match'],\n",
    "           y=Final_Odds[Final_Odds['Type']=='Bookmaker']['P(Awin)'],\n",
    "           marker_color='rgb(82, 106, 131)'),\n",
    "    row=1, col=1)\n",
    "\n",
    "\n",
    "fig.add_trace(\n",
    "    go.Bar(name='Predicted Over',\n",
    "           x=Final_Odds[Final_Odds['Type']=='Predicted']['Match'],\n",
    "           y=Final_Odds[Final_Odds['Type']=='Predicted']['P(Over)'],\n",
    "           marker_color='rgb(141,211,199)'),\n",
    "    row=2, col=1)\n",
    "\n",
    "fig.add_trace(\n",
    "    go.Bar(name='Bookmaker Over',\n",
    "           x=Final_Odds[Final_Odds['Type']=='Bookmaker']['Match'],\n",
    "           y=Final_Odds[Final_Odds['Type']=='Bookmaker']['P(Over)'],\n",
    "           marker_color='rgb(82, 106, 131)'),\n",
    "    row=2, col=1)\n",
    "\n",
    "fig.add_trace(\n",
    "    go.Bar(name='Predicted Under',\n",
    "           x=Final_Odds[Final_Odds['Type']=='Predicted']['Match'],\n",
    "           y=Final_Odds[Final_Odds['Type']=='Predicted']['P(Under)'],\n",
    "           marker_color='rgb(141,211,199)'),\n",
    "    row=2, col=1)\n",
    "\n",
    "fig.add_trace(\n",
    "    go.Bar(name='Bookmaker Under',\n",
    "           x=Final_Odds[Final_Odds['Type']=='Bookmaker']['Match'],\n",
    "           y=Final_Odds[Final_Odds['Type']=='Bookmaker']['P(Under)'],\n",
    "           marker_color='rgb(82, 106, 131)'),\n",
    "    row=2, col=1)\n",
    "\n",
    "\n",
    "fig.show()\n"
   ]
  },
  {
   "cell_type": "code",
   "execution_count": 7,
   "metadata": {},
   "outputs": [
    {
     "data": {
      "application/vnd.plotly.v1+json": {
       "config": {
        "plotlyServerURL": "https://plot.ly"
       },
       "data": [
        {
         "fill": "toself",
         "hovertemplate": "%{theta}<br>Prob: %{r:.2f}<br>Bookmaker Odds",
         "marker": {
          "color": "rgb(82, 106, 131)"
         },
         "name": "Bookmaker Odds",
         "r": [
          0.2469135802469136,
          0.25,
          0.5555555555555556,
          0.5813953488372093,
          0.4716981132075471,
          0.5882352941176471,
          0.48309178743961356
         ],
         "subplot": "polar",
         "theta": [
          "Home",
          "Draw",
          "Away",
          "Over",
          "Under",
          "GG",
          "NG"
         ],
         "type": "scatterpolar",
         "visible": true
        },
        {
         "fill": "toself",
         "hovertemplate": "%{theta}<br>Prob: %{r:.2f}<br>Predicted Odds",
         "marker": {
          "color": "rgb(141,211,199)"
         },
         "name": "Predicted Odds",
         "r": [
          0.21474335071082815,
          0.21252124074847792,
          0.5727337960816159,
          0.6207851189786302,
          0.37921488102136985,
          0.5994957250784977,
          0.4005026624624249
         ],
         "subplot": "polar",
         "theta": [
          "Home",
          "Draw",
          "Away",
          "Over",
          "Under",
          "GG",
          "NG"
         ],
         "type": "scatterpolar",
         "visible": true
        },
        {
         "hovertemplate": "Score %{x}<br>Prob: %{y:.3f}",
         "marker": {
          "color": [
           0.09825165208471505,
           0.09667914060357771,
           0.08392038336191145,
           0.08257724293080432,
           0.06656649391729393,
           0.05751515156779676,
           0.056856913548700594,
           0.056594625202481985,
           0.04756589853464884,
           0.04062779968869863,
           0.03896710035663198,
           0.03382460766629546,
           0.02889085305124716,
           0.027844415901728845,
           0.02244571356428286,
           0.022086471337478146,
           0.01980045521240546,
           0.015207199306510164,
           0.010866489379902889,
           0.0077272741881968315,
           0.006569704378018878,
           0.006464556674719138,
           0.004451041557456384,
           0.0031805459268821673,
           0.0022617194556528225
          ],
          "colorscale": [
           [
            0,
            "rgb(210, 251, 212)"
           ],
           [
            0.16666666666666666,
            "rgb(165, 219, 194)"
           ],
           [
            0.3333333333333333,
            "rgb(123, 188, 176)"
           ],
           [
            0.5,
            "rgb(85, 156, 158)"
           ],
           [
            0.6666666666666666,
            "rgb(58, 124, 137)"
           ],
           [
            0.8333333333333334,
            "rgb(35, 93, 114)"
           ],
           [
            1,
            "rgb(18, 63, 90)"
           ]
          ]
         },
         "name": "Propable Scoreline",
         "type": "bar",
         "visible": true,
         "x": [
          "1 - 2",
          "1 - 1",
          "0 - 2",
          "0 - 1",
          "1 - 3",
          "2 - 2",
          "0 - 3",
          "2 - 1",
          "1 - 0",
          "0 - 0",
          "2 - 3",
          "1 - 4",
          "0 - 4",
          "2 - 0",
          "3 - 2",
          "3 - 1",
          "Other",
          "Other",
          "Other",
          "Other",
          "Other",
          "Other",
          "Other",
          "Other",
          "Other"
         ],
         "xaxis": "x",
         "y": [
          0.09825165208471505,
          0.09667914060357771,
          0.08392038336191145,
          0.08257724293080432,
          0.06656649391729393,
          0.05751515156779676,
          0.056856913548700594,
          0.056594625202481985,
          0.04756589853464884,
          0.04062779968869863,
          0.03896710035663198,
          0.03382460766629546,
          0.02889085305124716,
          0.027844415901728845,
          0.02244571356428286,
          0.022086471337478146,
          0.01980045521240546,
          0.015207199306510164,
          0.010866489379902889,
          0.0077272741881968315,
          0.006569704378018878,
          0.006464556674719138,
          0.004451041557456384,
          0.0031805459268821673,
          0.0022617194556528225
         ],
         "yaxis": "y"
        },
        {
         "fill": "toself",
         "hovertemplate": "%{theta}<br>Prob: %{r:.2f}<br>Bookmaker Odds",
         "marker": {
          "color": "rgb(82, 106, 131)"
         },
         "name": "Bookmaker Odds",
         "r": [
          0.6172839506172839,
          0.24390243902439027,
          0.1923076923076923,
          0.5405405405405405,
          0.5050505050505051,
          0.53475935828877,
          0.53475935828877
         ],
         "subplot": "polar",
         "theta": [
          "Home",
          "Draw",
          "Away",
          "Over",
          "Under",
          "GG",
          "NG"
         ],
         "type": "scatterpolar",
         "visible": false
        },
        {
         "fill": "toself",
         "hovertemplate": "%{theta}<br>Prob: %{r:.2f}<br>Predicted Odds",
         "marker": {
          "color": "rgb(141,211,199)"
         },
         "name": "Predicted Odds",
         "r": [
          0.5712532559900296,
          0.20957039657860593,
          0.21917430986203965,
          0.6408270531010354,
          0.35917294689896456,
          0.617065825125501,
          0.3829321373051745
         ],
         "subplot": "polar",
         "theta": [
          "Home",
          "Draw",
          "Away",
          "Over",
          "Under",
          "GG",
          "NG"
         ],
         "type": "scatterpolar",
         "visible": false
        },
        {
         "hovertemplate": "Score %{x}<br>Prob: %{y:.3f}",
         "marker": {
          "color": [
           0.09731479090882192,
           0.09357680533697724,
           0.07967665794916484,
           0.0766161756211924,
           0.06746806180958288,
           0.05942875098796105,
           0.05714601666082383,
           0.05523959547251031,
           0.0449912002856737,
           0.04120178040231074,
           0.03683662516669931,
           0.035081558428820374,
           0.028723088290614297,
           0.02747548253925702,
           0.024194858842496978,
           0.02326550337226009,
           0.02142380598741001,
           0.016774225342467836,
           0.01118592281708025,
           0.008722141271981843,
           0.007387727127147701,
           0.007103955080246039,
           0.005121889753775841,
           0.0034155415402868155,
           0.0026632434642956055
          ],
          "colorscale": [
           [
            0,
            "rgb(210, 251, 212)"
           ],
           [
            0.16666666666666666,
            "rgb(165, 219, 194)"
           ],
           [
            0.3333333333333333,
            "rgb(123, 188, 176)"
           ],
           [
            0.5,
            "rgb(85, 156, 158)"
           ],
           [
            0.6666666666666666,
            "rgb(58, 124, 137)"
           ],
           [
            0.8333333333333334,
            "rgb(35, 93, 114)"
           ],
           [
            1,
            "rgb(18, 63, 90)"
           ]
          ]
         },
         "name": "Propable Scoreline",
         "type": "bar",
         "visible": false,
         "x": [
          "2 - 1",
          "1 - 1",
          "2 - 0",
          "1 - 0",
          "3 - 1",
          "2 - 2",
          "1 - 2",
          "3 - 0",
          "0 - 1",
          "3 - 2",
          "0 - 0",
          "4 - 1",
          "4 - 0",
          "0 - 2",
          "2 - 3",
          "1 - 3",
          "4 - 2",
          "Other",
          "Other",
          "Other",
          "Other",
          "Other",
          "Other",
          "Other",
          "Other"
         ],
         "xaxis": "x",
         "y": [
          0.09731479090882192,
          0.09357680533697724,
          0.07967665794916484,
          0.0766161756211924,
          0.06746806180958288,
          0.05942875098796105,
          0.05714601666082383,
          0.05523959547251031,
          0.0449912002856737,
          0.04120178040231074,
          0.03683662516669931,
          0.035081558428820374,
          0.028723088290614297,
          0.02747548253925702,
          0.024194858842496978,
          0.02326550337226009,
          0.02142380598741001,
          0.016774225342467836,
          0.01118592281708025,
          0.008722141271981843,
          0.007387727127147701,
          0.007103955080246039,
          0.005121889753775841,
          0.0034155415402868155,
          0.0026632434642956055
         ],
         "yaxis": "y"
        },
        {
         "fill": "toself",
         "hovertemplate": "%{theta}<br>Prob: %{r:.2f}<br>Bookmaker Odds",
         "marker": {
          "color": "rgb(82, 106, 131)"
         },
         "name": "Bookmaker Odds",
         "r": [
          0.8771929824561404,
          0.12820512820512822,
          0.047619047619047616,
          0.5050505050505051,
          0.5464480874316939,
          0.45454545454545453,
          0.6172839506172839
         ],
         "subplot": "polar",
         "theta": [
          "Home",
          "Draw",
          "Away",
          "Over",
          "Under",
          "GG",
          "NG"
         ],
         "type": "scatterpolar",
         "visible": false
        },
        {
         "fill": "toself",
         "hovertemplate": "%{theta}<br>Prob: %{r:.2f}<br>Predicted Odds",
         "marker": {
          "color": "rgb(141,211,199)"
         },
         "name": "Predicted Odds",
         "r": [
          0.8732014476306772,
          0.09646243597178267,
          0.03029215117618986,
          0.6279833660131078,
          0.3720166339868922,
          0.303950471554407,
          0.6960055632242427
         ],
         "subplot": "polar",
         "theta": [
          "Home",
          "Draw",
          "Away",
          "Over",
          "Under",
          "GG",
          "NG"
         ],
         "type": "scatterpolar",
         "visible": false
        },
        {
         "hovertemplate": "Score %{x}<br>Prob: %{y:.3f}",
         "marker": {
          "color": [
           0.15919345053767184,
           0.15115344331189617,
           0.11177407601535667,
           0.10763962029158335,
           0.06201813683158728,
           0.05888593342390305,
           0.043544630241582845,
           0.04193394060620469,
           0.039239818054356,
           0.015286937980942578,
           0.012080425680424898,
           0.011470308182292787,
           0.008481997304167654,
           0.008168253334605089,
           0.0029777211569823126,
           0.0015687527560587235,
           0.00148952346960524,
           0.0011014642198707405,
           0.0010607217220508485,
           0.00038668407847247915,
           0.00015278757190007074,
           0.00014507109124124745,
           0.00010727633340492851,
           0.00010330824647025784,
           0.00003766082399794996
          ],
          "colorscale": [
           [
            0,
            "rgb(210, 251, 212)"
           ],
           [
            0.16666666666666666,
            "rgb(165, 219, 194)"
           ],
           [
            0.3333333333333333,
            "rgb(123, 188, 176)"
           ],
           [
            0.5,
            "rgb(85, 156, 158)"
           ],
           [
            0.6666666666666666,
            "rgb(58, 124, 137)"
           ],
           [
            0.8333333333333334,
            "rgb(35, 93, 114)"
           ],
           [
            1,
            "rgb(18, 63, 90)"
           ]
          ]
         },
         "name": "Propable Scoreline",
         "type": "bar",
         "visible": false,
         "x": [
          "2 - 0",
          "3 - 0",
          "1 - 0",
          "4 - 0",
          "2 - 1",
          "3 - 1",
          "1 - 1",
          "4 - 1",
          "0 - 0",
          "Other",
          "Other",
          "Other",
          "Other",
          "Other",
          "Other",
          "Other",
          "Other",
          "Other",
          "Other",
          "Other",
          "Other",
          "Other",
          "Other",
          "Other",
          "Other"
         ],
         "xaxis": "x",
         "y": [
          0.15919345053767184,
          0.15115344331189617,
          0.11177407601535667,
          0.10763962029158335,
          0.06201813683158728,
          0.05888593342390305,
          0.043544630241582845,
          0.04193394060620469,
          0.039239818054356,
          0.015286937980942578,
          0.012080425680424898,
          0.011470308182292787,
          0.008481997304167654,
          0.008168253334605089,
          0.0029777211569823126,
          0.0015687527560587235,
          0.00148952346960524,
          0.0011014642198707405,
          0.0010607217220508485,
          0.00038668407847247915,
          0.00015278757190007074,
          0.00014507109124124745,
          0.00010727633340492851,
          0.00010330824647025784,
          0.00003766082399794996
         ],
         "yaxis": "y"
        },
        {
         "fill": "toself",
         "hovertemplate": "%{theta}<br>Prob: %{r:.2f}<br>Bookmaker Odds",
         "marker": {
          "color": "rgb(82, 106, 131)"
         },
         "name": "Bookmaker Odds",
         "r": [
          0.46511627906976744,
          0.2777777777777778,
          0.3076923076923077,
          0.5464480874316939,
          0.5050505050505051,
          0.5882352941176471,
          0.4716981132075471
         ],
         "subplot": "polar",
         "theta": [
          "Home",
          "Draw",
          "Away",
          "Over",
          "Under",
          "GG",
          "NG"
         ],
         "type": "scatterpolar",
         "visible": false
        },
        {
         "fill": "toself",
         "hovertemplate": "%{theta}<br>Prob: %{r:.2f}<br>Predicted Odds",
         "marker": {
          "color": "rgb(141,211,199)"
         },
         "name": "Predicted Odds",
         "r": [
          0.3877219877813006,
          0.2348046034479721,
          0.3774731494770574,
          0.6173034352559151,
          0.38269656474408487,
          0.6347835712348523,
          0.36521616947147806
         ],
         "subplot": "polar",
         "theta": [
          "Home",
          "Draw",
          "Away",
          "Over",
          "Under",
          "GG",
          "NG"
         ],
         "type": "scatterpolar",
         "visible": false
        },
        {
         "hovertemplate": "Score %{x}<br>Prob: %{y:.3f}",
         "marker": {
          "color": [
           0.10486714911296773,
           0.08417148440925276,
           0.08291604695827506,
           0.06655246006837698,
           0.06631478083256531,
           0.06532568030766796,
           0.05322747483998347,
           0.05165151548209732,
           0.04504009023216581,
           0.04370654300125157,
           0.0413099641688031,
           0.0356121651850398,
           0.03508100138060548,
           0.02848197684107439,
           0.027226444883872956,
           0.01877181421602104,
           0.018075685688204144,
           0.017278880004508043,
           0.014292029639440443,
           0.013868871149935267,
           0.011430511317899149,
           0.010763662412841053,
           0.00753358645191689,
           0.007421221241319808,
           0.0029783169147587782
          ],
          "colorscale": [
           [
            0,
            "rgb(210, 251, 212)"
           ],
           [
            0.16666666666666666,
            "rgb(165, 219, 194)"
           ],
           [
            0.3333333333333333,
            "rgb(123, 188, 176)"
           ],
           [
            0.5,
            "rgb(85, 156, 158)"
           ],
           [
            0.6666666666666666,
            "rgb(58, 124, 137)"
           ],
           [
            0.8333333333333334,
            "rgb(35, 93, 114)"
           ],
           [
            1,
            "rgb(18, 63, 90)"
           ]
          ]
         },
         "name": "Propable Scoreline",
         "type": "bar",
         "visible": false,
         "x": [
          "1 - 1",
          "2 - 1",
          "1 - 2",
          "2 - 2",
          "1 - 0",
          "0 - 1",
          "2 - 0",
          "0 - 2",
          "3 - 1",
          "1 - 3",
          "0 - 0",
          "3 - 2",
          "2 - 3",
          "3 - 0",
          "0 - 3",
          "Other",
          "Other",
          "Other",
          "Other",
          "Other",
          "Other",
          "Other",
          "Other",
          "Other",
          "Other"
         ],
         "xaxis": "x",
         "y": [
          0.10486714911296773,
          0.08417148440925276,
          0.08291604695827506,
          0.06655246006837698,
          0.06631478083256531,
          0.06532568030766796,
          0.05322747483998347,
          0.05165151548209732,
          0.04504009023216581,
          0.04370654300125157,
          0.0413099641688031,
          0.0356121651850398,
          0.03508100138060548,
          0.02848197684107439,
          0.027226444883872956,
          0.01877181421602104,
          0.018075685688204144,
          0.017278880004508043,
          0.014292029639440443,
          0.013868871149935267,
          0.011430511317899149,
          0.010763662412841053,
          0.00753358645191689,
          0.007421221241319808,
          0.0029783169147587782
         ],
         "yaxis": "y"
        },
        {
         "fill": "toself",
         "hovertemplate": "%{theta}<br>Prob: %{r:.2f}<br>Bookmaker Odds",
         "marker": {
          "color": "rgb(82, 106, 131)"
         },
         "name": "Bookmaker Odds",
         "r": [
          0.23529411764705882,
          0.25,
          0.5617977528089888,
          0.5714285714285714,
          0.48309178743961356,
          0.5813953488372093,
          0.48780487804878053
         ],
         "subplot": "polar",
         "theta": [
          "Home",
          "Draw",
          "Away",
          "Over",
          "Under",
          "GG",
          "NG"
         ],
         "type": "scatterpolar",
         "visible": false
        },
        {
         "fill": "toself",
         "hovertemplate": "%{theta}<br>Prob: %{r:.2f}<br>Predicted Odds",
         "marker": {
          "color": "rgb(141,211,199)"
         },
         "name": "Predicted Odds",
         "r": [
          0.17095457936252115,
          0.20220936501373424,
          0.6268337656524143,
          0.600373946577702,
          0.3996260534222979,
          0.5558318624359527,
          0.4441658475927167
         ],
         "subplot": "polar",
         "theta": [
          "Home",
          "Draw",
          "Away",
          "Over",
          "Under",
          "GG",
          "NG"
         ],
         "type": "scatterpolar",
         "visible": false
        },
        {
         "hovertemplate": "Score %{x}<br>Prob: %{y:.3f}",
         "marker": {
          "color": [
           0.09931008235716052,
           0.09907961553172219,
           0.09436606030393721,
           0.09414706696679392,
           0.06967542091595626,
           0.06951372662783929,
           0.049770542633102675,
           0.04729278151823428,
           0.04483408494849689,
           0.04473003942779788,
           0.03666292609412212,
           0.03657784321041446,
           0.03491874565872756,
           0.022469186243549828,
           0.018374103443588873,
           0.01662877091763809,
           0.015800929391546828,
           0.011666656451200769,
           0.0075071504344264165,
           0.006138947674988959,
           0.004166862680245934,
           0.003959420892917643,
           0.002923448498421185,
           0.001881153161297299,
           0.0015383068351588897
          ],
          "colorscale": [
           [
            0,
            "rgb(210, 251, 212)"
           ],
           [
            0.16666666666666666,
            "rgb(165, 219, 194)"
           ],
           [
            0.3333333333333333,
            "rgb(123, 188, 176)"
           ],
           [
            0.5,
            "rgb(85, 156, 158)"
           ],
           [
            0.6666666666666666,
            "rgb(58, 124, 137)"
           ],
           [
            0.8333333333333334,
            "rgb(35, 93, 114)"
           ],
           [
            1,
            "rgb(18, 63, 90)"
           ]
          ]
         },
         "name": "Propable Scoreline",
         "type": "bar",
         "visible": false,
         "x": [
          "1 - 2",
          "0 - 2",
          "1 - 1",
          "0 - 1",
          "1 - 3",
          "0 - 3",
          "2 - 2",
          "2 - 1",
          "1 - 0",
          "0 - 0",
          "1 - 4",
          "0 - 4",
          "2 - 3",
          "2 - 0",
          "Other",
          "Other",
          "Other",
          "Other",
          "Other",
          "Other",
          "Other",
          "Other",
          "Other",
          "Other",
          "Other"
         ],
         "xaxis": "x",
         "y": [
          0.09931008235716052,
          0.09907961553172219,
          0.09436606030393721,
          0.09414706696679392,
          0.06967542091595626,
          0.06951372662783929,
          0.049770542633102675,
          0.04729278151823428,
          0.04483408494849689,
          0.04473003942779788,
          0.03666292609412212,
          0.03657784321041446,
          0.03491874565872756,
          0.022469186243549828,
          0.018374103443588873,
          0.01662877091763809,
          0.015800929391546828,
          0.011666656451200769,
          0.0075071504344264165,
          0.006138947674988959,
          0.004166862680245934,
          0.003959420892917643,
          0.002923448498421185,
          0.001881153161297299,
          0.0015383068351588897
         ],
         "yaxis": "y"
        },
        {
         "fill": "toself",
         "hovertemplate": "%{theta}<br>Prob: %{r:.2f}<br>Bookmaker Odds",
         "marker": {
          "color": "rgb(82, 106, 131)"
         },
         "name": "Bookmaker Odds",
         "r": [
          0.48780487804878053,
          0.2631578947368421,
          0.29850746268656714,
          0.5813953488372093,
          0.4716981132075471,
          0.6172839506172839,
          0.45454545454545453
         ],
         "subplot": "polar",
         "theta": [
          "Home",
          "Draw",
          "Away",
          "Over",
          "Under",
          "GG",
          "NG"
         ],
         "type": "scatterpolar",
         "visible": false
        },
        {
         "fill": "toself",
         "hovertemplate": "%{theta}<br>Prob: %{r:.2f}<br>Predicted Odds",
         "marker": {
          "color": "rgb(141,211,199)"
         },
         "name": "Predicted Odds",
         "r": [
          0.3951461944540566,
          0.24205004847889902,
          0.36280360785162574,
          0.5805697177020481,
          0.4194302822979519,
          0.6061343024175202,
          0.39386554836706084
         ],
         "subplot": "polar",
         "theta": [
          "Home",
          "Draw",
          "Away",
          "Over",
          "Under",
          "GG",
          "NG"
         ],
         "type": "scatterpolar",
         "visible": false
        },
        {
         "hovertemplate": "Score %{x}<br>Prob: %{y:.3f}",
         "marker": {
          "color": [
           0.11132423027994767,
           0.08601365907413473,
           0.08190942261141784,
           0.07565115131024785,
           0.07204137331688962,
           0.06328657412443624,
           0.05845117743910889,
           0.053006136019814264,
           0.04895621393194357,
           0.0443051168568113,
           0.040177857031748934,
           0.032598532514861556,
           0.0310430576377465,
           0.03010784885486495,
           0.02600034143706279,
           0.01711597379554439,
           0.0159900917021524,
           0.014780901978656811,
           0.012593480570219829,
           0.011631278475250325,
           0.011420330150976975,
           0.009565181584700988,
           0.0061772998240115645,
           0.005882543160340379,
           0.0022725468687724674
          ],
          "colorscale": [
           [
            0,
            "rgb(210, 251, 212)"
           ],
           [
            0.16666666666666666,
            "rgb(165, 219, 194)"
           ],
           [
            0.3333333333333333,
            "rgb(123, 188, 176)"
           ],
           [
            0.5,
            "rgb(85, 156, 158)"
           ],
           [
            0.6666666666666666,
            "rgb(58, 124, 137)"
           ],
           [
            0.8333333333333334,
            "rgb(35, 93, 114)"
           ],
           [
            1,
            "rgb(18, 63, 90)"
           ]
          ]
         },
         "name": "Propable Scoreline",
         "type": "bar",
         "visible": false,
         "x": [
          "1 - 1",
          "2 - 1",
          "1 - 2",
          "1 - 0",
          "0 - 1",
          "2 - 2",
          "2 - 0",
          "0 - 2",
          "0 - 0",
          "3 - 1",
          "1 - 3",
          "3 - 2",
          "2 - 3",
          "3 - 0",
          "0 - 3",
          "Other",
          "Other",
          "Other",
          "Other",
          "Other",
          "Other",
          "Other",
          "Other",
          "Other",
          "Other"
         ],
         "xaxis": "x",
         "y": [
          0.11132423027994767,
          0.08601365907413473,
          0.08190942261141784,
          0.07565115131024785,
          0.07204137331688962,
          0.06328657412443624,
          0.05845117743910889,
          0.053006136019814264,
          0.04895621393194357,
          0.0443051168568113,
          0.040177857031748934,
          0.032598532514861556,
          0.0310430576377465,
          0.03010784885486495,
          0.02600034143706279,
          0.01711597379554439,
          0.0159900917021524,
          0.014780901978656811,
          0.012593480570219829,
          0.011631278475250325,
          0.011420330150976975,
          0.009565181584700988,
          0.0061772998240115645,
          0.005882543160340379,
          0.0022725468687724674
         ],
         "yaxis": "y"
        },
        {
         "fill": "toself",
         "hovertemplate": "%{theta}<br>Prob: %{r:.2f}<br>Bookmaker Odds",
         "marker": {
          "color": "rgb(82, 106, 131)"
         },
         "name": "Bookmaker Odds",
         "r": [
          0.6535947712418301,
          0.2247191011235955,
          0.1724137931034483,
          0.4444444444444444,
          0.6060606060606061,
          0.6369426751592356,
          0.4347826086956522
         ],
         "subplot": "polar",
         "theta": [
          "Home",
          "Draw",
          "Away",
          "Over",
          "Under",
          "GG",
          "NG"
         ],
         "type": "scatterpolar",
         "visible": false
        },
        {
         "fill": "toself",
         "hovertemplate": "%{theta}<br>Prob: %{r:.2f}<br>Predicted Odds",
         "marker": {
          "color": "rgb(141,211,199)"
         },
         "name": "Predicted Odds",
         "r": [
          0.6480629501682765,
          0.18900201127435542,
          0.16292994770435926,
          0.6481957403796075,
          0.35180425962039247,
          0.5862058373915654,
          0.4137890717554256
         ],
         "subplot": "polar",
         "theta": [
          "Home",
          "Draw",
          "Away",
          "Over",
          "Under",
          "GG",
          "NG"
         ],
         "type": "scatterpolar",
         "visible": false
        },
        {
         "hovertemplate": "Score %{x}<br>Prob: %{y:.3f}",
         "marker": {
          "color": [
           0.09764539037080841,
           0.09225014018115234,
           0.08566297967417834,
           0.08092979968914768,
           0.07420258861671462,
           0.07010263542090062,
           0.051678090905576686,
           0.04533648986433056,
           0.04229096839476184,
           0.03995424410715234,
           0.039271163804062946,
           0.03757548645559242,
           0.03549930907890223,
           0.02238217801055301,
           0.019886544541419443,
           0.018233494822461477,
           0.015995998279430323,
           0.013855979378219405,
           0.007897066623774795,
           0.007016536419565993,
           0.004824970228411433,
           0.004232881091829694,
           0.0036665866108692687,
           0.002089731657178333,
           0.001856724652109243
          ],
          "colorscale": [
           [
            0,
            "rgb(210, 251, 212)"
           ],
           [
            0.16666666666666666,
            "rgb(165, 219, 194)"
           ],
           [
            0.3333333333333333,
            "rgb(123, 188, 176)"
           ],
           [
            0.5,
            "rgb(85, 156, 158)"
           ],
           [
            0.6666666666666666,
            "rgb(58, 124, 137)"
           ],
           [
            0.8333333333333334,
            "rgb(35, 93, 114)"
           ],
           [
            1,
            "rgb(18, 63, 90)"
           ]
          ]
         },
         "name": "Propable Scoreline",
         "type": "bar",
         "visible": false,
         "x": [
          "2 - 1",
          "2 - 0",
          "1 - 1",
          "1 - 0",
          "3 - 1",
          "3 - 0",
          "2 - 2",
          "1 - 2",
          "4 - 1",
          "4 - 0",
          "3 - 2",
          "0 - 1",
          "0 - 0",
          "4 - 2",
          "Other",
          "Other",
          "Other",
          "Other",
          "Other",
          "Other",
          "Other",
          "Other",
          "Other",
          "Other",
          "Other"
         ],
         "xaxis": "x",
         "y": [
          0.09764539037080841,
          0.09225014018115234,
          0.08566297967417834,
          0.08092979968914768,
          0.07420258861671462,
          0.07010263542090062,
          0.051678090905576686,
          0.04533648986433056,
          0.04229096839476184,
          0.03995424410715234,
          0.039271163804062946,
          0.03757548645559242,
          0.03549930907890223,
          0.02238217801055301,
          0.019886544541419443,
          0.018233494822461477,
          0.015995998279430323,
          0.013855979378219405,
          0.007897066623774795,
          0.007016536419565993,
          0.004824970228411433,
          0.004232881091829694,
          0.0036665866108692687,
          0.002089731657178333,
          0.001856724652109243
         ],
         "yaxis": "y"
        },
        {
         "fill": "toself",
         "hovertemplate": "%{theta}<br>Prob: %{r:.2f}<br>Bookmaker Odds",
         "marker": {
          "color": "rgb(82, 106, 131)"
         },
         "name": "Bookmaker Odds",
         "r": [
          0.7874015748031495,
          0.1639344262295082,
          0.09523809523809523,
          0.44052863436123346,
          0.6060606060606061,
          0.5050505050505051,
          0.5617977528089888
         ],
         "subplot": "polar",
         "theta": [
          "Home",
          "Draw",
          "Away",
          "Over",
          "Under",
          "GG",
          "NG"
         ],
         "type": "scatterpolar",
         "visible": false
        },
        {
         "fill": "toself",
         "hovertemplate": "%{theta}<br>Prob: %{r:.2f}<br>Predicted Odds",
         "marker": {
          "color": "rgb(141,211,199)"
         },
         "name": "Predicted Odds",
         "r": [
          0.6730093396509877,
          0.18867219427905318,
          0.13831487694976205,
          0.5961629500796504,
          0.40383704992034963,
          0.5228288874980984,
          0.47716752338170487
         ],
         "subplot": "polar",
         "theta": [
          "Home",
          "Draw",
          "Away",
          "Over",
          "Under",
          "GG",
          "NG"
         ],
         "type": "scatterpolar",
         "visible": false
        },
        {
         "hovertemplate": "Score %{x}<br>Prob: %{y:.3f}",
         "marker": {
          "color": [
           0.11049171469286433,
           0.1003921914428227,
           0.09794789611758474,
           0.08899494379096026,
           0.0810715046015141,
           0.07186768105534905,
           0.0456079088405316,
           0.044613676758184485,
           0.043414071274616356,
           0.04043016917304806,
           0.03954880950740071,
           0.03944579706115383,
           0.03185437106206682,
           0.017920121980122702,
           0.01752947130910623,
           0.012828463971462416,
           0.011655874963297869,
           0.009412677491554387,
           0.0052952333756504455,
           0.005179799648487139,
           0.0028430209901207353,
           0.002583153934297634,
           0.002086020566550765,
           0.0011735200463634243,
           0.0011479378324660157
          ],
          "colorscale": [
           [
            0,
            "rgb(210, 251, 212)"
           ],
           [
            0.16666666666666666,
            "rgb(165, 219, 194)"
           ],
           [
            0.3333333333333333,
            "rgb(123, 188, 176)"
           ],
           [
            0.5,
            "rgb(85, 156, 158)"
           ],
           [
            0.6666666666666666,
            "rgb(58, 124, 137)"
           ],
           [
            0.8333333333333334,
            "rgb(35, 93, 114)"
           ],
           [
            1,
            "rgb(18, 63, 90)"
           ]
          ]
         },
         "name": "Propable Scoreline",
         "type": "bar",
         "visible": false,
         "x": [
          "2 - 0",
          "1 - 0",
          "2 - 1",
          "1 - 1",
          "3 - 0",
          "3 - 1",
          "0 - 0",
          "4 - 0",
          "2 - 2",
          "0 - 1",
          "4 - 1",
          "1 - 2",
          "3 - 2",
          "Other",
          "Other",
          "Other",
          "Other",
          "Other",
          "Other",
          "Other",
          "Other",
          "Other",
          "Other",
          "Other",
          "Other"
         ],
         "xaxis": "x",
         "y": [
          0.11049171469286433,
          0.1003921914428227,
          0.09794789611758474,
          0.08899494379096026,
          0.0810715046015141,
          0.07186768105534905,
          0.0456079088405316,
          0.044613676758184485,
          0.043414071274616356,
          0.04043016917304806,
          0.03954880950740071,
          0.03944579706115383,
          0.03185437106206682,
          0.017920121980122702,
          0.01752947130910623,
          0.012828463971462416,
          0.011655874963297869,
          0.009412677491554387,
          0.0052952333756504455,
          0.005179799648487139,
          0.0028430209901207353,
          0.002583153934297634,
          0.002086020566550765,
          0.0011735200463634243,
          0.0011479378324660157
         ],
         "yaxis": "y"
        },
        {
         "fill": "toself",
         "hovertemplate": "%{theta}<br>Prob: %{r:.2f}<br>Bookmaker Odds",
         "marker": {
          "color": "rgb(82, 106, 131)"
         },
         "name": "Bookmaker Odds",
         "r": [
          0.7692307692307692,
          0.17857142857142858,
          0.1,
          0.47619047619047616,
          0.5714285714285714,
          0.5714285714285714,
          0.5
         ],
         "subplot": "polar",
         "theta": [
          "Home",
          "Draw",
          "Away",
          "Over",
          "Under",
          "GG",
          "NG"
         ],
         "type": "scatterpolar",
         "visible": false
        },
        {
         "fill": "toself",
         "hovertemplate": "%{theta}<br>Prob: %{r:.2f}<br>Predicted Odds",
         "marker": {
          "color": "rgb(141,211,199)"
         },
         "name": "Predicted Odds",
         "r": [
          0.7103257090791746,
          0.1743688668427098,
          0.11529952457942612,
          0.6049824149295104,
          0.3950175850704896,
          0.5020718523194254,
          0.4979222481818849
         ],
         "subplot": "polar",
         "theta": [
          "Home",
          "Draw",
          "Away",
          "Over",
          "Under",
          "GG",
          "NG"
         ],
         "type": "scatterpolar",
         "visible": false
        },
        {
         "hovertemplate": "Score %{x}<br>Prob: %{y:.3f}",
         "marker": {
          "color": [
           0.1172161525217864,
           0.1013108151328666,
           0.09547781946541761,
           0.09041237038047398,
           0.08252220798112508,
           0.07364493536863792,
           0.052303350745303664,
           0.043781855324837485,
           0.042603427705651266,
           0.038885485548489265,
           0.03566228705373104,
           0.03360902190525775,
           0.029993553330298295,
           0.017351202422089828,
           0.014524267056143002,
           0.010557991338078603,
           0.009125352484399961,
           0.00814369865240865,
           0.004711111158667019,
           0.003943555895154713,
           0.0021499895048746574,
           0.0018582523362168472,
           0.0016583520551293465,
           0.0009593528942291477,
           0.0008030508375101771
          ],
          "colorscale": [
           [
            0,
            "rgb(210, 251, 212)"
           ],
           [
            0.16666666666666666,
            "rgb(165, 219, 194)"
           ],
           [
            0.3333333333333333,
            "rgb(123, 188, 176)"
           ],
           [
            0.5,
            "rgb(85, 156, 158)"
           ],
           [
            0.6666666666666666,
            "rgb(58, 124, 137)"
           ],
           [
            0.8333333333333334,
            "rgb(35, 93, 114)"
           ],
           [
            1,
            "rgb(18, 63, 90)"
           ]
          ]
         },
         "name": "Propable Scoreline",
         "type": "bar",
         "visible": false,
         "x": [
          "2 - 0",
          "1 - 0",
          "2 - 1",
          "3 - 0",
          "1 - 1",
          "3 - 1",
          "4 - 0",
          "0 - 0",
          "4 - 1",
          "2 - 2",
          "0 - 1",
          "1 - 2",
          "3 - 2",
          "Other",
          "Other",
          "Other",
          "Other",
          "Other",
          "Other",
          "Other",
          "Other",
          "Other",
          "Other",
          "Other",
          "Other"
         ],
         "xaxis": "x",
         "y": [
          0.1172161525217864,
          0.1013108151328666,
          0.09547781946541761,
          0.09041237038047398,
          0.08252220798112508,
          0.07364493536863792,
          0.052303350745303664,
          0.043781855324837485,
          0.042603427705651266,
          0.038885485548489265,
          0.03566228705373104,
          0.03360902190525775,
          0.029993553330298295,
          0.017351202422089828,
          0.014524267056143002,
          0.010557991338078603,
          0.009125352484399961,
          0.00814369865240865,
          0.004711111158667019,
          0.003943555895154713,
          0.0021499895048746574,
          0.0018582523362168472,
          0.0016583520551293465,
          0.0009593528942291477,
          0.0008030508375101771
         ],
         "yaxis": "y"
        },
        {
         "fill": "toself",
         "hovertemplate": "%{theta}<br>Prob: %{r:.2f}<br>Bookmaker Odds",
         "marker": {
          "color": "rgb(82, 106, 131)"
         },
         "name": "Bookmaker Odds",
         "r": [
          0.21978021978021978,
          0.2631578947368421,
          0.5714285714285714,
          0.5714285714285714,
          0.47619047619047616,
          0.5882352941176471,
          0.48309178743961356
         ],
         "subplot": "polar",
         "theta": [
          "Home",
          "Draw",
          "Away",
          "Over",
          "Under",
          "GG",
          "NG"
         ],
         "type": "scatterpolar",
         "visible": false
        },
        {
         "fill": "toself",
         "hovertemplate": "%{theta}<br>Prob: %{r:.2f}<br>Predicted Odds",
         "marker": {
          "color": "rgb(141,211,199)"
         },
         "name": "Predicted Odds",
         "r": [
          0.3511404847673682,
          0.2369508088917531,
          0.4119084769052545,
          0.6035377779147046,
          0.3964622220852954,
          0.6231434151560636,
          0.3768563554083128
         ],
         "subplot": "polar",
         "theta": [
          "Home",
          "Draw",
          "Away",
          "Over",
          "Under",
          "GG",
          "NG"
         ],
         "type": "scatterpolar",
         "visible": false
        },
        {
         "hovertemplate": "Score %{x}<br>Prob: %{y:.3f}",
         "marker": {
          "color": [
           0.10717304217807368,
           0.08741465385820543,
           0.07987183443857103,
           0.07190307478499836,
           0.06569871562000691,
           0.06514668818364482,
           0.05864704655138738,
           0.04896265730806627,
           0.04753261052627649,
           0.04407768564276286,
           0.03968354856738823,
           0.03542417683804964,
           0.03236750204514795,
           0.031889930340115766,
           0.024326622806784205,
           0.019384756706017185,
           0.017600159704528284,
           0.014787290519583142,
           0.01444669337352959,
           0.013005356410484647,
           0.012061110294156966,
           0.009064835474412572,
           0.0071776999008022774,
           0.006558351864626334,
           0.0026746280896555383
          ],
          "colorscale": [
           [
            0,
            "rgb(210, 251, 212)"
           ],
           [
            0.16666666666666666,
            "rgb(165, 219, 194)"
           ],
           [
            0.3333333333333333,
            "rgb(123, 188, 176)"
           ],
           [
            0.5,
            "rgb(85, 156, 158)"
           ],
           [
            0.6666666666666666,
            "rgb(58, 124, 137)"
           ],
           [
            0.8333333333333334,
            "rgb(35, 93, 114)"
           ],
           [
            1,
            "rgb(18, 63, 90)"
           ]
          ]
         },
         "name": "Propable Scoreline",
         "type": "bar",
         "visible": false,
         "x": [
          "1 - 1",
          "1 - 2",
          "2 - 1",
          "0 - 1",
          "1 - 0",
          "2 - 2",
          "0 - 2",
          "2 - 0",
          "1 - 3",
          "0 - 0",
          "3 - 1",
          "2 - 3",
          "3 - 2",
          "0 - 3",
          "3 - 0",
          "Other",
          "Other",
          "Other",
          "Other",
          "Other",
          "Other",
          "Other",
          "Other",
          "Other",
          "Other"
         ],
         "xaxis": "x",
         "y": [
          0.10717304217807368,
          0.08741465385820543,
          0.07987183443857103,
          0.07190307478499836,
          0.06569871562000691,
          0.06514668818364482,
          0.05864704655138738,
          0.04896265730806627,
          0.04753261052627649,
          0.04407768564276286,
          0.03968354856738823,
          0.03542417683804964,
          0.03236750204514795,
          0.031889930340115766,
          0.024326622806784205,
          0.019384756706017185,
          0.017600159704528284,
          0.014787290519583142,
          0.01444669337352959,
          0.013005356410484647,
          0.012061110294156966,
          0.009064835474412572,
          0.0071776999008022774,
          0.006558351864626334,
          0.0026746280896555383
         ],
         "yaxis": "y"
        },
        {
         "fill": "toself",
         "hovertemplate": "%{theta}<br>Prob: %{r:.2f}<br>Bookmaker Odds",
         "marker": {
          "color": "rgb(82, 106, 131)"
         },
         "name": "Bookmaker Odds",
         "r": [
          0.2631578947368421,
          0.2597402597402597,
          0.5263157894736842,
          0.5813953488372093,
          0.4716981132075471,
          0.6060606060606061,
          0.46511627906976744
         ],
         "subplot": "polar",
         "theta": [
          "Home",
          "Draw",
          "Away",
          "Over",
          "Under",
          "GG",
          "NG"
         ],
         "type": "scatterpolar",
         "visible": false
        },
        {
         "fill": "toself",
         "hovertemplate": "%{theta}<br>Prob: %{r:.2f}<br>Predicted Odds",
         "marker": {
          "color": "rgb(141,211,199)"
         },
         "name": "Predicted Odds",
         "r": [
          0.32203848334184215,
          0.24400231122596758,
          0.43395905611568825,
          0.5616581624179445,
          0.43834183758205547,
          0.5881095505023368,
          0.4118903001811606
         ],
         "subplot": "polar",
         "theta": [
          "Home",
          "Draw",
          "Away",
          "Over",
          "Under",
          "GG",
          "NG"
         ],
         "type": "scatterpolar",
         "visible": false
        },
        {
         "hovertemplate": "Score %{x}<br>Prob: %{y:.3f}",
         "marker": {
          "color": [
           0.11364003546751987,
           0.09050466806860244,
           0.08478827749970252,
           0.07615473531175629,
           0.07134470484588892,
           0.06752668528876345,
           0.06065079980736829,
           0.05323119275456894,
           0.048052870971099795,
           0.04781094172561176,
           0.03585285891361337,
           0.034022890416181784,
           0.032202151774407106,
           0.02709635201346853,
           0.02136001687046541,
           0.019135021909711492,
           0.014386633693896818,
           0.01427688350297304,
           0.01282314390983478,
           0.011400050182691836,
           0.00907917490086342,
           0.007157101035443926,
           0.00572886791936479,
           0.004820529474839215,
           0.0019195718227311422
          ],
          "colorscale": [
           [
            0,
            "rgb(210, 251, 212)"
           ],
           [
            0.16666666666666666,
            "rgb(165, 219, 194)"
           ],
           [
            0.3333333333333333,
            "rgb(123, 188, 176)"
           ],
           [
            0.5,
            "rgb(85, 156, 158)"
           ],
           [
            0.6666666666666666,
            "rgb(58, 124, 137)"
           ],
           [
            0.8333333333333334,
            "rgb(35, 93, 114)"
           ],
           [
            1,
            "rgb(18, 63, 90)"
           ]
          ]
         },
         "name": "Propable Scoreline",
         "type": "bar",
         "visible": false,
         "x": [
          "1 - 1",
          "1 - 2",
          "0 - 1",
          "2 - 1",
          "1 - 0",
          "0 - 2",
          "2 - 2",
          "0 - 0",
          "1 - 3",
          "2 - 0",
          "0 - 3",
          "3 - 1",
          "2 - 3",
          "3 - 2",
          "3 - 0",
          "Other",
          "Other",
          "Other",
          "Other",
          "Other",
          "Other",
          "Other",
          "Other",
          "Other",
          "Other"
         ],
         "xaxis": "x",
         "y": [
          0.11364003546751987,
          0.09050466806860244,
          0.08478827749970252,
          0.07615473531175629,
          0.07134470484588892,
          0.06752668528876345,
          0.06065079980736829,
          0.05323119275456894,
          0.048052870971099795,
          0.04781094172561176,
          0.03585285891361337,
          0.034022890416181784,
          0.032202151774407106,
          0.02709635201346853,
          0.02136001687046541,
          0.019135021909711492,
          0.014386633693896818,
          0.01427688350297304,
          0.01282314390983478,
          0.011400050182691836,
          0.00907917490086342,
          0.007157101035443926,
          0.00572886791936479,
          0.004820529474839215,
          0.0019195718227311422
         ],
         "yaxis": "y"
        },
        {
         "fill": "toself",
         "hovertemplate": "%{theta}<br>Prob: %{r:.2f}<br>Bookmaker Odds",
         "marker": {
          "color": "rgb(82, 106, 131)"
         },
         "name": "Bookmaker Odds",
         "r": [
          0.4444444444444444,
          0.2777777777777778,
          0.3278688524590164,
          0.5714285714285714,
          0.47619047619047616,
          0.625,
          0.4444444444444444
         ],
         "subplot": "polar",
         "theta": [
          "Home",
          "Draw",
          "Away",
          "Over",
          "Under",
          "GG",
          "NG"
         ],
         "type": "scatterpolar",
         "visible": false
        },
        {
         "fill": "toself",
         "hovertemplate": "%{theta}<br>Prob: %{r:.2f}<br>Predicted Odds",
         "marker": {
          "color": "rgb(141,211,199)"
         },
         "name": "Predicted Odds",
         "r": [
          0.5426409258435142,
          0.22452065968657797,
          0.23283766884576734,
          0.5867873022104285,
          0.4132126977895715,
          0.5823773115067647,
          0.41762194286909476
         ],
         "subplot": "polar",
         "theta": [
          "Home",
          "Draw",
          "Away",
          "Over",
          "Under",
          "GG",
          "NG"
         ],
         "type": "scatterpolar",
         "visible": false
        },
        {
         "hovertemplate": "Score %{x}<br>Prob: %{y:.3f}",
         "marker": {
          "color": [
           0.10410394192749037,
           0.09807570763331025,
           0.08969199881703009,
           0.08449830131459568,
           0.061597695852056454,
           0.060415816727146646,
           0.05691738341557083,
           0.05525135115701891,
           0.05307023308821994,
           0.04760246375748472,
           0.0357476867302913,
           0.03206464081595173,
           0.029015412372567256,
           0.02499857626917317,
           0.023374528977013444,
           0.02202100542564127,
           0.01683884206214386,
           0.013830572598432478,
           0.012405623502118785,
           0.006782602236821305,
           0.006514850299856629,
           0.006389849429859707,
           0.004013226223078028,
           0.003599747819405458,
           0.0018904183378333625
          ],
          "colorscale": [
           [
            0,
            "rgb(210, 251, 212)"
           ],
           [
            0.16666666666666666,
            "rgb(165, 219, 194)"
           ],
           [
            0.3333333333333333,
            "rgb(123, 188, 176)"
           ],
           [
            0.5,
            "rgb(85, 156, 158)"
           ],
           [
            0.6666666666666666,
            "rgb(58, 124, 137)"
           ],
           [
            0.8333333333333334,
            "rgb(35, 93, 114)"
           ],
           [
            1,
            "rgb(18, 63, 90)"
           ]
          ]
         },
         "name": "Propable Scoreline",
         "type": "bar",
         "visible": false,
         "x": [
          "1 - 1",
          "2 - 1",
          "1 - 0",
          "2 - 0",
          "3 - 1",
          "1 - 2",
          "2 - 2",
          "0 - 1",
          "3 - 0",
          "0 - 0",
          "3 - 2",
          "0 - 2",
          "4 - 1",
          "4 - 0",
          "1 - 3",
          "2 - 3",
          "Other",
          "Other",
          "Other",
          "Other",
          "Other",
          "Other",
          "Other",
          "Other",
          "Other"
         ],
         "xaxis": "x",
         "y": [
          0.10410394192749037,
          0.09807570763331025,
          0.08969199881703009,
          0.08449830131459568,
          0.061597695852056454,
          0.060415816727146646,
          0.05691738341557083,
          0.05525135115701891,
          0.05307023308821994,
          0.04760246375748472,
          0.0357476867302913,
          0.03206464081595173,
          0.029015412372567256,
          0.02499857626917317,
          0.023374528977013444,
          0.02202100542564127,
          0.01683884206214386,
          0.013830572598432478,
          0.012405623502118785,
          0.006782602236821305,
          0.006514850299856629,
          0.006389849429859707,
          0.004013226223078028,
          0.003599747819405458,
          0.0018904183378333625
         ],
         "yaxis": "y"
        },
        {
         "fill": "toself",
         "hovertemplate": "%{theta}<br>Prob: %{r:.2f}<br>Bookmaker Odds",
         "marker": {
          "color": "rgb(82, 106, 131)"
         },
         "name": "Bookmaker Odds",
         "r": [
          0.38167938931297707,
          0.30303030303030304,
          0.3676470588235294,
          0.47619047619047616,
          0.5714285714285714,
          0.5555555555555556,
          0.5181347150259068
         ],
         "subplot": "polar",
         "theta": [
          "Home",
          "Draw",
          "Away",
          "Over",
          "Under",
          "GG",
          "NG"
         ],
         "type": "scatterpolar",
         "visible": false
        },
        {
         "fill": "toself",
         "hovertemplate": "%{theta}<br>Prob: %{r:.2f}<br>Predicted Odds",
         "marker": {
          "color": "rgb(141,211,199)"
         },
         "name": "Predicted Odds",
         "r": [
          0.35380626429168016,
          0.2628674185558754,
          0.3833262848592479,
          0.4853560426106083,
          0.5146439573893917,
          0.5319278991386767,
          0.4680720685681269
         ],
         "subplot": "polar",
         "theta": [
          "Home",
          "Draw",
          "Away",
          "Over",
          "Under",
          "GG",
          "NG"
         ],
         "type": "scatterpolar",
         "visible": false
        },
        {
         "hovertemplate": "Score %{x}<br>Prob: %{y:.3f}",
         "marker": {
          "color": [
           0.1250083461419091,
           0.09797142703485157,
           0.09334982351836893,
           0.08370174691364217,
           0.0797532866372167,
           0.07316003855585833,
           0.06559865675792928,
           0.05955566538047452,
           0.05340034981393545,
           0.037362744982601594,
           0.033920864356888784,
           0.029281896424174364,
           0.02533036232406027,
           0.02383682211720483,
           0.022712368342744083,
           0.012508472918210362,
           0.010820479198109096,
           0.010138335908525128,
           0.0098031289881454,
           0.008080179081651201,
           0.007980201777147186,
           0.00724506034418148,
           0.003394159080296674,
           0.0032340465044594304,
           0.001082709076544057
          ],
          "colorscale": [
           [
            0,
            "rgb(210, 251, 212)"
           ],
           [
            0.16666666666666666,
            "rgb(165, 219, 194)"
           ],
           [
            0.3333333333333333,
            "rgb(123, 188, 176)"
           ],
           [
            0.5,
            "rgb(85, 156, 158)"
           ],
           [
            0.6666666666666666,
            "rgb(58, 124, 137)"
           ],
           [
            0.8333333333333334,
            "rgb(35, 93, 114)"
           ],
           [
            1,
            "rgb(18, 63, 90)"
           ]
          ]
         },
         "name": "Propable Scoreline",
         "type": "bar",
         "visible": false,
         "x": [
          "1 - 1",
          "0 - 1",
          "1 - 0",
          "1 - 2",
          "2 - 1",
          "0 - 0",
          "0 - 2",
          "2 - 0",
          "2 - 2",
          "1 - 3",
          "3 - 1",
          "0 - 3",
          "3 - 0",
          "2 - 3",
          "3 - 2",
          "Other",
          "Other",
          "Other",
          "Other",
          "Other",
          "Other",
          "Other",
          "Other",
          "Other",
          "Other"
         ],
         "xaxis": "x",
         "y": [
          0.1250083461419091,
          0.09797142703485157,
          0.09334982351836893,
          0.08370174691364217,
          0.0797532866372167,
          0.07316003855585833,
          0.06559865675792928,
          0.05955566538047452,
          0.05340034981393545,
          0.037362744982601594,
          0.033920864356888784,
          0.029281896424174364,
          0.02533036232406027,
          0.02383682211720483,
          0.022712368342744083,
          0.012508472918210362,
          0.010820479198109096,
          0.010138335908525128,
          0.0098031289881454,
          0.008080179081651201,
          0.007980201777147186,
          0.00724506034418148,
          0.003394159080296674,
          0.0032340465044594304,
          0.001082709076544057
         ],
         "yaxis": "y"
        },
        {
         "fill": "toself",
         "hovertemplate": "%{theta}<br>Prob: %{r:.2f}<br>Bookmaker Odds",
         "marker": {
          "color": "rgb(82, 106, 131)"
         },
         "name": "Bookmaker Odds",
         "r": [
          0.8695652173913044,
          0.12658227848101264,
          0.05555555555555555,
          0.5405405405405405,
          0.5128205128205129,
          0.48780487804878053,
          0.5813953488372093
         ],
         "subplot": "polar",
         "theta": [
          "Home",
          "Draw",
          "Away",
          "Over",
          "Under",
          "GG",
          "NG"
         ],
         "type": "scatterpolar",
         "visible": false
        },
        {
         "fill": "toself",
         "hovertemplate": "%{theta}<br>Prob: %{r:.2f}<br>Predicted Odds",
         "marker": {
          "color": "rgb(141,211,199)"
         },
         "name": "Predicted Odds",
         "r": [
          0.8995826118647066,
          0.0782900155985469,
          0.022036908249892368,
          0.6661304400149519,
          0.333869559985048,
          0.2835819145358661,
          0.7163276211772798
         ],
         "subplot": "polar",
         "theta": [
          "Home",
          "Draw",
          "Away",
          "Over",
          "Under",
          "GG",
          "NG"
         ],
         "type": "scatterpolar",
         "visible": false
        },
        {
         "hovertemplate": "Score %{x}<br>Prob: %{y:.3f}",
         "marker": {
          "color": [
           0.1572775236094903,
           0.1533020777961386,
           0.12101704583039659,
           0.09961807857116772,
           0.055492096504224854,
           0.05408944329822972,
           0.04269834259694149,
           0.03514816295914216,
           0.03236668974378802,
           0.011419911946504043,
           0.009789614891445277,
           0.009542166415392512,
           0.00753261017080561,
           0.006200648401985795,
           0.002014638968307464,
           0.0011513538655066032,
           0.0011222515195434303,
           0.0008859081724542702,
           0.0007292565218793515,
           0.0002369411248023658,
           0.00010155780423819807,
           0.00009899076516989239,
           0.00007814355902782574,
           0.00006432574146599557,
           0.000020899934494135
          ],
          "colorscale": [
           [
            0,
            "rgb(210, 251, 212)"
           ],
           [
            0.16666666666666666,
            "rgb(165, 219, 194)"
           ],
           [
            0.3333333333333333,
            "rgb(123, 188, 176)"
           ],
           [
            0.5,
            "rgb(85, 156, 158)"
           ],
           [
            0.6666666666666666,
            "rgb(58, 124, 137)"
           ],
           [
            0.8333333333333334,
            "rgb(35, 93, 114)"
           ],
           [
            1,
            "rgb(18, 63, 90)"
           ]
          ]
         },
         "name": "Propable Scoreline",
         "type": "bar",
         "visible": false,
         "x": [
          "3 - 0",
          "2 - 0",
          "4 - 0",
          "1 - 0",
          "3 - 1",
          "2 - 1",
          "4 - 1",
          "1 - 1",
          "0 - 0",
          "Other",
          "Other",
          "Other",
          "Other",
          "Other",
          "Other",
          "Other",
          "Other",
          "Other",
          "Other",
          "Other",
          "Other",
          "Other",
          "Other",
          "Other",
          "Other"
         ],
         "xaxis": "x",
         "y": [
          0.1572775236094903,
          0.1533020777961386,
          0.12101704583039659,
          0.09961807857116772,
          0.055492096504224854,
          0.05408944329822972,
          0.04269834259694149,
          0.03514816295914216,
          0.03236668974378802,
          0.011419911946504043,
          0.009789614891445277,
          0.009542166415392512,
          0.00753261017080561,
          0.006200648401985795,
          0.002014638968307464,
          0.0011513538655066032,
          0.0011222515195434303,
          0.0008859081724542702,
          0.0007292565218793515,
          0.0002369411248023658,
          0.00010155780423819807,
          0.00009899076516989239,
          0.00007814355902782574,
          0.00006432574146599557,
          0.000020899934494135
         ],
         "yaxis": "y"
        },
        {
         "fill": "toself",
         "hovertemplate": "%{theta}<br>Prob: %{r:.2f}<br>Bookmaker Odds",
         "marker": {
          "color": "rgb(82, 106, 131)"
         },
         "name": "Bookmaker Odds",
         "r": [
          0.3278688524590164,
          0.2597402597402597,
          0.46511627906976744,
          0.42194092827004215,
          0.625,
          0.6666666666666666,
          0.4
         ],
         "subplot": "polar",
         "theta": [
          "Home",
          "Draw",
          "Away",
          "Over",
          "Under",
          "GG",
          "NG"
         ],
         "type": "scatterpolar",
         "visible": false
        },
        {
         "fill": "toself",
         "hovertemplate": "%{theta}<br>Prob: %{r:.2f}<br>Predicted Odds",
         "marker": {
          "color": "rgb(141,211,199)"
         },
         "name": "Predicted Odds",
         "r": [
          0.32901811729187574,
          0.23464440583429091,
          0.43633717871995326,
          0.6085501609986818,
          0.39144983900131824,
          0.6248123560622555,
          0.37518734578386415
         ],
         "subplot": "polar",
         "theta": [
          "Home",
          "Draw",
          "Away",
          "Over",
          "Under",
          "GG",
          "NG"
         ],
         "type": "scatterpolar",
         "visible": false
        },
        {
         "hovertemplate": "Score %{x}<br>Prob: %{y:.3f}",
         "marker": {
          "color": [
           0.10581296517151939,
           0.08981047757872063,
           0.07659297293832656,
           0.07309014893183881,
           0.06500953326102088,
           0.062333393053028416,
           0.0620364543345686,
           0.05081873706650397,
           0.0451201786050102,
           0.043056698905352804,
           0.03696134019129474,
           0.03678526678262238,
           0.03510296734145851,
           0.031371539481470104,
           0.021773567560233117,
           0.021566615388255907,
           0.017751403391468173,
           0.015611047154064576,
           0.01489710762880681,
           0.013377278126773947,
           0.011354182687551369,
           0.007880424994273947,
           0.007533396373951105,
           0.00642469832206346,
           0.00272653367037025
          ],
          "colorscale": [
           [
            0,
            "rgb(210, 251, 212)"
           ],
           [
            0.16666666666666666,
            "rgb(165, 219, 194)"
           ],
           [
            0.3333333333333333,
            "rgb(123, 188, 176)"
           ],
           [
            0.5,
            "rgb(85, 156, 158)"
           ],
           [
            0.6666666666666666,
            "rgb(58, 124, 137)"
           ],
           [
            0.8333333333333334,
            "rgb(35, 93, 114)"
           ],
           [
            1,
            "rgb(18, 63, 90)"
           ]
          ]
         },
         "name": "Propable Scoreline",
         "type": "bar",
         "visible": false,
         "x": [
          "1 - 1",
          "1 - 2",
          "2 - 1",
          "0 - 1",
          "2 - 2",
          "1 - 0",
          "0 - 2",
          "1 - 3",
          "2 - 0",
          "0 - 0",
          "3 - 1",
          "2 - 3",
          "0 - 3",
          "3 - 2",
          "3 - 0",
          "1 - 4",
          "Other",
          "Other",
          "Other",
          "Other",
          "Other",
          "Other",
          "Other",
          "Other",
          "Other"
         ],
         "xaxis": "x",
         "y": [
          0.10581296517151939,
          0.08981047757872063,
          0.07659297293832656,
          0.07309014893183881,
          0.06500953326102088,
          0.062333393053028416,
          0.0620364543345686,
          0.05081873706650397,
          0.0451201786050102,
          0.043056698905352804,
          0.03696134019129474,
          0.03678526678262238,
          0.03510296734145851,
          0.031371539481470104,
          0.021773567560233117,
          0.021566615388255907,
          0.017751403391468173,
          0.015611047154064576,
          0.01489710762880681,
          0.013377278126773947,
          0.011354182687551369,
          0.007880424994273947,
          0.007533396373951105,
          0.00642469832206346,
          0.00272653367037025
         ],
         "yaxis": "y"
        },
        {
         "fill": "toself",
         "hovertemplate": "%{theta}<br>Prob: %{r:.2f}<br>Bookmaker Odds",
         "marker": {
          "color": "rgb(82, 106, 131)"
         },
         "name": "Bookmaker Odds",
         "r": [
          0.3333333333333333,
          0.2898550724637681,
          0.425531914893617,
          0.5181347150259068,
          0.5319148936170213,
          0.5813953488372093,
          0.48780487804878053
         ],
         "subplot": "polar",
         "theta": [
          "Home",
          "Draw",
          "Away",
          "Over",
          "Under",
          "GG",
          "NG"
         ],
         "type": "scatterpolar",
         "visible": false
        },
        {
         "fill": "toself",
         "hovertemplate": "%{theta}<br>Prob: %{r:.2f}<br>Predicted Odds",
         "marker": {
          "color": "rgb(141,211,199)"
         },
         "name": "Predicted Odds",
         "r": [
          0.23220349139497404,
          0.23745877538879992,
          0.5303374241248161,
          0.5287819989471869,
          0.47121800105281303,
          0.538319476048071,
          0.46168021486051924
         ],
         "subplot": "polar",
         "theta": [
          "Home",
          "Draw",
          "Away",
          "Over",
          "Under",
          "GG",
          "NG"
         ],
         "type": "scatterpolar",
         "visible": false
        },
        {
         "hovertemplate": "Score %{x}<br>Prob: %{y:.3f}",
         "marker": {
          "color": [
           0.11259217890862262,
           0.10601966651925926,
           0.09742674663853863,
           0.09173950880777558,
           0.06505913000679378,
           0.06126133568257268,
           0.05978607162044041,
           0.05620266613292607,
           0.05292186347811911,
           0.05173327764626905,
           0.03454618112778913,
           0.029843428338036097,
           0.02431626675502424,
           0.022896816789141915,
           0.02116413646993672,
           0.018313465301647788,
           0.012911856576978272,
           0.01222927133505976,
           0.01056450730007539,
           0.005619042952367581,
           0.004862194509226764,
           0.00457076852967188,
           0.003246851153387213,
           0.002804859077243607,
           0.0012135314252031519
          ],
          "colorscale": [
           [
            0,
            "rgb(210, 251, 212)"
           ],
           [
            0.16666666666666666,
            "rgb(165, 219, 194)"
           ],
           [
            0.3333333333333333,
            "rgb(123, 188, 176)"
           ],
           [
            0.5,
            "rgb(85, 156, 158)"
           ],
           [
            0.6666666666666666,
            "rgb(58, 124, 137)"
           ],
           [
            0.8333333333333334,
            "rgb(35, 93, 114)"
           ],
           [
            1,
            "rgb(18, 63, 90)"
           ]
          ]
         },
         "name": "Propable Scoreline",
         "type": "bar",
         "visible": false,
         "x": [
          "1 - 1",
          "0 - 1",
          "1 - 2",
          "0 - 2",
          "1 - 0",
          "0 - 0",
          "2 - 1",
          "1 - 3",
          "0 - 3",
          "2 - 2",
          "2 - 0",
          "2 - 3",
          "1 - 4",
          "0 - 4",
          "3 - 1",
          "Other",
          "Other",
          "Other",
          "Other",
          "Other",
          "Other",
          "Other",
          "Other",
          "Other",
          "Other"
         ],
         "xaxis": "x",
         "y": [
          0.11259217890862262,
          0.10601966651925926,
          0.09742674663853863,
          0.09173950880777558,
          0.06505913000679378,
          0.06126133568257268,
          0.05978607162044041,
          0.05620266613292607,
          0.05292186347811911,
          0.05173327764626905,
          0.03454618112778913,
          0.029843428338036097,
          0.02431626675502424,
          0.022896816789141915,
          0.02116413646993672,
          0.018313465301647788,
          0.012911856576978272,
          0.01222927133505976,
          0.01056450730007539,
          0.005619042952367581,
          0.004862194509226764,
          0.00457076852967188,
          0.003246851153387213,
          0.002804859077243607,
          0.0012135314252031519
         ],
         "yaxis": "y"
        },
        {
         "fill": "toself",
         "hovertemplate": "%{theta}<br>Prob: %{r:.2f}<br>Bookmaker Odds",
         "marker": {
          "color": "rgb(82, 106, 131)"
         },
         "name": "Bookmaker Odds",
         "r": [
          0.3846153846153846,
          0.2898550724637681,
          0.37453183520599254,
          0.5464480874316939,
          0.5050505050505051,
          0.6060606060606061,
          0.46511627906976744
         ],
         "subplot": "polar",
         "theta": [
          "Home",
          "Draw",
          "Away",
          "Over",
          "Under",
          "GG",
          "NG"
         ],
         "type": "scatterpolar",
         "visible": false
        },
        {
         "fill": "toself",
         "hovertemplate": "%{theta}<br>Prob: %{r:.2f}<br>Predicted Odds",
         "marker": {
          "color": "rgb(141,211,199)"
         },
         "name": "Predicted Odds",
         "r": [
          0.4533934585213842,
          0.2330623557677836,
          0.3135438272017725,
          0.6097533205526313,
          0.39024667944736874,
          0.6234613291590699,
          0.3765383123318703
         ],
         "subplot": "polar",
         "theta": [
          "Home",
          "Draw",
          "Away",
          "Over",
          "Under",
          "GG",
          "NG"
         ],
         "type": "scatterpolar",
         "visible": false
        },
        {
         "hovertemplate": "Score %{x}<br>Prob: %{y:.3f}",
         "marker": {
          "color": [
           0.10512536860654839,
           0.09138688784985499,
           0.07443737173321392,
           0.07423249147129389,
           0.06470940204624827,
           0.06453129689649312,
           0.06046459937895898,
           0.0529625619491795,
           0.042813888981608414,
           0.0426960487007908,
           0.037501831993660834,
           0.03739861253571329,
           0.034945341060092866,
           0.030378452001306077,
           0.023020531453286,
           0.020099392519304635,
           0.017605596206347912,
           0.016300421867701795,
           0.016255556840580325,
           0.01233802918643565,
           0.010725613660096093,
           0.007652390033755978,
           0.00709642212695428,
           0.006215946196232204,
           0.0027018025498767202
          ],
          "colorscale": [
           [
            0,
            "rgb(210, 251, 212)"
           ],
           [
            0.16666666666666666,
            "rgb(165, 219, 194)"
           ],
           [
            0.3333333333333333,
            "rgb(123, 188, 176)"
           ],
           [
            0.5,
            "rgb(85, 156, 158)"
           ],
           [
            0.6666666666666666,
            "rgb(58, 124, 137)"
           ],
           [
            0.8333333333333334,
            "rgb(35, 93, 114)"
           ],
           [
            1,
            "rgb(18, 63, 90)"
           ]
          ]
         },
         "name": "Propable Scoreline",
         "type": "bar",
         "visible": false,
         "x": [
          "1 - 1",
          "2 - 1",
          "1 - 0",
          "1 - 2",
          "2 - 0",
          "2 - 2",
          "0 - 1",
          "3 - 1",
          "0 - 0",
          "0 - 2",
          "3 - 0",
          "3 - 2",
          "1 - 3",
          "2 - 3",
          "4 - 1",
          "0 - 3",
          "Other",
          "Other",
          "Other",
          "Other",
          "Other",
          "Other",
          "Other",
          "Other",
          "Other"
         ],
         "xaxis": "x",
         "y": [
          0.10512536860654839,
          0.09138688784985499,
          0.07443737173321392,
          0.07423249147129389,
          0.06470940204624827,
          0.06453129689649312,
          0.06046459937895898,
          0.0529625619491795,
          0.042813888981608414,
          0.0426960487007908,
          0.037501831993660834,
          0.03739861253571329,
          0.034945341060092866,
          0.030378452001306077,
          0.023020531453286,
          0.020099392519304635,
          0.017605596206347912,
          0.016300421867701795,
          0.016255556840580325,
          0.01233802918643565,
          0.010725613660096093,
          0.007652390033755978,
          0.00709642212695428,
          0.006215946196232204,
          0.0027018025498767202
         ],
         "yaxis": "y"
        },
        {
         "fill": "toself",
         "hovertemplate": "%{theta}<br>Prob: %{r:.2f}<br>Bookmaker Odds",
         "marker": {
          "color": "rgb(82, 106, 131)"
         },
         "name": "Bookmaker Odds",
         "r": [
          0.2777777777777778,
          0.273972602739726,
          0.5,
          0.5714285714285714,
          0.48309178743961356,
          0.6060606060606061,
          0.46511627906976744
         ],
         "subplot": "polar",
         "theta": [
          "Home",
          "Draw",
          "Away",
          "Over",
          "Under",
          "GG",
          "NG"
         ],
         "type": "scatterpolar",
         "visible": false
        },
        {
         "fill": "toself",
         "hovertemplate": "%{theta}<br>Prob: %{r:.2f}<br>Predicted Odds",
         "marker": {
          "color": "rgb(141,211,199)"
         },
         "name": "Predicted Odds",
         "r": [
          0.2512654251857981,
          0.24825579177558801,
          0.5004786350946555,
          0.501114941580403,
          0.4988850584195969,
          0.5249777535198012,
          0.4750220985362405
         ],
         "subplot": "polar",
         "theta": [
          "Home",
          "Draw",
          "Away",
          "Over",
          "Under",
          "GG",
          "NG"
         ],
         "type": "scatterpolar",
         "visible": false
        },
        {
         "hovertemplate": "Score %{x}<br>Prob: %{y:.3f}",
         "marker": {
          "color": [
           0.1180468407149339,
           0.11068610665817878,
           0.0951506693137806,
           0.0892176111489094,
           0.07322626684223846,
           0.0686602905490117,
           0.06294853538308683,
           0.05113026781588442,
           0.05073914081688065,
           0.04794207318598969,
           0.039047942506324665,
           0.02726524024922701,
           0.022378224795498163,
           0.02060656251115912,
           0.019321653694032652,
           0.018037781057502852,
           0.01388155625687524,
           0.010988459508966677,
           0.009692801773500874,
           0.005966599643068116,
           0.004809327773000481,
           0.0039064009281772,
           0.003701173322030613,
           0.0025843456364659724,
           0.0010415451000577983
          ],
          "colorscale": [
           [
            0,
            "rgb(210, 251, 212)"
           ],
           [
            0.16666666666666666,
            "rgb(165, 219, 194)"
           ],
           [
            0.3333333333333333,
            "rgb(123, 188, 176)"
           ],
           [
            0.5,
            "rgb(85, 156, 158)"
           ],
           [
            0.6666666666666666,
            "rgb(58, 124, 137)"
           ],
           [
            0.8333333333333334,
            "rgb(35, 93, 114)"
           ],
           [
            1,
            "rgb(18, 63, 90)"
           ]
          ]
         },
         "name": "Propable Scoreline",
         "type": "bar",
         "visible": false,
         "x": [
          "1 - 1",
          "0 - 1",
          "1 - 2",
          "0 - 2",
          "1 - 0",
          "0 - 0",
          "2 - 1",
          "1 - 3",
          "2 - 2",
          "0 - 3",
          "2 - 0",
          "2 - 3",
          "3 - 1",
          "1 - 4",
          "Other",
          "Other",
          "Other",
          "Other",
          "Other",
          "Other",
          "Other",
          "Other",
          "Other",
          "Other",
          "Other"
         ],
         "xaxis": "x",
         "y": [
          0.1180468407149339,
          0.11068610665817878,
          0.0951506693137806,
          0.0892176111489094,
          0.07322626684223846,
          0.0686602905490117,
          0.06294853538308683,
          0.05113026781588442,
          0.05073914081688065,
          0.04794207318598969,
          0.039047942506324665,
          0.02726524024922701,
          0.022378224795498163,
          0.02060656251115912,
          0.019321653694032652,
          0.018037781057502852,
          0.01388155625687524,
          0.010988459508966677,
          0.009692801773500874,
          0.005966599643068116,
          0.004809327773000481,
          0.0039064009281772,
          0.003701173322030613,
          0.0025843456364659724,
          0.0010415451000577983
         ],
         "yaxis": "y"
        },
        {
         "fill": "toself",
         "hovertemplate": "%{theta}<br>Prob: %{r:.2f}<br>Bookmaker Odds",
         "marker": {
          "color": "rgb(82, 106, 131)"
         },
         "name": "Bookmaker Odds",
         "r": [
          0.11764705882352941,
          0.1724137931034483,
          0.7575757575757576,
          0.47619047619047616,
          0.5714285714285714,
          0.5714285714285714,
          0.5
         ],
         "subplot": "polar",
         "theta": [
          "Home",
          "Draw",
          "Away",
          "Over",
          "Under",
          "GG",
          "NG"
         ],
         "type": "scatterpolar",
         "visible": false
        },
        {
         "fill": "toself",
         "hovertemplate": "%{theta}<br>Prob: %{r:.2f}<br>Predicted Odds",
         "marker": {
          "color": "rgb(141,211,199)"
         },
         "name": "Predicted Odds",
         "r": [
          0.12901575509837165,
          0.18807119411668374,
          0.6829098587503276,
          0.5768199670881703,
          0.4231800329118297,
          0.4977746696354724,
          0.5022221383299108
         ],
         "subplot": "polar",
         "theta": [
          "Home",
          "Draw",
          "Away",
          "Over",
          "Under",
          "GG",
          "NG"
         ],
         "type": "scatterpolar",
         "visible": false
        },
        {
         "hovertemplate": "Score %{x}<br>Prob: %{y:.3f}",
         "marker": {
          "color": [
           0.11781834443708464,
           0.10831035862288528,
           0.09713834675022666,
           0.0892992447213475,
           0.08544065690723023,
           0.07044373435117883,
           0.04978483546457607,
           0.046470517097428596,
           0.04104638062405825,
           0.04004409692926065,
           0.038313806097342355,
           0.036812522870357196,
           0.029039569035192697,
           0.01692086904187794,
           0.01579439857089492,
           0.011005126554213809,
           0.01011700859889141,
           0.007980805082873542,
           0.004650281052463317,
           0.004340698591042033,
           0.002268364498671529,
           0.002085306609190494,
           0.0016449947060241611,
           0.0009585107809790412,
           0.0008946999868514169
          ],
          "colorscale": [
           [
            0,
            "rgb(210, 251, 212)"
           ],
           [
            0.16666666666666666,
            "rgb(165, 219, 194)"
           ],
           [
            0.3333333333333333,
            "rgb(123, 188, 176)"
           ],
           [
            0.5,
            "rgb(85, 156, 158)"
           ],
           [
            0.6666666666666666,
            "rgb(58, 124, 137)"
           ],
           [
            0.8333333333333334,
            "rgb(35, 93, 114)"
           ],
           [
            1,
            "rgb(18, 63, 90)"
           ]
          ]
         },
         "name": "Propable Scoreline",
         "type": "bar",
         "visible": false,
         "x": [
          "0 - 2",
          "0 - 1",
          "1 - 2",
          "1 - 1",
          "0 - 3",
          "1 - 3",
          "0 - 0",
          "0 - 4",
          "1 - 0",
          "2 - 2",
          "1 - 4",
          "2 - 1",
          "2 - 3",
          "Other",
          "Other",
          "Other",
          "Other",
          "Other",
          "Other",
          "Other",
          "Other",
          "Other",
          "Other",
          "Other",
          "Other"
         ],
         "xaxis": "x",
         "y": [
          0.11781834443708464,
          0.10831035862288528,
          0.09713834675022666,
          0.0892992447213475,
          0.08544065690723023,
          0.07044373435117883,
          0.04978483546457607,
          0.046470517097428596,
          0.04104638062405825,
          0.04004409692926065,
          0.038313806097342355,
          0.036812522870357196,
          0.029039569035192697,
          0.01692086904187794,
          0.01579439857089492,
          0.011005126554213809,
          0.01011700859889141,
          0.007980805082873542,
          0.004650281052463317,
          0.004340698591042033,
          0.002268364498671529,
          0.002085306609190494,
          0.0016449947060241611,
          0.0009585107809790412,
          0.0008946999868514169
         ],
         "yaxis": "y"
        },
        {
         "fill": "toself",
         "hovertemplate": "%{theta}<br>Prob: %{r:.2f}<br>Bookmaker Odds",
         "marker": {
          "color": "rgb(82, 106, 131)"
         },
         "name": "Bookmaker Odds",
         "r": [
          0.44052863436123346,
          0.28169014084507044,
          0.3278688524590164,
          0.5714285714285714,
          0.47619047619047616,
          0.625,
          0.4444444444444444
         ],
         "subplot": "polar",
         "theta": [
          "Home",
          "Draw",
          "Away",
          "Over",
          "Under",
          "GG",
          "NG"
         ],
         "type": "scatterpolar",
         "visible": false
        },
        {
         "fill": "toself",
         "hovertemplate": "%{theta}<br>Prob: %{r:.2f}<br>Predicted Odds",
         "marker": {
          "color": "rgb(141,211,199)"
         },
         "name": "Predicted Odds",
         "r": [
          0.5652809903011519,
          0.19682561724460168,
          0.23788749931041253,
          0.7273423922559973,
          0.2726576077440027,
          0.6927624975269758,
          0.30723160932918997
         ],
         "subplot": "polar",
         "theta": [
          "Home",
          "Draw",
          "Away",
          "Over",
          "Under",
          "GG",
          "NG"
         ],
         "type": "scatterpolar",
         "visible": false
        },
        {
         "hovertemplate": "Score %{x}<br>Prob: %{y:.3f}",
         "marker": {
          "color": [
           0.08962827154602573,
           0.07754570046007472,
           0.06906230358500337,
           0.0656624613287041,
           0.06117062091317335,
           0.05681066330786236,
           0.052924357063539276,
           0.05059565202139154,
           0.047134502530480404,
           0.039911528702340535,
           0.033545975818331374,
           0.032069931755327866,
           0.029239537534104156,
           0.027746661614428576,
           0.02723931802101529,
           0.024711213600715726,
           0.02457607741295886,
           0.022894876075925163,
           0.014280761858467703,
           0.01200310054631941,
           0.0117473572644823,
           0.01016372436861325,
           0.009051826390566446,
           0.005231105973044102,
           0.004396788601699824
          ],
          "colorscale": [
           [
            0,
            "rgb(210, 251, 212)"
           ],
           [
            0.16666666666666666,
            "rgb(165, 219, 194)"
           ],
           [
            0.3333333333333333,
            "rgb(123, 188, 176)"
           ],
           [
            0.5,
            "rgb(85, 156, 158)"
           ],
           [
            0.6666666666666666,
            "rgb(58, 124, 137)"
           ],
           [
            0.8333333333333334,
            "rgb(35, 93, 114)"
           ],
           [
            1,
            "rgb(18, 63, 90)"
           ]
          ]
         },
         "name": "Propable Scoreline",
         "type": "bar",
         "visible": false,
         "x": [
          "2 - 1",
          "1 - 1",
          "3 - 1",
          "2 - 2",
          "2 - 0",
          "1 - 2",
          "1 - 0",
          "3 - 2",
          "3 - 0",
          "4 - 1",
          "0 - 1",
          "2 - 3",
          "4 - 2",
          "1 - 3",
          "4 - 0",
          "3 - 3",
          "0 - 2",
          "0 - 0",
          "Other",
          "Other",
          "Other",
          "Other",
          "Other",
          "Other",
          "Other"
         ],
         "xaxis": "x",
         "y": [
          0.08962827154602573,
          0.07754570046007472,
          0.06906230358500337,
          0.0656624613287041,
          0.06117062091317335,
          0.05681066330786236,
          0.052924357063539276,
          0.05059565202139154,
          0.047134502530480404,
          0.039911528702340535,
          0.033545975818331374,
          0.032069931755327866,
          0.029239537534104156,
          0.027746661614428576,
          0.02723931802101529,
          0.024711213600715726,
          0.02457607741295886,
          0.022894876075925163,
          0.014280761858467703,
          0.01200310054631941,
          0.0117473572644823,
          0.01016372436861325,
          0.009051826390566446,
          0.005231105973044102,
          0.004396788601699824
         ],
         "yaxis": "y"
        }
       ],
       "layout": {
        "height": 650,
        "polar": {
         "domain": {
          "x": [
           0,
           0.29700000000000004
          ],
          "y": [
           0,
           1
          ]
         }
        },
        "template": {
         "data": {
          "bar": [
           {
            "error_x": {
             "color": "#2a3f5f"
            },
            "error_y": {
             "color": "#2a3f5f"
            },
            "marker": {
             "line": {
              "color": "#E5ECF6",
              "width": 0.5
             },
             "pattern": {
              "fillmode": "overlay",
              "size": 10,
              "solidity": 0.2
             }
            },
            "type": "bar"
           }
          ],
          "barpolar": [
           {
            "marker": {
             "line": {
              "color": "#E5ECF6",
              "width": 0.5
             },
             "pattern": {
              "fillmode": "overlay",
              "size": 10,
              "solidity": 0.2
             }
            },
            "type": "barpolar"
           }
          ],
          "carpet": [
           {
            "aaxis": {
             "endlinecolor": "#2a3f5f",
             "gridcolor": "white",
             "linecolor": "white",
             "minorgridcolor": "white",
             "startlinecolor": "#2a3f5f"
            },
            "baxis": {
             "endlinecolor": "#2a3f5f",
             "gridcolor": "white",
             "linecolor": "white",
             "minorgridcolor": "white",
             "startlinecolor": "#2a3f5f"
            },
            "type": "carpet"
           }
          ],
          "choropleth": [
           {
            "colorbar": {
             "outlinewidth": 0,
             "ticks": ""
            },
            "type": "choropleth"
           }
          ],
          "contour": [
           {
            "colorbar": {
             "outlinewidth": 0,
             "ticks": ""
            },
            "colorscale": [
             [
              0,
              "#0d0887"
             ],
             [
              0.1111111111111111,
              "#46039f"
             ],
             [
              0.2222222222222222,
              "#7201a8"
             ],
             [
              0.3333333333333333,
              "#9c179e"
             ],
             [
              0.4444444444444444,
              "#bd3786"
             ],
             [
              0.5555555555555556,
              "#d8576b"
             ],
             [
              0.6666666666666666,
              "#ed7953"
             ],
             [
              0.7777777777777778,
              "#fb9f3a"
             ],
             [
              0.8888888888888888,
              "#fdca26"
             ],
             [
              1,
              "#f0f921"
             ]
            ],
            "type": "contour"
           }
          ],
          "contourcarpet": [
           {
            "colorbar": {
             "outlinewidth": 0,
             "ticks": ""
            },
            "type": "contourcarpet"
           }
          ],
          "heatmap": [
           {
            "colorbar": {
             "outlinewidth": 0,
             "ticks": ""
            },
            "colorscale": [
             [
              0,
              "#0d0887"
             ],
             [
              0.1111111111111111,
              "#46039f"
             ],
             [
              0.2222222222222222,
              "#7201a8"
             ],
             [
              0.3333333333333333,
              "#9c179e"
             ],
             [
              0.4444444444444444,
              "#bd3786"
             ],
             [
              0.5555555555555556,
              "#d8576b"
             ],
             [
              0.6666666666666666,
              "#ed7953"
             ],
             [
              0.7777777777777778,
              "#fb9f3a"
             ],
             [
              0.8888888888888888,
              "#fdca26"
             ],
             [
              1,
              "#f0f921"
             ]
            ],
            "type": "heatmap"
           }
          ],
          "heatmapgl": [
           {
            "colorbar": {
             "outlinewidth": 0,
             "ticks": ""
            },
            "colorscale": [
             [
              0,
              "#0d0887"
             ],
             [
              0.1111111111111111,
              "#46039f"
             ],
             [
              0.2222222222222222,
              "#7201a8"
             ],
             [
              0.3333333333333333,
              "#9c179e"
             ],
             [
              0.4444444444444444,
              "#bd3786"
             ],
             [
              0.5555555555555556,
              "#d8576b"
             ],
             [
              0.6666666666666666,
              "#ed7953"
             ],
             [
              0.7777777777777778,
              "#fb9f3a"
             ],
             [
              0.8888888888888888,
              "#fdca26"
             ],
             [
              1,
              "#f0f921"
             ]
            ],
            "type": "heatmapgl"
           }
          ],
          "histogram": [
           {
            "marker": {
             "pattern": {
              "fillmode": "overlay",
              "size": 10,
              "solidity": 0.2
             }
            },
            "type": "histogram"
           }
          ],
          "histogram2d": [
           {
            "colorbar": {
             "outlinewidth": 0,
             "ticks": ""
            },
            "colorscale": [
             [
              0,
              "#0d0887"
             ],
             [
              0.1111111111111111,
              "#46039f"
             ],
             [
              0.2222222222222222,
              "#7201a8"
             ],
             [
              0.3333333333333333,
              "#9c179e"
             ],
             [
              0.4444444444444444,
              "#bd3786"
             ],
             [
              0.5555555555555556,
              "#d8576b"
             ],
             [
              0.6666666666666666,
              "#ed7953"
             ],
             [
              0.7777777777777778,
              "#fb9f3a"
             ],
             [
              0.8888888888888888,
              "#fdca26"
             ],
             [
              1,
              "#f0f921"
             ]
            ],
            "type": "histogram2d"
           }
          ],
          "histogram2dcontour": [
           {
            "colorbar": {
             "outlinewidth": 0,
             "ticks": ""
            },
            "colorscale": [
             [
              0,
              "#0d0887"
             ],
             [
              0.1111111111111111,
              "#46039f"
             ],
             [
              0.2222222222222222,
              "#7201a8"
             ],
             [
              0.3333333333333333,
              "#9c179e"
             ],
             [
              0.4444444444444444,
              "#bd3786"
             ],
             [
              0.5555555555555556,
              "#d8576b"
             ],
             [
              0.6666666666666666,
              "#ed7953"
             ],
             [
              0.7777777777777778,
              "#fb9f3a"
             ],
             [
              0.8888888888888888,
              "#fdca26"
             ],
             [
              1,
              "#f0f921"
             ]
            ],
            "type": "histogram2dcontour"
           }
          ],
          "mesh3d": [
           {
            "colorbar": {
             "outlinewidth": 0,
             "ticks": ""
            },
            "type": "mesh3d"
           }
          ],
          "parcoords": [
           {
            "line": {
             "colorbar": {
              "outlinewidth": 0,
              "ticks": ""
             }
            },
            "type": "parcoords"
           }
          ],
          "pie": [
           {
            "automargin": true,
            "type": "pie"
           }
          ],
          "scatter": [
           {
            "fillpattern": {
             "fillmode": "overlay",
             "size": 10,
             "solidity": 0.2
            },
            "type": "scatter"
           }
          ],
          "scatter3d": [
           {
            "line": {
             "colorbar": {
              "outlinewidth": 0,
              "ticks": ""
             }
            },
            "marker": {
             "colorbar": {
              "outlinewidth": 0,
              "ticks": ""
             }
            },
            "type": "scatter3d"
           }
          ],
          "scattercarpet": [
           {
            "marker": {
             "colorbar": {
              "outlinewidth": 0,
              "ticks": ""
             }
            },
            "type": "scattercarpet"
           }
          ],
          "scattergeo": [
           {
            "marker": {
             "colorbar": {
              "outlinewidth": 0,
              "ticks": ""
             }
            },
            "type": "scattergeo"
           }
          ],
          "scattergl": [
           {
            "marker": {
             "colorbar": {
              "outlinewidth": 0,
              "ticks": ""
             }
            },
            "type": "scattergl"
           }
          ],
          "scattermapbox": [
           {
            "marker": {
             "colorbar": {
              "outlinewidth": 0,
              "ticks": ""
             }
            },
            "type": "scattermapbox"
           }
          ],
          "scatterpolar": [
           {
            "marker": {
             "colorbar": {
              "outlinewidth": 0,
              "ticks": ""
             }
            },
            "type": "scatterpolar"
           }
          ],
          "scatterpolargl": [
           {
            "marker": {
             "colorbar": {
              "outlinewidth": 0,
              "ticks": ""
             }
            },
            "type": "scatterpolargl"
           }
          ],
          "scatterternary": [
           {
            "marker": {
             "colorbar": {
              "outlinewidth": 0,
              "ticks": ""
             }
            },
            "type": "scatterternary"
           }
          ],
          "surface": [
           {
            "colorbar": {
             "outlinewidth": 0,
             "ticks": ""
            },
            "colorscale": [
             [
              0,
              "#0d0887"
             ],
             [
              0.1111111111111111,
              "#46039f"
             ],
             [
              0.2222222222222222,
              "#7201a8"
             ],
             [
              0.3333333333333333,
              "#9c179e"
             ],
             [
              0.4444444444444444,
              "#bd3786"
             ],
             [
              0.5555555555555556,
              "#d8576b"
             ],
             [
              0.6666666666666666,
              "#ed7953"
             ],
             [
              0.7777777777777778,
              "#fb9f3a"
             ],
             [
              0.8888888888888888,
              "#fdca26"
             ],
             [
              1,
              "#f0f921"
             ]
            ],
            "type": "surface"
           }
          ],
          "table": [
           {
            "cells": {
             "fill": {
              "color": "#EBF0F8"
             },
             "line": {
              "color": "white"
             }
            },
            "header": {
             "fill": {
              "color": "#C8D4E3"
             },
             "line": {
              "color": "white"
             }
            },
            "type": "table"
           }
          ]
         },
         "layout": {
          "annotationdefaults": {
           "arrowcolor": "#2a3f5f",
           "arrowhead": 0,
           "arrowwidth": 1
          },
          "autotypenumbers": "strict",
          "coloraxis": {
           "colorbar": {
            "outlinewidth": 0,
            "ticks": ""
           }
          },
          "colorscale": {
           "diverging": [
            [
             0,
             "#8e0152"
            ],
            [
             0.1,
             "#c51b7d"
            ],
            [
             0.2,
             "#de77ae"
            ],
            [
             0.3,
             "#f1b6da"
            ],
            [
             0.4,
             "#fde0ef"
            ],
            [
             0.5,
             "#f7f7f7"
            ],
            [
             0.6,
             "#e6f5d0"
            ],
            [
             0.7,
             "#b8e186"
            ],
            [
             0.8,
             "#7fbc41"
            ],
            [
             0.9,
             "#4d9221"
            ],
            [
             1,
             "#276419"
            ]
           ],
           "sequential": [
            [
             0,
             "#0d0887"
            ],
            [
             0.1111111111111111,
             "#46039f"
            ],
            [
             0.2222222222222222,
             "#7201a8"
            ],
            [
             0.3333333333333333,
             "#9c179e"
            ],
            [
             0.4444444444444444,
             "#bd3786"
            ],
            [
             0.5555555555555556,
             "#d8576b"
            ],
            [
             0.6666666666666666,
             "#ed7953"
            ],
            [
             0.7777777777777778,
             "#fb9f3a"
            ],
            [
             0.8888888888888888,
             "#fdca26"
            ],
            [
             1,
             "#f0f921"
            ]
           ],
           "sequentialminus": [
            [
             0,
             "#0d0887"
            ],
            [
             0.1111111111111111,
             "#46039f"
            ],
            [
             0.2222222222222222,
             "#7201a8"
            ],
            [
             0.3333333333333333,
             "#9c179e"
            ],
            [
             0.4444444444444444,
             "#bd3786"
            ],
            [
             0.5555555555555556,
             "#d8576b"
            ],
            [
             0.6666666666666666,
             "#ed7953"
            ],
            [
             0.7777777777777778,
             "#fb9f3a"
            ],
            [
             0.8888888888888888,
             "#fdca26"
            ],
            [
             1,
             "#f0f921"
            ]
           ]
          },
          "colorway": [
           "#636efa",
           "#EF553B",
           "#00cc96",
           "#ab63fa",
           "#FFA15A",
           "#19d3f3",
           "#FF6692",
           "#B6E880",
           "#FF97FF",
           "#FECB52"
          ],
          "font": {
           "color": "#2a3f5f"
          },
          "geo": {
           "bgcolor": "white",
           "lakecolor": "white",
           "landcolor": "#E5ECF6",
           "showlakes": true,
           "showland": true,
           "subunitcolor": "white"
          },
          "hoverlabel": {
           "align": "left"
          },
          "hovermode": "closest",
          "mapbox": {
           "style": "light"
          },
          "paper_bgcolor": "white",
          "plot_bgcolor": "#E5ECF6",
          "polar": {
           "angularaxis": {
            "gridcolor": "white",
            "linecolor": "white",
            "ticks": ""
           },
           "bgcolor": "#E5ECF6",
           "radialaxis": {
            "gridcolor": "white",
            "linecolor": "white",
            "ticks": ""
           }
          },
          "scene": {
           "xaxis": {
            "backgroundcolor": "#E5ECF6",
            "gridcolor": "white",
            "gridwidth": 2,
            "linecolor": "white",
            "showbackground": true,
            "ticks": "",
            "zerolinecolor": "white"
           },
           "yaxis": {
            "backgroundcolor": "#E5ECF6",
            "gridcolor": "white",
            "gridwidth": 2,
            "linecolor": "white",
            "showbackground": true,
            "ticks": "",
            "zerolinecolor": "white"
           },
           "zaxis": {
            "backgroundcolor": "#E5ECF6",
            "gridcolor": "white",
            "gridwidth": 2,
            "linecolor": "white",
            "showbackground": true,
            "ticks": "",
            "zerolinecolor": "white"
           }
          },
          "shapedefaults": {
           "line": {
            "color": "#2a3f5f"
           }
          },
          "ternary": {
           "aaxis": {
            "gridcolor": "white",
            "linecolor": "white",
            "ticks": ""
           },
           "baxis": {
            "gridcolor": "white",
            "linecolor": "white",
            "ticks": ""
           },
           "bgcolor": "#E5ECF6",
           "caxis": {
            "gridcolor": "white",
            "linecolor": "white",
            "ticks": ""
           }
          },
          "title": {
           "x": 0.05
          },
          "xaxis": {
           "automargin": true,
           "gridcolor": "white",
           "linecolor": "white",
           "ticks": "",
           "title": {
            "standoff": 15
           },
           "zerolinecolor": "white",
           "zerolinewidth": 2
          },
          "yaxis": {
           "automargin": true,
           "gridcolor": "white",
           "linecolor": "white",
           "ticks": "",
           "title": {
            "standoff": 15
           },
           "zerolinecolor": "white",
           "zerolinewidth": 2
          }
         }
        },
        "updatemenus": [
         {
          "active": 0,
          "buttons": [
           {
            "args": [
             {
              "visible": [
               true,
               true,
               true,
               false,
               false,
               false,
               false,
               false,
               false,
               false,
               false,
               false,
               false,
               false,
               false,
               false,
               false,
               false,
               false,
               false,
               false,
               false,
               false,
               false,
               false,
               false,
               false,
               false,
               false,
               false,
               false,
               false,
               false,
               false,
               false,
               false,
               false,
               false,
               false,
               false,
               false,
               false,
               false,
               false,
               false,
               false,
               false,
               false,
               false,
               false,
               false,
               false,
               false,
               false,
               false,
               false,
               false,
               false,
               false,
               false
              ]
             }
            ],
            "label": "<b>Crystal Palace-Tottenham | '27/10/2023'</b>",
            "method": "restyle"
           },
           {
            "args": [
             {
              "visible": [
               false,
               false,
               false,
               true,
               true,
               true,
               false,
               false,
               false,
               false,
               false,
               false,
               false,
               false,
               false,
               false,
               false,
               false,
               false,
               false,
               false,
               false,
               false,
               false,
               false,
               false,
               false,
               false,
               false,
               false,
               false,
               false,
               false,
               false,
               false,
               false,
               false,
               false,
               false,
               false,
               false,
               false,
               false,
               false,
               false,
               false,
               false,
               false,
               false,
               false,
               false,
               false,
               false,
               false,
               false,
               false,
               false,
               false,
               false,
               false
              ]
             }
            ],
            "label": "<b>Chelsea-Brentford | '28/10/2023'</b>",
            "method": "restyle"
           },
           {
            "args": [
             {
              "visible": [
               false,
               false,
               false,
               false,
               false,
               false,
               true,
               true,
               true,
               false,
               false,
               false,
               false,
               false,
               false,
               false,
               false,
               false,
               false,
               false,
               false,
               false,
               false,
               false,
               false,
               false,
               false,
               false,
               false,
               false,
               false,
               false,
               false,
               false,
               false,
               false,
               false,
               false,
               false,
               false,
               false,
               false,
               false,
               false,
               false,
               false,
               false,
               false,
               false,
               false,
               false,
               false,
               false,
               false,
               false,
               false,
               false,
               false,
               false,
               false
              ]
             }
            ],
            "label": "<b>Arsenal-Sheffield United | '28/10/2023'</b>",
            "method": "restyle"
           },
           {
            "args": [
             {
              "visible": [
               false,
               false,
               false,
               false,
               false,
               false,
               false,
               false,
               false,
               true,
               true,
               true,
               false,
               false,
               false,
               false,
               false,
               false,
               false,
               false,
               false,
               false,
               false,
               false,
               false,
               false,
               false,
               false,
               false,
               false,
               false,
               false,
               false,
               false,
               false,
               false,
               false,
               false,
               false,
               false,
               false,
               false,
               false,
               false,
               false,
               false,
               false,
               false,
               false,
               false,
               false,
               false,
               false,
               false,
               false,
               false,
               false,
               false,
               false,
               false
              ]
             }
            ],
            "label": "<b>Bournemouth-Burnley | '28/10/2023'</b>",
            "method": "restyle"
           },
           {
            "args": [
             {
              "visible": [
               false,
               false,
               false,
               false,
               false,
               false,
               false,
               false,
               false,
               false,
               false,
               false,
               true,
               true,
               true,
               false,
               false,
               false,
               false,
               false,
               false,
               false,
               false,
               false,
               false,
               false,
               false,
               false,
               false,
               false,
               false,
               false,
               false,
               false,
               false,
               false,
               false,
               false,
               false,
               false,
               false,
               false,
               false,
               false,
               false,
               false,
               false,
               false,
               false,
               false,
               false,
               false,
               false,
               false,
               false,
               false,
               false,
               false,
               false,
               false
              ]
             }
            ],
            "label": "<b>Wolverhampton Wanderers-Newcastle United | '28/10/2023'</b>",
            "method": "restyle"
           },
           {
            "args": [
             {
              "visible": [
               false,
               false,
               false,
               false,
               false,
               false,
               false,
               false,
               false,
               false,
               false,
               false,
               false,
               false,
               false,
               true,
               true,
               true,
               false,
               false,
               false,
               false,
               false,
               false,
               false,
               false,
               false,
               false,
               false,
               false,
               false,
               false,
               false,
               false,
               false,
               false,
               false,
               false,
               false,
               false,
               false,
               false,
               false,
               false,
               false,
               false,
               false,
               false,
               false,
               false,
               false,
               false,
               false,
               false,
               false,
               false,
               false,
               false,
               false,
               false
              ]
             }
            ],
            "label": "<b>West Ham-Everton | '29/10/2023'</b>",
            "method": "restyle"
           },
           {
            "args": [
             {
              "visible": [
               false,
               false,
               false,
               false,
               false,
               false,
               false,
               false,
               false,
               false,
               false,
               false,
               false,
               false,
               false,
               false,
               false,
               false,
               true,
               true,
               true,
               false,
               false,
               false,
               false,
               false,
               false,
               false,
               false,
               false,
               false,
               false,
               false,
               false,
               false,
               false,
               false,
               false,
               false,
               false,
               false,
               false,
               false,
               false,
               false,
               false,
               false,
               false,
               false,
               false,
               false,
               false,
               false,
               false,
               false,
               false,
               false,
               false,
               false,
               false
              ]
             }
            ],
            "label": "<b>Brighton-Fulham | '29/10/2023'</b>",
            "method": "restyle"
           },
           {
            "args": [
             {
              "visible": [
               false,
               false,
               false,
               false,
               false,
               false,
               false,
               false,
               false,
               false,
               false,
               false,
               false,
               false,
               false,
               false,
               false,
               false,
               false,
               false,
               false,
               true,
               true,
               true,
               false,
               false,
               false,
               false,
               false,
               false,
               false,
               false,
               false,
               false,
               false,
               false,
               false,
               false,
               false,
               false,
               false,
               false,
               false,
               false,
               false,
               false,
               false,
               false,
               false,
               false,
               false,
               false,
               false,
               false,
               false,
               false,
               false,
               false,
               false,
               false
              ]
             }
            ],
            "label": "<b>Aston Villa-Luton | '29/10/2023'</b>",
            "method": "restyle"
           },
           {
            "args": [
             {
              "visible": [
               false,
               false,
               false,
               false,
               false,
               false,
               false,
               false,
               false,
               false,
               false,
               false,
               false,
               false,
               false,
               false,
               false,
               false,
               false,
               false,
               false,
               false,
               false,
               false,
               true,
               true,
               true,
               false,
               false,
               false,
               false,
               false,
               false,
               false,
               false,
               false,
               false,
               false,
               false,
               false,
               false,
               false,
               false,
               false,
               false,
               false,
               false,
               false,
               false,
               false,
               false,
               false,
               false,
               false,
               false,
               false,
               false,
               false,
               false,
               false
              ]
             }
            ],
            "label": "<b>Liverpool-Nottingham Forest | '29/10/2023'</b>",
            "method": "restyle"
           },
           {
            "args": [
             {
              "visible": [
               false,
               false,
               false,
               false,
               false,
               false,
               false,
               false,
               false,
               false,
               false,
               false,
               false,
               false,
               false,
               false,
               false,
               false,
               false,
               false,
               false,
               false,
               false,
               false,
               false,
               false,
               false,
               true,
               true,
               true,
               false,
               false,
               false,
               false,
               false,
               false,
               false,
               false,
               false,
               false,
               false,
               false,
               false,
               false,
               false,
               false,
               false,
               false,
               false,
               false,
               false,
               false,
               false,
               false,
               false,
               false,
               false,
               false,
               false,
               false
              ]
             }
            ],
            "label": "<b>Manchester United-Manchester City | '29/10/2023'</b>",
            "method": "restyle"
           },
           {
            "args": [
             {
              "visible": [
               false,
               false,
               false,
               false,
               false,
               false,
               false,
               false,
               false,
               false,
               false,
               false,
               false,
               false,
               false,
               false,
               false,
               false,
               false,
               false,
               false,
               false,
               false,
               false,
               false,
               false,
               false,
               false,
               false,
               false,
               true,
               true,
               true,
               false,
               false,
               false,
               false,
               false,
               false,
               false,
               false,
               false,
               false,
               false,
               false,
               false,
               false,
               false,
               false,
               false,
               false,
               false,
               false,
               false,
               false,
               false,
               false,
               false,
               false,
               false
              ]
             }
            ],
            "label": "<b>Fulham-Manchester United | '04/11/2023'</b>",
            "method": "restyle"
           },
           {
            "args": [
             {
              "visible": [
               false,
               false,
               false,
               false,
               false,
               false,
               false,
               false,
               false,
               false,
               false,
               false,
               false,
               false,
               false,
               false,
               false,
               false,
               false,
               false,
               false,
               false,
               false,
               false,
               false,
               false,
               false,
               false,
               false,
               false,
               false,
               false,
               false,
               true,
               true,
               true,
               false,
               false,
               false,
               false,
               false,
               false,
               false,
               false,
               false,
               false,
               false,
               false,
               false,
               false,
               false,
               false,
               false,
               false,
               false,
               false,
               false,
               false,
               false,
               false
              ]
             }
            ],
            "label": "<b>Brentford-West Ham | '04/11/2023'</b>",
            "method": "restyle"
           },
           {
            "args": [
             {
              "visible": [
               false,
               false,
               false,
               false,
               false,
               false,
               false,
               false,
               false,
               false,
               false,
               false,
               false,
               false,
               false,
               false,
               false,
               false,
               false,
               false,
               false,
               false,
               false,
               false,
               false,
               false,
               false,
               false,
               false,
               false,
               false,
               false,
               false,
               false,
               false,
               false,
               true,
               true,
               true,
               false,
               false,
               false,
               false,
               false,
               false,
               false,
               false,
               false,
               false,
               false,
               false,
               false,
               false,
               false,
               false,
               false,
               false,
               false,
               false,
               false
              ]
             }
            ],
            "label": "<b>Burnley-Crystal Palace | '04/11/2023'</b>",
            "method": "restyle"
           },
           {
            "args": [
             {
              "visible": [
               false,
               false,
               false,
               false,
               false,
               false,
               false,
               false,
               false,
               false,
               false,
               false,
               false,
               false,
               false,
               false,
               false,
               false,
               false,
               false,
               false,
               false,
               false,
               false,
               false,
               false,
               false,
               false,
               false,
               false,
               false,
               false,
               false,
               false,
               false,
               false,
               false,
               false,
               false,
               true,
               true,
               true,
               false,
               false,
               false,
               false,
               false,
               false,
               false,
               false,
               false,
               false,
               false,
               false,
               false,
               false,
               false,
               false,
               false,
               false
              ]
             }
            ],
            "label": "<b>Manchester City-Bournemouth | '04/11/2023'</b>",
            "method": "restyle"
           },
           {
            "args": [
             {
              "visible": [
               false,
               false,
               false,
               false,
               false,
               false,
               false,
               false,
               false,
               false,
               false,
               false,
               false,
               false,
               false,
               false,
               false,
               false,
               false,
               false,
               false,
               false,
               false,
               false,
               false,
               false,
               false,
               false,
               false,
               false,
               false,
               false,
               false,
               false,
               false,
               false,
               false,
               false,
               false,
               false,
               false,
               false,
               true,
               true,
               true,
               false,
               false,
               false,
               false,
               false,
               false,
               false,
               false,
               false,
               false,
               false,
               false,
               false,
               false,
               false
              ]
             }
            ],
            "label": "<b>Everton-Brighton | '04/11/2023'</b>",
            "method": "restyle"
           },
           {
            "args": [
             {
              "visible": [
               false,
               false,
               false,
               false,
               false,
               false,
               false,
               false,
               false,
               false,
               false,
               false,
               false,
               false,
               false,
               false,
               false,
               false,
               false,
               false,
               false,
               false,
               false,
               false,
               false,
               false,
               false,
               false,
               false,
               false,
               false,
               false,
               false,
               false,
               false,
               false,
               false,
               false,
               false,
               false,
               false,
               false,
               false,
               false,
               false,
               true,
               true,
               true,
               false,
               false,
               false,
               false,
               false,
               false,
               false,
               false,
               false,
               false,
               false,
               false
              ]
             }
            ],
            "label": "<b>Sheffield United-Wolverhampton Wanderers | '04/11/2023'</b>",
            "method": "restyle"
           },
           {
            "args": [
             {
              "visible": [
               false,
               false,
               false,
               false,
               false,
               false,
               false,
               false,
               false,
               false,
               false,
               false,
               false,
               false,
               false,
               false,
               false,
               false,
               false,
               false,
               false,
               false,
               false,
               false,
               false,
               false,
               false,
               false,
               false,
               false,
               false,
               false,
               false,
               false,
               false,
               false,
               false,
               false,
               false,
               false,
               false,
               false,
               false,
               false,
               false,
               false,
               false,
               false,
               true,
               true,
               true,
               false,
               false,
               false,
               false,
               false,
               false,
               false,
               false,
               false
              ]
             }
            ],
            "label": "<b>Newcastle United-Arsenal | '04/11/2023'</b>",
            "method": "restyle"
           },
           {
            "args": [
             {
              "visible": [
               false,
               false,
               false,
               false,
               false,
               false,
               false,
               false,
               false,
               false,
               false,
               false,
               false,
               false,
               false,
               false,
               false,
               false,
               false,
               false,
               false,
               false,
               false,
               false,
               false,
               false,
               false,
               false,
               false,
               false,
               false,
               false,
               false,
               false,
               false,
               false,
               false,
               false,
               false,
               false,
               false,
               false,
               false,
               false,
               false,
               false,
               false,
               false,
               false,
               false,
               false,
               true,
               true,
               true,
               false,
               false,
               false,
               false,
               false,
               false
              ]
             }
            ],
            "label": "<b>Nottingham Forest-Aston Villa | '05/11/2023'</b>",
            "method": "restyle"
           },
           {
            "args": [
             {
              "visible": [
               false,
               false,
               false,
               false,
               false,
               false,
               false,
               false,
               false,
               false,
               false,
               false,
               false,
               false,
               false,
               false,
               false,
               false,
               false,
               false,
               false,
               false,
               false,
               false,
               false,
               false,
               false,
               false,
               false,
               false,
               false,
               false,
               false,
               false,
               false,
               false,
               false,
               false,
               false,
               false,
               false,
               false,
               false,
               false,
               false,
               false,
               false,
               false,
               false,
               false,
               false,
               false,
               false,
               false,
               true,
               true,
               true,
               false,
               false,
               false
              ]
             }
            ],
            "label": "<b>Luton-Liverpool | '05/11/2023'</b>",
            "method": "restyle"
           },
           {
            "args": [
             {
              "visible": [
               false,
               false,
               false,
               false,
               false,
               false,
               false,
               false,
               false,
               false,
               false,
               false,
               false,
               false,
               false,
               false,
               false,
               false,
               false,
               false,
               false,
               false,
               false,
               false,
               false,
               false,
               false,
               false,
               false,
               false,
               false,
               false,
               false,
               false,
               false,
               false,
               false,
               false,
               false,
               false,
               false,
               false,
               false,
               false,
               false,
               false,
               false,
               false,
               false,
               false,
               false,
               false,
               false,
               false,
               false,
               false,
               false,
               true,
               true,
               true
              ]
             }
            ],
            "label": "<b>Tottenham-Chelsea | '06/11/2023'</b>",
            "method": "restyle"
           }
          ],
          "direction": "down",
          "x": 0.1,
          "y": 1.2
         }
        ],
        "width": 1500,
        "xaxis": {
         "anchor": "y",
         "domain": [
          0.397,
          1
         ]
        },
        "yaxis": {
         "anchor": "x",
         "domain": [
          0,
          1
         ]
        }
       }
      }
     },
     "metadata": {},
     "output_type": "display_data"
    }
   ],
   "source": [
    "# Create subplots\n",
    "fig = make_subplots(rows=1, cols=2, specs=[[{'type': 'polar'}, {'type': 'xy'}]], column_widths=[0.33, 0.67])\n",
    "fig.update_layout(width=1500, height=650)\n",
    "# create a list to store the buttons\n",
    "buttons = []\n",
    "categories = ['Home', 'Draw', 'Away', 'Over', 'Under', 'GG', 'NG']\n",
    "\n",
    "# loop through each match and create two traces for Bookmaker odds and predicted values\n",
    "for match_index, match in enumerate(Final_Odds['Match'].unique().tolist()):\n",
    "\n",
    "    # create the trace for Bookmaker odds\n",
    "    trace_bookmaker = go.Scatterpolar(\n",
    "      r=Final_Odds[(Final_Odds['Type']=='Bookmaker')  & (Final_Odds['Match']==match)][['P(Hwin)', 'P(Draw)', 'P(Awin)', 'P(Over)', 'P(Under)', 'P(GG)', 'P(NG)']].values.tolist()[0],\n",
    "      theta=categories,\n",
    "      fill='toself',\n",
    "      name='Bookmaker Odds',\n",
    "      marker = dict(color = 'rgb(82, 106, 131)' ),\n",
    "      visible=False if match_index!=0 else True,\n",
    "      hovertemplate='%{theta}<br>Prob: %{r:.2f}<br>Bookmaker Odds'\n",
    ")\n",
    "    fig.add_trace(trace_bookmaker, row=1, col=1)\n",
    "    # create the trace for predicted values\n",
    "    trace_predicted = go.Scatterpolar(\n",
    "        r= Final_Odds[(Final_Odds['Type']=='Predicted')  & (Final_Odds['Match']==match)][['P(Hwin)', 'P(Draw)', 'P(Awin)', 'P(Over)', 'P(Under)', 'P(GG)', 'P(NG)']].values.tolist()[0],\n",
    "        theta=categories,\n",
    "        fill='toself',\n",
    "        name='Predicted Odds',\n",
    "        marker = dict(color ='rgb(141,211,199)'), #'rgb(217, 175, 107)'\n",
    "        visible=False if match_index!=0 else True,\n",
    "        hovertemplate='%{theta}<br>Prob: %{r:.2f}<br>Predicted Odds'\n",
    "  )\n",
    "    fig.add_trace(trace_predicted, row=1, col=1)\n",
    "    \n",
    "    trace_goals = go.Bar(\n",
    "        x=Pie_list[match_index]['score'],\n",
    "        y=Pie_list[match_index]['P(score)'],\n",
    "        visible=False if match_index!=0 else True,\n",
    "        marker=dict(color=Pie_list[match_index]['P(score)'], colorscale='darkmint'),\n",
    "        name='Propable Scoreline',\n",
    "        hovertemplate='Score %{x}<br>Prob: %{y:.3f}'\n",
    "    )\n",
    "    fig.add_trace(trace_goals, row=1, col=2)\n",
    "    \n",
    "    # create the dictionary for the button\n",
    "    button_dict = dict(\n",
    "        method=\"restyle\",\n",
    "        args=[{\"visible\": [False] * (len(Final_Odds['Match'].unique().tolist()) * 3)}], # set all traces to false initially\n",
    "        label= f\"<b>{match} | {str(Final_Odds[(Final_Odds['Type']=='Predicted')  & (Final_Odds['Match']==match)]['Date'].values).strip('[]')}</b>\" \n",
    "    )\n",
    "    \n",
    "    # set visibility to true for the corresponding traces\n",
    "    button_dict[\"args\"][0][\"visible\"][3*match_index] = True # Bookmaker odds trace\n",
    "    button_dict[\"args\"][0][\"visible\"][3*match_index+1] = True # Predicted trace\n",
    "    button_dict[\"args\"][0][\"visible\"][3*match_index+2] = True # Goal trace\n",
    "    \n",
    "    # set visibility to true for the corresponding traces for the first match\n",
    "    if match_index == 0:\n",
    "        button_dict[\"args\"][0][\"visible\"][0] = True # Bookmaker odds trace\n",
    "        button_dict[\"args\"][0][\"visible\"][1] = True # Predicted trace\n",
    "        button_dict[\"args\"][0][\"visible\"][2] = True\n",
    "        \n",
    "    # append the button to the list\n",
    "    buttons.append(button_dict)\n",
    "\n",
    "\n",
    "# update the layout with the buttons\n",
    "fig.update_layout(\n",
    "    updatemenus=[go.layout.Updatemenu(\n",
    "        buttons=buttons,\n",
    "        active=0, # set the initial active button\n",
    "        x=0.1,\n",
    "        y=1.2,\n",
    "        direction=\"down\",\n",
    "    )],\n",
    "    \n",
    ")\n",
    "\n",
    "# show the plot\n",
    "fig.show()\n",
    "# Save the interactive figure as an HTML file\n",
    "fig.write_html('UpcomingMatchesPredictionFigure.html')\n"
   ]
  },
  {
   "cell_type": "code",
   "execution_count": 8,
   "metadata": {},
   "outputs": [],
   "source": [
    "images_path = '/home/nickpad/Documents/EnglishPremierLeaguePredictor/GatheredData/Logos'\n",
    "team_color = {\"Liverpool\": \"red\",\n",
    "              \"West Ham\": \"brown\",\n",
    "              \"Brentford\": \"#ff8d33\",\n",
    "              \"Everton\": \"blue\",\n",
    "              \"Crystal Palace\": \"#1711e0\",\n",
    "              \"Fulham\": \"black\",\n",
    "              \"Luton\": \"#e0ae11\",\n",
    "              \"Wolverhampton Wanderers\": \"#e09211\",\n",
    "              \"Manchester City\": \"#0bdeef\",\n",
    "              \"Nottingham Forest\": \"#ef2a0b\",\n",
    "              \"Burnley\": \"#8e2b4e\",\n",
    "              \"Manchester United\": \"#d12f07\",\n",
    "              \"Arsenal\": \"#ff0101\",\n",
    "              \"Tottenham\": \"#a5bfcc\",\n",
    "              \"Brighton\": \"#228bbf\",\n",
    "              \"Bournemouth\": \"#e50e21\",\n",
    "              \"Chelsea\": \"#0e1ee5\",\n",
    "              \"Aston Villa\": \"#a4266f\",\n",
    "              \"Sheffield United\": \"#e31343\",\n",
    "              \"Newcastle United\": \"#d5c0c5\"}\n"
   ]
  },
  {
   "cell_type": "code",
   "execution_count": 9,
   "metadata": {},
   "outputs": [],
   "source": [
    "import os\n",
    "from PIL import Image\n",
    "\n",
    "df = disp_pred\n",
    "\n"
   ]
  },
  {
   "cell_type": "code",
   "execution_count": 10,
   "metadata": {},
   "outputs": [
    {
     "name": "stderr",
     "output_type": "stream",
     "text": [
      "/tmp/ipykernel_100982/1283783480.py:18: SettingWithCopyWarning:\n",
      "\n",
      "\n",
      "A value is trying to be set on a copy of a slice from a DataFrame\n",
      "\n",
      "See the caveats in the documentation: https://pandas.pydata.org/pandas-docs/stable/user_guide/indexing.html#returning-a-view-versus-a-copy\n",
      "\n",
      "/tmp/ipykernel_100982/1283783480.py:19: SettingWithCopyWarning:\n",
      "\n",
      "\n",
      "A value is trying to be set on a copy of a slice from a DataFrame\n",
      "\n",
      "See the caveats in the documentation: https://pandas.pydata.org/pandas-docs/stable/user_guide/indexing.html#returning-a-view-versus-a-copy\n",
      "\n"
     ]
    },
    {
     "data": {
      "text/html": [
       "<div>\n",
       "<style scoped>\n",
       "    .dataframe tbody tr th:only-of-type {\n",
       "        vertical-align: middle;\n",
       "    }\n",
       "\n",
       "    .dataframe tbody tr th {\n",
       "        vertical-align: top;\n",
       "    }\n",
       "\n",
       "    .dataframe thead th {\n",
       "        text-align: right;\n",
       "    }\n",
       "</style>\n",
       "<table border=\"1\" class=\"dataframe\">\n",
       "  <thead>\n",
       "    <tr style=\"text-align: right;\">\n",
       "      <th></th>\n",
       "      <th>Match</th>\n",
       "      <th>UnderBet</th>\n",
       "      <th>UnderBet_Kelly</th>\n",
       "    </tr>\n",
       "  </thead>\n",
       "  <tbody>\n",
       "    <tr>\n",
       "      <th>0</th>\n",
       "      <td>Crystal Palace-Tottenham</td>\n",
       "      <td>0.00</td>\n",
       "      <td>0.00</td>\n",
       "    </tr>\n",
       "    <tr>\n",
       "      <th>1</th>\n",
       "      <td>Chelsea-Brentford</td>\n",
       "      <td>0.00</td>\n",
       "      <td>0.00</td>\n",
       "    </tr>\n",
       "    <tr>\n",
       "      <th>2</th>\n",
       "      <td>Arsenal-Sheffield United</td>\n",
       "      <td>0.00</td>\n",
       "      <td>0.00</td>\n",
       "    </tr>\n",
       "    <tr>\n",
       "      <th>3</th>\n",
       "      <td>Bournemouth-Burnley</td>\n",
       "      <td>0.00</td>\n",
       "      <td>0.00</td>\n",
       "    </tr>\n",
       "    <tr>\n",
       "      <th>4</th>\n",
       "      <td>Wolverhampton Wanderers-Newcastle United</td>\n",
       "      <td>0.00</td>\n",
       "      <td>0.00</td>\n",
       "    </tr>\n",
       "    <tr>\n",
       "      <th>5</th>\n",
       "      <td>West Ham-Everton</td>\n",
       "      <td>0.00</td>\n",
       "      <td>0.00</td>\n",
       "    </tr>\n",
       "    <tr>\n",
       "      <th>6</th>\n",
       "      <td>Brighton-Fulham</td>\n",
       "      <td>0.00</td>\n",
       "      <td>0.00</td>\n",
       "    </tr>\n",
       "    <tr>\n",
       "      <th>7</th>\n",
       "      <td>Aston Villa-Luton</td>\n",
       "      <td>0.00</td>\n",
       "      <td>0.00</td>\n",
       "    </tr>\n",
       "    <tr>\n",
       "      <th>8</th>\n",
       "      <td>Liverpool-Nottingham Forest</td>\n",
       "      <td>0.00</td>\n",
       "      <td>0.00</td>\n",
       "    </tr>\n",
       "    <tr>\n",
       "      <th>9</th>\n",
       "      <td>Manchester United-Manchester City</td>\n",
       "      <td>0.00</td>\n",
       "      <td>0.00</td>\n",
       "    </tr>\n",
       "    <tr>\n",
       "      <th>10</th>\n",
       "      <td>Fulham-Manchester United</td>\n",
       "      <td>0.00</td>\n",
       "      <td>0.00</td>\n",
       "    </tr>\n",
       "    <tr>\n",
       "      <th>11</th>\n",
       "      <td>Brentford-West Ham</td>\n",
       "      <td>0.00</td>\n",
       "      <td>0.00</td>\n",
       "    </tr>\n",
       "    <tr>\n",
       "      <th>12</th>\n",
       "      <td>Burnley-Crystal Palace</td>\n",
       "      <td>0.00</td>\n",
       "      <td>0.00</td>\n",
       "    </tr>\n",
       "    <tr>\n",
       "      <th>13</th>\n",
       "      <td>Manchester City-Bournemouth</td>\n",
       "      <td>0.00</td>\n",
       "      <td>0.00</td>\n",
       "    </tr>\n",
       "    <tr>\n",
       "      <th>14</th>\n",
       "      <td>Everton-Brighton</td>\n",
       "      <td>0.00</td>\n",
       "      <td>0.00</td>\n",
       "    </tr>\n",
       "    <tr>\n",
       "      <th>15</th>\n",
       "      <td>Sheffield United-Wolverhampton Wanderers</td>\n",
       "      <td>0.00</td>\n",
       "      <td>0.00</td>\n",
       "    </tr>\n",
       "    <tr>\n",
       "      <th>16</th>\n",
       "      <td>Newcastle United-Arsenal</td>\n",
       "      <td>0.00</td>\n",
       "      <td>0.00</td>\n",
       "    </tr>\n",
       "    <tr>\n",
       "      <th>17</th>\n",
       "      <td>Nottingham Forest-Aston Villa</td>\n",
       "      <td>0.00</td>\n",
       "      <td>0.00</td>\n",
       "    </tr>\n",
       "    <tr>\n",
       "      <th>18</th>\n",
       "      <td>Luton-Liverpool</td>\n",
       "      <td>0.00</td>\n",
       "      <td>0.00</td>\n",
       "    </tr>\n",
       "    <tr>\n",
       "      <th>19</th>\n",
       "      <td>Tottenham-Chelsea</td>\n",
       "      <td>0.00</td>\n",
       "      <td>0.00</td>\n",
       "    </tr>\n",
       "  </tbody>\n",
       "</table>\n",
       "</div>"
      ],
      "text/plain": [
       "                                       Match  UnderBet  UnderBet_Kelly\n",
       "0                   Crystal Palace-Tottenham      0.00            0.00\n",
       "1                          Chelsea-Brentford      0.00            0.00\n",
       "2                   Arsenal-Sheffield United      0.00            0.00\n",
       "3                        Bournemouth-Burnley      0.00            0.00\n",
       "4   Wolverhampton Wanderers-Newcastle United      0.00            0.00\n",
       "5                           West Ham-Everton      0.00            0.00\n",
       "6                            Brighton-Fulham      0.00            0.00\n",
       "7                          Aston Villa-Luton      0.00            0.00\n",
       "8                Liverpool-Nottingham Forest      0.00            0.00\n",
       "9          Manchester United-Manchester City      0.00            0.00\n",
       "10                  Fulham-Manchester United      0.00            0.00\n",
       "11                        Brentford-West Ham      0.00            0.00\n",
       "12                    Burnley-Crystal Palace      0.00            0.00\n",
       "13               Manchester City-Bournemouth      0.00            0.00\n",
       "14                          Everton-Brighton      0.00            0.00\n",
       "15  Sheffield United-Wolverhampton Wanderers      0.00            0.00\n",
       "16                  Newcastle United-Arsenal      0.00            0.00\n",
       "17             Nottingham Forest-Aston Villa      0.00            0.00\n",
       "18                           Luton-Liverpool      0.00            0.00\n",
       "19                         Tottenham-Chelsea      0.00            0.00"
      ]
     },
     "metadata": {},
     "output_type": "display_data"
    }
   ],
   "source": [
    "Pont = 5\n",
    "bank = 60\n",
    "Final = Final_Odds[Final_Odds['Type']=='Predicted'][['Match']]\n",
    "listPred = Final_Odds[Final_Odds['Type']=='Predicted']['P(Under)'].tolist()\n",
    "listBook = Final_Odds[Final_Odds['Type']=='Bookmaker']['P(Under)'].tolist()\n",
    "\n",
    "diff = []\n",
    "for i, p in enumerate(listPred):\n",
    "    diff.append(listPred[i]-listBook[i])\n",
    "\n",
    "Final['UnderBet'] = np.nan\n",
    "Final['UnderBet_Kelly'] = np.nan\n",
    "for i, d in enumerate(diff):\n",
    "    if (0.7>=listPred[i]>=0.5) and (d>=0.005):\n",
    "        Final['UnderBet'][i] = max(Pont*10*(d),0)\n",
    "        Final['UnderBet_Kelly'][i] = max(0, bank*(listPred[i]- (1-listPred[i])/(1/listBook[i] -1)))\n",
    "    else:\n",
    "        Final['UnderBet'][i] = 0\n",
    "        Final['UnderBet_Kelly'][i] = 0\n",
    "        \n",
    "############\n",
    "\n",
    "    \n",
    "display(Final)"
   ]
  }
 ],
 "metadata": {
  "kernelspec": {
   "display_name": "Python 3",
   "language": "python",
   "name": "python3"
  },
  "language_info": {
   "codemirror_mode": {
    "name": "ipython",
    "version": 3
   },
   "file_extension": ".py",
   "mimetype": "text/x-python",
   "name": "python",
   "nbconvert_exporter": "python",
   "pygments_lexer": "ipython3",
   "version": "3.11.6"
  },
  "orig_nbformat": 4
 },
 "nbformat": 4,
 "nbformat_minor": 2
}
